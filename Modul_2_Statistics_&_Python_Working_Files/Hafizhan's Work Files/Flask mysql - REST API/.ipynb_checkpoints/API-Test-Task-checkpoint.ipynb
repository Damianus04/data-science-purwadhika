{
 "cells": [
  {
   "cell_type": "markdown",
   "metadata": {},
   "source": [
    "# API Hit Test"
   ]
  },
  {
   "cell_type": "markdown",
   "metadata": {},
   "source": [
    "# Request untuk mendapatkan semua employee"
   ]
  },
  {
   "cell_type": "code",
   "execution_count": 4,
   "metadata": {},
   "outputs": [],
   "source": [
    "import requests"
   ]
  },
  {
   "cell_type": "code",
   "execution_count": 32,
   "metadata": {},
   "outputs": [],
   "source": [
    "## Get All employee data\n",
    "url = 'http://localhost:5000/employee'\n",
    "result = requests.get(url)"
   ]
  },
  {
   "cell_type": "code",
   "execution_count": 33,
   "metadata": {},
   "outputs": [
    {
     "name": "stdout",
     "output_type": "stream",
     "text": [
      "[[16, 'trump', 'donald trump', 'M', 1], [17, 'obama', 'barrack obama', 'M', 1], [20, 'biden', 'joe biden', 'M', 1], [22, 'biden_', 'joe biden', 'M', 1], [24, 'biden1', 'joe biden', 'M', 1], [26, 'biden2', 'joe biden', 'M', 1]]\n"
     ]
    }
   ],
   "source": [
    "print(result.json())"
   ]
  },
  {
   "cell_type": "markdown",
   "metadata": {},
   "source": [
    "### Kita akan post requests"
   ]
  },
  {
   "cell_type": "code",
   "execution_count": 29,
   "metadata": {},
   "outputs": [],
   "source": [
    "## Kita buat data dummy nya untuk insert data\n",
    "employee= {\n",
    "    \"username\":'biden2',\n",
    "    \"name\": \"joe biden\",\n",
    "    \"gender\": \"M\",\n",
    "    \"married\": False }"
   ]
  },
  {
   "cell_type": "code",
   "execution_count": 30,
   "metadata": {},
   "outputs": [],
   "source": [
    "url = 'http://localhost:5000/employee'\n",
    "result = requests.post(url, data= employee)"
   ]
  },
  {
   "cell_type": "code",
   "execution_count": 31,
   "metadata": {},
   "outputs": [
    {
     "name": "stdout",
     "output_type": "stream",
     "text": [
      "{'message': 'insert success, username : biden2'}\n"
     ]
    }
   ],
   "source": [
    "print(result.json())"
   ]
  },
  {
   "cell_type": "code",
   "execution_count": null,
   "metadata": {},
   "outputs": [],
   "source": []
  },
  {
   "cell_type": "markdown",
   "metadata": {},
   "source": [
    "# kita akan update data"
   ]
  },
  {
   "cell_type": "code",
   "execution_count": 42,
   "metadata": {},
   "outputs": [],
   "source": [
    "## Kita buat data dummy nya untuk insert data\n",
    "employee= {\n",
    "    \"username\":'biden10',\n",
    "    \"name\": \"joe biden 10\",\n",
    "    \"gender\": \"M\",\n",
    "    \"married\": 1 }"
   ]
  },
  {
   "cell_type": "code",
   "execution_count": 43,
   "metadata": {},
   "outputs": [],
   "source": [
    "url = 'http://localhost:5000/employee/24'\n",
    "result = requests.patch(url, data= employee)"
   ]
  },
  {
   "cell_type": "code",
   "execution_count": 44,
   "metadata": {},
   "outputs": [
    {
     "name": "stdout",
     "output_type": "stream",
     "text": [
      "{'message': 'Update success', 'user_id': '24'}\n"
     ]
    }
   ],
   "source": [
    "print(result.json())"
   ]
  },
  {
   "cell_type": "code",
   "execution_count": null,
   "metadata": {},
   "outputs": [],
   "source": []
  },
  {
   "cell_type": "markdown",
   "metadata": {},
   "source": [
    "## Delete data"
   ]
  },
  {
   "cell_type": "code",
   "execution_count": 48,
   "metadata": {},
   "outputs": [
    {
     "name": "stdout",
     "output_type": "stream",
     "text": [
      "[[16, 'trump', 'donald trump', 'M', 1], [17, 'obama', 'barrack obama', 'M', 1], [20, 'biden', 'joe biden', 'M', 1], [22, 'biden_', 'joe biden', 'M', 1], [24, 'biden10', 'joe biden 10', 'M', 1], [26, 'biden2', 'joe biden', 'M', 1]]\n"
     ]
    }
   ],
   "source": [
    "## Get All employee data for checking\n",
    "url = 'http://localhost:5000/employee'\n",
    "result = requests.get(url)\n",
    "print(result.json())"
   ]
  },
  {
   "cell_type": "code",
   "execution_count": null,
   "metadata": {},
   "outputs": [],
   "source": []
  },
  {
   "cell_type": "code",
   "execution_count": 49,
   "metadata": {},
   "outputs": [
    {
     "name": "stdout",
     "output_type": "stream",
     "text": [
      "{'message': 'Delete success', 'user_id': '16'}\n"
     ]
    }
   ],
   "source": [
    "# delete employee data\n",
    "url = 'http://localhost:5000/employee/16'\n",
    "result = requests.delete(url)\n",
    "print(result.json())"
   ]
  },
  {
   "cell_type": "code",
   "execution_count": null,
   "metadata": {},
   "outputs": [],
   "source": []
  },
  {
   "cell_type": "code",
   "execution_count": 50,
   "metadata": {},
   "outputs": [
    {
     "name": "stdout",
     "output_type": "stream",
     "text": [
      "[[17, 'obama', 'barrack obama', 'M', 1], [20, 'biden', 'joe biden', 'M', 1], [22, 'biden_', 'joe biden', 'M', 1], [24, 'biden10', 'joe biden 10', 'M', 1], [26, 'biden2', 'joe biden', 'M', 1]]\n"
     ]
    }
   ],
   "source": [
    "## Get All employee data for checking\n",
    "url = 'http://localhost:5000/employee'\n",
    "result = requests.get(url)\n",
    "print(result.json())"
   ]
  },
  {
   "cell_type": "code",
   "execution_count": null,
   "metadata": {},
   "outputs": [],
   "source": []
  },
  {
   "cell_type": "code",
   "execution_count": null,
   "metadata": {},
   "outputs": [],
   "source": []
  },
  {
   "cell_type": "markdown",
   "metadata": {},
   "source": [
    "# Task Dashboard using Flask\n",
    "Gunakan dataset Sephora untuk tugas ini. \n",
    "Data yang digunakan adalah hanya data 5 brand dengan produk terbanyak. Pisahkan datanya telebih dahulu\n",
    "\n",
    "Buat dashboard untuk melihat :\n",
    "- Cari sebaran harganya untuk masing masing brand, siapa yang paling mahal dan paling murah sebaran harganya ?beri keterangan pada dashboardnya\n",
    "- Buatlah perbandingan jumlah review berdasarkan jenis produk, buat untuk masing - masing brand.\n",
    "- Apakah ada korelasi antara jumlah review dengan, harga sebuah produk ? buatkan tampilan yang sesuai, dan berikan pilihan untuk brandnya"
   ]
  },
  {
   "cell_type": "markdown",
   "metadata": {},
   "source": [
    "# Tugas Rest API (Optional)\n",
    "- Buat Database baru mengenai jabatan pegawai\n",
    "\n",
    "Tabelnya :\n",
    "| username | jabatan | gaji | tingkat |\n",
    "\n",
    "- Buat rute API jabatan untuk menambah dan mengupdate\n",
    "- pastikan data pegawai (username) tersedia di tabel employee\n",
    "- buatlah rute get pada sebuah id\n"
   ]
  },
  {
   "cell_type": "code",
   "execution_count": null,
   "metadata": {},
   "outputs": [],
   "source": []
  },
  {
   "cell_type": "code",
   "execution_count": null,
   "metadata": {},
   "outputs": [],
   "source": []
  },
  {
   "cell_type": "code",
   "execution_count": null,
   "metadata": {},
   "outputs": [],
   "source": []
  }
 ],
 "metadata": {
  "kernelspec": {
   "display_name": "Python 3",
   "language": "python",
   "name": "python3"
  },
  "language_info": {
   "codemirror_mode": {
    "name": "ipython",
    "version": 3
   },
   "file_extension": ".py",
   "mimetype": "text/x-python",
   "name": "python",
   "nbconvert_exporter": "python",
   "pygments_lexer": "ipython3",
   "version": "3.8.3"
  }
 },
 "nbformat": 4,
 "nbformat_minor": 5
}
