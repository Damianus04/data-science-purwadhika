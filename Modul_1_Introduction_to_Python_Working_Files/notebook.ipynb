{
 "metadata": {
  "language_info": {
   "codemirror_mode": {
    "name": "ipython",
    "version": 3
   },
   "file_extension": ".py",
   "mimetype": "text/x-python",
   "name": "python",
   "nbconvert_exporter": "python",
   "pygments_lexer": "ipython3",
   "version": "3.7.6-final"
  },
  "orig_nbformat": 2,
  "kernelspec": {
   "name": "python3",
   "display_name": "Python 3",
   "language": "python"
  }
 },
 "nbformat": 4,
 "nbformat_minor": 2,
 "cells": [
  {
   "cell_type": "code",
   "execution_count": 1,
   "metadata": {},
   "outputs": [],
   "source": [
    "alphabet = ['a', 'b', 'c', 'd', 'e', 'f', 'g', 'h', 'i', 'j', 'k', 'l', 'm', 'n', 'o', 'p',\n",
    "                      'q', 'r', 's', 't', 'u', 'v', 'w', 'x', 'y', 'z']\n",
    "number = [0, 1, 2, 3, 4, 5, 6, 7, 8, 9]\n",
    "special_characters = [\"_\", \".\"]\n",
    "characters = alphabet + number + special_characters"
   ]
  },
  {
   "cell_type": "code",
   "execution_count": 2,
   "metadata": {},
   "outputs": [
    {
     "output_type": "stream",
     "name": "stdout",
     "text": [
      "['a', 'b', 'c', 'd', 'e', 'f', 'g', 'h', 'i', 'j', 'k', 'l', 'm', 'n', 'o', 'p', 'q', 'r', 's', 't', 'u', 'v', 'w', 'x', 'y', 'z', 0, 1, 2, 3, 4, 5, 6, 7, 8, 9, '_', '.']\n"
     ]
    }
   ],
   "source": [
    "print(characters)"
   ]
  },
  {
   "cell_type": "code",
   "execution_count": 1,
   "metadata": {},
   "outputs": [
    {
     "output_type": "stream",
     "name": "stdout",
     "text": [
      "<class 'str'> 30\n"
     ]
    }
   ],
   "source": [
    "number = str([0, 1, 2, 3, 4, 5, 6, 7, 8, 9])\n",
    "print(type(number), len(number))"
   ]
  },
  {
   "cell_type": "code",
   "execution_count": 3,
   "metadata": {},
   "outputs": [
    {
     "output_type": "execute_result",
     "data": {
      "text/plain": [
       "'[0, 1, 2, 3, 4, 5, 6, 7, 8, 9]'"
      ]
     },
     "metadata": {},
     "execution_count": 3
    }
   ],
   "source": [
    "number"
   ]
  },
  {
   "cell_type": "code",
   "execution_count": 16,
   "metadata": {},
   "outputs": [],
   "source": [
    "email = \"deni@gmail.commm\""
   ]
  },
  {
   "cell_type": "code",
   "execution_count": 18,
   "metadata": {},
   "outputs": [
    {
     "output_type": "execute_result",
     "data": {
      "text/plain": [
       "-6"
      ]
     },
     "metadata": {},
     "execution_count": 18
    }
   ],
   "source": [
    "dot_index = email.index(\".\")\n",
    "dot_index = dot_index - len(email)\n",
    "dot_index"
   ]
  },
  {
   "cell_type": "code",
   "execution_count": 20,
   "metadata": {},
   "outputs": [
    {
     "output_type": "execute_result",
     "data": {
      "text/plain": [
       "True"
      ]
     },
     "metadata": {},
     "execution_count": 20
    }
   ],
   "source": [
    "dot_index >= -6"
   ]
  },
  {
   "cell_type": "code",
   "execution_count": 40,
   "metadata": {},
   "outputs": [
    {
     "output_type": "stream",
     "name": "stdout",
     "text": [
      "['.', '.'] 2\n"
     ]
    }
   ],
   "source": [
    "email = \"st.everoger_77@avengers01.space\"\n",
    "if email.count(\".\") > 1:\n",
    "    dot_index_list = []\n",
    "    for i in email:\n",
    "        if i == \".\":\n",
    "            dot_index_list.append(i)\n",
    "            dot_index = email.index(\".\")\n",
    "        else:\n",
    "            pass\n",
    "            \n",
    "else:\n",
    "    print('dot is only 1')\n",
    "\n",
    "print(dot_index_list, dot_index)"
   ]
  },
  {
   "cell_type": "code",
   "execution_count": 41,
   "metadata": {},
   "outputs": [
    {
     "output_type": "execute_result",
     "data": {
      "text/plain": [
       "(-6, 2)"
      ]
     },
     "metadata": {},
     "execution_count": 41
    }
   ],
   "source": [
    "res = ~email[::-1].index(\".\")\n",
    "res, dot_index"
   ]
  },
  {
   "cell_type": "code",
   "execution_count": 43,
   "metadata": {},
   "outputs": [],
   "source": [
    "alphabet = ['a', 'b', 'c', 'd', 'e', 'f', 'g', 'h', 'i', 'j', 'k', 'l', 'm', 'n', 'o', 'p', 'q', 'r', 's', 't', 'u', 'v', 'w', 'x', 'y', 'z']"
   ]
  },
  {
   "cell_type": "code",
   "execution_count": 45,
   "metadata": {},
   "outputs": [],
   "source": [
    "if email[-6:] in alphabet:\n",
    "    print(\"yes\")"
   ]
  },
  {
   "cell_type": "code",
   "execution_count": 46,
   "metadata": {},
   "outputs": [
    {
     "output_type": "execute_result",
     "data": {
      "text/plain": [
       "'.space'"
      ]
     },
     "metadata": {},
     "execution_count": 46
    }
   ],
   "source": [
    "email[-6:]"
   ]
  },
  {
   "cell_type": "code",
   "execution_count": 22,
   "metadata": {},
   "outputs": [
    {
     "output_type": "execute_result",
     "data": {
      "text/plain": [
       "[56, 45, 76, 2, 10]"
      ]
     },
     "metadata": {},
     "execution_count": 22
    }
   ],
   "source": [
    "yy = [56, 45, 76, 3, 2, 10]\n",
    "yy.remove(3)\n",
    "yy"
   ]
  },
  {
   "cell_type": "code",
   "execution_count": 29,
   "metadata": {},
   "outputs": [
    {
     "output_type": "stream",
     "name": "stdout",
     "text": [
      "1\n56\n22\n45\n76\n13\n10\n1 76\nmin: 1\nmax: 76\n"
     ]
    }
   ],
   "source": [
    "# minmax\n",
    "list = [1, 56, 22, 45, 76, 13, 10]\n",
    "asc_list = []\n",
    "desc_list = []\n",
    "minmax = []\n",
    "temporary_min = list[0]\n",
    "temporary_max = list[0]\n",
    "for i in range (len(list)):\n",
    "    print(list[i])\n",
    "    if temporary_min < list[i]:\n",
    "        temporary_min = temporary_min\n",
    "    else:\n",
    "        temporary_min = list[i]\n",
    "\n",
    "    if temporary_max > list[i]:\n",
    "        temporary_max = temporary_max\n",
    "    else:\n",
    "        temporary_max = list[i]\n",
    "    \n",
    "minmax = [temporary_min, temporary_max]\n",
    "\n",
    "print(minmax[0], minmax[1])\n",
    "print(f\"min: {temporary_min}\")\n",
    "print(f\"max: {temporary_max}\")\n"
   ]
  },
  {
   "cell_type": "code",
   "execution_count": null,
   "metadata": {},
   "outputs": [],
   "source": [
    "# minmax\n",
    "list = [1, 56, 22, 45, 76, 13, 10]\n",
    "asc_list = []\n",
    "desc_list = []\n",
    "minmax = []\n",
    "temporary_min = list[0]\n",
    "temporary_max = list[0]\n",
    "for i in range (len(list)):\n",
    "    print(list[i])\n",
    "    if temporary_min < list[i]:\n",
    "        temporary_min = temporary_min\n",
    "    else:\n",
    "        temporary_min = list[i]\n",
    "\n",
    "    if temporary_max > list[i]:\n",
    "        temporary_max = temporary_max\n",
    "    else:\n",
    "        temporary_max = list[i]\n",
    "    \n",
    "minmax = [temporary_min, temporary_max]\n",
    "\n",
    "print(minmax[0], minmax[1])\n",
    "print(f\"min: {temporary_min}\")\n",
    "print(f\"max: {temporary_max}\")\n"
   ]
  },
  {
   "cell_type": "code",
   "execution_count": 2,
   "metadata": {},
   "outputs": [
    {
     "output_type": "stream",
     "name": "stdout",
     "text": [
      "min_number: 1, max_number: 220, ascending_list: [1, 4, 6, 13, 45, 56, 220], descending_list: [220, 56, 45, 13, 6, 4, 1]\n[56, 220, 4, 45, 6, 13, 1] [56, 220, 4, 45, 6, 13, 1]\n"
     ]
    }
   ],
   "source": [
    "# minmax\n",
    "listA = [56, 220, 4, 45, 6, 13, 1]\n",
    "listB = [56, 220, 4, 45, 6, 13, 1]\n",
    "\n",
    "def min_sort(input_list):\n",
    "    temporary_order = input_list[0]\n",
    "\n",
    "    for i in range(len(input_list)):\n",
    "        if temporary_order < input_list[i]:\n",
    "            temporary_order = temporary_order\n",
    "        else:\n",
    "            temporary_order = input_list[i]\n",
    "\n",
    "    return temporary_order\n",
    "\n",
    "\n",
    "def max_sort(input_list):\n",
    "    temporary_order = input_list[0]\n",
    "\n",
    "    for i in range(len(input_list)):\n",
    "        if temporary_order > input_list[i]:\n",
    "            temporary_order = temporary_order\n",
    "        else:\n",
    "            temporary_order = input_list[i]\n",
    "\n",
    "    return temporary_order\n",
    "\n",
    "\n",
    "def ascending_list(input_list):\n",
    "    input_list_copy = input_list[:]\n",
    "    ascending_list = []\n",
    "    asc_order = \"\"\n",
    "    for i in range(len(input_list_copy)):\n",
    "        if len(input_list_copy) != 0:\n",
    "            asc_order = min_sort(input_list_copy)\n",
    "            reduced_list = input_list_copy.remove(asc_order)\n",
    "        ascending_list.append(asc_order)\n",
    "    return ascending_list\n",
    "\n",
    "\n",
    "def descending_list(input_list):\n",
    "    input_list_copy = input_list[:]\n",
    "    descending_list = []\n",
    "    desc_order = \"\"\n",
    "    for i in range(len(input_list_copy)):\n",
    "        if len(input_list_copy) != 0:\n",
    "            desc_order = max_sort(input_list_copy)\n",
    "            reduced_list = input_list_copy.remove(desc_order)\n",
    "        descending_list.append(desc_order)\n",
    "    return descending_list\n",
    "\n",
    "min_number = min_sort(listA)\n",
    "max_number = max_sort(listB)\n",
    "ascending_result = ascending_list(listA)\n",
    "descending_result = descending_list(listB)\n",
    "print(f\"min_number: {min_number}, max_number: {max_number}, ascending_list: {ascending_result}, descending_list: {descending_result}\")\n",
    "print(listA, listB)"
   ]
  },
  {
   "cell_type": "code",
   "execution_count": 42,
   "metadata": {},
   "outputs": [
    {
     "output_type": "stream",
     "name": "stdout",
     "text": [
      "43.0\n11.5\n"
     ]
    }
   ],
   "source": [
    "# STATS\n",
    "def ascending_list(input_list):\n",
    "    input_list_copy = input_list[:]\n",
    "    ascending_list = []\n",
    "    asc_order = \"\"\n",
    "    for i in range(len(input_list_copy)):\n",
    "        if len(input_list_copy) != 0:\n",
    "            asc_order = min_sort(input_list_copy)\n",
    "            reduced_list = input_list_copy.remove(asc_order)\n",
    "        ascending_list.append(asc_order)\n",
    "    return ascending_list\n",
    "\n",
    "list_number = [56, 220, 4, 45, 6, 13, 10, 45, 6, 10, 100, 1]\n",
    "# list_number = [56, 56, 56, 56, 56, 55]\n",
    "\n",
    "# mean\n",
    "sum = 0\n",
    "for i in range(len(list_number)):\n",
    "    sum += list_number[i]\n",
    "mean = round(sum / len(list_number), 2)\n",
    "print(mean)\n",
    "\n",
    "# med\n",
    "ascending_result = ascending_list(list_number)\n",
    "\n",
    "if len(ascending_result) % 2 == 0:\n",
    "    half_index = len(ascending_result)//2\n",
    "    half_index_minus_1 = half_index - 1\n",
    "    median = (ascending_result[half_index] + ascending_result[half_index_minus_1]) / 2\n",
    "else:\n",
    "    half_index = len(ascending_result)//2\n",
    "    median = ascending_result[half_index]\n",
    "\n",
    "print(median)\n",
    "\n",
    "# mod"
   ]
  },
  {
   "cell_type": "code",
   "execution_count": 43,
   "metadata": {},
   "outputs": [
    {
     "output_type": "execute_result",
     "data": {
      "text/plain": [
       "[1, 4, 6, 6, 10, 10, 13, 45, 45, 56, 100, 220]"
      ]
     },
     "metadata": {},
     "execution_count": 43
    }
   ],
   "source": [
    "ascending_result"
   ]
  },
  {
   "cell_type": "code",
   "execution_count": 62,
   "metadata": {},
   "outputs": [
    {
     "output_type": "stream",
     "name": "stdout",
     "text": [
      "[5, 5, 5, 43, 5, 5]\n"
     ]
    }
   ],
   "source": [
    "# mod\n",
    "def max_sort(input_list):\n",
    "    temporary_order = input_list[0]\n",
    "\n",
    "    for i in range(len(input_list)):\n",
    "        if temporary_order > input_list[i]:\n",
    "            temporary_order = temporary_order\n",
    "        else:\n",
    "            temporary_order = input_list[i]\n",
    "\n",
    "    return temporary_order\n",
    "\n",
    "list_number = [5, 40, 5, 78, 43, 5, 6]\n",
    "\n",
    "mod_list = []\n",
    "counter = list_number.count(list_number[0])\n",
    "for i in range(len(list_number)):\n",
    "    if i+1 < len(list_number):\n",
    "        if list_number[i] != list_number[i+1]:\n",
    "            if list_number.count(list_number[i]) > list_number.count(list_number[i+1]):\n",
    "                mod_list.append(list_number[i])\n",
    "            else:\n",
    "                mod_list.append(list_number[i+1])\n",
    "        else: \n",
    "            continue\n",
    "    else:\n",
    "        pass\n",
    "\n",
    "\n",
    "\n",
    "print(mod_list)\n",
    "\n"
   ]
  },
  {
   "cell_type": "code",
   "execution_count": 72,
   "metadata": {},
   "outputs": [
    {
     "output_type": "stream",
     "name": "stdout",
     "text": [
      "{'1': 1, '4': 1, '100': 1, '6': 2, '10': 2, '45': 2, '13': 1, '56': 1, '220': 1} 6\n"
     ]
    }
   ],
   "source": [
    "list_number = [5, 40, 5, 78, 43, 5, 6]\n",
    "list_number = [56, 220, 4, 45, 6, 13, 10, 45, 6, 10, 100, 1]\n",
    "\n",
    "\n",
    "list_number_unique = list(set(list_number))\n",
    "\n",
    "result = {}\n",
    "\n",
    "for i, j in enumerate(list_number_unique):\n",
    "    sum = list_number.count(j)\n",
    "    output = {f\"{j}\": sum}\n",
    "    result.update(output)\n",
    "\n",
    "result_values = list(result.values())\n",
    "result_keys = list(result.keys())\n",
    "\n",
    "mod_temp = max_sort(result_values)\n",
    "mod = result_keys[result_values.index(mod_temp)]\n",
    "\n",
    "print(result, mod)"
   ]
  },
  {
   "cell_type": "code",
   "execution_count": null,
   "metadata": {},
   "outputs": [],
   "source": []
  },
  {
   "cell_type": "code",
   "execution_count": null,
   "metadata": {},
   "outputs": [],
   "source": []
  },
  {
   "cell_type": "code",
   "execution_count": null,
   "metadata": {},
   "outputs": [],
   "source": []
  },
  {
   "cell_type": "code",
   "execution_count": null,
   "metadata": {},
   "outputs": [],
   "source": []
  },
  {
   "cell_type": "code",
   "execution_count": null,
   "metadata": {},
   "outputs": [],
   "source": []
  },
  {
   "cell_type": "code",
   "execution_count": null,
   "metadata": {},
   "outputs": [],
   "source": []
  },
  {
   "cell_type": "code",
   "execution_count": null,
   "metadata": {},
   "outputs": [],
   "source": []
  },
  {
   "cell_type": "code",
   "execution_count": 51,
   "metadata": {},
   "outputs": [
    {
     "output_type": "stream",
     "name": "stdout",
     "text": [
      "x: 21 and y: B\nx: 32 and y: C\nx: 23 and y: E\nx: 54 and y: G\nx: 35 and y: K\n"
     ]
    }
   ],
   "source": [
    "x = [21, 32, 23, 54, 35]\n",
    "y = ['B', 'C', 'E', 'G', 'K']\n",
    "\n",
    "for i, j in zip(x, y):\n",
    "    print(f\"x: {i} and y: {j}\")"
   ]
  },
  {
   "cell_type": "code",
   "execution_count": 52,
   "metadata": {},
   "outputs": [
    {
     "output_type": "stream",
     "name": "stdout",
     "text": [
      "x: 0 and y: 0\nx: 1 and y: 1\nx: 2 and y: 2\nx: 3 and y: 3\nx: 4 and y: 4\n"
     ]
    }
   ],
   "source": [
    "for i, j in zip(range(len(x)), range(len(y))):\n",
    "    print(f\"x: {i} and y: {j}\")"
   ]
  },
  {
   "cell_type": "code",
   "execution_count": 60,
   "metadata": {},
   "outputs": [
    {
     "output_type": "stream",
     "name": "stdout",
     "text": [
      "0 0\n1 1\n2 2\n3 3\n4 4\n5 5\n"
     ]
    }
   ],
   "source": [
    "for i, j in zip(range(0,10) , range(0, 6)):\n",
    "    print(i, j)"
   ]
  },
  {
   "cell_type": "code",
   "execution_count": 105,
   "metadata": {},
   "outputs": [],
   "source": [
    "text = \"tahunitu\"\n",
    "number = \"35\""
   ]
  },
  {
   "cell_type": "code",
   "execution_count": 106,
   "metadata": {},
   "outputs": [
    {
     "output_type": "execute_result",
     "data": {
      "text/plain": [
       "(True, True, True)"
      ]
     },
     "metadata": {},
     "execution_count": 106
    }
   ],
   "source": [
    "text.isalpha(), text.isalnum(), number.isdigit()"
   ]
  },
  {
   "cell_type": "code",
   "execution_count": 109,
   "metadata": {},
   "outputs": [],
   "source": [
    "Hari = {\"senin\": \"monday\",\n",
    "        \"selasa\": \"tuesday\",\n",
    "        \"rabu\": \"wednesday\",\n",
    "        \"kamis\": \"thursday\",\n",
    "        \"jumat\": \"friday\",\n",
    "        \"sabtu\": \"saturday\",\n",
    "        \"minggu\": \"sunday\"}\n",
    "\n",
    "keys = list(Hari.keys())\n",
    "values = list(Hari.values())"
   ]
  },
  {
   "cell_type": "code",
   "execution_count": 114,
   "metadata": {},
   "outputs": [
    {
     "output_type": "execute_result",
     "data": {
      "text/plain": [
       "'selasa'"
      ]
     },
     "metadata": {},
     "execution_count": 114
    }
   ],
   "source": [
    "keys[values.index('tuesday')]"
   ]
  },
  {
   "cell_type": "code",
   "execution_count": 17,
   "metadata": {},
   "outputs": [
    {
     "output_type": "stream",
     "name": "stdout",
     "text": [
      "Bilangan Prima D = {2, 3, 5, 7, 9, 11, 13, 15, 17, 19}\nBilangan Komposit E = {4, 6, 8, 9, 10, 12, 14, 15, 16, 18}\n"
     ]
    }
   ],
   "source": [
    "D = set()\n",
    "E = set()\n",
    "\n",
    "for i in range(20):\n",
    "    if i == 2:\n",
    "        D.add(i)\n",
    "    elif i > 1:\n",
    "        # print('loop i main', i)\n",
    "        for j in range(2, i):\n",
    "            # print('loop j', j)\n",
    "            # print('loop i', i)\n",
    "            if (i % j) == 0 or i == 2:\n",
    "                E.add(i)\n",
    "                break\n",
    "            else:\n",
    "                D.add(i)\n",
    "    else:\n",
    "        continue\n",
    "print(f\"Bilangan Prima D = {D}\")\n",
    "print(f\"Bilangan Komposit E = {E}\")"
   ]
  },
  {
   "cell_type": "code",
   "execution_count": 4,
   "metadata": {},
   "outputs": [
    {
     "output_type": "stream",
     "name": "stdout",
     "text": [
      "1\n"
     ]
    }
   ],
   "source": [
    "for i in range(1, 2):\n",
    "    print(i)"
   ]
  },
  {
   "cell_type": "code",
   "execution_count": 25,
   "metadata": {},
   "outputs": [
    {
     "output_type": "stream",
     "name": "stdout",
     "text": [
      "PPPPPPPPPP\nPPPPPPPPPPuuuuuuuuuu\nPPPPPPPPPPuuuuuuuuuurrrrrrrrrr\nPPPPPPPPPPuuuuuuuuuurrrrrrrrrrwwwwwwwwww\nPPPPPPPPPPuuuuuuuuuurrrrrrrrrrwwwwwwwwwwaaaaaaaaaa\n"
     ]
    }
   ],
   "source": [
    "text = \"Purwadhika\"\n",
    "multiplier = 0\n",
    "star = \"\"\n",
    "for i in range(len(text)//2):\n",
    "    for j in range(len(text)):\n",
    "        star += text[i]\n",
    "\n",
    "    multiplier += 1\n",
    "    print(star)"
   ]
  },
  {
   "cell_type": "code",
   "execution_count": 30,
   "metadata": {},
   "outputs": [
    {
     "output_type": "stream",
     "name": "stdout",
     "text": [
      "['avanza', 'avanza', 'yaris', 'xenia', 'yaris', 'jazz', 'avanza', 'avanza', 'yaris', 'xenia', 'yaris', 'jazz', 'avanza', 'avanza', 'yaris', 'xenia', 'yaris', 'jazz']\n<class 'set'>\n{'yaris', 'jazz', 'avanza', 'xenia'}\n"
     ]
    }
   ],
   "source": [
    "mobil = [\"avanza\", \"avanza\", \"yaris\", \"xenia\", \"yaris\", \"jazz\", \"avanza\", \"avanza\", \"yaris\", \"xenia\", \"yaris\", \"jazz\", \"avanza\", \"avanza\", \"yaris\", \"xenia\", \"yaris\", \"jazz\"]\n",
    "print(mobil)\n",
    "set_mobil = {\"avanza\", \"avanza\", \"yaris\", \"xenia\", \"yaris\", \"jazz\", \"avanza\", \"avanza\", \"yaris\", \"xenia\", \"yaris\", \"jazz\", \"avanza\", \"avanza\", \"yaris\", \"xenia\", \"yaris\", \"jazz\"}\n",
    "print(type(set_mobil))\n",
    "\n",
    "print(set_mobil)"
   ]
  },
  {
   "cell_type": "code",
   "execution_count": 32,
   "metadata": {},
   "outputs": [
    {
     "output_type": "error",
     "ename": "TypeError",
     "evalue": "'set' object is not subscriptable",
     "traceback": [
      "\u001b[1;31m---------------------------------------------------------------------------\u001b[0m",
      "\u001b[1;31mTypeError\u001b[0m                                 Traceback (most recent call last)",
      "\u001b[1;32m<ipython-input-32-317dc4312e12>\u001b[0m in \u001b[0;36m<module>\u001b[1;34m\u001b[0m\n\u001b[1;32m----> 1\u001b[1;33m \u001b[0mset_mobil\u001b[0m\u001b[1;33m[\u001b[0m\u001b[1;34m'avanza'\u001b[0m\u001b[1;33m]\u001b[0m\u001b[1;33m\u001b[0m\u001b[1;33m\u001b[0m\u001b[0m\n\u001b[0m",
      "\u001b[1;31mTypeError\u001b[0m: 'set' object is not subscriptable"
     ]
    }
   ],
   "source": [
    "set_mobil['avanza']"
   ]
  },
  {
   "cell_type": "code",
   "execution_count": 64,
   "metadata": {},
   "outputs": [
    {
     "output_type": "execute_result",
     "data": {
      "text/plain": [
       "[[1, 2, 3], [4, 5, 6], [7, 8, 9]]"
      ]
     },
     "metadata": {},
     "execution_count": 64
    }
   ],
   "source": [
    "a = [[1, 2, 3],\n",
    "[4, 5, 6],\n",
    "[7, 8, 9]]\n",
    "\n",
    "a"
   ]
  },
  {
   "cell_type": "code",
   "execution_count": 86,
   "metadata": {},
   "outputs": [
    {
     "output_type": "stream",
     "name": "stdout",
     "text": [
      "[1, 4, 7]\n[[1, 4, 7], [1, 4, 7], [1, 4, 7]]\n"
     ]
    }
   ],
   "source": [
    "key_list = []\n",
    "main_list = [] \n",
    "temp_list = []\n",
    "\n",
    "x = 0\n",
    "for i,j in enumerate(a[0]):\n",
    "    # main_list = []\n",
    "    if len(main_list) < 1:\n",
    "        for k in range(len(a[x])):\n",
    "            temp_x = a[k][x]\n",
    "            temp_list.append(temp_x)\n",
    "        x += 1\n",
    "    \n",
    "    main_list.append(temp_list)\n",
    "\n",
    "    \n",
    "\n",
    "# for k in range(len(a[x])):\n",
    "#     temp_x = a[k][x]\n",
    "#     temp_list.append(temp_x)\n",
    "# main_list.append(temp_list)\n",
    "# x += 1\n",
    "print(temp_list)\n",
    "print(main_list)"
   ]
  },
  {
   "cell_type": "code",
   "execution_count": 53,
   "metadata": {},
   "outputs": [
    {
     "output_type": "execute_result",
     "data": {
      "text/plain": [
       "3"
      ]
     },
     "metadata": {},
     "execution_count": 53
    }
   ],
   "source": [
    "a"
   ]
  },
  {
   "cell_type": "code",
   "execution_count": 35,
   "metadata": {},
   "outputs": [
    {
     "output_type": "execute_result",
     "data": {
      "text/plain": [
       "[[3, 6, 9], [2, 5, 8], [1, 4, 7]]"
      ]
     },
     "metadata": {},
     "execution_count": 35
    }
   ],
   "source": [
    "aspin = [[3, 6, 9],\n",
    "[2, 5, 8],\n",
    "[1, 4, 7]]\n",
    "\n",
    "aspin"
   ]
  },
  {
   "cell_type": "code",
   "execution_count": 1,
   "metadata": {},
   "outputs": [
    {
     "output_type": "execute_result",
     "data": {
      "text/plain": [
       "'Facultyofcomputer'"
      ]
     },
     "metadata": {},
     "execution_count": 1
    }
   ],
   "source": [
    "word = 'Faculty of computer'\n",
    "\n",
    "word_split = word.replace(\" \", \"\")\n",
    "word_split"
   ]
  },
  {
   "cell_type": "code",
   "execution_count": 4,
   "metadata": {},
   "outputs": [
    {
     "output_type": "execute_result",
     "data": {
      "text/plain": [
       "'P u r w a d h i k a'"
      ]
     },
     "metadata": {},
     "execution_count": 4
    }
   ],
   "source": [
    "word = 'Purwadhika'\n",
    "\n",
    "x = []\n",
    "\n",
    "for i in word:\n",
    "    x.append(i)\n",
    "\n",
    "x_joined = \" \".join(x)\n",
    "x_joined"
   ]
  },
  {
   "cell_type": "code",
   "execution_count": null,
   "metadata": {},
   "outputs": [],
   "source": [
    " # Size = 0: we're done; ran out of rows\n",
    "if size == 0:\n",
    "    return\n",
    "# Not enough message left: print it all\n",
    "if size >= len(message):\n",
    "    print (message)\n",
    "# print \"size\" characters and go to next line\n",
    "else:\n",
    "    print (message[:size])\n",
    "    triangle(message[size:], size-1)\n"
   ]
  },
  {
   "cell_type": "code",
   "execution_count": null,
   "metadata": {},
   "outputs": [],
   "source": [
    "def word_triangle(text):\n",
    "    triangle_1(text)\n",
    "    triangle_2(text, 0)\n",
    "    triangle_2(text, 4)\n",
    "\n",
    "\n",
    "print(word_triangle(text))"
   ]
  },
  {
   "cell_type": "code",
   "execution_count": 6,
   "metadata": {},
   "outputs": [
    {
     "output_type": "stream",
     "name": "stdout",
     "text": [
      "P\nPu\nPur\nPurw\nPurwa\nPurwad\nPurwadh\nPurwadhi\nPurwadhik\nPurwadhika\n"
     ]
    }
   ],
   "source": [
    "# P\n",
    "# u r\n",
    "# w a d\n",
    "# h i k a\n",
    "# p u r w\n",
    "# a d h\n",
    "# i k\n",
    "# a\n",
    "\n",
    "word = 'Purwadhika'\n",
    "letters = \"\"\n",
    "start = 0\n",
    "end = 0\n",
    "\n",
    "for i in word:\n",
    "    end += start + 1\n",
    "    print(word[start:end])\n",
    "    start += 3"
   ]
  },
  {
   "cell_type": "code",
   "execution_count": 4,
   "metadata": {},
   "outputs": [
    {
     "output_type": "stream",
     "name": "stdout",
     "text": [
      "PPuPurPurwPurwaPurwadPurwadhPurwadhiPurwadhikPurwadhika\n"
     ]
    }
   ],
   "source": [
    "output = \"\"\n",
    "\n",
    "for i, j in enumerate(word):\n",
    "    output = output + word[:i+1]\n",
    "\n",
    "print (output)"
   ]
  },
  {
   "cell_type": "code",
   "execution_count": 13,
   "metadata": {},
   "outputs": [],
   "source": [
    "from bs4 import BeautifulSoup\n",
    "import requests\n",
    "# --- GET dan POST --> Request\n",
    "\n",
    "# url = \"http://127.0.0.1:5500/Modul_2_Statistics_&_Python_Working_Files/4DOMEvents.html\"\n",
    "\n",
    "url = \"http://www.scifijapan.com/articles/2015/10/04/bandai-ultraman-ultra-500-figure-list/\"\n",
    "\n",
    "\n",
    "web = requests.get(url)\n",
    "\n",
    "Out = BeautifulSoup(web.content, 'html.parser')"
   ]
  },
  {
   "cell_type": "code",
   "execution_count": 11,
   "metadata": {},
   "outputs": [
    {
     "output_type": "stream",
     "name": "stdout",
     "text": [
      "['item 1', 'item 2', 'item 3']\n"
     ]
    }
   ],
   "source": [
    "employee = []\n",
    "\n",
    "for i in Out.find_all(\"li\"):\n",
    "    employee.append(i.text)\n",
    "\n",
    "print(employee)"
   ]
  },
  {
   "cell_type": "code",
   "execution_count": 17,
   "metadata": {
    "tags": []
   },
   "outputs": [
    {
     "output_type": "stream",
     "name": "stdout",
     "text": [
      "<title>Bandai ULTRAMAN Ultra 500 Figure List «  SciFi Japan</title>\n"
     ]
    }
   ],
   "source": [
    "print(Out.title)"
   ]
  },
  {
   "cell_type": "code",
   "execution_count": 35,
   "metadata": {},
   "outputs": [
    {
     "output_type": "stream",
     "name": "stdout",
     "text": [
      "[1, 5, 6]\n"
     ]
    }
   ],
   "source": [
    "car_list = [\"sawi\", \"jamur\", \"terong\", \"lobak\", \"tomat\", \"jamur\", \"JAMUR\"]\n",
    "\n",
    "input_item = \"JAMur\"\n",
    "index_to_delete = []\n",
    "for h, i in enumerate(car_list):\n",
    "    if i.lower() == input_item.lower():\n",
    "        index_to_delete.append(h)\n",
    "print(index_to_delete)\n",
    "        # car_list.remove(car_list[h])\n",
    "    #     # car_list.remove(i)\n",
    "    #     # print(f\"{i}: true\")\n",
    "    # else:\n",
    "    #     # print(f\"{i}: false\")\n",
    "    #     print(f\"{i}\")"
   ]
  },
  {
   "cell_type": "code",
   "execution_count": 26,
   "metadata": {},
   "outputs": [
    {
     "output_type": "execute_result",
     "data": {
      "text/plain": [
       "['sawi', 'terong', 'lobak', 'tomat', 'JAMUR']"
      ]
     },
     "metadata": {},
     "execution_count": 26
    }
   ],
   "source": [
    "car_list"
   ]
  },
  {
   "cell_type": "code",
   "execution_count": 31,
   "metadata": {},
   "outputs": [
    {
     "output_type": "execute_result",
     "data": {
      "text/plain": [
       "['sawi', 'jamur', 'terong', 'lobak', 'tomat', 'jamur', 'JAMUR']"
      ]
     },
     "metadata": {},
     "execution_count": 31
    }
   ],
   "source": [
    "car_list = [\"sawi\", \"jamur\", \"terong\", \"lobak\", \"tomat\", \"jamur\", \"JAMUR\"]\n",
    "car_list"
   ]
  },
  {
   "cell_type": "code",
   "execution_count": 36,
   "metadata": {},
   "outputs": [
    {
     "output_type": "execute_result",
     "data": {
      "text/plain": [
       "['sawi', 'update', 'terong', 'lobak', 'tomat', 'update', 'update']"
      ]
     },
     "metadata": {},
     "execution_count": 36
    }
   ],
   "source": [
    "# for i in sorted([1, 5, 6], reverse=True):\n",
    "#     del car_list[i]\n",
    "\n",
    "# car_list\n",
    "\n",
    "for i in [1, 5, 6]:\n",
    "    car_list[i] = 'update'\n",
    "\n",
    "car_list"
   ]
  },
  {
   "cell_type": "code",
   "execution_count": 40,
   "metadata": {},
   "outputs": [],
   "source": [
    "# LIST SPINNER\n",
    "\n",
    "input_list = [[1, 2, 3, 4, 5],\n",
    " [6, 7, 8, 9, 10],\n",
    " [11, 12, 13, 14, 15],\n",
    " [16, 17, 18, 19, 20],\n",
    " [21, 22, 23, 24, 25]]\n",
    "\n",
    " # Pilihan 1:\n",
    "x1 = [[21, 16, 11, 6, 1],\n",
    " [22, 17, 12, 7, 2],\n",
    " [23, 18, 13, 8, 3],\n",
    " [24, 19, 14, 9, 4],\n",
    " [25, 20, 15, 10, 5]]\n",
    "\n",
    "# Pilihan 2:\n",
    "x2 = [[25, 24, 23, 22, 21],\n",
    " [20, 19, 18, 17, 16],\n",
    " [15, 14, 13, 12, 11],\n",
    " [10, 9, 8, 7, 6],\n",
    " [5, 4, 3, 2, 1]]\n",
    "\n",
    "# Pilihan 3:\n",
    "x3 = [[5, 10, 15, 20, 25],\n",
    " [4, 9, 14, 19, 24],\n",
    " [3, 8, 13, 18, 23],\n",
    " [2, 7, 12, 17, 22],\n",
    " [1, 6, 11, 16, 21]]"
   ]
  },
  {
   "cell_type": "code",
   "execution_count": 7,
   "metadata": {},
   "outputs": [
    {
     "output_type": "execute_result",
     "data": {
      "text/plain": [
       "([[1, 2, 3, 4, 5],\n",
       "  [6, 7, 8, 9, 10],\n",
       "  [11, 12, 13, 14, 15],\n",
       "  [16, 17, 18, 19, 20],\n",
       "  [21, 22, 23, 24, 25]],\n",
       " [[21, 16, 11, 6, 1],\n",
       "  [22, 17, 12, 7, 2],\n",
       "  [23, 18, 13, 8, 3],\n",
       "  [24, 19, 14, 9, 4],\n",
       "  [25, 20, 15, 10, 5]],\n",
       " [[25, 24, 23, 22, 21],\n",
       "  [20, 19, 18, 17, 16],\n",
       "  [15, 14, 13, 12, 11],\n",
       "  [10, 9, 8, 7, 6],\n",
       "  [5, 4, 3, 2, 1]],\n",
       " [[5, 10, 15, 20, 25],\n",
       "  [4, 9, 14, 19, 24],\n",
       "  [3, 8, 13, 18, 23],\n",
       "  [2, 7, 12, 17, 22],\n",
       "  [1, 6, 11, 16, 21]])"
      ]
     },
     "metadata": {},
     "execution_count": 7
    }
   ],
   "source": [
    "x, x1, x2, x3"
   ]
  },
  {
   "cell_type": "code",
   "execution_count": 55,
   "metadata": {},
   "outputs": [],
   "source": [
    "def option1(input_list):\n",
    "    temp_list = []\n",
    "    x = 0\n",
    "    input_list = input_list[::-1]\n",
    "    for i, j in enumerate(input_list):\n",
    "        for k in range(len(input_list[x])):\n",
    "            temp_list.append(input_list[k][x])\n",
    "        x += 1\n",
    "\n",
    "    main_list = []\n",
    "    x = 0\n",
    "    y = len(input_list[0])\n",
    "\n",
    "    for i in range(len(input_list[0])):\n",
    "        main_list.append(temp_list[x:y])\n",
    "        x += len(input_list[0])\n",
    "        y += len(input_list[0])\n",
    "\n",
    "    main_list = main_list[::]\n",
    "    return main_list\n",
    "\n",
    "def option2(input_list):\n",
    "    temp_list = []\n",
    "    x = 0\n",
    "    for i, j in enumerate(input_list):\n",
    "        temp_list.append(j[::-1])\n",
    "        x += 1\n",
    "    main_list = temp_list[::-1]\n",
    "    return main_list\n",
    "\n",
    "def option3(input_list):\n",
    "    temp_list = []\n",
    "    x = 0\n",
    "    for i, j in enumerate(input_list):\n",
    "        for k in range(len(input_list[x])):\n",
    "            temp_list.append(input_list[k][x])\n",
    "        x += 1\n",
    "\n",
    "    main_list = []\n",
    "    x = 0\n",
    "    y = len(input_list[0])\n",
    "\n",
    "    for i in range(len(input_list[0])):\n",
    "        main_list.append(temp_list[x:y])\n",
    "        x += len(input_list[0])\n",
    "        y += len(input_list[0])\n",
    "\n",
    "    main_list = main_list[::-1]\n",
    "    return main_list"
   ]
  },
  {
   "cell_type": "code",
   "execution_count": 58,
   "metadata": {},
   "outputs": [
    {
     "output_type": "stream",
     "name": "stdout",
     "text": [
      "[[21, 16, 11, 6, 1], [22, 17, 12, 7, 2], [23, 18, 13, 8, 3], [24, 19, 14, 9, 4], [25, 20, 15, 10, 5]]\n[[25, 24, 23, 22, 21], [20, 19, 18, 17, 16], [15, 14, 13, 12, 11], [10, 9, 8, 7, 6], [5, 4, 3, 2, 1]]\n[[5, 10, 15, 20, 25], [4, 9, 14, 19, 24], [3, 8, 13, 18, 23], [2, 7, 12, 17, 22], [1, 6, 11, 16, 21]]\n"
     ]
    }
   ],
   "source": [
    "x = [[1, 2, 3, 4, 5],\n",
    " [6, 7, 8, 9, 10],\n",
    " [11, 12, 13, 14, 15],\n",
    " [16, 17, 18, 19, 20],\n",
    " [21, 22, 23, 24, 25]]\n",
    "\n",
    "x\n",
    "op1 = option1(x)\n",
    "op2 = option2(x)\n",
    "op3 = option3(x)\n",
    "\n",
    "print(f\"{op1}\\n{op2}\\n{op3}\")"
   ]
  },
  {
   "cell_type": "code",
   "execution_count": 95,
   "metadata": {},
   "outputs": [],
   "source": [
    "# Roman-Latin Conversion\n",
    "input_number = \"2018\"\n",
    "\n",
    "roman_latin_dict = {1: \"I\", 4: \"IV\", 5: \"V\", 9: \"IX\", 10: \"X\", 40: \"XL\", 50: \"L\", 90: \"XC\", 100: \"C\", 400: \"CD\", 500: \"D\", 900: \"CM\", 1000: \"M\"}\n",
    "\n",
    "dict_keys = list(roman_latin_dict.keys())[::-1]\n",
    "dict_values = list(roman_latin_dict.values())[::-1]"
   ]
  },
  {
   "cell_type": "code",
   "execution_count": 96,
   "metadata": {},
   "outputs": [
    {
     "output_type": "execute_result",
     "data": {
      "text/plain": [
       "'CD'"
      ]
     },
     "metadata": {},
     "execution_count": 96
    }
   ],
   "source": [
    "roman_latin_dict[dict_keys[3]]"
   ]
  },
  {
   "cell_type": "code",
   "execution_count": 129,
   "metadata": {},
   "outputs": [
    {
     "output_type": "stream",
     "name": "stdout",
     "text": [
      "execute\n"
     ]
    }
   ],
   "source": [
    "number = \"4000\"\n",
    "number = \"MWXVIII\"\n",
    "\n",
    "\n",
    "if number.isdigit():\n",
    "    input_number = int(number)\n",
    "    temp_conversion = \"\"\n",
    "    counter = 0\n",
    "    if input_number <= 4000:\n",
    "        while input_number > 0:\n",
    "            for i in range(input_number // dict_keys[counter]):\n",
    "                temp_conversion += dict_values[counter]\n",
    "                input_number -= dict_keys[counter]\n",
    "            counter += 1\n",
    "        print(f\"{number} --> {temp_conversion}\")\n",
    "    else:\n",
    "        print(f\"number should be under 4000\")\n",
    "elif number.isalpha():\n",
    "    if len(number) >= 4 and number[:4] == \"MMMM\":\n",
    "        print(\"number should be under 4000\")\n",
    "    else:\n",
    "        print(\"execute\")\n",
    "elif number.isalnum():\n",
    "    print(\"type either latin number or roman number\")\n",
    "else:\n",
    "    print(\"error, please retype your input either in latin number or roman numbe\")"
   ]
  },
  {
   "cell_type": "code",
   "execution_count": 116,
   "metadata": {},
   "outputs": [
    {
     "output_type": "stream",
     "name": "stdout",
     "text": [
      "num a: 2018\nval0: 1000\nroman_num: M\nnum b: 1018\n\nnum a: 1018\nval0: 1000\nroman_num: MM\nnum b: 18\n\nwhile 1\nwhile num 18\nwhile 2\nwhile num 18\nwhile 3\nwhile num 18\nwhile 4\nwhile num 18\nwhile 5\nwhile num 18\nwhile 6\nwhile num 18\nwhile 7\nwhile num 18\nwhile 8\nwhile num 18\nnum a: 18\nval8: 10\nroman_num: MMX\nnum b: 8\n\nwhile 9\nwhile num 8\nwhile 10\nwhile num 8\nnum a: 8\nval10: 5\nroman_num: MMXV\nnum b: 3\n\nwhile 11\nwhile num 3\nwhile 12\nwhile num 3\nnum a: 3\nval12: 1\nroman_num: MMXVI\nnum b: 2\n\nnum a: 2\nval12: 1\nroman_num: MMXVII\nnum b: 1\n\nnum a: 1\nval12: 1\nroman_num: MMXVIII\nnum b: 0\n\nwhile 13\nwhile num 0\nMMXVIII\n"
     ]
    }
   ],
   "source": [
    "# def int_to_Roman(num):\n",
    "num = 2018\n",
    "val = [\n",
    "    1000, 900, 500, 400,\n",
    "    100, 90, 50, 40,\n",
    "    10, 9, 5, 4,\n",
    "    1\n",
    "    ]\n",
    "syb = [\n",
    "    \"M\", \"CM\", \"D\", \"CD\",\n",
    "    \"C\", \"XC\", \"L\", \"XL\",\n",
    "    \"X\", \"IX\", \"V\", \"IV\",\n",
    "    \"I\"\n",
    "    ]\n",
    "roman_num = ''\n",
    "i = 0\n",
    "while  num > 0:\n",
    "    for j in range(num // val[i]):\n",
    "        print(f\"num a: {num}\")\n",
    "        print(f\"val{i}: {val[i]}\")\n",
    "        \n",
    "        roman_num += syb[i]\n",
    "        print(f\"roman_num: {roman_num}\")\n",
    "        num -= val[i]\n",
    "        print(f\"num b: {num}\\n\")\n",
    "\n",
    "    i += 1\n",
    "    print(f\"while {i}\")\n",
    "    print(f\"while num {num}\")\n",
    "\n",
    "print(roman_num)\n",
    "\n",
    "\n",
    "def int_to_Roman(num):\n",
    "    val = [\n",
    "        1000, 900, 500, 400,\n",
    "        100, 90, 50, 40,\n",
    "        10, 9, 5, 4,\n",
    "        1\n",
    "        ]\n",
    "    syb = [\n",
    "        \"M\", \"CM\", \"D\", \"CD\",\n",
    "        \"C\", \"XC\", \"L\", \"XL\",\n",
    "        \"X\", \"IX\", \"V\", \"IV\",\n",
    "        \"I\"\n",
    "        ]\n",
    "    roman_num = ''\n",
    "    i = 0\n",
    "    while  num > 0:\n",
    "        for _ in range(num // val[i]):\n",
    "            roman_num += syb[i]\n",
    "            num -= val[i]\n",
    "        i += 1\n",
    "    return roman_num\n",
    "\n",
    "print(int_to_Roman(input_number))"
   ]
  },
  {
   "cell_type": "code",
   "execution_count": 119,
   "metadata": {},
   "outputs": [],
   "source": [
    "for j in range(0):\n",
    "    print('x')"
   ]
  },
  {
   "cell_type": "code",
   "execution_count": null,
   "metadata": {},
   "outputs": [],
   "source": []
  }
 ]
}