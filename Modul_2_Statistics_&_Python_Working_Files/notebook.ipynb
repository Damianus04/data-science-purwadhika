{
 "metadata": {
  "language_info": {
   "codemirror_mode": {
    "name": "ipython",
    "version": 3
   },
   "file_extension": ".py",
   "mimetype": "text/x-python",
   "name": "python",
   "nbconvert_exporter": "python",
   "pygments_lexer": "ipython3",
   "version": "3.7.6-final"
  },
  "orig_nbformat": 2,
  "kernelspec": {
   "name": "python3",
   "display_name": "Python 3",
   "language": "python"
  }
 },
 "nbformat": 4,
 "nbformat_minor": 2,
 "cells": [
  {
   "cell_type": "code",
   "execution_count": 27,
   "metadata": {},
   "outputs": [
    {
     "output_type": "stream",
     "name": "stdout",
     "text": [
      "Dom Selection\nparagraf 1\nparagraf 2\nparagraf 3\nparagraf 4\n"
     ]
    }
   ],
   "source": [
    "# Web Scrapping\n",
    "\n",
    "from bs4 import BeautifulSoup\n",
    "import requests\n",
    "\n",
    "# url = \"../4DOMEvents.html\"\n",
    "url = \"http://127.0.0.1:5500/4DOMEvents.html\"\n",
    "\n",
    "web = requests.get(url)\n",
    "\n",
    "# Out = BeautifulSoup(open(url, 'r'), \"html.parser\")\n",
    "Out = BeautifulSoup(web.content, 'html.parser')\n",
    "\n",
    "print(Out.title.text)\n",
    "\n",
    "for i in Out.find_all('p'):\n",
    "    print(i.text)\n",
    "\n",
    "for i in Out.find_all('li', class_='b-list'):\n",
    "    print(i.text)"
   ]
  },
  {
   "cell_type": "code",
   "execution_count": 9,
   "metadata": {},
   "outputs": [],
   "source": [
    "from bs4 import BeautifulSoup\n",
    "import requests\n",
    "\n",
    "bank = \"bnikkd\"\n",
    "currency = \"usd\"\n",
    "\n",
    "token = \"bDSGqWmkLACiWbV9oXYuqn0MDn5wSEn0EEyjZ8Nx\"\n",
    "url = f\"https://api.kurs.web.id/api/v1?token={token}&bank={bank}&matauang={currency}\"\n",
    "data = requests.get(url)\n",
    "output2 = data.json()\n",
    "# rate = output['jual']"
   ]
  },
  {
   "cell_type": "code",
   "execution_count": 6,
   "metadata": {},
   "outputs": [
    {
     "output_type": "execute_result",
     "data": {
      "text/plain": [
       "{'status': 'success',\n",
       " 'bank': 'BNI',\n",
       " 'matauang': 'USD',\n",
       " 'jual': 14335,\n",
       " 'beli': 13935,\n",
       " 'timestamp': '2020-12-19'}"
      ]
     },
     "metadata": {},
     "execution_count": 6
    }
   ],
   "source": [
    "output"
   ]
  },
  {
   "cell_type": "code",
   "execution_count": 10,
   "metadata": {},
   "outputs": [
    {
     "output_type": "execute_result",
     "data": {
      "text/plain": [
       "({'status': 'error', 'message': 'matauang invalid!'},\n",
       " {'status': 'error', 'message': 'bank invalid!'})"
      ]
     },
     "metadata": {},
     "execution_count": 10
    }
   ],
   "source": [
    "output1, output2"
   ]
  },
  {
   "cell_type": "code",
   "execution_count": 18,
   "metadata": {},
   "outputs": [],
   "source": [
    "key = \"d144413ae947e1fca6f92d6f043e82eb\"\n",
    "host = \"https://developers.zomato.com/api/v2.1\"\n",
    "head = {'user-key': key}\n",
    "\n",
    "# categories\n",
    "cat = \"/categories\"\n",
    "url_cat = host + cat\n",
    "data_cat = requests.get(url_cat, headers=head)\n",
    "data_city = requests.get(\n",
    "    url_city, headers={\"user-key\": \"d144413ae947e1fca6f92d6f043e82eb\"})\n",
    "\n",
    "output_cat = data_cat.json()\n",
    "category = output_cat['categories']\n",
    "\n",
    "# city id\n",
    "city_input = 'bali'\n",
    "city = f\"/cities?q={city_input.lower()}\"\n",
    "url_city = host + city\n",
    "output_city = data_city.json()\n",
    "# city_id "
   ]
  },
  {
   "cell_type": "code",
   "execution_count": 19,
   "metadata": {},
   "outputs": [
    {
     "output_type": "execute_result",
     "data": {
      "text/plain": [
       "{'location_suggestions': [],\n",
       " 'status': 'success',\n",
       " 'has_more': 0,\n",
       " 'has_total': 0,\n",
       " 'user_has_addresses': True}"
      ]
     },
     "metadata": {},
     "execution_count": 19
    }
   ],
   "source": [
    "output_city"
   ]
  },
  {
   "cell_type": "code",
   "execution_count": 20,
   "metadata": {},
   "outputs": [
    {
     "output_type": "execute_result",
     "data": {
      "text/plain": [
       "'https://developers.zomato.com/api/v2.1/cities?q=jakarta'"
      ]
     },
     "metadata": {},
     "execution_count": 20
    }
   ],
   "source": [
    "url_city"
   ]
  },
  {
   "cell_type": "code",
   "execution_count": null,
   "metadata": {},
   "outputs": [],
   "source": []
  }
 ]
}