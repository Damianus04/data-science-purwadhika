{
 "cells": [
  {
   "cell_type": "markdown",
   "id": "differential-silver",
   "metadata": {},
   "source": [
    "# Intro\n",
    "\n",
    "Saya adalah seorang data scientist di sebuah e-comerce yang fokus dalam penjualan alat kosmetik, yaitu sephora.\n",
    "pada suatu hari CEO datang untuk menenyakan beberapa hal dibawah, kita dapat menjawabnya menggunakan visualisasi data sehingga mudah dipahami oleh seorang CEO."
   ]
  },
  {
   "cell_type": "markdown",
   "id": "amino-necessity",
   "metadata": {},
   "source": [
    "# Task\n",
    "\n",
    "- [x] Untuk kategori \"Perfume\", \"Moisturizers\" bagaimana distribusi untuk harganya ? apakah mahal atau murah ?\n",
    "- [x] Untuk brand \"SEPHORA COLLECTION\" apakah banyak yang suka dengan produknya ? (jangan gunakan review 0)\n",
    "- [x] Bandingkan harga antara brand \"Dior\" dengan \"SEPHORA COLLECTION\" ?\n",
    "- [x] Siapa brand yang paling banyak memiliki jumlah barang ? urutkan top 5 ?\n",
    "- [x] Siapa brand yang paling banyak disukai ? urutkan top 5 ?\n",
    "- [x] Kategori apa yang paling banyak menyumbang penjualan dari brand \"tarte\" ?\n",
    "- [x] Apakah ada hubungan antara harga dengan banyaknya produk yang terjual, dan banyaknya produk yang disukai ?\n",
    "\n",
    "Untuk pengerjaan bisa melakukan modifikasi terhadap dataset terlebih dahulu, kemudian dilakukan visualisasi"
   ]
  },
  {
   "cell_type": "code",
   "execution_count": null,
   "id": "joint-granny",
   "metadata": {},
   "outputs": [],
   "source": []
  },
  {
   "cell_type": "markdown",
   "id": "pressing-inspection",
   "metadata": {},
   "source": [
    "# Exercise Data Visualization\n",
    "\n",
    "Dataset can be downloaded here:\n",
    "https://www.kaggle.com/raghadalharbi/all-products-available-on-sephora-website/version/1"
   ]
  },
  {
   "cell_type": "code",
   "execution_count": 37,
   "id": "diagnostic-scenario",
   "metadata": {},
   "outputs": [],
   "source": [
    "import pandas as pd"
   ]
  },
  {
   "cell_type": "code",
   "execution_count": 38,
   "id": "incorporated-custom",
   "metadata": {},
   "outputs": [],
   "source": [
    "df = pd.read_csv('sephora_website_dataset.csv')"
   ]
  },
  {
   "cell_type": "code",
   "execution_count": null,
   "id": "gothic-principal",
   "metadata": {},
   "outputs": [],
   "source": []
  },
  {
   "cell_type": "code",
   "execution_count": null,
   "id": "acknowledged-blade",
   "metadata": {},
   "outputs": [],
   "source": []
  },
  {
   "cell_type": "code",
   "execution_count": null,
   "id": "palestinian-taylor",
   "metadata": {},
   "outputs": [],
   "source": []
  },
  {
   "cell_type": "code",
   "execution_count": null,
   "id": "turkish-thought",
   "metadata": {},
   "outputs": [],
   "source": []
  },
  {
   "cell_type": "code",
   "execution_count": null,
   "id": "lightweight-pipeline",
   "metadata": {},
   "outputs": [],
   "source": []
  },
  {
   "cell_type": "code",
   "execution_count": null,
   "id": "challenging-alexandria",
   "metadata": {},
   "outputs": [],
   "source": []
  }
 ],
 "metadata": {
  "kernelspec": {
   "display_name": "Python 3",
   "language": "python",
   "name": "python3"
  },
  "language_info": {
   "codemirror_mode": {
    "name": "ipython",
    "version": 3
   },
   "file_extension": ".py",
   "mimetype": "text/x-python",
   "name": "python",
   "nbconvert_exporter": "python",
   "pygments_lexer": "ipython3",
   "version": "3.8.5"
  }
 },
 "nbformat": 4,
 "nbformat_minor": 5
}
