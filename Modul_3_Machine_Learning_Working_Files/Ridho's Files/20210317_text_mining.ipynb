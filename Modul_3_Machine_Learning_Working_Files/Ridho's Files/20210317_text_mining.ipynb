{
 "cells": [
  {
   "cell_type": "markdown",
   "metadata": {},
   "source": [
    "# Text Mining"
   ]
  },
  {
   "cell_type": "code",
   "execution_count": 1,
   "metadata": {},
   "outputs": [],
   "source": [
    "import pandas as pd\n",
    "import numpy as np"
   ]
  },
  {
   "cell_type": "code",
   "execution_count": 2,
   "metadata": {},
   "outputs": [
    {
     "data": {
      "text/html": [
       "<div>\n",
       "<style scoped>\n",
       "    .dataframe tbody tr th:only-of-type {\n",
       "        vertical-align: middle;\n",
       "    }\n",
       "\n",
       "    .dataframe tbody tr th {\n",
       "        vertical-align: top;\n",
       "    }\n",
       "\n",
       "    .dataframe thead th {\n",
       "        text-align: right;\n",
       "    }\n",
       "</style>\n",
       "<table border=\"1\" class=\"dataframe\">\n",
       "  <thead>\n",
       "    <tr style=\"text-align: right;\">\n",
       "      <th></th>\n",
       "      <th>Unnamed: 0</th>\n",
       "      <th>label</th>\n",
       "      <th>message</th>\n",
       "    </tr>\n",
       "  </thead>\n",
       "  <tbody>\n",
       "    <tr>\n",
       "      <th>0</th>\n",
       "      <td>0</td>\n",
       "      <td>ham</td>\n",
       "      <td>Go until jurong point, crazy.. Available only ...</td>\n",
       "    </tr>\n",
       "    <tr>\n",
       "      <th>1</th>\n",
       "      <td>1</td>\n",
       "      <td>ham</td>\n",
       "      <td>Ok lar... Joking wif u oni...</td>\n",
       "    </tr>\n",
       "    <tr>\n",
       "      <th>2</th>\n",
       "      <td>2</td>\n",
       "      <td>spam</td>\n",
       "      <td>Free entry in 2 a wkly comp to win FA Cup fina...</td>\n",
       "    </tr>\n",
       "    <tr>\n",
       "      <th>3</th>\n",
       "      <td>3</td>\n",
       "      <td>ham</td>\n",
       "      <td>U dun say so early hor... U c already then say...</td>\n",
       "    </tr>\n",
       "    <tr>\n",
       "      <th>4</th>\n",
       "      <td>4</td>\n",
       "      <td>ham</td>\n",
       "      <td>Nah I don't think he goes to usf, he lives aro...</td>\n",
       "    </tr>\n",
       "  </tbody>\n",
       "</table>\n",
       "</div>"
      ],
      "text/plain": [
       "   Unnamed: 0 label                                            message\n",
       "0           0   ham  Go until jurong point, crazy.. Available only ...\n",
       "1           1   ham                      Ok lar... Joking wif u oni...\n",
       "2           2  spam  Free entry in 2 a wkly comp to win FA Cup fina...\n",
       "3           3   ham  U dun say so early hor... U c already then say...\n",
       "4           4   ham  Nah I don't think he goes to usf, he lives aro..."
      ]
     },
     "execution_count": 2,
     "metadata": {},
     "output_type": "execute_result"
    }
   ],
   "source": [
    "sms = pd.read_csv('../data/sms_spam_collection.csv')\n",
    "sms.head()"
   ]
  },
  {
   "cell_type": "code",
   "execution_count": 3,
   "metadata": {},
   "outputs": [
    {
     "data": {
      "text/plain": [
       "ham     0.865937\n",
       "spam    0.134063\n",
       "Name: label, dtype: float64"
      ]
     },
     "execution_count": 3,
     "metadata": {},
     "output_type": "execute_result"
    }
   ],
   "source": [
    "sms['label'].value_counts(normalize=True)"
   ]
  },
  {
   "cell_type": "markdown",
   "metadata": {},
   "source": [
    "## Text Preprocessing"
   ]
  },
  {
   "cell_type": "markdown",
   "metadata": {},
   "source": [
    "Method :\n",
    "1. converting to lower case\n",
    "1. contraction\n",
    "1. remove or convert number into text\n",
    "1. remove punctuation\n",
    "1. remove white spaces\n",
    "1. remove stopwords and particular words"
   ]
  },
  {
   "cell_type": "markdown",
   "metadata": {},
   "source": [
    "## 1. Coverting to lower case"
   ]
  },
  {
   "cell_type": "code",
   "execution_count": 4,
   "metadata": {},
   "outputs": [],
   "source": [
    "def to_lower(text):\n",
    "    return text.lower()"
   ]
  },
  {
   "cell_type": "code",
   "execution_count": 5,
   "metadata": {},
   "outputs": [
    {
     "data": {
      "text/plain": [
       "'winter december 10th 2019'"
      ]
     },
     "execution_count": 5,
     "metadata": {},
     "output_type": "execute_result"
    }
   ],
   "source": [
    "text_1 = 'Winter December 10th 2019'\n",
    "to_lower(text_1)"
   ]
  },
  {
   "cell_type": "markdown",
   "metadata": {},
   "source": [
    "## 2. Contraction"
   ]
  },
  {
   "cell_type": "code",
   "execution_count": 6,
   "metadata": {},
   "outputs": [],
   "source": [
    "import re"
   ]
  },
  {
   "cell_type": "code",
   "execution_count": 16,
   "metadata": {},
   "outputs": [],
   "source": [
    "contractions_dict = { \n",
    "\"ain't\": \"am not\",\n",
    "\"aren't\": \"are not\",\n",
    "\"can't\": \"cannot\",\n",
    "\"can't've\": \"cannot have\",\n",
    "\"'cause\": \"because\",\n",
    "\"could've\": \"could have\",\n",
    "\"couldn't\": \"could not\",\n",
    "\"couldn't've\": \"could not have\",\n",
    "\"didn't\": \"did not\",\n",
    "\"doesn't\": \"does not\",\n",
    "\"don't\": \"do not\",\n",
    "\"hadn't\": \"had not\",\n",
    "\"hadn't've\": \"had not have\",\n",
    "\"hasn't\": \"has not\",\n",
    "\"haven't\": \"have not\",\n",
    "\"he'd\": \"he had\",\n",
    "\"he'd've\": \"he would have\",\n",
    "\"he'll\": \"he shall\",\n",
    "\"he'll've\": \"he shall have\",\n",
    "\"he's\": \"he has\",\n",
    "\"how'd\": \"how did\",\n",
    "\"how'd'y\": \"how do you\",\n",
    "\"how'll\": \"how will\",\n",
    "\"how's\": \"how has\",\n",
    "\"I'd\": \"I had\",\n",
    "\"I'd've\": \"I would have\",\n",
    "\"I'll\": \"I shall\",\n",
    "\"I'll've\": \"I shall have\",\n",
    "\"I'm\": \"I am\",\n",
    "\"I've\": \"I have\",\n",
    "\"isn't\": \"is not\",\n",
    "\"it'd\": \"it had\",\n",
    "\"it'd've\": \"it would have\",\n",
    "\"it'll\": \"it shall\",\n",
    "\"it'll've\": \"it shall have\",\n",
    "\"it's\": \"it has\",\n",
    "\"let's\": \"let us\",\n",
    "\"ma'am\": \"madam\",\n",
    "\"mayn't\": \"may not\",\n",
    "\"might've\": \"might have\",\n",
    "\"mightn't\": \"might not\",\n",
    "\"mightn't've\": \"might not have\",\n",
    "\"must've\": \"must have\",\n",
    "\"mustn't\": \"must not\",\n",
    "\"mustn't've\": \"must not have\",\n",
    "\"needn't\": \"need not\",\n",
    "\"needn't've\": \"need not have\",\n",
    "\"o'clock\": \"of the clock\",\n",
    "\"oughtn't\": \"ought not\",\n",
    "\"oughtn't've\": \"ought not have\",\n",
    "\"shan't\": \"shall not\",\n",
    "\"sha'n't\": \"shall not\",\n",
    "\"shan't've\": \"shall not have\",\n",
    "\"she'd\": \"she had\",\n",
    "\"she'd've\": \"she would have\",\n",
    "\"she'll\": \"she shall\",\n",
    "\"she'll've\": \"she shall have\",\n",
    "\"she's\": \"she has\",\n",
    "\"should've\": \"should have\",\n",
    "\"shouldn't\": \"should not\",\n",
    "\"shouldn't've\": \"should not have\",\n",
    "\"so've\": \"so have\",\n",
    "\"so's\": \"so as\",\n",
    "\"that'd\": \"that would\",\n",
    "\"that'd've\": \"that would have\",\n",
    "\"that's\": \"that has\",\n",
    "\"there'd\": \"there had\",\n",
    "\"there'd've\": \"there would have\",\n",
    "\"there's\": \"there has\",\n",
    "\"they'd\": \"they had\",\n",
    "\"they'd've\": \"they would have\",\n",
    "\"they'll\": \"they shall\",\n",
    "\"they'll've\": \"they shall have\",\n",
    "\"they're\": \"they are\",\n",
    "\"they've\": \"they have\",\n",
    "\"to've\": \"to have\",\n",
    "\"wasn't\": \"was not\",\n",
    "\"we'd\": \"we had\",\n",
    "\"we'd've\": \"we would have\",\n",
    "\"we'll\": \"we will\",\n",
    "\"we'll've\": \"we will have\",\n",
    "\"we're\": \"we are\",\n",
    "\"we've\": \"we have\",\n",
    "\"weren't\": \"were not\",\n",
    "\"what'll\": \"what shall\",\n",
    "\"what'll've\": \"what shall have\",\n",
    "\"what're\": \"what are\",\n",
    "\"what's\": \"what has\",\n",
    "\"what've\": \"what have\",\n",
    "\"when's\": \"when has\",\n",
    "\"when've\": \"when have\",\n",
    "\"where'd\": \"where did\",\n",
    "\"where's\": \"where has\",\n",
    "\"where've\": \"where have\",\n",
    "\"who'll\": \"who shall\",\n",
    "\"who'll've\": \"who shall have\",\n",
    "\"who's\": \"who has\",\n",
    "\"who've\": \"who have\",\n",
    "\"why's\": \"why has\",\n",
    "\"why've\": \"why have\",\n",
    "\"will've\": \"will have\",\n",
    "\"won't\": \"will not\",\n",
    "\"won't've\": \"will not have\",\n",
    "\"would've\": \"would have\",\n",
    "\"wouldn't\": \"would not\",\n",
    "\"wouldn't've\": \"would not have\",\n",
    "\"y'all\": \"you all\",\n",
    "\"y'all'd\": \"you all would\",\n",
    "\"y'all'd've\": \"you all would have\",\n",
    "\"y'all're\": \"you all are\",\n",
    "\"y'all've\": \"you all have\",\n",
    "\"you'd\": \"you had\",\n",
    "\"you'd've\": \"you would have\",\n",
    "\"you'll\": \"you will\",\n",
    "\"you'll've\": \"you will have\",\n",
    "\"you're\": \"you are\",\n",
    "\"you've\": \"you have\"\n",
    "}\n",
    "\n",
    "def expand_contractions(text, contractions_dict):\n",
    "    contractions_pattern = re.compile('({})'.format('|'.join(contractions_dict.keys())),\n",
    "                                      flags=re.IGNORECASE | re.DOTALL)\n",
    "\n",
    "    def expand_match(contraction):\n",
    "        match = contraction.group(0)\n",
    "        first_char = match[0]\n",
    "        expanded_contraction = contractions_dict.get(match) \\\n",
    "            if contractions_dict.get(match) \\\n",
    "            else contractions_dict.get(match.lower())\n",
    "        expanded_contraction = expanded_contraction\n",
    "        return expanded_contraction\n",
    "\n",
    "    expanded_text = contractions_pattern.sub(expand_match, text)\n",
    "    expanded_text = re.sub(\"'\", \"\", expanded_text)\n",
    "    return expanded_text\n",
    "\n",
    "def main_contraction(text):\n",
    "    text = expand_contractions(text, contractions_dict)\n",
    "    return text"
   ]
  },
  {
   "cell_type": "code",
   "execution_count": 17,
   "metadata": {},
   "outputs": [
    {
     "data": {
      "text/plain": [
       "'If am not got you'"
      ]
     },
     "execution_count": 17,
     "metadata": {},
     "output_type": "execute_result"
    }
   ],
   "source": [
    "text_2 = \"If ain't got you\"\n",
    "main_contraction(text_2)"
   ]
  },
  {
   "cell_type": "markdown",
   "metadata": {},
   "source": [
    "## Remove or Convert Number Into Text"
   ]
  },
  {
   "cell_type": "code",
   "execution_count": 18,
   "metadata": {},
   "outputs": [],
   "source": [
    "def remove_numbers(text):\n",
    "    output = ''.join(c for c in text if not c.isdigit())\n",
    "    return output"
   ]
  },
  {
   "cell_type": "code",
   "execution_count": 19,
   "metadata": {},
   "outputs": [
    {
     "name": "stdout",
     "output_type": "stream",
     "text": [
      "I was born in \n"
     ]
    }
   ],
   "source": [
    "text_string = \"I was born in 1996\"\n",
    "text_string = remove_numbers(text_string)\n",
    "print(text_string)"
   ]
  },
  {
   "cell_type": "markdown",
   "metadata": {},
   "source": [
    "## Remove Punctuation"
   ]
  },
  {
   "cell_type": "code",
   "execution_count": 20,
   "metadata": {},
   "outputs": [],
   "source": [
    "from string import punctuation"
   ]
  },
  {
   "cell_type": "code",
   "execution_count": 21,
   "metadata": {},
   "outputs": [],
   "source": [
    "def remove_punct(text):\n",
    "    return ''.join(c for c in text if c not in punctuation)"
   ]
  },
  {
   "cell_type": "code",
   "execution_count": 22,
   "metadata": {},
   "outputs": [
    {
     "name": "stdout",
     "output_type": "stream",
     "text": [
      "There was bobby alex fergie and I\n"
     ]
    }
   ],
   "source": [
    "text_string = \"There was bobby, alex, fergie and I\"\n",
    "text_string = remove_punct(text_string)\n",
    "print(text_string)"
   ]
  },
  {
   "cell_type": "markdown",
   "metadata": {},
   "source": [
    "## Remove White Spaces"
   ]
  },
  {
   "cell_type": "code",
   "execution_count": 26,
   "metadata": {},
   "outputs": [],
   "source": [
    "def to_strip(text):\n",
    "    return ' '.join(text.split())"
   ]
  },
  {
   "cell_type": "code",
   "execution_count": 27,
   "metadata": {},
   "outputs": [
    {
     "name": "stdout",
     "output_type": "stream",
     "text": [
      "There was bobby, alex, fergie and I\n"
     ]
    }
   ],
   "source": [
    "text_string = \"There was          bobby, alex, fergie and I\"\n",
    "text_string = to_strip(text_string)\n",
    "print(text_string)"
   ]
  },
  {
   "cell_type": "markdown",
   "metadata": {},
   "source": [
    "## Remove Stopwords and Particular Words"
   ]
  },
  {
   "cell_type": "markdown",
   "metadata": {},
   "source": [
    "Stopwords are words that occur too often and do not provide any additional insight\n",
    "<br>\n",
    "Stopwords example:\n",
    "I, me, myself, we, our, ourselves, you, yourself, ….. \n"
   ]
  },
  {
   "cell_type": "code",
   "execution_count": 28,
   "metadata": {},
   "outputs": [],
   "source": [
    "import nltk\n",
    "from nltk.corpus import stopwords"
   ]
  },
  {
   "cell_type": "code",
   "execution_count": 45,
   "metadata": {},
   "outputs": [
    {
     "data": {
      "text/plain": [
       "87"
      ]
     },
     "execution_count": 45,
     "metadata": {},
     "output_type": "execute_result"
    }
   ],
   "source": [
    "stopwords.words('english').index('from')"
   ]
  },
  {
   "cell_type": "code",
   "execution_count": 33,
   "metadata": {},
   "outputs": [
    {
     "data": {
      "text/plain": [
       "758"
      ]
     },
     "execution_count": 33,
     "metadata": {},
     "output_type": "execute_result"
    }
   ],
   "source": [
    "len(stopwords.words('indonesian'))"
   ]
  },
  {
   "cell_type": "code",
   "execution_count": 54,
   "metadata": {},
   "outputs": [],
   "source": [
    "def remove_stopwords(sentence):\n",
    "    stop_words = stopwords.words('english')\n",
    "    stop_words.extend(['u', 'U', 'dun', 'ü', 'fr'])\n",
    "    return ' '.join([w for w in nltk.word_tokenize(sentence) if not w in stop_words])"
   ]
  },
  {
   "cell_type": "code",
   "execution_count": 51,
   "metadata": {},
   "outputs": [],
   "source": [
    "stopwords.words('english').extend(['u', 'U', 'dun', 'ü', 'fr'])"
   ]
  },
  {
   "cell_type": "code",
   "execution_count": 37,
   "metadata": {},
   "outputs": [
    {
     "name": "stdout",
     "output_type": "stream",
     "text": [
      "There bobby , alex , fergie I\n"
     ]
    }
   ],
   "source": [
    "text_string = \"There was bobby, alex, fergie and I\"\n",
    "text_string = remove_stopwords(text_string)\n",
    "print(text_string)"
   ]
  },
  {
   "cell_type": "code",
   "execution_count": 38,
   "metadata": {},
   "outputs": [
    {
     "data": {
      "text/plain": [
       "['There', 'bobby', ',', 'alex', ',', 'fergie', 'I']"
      ]
     },
     "execution_count": 38,
     "metadata": {},
     "output_type": "execute_result"
    }
   ],
   "source": [
    "nltk.word_tokenize(text_string)"
   ]
  },
  {
   "cell_type": "markdown",
   "metadata": {},
   "source": [
    "## Combine Preprocessing Method"
   ]
  },
  {
   "cell_type": "code",
   "execution_count": 39,
   "metadata": {},
   "outputs": [],
   "source": [
    "pd.options.display.max_colwidth = None"
   ]
  },
  {
   "cell_type": "code",
   "execution_count": 41,
   "metadata": {},
   "outputs": [
    {
     "data": {
      "text/plain": [
       "Index(['Unnamed: 0', 'label', 'message'], dtype='object')"
      ]
     },
     "execution_count": 41,
     "metadata": {},
     "output_type": "execute_result"
    }
   ],
   "source": [
    "sms.columns"
   ]
  },
  {
   "cell_type": "code",
   "execution_count": 55,
   "metadata": {},
   "outputs": [
    {
     "data": {
      "text/html": [
       "<div>\n",
       "<style scoped>\n",
       "    .dataframe tbody tr th:only-of-type {\n",
       "        vertical-align: middle;\n",
       "    }\n",
       "\n",
       "    .dataframe tbody tr th {\n",
       "        vertical-align: top;\n",
       "    }\n",
       "\n",
       "    .dataframe thead th {\n",
       "        text-align: right;\n",
       "    }\n",
       "</style>\n",
       "<table border=\"1\" class=\"dataframe\">\n",
       "  <thead>\n",
       "    <tr style=\"text-align: right;\">\n",
       "      <th></th>\n",
       "      <th>label</th>\n",
       "      <th>message</th>\n",
       "      <th>message_prep6</th>\n",
       "    </tr>\n",
       "  </thead>\n",
       "  <tbody>\n",
       "    <tr>\n",
       "      <th>0</th>\n",
       "      <td>ham</td>\n",
       "      <td>Go until jurong point, crazy.. Available only in bugis n great world la e buffet... Cine there got amore wat...</td>\n",
       "      <td>go jurong point crazy available bugis n great world la e buffet cine got amore wat</td>\n",
       "    </tr>\n",
       "    <tr>\n",
       "      <th>1</th>\n",
       "      <td>ham</td>\n",
       "      <td>Ok lar... Joking wif u oni...</td>\n",
       "      <td>ok lar joking wif oni</td>\n",
       "    </tr>\n",
       "    <tr>\n",
       "      <th>2</th>\n",
       "      <td>spam</td>\n",
       "      <td>Free entry in 2 a wkly comp to win FA Cup final tkts 21st May 2005. Text FA to 87121 to receive entry question(std txt rate)T&amp;C's apply 08452810075over18's</td>\n",
       "      <td>free entry wkly comp win fa cup final tkts st may text fa receive entry questionstd txt ratetcs apply overs</td>\n",
       "    </tr>\n",
       "    <tr>\n",
       "      <th>3</th>\n",
       "      <td>ham</td>\n",
       "      <td>U dun say so early hor... U c already then say...</td>\n",
       "      <td>say early hor c already say</td>\n",
       "    </tr>\n",
       "    <tr>\n",
       "      <th>4</th>\n",
       "      <td>ham</td>\n",
       "      <td>Nah I don't think he goes to usf, he lives around here though</td>\n",
       "      <td>nah think goes usf lives around though</td>\n",
       "    </tr>\n",
       "    <tr>\n",
       "      <th>...</th>\n",
       "      <td>...</td>\n",
       "      <td>...</td>\n",
       "      <td>...</td>\n",
       "    </tr>\n",
       "    <tr>\n",
       "      <th>5567</th>\n",
       "      <td>spam</td>\n",
       "      <td>This is the 2nd time we have tried 2 contact u. U have won the £750 Pound prize. 2 claim is easy, call 087187272008 NOW1! Only 10p per minute. BT-national-rate.</td>\n",
       "      <td>nd time tried contact £ pound prize claim easy call p per minute btnationalrate</td>\n",
       "    </tr>\n",
       "    <tr>\n",
       "      <th>5568</th>\n",
       "      <td>ham</td>\n",
       "      <td>Will ü b going to esplanade fr home?</td>\n",
       "      <td>b going esplanade home</td>\n",
       "    </tr>\n",
       "    <tr>\n",
       "      <th>5569</th>\n",
       "      <td>ham</td>\n",
       "      <td>Pity, * was in mood for that. So...any other suggestions?</td>\n",
       "      <td>pity mood soany suggestions</td>\n",
       "    </tr>\n",
       "    <tr>\n",
       "      <th>5570</th>\n",
       "      <td>ham</td>\n",
       "      <td>The guy did some bitching but I acted like i'd be interested in buying something else next week and he gave it to us for free</td>\n",
       "      <td>guy bitching acted like interested buying something else next week gave us free</td>\n",
       "    </tr>\n",
       "    <tr>\n",
       "      <th>5571</th>\n",
       "      <td>ham</td>\n",
       "      <td>Rofl. Its true to its name</td>\n",
       "      <td>rofl true name</td>\n",
       "    </tr>\n",
       "  </tbody>\n",
       "</table>\n",
       "<p>5572 rows × 3 columns</p>\n",
       "</div>"
      ],
      "text/plain": [
       "     label  \\\n",
       "0      ham   \n",
       "1      ham   \n",
       "2     spam   \n",
       "3      ham   \n",
       "4      ham   \n",
       "...    ...   \n",
       "5567  spam   \n",
       "5568   ham   \n",
       "5569   ham   \n",
       "5570   ham   \n",
       "5571   ham   \n",
       "\n",
       "                                                                                                                                                               message  \\\n",
       "0                                                      Go until jurong point, crazy.. Available only in bugis n great world la e buffet... Cine there got amore wat...   \n",
       "1                                                                                                                                        Ok lar... Joking wif u oni...   \n",
       "2          Free entry in 2 a wkly comp to win FA Cup final tkts 21st May 2005. Text FA to 87121 to receive entry question(std txt rate)T&C's apply 08452810075over18's   \n",
       "3                                                                                                                    U dun say so early hor... U c already then say...   \n",
       "4                                                                                                        Nah I don't think he goes to usf, he lives around here though   \n",
       "...                                                                                                                                                                ...   \n",
       "5567  This is the 2nd time we have tried 2 contact u. U have won the £750 Pound prize. 2 claim is easy, call 087187272008 NOW1! Only 10p per minute. BT-national-rate.   \n",
       "5568                                                                                                                              Will ü b going to esplanade fr home?   \n",
       "5569                                                                                                         Pity, * was in mood for that. So...any other suggestions?   \n",
       "5570                                     The guy did some bitching but I acted like i'd be interested in buying something else next week and he gave it to us for free   \n",
       "5571                                                                                                                                        Rofl. Its true to its name   \n",
       "\n",
       "                                                                                                    message_prep6  \n",
       "0                              go jurong point crazy available bugis n great world la e buffet cine got amore wat  \n",
       "1                                                                                           ok lar joking wif oni  \n",
       "2     free entry wkly comp win fa cup final tkts st may text fa receive entry questionstd txt ratetcs apply overs  \n",
       "3                                                                                     say early hor c already say  \n",
       "4                                                                          nah think goes usf lives around though  \n",
       "...                                                                                                           ...  \n",
       "5567                              nd time tried contact £ pound prize claim easy call p per minute btnationalrate  \n",
       "5568                                                                                       b going esplanade home  \n",
       "5569                                                                                  pity mood soany suggestions  \n",
       "5570                              guy bitching acted like interested buying something else next week gave us free  \n",
       "5571                                                                                               rofl true name  \n",
       "\n",
       "[5572 rows x 3 columns]"
      ]
     },
     "execution_count": 55,
     "metadata": {},
     "output_type": "execute_result"
    }
   ],
   "source": [
    "sms['message_prep1'] = sms['message'].apply(to_lower)\n",
    "sms['message_prep2'] = sms['message_prep1'].apply(main_contraction)\n",
    "sms['message_prep3'] = sms['message_prep2'].apply(remove_numbers)\n",
    "sms['message_prep4'] = sms['message_prep3'].apply(remove_punct)\n",
    "sms['message_prep5'] = sms['message_prep4'].apply(to_strip)\n",
    "sms['message_prep6'] = sms['message_prep5'].apply(remove_stopwords)\n",
    "\n",
    "sms[['label', 'message', 'message_prep6']]"
   ]
  },
  {
   "cell_type": "markdown",
   "metadata": {},
   "source": [
    "# Text Preprocessing 2"
   ]
  },
  {
   "cell_type": "markdown",
   "metadata": {},
   "source": [
    "## Stemming\n",
    "The process of transforming to the root word.\n",
    "For example you have caring, cares, cared, caringly carefully then you want to consider them as the same words “care”.\n",
    "We need stemming because treating them as the same words will reduce overfitting."
   ]
  },
  {
   "cell_type": "markdown",
   "metadata": {},
   "source": [
    "![image.png](data:image/png;base64,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)"
   ]
  },
  {
   "cell_type": "code",
   "execution_count": 56,
   "metadata": {},
   "outputs": [],
   "source": [
    "from nltk.stem import SnowballStemmer"
   ]
  },
  {
   "cell_type": "code",
   "execution_count": 57,
   "metadata": {},
   "outputs": [],
   "source": [
    "snowball_stem = SnowballStemmer('english')\n",
    "\n",
    "def stem(text):\n",
    "    stemmed_word = [snowball_stem.stem(word) for sent in nltk.sent_tokenize(text) for word in nltk.word_tokenize(text)]\n",
    "    return \" \".join(stemmed_word)"
   ]
  },
  {
   "cell_type": "code",
   "execution_count": 58,
   "metadata": {},
   "outputs": [
    {
     "data": {
      "text/plain": [
       "'i am read a book and the book is veri fascin'"
      ]
     },
     "execution_count": 58,
     "metadata": {},
     "output_type": "execute_result"
    }
   ],
   "source": [
    "text_1 ='I am reading a book and the book is very fascinating'\n",
    "stem(text_1)"
   ]
  },
  {
   "cell_type": "markdown",
   "metadata": {},
   "source": [
    "## Lemmatization"
   ]
  },
  {
   "cell_type": "markdown",
   "metadata": {},
   "source": [
    "The process of transforming to the dictionary base form.\n",
    "caring, cares, cared, caringly carefully will be transformed into care, care, care caringly carefully.\n",
    "caringly and carefully are listed in the dictionary.\n",
    "purpose of lemmatization is also to reduce overfitting."
   ]
  },
  {
   "cell_type": "markdown",
   "metadata": {},
   "source": [
    "![image.png](data:image/png;base64,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)"
   ]
  },
  {
   "cell_type": "code",
   "execution_count": 60,
   "metadata": {},
   "outputs": [],
   "source": [
    "from nltk.stem import WordNetLemmatizer"
   ]
  },
  {
   "cell_type": "code",
   "execution_count": 63,
   "metadata": {},
   "outputs": [],
   "source": [
    "wordnet_lemma = WordNetLemmatizer()"
   ]
  },
  {
   "cell_type": "code",
   "execution_count": 64,
   "metadata": {},
   "outputs": [],
   "source": [
    "def lemmatize(text):\n",
    "    lemma_word = [wordnet_lemma.lemmatize(word) for sent in nltk.sent_tokenize(text) for word in nltk.word_tokenize(sent)]\n",
    "    return \" \".join(lemma_word)"
   ]
  },
  {
   "cell_type": "code",
   "execution_count": 65,
   "metadata": {},
   "outputs": [
    {
     "data": {
      "text/plain": [
       "'I am reading a book and the book is very fascinating'"
      ]
     },
     "execution_count": 65,
     "metadata": {},
     "output_type": "execute_result"
    }
   ],
   "source": [
    "lemmatize(text_1)"
   ]
  },
  {
   "cell_type": "code",
   "execution_count": null,
   "metadata": {},
   "outputs": [],
   "source": []
  }
 ],
 "metadata": {
  "kernelspec": {
   "display_name": "Python 3",
   "language": "python",
   "name": "python3"
  },
  "language_info": {
   "codemirror_mode": {
    "name": "ipython",
    "version": 3
   },
   "file_extension": ".py",
   "mimetype": "text/x-python",
   "name": "python",
   "nbconvert_exporter": "python",
   "pygments_lexer": "ipython3",
   "version": "3.8.3"
  }
 },
 "nbformat": 4,
 "nbformat_minor": 5
}
