{
 "cells": [
  {
   "cell_type": "markdown",
   "metadata": {},
   "source": [
    "# Python Exercise: Simple Linear Regression\n",
    "Analyze tips data from seaborn\n",
    "- Total Bill as Independent Variable\n",
    "- Tips as Dependent Variable\n",
    "Analyze the relationship\n",
    "Apply Simple Linear Regression\n",
    "Perform F Test and T Test\n",
    "Interpret the result\n",
    "* use α 5% "
   ]
  },
  {
   "cell_type": "markdown",
   "metadata": {},
   "source": [
    ">## Library"
   ]
  },
  {
   "cell_type": "code",
   "execution_count": null,
   "metadata": {},
   "outputs": [],
   "source": [
    "# !pip install statsmodels\n",
    "# !pip uninstall statsmodels && !pip install statsmodels --upgrade"
   ]
  },
  {
   "cell_type": "code",
   "execution_count": 1,
   "metadata": {},
   "outputs": [],
   "source": [
    "import pandas as pd\n",
    "import numpy as np\n",
    "import seaborn as sns # sb\n",
    "import matplotlib.pyplot as plt\n",
    "import statsmodels.api as sm\n",
    "from statsmodels.api import OLS # Linear Regression"
   ]
  },
  {
   "cell_type": "markdown",
   "metadata": {},
   "source": [
    ">## Data\n",
    "\n",
    "Dataset Description:\n",
    "Food servers’ tips in restaurants may be influenced by many factors, including the nature of the restaurant, size of the party, and table locations in the restaurant. Restaurant managers need to know which factors matter when they assign tables to food servers. For the sake of staff morale, they usually want to avoid either the substance or the appearance of unfair treatment of the servers, for whom tips (at least in restaurants in the United States) are a major component of pay. In one restaurant, a food server recorded the following data on all customers they served during an interval of two and a half months in early 1990. The restaurant, located in a suburban shopping mall, was part of a national chain and served a varied menu. In observance of local law, the restaurant offered to seat in a non-smoking section to patrons who requested it. Each record includes a day and time, and taken together, they show the server’s work schedule.\n",
    "\n",
    "From This information we frame the problem :\n",
    "1. Problem Statements : How migh we predict tips that will be recieved by food servers so we can minimize unfair treatment ?\n",
    "1. Data :\n",
    "  1. Label : Tips\n",
    "  1. Features : Total Bill\n",
    "1. ML Objective : Minimize the appearance of unfair treatment of the food servers, for whom tips are major component of pay.\n",
    "1. Action : Make food servers allocation \n",
    "1. Value : the sake of staff morale"
   ]
  },
  {
   "cell_type": "code",
   "execution_count": 2,
   "metadata": {},
   "outputs": [
    {
     "data": {
      "text/html": [
       "<div>\n",
       "<style scoped>\n",
       "    .dataframe tbody tr th:only-of-type {\n",
       "        vertical-align: middle;\n",
       "    }\n",
       "\n",
       "    .dataframe tbody tr th {\n",
       "        vertical-align: top;\n",
       "    }\n",
       "\n",
       "    .dataframe thead th {\n",
       "        text-align: right;\n",
       "    }\n",
       "</style>\n",
       "<table border=\"1\" class=\"dataframe\">\n",
       "  <thead>\n",
       "    <tr style=\"text-align: right;\">\n",
       "      <th></th>\n",
       "      <th>total_bill</th>\n",
       "      <th>tip</th>\n",
       "      <th>sex</th>\n",
       "      <th>smoker</th>\n",
       "      <th>day</th>\n",
       "      <th>time</th>\n",
       "      <th>size</th>\n",
       "    </tr>\n",
       "  </thead>\n",
       "  <tbody>\n",
       "    <tr>\n",
       "      <th>0</th>\n",
       "      <td>16.99</td>\n",
       "      <td>1.01</td>\n",
       "      <td>Female</td>\n",
       "      <td>No</td>\n",
       "      <td>Sun</td>\n",
       "      <td>Dinner</td>\n",
       "      <td>2</td>\n",
       "    </tr>\n",
       "    <tr>\n",
       "      <th>1</th>\n",
       "      <td>10.34</td>\n",
       "      <td>1.66</td>\n",
       "      <td>Male</td>\n",
       "      <td>No</td>\n",
       "      <td>Sun</td>\n",
       "      <td>Dinner</td>\n",
       "      <td>3</td>\n",
       "    </tr>\n",
       "    <tr>\n",
       "      <th>2</th>\n",
       "      <td>21.01</td>\n",
       "      <td>3.50</td>\n",
       "      <td>Male</td>\n",
       "      <td>No</td>\n",
       "      <td>Sun</td>\n",
       "      <td>Dinner</td>\n",
       "      <td>3</td>\n",
       "    </tr>\n",
       "    <tr>\n",
       "      <th>3</th>\n",
       "      <td>23.68</td>\n",
       "      <td>3.31</td>\n",
       "      <td>Male</td>\n",
       "      <td>No</td>\n",
       "      <td>Sun</td>\n",
       "      <td>Dinner</td>\n",
       "      <td>2</td>\n",
       "    </tr>\n",
       "    <tr>\n",
       "      <th>4</th>\n",
       "      <td>24.59</td>\n",
       "      <td>3.61</td>\n",
       "      <td>Female</td>\n",
       "      <td>No</td>\n",
       "      <td>Sun</td>\n",
       "      <td>Dinner</td>\n",
       "      <td>4</td>\n",
       "    </tr>\n",
       "  </tbody>\n",
       "</table>\n",
       "</div>"
      ],
      "text/plain": [
       "   total_bill   tip     sex smoker  day    time  size\n",
       "0       16.99  1.01  Female     No  Sun  Dinner     2\n",
       "1       10.34  1.66    Male     No  Sun  Dinner     3\n",
       "2       21.01  3.50    Male     No  Sun  Dinner     3\n",
       "3       23.68  3.31    Male     No  Sun  Dinner     2\n",
       "4       24.59  3.61  Female     No  Sun  Dinner     4"
      ]
     },
     "execution_count": 2,
     "metadata": {},
     "output_type": "execute_result"
    }
   ],
   "source": [
    "tips = sns.load_dataset(\"tips\")\n",
    "tips.head()"
   ]
  },
  {
   "cell_type": "code",
   "execution_count": 3,
   "metadata": {},
   "outputs": [
    {
     "data": {
      "text/html": [
       "<div>\n",
       "<style scoped>\n",
       "    .dataframe tbody tr th:only-of-type {\n",
       "        vertical-align: middle;\n",
       "    }\n",
       "\n",
       "    .dataframe tbody tr th {\n",
       "        vertical-align: top;\n",
       "    }\n",
       "\n",
       "    .dataframe thead th {\n",
       "        text-align: right;\n",
       "    }\n",
       "</style>\n",
       "<table border=\"1\" class=\"dataframe\">\n",
       "  <thead>\n",
       "    <tr style=\"text-align: right;\">\n",
       "      <th></th>\n",
       "      <th>tip</th>\n",
       "      <th>total_bill</th>\n",
       "    </tr>\n",
       "  </thead>\n",
       "  <tbody>\n",
       "    <tr>\n",
       "      <th>count</th>\n",
       "      <td>244.000000</td>\n",
       "      <td>244.000000</td>\n",
       "    </tr>\n",
       "    <tr>\n",
       "      <th>mean</th>\n",
       "      <td>2.998279</td>\n",
       "      <td>19.785943</td>\n",
       "    </tr>\n",
       "    <tr>\n",
       "      <th>std</th>\n",
       "      <td>1.383638</td>\n",
       "      <td>8.902412</td>\n",
       "    </tr>\n",
       "    <tr>\n",
       "      <th>min</th>\n",
       "      <td>1.000000</td>\n",
       "      <td>3.070000</td>\n",
       "    </tr>\n",
       "    <tr>\n",
       "      <th>25%</th>\n",
       "      <td>2.000000</td>\n",
       "      <td>13.347500</td>\n",
       "    </tr>\n",
       "    <tr>\n",
       "      <th>50%</th>\n",
       "      <td>2.900000</td>\n",
       "      <td>17.795000</td>\n",
       "    </tr>\n",
       "    <tr>\n",
       "      <th>75%</th>\n",
       "      <td>3.562500</td>\n",
       "      <td>24.127500</td>\n",
       "    </tr>\n",
       "    <tr>\n",
       "      <th>max</th>\n",
       "      <td>10.000000</td>\n",
       "      <td>50.810000</td>\n",
       "    </tr>\n",
       "  </tbody>\n",
       "</table>\n",
       "</div>"
      ],
      "text/plain": [
       "              tip  total_bill\n",
       "count  244.000000  244.000000\n",
       "mean     2.998279   19.785943\n",
       "std      1.383638    8.902412\n",
       "min      1.000000    3.070000\n",
       "25%      2.000000   13.347500\n",
       "50%      2.900000   17.795000\n",
       "75%      3.562500   24.127500\n",
       "max     10.000000   50.810000"
      ]
     },
     "execution_count": 3,
     "metadata": {},
     "output_type": "execute_result"
    }
   ],
   "source": [
    "tips['tip total_bill'.split()].describe()"
   ]
  },
  {
   "cell_type": "code",
   "execution_count": 4,
   "metadata": {},
   "outputs": [
    {
     "data": {
      "text/html": [
       "<div>\n",
       "<style scoped>\n",
       "    .dataframe tbody tr th:only-of-type {\n",
       "        vertical-align: middle;\n",
       "    }\n",
       "\n",
       "    .dataframe tbody tr th {\n",
       "        vertical-align: top;\n",
       "    }\n",
       "\n",
       "    .dataframe thead th {\n",
       "        text-align: right;\n",
       "    }\n",
       "</style>\n",
       "<table border=\"1\" class=\"dataframe\">\n",
       "  <thead>\n",
       "    <tr style=\"text-align: right;\">\n",
       "      <th></th>\n",
       "      <th>tip</th>\n",
       "      <th>total_bill</th>\n",
       "      <th>size</th>\n",
       "    </tr>\n",
       "  </thead>\n",
       "  <tbody>\n",
       "    <tr>\n",
       "      <th>tip</th>\n",
       "      <td>1.000000</td>\n",
       "      <td>0.675734</td>\n",
       "      <td>0.489299</td>\n",
       "    </tr>\n",
       "    <tr>\n",
       "      <th>total_bill</th>\n",
       "      <td>0.675734</td>\n",
       "      <td>1.000000</td>\n",
       "      <td>0.598315</td>\n",
       "    </tr>\n",
       "    <tr>\n",
       "      <th>size</th>\n",
       "      <td>0.489299</td>\n",
       "      <td>0.598315</td>\n",
       "      <td>1.000000</td>\n",
       "    </tr>\n",
       "  </tbody>\n",
       "</table>\n",
       "</div>"
      ],
      "text/plain": [
       "                 tip  total_bill      size\n",
       "tip         1.000000    0.675734  0.489299\n",
       "total_bill  0.675734    1.000000  0.598315\n",
       "size        0.489299    0.598315  1.000000"
      ]
     },
     "execution_count": 4,
     "metadata": {},
     "output_type": "execute_result"
    }
   ],
   "source": [
    "tips['tip total_bill size'.split()].corr()"
   ]
  },
  {
   "cell_type": "code",
   "execution_count": 5,
   "metadata": {},
   "outputs": [
    {
     "data": {
      "image/png": "[encoded data removed]",
      "text/plain": [
       "<Figure size 720x720 with 1 Axes>"
      ]
     },
     "metadata": {
      "needs_background": "light"
     },
     "output_type": "display_data"
    }
   ],
   "source": [
    "plt.figure(figsize=(10,10))\n",
    "sns.regplot(x = 'total_bill', y = 'tip', data = tips)\n",
    "plt.show()"
   ]
  },
  {
   "cell_type": "markdown",
   "metadata": {},
   "source": [
    "> ## Simple Linear Regression\n",
    "We start to apply simple linear regression to the dataset:\n",
    "- y : Tips\n",
    "- X : Total Bill"
   ]
  },
  {
   "cell_type": "code",
   "execution_count": 6,
   "metadata": {},
   "outputs": [
    {
     "data": {
      "text/plain": [
       "pandas.core.frame.DataFrame"
      ]
     },
     "execution_count": 6,
     "metadata": {},
     "output_type": "execute_result"
    }
   ],
   "source": [
    "type(tips[['total_bill']])"
   ]
  },
  {
   "cell_type": "code",
   "execution_count": 8,
   "metadata": {},
   "outputs": [],
   "source": [
    "# OLS => LinearRegression\n",
    "# sm.add_constant => nge-fitting si intercept\n",
    "# endog = X, exog = y\n",
    "#             endog    ,    exog \n",
    "sm_lm = OLS(endog = tips['tip'], exog = sm.add_constant(tips[['total_bill']]))\n",
    "result = sm_lm.fit()            "
   ]
  },
  {
   "cell_type": "code",
   "execution_count": 9,
   "metadata": {},
   "outputs": [
    {
     "name": "stdout",
     "output_type": "stream",
     "text": [
      "                            OLS Regression Results                            \n",
      "==============================================================================\n",
      "Dep. Variable:                    tip   R-squared:                       0.457\n",
      "Model:                            OLS   Adj. R-squared:                  0.454\n",
      "Method:                 Least Squares   F-statistic:                     203.4\n",
      "Date:                Sat, 20 Feb 2021   Prob (F-statistic):           6.69e-34\n",
      "Time:                        21:40:40   Log-Likelihood:                -350.54\n",
      "No. Observations:                 244   AIC:                             705.1\n",
      "Df Residuals:                     242   BIC:                             712.1\n",
      "Df Model:                           1                                         \n",
      "Covariance Type:            nonrobust                                         \n",
      "==============================================================================\n",
      "                 coef    std err          t      P>|t|      [0.025      0.975]\n",
      "------------------------------------------------------------------------------\n",
      "const          0.9203      0.160      5.761      0.000       0.606       1.235\n",
      "total_bill     0.1050      0.007     14.260      0.000       0.091       0.120\n",
      "==============================================================================\n",
      "Omnibus:                       20.185   Durbin-Watson:                   2.151\n",
      "Prob(Omnibus):                  0.000   Jarque-Bera (JB):               37.750\n",
      "Skew:                           0.443   Prob(JB):                     6.35e-09\n",
      "Kurtosis:                       4.711   Cond. No.                         53.0\n",
      "==============================================================================\n",
      "\n",
      "Notes:\n",
      "[1] Standard Errors assume that the covariance matrix of the errors is correctly specified.\n"
     ]
    }
   ],
   "source": [
    "print(result.summary())\n",
    "\n",
    "# 20210210-Linear Regression 2 / 2:30:00"
   ]
  },
  {
   "cell_type": "markdown",
   "metadata": {},
   "source": [
    "## Interpretation\n",
    "\n",
    "F-Test:\n",
    "<br>\n",
    "B1 : P-Value of the Simultant test (Prob (F-statistics)) is below 0.05. We have enough evidence that totall bill affect tip that given to the food servers.\n",
    "<br>\n",
    "Partial Test:\n",
    "1. B0 : P-Value of the partial test is below 0.05. B0 is the condition when total bill has value of zero. in this case, it doesn't make sense that if there is people who paid food freely. So, the interpretation is the model still need B0. \n",
    "1. B1 : P-Value of the partial test is below 0.05. With significant level of 5%, we have enough evidence that higher total bill increase tip that given to the food servers\n",
    "\n",
    "Parameter Estimate:\n",
    "1. B0 = 0.9203 : This is not need to be interpreted because there is no people that paid free (x = 0) and 0 also fall outside 3.07 Dollar - 50.81 Dollar interval\n",
    "1. B1 = 0.1050 : When the total bill increase 1 Dollar, the tip will increase about 0.1050 Dollar or When the total bill increase 10 Dollar, the tip will increase about 1.05 Dollar (*This interpretation only recommended when total bill fall between 3.07 Dollar and 50.81 Dollar) \n",
    "1. It is strongly recommended to interprete within the interval of predictor.\n",
    "\n",
    "Coefficient Determination:\n",
    "<br>\n",
    "R-Square = 45.7% : This model can explain 45.7% variation of tips."
   ]
  },
  {
   "attachments": {},
   "cell_type": "markdown",
   "metadata": {},
   "source": [
    "# Python Excercise :  Multiple Linear Regression"
   ]
  },
  {
   "cell_type": "markdown",
   "metadata": {},
   "source": [
    "> ## Table Of Contents\n",
    "\n",
    "![image.png](data:image/png;base64,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)"
   ]
  },
  {
   "cell_type": "markdown",
   "metadata": {},
   "source": [
    ">## Library"
   ]
  },
  {
   "cell_type": "code",
   "execution_count": 10,
   "metadata": {},
   "outputs": [],
   "source": [
    "import statsmodels.api as sm\n",
    "import seaborn as sns\n",
    "from statsmodels.api import OLS\n",
    "import matplotlib.pyplot as plt"
   ]
  },
  {
   "cell_type": "markdown",
   "metadata": {},
   "source": [
    ">## Dataset: Tips Dataset\n",
    "Framing the problem :\n",
    "1. Problem Statements : How migh we predict tips that will be recieved by food servers so we can minimize unfair treatment ?\n",
    "1. Data :\n",
    "  1. Label : Tips\n",
    "  1. Features : Total Bill and Size \n",
    "1. ML Objective : Minimize the appearance of unfair treatment of the food servers, for whom tips are major component of pay.\n",
    "1. Action : Make food servers allocation \n",
    "1. Value : the sake of staff morale"
   ]
  },
  {
   "cell_type": "markdown",
   "metadata": {},
   "source": [
    ">## Data Analysis\n",
    "To Understand Our Data:\n",
    "- descriptive statistics\n",
    "- correlation\n",
    "- graphical summary"
   ]
  },
  {
   "cell_type": "code",
   "execution_count": 11,
   "metadata": {},
   "outputs": [
    {
     "data": {
      "text/html": [
       "<div>\n",
       "<style scoped>\n",
       "    .dataframe tbody tr th:only-of-type {\n",
       "        vertical-align: middle;\n",
       "    }\n",
       "\n",
       "    .dataframe tbody tr th {\n",
       "        vertical-align: top;\n",
       "    }\n",
       "\n",
       "    .dataframe thead th {\n",
       "        text-align: right;\n",
       "    }\n",
       "</style>\n",
       "<table border=\"1\" class=\"dataframe\">\n",
       "  <thead>\n",
       "    <tr style=\"text-align: right;\">\n",
       "      <th></th>\n",
       "      <th>size</th>\n",
       "      <th>total_bill</th>\n",
       "      <th>tip</th>\n",
       "    </tr>\n",
       "  </thead>\n",
       "  <tbody>\n",
       "    <tr>\n",
       "      <th>0</th>\n",
       "      <td>2</td>\n",
       "      <td>16.99</td>\n",
       "      <td>1.01</td>\n",
       "    </tr>\n",
       "    <tr>\n",
       "      <th>1</th>\n",
       "      <td>3</td>\n",
       "      <td>10.34</td>\n",
       "      <td>1.66</td>\n",
       "    </tr>\n",
       "    <tr>\n",
       "      <th>2</th>\n",
       "      <td>3</td>\n",
       "      <td>21.01</td>\n",
       "      <td>3.50</td>\n",
       "    </tr>\n",
       "    <tr>\n",
       "      <th>3</th>\n",
       "      <td>2</td>\n",
       "      <td>23.68</td>\n",
       "      <td>3.31</td>\n",
       "    </tr>\n",
       "    <tr>\n",
       "      <th>4</th>\n",
       "      <td>4</td>\n",
       "      <td>24.59</td>\n",
       "      <td>3.61</td>\n",
       "    </tr>\n",
       "    <tr>\n",
       "      <th>...</th>\n",
       "      <td>...</td>\n",
       "      <td>...</td>\n",
       "      <td>...</td>\n",
       "    </tr>\n",
       "    <tr>\n",
       "      <th>239</th>\n",
       "      <td>3</td>\n",
       "      <td>29.03</td>\n",
       "      <td>5.92</td>\n",
       "    </tr>\n",
       "    <tr>\n",
       "      <th>240</th>\n",
       "      <td>2</td>\n",
       "      <td>27.18</td>\n",
       "      <td>2.00</td>\n",
       "    </tr>\n",
       "    <tr>\n",
       "      <th>241</th>\n",
       "      <td>2</td>\n",
       "      <td>22.67</td>\n",
       "      <td>2.00</td>\n",
       "    </tr>\n",
       "    <tr>\n",
       "      <th>242</th>\n",
       "      <td>2</td>\n",
       "      <td>17.82</td>\n",
       "      <td>1.75</td>\n",
       "    </tr>\n",
       "    <tr>\n",
       "      <th>243</th>\n",
       "      <td>2</td>\n",
       "      <td>18.78</td>\n",
       "      <td>3.00</td>\n",
       "    </tr>\n",
       "  </tbody>\n",
       "</table>\n",
       "<p>244 rows × 3 columns</p>\n",
       "</div>"
      ],
      "text/plain": [
       "     size  total_bill   tip\n",
       "0       2       16.99  1.01\n",
       "1       3       10.34  1.66\n",
       "2       3       21.01  3.50\n",
       "3       2       23.68  3.31\n",
       "4       4       24.59  3.61\n",
       "..    ...         ...   ...\n",
       "239     3       29.03  5.92\n",
       "240     2       27.18  2.00\n",
       "241     2       22.67  2.00\n",
       "242     2       17.82  1.75\n",
       "243     2       18.78  3.00\n",
       "\n",
       "[244 rows x 3 columns]"
      ]
     },
     "execution_count": 11,
     "metadata": {},
     "output_type": "execute_result"
    }
   ],
   "source": [
    "tips2f = tips['size total_bill tip'.split()]\n",
    "tips2f"
   ]
  },
  {
   "cell_type": "code",
   "execution_count": 12,
   "metadata": {},
   "outputs": [
    {
     "data": {
      "text/html": [
       "<div>\n",
       "<style scoped>\n",
       "    .dataframe tbody tr th:only-of-type {\n",
       "        vertical-align: middle;\n",
       "    }\n",
       "\n",
       "    .dataframe tbody tr th {\n",
       "        vertical-align: top;\n",
       "    }\n",
       "\n",
       "    .dataframe thead th {\n",
       "        text-align: right;\n",
       "    }\n",
       "</style>\n",
       "<table border=\"1\" class=\"dataframe\">\n",
       "  <thead>\n",
       "    <tr style=\"text-align: right;\">\n",
       "      <th></th>\n",
       "      <th>size</th>\n",
       "      <th>total_bill</th>\n",
       "      <th>tip</th>\n",
       "    </tr>\n",
       "  </thead>\n",
       "  <tbody>\n",
       "    <tr>\n",
       "      <th>count</th>\n",
       "      <td>244.000000</td>\n",
       "      <td>244.000000</td>\n",
       "      <td>244.000000</td>\n",
       "    </tr>\n",
       "    <tr>\n",
       "      <th>mean</th>\n",
       "      <td>2.569672</td>\n",
       "      <td>19.785943</td>\n",
       "      <td>2.998279</td>\n",
       "    </tr>\n",
       "    <tr>\n",
       "      <th>std</th>\n",
       "      <td>0.951100</td>\n",
       "      <td>8.902412</td>\n",
       "      <td>1.383638</td>\n",
       "    </tr>\n",
       "    <tr>\n",
       "      <th>min</th>\n",
       "      <td>1.000000</td>\n",
       "      <td>3.070000</td>\n",
       "      <td>1.000000</td>\n",
       "    </tr>\n",
       "    <tr>\n",
       "      <th>25%</th>\n",
       "      <td>2.000000</td>\n",
       "      <td>13.347500</td>\n",
       "      <td>2.000000</td>\n",
       "    </tr>\n",
       "    <tr>\n",
       "      <th>50%</th>\n",
       "      <td>2.000000</td>\n",
       "      <td>17.795000</td>\n",
       "      <td>2.900000</td>\n",
       "    </tr>\n",
       "    <tr>\n",
       "      <th>75%</th>\n",
       "      <td>3.000000</td>\n",
       "      <td>24.127500</td>\n",
       "      <td>3.562500</td>\n",
       "    </tr>\n",
       "    <tr>\n",
       "      <th>max</th>\n",
       "      <td>6.000000</td>\n",
       "      <td>50.810000</td>\n",
       "      <td>10.000000</td>\n",
       "    </tr>\n",
       "  </tbody>\n",
       "</table>\n",
       "</div>"
      ],
      "text/plain": [
       "             size  total_bill         tip\n",
       "count  244.000000  244.000000  244.000000\n",
       "mean     2.569672   19.785943    2.998279\n",
       "std      0.951100    8.902412    1.383638\n",
       "min      1.000000    3.070000    1.000000\n",
       "25%      2.000000   13.347500    2.000000\n",
       "50%      2.000000   17.795000    2.900000\n",
       "75%      3.000000   24.127500    3.562500\n",
       "max      6.000000   50.810000   10.000000"
      ]
     },
     "execution_count": 12,
     "metadata": {},
     "output_type": "execute_result"
    }
   ],
   "source": [
    "tips2f.describe()"
   ]
  },
  {
   "cell_type": "code",
   "execution_count": 13,
   "metadata": {},
   "outputs": [
    {
     "data": {
      "text/html": [
       "<div>\n",
       "<style scoped>\n",
       "    .dataframe tbody tr th:only-of-type {\n",
       "        vertical-align: middle;\n",
       "    }\n",
       "\n",
       "    .dataframe tbody tr th {\n",
       "        vertical-align: top;\n",
       "    }\n",
       "\n",
       "    .dataframe thead th {\n",
       "        text-align: right;\n",
       "    }\n",
       "</style>\n",
       "<table border=\"1\" class=\"dataframe\">\n",
       "  <thead>\n",
       "    <tr style=\"text-align: right;\">\n",
       "      <th></th>\n",
       "      <th>size</th>\n",
       "      <th>total_bill</th>\n",
       "      <th>tip</th>\n",
       "    </tr>\n",
       "  </thead>\n",
       "  <tbody>\n",
       "    <tr>\n",
       "      <th>size</th>\n",
       "      <td>1.000000</td>\n",
       "      <td>0.598315</td>\n",
       "      <td>0.489299</td>\n",
       "    </tr>\n",
       "    <tr>\n",
       "      <th>total_bill</th>\n",
       "      <td>0.598315</td>\n",
       "      <td>1.000000</td>\n",
       "      <td>0.675734</td>\n",
       "    </tr>\n",
       "    <tr>\n",
       "      <th>tip</th>\n",
       "      <td>0.489299</td>\n",
       "      <td>0.675734</td>\n",
       "      <td>1.000000</td>\n",
       "    </tr>\n",
       "  </tbody>\n",
       "</table>\n",
       "</div>"
      ],
      "text/plain": [
       "                size  total_bill       tip\n",
       "size        1.000000    0.598315  0.489299\n",
       "total_bill  0.598315    1.000000  0.675734\n",
       "tip         0.489299    0.675734  1.000000"
      ]
     },
     "execution_count": 13,
     "metadata": {},
     "output_type": "execute_result"
    }
   ],
   "source": [
    "tips2f.corr()"
   ]
  },
  {
   "cell_type": "code",
   "execution_count": 14,
   "metadata": {},
   "outputs": [
    {
     "data": {
      "image/png": "[encoded data removed]",
      "text/plain": [
       "<Figure size 540x540 with 12 Axes>"
      ]
     },
     "metadata": {
      "needs_background": "light"
     },
     "output_type": "display_data"
    }
   ],
   "source": [
    "g = sns.PairGrid(tips2f)\n",
    "g.map_diag(plt.hist)\n",
    "g.map_upper(plt.scatter)\n",
    "g.map_lower(sns.kdeplot)\n",
    "plt.show()"
   ]
  },
  {
   "cell_type": "code",
   "execution_count": 15,
   "metadata": {},
   "outputs": [
    {
     "data": {
      "image/png": "[encoded data removed]",
      "text/plain": [
       "<Figure size 540x540 with 12 Axes>"
      ]
     },
     "metadata": {
      "needs_background": "light"
     },
     "output_type": "display_data"
    }
   ],
   "source": [
    "g = sns.PairGrid(tips2f)\n",
    "g.map_diag(plt.hist)\n",
    "g.map_upper(plt.scatter)\n",
    "g.map_lower(plt.scatter)\n",
    "plt.show()"
   ]
  },
  {
   "cell_type": "markdown",
   "metadata": {},
   "source": [
    ">## Multiple Linear Regression"
   ]
  },
  {
   "cell_type": "markdown",
   "metadata": {},
   "source": [
    "We start to apply multiple linear regression to the dataset:\n",
    "- Y : Tips\n",
    "- x : Total Bill and Size"
   ]
  },
  {
   "cell_type": "code",
   "execution_count": 17,
   "metadata": {},
   "outputs": [],
   "source": [
    "sm_lm2f = OLS(tips['tip'], sm.add_constant(tips['total_bill size'.split()]))\n",
    "result2f = sm_lm2f.fit()"
   ]
  },
  {
   "cell_type": "code",
   "execution_count": 18,
   "metadata": {},
   "outputs": [
    {
     "name": "stdout",
     "output_type": "stream",
     "text": [
      "                            OLS Regression Results                            \n",
      "==============================================================================\n",
      "Dep. Variable:                    tip   R-squared:                       0.468\n",
      "Model:                            OLS   Adj. R-squared:                  0.463\n",
      "Method:                 Least Squares   F-statistic:                     105.9\n",
      "Date:                Sat, 20 Feb 2021   Prob (F-statistic):           9.67e-34\n",
      "Time:                        23:23:33   Log-Likelihood:                -347.99\n",
      "No. Observations:                 244   AIC:                             702.0\n",
      "Df Residuals:                     241   BIC:                             712.5\n",
      "Df Model:                           2                                         \n",
      "Covariance Type:            nonrobust                                         \n",
      "==============================================================================\n",
      "                 coef    std err          t      P>|t|      [0.025      0.975]\n",
      "------------------------------------------------------------------------------\n",
      "const          0.6689      0.194      3.455      0.001       0.288       1.050\n",
      "total_bill     0.0927      0.009     10.172      0.000       0.075       0.111\n",
      "size           0.1926      0.085      2.258      0.025       0.025       0.361\n",
      "==============================================================================\n",
      "Omnibus:                       24.753   Durbin-Watson:                   2.100\n",
      "Prob(Omnibus):                  0.000   Jarque-Bera (JB):               46.169\n",
      "Skew:                           0.545   Prob(JB):                     9.43e-11\n",
      "Kurtosis:                       4.831   Cond. No.                         67.6\n",
      "==============================================================================\n",
      "\n",
      "Notes:\n",
      "[1] Standard Errors assume that the covariance matrix of the errors is correctly specified.\n"
     ]
    }
   ],
   "source": [
    "print(result2f.summary())"
   ]
  },
  {
   "cell_type": "markdown",
   "metadata": {},
   "source": [
    "## Interpretation\n",
    "F-Test:\n",
    "<br>\n",
    "B1, B2 : P-Value of the Simultant test is below 0.05. We have enough evidence that minimum either totall bill or size affect tip that given to the food servers.\n",
    "<br>\n",
    "Partial Test:\n",
    "1. B0 : P-Value of the partial test is below 0.05. B0 is the condition when total bill and size of the party has value of zero. in this case, it doesn't make sense that if there are people who paid food freely and size of the party zero. So, the interpretation is the model still need B0. \n",
    "1. B1 : P-Value of the partial test is below 0.05. With significant level of 5%, we have enough evidence that total bill increase tip that given to the food servers\n",
    "1. B2 : P-Value of the partial test is below 0.05. With significant level of 5%, we have enough evidence that size of the party increase tip that given to the food servers\n",
    "\n",
    "Parameter Estimate:\n",
    "1. B0 = 0.689 : This is not meaningfull to be interpreted\n",
    "1. B1 = 0.0927 : When the total bill increase 1 Dollar, the tip will increase about 0.0927 Dollar or When the total bill increase 10 Dollar, the tip will increase about 9.27 cent (*This interpretation only applied when total bill fall between 3.07 Dollar and 50.81 Dollar)\n",
    "1. B2 = 0.1926 : When the size of the party increase 1 person, the tip will increase about 0.1926 Dollar(*This interpretation only applied when size of the party fall between 1 and 6) \n",
    "1. It is strongly recommended to interprete within the interval of predictor and no changes in another variable\n",
    "\n",
    "Coefficient Determination:\n",
    "<br>\n",
    "R-Square adj = 46.3% : This model can explain 46.3% variation of tips.\n",
    "<br>\n",
    "(* by adding size of the party the coefficient determination increase from 45.7% to 46.3%)\n"
   ]
  },
  {
   "cell_type": "code",
   "execution_count": null,
   "metadata": {},
   "outputs": [],
   "source": []
  },
  {
   "cell_type": "code",
   "execution_count": null,
   "metadata": {},
   "outputs": [],
   "source": []
  },
  {
   "cell_type": "code",
   "execution_count": null,
   "metadata": {},
   "outputs": [],
   "source": []
  },
  {
   "cell_type": "code",
   "execution_count": null,
   "metadata": {},
   "outputs": [],
   "source": []
  },
  {
   "cell_type": "code",
   "execution_count": null,
   "metadata": {},
   "outputs": [],
   "source": []
  },
  {
   "cell_type": "code",
   "execution_count": 18,
   "metadata": {},
   "outputs": [],
   "source": [
    "sm_lm2f = OLS(tips['tip'], sm.add_constant(tips['total_bill size'.split()]))\n",
    "result2f = sm_lm2f.fit()"
   ]
  },
  {
   "cell_type": "code",
   "execution_count": null,
   "metadata": {},
   "outputs": [],
   "source": []
  },
  {
   "cell_type": "code",
   "execution_count": null,
   "metadata": {},
   "outputs": [],
   "source": []
  },
  {
   "cell_type": "code",
   "execution_count": null,
   "metadata": {},
   "outputs": [],
   "source": []
  },
  {
   "cell_type": "code",
   "execution_count": null,
   "metadata": {},
   "outputs": [],
   "source": []
  },
  {
   "cell_type": "code",
   "execution_count": null,
   "metadata": {},
   "outputs": [],
   "source": []
  },
  {
   "cell_type": "code",
   "execution_count": null,
   "metadata": {},
   "outputs": [],
   "source": []
  },
  {
   "cell_type": "code",
   "execution_count": 19,
   "metadata": {},
   "outputs": [
    {
     "name": "stdout",
     "output_type": "stream",
     "text": [
      "                            OLS Regression Results                            \n",
      "==============================================================================\n",
      "Dep. Variable:                    tip   R-squared:                       0.468\n",
      "Model:                            OLS   Adj. R-squared:                  0.463\n",
      "Method:                 Least Squares   F-statistic:                     105.9\n",
      "Date:                Wed, 10 Feb 2021   Prob (F-statistic):           9.67e-34\n",
      "Time:                        21:38:33   Log-Likelihood:                -347.99\n",
      "No. Observations:                 244   AIC:                             702.0\n",
      "Df Residuals:                     241   BIC:                             712.5\n",
      "Df Model:                           2                                         \n",
      "Covariance Type:            nonrobust                                         \n",
      "==============================================================================\n",
      "                 coef    std err          t      P>|t|      [0.025      0.975]\n",
      "------------------------------------------------------------------------------\n",
      "const          0.6689      0.194      3.455      0.001       0.288       1.050\n",
      "total_bill     0.0927      0.009     10.172      0.000       0.075       0.111\n",
      "size           0.1926      0.085      2.258      0.025       0.025       0.361\n",
      "==============================================================================\n",
      "Omnibus:                       24.753   Durbin-Watson:                   2.100\n",
      "Prob(Omnibus):                  0.000   Jarque-Bera (JB):               46.169\n",
      "Skew:                           0.545   Prob(JB):                     9.43e-11\n",
      "Kurtosis:                       4.831   Cond. No.                         67.6\n",
      "==============================================================================\n",
      "\n",
      "Notes:\n",
      "[1] Standard Errors assume that the covariance matrix of the errors is correctly specified.\n"
     ]
    }
   ],
   "source": [
    "print(result2f.summary())"
   ]
  },
  {
   "cell_type": "code",
   "execution_count": null,
   "metadata": {},
   "outputs": [],
   "source": []
  },
  {
   "cell_type": "code",
   "execution_count": 7,
   "metadata": {},
   "outputs": [
    {
     "data": {
      "text/html": [
       "<div>\n",
       "<style scoped>\n",
       "    .dataframe tbody tr th:only-of-type {\n",
       "        vertical-align: middle;\n",
       "    }\n",
       "\n",
       "    .dataframe tbody tr th {\n",
       "        vertical-align: top;\n",
       "    }\n",
       "\n",
       "    .dataframe thead th {\n",
       "        text-align: right;\n",
       "    }\n",
       "</style>\n",
       "<table border=\"1\" class=\"dataframe\">\n",
       "  <thead>\n",
       "    <tr style=\"text-align: right;\">\n",
       "      <th></th>\n",
       "      <th>Gender</th>\n",
       "      <th>City</th>\n",
       "      <th>Age</th>\n",
       "      <th>Income</th>\n",
       "    </tr>\n",
       "  </thead>\n",
       "  <tbody>\n",
       "    <tr>\n",
       "      <th>0</th>\n",
       "      <td>Male</td>\n",
       "      <td>Jakarta</td>\n",
       "      <td>34</td>\n",
       "      <td>20000000</td>\n",
       "    </tr>\n",
       "    <tr>\n",
       "      <th>1</th>\n",
       "      <td>Female</td>\n",
       "      <td>Bogor</td>\n",
       "      <td>28</td>\n",
       "      <td>15000000</td>\n",
       "    </tr>\n",
       "    <tr>\n",
       "      <th>2</th>\n",
       "      <td>Female</td>\n",
       "      <td>Bogor</td>\n",
       "      <td>23</td>\n",
       "      <td>7000000</td>\n",
       "    </tr>\n",
       "    <tr>\n",
       "      <th>3</th>\n",
       "      <td>Male</td>\n",
       "      <td>Bekasi</td>\n",
       "      <td>26</td>\n",
       "      <td>9000000</td>\n",
       "    </tr>\n",
       "    <tr>\n",
       "      <th>4</th>\n",
       "      <td>Female</td>\n",
       "      <td>Bekasi</td>\n",
       "      <td>29</td>\n",
       "      <td>12000000</td>\n",
       "    </tr>\n",
       "    <tr>\n",
       "      <th>5</th>\n",
       "      <td>Female</td>\n",
       "      <td>Jakarta</td>\n",
       "      <td>25</td>\n",
       "      <td>11000000</td>\n",
       "    </tr>\n",
       "    <tr>\n",
       "      <th>6</th>\n",
       "      <td>Male</td>\n",
       "      <td>Bekasi</td>\n",
       "      <td>25</td>\n",
       "      <td>9000000</td>\n",
       "    </tr>\n",
       "  </tbody>\n",
       "</table>\n",
       "</div>"
      ],
      "text/plain": [
       "   Gender     City  Age    Income\n",
       "0    Male  Jakarta   34  20000000\n",
       "1  Female    Bogor   28  15000000\n",
       "2  Female    Bogor   23   7000000\n",
       "3    Male   Bekasi   26   9000000\n",
       "4  Female   Bekasi   29  12000000\n",
       "5  Female  Jakarta   25  11000000\n",
       "6    Male   Bekasi   25   9000000"
      ]
     },
     "execution_count": 7,
     "metadata": {},
     "output_type": "execute_result"
    }
   ],
   "source": [
    "df_categorical = pd.DataFrame({\n",
    "    'Gender':['Male','Female','Female','Male','Female','Female','Male'],\n",
    "    'City':['Jakarta','Bogor','Bogor','Bekasi','Bekasi','Jakarta','Bekasi'],\n",
    "    'Age':[34,28,23,26,29,25,25],\n",
    "    'Income': [20000000,15000000,7000000,9000000,12000000,11000000,9000000]\n",
    "})\n",
    "df_categorical"
   ]
  },
  {
   "cell_type": "code",
   "execution_count": 8,
   "metadata": {},
   "outputs": [
    {
     "data": {
      "text/html": [
       "<div>\n",
       "<style scoped>\n",
       "    .dataframe tbody tr th:only-of-type {\n",
       "        vertical-align: middle;\n",
       "    }\n",
       "\n",
       "    .dataframe tbody tr th {\n",
       "        vertical-align: top;\n",
       "    }\n",
       "\n",
       "    .dataframe thead th {\n",
       "        text-align: right;\n",
       "    }\n",
       "</style>\n",
       "<table border=\"1\" class=\"dataframe\">\n",
       "  <thead>\n",
       "    <tr style=\"text-align: right;\">\n",
       "      <th></th>\n",
       "      <th>Age</th>\n",
       "      <th>Income</th>\n",
       "      <th>Gender_Male</th>\n",
       "      <th>City_Bogor</th>\n",
       "      <th>City_Jakarta</th>\n",
       "    </tr>\n",
       "  </thead>\n",
       "  <tbody>\n",
       "    <tr>\n",
       "      <th>0</th>\n",
       "      <td>34</td>\n",
       "      <td>20000000</td>\n",
       "      <td>1</td>\n",
       "      <td>0</td>\n",
       "      <td>1</td>\n",
       "    </tr>\n",
       "    <tr>\n",
       "      <th>1</th>\n",
       "      <td>28</td>\n",
       "      <td>15000000</td>\n",
       "      <td>0</td>\n",
       "      <td>1</td>\n",
       "      <td>0</td>\n",
       "    </tr>\n",
       "    <tr>\n",
       "      <th>2</th>\n",
       "      <td>23</td>\n",
       "      <td>7000000</td>\n",
       "      <td>0</td>\n",
       "      <td>1</td>\n",
       "      <td>0</td>\n",
       "    </tr>\n",
       "    <tr>\n",
       "      <th>3</th>\n",
       "      <td>26</td>\n",
       "      <td>9000000</td>\n",
       "      <td>1</td>\n",
       "      <td>0</td>\n",
       "      <td>0</td>\n",
       "    </tr>\n",
       "    <tr>\n",
       "      <th>4</th>\n",
       "      <td>29</td>\n",
       "      <td>12000000</td>\n",
       "      <td>0</td>\n",
       "      <td>0</td>\n",
       "      <td>0</td>\n",
       "    </tr>\n",
       "    <tr>\n",
       "      <th>5</th>\n",
       "      <td>25</td>\n",
       "      <td>11000000</td>\n",
       "      <td>0</td>\n",
       "      <td>0</td>\n",
       "      <td>1</td>\n",
       "    </tr>\n",
       "    <tr>\n",
       "      <th>6</th>\n",
       "      <td>25</td>\n",
       "      <td>9000000</td>\n",
       "      <td>1</td>\n",
       "      <td>0</td>\n",
       "      <td>0</td>\n",
       "    </tr>\n",
       "  </tbody>\n",
       "</table>\n",
       "</div>"
      ],
      "text/plain": [
       "   Age    Income  Gender_Male  City_Bogor  City_Jakarta\n",
       "0   34  20000000            1           0             1\n",
       "1   28  15000000            0           1             0\n",
       "2   23   7000000            0           1             0\n",
       "3   26   9000000            1           0             0\n",
       "4   29  12000000            0           0             0\n",
       "5   25  11000000            0           0             1\n",
       "6   25   9000000            1           0             0"
      ]
     },
     "execution_count": 8,
     "metadata": {},
     "output_type": "execute_result"
    }
   ],
   "source": [
    "#                     positional argument  keyword_argument\n",
    "df_dummy = pd.get_dummies(df_categorical, drop_first=True)\n",
    "df_dummy"
   ]
  },
  {
   "cell_type": "code",
   "execution_count": 9,
   "metadata": {},
   "outputs": [],
   "source": [
    "sm_lm_dum = OLS(df_dummy['Income'], sm.add_constant(df_dummy.drop('Income', axis=1)))\n",
    "result_dum = sm_lm_dum.fit()"
   ]
  },
  {
   "cell_type": "code",
   "execution_count": 11,
   "metadata": {},
   "outputs": [
    {
     "name": "stdout",
     "output_type": "stream",
     "text": [
      "                            OLS Regression Results                            \n",
      "==============================================================================\n",
      "Dep. Variable:                 Income   R-squared:                       0.961\n",
      "Model:                            OLS   Adj. R-squared:                  0.882\n",
      "Method:                 Least Squares   F-statistic:                     12.20\n",
      "Date:                Thu, 11 Feb 2021   Prob (F-statistic):             0.0772\n",
      "Time:                        21:01:34   Log-Likelihood:                -105.17\n",
      "No. Observations:                   7   AIC:                             220.3\n",
      "Df Residuals:                       2   BIC:                             220.1\n",
      "Df Model:                           4                                         \n",
      "Covariance Type:            nonrobust                                         \n",
      "================================================================================\n",
      "                   coef    std err          t      P>|t|      [0.025      0.975]\n",
      "--------------------------------------------------------------------------------\n",
      "const        -1.916e+07   5.24e+06     -3.657      0.067   -4.17e+07    3.38e+06\n",
      "Age            1.09e+06      2e+05      5.459      0.032    2.31e+05    1.95e+06\n",
      "Gender_Male   1.177e+05   1.45e+06      0.081      0.943   -6.13e+06    6.37e+06\n",
      "City_Bogor    2.351e+06   1.67e+06      1.407      0.295   -4.84e+06    9.54e+06\n",
      "City_Jakarta   2.43e+06   1.54e+06      1.580      0.255   -4.19e+06    9.05e+06\n",
      "==============================================================================\n",
      "Omnibus:                          nan   Durbin-Watson:                   2.485\n",
      "Prob(Omnibus):                    nan   Jarque-Bera (JB):                0.354\n",
      "Skew:                           0.091   Prob(JB):                        0.838\n",
      "Kurtosis:                       1.914   Cond. No.                         252.\n",
      "==============================================================================\n",
      "\n",
      "Notes:\n",
      "[1] Standard Errors assume that the covariance matrix of the errors is correctly specified.\n"
     ]
    },
    {
     "name": "stderr",
     "output_type": "stream",
     "text": [
      "C:\\ProgramData\\miniconda3\\envs\\ml_dl\\lib\\site-packages\\statsmodels\\stats\\stattools.py:75: ValueWarning: omni_normtest is not valid with less than 8 observations; 7 samples were given.\n",
      "  \"samples were given.\" % int(n), ValueWarning)\n"
     ]
    }
   ],
   "source": [
    "print(result_dum.summary())"
   ]
  },
  {
   "cell_type": "markdown",
   "metadata": {},
   "source": [
    ">## Dummy Variable Preprocessing\n",
    "We need to do dummy variable preprocessing for the categorical variable such as sex, smoker, day and time"
   ]
  },
  {
   "cell_type": "code",
   "execution_count": 12,
   "metadata": {},
   "outputs": [
    {
     "data": {
      "text/html": [
       "<div>\n",
       "<style scoped>\n",
       "    .dataframe tbody tr th:only-of-type {\n",
       "        vertical-align: middle;\n",
       "    }\n",
       "\n",
       "    .dataframe tbody tr th {\n",
       "        vertical-align: top;\n",
       "    }\n",
       "\n",
       "    .dataframe thead th {\n",
       "        text-align: right;\n",
       "    }\n",
       "</style>\n",
       "<table border=\"1\" class=\"dataframe\">\n",
       "  <thead>\n",
       "    <tr style=\"text-align: right;\">\n",
       "      <th></th>\n",
       "      <th>total_bill</th>\n",
       "      <th>tip</th>\n",
       "      <th>sex</th>\n",
       "      <th>smoker</th>\n",
       "      <th>day</th>\n",
       "      <th>time</th>\n",
       "      <th>size</th>\n",
       "    </tr>\n",
       "  </thead>\n",
       "  <tbody>\n",
       "    <tr>\n",
       "      <th>0</th>\n",
       "      <td>16.99</td>\n",
       "      <td>1.01</td>\n",
       "      <td>Female</td>\n",
       "      <td>No</td>\n",
       "      <td>Sun</td>\n",
       "      <td>Dinner</td>\n",
       "      <td>2</td>\n",
       "    </tr>\n",
       "    <tr>\n",
       "      <th>1</th>\n",
       "      <td>10.34</td>\n",
       "      <td>1.66</td>\n",
       "      <td>Male</td>\n",
       "      <td>No</td>\n",
       "      <td>Sun</td>\n",
       "      <td>Dinner</td>\n",
       "      <td>3</td>\n",
       "    </tr>\n",
       "    <tr>\n",
       "      <th>2</th>\n",
       "      <td>21.01</td>\n",
       "      <td>3.50</td>\n",
       "      <td>Male</td>\n",
       "      <td>No</td>\n",
       "      <td>Sun</td>\n",
       "      <td>Dinner</td>\n",
       "      <td>3</td>\n",
       "    </tr>\n",
       "    <tr>\n",
       "      <th>3</th>\n",
       "      <td>23.68</td>\n",
       "      <td>3.31</td>\n",
       "      <td>Male</td>\n",
       "      <td>No</td>\n",
       "      <td>Sun</td>\n",
       "      <td>Dinner</td>\n",
       "      <td>2</td>\n",
       "    </tr>\n",
       "    <tr>\n",
       "      <th>4</th>\n",
       "      <td>24.59</td>\n",
       "      <td>3.61</td>\n",
       "      <td>Female</td>\n",
       "      <td>No</td>\n",
       "      <td>Sun</td>\n",
       "      <td>Dinner</td>\n",
       "      <td>4</td>\n",
       "    </tr>\n",
       "    <tr>\n",
       "      <th>...</th>\n",
       "      <td>...</td>\n",
       "      <td>...</td>\n",
       "      <td>...</td>\n",
       "      <td>...</td>\n",
       "      <td>...</td>\n",
       "      <td>...</td>\n",
       "      <td>...</td>\n",
       "    </tr>\n",
       "    <tr>\n",
       "      <th>239</th>\n",
       "      <td>29.03</td>\n",
       "      <td>5.92</td>\n",
       "      <td>Male</td>\n",
       "      <td>No</td>\n",
       "      <td>Sat</td>\n",
       "      <td>Dinner</td>\n",
       "      <td>3</td>\n",
       "    </tr>\n",
       "    <tr>\n",
       "      <th>240</th>\n",
       "      <td>27.18</td>\n",
       "      <td>2.00</td>\n",
       "      <td>Female</td>\n",
       "      <td>Yes</td>\n",
       "      <td>Sat</td>\n",
       "      <td>Dinner</td>\n",
       "      <td>2</td>\n",
       "    </tr>\n",
       "    <tr>\n",
       "      <th>241</th>\n",
       "      <td>22.67</td>\n",
       "      <td>2.00</td>\n",
       "      <td>Male</td>\n",
       "      <td>Yes</td>\n",
       "      <td>Sat</td>\n",
       "      <td>Dinner</td>\n",
       "      <td>2</td>\n",
       "    </tr>\n",
       "    <tr>\n",
       "      <th>242</th>\n",
       "      <td>17.82</td>\n",
       "      <td>1.75</td>\n",
       "      <td>Male</td>\n",
       "      <td>No</td>\n",
       "      <td>Sat</td>\n",
       "      <td>Dinner</td>\n",
       "      <td>2</td>\n",
       "    </tr>\n",
       "    <tr>\n",
       "      <th>243</th>\n",
       "      <td>18.78</td>\n",
       "      <td>3.00</td>\n",
       "      <td>Female</td>\n",
       "      <td>No</td>\n",
       "      <td>Thur</td>\n",
       "      <td>Dinner</td>\n",
       "      <td>2</td>\n",
       "    </tr>\n",
       "  </tbody>\n",
       "</table>\n",
       "<p>244 rows × 7 columns</p>\n",
       "</div>"
      ],
      "text/plain": [
       "     total_bill   tip     sex smoker   day    time  size\n",
       "0         16.99  1.01  Female     No   Sun  Dinner     2\n",
       "1         10.34  1.66    Male     No   Sun  Dinner     3\n",
       "2         21.01  3.50    Male     No   Sun  Dinner     3\n",
       "3         23.68  3.31    Male     No   Sun  Dinner     2\n",
       "4         24.59  3.61  Female     No   Sun  Dinner     4\n",
       "..          ...   ...     ...    ...   ...     ...   ...\n",
       "239       29.03  5.92    Male     No   Sat  Dinner     3\n",
       "240       27.18  2.00  Female    Yes   Sat  Dinner     2\n",
       "241       22.67  2.00    Male    Yes   Sat  Dinner     2\n",
       "242       17.82  1.75    Male     No   Sat  Dinner     2\n",
       "243       18.78  3.00  Female     No  Thur  Dinner     2\n",
       "\n",
       "[244 rows x 7 columns]"
      ]
     },
     "execution_count": 12,
     "metadata": {},
     "output_type": "execute_result"
    }
   ],
   "source": [
    "tips"
   ]
  },
  {
   "cell_type": "code",
   "execution_count": 5,
   "metadata": {},
   "outputs": [
    {
     "ename": "NameError",
     "evalue": "name 'pd' is not defined",
     "output_type": "error",
     "traceback": [
      "\u001b[1;31m---------------------------------------------------------------------------\u001b[0m",
      "\u001b[1;31mNameError\u001b[0m                                 Traceback (most recent call last)",
      "\u001b[1;32m<ipython-input-5-08b1ea0280b4>\u001b[0m in \u001b[0;36m<module>\u001b[1;34m\u001b[0m\n\u001b[1;32m----> 1\u001b[1;33m \u001b[0mtips_dummy\u001b[0m \u001b[1;33m=\u001b[0m \u001b[0mpd\u001b[0m\u001b[1;33m.\u001b[0m\u001b[0mget_dummies\u001b[0m\u001b[1;33m(\u001b[0m\u001b[0mtips\u001b[0m\u001b[1;33m,\u001b[0m \u001b[0mdrop_first\u001b[0m\u001b[1;33m=\u001b[0m\u001b[1;32mTrue\u001b[0m\u001b[1;33m,\u001b[0m \u001b[0mcolumns\u001b[0m\u001b[1;33m=\u001b[0m\u001b[1;34m'sex smoker day time'\u001b[0m\u001b[1;33m.\u001b[0m\u001b[0msplit\u001b[0m\u001b[1;33m(\u001b[0m\u001b[1;33m)\u001b[0m\u001b[1;33m)\u001b[0m\u001b[1;33m\u001b[0m\u001b[1;33m\u001b[0m\u001b[0m\n\u001b[0m\u001b[0;32m      2\u001b[0m \u001b[0mtips_dummy\u001b[0m\u001b[1;33m\u001b[0m\u001b[1;33m\u001b[0m\u001b[0m\n",
      "\u001b[1;31mNameError\u001b[0m: name 'pd' is not defined"
     ]
    }
   ],
   "source": [
    "tips_dummy = pd.get_dummies(tips, drop_first=True, columns='sex smoker day time'.split())\n",
    "tips_dummy"
   ]
  },
  {
   "cell_type": "code",
   "execution_count": 16,
   "metadata": {},
   "outputs": [],
   "source": [
    "fitur = tips_dummy.drop('tip', axis=1).columns\n",
    "target = 'tip'\n",
    "\n",
    "sm_lm_tip = OLS(tips_dummy[target], sm.add_constant(tips_dummy[fitur]))\n",
    "result_tip_dum = sm_lm_tip.fit()"
   ]
  },
  {
   "cell_type": "code",
   "execution_count": 17,
   "metadata": {},
   "outputs": [
    {
     "name": "stdout",
     "output_type": "stream",
     "text": [
      "                            OLS Regression Results                            \n",
      "==============================================================================\n",
      "Dep. Variable:                    tip   R-squared:                       0.470\n",
      "Model:                            OLS   Adj. R-squared:                  0.452\n",
      "Method:                 Least Squares   F-statistic:                     26.06\n",
      "Date:                Thu, 11 Feb 2021   Prob (F-statistic):           1.20e-28\n",
      "Time:                        21:08:21   Log-Likelihood:                -347.48\n",
      "No. Observations:                 244   AIC:                             713.0\n",
      "Df Residuals:                     235   BIC:                             744.4\n",
      "Df Model:                           8                                         \n",
      "Covariance Type:            nonrobust                                         \n",
      "===============================================================================\n",
      "                  coef    std err          t      P>|t|      [0.025      0.975]\n",
      "-------------------------------------------------------------------------------\n",
      "const           0.5908      0.256      2.310      0.022       0.087       1.095\n",
      "total_bill      0.0945      0.010      9.841      0.000       0.076       0.113\n",
      "size            0.1760      0.090      1.966      0.051      -0.000       0.352\n",
      "sex_Female      0.0324      0.142      0.229      0.819      -0.247       0.311\n",
      "smoker_No       0.0864      0.147      0.589      0.556      -0.202       0.375\n",
      "day_Fri         0.1623      0.393      0.412      0.680      -0.613       0.937\n",
      "day_Sat         0.0408      0.471      0.087      0.931      -0.886       0.968\n",
      "day_Sun         0.1368      0.472      0.290      0.772      -0.793       1.066\n",
      "time_Dinner    -0.0681      0.445     -0.153      0.878      -0.944       0.808\n",
      "==============================================================================\n",
      "Omnibus:                       27.860   Durbin-Watson:                   2.096\n",
      "Prob(Omnibus):                  0.000   Jarque-Bera (JB):               52.555\n",
      "Skew:                           0.607   Prob(JB):                     3.87e-12\n",
      "Kurtosis:                       4.923   Cond. No.                         281.\n",
      "==============================================================================\n",
      "\n",
      "Notes:\n",
      "[1] Standard Errors assume that the covariance matrix of the errors is correctly specified.\n"
     ]
    }
   ],
   "source": [
    "print(result_tip_dum.summary())"
   ]
  },
  {
   "cell_type": "code",
   "execution_count": null,
   "metadata": {},
   "outputs": [],
   "source": [
    "plt.figure(figsize=(10,10))\n",
    "sns.set_context('notebook', font_scale=2)"
   ]
  },
  {
   "cell_type": "code",
   "execution_count": 18,
   "metadata": {},
   "outputs": [
    {
     "data": {
      "image/png": "[encoded data removed]",
      "text/plain": [
       "<Figure size 432x288 with 1 Axes>"
      ]
     },
     "metadata": {
      "needs_background": "light"
     },
     "output_type": "display_data"
    }
   ],
   "source": [
    "sm.qqplot(result_tip_dum.resid, line='45')\n",
    "plt.show()"
   ]
  },
  {
   "cell_type": "code",
   "execution_count": 19,
   "metadata": {},
   "outputs": [
    {
     "ename": "NameError",
     "evalue": "name 'stats' is not defined",
     "output_type": "error",
     "traceback": [
      "\u001b[1;31m---------------------------------------------------------------------------\u001b[0m",
      "\u001b[1;31mNameError\u001b[0m                                 Traceback (most recent call last)",
      "\u001b[1;32m<ipython-input-19-6422e276b5d4>\u001b[0m in \u001b[0;36m<module>\u001b[1;34m\u001b[0m\n\u001b[1;32m----> 1\u001b[1;33m \u001b[0ms\u001b[0m\u001b[1;33m,\u001b[0m \u001b[0mp\u001b[0m \u001b[1;33m=\u001b[0m \u001b[0mstats\u001b[0m\u001b[1;33m.\u001b[0m\u001b[0mshapiro\u001b[0m\u001b[1;33m(\u001b[0m\u001b[0mresult_tip_dum\u001b[0m\u001b[1;33m.\u001b[0m\u001b[0mresid\u001b[0m\u001b[1;33m)\u001b[0m\u001b[1;33m\u001b[0m\u001b[1;33m\u001b[0m\u001b[0m\n\u001b[0m\u001b[0;32m      2\u001b[0m \u001b[1;33m\u001b[0m\u001b[0m\n\u001b[0;32m      3\u001b[0m \u001b[1;32mif\u001b[0m \u001b[0mp\u001b[0m \u001b[1;33m<\u001b[0m \u001b[1;36m0.05\u001b[0m\u001b[1;33m:\u001b[0m\u001b[1;33m\u001b[0m\u001b[1;33m\u001b[0m\u001b[0m\n\u001b[0;32m      4\u001b[0m     \u001b[0mprint\u001b[0m\u001b[1;33m(\u001b[0m\u001b[1;34m'Not Normal'\u001b[0m\u001b[1;33m)\u001b[0m\u001b[1;33m\u001b[0m\u001b[1;33m\u001b[0m\u001b[0m\n\u001b[0;32m      5\u001b[0m \u001b[1;32melse\u001b[0m\u001b[1;33m:\u001b[0m\u001b[1;33m\u001b[0m\u001b[1;33m\u001b[0m\u001b[0m\n",
      "\u001b[1;31mNameError\u001b[0m: name 'stats' is not defined"
     ]
    }
   ],
   "source": [
    "s, p = stats.shapiro(result_tip_dum.resid)\n",
    "\n",
    "if p < 0.05:\n",
    "    print('Not Normal')\n",
    "else:\n",
    "    print('Normal')"
   ]
  },
  {
   "cell_type": "code",
   "execution_count": null,
   "metadata": {},
   "outputs": [],
   "source": [
    "plt.figure(figsize=(10,10))\n",
    "sns.set_context('notebook', font_scale=2)\n",
    "sns.scatterplot(result_tip_dum.fittedvalues, result_tip_dum.resid)\n",
    "sns.lineplot(result_tip_dum.fittedvalues, 0)\n",
    "plt.xlabel('Fitted Values')"
   ]
  },
  {
   "cell_type": "markdown",
   "metadata": {},
   "source": [
    "### Contoh prediksi linear regression"
   ]
  },
  {
   "cell_type": "code",
   "execution_count": 4,
   "metadata": {},
   "outputs": [],
   "source": [
    "from sklearn.linear_model import LinearRegression\n",
    "from sklearn.metrics import r2_score, mean_squared_error"
   ]
  },
  {
   "cell_type": "markdown",
   "metadata": {},
   "source": [
    "# Logistic Regression"
   ]
  },
  {
   "cell_type": "code",
   "execution_count": 2,
   "metadata": {},
   "outputs": [
    {
     "data": {
      "text/html": [
       "<div>\n",
       "<style scoped>\n",
       "    .dataframe tbody tr th:only-of-type {\n",
       "        vertical-align: middle;\n",
       "    }\n",
       "\n",
       "    .dataframe tbody tr th {\n",
       "        vertical-align: top;\n",
       "    }\n",
       "\n",
       "    .dataframe thead th {\n",
       "        text-align: right;\n",
       "    }\n",
       "</style>\n",
       "<table border=\"1\" class=\"dataframe\">\n",
       "  <thead>\n",
       "    <tr style=\"text-align: right;\">\n",
       "      <th></th>\n",
       "      <th>age</th>\n",
       "      <th>ed</th>\n",
       "      <th>employ</th>\n",
       "      <th>address</th>\n",
       "      <th>income</th>\n",
       "      <th>debtinc</th>\n",
       "      <th>creddebt</th>\n",
       "      <th>othdebt</th>\n",
       "      <th>default</th>\n",
       "    </tr>\n",
       "  </thead>\n",
       "  <tbody>\n",
       "    <tr>\n",
       "      <th>0</th>\n",
       "      <td>41</td>\n",
       "      <td>3</td>\n",
       "      <td>17</td>\n",
       "      <td>12</td>\n",
       "      <td>176</td>\n",
       "      <td>9.3</td>\n",
       "      <td>11.359392</td>\n",
       "      <td>5.008608</td>\n",
       "      <td>1</td>\n",
       "    </tr>\n",
       "    <tr>\n",
       "      <th>1</th>\n",
       "      <td>27</td>\n",
       "      <td>1</td>\n",
       "      <td>10</td>\n",
       "      <td>6</td>\n",
       "      <td>31</td>\n",
       "      <td>17.3</td>\n",
       "      <td>1.362202</td>\n",
       "      <td>4.000798</td>\n",
       "      <td>0</td>\n",
       "    </tr>\n",
       "    <tr>\n",
       "      <th>2</th>\n",
       "      <td>40</td>\n",
       "      <td>1</td>\n",
       "      <td>15</td>\n",
       "      <td>14</td>\n",
       "      <td>55</td>\n",
       "      <td>5.5</td>\n",
       "      <td>0.856075</td>\n",
       "      <td>2.168925</td>\n",
       "      <td>0</td>\n",
       "    </tr>\n",
       "    <tr>\n",
       "      <th>3</th>\n",
       "      <td>41</td>\n",
       "      <td>1</td>\n",
       "      <td>15</td>\n",
       "      <td>14</td>\n",
       "      <td>120</td>\n",
       "      <td>2.9</td>\n",
       "      <td>2.658720</td>\n",
       "      <td>0.821280</td>\n",
       "      <td>0</td>\n",
       "    </tr>\n",
       "    <tr>\n",
       "      <th>4</th>\n",
       "      <td>24</td>\n",
       "      <td>2</td>\n",
       "      <td>2</td>\n",
       "      <td>0</td>\n",
       "      <td>28</td>\n",
       "      <td>17.3</td>\n",
       "      <td>1.787436</td>\n",
       "      <td>3.056564</td>\n",
       "      <td>1</td>\n",
       "    </tr>\n",
       "  </tbody>\n",
       "</table>\n",
       "</div>"
      ],
      "text/plain": [
       "   age  ed  employ  address  income  debtinc   creddebt   othdebt  default\n",
       "0   41   3      17       12     176      9.3  11.359392  5.008608        1\n",
       "1   27   1      10        6      31     17.3   1.362202  4.000798        0\n",
       "2   40   1      15       14      55      5.5   0.856075  2.168925        0\n",
       "3   41   1      15       14     120      2.9   2.658720  0.821280        0\n",
       "4   24   2       2        0      28     17.3   1.787436  3.056564        1"
      ]
     },
     "execution_count": 2,
     "metadata": {},
     "output_type": "execute_result"
    }
   ],
   "source": [
    "df = pd.read_csv('data/Data/bankloan.csv')\n",
    "df.head()"
   ]
  },
  {
   "cell_type": "code",
   "execution_count": 3,
   "metadata": {},
   "outputs": [],
   "source": [
    "features = ['employ', 'debtinc', 'creddebt', 'othdebt']\n",
    "target = ['default']"
   ]
  },
  {
   "cell_type": "code",
   "execution_count": 4,
   "metadata": {},
   "outputs": [],
   "source": [
    "X = df[features]\n",
    "y = df[target]"
   ]
  },
  {
   "cell_type": "code",
   "execution_count": 5,
   "metadata": {},
   "outputs": [
    {
     "data": {
      "text/html": [
       "<div>\n",
       "<style scoped>\n",
       "    .dataframe tbody tr th:only-of-type {\n",
       "        vertical-align: middle;\n",
       "    }\n",
       "\n",
       "    .dataframe tbody tr th {\n",
       "        vertical-align: top;\n",
       "    }\n",
       "\n",
       "    .dataframe thead th {\n",
       "        text-align: right;\n",
       "    }\n",
       "</style>\n",
       "<table border=\"1\" class=\"dataframe\">\n",
       "  <thead>\n",
       "    <tr style=\"text-align: right;\">\n",
       "      <th></th>\n",
       "      <th>employ</th>\n",
       "      <th>debtinc</th>\n",
       "      <th>creddebt</th>\n",
       "      <th>othdebt</th>\n",
       "    </tr>\n",
       "  </thead>\n",
       "  <tbody>\n",
       "    <tr>\n",
       "      <th>count</th>\n",
       "      <td>700.000000</td>\n",
       "      <td>700.000000</td>\n",
       "      <td>700.000000</td>\n",
       "      <td>700.000000</td>\n",
       "    </tr>\n",
       "    <tr>\n",
       "      <th>mean</th>\n",
       "      <td>8.388571</td>\n",
       "      <td>10.260571</td>\n",
       "      <td>1.553553</td>\n",
       "      <td>3.058209</td>\n",
       "    </tr>\n",
       "    <tr>\n",
       "      <th>std</th>\n",
       "      <td>6.658039</td>\n",
       "      <td>6.827234</td>\n",
       "      <td>2.117197</td>\n",
       "      <td>3.287555</td>\n",
       "    </tr>\n",
       "    <tr>\n",
       "      <th>min</th>\n",
       "      <td>0.000000</td>\n",
       "      <td>0.400000</td>\n",
       "      <td>0.011696</td>\n",
       "      <td>0.045584</td>\n",
       "    </tr>\n",
       "    <tr>\n",
       "      <th>25%</th>\n",
       "      <td>3.000000</td>\n",
       "      <td>5.000000</td>\n",
       "      <td>0.369059</td>\n",
       "      <td>1.044178</td>\n",
       "    </tr>\n",
       "    <tr>\n",
       "      <th>50%</th>\n",
       "      <td>7.000000</td>\n",
       "      <td>8.600000</td>\n",
       "      <td>0.854869</td>\n",
       "      <td>1.987567</td>\n",
       "    </tr>\n",
       "    <tr>\n",
       "      <th>75%</th>\n",
       "      <td>12.000000</td>\n",
       "      <td>14.125000</td>\n",
       "      <td>1.901955</td>\n",
       "      <td>3.923065</td>\n",
       "    </tr>\n",
       "    <tr>\n",
       "      <th>max</th>\n",
       "      <td>31.000000</td>\n",
       "      <td>41.300000</td>\n",
       "      <td>20.561310</td>\n",
       "      <td>27.033600</td>\n",
       "    </tr>\n",
       "  </tbody>\n",
       "</table>\n",
       "</div>"
      ],
      "text/plain": [
       "           employ     debtinc    creddebt     othdebt\n",
       "count  700.000000  700.000000  700.000000  700.000000\n",
       "mean     8.388571   10.260571    1.553553    3.058209\n",
       "std      6.658039    6.827234    2.117197    3.287555\n",
       "min      0.000000    0.400000    0.011696    0.045584\n",
       "25%      3.000000    5.000000    0.369059    1.044178\n",
       "50%      7.000000    8.600000    0.854869    1.987567\n",
       "75%     12.000000   14.125000    1.901955    3.923065\n",
       "max     31.000000   41.300000   20.561310   27.033600"
      ]
     },
     "execution_count": 5,
     "metadata": {},
     "output_type": "execute_result"
    }
   ],
   "source": [
    "X.describe()"
   ]
  },
  {
   "cell_type": "markdown",
   "metadata": {},
   "source": [
    "### Modelling"
   ]
  },
  {
   "cell_type": "code",
   "execution_count": 6,
   "metadata": {},
   "outputs": [],
   "source": [
    "import statsmodels.api as sm"
   ]
  },
  {
   "cell_type": "code",
   "execution_count": 7,
   "metadata": {},
   "outputs": [
    {
     "name": "stdout",
     "output_type": "stream",
     "text": [
      "Optimization terminated successfully.\n",
      "         Current function value: 0.411165\n",
      "         Iterations 7\n"
     ]
    }
   ],
   "source": [
    "sm_logit = sm.Logit(y, sm.add_constant(X))\n",
    "result = sm_logit.fit()"
   ]
  },
  {
   "cell_type": "code",
   "execution_count": 8,
   "metadata": {},
   "outputs": [
    {
     "name": "stdout",
     "output_type": "stream",
     "text": [
      "                           Logit Regression Results                           \n",
      "==============================================================================\n",
      "Dep. Variable:                default   No. Observations:                  700\n",
      "Model:                          Logit   Df Residuals:                      695\n",
      "Method:                           MLE   Df Model:                            4\n",
      "Date:                Tue, 16 Feb 2021   Pseudo R-squ.:                  0.2844\n",
      "Time:                        19:10:50   Log-Likelihood:                -287.82\n",
      "converged:                       True   LL-Null:                       -402.18\n",
      "Covariance Type:            nonrobust   LLR p-value:                 2.473e-48\n",
      "==============================================================================\n",
      "                 coef    std err          z      P>|z|      [0.025      0.975]\n",
      "------------------------------------------------------------------------------\n",
      "const         -1.2302      0.236     -5.210      0.000      -1.693      -0.767\n",
      "employ        -0.2436      0.029     -8.456      0.000      -0.300      -0.187\n",
      "debtinc        0.0885      0.021      4.200      0.000       0.047       0.130\n",
      "creddebt       0.5041      0.083      6.094      0.000       0.342       0.666\n",
      "othdebt       -0.0040      0.053     -0.076      0.940      -0.107       0.099\n",
      "==============================================================================\n"
     ]
    }
   ],
   "source": [
    "print(result.summary())"
   ]
  },
  {
   "cell_type": "markdown",
   "metadata": {},
   "source": [
    "- LLR p-value: tidak semua variabel sama dengan 0"
   ]
  },
  {
   "cell_type": "markdown",
   "metadata": {},
   "source": [
    "### Collinearity"
   ]
  },
  {
   "cell_type": "code",
   "execution_count": 9,
   "metadata": {},
   "outputs": [],
   "source": [
    "from statsmodels.stats.outliers_influence import variance_inflation_factor"
   ]
  },
  {
   "cell_type": "code",
   "execution_count": 10,
   "metadata": {},
   "outputs": [],
   "source": [
    "def calc_vif(X):\n",
    "    vif = pd.DataFrame()\n",
    "    vif['variable'] = X.columns\n",
    "    vif['VIF'] = [variance_inflation_factor(X.values, i) for i in range(X.shape[1])]\n",
    "    \n",
    "    return vif"
   ]
  },
  {
   "cell_type": "code",
   "execution_count": 11,
   "metadata": {},
   "outputs": [
    {
     "data": {
      "text/html": [
       "<div>\n",
       "<style scoped>\n",
       "    .dataframe tbody tr th:only-of-type {\n",
       "        vertical-align: middle;\n",
       "    }\n",
       "\n",
       "    .dataframe tbody tr th {\n",
       "        vertical-align: top;\n",
       "    }\n",
       "\n",
       "    .dataframe thead th {\n",
       "        text-align: right;\n",
       "    }\n",
       "</style>\n",
       "<table border=\"1\" class=\"dataframe\">\n",
       "  <thead>\n",
       "    <tr style=\"text-align: right;\">\n",
       "      <th></th>\n",
       "      <th>variable</th>\n",
       "      <th>VIF</th>\n",
       "    </tr>\n",
       "  </thead>\n",
       "  <tbody>\n",
       "    <tr>\n",
       "      <th>0</th>\n",
       "      <td>employ</td>\n",
       "      <td>2.222753</td>\n",
       "    </tr>\n",
       "    <tr>\n",
       "      <th>1</th>\n",
       "      <td>debtinc</td>\n",
       "      <td>3.045977</td>\n",
       "    </tr>\n",
       "    <tr>\n",
       "      <th>2</th>\n",
       "      <td>creddebt</td>\n",
       "      <td>2.816577</td>\n",
       "    </tr>\n",
       "    <tr>\n",
       "      <th>3</th>\n",
       "      <td>othdebt</td>\n",
       "      <td>4.116876</td>\n",
       "    </tr>\n",
       "  </tbody>\n",
       "</table>\n",
       "</div>"
      ],
      "text/plain": [
       "   variable       VIF\n",
       "0    employ  2.222753\n",
       "1   debtinc  3.045977\n",
       "2  creddebt  2.816577\n",
       "3   othdebt  4.116876"
      ]
     },
     "execution_count": 11,
     "metadata": {},
     "output_type": "execute_result"
    }
   ],
   "source": [
    "calc_vif(X)"
   ]
  },
  {
   "cell_type": "markdown",
   "metadata": {},
   "source": [
    "### Model Interpretation"
   ]
  },
  {
   "cell_type": "code",
   "execution_count": 12,
   "metadata": {},
   "outputs": [
    {
     "data": {
      "text/plain": [
       "1.2758338948511925"
      ]
     },
     "execution_count": 12,
     "metadata": {},
     "output_type": "execute_result"
    }
   ],
   "source": [
    "# employ feature interpretation\n",
    "1/np.exp(-0.2436 * 1)\n",
    "\n",
    "# employ = ketika employment meningkat 1 tahun, dan tidak ada perubahan pada variable yang lain, maka risiko untuk default akan turun 1.275 x\n",
    "# semakin orang lama kerja, orang semakin mapan dan bisa membayar utang"
   ]
  },
  {
   "cell_type": "code",
   "execution_count": 13,
   "metadata": {},
   "outputs": [
    {
     "data": {
      "text/plain": [
       "1.0925342526104793"
      ]
     },
     "execution_count": 13,
     "metadata": {},
     "output_type": "execute_result"
    }
   ],
   "source": [
    "# debtinc feature interpretation\n",
    "np.exp(0.0885 * 1)\n",
    "\n",
    "# debtinc = ketika ratio debt income naik 1, dan tidak ada perubahan pada variable yang lain, maka risiko default akan naik 1.0925 x"
   ]
  },
  {
   "cell_type": "code",
   "execution_count": 14,
   "metadata": {},
   "outputs": [
    {
     "data": {
      "text/plain": [
       "12.434812515742879"
      ]
     },
     "execution_count": 14,
     "metadata": {},
     "output_type": "execute_result"
    }
   ],
   "source": [
    "# creddebt feature interpretation\n",
    "np.exp(0.5041 * 5)\n",
    "\n",
    "# creddebt = ketika creddebt naik $5 dan tidak ada perubahan pada variable lain, maka risiko default akan naik 12.43x\n",
    "# creddebt = nasabah yang memiliki creddebt $10 memiliki risiko default 12.43x lebih tinggi daripada nasabah yang memiliki creddebt $5"
   ]
  },
  {
   "cell_type": "markdown",
   "metadata": {},
   "source": [
    "### Validation"
   ]
  },
  {
   "cell_type": "code",
   "execution_count": 30,
   "metadata": {},
   "outputs": [],
   "source": [
    "from sklearn.model_selection import train_test_split\n",
    "from sklearn.metrics import accuracy_score, confusion_matrix, plot_confusion_matrix"
   ]
  },
  {
   "cell_type": "code",
   "execution_count": 16,
   "metadata": {},
   "outputs": [],
   "source": [
    "X_train, X_test, y_train, y_test = train_test_split(X, y, test_size=0.2, stratify=y, random_state=2020)"
   ]
  },
  {
   "cell_type": "code",
   "execution_count": 17,
   "metadata": {},
   "outputs": [
    {
     "data": {
      "text/plain": [
       "0    0.738571\n",
       "1    0.261429\n",
       "Name: default, dtype: float64"
      ]
     },
     "execution_count": 17,
     "metadata": {},
     "output_type": "execute_result"
    }
   ],
   "source": [
    "y['default'].value_counts(normalize=True)"
   ]
  },
  {
   "cell_type": "code",
   "execution_count": 18,
   "metadata": {},
   "outputs": [
    {
     "data": {
      "text/plain": [
       "0    0.739286\n",
       "1    0.260714\n",
       "Name: default, dtype: float64"
      ]
     },
     "execution_count": 18,
     "metadata": {},
     "output_type": "execute_result"
    }
   ],
   "source": [
    "y_train['default'].value_counts(normalize=True)"
   ]
  },
  {
   "cell_type": "code",
   "execution_count": 19,
   "metadata": {},
   "outputs": [
    {
     "data": {
      "text/plain": [
       "0    0.735714\n",
       "1    0.264286\n",
       "Name: default, dtype: float64"
      ]
     },
     "execution_count": 19,
     "metadata": {},
     "output_type": "execute_result"
    }
   ],
   "source": [
    "y_test['default'].value_counts(normalize=True)"
   ]
  },
  {
   "cell_type": "code",
   "execution_count": 20,
   "metadata": {},
   "outputs": [
    {
     "data": {
      "text/plain": [
       "Int64Index([382, 344, 265,  52, 370, 272, 216, 571, 502, 408,\n",
       "            ...\n",
       "            607, 650, 271, 233, 659, 476, 135, 506, 684, 584],\n",
       "           dtype='int64', length=560)"
      ]
     },
     "execution_count": 20,
     "metadata": {},
     "output_type": "execute_result"
    }
   ],
   "source": [
    "y_train.index"
   ]
  },
  {
   "cell_type": "code",
   "execution_count": 21,
   "metadata": {},
   "outputs": [
    {
     "data": {
      "text/plain": [
       "Int64Index([118, 309, 339, 686, 639, 547, 425, 195,   4, 207,\n",
       "            ...\n",
       "            430,  66,  26, 606, 253, 597,  58, 467, 148, 681],\n",
       "           dtype='int64', length=140)"
      ]
     },
     "execution_count": 21,
     "metadata": {},
     "output_type": "execute_result"
    }
   ],
   "source": [
    "y_test.index"
   ]
  },
  {
   "cell_type": "code",
   "execution_count": 23,
   "metadata": {},
   "outputs": [
    {
     "name": "stdout",
     "output_type": "stream",
     "text": [
      "Optimization terminated successfully.\n",
      "         Current function value: 0.411145\n",
      "         Iterations 7\n"
     ]
    }
   ],
   "source": [
    "sm_logit_train = sm.Logit(y_train, sm.add_constant(X_train))\n",
    "result_train = sm_logit_train.fit()"
   ]
  },
  {
   "cell_type": "code",
   "execution_count": 24,
   "metadata": {},
   "outputs": [],
   "source": [
    "y_predict = result_train.predict(sm.add_constant(X_test))"
   ]
  },
  {
   "cell_type": "code",
   "execution_count": 25,
   "metadata": {},
   "outputs": [
    {
     "data": {
      "text/plain": [
       "118    0.584807\n",
       "309    0.308932\n",
       "339    0.308407\n",
       "686    0.398796\n",
       "639    0.236440\n",
       "         ...   \n",
       "597    0.544007\n",
       "58     0.012081\n",
       "467    0.102066\n",
       "148    0.060111\n",
       "681    0.214943\n",
       "Length: 140, dtype: float64"
      ]
     },
     "execution_count": 25,
     "metadata": {},
     "output_type": "execute_result"
    }
   ],
   "source": [
    "y_predict"
   ]
  },
  {
   "cell_type": "code",
   "execution_count": 26,
   "metadata": {},
   "outputs": [
    {
     "data": {
      "text/plain": [
       "array([1, 0, 0, 0, 0, 0, 0, 0, 1, 0, 0, 0, 0, 0, 0, 0, 0, 0, 0, 1, 0, 0,\n",
       "       0, 0, 0, 0, 0, 0, 1, 0, 0, 1, 0, 0, 0, 0, 0, 0, 0, 0, 0, 0, 0, 0,\n",
       "       0, 0, 0, 0, 0, 0, 0, 0, 0, 0, 1, 1, 0, 0, 0, 0, 0, 0, 0, 0, 0, 0,\n",
       "       0, 0, 0, 0, 1, 1, 0, 0, 0, 0, 0, 0, 0, 1, 1, 1, 0, 0, 0, 0, 0, 0,\n",
       "       1, 0, 0, 0, 1, 0, 0, 0, 1, 0, 0, 0, 0, 0, 0, 0, 1, 0, 0, 0, 0, 0,\n",
       "       0, 0, 0, 0, 1, 0, 0, 0, 0, 0, 0, 0, 1, 0, 0, 0, 1, 0, 0, 0, 1, 0,\n",
       "       0, 1, 0, 1, 0, 0, 0, 0])"
      ]
     },
     "execution_count": 26,
     "metadata": {},
     "output_type": "execute_result"
    }
   ],
   "source": [
    "y_predict_class = np.where(y_predict > 0.5, 1, 0)\n",
    "y_predict_class"
   ]
  },
  {
   "cell_type": "code",
   "execution_count": 27,
   "metadata": {},
   "outputs": [
    {
     "data": {
      "text/plain": [
       "0.8214285714285714"
      ]
     },
     "execution_count": 27,
     "metadata": {},
     "output_type": "execute_result"
    }
   ],
   "source": [
    "accuracy_score(y_test, y_predict_class)"
   ]
  },
  {
   "cell_type": "code",
   "execution_count": 29,
   "metadata": {},
   "outputs": [
    {
     "data": {
      "text/plain": [
       "array([[98,  5],\n",
       "       [20, 17]], dtype=int64)"
      ]
     },
     "execution_count": 29,
     "metadata": {},
     "output_type": "execute_result"
    }
   ],
   "source": [
    "confusion_matrix(y_test, y_predict_class)"
   ]
  },
  {
   "cell_type": "code",
   "execution_count": 33,
   "metadata": {},
   "outputs": [],
   "source": [
    "def make_confusion_matrix(confusion): \n",
    "    tn, fp, fn, tp = confusion.flatten()\n",
    "    confusion_df = pd.DataFrame({'p_0': [tn, fn, tn+fn], 'p_1': [fp, tp, fp+tp], 'total_actual': [tn+fp, fn+tp, tn+fn+tp+fp]}, \n",
    "                                index=['a_0', 'a_1', 'total_prediction'])\n",
    "    return confusion_df"
   ]
  },
  {
   "cell_type": "code",
   "execution_count": 35,
   "metadata": {},
   "outputs": [
    {
     "data": {
      "text/html": [
       "<div>\n",
       "<style scoped>\n",
       "    .dataframe tbody tr th:only-of-type {\n",
       "        vertical-align: middle;\n",
       "    }\n",
       "\n",
       "    .dataframe tbody tr th {\n",
       "        vertical-align: top;\n",
       "    }\n",
       "\n",
       "    .dataframe thead th {\n",
       "        text-align: right;\n",
       "    }\n",
       "</style>\n",
       "<table border=\"1\" class=\"dataframe\">\n",
       "  <thead>\n",
       "    <tr style=\"text-align: right;\">\n",
       "      <th></th>\n",
       "      <th>p_0</th>\n",
       "      <th>p_1</th>\n",
       "      <th>total_actual</th>\n",
       "    </tr>\n",
       "  </thead>\n",
       "  <tbody>\n",
       "    <tr>\n",
       "      <th>a_0</th>\n",
       "      <td>98</td>\n",
       "      <td>5</td>\n",
       "      <td>103</td>\n",
       "    </tr>\n",
       "    <tr>\n",
       "      <th>a_1</th>\n",
       "      <td>20</td>\n",
       "      <td>17</td>\n",
       "      <td>37</td>\n",
       "    </tr>\n",
       "    <tr>\n",
       "      <th>total_prediction</th>\n",
       "      <td>118</td>\n",
       "      <td>22</td>\n",
       "      <td>140</td>\n",
       "    </tr>\n",
       "  </tbody>\n",
       "</table>\n",
       "</div>"
      ],
      "text/plain": [
       "                  p_0  p_1  total_actual\n",
       "a_0                98    5           103\n",
       "a_1                20   17            37\n",
       "total_prediction  118   22           140"
      ]
     },
     "execution_count": 35,
     "metadata": {},
     "output_type": "execute_result"
    }
   ],
   "source": [
    "make_confusion_matrix(confusion_matrix(y_test, y_predict_class))"
   ]
  },
  {
   "cell_type": "code",
   "execution_count": 36,
   "metadata": {},
   "outputs": [],
   "source": [
    "from sklearn.linear_model import LogisticRegression"
   ]
  },
  {
   "cell_type": "code",
   "execution_count": 37,
   "metadata": {},
   "outputs": [
    {
     "name": "stderr",
     "output_type": "stream",
     "text": [
      "C:\\ProgramData\\miniconda3\\envs\\ml_dl\\lib\\site-packages\\sklearn\\utils\\validation.py:744: DataConversionWarning: A column-vector y was passed when a 1d array was expected. Please change the shape of y to (n_samples, ), for example using ravel().\n",
      "  y = column_or_1d(y, warn=True)\n"
     ]
    },
    {
     "data": {
      "text/plain": [
       "LogisticRegression(C=1.0, class_weight=None, dual=False, fit_intercept=True,\n",
       "                   intercept_scaling=1, l1_ratio=None, max_iter=100,\n",
       "                   multi_class='auto', n_jobs=None, penalty='l2',\n",
       "                   random_state=None, solver='lbfgs', tol=0.0001, verbose=0,\n",
       "                   warm_start=False)"
      ]
     },
     "execution_count": 37,
     "metadata": {},
     "output_type": "execute_result"
    }
   ],
   "source": [
    "logit_sklearn = LogisticRegression()\n",
    "logit_sklearn.fit(X_train, y_train)"
   ]
  },
  {
   "cell_type": "code",
   "execution_count": 38,
   "metadata": {},
   "outputs": [
    {
     "data": {
      "text/plain": [
       "array([1, 0, 0, 0, 0, 0, 0, 0, 1, 0, 0, 0, 0, 0, 0, 0, 0, 0, 0, 1, 0, 0,\n",
       "       0, 0, 0, 0, 0, 0, 1, 0, 0, 1, 0, 0, 0, 0, 0, 0, 0, 0, 0, 0, 0, 0,\n",
       "       0, 0, 0, 0, 0, 0, 0, 0, 0, 0, 1, 1, 0, 0, 0, 0, 0, 0, 0, 0, 0, 0,\n",
       "       0, 0, 0, 0, 1, 1, 0, 0, 0, 0, 0, 0, 0, 1, 1, 1, 0, 0, 0, 0, 0, 0,\n",
       "       1, 0, 0, 0, 1, 0, 0, 0, 1, 0, 0, 0, 0, 0, 0, 0, 1, 0, 0, 0, 0, 0,\n",
       "       0, 0, 0, 0, 1, 0, 0, 0, 0, 0, 0, 0, 1, 0, 0, 0, 1, 0, 0, 0, 1, 0,\n",
       "       0, 1, 0, 1, 0, 0, 0, 0], dtype=int64)"
      ]
     },
     "execution_count": 38,
     "metadata": {},
     "output_type": "execute_result"
    }
   ],
   "source": [
    "logit_sklearn.predict(X_test)"
   ]
  },
  {
   "cell_type": "code",
   "execution_count": 39,
   "metadata": {
    "scrolled": true
   },
   "outputs": [
    {
     "data": {
      "text/plain": [
       "array([[0.41595263, 0.58404737],\n",
       "       [0.69115483, 0.30884517],\n",
       "       [0.69051358, 0.30948642],\n",
       "       [0.60200296, 0.39799704],\n",
       "       [0.76360311, 0.23639689],\n",
       "       [0.6490779 , 0.3509221 ],\n",
       "       [0.95110997, 0.04889003],\n",
       "       [0.83093583, 0.16906417],\n",
       "       [0.34810286, 0.65189714],\n",
       "       [0.9240855 , 0.0759145 ],\n",
       "       [0.91375385, 0.08624615],\n",
       "       [0.89760334, 0.10239666],\n",
       "       [0.87771933, 0.12228067],\n",
       "       [0.55399298, 0.44600702],\n",
       "       [0.94299969, 0.05700031],\n",
       "       [0.6630743 , 0.3369257 ],\n",
       "       [0.81400267, 0.18599733],\n",
       "       [0.72530397, 0.27469603],\n",
       "       [0.95801621, 0.04198379],\n",
       "       [0.34270018, 0.65729982],\n",
       "       [0.73977686, 0.26022314],\n",
       "       [0.51036404, 0.48963596],\n",
       "       [0.91203866, 0.08796134],\n",
       "       [0.9789    , 0.0211    ],\n",
       "       [0.78416218, 0.21583782],\n",
       "       [0.57823161, 0.42176839],\n",
       "       [0.6718621 , 0.3281379 ],\n",
       "       [0.57439232, 0.42560768],\n",
       "       [0.29676804, 0.70323196],\n",
       "       [0.81493979, 0.18506021],\n",
       "       [0.99341994, 0.00658006],\n",
       "       [0.31730871, 0.68269129],\n",
       "       [0.99408505, 0.00591495],\n",
       "       [0.89104557, 0.10895443],\n",
       "       [0.71225281, 0.28774719],\n",
       "       [0.59932049, 0.40067951],\n",
       "       [0.71746629, 0.28253371],\n",
       "       [0.95584111, 0.04415889],\n",
       "       [0.83974746, 0.16025254],\n",
       "       [0.86118397, 0.13881603],\n",
       "       [0.58795105, 0.41204895],\n",
       "       [0.76408266, 0.23591734],\n",
       "       [0.73553085, 0.26446915],\n",
       "       [0.9649426 , 0.0350574 ],\n",
       "       [0.88109806, 0.11890194],\n",
       "       [0.59917441, 0.40082559],\n",
       "       [0.99392173, 0.00607827],\n",
       "       [0.94185309, 0.05814691],\n",
       "       [0.90789346, 0.09210654],\n",
       "       [0.91316453, 0.08683547],\n",
       "       [0.8544162 , 0.1455838 ],\n",
       "       [0.98329287, 0.01670713],\n",
       "       [0.57997973, 0.42002027],\n",
       "       [0.94496913, 0.05503087],\n",
       "       [0.13680411, 0.86319589],\n",
       "       [0.39006766, 0.60993234],\n",
       "       [0.78613181, 0.21386819],\n",
       "       [0.98240443, 0.01759557],\n",
       "       [0.88759418, 0.11240582],\n",
       "       [0.57877569, 0.42122431],\n",
       "       [0.98431172, 0.01568828],\n",
       "       [0.67291484, 0.32708516],\n",
       "       [0.97635683, 0.02364317],\n",
       "       [0.5056174 , 0.4943826 ],\n",
       "       [0.72669966, 0.27330034],\n",
       "       [0.83523816, 0.16476184],\n",
       "       [0.86969079, 0.13030921],\n",
       "       [0.81967624, 0.18032376],\n",
       "       [0.68778196, 0.31221804],\n",
       "       [0.80681464, 0.19318536],\n",
       "       [0.05359824, 0.94640176],\n",
       "       [0.41963624, 0.58036376],\n",
       "       [0.90859614, 0.09140386],\n",
       "       [0.90072113, 0.09927887],\n",
       "       [0.91814061, 0.08185939],\n",
       "       [0.98535594, 0.01464406],\n",
       "       [0.94582629, 0.05417371],\n",
       "       [0.9876503 , 0.0123497 ],\n",
       "       [0.62512978, 0.37487022],\n",
       "       [0.22830222, 0.77169778],\n",
       "       [0.44687104, 0.55312896],\n",
       "       [0.48829504, 0.51170496],\n",
       "       [0.97799258, 0.02200742],\n",
       "       [0.81902977, 0.18097023],\n",
       "       [0.84767294, 0.15232706],\n",
       "       [0.61698904, 0.38301096],\n",
       "       [0.67087334, 0.32912666],\n",
       "       [0.72091315, 0.27908685],\n",
       "       [0.42096998, 0.57903002],\n",
       "       [0.9574604 , 0.0425396 ],\n",
       "       [0.71829684, 0.28170316],\n",
       "       [0.95901144, 0.04098856],\n",
       "       [0.31661424, 0.68338576],\n",
       "       [0.82972537, 0.17027463],\n",
       "       [0.81668758, 0.18331242],\n",
       "       [0.95758016, 0.04241984],\n",
       "       [0.06379854, 0.93620146],\n",
       "       [0.96920477, 0.03079523],\n",
       "       [0.76651793, 0.23348207],\n",
       "       [0.96057864, 0.03942136],\n",
       "       [0.89690677, 0.10309323],\n",
       "       [0.86729819, 0.13270181],\n",
       "       [0.76096736, 0.23903264],\n",
       "       [0.50504591, 0.49495409],\n",
       "       [0.48484491, 0.51515509],\n",
       "       [0.64797764, 0.35202236],\n",
       "       [0.73854071, 0.26145929],\n",
       "       [0.99615793, 0.00384207],\n",
       "       [0.98529047, 0.01470953],\n",
       "       [0.50147475, 0.49852525],\n",
       "       [0.72936497, 0.27063503],\n",
       "       [0.73170921, 0.26829079],\n",
       "       [0.93106706, 0.06893294],\n",
       "       [0.81540936, 0.18459064],\n",
       "       [0.48117522, 0.51882478],\n",
       "       [0.91225365, 0.08774635],\n",
       "       [0.97177671, 0.02822329],\n",
       "       [0.59888997, 0.40111003],\n",
       "       [0.60661954, 0.39338046],\n",
       "       [0.85155595, 0.14844405],\n",
       "       [0.92390091, 0.07609909],\n",
       "       [0.97703122, 0.02296878],\n",
       "       [0.48709921, 0.51290079],\n",
       "       [0.99656793, 0.00343207],\n",
       "       [0.52994192, 0.47005808],\n",
       "       [0.51028569, 0.48971431],\n",
       "       [0.26998022, 0.73001978],\n",
       "       [0.99093841, 0.00906159],\n",
       "       [0.74669488, 0.25330512],\n",
       "       [0.65732525, 0.34267475],\n",
       "       [0.10301645, 0.89698355],\n",
       "       [0.75427801, 0.24572199],\n",
       "       [0.91872159, 0.08127841],\n",
       "       [0.16061462, 0.83938538],\n",
       "       [0.66198464, 0.33801536],\n",
       "       [0.45740167, 0.54259833],\n",
       "       [0.98781546, 0.01218454],\n",
       "       [0.89757758, 0.10242242],\n",
       "       [0.93942765, 0.06057235],\n",
       "       [0.78445506, 0.21554494]])"
      ]
     },
     "execution_count": 39,
     "metadata": {},
     "output_type": "execute_result"
    }
   ],
   "source": [
    "logit_sklearn.predict_proba(X_test)"
   ]
  },
  {
   "cell_type": "code",
   "execution_count": 48,
   "metadata": {},
   "outputs": [
    {
     "data": {
      "text/html": [
       "<div>\n",
       "<style scoped>\n",
       "    .dataframe tbody tr th:only-of-type {\n",
       "        vertical-align: middle;\n",
       "    }\n",
       "\n",
       "    .dataframe tbody tr th {\n",
       "        vertical-align: top;\n",
       "    }\n",
       "\n",
       "    .dataframe thead th {\n",
       "        text-align: right;\n",
       "    }\n",
       "</style>\n",
       "<table border=\"1\" class=\"dataframe\">\n",
       "  <thead>\n",
       "    <tr style=\"text-align: right;\">\n",
       "      <th></th>\n",
       "      <th>sepal length (cm)</th>\n",
       "      <th>sepal width (cm)</th>\n",
       "      <th>petal length (cm)</th>\n",
       "      <th>petal width (cm)</th>\n",
       "    </tr>\n",
       "  </thead>\n",
       "  <tbody>\n",
       "    <tr>\n",
       "      <th>0</th>\n",
       "      <td>5.1</td>\n",
       "      <td>3.5</td>\n",
       "      <td>1.4</td>\n",
       "      <td>0.2</td>\n",
       "    </tr>\n",
       "    <tr>\n",
       "      <th>1</th>\n",
       "      <td>4.9</td>\n",
       "      <td>3.0</td>\n",
       "      <td>1.4</td>\n",
       "      <td>0.2</td>\n",
       "    </tr>\n",
       "    <tr>\n",
       "      <th>2</th>\n",
       "      <td>4.7</td>\n",
       "      <td>3.2</td>\n",
       "      <td>1.3</td>\n",
       "      <td>0.2</td>\n",
       "    </tr>\n",
       "    <tr>\n",
       "      <th>3</th>\n",
       "      <td>4.6</td>\n",
       "      <td>3.1</td>\n",
       "      <td>1.5</td>\n",
       "      <td>0.2</td>\n",
       "    </tr>\n",
       "    <tr>\n",
       "      <th>4</th>\n",
       "      <td>5.0</td>\n",
       "      <td>3.6</td>\n",
       "      <td>1.4</td>\n",
       "      <td>0.2</td>\n",
       "    </tr>\n",
       "  </tbody>\n",
       "</table>\n",
       "</div>"
      ],
      "text/plain": [
       "   sepal length (cm)  sepal width (cm)  petal length (cm)  petal width (cm)\n",
       "0                5.1               3.5                1.4               0.2\n",
       "1                4.9               3.0                1.4               0.2\n",
       "2                4.7               3.2                1.3               0.2\n",
       "3                4.6               3.1                1.5               0.2\n",
       "4                5.0               3.6                1.4               0.2"
      ]
     },
     "execution_count": 48,
     "metadata": {},
     "output_type": "execute_result"
    }
   ],
   "source": [
    "from sklearn import datasets\n",
    "iris = datasets.load_iris()\n",
    "iris = pd.DataFrame(iris.data, columns = iris.feature_names)\n",
    "iris.head()"
   ]
  },
  {
   "cell_type": "code",
   "execution_count": 49,
   "metadata": {},
   "outputs": [
    {
     "ename": "KeyError",
     "evalue": "\"['target'] not found in axis\"",
     "output_type": "error",
     "traceback": [
      "\u001b[1;31m---------------------------------------------------------------------------\u001b[0m",
      "\u001b[1;31mKeyError\u001b[0m                                  Traceback (most recent call last)",
      "\u001b[1;32m<ipython-input-49-18f5ade8686d>\u001b[0m in \u001b[0;36m<module>\u001b[1;34m\u001b[0m\n\u001b[1;32m----> 1\u001b[1;33m \u001b[0miris_x\u001b[0m \u001b[1;33m=\u001b[0m \u001b[0miris\u001b[0m\u001b[1;33m.\u001b[0m\u001b[0mdrop\u001b[0m\u001b[1;33m(\u001b[0m\u001b[1;34m'target'\u001b[0m\u001b[1;33m,\u001b[0m \u001b[0maxis\u001b[0m\u001b[1;33m=\u001b[0m\u001b[1;36m1\u001b[0m\u001b[1;33m)\u001b[0m\u001b[1;33m\u001b[0m\u001b[1;33m\u001b[0m\u001b[0m\n\u001b[0m\u001b[0;32m      2\u001b[0m \u001b[0miris_y\u001b[0m \u001b[1;33m=\u001b[0m \u001b[0miris\u001b[0m\u001b[1;33m[\u001b[0m\u001b[1;34m'target'\u001b[0m\u001b[1;33m]\u001b[0m\u001b[1;33m\u001b[0m\u001b[1;33m\u001b[0m\u001b[0m\n\u001b[0;32m      3\u001b[0m \u001b[1;33m\u001b[0m\u001b[0m\n\u001b[0;32m      4\u001b[0m \u001b[0mxtr\u001b[0m\u001b[1;33m,\u001b[0m \u001b[0mxts\u001b[0m\u001b[1;33m,\u001b[0m \u001b[0mytr\u001b[0m\u001b[1;33m,\u001b[0m \u001b[0myts\u001b[0m \u001b[1;33m=\u001b[0m \u001b[0mtrain_test_split\u001b[0m\u001b[1;33m(\u001b[0m\u001b[0miris_x\u001b[0m\u001b[1;33m,\u001b[0m \u001b[0miris_y\u001b[0m\u001b[1;33m,\u001b[0m \u001b[0mstratify\u001b[0m\u001b[1;33m=\u001b[0m\u001b[0miris_y\u001b[0m\u001b[1;33m,\u001b[0m \u001b[0mtest_size\u001b[0m\u001b[1;33m=\u001b[0m\u001b[1;36m0.2\u001b[0m\u001b[1;33m,\u001b[0m \u001b[0mrandom_state\u001b[0m\u001b[1;33m=\u001b[0m\u001b[1;36m2020\u001b[0m\u001b[1;33m)\u001b[0m\u001b[1;33m\u001b[0m\u001b[1;33m\u001b[0m\u001b[0m\n",
      "\u001b[1;32mC:\\ProgramData\\miniconda3\\envs\\ml_dl\\lib\\site-packages\\pandas\\core\\frame.py\u001b[0m in \u001b[0;36mdrop\u001b[1;34m(self, labels, axis, index, columns, level, inplace, errors)\u001b[0m\n\u001b[0;32m   4310\u001b[0m             \u001b[0mlevel\u001b[0m\u001b[1;33m=\u001b[0m\u001b[0mlevel\u001b[0m\u001b[1;33m,\u001b[0m\u001b[1;33m\u001b[0m\u001b[1;33m\u001b[0m\u001b[0m\n\u001b[0;32m   4311\u001b[0m             \u001b[0minplace\u001b[0m\u001b[1;33m=\u001b[0m\u001b[0minplace\u001b[0m\u001b[1;33m,\u001b[0m\u001b[1;33m\u001b[0m\u001b[1;33m\u001b[0m\u001b[0m\n\u001b[1;32m-> 4312\u001b[1;33m             \u001b[0merrors\u001b[0m\u001b[1;33m=\u001b[0m\u001b[0merrors\u001b[0m\u001b[1;33m,\u001b[0m\u001b[1;33m\u001b[0m\u001b[1;33m\u001b[0m\u001b[0m\n\u001b[0m\u001b[0;32m   4313\u001b[0m         )\n\u001b[0;32m   4314\u001b[0m \u001b[1;33m\u001b[0m\u001b[0m\n",
      "\u001b[1;32mC:\\ProgramData\\miniconda3\\envs\\ml_dl\\lib\\site-packages\\pandas\\core\\generic.py\u001b[0m in \u001b[0;36mdrop\u001b[1;34m(self, labels, axis, index, columns, level, inplace, errors)\u001b[0m\n\u001b[0;32m   4150\u001b[0m         \u001b[1;32mfor\u001b[0m \u001b[0maxis\u001b[0m\u001b[1;33m,\u001b[0m \u001b[0mlabels\u001b[0m \u001b[1;32min\u001b[0m \u001b[0maxes\u001b[0m\u001b[1;33m.\u001b[0m\u001b[0mitems\u001b[0m\u001b[1;33m(\u001b[0m\u001b[1;33m)\u001b[0m\u001b[1;33m:\u001b[0m\u001b[1;33m\u001b[0m\u001b[1;33m\u001b[0m\u001b[0m\n\u001b[0;32m   4151\u001b[0m             \u001b[1;32mif\u001b[0m \u001b[0mlabels\u001b[0m \u001b[1;32mis\u001b[0m \u001b[1;32mnot\u001b[0m \u001b[1;32mNone\u001b[0m\u001b[1;33m:\u001b[0m\u001b[1;33m\u001b[0m\u001b[1;33m\u001b[0m\u001b[0m\n\u001b[1;32m-> 4152\u001b[1;33m                 \u001b[0mobj\u001b[0m \u001b[1;33m=\u001b[0m \u001b[0mobj\u001b[0m\u001b[1;33m.\u001b[0m\u001b[0m_drop_axis\u001b[0m\u001b[1;33m(\u001b[0m\u001b[0mlabels\u001b[0m\u001b[1;33m,\u001b[0m \u001b[0maxis\u001b[0m\u001b[1;33m,\u001b[0m \u001b[0mlevel\u001b[0m\u001b[1;33m=\u001b[0m\u001b[0mlevel\u001b[0m\u001b[1;33m,\u001b[0m \u001b[0merrors\u001b[0m\u001b[1;33m=\u001b[0m\u001b[0merrors\u001b[0m\u001b[1;33m)\u001b[0m\u001b[1;33m\u001b[0m\u001b[1;33m\u001b[0m\u001b[0m\n\u001b[0m\u001b[0;32m   4153\u001b[0m \u001b[1;33m\u001b[0m\u001b[0m\n\u001b[0;32m   4154\u001b[0m         \u001b[1;32mif\u001b[0m \u001b[0minplace\u001b[0m\u001b[1;33m:\u001b[0m\u001b[1;33m\u001b[0m\u001b[1;33m\u001b[0m\u001b[0m\n",
      "\u001b[1;32mC:\\ProgramData\\miniconda3\\envs\\ml_dl\\lib\\site-packages\\pandas\\core\\generic.py\u001b[0m in \u001b[0;36m_drop_axis\u001b[1;34m(self, labels, axis, level, errors)\u001b[0m\n\u001b[0;32m   4185\u001b[0m                 \u001b[0mnew_axis\u001b[0m \u001b[1;33m=\u001b[0m \u001b[0maxis\u001b[0m\u001b[1;33m.\u001b[0m\u001b[0mdrop\u001b[0m\u001b[1;33m(\u001b[0m\u001b[0mlabels\u001b[0m\u001b[1;33m,\u001b[0m \u001b[0mlevel\u001b[0m\u001b[1;33m=\u001b[0m\u001b[0mlevel\u001b[0m\u001b[1;33m,\u001b[0m \u001b[0merrors\u001b[0m\u001b[1;33m=\u001b[0m\u001b[0merrors\u001b[0m\u001b[1;33m)\u001b[0m\u001b[1;33m\u001b[0m\u001b[1;33m\u001b[0m\u001b[0m\n\u001b[0;32m   4186\u001b[0m             \u001b[1;32melse\u001b[0m\u001b[1;33m:\u001b[0m\u001b[1;33m\u001b[0m\u001b[1;33m\u001b[0m\u001b[0m\n\u001b[1;32m-> 4187\u001b[1;33m                 \u001b[0mnew_axis\u001b[0m \u001b[1;33m=\u001b[0m \u001b[0maxis\u001b[0m\u001b[1;33m.\u001b[0m\u001b[0mdrop\u001b[0m\u001b[1;33m(\u001b[0m\u001b[0mlabels\u001b[0m\u001b[1;33m,\u001b[0m \u001b[0merrors\u001b[0m\u001b[1;33m=\u001b[0m\u001b[0merrors\u001b[0m\u001b[1;33m)\u001b[0m\u001b[1;33m\u001b[0m\u001b[1;33m\u001b[0m\u001b[0m\n\u001b[0m\u001b[0;32m   4188\u001b[0m             \u001b[0mresult\u001b[0m \u001b[1;33m=\u001b[0m \u001b[0mself\u001b[0m\u001b[1;33m.\u001b[0m\u001b[0mreindex\u001b[0m\u001b[1;33m(\u001b[0m\u001b[1;33m**\u001b[0m\u001b[1;33m{\u001b[0m\u001b[0maxis_name\u001b[0m\u001b[1;33m:\u001b[0m \u001b[0mnew_axis\u001b[0m\u001b[1;33m}\u001b[0m\u001b[1;33m)\u001b[0m\u001b[1;33m\u001b[0m\u001b[1;33m\u001b[0m\u001b[0m\n\u001b[0;32m   4189\u001b[0m \u001b[1;33m\u001b[0m\u001b[0m\n",
      "\u001b[1;32mC:\\ProgramData\\miniconda3\\envs\\ml_dl\\lib\\site-packages\\pandas\\core\\indexes\\base.py\u001b[0m in \u001b[0;36mdrop\u001b[1;34m(self, labels, errors)\u001b[0m\n\u001b[0;32m   5589\u001b[0m         \u001b[1;32mif\u001b[0m \u001b[0mmask\u001b[0m\u001b[1;33m.\u001b[0m\u001b[0many\u001b[0m\u001b[1;33m(\u001b[0m\u001b[1;33m)\u001b[0m\u001b[1;33m:\u001b[0m\u001b[1;33m\u001b[0m\u001b[1;33m\u001b[0m\u001b[0m\n\u001b[0;32m   5590\u001b[0m             \u001b[1;32mif\u001b[0m \u001b[0merrors\u001b[0m \u001b[1;33m!=\u001b[0m \u001b[1;34m\"ignore\"\u001b[0m\u001b[1;33m:\u001b[0m\u001b[1;33m\u001b[0m\u001b[1;33m\u001b[0m\u001b[0m\n\u001b[1;32m-> 5591\u001b[1;33m                 \u001b[1;32mraise\u001b[0m \u001b[0mKeyError\u001b[0m\u001b[1;33m(\u001b[0m\u001b[1;34mf\"{labels[mask]} not found in axis\"\u001b[0m\u001b[1;33m)\u001b[0m\u001b[1;33m\u001b[0m\u001b[1;33m\u001b[0m\u001b[0m\n\u001b[0m\u001b[0;32m   5592\u001b[0m             \u001b[0mindexer\u001b[0m \u001b[1;33m=\u001b[0m \u001b[0mindexer\u001b[0m\u001b[1;33m[\u001b[0m\u001b[1;33m~\u001b[0m\u001b[0mmask\u001b[0m\u001b[1;33m]\u001b[0m\u001b[1;33m\u001b[0m\u001b[1;33m\u001b[0m\u001b[0m\n\u001b[0;32m   5593\u001b[0m         \u001b[1;32mreturn\u001b[0m \u001b[0mself\u001b[0m\u001b[1;33m.\u001b[0m\u001b[0mdelete\u001b[0m\u001b[1;33m(\u001b[0m\u001b[0mindexer\u001b[0m\u001b[1;33m)\u001b[0m\u001b[1;33m\u001b[0m\u001b[1;33m\u001b[0m\u001b[0m\n",
      "\u001b[1;31mKeyError\u001b[0m: \"['target'] not found in axis\""
     ]
    }
   ],
   "source": [
    "iris_x = iris.drop('target', axis=1)\n",
    "iris_y = iris['target']\n",
    "\n",
    "xtr, xts, ytr, yts = train_test_split(iris_x, iris_y, stratify=iris_y, test_size=0.2, random_state=2020)"
   ]
  },
  {
   "cell_type": "code",
   "execution_count": null,
   "metadata": {},
   "outputs": [],
   "source": [
    "logit_iris = LogisticRegression()\n",
    "logit_iris.fit(xtr, ytr)"
   ]
  },
  {
   "cell_type": "code",
   "execution_count": null,
   "metadata": {},
   "outputs": [],
   "source": [
    "proba_iris = logit_iris.predict_proba(xts)\n",
    "class_iris = logit_iris.predict(xts)"
   ]
  },
  {
   "attachments": {
    "image.png": {
     "image/png": "[encoded data removed]"
    }
   },
   "cell_type": "markdown",
   "metadata": {},
   "source": [
    "![image.png](attachment:image.png)"
   ]
  },
  {
   "cell_type": "code",
   "execution_count": null,
   "metadata": {},
   "outputs": [],
   "source": [
    "test_iris = pd.concat([xts, yts], axis=1)\n",
    "test_iris[['proba_0']]"
   ]
  },
  {
   "cell_type": "code",
   "execution_count": null,
   "metadata": {},
   "outputs": [],
   "source": [
    "accuracy_score(test_iris['target'], test_iris['prediction'])"
   ]
  }
 ],
 "metadata": {
  "kernelspec": {
   "display_name": "Python [conda env:ml_dl]",
   "language": "python",
   "name": "conda-env-ml_dl-py"
  },
  "language_info": {
   "codemirror_mode": {
    "name": "ipython",
    "version": 3
   },
   "file_extension": ".py",
   "mimetype": "text/x-python",
   "name": "python",
   "nbconvert_exporter": "python",
   "pygments_lexer": "ipython3",
   "version": "3.7.6"
  }
 },
 "nbformat": 4,
 "nbformat_minor": 4
}
