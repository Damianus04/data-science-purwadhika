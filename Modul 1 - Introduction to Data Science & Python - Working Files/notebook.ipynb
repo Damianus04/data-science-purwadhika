{
 "metadata": {
  "language_info": {
   "codemirror_mode": {
    "name": "ipython",
    "version": 3
   },
   "file_extension": ".py",
   "mimetype": "text/x-python",
   "name": "python",
   "nbconvert_exporter": "python",
   "pygments_lexer": "ipython3",
   "version": "3.7.6-final"
  },
  "orig_nbformat": 2,
  "kernelspec": {
   "name": "python3",
   "display_name": "Python 3"
  }
 },
 "nbformat": 4,
 "nbformat_minor": 2,
 "cells": [
  {
   "cell_type": "code",
   "execution_count": 1,
   "metadata": {},
   "outputs": [],
   "source": [
    "alphabet = ['a', 'b', 'c', 'd', 'e', 'f', 'g', 'h', 'i', 'j', 'k', 'l', 'm', 'n', 'o', 'p',\n",
    "                      'q', 'r', 's', 't', 'u', 'v', 'w', 'x', 'y', 'z']\n",
    "number = [0, 1, 2, 3, 4, 5, 6, 7, 8, 9]\n",
    "special_characters = [\"_\", \".\"]\n",
    "characters = alphabet + number + special_characters"
   ]
  },
  {
   "cell_type": "code",
   "execution_count": 2,
   "metadata": {},
   "outputs": [
    {
     "output_type": "stream",
     "name": "stdout",
     "text": [
      "['a', 'b', 'c', 'd', 'e', 'f', 'g', 'h', 'i', 'j', 'k', 'l', 'm', 'n', 'o', 'p', 'q', 'r', 's', 't', 'u', 'v', 'w', 'x', 'y', 'z', 0, 1, 2, 3, 4, 5, 6, 7, 8, 9, '_', '.']\n"
     ]
    }
   ],
   "source": [
    "print(characters)"
   ]
  },
  {
   "cell_type": "code",
   "execution_count": 5,
   "metadata": {},
   "outputs": [
    {
     "output_type": "stream",
     "name": "stdout",
     "text": [
      "email is not valid\nemail is not valid\nemail is not valid\nemail is valid\n"
     ]
    }
   ],
   "source": [
    "email = \"denid\"\n",
    "\n",
    "for i in range(len(characters)):\n",
    "    if characters[i] in email:\n",
    "        print(\"email is valid\")\n",
    "        break\n",
    "    else:\n",
    "        print(\"email is not valid\")\n",
    "        continue"
   ]
  },
  {
   "cell_type": "code",
   "execution_count": 7,
   "metadata": {},
   "outputs": [
    {
     "output_type": "error",
     "ename": "TypeError",
     "evalue": "'in <string>' requires string as left operand, not list",
     "traceback": [
      "\u001b[1;31m---------------------------------------------------------------------------\u001b[0m",
      "\u001b[1;31mTypeError\u001b[0m                                 Traceback (most recent call last)",
      "\u001b[1;32m<ipython-input-7-a497cd002d59>\u001b[0m in \u001b[0;36m<module>\u001b[1;34m\u001b[0m\n\u001b[1;32m----> 1\u001b[1;33m \u001b[1;32mif\u001b[0m \u001b[0mcharacters\u001b[0m \u001b[1;32min\u001b[0m \u001b[0memail\u001b[0m\u001b[1;33m:\u001b[0m\u001b[1;33m\u001b[0m\u001b[1;33m\u001b[0m\u001b[0m\n\u001b[0m\u001b[0;32m      2\u001b[0m     \u001b[0mprint\u001b[0m\u001b[1;33m(\u001b[0m\u001b[0mcharacters\u001b[0m\u001b[1;33m)\u001b[0m\u001b[1;33m\u001b[0m\u001b[1;33m\u001b[0m\u001b[0m\n",
      "\u001b[1;31mTypeError\u001b[0m: 'in <string>' requires string as left operand, not list"
     ]
    }
   ],
   "source": [
    "if characters in email:\n",
    "    print(characters)"
   ]
  },
  {
   "cell_type": "code",
   "execution_count": 2,
   "metadata": {},
   "outputs": [
    {
     "output_type": "stream",
     "name": "stdout",
     "text": [
      "<class 'str'> 30\n"
     ]
    }
   ],
   "source": [
    "number = str([0, 1, 2, 3, 4, 5, 6, 7, 8, 9])\n",
    "print(type(number), len(number))"
   ]
  },
  {
   "cell_type": "code",
   "execution_count": 3,
   "metadata": {},
   "outputs": [
    {
     "output_type": "execute_result",
     "data": {
      "text/plain": [
       "'[0, 1, 2, 3, 4, 5, 6, 7, 8, 9]'"
      ]
     },
     "metadata": {},
     "execution_count": 3
    }
   ],
   "source": [
    "number"
   ]
  },
  {
   "cell_type": "code",
   "execution_count": 16,
   "metadata": {},
   "outputs": [],
   "source": [
    "email = \"deni@gmail.commm\""
   ]
  },
  {
   "cell_type": "code",
   "execution_count": 18,
   "metadata": {},
   "outputs": [
    {
     "output_type": "execute_result",
     "data": {
      "text/plain": [
       "-6"
      ]
     },
     "metadata": {},
     "execution_count": 18
    }
   ],
   "source": [
    "dot_index = email.index(\".\")\n",
    "dot_index = dot_index - len(email)\n",
    "dot_index"
   ]
  },
  {
   "cell_type": "code",
   "execution_count": 20,
   "metadata": {},
   "outputs": [
    {
     "output_type": "execute_result",
     "data": {
      "text/plain": [
       "True"
      ]
     },
     "metadata": {},
     "execution_count": 20
    }
   ],
   "source": [
    "dot_index >= -6"
   ]
  },
  {
   "cell_type": "code",
   "execution_count": 29,
   "metadata": {},
   "outputs": [
    {
     "output_type": "stream",
     "name": "stdout",
     "text": [
      "['.', '.'] 6\n"
     ]
    }
   ],
   "source": [
    "email = \"stever.oger_77@avengers01.space\"\n",
    "if email.count(\".\") > 1:\n",
    "    dot_index_list = []\n",
    "    for i in email:\n",
    "        if i == \".\":\n",
    "            dot_index_list.append(i)\n",
    "            dot_index = email.index(\".\")\n",
    "        else:\n",
    "            continue\n",
    "            \n",
    "else:\n",
    "    print('dot is only 1')\n",
    "\n",
    "print(dot_index_list, dot_index)"
   ]
  },
  {
   "cell_type": "code",
   "execution_count": null,
   "metadata": {},
   "outputs": [],
   "source": []
  }
 ]
}