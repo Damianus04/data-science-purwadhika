{
 "cells": [
  {
   "cell_type": "code",
   "execution_count": 1,
   "id": "specialized-sigma",
   "metadata": {},
   "outputs": [],
   "source": [
    "%config Completer.use_jedi = False"
   ]
  },
  {
   "cell_type": "markdown",
   "id": "moving-entertainment",
   "metadata": {},
   "source": [
    "# Task Dashboard using Flask\n",
    "Gunakan dataset Sephora untuk tugas ini. \n",
    "Data yang digunakan adalah hanya data 5 brand dengan produk terbanyak. Pisahkan datanya telebih dahulu\n",
    "\n",
    "Buat dashboard untuk melihat :\n",
    "- Cari sebaran harganya untuk masing masing brand, siapa yang paling mahal dan paling murah sebaran harganya ?beri keterangan pada dashboardnya\n",
    "- Buatlah perbandingan jumlah review berdasarkan jenis produk (category : colonge, perfume, dll), buat untuk masing - masing brand.\n",
    "- Apakah ada korelasi antara jumlah review dengan, harga sebuah produk ? buatkan tampilan yang sesuai, dan berikan pilihan (tampilkan untuk masing2 brand) untuk brandnya"
   ]
  },
  {
   "cell_type": "code",
   "execution_count": null,
   "id": "improving-scanning",
   "metadata": {},
   "outputs": [],
   "source": []
  },
  {
   "cell_type": "code",
   "execution_count": null,
   "id": "confidential-vanilla",
   "metadata": {},
   "outputs": [],
   "source": []
  },
  {
   "cell_type": "code",
   "execution_count": null,
   "id": "secondary-candy",
   "metadata": {},
   "outputs": [],
   "source": []
  },
  {
   "cell_type": "markdown",
   "id": "accomplished-acrobat",
   "metadata": {},
   "source": [
    "# (Answers) Task Dashboard using Flask\n",
    "\n",
    "- Top 5 Brand Adalah : ['SEPHORA COLLECTION', 'CLINIQUE', 'tarte', 'TOM FORD', 'Dior']\n",
    "- Bisa Gunakan Boxplot untuk melihat perbandingan harga antara brand.\n",
    "- Bisa menggunakan barplot/ piechart untuk melihat banyaknya review berdsarkan jenis produk ( Masing masing brand dibuat 1, bisa memilih brand mana yang ingin ditampilkan )\n",
    "- Gunakan scatterplot untuk melihat korelasi / hubungan atara 2 variabel tersebut. "
   ]
  },
  {
   "cell_type": "code",
   "execution_count": 10,
   "id": "finnish-receptor",
   "metadata": {},
   "outputs": [],
   "source": [
    "import pandas as pd"
   ]
  },
  {
   "cell_type": "code",
   "execution_count": 11,
   "id": "statutory-queue",
   "metadata": {},
   "outputs": [],
   "source": [
    "df = pd.read_csv('Flask Dashboard/sephora.csv')"
   ]
  },
  {
   "cell_type": "code",
   "execution_count": 12,
   "id": "historic-agenda",
   "metadata": {},
   "outputs": [
    {
     "data": {
      "text/html": [
       "<div>\n",
       "<style scoped>\n",
       "    .dataframe tbody tr th:only-of-type {\n",
       "        vertical-align: middle;\n",
       "    }\n",
       "\n",
       "    .dataframe tbody tr th {\n",
       "        vertical-align: top;\n",
       "    }\n",
       "\n",
       "    .dataframe thead th {\n",
       "        text-align: right;\n",
       "    }\n",
       "</style>\n",
       "<table border=\"1\" class=\"dataframe\">\n",
       "  <thead>\n",
       "    <tr style=\"text-align: right;\">\n",
       "      <th></th>\n",
       "      <th>id</th>\n",
       "      <th>brand</th>\n",
       "      <th>category</th>\n",
       "      <th>name</th>\n",
       "      <th>size</th>\n",
       "      <th>rating</th>\n",
       "      <th>number_of_reviews</th>\n",
       "      <th>love</th>\n",
       "      <th>price</th>\n",
       "      <th>value_price</th>\n",
       "      <th>...</th>\n",
       "      <th>MarketingFlags</th>\n",
       "      <th>MarketingFlags_content</th>\n",
       "      <th>options</th>\n",
       "      <th>details</th>\n",
       "      <th>how_to_use</th>\n",
       "      <th>ingredients</th>\n",
       "      <th>online_only</th>\n",
       "      <th>exclusive</th>\n",
       "      <th>limited_edition</th>\n",
       "      <th>limited_time_offer</th>\n",
       "    </tr>\n",
       "  </thead>\n",
       "  <tbody>\n",
       "    <tr>\n",
       "      <th>0</th>\n",
       "      <td>2218774</td>\n",
       "      <td>Acqua Di Parma</td>\n",
       "      <td>Fragrance</td>\n",
       "      <td>Blu Mediterraneo MINIATURE Set</td>\n",
       "      <td>5 x 0.16oz/5mL</td>\n",
       "      <td>4.0</td>\n",
       "      <td>4</td>\n",
       "      <td>3002</td>\n",
       "      <td>66.0</td>\n",
       "      <td>75.0</td>\n",
       "      <td>...</td>\n",
       "      <td>True</td>\n",
       "      <td>online only</td>\n",
       "      <td>no options</td>\n",
       "      <td>This enchanting set comes in a specially handc...</td>\n",
       "      <td>Suggested Usage:-Fragrance is intensified by t...</td>\n",
       "      <td>Arancia di Capri Eau de Toilette: Alcohol Dena...</td>\n",
       "      <td>1</td>\n",
       "      <td>0</td>\n",
       "      <td>0</td>\n",
       "      <td>0</td>\n",
       "    </tr>\n",
       "    <tr>\n",
       "      <th>1</th>\n",
       "      <td>2044816</td>\n",
       "      <td>Acqua Di Parma</td>\n",
       "      <td>Cologne</td>\n",
       "      <td>Colonia</td>\n",
       "      <td>0.7 oz/ 20 mL</td>\n",
       "      <td>4.5</td>\n",
       "      <td>76</td>\n",
       "      <td>2700</td>\n",
       "      <td>66.0</td>\n",
       "      <td>66.0</td>\n",
       "      <td>...</td>\n",
       "      <td>True</td>\n",
       "      <td>online only</td>\n",
       "      <td>- 0.7 oz/ 20 mL  Spray  - 1.7 oz/ 50 mL Eau d...</td>\n",
       "      <td>An elegant timeless scent filled with a fresh-...</td>\n",
       "      <td>no instructions</td>\n",
       "      <td>unknown</td>\n",
       "      <td>1</td>\n",
       "      <td>0</td>\n",
       "      <td>0</td>\n",
       "      <td>0</td>\n",
       "    </tr>\n",
       "    <tr>\n",
       "      <th>2</th>\n",
       "      <td>1417567</td>\n",
       "      <td>Acqua Di Parma</td>\n",
       "      <td>Perfume</td>\n",
       "      <td>Arancia di Capri</td>\n",
       "      <td>5 oz/ 148 mL</td>\n",
       "      <td>4.5</td>\n",
       "      <td>26</td>\n",
       "      <td>2600</td>\n",
       "      <td>180.0</td>\n",
       "      <td>180.0</td>\n",
       "      <td>...</td>\n",
       "      <td>True</td>\n",
       "      <td>online only</td>\n",
       "      <td>- 1oz/30mL Eau de Toilette  - 2.5 oz/ 74 mL E...</td>\n",
       "      <td>Fragrance Family: Fresh Scent Type: Fresh Citr...</td>\n",
       "      <td>no instructions</td>\n",
       "      <td>Alcohol Denat.- Water- Fragrance- Limonene- Li...</td>\n",
       "      <td>1</td>\n",
       "      <td>0</td>\n",
       "      <td>0</td>\n",
       "      <td>0</td>\n",
       "    </tr>\n",
       "  </tbody>\n",
       "</table>\n",
       "<p>3 rows × 21 columns</p>\n",
       "</div>"
      ],
      "text/plain": [
       "        id           brand   category                            name  \\\n",
       "0  2218774  Acqua Di Parma  Fragrance  Blu Mediterraneo MINIATURE Set   \n",
       "1  2044816  Acqua Di Parma    Cologne                         Colonia   \n",
       "2  1417567  Acqua Di Parma    Perfume                Arancia di Capri   \n",
       "\n",
       "             size  rating  number_of_reviews  love  price  value_price  ...  \\\n",
       "0  5 x 0.16oz/5mL     4.0                  4  3002   66.0         75.0  ...   \n",
       "1   0.7 oz/ 20 mL     4.5                 76  2700   66.0         66.0  ...   \n",
       "2    5 oz/ 148 mL     4.5                 26  2600  180.0        180.0  ...   \n",
       "\n",
       "  MarketingFlags  MarketingFlags_content  \\\n",
       "0           True             online only   \n",
       "1           True             online only   \n",
       "2           True             online only   \n",
       "\n",
       "                                             options  \\\n",
       "0                                         no options   \n",
       "1   - 0.7 oz/ 20 mL  Spray  - 1.7 oz/ 50 mL Eau d...   \n",
       "2   - 1oz/30mL Eau de Toilette  - 2.5 oz/ 74 mL E...   \n",
       "\n",
       "                                             details  \\\n",
       "0  This enchanting set comes in a specially handc...   \n",
       "1  An elegant timeless scent filled with a fresh-...   \n",
       "2  Fragrance Family: Fresh Scent Type: Fresh Citr...   \n",
       "\n",
       "                                          how_to_use  \\\n",
       "0  Suggested Usage:-Fragrance is intensified by t...   \n",
       "1                                    no instructions   \n",
       "2                                    no instructions   \n",
       "\n",
       "                                         ingredients online_only  exclusive  \\\n",
       "0  Arancia di Capri Eau de Toilette: Alcohol Dena...           1          0   \n",
       "1                                            unknown           1          0   \n",
       "2  Alcohol Denat.- Water- Fragrance- Limonene- Li...           1          0   \n",
       "\n",
       "   limited_edition  limited_time_offer  \n",
       "0                0                   0  \n",
       "1                0                   0  \n",
       "2                0                   0  \n",
       "\n",
       "[3 rows x 21 columns]"
      ]
     },
     "execution_count": 12,
     "metadata": {},
     "output_type": "execute_result"
    }
   ],
   "source": [
    "df.head(3)"
   ]
  },
  {
   "cell_type": "markdown",
   "id": "romantic-cutting",
   "metadata": {},
   "source": [
    "### Mencari 5 top brand"
   ]
  },
  {
   "cell_type": "code",
   "execution_count": 29,
   "id": "printable-withdrawal",
   "metadata": {},
   "outputs": [],
   "source": [
    "# Cari 5 top Brand\n",
    "df['brand'].value_counts()[:5]"
   ]
  },
  {
   "cell_type": "code",
   "execution_count": 30,
   "id": "subject-notification",
   "metadata": {},
   "outputs": [],
   "source": [
    "# Cari 5 top Brand ambil nama brand nya saja\n",
    "df['brand'].value_counts()[:5].index"
   ]
  },
  {
   "cell_type": "code",
   "execution_count": 18,
   "id": "undefined-knife",
   "metadata": {},
   "outputs": [
    {
     "data": {
      "text/plain": [
       "Index(['SEPHORA COLLECTION', 'CLINIQUE', 'tarte', 'TOM FORD', 'Dior'], dtype='object')"
      ]
     },
     "execution_count": 18,
     "metadata": {},
     "output_type": "execute_result"
    }
   ],
   "source": [
    "# Cari 5 top Brand\n",
    "top5_brands = df['brand'].value_counts()[:5].index\n",
    "top5_brands"
   ]
  },
  {
   "cell_type": "code",
   "execution_count": 19,
   "id": "handled-tuition",
   "metadata": {},
   "outputs": [
    {
     "data": {
      "text/html": [
       "<div>\n",
       "<style scoped>\n",
       "    .dataframe tbody tr th:only-of-type {\n",
       "        vertical-align: middle;\n",
       "    }\n",
       "\n",
       "    .dataframe tbody tr th {\n",
       "        vertical-align: top;\n",
       "    }\n",
       "\n",
       "    .dataframe thead th {\n",
       "        text-align: right;\n",
       "    }\n",
       "</style>\n",
       "<table border=\"1\" class=\"dataframe\">\n",
       "  <thead>\n",
       "    <tr style=\"text-align: right;\">\n",
       "      <th></th>\n",
       "      <th>id</th>\n",
       "      <th>brand</th>\n",
       "      <th>category</th>\n",
       "      <th>name</th>\n",
       "      <th>size</th>\n",
       "      <th>rating</th>\n",
       "      <th>number_of_reviews</th>\n",
       "      <th>love</th>\n",
       "      <th>price</th>\n",
       "      <th>value_price</th>\n",
       "      <th>...</th>\n",
       "      <th>MarketingFlags</th>\n",
       "      <th>MarketingFlags_content</th>\n",
       "      <th>options</th>\n",
       "      <th>details</th>\n",
       "      <th>how_to_use</th>\n",
       "      <th>ingredients</th>\n",
       "      <th>online_only</th>\n",
       "      <th>exclusive</th>\n",
       "      <th>limited_edition</th>\n",
       "      <th>limited_time_offer</th>\n",
       "    </tr>\n",
       "  </thead>\n",
       "  <tbody>\n",
       "    <tr>\n",
       "      <th>0</th>\n",
       "      <td>2019461</td>\n",
       "      <td>CLINIQUE</td>\n",
       "      <td>Moisturizers</td>\n",
       "      <td>Moisture Surge 72-Hour Auto-Replenishing Hydrator</td>\n",
       "      <td>no size</td>\n",
       "      <td>4.5</td>\n",
       "      <td>1000</td>\n",
       "      <td>71100</td>\n",
       "      <td>39.5</td>\n",
       "      <td>39.5</td>\n",
       "      <td>...</td>\n",
       "      <td>False</td>\n",
       "      <td>0</td>\n",
       "      <td>no options</td>\n",
       "      <td>What it is:  A refreshing- oil-free gel cream ...</td>\n",
       "      <td>Suggested Usage:-This multitasking formula can...</td>\n",
       "      <td>-Auto-Replenishing Technology with Caffeine: ...</td>\n",
       "      <td>0</td>\n",
       "      <td>0</td>\n",
       "      <td>0</td>\n",
       "      <td>0</td>\n",
       "    </tr>\n",
       "    <tr>\n",
       "      <th>1</th>\n",
       "      <td>1538354</td>\n",
       "      <td>CLINIQUE</td>\n",
       "      <td>Moisturizers</td>\n",
       "      <td>Dramatically Different Moisturizing Lotion+</td>\n",
       "      <td>no size</td>\n",
       "      <td>4.0</td>\n",
       "      <td>1000</td>\n",
       "      <td>72900</td>\n",
       "      <td>28.0</td>\n",
       "      <td>28.0</td>\n",
       "      <td>...</td>\n",
       "      <td>False</td>\n",
       "      <td>0</td>\n",
       "      <td>no options</td>\n",
       "      <td>What it is:  A dermatologist-developed face mo...</td>\n",
       "      <td>Suggested Usage:-Spread all over face and thro...</td>\n",
       "      <td>-Sunflower Seed Cake- Barley Extract- and Cucu...</td>\n",
       "      <td>0</td>\n",
       "      <td>0</td>\n",
       "      <td>0</td>\n",
       "      <td>0</td>\n",
       "    </tr>\n",
       "    <tr>\n",
       "      <th>2</th>\n",
       "      <td>789727</td>\n",
       "      <td>CLINIQUE</td>\n",
       "      <td>Moisturizers</td>\n",
       "      <td>Dramatically Different Moisturizing Gel</td>\n",
       "      <td>no size</td>\n",
       "      <td>4.5</td>\n",
       "      <td>3000</td>\n",
       "      <td>83000</td>\n",
       "      <td>28.0</td>\n",
       "      <td>28.0</td>\n",
       "      <td>...</td>\n",
       "      <td>False</td>\n",
       "      <td>0</td>\n",
       "      <td>no options</td>\n",
       "      <td>What it is:  A dermatologist-developed- oil-fr...</td>\n",
       "      <td>Suggested Usage:-Spread all over face and thro...</td>\n",
       "      <td>-Sunflower Seed Cake- Barley Extract- and Cuc...</td>\n",
       "      <td>0</td>\n",
       "      <td>0</td>\n",
       "      <td>0</td>\n",
       "      <td>0</td>\n",
       "    </tr>\n",
       "  </tbody>\n",
       "</table>\n",
       "<p>3 rows × 21 columns</p>\n",
       "</div>"
      ],
      "text/plain": [
       "        id     brand      category  \\\n",
       "0  2019461  CLINIQUE  Moisturizers   \n",
       "1  1538354  CLINIQUE  Moisturizers   \n",
       "2   789727  CLINIQUE  Moisturizers   \n",
       "\n",
       "                                                name     size  rating  \\\n",
       "0  Moisture Surge 72-Hour Auto-Replenishing Hydrator  no size     4.5   \n",
       "1        Dramatically Different Moisturizing Lotion+  no size     4.0   \n",
       "2            Dramatically Different Moisturizing Gel  no size     4.5   \n",
       "\n",
       "   number_of_reviews   love  price  value_price  ... MarketingFlags  \\\n",
       "0               1000  71100   39.5         39.5  ...          False   \n",
       "1               1000  72900   28.0         28.0  ...          False   \n",
       "2               3000  83000   28.0         28.0  ...          False   \n",
       "\n",
       "   MarketingFlags_content     options  \\\n",
       "0                       0  no options   \n",
       "1                       0  no options   \n",
       "2                       0  no options   \n",
       "\n",
       "                                             details  \\\n",
       "0  What it is:  A refreshing- oil-free gel cream ...   \n",
       "1  What it is:  A dermatologist-developed face mo...   \n",
       "2  What it is:  A dermatologist-developed- oil-fr...   \n",
       "\n",
       "                                          how_to_use  \\\n",
       "0  Suggested Usage:-This multitasking formula can...   \n",
       "1  Suggested Usage:-Spread all over face and thro...   \n",
       "2  Suggested Usage:-Spread all over face and thro...   \n",
       "\n",
       "                                         ingredients online_only  exclusive  \\\n",
       "0   -Auto-Replenishing Technology with Caffeine: ...           0          0   \n",
       "1  -Sunflower Seed Cake- Barley Extract- and Cucu...           0          0   \n",
       "2   -Sunflower Seed Cake- Barley Extract- and Cuc...           0          0   \n",
       "\n",
       "   limited_edition  limited_time_offer  \n",
       "0                0                   0  \n",
       "1                0                   0  \n",
       "2                0                   0  \n",
       "\n",
       "[3 rows x 21 columns]"
      ]
     },
     "execution_count": 19,
     "metadata": {},
     "output_type": "execute_result"
    }
   ],
   "source": [
    "## Filter dataset using 5 top brand\n",
    "df = df[df['brand'].isin(top5_brands)].reset_index(drop=True)\n",
    "df.head(3)"
   ]
  },
  {
   "cell_type": "code",
   "execution_count": 21,
   "id": "fossil-circuit",
   "metadata": {},
   "outputs": [
    {
     "data": {
      "text/plain": [
       "1206"
      ]
     },
     "execution_count": 21,
     "metadata": {},
     "output_type": "execute_result"
    }
   ],
   "source": [
    "# len df untuk jumlah data top 5 brand\n",
    "len(df)"
   ]
  },
  {
   "cell_type": "code",
   "execution_count": 26,
   "id": "federal-authorization",
   "metadata": {},
   "outputs": [
    {
     "data": {
      "text/html": [
       "<div>\n",
       "<style scoped>\n",
       "    .dataframe tbody tr th:only-of-type {\n",
       "        vertical-align: middle;\n",
       "    }\n",
       "\n",
       "    .dataframe tbody tr th {\n",
       "        vertical-align: top;\n",
       "    }\n",
       "\n",
       "    .dataframe thead th {\n",
       "        text-align: right;\n",
       "    }\n",
       "</style>\n",
       "<table border=\"1\" class=\"dataframe\">\n",
       "  <thead>\n",
       "    <tr style=\"text-align: right;\">\n",
       "      <th></th>\n",
       "      <th>id</th>\n",
       "      <th>brand</th>\n",
       "      <th>category</th>\n",
       "      <th>name</th>\n",
       "      <th>size</th>\n",
       "      <th>rating</th>\n",
       "      <th>number_of_reviews</th>\n",
       "      <th>love</th>\n",
       "      <th>price</th>\n",
       "      <th>value_price</th>\n",
       "      <th>...</th>\n",
       "      <th>MarketingFlags_content</th>\n",
       "      <th>options</th>\n",
       "      <th>details</th>\n",
       "      <th>how_to_use</th>\n",
       "      <th>ingredients</th>\n",
       "      <th>online_only</th>\n",
       "      <th>exclusive</th>\n",
       "      <th>limited_edition</th>\n",
       "      <th>limited_time_offer</th>\n",
       "      <th>e</th>\n",
       "    </tr>\n",
       "  </thead>\n",
       "  <tbody>\n",
       "    <tr>\n",
       "      <th>0</th>\n",
       "      <td>2019461</td>\n",
       "      <td>CLINIQUE</td>\n",
       "      <td>Moisturizers</td>\n",
       "      <td>Moisture Surge 72-Hour Auto-Replenishing Hydrator</td>\n",
       "      <td>no size</td>\n",
       "      <td>4.5</td>\n",
       "      <td>1000</td>\n",
       "      <td>71100</td>\n",
       "      <td>39.5</td>\n",
       "      <td>39.5</td>\n",
       "      <td>...</td>\n",
       "      <td>0</td>\n",
       "      <td>no options</td>\n",
       "      <td>What it is:  A refreshing- oil-free gel cream ...</td>\n",
       "      <td>Suggested Usage:-This multitasking formula can...</td>\n",
       "      <td>-Auto-Replenishing Technology with Caffeine: ...</td>\n",
       "      <td>0</td>\n",
       "      <td>0</td>\n",
       "      <td>0</td>\n",
       "      <td>0</td>\n",
       "      <td>1</td>\n",
       "    </tr>\n",
       "    <tr>\n",
       "      <th>1</th>\n",
       "      <td>1538354</td>\n",
       "      <td>CLINIQUE</td>\n",
       "      <td>Moisturizers</td>\n",
       "      <td>Dramatically Different Moisturizing Lotion+</td>\n",
       "      <td>no size</td>\n",
       "      <td>4.0</td>\n",
       "      <td>1000</td>\n",
       "      <td>72900</td>\n",
       "      <td>28.0</td>\n",
       "      <td>28.0</td>\n",
       "      <td>...</td>\n",
       "      <td>0</td>\n",
       "      <td>no options</td>\n",
       "      <td>What it is:  A dermatologist-developed face mo...</td>\n",
       "      <td>Suggested Usage:-Spread all over face and thro...</td>\n",
       "      <td>-Sunflower Seed Cake- Barley Extract- and Cucu...</td>\n",
       "      <td>0</td>\n",
       "      <td>0</td>\n",
       "      <td>0</td>\n",
       "      <td>0</td>\n",
       "      <td>1</td>\n",
       "    </tr>\n",
       "    <tr>\n",
       "      <th>2</th>\n",
       "      <td>789727</td>\n",
       "      <td>CLINIQUE</td>\n",
       "      <td>Moisturizers</td>\n",
       "      <td>Dramatically Different Moisturizing Gel</td>\n",
       "      <td>no size</td>\n",
       "      <td>4.5</td>\n",
       "      <td>3000</td>\n",
       "      <td>83000</td>\n",
       "      <td>28.0</td>\n",
       "      <td>28.0</td>\n",
       "      <td>...</td>\n",
       "      <td>0</td>\n",
       "      <td>no options</td>\n",
       "      <td>What it is:  A dermatologist-developed- oil-fr...</td>\n",
       "      <td>Suggested Usage:-Spread all over face and thro...</td>\n",
       "      <td>-Sunflower Seed Cake- Barley Extract- and Cuc...</td>\n",
       "      <td>0</td>\n",
       "      <td>0</td>\n",
       "      <td>0</td>\n",
       "      <td>0</td>\n",
       "      <td>1</td>\n",
       "    </tr>\n",
       "  </tbody>\n",
       "</table>\n",
       "<p>3 rows × 22 columns</p>\n",
       "</div>"
      ],
      "text/plain": [
       "        id     brand      category  \\\n",
       "0  2019461  CLINIQUE  Moisturizers   \n",
       "1  1538354  CLINIQUE  Moisturizers   \n",
       "2   789727  CLINIQUE  Moisturizers   \n",
       "\n",
       "                                                name     size  rating  \\\n",
       "0  Moisture Surge 72-Hour Auto-Replenishing Hydrator  no size     4.5   \n",
       "1        Dramatically Different Moisturizing Lotion+  no size     4.0   \n",
       "2            Dramatically Different Moisturizing Gel  no size     4.5   \n",
       "\n",
       "   number_of_reviews   love  price  value_price  ... MarketingFlags_content  \\\n",
       "0               1000  71100   39.5         39.5  ...                      0   \n",
       "1               1000  72900   28.0         28.0  ...                      0   \n",
       "2               3000  83000   28.0         28.0  ...                      0   \n",
       "\n",
       "      options                                            details  \\\n",
       "0  no options  What it is:  A refreshing- oil-free gel cream ...   \n",
       "1  no options  What it is:  A dermatologist-developed face mo...   \n",
       "2  no options  What it is:  A dermatologist-developed- oil-fr...   \n",
       "\n",
       "                                          how_to_use  \\\n",
       "0  Suggested Usage:-This multitasking formula can...   \n",
       "1  Suggested Usage:-Spread all over face and thro...   \n",
       "2  Suggested Usage:-Spread all over face and thro...   \n",
       "\n",
       "                                         ingredients online_only exclusive  \\\n",
       "0   -Auto-Replenishing Technology with Caffeine: ...           0         0   \n",
       "1  -Sunflower Seed Cake- Barley Extract- and Cucu...           0         0   \n",
       "2   -Sunflower Seed Cake- Barley Extract- and Cuc...           0         0   \n",
       "\n",
       "   limited_edition  limited_time_offer  e  \n",
       "0                0                   0  1  \n",
       "1                0                   0  1  \n",
       "2                0                   0  1  \n",
       "\n",
       "[3 rows x 22 columns]"
      ]
     },
     "execution_count": 26,
     "metadata": {},
     "output_type": "execute_result"
    }
   ],
   "source": [
    "# menambahkan variabel dummy\n",
    "df['e'] = 1\n",
    "df.head(3)"
   ]
  },
  {
   "cell_type": "markdown",
   "id": "respective-yugoslavia",
   "metadata": {},
   "source": [
    "### Cari sebaran harganya untuk masing masing brand, siapa yang paling mahal dan paling murah sebaran harganya ?"
   ]
  },
  {
   "cell_type": "code",
   "execution_count": 23,
   "id": "retained-answer",
   "metadata": {},
   "outputs": [],
   "source": [
    "import plotly.express as px"
   ]
  },
  {
   "cell_type": "code",
   "execution_count": 31,
   "id": "dated-plymouth",
   "metadata": {
    "scrolled": false
   },
   "outputs": [
    {
     "data": {
      "application/vnd.plotly.v1+json": {
       "config": {
        "plotlyServerURL": "https://plot.ly"
       },
       "data": [
        {
         "alignmentgroup": "True",
         "hovertemplate": "brand=%{x}<br>price=%{y}<extra></extra>",
         "legendgroup": "CLINIQUE",
         "marker": {
          "color": "#636efa"
         },
         "name": "CLINIQUE",
         "notched": false,
         "offsetgroup": "CLINIQUE",
         "orientation": "v",
         "showlegend": true,
         "type": "box",
         "x": [
          "CLINIQUE",
          "CLINIQUE",
          "CLINIQUE",
          "CLINIQUE",
          "CLINIQUE",
          "CLINIQUE",
          "CLINIQUE",
          "CLINIQUE",
          "CLINIQUE",
          "CLINIQUE",
          "CLINIQUE",
          "CLINIQUE",
          "CLINIQUE",
          "CLINIQUE",
          "CLINIQUE",
          "CLINIQUE",
          "CLINIQUE",
          "CLINIQUE",
          "CLINIQUE",
          "CLINIQUE",
          "CLINIQUE",
          "CLINIQUE",
          "CLINIQUE",
          "CLINIQUE",
          "CLINIQUE",
          "CLINIQUE",
          "CLINIQUE",
          "CLINIQUE",
          "CLINIQUE",
          "CLINIQUE",
          "CLINIQUE",
          "CLINIQUE",
          "CLINIQUE",
          "CLINIQUE",
          "CLINIQUE",
          "CLINIQUE",
          "CLINIQUE",
          "CLINIQUE",
          "CLINIQUE",
          "CLINIQUE",
          "CLINIQUE",
          "CLINIQUE",
          "CLINIQUE",
          "CLINIQUE",
          "CLINIQUE",
          "CLINIQUE",
          "CLINIQUE",
          "CLINIQUE",
          "CLINIQUE",
          "CLINIQUE",
          "CLINIQUE",
          "CLINIQUE",
          "CLINIQUE",
          "CLINIQUE",
          "CLINIQUE",
          "CLINIQUE",
          "CLINIQUE",
          "CLINIQUE",
          "CLINIQUE",
          "CLINIQUE",
          "CLINIQUE",
          "CLINIQUE",
          "CLINIQUE",
          "CLINIQUE",
          "CLINIQUE",
          "CLINIQUE",
          "CLINIQUE",
          "CLINIQUE",
          "CLINIQUE",
          "CLINIQUE",
          "CLINIQUE",
          "CLINIQUE",
          "CLINIQUE",
          "CLINIQUE",
          "CLINIQUE",
          "CLINIQUE",
          "CLINIQUE",
          "CLINIQUE",
          "CLINIQUE",
          "CLINIQUE",
          "CLINIQUE",
          "CLINIQUE",
          "CLINIQUE",
          "CLINIQUE",
          "CLINIQUE",
          "CLINIQUE",
          "CLINIQUE",
          "CLINIQUE",
          "CLINIQUE",
          "CLINIQUE",
          "CLINIQUE",
          "CLINIQUE",
          "CLINIQUE",
          "CLINIQUE",
          "CLINIQUE",
          "CLINIQUE",
          "CLINIQUE",
          "CLINIQUE",
          "CLINIQUE",
          "CLINIQUE",
          "CLINIQUE",
          "CLINIQUE",
          "CLINIQUE",
          "CLINIQUE",
          "CLINIQUE",
          "CLINIQUE",
          "CLINIQUE",
          "CLINIQUE",
          "CLINIQUE",
          "CLINIQUE",
          "CLINIQUE",
          "CLINIQUE",
          "CLINIQUE",
          "CLINIQUE",
          "CLINIQUE",
          "CLINIQUE",
          "CLINIQUE",
          "CLINIQUE",
          "CLINIQUE",
          "CLINIQUE",
          "CLINIQUE",
          "CLINIQUE",
          "CLINIQUE",
          "CLINIQUE",
          "CLINIQUE",
          "CLINIQUE",
          "CLINIQUE",
          "CLINIQUE",
          "CLINIQUE",
          "CLINIQUE",
          "CLINIQUE",
          "CLINIQUE",
          "CLINIQUE",
          "CLINIQUE",
          "CLINIQUE",
          "CLINIQUE",
          "CLINIQUE",
          "CLINIQUE",
          "CLINIQUE",
          "CLINIQUE",
          "CLINIQUE",
          "CLINIQUE",
          "CLINIQUE",
          "CLINIQUE",
          "CLINIQUE",
          "CLINIQUE",
          "CLINIQUE",
          "CLINIQUE",
          "CLINIQUE",
          "CLINIQUE",
          "CLINIQUE",
          "CLINIQUE",
          "CLINIQUE",
          "CLINIQUE",
          "CLINIQUE",
          "CLINIQUE",
          "CLINIQUE",
          "CLINIQUE",
          "CLINIQUE",
          "CLINIQUE",
          "CLINIQUE",
          "CLINIQUE",
          "CLINIQUE",
          "CLINIQUE",
          "CLINIQUE",
          "CLINIQUE",
          "CLINIQUE",
          "CLINIQUE",
          "CLINIQUE",
          "CLINIQUE",
          "CLINIQUE",
          "CLINIQUE",
          "CLINIQUE",
          "CLINIQUE",
          "CLINIQUE",
          "CLINIQUE",
          "CLINIQUE",
          "CLINIQUE",
          "CLINIQUE",
          "CLINIQUE",
          "CLINIQUE",
          "CLINIQUE",
          "CLINIQUE",
          "CLINIQUE",
          "CLINIQUE",
          "CLINIQUE",
          "CLINIQUE",
          "CLINIQUE",
          "CLINIQUE",
          "CLINIQUE",
          "CLINIQUE",
          "CLINIQUE",
          "CLINIQUE",
          "CLINIQUE",
          "CLINIQUE",
          "CLINIQUE",
          "CLINIQUE",
          "CLINIQUE",
          "CLINIQUE",
          "CLINIQUE",
          "CLINIQUE",
          "CLINIQUE",
          "CLINIQUE",
          "CLINIQUE",
          "CLINIQUE",
          "CLINIQUE",
          "CLINIQUE",
          "CLINIQUE",
          "CLINIQUE",
          "CLINIQUE",
          "CLINIQUE",
          "CLINIQUE",
          "CLINIQUE",
          "CLINIQUE",
          "CLINIQUE",
          "CLINIQUE",
          "CLINIQUE",
          "CLINIQUE",
          "CLINIQUE",
          "CLINIQUE",
          "CLINIQUE",
          "CLINIQUE",
          "CLINIQUE",
          "CLINIQUE",
          "CLINIQUE",
          "CLINIQUE",
          "CLINIQUE",
          "CLINIQUE",
          "CLINIQUE",
          "CLINIQUE",
          "CLINIQUE",
          "CLINIQUE",
          "CLINIQUE",
          "CLINIQUE"
         ],
         "x0": " ",
         "xaxis": "x",
         "y": [
          39.5,
          28,
          28,
          18.5,
          29.5,
          84,
          28,
          17,
          19.5,
          30,
          29.5,
          39,
          33,
          27,
          19.5,
          28.5,
          33,
          39.5,
          19.5,
          22,
          29.5,
          23,
          19,
          49.5,
          17,
          28,
          28.5,
          61.5,
          25,
          19,
          28.5,
          31.5,
          28.5,
          36,
          22,
          22,
          39.5,
          28.5,
          17,
          19.5,
          24,
          26,
          42,
          39.5,
          28,
          18.5,
          25,
          28,
          19.5,
          19.5,
          39,
          29,
          39.5,
          58,
          21,
          45,
          53,
          46,
          23,
          30,
          18,
          21,
          27.5,
          32,
          15,
          29,
          58,
          5,
          40,
          18,
          25,
          25,
          28,
          17.5,
          15.5,
          28.5,
          39,
          39,
          18.5,
          46,
          20,
          34,
          19.5,
          24,
          19.5,
          39.5,
          33,
          19.5,
          51.5,
          69,
          15.5,
          53,
          29.5,
          27,
          9.5,
          22,
          39.5,
          39,
          48,
          44.5,
          33,
          31.5,
          19.5,
          14.5,
          25,
          39,
          22,
          40,
          17,
          12,
          48,
          53,
          21,
          29.5,
          26,
          16.5,
          33,
          12,
          29.5,
          29.5,
          66,
          29.5,
          22.5,
          28,
          22,
          55,
          29.5,
          9.5,
          19.5,
          30,
          31,
          8,
          19.5,
          22,
          19.5,
          29.5,
          18.5,
          28.5,
          18.5,
          17,
          18.5,
          27,
          50,
          53,
          47,
          19.5,
          50.5,
          25,
          69,
          32,
          30.5,
          55,
          51,
          22.5,
          19.5,
          22,
          40,
          18,
          28.5,
          58,
          29,
          27,
          16,
          18,
          55.5,
          18,
          30,
          19.5,
          39.5,
          42,
          19.5,
          25,
          52,
          55,
          69,
          30.5,
          17,
          39.5,
          19.5,
          39,
          19.5,
          39.5,
          39.5,
          66,
          19.5,
          19.5,
          28.5,
          21,
          32.5,
          34.5,
          19.5,
          5,
          14.5,
          18.5,
          27,
          28,
          68,
          28.5,
          25,
          21,
          49,
          32.5,
          19,
          35,
          35,
          14.5,
          77,
          39.5,
          14.5,
          17.5,
          32,
          13.5,
          19.5,
          15,
          33,
          16,
          28.5,
          18.5,
          7.5,
          21,
          30,
          19.5,
          18.5,
          14.5,
          29.5,
          19.5,
          39.5,
          29.5,
          28.5,
          19.5,
          26.5,
          50,
          40,
          51
         ],
         "y0": " ",
         "yaxis": "y"
        },
        {
         "alignmentgroup": "True",
         "hovertemplate": "brand=%{x}<br>price=%{y}<extra></extra>",
         "legendgroup": "Dior",
         "marker": {
          "color": "#EF553B"
         },
         "name": "Dior",
         "notched": false,
         "offsetgroup": "Dior",
         "orientation": "v",
         "showlegend": true,
         "type": "box",
         "x": [
          "Dior",
          "Dior",
          "Dior",
          "Dior",
          "Dior",
          "Dior",
          "Dior",
          "Dior",
          "Dior",
          "Dior",
          "Dior",
          "Dior",
          "Dior",
          "Dior",
          "Dior",
          "Dior",
          "Dior",
          "Dior",
          "Dior",
          "Dior",
          "Dior",
          "Dior",
          "Dior",
          "Dior",
          "Dior",
          "Dior",
          "Dior",
          "Dior",
          "Dior",
          "Dior",
          "Dior",
          "Dior",
          "Dior",
          "Dior",
          "Dior",
          "Dior",
          "Dior",
          "Dior",
          "Dior",
          "Dior",
          "Dior",
          "Dior",
          "Dior",
          "Dior",
          "Dior",
          "Dior",
          "Dior",
          "Dior",
          "Dior",
          "Dior",
          "Dior",
          "Dior",
          "Dior",
          "Dior",
          "Dior",
          "Dior",
          "Dior",
          "Dior",
          "Dior",
          "Dior",
          "Dior",
          "Dior",
          "Dior",
          "Dior",
          "Dior",
          "Dior",
          "Dior",
          "Dior",
          "Dior",
          "Dior",
          "Dior",
          "Dior",
          "Dior",
          "Dior",
          "Dior",
          "Dior",
          "Dior",
          "Dior",
          "Dior",
          "Dior",
          "Dior",
          "Dior",
          "Dior",
          "Dior",
          "Dior",
          "Dior",
          "Dior",
          "Dior",
          "Dior",
          "Dior",
          "Dior",
          "Dior",
          "Dior",
          "Dior",
          "Dior",
          "Dior",
          "Dior",
          "Dior",
          "Dior",
          "Dior",
          "Dior",
          "Dior",
          "Dior",
          "Dior",
          "Dior",
          "Dior",
          "Dior",
          "Dior",
          "Dior",
          "Dior",
          "Dior",
          "Dior",
          "Dior",
          "Dior",
          "Dior",
          "Dior",
          "Dior",
          "Dior",
          "Dior",
          "Dior",
          "Dior",
          "Dior",
          "Dior",
          "Dior",
          "Dior",
          "Dior",
          "Dior",
          "Dior",
          "Dior",
          "Dior",
          "Dior",
          "Dior",
          "Dior",
          "Dior",
          "Dior",
          "Dior",
          "Dior",
          "Dior",
          "Dior",
          "Dior",
          "Dior",
          "Dior",
          "Dior",
          "Dior",
          "Dior"
         ],
         "x0": " ",
         "xaxis": "x",
         "y": [
          34,
          62,
          49,
          77,
          40,
          29.5,
          52,
          52,
          95,
          29.5,
          34,
          36,
          34,
          29,
          95,
          105,
          85,
          30,
          29.5,
          45,
          38,
          29.5,
          34,
          29.5,
          38,
          52,
          105,
          54,
          85,
          38,
          165,
          150,
          29.5,
          150,
          82,
          37,
          45,
          107,
          107,
          36,
          29.5,
          48,
          50,
          62,
          95,
          95,
          69,
          100,
          30.5,
          38,
          38,
          30,
          30,
          38,
          95,
          135,
          155,
          38,
          44,
          48,
          95,
          25,
          129,
          38,
          29.5,
          100,
          175,
          149,
          75,
          69,
          34,
          105,
          95,
          85,
          105,
          38,
          29.5,
          27,
          155,
          49.5,
          40,
          72,
          105,
          46,
          43,
          85,
          73,
          29.5,
          75,
          105,
          79,
          105,
          95,
          29,
          125,
          55,
          42,
          75,
          52,
          75,
          140,
          55,
          57,
          43,
          45,
          34,
          75,
          79,
          49,
          57,
          59,
          95,
          135,
          55,
          65,
          43,
          38,
          48,
          26,
          60,
          105,
          60,
          29.5,
          59,
          45,
          43,
          25,
          69,
          62,
          43,
          33,
          140,
          95,
          62,
          85,
          55,
          25,
          69,
          95,
          128,
          140,
          79,
          40,
          69,
          149
         ],
         "y0": " ",
         "yaxis": "y"
        },
        {
         "alignmentgroup": "True",
         "hovertemplate": "brand=%{x}<br>price=%{y}<extra></extra>",
         "legendgroup": "SEPHORA COLLECTION",
         "marker": {
          "color": "#00cc96"
         },
         "name": "SEPHORA COLLECTION",
         "notched": false,
         "offsetgroup": "SEPHORA COLLECTION",
         "orientation": "v",
         "showlegend": true,
         "type": "box",
         "x": [
          "SEPHORA COLLECTION",
          "SEPHORA COLLECTION",
          "SEPHORA COLLECTION",
          "SEPHORA COLLECTION",
          "SEPHORA COLLECTION",
          "SEPHORA COLLECTION",
          "SEPHORA COLLECTION",
          "SEPHORA COLLECTION",
          "SEPHORA COLLECTION",
          "SEPHORA COLLECTION",
          "SEPHORA COLLECTION",
          "SEPHORA COLLECTION",
          "SEPHORA COLLECTION",
          "SEPHORA COLLECTION",
          "SEPHORA COLLECTION",
          "SEPHORA COLLECTION",
          "SEPHORA COLLECTION",
          "SEPHORA COLLECTION",
          "SEPHORA COLLECTION",
          "SEPHORA COLLECTION",
          "SEPHORA COLLECTION",
          "SEPHORA COLLECTION",
          "SEPHORA COLLECTION",
          "SEPHORA COLLECTION",
          "SEPHORA COLLECTION",
          "SEPHORA COLLECTION",
          "SEPHORA COLLECTION",
          "SEPHORA COLLECTION",
          "SEPHORA COLLECTION",
          "SEPHORA COLLECTION",
          "SEPHORA COLLECTION",
          "SEPHORA COLLECTION",
          "SEPHORA COLLECTION",
          "SEPHORA COLLECTION",
          "SEPHORA COLLECTION",
          "SEPHORA COLLECTION",
          "SEPHORA COLLECTION",
          "SEPHORA COLLECTION",
          "SEPHORA COLLECTION",
          "SEPHORA COLLECTION",
          "SEPHORA COLLECTION",
          "SEPHORA COLLECTION",
          "SEPHORA COLLECTION",
          "SEPHORA COLLECTION",
          "SEPHORA COLLECTION",
          "SEPHORA COLLECTION",
          "SEPHORA COLLECTION",
          "SEPHORA COLLECTION",
          "SEPHORA COLLECTION",
          "SEPHORA COLLECTION",
          "SEPHORA COLLECTION",
          "SEPHORA COLLECTION",
          "SEPHORA COLLECTION",
          "SEPHORA COLLECTION",
          "SEPHORA COLLECTION",
          "SEPHORA COLLECTION",
          "SEPHORA COLLECTION",
          "SEPHORA COLLECTION",
          "SEPHORA COLLECTION",
          "SEPHORA COLLECTION",
          "SEPHORA COLLECTION",
          "SEPHORA COLLECTION",
          "SEPHORA COLLECTION",
          "SEPHORA COLLECTION",
          "SEPHORA COLLECTION",
          "SEPHORA COLLECTION",
          "SEPHORA COLLECTION",
          "SEPHORA COLLECTION",
          "SEPHORA COLLECTION",
          "SEPHORA COLLECTION",
          "SEPHORA COLLECTION",
          "SEPHORA COLLECTION",
          "SEPHORA COLLECTION",
          "SEPHORA COLLECTION",
          "SEPHORA COLLECTION",
          "SEPHORA COLLECTION",
          "SEPHORA COLLECTION",
          "SEPHORA COLLECTION",
          "SEPHORA COLLECTION",
          "SEPHORA COLLECTION",
          "SEPHORA COLLECTION",
          "SEPHORA COLLECTION",
          "SEPHORA COLLECTION",
          "SEPHORA COLLECTION",
          "SEPHORA COLLECTION",
          "SEPHORA COLLECTION",
          "SEPHORA COLLECTION",
          "SEPHORA COLLECTION",
          "SEPHORA COLLECTION",
          "SEPHORA COLLECTION",
          "SEPHORA COLLECTION",
          "SEPHORA COLLECTION",
          "SEPHORA COLLECTION",
          "SEPHORA COLLECTION",
          "SEPHORA COLLECTION",
          "SEPHORA COLLECTION",
          "SEPHORA COLLECTION",
          "SEPHORA COLLECTION",
          "SEPHORA COLLECTION",
          "SEPHORA COLLECTION",
          "SEPHORA COLLECTION",
          "SEPHORA COLLECTION",
          "SEPHORA COLLECTION",
          "SEPHORA COLLECTION",
          "SEPHORA COLLECTION",
          "SEPHORA COLLECTION",
          "SEPHORA COLLECTION",
          "SEPHORA COLLECTION",
          "SEPHORA COLLECTION",
          "SEPHORA COLLECTION",
          "SEPHORA COLLECTION",
          "SEPHORA COLLECTION",
          "SEPHORA COLLECTION",
          "SEPHORA COLLECTION",
          "SEPHORA COLLECTION",
          "SEPHORA COLLECTION",
          "SEPHORA COLLECTION",
          "SEPHORA COLLECTION",
          "SEPHORA COLLECTION",
          "SEPHORA COLLECTION",
          "SEPHORA COLLECTION",
          "SEPHORA COLLECTION",
          "SEPHORA COLLECTION",
          "SEPHORA COLLECTION",
          "SEPHORA COLLECTION",
          "SEPHORA COLLECTION",
          "SEPHORA COLLECTION",
          "SEPHORA COLLECTION",
          "SEPHORA COLLECTION",
          "SEPHORA COLLECTION",
          "SEPHORA COLLECTION",
          "SEPHORA COLLECTION",
          "SEPHORA COLLECTION",
          "SEPHORA COLLECTION",
          "SEPHORA COLLECTION",
          "SEPHORA COLLECTION",
          "SEPHORA COLLECTION",
          "SEPHORA COLLECTION",
          "SEPHORA COLLECTION",
          "SEPHORA COLLECTION",
          "SEPHORA COLLECTION",
          "SEPHORA COLLECTION",
          "SEPHORA COLLECTION",
          "SEPHORA COLLECTION",
          "SEPHORA COLLECTION",
          "SEPHORA COLLECTION",
          "SEPHORA COLLECTION",
          "SEPHORA COLLECTION",
          "SEPHORA COLLECTION",
          "SEPHORA COLLECTION",
          "SEPHORA COLLECTION",
          "SEPHORA COLLECTION",
          "SEPHORA COLLECTION",
          "SEPHORA COLLECTION",
          "SEPHORA COLLECTION",
          "SEPHORA COLLECTION",
          "SEPHORA COLLECTION",
          "SEPHORA COLLECTION",
          "SEPHORA COLLECTION",
          "SEPHORA COLLECTION",
          "SEPHORA COLLECTION",
          "SEPHORA COLLECTION",
          "SEPHORA COLLECTION",
          "SEPHORA COLLECTION",
          "SEPHORA COLLECTION",
          "SEPHORA COLLECTION",
          "SEPHORA COLLECTION",
          "SEPHORA COLLECTION",
          "SEPHORA COLLECTION",
          "SEPHORA COLLECTION",
          "SEPHORA COLLECTION",
          "SEPHORA COLLECTION",
          "SEPHORA COLLECTION",
          "SEPHORA COLLECTION",
          "SEPHORA COLLECTION",
          "SEPHORA COLLECTION",
          "SEPHORA COLLECTION",
          "SEPHORA COLLECTION",
          "SEPHORA COLLECTION",
          "SEPHORA COLLECTION",
          "SEPHORA COLLECTION",
          "SEPHORA COLLECTION",
          "SEPHORA COLLECTION",
          "SEPHORA COLLECTION",
          "SEPHORA COLLECTION",
          "SEPHORA COLLECTION",
          "SEPHORA COLLECTION",
          "SEPHORA COLLECTION",
          "SEPHORA COLLECTION",
          "SEPHORA COLLECTION",
          "SEPHORA COLLECTION",
          "SEPHORA COLLECTION",
          "SEPHORA COLLECTION",
          "SEPHORA COLLECTION",
          "SEPHORA COLLECTION",
          "SEPHORA COLLECTION",
          "SEPHORA COLLECTION",
          "SEPHORA COLLECTION",
          "SEPHORA COLLECTION",
          "SEPHORA COLLECTION",
          "SEPHORA COLLECTION",
          "SEPHORA COLLECTION",
          "SEPHORA COLLECTION",
          "SEPHORA COLLECTION",
          "SEPHORA COLLECTION",
          "SEPHORA COLLECTION",
          "SEPHORA COLLECTION",
          "SEPHORA COLLECTION",
          "SEPHORA COLLECTION",
          "SEPHORA COLLECTION",
          "SEPHORA COLLECTION",
          "SEPHORA COLLECTION",
          "SEPHORA COLLECTION",
          "SEPHORA COLLECTION",
          "SEPHORA COLLECTION",
          "SEPHORA COLLECTION",
          "SEPHORA COLLECTION",
          "SEPHORA COLLECTION",
          "SEPHORA COLLECTION",
          "SEPHORA COLLECTION",
          "SEPHORA COLLECTION",
          "SEPHORA COLLECTION",
          "SEPHORA COLLECTION",
          "SEPHORA COLLECTION",
          "SEPHORA COLLECTION",
          "SEPHORA COLLECTION",
          "SEPHORA COLLECTION",
          "SEPHORA COLLECTION",
          "SEPHORA COLLECTION",
          "SEPHORA COLLECTION",
          "SEPHORA COLLECTION",
          "SEPHORA COLLECTION",
          "SEPHORA COLLECTION",
          "SEPHORA COLLECTION",
          "SEPHORA COLLECTION",
          "SEPHORA COLLECTION",
          "SEPHORA COLLECTION",
          "SEPHORA COLLECTION",
          "SEPHORA COLLECTION",
          "SEPHORA COLLECTION",
          "SEPHORA COLLECTION",
          "SEPHORA COLLECTION",
          "SEPHORA COLLECTION",
          "SEPHORA COLLECTION",
          "SEPHORA COLLECTION",
          "SEPHORA COLLECTION",
          "SEPHORA COLLECTION",
          "SEPHORA COLLECTION",
          "SEPHORA COLLECTION",
          "SEPHORA COLLECTION",
          "SEPHORA COLLECTION",
          "SEPHORA COLLECTION",
          "SEPHORA COLLECTION",
          "SEPHORA COLLECTION",
          "SEPHORA COLLECTION",
          "SEPHORA COLLECTION",
          "SEPHORA COLLECTION",
          "SEPHORA COLLECTION",
          "SEPHORA COLLECTION",
          "SEPHORA COLLECTION",
          "SEPHORA COLLECTION",
          "SEPHORA COLLECTION",
          "SEPHORA COLLECTION",
          "SEPHORA COLLECTION",
          "SEPHORA COLLECTION",
          "SEPHORA COLLECTION",
          "SEPHORA COLLECTION",
          "SEPHORA COLLECTION",
          "SEPHORA COLLECTION",
          "SEPHORA COLLECTION",
          "SEPHORA COLLECTION",
          "SEPHORA COLLECTION",
          "SEPHORA COLLECTION",
          "SEPHORA COLLECTION",
          "SEPHORA COLLECTION",
          "SEPHORA COLLECTION",
          "SEPHORA COLLECTION",
          "SEPHORA COLLECTION",
          "SEPHORA COLLECTION",
          "SEPHORA COLLECTION",
          "SEPHORA COLLECTION",
          "SEPHORA COLLECTION",
          "SEPHORA COLLECTION",
          "SEPHORA COLLECTION",
          "SEPHORA COLLECTION",
          "SEPHORA COLLECTION",
          "SEPHORA COLLECTION",
          "SEPHORA COLLECTION",
          "SEPHORA COLLECTION",
          "SEPHORA COLLECTION",
          "SEPHORA COLLECTION",
          "SEPHORA COLLECTION",
          "SEPHORA COLLECTION",
          "SEPHORA COLLECTION",
          "SEPHORA COLLECTION",
          "SEPHORA COLLECTION",
          "SEPHORA COLLECTION",
          "SEPHORA COLLECTION",
          "SEPHORA COLLECTION",
          "SEPHORA COLLECTION",
          "SEPHORA COLLECTION",
          "SEPHORA COLLECTION",
          "SEPHORA COLLECTION",
          "SEPHORA COLLECTION",
          "SEPHORA COLLECTION",
          "SEPHORA COLLECTION",
          "SEPHORA COLLECTION",
          "SEPHORA COLLECTION",
          "SEPHORA COLLECTION",
          "SEPHORA COLLECTION",
          "SEPHORA COLLECTION",
          "SEPHORA COLLECTION",
          "SEPHORA COLLECTION",
          "SEPHORA COLLECTION",
          "SEPHORA COLLECTION",
          "SEPHORA COLLECTION",
          "SEPHORA COLLECTION",
          "SEPHORA COLLECTION",
          "SEPHORA COLLECTION",
          "SEPHORA COLLECTION",
          "SEPHORA COLLECTION",
          "SEPHORA COLLECTION",
          "SEPHORA COLLECTION",
          "SEPHORA COLLECTION",
          "SEPHORA COLLECTION",
          "SEPHORA COLLECTION",
          "SEPHORA COLLECTION",
          "SEPHORA COLLECTION",
          "SEPHORA COLLECTION",
          "SEPHORA COLLECTION",
          "SEPHORA COLLECTION",
          "SEPHORA COLLECTION",
          "SEPHORA COLLECTION",
          "SEPHORA COLLECTION",
          "SEPHORA COLLECTION",
          "SEPHORA COLLECTION",
          "SEPHORA COLLECTION",
          "SEPHORA COLLECTION",
          "SEPHORA COLLECTION",
          "SEPHORA COLLECTION",
          "SEPHORA COLLECTION",
          "SEPHORA COLLECTION",
          "SEPHORA COLLECTION",
          "SEPHORA COLLECTION",
          "SEPHORA COLLECTION",
          "SEPHORA COLLECTION",
          "SEPHORA COLLECTION",
          "SEPHORA COLLECTION",
          "SEPHORA COLLECTION",
          "SEPHORA COLLECTION",
          "SEPHORA COLLECTION",
          "SEPHORA COLLECTION",
          "SEPHORA COLLECTION",
          "SEPHORA COLLECTION",
          "SEPHORA COLLECTION",
          "SEPHORA COLLECTION",
          "SEPHORA COLLECTION",
          "SEPHORA COLLECTION",
          "SEPHORA COLLECTION",
          "SEPHORA COLLECTION",
          "SEPHORA COLLECTION",
          "SEPHORA COLLECTION",
          "SEPHORA COLLECTION",
          "SEPHORA COLLECTION",
          "SEPHORA COLLECTION",
          "SEPHORA COLLECTION",
          "SEPHORA COLLECTION",
          "SEPHORA COLLECTION",
          "SEPHORA COLLECTION",
          "SEPHORA COLLECTION",
          "SEPHORA COLLECTION",
          "SEPHORA COLLECTION",
          "SEPHORA COLLECTION",
          "SEPHORA COLLECTION",
          "SEPHORA COLLECTION",
          "SEPHORA COLLECTION",
          "SEPHORA COLLECTION",
          "SEPHORA COLLECTION",
          "SEPHORA COLLECTION",
          "SEPHORA COLLECTION",
          "SEPHORA COLLECTION",
          "SEPHORA COLLECTION",
          "SEPHORA COLLECTION",
          "SEPHORA COLLECTION",
          "SEPHORA COLLECTION",
          "SEPHORA COLLECTION",
          "SEPHORA COLLECTION",
          "SEPHORA COLLECTION",
          "SEPHORA COLLECTION",
          "SEPHORA COLLECTION",
          "SEPHORA COLLECTION",
          "SEPHORA COLLECTION",
          "SEPHORA COLLECTION",
          "SEPHORA COLLECTION",
          "SEPHORA COLLECTION",
          "SEPHORA COLLECTION",
          "SEPHORA COLLECTION",
          "SEPHORA COLLECTION",
          "SEPHORA COLLECTION",
          "SEPHORA COLLECTION",
          "SEPHORA COLLECTION",
          "SEPHORA COLLECTION",
          "SEPHORA COLLECTION",
          "SEPHORA COLLECTION",
          "SEPHORA COLLECTION",
          "SEPHORA COLLECTION",
          "SEPHORA COLLECTION",
          "SEPHORA COLLECTION",
          "SEPHORA COLLECTION",
          "SEPHORA COLLECTION",
          "SEPHORA COLLECTION",
          "SEPHORA COLLECTION",
          "SEPHORA COLLECTION",
          "SEPHORA COLLECTION",
          "SEPHORA COLLECTION",
          "SEPHORA COLLECTION",
          "SEPHORA COLLECTION",
          "SEPHORA COLLECTION",
          "SEPHORA COLLECTION",
          "SEPHORA COLLECTION",
          "SEPHORA COLLECTION",
          "SEPHORA COLLECTION",
          "SEPHORA COLLECTION",
          "SEPHORA COLLECTION",
          "SEPHORA COLLECTION",
          "SEPHORA COLLECTION",
          "SEPHORA COLLECTION",
          "SEPHORA COLLECTION",
          "SEPHORA COLLECTION",
          "SEPHORA COLLECTION",
          "SEPHORA COLLECTION",
          "SEPHORA COLLECTION",
          "SEPHORA COLLECTION",
          "SEPHORA COLLECTION",
          "SEPHORA COLLECTION",
          "SEPHORA COLLECTION",
          "SEPHORA COLLECTION",
          "SEPHORA COLLECTION",
          "SEPHORA COLLECTION",
          "SEPHORA COLLECTION",
          "SEPHORA COLLECTION",
          "SEPHORA COLLECTION",
          "SEPHORA COLLECTION",
          "SEPHORA COLLECTION",
          "SEPHORA COLLECTION",
          "SEPHORA COLLECTION",
          "SEPHORA COLLECTION",
          "SEPHORA COLLECTION",
          "SEPHORA COLLECTION",
          "SEPHORA COLLECTION",
          "SEPHORA COLLECTION",
          "SEPHORA COLLECTION",
          "SEPHORA COLLECTION",
          "SEPHORA COLLECTION",
          "SEPHORA COLLECTION",
          "SEPHORA COLLECTION",
          "SEPHORA COLLECTION",
          "SEPHORA COLLECTION",
          "SEPHORA COLLECTION",
          "SEPHORA COLLECTION",
          "SEPHORA COLLECTION",
          "SEPHORA COLLECTION",
          "SEPHORA COLLECTION",
          "SEPHORA COLLECTION",
          "SEPHORA COLLECTION",
          "SEPHORA COLLECTION",
          "SEPHORA COLLECTION",
          "SEPHORA COLLECTION",
          "SEPHORA COLLECTION",
          "SEPHORA COLLECTION",
          "SEPHORA COLLECTION",
          "SEPHORA COLLECTION",
          "SEPHORA COLLECTION",
          "SEPHORA COLLECTION",
          "SEPHORA COLLECTION",
          "SEPHORA COLLECTION",
          "SEPHORA COLLECTION",
          "SEPHORA COLLECTION",
          "SEPHORA COLLECTION",
          "SEPHORA COLLECTION",
          "SEPHORA COLLECTION",
          "SEPHORA COLLECTION",
          "SEPHORA COLLECTION",
          "SEPHORA COLLECTION",
          "SEPHORA COLLECTION",
          "SEPHORA COLLECTION",
          "SEPHORA COLLECTION",
          "SEPHORA COLLECTION",
          "SEPHORA COLLECTION",
          "SEPHORA COLLECTION",
          "SEPHORA COLLECTION",
          "SEPHORA COLLECTION",
          "SEPHORA COLLECTION",
          "SEPHORA COLLECTION",
          "SEPHORA COLLECTION",
          "SEPHORA COLLECTION"
         ],
         "x0": " ",
         "xaxis": "x",
         "y": [
          8,
          6,
          13,
          70,
          20,
          20,
          15,
          12,
          8,
          8,
          20,
          8,
          11,
          10,
          5,
          58,
          9,
          14,
          22,
          14,
          17,
          45,
          6,
          16,
          6,
          20,
          68,
          14,
          5,
          12,
          7,
          69,
          3,
          9,
          5,
          10,
          6,
          40,
          25,
          10,
          8,
          20,
          17,
          42,
          9,
          17,
          13,
          26,
          28,
          12,
          8,
          6,
          11,
          60,
          6,
          17,
          20,
          8,
          15,
          19,
          20,
          16,
          12,
          5,
          10,
          5,
          5,
          68,
          20,
          12,
          16,
          14,
          14,
          9,
          12,
          12,
          16,
          50,
          6,
          12,
          68,
          8,
          10,
          3,
          32,
          8,
          14,
          45,
          10,
          28,
          14,
          8,
          5,
          15,
          18,
          17,
          8,
          14,
          15,
          10,
          18,
          60,
          4,
          7,
          18,
          20,
          18,
          10,
          5,
          5,
          6,
          6,
          20,
          10,
          6,
          20,
          14,
          6,
          8,
          15,
          9,
          9,
          29,
          8,
          10,
          14,
          14,
          30,
          30,
          14,
          14,
          34,
          34,
          5,
          8,
          18,
          9,
          8,
          8,
          6,
          12,
          28,
          9,
          16,
          36,
          9,
          12,
          15,
          18,
          20,
          14,
          45,
          34,
          14,
          6,
          12,
          8,
          6,
          6,
          8,
          20,
          6,
          6,
          3,
          8,
          12,
          68,
          15,
          15,
          50,
          15,
          14,
          9,
          6,
          55,
          14,
          8,
          30,
          10,
          10,
          20,
          8,
          14,
          14,
          16,
          34,
          8,
          10,
          10,
          42,
          18,
          15,
          30,
          17,
          15,
          16,
          50,
          30,
          22,
          14,
          40,
          18,
          23,
          8,
          34,
          12,
          36,
          4,
          16,
          17,
          16,
          12,
          10,
          17,
          10,
          24,
          68,
          17,
          22,
          12,
          9,
          30,
          22,
          19,
          16,
          10,
          28,
          16,
          15,
          40,
          12,
          14,
          7,
          8,
          10,
          3,
          14,
          15,
          12,
          52,
          8,
          8,
          18,
          30,
          3.5,
          6,
          13,
          20,
          9,
          16,
          12,
          30,
          15,
          14,
          20,
          16,
          10,
          59,
          8,
          12,
          10,
          12,
          8,
          28,
          12,
          14,
          5,
          20,
          12,
          12,
          15,
          32,
          12,
          20,
          29,
          17,
          6,
          49,
          25,
          16,
          6,
          8,
          30,
          8,
          10,
          16,
          18,
          14,
          15,
          12,
          8,
          110,
          105,
          12,
          10,
          22,
          30,
          15,
          8,
          12,
          20,
          30,
          8,
          10,
          16,
          25,
          20,
          12,
          85,
          20,
          14,
          45,
          40,
          3,
          10,
          16,
          8,
          9,
          30,
          55,
          22,
          16,
          18,
          24,
          40,
          29,
          30,
          8,
          18,
          6,
          9,
          10,
          30,
          12,
          7,
          26,
          3,
          16,
          14,
          5,
          8,
          8,
          34,
          15,
          10,
          75,
          20,
          17,
          6,
          8,
          12,
          35,
          14,
          12,
          22,
          16,
          20,
          14,
          100,
          8,
          12,
          14,
          25,
          24,
          26,
          3,
          8,
          14,
          20,
          30,
          14,
          5,
          15,
          60,
          10,
          10,
          10,
          8,
          12,
          8,
          24,
          17,
          12,
          18,
          16,
          4.95,
          14,
          9,
          12,
          10,
          14,
          25,
          20,
          10,
          8,
          14,
          20,
          20,
          16,
          8,
          5,
          20,
          8,
          20,
          32,
          25,
          11,
          38,
          7,
          7,
          7,
          30,
          10,
          12,
          12,
          8,
          7,
          36,
          36,
          20,
          12,
          7,
          12,
          28,
          22,
          32,
          30,
          16,
          12,
          28,
          17,
          6,
          7,
          20,
          34,
          34,
          7,
          3,
          24,
          12,
          12,
          20,
          28,
          18,
          8,
          32,
          20,
          14,
          5,
          9,
          20,
          34,
          6,
          35,
          12,
          32,
          7,
          14,
          14,
          6,
          20,
          12,
          32,
          7,
          9,
          24,
          14,
          12.5,
          10,
          6,
          4,
          13,
          16,
          28,
          54,
          18,
          20,
          62,
          24,
          17,
          15,
          16,
          10,
          17,
          25,
          39,
          12,
          12,
          2,
          49,
          8,
          6,
          15,
          16,
          50,
          50
         ],
         "y0": " ",
         "yaxis": "y"
        },
        {
         "alignmentgroup": "True",
         "hovertemplate": "brand=%{x}<br>price=%{y}<extra></extra>",
         "legendgroup": "tarte",
         "marker": {
          "color": "#ab63fa"
         },
         "name": "tarte",
         "notched": false,
         "offsetgroup": "tarte",
         "orientation": "v",
         "showlegend": true,
         "type": "box",
         "x": [
          "tarte",
          "tarte",
          "tarte",
          "tarte",
          "tarte",
          "tarte",
          "tarte",
          "tarte",
          "tarte",
          "tarte",
          "tarte",
          "tarte",
          "tarte",
          "tarte",
          "tarte",
          "tarte",
          "tarte",
          "tarte",
          "tarte",
          "tarte",
          "tarte",
          "tarte",
          "tarte",
          "tarte",
          "tarte",
          "tarte",
          "tarte",
          "tarte",
          "tarte",
          "tarte",
          "tarte",
          "tarte",
          "tarte",
          "tarte",
          "tarte",
          "tarte",
          "tarte",
          "tarte",
          "tarte",
          "tarte",
          "tarte",
          "tarte",
          "tarte",
          "tarte",
          "tarte",
          "tarte",
          "tarte",
          "tarte",
          "tarte",
          "tarte",
          "tarte",
          "tarte",
          "tarte",
          "tarte",
          "tarte",
          "tarte",
          "tarte",
          "tarte",
          "tarte",
          "tarte",
          "tarte",
          "tarte",
          "tarte",
          "tarte",
          "tarte",
          "tarte",
          "tarte",
          "tarte",
          "tarte",
          "tarte",
          "tarte",
          "tarte",
          "tarte",
          "tarte",
          "tarte",
          "tarte",
          "tarte",
          "tarte",
          "tarte",
          "tarte",
          "tarte",
          "tarte",
          "tarte",
          "tarte",
          "tarte",
          "tarte",
          "tarte",
          "tarte",
          "tarte",
          "tarte",
          "tarte",
          "tarte",
          "tarte",
          "tarte",
          "tarte",
          "tarte",
          "tarte",
          "tarte",
          "tarte",
          "tarte",
          "tarte",
          "tarte",
          "tarte",
          "tarte",
          "tarte",
          "tarte",
          "tarte",
          "tarte",
          "tarte",
          "tarte",
          "tarte",
          "tarte",
          "tarte",
          "tarte",
          "tarte",
          "tarte",
          "tarte",
          "tarte",
          "tarte",
          "tarte",
          "tarte",
          "tarte",
          "tarte",
          "tarte",
          "tarte",
          "tarte",
          "tarte",
          "tarte",
          "tarte",
          "tarte",
          "tarte",
          "tarte",
          "tarte",
          "tarte",
          "tarte",
          "tarte",
          "tarte",
          "tarte",
          "tarte",
          "tarte",
          "tarte",
          "tarte",
          "tarte",
          "tarte",
          "tarte",
          "tarte",
          "tarte",
          "tarte",
          "tarte",
          "tarte",
          "tarte",
          "tarte",
          "tarte",
          "tarte",
          "tarte",
          "tarte",
          "tarte",
          "tarte",
          "tarte",
          "tarte",
          "tarte",
          "tarte",
          "tarte",
          "tarte",
          "tarte",
          "tarte",
          "tarte",
          "tarte",
          "tarte",
          "tarte"
         ],
         "x0": " ",
         "xaxis": "x",
         "y": [
          26,
          29,
          29,
          39,
          39,
          37,
          23,
          23,
          19,
          10,
          34,
          39,
          39,
          24,
          36,
          29,
          26,
          23,
          39,
          22,
          21,
          26,
          30,
          39,
          39,
          22,
          34,
          28,
          15,
          48,
          39,
          45,
          18,
          22,
          23,
          34,
          14,
          38,
          25,
          20,
          19,
          39,
          25,
          25,
          23,
          20,
          15,
          39,
          19,
          19,
          39,
          12,
          23,
          12,
          21,
          14,
          23,
          33,
          42,
          20,
          45,
          32,
          29,
          30,
          39,
          12,
          11,
          29,
          29,
          32,
          29,
          29,
          39,
          12,
          29,
          15,
          12,
          28,
          28,
          16,
          12,
          44,
          9,
          24,
          24,
          18,
          19,
          24,
          19,
          24,
          49,
          28,
          40,
          20,
          19,
          14,
          28,
          39,
          12,
          12,
          22,
          32,
          22,
          18,
          39,
          28,
          42,
          15,
          19,
          15,
          22,
          24,
          16,
          14,
          49,
          15,
          21,
          20,
          19,
          21,
          19,
          35,
          14,
          16,
          32,
          17,
          32,
          36,
          25,
          19,
          12,
          14,
          12,
          39,
          23,
          16,
          140,
          12,
          20,
          16,
          14,
          14,
          19,
          24,
          28,
          24,
          17,
          19,
          9,
          30,
          35,
          24,
          12,
          25,
          12,
          29,
          14,
          25,
          21,
          12,
          35,
          25,
          25,
          18,
          19,
          105,
          30,
          42,
          20,
          30
         ],
         "y0": " ",
         "yaxis": "y"
        },
        {
         "alignmentgroup": "True",
         "hovertemplate": "brand=%{x}<br>price=%{y}<extra></extra>",
         "legendgroup": "TOM FORD",
         "marker": {
          "color": "#FFA15A"
         },
         "name": "TOM FORD",
         "notched": false,
         "offsetgroup": "TOM FORD",
         "orientation": "v",
         "showlegend": true,
         "type": "box",
         "x": [
          "TOM FORD",
          "TOM FORD",
          "TOM FORD",
          "TOM FORD",
          "TOM FORD",
          "TOM FORD",
          "TOM FORD",
          "TOM FORD",
          "TOM FORD",
          "TOM FORD",
          "TOM FORD",
          "TOM FORD",
          "TOM FORD",
          "TOM FORD",
          "TOM FORD",
          "TOM FORD",
          "TOM FORD",
          "TOM FORD",
          "TOM FORD",
          "TOM FORD",
          "TOM FORD",
          "TOM FORD",
          "TOM FORD",
          "TOM FORD",
          "TOM FORD",
          "TOM FORD",
          "TOM FORD",
          "TOM FORD",
          "TOM FORD",
          "TOM FORD",
          "TOM FORD",
          "TOM FORD",
          "TOM FORD",
          "TOM FORD",
          "TOM FORD",
          "TOM FORD",
          "TOM FORD",
          "TOM FORD",
          "TOM FORD",
          "TOM FORD",
          "TOM FORD",
          "TOM FORD",
          "TOM FORD",
          "TOM FORD",
          "TOM FORD",
          "TOM FORD",
          "TOM FORD",
          "TOM FORD",
          "TOM FORD",
          "TOM FORD",
          "TOM FORD",
          "TOM FORD",
          "TOM FORD",
          "TOM FORD",
          "TOM FORD",
          "TOM FORD",
          "TOM FORD",
          "TOM FORD",
          "TOM FORD",
          "TOM FORD",
          "TOM FORD",
          "TOM FORD",
          "TOM FORD",
          "TOM FORD",
          "TOM FORD",
          "TOM FORD",
          "TOM FORD",
          "TOM FORD",
          "TOM FORD",
          "TOM FORD",
          "TOM FORD",
          "TOM FORD",
          "TOM FORD",
          "TOM FORD",
          "TOM FORD",
          "TOM FORD",
          "TOM FORD",
          "TOM FORD",
          "TOM FORD",
          "TOM FORD",
          "TOM FORD",
          "TOM FORD",
          "TOM FORD",
          "TOM FORD",
          "TOM FORD",
          "TOM FORD",
          "TOM FORD",
          "TOM FORD",
          "TOM FORD",
          "TOM FORD",
          "TOM FORD",
          "TOM FORD",
          "TOM FORD",
          "TOM FORD",
          "TOM FORD",
          "TOM FORD",
          "TOM FORD",
          "TOM FORD",
          "TOM FORD",
          "TOM FORD",
          "TOM FORD",
          "TOM FORD",
          "TOM FORD",
          "TOM FORD",
          "TOM FORD",
          "TOM FORD",
          "TOM FORD",
          "TOM FORD",
          "TOM FORD",
          "TOM FORD",
          "TOM FORD",
          "TOM FORD",
          "TOM FORD",
          "TOM FORD",
          "TOM FORD",
          "TOM FORD",
          "TOM FORD",
          "TOM FORD",
          "TOM FORD",
          "TOM FORD",
          "TOM FORD",
          "TOM FORD",
          "TOM FORD",
          "TOM FORD",
          "TOM FORD",
          "TOM FORD",
          "TOM FORD",
          "TOM FORD",
          "TOM FORD",
          "TOM FORD",
          "TOM FORD",
          "TOM FORD",
          "TOM FORD",
          "TOM FORD",
          "TOM FORD",
          "TOM FORD",
          "TOM FORD",
          "TOM FORD",
          "TOM FORD",
          "TOM FORD",
          "TOM FORD",
          "TOM FORD",
          "TOM FORD",
          "TOM FORD",
          "TOM FORD",
          "TOM FORD",
          "TOM FORD",
          "TOM FORD",
          "TOM FORD",
          "TOM FORD",
          "TOM FORD",
          "TOM FORD",
          "TOM FORD",
          "TOM FORD",
          "TOM FORD",
          "TOM FORD",
          "TOM FORD",
          "TOM FORD",
          "TOM FORD",
          "TOM FORD",
          "TOM FORD"
         ],
         "x0": " ",
         "xaxis": "x",
         "y": [
          100,
          34,
          88,
          240,
          240,
          55,
          335,
          128,
          240,
          88,
          55,
          55,
          88,
          335,
          240,
          128,
          335,
          240,
          72,
          90,
          36,
          112,
          59,
          63,
          62,
          180,
          240,
          128,
          46,
          57,
          60,
          240,
          60,
          88,
          54,
          55,
          46,
          55,
          60,
          240,
          195,
          240,
          49,
          54,
          55,
          128,
          49,
          60,
          128,
          240,
          50,
          132,
          92,
          54,
          128,
          60,
          115,
          46,
          128,
          88,
          75,
          128,
          240,
          55,
          128,
          55,
          46,
          44,
          60,
          49,
          55,
          240,
          70,
          70,
          240,
          36,
          240,
          60,
          128,
          88,
          60,
          70,
          60,
          110,
          240,
          54,
          84,
          70,
          325,
          240,
          180,
          49,
          49,
          46,
          100,
          60,
          335,
          128,
          40,
          240,
          53,
          240,
          46,
          240,
          47,
          70,
          98,
          112,
          110,
          240,
          70,
          29,
          57,
          240,
          68,
          54,
          53,
          56,
          78,
          49,
          70,
          70,
          75,
          70,
          155,
          70,
          88,
          240,
          235,
          52,
          180,
          70,
          70,
          67,
          240,
          55,
          125,
          60,
          70,
          55,
          65,
          49,
          47,
          70,
          36,
          70,
          59,
          49,
          70,
          240,
          335,
          335,
          55,
          97,
          122,
          38,
          38,
          78,
          70,
          72,
          53
         ],
         "y0": " ",
         "yaxis": "y"
        }
       ],
       "layout": {
        "boxmode": "overlay",
        "legend": {
         "title": {
          "text": "brand"
         },
         "tracegroupgap": 0
        },
        "margin": {
         "t": 60
        },
        "template": {
         "data": {
          "bar": [
           {
            "error_x": {
             "color": "#2a3f5f"
            },
            "error_y": {
             "color": "#2a3f5f"
            },
            "marker": {
             "line": {
              "color": "#E5ECF6",
              "width": 0.5
             }
            },
            "type": "bar"
           }
          ],
          "barpolar": [
           {
            "marker": {
             "line": {
              "color": "#E5ECF6",
              "width": 0.5
             }
            },
            "type": "barpolar"
           }
          ],
          "carpet": [
           {
            "aaxis": {
             "endlinecolor": "#2a3f5f",
             "gridcolor": "white",
             "linecolor": "white",
             "minorgridcolor": "white",
             "startlinecolor": "#2a3f5f"
            },
            "baxis": {
             "endlinecolor": "#2a3f5f",
             "gridcolor": "white",
             "linecolor": "white",
             "minorgridcolor": "white",
             "startlinecolor": "#2a3f5f"
            },
            "type": "carpet"
           }
          ],
          "choropleth": [
           {
            "colorbar": {
             "outlinewidth": 0,
             "ticks": ""
            },
            "type": "choropleth"
           }
          ],
          "contour": [
           {
            "colorbar": {
             "outlinewidth": 0,
             "ticks": ""
            },
            "colorscale": [
             [
              0,
              "#0d0887"
             ],
             [
              0.1111111111111111,
              "#46039f"
             ],
             [
              0.2222222222222222,
              "#7201a8"
             ],
             [
              0.3333333333333333,
              "#9c179e"
             ],
             [
              0.4444444444444444,
              "#bd3786"
             ],
             [
              0.5555555555555556,
              "#d8576b"
             ],
             [
              0.6666666666666666,
              "#ed7953"
             ],
             [
              0.7777777777777778,
              "#fb9f3a"
             ],
             [
              0.8888888888888888,
              "#fdca26"
             ],
             [
              1,
              "#f0f921"
             ]
            ],
            "type": "contour"
           }
          ],
          "contourcarpet": [
           {
            "colorbar": {
             "outlinewidth": 0,
             "ticks": ""
            },
            "type": "contourcarpet"
           }
          ],
          "heatmap": [
           {
            "colorbar": {
             "outlinewidth": 0,
             "ticks": ""
            },
            "colorscale": [
             [
              0,
              "#0d0887"
             ],
             [
              0.1111111111111111,
              "#46039f"
             ],
             [
              0.2222222222222222,
              "#7201a8"
             ],
             [
              0.3333333333333333,
              "#9c179e"
             ],
             [
              0.4444444444444444,
              "#bd3786"
             ],
             [
              0.5555555555555556,
              "#d8576b"
             ],
             [
              0.6666666666666666,
              "#ed7953"
             ],
             [
              0.7777777777777778,
              "#fb9f3a"
             ],
             [
              0.8888888888888888,
              "#fdca26"
             ],
             [
              1,
              "#f0f921"
             ]
            ],
            "type": "heatmap"
           }
          ],
          "heatmapgl": [
           {
            "colorbar": {
             "outlinewidth": 0,
             "ticks": ""
            },
            "colorscale": [
             [
              0,
              "#0d0887"
             ],
             [
              0.1111111111111111,
              "#46039f"
             ],
             [
              0.2222222222222222,
              "#7201a8"
             ],
             [
              0.3333333333333333,
              "#9c179e"
             ],
             [
              0.4444444444444444,
              "#bd3786"
             ],
             [
              0.5555555555555556,
              "#d8576b"
             ],
             [
              0.6666666666666666,
              "#ed7953"
             ],
             [
              0.7777777777777778,
              "#fb9f3a"
             ],
             [
              0.8888888888888888,
              "#fdca26"
             ],
             [
              1,
              "#f0f921"
             ]
            ],
            "type": "heatmapgl"
           }
          ],
          "histogram": [
           {
            "marker": {
             "colorbar": {
              "outlinewidth": 0,
              "ticks": ""
             }
            },
            "type": "histogram"
           }
          ],
          "histogram2d": [
           {
            "colorbar": {
             "outlinewidth": 0,
             "ticks": ""
            },
            "colorscale": [
             [
              0,
              "#0d0887"
             ],
             [
              0.1111111111111111,
              "#46039f"
             ],
             [
              0.2222222222222222,
              "#7201a8"
             ],
             [
              0.3333333333333333,
              "#9c179e"
             ],
             [
              0.4444444444444444,
              "#bd3786"
             ],
             [
              0.5555555555555556,
              "#d8576b"
             ],
             [
              0.6666666666666666,
              "#ed7953"
             ],
             [
              0.7777777777777778,
              "#fb9f3a"
             ],
             [
              0.8888888888888888,
              "#fdca26"
             ],
             [
              1,
              "#f0f921"
             ]
            ],
            "type": "histogram2d"
           }
          ],
          "histogram2dcontour": [
           {
            "colorbar": {
             "outlinewidth": 0,
             "ticks": ""
            },
            "colorscale": [
             [
              0,
              "#0d0887"
             ],
             [
              0.1111111111111111,
              "#46039f"
             ],
             [
              0.2222222222222222,
              "#7201a8"
             ],
             [
              0.3333333333333333,
              "#9c179e"
             ],
             [
              0.4444444444444444,
              "#bd3786"
             ],
             [
              0.5555555555555556,
              "#d8576b"
             ],
             [
              0.6666666666666666,
              "#ed7953"
             ],
             [
              0.7777777777777778,
              "#fb9f3a"
             ],
             [
              0.8888888888888888,
              "#fdca26"
             ],
             [
              1,
              "#f0f921"
             ]
            ],
            "type": "histogram2dcontour"
           }
          ],
          "mesh3d": [
           {
            "colorbar": {
             "outlinewidth": 0,
             "ticks": ""
            },
            "type": "mesh3d"
           }
          ],
          "parcoords": [
           {
            "line": {
             "colorbar": {
              "outlinewidth": 0,
              "ticks": ""
             }
            },
            "type": "parcoords"
           }
          ],
          "pie": [
           {
            "automargin": true,
            "type": "pie"
           }
          ],
          "scatter": [
           {
            "marker": {
             "colorbar": {
              "outlinewidth": 0,
              "ticks": ""
             }
            },
            "type": "scatter"
           }
          ],
          "scatter3d": [
           {
            "line": {
             "colorbar": {
              "outlinewidth": 0,
              "ticks": ""
             }
            },
            "marker": {
             "colorbar": {
              "outlinewidth": 0,
              "ticks": ""
             }
            },
            "type": "scatter3d"
           }
          ],
          "scattercarpet": [
           {
            "marker": {
             "colorbar": {
              "outlinewidth": 0,
              "ticks": ""
             }
            },
            "type": "scattercarpet"
           }
          ],
          "scattergeo": [
           {
            "marker": {
             "colorbar": {
              "outlinewidth": 0,
              "ticks": ""
             }
            },
            "type": "scattergeo"
           }
          ],
          "scattergl": [
           {
            "marker": {
             "colorbar": {
              "outlinewidth": 0,
              "ticks": ""
             }
            },
            "type": "scattergl"
           }
          ],
          "scattermapbox": [
           {
            "marker": {
             "colorbar": {
              "outlinewidth": 0,
              "ticks": ""
             }
            },
            "type": "scattermapbox"
           }
          ],
          "scatterpolar": [
           {
            "marker": {
             "colorbar": {
              "outlinewidth": 0,
              "ticks": ""
             }
            },
            "type": "scatterpolar"
           }
          ],
          "scatterpolargl": [
           {
            "marker": {
             "colorbar": {
              "outlinewidth": 0,
              "ticks": ""
             }
            },
            "type": "scatterpolargl"
           }
          ],
          "scatterternary": [
           {
            "marker": {
             "colorbar": {
              "outlinewidth": 0,
              "ticks": ""
             }
            },
            "type": "scatterternary"
           }
          ],
          "surface": [
           {
            "colorbar": {
             "outlinewidth": 0,
             "ticks": ""
            },
            "colorscale": [
             [
              0,
              "#0d0887"
             ],
             [
              0.1111111111111111,
              "#46039f"
             ],
             [
              0.2222222222222222,
              "#7201a8"
             ],
             [
              0.3333333333333333,
              "#9c179e"
             ],
             [
              0.4444444444444444,
              "#bd3786"
             ],
             [
              0.5555555555555556,
              "#d8576b"
             ],
             [
              0.6666666666666666,
              "#ed7953"
             ],
             [
              0.7777777777777778,
              "#fb9f3a"
             ],
             [
              0.8888888888888888,
              "#fdca26"
             ],
             [
              1,
              "#f0f921"
             ]
            ],
            "type": "surface"
           }
          ],
          "table": [
           {
            "cells": {
             "fill": {
              "color": "#EBF0F8"
             },
             "line": {
              "color": "white"
             }
            },
            "header": {
             "fill": {
              "color": "#C8D4E3"
             },
             "line": {
              "color": "white"
             }
            },
            "type": "table"
           }
          ]
         },
         "layout": {
          "annotationdefaults": {
           "arrowcolor": "#2a3f5f",
           "arrowhead": 0,
           "arrowwidth": 1
          },
          "autotypenumbers": "strict",
          "coloraxis": {
           "colorbar": {
            "outlinewidth": 0,
            "ticks": ""
           }
          },
          "colorscale": {
           "diverging": [
            [
             0,
             "#8e0152"
            ],
            [
             0.1,
             "#c51b7d"
            ],
            [
             0.2,
             "#de77ae"
            ],
            [
             0.3,
             "#f1b6da"
            ],
            [
             0.4,
             "#fde0ef"
            ],
            [
             0.5,
             "#f7f7f7"
            ],
            [
             0.6,
             "#e6f5d0"
            ],
            [
             0.7,
             "#b8e186"
            ],
            [
             0.8,
             "#7fbc41"
            ],
            [
             0.9,
             "#4d9221"
            ],
            [
             1,
             "#276419"
            ]
           ],
           "sequential": [
            [
             0,
             "#0d0887"
            ],
            [
             0.1111111111111111,
             "#46039f"
            ],
            [
             0.2222222222222222,
             "#7201a8"
            ],
            [
             0.3333333333333333,
             "#9c179e"
            ],
            [
             0.4444444444444444,
             "#bd3786"
            ],
            [
             0.5555555555555556,
             "#d8576b"
            ],
            [
             0.6666666666666666,
             "#ed7953"
            ],
            [
             0.7777777777777778,
             "#fb9f3a"
            ],
            [
             0.8888888888888888,
             "#fdca26"
            ],
            [
             1,
             "#f0f921"
            ]
           ],
           "sequentialminus": [
            [
             0,
             "#0d0887"
            ],
            [
             0.1111111111111111,
             "#46039f"
            ],
            [
             0.2222222222222222,
             "#7201a8"
            ],
            [
             0.3333333333333333,
             "#9c179e"
            ],
            [
             0.4444444444444444,
             "#bd3786"
            ],
            [
             0.5555555555555556,
             "#d8576b"
            ],
            [
             0.6666666666666666,
             "#ed7953"
            ],
            [
             0.7777777777777778,
             "#fb9f3a"
            ],
            [
             0.8888888888888888,
             "#fdca26"
            ],
            [
             1,
             "#f0f921"
            ]
           ]
          },
          "colorway": [
           "#636efa",
           "#EF553B",
           "#00cc96",
           "#ab63fa",
           "#FFA15A",
           "#19d3f3",
           "#FF6692",
           "#B6E880",
           "#FF97FF",
           "#FECB52"
          ],
          "font": {
           "color": "#2a3f5f"
          },
          "geo": {
           "bgcolor": "white",
           "lakecolor": "white",
           "landcolor": "#E5ECF6",
           "showlakes": true,
           "showland": true,
           "subunitcolor": "white"
          },
          "hoverlabel": {
           "align": "left"
          },
          "hovermode": "closest",
          "mapbox": {
           "style": "light"
          },
          "paper_bgcolor": "white",
          "plot_bgcolor": "#E5ECF6",
          "polar": {
           "angularaxis": {
            "gridcolor": "white",
            "linecolor": "white",
            "ticks": ""
           },
           "bgcolor": "#E5ECF6",
           "radialaxis": {
            "gridcolor": "white",
            "linecolor": "white",
            "ticks": ""
           }
          },
          "scene": {
           "xaxis": {
            "backgroundcolor": "#E5ECF6",
            "gridcolor": "white",
            "gridwidth": 2,
            "linecolor": "white",
            "showbackground": true,
            "ticks": "",
            "zerolinecolor": "white"
           },
           "yaxis": {
            "backgroundcolor": "#E5ECF6",
            "gridcolor": "white",
            "gridwidth": 2,
            "linecolor": "white",
            "showbackground": true,
            "ticks": "",
            "zerolinecolor": "white"
           },
           "zaxis": {
            "backgroundcolor": "#E5ECF6",
            "gridcolor": "white",
            "gridwidth": 2,
            "linecolor": "white",
            "showbackground": true,
            "ticks": "",
            "zerolinecolor": "white"
           }
          },
          "shapedefaults": {
           "line": {
            "color": "#2a3f5f"
           }
          },
          "ternary": {
           "aaxis": {
            "gridcolor": "white",
            "linecolor": "white",
            "ticks": ""
           },
           "baxis": {
            "gridcolor": "white",
            "linecolor": "white",
            "ticks": ""
           },
           "bgcolor": "#E5ECF6",
           "caxis": {
            "gridcolor": "white",
            "linecolor": "white",
            "ticks": ""
           }
          },
          "title": {
           "x": 0.05
          },
          "xaxis": {
           "automargin": true,
           "gridcolor": "white",
           "linecolor": "white",
           "ticks": "",
           "title": {
            "standoff": 15
           },
           "zerolinecolor": "white",
           "zerolinewidth": 2
          },
          "yaxis": {
           "automargin": true,
           "gridcolor": "white",
           "linecolor": "white",
           "ticks": "",
           "title": {
            "standoff": 15
           },
           "zerolinecolor": "white",
           "zerolinewidth": 2
          }
         }
        },
        "xaxis": {
         "anchor": "y",
         "categoryarray": [
          "CLINIQUE",
          "Dior",
          "SEPHORA COLLECTION",
          "tarte",
          "TOM FORD"
         ],
         "categoryorder": "array",
         "domain": [
          0,
          1
         ],
         "title": {
          "text": "brand"
         }
        },
        "yaxis": {
         "anchor": "x",
         "domain": [
          0,
          1
         ],
         "title": {
          "text": "price"
         }
        }
       }
      },
      "text/html": [
       "<div>                            <div id=\"1b0db855-3f5a-40a1-ac88-4169be7ad0c3\" class=\"plotly-graph-div\" style=\"height:525px; width:100%;\"></div>            <script type=\"text/javascript\">                require([\"plotly\"], function(Plotly) {                    window.PLOTLYENV=window.PLOTLYENV || {};                                    if (document.getElementById(\"1b0db855-3f5a-40a1-ac88-4169be7ad0c3\")) {                    Plotly.newPlot(                        \"1b0db855-3f5a-40a1-ac88-4169be7ad0c3\",                        [{\"alignmentgroup\": \"True\", \"hovertemplate\": \"brand=%{x}<br>price=%{y}<extra></extra>\", \"legendgroup\": \"CLINIQUE\", \"marker\": {\"color\": \"#636efa\"}, \"name\": \"CLINIQUE\", \"notched\": false, \"offsetgroup\": \"CLINIQUE\", \"orientation\": \"v\", \"showlegend\": true, \"type\": \"box\", \"x\": [\"CLINIQUE\", \"CLINIQUE\", \"CLINIQUE\", \"CLINIQUE\", \"CLINIQUE\", \"CLINIQUE\", \"CLINIQUE\", \"CLINIQUE\", \"CLINIQUE\", \"CLINIQUE\", \"CLINIQUE\", \"CLINIQUE\", \"CLINIQUE\", \"CLINIQUE\", \"CLINIQUE\", \"CLINIQUE\", \"CLINIQUE\", \"CLINIQUE\", \"CLINIQUE\", \"CLINIQUE\", \"CLINIQUE\", \"CLINIQUE\", \"CLINIQUE\", \"CLINIQUE\", \"CLINIQUE\", \"CLINIQUE\", \"CLINIQUE\", \"CLINIQUE\", \"CLINIQUE\", \"CLINIQUE\", \"CLINIQUE\", \"CLINIQUE\", \"CLINIQUE\", \"CLINIQUE\", \"CLINIQUE\", \"CLINIQUE\", \"CLINIQUE\", \"CLINIQUE\", \"CLINIQUE\", \"CLINIQUE\", \"CLINIQUE\", \"CLINIQUE\", \"CLINIQUE\", \"CLINIQUE\", \"CLINIQUE\", \"CLINIQUE\", \"CLINIQUE\", \"CLINIQUE\", \"CLINIQUE\", \"CLINIQUE\", \"CLINIQUE\", \"CLINIQUE\", \"CLINIQUE\", \"CLINIQUE\", \"CLINIQUE\", \"CLINIQUE\", \"CLINIQUE\", \"CLINIQUE\", \"CLINIQUE\", \"CLINIQUE\", \"CLINIQUE\", \"CLINIQUE\", \"CLINIQUE\", \"CLINIQUE\", \"CLINIQUE\", \"CLINIQUE\", \"CLINIQUE\", \"CLINIQUE\", \"CLINIQUE\", \"CLINIQUE\", \"CLINIQUE\", \"CLINIQUE\", \"CLINIQUE\", \"CLINIQUE\", \"CLINIQUE\", \"CLINIQUE\", \"CLINIQUE\", \"CLINIQUE\", \"CLINIQUE\", \"CLINIQUE\", \"CLINIQUE\", \"CLINIQUE\", \"CLINIQUE\", \"CLINIQUE\", \"CLINIQUE\", \"CLINIQUE\", \"CLINIQUE\", \"CLINIQUE\", \"CLINIQUE\", \"CLINIQUE\", \"CLINIQUE\", \"CLINIQUE\", \"CLINIQUE\", \"CLINIQUE\", \"CLINIQUE\", \"CLINIQUE\", \"CLINIQUE\", \"CLINIQUE\", \"CLINIQUE\", \"CLINIQUE\", \"CLINIQUE\", \"CLINIQUE\", \"CLINIQUE\", \"CLINIQUE\", \"CLINIQUE\", \"CLINIQUE\", \"CLINIQUE\", \"CLINIQUE\", \"CLINIQUE\", \"CLINIQUE\", \"CLINIQUE\", \"CLINIQUE\", \"CLINIQUE\", \"CLINIQUE\", \"CLINIQUE\", \"CLINIQUE\", \"CLINIQUE\", \"CLINIQUE\", \"CLINIQUE\", \"CLINIQUE\", \"CLINIQUE\", \"CLINIQUE\", \"CLINIQUE\", \"CLINIQUE\", \"CLINIQUE\", \"CLINIQUE\", \"CLINIQUE\", \"CLINIQUE\", \"CLINIQUE\", \"CLINIQUE\", \"CLINIQUE\", \"CLINIQUE\", \"CLINIQUE\", \"CLINIQUE\", \"CLINIQUE\", \"CLINIQUE\", \"CLINIQUE\", \"CLINIQUE\", \"CLINIQUE\", \"CLINIQUE\", \"CLINIQUE\", \"CLINIQUE\", \"CLINIQUE\", \"CLINIQUE\", \"CLINIQUE\", \"CLINIQUE\", \"CLINIQUE\", \"CLINIQUE\", \"CLINIQUE\", \"CLINIQUE\", \"CLINIQUE\", \"CLINIQUE\", \"CLINIQUE\", \"CLINIQUE\", \"CLINIQUE\", \"CLINIQUE\", \"CLINIQUE\", \"CLINIQUE\", \"CLINIQUE\", \"CLINIQUE\", \"CLINIQUE\", \"CLINIQUE\", \"CLINIQUE\", \"CLINIQUE\", \"CLINIQUE\", \"CLINIQUE\", \"CLINIQUE\", \"CLINIQUE\", \"CLINIQUE\", \"CLINIQUE\", \"CLINIQUE\", \"CLINIQUE\", \"CLINIQUE\", \"CLINIQUE\", \"CLINIQUE\", \"CLINIQUE\", \"CLINIQUE\", \"CLINIQUE\", \"CLINIQUE\", \"CLINIQUE\", \"CLINIQUE\", \"CLINIQUE\", \"CLINIQUE\", \"CLINIQUE\", \"CLINIQUE\", \"CLINIQUE\", \"CLINIQUE\", \"CLINIQUE\", \"CLINIQUE\", \"CLINIQUE\", \"CLINIQUE\", \"CLINIQUE\", \"CLINIQUE\", \"CLINIQUE\", \"CLINIQUE\", \"CLINIQUE\", \"CLINIQUE\", \"CLINIQUE\", \"CLINIQUE\", \"CLINIQUE\", \"CLINIQUE\", \"CLINIQUE\", \"CLINIQUE\", \"CLINIQUE\", \"CLINIQUE\", \"CLINIQUE\", \"CLINIQUE\", \"CLINIQUE\", \"CLINIQUE\", \"CLINIQUE\", \"CLINIQUE\", \"CLINIQUE\", \"CLINIQUE\", \"CLINIQUE\", \"CLINIQUE\", \"CLINIQUE\", \"CLINIQUE\", \"CLINIQUE\", \"CLINIQUE\", \"CLINIQUE\", \"CLINIQUE\", \"CLINIQUE\", \"CLINIQUE\", \"CLINIQUE\", \"CLINIQUE\", \"CLINIQUE\", \"CLINIQUE\", \"CLINIQUE\", \"CLINIQUE\", \"CLINIQUE\", \"CLINIQUE\", \"CLINIQUE\", \"CLINIQUE\", \"CLINIQUE\"], \"x0\": \" \", \"xaxis\": \"x\", \"y\": [39.5, 28.0, 28.0, 18.5, 29.5, 84.0, 28.0, 17.0, 19.5, 30.0, 29.5, 39.0, 33.0, 27.0, 19.5, 28.5, 33.0, 39.5, 19.5, 22.0, 29.5, 23.0, 19.0, 49.5, 17.0, 28.0, 28.5, 61.5, 25.0, 19.0, 28.5, 31.5, 28.5, 36.0, 22.0, 22.0, 39.5, 28.5, 17.0, 19.5, 24.0, 26.0, 42.0, 39.5, 28.0, 18.5, 25.0, 28.0, 19.5, 19.5, 39.0, 29.0, 39.5, 58.0, 21.0, 45.0, 53.0, 46.0, 23.0, 30.0, 18.0, 21.0, 27.5, 32.0, 15.0, 29.0, 58.0, 5.0, 40.0, 18.0, 25.0, 25.0, 28.0, 17.5, 15.5, 28.5, 39.0, 39.0, 18.5, 46.0, 20.0, 34.0, 19.5, 24.0, 19.5, 39.5, 33.0, 19.5, 51.5, 69.0, 15.5, 53.0, 29.5, 27.0, 9.5, 22.0, 39.5, 39.0, 48.0, 44.5, 33.0, 31.5, 19.5, 14.5, 25.0, 39.0, 22.0, 40.0, 17.0, 12.0, 48.0, 53.0, 21.0, 29.5, 26.0, 16.5, 33.0, 12.0, 29.5, 29.5, 66.0, 29.5, 22.5, 28.0, 22.0, 55.0, 29.5, 9.5, 19.5, 30.0, 31.0, 8.0, 19.5, 22.0, 19.5, 29.5, 18.5, 28.5, 18.5, 17.0, 18.5, 27.0, 50.0, 53.0, 47.0, 19.5, 50.5, 25.0, 69.0, 32.0, 30.5, 55.0, 51.0, 22.5, 19.5, 22.0, 40.0, 18.0, 28.5, 58.0, 29.0, 27.0, 16.0, 18.0, 55.5, 18.0, 30.0, 19.5, 39.5, 42.0, 19.5, 25.0, 52.0, 55.0, 69.0, 30.5, 17.0, 39.5, 19.5, 39.0, 19.5, 39.5, 39.5, 66.0, 19.5, 19.5, 28.5, 21.0, 32.5, 34.5, 19.5, 5.0, 14.5, 18.5, 27.0, 28.0, 68.0, 28.5, 25.0, 21.0, 49.0, 32.5, 19.0, 35.0, 35.0, 14.5, 77.0, 39.5, 14.5, 17.5, 32.0, 13.5, 19.5, 15.0, 33.0, 16.0, 28.5, 18.5, 7.5, 21.0, 30.0, 19.5, 18.5, 14.5, 29.5, 19.5, 39.5, 29.5, 28.5, 19.5, 26.5, 50.0, 40.0, 51.0], \"y0\": \" \", \"yaxis\": \"y\"}, {\"alignmentgroup\": \"True\", \"hovertemplate\": \"brand=%{x}<br>price=%{y}<extra></extra>\", \"legendgroup\": \"Dior\", \"marker\": {\"color\": \"#EF553B\"}, \"name\": \"Dior\", \"notched\": false, \"offsetgroup\": \"Dior\", \"orientation\": \"v\", \"showlegend\": true, \"type\": \"box\", \"x\": [\"Dior\", \"Dior\", \"Dior\", \"Dior\", \"Dior\", \"Dior\", \"Dior\", \"Dior\", \"Dior\", \"Dior\", \"Dior\", \"Dior\", \"Dior\", \"Dior\", \"Dior\", \"Dior\", \"Dior\", \"Dior\", \"Dior\", \"Dior\", \"Dior\", \"Dior\", \"Dior\", \"Dior\", \"Dior\", \"Dior\", \"Dior\", \"Dior\", \"Dior\", \"Dior\", \"Dior\", \"Dior\", \"Dior\", \"Dior\", \"Dior\", \"Dior\", \"Dior\", \"Dior\", \"Dior\", \"Dior\", \"Dior\", \"Dior\", \"Dior\", \"Dior\", \"Dior\", \"Dior\", \"Dior\", \"Dior\", \"Dior\", \"Dior\", \"Dior\", \"Dior\", \"Dior\", \"Dior\", \"Dior\", \"Dior\", \"Dior\", \"Dior\", \"Dior\", \"Dior\", \"Dior\", \"Dior\", \"Dior\", \"Dior\", \"Dior\", \"Dior\", \"Dior\", \"Dior\", \"Dior\", \"Dior\", \"Dior\", \"Dior\", \"Dior\", \"Dior\", \"Dior\", \"Dior\", \"Dior\", \"Dior\", \"Dior\", \"Dior\", \"Dior\", \"Dior\", \"Dior\", \"Dior\", \"Dior\", \"Dior\", \"Dior\", \"Dior\", \"Dior\", \"Dior\", \"Dior\", \"Dior\", \"Dior\", \"Dior\", \"Dior\", \"Dior\", \"Dior\", \"Dior\", \"Dior\", \"Dior\", \"Dior\", \"Dior\", \"Dior\", \"Dior\", \"Dior\", \"Dior\", \"Dior\", \"Dior\", \"Dior\", \"Dior\", \"Dior\", \"Dior\", \"Dior\", \"Dior\", \"Dior\", \"Dior\", \"Dior\", \"Dior\", \"Dior\", \"Dior\", \"Dior\", \"Dior\", \"Dior\", \"Dior\", \"Dior\", \"Dior\", \"Dior\", \"Dior\", \"Dior\", \"Dior\", \"Dior\", \"Dior\", \"Dior\", \"Dior\", \"Dior\", \"Dior\", \"Dior\", \"Dior\", \"Dior\", \"Dior\", \"Dior\", \"Dior\", \"Dior\", \"Dior\", \"Dior\"], \"x0\": \" \", \"xaxis\": \"x\", \"y\": [34.0, 62.0, 49.0, 77.0, 40.0, 29.5, 52.0, 52.0, 95.0, 29.5, 34.0, 36.0, 34.0, 29.0, 95.0, 105.0, 85.0, 30.0, 29.5, 45.0, 38.0, 29.5, 34.0, 29.5, 38.0, 52.0, 105.0, 54.0, 85.0, 38.0, 165.0, 150.0, 29.5, 150.0, 82.0, 37.0, 45.0, 107.0, 107.0, 36.0, 29.5, 48.0, 50.0, 62.0, 95.0, 95.0, 69.0, 100.0, 30.5, 38.0, 38.0, 30.0, 30.0, 38.0, 95.0, 135.0, 155.0, 38.0, 44.0, 48.0, 95.0, 25.0, 129.0, 38.0, 29.5, 100.0, 175.0, 149.0, 75.0, 69.0, 34.0, 105.0, 95.0, 85.0, 105.0, 38.0, 29.5, 27.0, 155.0, 49.5, 40.0, 72.0, 105.0, 46.0, 43.0, 85.0, 73.0, 29.5, 75.0, 105.0, 79.0, 105.0, 95.0, 29.0, 125.0, 55.0, 42.0, 75.0, 52.0, 75.0, 140.0, 55.0, 57.0, 43.0, 45.0, 34.0, 75.0, 79.0, 49.0, 57.0, 59.0, 95.0, 135.0, 55.0, 65.0, 43.0, 38.0, 48.0, 26.0, 60.0, 105.0, 60.0, 29.5, 59.0, 45.0, 43.0, 25.0, 69.0, 62.0, 43.0, 33.0, 140.0, 95.0, 62.0, 85.0, 55.0, 25.0, 69.0, 95.0, 128.0, 140.0, 79.0, 40.0, 69.0, 149.0], \"y0\": \" \", \"yaxis\": \"y\"}, {\"alignmentgroup\": \"True\", \"hovertemplate\": \"brand=%{x}<br>price=%{y}<extra></extra>\", \"legendgroup\": \"SEPHORA COLLECTION\", \"marker\": {\"color\": \"#00cc96\"}, \"name\": \"SEPHORA COLLECTION\", \"notched\": false, \"offsetgroup\": \"SEPHORA COLLECTION\", \"orientation\": \"v\", \"showlegend\": true, \"type\": \"box\", \"x\": [\"SEPHORA COLLECTION\", \"SEPHORA COLLECTION\", \"SEPHORA COLLECTION\", \"SEPHORA COLLECTION\", \"SEPHORA COLLECTION\", \"SEPHORA COLLECTION\", \"SEPHORA COLLECTION\", \"SEPHORA COLLECTION\", \"SEPHORA COLLECTION\", \"SEPHORA COLLECTION\", \"SEPHORA COLLECTION\", \"SEPHORA COLLECTION\", \"SEPHORA COLLECTION\", \"SEPHORA COLLECTION\", \"SEPHORA COLLECTION\", \"SEPHORA COLLECTION\", \"SEPHORA COLLECTION\", \"SEPHORA COLLECTION\", \"SEPHORA COLLECTION\", \"SEPHORA COLLECTION\", \"SEPHORA COLLECTION\", \"SEPHORA COLLECTION\", \"SEPHORA COLLECTION\", \"SEPHORA COLLECTION\", \"SEPHORA COLLECTION\", \"SEPHORA COLLECTION\", \"SEPHORA COLLECTION\", \"SEPHORA COLLECTION\", \"SEPHORA COLLECTION\", \"SEPHORA COLLECTION\", \"SEPHORA COLLECTION\", \"SEPHORA COLLECTION\", \"SEPHORA COLLECTION\", \"SEPHORA COLLECTION\", \"SEPHORA COLLECTION\", \"SEPHORA COLLECTION\", \"SEPHORA COLLECTION\", \"SEPHORA COLLECTION\", \"SEPHORA COLLECTION\", \"SEPHORA COLLECTION\", \"SEPHORA COLLECTION\", \"SEPHORA COLLECTION\", \"SEPHORA COLLECTION\", \"SEPHORA COLLECTION\", \"SEPHORA COLLECTION\", \"SEPHORA COLLECTION\", \"SEPHORA COLLECTION\", \"SEPHORA COLLECTION\", \"SEPHORA COLLECTION\", \"SEPHORA COLLECTION\", \"SEPHORA COLLECTION\", \"SEPHORA COLLECTION\", \"SEPHORA COLLECTION\", \"SEPHORA COLLECTION\", \"SEPHORA COLLECTION\", \"SEPHORA COLLECTION\", \"SEPHORA COLLECTION\", \"SEPHORA COLLECTION\", \"SEPHORA COLLECTION\", \"SEPHORA COLLECTION\", \"SEPHORA COLLECTION\", \"SEPHORA COLLECTION\", \"SEPHORA COLLECTION\", \"SEPHORA COLLECTION\", \"SEPHORA COLLECTION\", \"SEPHORA COLLECTION\", \"SEPHORA COLLECTION\", \"SEPHORA COLLECTION\", \"SEPHORA COLLECTION\", \"SEPHORA COLLECTION\", \"SEPHORA COLLECTION\", \"SEPHORA COLLECTION\", \"SEPHORA COLLECTION\", \"SEPHORA COLLECTION\", \"SEPHORA COLLECTION\", \"SEPHORA COLLECTION\", \"SEPHORA COLLECTION\", \"SEPHORA COLLECTION\", \"SEPHORA COLLECTION\", \"SEPHORA COLLECTION\", \"SEPHORA COLLECTION\", \"SEPHORA COLLECTION\", \"SEPHORA COLLECTION\", \"SEPHORA COLLECTION\", \"SEPHORA COLLECTION\", \"SEPHORA COLLECTION\", \"SEPHORA COLLECTION\", \"SEPHORA COLLECTION\", \"SEPHORA COLLECTION\", \"SEPHORA COLLECTION\", \"SEPHORA COLLECTION\", \"SEPHORA COLLECTION\", \"SEPHORA COLLECTION\", \"SEPHORA COLLECTION\", \"SEPHORA COLLECTION\", \"SEPHORA COLLECTION\", \"SEPHORA COLLECTION\", \"SEPHORA COLLECTION\", \"SEPHORA COLLECTION\", \"SEPHORA COLLECTION\", \"SEPHORA COLLECTION\", \"SEPHORA COLLECTION\", \"SEPHORA COLLECTION\", \"SEPHORA COLLECTION\", \"SEPHORA COLLECTION\", \"SEPHORA COLLECTION\", \"SEPHORA COLLECTION\", \"SEPHORA COLLECTION\", \"SEPHORA COLLECTION\", \"SEPHORA COLLECTION\", \"SEPHORA COLLECTION\", \"SEPHORA COLLECTION\", \"SEPHORA COLLECTION\", \"SEPHORA COLLECTION\", \"SEPHORA COLLECTION\", \"SEPHORA COLLECTION\", \"SEPHORA COLLECTION\", \"SEPHORA COLLECTION\", \"SEPHORA COLLECTION\", \"SEPHORA COLLECTION\", \"SEPHORA COLLECTION\", \"SEPHORA COLLECTION\", \"SEPHORA COLLECTION\", \"SEPHORA COLLECTION\", \"SEPHORA COLLECTION\", \"SEPHORA COLLECTION\", \"SEPHORA COLLECTION\", \"SEPHORA COLLECTION\", \"SEPHORA COLLECTION\", \"SEPHORA COLLECTION\", \"SEPHORA COLLECTION\", \"SEPHORA COLLECTION\", \"SEPHORA COLLECTION\", \"SEPHORA COLLECTION\", \"SEPHORA COLLECTION\", \"SEPHORA COLLECTION\", \"SEPHORA COLLECTION\", \"SEPHORA COLLECTION\", \"SEPHORA COLLECTION\", \"SEPHORA COLLECTION\", \"SEPHORA COLLECTION\", \"SEPHORA COLLECTION\", \"SEPHORA COLLECTION\", \"SEPHORA COLLECTION\", \"SEPHORA COLLECTION\", \"SEPHORA COLLECTION\", \"SEPHORA COLLECTION\", \"SEPHORA COLLECTION\", \"SEPHORA COLLECTION\", \"SEPHORA COLLECTION\", \"SEPHORA COLLECTION\", \"SEPHORA COLLECTION\", \"SEPHORA COLLECTION\", \"SEPHORA COLLECTION\", \"SEPHORA COLLECTION\", \"SEPHORA COLLECTION\", \"SEPHORA COLLECTION\", \"SEPHORA COLLECTION\", \"SEPHORA COLLECTION\", \"SEPHORA COLLECTION\", \"SEPHORA COLLECTION\", \"SEPHORA COLLECTION\", \"SEPHORA COLLECTION\", \"SEPHORA COLLECTION\", \"SEPHORA COLLECTION\", \"SEPHORA COLLECTION\", \"SEPHORA COLLECTION\", \"SEPHORA COLLECTION\", \"SEPHORA COLLECTION\", \"SEPHORA COLLECTION\", \"SEPHORA COLLECTION\", \"SEPHORA COLLECTION\", \"SEPHORA COLLECTION\", \"SEPHORA COLLECTION\", \"SEPHORA COLLECTION\", \"SEPHORA COLLECTION\", \"SEPHORA COLLECTION\", \"SEPHORA COLLECTION\", \"SEPHORA COLLECTION\", \"SEPHORA COLLECTION\", \"SEPHORA COLLECTION\", \"SEPHORA COLLECTION\", \"SEPHORA COLLECTION\", \"SEPHORA COLLECTION\", \"SEPHORA COLLECTION\", \"SEPHORA COLLECTION\", \"SEPHORA COLLECTION\", \"SEPHORA COLLECTION\", \"SEPHORA COLLECTION\", \"SEPHORA COLLECTION\", \"SEPHORA COLLECTION\", \"SEPHORA COLLECTION\", \"SEPHORA COLLECTION\", \"SEPHORA COLLECTION\", \"SEPHORA COLLECTION\", \"SEPHORA COLLECTION\", \"SEPHORA COLLECTION\", \"SEPHORA COLLECTION\", \"SEPHORA COLLECTION\", \"SEPHORA COLLECTION\", \"SEPHORA COLLECTION\", \"SEPHORA COLLECTION\", \"SEPHORA COLLECTION\", \"SEPHORA COLLECTION\", \"SEPHORA COLLECTION\", \"SEPHORA COLLECTION\", \"SEPHORA COLLECTION\", \"SEPHORA COLLECTION\", \"SEPHORA COLLECTION\", \"SEPHORA COLLECTION\", \"SEPHORA COLLECTION\", \"SEPHORA COLLECTION\", \"SEPHORA COLLECTION\", \"SEPHORA COLLECTION\", \"SEPHORA COLLECTION\", \"SEPHORA COLLECTION\", \"SEPHORA COLLECTION\", \"SEPHORA COLLECTION\", \"SEPHORA COLLECTION\", \"SEPHORA COLLECTION\", \"SEPHORA COLLECTION\", \"SEPHORA COLLECTION\", \"SEPHORA COLLECTION\", \"SEPHORA COLLECTION\", \"SEPHORA COLLECTION\", \"SEPHORA COLLECTION\", \"SEPHORA COLLECTION\", \"SEPHORA COLLECTION\", \"SEPHORA COLLECTION\", \"SEPHORA COLLECTION\", \"SEPHORA COLLECTION\", \"SEPHORA COLLECTION\", \"SEPHORA COLLECTION\", \"SEPHORA COLLECTION\", \"SEPHORA COLLECTION\", \"SEPHORA COLLECTION\", \"SEPHORA COLLECTION\", \"SEPHORA COLLECTION\", \"SEPHORA COLLECTION\", \"SEPHORA COLLECTION\", \"SEPHORA COLLECTION\", \"SEPHORA COLLECTION\", \"SEPHORA COLLECTION\", \"SEPHORA COLLECTION\", \"SEPHORA COLLECTION\", \"SEPHORA COLLECTION\", \"SEPHORA COLLECTION\", \"SEPHORA COLLECTION\", \"SEPHORA COLLECTION\", \"SEPHORA COLLECTION\", \"SEPHORA COLLECTION\", \"SEPHORA COLLECTION\", \"SEPHORA COLLECTION\", \"SEPHORA COLLECTION\", \"SEPHORA COLLECTION\", \"SEPHORA COLLECTION\", \"SEPHORA COLLECTION\", \"SEPHORA COLLECTION\", \"SEPHORA COLLECTION\", \"SEPHORA COLLECTION\", \"SEPHORA COLLECTION\", \"SEPHORA COLLECTION\", \"SEPHORA COLLECTION\", \"SEPHORA COLLECTION\", \"SEPHORA COLLECTION\", \"SEPHORA COLLECTION\", \"SEPHORA COLLECTION\", \"SEPHORA COLLECTION\", \"SEPHORA COLLECTION\", \"SEPHORA COLLECTION\", \"SEPHORA COLLECTION\", \"SEPHORA COLLECTION\", \"SEPHORA COLLECTION\", \"SEPHORA COLLECTION\", \"SEPHORA COLLECTION\", \"SEPHORA COLLECTION\", \"SEPHORA COLLECTION\", \"SEPHORA COLLECTION\", \"SEPHORA COLLECTION\", \"SEPHORA COLLECTION\", \"SEPHORA COLLECTION\", \"SEPHORA COLLECTION\", \"SEPHORA COLLECTION\", \"SEPHORA COLLECTION\", \"SEPHORA COLLECTION\", \"SEPHORA COLLECTION\", \"SEPHORA COLLECTION\", \"SEPHORA COLLECTION\", \"SEPHORA COLLECTION\", \"SEPHORA COLLECTION\", \"SEPHORA COLLECTION\", \"SEPHORA COLLECTION\", \"SEPHORA COLLECTION\", \"SEPHORA COLLECTION\", \"SEPHORA COLLECTION\", \"SEPHORA COLLECTION\", \"SEPHORA COLLECTION\", \"SEPHORA COLLECTION\", \"SEPHORA COLLECTION\", \"SEPHORA COLLECTION\", \"SEPHORA COLLECTION\", \"SEPHORA COLLECTION\", \"SEPHORA COLLECTION\", \"SEPHORA COLLECTION\", \"SEPHORA COLLECTION\", \"SEPHORA COLLECTION\", \"SEPHORA COLLECTION\", \"SEPHORA COLLECTION\", \"SEPHORA COLLECTION\", \"SEPHORA COLLECTION\", \"SEPHORA COLLECTION\", \"SEPHORA COLLECTION\", \"SEPHORA COLLECTION\", \"SEPHORA COLLECTION\", \"SEPHORA COLLECTION\", \"SEPHORA COLLECTION\", \"SEPHORA COLLECTION\", \"SEPHORA COLLECTION\", \"SEPHORA COLLECTION\", \"SEPHORA COLLECTION\", \"SEPHORA COLLECTION\", \"SEPHORA COLLECTION\", \"SEPHORA COLLECTION\", \"SEPHORA COLLECTION\", \"SEPHORA COLLECTION\", \"SEPHORA COLLECTION\", \"SEPHORA COLLECTION\", \"SEPHORA COLLECTION\", \"SEPHORA COLLECTION\", \"SEPHORA COLLECTION\", \"SEPHORA COLLECTION\", \"SEPHORA COLLECTION\", \"SEPHORA COLLECTION\", \"SEPHORA COLLECTION\", \"SEPHORA COLLECTION\", \"SEPHORA COLLECTION\", \"SEPHORA COLLECTION\", \"SEPHORA COLLECTION\", \"SEPHORA COLLECTION\", \"SEPHORA COLLECTION\", \"SEPHORA COLLECTION\", \"SEPHORA COLLECTION\", \"SEPHORA COLLECTION\", \"SEPHORA COLLECTION\", \"SEPHORA COLLECTION\", \"SEPHORA COLLECTION\", \"SEPHORA COLLECTION\", \"SEPHORA COLLECTION\", \"SEPHORA COLLECTION\", \"SEPHORA COLLECTION\", \"SEPHORA COLLECTION\", \"SEPHORA COLLECTION\", \"SEPHORA COLLECTION\", \"SEPHORA COLLECTION\", \"SEPHORA COLLECTION\", \"SEPHORA COLLECTION\", \"SEPHORA COLLECTION\", \"SEPHORA COLLECTION\", \"SEPHORA COLLECTION\", \"SEPHORA COLLECTION\", \"SEPHORA COLLECTION\", \"SEPHORA COLLECTION\", \"SEPHORA COLLECTION\", \"SEPHORA COLLECTION\", \"SEPHORA COLLECTION\", \"SEPHORA COLLECTION\", \"SEPHORA COLLECTION\", \"SEPHORA COLLECTION\", \"SEPHORA COLLECTION\", \"SEPHORA COLLECTION\", \"SEPHORA COLLECTION\", \"SEPHORA COLLECTION\", \"SEPHORA COLLECTION\", \"SEPHORA COLLECTION\", \"SEPHORA COLLECTION\", \"SEPHORA COLLECTION\", \"SEPHORA COLLECTION\", \"SEPHORA COLLECTION\", \"SEPHORA COLLECTION\", \"SEPHORA COLLECTION\", \"SEPHORA COLLECTION\", \"SEPHORA COLLECTION\", \"SEPHORA COLLECTION\", \"SEPHORA COLLECTION\", \"SEPHORA COLLECTION\", \"SEPHORA COLLECTION\", \"SEPHORA COLLECTION\", \"SEPHORA COLLECTION\", \"SEPHORA COLLECTION\", \"SEPHORA COLLECTION\", \"SEPHORA COLLECTION\", \"SEPHORA COLLECTION\", \"SEPHORA COLLECTION\", \"SEPHORA COLLECTION\", \"SEPHORA COLLECTION\", \"SEPHORA COLLECTION\", \"SEPHORA COLLECTION\", \"SEPHORA COLLECTION\", \"SEPHORA COLLECTION\", \"SEPHORA COLLECTION\", \"SEPHORA COLLECTION\", \"SEPHORA COLLECTION\", \"SEPHORA COLLECTION\", \"SEPHORA COLLECTION\", \"SEPHORA COLLECTION\", \"SEPHORA COLLECTION\", \"SEPHORA COLLECTION\", \"SEPHORA COLLECTION\", \"SEPHORA COLLECTION\", \"SEPHORA COLLECTION\", \"SEPHORA COLLECTION\", \"SEPHORA COLLECTION\", \"SEPHORA COLLECTION\", \"SEPHORA COLLECTION\", \"SEPHORA COLLECTION\", \"SEPHORA COLLECTION\", \"SEPHORA COLLECTION\", \"SEPHORA COLLECTION\", \"SEPHORA COLLECTION\", \"SEPHORA COLLECTION\", \"SEPHORA COLLECTION\", \"SEPHORA COLLECTION\", \"SEPHORA COLLECTION\", \"SEPHORA COLLECTION\", \"SEPHORA COLLECTION\", \"SEPHORA COLLECTION\", \"SEPHORA COLLECTION\", \"SEPHORA COLLECTION\", \"SEPHORA COLLECTION\", \"SEPHORA COLLECTION\", \"SEPHORA COLLECTION\", \"SEPHORA COLLECTION\", \"SEPHORA COLLECTION\", \"SEPHORA COLLECTION\", \"SEPHORA COLLECTION\", \"SEPHORA COLLECTION\", \"SEPHORA COLLECTION\", \"SEPHORA COLLECTION\", \"SEPHORA COLLECTION\", \"SEPHORA COLLECTION\", \"SEPHORA COLLECTION\", \"SEPHORA COLLECTION\", \"SEPHORA COLLECTION\", \"SEPHORA COLLECTION\", \"SEPHORA COLLECTION\", \"SEPHORA COLLECTION\", \"SEPHORA COLLECTION\", \"SEPHORA COLLECTION\", \"SEPHORA COLLECTION\", \"SEPHORA COLLECTION\", \"SEPHORA COLLECTION\", \"SEPHORA COLLECTION\", \"SEPHORA COLLECTION\", \"SEPHORA COLLECTION\", \"SEPHORA COLLECTION\", \"SEPHORA COLLECTION\", \"SEPHORA COLLECTION\", \"SEPHORA COLLECTION\", \"SEPHORA COLLECTION\", \"SEPHORA COLLECTION\", \"SEPHORA COLLECTION\", \"SEPHORA COLLECTION\", \"SEPHORA COLLECTION\", \"SEPHORA COLLECTION\", \"SEPHORA COLLECTION\", \"SEPHORA COLLECTION\", \"SEPHORA COLLECTION\", \"SEPHORA COLLECTION\", \"SEPHORA COLLECTION\", \"SEPHORA COLLECTION\", \"SEPHORA COLLECTION\", \"SEPHORA COLLECTION\", \"SEPHORA COLLECTION\", \"SEPHORA COLLECTION\", \"SEPHORA COLLECTION\", \"SEPHORA COLLECTION\", \"SEPHORA COLLECTION\", \"SEPHORA COLLECTION\", \"SEPHORA COLLECTION\", \"SEPHORA COLLECTION\", \"SEPHORA COLLECTION\", \"SEPHORA COLLECTION\", \"SEPHORA COLLECTION\", \"SEPHORA COLLECTION\", \"SEPHORA COLLECTION\", \"SEPHORA COLLECTION\", \"SEPHORA COLLECTION\", \"SEPHORA COLLECTION\", \"SEPHORA COLLECTION\", \"SEPHORA COLLECTION\", \"SEPHORA COLLECTION\", \"SEPHORA COLLECTION\", \"SEPHORA COLLECTION\", \"SEPHORA COLLECTION\", \"SEPHORA COLLECTION\", \"SEPHORA COLLECTION\"], \"x0\": \" \", \"xaxis\": \"x\", \"y\": [8.0, 6.0, 13.0, 70.0, 20.0, 20.0, 15.0, 12.0, 8.0, 8.0, 20.0, 8.0, 11.0, 10.0, 5.0, 58.0, 9.0, 14.0, 22.0, 14.0, 17.0, 45.0, 6.0, 16.0, 6.0, 20.0, 68.0, 14.0, 5.0, 12.0, 7.0, 69.0, 3.0, 9.0, 5.0, 10.0, 6.0, 40.0, 25.0, 10.0, 8.0, 20.0, 17.0, 42.0, 9.0, 17.0, 13.0, 26.0, 28.0, 12.0, 8.0, 6.0, 11.0, 60.0, 6.0, 17.0, 20.0, 8.0, 15.0, 19.0, 20.0, 16.0, 12.0, 5.0, 10.0, 5.0, 5.0, 68.0, 20.0, 12.0, 16.0, 14.0, 14.0, 9.0, 12.0, 12.0, 16.0, 50.0, 6.0, 12.0, 68.0, 8.0, 10.0, 3.0, 32.0, 8.0, 14.0, 45.0, 10.0, 28.0, 14.0, 8.0, 5.0, 15.0, 18.0, 17.0, 8.0, 14.0, 15.0, 10.0, 18.0, 60.0, 4.0, 7.0, 18.0, 20.0, 18.0, 10.0, 5.0, 5.0, 6.0, 6.0, 20.0, 10.0, 6.0, 20.0, 14.0, 6.0, 8.0, 15.0, 9.0, 9.0, 29.0, 8.0, 10.0, 14.0, 14.0, 30.0, 30.0, 14.0, 14.0, 34.0, 34.0, 5.0, 8.0, 18.0, 9.0, 8.0, 8.0, 6.0, 12.0, 28.0, 9.0, 16.0, 36.0, 9.0, 12.0, 15.0, 18.0, 20.0, 14.0, 45.0, 34.0, 14.0, 6.0, 12.0, 8.0, 6.0, 6.0, 8.0, 20.0, 6.0, 6.0, 3.0, 8.0, 12.0, 68.0, 15.0, 15.0, 50.0, 15.0, 14.0, 9.0, 6.0, 55.0, 14.0, 8.0, 30.0, 10.0, 10.0, 20.0, 8.0, 14.0, 14.0, 16.0, 34.0, 8.0, 10.0, 10.0, 42.0, 18.0, 15.0, 30.0, 17.0, 15.0, 16.0, 50.0, 30.0, 22.0, 14.0, 40.0, 18.0, 23.0, 8.0, 34.0, 12.0, 36.0, 4.0, 16.0, 17.0, 16.0, 12.0, 10.0, 17.0, 10.0, 24.0, 68.0, 17.0, 22.0, 12.0, 9.0, 30.0, 22.0, 19.0, 16.0, 10.0, 28.0, 16.0, 15.0, 40.0, 12.0, 14.0, 7.0, 8.0, 10.0, 3.0, 14.0, 15.0, 12.0, 52.0, 8.0, 8.0, 18.0, 30.0, 3.5, 6.0, 13.0, 20.0, 9.0, 16.0, 12.0, 30.0, 15.0, 14.0, 20.0, 16.0, 10.0, 59.0, 8.0, 12.0, 10.0, 12.0, 8.0, 28.0, 12.0, 14.0, 5.0, 20.0, 12.0, 12.0, 15.0, 32.0, 12.0, 20.0, 29.0, 17.0, 6.0, 49.0, 25.0, 16.0, 6.0, 8.0, 30.0, 8.0, 10.0, 16.0, 18.0, 14.0, 15.0, 12.0, 8.0, 110.0, 105.0, 12.0, 10.0, 22.0, 30.0, 15.0, 8.0, 12.0, 20.0, 30.0, 8.0, 10.0, 16.0, 25.0, 20.0, 12.0, 85.0, 20.0, 14.0, 45.0, 40.0, 3.0, 10.0, 16.0, 8.0, 9.0, 30.0, 55.0, 22.0, 16.0, 18.0, 24.0, 40.0, 29.0, 30.0, 8.0, 18.0, 6.0, 9.0, 10.0, 30.0, 12.0, 7.0, 26.0, 3.0, 16.0, 14.0, 5.0, 8.0, 8.0, 34.0, 15.0, 10.0, 75.0, 20.0, 17.0, 6.0, 8.0, 12.0, 35.0, 14.0, 12.0, 22.0, 16.0, 20.0, 14.0, 100.0, 8.0, 12.0, 14.0, 25.0, 24.0, 26.0, 3.0, 8.0, 14.0, 20.0, 30.0, 14.0, 5.0, 15.0, 60.0, 10.0, 10.0, 10.0, 8.0, 12.0, 8.0, 24.0, 17.0, 12.0, 18.0, 16.0, 4.95, 14.0, 9.0, 12.0, 10.0, 14.0, 25.0, 20.0, 10.0, 8.0, 14.0, 20.0, 20.0, 16.0, 8.0, 5.0, 20.0, 8.0, 20.0, 32.0, 25.0, 11.0, 38.0, 7.0, 7.0, 7.0, 30.0, 10.0, 12.0, 12.0, 8.0, 7.0, 36.0, 36.0, 20.0, 12.0, 7.0, 12.0, 28.0, 22.0, 32.0, 30.0, 16.0, 12.0, 28.0, 17.0, 6.0, 7.0, 20.0, 34.0, 34.0, 7.0, 3.0, 24.0, 12.0, 12.0, 20.0, 28.0, 18.0, 8.0, 32.0, 20.0, 14.0, 5.0, 9.0, 20.0, 34.0, 6.0, 35.0, 12.0, 32.0, 7.0, 14.0, 14.0, 6.0, 20.0, 12.0, 32.0, 7.0, 9.0, 24.0, 14.0, 12.5, 10.0, 6.0, 4.0, 13.0, 16.0, 28.0, 54.0, 18.0, 20.0, 62.0, 24.0, 17.0, 15.0, 16.0, 10.0, 17.0, 25.0, 39.0, 12.0, 12.0, 2.0, 49.0, 8.0, 6.0, 15.0, 16.0, 50.0, 50.0], \"y0\": \" \", \"yaxis\": \"y\"}, {\"alignmentgroup\": \"True\", \"hovertemplate\": \"brand=%{x}<br>price=%{y}<extra></extra>\", \"legendgroup\": \"tarte\", \"marker\": {\"color\": \"#ab63fa\"}, \"name\": \"tarte\", \"notched\": false, \"offsetgroup\": \"tarte\", \"orientation\": \"v\", \"showlegend\": true, \"type\": \"box\", \"x\": [\"tarte\", \"tarte\", \"tarte\", \"tarte\", \"tarte\", \"tarte\", \"tarte\", \"tarte\", \"tarte\", \"tarte\", \"tarte\", \"tarte\", \"tarte\", \"tarte\", \"tarte\", \"tarte\", \"tarte\", \"tarte\", \"tarte\", \"tarte\", \"tarte\", \"tarte\", \"tarte\", \"tarte\", \"tarte\", \"tarte\", \"tarte\", \"tarte\", \"tarte\", \"tarte\", \"tarte\", \"tarte\", \"tarte\", \"tarte\", \"tarte\", \"tarte\", \"tarte\", \"tarte\", \"tarte\", \"tarte\", \"tarte\", \"tarte\", \"tarte\", \"tarte\", \"tarte\", \"tarte\", \"tarte\", \"tarte\", \"tarte\", \"tarte\", \"tarte\", \"tarte\", \"tarte\", \"tarte\", \"tarte\", \"tarte\", \"tarte\", \"tarte\", \"tarte\", \"tarte\", \"tarte\", \"tarte\", \"tarte\", \"tarte\", \"tarte\", \"tarte\", \"tarte\", \"tarte\", \"tarte\", \"tarte\", \"tarte\", \"tarte\", \"tarte\", \"tarte\", \"tarte\", \"tarte\", \"tarte\", \"tarte\", \"tarte\", \"tarte\", \"tarte\", \"tarte\", \"tarte\", \"tarte\", \"tarte\", \"tarte\", \"tarte\", \"tarte\", \"tarte\", \"tarte\", \"tarte\", \"tarte\", \"tarte\", \"tarte\", \"tarte\", \"tarte\", \"tarte\", \"tarte\", \"tarte\", \"tarte\", \"tarte\", \"tarte\", \"tarte\", \"tarte\", \"tarte\", \"tarte\", \"tarte\", \"tarte\", \"tarte\", \"tarte\", \"tarte\", \"tarte\", \"tarte\", \"tarte\", \"tarte\", \"tarte\", \"tarte\", \"tarte\", \"tarte\", \"tarte\", \"tarte\", \"tarte\", \"tarte\", \"tarte\", \"tarte\", \"tarte\", \"tarte\", \"tarte\", \"tarte\", \"tarte\", \"tarte\", \"tarte\", \"tarte\", \"tarte\", \"tarte\", \"tarte\", \"tarte\", \"tarte\", \"tarte\", \"tarte\", \"tarte\", \"tarte\", \"tarte\", \"tarte\", \"tarte\", \"tarte\", \"tarte\", \"tarte\", \"tarte\", \"tarte\", \"tarte\", \"tarte\", \"tarte\", \"tarte\", \"tarte\", \"tarte\", \"tarte\", \"tarte\", \"tarte\", \"tarte\", \"tarte\", \"tarte\", \"tarte\", \"tarte\", \"tarte\", \"tarte\", \"tarte\", \"tarte\", \"tarte\", \"tarte\"], \"x0\": \" \", \"xaxis\": \"x\", \"y\": [26.0, 29.0, 29.0, 39.0, 39.0, 37.0, 23.0, 23.0, 19.0, 10.0, 34.0, 39.0, 39.0, 24.0, 36.0, 29.0, 26.0, 23.0, 39.0, 22.0, 21.0, 26.0, 30.0, 39.0, 39.0, 22.0, 34.0, 28.0, 15.0, 48.0, 39.0, 45.0, 18.0, 22.0, 23.0, 34.0, 14.0, 38.0, 25.0, 20.0, 19.0, 39.0, 25.0, 25.0, 23.0, 20.0, 15.0, 39.0, 19.0, 19.0, 39.0, 12.0, 23.0, 12.0, 21.0, 14.0, 23.0, 33.0, 42.0, 20.0, 45.0, 32.0, 29.0, 30.0, 39.0, 12.0, 11.0, 29.0, 29.0, 32.0, 29.0, 29.0, 39.0, 12.0, 29.0, 15.0, 12.0, 28.0, 28.0, 16.0, 12.0, 44.0, 9.0, 24.0, 24.0, 18.0, 19.0, 24.0, 19.0, 24.0, 49.0, 28.0, 40.0, 20.0, 19.0, 14.0, 28.0, 39.0, 12.0, 12.0, 22.0, 32.0, 22.0, 18.0, 39.0, 28.0, 42.0, 15.0, 19.0, 15.0, 22.0, 24.0, 16.0, 14.0, 49.0, 15.0, 21.0, 20.0, 19.0, 21.0, 19.0, 35.0, 14.0, 16.0, 32.0, 17.0, 32.0, 36.0, 25.0, 19.0, 12.0, 14.0, 12.0, 39.0, 23.0, 16.0, 140.0, 12.0, 20.0, 16.0, 14.0, 14.0, 19.0, 24.0, 28.0, 24.0, 17.0, 19.0, 9.0, 30.0, 35.0, 24.0, 12.0, 25.0, 12.0, 29.0, 14.0, 25.0, 21.0, 12.0, 35.0, 25.0, 25.0, 18.0, 19.0, 105.0, 30.0, 42.0, 20.0, 30.0], \"y0\": \" \", \"yaxis\": \"y\"}, {\"alignmentgroup\": \"True\", \"hovertemplate\": \"brand=%{x}<br>price=%{y}<extra></extra>\", \"legendgroup\": \"TOM FORD\", \"marker\": {\"color\": \"#FFA15A\"}, \"name\": \"TOM FORD\", \"notched\": false, \"offsetgroup\": \"TOM FORD\", \"orientation\": \"v\", \"showlegend\": true, \"type\": \"box\", \"x\": [\"TOM FORD\", \"TOM FORD\", \"TOM FORD\", \"TOM FORD\", \"TOM FORD\", \"TOM FORD\", \"TOM FORD\", \"TOM FORD\", \"TOM FORD\", \"TOM FORD\", \"TOM FORD\", \"TOM FORD\", \"TOM FORD\", \"TOM FORD\", \"TOM FORD\", \"TOM FORD\", \"TOM FORD\", \"TOM FORD\", \"TOM FORD\", \"TOM FORD\", \"TOM FORD\", \"TOM FORD\", \"TOM FORD\", \"TOM FORD\", \"TOM FORD\", \"TOM FORD\", \"TOM FORD\", \"TOM FORD\", \"TOM FORD\", \"TOM FORD\", \"TOM FORD\", \"TOM FORD\", \"TOM FORD\", \"TOM FORD\", \"TOM FORD\", \"TOM FORD\", \"TOM FORD\", \"TOM FORD\", \"TOM FORD\", \"TOM FORD\", \"TOM FORD\", \"TOM FORD\", \"TOM FORD\", \"TOM FORD\", \"TOM FORD\", \"TOM FORD\", \"TOM FORD\", \"TOM FORD\", \"TOM FORD\", \"TOM FORD\", \"TOM FORD\", \"TOM FORD\", \"TOM FORD\", \"TOM FORD\", \"TOM FORD\", \"TOM FORD\", \"TOM FORD\", \"TOM FORD\", \"TOM FORD\", \"TOM FORD\", \"TOM FORD\", \"TOM FORD\", \"TOM FORD\", \"TOM FORD\", \"TOM FORD\", \"TOM FORD\", \"TOM FORD\", \"TOM FORD\", \"TOM FORD\", \"TOM FORD\", \"TOM FORD\", \"TOM FORD\", \"TOM FORD\", \"TOM FORD\", \"TOM FORD\", \"TOM FORD\", \"TOM FORD\", \"TOM FORD\", \"TOM FORD\", \"TOM FORD\", \"TOM FORD\", \"TOM FORD\", \"TOM FORD\", \"TOM FORD\", \"TOM FORD\", \"TOM FORD\", \"TOM FORD\", \"TOM FORD\", \"TOM FORD\", \"TOM FORD\", \"TOM FORD\", \"TOM FORD\", \"TOM FORD\", \"TOM FORD\", \"TOM FORD\", \"TOM FORD\", \"TOM FORD\", \"TOM FORD\", \"TOM FORD\", \"TOM FORD\", \"TOM FORD\", \"TOM FORD\", \"TOM FORD\", \"TOM FORD\", \"TOM FORD\", \"TOM FORD\", \"TOM FORD\", \"TOM FORD\", \"TOM FORD\", \"TOM FORD\", \"TOM FORD\", \"TOM FORD\", \"TOM FORD\", \"TOM FORD\", \"TOM FORD\", \"TOM FORD\", \"TOM FORD\", \"TOM FORD\", \"TOM FORD\", \"TOM FORD\", \"TOM FORD\", \"TOM FORD\", \"TOM FORD\", \"TOM FORD\", \"TOM FORD\", \"TOM FORD\", \"TOM FORD\", \"TOM FORD\", \"TOM FORD\", \"TOM FORD\", \"TOM FORD\", \"TOM FORD\", \"TOM FORD\", \"TOM FORD\", \"TOM FORD\", \"TOM FORD\", \"TOM FORD\", \"TOM FORD\", \"TOM FORD\", \"TOM FORD\", \"TOM FORD\", \"TOM FORD\", \"TOM FORD\", \"TOM FORD\", \"TOM FORD\", \"TOM FORD\", \"TOM FORD\", \"TOM FORD\", \"TOM FORD\", \"TOM FORD\", \"TOM FORD\", \"TOM FORD\", \"TOM FORD\", \"TOM FORD\", \"TOM FORD\", \"TOM FORD\", \"TOM FORD\", \"TOM FORD\", \"TOM FORD\", \"TOM FORD\", \"TOM FORD\"], \"x0\": \" \", \"xaxis\": \"x\", \"y\": [100.0, 34.0, 88.0, 240.0, 240.0, 55.0, 335.0, 128.0, 240.0, 88.0, 55.0, 55.0, 88.0, 335.0, 240.0, 128.0, 335.0, 240.0, 72.0, 90.0, 36.0, 112.0, 59.0, 63.0, 62.0, 180.0, 240.0, 128.0, 46.0, 57.0, 60.0, 240.0, 60.0, 88.0, 54.0, 55.0, 46.0, 55.0, 60.0, 240.0, 195.0, 240.0, 49.0, 54.0, 55.0, 128.0, 49.0, 60.0, 128.0, 240.0, 50.0, 132.0, 92.0, 54.0, 128.0, 60.0, 115.0, 46.0, 128.0, 88.0, 75.0, 128.0, 240.0, 55.0, 128.0, 55.0, 46.0, 44.0, 60.0, 49.0, 55.0, 240.0, 70.0, 70.0, 240.0, 36.0, 240.0, 60.0, 128.0, 88.0, 60.0, 70.0, 60.0, 110.0, 240.0, 54.0, 84.0, 70.0, 325.0, 240.0, 180.0, 49.0, 49.0, 46.0, 100.0, 60.0, 335.0, 128.0, 40.0, 240.0, 53.0, 240.0, 46.0, 240.0, 47.0, 70.0, 98.0, 112.0, 110.0, 240.0, 70.0, 29.0, 57.0, 240.0, 68.0, 54.0, 53.0, 56.0, 78.0, 49.0, 70.0, 70.0, 75.0, 70.0, 155.0, 70.0, 88.0, 240.0, 235.0, 52.0, 180.0, 70.0, 70.0, 67.0, 240.0, 55.0, 125.0, 60.0, 70.0, 55.0, 65.0, 49.0, 47.0, 70.0, 36.0, 70.0, 59.0, 49.0, 70.0, 240.0, 335.0, 335.0, 55.0, 97.0, 122.0, 38.0, 38.0, 78.0, 70.0, 72.0, 53.0], \"y0\": \" \", \"yaxis\": \"y\"}],                        {\"boxmode\": \"overlay\", \"legend\": {\"title\": {\"text\": \"brand\"}, \"tracegroupgap\": 0}, \"margin\": {\"t\": 60}, \"template\": {\"data\": {\"bar\": [{\"error_x\": {\"color\": \"#2a3f5f\"}, \"error_y\": {\"color\": \"#2a3f5f\"}, \"marker\": {\"line\": {\"color\": \"#E5ECF6\", \"width\": 0.5}}, \"type\": \"bar\"}], \"barpolar\": [{\"marker\": {\"line\": {\"color\": \"#E5ECF6\", \"width\": 0.5}}, \"type\": \"barpolar\"}], \"carpet\": [{\"aaxis\": {\"endlinecolor\": \"#2a3f5f\", \"gridcolor\": \"white\", \"linecolor\": \"white\", \"minorgridcolor\": \"white\", \"startlinecolor\": \"#2a3f5f\"}, \"baxis\": {\"endlinecolor\": \"#2a3f5f\", \"gridcolor\": \"white\", \"linecolor\": \"white\", \"minorgridcolor\": \"white\", \"startlinecolor\": \"#2a3f5f\"}, \"type\": \"carpet\"}], \"choropleth\": [{\"colorbar\": {\"outlinewidth\": 0, \"ticks\": \"\"}, \"type\": \"choropleth\"}], \"contour\": [{\"colorbar\": {\"outlinewidth\": 0, \"ticks\": \"\"}, \"colorscale\": [[0.0, \"#0d0887\"], [0.1111111111111111, \"#46039f\"], [0.2222222222222222, \"#7201a8\"], [0.3333333333333333, \"#9c179e\"], [0.4444444444444444, \"#bd3786\"], [0.5555555555555556, \"#d8576b\"], [0.6666666666666666, \"#ed7953\"], [0.7777777777777778, \"#fb9f3a\"], [0.8888888888888888, \"#fdca26\"], [1.0, \"#f0f921\"]], \"type\": \"contour\"}], \"contourcarpet\": [{\"colorbar\": {\"outlinewidth\": 0, \"ticks\": \"\"}, \"type\": \"contourcarpet\"}], \"heatmap\": [{\"colorbar\": {\"outlinewidth\": 0, \"ticks\": \"\"}, \"colorscale\": [[0.0, \"#0d0887\"], [0.1111111111111111, \"#46039f\"], [0.2222222222222222, \"#7201a8\"], [0.3333333333333333, \"#9c179e\"], [0.4444444444444444, \"#bd3786\"], [0.5555555555555556, \"#d8576b\"], [0.6666666666666666, \"#ed7953\"], [0.7777777777777778, \"#fb9f3a\"], [0.8888888888888888, \"#fdca26\"], [1.0, \"#f0f921\"]], \"type\": \"heatmap\"}], \"heatmapgl\": [{\"colorbar\": {\"outlinewidth\": 0, \"ticks\": \"\"}, \"colorscale\": [[0.0, \"#0d0887\"], [0.1111111111111111, \"#46039f\"], [0.2222222222222222, \"#7201a8\"], [0.3333333333333333, \"#9c179e\"], [0.4444444444444444, \"#bd3786\"], [0.5555555555555556, \"#d8576b\"], [0.6666666666666666, \"#ed7953\"], [0.7777777777777778, \"#fb9f3a\"], [0.8888888888888888, \"#fdca26\"], [1.0, \"#f0f921\"]], \"type\": \"heatmapgl\"}], \"histogram\": [{\"marker\": {\"colorbar\": {\"outlinewidth\": 0, \"ticks\": \"\"}}, \"type\": \"histogram\"}], \"histogram2d\": [{\"colorbar\": {\"outlinewidth\": 0, \"ticks\": \"\"}, \"colorscale\": [[0.0, \"#0d0887\"], [0.1111111111111111, \"#46039f\"], [0.2222222222222222, \"#7201a8\"], [0.3333333333333333, \"#9c179e\"], [0.4444444444444444, \"#bd3786\"], [0.5555555555555556, \"#d8576b\"], [0.6666666666666666, \"#ed7953\"], [0.7777777777777778, \"#fb9f3a\"], [0.8888888888888888, \"#fdca26\"], [1.0, \"#f0f921\"]], \"type\": \"histogram2d\"}], \"histogram2dcontour\": [{\"colorbar\": {\"outlinewidth\": 0, \"ticks\": \"\"}, \"colorscale\": [[0.0, \"#0d0887\"], [0.1111111111111111, \"#46039f\"], [0.2222222222222222, \"#7201a8\"], [0.3333333333333333, \"#9c179e\"], [0.4444444444444444, \"#bd3786\"], [0.5555555555555556, \"#d8576b\"], [0.6666666666666666, \"#ed7953\"], [0.7777777777777778, \"#fb9f3a\"], [0.8888888888888888, \"#fdca26\"], [1.0, \"#f0f921\"]], \"type\": \"histogram2dcontour\"}], \"mesh3d\": [{\"colorbar\": {\"outlinewidth\": 0, \"ticks\": \"\"}, \"type\": \"mesh3d\"}], \"parcoords\": [{\"line\": {\"colorbar\": {\"outlinewidth\": 0, \"ticks\": \"\"}}, \"type\": \"parcoords\"}], \"pie\": [{\"automargin\": true, \"type\": \"pie\"}], \"scatter\": [{\"marker\": {\"colorbar\": {\"outlinewidth\": 0, \"ticks\": \"\"}}, \"type\": \"scatter\"}], \"scatter3d\": [{\"line\": {\"colorbar\": {\"outlinewidth\": 0, \"ticks\": \"\"}}, \"marker\": {\"colorbar\": {\"outlinewidth\": 0, \"ticks\": \"\"}}, \"type\": \"scatter3d\"}], \"scattercarpet\": [{\"marker\": {\"colorbar\": {\"outlinewidth\": 0, \"ticks\": \"\"}}, \"type\": \"scattercarpet\"}], \"scattergeo\": [{\"marker\": {\"colorbar\": {\"outlinewidth\": 0, \"ticks\": \"\"}}, \"type\": \"scattergeo\"}], \"scattergl\": [{\"marker\": {\"colorbar\": {\"outlinewidth\": 0, \"ticks\": \"\"}}, \"type\": \"scattergl\"}], \"scattermapbox\": [{\"marker\": {\"colorbar\": {\"outlinewidth\": 0, \"ticks\": \"\"}}, \"type\": \"scattermapbox\"}], \"scatterpolar\": [{\"marker\": {\"colorbar\": {\"outlinewidth\": 0, \"ticks\": \"\"}}, \"type\": \"scatterpolar\"}], \"scatterpolargl\": [{\"marker\": {\"colorbar\": {\"outlinewidth\": 0, \"ticks\": \"\"}}, \"type\": \"scatterpolargl\"}], \"scatterternary\": [{\"marker\": {\"colorbar\": {\"outlinewidth\": 0, \"ticks\": \"\"}}, \"type\": \"scatterternary\"}], \"surface\": [{\"colorbar\": {\"outlinewidth\": 0, \"ticks\": \"\"}, \"colorscale\": [[0.0, \"#0d0887\"], [0.1111111111111111, \"#46039f\"], [0.2222222222222222, \"#7201a8\"], [0.3333333333333333, \"#9c179e\"], [0.4444444444444444, \"#bd3786\"], [0.5555555555555556, \"#d8576b\"], [0.6666666666666666, \"#ed7953\"], [0.7777777777777778, \"#fb9f3a\"], [0.8888888888888888, \"#fdca26\"], [1.0, \"#f0f921\"]], \"type\": \"surface\"}], \"table\": [{\"cells\": {\"fill\": {\"color\": \"#EBF0F8\"}, \"line\": {\"color\": \"white\"}}, \"header\": {\"fill\": {\"color\": \"#C8D4E3\"}, \"line\": {\"color\": \"white\"}}, \"type\": \"table\"}]}, \"layout\": {\"annotationdefaults\": {\"arrowcolor\": \"#2a3f5f\", \"arrowhead\": 0, \"arrowwidth\": 1}, \"autotypenumbers\": \"strict\", \"coloraxis\": {\"colorbar\": {\"outlinewidth\": 0, \"ticks\": \"\"}}, \"colorscale\": {\"diverging\": [[0, \"#8e0152\"], [0.1, \"#c51b7d\"], [0.2, \"#de77ae\"], [0.3, \"#f1b6da\"], [0.4, \"#fde0ef\"], [0.5, \"#f7f7f7\"], [0.6, \"#e6f5d0\"], [0.7, \"#b8e186\"], [0.8, \"#7fbc41\"], [0.9, \"#4d9221\"], [1, \"#276419\"]], \"sequential\": [[0.0, \"#0d0887\"], [0.1111111111111111, \"#46039f\"], [0.2222222222222222, \"#7201a8\"], [0.3333333333333333, \"#9c179e\"], [0.4444444444444444, \"#bd3786\"], [0.5555555555555556, \"#d8576b\"], [0.6666666666666666, \"#ed7953\"], [0.7777777777777778, \"#fb9f3a\"], [0.8888888888888888, \"#fdca26\"], [1.0, \"#f0f921\"]], \"sequentialminus\": [[0.0, \"#0d0887\"], [0.1111111111111111, \"#46039f\"], [0.2222222222222222, \"#7201a8\"], [0.3333333333333333, \"#9c179e\"], [0.4444444444444444, \"#bd3786\"], [0.5555555555555556, \"#d8576b\"], [0.6666666666666666, \"#ed7953\"], [0.7777777777777778, \"#fb9f3a\"], [0.8888888888888888, \"#fdca26\"], [1.0, \"#f0f921\"]]}, \"colorway\": [\"#636efa\", \"#EF553B\", \"#00cc96\", \"#ab63fa\", \"#FFA15A\", \"#19d3f3\", \"#FF6692\", \"#B6E880\", \"#FF97FF\", \"#FECB52\"], \"font\": {\"color\": \"#2a3f5f\"}, \"geo\": {\"bgcolor\": \"white\", \"lakecolor\": \"white\", \"landcolor\": \"#E5ECF6\", \"showlakes\": true, \"showland\": true, \"subunitcolor\": \"white\"}, \"hoverlabel\": {\"align\": \"left\"}, \"hovermode\": \"closest\", \"mapbox\": {\"style\": \"light\"}, \"paper_bgcolor\": \"white\", \"plot_bgcolor\": \"#E5ECF6\", \"polar\": {\"angularaxis\": {\"gridcolor\": \"white\", \"linecolor\": \"white\", \"ticks\": \"\"}, \"bgcolor\": \"#E5ECF6\", \"radialaxis\": {\"gridcolor\": \"white\", \"linecolor\": \"white\", \"ticks\": \"\"}}, \"scene\": {\"xaxis\": {\"backgroundcolor\": \"#E5ECF6\", \"gridcolor\": \"white\", \"gridwidth\": 2, \"linecolor\": \"white\", \"showbackground\": true, \"ticks\": \"\", \"zerolinecolor\": \"white\"}, \"yaxis\": {\"backgroundcolor\": \"#E5ECF6\", \"gridcolor\": \"white\", \"gridwidth\": 2, \"linecolor\": \"white\", \"showbackground\": true, \"ticks\": \"\", \"zerolinecolor\": \"white\"}, \"zaxis\": {\"backgroundcolor\": \"#E5ECF6\", \"gridcolor\": \"white\", \"gridwidth\": 2, \"linecolor\": \"white\", \"showbackground\": true, \"ticks\": \"\", \"zerolinecolor\": \"white\"}}, \"shapedefaults\": {\"line\": {\"color\": \"#2a3f5f\"}}, \"ternary\": {\"aaxis\": {\"gridcolor\": \"white\", \"linecolor\": \"white\", \"ticks\": \"\"}, \"baxis\": {\"gridcolor\": \"white\", \"linecolor\": \"white\", \"ticks\": \"\"}, \"bgcolor\": \"#E5ECF6\", \"caxis\": {\"gridcolor\": \"white\", \"linecolor\": \"white\", \"ticks\": \"\"}}, \"title\": {\"x\": 0.05}, \"xaxis\": {\"automargin\": true, \"gridcolor\": \"white\", \"linecolor\": \"white\", \"ticks\": \"\", \"title\": {\"standoff\": 15}, \"zerolinecolor\": \"white\", \"zerolinewidth\": 2}, \"yaxis\": {\"automargin\": true, \"gridcolor\": \"white\", \"linecolor\": \"white\", \"ticks\": \"\", \"title\": {\"standoff\": 15}, \"zerolinecolor\": \"white\", \"zerolinewidth\": 2}}}, \"xaxis\": {\"anchor\": \"y\", \"categoryarray\": [\"CLINIQUE\", \"Dior\", \"SEPHORA COLLECTION\", \"tarte\", \"TOM FORD\"], \"categoryorder\": \"array\", \"domain\": [0.0, 1.0], \"title\": {\"text\": \"brand\"}}, \"yaxis\": {\"anchor\": \"x\", \"domain\": [0.0, 1.0], \"title\": {\"text\": \"price\"}}},                        {\"responsive\": true}                    ).then(function(){\n",
       "                            \n",
       "var gd = document.getElementById('1b0db855-3f5a-40a1-ac88-4169be7ad0c3');\n",
       "var x = new MutationObserver(function (mutations, observer) {{\n",
       "        var display = window.getComputedStyle(gd).display;\n",
       "        if (!display || display === 'none') {{\n",
       "            console.log([gd, 'removed!']);\n",
       "            Plotly.purge(gd);\n",
       "            observer.disconnect();\n",
       "        }}\n",
       "}});\n",
       "\n",
       "// Listen for the removal of the full notebook cells\n",
       "var notebookContainer = gd.closest('#notebook-container');\n",
       "if (notebookContainer) {{\n",
       "    x.observe(notebookContainer, {childList: true});\n",
       "}}\n",
       "\n",
       "// Listen for the clearing of the current output cell\n",
       "var outputEl = gd.closest('.output');\n",
       "if (outputEl) {{\n",
       "    x.observe(outputEl, {childList: true});\n",
       "}}\n",
       "\n",
       "                        })                };                });            </script>        </div>"
      ]
     },
     "metadata": {},
     "output_type": "display_data"
    }
   ],
   "source": [
    "# barplot count dari brand \n",
    "fig = px.box(df, x='brand', y='price', color='brand')\n",
    "fig.show()"
   ]
  },
  {
   "cell_type": "markdown",
   "id": "increasing-excuse",
   "metadata": {},
   "source": [
    "### Analisis\n",
    "Dari grafik diatas tom ford adalah brand dengan sebaran harga yang mahal dibandingkan dengan 5 brand lainnya.\n",
    "\n",
    "Kemudian brand yang murah adalah sephora karena sebaran harganya berada dibawah ke 4 brand lainnya"
   ]
  },
  {
   "cell_type": "code",
   "execution_count": null,
   "id": "personal-smooth",
   "metadata": {},
   "outputs": [],
   "source": []
  },
  {
   "cell_type": "code",
   "execution_count": null,
   "id": "mysterious-basics",
   "metadata": {},
   "outputs": [],
   "source": []
  },
  {
   "cell_type": "markdown",
   "id": "social-facility",
   "metadata": {},
   "source": [
    "### Buatlah perbandingan jumlah review berdasarkan jenis produk (category : colonge, perfume, dll), buat untuk masing - masing brand."
   ]
  },
  {
   "cell_type": "code",
   "execution_count": 32,
   "id": "fixed-combination",
   "metadata": {},
   "outputs": [
    {
     "data": {
      "application/vnd.plotly.v1+json": {
       "config": {
        "plotlyServerURL": "https://plot.ly"
       },
       "data": [
        {
         "alignmentgroup": "True",
         "hovertemplate": "category=%{x}<br>number_of_reviews=%{y}<extra></extra>",
         "legendgroup": "Moisturizers",
         "marker": {
          "color": "#636efa"
         },
         "name": "Moisturizers",
         "offsetgroup": "Moisturizers",
         "orientation": "v",
         "showlegend": true,
         "textposition": "auto",
         "type": "bar",
         "x": [
          "Moisturizers",
          "Moisturizers",
          "Moisturizers",
          "Moisturizers",
          "Moisturizers",
          "Moisturizers",
          "Moisturizers",
          "Moisturizers",
          "Moisturizers",
          "Moisturizers",
          "Moisturizers",
          "Moisturizers",
          "Moisturizers",
          "Moisturizers",
          "Moisturizers",
          "Moisturizers",
          "Moisturizers",
          "Moisturizers",
          "Moisturizers",
          "Moisturizers",
          "Moisturizers",
          "Moisturizers",
          "Moisturizers",
          "Moisturizers",
          "Moisturizers",
          "Moisturizers",
          "Moisturizers",
          "Moisturizers",
          "Moisturizers",
          "Moisturizers",
          "Moisturizers",
          "Moisturizers",
          "Moisturizers",
          "Moisturizers",
          "Moisturizers",
          "Moisturizers",
          "Moisturizers",
          "Moisturizers",
          "Moisturizers",
          "Moisturizers",
          "Moisturizers",
          "Moisturizers",
          "Moisturizers",
          "Moisturizers",
          "Moisturizers",
          "Moisturizers",
          "Moisturizers",
          "Moisturizers",
          "Moisturizers",
          "Moisturizers",
          "Moisturizers",
          "Moisturizers"
         ],
         "xaxis": "x",
         "y": [
          1000,
          1000,
          3000,
          185,
          948,
          547,
          328,
          612,
          22,
          31,
          1,
          24,
          7,
          4,
          14,
          16,
          217,
          14,
          4,
          3,
          39,
          159,
          31,
          57,
          3,
          578,
          5,
          8,
          15,
          85,
          13,
          18,
          5,
          402,
          3,
          46,
          167,
          25,
          47,
          36,
          10,
          4,
          99,
          447,
          493,
          62,
          19,
          25,
          1000,
          48,
          26,
          11
         ],
         "yaxis": "y"
        },
        {
         "alignmentgroup": "True",
         "hovertemplate": "category=%{x}<br>number_of_reviews=%{y}<extra></extra>",
         "legendgroup": "Face Wash & Cleansers",
         "marker": {
          "color": "#EF553B"
         },
         "name": "Face Wash & Cleansers",
         "offsetgroup": "Face Wash & Cleansers",
         "orientation": "v",
         "showlegend": true,
         "textposition": "auto",
         "type": "bar",
         "x": [
          "Face Wash & Cleansers",
          "Face Wash & Cleansers",
          "Face Wash & Cleansers",
          "Face Wash & Cleansers",
          "Face Wash & Cleansers",
          "Face Wash & Cleansers",
          "Face Wash & Cleansers",
          "Face Wash & Cleansers",
          "Face Wash & Cleansers",
          "Face Wash & Cleansers",
          "Face Wash & Cleansers",
          "Face Wash & Cleansers",
          "Face Wash & Cleansers",
          "Face Wash & Cleansers",
          "Face Wash & Cleansers",
          "Face Wash & Cleansers",
          "Face Wash & Cleansers",
          "Face Wash & Cleansers",
          "Face Wash & Cleansers",
          "Face Wash & Cleansers",
          "Face Wash & Cleansers",
          "Face Wash & Cleansers",
          "Face Wash & Cleansers",
          "Face Wash & Cleansers",
          "Face Wash & Cleansers",
          "Face Wash & Cleansers",
          "Face Wash & Cleansers",
          "Face Wash & Cleansers"
         ],
         "xaxis": "x",
         "y": [
          2000,
          3000,
          964,
          769,
          363,
          136,
          276,
          375,
          435,
          109,
          28,
          50,
          66,
          0,
          26,
          18,
          42,
          401,
          1000,
          5,
          26,
          28,
          1000,
          18,
          929,
          38,
          47,
          357
         ],
         "yaxis": "y"
        },
        {
         "alignmentgroup": "True",
         "hovertemplate": "category=%{x}<br>number_of_reviews=%{y}<extra></extra>",
         "legendgroup": "Foundation",
         "marker": {
          "color": "#00cc96"
         },
         "name": "Foundation",
         "offsetgroup": "Foundation",
         "orientation": "v",
         "showlegend": true,
         "textposition": "auto",
         "type": "bar",
         "x": [
          "Foundation",
          "Foundation",
          "Foundation",
          "Foundation",
          "Foundation",
          "Foundation",
          "Foundation",
          "Foundation",
          "Foundation",
          "Foundation",
          "Foundation",
          "Foundation",
          "Foundation",
          "Foundation",
          "Foundation",
          "Foundation",
          "Foundation",
          "Foundation",
          "Foundation",
          "Foundation",
          "Foundation",
          "Foundation",
          "Foundation",
          "Foundation",
          "Foundation",
          "Foundation",
          "Foundation",
          "Foundation",
          "Foundation",
          "Foundation",
          "Foundation",
          "Foundation"
         ],
         "xaxis": "x",
         "y": [
          2000,
          2000,
          1000,
          1000,
          674,
          1000,
          911,
          20,
          124,
          26,
          277,
          178,
          3000,
          1000,
          989,
          926,
          473,
          431,
          3000,
          1000,
          1000,
          596,
          2000,
          234,
          3000,
          694,
          1000,
          6000,
          634,
          6,
          228,
          36
         ],
         "yaxis": "y"
        },
        {
         "alignmentgroup": "True",
         "hovertemplate": "category=%{x}<br>number_of_reviews=%{y}<extra></extra>",
         "legendgroup": "Face Serums",
         "marker": {
          "color": "#ab63fa"
         },
         "name": "Face Serums",
         "offsetgroup": "Face Serums",
         "orientation": "v",
         "showlegend": true,
         "textposition": "auto",
         "type": "bar",
         "x": [
          "Face Serums",
          "Face Serums",
          "Face Serums",
          "Face Serums",
          "Face Serums",
          "Face Serums",
          "Face Serums",
          "Face Serums",
          "Face Serums",
          "Face Serums",
          "Face Serums",
          "Face Serums",
          "Face Serums",
          "Face Serums",
          "Face Serums",
          "Face Serums",
          "Face Serums",
          "Face Serums",
          "Face Serums",
          "Face Serums",
          "Face Serums",
          "Face Serums",
          "Face Serums",
          "Face Serums",
          "Face Serums",
          "Face Serums",
          "Face Serums",
          "Face Serums"
         ],
         "xaxis": "x",
         "y": [
          6,
          387,
          133,
          653,
          109,
          134,
          25,
          404,
          102,
          14,
          6,
          39,
          10,
          1000,
          3,
          26,
          17,
          14,
          17,
          6,
          16,
          404,
          4,
          93,
          1,
          117,
          268,
          89
         ],
         "yaxis": "y"
        },
        {
         "alignmentgroup": "True",
         "hovertemplate": "category=%{x}<br>number_of_reviews=%{y}<extra></extra>",
         "legendgroup": "Value & Gift Sets",
         "marker": {
          "color": "#FFA15A"
         },
         "name": "Value & Gift Sets",
         "offsetgroup": "Value & Gift Sets",
         "orientation": "v",
         "showlegend": true,
         "textposition": "auto",
         "type": "bar",
         "x": [
          "Value & Gift Sets",
          "Value & Gift Sets",
          "Value & Gift Sets",
          "Value & Gift Sets",
          "Value & Gift Sets",
          "Value & Gift Sets",
          "Value & Gift Sets",
          "Value & Gift Sets",
          "Value & Gift Sets",
          "Value & Gift Sets",
          "Value & Gift Sets",
          "Value & Gift Sets",
          "Value & Gift Sets",
          "Value & Gift Sets",
          "Value & Gift Sets",
          "Value & Gift Sets",
          "Value & Gift Sets",
          "Value & Gift Sets",
          "Value & Gift Sets",
          "Value & Gift Sets",
          "Value & Gift Sets",
          "Value & Gift Sets",
          "Value & Gift Sets",
          "Value & Gift Sets",
          "Value & Gift Sets",
          "Value & Gift Sets",
          "Value & Gift Sets",
          "Value & Gift Sets",
          "Value & Gift Sets"
         ],
         "xaxis": "x",
         "y": [
          131,
          160,
          17,
          244,
          2,
          1,
          8,
          230,
          71,
          17,
          0,
          0,
          0,
          0,
          0,
          98,
          29,
          178,
          25,
          44,
          8,
          7,
          20,
          3,
          5,
          3,
          0,
          0,
          18
         ],
         "yaxis": "y"
        },
        {
         "alignmentgroup": "True",
         "hovertemplate": "category=%{x}<br>number_of_reviews=%{y}<extra></extra>",
         "legendgroup": "Toners",
         "marker": {
          "color": "#19d3f3"
         },
         "name": "Toners",
         "offsetgroup": "Toners",
         "orientation": "v",
         "showlegend": true,
         "textposition": "auto",
         "type": "bar",
         "x": [
          "Toners",
          "Toners",
          "Toners",
          "Toners",
          "Toners",
          "Toners",
          "Toners",
          "Toners",
          "Toners",
          "Toners"
         ],
         "xaxis": "x",
         "y": [
          1000,
          868,
          7,
          936,
          6,
          190,
          219,
          42,
          40,
          618
         ],
         "yaxis": "y"
        },
        {
         "alignmentgroup": "True",
         "hovertemplate": "category=%{x}<br>number_of_reviews=%{y}<extra></extra>",
         "legendgroup": "Mascara",
         "marker": {
          "color": "#FF6692"
         },
         "name": "Mascara",
         "offsetgroup": "Mascara",
         "orientation": "v",
         "showlegend": true,
         "textposition": "auto",
         "type": "bar",
         "x": [
          "Mascara",
          "Mascara",
          "Mascara",
          "Mascara",
          "Mascara",
          "Mascara",
          "Mascara",
          "Mascara",
          "Mascara",
          "Mascara",
          "Mascara",
          "Mascara",
          "Mascara",
          "Mascara",
          "Mascara",
          "Mascara",
          "Mascara",
          "Mascara",
          "Mascara",
          "Mascara",
          "Mascara",
          "Mascara",
          "Mascara",
          "Mascara",
          "Mascara",
          "Mascara",
          "Mascara",
          "Mascara",
          "Mascara",
          "Mascara",
          "Mascara",
          "Mascara",
          "Mascara",
          "Mascara",
          "Mascara",
          "Mascara",
          "Mascara",
          "Mascara",
          "Mascara",
          "Mascara",
          "Mascara",
          "Mascara"
         ],
         "xaxis": "x",
         "y": [
          2000,
          2000,
          331,
          748,
          718,
          474,
          688,
          1000,
          271,
          154,
          1000,
          720,
          2000,
          2000,
          174,
          3000,
          1000,
          755,
          52,
          831,
          1000,
          128,
          14,
          6000,
          225,
          1000,
          335,
          1000,
          1000,
          241,
          56,
          5,
          127,
          48,
          712,
          13,
          65,
          111,
          14,
          31,
          23,
          123
         ],
         "yaxis": "y"
        },
        {
         "alignmentgroup": "True",
         "hovertemplate": "category=%{x}<br>number_of_reviews=%{y}<extra></extra>",
         "legendgroup": "Eye Creams & Treatments",
         "marker": {
          "color": "#B6E880"
         },
         "name": "Eye Creams & Treatments",
         "offsetgroup": "Eye Creams & Treatments",
         "orientation": "v",
         "showlegend": true,
         "textposition": "auto",
         "type": "bar",
         "x": [
          "Eye Creams & Treatments",
          "Eye Creams & Treatments",
          "Eye Creams & Treatments",
          "Eye Creams & Treatments",
          "Eye Creams & Treatments",
          "Eye Creams & Treatments",
          "Eye Creams & Treatments",
          "Eye Creams & Treatments",
          "Eye Creams & Treatments",
          "Eye Creams & Treatments",
          "Eye Creams & Treatments",
          "Eye Creams & Treatments",
          "Eye Creams & Treatments",
          "Eye Creams & Treatments",
          "Eye Creams & Treatments"
         ],
         "xaxis": "x",
         "y": [
          1000,
          1000,
          140,
          951,
          270,
          70,
          874,
          36,
          374,
          1,
          20,
          20,
          22,
          515,
          852
         ],
         "yaxis": "y"
        },
        {
         "alignmentgroup": "True",
         "hovertemplate": "category=%{x}<br>number_of_reviews=%{y}<extra></extra>",
         "legendgroup": "Blemish & Acne Treatments",
         "marker": {
          "color": "#FF97FF"
         },
         "name": "Blemish & Acne Treatments",
         "offsetgroup": "Blemish & Acne Treatments",
         "orientation": "v",
         "showlegend": true,
         "textposition": "auto",
         "type": "bar",
         "x": [
          "Blemish & Acne Treatments",
          "Blemish & Acne Treatments",
          "Blemish & Acne Treatments",
          "Blemish & Acne Treatments",
          "Blemish & Acne Treatments",
          "Blemish & Acne Treatments",
          "Blemish & Acne Treatments"
         ],
         "xaxis": "x",
         "y": [
          814,
          73,
          513,
          495,
          0,
          59,
          22
         ],
         "yaxis": "y"
        },
        {
         "alignmentgroup": "True",
         "hovertemplate": "category=%{x}<br>number_of_reviews=%{y}<extra></extra>",
         "legendgroup": "Makeup Removers",
         "marker": {
          "color": "#FECB52"
         },
         "name": "Makeup Removers",
         "offsetgroup": "Makeup Removers",
         "orientation": "v",
         "showlegend": true,
         "textposition": "auto",
         "type": "bar",
         "x": [
          "Makeup Removers",
          "Makeup Removers",
          "Makeup Removers",
          "Makeup Removers",
          "Makeup Removers",
          "Makeup Removers",
          "Makeup Removers",
          "Makeup Removers",
          "Makeup Removers",
          "Makeup Removers",
          "Makeup Removers",
          "Makeup Removers",
          "Makeup Removers",
          "Makeup Removers",
          "Makeup Removers"
         ],
         "xaxis": "x",
         "y": [
          3000,
          1,
          285,
          522,
          248,
          31,
          3000,
          71,
          51,
          54,
          86,
          19,
          14,
          39,
          328
         ],
         "yaxis": "y"
        },
        {
         "alignmentgroup": "True",
         "hovertemplate": "category=%{x}<br>number_of_reviews=%{y}<extra></extra>",
         "legendgroup": "Exfoliators",
         "marker": {
          "color": "#636efa"
         },
         "name": "Exfoliators",
         "offsetgroup": "Exfoliators",
         "orientation": "v",
         "showlegend": true,
         "textposition": "auto",
         "type": "bar",
         "x": [
          "Exfoliators",
          "Exfoliators",
          "Exfoliators",
          "Exfoliators",
          "Exfoliators",
          "Exfoliators",
          "Exfoliators",
          "Exfoliators"
         ],
         "xaxis": "x",
         "y": [
          1000,
          504,
          776,
          35,
          18,
          28,
          70,
          5
         ],
         "yaxis": "y"
        },
        {
         "alignmentgroup": "True",
         "hovertemplate": "category=%{x}<br>number_of_reviews=%{y}<extra></extra>",
         "legendgroup": "Eyeliner",
         "marker": {
          "color": "#EF553B"
         },
         "name": "Eyeliner",
         "offsetgroup": "Eyeliner",
         "orientation": "v",
         "showlegend": true,
         "textposition": "auto",
         "type": "bar",
         "x": [
          "Eyeliner",
          "Eyeliner",
          "Eyeliner",
          "Eyeliner",
          "Eyeliner",
          "Eyeliner",
          "Eyeliner",
          "Eyeliner",
          "Eyeliner",
          "Eyeliner",
          "Eyeliner",
          "Eyeliner",
          "Eyeliner",
          "Eyeliner",
          "Eyeliner",
          "Eyeliner",
          "Eyeliner",
          "Eyeliner",
          "Eyeliner",
          "Eyeliner",
          "Eyeliner",
          "Eyeliner",
          "Eyeliner",
          "Eyeliner",
          "Eyeliner",
          "Eyeliner",
          "Eyeliner",
          "Eyeliner",
          "Eyeliner",
          "Eyeliner",
          "Eyeliner"
         ],
         "xaxis": "x",
         "y": [
          562,
          1000,
          913,
          22,
          86,
          526,
          62,
          6000,
          2000,
          839,
          2000,
          3000,
          581,
          100,
          42,
          1000,
          343,
          478,
          27,
          35,
          991,
          173,
          524,
          157,
          93,
          1000,
          1000,
          7,
          287,
          9,
          242
         ],
         "yaxis": "y"
        },
        {
         "alignmentgroup": "True",
         "hovertemplate": "category=%{x}<br>number_of_reviews=%{y}<extra></extra>",
         "legendgroup": "Setting Spray & Powder",
         "marker": {
          "color": "#00cc96"
         },
         "name": "Setting Spray & Powder",
         "offsetgroup": "Setting Spray & Powder",
         "orientation": "v",
         "showlegend": true,
         "textposition": "auto",
         "type": "bar",
         "x": [
          "Setting Spray & Powder",
          "Setting Spray & Powder",
          "Setting Spray & Powder",
          "Setting Spray & Powder",
          "Setting Spray & Powder",
          "Setting Spray & Powder",
          "Setting Spray & Powder",
          "Setting Spray & Powder",
          "Setting Spray & Powder",
          "Setting Spray & Powder",
          "Setting Spray & Powder",
          "Setting Spray & Powder",
          "Setting Spray & Powder",
          "Setting Spray & Powder"
         ],
         "xaxis": "x",
         "y": [
          603,
          214,
          32,
          35,
          48,
          72,
          560,
          187,
          948,
          3,
          1000,
          249,
          3,
          170
         ],
         "yaxis": "y"
        },
        {
         "alignmentgroup": "True",
         "hovertemplate": "category=%{x}<br>number_of_reviews=%{y}<extra></extra>",
         "legendgroup": "Face Masks",
         "marker": {
          "color": "#ab63fa"
         },
         "name": "Face Masks",
         "offsetgroup": "Face Masks",
         "orientation": "v",
         "showlegend": true,
         "textposition": "auto",
         "type": "bar",
         "x": [
          "Face Masks",
          "Face Masks",
          "Face Masks",
          "Face Masks",
          "Face Masks",
          "Face Masks",
          "Face Masks",
          "Face Masks",
          "Face Masks",
          "Face Masks",
          "Face Masks",
          "Face Masks",
          "Face Masks",
          "Face Masks",
          "Face Masks",
          "Face Masks",
          "Face Masks",
          "Face Masks",
          "Face Masks",
          "Face Masks",
          "Face Masks",
          "Face Masks",
          "Face Masks",
          "Face Masks",
          "Face Masks",
          "Face Masks",
          "Face Masks",
          "Face Masks",
          "Face Masks",
          "Face Masks",
          "Face Masks",
          "Face Masks",
          "Face Masks",
          "Face Masks",
          "Face Masks",
          "Face Masks",
          "Face Masks",
          "Face Masks",
          "Face Masks",
          "Face Masks",
          "Face Masks",
          "Face Masks"
         ],
         "xaxis": "x",
         "y": [
          397,
          90,
          275,
          118,
          70,
          33,
          28,
          31,
          1000,
          256,
          28,
          74,
          46,
          17,
          131,
          984,
          17,
          291,
          15,
          62,
          191,
          175,
          112,
          84,
          46,
          14,
          22,
          20,
          16,
          12,
          26,
          10,
          32,
          16,
          687,
          88,
          12,
          50,
          20,
          22,
          1000,
          15
         ],
         "yaxis": "y"
        },
        {
         "alignmentgroup": "True",
         "hovertemplate": "category=%{x}<br>number_of_reviews=%{y}<extra></extra>",
         "legendgroup": "BB & CC Cream",
         "marker": {
          "color": "#FFA15A"
         },
         "name": "BB & CC Cream",
         "offsetgroup": "BB & CC Cream",
         "orientation": "v",
         "showlegend": true,
         "textposition": "auto",
         "type": "bar",
         "x": [
          "BB & CC Cream",
          "BB & CC Cream",
          "BB & CC Cream",
          "BB & CC Cream",
          "BB & CC Cream"
         ],
         "xaxis": "x",
         "y": [
          758,
          663,
          39,
          756,
          3000
         ],
         "yaxis": "y"
        },
        {
         "alignmentgroup": "True",
         "hovertemplate": "category=%{x}<br>number_of_reviews=%{y}<extra></extra>",
         "legendgroup": "Lip Balm & Treatment",
         "marker": {
          "color": "#19d3f3"
         },
         "name": "Lip Balm & Treatment",
         "offsetgroup": "Lip Balm & Treatment",
         "orientation": "v",
         "showlegend": true,
         "textposition": "auto",
         "type": "bar",
         "x": [
          "Lip Balm & Treatment",
          "Lip Balm & Treatment",
          "Lip Balm & Treatment",
          "Lip Balm & Treatment",
          "Lip Balm & Treatment",
          "Lip Balm & Treatment",
          "Lip Balm & Treatment",
          "Lip Balm & Treatment",
          "Lip Balm & Treatment",
          "Lip Balm & Treatment",
          "Lip Balm & Treatment",
          "Lip Balm & Treatment",
          "Lip Balm & Treatment",
          "Lip Balm & Treatment",
          "Lip Balm & Treatment",
          "Lip Balm & Treatment",
          "Lip Balm & Treatment",
          "Lip Balm & Treatment",
          "Lip Balm & Treatment"
         ],
         "xaxis": "x",
         "y": [
          2000,
          0,
          576,
          227,
          4000,
          153,
          26,
          156,
          2000,
          892,
          212,
          105,
          16,
          1000,
          30,
          33,
          9,
          23,
          4
         ],
         "yaxis": "y"
        },
        {
         "alignmentgroup": "True",
         "hovertemplate": "category=%{x}<br>number_of_reviews=%{y}<extra></extra>",
         "legendgroup": "Blush",
         "marker": {
          "color": "#FF6692"
         },
         "name": "Blush",
         "offsetgroup": "Blush",
         "orientation": "v",
         "showlegend": true,
         "textposition": "auto",
         "type": "bar",
         "x": [
          "Blush",
          "Blush",
          "Blush",
          "Blush",
          "Blush",
          "Blush",
          "Blush",
          "Blush",
          "Blush",
          "Blush",
          "Blush"
         ],
         "xaxis": "x",
         "y": [
          952,
          150,
          94,
          30,
          28,
          361,
          48,
          244,
          5000,
          17,
          41
         ],
         "yaxis": "y"
        },
        {
         "alignmentgroup": "True",
         "hovertemplate": "category=%{x}<br>number_of_reviews=%{y}<extra></extra>",
         "legendgroup": "Lipstick",
         "marker": {
          "color": "#B6E880"
         },
         "name": "Lipstick",
         "offsetgroup": "Lipstick",
         "orientation": "v",
         "showlegend": true,
         "textposition": "auto",
         "type": "bar",
         "x": [
          "Lipstick",
          "Lipstick",
          "Lipstick",
          "Lipstick",
          "Lipstick",
          "Lipstick",
          "Lipstick",
          "Lipstick",
          "Lipstick",
          "Lipstick",
          "Lipstick",
          "Lipstick",
          "Lipstick",
          "Lipstick",
          "Lipstick",
          "Lipstick",
          "Lipstick",
          "Lipstick",
          "Lipstick",
          "Lipstick",
          "Lipstick",
          "Lipstick",
          "Lipstick",
          "Lipstick",
          "Lipstick",
          "Lipstick",
          "Lipstick",
          "Lipstick",
          "Lipstick",
          "Lipstick",
          "Lipstick",
          "Lipstick",
          "Lipstick",
          "Lipstick",
          "Lipstick"
         ],
         "xaxis": "x",
         "y": [
          3000,
          27,
          263,
          88,
          60,
          301,
          6,
          110,
          187,
          86,
          7,
          9000,
          2000,
          207,
          2000,
          75,
          1000,
          1000,
          25,
          2000,
          22,
          327,
          30,
          140,
          74,
          21,
          19,
          34,
          14,
          38,
          6,
          4,
          0,
          12,
          334
         ],
         "yaxis": "y"
        },
        {
         "alignmentgroup": "True",
         "hovertemplate": "category=%{x}<br>number_of_reviews=%{y}<extra></extra>",
         "legendgroup": "Concealer",
         "marker": {
          "color": "#FF97FF"
         },
         "name": "Concealer",
         "offsetgroup": "Concealer",
         "orientation": "v",
         "showlegend": true,
         "textposition": "auto",
         "type": "bar",
         "x": [
          "Concealer",
          "Concealer",
          "Concealer",
          "Concealer",
          "Concealer",
          "Concealer",
          "Concealer",
          "Concealer",
          "Concealer",
          "Concealer",
          "Concealer",
          "Concealer",
          "Concealer"
         ],
         "xaxis": "x",
         "y": [
          701,
          213,
          453,
          274,
          959,
          2000,
          496,
          2,
          1000,
          1000,
          1000,
          608,
          84
         ],
         "yaxis": "y"
        },
        {
         "alignmentgroup": "True",
         "hovertemplate": "category=%{x}<br>number_of_reviews=%{y}<extra></extra>",
         "legendgroup": "Perfume",
         "marker": {
          "color": "#FECB52"
         },
         "name": "Perfume",
         "offsetgroup": "Perfume",
         "orientation": "v",
         "showlegend": true,
         "textposition": "auto",
         "type": "bar",
         "x": [
          "Perfume",
          "Perfume",
          "Perfume",
          "Perfume",
          "Perfume",
          "Perfume",
          "Perfume",
          "Perfume",
          "Perfume",
          "Perfume",
          "Perfume",
          "Perfume",
          "Perfume",
          "Perfume",
          "Perfume",
          "Perfume",
          "Perfume",
          "Perfume",
          "Perfume",
          "Perfume",
          "Perfume",
          "Perfume",
          "Perfume",
          "Perfume",
          "Perfume",
          "Perfume",
          "Perfume",
          "Perfume",
          "Perfume",
          "Perfume",
          "Perfume",
          "Perfume",
          "Perfume",
          "Perfume",
          "Perfume",
          "Perfume",
          "Perfume",
          "Perfume",
          "Perfume",
          "Perfume",
          "Perfume",
          "Perfume",
          "Perfume",
          "Perfume",
          "Perfume",
          "Perfume",
          "Perfume",
          "Perfume",
          "Perfume",
          "Perfume",
          "Perfume",
          "Perfume",
          "Perfume",
          "Perfume",
          "Perfume",
          "Perfume",
          "Perfume",
          "Perfume",
          "Perfume",
          "Perfume",
          "Perfume",
          "Perfume",
          "Perfume",
          "Perfume",
          "Perfume",
          "Perfume",
          "Perfume",
          "Perfume",
          "Perfume",
          "Perfume",
          "Perfume",
          "Perfume",
          "Perfume",
          "Perfume",
          "Perfume",
          "Perfume",
          "Perfume",
          "Perfume"
         ],
         "xaxis": "x",
         "y": [
          630,
          4,
          62,
          187,
          982,
          635,
          197,
          697,
          9,
          28,
          31,
          155,
          143,
          98,
          143,
          94,
          14,
          265,
          6,
          62,
          30,
          5,
          42,
          87,
          132,
          94,
          1000,
          161,
          20,
          223,
          93,
          60,
          17,
          118,
          23,
          271,
          30,
          171,
          34,
          25,
          1,
          81,
          34,
          187,
          200,
          32,
          7,
          13,
          8,
          18,
          29,
          8,
          18,
          9,
          22,
          0,
          2,
          11,
          2,
          16,
          8,
          18,
          19,
          53,
          11,
          17,
          7,
          3,
          5,
          6,
          2,
          26,
          16,
          4,
          6,
          7,
          3,
          56
         ],
         "yaxis": "y"
        },
        {
         "alignmentgroup": "True",
         "hovertemplate": "category=%{x}<br>number_of_reviews=%{y}<extra></extra>",
         "legendgroup": "Skincare",
         "marker": {
          "color": "#636efa"
         },
         "name": "Skincare",
         "offsetgroup": "Skincare",
         "orientation": "v",
         "showlegend": true,
         "textposition": "auto",
         "type": "bar",
         "x": [
          "Skincare",
          "Skincare",
          "Skincare",
          "Skincare",
          "Skincare",
          "Skincare"
         ],
         "xaxis": "x",
         "y": [
          3000,
          1000,
          59,
          88,
          66,
          35
         ],
         "yaxis": "y"
        },
        {
         "alignmentgroup": "True",
         "hovertemplate": "category=%{x}<br>number_of_reviews=%{y}<extra></extra>",
         "legendgroup": "Moisturizer & Treatments",
         "marker": {
          "color": "#EF553B"
         },
         "name": "Moisturizer & Treatments",
         "offsetgroup": "Moisturizer & Treatments",
         "orientation": "v",
         "showlegend": true,
         "textposition": "auto",
         "type": "bar",
         "x": [
          "Moisturizer & Treatments",
          "Moisturizer & Treatments",
          "Moisturizer & Treatments",
          "Moisturizer & Treatments",
          "Moisturizer & Treatments",
          "Moisturizer & Treatments",
          "Moisturizer & Treatments",
          "Moisturizer & Treatments",
          "Moisturizer & Treatments"
         ],
         "xaxis": "x",
         "y": [
          6,
          2,
          45,
          39,
          66,
          47,
          5,
          1,
          1
         ],
         "yaxis": "y"
        },
        {
         "alignmentgroup": "True",
         "hovertemplate": "category=%{x}<br>number_of_reviews=%{y}<extra></extra>",
         "legendgroup": "Face Sets",
         "marker": {
          "color": "#00cc96"
         },
         "name": "Face Sets",
         "offsetgroup": "Face Sets",
         "orientation": "v",
         "showlegend": true,
         "textposition": "auto",
         "type": "bar",
         "x": [
          "Face Sets",
          "Face Sets",
          "Face Sets",
          "Face Sets",
          "Face Sets",
          "Face Sets",
          "Face Sets"
         ],
         "xaxis": "x",
         "y": [
          6,
          5,
          87,
          20,
          15,
          17,
          18
         ],
         "yaxis": "y"
        },
        {
         "alignmentgroup": "True",
         "hovertemplate": "category=%{x}<br>number_of_reviews=%{y}<extra></extra>",
         "legendgroup": "Contour",
         "marker": {
          "color": "#ab63fa"
         },
         "name": "Contour",
         "offsetgroup": "Contour",
         "orientation": "v",
         "showlegend": true,
         "textposition": "auto",
         "type": "bar",
         "x": [
          "Contour",
          "Contour",
          "Contour",
          "Contour"
         ],
         "xaxis": "x",
         "y": [
          206,
          210,
          359,
          126
         ],
         "yaxis": "y"
        },
        {
         "alignmentgroup": "True",
         "hovertemplate": "category=%{x}<br>number_of_reviews=%{y}<extra></extra>",
         "legendgroup": "Face Oils",
         "marker": {
          "color": "#FFA15A"
         },
         "name": "Face Oils",
         "offsetgroup": "Face Oils",
         "orientation": "v",
         "showlegend": true,
         "textposition": "auto",
         "type": "bar",
         "x": [
          "Face Oils",
          "Face Oils",
          "Face Oils"
         ],
         "xaxis": "x",
         "y": [
          477,
          115,
          2000
         ],
         "yaxis": "y"
        },
        {
         "alignmentgroup": "True",
         "hovertemplate": "category=%{x}<br>number_of_reviews=%{y}<extra></extra>",
         "legendgroup": "Lip Balms & Treatments",
         "marker": {
          "color": "#19d3f3"
         },
         "name": "Lip Balms & Treatments",
         "offsetgroup": "Lip Balms & Treatments",
         "orientation": "v",
         "showlegend": true,
         "textposition": "auto",
         "type": "bar",
         "x": [
          "Lip Balms & Treatments",
          "Lip Balms & Treatments",
          "Lip Balms & Treatments",
          "Lip Balms & Treatments",
          "Lip Balms & Treatments",
          "Lip Balms & Treatments",
          "Lip Balms & Treatments",
          "Lip Balms & Treatments"
         ],
         "xaxis": "x",
         "y": [
          36,
          248,
          167,
          196,
          733,
          169,
          127,
          17
         ],
         "yaxis": "y"
        },
        {
         "alignmentgroup": "True",
         "hovertemplate": "category=%{x}<br>number_of_reviews=%{y}<extra></extra>",
         "legendgroup": "Eyebrow",
         "marker": {
          "color": "#FF6692"
         },
         "name": "Eyebrow",
         "offsetgroup": "Eyebrow",
         "orientation": "v",
         "showlegend": true,
         "textposition": "auto",
         "type": "bar",
         "x": [
          "Eyebrow",
          "Eyebrow",
          "Eyebrow",
          "Eyebrow",
          "Eyebrow",
          "Eyebrow",
          "Eyebrow",
          "Eyebrow",
          "Eyebrow",
          "Eyebrow",
          "Eyebrow",
          "Eyebrow",
          "Eyebrow",
          "Eyebrow",
          "Eyebrow",
          "Eyebrow",
          "Eyebrow",
          "Eyebrow",
          "Eyebrow"
         ],
         "xaxis": "x",
         "y": [
          564,
          1000,
          18,
          3000,
          28,
          14,
          19,
          53,
          31,
          856,
          1000,
          20,
          11,
          1,
          51,
          25,
          5,
          21,
          32
         ],
         "yaxis": "y"
        },
        {
         "alignmentgroup": "True",
         "hovertemplate": "category=%{x}<br>number_of_reviews=%{y}<extra></extra>",
         "legendgroup": "Face Sunscreen",
         "marker": {
          "color": "#B6E880"
         },
         "name": "Face Sunscreen",
         "offsetgroup": "Face Sunscreen",
         "orientation": "v",
         "showlegend": true,
         "textposition": "auto",
         "type": "bar",
         "x": [
          "Face Sunscreen",
          "Face Sunscreen",
          "Face Sunscreen",
          "Face Sunscreen",
          "Face Sunscreen",
          "Face Sunscreen",
          "Face Sunscreen",
          "Face Sunscreen",
          "Face Sunscreen",
          "Face Sunscreen"
         ],
         "xaxis": "x",
         "y": [
          204,
          0,
          470,
          45,
          19,
          286,
          12,
          209,
          2,
          589
         ],
         "yaxis": "y"
        },
        {
         "alignmentgroup": "True",
         "hovertemplate": "category=%{x}<br>number_of_reviews=%{y}<extra></extra>",
         "legendgroup": "Mini Size",
         "marker": {
          "color": "#FF97FF"
         },
         "name": "Mini Size",
         "offsetgroup": "Mini Size",
         "orientation": "v",
         "showlegend": true,
         "textposition": "auto",
         "type": "bar",
         "x": [
          "Mini Size",
          "Mini Size",
          "Mini Size",
          "Mini Size",
          "Mini Size",
          "Mini Size",
          "Mini Size",
          "Mini Size",
          "Mini Size",
          "Mini Size",
          "Mini Size",
          "Mini Size",
          "Mini Size",
          "Mini Size",
          "Mini Size",
          "Mini Size",
          "Mini Size"
         ],
         "xaxis": "x",
         "y": [
          3000,
          1000,
          1,
          7,
          10,
          17,
          15,
          1,
          50,
          4,
          52,
          18,
          7,
          18,
          1,
          2,
          10
         ],
         "yaxis": "y"
        },
        {
         "alignmentgroup": "True",
         "hovertemplate": "category=%{x}<br>number_of_reviews=%{y}<extra></extra>",
         "legendgroup": "Eye Cream",
         "marker": {
          "color": "#FECB52"
         },
         "name": "Eye Cream",
         "offsetgroup": "Eye Cream",
         "orientation": "v",
         "showlegend": true,
         "textposition": "auto",
         "type": "bar",
         "x": [
          "Eye Cream",
          "Eye Cream",
          "Eye Cream"
         ],
         "xaxis": "x",
         "y": [
          31,
          2,
          5
         ],
         "yaxis": "y"
        },
        {
         "alignmentgroup": "True",
         "hovertemplate": "category=%{x}<br>number_of_reviews=%{y}<extra></extra>",
         "legendgroup": "Face Wash",
         "marker": {
          "color": "#636efa"
         },
         "name": "Face Wash",
         "offsetgroup": "Face Wash",
         "orientation": "v",
         "showlegend": true,
         "textposition": "auto",
         "type": "bar",
         "x": [
          "Face Wash",
          "Face Wash",
          "Face Wash",
          "Face Wash",
          "Face Wash",
          "Face Wash"
         ],
         "xaxis": "x",
         "y": [
          23,
          160,
          15,
          7,
          28,
          2
         ],
         "yaxis": "y"
        },
        {
         "alignmentgroup": "True",
         "hovertemplate": "category=%{x}<br>number_of_reviews=%{y}<extra></extra>",
         "legendgroup": "Eye Palettes",
         "marker": {
          "color": "#EF553B"
         },
         "name": "Eye Palettes",
         "offsetgroup": "Eye Palettes",
         "orientation": "v",
         "showlegend": true,
         "textposition": "auto",
         "type": "bar",
         "x": [
          "Eye Palettes",
          "Eye Palettes",
          "Eye Palettes",
          "Eye Palettes",
          "Eye Palettes",
          "Eye Palettes",
          "Eye Palettes",
          "Eye Palettes",
          "Eye Palettes",
          "Eye Palettes",
          "Eye Palettes",
          "Eye Palettes",
          "Eye Palettes",
          "Eye Palettes",
          "Eye Palettes",
          "Eye Palettes",
          "Eye Palettes",
          "Eye Palettes",
          "Eye Palettes",
          "Eye Palettes",
          "Eye Palettes",
          "Eye Palettes",
          "Eye Palettes",
          "Eye Palettes",
          "Eye Palettes",
          "Eye Palettes",
          "Eye Palettes",
          "Eye Palettes",
          "Eye Palettes",
          "Eye Palettes",
          "Eye Palettes",
          "Eye Palettes"
         ],
         "xaxis": "x",
         "y": [
          337,
          19,
          0,
          185,
          89,
          10,
          262,
          255,
          44,
          86,
          8,
          81,
          8,
          408,
          3000,
          2000,
          813,
          195,
          39,
          1000,
          142,
          351,
          4,
          29,
          340,
          28,
          15,
          0,
          22,
          4,
          1,
          156
         ],
         "yaxis": "y"
        },
        {
         "alignmentgroup": "True",
         "hovertemplate": "category=%{x}<br>number_of_reviews=%{y}<extra></extra>",
         "legendgroup": "Mists & Essences",
         "marker": {
          "color": "#00cc96"
         },
         "name": "Mists & Essences",
         "offsetgroup": "Mists & Essences",
         "orientation": "v",
         "showlegend": true,
         "textposition": "auto",
         "type": "bar",
         "x": [
          "Mists & Essences",
          "Mists & Essences",
          "Mists & Essences",
          "Mists & Essences"
         ],
         "xaxis": "x",
         "y": [
          262,
          10,
          6,
          1000
         ],
         "yaxis": "y"
        },
        {
         "alignmentgroup": "True",
         "hovertemplate": "category=%{x}<br>number_of_reviews=%{y}<extra></extra>",
         "legendgroup": "Body Lotions & Body Oils",
         "marker": {
          "color": "#ab63fa"
         },
         "name": "Body Lotions & Body Oils",
         "offsetgroup": "Body Lotions & Body Oils",
         "orientation": "v",
         "showlegend": true,
         "textposition": "auto",
         "type": "bar",
         "x": [
          "Body Lotions & Body Oils",
          "Body Lotions & Body Oils",
          "Body Lotions & Body Oils",
          "Body Lotions & Body Oils",
          "Body Lotions & Body Oils",
          "Body Lotions & Body Oils"
         ],
         "xaxis": "x",
         "y": [
          228,
          845,
          17,
          6,
          17,
          32
         ],
         "yaxis": "y"
        },
        {
         "alignmentgroup": "True",
         "hovertemplate": "category=%{x}<br>number_of_reviews=%{y}<extra></extra>",
         "legendgroup": "For Face",
         "marker": {
          "color": "#FFA15A"
         },
         "name": "For Face",
         "offsetgroup": "For Face",
         "orientation": "v",
         "showlegend": true,
         "textposition": "auto",
         "type": "bar",
         "x": [
          "For Face"
         ],
         "xaxis": "x",
         "y": [
          44
         ],
         "yaxis": "y"
        },
        {
         "alignmentgroup": "True",
         "hovertemplate": "category=%{x}<br>number_of_reviews=%{y}<extra></extra>",
         "legendgroup": "Makeup",
         "marker": {
          "color": "#19d3f3"
         },
         "name": "Makeup",
         "offsetgroup": "Makeup",
         "orientation": "v",
         "showlegend": true,
         "textposition": "auto",
         "type": "bar",
         "x": [
          "Makeup",
          "Makeup",
          "Makeup",
          "Makeup",
          "Makeup",
          "Makeup",
          "Makeup",
          "Makeup",
          "Makeup",
          "Makeup"
         ],
         "xaxis": "x",
         "y": [
          14,
          180,
          1000,
          576,
          1000,
          402,
          532,
          3,
          157,
          81
         ],
         "yaxis": "y"
        },
        {
         "alignmentgroup": "True",
         "hovertemplate": "category=%{x}<br>number_of_reviews=%{y}<extra></extra>",
         "legendgroup": "Bronzer",
         "marker": {
          "color": "#FF6692"
         },
         "name": "Bronzer",
         "offsetgroup": "Bronzer",
         "orientation": "v",
         "showlegend": true,
         "textposition": "auto",
         "type": "bar",
         "x": [
          "Bronzer",
          "Bronzer",
          "Bronzer",
          "Bronzer",
          "Bronzer",
          "Bronzer",
          "Bronzer",
          "Bronzer",
          "Bronzer",
          "Bronzer"
         ],
         "xaxis": "x",
         "y": [
          241,
          0,
          1000,
          25,
          3,
          22,
          982,
          3,
          1000,
          7
         ],
         "yaxis": "y"
        },
        {
         "alignmentgroup": "True",
         "hovertemplate": "category=%{x}<br>number_of_reviews=%{y}<extra></extra>",
         "legendgroup": "Lip Gloss",
         "marker": {
          "color": "#B6E880"
         },
         "name": "Lip Gloss",
         "offsetgroup": "Lip Gloss",
         "orientation": "v",
         "showlegend": true,
         "textposition": "auto",
         "type": "bar",
         "x": [
          "Lip Gloss",
          "Lip Gloss",
          "Lip Gloss",
          "Lip Gloss",
          "Lip Gloss",
          "Lip Gloss",
          "Lip Gloss",
          "Lip Gloss",
          "Lip Gloss",
          "Lip Gloss",
          "Lip Gloss",
          "Lip Gloss",
          "Lip Gloss",
          "Lip Gloss",
          "Lip Gloss"
         ],
         "xaxis": "x",
         "y": [
          109,
          1000,
          1000,
          13,
          3000,
          555,
          321,
          357,
          20,
          291,
          3,
          24,
          1,
          147,
          64
         ],
         "yaxis": "y"
        },
        {
         "alignmentgroup": "True",
         "hovertemplate": "category=%{x}<br>number_of_reviews=%{y}<extra></extra>",
         "legendgroup": "Lip Liner",
         "marker": {
          "color": "#FF97FF"
         },
         "name": "Lip Liner",
         "offsetgroup": "Lip Liner",
         "orientation": "v",
         "showlegend": true,
         "textposition": "auto",
         "type": "bar",
         "x": [
          "Lip Liner",
          "Lip Liner",
          "Lip Liner",
          "Lip Liner",
          "Lip Liner",
          "Lip Liner",
          "Lip Liner"
         ],
         "xaxis": "x",
         "y": [
          260,
          19,
          810,
          570,
          316,
          5,
          337
         ],
         "yaxis": "y"
        },
        {
         "alignmentgroup": "True",
         "hovertemplate": "category=%{x}<br>number_of_reviews=%{y}<extra></extra>",
         "legendgroup": "Highlighter",
         "marker": {
          "color": "#FECB52"
         },
         "name": "Highlighter",
         "offsetgroup": "Highlighter",
         "orientation": "v",
         "showlegend": true,
         "textposition": "auto",
         "type": "bar",
         "x": [
          "Highlighter",
          "Highlighter",
          "Highlighter",
          "Highlighter",
          "Highlighter",
          "Highlighter",
          "Highlighter",
          "Highlighter",
          "Highlighter",
          "Highlighter",
          "Highlighter",
          "Highlighter",
          "Highlighter",
          "Highlighter",
          "Highlighter",
          "Highlighter",
          "Highlighter",
          "Highlighter",
          "Highlighter",
          "Highlighter",
          "Highlighter",
          "Highlighter"
         ],
         "xaxis": "x",
         "y": [
          227,
          0,
          435,
          18,
          27,
          538,
          398,
          51,
          505,
          330,
          151,
          15,
          77,
          25,
          20,
          5,
          24,
          32,
          4,
          38,
          35,
          34
         ],
         "yaxis": "y"
        },
        {
         "alignmentgroup": "True",
         "hovertemplate": "category=%{x}<br>number_of_reviews=%{y}<extra></extra>",
         "legendgroup": "Eyeshadow",
         "marker": {
          "color": "#636efa"
         },
         "name": "Eyeshadow",
         "offsetgroup": "Eyeshadow",
         "orientation": "v",
         "showlegend": true,
         "textposition": "auto",
         "type": "bar",
         "x": [
          "Eyeshadow",
          "Eyeshadow",
          "Eyeshadow",
          "Eyeshadow",
          "Eyeshadow",
          "Eyeshadow",
          "Eyeshadow",
          "Eyeshadow",
          "Eyeshadow",
          "Eyeshadow"
         ],
         "xaxis": "x",
         "y": [
          133,
          47,
          1000,
          112,
          364,
          89,
          167,
          79,
          16,
          3
         ],
         "yaxis": "y"
        },
        {
         "alignmentgroup": "True",
         "hovertemplate": "category=%{x}<br>number_of_reviews=%{y}<extra></extra>",
         "legendgroup": "Aftershave",
         "marker": {
          "color": "#EF553B"
         },
         "name": "Aftershave",
         "offsetgroup": "Aftershave",
         "orientation": "v",
         "showlegend": true,
         "textposition": "auto",
         "type": "bar",
         "x": [
          "Aftershave",
          "Aftershave",
          "Aftershave",
          "Aftershave",
          "Aftershave"
         ],
         "xaxis": "x",
         "y": [
          41,
          3,
          20,
          9,
          6
         ],
         "yaxis": "y"
        },
        {
         "alignmentgroup": "True",
         "hovertemplate": "category=%{x}<br>number_of_reviews=%{y}<extra></extra>",
         "legendgroup": "Scrub & Exfoliants",
         "marker": {
          "color": "#00cc96"
         },
         "name": "Scrub & Exfoliants",
         "offsetgroup": "Scrub & Exfoliants",
         "orientation": "v",
         "showlegend": true,
         "textposition": "auto",
         "type": "bar",
         "x": [
          "Scrub & Exfoliants",
          "Scrub & Exfoliants",
          "Scrub & Exfoliants",
          "Scrub & Exfoliants"
         ],
         "xaxis": "x",
         "y": [
          142,
          163,
          6,
          39
         ],
         "yaxis": "y"
        },
        {
         "alignmentgroup": "True",
         "hovertemplate": "category=%{x}<br>number_of_reviews=%{y}<extra></extra>",
         "legendgroup": "Facial Cleansing Brushes",
         "marker": {
          "color": "#ab63fa"
         },
         "name": "Facial Cleansing Brushes",
         "offsetgroup": "Facial Cleansing Brushes",
         "orientation": "v",
         "showlegend": true,
         "textposition": "auto",
         "type": "bar",
         "x": [
          "Facial Cleansing Brushes",
          "Facial Cleansing Brushes",
          "Facial Cleansing Brushes",
          "Facial Cleansing Brushes",
          "Facial Cleansing Brushes"
         ],
         "xaxis": "x",
         "y": [
          17,
          12,
          2000,
          339,
          0
         ],
         "yaxis": "y"
        },
        {
         "alignmentgroup": "True",
         "hovertemplate": "category=%{x}<br>number_of_reviews=%{y}<extra></extra>",
         "legendgroup": "Face Primer",
         "marker": {
          "color": "#FFA15A"
         },
         "name": "Face Primer",
         "offsetgroup": "Face Primer",
         "orientation": "v",
         "showlegend": true,
         "textposition": "auto",
         "type": "bar",
         "x": [
          "Face Primer",
          "Face Primer",
          "Face Primer",
          "Face Primer",
          "Face Primer",
          "Face Primer",
          "Face Primer",
          "Face Primer",
          "Face Primer",
          "Face Primer",
          "Face Primer",
          "Face Primer",
          "Face Primer",
          "Face Primer",
          "Face Primer",
          "Face Primer"
         ],
         "xaxis": "x",
         "y": [
          171,
          300,
          107,
          113,
          39,
          95,
          378,
          98,
          1000,
          756,
          161,
          703,
          10,
          17,
          17,
          596
         ],
         "yaxis": "y"
        },
        {
         "alignmentgroup": "True",
         "hovertemplate": "category=%{x}<br>number_of_reviews=%{y}<extra></extra>",
         "legendgroup": "Cologne",
         "marker": {
          "color": "#19d3f3"
         },
         "name": "Cologne",
         "offsetgroup": "Cologne",
         "orientation": "v",
         "showlegend": true,
         "textposition": "auto",
         "type": "bar",
         "x": [
          "Cologne",
          "Cologne",
          "Cologne",
          "Cologne",
          "Cologne",
          "Cologne",
          "Cologne",
          "Cologne",
          "Cologne",
          "Cologne",
          "Cologne",
          "Cologne",
          "Cologne",
          "Cologne",
          "Cologne",
          "Cologne",
          "Cologne",
          "Cologne",
          "Cologne"
         ],
         "xaxis": "x",
         "y": [
          78,
          346,
          79,
          9,
          95,
          27,
          68,
          12,
          60,
          11,
          62,
          1,
          85,
          1,
          4,
          2,
          1,
          12,
          5
         ],
         "yaxis": "y"
        },
        {
         "alignmentgroup": "True",
         "hovertemplate": "category=%{x}<br>number_of_reviews=%{y}<extra></extra>",
         "legendgroup": "Perfume Gift Sets",
         "marker": {
          "color": "#FF6692"
         },
         "name": "Perfume Gift Sets",
         "offsetgroup": "Perfume Gift Sets",
         "orientation": "v",
         "showlegend": true,
         "textposition": "auto",
         "type": "bar",
         "x": [
          "Perfume Gift Sets",
          "Perfume Gift Sets",
          "Perfume Gift Sets",
          "Perfume Gift Sets",
          "Perfume Gift Sets",
          "Perfume Gift Sets"
         ],
         "xaxis": "x",
         "y": [
          0,
          0,
          0,
          0,
          0,
          0
         ],
         "yaxis": "y"
        },
        {
         "alignmentgroup": "True",
         "hovertemplate": "category=%{x}<br>number_of_reviews=%{y}<extra></extra>",
         "legendgroup": "Decollete & Neck Creams",
         "marker": {
          "color": "#B6E880"
         },
         "name": "Decollete & Neck Creams",
         "offsetgroup": "Decollete & Neck Creams",
         "orientation": "v",
         "showlegend": true,
         "textposition": "auto",
         "type": "bar",
         "x": [
          "Decollete & Neck Creams",
          "Decollete & Neck Creams"
         ],
         "xaxis": "x",
         "y": [
          9,
          110
         ],
         "yaxis": "y"
        },
        {
         "alignmentgroup": "True",
         "hovertemplate": "category=%{x}<br>number_of_reviews=%{y}<extra></extra>",
         "legendgroup": "Tinted Moisturizer",
         "marker": {
          "color": "#FF97FF"
         },
         "name": "Tinted Moisturizer",
         "offsetgroup": "Tinted Moisturizer",
         "orientation": "v",
         "showlegend": true,
         "textposition": "auto",
         "type": "bar",
         "x": [
          "Tinted Moisturizer",
          "Tinted Moisturizer",
          "Tinted Moisturizer",
          "Tinted Moisturizer"
         ],
         "xaxis": "x",
         "y": [
          0,
          239,
          16,
          0
         ],
         "yaxis": "y"
        },
        {
         "alignmentgroup": "True",
         "hovertemplate": "category=%{x}<br>number_of_reviews=%{y}<extra></extra>",
         "legendgroup": "Rollerballs & Travel Size",
         "marker": {
          "color": "#FECB52"
         },
         "name": "Rollerballs & Travel Size",
         "offsetgroup": "Rollerballs & Travel Size",
         "orientation": "v",
         "showlegend": true,
         "textposition": "auto",
         "type": "bar",
         "x": [
          "Rollerballs & Travel Size",
          "Rollerballs & Travel Size",
          "Rollerballs & Travel Size",
          "Rollerballs & Travel Size",
          "Rollerballs & Travel Size",
          "Rollerballs & Travel Size",
          "Rollerballs & Travel Size",
          "Rollerballs & Travel Size",
          "Rollerballs & Travel Size",
          "Rollerballs & Travel Size",
          "Rollerballs & Travel Size",
          "Rollerballs & Travel Size"
         ],
         "xaxis": "x",
         "y": [
          37,
          41,
          27,
          15,
          22,
          27,
          38,
          19,
          14,
          24,
          0,
          37
         ],
         "yaxis": "y"
        },
        {
         "alignmentgroup": "True",
         "hovertemplate": "category=%{x}<br>number_of_reviews=%{y}<extra></extra>",
         "legendgroup": "Skincare Sets",
         "marker": {
          "color": "#636efa"
         },
         "name": "Skincare Sets",
         "offsetgroup": "Skincare Sets",
         "orientation": "v",
         "showlegend": true,
         "textposition": "auto",
         "type": "bar",
         "x": [
          "Skincare Sets",
          "Skincare Sets",
          "Skincare Sets",
          "Skincare Sets",
          "Skincare Sets",
          "Skincare Sets",
          "Skincare Sets"
         ],
         "xaxis": "x",
         "y": [
          2,
          3,
          2,
          0,
          0,
          0,
          0
         ],
         "yaxis": "y"
        },
        {
         "alignmentgroup": "True",
         "hovertemplate": "category=%{x}<br>number_of_reviews=%{y}<extra></extra>",
         "legendgroup": "Night Creams",
         "marker": {
          "color": "#EF553B"
         },
         "name": "Night Creams",
         "offsetgroup": "Night Creams",
         "orientation": "v",
         "showlegend": true,
         "textposition": "auto",
         "type": "bar",
         "x": [
          "Night Creams",
          "Night Creams"
         ],
         "xaxis": "x",
         "y": [
          33,
          143
         ],
         "yaxis": "y"
        },
        {
         "alignmentgroup": "True",
         "hovertemplate": "category=%{x}<br>number_of_reviews=%{y}<extra></extra>",
         "legendgroup": "Self Tanners",
         "marker": {
          "color": "#00cc96"
         },
         "name": "Self Tanners",
         "offsetgroup": "Self Tanners",
         "orientation": "v",
         "showlegend": true,
         "textposition": "auto",
         "type": "bar",
         "x": [
          "Self Tanners",
          "Self Tanners",
          "Self Tanners"
         ],
         "xaxis": "x",
         "y": [
          52,
          969,
          417
         ],
         "yaxis": "y"
        },
        {
         "alignmentgroup": "True",
         "hovertemplate": "category=%{x}<br>number_of_reviews=%{y}<extra></extra>",
         "legendgroup": "Deodorant & Antiperspirant",
         "marker": {
          "color": "#ab63fa"
         },
         "name": "Deodorant & Antiperspirant",
         "offsetgroup": "Deodorant & Antiperspirant",
         "orientation": "v",
         "showlegend": true,
         "textposition": "auto",
         "type": "bar",
         "x": [
          "Deodorant & Antiperspirant",
          "Deodorant & Antiperspirant"
         ],
         "xaxis": "x",
         "y": [
          35,
          453
         ],
         "yaxis": "y"
        },
        {
         "alignmentgroup": "True",
         "hovertemplate": "category=%{x}<br>number_of_reviews=%{y}<extra></extra>",
         "legendgroup": "Shaving",
         "marker": {
          "color": "#FFA15A"
         },
         "name": "Shaving",
         "offsetgroup": "Shaving",
         "orientation": "v",
         "showlegend": true,
         "textposition": "auto",
         "type": "bar",
         "x": [
          "Shaving",
          "Shaving",
          "Shaving",
          "Shaving"
         ],
         "xaxis": "x",
         "y": [
          35,
          37,
          2,
          0
         ],
         "yaxis": "y"
        },
        {
         "alignmentgroup": "True",
         "hovertemplate": "category=%{x}<br>number_of_reviews=%{y}<extra></extra>",
         "legendgroup": "Color Correct",
         "marker": {
          "color": "#19d3f3"
         },
         "name": "Color Correct",
         "offsetgroup": "Color Correct",
         "orientation": "v",
         "showlegend": true,
         "textposition": "auto",
         "type": "bar",
         "x": [
          "Color Correct",
          "Color Correct"
         ],
         "xaxis": "x",
         "y": [
          14,
          896
         ],
         "yaxis": "y"
        },
        {
         "alignmentgroup": "True",
         "hovertemplate": "category=%{x}<br>number_of_reviews=%{y}<extra></extra>",
         "legendgroup": "Makeup Palettes",
         "marker": {
          "color": "#FF6692"
         },
         "name": "Makeup Palettes",
         "offsetgroup": "Makeup Palettes",
         "orientation": "v",
         "showlegend": true,
         "textposition": "auto",
         "type": "bar",
         "x": [
          "Makeup Palettes",
          "Makeup Palettes",
          "Makeup Palettes",
          "Makeup Palettes",
          "Makeup Palettes",
          "Makeup Palettes",
          "Makeup Palettes",
          "Makeup Palettes",
          "Makeup Palettes",
          "Makeup Palettes",
          "Makeup Palettes",
          "Makeup Palettes",
          "Makeup Palettes"
         ],
         "xaxis": "x",
         "y": [
          687,
          54,
          3,
          65,
          30,
          76,
          40,
          26,
          859,
          199,
          24,
          21,
          23
         ],
         "yaxis": "y"
        },
        {
         "alignmentgroup": "True",
         "hovertemplate": "category=%{x}<br>number_of_reviews=%{y}<extra></extra>",
         "legendgroup": "Eye Sets",
         "marker": {
          "color": "#B6E880"
         },
         "name": "Eye Sets",
         "offsetgroup": "Eye Sets",
         "orientation": "v",
         "showlegend": true,
         "textposition": "auto",
         "type": "bar",
         "x": [
          "Eye Sets",
          "Eye Sets",
          "Eye Sets",
          "Eye Sets",
          "Eye Sets",
          "Eye Sets",
          "Eye Sets"
         ],
         "xaxis": "x",
         "y": [
          2,
          26,
          40,
          52,
          8,
          2,
          1
         ],
         "yaxis": "y"
        },
        {
         "alignmentgroup": "True",
         "hovertemplate": "category=%{x}<br>number_of_reviews=%{y}<extra></extra>",
         "legendgroup": "BB & CC Creams",
         "marker": {
          "color": "#FF97FF"
         },
         "name": "BB & CC Creams",
         "offsetgroup": "BB & CC Creams",
         "orientation": "v",
         "showlegend": true,
         "textposition": "auto",
         "type": "bar",
         "x": [
          "BB & CC Creams",
          "BB & CC Creams"
         ],
         "xaxis": "x",
         "y": [
          149,
          25
         ],
         "yaxis": "y"
        },
        {
         "alignmentgroup": "True",
         "hovertemplate": "category=%{x}<br>number_of_reviews=%{y}<extra></extra>",
         "legendgroup": "Lip Stain",
         "marker": {
          "color": "#FECB52"
         },
         "name": "Lip Stain",
         "offsetgroup": "Lip Stain",
         "orientation": "v",
         "showlegend": true,
         "textposition": "auto",
         "type": "bar",
         "x": [
          "Lip Stain",
          "Lip Stain",
          "Lip Stain",
          "Lip Stain",
          "Lip Stain"
         ],
         "xaxis": "x",
         "y": [
          397,
          444,
          94,
          275,
          205
         ],
         "yaxis": "y"
        },
        {
         "alignmentgroup": "True",
         "hovertemplate": "category=%{x}<br>number_of_reviews=%{y}<extra></extra>",
         "legendgroup": "Fragrance",
         "marker": {
          "color": "#636efa"
         },
         "name": "Fragrance",
         "offsetgroup": "Fragrance",
         "orientation": "v",
         "showlegend": true,
         "textposition": "auto",
         "type": "bar",
         "x": [
          "Fragrance",
          "Fragrance"
         ],
         "xaxis": "x",
         "y": [
          2,
          0
         ],
         "yaxis": "y"
        },
        {
         "alignmentgroup": "True",
         "hovertemplate": "category=%{x}<br>number_of_reviews=%{y}<extra></extra>",
         "legendgroup": "Body Sprays & Deodorant",
         "marker": {
          "color": "#EF553B"
         },
         "name": "Body Sprays & Deodorant",
         "offsetgroup": "Body Sprays & Deodorant",
         "orientation": "v",
         "showlegend": true,
         "textposition": "auto",
         "type": "bar",
         "x": [
          "Body Sprays & Deodorant",
          "Body Sprays & Deodorant",
          "Body Sprays & Deodorant",
          "Body Sprays & Deodorant",
          "Body Sprays & Deodorant",
          "Body Sprays & Deodorant"
         ],
         "xaxis": "x",
         "y": [
          12,
          16,
          0,
          7,
          13,
          9
         ],
         "yaxis": "y"
        },
        {
         "alignmentgroup": "True",
         "hovertemplate": "category=%{x}<br>number_of_reviews=%{y}<extra></extra>",
         "legendgroup": "Liquid Lipstick",
         "marker": {
          "color": "#00cc96"
         },
         "name": "Liquid Lipstick",
         "offsetgroup": "Liquid Lipstick",
         "orientation": "v",
         "showlegend": true,
         "textposition": "auto",
         "type": "bar",
         "x": [
          "Liquid Lipstick",
          "Liquid Lipstick",
          "Liquid Lipstick"
         ],
         "xaxis": "x",
         "y": [
          42,
          25,
          45
         ],
         "yaxis": "y"
        },
        {
         "alignmentgroup": "True",
         "hovertemplate": "category=%{x}<br>number_of_reviews=%{y}<extra></extra>",
         "legendgroup": "Face Brushes",
         "marker": {
          "color": "#ab63fa"
         },
         "name": "Face Brushes",
         "offsetgroup": "Face Brushes",
         "orientation": "v",
         "showlegend": true,
         "textposition": "auto",
         "type": "bar",
         "x": [
          "Face Brushes",
          "Face Brushes",
          "Face Brushes",
          "Face Brushes",
          "Face Brushes",
          "Face Brushes",
          "Face Brushes",
          "Face Brushes",
          "Face Brushes",
          "Face Brushes",
          "Face Brushes",
          "Face Brushes",
          "Face Brushes",
          "Face Brushes",
          "Face Brushes",
          "Face Brushes",
          "Face Brushes",
          "Face Brushes",
          "Face Brushes",
          "Face Brushes",
          "Face Brushes",
          "Face Brushes",
          "Face Brushes",
          "Face Brushes",
          "Face Brushes",
          "Face Brushes",
          "Face Brushes",
          "Face Brushes",
          "Face Brushes",
          "Face Brushes",
          "Face Brushes",
          "Face Brushes",
          "Face Brushes",
          "Face Brushes",
          "Face Brushes",
          "Face Brushes",
          "Face Brushes",
          "Face Brushes",
          "Face Brushes",
          "Face Brushes",
          "Face Brushes",
          "Face Brushes",
          "Face Brushes",
          "Face Brushes",
          "Face Brushes",
          "Face Brushes",
          "Face Brushes",
          "Face Brushes",
          "Face Brushes",
          "Face Brushes",
          "Face Brushes",
          "Face Brushes",
          "Face Brushes",
          "Face Brushes",
          "Face Brushes",
          "Face Brushes",
          "Face Brushes"
         ],
         "xaxis": "x",
         "y": [
          40,
          89,
          58,
          93,
          52,
          164,
          1000,
          2,
          62,
          17,
          269,
          99,
          987,
          232,
          40,
          43,
          33,
          81,
          103,
          679,
          1000,
          4,
          438,
          0,
          89,
          27,
          106,
          64,
          30,
          17,
          10,
          9,
          70,
          57,
          0,
          1,
          65,
          18,
          0,
          0,
          9,
          1,
          10,
          19,
          101,
          0,
          100,
          271,
          7,
          289,
          146,
          183,
          239,
          44,
          208,
          56,
          116
         ],
         "yaxis": "y"
        },
        {
         "alignmentgroup": "True",
         "hovertemplate": "category=%{x}<br>number_of_reviews=%{y}<extra></extra>",
         "legendgroup": "Lotions & Oils",
         "marker": {
          "color": "#FFA15A"
         },
         "name": "Lotions & Oils",
         "offsetgroup": "Lotions & Oils",
         "orientation": "v",
         "showlegend": true,
         "textposition": "auto",
         "type": "bar",
         "x": [
          "Lotions & Oils",
          "Lotions & Oils",
          "Lotions & Oils",
          "Lotions & Oils",
          "Lotions & Oils",
          "Lotions & Oils",
          "Lotions & Oils",
          "Lotions & Oils",
          "Lotions & Oils",
          "Lotions & Oils",
          "Lotions & Oils"
         ],
         "xaxis": "x",
         "y": [
          23,
          6,
          7,
          3,
          132,
          132,
          25,
          7,
          4,
          43,
          14
         ],
         "yaxis": "y"
        },
        {
         "alignmentgroup": "True",
         "hovertemplate": "category=%{x}<br>number_of_reviews=%{y}<extra></extra>",
         "legendgroup": "Body Mist & Hair Mist",
         "marker": {
          "color": "#19d3f3"
         },
         "name": "Body Mist & Hair Mist",
         "offsetgroup": "Body Mist & Hair Mist",
         "orientation": "v",
         "showlegend": true,
         "textposition": "auto",
         "type": "bar",
         "x": [
          "Body Mist & Hair Mist",
          "Body Mist & Hair Mist",
          "Body Mist & Hair Mist",
          "Body Mist & Hair Mist",
          "Body Mist & Hair Mist",
          "Body Mist & Hair Mist",
          "Body Mist & Hair Mist",
          "Body Mist & Hair Mist",
          "Body Mist & Hair Mist",
          "Body Mist & Hair Mist",
          "Body Mist & Hair Mist"
         ],
         "xaxis": "x",
         "y": [
          1,
          40,
          2,
          3,
          32,
          27,
          7,
          3,
          9,
          3,
          0
         ],
         "yaxis": "y"
        },
        {
         "alignmentgroup": "True",
         "hovertemplate": "category=%{x}<br>number_of_reviews=%{y}<extra></extra>",
         "legendgroup": "Facial Peels",
         "marker": {
          "color": "#FF6692"
         },
         "name": "Facial Peels",
         "offsetgroup": "Facial Peels",
         "orientation": "v",
         "showlegend": true,
         "textposition": "auto",
         "type": "bar",
         "x": [
          "Facial Peels",
          "Facial Peels",
          "Facial Peels",
          "Facial Peels",
          "Facial Peels"
         ],
         "xaxis": "x",
         "y": [
          7,
          8,
          272,
          40,
          9
         ],
         "yaxis": "y"
        },
        {
         "alignmentgroup": "True",
         "hovertemplate": "category=%{x}<br>number_of_reviews=%{y}<extra></extra>",
         "legendgroup": "Bath & Shower",
         "marker": {
          "color": "#B6E880"
         },
         "name": "Bath & Shower",
         "offsetgroup": "Bath & Shower",
         "orientation": "v",
         "showlegend": true,
         "textposition": "auto",
         "type": "bar",
         "x": [
          "Bath & Shower",
          "Bath & Shower",
          "Bath & Shower",
          "Bath & Shower",
          "Bath & Shower",
          "Bath & Shower",
          "Bath & Shower",
          "Bath & Shower",
          "Bath & Shower",
          "Bath & Shower",
          "Bath & Shower"
         ],
         "xaxis": "x",
         "y": [
          24,
          6,
          0,
          6,
          12,
          2,
          1,
          1,
          23,
          2,
          0
         ],
         "yaxis": "y"
        },
        {
         "alignmentgroup": "True",
         "hovertemplate": "category=%{x}<br>number_of_reviews=%{y}<extra></extra>",
         "legendgroup": "Eyelash Curlers",
         "marker": {
          "color": "#FF97FF"
         },
         "name": "Eyelash Curlers",
         "offsetgroup": "Eyelash Curlers",
         "orientation": "v",
         "showlegend": true,
         "textposition": "auto",
         "type": "bar",
         "x": [
          "Eyelash Curlers",
          "Eyelash Curlers",
          "Eyelash Curlers",
          "Eyelash Curlers"
         ],
         "xaxis": "x",
         "y": [
          6,
          355,
          217,
          90
         ],
         "yaxis": "y"
        },
        {
         "alignmentgroup": "True",
         "hovertemplate": "category=%{x}<br>number_of_reviews=%{y}<extra></extra>",
         "legendgroup": "Face Wipes",
         "marker": {
          "color": "#FECB52"
         },
         "name": "Face Wipes",
         "offsetgroup": "Face Wipes",
         "orientation": "v",
         "showlegend": true,
         "textposition": "auto",
         "type": "bar",
         "x": [
          "Face Wipes",
          "Face Wipes",
          "Face Wipes",
          "Face Wipes",
          "Face Wipes",
          "Face Wipes",
          "Face Wipes",
          "Face Wipes",
          "Face Wipes",
          "Face Wipes",
          "Face Wipes",
          "Face Wipes",
          "Face Wipes",
          "Face Wipes",
          "Face Wipes",
          "Face Wipes"
         ],
         "xaxis": "x",
         "y": [
          3000,
          81,
          7,
          70,
          20,
          4,
          7,
          79,
          9,
          98,
          9,
          61,
          13,
          4,
          26,
          3
         ],
         "yaxis": "y"
        },
        {
         "alignmentgroup": "True",
         "hovertemplate": "category=%{x}<br>number_of_reviews=%{y}<extra></extra>",
         "legendgroup": "Brush Sets",
         "marker": {
          "color": "#636efa"
         },
         "name": "Brush Sets",
         "offsetgroup": "Brush Sets",
         "orientation": "v",
         "showlegend": true,
         "textposition": "auto",
         "type": "bar",
         "x": [
          "Brush Sets",
          "Brush Sets",
          "Brush Sets",
          "Brush Sets",
          "Brush Sets",
          "Brush Sets",
          "Brush Sets",
          "Brush Sets",
          "Brush Sets",
          "Brush Sets",
          "Brush Sets",
          "Brush Sets",
          "Brush Sets",
          "Brush Sets"
         ],
         "xaxis": "x",
         "y": [
          356,
          310,
          5,
          17,
          11,
          34,
          1,
          9,
          23,
          8,
          7,
          44,
          166,
          62
         ],
         "yaxis": "y"
        },
        {
         "alignmentgroup": "True",
         "hovertemplate": "category=%{x}<br>number_of_reviews=%{y}<extra></extra>",
         "legendgroup": "False Eyelashes",
         "marker": {
          "color": "#EF553B"
         },
         "name": "False Eyelashes",
         "offsetgroup": "False Eyelashes",
         "orientation": "v",
         "showlegend": true,
         "textposition": "auto",
         "type": "bar",
         "x": [
          "False Eyelashes",
          "False Eyelashes",
          "False Eyelashes",
          "False Eyelashes",
          "False Eyelashes",
          "False Eyelashes",
          "False Eyelashes",
          "False Eyelashes",
          "False Eyelashes",
          "False Eyelashes",
          "False Eyelashes",
          "False Eyelashes",
          "False Eyelashes",
          "False Eyelashes",
          "False Eyelashes",
          "False Eyelashes",
          "False Eyelashes",
          "False Eyelashes",
          "False Eyelashes",
          "False Eyelashes"
         ],
         "xaxis": "x",
         "y": [
          785,
          173,
          889,
          473,
          2,
          852,
          130,
          11,
          301,
          24,
          85,
          315,
          23,
          392,
          174,
          29,
          8,
          13,
          11,
          3
         ],
         "yaxis": "y"
        },
        {
         "alignmentgroup": "True",
         "hovertemplate": "category=%{x}<br>number_of_reviews=%{y}<extra></extra>",
         "legendgroup": "Eye Masks",
         "marker": {
          "color": "#00cc96"
         },
         "name": "Eye Masks",
         "offsetgroup": "Eye Masks",
         "orientation": "v",
         "showlegend": true,
         "textposition": "auto",
         "type": "bar",
         "x": [
          "Eye Masks",
          "Eye Masks",
          "Eye Masks",
          "Eye Masks",
          "Eye Masks",
          "Eye Masks"
         ],
         "xaxis": "x",
         "y": [
          827,
          31,
          1,
          10,
          263,
          3
         ],
         "yaxis": "y"
        },
        {
         "alignmentgroup": "True",
         "hovertemplate": "category=%{x}<br>number_of_reviews=%{y}<extra></extra>",
         "legendgroup": "Sheet Masks",
         "marker": {
          "color": "#ab63fa"
         },
         "name": "Sheet Masks",
         "offsetgroup": "Sheet Masks",
         "orientation": "v",
         "showlegend": true,
         "textposition": "auto",
         "type": "bar",
         "x": [
          "Sheet Masks",
          "Sheet Masks",
          "Sheet Masks",
          "Sheet Masks",
          "Sheet Masks",
          "Sheet Masks",
          "Sheet Masks",
          "Sheet Masks",
          "Sheet Masks",
          "Sheet Masks"
         ],
         "xaxis": "x",
         "y": [
          137,
          102,
          48,
          0,
          17,
          14,
          2,
          1000,
          86,
          17
         ],
         "yaxis": "y"
        },
        {
         "alignmentgroup": "True",
         "hovertemplate": "category=%{x}<br>number_of_reviews=%{y}<extra></extra>",
         "legendgroup": "Hand Cream & Foot Cream",
         "marker": {
          "color": "#FFA15A"
         },
         "name": "Hand Cream & Foot Cream",
         "offsetgroup": "Hand Cream & Foot Cream",
         "orientation": "v",
         "showlegend": true,
         "textposition": "auto",
         "type": "bar",
         "x": [
          "Hand Cream & Foot Cream",
          "Hand Cream & Foot Cream",
          "Hand Cream & Foot Cream"
         ],
         "xaxis": "x",
         "y": [
          956,
          203,
          394
         ],
         "yaxis": "y"
        },
        {
         "alignmentgroup": "True",
         "hovertemplate": "category=%{x}<br>number_of_reviews=%{y}<extra></extra>",
         "legendgroup": "Hair Removal",
         "marker": {
          "color": "#19d3f3"
         },
         "name": "Hair Removal",
         "offsetgroup": "Hair Removal",
         "orientation": "v",
         "showlegend": true,
         "textposition": "auto",
         "type": "bar",
         "x": [
          "Hair Removal",
          "Hair Removal"
         ],
         "xaxis": "x",
         "y": [
          408,
          143
         ],
         "yaxis": "y"
        },
        {
         "alignmentgroup": "True",
         "hovertemplate": "category=%{x}<br>number_of_reviews=%{y}<extra></extra>",
         "legendgroup": "Eye Brushes",
         "marker": {
          "color": "#FF6692"
         },
         "name": "Eye Brushes",
         "offsetgroup": "Eye Brushes",
         "orientation": "v",
         "showlegend": true,
         "textposition": "auto",
         "type": "bar",
         "x": [
          "Eye Brushes",
          "Eye Brushes",
          "Eye Brushes",
          "Eye Brushes",
          "Eye Brushes",
          "Eye Brushes",
          "Eye Brushes",
          "Eye Brushes",
          "Eye Brushes",
          "Eye Brushes",
          "Eye Brushes",
          "Eye Brushes",
          "Eye Brushes",
          "Eye Brushes",
          "Eye Brushes",
          "Eye Brushes",
          "Eye Brushes",
          "Eye Brushes",
          "Eye Brushes",
          "Eye Brushes",
          "Eye Brushes",
          "Eye Brushes",
          "Eye Brushes",
          "Eye Brushes",
          "Eye Brushes",
          "Eye Brushes",
          "Eye Brushes",
          "Eye Brushes",
          "Eye Brushes",
          "Eye Brushes",
          "Eye Brushes"
         ],
         "xaxis": "x",
         "y": [
          132,
          128,
          22,
          1,
          41,
          21,
          265,
          3,
          2,
          3,
          2,
          1,
          61,
          223,
          7,
          0,
          0,
          54,
          1,
          49,
          0,
          16,
          0,
          1,
          0,
          72,
          72,
          0,
          18,
          25,
          83
         ],
         "yaxis": "y"
        },
        {
         "alignmentgroup": "True",
         "hovertemplate": "category=%{x}<br>number_of_reviews=%{y}<extra></extra>",
         "legendgroup": "Facial Rollers",
         "marker": {
          "color": "#B6E880"
         },
         "name": "Facial Rollers",
         "offsetgroup": "Facial Rollers",
         "orientation": "v",
         "showlegend": true,
         "textposition": "auto",
         "type": "bar",
         "x": [
          "Facial Rollers",
          "Facial Rollers",
          "Facial Rollers",
          "Facial Rollers",
          "Facial Rollers",
          "Facial Rollers",
          "Facial Rollers"
         ],
         "xaxis": "x",
         "y": [
          19,
          10,
          13,
          6,
          28,
          56,
          61
         ],
         "yaxis": "y"
        },
        {
         "alignmentgroup": "True",
         "hovertemplate": "category=%{x}<br>number_of_reviews=%{y}<extra></extra>",
         "legendgroup": "Lip Sets",
         "marker": {
          "color": "#FF97FF"
         },
         "name": "Lip Sets",
         "offsetgroup": "Lip Sets",
         "orientation": "v",
         "showlegend": true,
         "textposition": "auto",
         "type": "bar",
         "x": [
          "Lip Sets",
          "Lip Sets",
          "Lip Sets",
          "Lip Sets",
          "Lip Sets",
          "Lip Sets"
         ],
         "xaxis": "x",
         "y": [
          14,
          17,
          16,
          2,
          18,
          0
         ],
         "yaxis": "y"
        },
        {
         "alignmentgroup": "True",
         "hovertemplate": "category=%{x}<br>number_of_reviews=%{y}<extra></extra>",
         "legendgroup": "Beauty Supplements",
         "marker": {
          "color": "#FECB52"
         },
         "name": "Beauty Supplements",
         "offsetgroup": "Beauty Supplements",
         "orientation": "v",
         "showlegend": true,
         "textposition": "auto",
         "type": "bar",
         "x": [
          "Beauty Supplements",
          "Beauty Supplements",
          "Beauty Supplements",
          "Beauty Supplements",
          "Beauty Supplements",
          "Beauty Supplements",
          "Beauty Supplements",
          "Beauty Supplements",
          "Beauty Supplements",
          "Beauty Supplements",
          "Beauty Supplements",
          "Beauty Supplements",
          "Beauty Supplements"
         ],
         "xaxis": "x",
         "y": [
          59,
          54,
          9,
          65,
          7,
          5,
          60,
          19,
          1,
          2,
          0,
          0,
          0
         ],
         "yaxis": "y"
        },
        {
         "alignmentgroup": "True",
         "hovertemplate": "category=%{x}<br>number_of_reviews=%{y}<extra></extra>",
         "legendgroup": "Hair Masks",
         "marker": {
          "color": "#636efa"
         },
         "name": "Hair Masks",
         "offsetgroup": "Hair Masks",
         "orientation": "v",
         "showlegend": true,
         "textposition": "auto",
         "type": "bar",
         "x": [
          "Hair Masks"
         ],
         "xaxis": "x",
         "y": [
          529
         ],
         "yaxis": "y"
        },
        {
         "alignmentgroup": "True",
         "hovertemplate": "category=%{x}<br>number_of_reviews=%{y}<extra></extra>",
         "legendgroup": "Nail",
         "marker": {
          "color": "#EF553B"
         },
         "name": "Nail",
         "offsetgroup": "Nail",
         "orientation": "v",
         "showlegend": true,
         "textposition": "auto",
         "type": "bar",
         "x": [
          "Nail",
          "Nail",
          "Nail",
          "Nail",
          "Nail",
          "Nail"
         ],
         "xaxis": "x",
         "y": [
          168,
          163,
          12,
          636,
          12,
          57
         ],
         "yaxis": "y"
        },
        {
         "alignmentgroup": "True",
         "hovertemplate": "category=%{x}<br>number_of_reviews=%{y}<extra></extra>",
         "legendgroup": "Hair Styling Products",
         "marker": {
          "color": "#00cc96"
         },
         "name": "Hair Styling Products",
         "offsetgroup": "Hair Styling Products",
         "orientation": "v",
         "showlegend": true,
         "textposition": "auto",
         "type": "bar",
         "x": [
          "Hair Styling Products",
          "Hair Styling Products",
          "Hair Styling Products",
          "Hair Styling Products",
          "Hair Styling Products",
          "Hair Styling Products"
         ],
         "xaxis": "x",
         "y": [
          115,
          89,
          5,
          102,
          19,
          0
         ],
         "yaxis": "y"
        },
        {
         "alignmentgroup": "True",
         "hovertemplate": "category=%{x}<br>number_of_reviews=%{y}<extra></extra>",
         "legendgroup": "Brush Cleaners",
         "marker": {
          "color": "#ab63fa"
         },
         "name": "Brush Cleaners",
         "offsetgroup": "Brush Cleaners",
         "orientation": "v",
         "showlegend": true,
         "textposition": "auto",
         "type": "bar",
         "x": [
          "Brush Cleaners",
          "Brush Cleaners",
          "Brush Cleaners",
          "Brush Cleaners",
          "Brush Cleaners",
          "Brush Cleaners",
          "Brush Cleaners",
          "Brush Cleaners",
          "Brush Cleaners",
          "Brush Cleaners"
         ],
         "xaxis": "x",
         "y": [
          637,
          2000,
          190,
          2,
          831,
          276,
          31,
          22,
          165,
          619
         ],
         "yaxis": "y"
        },
        {
         "alignmentgroup": "True",
         "hovertemplate": "category=%{x}<br>number_of_reviews=%{y}<extra></extra>",
         "legendgroup": "no category",
         "marker": {
          "color": "#FFA15A"
         },
         "name": "no category",
         "offsetgroup": "no category",
         "orientation": "v",
         "showlegend": true,
         "textposition": "auto",
         "type": "bar",
         "x": [
          "no category",
          "no category",
          "no category",
          "no category",
          "no category",
          "no category",
          "no category"
         ],
         "xaxis": "x",
         "y": [
          0,
          26,
          0,
          0,
          12,
          46,
          0
         ],
         "yaxis": "y"
        },
        {
         "alignmentgroup": "True",
         "hovertemplate": "category=%{x}<br>number_of_reviews=%{y}<extra></extra>",
         "legendgroup": "Eye Primer",
         "marker": {
          "color": "#19d3f3"
         },
         "name": "Eye Primer",
         "offsetgroup": "Eye Primer",
         "orientation": "v",
         "showlegend": true,
         "textposition": "auto",
         "type": "bar",
         "x": [
          "Eye Primer",
          "Eye Primer",
          "Eye Primer",
          "Eye Primer"
         ],
         "xaxis": "x",
         "y": [
          169,
          108,
          68,
          5
         ],
         "yaxis": "y"
        },
        {
         "alignmentgroup": "True",
         "hovertemplate": "category=%{x}<br>number_of_reviews=%{y}<extra></extra>",
         "legendgroup": "Sponges & Applicators",
         "marker": {
          "color": "#FF6692"
         },
         "name": "Sponges & Applicators",
         "offsetgroup": "Sponges & Applicators",
         "orientation": "v",
         "showlegend": true,
         "textposition": "auto",
         "type": "bar",
         "x": [
          "Sponges & Applicators",
          "Sponges & Applicators",
          "Sponges & Applicators",
          "Sponges & Applicators",
          "Sponges & Applicators",
          "Sponges & Applicators",
          "Sponges & Applicators",
          "Sponges & Applicators",
          "Sponges & Applicators",
          "Sponges & Applicators",
          "Sponges & Applicators",
          "Sponges & Applicators",
          "Sponges & Applicators",
          "Sponges & Applicators",
          "Sponges & Applicators",
          "Sponges & Applicators",
          "Sponges & Applicators",
          "Sponges & Applicators",
          "Sponges & Applicators"
         ],
         "xaxis": "x",
         "y": [
          42,
          12,
          39,
          1,
          0,
          5,
          32,
          297,
          72,
          73,
          37,
          1,
          110,
          7,
          67,
          19,
          127,
          146,
          22
         ],
         "yaxis": "y"
        },
        {
         "alignmentgroup": "True",
         "hovertemplate": "category=%{x}<br>number_of_reviews=%{y}<extra></extra>",
         "legendgroup": "Spa Tools",
         "marker": {
          "color": "#B6E880"
         },
         "name": "Spa Tools",
         "offsetgroup": "Spa Tools",
         "orientation": "v",
         "showlegend": true,
         "textposition": "auto",
         "type": "bar",
         "x": [
          "Spa Tools"
         ],
         "xaxis": "x",
         "y": [
          170
         ],
         "yaxis": "y"
        },
        {
         "alignmentgroup": "True",
         "hovertemplate": "category=%{x}<br>number_of_reviews=%{y}<extra></extra>",
         "legendgroup": "Hair Brushes & Combs",
         "marker": {
          "color": "#FF97FF"
         },
         "name": "Hair Brushes & Combs",
         "offsetgroup": "Hair Brushes & Combs",
         "orientation": "v",
         "showlegend": true,
         "textposition": "auto",
         "type": "bar",
         "x": [
          "Hair Brushes & Combs",
          "Hair Brushes & Combs",
          "Hair Brushes & Combs",
          "Hair Brushes & Combs",
          "Hair Brushes & Combs"
         ],
         "xaxis": "x",
         "y": [
          89,
          7,
          26,
          6,
          4
         ],
         "yaxis": "y"
        },
        {
         "alignmentgroup": "True",
         "hovertemplate": "category=%{x}<br>number_of_reviews=%{y}<extra></extra>",
         "legendgroup": "Makeup Bags & Travel Cases",
         "marker": {
          "color": "#FECB52"
         },
         "name": "Makeup Bags & Travel Cases",
         "offsetgroup": "Makeup Bags & Travel Cases",
         "orientation": "v",
         "showlegend": true,
         "textposition": "auto",
         "type": "bar",
         "x": [
          "Makeup Bags & Travel Cases",
          "Makeup Bags & Travel Cases",
          "Makeup Bags & Travel Cases",
          "Makeup Bags & Travel Cases",
          "Makeup Bags & Travel Cases",
          "Makeup Bags & Travel Cases",
          "Makeup Bags & Travel Cases",
          "Makeup Bags & Travel Cases",
          "Makeup Bags & Travel Cases",
          "Makeup Bags & Travel Cases",
          "Makeup Bags & Travel Cases",
          "Makeup Bags & Travel Cases"
         ],
         "xaxis": "x",
         "y": [
          176,
          31,
          75,
          17,
          7,
          4,
          12,
          273,
          3,
          30,
          23,
          25
         ],
         "yaxis": "y"
        },
        {
         "alignmentgroup": "True",
         "hovertemplate": "category=%{x}<br>number_of_reviews=%{y}<extra></extra>",
         "legendgroup": "Hair Accessories",
         "marker": {
          "color": "#636efa"
         },
         "name": "Hair Accessories",
         "offsetgroup": "Hair Accessories",
         "orientation": "v",
         "showlegend": true,
         "textposition": "auto",
         "type": "bar",
         "x": [
          "Hair Accessories",
          "Hair Accessories",
          "Hair Accessories",
          "Hair Accessories",
          "Hair Accessories",
          "Hair Accessories"
         ],
         "xaxis": "x",
         "y": [
          2,
          1000,
          42,
          5,
          82,
          65
         ],
         "yaxis": "y"
        },
        {
         "alignmentgroup": "True",
         "hovertemplate": "category=%{x}<br>number_of_reviews=%{y}<extra></extra>",
         "legendgroup": "Cheek Palettes",
         "marker": {
          "color": "#EF553B"
         },
         "name": "Cheek Palettes",
         "offsetgroup": "Cheek Palettes",
         "orientation": "v",
         "showlegend": true,
         "textposition": "auto",
         "type": "bar",
         "x": [
          "Cheek Palettes",
          "Cheek Palettes"
         ],
         "xaxis": "x",
         "y": [
          20,
          149
         ],
         "yaxis": "y"
        },
        {
         "alignmentgroup": "True",
         "hovertemplate": "category=%{x}<br>number_of_reviews=%{y}<extra></extra>",
         "legendgroup": "Accessories",
         "marker": {
          "color": "#00cc96"
         },
         "name": "Accessories",
         "offsetgroup": "Accessories",
         "orientation": "v",
         "showlegend": true,
         "textposition": "auto",
         "type": "bar",
         "x": [
          "Accessories"
         ],
         "xaxis": "x",
         "y": [
          16
         ],
         "yaxis": "y"
        },
        {
         "alignmentgroup": "True",
         "hovertemplate": "category=%{x}<br>number_of_reviews=%{y}<extra></extra>",
         "legendgroup": "Mirrors & Sharpeners",
         "marker": {
          "color": "#ab63fa"
         },
         "name": "Mirrors & Sharpeners",
         "offsetgroup": "Mirrors & Sharpeners",
         "orientation": "v",
         "showlegend": true,
         "textposition": "auto",
         "type": "bar",
         "x": [
          "Mirrors & Sharpeners",
          "Mirrors & Sharpeners"
         ],
         "xaxis": "x",
         "y": [
          308,
          86
         ],
         "yaxis": "y"
        },
        {
         "alignmentgroup": "True",
         "hovertemplate": "category=%{x}<br>number_of_reviews=%{y}<extra></extra>",
         "legendgroup": "Tweezers & Eyebrow Tools",
         "marker": {
          "color": "#FFA15A"
         },
         "name": "Tweezers & Eyebrow Tools",
         "offsetgroup": "Tweezers & Eyebrow Tools",
         "orientation": "v",
         "showlegend": true,
         "textposition": "auto",
         "type": "bar",
         "x": [
          "Tweezers & Eyebrow Tools",
          "Tweezers & Eyebrow Tools",
          "Tweezers & Eyebrow Tools"
         ],
         "xaxis": "x",
         "y": [
          492,
          12,
          12
         ],
         "yaxis": "y"
        },
        {
         "alignmentgroup": "True",
         "hovertemplate": "category=%{x}<br>number_of_reviews=%{y}<extra></extra>",
         "legendgroup": "Candles & Home Scents",
         "marker": {
          "color": "#19d3f3"
         },
         "name": "Candles & Home Scents",
         "offsetgroup": "Candles & Home Scents",
         "orientation": "v",
         "showlegend": true,
         "textposition": "auto",
         "type": "bar",
         "x": [
          "Candles & Home Scents",
          "Candles & Home Scents",
          "Candles & Home Scents"
         ],
         "xaxis": "x",
         "y": [
          13,
          7,
          0
         ],
         "yaxis": "y"
        },
        {
         "alignmentgroup": "True",
         "hovertemplate": "category=%{x}<br>number_of_reviews=%{y}<extra></extra>",
         "legendgroup": "Hair Dryers",
         "marker": {
          "color": "#FF6692"
         },
         "name": "Hair Dryers",
         "offsetgroup": "Hair Dryers",
         "orientation": "v",
         "showlegend": true,
         "textposition": "auto",
         "type": "bar",
         "x": [
          "Hair Dryers",
          "Hair Dryers"
         ],
         "xaxis": "x",
         "y": [
          60,
          65
         ],
         "yaxis": "y"
        },
        {
         "alignmentgroup": "True",
         "hovertemplate": "category=%{x}<br>number_of_reviews=%{y}<extra></extra>",
         "legendgroup": "Body Moisturizers",
         "marker": {
          "color": "#B6E880"
         },
         "name": "Body Moisturizers",
         "offsetgroup": "Body Moisturizers",
         "orientation": "v",
         "showlegend": true,
         "textposition": "auto",
         "type": "bar",
         "x": [
          "Body Moisturizers"
         ],
         "xaxis": "x",
         "y": [
          43
         ],
         "yaxis": "y"
        },
        {
         "alignmentgroup": "True",
         "hovertemplate": "category=%{x}<br>number_of_reviews=%{y}<extra></extra>",
         "legendgroup": "Anti-Aging",
         "marker": {
          "color": "#FF97FF"
         },
         "name": "Anti-Aging",
         "offsetgroup": "Anti-Aging",
         "orientation": "v",
         "showlegend": true,
         "textposition": "auto",
         "type": "bar",
         "x": [
          "Anti-Aging"
         ],
         "xaxis": "x",
         "y": [
          91
         ],
         "yaxis": "y"
        },
        {
         "alignmentgroup": "True",
         "hovertemplate": "category=%{x}<br>number_of_reviews=%{y}<extra></extra>",
         "legendgroup": "Teeth Whitening",
         "marker": {
          "color": "#FECB52"
         },
         "name": "Teeth Whitening",
         "offsetgroup": "Teeth Whitening",
         "orientation": "v",
         "showlegend": true,
         "textposition": "auto",
         "type": "bar",
         "x": [
          "Teeth Whitening"
         ],
         "xaxis": "x",
         "y": [
          412
         ],
         "yaxis": "y"
        },
        {
         "alignmentgroup": "True",
         "hovertemplate": "category=%{x}<br>number_of_reviews=%{y}<extra></extra>",
         "legendgroup": "For Body",
         "marker": {
          "color": "#636efa"
         },
         "name": "For Body",
         "offsetgroup": "For Body",
         "orientation": "v",
         "showlegend": true,
         "textposition": "auto",
         "type": "bar",
         "x": [
          "For Body",
          "For Body"
         ],
         "xaxis": "x",
         "y": [
          182,
          1
         ],
         "yaxis": "y"
        },
        {
         "alignmentgroup": "True",
         "hovertemplate": "category=%{x}<br>number_of_reviews=%{y}<extra></extra>",
         "legendgroup": "Dry Shampoo",
         "marker": {
          "color": "#EF553B"
         },
         "name": "Dry Shampoo",
         "offsetgroup": "Dry Shampoo",
         "orientation": "v",
         "showlegend": true,
         "textposition": "auto",
         "type": "bar",
         "x": [
          "Dry Shampoo",
          "Dry Shampoo"
         ],
         "xaxis": "x",
         "y": [
          103,
          22
         ],
         "yaxis": "y"
        },
        {
         "alignmentgroup": "True",
         "hovertemplate": "category=%{x}<br>number_of_reviews=%{y}<extra></extra>",
         "legendgroup": "Deodorant for Men",
         "marker": {
          "color": "#00cc96"
         },
         "name": "Deodorant for Men",
         "offsetgroup": "Deodorant for Men",
         "orientation": "v",
         "showlegend": true,
         "textposition": "auto",
         "type": "bar",
         "x": [
          "Deodorant for Men"
         ],
         "xaxis": "x",
         "y": [
          9
         ],
         "yaxis": "y"
        },
        {
         "alignmentgroup": "True",
         "hovertemplate": "category=%{x}<br>number_of_reviews=%{y}<extra></extra>",
         "legendgroup": "Cellulite & Stretch Marks",
         "marker": {
          "color": "#ab63fa"
         },
         "name": "Cellulite & Stretch Marks",
         "offsetgroup": "Cellulite & Stretch Marks",
         "orientation": "v",
         "showlegend": true,
         "textposition": "auto",
         "type": "bar",
         "x": [
          "Cellulite & Stretch Marks"
         ],
         "xaxis": "x",
         "y": [
          0
         ],
         "yaxis": "y"
        },
        {
         "alignmentgroup": "True",
         "hovertemplate": "category=%{x}<br>number_of_reviews=%{y}<extra></extra>",
         "legendgroup": "Hair Straighteners & Flat Irons",
         "marker": {
          "color": "#FFA15A"
         },
         "name": "Hair Straighteners & Flat Irons",
         "offsetgroup": "Hair Straighteners & Flat Irons",
         "orientation": "v",
         "showlegend": true,
         "textposition": "auto",
         "type": "bar",
         "x": [
          "Hair Straighteners & Flat Irons"
         ],
         "xaxis": "x",
         "y": [
          114
         ],
         "yaxis": "y"
        },
        {
         "alignmentgroup": "True",
         "hovertemplate": "category=%{x}<br>number_of_reviews=%{y}<extra></extra>",
         "legendgroup": "Lip Brushes",
         "marker": {
          "color": "#19d3f3"
         },
         "name": "Lip Brushes",
         "offsetgroup": "Lip Brushes",
         "orientation": "v",
         "showlegend": true,
         "textposition": "auto",
         "type": "bar",
         "x": [
          "Lip Brushes",
          "Lip Brushes"
         ],
         "xaxis": "x",
         "y": [
          57,
          0
         ],
         "yaxis": "y"
        },
        {
         "alignmentgroup": "True",
         "hovertemplate": "category=%{x}<br>number_of_reviews=%{y}<extra></extra>",
         "legendgroup": "Makeup & Travel Cases",
         "marker": {
          "color": "#FF6692"
         },
         "name": "Makeup & Travel Cases",
         "offsetgroup": "Makeup & Travel Cases",
         "orientation": "v",
         "showlegend": true,
         "textposition": "auto",
         "type": "bar",
         "x": [
          "Makeup & Travel Cases",
          "Makeup & Travel Cases",
          "Makeup & Travel Cases",
          "Makeup & Travel Cases",
          "Makeup & Travel Cases",
          "Makeup & Travel Cases",
          "Makeup & Travel Cases",
          "Makeup & Travel Cases",
          "Makeup & Travel Cases",
          "Makeup & Travel Cases",
          "Makeup & Travel Cases"
         ],
         "xaxis": "x",
         "y": [
          25,
          16,
          29,
          43,
          65,
          26,
          103,
          19,
          42,
          54,
          31
         ],
         "yaxis": "y"
        },
        {
         "alignmentgroup": "True",
         "hovertemplate": "category=%{x}<br>number_of_reviews=%{y}<extra></extra>",
         "legendgroup": "Blotting Papers",
         "marker": {
          "color": "#B6E880"
         },
         "name": "Blotting Papers",
         "offsetgroup": "Blotting Papers",
         "orientation": "v",
         "showlegend": true,
         "textposition": "auto",
         "type": "bar",
         "x": [
          "Blotting Papers",
          "Blotting Papers"
         ],
         "xaxis": "x",
         "y": [
          16,
          134
         ],
         "yaxis": "y"
        },
        {
         "alignmentgroup": "True",
         "hovertemplate": "category=%{x}<br>number_of_reviews=%{y}<extra></extra>",
         "legendgroup": "Curling Irons",
         "marker": {
          "color": "#FF97FF"
         },
         "name": "Curling Irons",
         "offsetgroup": "Curling Irons",
         "orientation": "v",
         "showlegend": true,
         "textposition": "auto",
         "type": "bar",
         "x": [
          "Curling Irons"
         ],
         "xaxis": "x",
         "y": [
          30
         ],
         "yaxis": "y"
        },
        {
         "alignmentgroup": "True",
         "hovertemplate": "category=%{x}<br>number_of_reviews=%{y}<extra></extra>",
         "legendgroup": "Shampoo",
         "marker": {
          "color": "#FECB52"
         },
         "name": "Shampoo",
         "offsetgroup": "Shampoo",
         "orientation": "v",
         "showlegend": true,
         "textposition": "auto",
         "type": "bar",
         "x": [
          "Shampoo"
         ],
         "xaxis": "x",
         "y": [
          7
         ],
         "yaxis": "y"
        },
        {
         "alignmentgroup": "True",
         "hovertemplate": "category=%{x}<br>number_of_reviews=%{y}<extra></extra>",
         "legendgroup": "Scalp & Hair Treatments",
         "marker": {
          "color": "#636efa"
         },
         "name": "Scalp & Hair Treatments",
         "offsetgroup": "Scalp & Hair Treatments",
         "orientation": "v",
         "showlegend": true,
         "textposition": "auto",
         "type": "bar",
         "x": [
          "Scalp & Hair Treatments",
          "Scalp & Hair Treatments"
         ],
         "xaxis": "x",
         "y": [
          101,
          73
         ],
         "yaxis": "y"
        },
        {
         "alignmentgroup": "True",
         "hovertemplate": "category=%{x}<br>number_of_reviews=%{y}<extra></extra>",
         "legendgroup": "Hair Products",
         "marker": {
          "color": "#EF553B"
         },
         "name": "Hair Products",
         "offsetgroup": "Hair Products",
         "orientation": "v",
         "showlegend": true,
         "textposition": "auto",
         "type": "bar",
         "x": [
          "Hair Products"
         ],
         "xaxis": "x",
         "y": [
          11
         ],
         "yaxis": "y"
        },
        {
         "alignmentgroup": "True",
         "hovertemplate": "category=%{x}<br>number_of_reviews=%{y}<extra></extra>",
         "legendgroup": "Conditioner",
         "marker": {
          "color": "#00cc96"
         },
         "name": "Conditioner",
         "offsetgroup": "Conditioner",
         "orientation": "v",
         "showlegend": true,
         "textposition": "auto",
         "type": "bar",
         "x": [
          "Conditioner"
         ],
         "xaxis": "x",
         "y": [
          9
         ],
         "yaxis": "y"
        },
        {
         "alignmentgroup": "True",
         "hovertemplate": "category=%{x}<br>number_of_reviews=%{y}<extra></extra>",
         "legendgroup": "Powder Brush",
         "marker": {
          "color": "#ab63fa"
         },
         "name": "Powder Brush",
         "offsetgroup": "Powder Brush",
         "orientation": "v",
         "showlegend": true,
         "textposition": "auto",
         "type": "bar",
         "x": [
          "Powder Brush"
         ],
         "xaxis": "x",
         "y": [
          33
         ],
         "yaxis": "y"
        },
        {
         "alignmentgroup": "True",
         "hovertemplate": "category=%{x}<br>number_of_reviews=%{y}<extra></extra>",
         "legendgroup": "Lid Shadow Brush",
         "marker": {
          "color": "#FFA15A"
         },
         "name": "Lid Shadow Brush",
         "offsetgroup": "Lid Shadow Brush",
         "orientation": "v",
         "showlegend": true,
         "textposition": "auto",
         "type": "bar",
         "x": [
          "Lid Shadow Brush"
         ],
         "xaxis": "x",
         "y": [
          20
         ],
         "yaxis": "y"
        },
        {
         "alignmentgroup": "True",
         "hovertemplate": "category=%{x}<br>number_of_reviews=%{y}<extra></extra>",
         "legendgroup": "Body Wash & Shower Gel",
         "marker": {
          "color": "#19d3f3"
         },
         "name": "Body Wash & Shower Gel",
         "offsetgroup": "Body Wash & Shower Gel",
         "orientation": "v",
         "showlegend": true,
         "textposition": "auto",
         "type": "bar",
         "x": [
          "Body Wash & Shower Gel"
         ],
         "xaxis": "x",
         "y": [
          34
         ],
         "yaxis": "y"
        },
        {
         "alignmentgroup": "True",
         "hovertemplate": "category=%{x}<br>number_of_reviews=%{y}<extra></extra>",
         "legendgroup": "Bath Soaks & Bubble Bath",
         "marker": {
          "color": "#FF6692"
         },
         "name": "Bath Soaks & Bubble Bath",
         "offsetgroup": "Bath Soaks & Bubble Bath",
         "orientation": "v",
         "showlegend": true,
         "textposition": "auto",
         "type": "bar",
         "x": [
          "Bath Soaks & Bubble Bath"
         ],
         "xaxis": "x",
         "y": [
          11
         ],
         "yaxis": "y"
        }
       ],
       "layout": {
        "barmode": "relative",
        "legend": {
         "title": {
          "text": "category"
         },
         "tracegroupgap": 0
        },
        "margin": {
         "t": 60
        },
        "template": {
         "data": {
          "bar": [
           {
            "error_x": {
             "color": "#2a3f5f"
            },
            "error_y": {
             "color": "#2a3f5f"
            },
            "marker": {
             "line": {
              "color": "#E5ECF6",
              "width": 0.5
             }
            },
            "type": "bar"
           }
          ],
          "barpolar": [
           {
            "marker": {
             "line": {
              "color": "#E5ECF6",
              "width": 0.5
             }
            },
            "type": "barpolar"
           }
          ],
          "carpet": [
           {
            "aaxis": {
             "endlinecolor": "#2a3f5f",
             "gridcolor": "white",
             "linecolor": "white",
             "minorgridcolor": "white",
             "startlinecolor": "#2a3f5f"
            },
            "baxis": {
             "endlinecolor": "#2a3f5f",
             "gridcolor": "white",
             "linecolor": "white",
             "minorgridcolor": "white",
             "startlinecolor": "#2a3f5f"
            },
            "type": "carpet"
           }
          ],
          "choropleth": [
           {
            "colorbar": {
             "outlinewidth": 0,
             "ticks": ""
            },
            "type": "choropleth"
           }
          ],
          "contour": [
           {
            "colorbar": {
             "outlinewidth": 0,
             "ticks": ""
            },
            "colorscale": [
             [
              0,
              "#0d0887"
             ],
             [
              0.1111111111111111,
              "#46039f"
             ],
             [
              0.2222222222222222,
              "#7201a8"
             ],
             [
              0.3333333333333333,
              "#9c179e"
             ],
             [
              0.4444444444444444,
              "#bd3786"
             ],
             [
              0.5555555555555556,
              "#d8576b"
             ],
             [
              0.6666666666666666,
              "#ed7953"
             ],
             [
              0.7777777777777778,
              "#fb9f3a"
             ],
             [
              0.8888888888888888,
              "#fdca26"
             ],
             [
              1,
              "#f0f921"
             ]
            ],
            "type": "contour"
           }
          ],
          "contourcarpet": [
           {
            "colorbar": {
             "outlinewidth": 0,
             "ticks": ""
            },
            "type": "contourcarpet"
           }
          ],
          "heatmap": [
           {
            "colorbar": {
             "outlinewidth": 0,
             "ticks": ""
            },
            "colorscale": [
             [
              0,
              "#0d0887"
             ],
             [
              0.1111111111111111,
              "#46039f"
             ],
             [
              0.2222222222222222,
              "#7201a8"
             ],
             [
              0.3333333333333333,
              "#9c179e"
             ],
             [
              0.4444444444444444,
              "#bd3786"
             ],
             [
              0.5555555555555556,
              "#d8576b"
             ],
             [
              0.6666666666666666,
              "#ed7953"
             ],
             [
              0.7777777777777778,
              "#fb9f3a"
             ],
             [
              0.8888888888888888,
              "#fdca26"
             ],
             [
              1,
              "#f0f921"
             ]
            ],
            "type": "heatmap"
           }
          ],
          "heatmapgl": [
           {
            "colorbar": {
             "outlinewidth": 0,
             "ticks": ""
            },
            "colorscale": [
             [
              0,
              "#0d0887"
             ],
             [
              0.1111111111111111,
              "#46039f"
             ],
             [
              0.2222222222222222,
              "#7201a8"
             ],
             [
              0.3333333333333333,
              "#9c179e"
             ],
             [
              0.4444444444444444,
              "#bd3786"
             ],
             [
              0.5555555555555556,
              "#d8576b"
             ],
             [
              0.6666666666666666,
              "#ed7953"
             ],
             [
              0.7777777777777778,
              "#fb9f3a"
             ],
             [
              0.8888888888888888,
              "#fdca26"
             ],
             [
              1,
              "#f0f921"
             ]
            ],
            "type": "heatmapgl"
           }
          ],
          "histogram": [
           {
            "marker": {
             "colorbar": {
              "outlinewidth": 0,
              "ticks": ""
             }
            },
            "type": "histogram"
           }
          ],
          "histogram2d": [
           {
            "colorbar": {
             "outlinewidth": 0,
             "ticks": ""
            },
            "colorscale": [
             [
              0,
              "#0d0887"
             ],
             [
              0.1111111111111111,
              "#46039f"
             ],
             [
              0.2222222222222222,
              "#7201a8"
             ],
             [
              0.3333333333333333,
              "#9c179e"
             ],
             [
              0.4444444444444444,
              "#bd3786"
             ],
             [
              0.5555555555555556,
              "#d8576b"
             ],
             [
              0.6666666666666666,
              "#ed7953"
             ],
             [
              0.7777777777777778,
              "#fb9f3a"
             ],
             [
              0.8888888888888888,
              "#fdca26"
             ],
             [
              1,
              "#f0f921"
             ]
            ],
            "type": "histogram2d"
           }
          ],
          "histogram2dcontour": [
           {
            "colorbar": {
             "outlinewidth": 0,
             "ticks": ""
            },
            "colorscale": [
             [
              0,
              "#0d0887"
             ],
             [
              0.1111111111111111,
              "#46039f"
             ],
             [
              0.2222222222222222,
              "#7201a8"
             ],
             [
              0.3333333333333333,
              "#9c179e"
             ],
             [
              0.4444444444444444,
              "#bd3786"
             ],
             [
              0.5555555555555556,
              "#d8576b"
             ],
             [
              0.6666666666666666,
              "#ed7953"
             ],
             [
              0.7777777777777778,
              "#fb9f3a"
             ],
             [
              0.8888888888888888,
              "#fdca26"
             ],
             [
              1,
              "#f0f921"
             ]
            ],
            "type": "histogram2dcontour"
           }
          ],
          "mesh3d": [
           {
            "colorbar": {
             "outlinewidth": 0,
             "ticks": ""
            },
            "type": "mesh3d"
           }
          ],
          "parcoords": [
           {
            "line": {
             "colorbar": {
              "outlinewidth": 0,
              "ticks": ""
             }
            },
            "type": "parcoords"
           }
          ],
          "pie": [
           {
            "automargin": true,
            "type": "pie"
           }
          ],
          "scatter": [
           {
            "marker": {
             "colorbar": {
              "outlinewidth": 0,
              "ticks": ""
             }
            },
            "type": "scatter"
           }
          ],
          "scatter3d": [
           {
            "line": {
             "colorbar": {
              "outlinewidth": 0,
              "ticks": ""
             }
            },
            "marker": {
             "colorbar": {
              "outlinewidth": 0,
              "ticks": ""
             }
            },
            "type": "scatter3d"
           }
          ],
          "scattercarpet": [
           {
            "marker": {
             "colorbar": {
              "outlinewidth": 0,
              "ticks": ""
             }
            },
            "type": "scattercarpet"
           }
          ],
          "scattergeo": [
           {
            "marker": {
             "colorbar": {
              "outlinewidth": 0,
              "ticks": ""
             }
            },
            "type": "scattergeo"
           }
          ],
          "scattergl": [
           {
            "marker": {
             "colorbar": {
              "outlinewidth": 0,
              "ticks": ""
             }
            },
            "type": "scattergl"
           }
          ],
          "scattermapbox": [
           {
            "marker": {
             "colorbar": {
              "outlinewidth": 0,
              "ticks": ""
             }
            },
            "type": "scattermapbox"
           }
          ],
          "scatterpolar": [
           {
            "marker": {
             "colorbar": {
              "outlinewidth": 0,
              "ticks": ""
             }
            },
            "type": "scatterpolar"
           }
          ],
          "scatterpolargl": [
           {
            "marker": {
             "colorbar": {
              "outlinewidth": 0,
              "ticks": ""
             }
            },
            "type": "scatterpolargl"
           }
          ],
          "scatterternary": [
           {
            "marker": {
             "colorbar": {
              "outlinewidth": 0,
              "ticks": ""
             }
            },
            "type": "scatterternary"
           }
          ],
          "surface": [
           {
            "colorbar": {
             "outlinewidth": 0,
             "ticks": ""
            },
            "colorscale": [
             [
              0,
              "#0d0887"
             ],
             [
              0.1111111111111111,
              "#46039f"
             ],
             [
              0.2222222222222222,
              "#7201a8"
             ],
             [
              0.3333333333333333,
              "#9c179e"
             ],
             [
              0.4444444444444444,
              "#bd3786"
             ],
             [
              0.5555555555555556,
              "#d8576b"
             ],
             [
              0.6666666666666666,
              "#ed7953"
             ],
             [
              0.7777777777777778,
              "#fb9f3a"
             ],
             [
              0.8888888888888888,
              "#fdca26"
             ],
             [
              1,
              "#f0f921"
             ]
            ],
            "type": "surface"
           }
          ],
          "table": [
           {
            "cells": {
             "fill": {
              "color": "#EBF0F8"
             },
             "line": {
              "color": "white"
             }
            },
            "header": {
             "fill": {
              "color": "#C8D4E3"
             },
             "line": {
              "color": "white"
             }
            },
            "type": "table"
           }
          ]
         },
         "layout": {
          "annotationdefaults": {
           "arrowcolor": "#2a3f5f",
           "arrowhead": 0,
           "arrowwidth": 1
          },
          "autotypenumbers": "strict",
          "coloraxis": {
           "colorbar": {
            "outlinewidth": 0,
            "ticks": ""
           }
          },
          "colorscale": {
           "diverging": [
            [
             0,
             "#8e0152"
            ],
            [
             0.1,
             "#c51b7d"
            ],
            [
             0.2,
             "#de77ae"
            ],
            [
             0.3,
             "#f1b6da"
            ],
            [
             0.4,
             "#fde0ef"
            ],
            [
             0.5,
             "#f7f7f7"
            ],
            [
             0.6,
             "#e6f5d0"
            ],
            [
             0.7,
             "#b8e186"
            ],
            [
             0.8,
             "#7fbc41"
            ],
            [
             0.9,
             "#4d9221"
            ],
            [
             1,
             "#276419"
            ]
           ],
           "sequential": [
            [
             0,
             "#0d0887"
            ],
            [
             0.1111111111111111,
             "#46039f"
            ],
            [
             0.2222222222222222,
             "#7201a8"
            ],
            [
             0.3333333333333333,
             "#9c179e"
            ],
            [
             0.4444444444444444,
             "#bd3786"
            ],
            [
             0.5555555555555556,
             "#d8576b"
            ],
            [
             0.6666666666666666,
             "#ed7953"
            ],
            [
             0.7777777777777778,
             "#fb9f3a"
            ],
            [
             0.8888888888888888,
             "#fdca26"
            ],
            [
             1,
             "#f0f921"
            ]
           ],
           "sequentialminus": [
            [
             0,
             "#0d0887"
            ],
            [
             0.1111111111111111,
             "#46039f"
            ],
            [
             0.2222222222222222,
             "#7201a8"
            ],
            [
             0.3333333333333333,
             "#9c179e"
            ],
            [
             0.4444444444444444,
             "#bd3786"
            ],
            [
             0.5555555555555556,
             "#d8576b"
            ],
            [
             0.6666666666666666,
             "#ed7953"
            ],
            [
             0.7777777777777778,
             "#fb9f3a"
            ],
            [
             0.8888888888888888,
             "#fdca26"
            ],
            [
             1,
             "#f0f921"
            ]
           ]
          },
          "colorway": [
           "#636efa",
           "#EF553B",
           "#00cc96",
           "#ab63fa",
           "#FFA15A",
           "#19d3f3",
           "#FF6692",
           "#B6E880",
           "#FF97FF",
           "#FECB52"
          ],
          "font": {
           "color": "#2a3f5f"
          },
          "geo": {
           "bgcolor": "white",
           "lakecolor": "white",
           "landcolor": "#E5ECF6",
           "showlakes": true,
           "showland": true,
           "subunitcolor": "white"
          },
          "hoverlabel": {
           "align": "left"
          },
          "hovermode": "closest",
          "mapbox": {
           "style": "light"
          },
          "paper_bgcolor": "white",
          "plot_bgcolor": "#E5ECF6",
          "polar": {
           "angularaxis": {
            "gridcolor": "white",
            "linecolor": "white",
            "ticks": ""
           },
           "bgcolor": "#E5ECF6",
           "radialaxis": {
            "gridcolor": "white",
            "linecolor": "white",
            "ticks": ""
           }
          },
          "scene": {
           "xaxis": {
            "backgroundcolor": "#E5ECF6",
            "gridcolor": "white",
            "gridwidth": 2,
            "linecolor": "white",
            "showbackground": true,
            "ticks": "",
            "zerolinecolor": "white"
           },
           "yaxis": {
            "backgroundcolor": "#E5ECF6",
            "gridcolor": "white",
            "gridwidth": 2,
            "linecolor": "white",
            "showbackground": true,
            "ticks": "",
            "zerolinecolor": "white"
           },
           "zaxis": {
            "backgroundcolor": "#E5ECF6",
            "gridcolor": "white",
            "gridwidth": 2,
            "linecolor": "white",
            "showbackground": true,
            "ticks": "",
            "zerolinecolor": "white"
           }
          },
          "shapedefaults": {
           "line": {
            "color": "#2a3f5f"
           }
          },
          "ternary": {
           "aaxis": {
            "gridcolor": "white",
            "linecolor": "white",
            "ticks": ""
           },
           "baxis": {
            "gridcolor": "white",
            "linecolor": "white",
            "ticks": ""
           },
           "bgcolor": "#E5ECF6",
           "caxis": {
            "gridcolor": "white",
            "linecolor": "white",
            "ticks": ""
           }
          },
          "title": {
           "x": 0.05
          },
          "xaxis": {
           "automargin": true,
           "gridcolor": "white",
           "linecolor": "white",
           "ticks": "",
           "title": {
            "standoff": 15
           },
           "zerolinecolor": "white",
           "zerolinewidth": 2
          },
          "yaxis": {
           "automargin": true,
           "gridcolor": "white",
           "linecolor": "white",
           "ticks": "",
           "title": {
            "standoff": 15
           },
           "zerolinecolor": "white",
           "zerolinewidth": 2
          }
         }
        },
        "xaxis": {
         "anchor": "y",
         "categoryarray": [
          "Moisturizers",
          "Face Wash & Cleansers",
          "Foundation",
          "Face Serums",
          "Value & Gift Sets",
          "Toners",
          "Mascara",
          "Eye Creams & Treatments",
          "Blemish & Acne Treatments",
          "Makeup Removers",
          "Exfoliators",
          "Eyeliner",
          "Setting Spray & Powder",
          "Face Masks",
          "BB & CC Cream",
          "Lip Balm & Treatment",
          "Blush",
          "Lipstick",
          "Concealer",
          "Perfume",
          "Skincare",
          "Moisturizer & Treatments",
          "Face Sets",
          "Contour",
          "Face Oils",
          "Lip Balms & Treatments",
          "Eyebrow",
          "Face Sunscreen",
          "Mini Size",
          "Eye Cream",
          "Face Wash",
          "Eye Palettes",
          "Mists & Essences",
          "Body Lotions & Body Oils",
          "For Face",
          "Makeup",
          "Bronzer",
          "Lip Gloss",
          "Lip Liner",
          "Highlighter",
          "Eyeshadow",
          "Aftershave",
          "Scrub & Exfoliants",
          "Facial Cleansing Brushes",
          "Face Primer",
          "Cologne",
          "Perfume Gift Sets",
          "Decollete & Neck Creams",
          "Tinted Moisturizer",
          "Rollerballs & Travel Size",
          "Skincare Sets",
          "Night Creams",
          "Self Tanners",
          "Deodorant & Antiperspirant",
          "Shaving",
          "Color Correct",
          "Makeup Palettes",
          "Eye Sets",
          "BB & CC Creams",
          "Lip Stain",
          "Fragrance",
          "Body Sprays & Deodorant",
          "Liquid Lipstick",
          "Face Brushes",
          "Lotions & Oils",
          "Body Mist & Hair Mist",
          "Facial Peels",
          "Bath & Shower",
          "Eyelash Curlers",
          "Face Wipes",
          "Brush Sets",
          "False Eyelashes",
          "Eye Masks",
          "Sheet Masks",
          "Hand Cream & Foot Cream",
          "Hair Removal",
          "Eye Brushes",
          "Facial Rollers",
          "Lip Sets",
          "Beauty Supplements",
          "Hair Masks",
          "Nail",
          "Hair Styling Products",
          "Brush Cleaners",
          "no category",
          "Eye Primer",
          "Sponges & Applicators",
          "Spa Tools",
          "Hair Brushes & Combs",
          "Makeup Bags & Travel Cases",
          "Hair Accessories",
          "Cheek Palettes",
          "Accessories",
          "Mirrors & Sharpeners",
          "Tweezers & Eyebrow Tools",
          "Candles & Home Scents",
          "Hair Dryers",
          "Body Moisturizers",
          "Anti-Aging",
          "Teeth Whitening",
          "For Body",
          "Dry Shampoo",
          "Deodorant for Men",
          "Cellulite & Stretch Marks",
          "Hair Straighteners & Flat Irons",
          "Lip Brushes",
          "Makeup & Travel Cases",
          "Blotting Papers",
          "Curling Irons",
          "Shampoo",
          "Scalp & Hair Treatments",
          "Hair Products",
          "Conditioner",
          "Powder Brush",
          "Lid Shadow Brush",
          "Body Wash & Shower Gel",
          "Bath Soaks & Bubble Bath"
         ],
         "categoryorder": "array",
         "domain": [
          0,
          1
         ],
         "title": {
          "text": "category"
         }
        },
        "yaxis": {
         "anchor": "x",
         "domain": [
          0,
          1
         ],
         "title": {
          "text": "number_of_reviews"
         }
        }
       }
      },
      "text/html": [
       "<div>                            <div id=\"591e17cf-bf0c-4532-9e79-a4a67c5a3012\" class=\"plotly-graph-div\" style=\"height:525px; width:100%;\"></div>            <script type=\"text/javascript\">                require([\"plotly\"], function(Plotly) {                    window.PLOTLYENV=window.PLOTLYENV || {};                                    if (document.getElementById(\"591e17cf-bf0c-4532-9e79-a4a67c5a3012\")) {                    Plotly.newPlot(                        \"591e17cf-bf0c-4532-9e79-a4a67c5a3012\",                        [{\"alignmentgroup\": \"True\", \"hovertemplate\": \"category=%{x}<br>number_of_reviews=%{y}<extra></extra>\", \"legendgroup\": \"Moisturizers\", \"marker\": {\"color\": \"#636efa\"}, \"name\": \"Moisturizers\", \"offsetgroup\": \"Moisturizers\", \"orientation\": \"v\", \"showlegend\": true, \"textposition\": \"auto\", \"type\": \"bar\", \"x\": [\"Moisturizers\", \"Moisturizers\", \"Moisturizers\", \"Moisturizers\", \"Moisturizers\", \"Moisturizers\", \"Moisturizers\", \"Moisturizers\", \"Moisturizers\", \"Moisturizers\", \"Moisturizers\", \"Moisturizers\", \"Moisturizers\", \"Moisturizers\", \"Moisturizers\", \"Moisturizers\", \"Moisturizers\", \"Moisturizers\", \"Moisturizers\", \"Moisturizers\", \"Moisturizers\", \"Moisturizers\", \"Moisturizers\", \"Moisturizers\", \"Moisturizers\", \"Moisturizers\", \"Moisturizers\", \"Moisturizers\", \"Moisturizers\", \"Moisturizers\", \"Moisturizers\", \"Moisturizers\", \"Moisturizers\", \"Moisturizers\", \"Moisturizers\", \"Moisturizers\", \"Moisturizers\", \"Moisturizers\", \"Moisturizers\", \"Moisturizers\", \"Moisturizers\", \"Moisturizers\", \"Moisturizers\", \"Moisturizers\", \"Moisturizers\", \"Moisturizers\", \"Moisturizers\", \"Moisturizers\", \"Moisturizers\", \"Moisturizers\", \"Moisturizers\", \"Moisturizers\"], \"xaxis\": \"x\", \"y\": [1000, 1000, 3000, 185, 948, 547, 328, 612, 22, 31, 1, 24, 7, 4, 14, 16, 217, 14, 4, 3, 39, 159, 31, 57, 3, 578, 5, 8, 15, 85, 13, 18, 5, 402, 3, 46, 167, 25, 47, 36, 10, 4, 99, 447, 493, 62, 19, 25, 1000, 48, 26, 11], \"yaxis\": \"y\"}, {\"alignmentgroup\": \"True\", \"hovertemplate\": \"category=%{x}<br>number_of_reviews=%{y}<extra></extra>\", \"legendgroup\": \"Face Wash & Cleansers\", \"marker\": {\"color\": \"#EF553B\"}, \"name\": \"Face Wash & Cleansers\", \"offsetgroup\": \"Face Wash & Cleansers\", \"orientation\": \"v\", \"showlegend\": true, \"textposition\": \"auto\", \"type\": \"bar\", \"x\": [\"Face Wash & Cleansers\", \"Face Wash & Cleansers\", \"Face Wash & Cleansers\", \"Face Wash & Cleansers\", \"Face Wash & Cleansers\", \"Face Wash & Cleansers\", \"Face Wash & Cleansers\", \"Face Wash & Cleansers\", \"Face Wash & Cleansers\", \"Face Wash & Cleansers\", \"Face Wash & Cleansers\", \"Face Wash & Cleansers\", \"Face Wash & Cleansers\", \"Face Wash & Cleansers\", \"Face Wash & Cleansers\", \"Face Wash & Cleansers\", \"Face Wash & Cleansers\", \"Face Wash & Cleansers\", \"Face Wash & Cleansers\", \"Face Wash & Cleansers\", \"Face Wash & Cleansers\", \"Face Wash & Cleansers\", \"Face Wash & Cleansers\", \"Face Wash & Cleansers\", \"Face Wash & Cleansers\", \"Face Wash & Cleansers\", \"Face Wash & Cleansers\", \"Face Wash & Cleansers\"], \"xaxis\": \"x\", \"y\": [2000, 3000, 964, 769, 363, 136, 276, 375, 435, 109, 28, 50, 66, 0, 26, 18, 42, 401, 1000, 5, 26, 28, 1000, 18, 929, 38, 47, 357], \"yaxis\": \"y\"}, {\"alignmentgroup\": \"True\", \"hovertemplate\": \"category=%{x}<br>number_of_reviews=%{y}<extra></extra>\", \"legendgroup\": \"Foundation\", \"marker\": {\"color\": \"#00cc96\"}, \"name\": \"Foundation\", \"offsetgroup\": \"Foundation\", \"orientation\": \"v\", \"showlegend\": true, \"textposition\": \"auto\", \"type\": \"bar\", \"x\": [\"Foundation\", \"Foundation\", \"Foundation\", \"Foundation\", \"Foundation\", \"Foundation\", \"Foundation\", \"Foundation\", \"Foundation\", \"Foundation\", \"Foundation\", \"Foundation\", \"Foundation\", \"Foundation\", \"Foundation\", \"Foundation\", \"Foundation\", \"Foundation\", \"Foundation\", \"Foundation\", \"Foundation\", \"Foundation\", \"Foundation\", \"Foundation\", \"Foundation\", \"Foundation\", \"Foundation\", \"Foundation\", \"Foundation\", \"Foundation\", \"Foundation\", \"Foundation\"], \"xaxis\": \"x\", \"y\": [2000, 2000, 1000, 1000, 674, 1000, 911, 20, 124, 26, 277, 178, 3000, 1000, 989, 926, 473, 431, 3000, 1000, 1000, 596, 2000, 234, 3000, 694, 1000, 6000, 634, 6, 228, 36], \"yaxis\": \"y\"}, {\"alignmentgroup\": \"True\", \"hovertemplate\": \"category=%{x}<br>number_of_reviews=%{y}<extra></extra>\", \"legendgroup\": \"Face Serums\", \"marker\": {\"color\": \"#ab63fa\"}, \"name\": \"Face Serums\", \"offsetgroup\": \"Face Serums\", \"orientation\": \"v\", \"showlegend\": true, \"textposition\": \"auto\", \"type\": \"bar\", \"x\": [\"Face Serums\", \"Face Serums\", \"Face Serums\", \"Face Serums\", \"Face Serums\", \"Face Serums\", \"Face Serums\", \"Face Serums\", \"Face Serums\", \"Face Serums\", \"Face Serums\", \"Face Serums\", \"Face Serums\", \"Face Serums\", \"Face Serums\", \"Face Serums\", \"Face Serums\", \"Face Serums\", \"Face Serums\", \"Face Serums\", \"Face Serums\", \"Face Serums\", \"Face Serums\", \"Face Serums\", \"Face Serums\", \"Face Serums\", \"Face Serums\", \"Face Serums\"], \"xaxis\": \"x\", \"y\": [6, 387, 133, 653, 109, 134, 25, 404, 102, 14, 6, 39, 10, 1000, 3, 26, 17, 14, 17, 6, 16, 404, 4, 93, 1, 117, 268, 89], \"yaxis\": \"y\"}, {\"alignmentgroup\": \"True\", \"hovertemplate\": \"category=%{x}<br>number_of_reviews=%{y}<extra></extra>\", \"legendgroup\": \"Value & Gift Sets\", \"marker\": {\"color\": \"#FFA15A\"}, \"name\": \"Value & Gift Sets\", \"offsetgroup\": \"Value & Gift Sets\", \"orientation\": \"v\", \"showlegend\": true, \"textposition\": \"auto\", \"type\": \"bar\", \"x\": [\"Value & Gift Sets\", \"Value & Gift Sets\", \"Value & Gift Sets\", \"Value & Gift Sets\", \"Value & Gift Sets\", \"Value & Gift Sets\", \"Value & Gift Sets\", \"Value & Gift Sets\", \"Value & Gift Sets\", \"Value & Gift Sets\", \"Value & Gift Sets\", \"Value & Gift Sets\", \"Value & Gift Sets\", \"Value & Gift Sets\", \"Value & Gift Sets\", \"Value & Gift Sets\", \"Value & Gift Sets\", \"Value & Gift Sets\", \"Value & Gift Sets\", \"Value & Gift Sets\", \"Value & Gift Sets\", \"Value & Gift Sets\", \"Value & Gift Sets\", \"Value & Gift Sets\", \"Value & Gift Sets\", \"Value & Gift Sets\", \"Value & Gift Sets\", \"Value & Gift Sets\", \"Value & Gift Sets\"], \"xaxis\": \"x\", \"y\": [131, 160, 17, 244, 2, 1, 8, 230, 71, 17, 0, 0, 0, 0, 0, 98, 29, 178, 25, 44, 8, 7, 20, 3, 5, 3, 0, 0, 18], \"yaxis\": \"y\"}, {\"alignmentgroup\": \"True\", \"hovertemplate\": \"category=%{x}<br>number_of_reviews=%{y}<extra></extra>\", \"legendgroup\": \"Toners\", \"marker\": {\"color\": \"#19d3f3\"}, \"name\": \"Toners\", \"offsetgroup\": \"Toners\", \"orientation\": \"v\", \"showlegend\": true, \"textposition\": \"auto\", \"type\": \"bar\", \"x\": [\"Toners\", \"Toners\", \"Toners\", \"Toners\", \"Toners\", \"Toners\", \"Toners\", \"Toners\", \"Toners\", \"Toners\"], \"xaxis\": \"x\", \"y\": [1000, 868, 7, 936, 6, 190, 219, 42, 40, 618], \"yaxis\": \"y\"}, {\"alignmentgroup\": \"True\", \"hovertemplate\": \"category=%{x}<br>number_of_reviews=%{y}<extra></extra>\", \"legendgroup\": \"Mascara\", \"marker\": {\"color\": \"#FF6692\"}, \"name\": \"Mascara\", \"offsetgroup\": \"Mascara\", \"orientation\": \"v\", \"showlegend\": true, \"textposition\": \"auto\", \"type\": \"bar\", \"x\": [\"Mascara\", \"Mascara\", \"Mascara\", \"Mascara\", \"Mascara\", \"Mascara\", \"Mascara\", \"Mascara\", \"Mascara\", \"Mascara\", \"Mascara\", \"Mascara\", \"Mascara\", \"Mascara\", \"Mascara\", \"Mascara\", \"Mascara\", \"Mascara\", \"Mascara\", \"Mascara\", \"Mascara\", \"Mascara\", \"Mascara\", \"Mascara\", \"Mascara\", \"Mascara\", \"Mascara\", \"Mascara\", \"Mascara\", \"Mascara\", \"Mascara\", \"Mascara\", \"Mascara\", \"Mascara\", \"Mascara\", \"Mascara\", \"Mascara\", \"Mascara\", \"Mascara\", \"Mascara\", \"Mascara\", \"Mascara\"], \"xaxis\": \"x\", \"y\": [2000, 2000, 331, 748, 718, 474, 688, 1000, 271, 154, 1000, 720, 2000, 2000, 174, 3000, 1000, 755, 52, 831, 1000, 128, 14, 6000, 225, 1000, 335, 1000, 1000, 241, 56, 5, 127, 48, 712, 13, 65, 111, 14, 31, 23, 123], \"yaxis\": \"y\"}, {\"alignmentgroup\": \"True\", \"hovertemplate\": \"category=%{x}<br>number_of_reviews=%{y}<extra></extra>\", \"legendgroup\": \"Eye Creams & Treatments\", \"marker\": {\"color\": \"#B6E880\"}, \"name\": \"Eye Creams & Treatments\", \"offsetgroup\": \"Eye Creams & Treatments\", \"orientation\": \"v\", \"showlegend\": true, \"textposition\": \"auto\", \"type\": \"bar\", \"x\": [\"Eye Creams & Treatments\", \"Eye Creams & Treatments\", \"Eye Creams & Treatments\", \"Eye Creams & Treatments\", \"Eye Creams & Treatments\", \"Eye Creams & Treatments\", \"Eye Creams & Treatments\", \"Eye Creams & Treatments\", \"Eye Creams & Treatments\", \"Eye Creams & Treatments\", \"Eye Creams & Treatments\", \"Eye Creams & Treatments\", \"Eye Creams & Treatments\", \"Eye Creams & Treatments\", \"Eye Creams & Treatments\"], \"xaxis\": \"x\", \"y\": [1000, 1000, 140, 951, 270, 70, 874, 36, 374, 1, 20, 20, 22, 515, 852], \"yaxis\": \"y\"}, {\"alignmentgroup\": \"True\", \"hovertemplate\": \"category=%{x}<br>number_of_reviews=%{y}<extra></extra>\", \"legendgroup\": \"Blemish & Acne Treatments\", \"marker\": {\"color\": \"#FF97FF\"}, \"name\": \"Blemish & Acne Treatments\", \"offsetgroup\": \"Blemish & Acne Treatments\", \"orientation\": \"v\", \"showlegend\": true, \"textposition\": \"auto\", \"type\": \"bar\", \"x\": [\"Blemish & Acne Treatments\", \"Blemish & Acne Treatments\", \"Blemish & Acne Treatments\", \"Blemish & Acne Treatments\", \"Blemish & Acne Treatments\", \"Blemish & Acne Treatments\", \"Blemish & Acne Treatments\"], \"xaxis\": \"x\", \"y\": [814, 73, 513, 495, 0, 59, 22], \"yaxis\": \"y\"}, {\"alignmentgroup\": \"True\", \"hovertemplate\": \"category=%{x}<br>number_of_reviews=%{y}<extra></extra>\", \"legendgroup\": \"Makeup Removers\", \"marker\": {\"color\": \"#FECB52\"}, \"name\": \"Makeup Removers\", \"offsetgroup\": \"Makeup Removers\", \"orientation\": \"v\", \"showlegend\": true, \"textposition\": \"auto\", \"type\": \"bar\", \"x\": [\"Makeup Removers\", \"Makeup Removers\", \"Makeup Removers\", \"Makeup Removers\", \"Makeup Removers\", \"Makeup Removers\", \"Makeup Removers\", \"Makeup Removers\", \"Makeup Removers\", \"Makeup Removers\", \"Makeup Removers\", \"Makeup Removers\", \"Makeup Removers\", \"Makeup Removers\", \"Makeup Removers\"], \"xaxis\": \"x\", \"y\": [3000, 1, 285, 522, 248, 31, 3000, 71, 51, 54, 86, 19, 14, 39, 328], \"yaxis\": \"y\"}, {\"alignmentgroup\": \"True\", \"hovertemplate\": \"category=%{x}<br>number_of_reviews=%{y}<extra></extra>\", \"legendgroup\": \"Exfoliators\", \"marker\": {\"color\": \"#636efa\"}, \"name\": \"Exfoliators\", \"offsetgroup\": \"Exfoliators\", \"orientation\": \"v\", \"showlegend\": true, \"textposition\": \"auto\", \"type\": \"bar\", \"x\": [\"Exfoliators\", \"Exfoliators\", \"Exfoliators\", \"Exfoliators\", \"Exfoliators\", \"Exfoliators\", \"Exfoliators\", \"Exfoliators\"], \"xaxis\": \"x\", \"y\": [1000, 504, 776, 35, 18, 28, 70, 5], \"yaxis\": \"y\"}, {\"alignmentgroup\": \"True\", \"hovertemplate\": \"category=%{x}<br>number_of_reviews=%{y}<extra></extra>\", \"legendgroup\": \"Eyeliner\", \"marker\": {\"color\": \"#EF553B\"}, \"name\": \"Eyeliner\", \"offsetgroup\": \"Eyeliner\", \"orientation\": \"v\", \"showlegend\": true, \"textposition\": \"auto\", \"type\": \"bar\", \"x\": [\"Eyeliner\", \"Eyeliner\", \"Eyeliner\", \"Eyeliner\", \"Eyeliner\", \"Eyeliner\", \"Eyeliner\", \"Eyeliner\", \"Eyeliner\", \"Eyeliner\", \"Eyeliner\", \"Eyeliner\", \"Eyeliner\", \"Eyeliner\", \"Eyeliner\", \"Eyeliner\", \"Eyeliner\", \"Eyeliner\", \"Eyeliner\", \"Eyeliner\", \"Eyeliner\", \"Eyeliner\", \"Eyeliner\", \"Eyeliner\", \"Eyeliner\", \"Eyeliner\", \"Eyeliner\", \"Eyeliner\", \"Eyeliner\", \"Eyeliner\", \"Eyeliner\"], \"xaxis\": \"x\", \"y\": [562, 1000, 913, 22, 86, 526, 62, 6000, 2000, 839, 2000, 3000, 581, 100, 42, 1000, 343, 478, 27, 35, 991, 173, 524, 157, 93, 1000, 1000, 7, 287, 9, 242], \"yaxis\": \"y\"}, {\"alignmentgroup\": \"True\", \"hovertemplate\": \"category=%{x}<br>number_of_reviews=%{y}<extra></extra>\", \"legendgroup\": \"Setting Spray & Powder\", \"marker\": {\"color\": \"#00cc96\"}, \"name\": \"Setting Spray & Powder\", \"offsetgroup\": \"Setting Spray & Powder\", \"orientation\": \"v\", \"showlegend\": true, \"textposition\": \"auto\", \"type\": \"bar\", \"x\": [\"Setting Spray & Powder\", \"Setting Spray & Powder\", \"Setting Spray & Powder\", \"Setting Spray & Powder\", \"Setting Spray & Powder\", \"Setting Spray & Powder\", \"Setting Spray & Powder\", \"Setting Spray & Powder\", \"Setting Spray & Powder\", \"Setting Spray & Powder\", \"Setting Spray & Powder\", \"Setting Spray & Powder\", \"Setting Spray & Powder\", \"Setting Spray & Powder\"], \"xaxis\": \"x\", \"y\": [603, 214, 32, 35, 48, 72, 560, 187, 948, 3, 1000, 249, 3, 170], \"yaxis\": \"y\"}, {\"alignmentgroup\": \"True\", \"hovertemplate\": \"category=%{x}<br>number_of_reviews=%{y}<extra></extra>\", \"legendgroup\": \"Face Masks\", \"marker\": {\"color\": \"#ab63fa\"}, \"name\": \"Face Masks\", \"offsetgroup\": \"Face Masks\", \"orientation\": \"v\", \"showlegend\": true, \"textposition\": \"auto\", \"type\": \"bar\", \"x\": [\"Face Masks\", \"Face Masks\", \"Face Masks\", \"Face Masks\", \"Face Masks\", \"Face Masks\", \"Face Masks\", \"Face Masks\", \"Face Masks\", \"Face Masks\", \"Face Masks\", \"Face Masks\", \"Face Masks\", \"Face Masks\", \"Face Masks\", \"Face Masks\", \"Face Masks\", \"Face Masks\", \"Face Masks\", \"Face Masks\", \"Face Masks\", \"Face Masks\", \"Face Masks\", \"Face Masks\", \"Face Masks\", \"Face Masks\", \"Face Masks\", \"Face Masks\", \"Face Masks\", \"Face Masks\", \"Face Masks\", \"Face Masks\", \"Face Masks\", \"Face Masks\", \"Face Masks\", \"Face Masks\", \"Face Masks\", \"Face Masks\", \"Face Masks\", \"Face Masks\", \"Face Masks\", \"Face Masks\"], \"xaxis\": \"x\", \"y\": [397, 90, 275, 118, 70, 33, 28, 31, 1000, 256, 28, 74, 46, 17, 131, 984, 17, 291, 15, 62, 191, 175, 112, 84, 46, 14, 22, 20, 16, 12, 26, 10, 32, 16, 687, 88, 12, 50, 20, 22, 1000, 15], \"yaxis\": \"y\"}, {\"alignmentgroup\": \"True\", \"hovertemplate\": \"category=%{x}<br>number_of_reviews=%{y}<extra></extra>\", \"legendgroup\": \"BB & CC Cream\", \"marker\": {\"color\": \"#FFA15A\"}, \"name\": \"BB & CC Cream\", \"offsetgroup\": \"BB & CC Cream\", \"orientation\": \"v\", \"showlegend\": true, \"textposition\": \"auto\", \"type\": \"bar\", \"x\": [\"BB & CC Cream\", \"BB & CC Cream\", \"BB & CC Cream\", \"BB & CC Cream\", \"BB & CC Cream\"], \"xaxis\": \"x\", \"y\": [758, 663, 39, 756, 3000], \"yaxis\": \"y\"}, {\"alignmentgroup\": \"True\", \"hovertemplate\": \"category=%{x}<br>number_of_reviews=%{y}<extra></extra>\", \"legendgroup\": \"Lip Balm & Treatment\", \"marker\": {\"color\": \"#19d3f3\"}, \"name\": \"Lip Balm & Treatment\", \"offsetgroup\": \"Lip Balm & Treatment\", \"orientation\": \"v\", \"showlegend\": true, \"textposition\": \"auto\", \"type\": \"bar\", \"x\": [\"Lip Balm & Treatment\", \"Lip Balm & Treatment\", \"Lip Balm & Treatment\", \"Lip Balm & Treatment\", \"Lip Balm & Treatment\", \"Lip Balm & Treatment\", \"Lip Balm & Treatment\", \"Lip Balm & Treatment\", \"Lip Balm & Treatment\", \"Lip Balm & Treatment\", \"Lip Balm & Treatment\", \"Lip Balm & Treatment\", \"Lip Balm & Treatment\", \"Lip Balm & Treatment\", \"Lip Balm & Treatment\", \"Lip Balm & Treatment\", \"Lip Balm & Treatment\", \"Lip Balm & Treatment\", \"Lip Balm & Treatment\"], \"xaxis\": \"x\", \"y\": [2000, 0, 576, 227, 4000, 153, 26, 156, 2000, 892, 212, 105, 16, 1000, 30, 33, 9, 23, 4], \"yaxis\": \"y\"}, {\"alignmentgroup\": \"True\", \"hovertemplate\": \"category=%{x}<br>number_of_reviews=%{y}<extra></extra>\", \"legendgroup\": \"Blush\", \"marker\": {\"color\": \"#FF6692\"}, \"name\": \"Blush\", \"offsetgroup\": \"Blush\", \"orientation\": \"v\", \"showlegend\": true, \"textposition\": \"auto\", \"type\": \"bar\", \"x\": [\"Blush\", \"Blush\", \"Blush\", \"Blush\", \"Blush\", \"Blush\", \"Blush\", \"Blush\", \"Blush\", \"Blush\", \"Blush\"], \"xaxis\": \"x\", \"y\": [952, 150, 94, 30, 28, 361, 48, 244, 5000, 17, 41], \"yaxis\": \"y\"}, {\"alignmentgroup\": \"True\", \"hovertemplate\": \"category=%{x}<br>number_of_reviews=%{y}<extra></extra>\", \"legendgroup\": \"Lipstick\", \"marker\": {\"color\": \"#B6E880\"}, \"name\": \"Lipstick\", \"offsetgroup\": \"Lipstick\", \"orientation\": \"v\", \"showlegend\": true, \"textposition\": \"auto\", \"type\": \"bar\", \"x\": [\"Lipstick\", \"Lipstick\", \"Lipstick\", \"Lipstick\", \"Lipstick\", \"Lipstick\", \"Lipstick\", \"Lipstick\", \"Lipstick\", \"Lipstick\", \"Lipstick\", \"Lipstick\", \"Lipstick\", \"Lipstick\", \"Lipstick\", \"Lipstick\", \"Lipstick\", \"Lipstick\", \"Lipstick\", \"Lipstick\", \"Lipstick\", \"Lipstick\", \"Lipstick\", \"Lipstick\", \"Lipstick\", \"Lipstick\", \"Lipstick\", \"Lipstick\", \"Lipstick\", \"Lipstick\", \"Lipstick\", \"Lipstick\", \"Lipstick\", \"Lipstick\", \"Lipstick\"], \"xaxis\": \"x\", \"y\": [3000, 27, 263, 88, 60, 301, 6, 110, 187, 86, 7, 9000, 2000, 207, 2000, 75, 1000, 1000, 25, 2000, 22, 327, 30, 140, 74, 21, 19, 34, 14, 38, 6, 4, 0, 12, 334], \"yaxis\": \"y\"}, {\"alignmentgroup\": \"True\", \"hovertemplate\": \"category=%{x}<br>number_of_reviews=%{y}<extra></extra>\", \"legendgroup\": \"Concealer\", \"marker\": {\"color\": \"#FF97FF\"}, \"name\": \"Concealer\", \"offsetgroup\": \"Concealer\", \"orientation\": \"v\", \"showlegend\": true, \"textposition\": \"auto\", \"type\": \"bar\", \"x\": [\"Concealer\", \"Concealer\", \"Concealer\", \"Concealer\", \"Concealer\", \"Concealer\", \"Concealer\", \"Concealer\", \"Concealer\", \"Concealer\", \"Concealer\", \"Concealer\", \"Concealer\"], \"xaxis\": \"x\", \"y\": [701, 213, 453, 274, 959, 2000, 496, 2, 1000, 1000, 1000, 608, 84], \"yaxis\": \"y\"}, {\"alignmentgroup\": \"True\", \"hovertemplate\": \"category=%{x}<br>number_of_reviews=%{y}<extra></extra>\", \"legendgroup\": \"Perfume\", \"marker\": {\"color\": \"#FECB52\"}, \"name\": \"Perfume\", \"offsetgroup\": \"Perfume\", \"orientation\": \"v\", \"showlegend\": true, \"textposition\": \"auto\", \"type\": \"bar\", \"x\": [\"Perfume\", \"Perfume\", \"Perfume\", \"Perfume\", \"Perfume\", \"Perfume\", \"Perfume\", \"Perfume\", \"Perfume\", \"Perfume\", \"Perfume\", \"Perfume\", \"Perfume\", \"Perfume\", \"Perfume\", \"Perfume\", \"Perfume\", \"Perfume\", \"Perfume\", \"Perfume\", \"Perfume\", \"Perfume\", \"Perfume\", \"Perfume\", \"Perfume\", \"Perfume\", \"Perfume\", \"Perfume\", \"Perfume\", \"Perfume\", \"Perfume\", \"Perfume\", \"Perfume\", \"Perfume\", \"Perfume\", \"Perfume\", \"Perfume\", \"Perfume\", \"Perfume\", \"Perfume\", \"Perfume\", \"Perfume\", \"Perfume\", \"Perfume\", \"Perfume\", \"Perfume\", \"Perfume\", \"Perfume\", \"Perfume\", \"Perfume\", \"Perfume\", \"Perfume\", \"Perfume\", \"Perfume\", \"Perfume\", \"Perfume\", \"Perfume\", \"Perfume\", \"Perfume\", \"Perfume\", \"Perfume\", \"Perfume\", \"Perfume\", \"Perfume\", \"Perfume\", \"Perfume\", \"Perfume\", \"Perfume\", \"Perfume\", \"Perfume\", \"Perfume\", \"Perfume\", \"Perfume\", \"Perfume\", \"Perfume\", \"Perfume\", \"Perfume\", \"Perfume\"], \"xaxis\": \"x\", \"y\": [630, 4, 62, 187, 982, 635, 197, 697, 9, 28, 31, 155, 143, 98, 143, 94, 14, 265, 6, 62, 30, 5, 42, 87, 132, 94, 1000, 161, 20, 223, 93, 60, 17, 118, 23, 271, 30, 171, 34, 25, 1, 81, 34, 187, 200, 32, 7, 13, 8, 18, 29, 8, 18, 9, 22, 0, 2, 11, 2, 16, 8, 18, 19, 53, 11, 17, 7, 3, 5, 6, 2, 26, 16, 4, 6, 7, 3, 56], \"yaxis\": \"y\"}, {\"alignmentgroup\": \"True\", \"hovertemplate\": \"category=%{x}<br>number_of_reviews=%{y}<extra></extra>\", \"legendgroup\": \"Skincare\", \"marker\": {\"color\": \"#636efa\"}, \"name\": \"Skincare\", \"offsetgroup\": \"Skincare\", \"orientation\": \"v\", \"showlegend\": true, \"textposition\": \"auto\", \"type\": \"bar\", \"x\": [\"Skincare\", \"Skincare\", \"Skincare\", \"Skincare\", \"Skincare\", \"Skincare\"], \"xaxis\": \"x\", \"y\": [3000, 1000, 59, 88, 66, 35], \"yaxis\": \"y\"}, {\"alignmentgroup\": \"True\", \"hovertemplate\": \"category=%{x}<br>number_of_reviews=%{y}<extra></extra>\", \"legendgroup\": \"Moisturizer & Treatments\", \"marker\": {\"color\": \"#EF553B\"}, \"name\": \"Moisturizer & Treatments\", \"offsetgroup\": \"Moisturizer & Treatments\", \"orientation\": \"v\", \"showlegend\": true, \"textposition\": \"auto\", \"type\": \"bar\", \"x\": [\"Moisturizer & Treatments\", \"Moisturizer & Treatments\", \"Moisturizer & Treatments\", \"Moisturizer & Treatments\", \"Moisturizer & Treatments\", \"Moisturizer & Treatments\", \"Moisturizer & Treatments\", \"Moisturizer & Treatments\", \"Moisturizer & Treatments\"], \"xaxis\": \"x\", \"y\": [6, 2, 45, 39, 66, 47, 5, 1, 1], \"yaxis\": \"y\"}, {\"alignmentgroup\": \"True\", \"hovertemplate\": \"category=%{x}<br>number_of_reviews=%{y}<extra></extra>\", \"legendgroup\": \"Face Sets\", \"marker\": {\"color\": \"#00cc96\"}, \"name\": \"Face Sets\", \"offsetgroup\": \"Face Sets\", \"orientation\": \"v\", \"showlegend\": true, \"textposition\": \"auto\", \"type\": \"bar\", \"x\": [\"Face Sets\", \"Face Sets\", \"Face Sets\", \"Face Sets\", \"Face Sets\", \"Face Sets\", \"Face Sets\"], \"xaxis\": \"x\", \"y\": [6, 5, 87, 20, 15, 17, 18], \"yaxis\": \"y\"}, {\"alignmentgroup\": \"True\", \"hovertemplate\": \"category=%{x}<br>number_of_reviews=%{y}<extra></extra>\", \"legendgroup\": \"Contour\", \"marker\": {\"color\": \"#ab63fa\"}, \"name\": \"Contour\", \"offsetgroup\": \"Contour\", \"orientation\": \"v\", \"showlegend\": true, \"textposition\": \"auto\", \"type\": \"bar\", \"x\": [\"Contour\", \"Contour\", \"Contour\", \"Contour\"], \"xaxis\": \"x\", \"y\": [206, 210, 359, 126], \"yaxis\": \"y\"}, {\"alignmentgroup\": \"True\", \"hovertemplate\": \"category=%{x}<br>number_of_reviews=%{y}<extra></extra>\", \"legendgroup\": \"Face Oils\", \"marker\": {\"color\": \"#FFA15A\"}, \"name\": \"Face Oils\", \"offsetgroup\": \"Face Oils\", \"orientation\": \"v\", \"showlegend\": true, \"textposition\": \"auto\", \"type\": \"bar\", \"x\": [\"Face Oils\", \"Face Oils\", \"Face Oils\"], \"xaxis\": \"x\", \"y\": [477, 115, 2000], \"yaxis\": \"y\"}, {\"alignmentgroup\": \"True\", \"hovertemplate\": \"category=%{x}<br>number_of_reviews=%{y}<extra></extra>\", \"legendgroup\": \"Lip Balms & Treatments\", \"marker\": {\"color\": \"#19d3f3\"}, \"name\": \"Lip Balms & Treatments\", \"offsetgroup\": \"Lip Balms & Treatments\", \"orientation\": \"v\", \"showlegend\": true, \"textposition\": \"auto\", \"type\": \"bar\", \"x\": [\"Lip Balms & Treatments\", \"Lip Balms & Treatments\", \"Lip Balms & Treatments\", \"Lip Balms & Treatments\", \"Lip Balms & Treatments\", \"Lip Balms & Treatments\", \"Lip Balms & Treatments\", \"Lip Balms & Treatments\"], \"xaxis\": \"x\", \"y\": [36, 248, 167, 196, 733, 169, 127, 17], \"yaxis\": \"y\"}, {\"alignmentgroup\": \"True\", \"hovertemplate\": \"category=%{x}<br>number_of_reviews=%{y}<extra></extra>\", \"legendgroup\": \"Eyebrow\", \"marker\": {\"color\": \"#FF6692\"}, \"name\": \"Eyebrow\", \"offsetgroup\": \"Eyebrow\", \"orientation\": \"v\", \"showlegend\": true, \"textposition\": \"auto\", \"type\": \"bar\", \"x\": [\"Eyebrow\", \"Eyebrow\", \"Eyebrow\", \"Eyebrow\", \"Eyebrow\", \"Eyebrow\", \"Eyebrow\", \"Eyebrow\", \"Eyebrow\", \"Eyebrow\", \"Eyebrow\", \"Eyebrow\", \"Eyebrow\", \"Eyebrow\", \"Eyebrow\", \"Eyebrow\", \"Eyebrow\", \"Eyebrow\", \"Eyebrow\"], \"xaxis\": \"x\", \"y\": [564, 1000, 18, 3000, 28, 14, 19, 53, 31, 856, 1000, 20, 11, 1, 51, 25, 5, 21, 32], \"yaxis\": \"y\"}, {\"alignmentgroup\": \"True\", \"hovertemplate\": \"category=%{x}<br>number_of_reviews=%{y}<extra></extra>\", \"legendgroup\": \"Face Sunscreen\", \"marker\": {\"color\": \"#B6E880\"}, \"name\": \"Face Sunscreen\", \"offsetgroup\": \"Face Sunscreen\", \"orientation\": \"v\", \"showlegend\": true, \"textposition\": \"auto\", \"type\": \"bar\", \"x\": [\"Face Sunscreen\", \"Face Sunscreen\", \"Face Sunscreen\", \"Face Sunscreen\", \"Face Sunscreen\", \"Face Sunscreen\", \"Face Sunscreen\", \"Face Sunscreen\", \"Face Sunscreen\", \"Face Sunscreen\"], \"xaxis\": \"x\", \"y\": [204, 0, 470, 45, 19, 286, 12, 209, 2, 589], \"yaxis\": \"y\"}, {\"alignmentgroup\": \"True\", \"hovertemplate\": \"category=%{x}<br>number_of_reviews=%{y}<extra></extra>\", \"legendgroup\": \"Mini Size\", \"marker\": {\"color\": \"#FF97FF\"}, \"name\": \"Mini Size\", \"offsetgroup\": \"Mini Size\", \"orientation\": \"v\", \"showlegend\": true, \"textposition\": \"auto\", \"type\": \"bar\", \"x\": [\"Mini Size\", \"Mini Size\", \"Mini Size\", \"Mini Size\", \"Mini Size\", \"Mini Size\", \"Mini Size\", \"Mini Size\", \"Mini Size\", \"Mini Size\", \"Mini Size\", \"Mini Size\", \"Mini Size\", \"Mini Size\", \"Mini Size\", \"Mini Size\", \"Mini Size\"], \"xaxis\": \"x\", \"y\": [3000, 1000, 1, 7, 10, 17, 15, 1, 50, 4, 52, 18, 7, 18, 1, 2, 10], \"yaxis\": \"y\"}, {\"alignmentgroup\": \"True\", \"hovertemplate\": \"category=%{x}<br>number_of_reviews=%{y}<extra></extra>\", \"legendgroup\": \"Eye Cream\", \"marker\": {\"color\": \"#FECB52\"}, \"name\": \"Eye Cream\", \"offsetgroup\": \"Eye Cream\", \"orientation\": \"v\", \"showlegend\": true, \"textposition\": \"auto\", \"type\": \"bar\", \"x\": [\"Eye Cream\", \"Eye Cream\", \"Eye Cream\"], \"xaxis\": \"x\", \"y\": [31, 2, 5], \"yaxis\": \"y\"}, {\"alignmentgroup\": \"True\", \"hovertemplate\": \"category=%{x}<br>number_of_reviews=%{y}<extra></extra>\", \"legendgroup\": \"Face Wash\", \"marker\": {\"color\": \"#636efa\"}, \"name\": \"Face Wash\", \"offsetgroup\": \"Face Wash\", \"orientation\": \"v\", \"showlegend\": true, \"textposition\": \"auto\", \"type\": \"bar\", \"x\": [\"Face Wash\", \"Face Wash\", \"Face Wash\", \"Face Wash\", \"Face Wash\", \"Face Wash\"], \"xaxis\": \"x\", \"y\": [23, 160, 15, 7, 28, 2], \"yaxis\": \"y\"}, {\"alignmentgroup\": \"True\", \"hovertemplate\": \"category=%{x}<br>number_of_reviews=%{y}<extra></extra>\", \"legendgroup\": \"Eye Palettes\", \"marker\": {\"color\": \"#EF553B\"}, \"name\": \"Eye Palettes\", \"offsetgroup\": \"Eye Palettes\", \"orientation\": \"v\", \"showlegend\": true, \"textposition\": \"auto\", \"type\": \"bar\", \"x\": [\"Eye Palettes\", \"Eye Palettes\", \"Eye Palettes\", \"Eye Palettes\", \"Eye Palettes\", \"Eye Palettes\", \"Eye Palettes\", \"Eye Palettes\", \"Eye Palettes\", \"Eye Palettes\", \"Eye Palettes\", \"Eye Palettes\", \"Eye Palettes\", \"Eye Palettes\", \"Eye Palettes\", \"Eye Palettes\", \"Eye Palettes\", \"Eye Palettes\", \"Eye Palettes\", \"Eye Palettes\", \"Eye Palettes\", \"Eye Palettes\", \"Eye Palettes\", \"Eye Palettes\", \"Eye Palettes\", \"Eye Palettes\", \"Eye Palettes\", \"Eye Palettes\", \"Eye Palettes\", \"Eye Palettes\", \"Eye Palettes\", \"Eye Palettes\"], \"xaxis\": \"x\", \"y\": [337, 19, 0, 185, 89, 10, 262, 255, 44, 86, 8, 81, 8, 408, 3000, 2000, 813, 195, 39, 1000, 142, 351, 4, 29, 340, 28, 15, 0, 22, 4, 1, 156], \"yaxis\": \"y\"}, {\"alignmentgroup\": \"True\", \"hovertemplate\": \"category=%{x}<br>number_of_reviews=%{y}<extra></extra>\", \"legendgroup\": \"Mists & Essences\", \"marker\": {\"color\": \"#00cc96\"}, \"name\": \"Mists & Essences\", \"offsetgroup\": \"Mists & Essences\", \"orientation\": \"v\", \"showlegend\": true, \"textposition\": \"auto\", \"type\": \"bar\", \"x\": [\"Mists & Essences\", \"Mists & Essences\", \"Mists & Essences\", \"Mists & Essences\"], \"xaxis\": \"x\", \"y\": [262, 10, 6, 1000], \"yaxis\": \"y\"}, {\"alignmentgroup\": \"True\", \"hovertemplate\": \"category=%{x}<br>number_of_reviews=%{y}<extra></extra>\", \"legendgroup\": \"Body Lotions & Body Oils\", \"marker\": {\"color\": \"#ab63fa\"}, \"name\": \"Body Lotions & Body Oils\", \"offsetgroup\": \"Body Lotions & Body Oils\", \"orientation\": \"v\", \"showlegend\": true, \"textposition\": \"auto\", \"type\": \"bar\", \"x\": [\"Body Lotions & Body Oils\", \"Body Lotions & Body Oils\", \"Body Lotions & Body Oils\", \"Body Lotions & Body Oils\", \"Body Lotions & Body Oils\", \"Body Lotions & Body Oils\"], \"xaxis\": \"x\", \"y\": [228, 845, 17, 6, 17, 32], \"yaxis\": \"y\"}, {\"alignmentgroup\": \"True\", \"hovertemplate\": \"category=%{x}<br>number_of_reviews=%{y}<extra></extra>\", \"legendgroup\": \"For Face\", \"marker\": {\"color\": \"#FFA15A\"}, \"name\": \"For Face\", \"offsetgroup\": \"For Face\", \"orientation\": \"v\", \"showlegend\": true, \"textposition\": \"auto\", \"type\": \"bar\", \"x\": [\"For Face\"], \"xaxis\": \"x\", \"y\": [44], \"yaxis\": \"y\"}, {\"alignmentgroup\": \"True\", \"hovertemplate\": \"category=%{x}<br>number_of_reviews=%{y}<extra></extra>\", \"legendgroup\": \"Makeup\", \"marker\": {\"color\": \"#19d3f3\"}, \"name\": \"Makeup\", \"offsetgroup\": \"Makeup\", \"orientation\": \"v\", \"showlegend\": true, \"textposition\": \"auto\", \"type\": \"bar\", \"x\": [\"Makeup\", \"Makeup\", \"Makeup\", \"Makeup\", \"Makeup\", \"Makeup\", \"Makeup\", \"Makeup\", \"Makeup\", \"Makeup\"], \"xaxis\": \"x\", \"y\": [14, 180, 1000, 576, 1000, 402, 532, 3, 157, 81], \"yaxis\": \"y\"}, {\"alignmentgroup\": \"True\", \"hovertemplate\": \"category=%{x}<br>number_of_reviews=%{y}<extra></extra>\", \"legendgroup\": \"Bronzer\", \"marker\": {\"color\": \"#FF6692\"}, \"name\": \"Bronzer\", \"offsetgroup\": \"Bronzer\", \"orientation\": \"v\", \"showlegend\": true, \"textposition\": \"auto\", \"type\": \"bar\", \"x\": [\"Bronzer\", \"Bronzer\", \"Bronzer\", \"Bronzer\", \"Bronzer\", \"Bronzer\", \"Bronzer\", \"Bronzer\", \"Bronzer\", \"Bronzer\"], \"xaxis\": \"x\", \"y\": [241, 0, 1000, 25, 3, 22, 982, 3, 1000, 7], \"yaxis\": \"y\"}, {\"alignmentgroup\": \"True\", \"hovertemplate\": \"category=%{x}<br>number_of_reviews=%{y}<extra></extra>\", \"legendgroup\": \"Lip Gloss\", \"marker\": {\"color\": \"#B6E880\"}, \"name\": \"Lip Gloss\", \"offsetgroup\": \"Lip Gloss\", \"orientation\": \"v\", \"showlegend\": true, \"textposition\": \"auto\", \"type\": \"bar\", \"x\": [\"Lip Gloss\", \"Lip Gloss\", \"Lip Gloss\", \"Lip Gloss\", \"Lip Gloss\", \"Lip Gloss\", \"Lip Gloss\", \"Lip Gloss\", \"Lip Gloss\", \"Lip Gloss\", \"Lip Gloss\", \"Lip Gloss\", \"Lip Gloss\", \"Lip Gloss\", \"Lip Gloss\"], \"xaxis\": \"x\", \"y\": [109, 1000, 1000, 13, 3000, 555, 321, 357, 20, 291, 3, 24, 1, 147, 64], \"yaxis\": \"y\"}, {\"alignmentgroup\": \"True\", \"hovertemplate\": \"category=%{x}<br>number_of_reviews=%{y}<extra></extra>\", \"legendgroup\": \"Lip Liner\", \"marker\": {\"color\": \"#FF97FF\"}, \"name\": \"Lip Liner\", \"offsetgroup\": \"Lip Liner\", \"orientation\": \"v\", \"showlegend\": true, \"textposition\": \"auto\", \"type\": \"bar\", \"x\": [\"Lip Liner\", \"Lip Liner\", \"Lip Liner\", \"Lip Liner\", \"Lip Liner\", \"Lip Liner\", \"Lip Liner\"], \"xaxis\": \"x\", \"y\": [260, 19, 810, 570, 316, 5, 337], \"yaxis\": \"y\"}, {\"alignmentgroup\": \"True\", \"hovertemplate\": \"category=%{x}<br>number_of_reviews=%{y}<extra></extra>\", \"legendgroup\": \"Highlighter\", \"marker\": {\"color\": \"#FECB52\"}, \"name\": \"Highlighter\", \"offsetgroup\": \"Highlighter\", \"orientation\": \"v\", \"showlegend\": true, \"textposition\": \"auto\", \"type\": \"bar\", \"x\": [\"Highlighter\", \"Highlighter\", \"Highlighter\", \"Highlighter\", \"Highlighter\", \"Highlighter\", \"Highlighter\", \"Highlighter\", \"Highlighter\", \"Highlighter\", \"Highlighter\", \"Highlighter\", \"Highlighter\", \"Highlighter\", \"Highlighter\", \"Highlighter\", \"Highlighter\", \"Highlighter\", \"Highlighter\", \"Highlighter\", \"Highlighter\", \"Highlighter\"], \"xaxis\": \"x\", \"y\": [227, 0, 435, 18, 27, 538, 398, 51, 505, 330, 151, 15, 77, 25, 20, 5, 24, 32, 4, 38, 35, 34], \"yaxis\": \"y\"}, {\"alignmentgroup\": \"True\", \"hovertemplate\": \"category=%{x}<br>number_of_reviews=%{y}<extra></extra>\", \"legendgroup\": \"Eyeshadow\", \"marker\": {\"color\": \"#636efa\"}, \"name\": \"Eyeshadow\", \"offsetgroup\": \"Eyeshadow\", \"orientation\": \"v\", \"showlegend\": true, \"textposition\": \"auto\", \"type\": \"bar\", \"x\": [\"Eyeshadow\", \"Eyeshadow\", \"Eyeshadow\", \"Eyeshadow\", \"Eyeshadow\", \"Eyeshadow\", \"Eyeshadow\", \"Eyeshadow\", \"Eyeshadow\", \"Eyeshadow\"], \"xaxis\": \"x\", \"y\": [133, 47, 1000, 112, 364, 89, 167, 79, 16, 3], \"yaxis\": \"y\"}, {\"alignmentgroup\": \"True\", \"hovertemplate\": \"category=%{x}<br>number_of_reviews=%{y}<extra></extra>\", \"legendgroup\": \"Aftershave\", \"marker\": {\"color\": \"#EF553B\"}, \"name\": \"Aftershave\", \"offsetgroup\": \"Aftershave\", \"orientation\": \"v\", \"showlegend\": true, \"textposition\": \"auto\", \"type\": \"bar\", \"x\": [\"Aftershave\", \"Aftershave\", \"Aftershave\", \"Aftershave\", \"Aftershave\"], \"xaxis\": \"x\", \"y\": [41, 3, 20, 9, 6], \"yaxis\": \"y\"}, {\"alignmentgroup\": \"True\", \"hovertemplate\": \"category=%{x}<br>number_of_reviews=%{y}<extra></extra>\", \"legendgroup\": \"Scrub & Exfoliants\", \"marker\": {\"color\": \"#00cc96\"}, \"name\": \"Scrub & Exfoliants\", \"offsetgroup\": \"Scrub & Exfoliants\", \"orientation\": \"v\", \"showlegend\": true, \"textposition\": \"auto\", \"type\": \"bar\", \"x\": [\"Scrub & Exfoliants\", \"Scrub & Exfoliants\", \"Scrub & Exfoliants\", \"Scrub & Exfoliants\"], \"xaxis\": \"x\", \"y\": [142, 163, 6, 39], \"yaxis\": \"y\"}, {\"alignmentgroup\": \"True\", \"hovertemplate\": \"category=%{x}<br>number_of_reviews=%{y}<extra></extra>\", \"legendgroup\": \"Facial Cleansing Brushes\", \"marker\": {\"color\": \"#ab63fa\"}, \"name\": \"Facial Cleansing Brushes\", \"offsetgroup\": \"Facial Cleansing Brushes\", \"orientation\": \"v\", \"showlegend\": true, \"textposition\": \"auto\", \"type\": \"bar\", \"x\": [\"Facial Cleansing Brushes\", \"Facial Cleansing Brushes\", \"Facial Cleansing Brushes\", \"Facial Cleansing Brushes\", \"Facial Cleansing Brushes\"], \"xaxis\": \"x\", \"y\": [17, 12, 2000, 339, 0], \"yaxis\": \"y\"}, {\"alignmentgroup\": \"True\", \"hovertemplate\": \"category=%{x}<br>number_of_reviews=%{y}<extra></extra>\", \"legendgroup\": \"Face Primer\", \"marker\": {\"color\": \"#FFA15A\"}, \"name\": \"Face Primer\", \"offsetgroup\": \"Face Primer\", \"orientation\": \"v\", \"showlegend\": true, \"textposition\": \"auto\", \"type\": \"bar\", \"x\": [\"Face Primer\", \"Face Primer\", \"Face Primer\", \"Face Primer\", \"Face Primer\", \"Face Primer\", \"Face Primer\", \"Face Primer\", \"Face Primer\", \"Face Primer\", \"Face Primer\", \"Face Primer\", \"Face Primer\", \"Face Primer\", \"Face Primer\", \"Face Primer\"], \"xaxis\": \"x\", \"y\": [171, 300, 107, 113, 39, 95, 378, 98, 1000, 756, 161, 703, 10, 17, 17, 596], \"yaxis\": \"y\"}, {\"alignmentgroup\": \"True\", \"hovertemplate\": \"category=%{x}<br>number_of_reviews=%{y}<extra></extra>\", \"legendgroup\": \"Cologne\", \"marker\": {\"color\": \"#19d3f3\"}, \"name\": \"Cologne\", \"offsetgroup\": \"Cologne\", \"orientation\": \"v\", \"showlegend\": true, \"textposition\": \"auto\", \"type\": \"bar\", \"x\": [\"Cologne\", \"Cologne\", \"Cologne\", \"Cologne\", \"Cologne\", \"Cologne\", \"Cologne\", \"Cologne\", \"Cologne\", \"Cologne\", \"Cologne\", \"Cologne\", \"Cologne\", \"Cologne\", \"Cologne\", \"Cologne\", \"Cologne\", \"Cologne\", \"Cologne\"], \"xaxis\": \"x\", \"y\": [78, 346, 79, 9, 95, 27, 68, 12, 60, 11, 62, 1, 85, 1, 4, 2, 1, 12, 5], \"yaxis\": \"y\"}, {\"alignmentgroup\": \"True\", \"hovertemplate\": \"category=%{x}<br>number_of_reviews=%{y}<extra></extra>\", \"legendgroup\": \"Perfume Gift Sets\", \"marker\": {\"color\": \"#FF6692\"}, \"name\": \"Perfume Gift Sets\", \"offsetgroup\": \"Perfume Gift Sets\", \"orientation\": \"v\", \"showlegend\": true, \"textposition\": \"auto\", \"type\": \"bar\", \"x\": [\"Perfume Gift Sets\", \"Perfume Gift Sets\", \"Perfume Gift Sets\", \"Perfume Gift Sets\", \"Perfume Gift Sets\", \"Perfume Gift Sets\"], \"xaxis\": \"x\", \"y\": [0, 0, 0, 0, 0, 0], \"yaxis\": \"y\"}, {\"alignmentgroup\": \"True\", \"hovertemplate\": \"category=%{x}<br>number_of_reviews=%{y}<extra></extra>\", \"legendgroup\": \"Decollete & Neck Creams\", \"marker\": {\"color\": \"#B6E880\"}, \"name\": \"Decollete & Neck Creams\", \"offsetgroup\": \"Decollete & Neck Creams\", \"orientation\": \"v\", \"showlegend\": true, \"textposition\": \"auto\", \"type\": \"bar\", \"x\": [\"Decollete & Neck Creams\", \"Decollete & Neck Creams\"], \"xaxis\": \"x\", \"y\": [9, 110], \"yaxis\": \"y\"}, {\"alignmentgroup\": \"True\", \"hovertemplate\": \"category=%{x}<br>number_of_reviews=%{y}<extra></extra>\", \"legendgroup\": \"Tinted Moisturizer\", \"marker\": {\"color\": \"#FF97FF\"}, \"name\": \"Tinted Moisturizer\", \"offsetgroup\": \"Tinted Moisturizer\", \"orientation\": \"v\", \"showlegend\": true, \"textposition\": \"auto\", \"type\": \"bar\", \"x\": [\"Tinted Moisturizer\", \"Tinted Moisturizer\", \"Tinted Moisturizer\", \"Tinted Moisturizer\"], \"xaxis\": \"x\", \"y\": [0, 239, 16, 0], \"yaxis\": \"y\"}, {\"alignmentgroup\": \"True\", \"hovertemplate\": \"category=%{x}<br>number_of_reviews=%{y}<extra></extra>\", \"legendgroup\": \"Rollerballs & Travel Size\", \"marker\": {\"color\": \"#FECB52\"}, \"name\": \"Rollerballs & Travel Size\", \"offsetgroup\": \"Rollerballs & Travel Size\", \"orientation\": \"v\", \"showlegend\": true, \"textposition\": \"auto\", \"type\": \"bar\", \"x\": [\"Rollerballs & Travel Size\", \"Rollerballs & Travel Size\", \"Rollerballs & Travel Size\", \"Rollerballs & Travel Size\", \"Rollerballs & Travel Size\", \"Rollerballs & Travel Size\", \"Rollerballs & Travel Size\", \"Rollerballs & Travel Size\", \"Rollerballs & Travel Size\", \"Rollerballs & Travel Size\", \"Rollerballs & Travel Size\", \"Rollerballs & Travel Size\"], \"xaxis\": \"x\", \"y\": [37, 41, 27, 15, 22, 27, 38, 19, 14, 24, 0, 37], \"yaxis\": \"y\"}, {\"alignmentgroup\": \"True\", \"hovertemplate\": \"category=%{x}<br>number_of_reviews=%{y}<extra></extra>\", \"legendgroup\": \"Skincare Sets\", \"marker\": {\"color\": \"#636efa\"}, \"name\": \"Skincare Sets\", \"offsetgroup\": \"Skincare Sets\", \"orientation\": \"v\", \"showlegend\": true, \"textposition\": \"auto\", \"type\": \"bar\", \"x\": [\"Skincare Sets\", \"Skincare Sets\", \"Skincare Sets\", \"Skincare Sets\", \"Skincare Sets\", \"Skincare Sets\", \"Skincare Sets\"], \"xaxis\": \"x\", \"y\": [2, 3, 2, 0, 0, 0, 0], \"yaxis\": \"y\"}, {\"alignmentgroup\": \"True\", \"hovertemplate\": \"category=%{x}<br>number_of_reviews=%{y}<extra></extra>\", \"legendgroup\": \"Night Creams\", \"marker\": {\"color\": \"#EF553B\"}, \"name\": \"Night Creams\", \"offsetgroup\": \"Night Creams\", \"orientation\": \"v\", \"showlegend\": true, \"textposition\": \"auto\", \"type\": \"bar\", \"x\": [\"Night Creams\", \"Night Creams\"], \"xaxis\": \"x\", \"y\": [33, 143], \"yaxis\": \"y\"}, {\"alignmentgroup\": \"True\", \"hovertemplate\": \"category=%{x}<br>number_of_reviews=%{y}<extra></extra>\", \"legendgroup\": \"Self Tanners\", \"marker\": {\"color\": \"#00cc96\"}, \"name\": \"Self Tanners\", \"offsetgroup\": \"Self Tanners\", \"orientation\": \"v\", \"showlegend\": true, \"textposition\": \"auto\", \"type\": \"bar\", \"x\": [\"Self Tanners\", \"Self Tanners\", \"Self Tanners\"], \"xaxis\": \"x\", \"y\": [52, 969, 417], \"yaxis\": \"y\"}, {\"alignmentgroup\": \"True\", \"hovertemplate\": \"category=%{x}<br>number_of_reviews=%{y}<extra></extra>\", \"legendgroup\": \"Deodorant & Antiperspirant\", \"marker\": {\"color\": \"#ab63fa\"}, \"name\": \"Deodorant & Antiperspirant\", \"offsetgroup\": \"Deodorant & Antiperspirant\", \"orientation\": \"v\", \"showlegend\": true, \"textposition\": \"auto\", \"type\": \"bar\", \"x\": [\"Deodorant & Antiperspirant\", \"Deodorant & Antiperspirant\"], \"xaxis\": \"x\", \"y\": [35, 453], \"yaxis\": \"y\"}, {\"alignmentgroup\": \"True\", \"hovertemplate\": \"category=%{x}<br>number_of_reviews=%{y}<extra></extra>\", \"legendgroup\": \"Shaving\", \"marker\": {\"color\": \"#FFA15A\"}, \"name\": \"Shaving\", \"offsetgroup\": \"Shaving\", \"orientation\": \"v\", \"showlegend\": true, \"textposition\": \"auto\", \"type\": \"bar\", \"x\": [\"Shaving\", \"Shaving\", \"Shaving\", \"Shaving\"], \"xaxis\": \"x\", \"y\": [35, 37, 2, 0], \"yaxis\": \"y\"}, {\"alignmentgroup\": \"True\", \"hovertemplate\": \"category=%{x}<br>number_of_reviews=%{y}<extra></extra>\", \"legendgroup\": \"Color Correct\", \"marker\": {\"color\": \"#19d3f3\"}, \"name\": \"Color Correct\", \"offsetgroup\": \"Color Correct\", \"orientation\": \"v\", \"showlegend\": true, \"textposition\": \"auto\", \"type\": \"bar\", \"x\": [\"Color Correct\", \"Color Correct\"], \"xaxis\": \"x\", \"y\": [14, 896], \"yaxis\": \"y\"}, {\"alignmentgroup\": \"True\", \"hovertemplate\": \"category=%{x}<br>number_of_reviews=%{y}<extra></extra>\", \"legendgroup\": \"Makeup Palettes\", \"marker\": {\"color\": \"#FF6692\"}, \"name\": \"Makeup Palettes\", \"offsetgroup\": \"Makeup Palettes\", \"orientation\": \"v\", \"showlegend\": true, \"textposition\": \"auto\", \"type\": \"bar\", \"x\": [\"Makeup Palettes\", \"Makeup Palettes\", \"Makeup Palettes\", \"Makeup Palettes\", \"Makeup Palettes\", \"Makeup Palettes\", \"Makeup Palettes\", \"Makeup Palettes\", \"Makeup Palettes\", \"Makeup Palettes\", \"Makeup Palettes\", \"Makeup Palettes\", \"Makeup Palettes\"], \"xaxis\": \"x\", \"y\": [687, 54, 3, 65, 30, 76, 40, 26, 859, 199, 24, 21, 23], \"yaxis\": \"y\"}, {\"alignmentgroup\": \"True\", \"hovertemplate\": \"category=%{x}<br>number_of_reviews=%{y}<extra></extra>\", \"legendgroup\": \"Eye Sets\", \"marker\": {\"color\": \"#B6E880\"}, \"name\": \"Eye Sets\", \"offsetgroup\": \"Eye Sets\", \"orientation\": \"v\", \"showlegend\": true, \"textposition\": \"auto\", \"type\": \"bar\", \"x\": [\"Eye Sets\", \"Eye Sets\", \"Eye Sets\", \"Eye Sets\", \"Eye Sets\", \"Eye Sets\", \"Eye Sets\"], \"xaxis\": \"x\", \"y\": [2, 26, 40, 52, 8, 2, 1], \"yaxis\": \"y\"}, {\"alignmentgroup\": \"True\", \"hovertemplate\": \"category=%{x}<br>number_of_reviews=%{y}<extra></extra>\", \"legendgroup\": \"BB & CC Creams\", \"marker\": {\"color\": \"#FF97FF\"}, \"name\": \"BB & CC Creams\", \"offsetgroup\": \"BB & CC Creams\", \"orientation\": \"v\", \"showlegend\": true, \"textposition\": \"auto\", \"type\": \"bar\", \"x\": [\"BB & CC Creams\", \"BB & CC Creams\"], \"xaxis\": \"x\", \"y\": [149, 25], \"yaxis\": \"y\"}, {\"alignmentgroup\": \"True\", \"hovertemplate\": \"category=%{x}<br>number_of_reviews=%{y}<extra></extra>\", \"legendgroup\": \"Lip Stain\", \"marker\": {\"color\": \"#FECB52\"}, \"name\": \"Lip Stain\", \"offsetgroup\": \"Lip Stain\", \"orientation\": \"v\", \"showlegend\": true, \"textposition\": \"auto\", \"type\": \"bar\", \"x\": [\"Lip Stain\", \"Lip Stain\", \"Lip Stain\", \"Lip Stain\", \"Lip Stain\"], \"xaxis\": \"x\", \"y\": [397, 444, 94, 275, 205], \"yaxis\": \"y\"}, {\"alignmentgroup\": \"True\", \"hovertemplate\": \"category=%{x}<br>number_of_reviews=%{y}<extra></extra>\", \"legendgroup\": \"Fragrance\", \"marker\": {\"color\": \"#636efa\"}, \"name\": \"Fragrance\", \"offsetgroup\": \"Fragrance\", \"orientation\": \"v\", \"showlegend\": true, \"textposition\": \"auto\", \"type\": \"bar\", \"x\": [\"Fragrance\", \"Fragrance\"], \"xaxis\": \"x\", \"y\": [2, 0], \"yaxis\": \"y\"}, {\"alignmentgroup\": \"True\", \"hovertemplate\": \"category=%{x}<br>number_of_reviews=%{y}<extra></extra>\", \"legendgroup\": \"Body Sprays & Deodorant\", \"marker\": {\"color\": \"#EF553B\"}, \"name\": \"Body Sprays & Deodorant\", \"offsetgroup\": \"Body Sprays & Deodorant\", \"orientation\": \"v\", \"showlegend\": true, \"textposition\": \"auto\", \"type\": \"bar\", \"x\": [\"Body Sprays & Deodorant\", \"Body Sprays & Deodorant\", \"Body Sprays & Deodorant\", \"Body Sprays & Deodorant\", \"Body Sprays & Deodorant\", \"Body Sprays & Deodorant\"], \"xaxis\": \"x\", \"y\": [12, 16, 0, 7, 13, 9], \"yaxis\": \"y\"}, {\"alignmentgroup\": \"True\", \"hovertemplate\": \"category=%{x}<br>number_of_reviews=%{y}<extra></extra>\", \"legendgroup\": \"Liquid Lipstick\", \"marker\": {\"color\": \"#00cc96\"}, \"name\": \"Liquid Lipstick\", \"offsetgroup\": \"Liquid Lipstick\", \"orientation\": \"v\", \"showlegend\": true, \"textposition\": \"auto\", \"type\": \"bar\", \"x\": [\"Liquid Lipstick\", \"Liquid Lipstick\", \"Liquid Lipstick\"], \"xaxis\": \"x\", \"y\": [42, 25, 45], \"yaxis\": \"y\"}, {\"alignmentgroup\": \"True\", \"hovertemplate\": \"category=%{x}<br>number_of_reviews=%{y}<extra></extra>\", \"legendgroup\": \"Face Brushes\", \"marker\": {\"color\": \"#ab63fa\"}, \"name\": \"Face Brushes\", \"offsetgroup\": \"Face Brushes\", \"orientation\": \"v\", \"showlegend\": true, \"textposition\": \"auto\", \"type\": \"bar\", \"x\": [\"Face Brushes\", \"Face Brushes\", \"Face Brushes\", \"Face Brushes\", \"Face Brushes\", \"Face Brushes\", \"Face Brushes\", \"Face Brushes\", \"Face Brushes\", \"Face Brushes\", \"Face Brushes\", \"Face Brushes\", \"Face Brushes\", \"Face Brushes\", \"Face Brushes\", \"Face Brushes\", \"Face Brushes\", \"Face Brushes\", \"Face Brushes\", \"Face Brushes\", \"Face Brushes\", \"Face Brushes\", \"Face Brushes\", \"Face Brushes\", \"Face Brushes\", \"Face Brushes\", \"Face Brushes\", \"Face Brushes\", \"Face Brushes\", \"Face Brushes\", \"Face Brushes\", \"Face Brushes\", \"Face Brushes\", \"Face Brushes\", \"Face Brushes\", \"Face Brushes\", \"Face Brushes\", \"Face Brushes\", \"Face Brushes\", \"Face Brushes\", \"Face Brushes\", \"Face Brushes\", \"Face Brushes\", \"Face Brushes\", \"Face Brushes\", \"Face Brushes\", \"Face Brushes\", \"Face Brushes\", \"Face Brushes\", \"Face Brushes\", \"Face Brushes\", \"Face Brushes\", \"Face Brushes\", \"Face Brushes\", \"Face Brushes\", \"Face Brushes\", \"Face Brushes\"], \"xaxis\": \"x\", \"y\": [40, 89, 58, 93, 52, 164, 1000, 2, 62, 17, 269, 99, 987, 232, 40, 43, 33, 81, 103, 679, 1000, 4, 438, 0, 89, 27, 106, 64, 30, 17, 10, 9, 70, 57, 0, 1, 65, 18, 0, 0, 9, 1, 10, 19, 101, 0, 100, 271, 7, 289, 146, 183, 239, 44, 208, 56, 116], \"yaxis\": \"y\"}, {\"alignmentgroup\": \"True\", \"hovertemplate\": \"category=%{x}<br>number_of_reviews=%{y}<extra></extra>\", \"legendgroup\": \"Lotions & Oils\", \"marker\": {\"color\": \"#FFA15A\"}, \"name\": \"Lotions & Oils\", \"offsetgroup\": \"Lotions & Oils\", \"orientation\": \"v\", \"showlegend\": true, \"textposition\": \"auto\", \"type\": \"bar\", \"x\": [\"Lotions & Oils\", \"Lotions & Oils\", \"Lotions & Oils\", \"Lotions & Oils\", \"Lotions & Oils\", \"Lotions & Oils\", \"Lotions & Oils\", \"Lotions & Oils\", \"Lotions & Oils\", \"Lotions & Oils\", \"Lotions & Oils\"], \"xaxis\": \"x\", \"y\": [23, 6, 7, 3, 132, 132, 25, 7, 4, 43, 14], \"yaxis\": \"y\"}, {\"alignmentgroup\": \"True\", \"hovertemplate\": \"category=%{x}<br>number_of_reviews=%{y}<extra></extra>\", \"legendgroup\": \"Body Mist & Hair Mist\", \"marker\": {\"color\": \"#19d3f3\"}, \"name\": \"Body Mist & Hair Mist\", \"offsetgroup\": \"Body Mist & Hair Mist\", \"orientation\": \"v\", \"showlegend\": true, \"textposition\": \"auto\", \"type\": \"bar\", \"x\": [\"Body Mist & Hair Mist\", \"Body Mist & Hair Mist\", \"Body Mist & Hair Mist\", \"Body Mist & Hair Mist\", \"Body Mist & Hair Mist\", \"Body Mist & Hair Mist\", \"Body Mist & Hair Mist\", \"Body Mist & Hair Mist\", \"Body Mist & Hair Mist\", \"Body Mist & Hair Mist\", \"Body Mist & Hair Mist\"], \"xaxis\": \"x\", \"y\": [1, 40, 2, 3, 32, 27, 7, 3, 9, 3, 0], \"yaxis\": \"y\"}, {\"alignmentgroup\": \"True\", \"hovertemplate\": \"category=%{x}<br>number_of_reviews=%{y}<extra></extra>\", \"legendgroup\": \"Facial Peels\", \"marker\": {\"color\": \"#FF6692\"}, \"name\": \"Facial Peels\", \"offsetgroup\": \"Facial Peels\", \"orientation\": \"v\", \"showlegend\": true, \"textposition\": \"auto\", \"type\": \"bar\", \"x\": [\"Facial Peels\", \"Facial Peels\", \"Facial Peels\", \"Facial Peels\", \"Facial Peels\"], \"xaxis\": \"x\", \"y\": [7, 8, 272, 40, 9], \"yaxis\": \"y\"}, {\"alignmentgroup\": \"True\", \"hovertemplate\": \"category=%{x}<br>number_of_reviews=%{y}<extra></extra>\", \"legendgroup\": \"Bath & Shower\", \"marker\": {\"color\": \"#B6E880\"}, \"name\": \"Bath & Shower\", \"offsetgroup\": \"Bath & Shower\", \"orientation\": \"v\", \"showlegend\": true, \"textposition\": \"auto\", \"type\": \"bar\", \"x\": [\"Bath & Shower\", \"Bath & Shower\", \"Bath & Shower\", \"Bath & Shower\", \"Bath & Shower\", \"Bath & Shower\", \"Bath & Shower\", \"Bath & Shower\", \"Bath & Shower\", \"Bath & Shower\", \"Bath & Shower\"], \"xaxis\": \"x\", \"y\": [24, 6, 0, 6, 12, 2, 1, 1, 23, 2, 0], \"yaxis\": \"y\"}, {\"alignmentgroup\": \"True\", \"hovertemplate\": \"category=%{x}<br>number_of_reviews=%{y}<extra></extra>\", \"legendgroup\": \"Eyelash Curlers\", \"marker\": {\"color\": \"#FF97FF\"}, \"name\": \"Eyelash Curlers\", \"offsetgroup\": \"Eyelash Curlers\", \"orientation\": \"v\", \"showlegend\": true, \"textposition\": \"auto\", \"type\": \"bar\", \"x\": [\"Eyelash Curlers\", \"Eyelash Curlers\", \"Eyelash Curlers\", \"Eyelash Curlers\"], \"xaxis\": \"x\", \"y\": [6, 355, 217, 90], \"yaxis\": \"y\"}, {\"alignmentgroup\": \"True\", \"hovertemplate\": \"category=%{x}<br>number_of_reviews=%{y}<extra></extra>\", \"legendgroup\": \"Face Wipes\", \"marker\": {\"color\": \"#FECB52\"}, \"name\": \"Face Wipes\", \"offsetgroup\": \"Face Wipes\", \"orientation\": \"v\", \"showlegend\": true, \"textposition\": \"auto\", \"type\": \"bar\", \"x\": [\"Face Wipes\", \"Face Wipes\", \"Face Wipes\", \"Face Wipes\", \"Face Wipes\", \"Face Wipes\", \"Face Wipes\", \"Face Wipes\", \"Face Wipes\", \"Face Wipes\", \"Face Wipes\", \"Face Wipes\", \"Face Wipes\", \"Face Wipes\", \"Face Wipes\", \"Face Wipes\"], \"xaxis\": \"x\", \"y\": [3000, 81, 7, 70, 20, 4, 7, 79, 9, 98, 9, 61, 13, 4, 26, 3], \"yaxis\": \"y\"}, {\"alignmentgroup\": \"True\", \"hovertemplate\": \"category=%{x}<br>number_of_reviews=%{y}<extra></extra>\", \"legendgroup\": \"Brush Sets\", \"marker\": {\"color\": \"#636efa\"}, \"name\": \"Brush Sets\", \"offsetgroup\": \"Brush Sets\", \"orientation\": \"v\", \"showlegend\": true, \"textposition\": \"auto\", \"type\": \"bar\", \"x\": [\"Brush Sets\", \"Brush Sets\", \"Brush Sets\", \"Brush Sets\", \"Brush Sets\", \"Brush Sets\", \"Brush Sets\", \"Brush Sets\", \"Brush Sets\", \"Brush Sets\", \"Brush Sets\", \"Brush Sets\", \"Brush Sets\", \"Brush Sets\"], \"xaxis\": \"x\", \"y\": [356, 310, 5, 17, 11, 34, 1, 9, 23, 8, 7, 44, 166, 62], \"yaxis\": \"y\"}, {\"alignmentgroup\": \"True\", \"hovertemplate\": \"category=%{x}<br>number_of_reviews=%{y}<extra></extra>\", \"legendgroup\": \"False Eyelashes\", \"marker\": {\"color\": \"#EF553B\"}, \"name\": \"False Eyelashes\", \"offsetgroup\": \"False Eyelashes\", \"orientation\": \"v\", \"showlegend\": true, \"textposition\": \"auto\", \"type\": \"bar\", \"x\": [\"False Eyelashes\", \"False Eyelashes\", \"False Eyelashes\", \"False Eyelashes\", \"False Eyelashes\", \"False Eyelashes\", \"False Eyelashes\", \"False Eyelashes\", \"False Eyelashes\", \"False Eyelashes\", \"False Eyelashes\", \"False Eyelashes\", \"False Eyelashes\", \"False Eyelashes\", \"False Eyelashes\", \"False Eyelashes\", \"False Eyelashes\", \"False Eyelashes\", \"False Eyelashes\", \"False Eyelashes\"], \"xaxis\": \"x\", \"y\": [785, 173, 889, 473, 2, 852, 130, 11, 301, 24, 85, 315, 23, 392, 174, 29, 8, 13, 11, 3], \"yaxis\": \"y\"}, {\"alignmentgroup\": \"True\", \"hovertemplate\": \"category=%{x}<br>number_of_reviews=%{y}<extra></extra>\", \"legendgroup\": \"Eye Masks\", \"marker\": {\"color\": \"#00cc96\"}, \"name\": \"Eye Masks\", \"offsetgroup\": \"Eye Masks\", \"orientation\": \"v\", \"showlegend\": true, \"textposition\": \"auto\", \"type\": \"bar\", \"x\": [\"Eye Masks\", \"Eye Masks\", \"Eye Masks\", \"Eye Masks\", \"Eye Masks\", \"Eye Masks\"], \"xaxis\": \"x\", \"y\": [827, 31, 1, 10, 263, 3], \"yaxis\": \"y\"}, {\"alignmentgroup\": \"True\", \"hovertemplate\": \"category=%{x}<br>number_of_reviews=%{y}<extra></extra>\", \"legendgroup\": \"Sheet Masks\", \"marker\": {\"color\": \"#ab63fa\"}, \"name\": \"Sheet Masks\", \"offsetgroup\": \"Sheet Masks\", \"orientation\": \"v\", \"showlegend\": true, \"textposition\": \"auto\", \"type\": \"bar\", \"x\": [\"Sheet Masks\", \"Sheet Masks\", \"Sheet Masks\", \"Sheet Masks\", \"Sheet Masks\", \"Sheet Masks\", \"Sheet Masks\", \"Sheet Masks\", \"Sheet Masks\", \"Sheet Masks\"], \"xaxis\": \"x\", \"y\": [137, 102, 48, 0, 17, 14, 2, 1000, 86, 17], \"yaxis\": \"y\"}, {\"alignmentgroup\": \"True\", \"hovertemplate\": \"category=%{x}<br>number_of_reviews=%{y}<extra></extra>\", \"legendgroup\": \"Hand Cream & Foot Cream\", \"marker\": {\"color\": \"#FFA15A\"}, \"name\": \"Hand Cream & Foot Cream\", \"offsetgroup\": \"Hand Cream & Foot Cream\", \"orientation\": \"v\", \"showlegend\": true, \"textposition\": \"auto\", \"type\": \"bar\", \"x\": [\"Hand Cream & Foot Cream\", \"Hand Cream & Foot Cream\", \"Hand Cream & Foot Cream\"], \"xaxis\": \"x\", \"y\": [956, 203, 394], \"yaxis\": \"y\"}, {\"alignmentgroup\": \"True\", \"hovertemplate\": \"category=%{x}<br>number_of_reviews=%{y}<extra></extra>\", \"legendgroup\": \"Hair Removal\", \"marker\": {\"color\": \"#19d3f3\"}, \"name\": \"Hair Removal\", \"offsetgroup\": \"Hair Removal\", \"orientation\": \"v\", \"showlegend\": true, \"textposition\": \"auto\", \"type\": \"bar\", \"x\": [\"Hair Removal\", \"Hair Removal\"], \"xaxis\": \"x\", \"y\": [408, 143], \"yaxis\": \"y\"}, {\"alignmentgroup\": \"True\", \"hovertemplate\": \"category=%{x}<br>number_of_reviews=%{y}<extra></extra>\", \"legendgroup\": \"Eye Brushes\", \"marker\": {\"color\": \"#FF6692\"}, \"name\": \"Eye Brushes\", \"offsetgroup\": \"Eye Brushes\", \"orientation\": \"v\", \"showlegend\": true, \"textposition\": \"auto\", \"type\": \"bar\", \"x\": [\"Eye Brushes\", \"Eye Brushes\", \"Eye Brushes\", \"Eye Brushes\", \"Eye Brushes\", \"Eye Brushes\", \"Eye Brushes\", \"Eye Brushes\", \"Eye Brushes\", \"Eye Brushes\", \"Eye Brushes\", \"Eye Brushes\", \"Eye Brushes\", \"Eye Brushes\", \"Eye Brushes\", \"Eye Brushes\", \"Eye Brushes\", \"Eye Brushes\", \"Eye Brushes\", \"Eye Brushes\", \"Eye Brushes\", \"Eye Brushes\", \"Eye Brushes\", \"Eye Brushes\", \"Eye Brushes\", \"Eye Brushes\", \"Eye Brushes\", \"Eye Brushes\", \"Eye Brushes\", \"Eye Brushes\", \"Eye Brushes\"], \"xaxis\": \"x\", \"y\": [132, 128, 22, 1, 41, 21, 265, 3, 2, 3, 2, 1, 61, 223, 7, 0, 0, 54, 1, 49, 0, 16, 0, 1, 0, 72, 72, 0, 18, 25, 83], \"yaxis\": \"y\"}, {\"alignmentgroup\": \"True\", \"hovertemplate\": \"category=%{x}<br>number_of_reviews=%{y}<extra></extra>\", \"legendgroup\": \"Facial Rollers\", \"marker\": {\"color\": \"#B6E880\"}, \"name\": \"Facial Rollers\", \"offsetgroup\": \"Facial Rollers\", \"orientation\": \"v\", \"showlegend\": true, \"textposition\": \"auto\", \"type\": \"bar\", \"x\": [\"Facial Rollers\", \"Facial Rollers\", \"Facial Rollers\", \"Facial Rollers\", \"Facial Rollers\", \"Facial Rollers\", \"Facial Rollers\"], \"xaxis\": \"x\", \"y\": [19, 10, 13, 6, 28, 56, 61], \"yaxis\": \"y\"}, {\"alignmentgroup\": \"True\", \"hovertemplate\": \"category=%{x}<br>number_of_reviews=%{y}<extra></extra>\", \"legendgroup\": \"Lip Sets\", \"marker\": {\"color\": \"#FF97FF\"}, \"name\": \"Lip Sets\", \"offsetgroup\": \"Lip Sets\", \"orientation\": \"v\", \"showlegend\": true, \"textposition\": \"auto\", \"type\": \"bar\", \"x\": [\"Lip Sets\", \"Lip Sets\", \"Lip Sets\", \"Lip Sets\", \"Lip Sets\", \"Lip Sets\"], \"xaxis\": \"x\", \"y\": [14, 17, 16, 2, 18, 0], \"yaxis\": \"y\"}, {\"alignmentgroup\": \"True\", \"hovertemplate\": \"category=%{x}<br>number_of_reviews=%{y}<extra></extra>\", \"legendgroup\": \"Beauty Supplements\", \"marker\": {\"color\": \"#FECB52\"}, \"name\": \"Beauty Supplements\", \"offsetgroup\": \"Beauty Supplements\", \"orientation\": \"v\", \"showlegend\": true, \"textposition\": \"auto\", \"type\": \"bar\", \"x\": [\"Beauty Supplements\", \"Beauty Supplements\", \"Beauty Supplements\", \"Beauty Supplements\", \"Beauty Supplements\", \"Beauty Supplements\", \"Beauty Supplements\", \"Beauty Supplements\", \"Beauty Supplements\", \"Beauty Supplements\", \"Beauty Supplements\", \"Beauty Supplements\", \"Beauty Supplements\"], \"xaxis\": \"x\", \"y\": [59, 54, 9, 65, 7, 5, 60, 19, 1, 2, 0, 0, 0], \"yaxis\": \"y\"}, {\"alignmentgroup\": \"True\", \"hovertemplate\": \"category=%{x}<br>number_of_reviews=%{y}<extra></extra>\", \"legendgroup\": \"Hair Masks\", \"marker\": {\"color\": \"#636efa\"}, \"name\": \"Hair Masks\", \"offsetgroup\": \"Hair Masks\", \"orientation\": \"v\", \"showlegend\": true, \"textposition\": \"auto\", \"type\": \"bar\", \"x\": [\"Hair Masks\"], \"xaxis\": \"x\", \"y\": [529], \"yaxis\": \"y\"}, {\"alignmentgroup\": \"True\", \"hovertemplate\": \"category=%{x}<br>number_of_reviews=%{y}<extra></extra>\", \"legendgroup\": \"Nail\", \"marker\": {\"color\": \"#EF553B\"}, \"name\": \"Nail\", \"offsetgroup\": \"Nail\", \"orientation\": \"v\", \"showlegend\": true, \"textposition\": \"auto\", \"type\": \"bar\", \"x\": [\"Nail\", \"Nail\", \"Nail\", \"Nail\", \"Nail\", \"Nail\"], \"xaxis\": \"x\", \"y\": [168, 163, 12, 636, 12, 57], \"yaxis\": \"y\"}, {\"alignmentgroup\": \"True\", \"hovertemplate\": \"category=%{x}<br>number_of_reviews=%{y}<extra></extra>\", \"legendgroup\": \"Hair Styling Products\", \"marker\": {\"color\": \"#00cc96\"}, \"name\": \"Hair Styling Products\", \"offsetgroup\": \"Hair Styling Products\", \"orientation\": \"v\", \"showlegend\": true, \"textposition\": \"auto\", \"type\": \"bar\", \"x\": [\"Hair Styling Products\", \"Hair Styling Products\", \"Hair Styling Products\", \"Hair Styling Products\", \"Hair Styling Products\", \"Hair Styling Products\"], \"xaxis\": \"x\", \"y\": [115, 89, 5, 102, 19, 0], \"yaxis\": \"y\"}, {\"alignmentgroup\": \"True\", \"hovertemplate\": \"category=%{x}<br>number_of_reviews=%{y}<extra></extra>\", \"legendgroup\": \"Brush Cleaners\", \"marker\": {\"color\": \"#ab63fa\"}, \"name\": \"Brush Cleaners\", \"offsetgroup\": \"Brush Cleaners\", \"orientation\": \"v\", \"showlegend\": true, \"textposition\": \"auto\", \"type\": \"bar\", \"x\": [\"Brush Cleaners\", \"Brush Cleaners\", \"Brush Cleaners\", \"Brush Cleaners\", \"Brush Cleaners\", \"Brush Cleaners\", \"Brush Cleaners\", \"Brush Cleaners\", \"Brush Cleaners\", \"Brush Cleaners\"], \"xaxis\": \"x\", \"y\": [637, 2000, 190, 2, 831, 276, 31, 22, 165, 619], \"yaxis\": \"y\"}, {\"alignmentgroup\": \"True\", \"hovertemplate\": \"category=%{x}<br>number_of_reviews=%{y}<extra></extra>\", \"legendgroup\": \"no category\", \"marker\": {\"color\": \"#FFA15A\"}, \"name\": \"no category\", \"offsetgroup\": \"no category\", \"orientation\": \"v\", \"showlegend\": true, \"textposition\": \"auto\", \"type\": \"bar\", \"x\": [\"no category\", \"no category\", \"no category\", \"no category\", \"no category\", \"no category\", \"no category\"], \"xaxis\": \"x\", \"y\": [0, 26, 0, 0, 12, 46, 0], \"yaxis\": \"y\"}, {\"alignmentgroup\": \"True\", \"hovertemplate\": \"category=%{x}<br>number_of_reviews=%{y}<extra></extra>\", \"legendgroup\": \"Eye Primer\", \"marker\": {\"color\": \"#19d3f3\"}, \"name\": \"Eye Primer\", \"offsetgroup\": \"Eye Primer\", \"orientation\": \"v\", \"showlegend\": true, \"textposition\": \"auto\", \"type\": \"bar\", \"x\": [\"Eye Primer\", \"Eye Primer\", \"Eye Primer\", \"Eye Primer\"], \"xaxis\": \"x\", \"y\": [169, 108, 68, 5], \"yaxis\": \"y\"}, {\"alignmentgroup\": \"True\", \"hovertemplate\": \"category=%{x}<br>number_of_reviews=%{y}<extra></extra>\", \"legendgroup\": \"Sponges & Applicators\", \"marker\": {\"color\": \"#FF6692\"}, \"name\": \"Sponges & Applicators\", \"offsetgroup\": \"Sponges & Applicators\", \"orientation\": \"v\", \"showlegend\": true, \"textposition\": \"auto\", \"type\": \"bar\", \"x\": [\"Sponges & Applicators\", \"Sponges & Applicators\", \"Sponges & Applicators\", \"Sponges & Applicators\", \"Sponges & Applicators\", \"Sponges & Applicators\", \"Sponges & Applicators\", \"Sponges & Applicators\", \"Sponges & Applicators\", \"Sponges & Applicators\", \"Sponges & Applicators\", \"Sponges & Applicators\", \"Sponges & Applicators\", \"Sponges & Applicators\", \"Sponges & Applicators\", \"Sponges & Applicators\", \"Sponges & Applicators\", \"Sponges & Applicators\", \"Sponges & Applicators\"], \"xaxis\": \"x\", \"y\": [42, 12, 39, 1, 0, 5, 32, 297, 72, 73, 37, 1, 110, 7, 67, 19, 127, 146, 22], \"yaxis\": \"y\"}, {\"alignmentgroup\": \"True\", \"hovertemplate\": \"category=%{x}<br>number_of_reviews=%{y}<extra></extra>\", \"legendgroup\": \"Spa Tools\", \"marker\": {\"color\": \"#B6E880\"}, \"name\": \"Spa Tools\", \"offsetgroup\": \"Spa Tools\", \"orientation\": \"v\", \"showlegend\": true, \"textposition\": \"auto\", \"type\": \"bar\", \"x\": [\"Spa Tools\"], \"xaxis\": \"x\", \"y\": [170], \"yaxis\": \"y\"}, {\"alignmentgroup\": \"True\", \"hovertemplate\": \"category=%{x}<br>number_of_reviews=%{y}<extra></extra>\", \"legendgroup\": \"Hair Brushes & Combs\", \"marker\": {\"color\": \"#FF97FF\"}, \"name\": \"Hair Brushes & Combs\", \"offsetgroup\": \"Hair Brushes & Combs\", \"orientation\": \"v\", \"showlegend\": true, \"textposition\": \"auto\", \"type\": \"bar\", \"x\": [\"Hair Brushes & Combs\", \"Hair Brushes & Combs\", \"Hair Brushes & Combs\", \"Hair Brushes & Combs\", \"Hair Brushes & Combs\"], \"xaxis\": \"x\", \"y\": [89, 7, 26, 6, 4], \"yaxis\": \"y\"}, {\"alignmentgroup\": \"True\", \"hovertemplate\": \"category=%{x}<br>number_of_reviews=%{y}<extra></extra>\", \"legendgroup\": \"Makeup Bags & Travel Cases\", \"marker\": {\"color\": \"#FECB52\"}, \"name\": \"Makeup Bags & Travel Cases\", \"offsetgroup\": \"Makeup Bags & Travel Cases\", \"orientation\": \"v\", \"showlegend\": true, \"textposition\": \"auto\", \"type\": \"bar\", \"x\": [\"Makeup Bags & Travel Cases\", \"Makeup Bags & Travel Cases\", \"Makeup Bags & Travel Cases\", \"Makeup Bags & Travel Cases\", \"Makeup Bags & Travel Cases\", \"Makeup Bags & Travel Cases\", \"Makeup Bags & Travel Cases\", \"Makeup Bags & Travel Cases\", \"Makeup Bags & Travel Cases\", \"Makeup Bags & Travel Cases\", \"Makeup Bags & Travel Cases\", \"Makeup Bags & Travel Cases\"], \"xaxis\": \"x\", \"y\": [176, 31, 75, 17, 7, 4, 12, 273, 3, 30, 23, 25], \"yaxis\": \"y\"}, {\"alignmentgroup\": \"True\", \"hovertemplate\": \"category=%{x}<br>number_of_reviews=%{y}<extra></extra>\", \"legendgroup\": \"Hair Accessories\", \"marker\": {\"color\": \"#636efa\"}, \"name\": \"Hair Accessories\", \"offsetgroup\": \"Hair Accessories\", \"orientation\": \"v\", \"showlegend\": true, \"textposition\": \"auto\", \"type\": \"bar\", \"x\": [\"Hair Accessories\", \"Hair Accessories\", \"Hair Accessories\", \"Hair Accessories\", \"Hair Accessories\", \"Hair Accessories\"], \"xaxis\": \"x\", \"y\": [2, 1000, 42, 5, 82, 65], \"yaxis\": \"y\"}, {\"alignmentgroup\": \"True\", \"hovertemplate\": \"category=%{x}<br>number_of_reviews=%{y}<extra></extra>\", \"legendgroup\": \"Cheek Palettes\", \"marker\": {\"color\": \"#EF553B\"}, \"name\": \"Cheek Palettes\", \"offsetgroup\": \"Cheek Palettes\", \"orientation\": \"v\", \"showlegend\": true, \"textposition\": \"auto\", \"type\": \"bar\", \"x\": [\"Cheek Palettes\", \"Cheek Palettes\"], \"xaxis\": \"x\", \"y\": [20, 149], \"yaxis\": \"y\"}, {\"alignmentgroup\": \"True\", \"hovertemplate\": \"category=%{x}<br>number_of_reviews=%{y}<extra></extra>\", \"legendgroup\": \"Accessories\", \"marker\": {\"color\": \"#00cc96\"}, \"name\": \"Accessories\", \"offsetgroup\": \"Accessories\", \"orientation\": \"v\", \"showlegend\": true, \"textposition\": \"auto\", \"type\": \"bar\", \"x\": [\"Accessories\"], \"xaxis\": \"x\", \"y\": [16], \"yaxis\": \"y\"}, {\"alignmentgroup\": \"True\", \"hovertemplate\": \"category=%{x}<br>number_of_reviews=%{y}<extra></extra>\", \"legendgroup\": \"Mirrors & Sharpeners\", \"marker\": {\"color\": \"#ab63fa\"}, \"name\": \"Mirrors & Sharpeners\", \"offsetgroup\": \"Mirrors & Sharpeners\", \"orientation\": \"v\", \"showlegend\": true, \"textposition\": \"auto\", \"type\": \"bar\", \"x\": [\"Mirrors & Sharpeners\", \"Mirrors & Sharpeners\"], \"xaxis\": \"x\", \"y\": [308, 86], \"yaxis\": \"y\"}, {\"alignmentgroup\": \"True\", \"hovertemplate\": \"category=%{x}<br>number_of_reviews=%{y}<extra></extra>\", \"legendgroup\": \"Tweezers & Eyebrow Tools\", \"marker\": {\"color\": \"#FFA15A\"}, \"name\": \"Tweezers & Eyebrow Tools\", \"offsetgroup\": \"Tweezers & Eyebrow Tools\", \"orientation\": \"v\", \"showlegend\": true, \"textposition\": \"auto\", \"type\": \"bar\", \"x\": [\"Tweezers & Eyebrow Tools\", \"Tweezers & Eyebrow Tools\", \"Tweezers & Eyebrow Tools\"], \"xaxis\": \"x\", \"y\": [492, 12, 12], \"yaxis\": \"y\"}, {\"alignmentgroup\": \"True\", \"hovertemplate\": \"category=%{x}<br>number_of_reviews=%{y}<extra></extra>\", \"legendgroup\": \"Candles & Home Scents\", \"marker\": {\"color\": \"#19d3f3\"}, \"name\": \"Candles & Home Scents\", \"offsetgroup\": \"Candles & Home Scents\", \"orientation\": \"v\", \"showlegend\": true, \"textposition\": \"auto\", \"type\": \"bar\", \"x\": [\"Candles & Home Scents\", \"Candles & Home Scents\", \"Candles & Home Scents\"], \"xaxis\": \"x\", \"y\": [13, 7, 0], \"yaxis\": \"y\"}, {\"alignmentgroup\": \"True\", \"hovertemplate\": \"category=%{x}<br>number_of_reviews=%{y}<extra></extra>\", \"legendgroup\": \"Hair Dryers\", \"marker\": {\"color\": \"#FF6692\"}, \"name\": \"Hair Dryers\", \"offsetgroup\": \"Hair Dryers\", \"orientation\": \"v\", \"showlegend\": true, \"textposition\": \"auto\", \"type\": \"bar\", \"x\": [\"Hair Dryers\", \"Hair Dryers\"], \"xaxis\": \"x\", \"y\": [60, 65], \"yaxis\": \"y\"}, {\"alignmentgroup\": \"True\", \"hovertemplate\": \"category=%{x}<br>number_of_reviews=%{y}<extra></extra>\", \"legendgroup\": \"Body Moisturizers\", \"marker\": {\"color\": \"#B6E880\"}, \"name\": \"Body Moisturizers\", \"offsetgroup\": \"Body Moisturizers\", \"orientation\": \"v\", \"showlegend\": true, \"textposition\": \"auto\", \"type\": \"bar\", \"x\": [\"Body Moisturizers\"], \"xaxis\": \"x\", \"y\": [43], \"yaxis\": \"y\"}, {\"alignmentgroup\": \"True\", \"hovertemplate\": \"category=%{x}<br>number_of_reviews=%{y}<extra></extra>\", \"legendgroup\": \"Anti-Aging\", \"marker\": {\"color\": \"#FF97FF\"}, \"name\": \"Anti-Aging\", \"offsetgroup\": \"Anti-Aging\", \"orientation\": \"v\", \"showlegend\": true, \"textposition\": \"auto\", \"type\": \"bar\", \"x\": [\"Anti-Aging\"], \"xaxis\": \"x\", \"y\": [91], \"yaxis\": \"y\"}, {\"alignmentgroup\": \"True\", \"hovertemplate\": \"category=%{x}<br>number_of_reviews=%{y}<extra></extra>\", \"legendgroup\": \"Teeth Whitening\", \"marker\": {\"color\": \"#FECB52\"}, \"name\": \"Teeth Whitening\", \"offsetgroup\": \"Teeth Whitening\", \"orientation\": \"v\", \"showlegend\": true, \"textposition\": \"auto\", \"type\": \"bar\", \"x\": [\"Teeth Whitening\"], \"xaxis\": \"x\", \"y\": [412], \"yaxis\": \"y\"}, {\"alignmentgroup\": \"True\", \"hovertemplate\": \"category=%{x}<br>number_of_reviews=%{y}<extra></extra>\", \"legendgroup\": \"For Body\", \"marker\": {\"color\": \"#636efa\"}, \"name\": \"For Body\", \"offsetgroup\": \"For Body\", \"orientation\": \"v\", \"showlegend\": true, \"textposition\": \"auto\", \"type\": \"bar\", \"x\": [\"For Body\", \"For Body\"], \"xaxis\": \"x\", \"y\": [182, 1], \"yaxis\": \"y\"}, {\"alignmentgroup\": \"True\", \"hovertemplate\": \"category=%{x}<br>number_of_reviews=%{y}<extra></extra>\", \"legendgroup\": \"Dry Shampoo\", \"marker\": {\"color\": \"#EF553B\"}, \"name\": \"Dry Shampoo\", \"offsetgroup\": \"Dry Shampoo\", \"orientation\": \"v\", \"showlegend\": true, \"textposition\": \"auto\", \"type\": \"bar\", \"x\": [\"Dry Shampoo\", \"Dry Shampoo\"], \"xaxis\": \"x\", \"y\": [103, 22], \"yaxis\": \"y\"}, {\"alignmentgroup\": \"True\", \"hovertemplate\": \"category=%{x}<br>number_of_reviews=%{y}<extra></extra>\", \"legendgroup\": \"Deodorant for Men\", \"marker\": {\"color\": \"#00cc96\"}, \"name\": \"Deodorant for Men\", \"offsetgroup\": \"Deodorant for Men\", \"orientation\": \"v\", \"showlegend\": true, \"textposition\": \"auto\", \"type\": \"bar\", \"x\": [\"Deodorant for Men\"], \"xaxis\": \"x\", \"y\": [9], \"yaxis\": \"y\"}, {\"alignmentgroup\": \"True\", \"hovertemplate\": \"category=%{x}<br>number_of_reviews=%{y}<extra></extra>\", \"legendgroup\": \"Cellulite & Stretch Marks\", \"marker\": {\"color\": \"#ab63fa\"}, \"name\": \"Cellulite & Stretch Marks\", \"offsetgroup\": \"Cellulite & Stretch Marks\", \"orientation\": \"v\", \"showlegend\": true, \"textposition\": \"auto\", \"type\": \"bar\", \"x\": [\"Cellulite & Stretch Marks\"], \"xaxis\": \"x\", \"y\": [0], \"yaxis\": \"y\"}, {\"alignmentgroup\": \"True\", \"hovertemplate\": \"category=%{x}<br>number_of_reviews=%{y}<extra></extra>\", \"legendgroup\": \"Hair Straighteners & Flat Irons\", \"marker\": {\"color\": \"#FFA15A\"}, \"name\": \"Hair Straighteners & Flat Irons\", \"offsetgroup\": \"Hair Straighteners & Flat Irons\", \"orientation\": \"v\", \"showlegend\": true, \"textposition\": \"auto\", \"type\": \"bar\", \"x\": [\"Hair Straighteners & Flat Irons\"], \"xaxis\": \"x\", \"y\": [114], \"yaxis\": \"y\"}, {\"alignmentgroup\": \"True\", \"hovertemplate\": \"category=%{x}<br>number_of_reviews=%{y}<extra></extra>\", \"legendgroup\": \"Lip Brushes\", \"marker\": {\"color\": \"#19d3f3\"}, \"name\": \"Lip Brushes\", \"offsetgroup\": \"Lip Brushes\", \"orientation\": \"v\", \"showlegend\": true, \"textposition\": \"auto\", \"type\": \"bar\", \"x\": [\"Lip Brushes\", \"Lip Brushes\"], \"xaxis\": \"x\", \"y\": [57, 0], \"yaxis\": \"y\"}, {\"alignmentgroup\": \"True\", \"hovertemplate\": \"category=%{x}<br>number_of_reviews=%{y}<extra></extra>\", \"legendgroup\": \"Makeup & Travel Cases\", \"marker\": {\"color\": \"#FF6692\"}, \"name\": \"Makeup & Travel Cases\", \"offsetgroup\": \"Makeup & Travel Cases\", \"orientation\": \"v\", \"showlegend\": true, \"textposition\": \"auto\", \"type\": \"bar\", \"x\": [\"Makeup & Travel Cases\", \"Makeup & Travel Cases\", \"Makeup & Travel Cases\", \"Makeup & Travel Cases\", \"Makeup & Travel Cases\", \"Makeup & Travel Cases\", \"Makeup & Travel Cases\", \"Makeup & Travel Cases\", \"Makeup & Travel Cases\", \"Makeup & Travel Cases\", \"Makeup & Travel Cases\"], \"xaxis\": \"x\", \"y\": [25, 16, 29, 43, 65, 26, 103, 19, 42, 54, 31], \"yaxis\": \"y\"}, {\"alignmentgroup\": \"True\", \"hovertemplate\": \"category=%{x}<br>number_of_reviews=%{y}<extra></extra>\", \"legendgroup\": \"Blotting Papers\", \"marker\": {\"color\": \"#B6E880\"}, \"name\": \"Blotting Papers\", \"offsetgroup\": \"Blotting Papers\", \"orientation\": \"v\", \"showlegend\": true, \"textposition\": \"auto\", \"type\": \"bar\", \"x\": [\"Blotting Papers\", \"Blotting Papers\"], \"xaxis\": \"x\", \"y\": [16, 134], \"yaxis\": \"y\"}, {\"alignmentgroup\": \"True\", \"hovertemplate\": \"category=%{x}<br>number_of_reviews=%{y}<extra></extra>\", \"legendgroup\": \"Curling Irons\", \"marker\": {\"color\": \"#FF97FF\"}, \"name\": \"Curling Irons\", \"offsetgroup\": \"Curling Irons\", \"orientation\": \"v\", \"showlegend\": true, \"textposition\": \"auto\", \"type\": \"bar\", \"x\": [\"Curling Irons\"], \"xaxis\": \"x\", \"y\": [30], \"yaxis\": \"y\"}, {\"alignmentgroup\": \"True\", \"hovertemplate\": \"category=%{x}<br>number_of_reviews=%{y}<extra></extra>\", \"legendgroup\": \"Shampoo\", \"marker\": {\"color\": \"#FECB52\"}, \"name\": \"Shampoo\", \"offsetgroup\": \"Shampoo\", \"orientation\": \"v\", \"showlegend\": true, \"textposition\": \"auto\", \"type\": \"bar\", \"x\": [\"Shampoo\"], \"xaxis\": \"x\", \"y\": [7], \"yaxis\": \"y\"}, {\"alignmentgroup\": \"True\", \"hovertemplate\": \"category=%{x}<br>number_of_reviews=%{y}<extra></extra>\", \"legendgroup\": \"Scalp & Hair Treatments\", \"marker\": {\"color\": \"#636efa\"}, \"name\": \"Scalp & Hair Treatments\", \"offsetgroup\": \"Scalp & Hair Treatments\", \"orientation\": \"v\", \"showlegend\": true, \"textposition\": \"auto\", \"type\": \"bar\", \"x\": [\"Scalp & Hair Treatments\", \"Scalp & Hair Treatments\"], \"xaxis\": \"x\", \"y\": [101, 73], \"yaxis\": \"y\"}, {\"alignmentgroup\": \"True\", \"hovertemplate\": \"category=%{x}<br>number_of_reviews=%{y}<extra></extra>\", \"legendgroup\": \"Hair Products\", \"marker\": {\"color\": \"#EF553B\"}, \"name\": \"Hair Products\", \"offsetgroup\": \"Hair Products\", \"orientation\": \"v\", \"showlegend\": true, \"textposition\": \"auto\", \"type\": \"bar\", \"x\": [\"Hair Products\"], \"xaxis\": \"x\", \"y\": [11], \"yaxis\": \"y\"}, {\"alignmentgroup\": \"True\", \"hovertemplate\": \"category=%{x}<br>number_of_reviews=%{y}<extra></extra>\", \"legendgroup\": \"Conditioner\", \"marker\": {\"color\": \"#00cc96\"}, \"name\": \"Conditioner\", \"offsetgroup\": \"Conditioner\", \"orientation\": \"v\", \"showlegend\": true, \"textposition\": \"auto\", \"type\": \"bar\", \"x\": [\"Conditioner\"], \"xaxis\": \"x\", \"y\": [9], \"yaxis\": \"y\"}, {\"alignmentgroup\": \"True\", \"hovertemplate\": \"category=%{x}<br>number_of_reviews=%{y}<extra></extra>\", \"legendgroup\": \"Powder Brush\", \"marker\": {\"color\": \"#ab63fa\"}, \"name\": \"Powder Brush\", \"offsetgroup\": \"Powder Brush\", \"orientation\": \"v\", \"showlegend\": true, \"textposition\": \"auto\", \"type\": \"bar\", \"x\": [\"Powder Brush\"], \"xaxis\": \"x\", \"y\": [33], \"yaxis\": \"y\"}, {\"alignmentgroup\": \"True\", \"hovertemplate\": \"category=%{x}<br>number_of_reviews=%{y}<extra></extra>\", \"legendgroup\": \"Lid Shadow Brush\", \"marker\": {\"color\": \"#FFA15A\"}, \"name\": \"Lid Shadow Brush\", \"offsetgroup\": \"Lid Shadow Brush\", \"orientation\": \"v\", \"showlegend\": true, \"textposition\": \"auto\", \"type\": \"bar\", \"x\": [\"Lid Shadow Brush\"], \"xaxis\": \"x\", \"y\": [20], \"yaxis\": \"y\"}, {\"alignmentgroup\": \"True\", \"hovertemplate\": \"category=%{x}<br>number_of_reviews=%{y}<extra></extra>\", \"legendgroup\": \"Body Wash & Shower Gel\", \"marker\": {\"color\": \"#19d3f3\"}, \"name\": \"Body Wash & Shower Gel\", \"offsetgroup\": \"Body Wash & Shower Gel\", \"orientation\": \"v\", \"showlegend\": true, \"textposition\": \"auto\", \"type\": \"bar\", \"x\": [\"Body Wash & Shower Gel\"], \"xaxis\": \"x\", \"y\": [34], \"yaxis\": \"y\"}, {\"alignmentgroup\": \"True\", \"hovertemplate\": \"category=%{x}<br>number_of_reviews=%{y}<extra></extra>\", \"legendgroup\": \"Bath Soaks & Bubble Bath\", \"marker\": {\"color\": \"#FF6692\"}, \"name\": \"Bath Soaks & Bubble Bath\", \"offsetgroup\": \"Bath Soaks & Bubble Bath\", \"orientation\": \"v\", \"showlegend\": true, \"textposition\": \"auto\", \"type\": \"bar\", \"x\": [\"Bath Soaks & Bubble Bath\"], \"xaxis\": \"x\", \"y\": [11], \"yaxis\": \"y\"}],                        {\"barmode\": \"relative\", \"legend\": {\"title\": {\"text\": \"category\"}, \"tracegroupgap\": 0}, \"margin\": {\"t\": 60}, \"template\": {\"data\": {\"bar\": [{\"error_x\": {\"color\": \"#2a3f5f\"}, \"error_y\": {\"color\": \"#2a3f5f\"}, \"marker\": {\"line\": {\"color\": \"#E5ECF6\", \"width\": 0.5}}, \"type\": \"bar\"}], \"barpolar\": [{\"marker\": {\"line\": {\"color\": \"#E5ECF6\", \"width\": 0.5}}, \"type\": \"barpolar\"}], \"carpet\": [{\"aaxis\": {\"endlinecolor\": \"#2a3f5f\", \"gridcolor\": \"white\", \"linecolor\": \"white\", \"minorgridcolor\": \"white\", \"startlinecolor\": \"#2a3f5f\"}, \"baxis\": {\"endlinecolor\": \"#2a3f5f\", \"gridcolor\": \"white\", \"linecolor\": \"white\", \"minorgridcolor\": \"white\", \"startlinecolor\": \"#2a3f5f\"}, \"type\": \"carpet\"}], \"choropleth\": [{\"colorbar\": {\"outlinewidth\": 0, \"ticks\": \"\"}, \"type\": \"choropleth\"}], \"contour\": [{\"colorbar\": {\"outlinewidth\": 0, \"ticks\": \"\"}, \"colorscale\": [[0.0, \"#0d0887\"], [0.1111111111111111, \"#46039f\"], [0.2222222222222222, \"#7201a8\"], [0.3333333333333333, \"#9c179e\"], [0.4444444444444444, \"#bd3786\"], [0.5555555555555556, \"#d8576b\"], [0.6666666666666666, \"#ed7953\"], [0.7777777777777778, \"#fb9f3a\"], [0.8888888888888888, \"#fdca26\"], [1.0, \"#f0f921\"]], \"type\": \"contour\"}], \"contourcarpet\": [{\"colorbar\": {\"outlinewidth\": 0, \"ticks\": \"\"}, \"type\": \"contourcarpet\"}], \"heatmap\": [{\"colorbar\": {\"outlinewidth\": 0, \"ticks\": \"\"}, \"colorscale\": [[0.0, \"#0d0887\"], [0.1111111111111111, \"#46039f\"], [0.2222222222222222, \"#7201a8\"], [0.3333333333333333, \"#9c179e\"], [0.4444444444444444, \"#bd3786\"], [0.5555555555555556, \"#d8576b\"], [0.6666666666666666, \"#ed7953\"], [0.7777777777777778, \"#fb9f3a\"], [0.8888888888888888, \"#fdca26\"], [1.0, \"#f0f921\"]], \"type\": \"heatmap\"}], \"heatmapgl\": [{\"colorbar\": {\"outlinewidth\": 0, \"ticks\": \"\"}, \"colorscale\": [[0.0, \"#0d0887\"], [0.1111111111111111, \"#46039f\"], [0.2222222222222222, \"#7201a8\"], [0.3333333333333333, \"#9c179e\"], [0.4444444444444444, \"#bd3786\"], [0.5555555555555556, \"#d8576b\"], [0.6666666666666666, \"#ed7953\"], [0.7777777777777778, \"#fb9f3a\"], [0.8888888888888888, \"#fdca26\"], [1.0, \"#f0f921\"]], \"type\": \"heatmapgl\"}], \"histogram\": [{\"marker\": {\"colorbar\": {\"outlinewidth\": 0, \"ticks\": \"\"}}, \"type\": \"histogram\"}], \"histogram2d\": [{\"colorbar\": {\"outlinewidth\": 0, \"ticks\": \"\"}, \"colorscale\": [[0.0, \"#0d0887\"], [0.1111111111111111, \"#46039f\"], [0.2222222222222222, \"#7201a8\"], [0.3333333333333333, \"#9c179e\"], [0.4444444444444444, \"#bd3786\"], [0.5555555555555556, \"#d8576b\"], [0.6666666666666666, \"#ed7953\"], [0.7777777777777778, \"#fb9f3a\"], [0.8888888888888888, \"#fdca26\"], [1.0, \"#f0f921\"]], \"type\": \"histogram2d\"}], \"histogram2dcontour\": [{\"colorbar\": {\"outlinewidth\": 0, \"ticks\": \"\"}, \"colorscale\": [[0.0, \"#0d0887\"], [0.1111111111111111, \"#46039f\"], [0.2222222222222222, \"#7201a8\"], [0.3333333333333333, \"#9c179e\"], [0.4444444444444444, \"#bd3786\"], [0.5555555555555556, \"#d8576b\"], [0.6666666666666666, \"#ed7953\"], [0.7777777777777778, \"#fb9f3a\"], [0.8888888888888888, \"#fdca26\"], [1.0, \"#f0f921\"]], \"type\": \"histogram2dcontour\"}], \"mesh3d\": [{\"colorbar\": {\"outlinewidth\": 0, \"ticks\": \"\"}, \"type\": \"mesh3d\"}], \"parcoords\": [{\"line\": {\"colorbar\": {\"outlinewidth\": 0, \"ticks\": \"\"}}, \"type\": \"parcoords\"}], \"pie\": [{\"automargin\": true, \"type\": \"pie\"}], \"scatter\": [{\"marker\": {\"colorbar\": {\"outlinewidth\": 0, \"ticks\": \"\"}}, \"type\": \"scatter\"}], \"scatter3d\": [{\"line\": {\"colorbar\": {\"outlinewidth\": 0, \"ticks\": \"\"}}, \"marker\": {\"colorbar\": {\"outlinewidth\": 0, \"ticks\": \"\"}}, \"type\": \"scatter3d\"}], \"scattercarpet\": [{\"marker\": {\"colorbar\": {\"outlinewidth\": 0, \"ticks\": \"\"}}, \"type\": \"scattercarpet\"}], \"scattergeo\": [{\"marker\": {\"colorbar\": {\"outlinewidth\": 0, \"ticks\": \"\"}}, \"type\": \"scattergeo\"}], \"scattergl\": [{\"marker\": {\"colorbar\": {\"outlinewidth\": 0, \"ticks\": \"\"}}, \"type\": \"scattergl\"}], \"scattermapbox\": [{\"marker\": {\"colorbar\": {\"outlinewidth\": 0, \"ticks\": \"\"}}, \"type\": \"scattermapbox\"}], \"scatterpolar\": [{\"marker\": {\"colorbar\": {\"outlinewidth\": 0, \"ticks\": \"\"}}, \"type\": \"scatterpolar\"}], \"scatterpolargl\": [{\"marker\": {\"colorbar\": {\"outlinewidth\": 0, \"ticks\": \"\"}}, \"type\": \"scatterpolargl\"}], \"scatterternary\": [{\"marker\": {\"colorbar\": {\"outlinewidth\": 0, \"ticks\": \"\"}}, \"type\": \"scatterternary\"}], \"surface\": [{\"colorbar\": {\"outlinewidth\": 0, \"ticks\": \"\"}, \"colorscale\": [[0.0, \"#0d0887\"], [0.1111111111111111, \"#46039f\"], [0.2222222222222222, \"#7201a8\"], [0.3333333333333333, \"#9c179e\"], [0.4444444444444444, \"#bd3786\"], [0.5555555555555556, \"#d8576b\"], [0.6666666666666666, \"#ed7953\"], [0.7777777777777778, \"#fb9f3a\"], [0.8888888888888888, \"#fdca26\"], [1.0, \"#f0f921\"]], \"type\": \"surface\"}], \"table\": [{\"cells\": {\"fill\": {\"color\": \"#EBF0F8\"}, \"line\": {\"color\": \"white\"}}, \"header\": {\"fill\": {\"color\": \"#C8D4E3\"}, \"line\": {\"color\": \"white\"}}, \"type\": \"table\"}]}, \"layout\": {\"annotationdefaults\": {\"arrowcolor\": \"#2a3f5f\", \"arrowhead\": 0, \"arrowwidth\": 1}, \"autotypenumbers\": \"strict\", \"coloraxis\": {\"colorbar\": {\"outlinewidth\": 0, \"ticks\": \"\"}}, \"colorscale\": {\"diverging\": [[0, \"#8e0152\"], [0.1, \"#c51b7d\"], [0.2, \"#de77ae\"], [0.3, \"#f1b6da\"], [0.4, \"#fde0ef\"], [0.5, \"#f7f7f7\"], [0.6, \"#e6f5d0\"], [0.7, \"#b8e186\"], [0.8, \"#7fbc41\"], [0.9, \"#4d9221\"], [1, \"#276419\"]], \"sequential\": [[0.0, \"#0d0887\"], [0.1111111111111111, \"#46039f\"], [0.2222222222222222, \"#7201a8\"], [0.3333333333333333, \"#9c179e\"], [0.4444444444444444, \"#bd3786\"], [0.5555555555555556, \"#d8576b\"], [0.6666666666666666, \"#ed7953\"], [0.7777777777777778, \"#fb9f3a\"], [0.8888888888888888, \"#fdca26\"], [1.0, \"#f0f921\"]], \"sequentialminus\": [[0.0, \"#0d0887\"], [0.1111111111111111, \"#46039f\"], [0.2222222222222222, \"#7201a8\"], [0.3333333333333333, \"#9c179e\"], [0.4444444444444444, \"#bd3786\"], [0.5555555555555556, \"#d8576b\"], [0.6666666666666666, \"#ed7953\"], [0.7777777777777778, \"#fb9f3a\"], [0.8888888888888888, \"#fdca26\"], [1.0, \"#f0f921\"]]}, \"colorway\": [\"#636efa\", \"#EF553B\", \"#00cc96\", \"#ab63fa\", \"#FFA15A\", \"#19d3f3\", \"#FF6692\", \"#B6E880\", \"#FF97FF\", \"#FECB52\"], \"font\": {\"color\": \"#2a3f5f\"}, \"geo\": {\"bgcolor\": \"white\", \"lakecolor\": \"white\", \"landcolor\": \"#E5ECF6\", \"showlakes\": true, \"showland\": true, \"subunitcolor\": \"white\"}, \"hoverlabel\": {\"align\": \"left\"}, \"hovermode\": \"closest\", \"mapbox\": {\"style\": \"light\"}, \"paper_bgcolor\": \"white\", \"plot_bgcolor\": \"#E5ECF6\", \"polar\": {\"angularaxis\": {\"gridcolor\": \"white\", \"linecolor\": \"white\", \"ticks\": \"\"}, \"bgcolor\": \"#E5ECF6\", \"radialaxis\": {\"gridcolor\": \"white\", \"linecolor\": \"white\", \"ticks\": \"\"}}, \"scene\": {\"xaxis\": {\"backgroundcolor\": \"#E5ECF6\", \"gridcolor\": \"white\", \"gridwidth\": 2, \"linecolor\": \"white\", \"showbackground\": true, \"ticks\": \"\", \"zerolinecolor\": \"white\"}, \"yaxis\": {\"backgroundcolor\": \"#E5ECF6\", \"gridcolor\": \"white\", \"gridwidth\": 2, \"linecolor\": \"white\", \"showbackground\": true, \"ticks\": \"\", \"zerolinecolor\": \"white\"}, \"zaxis\": {\"backgroundcolor\": \"#E5ECF6\", \"gridcolor\": \"white\", \"gridwidth\": 2, \"linecolor\": \"white\", \"showbackground\": true, \"ticks\": \"\", \"zerolinecolor\": \"white\"}}, \"shapedefaults\": {\"line\": {\"color\": \"#2a3f5f\"}}, \"ternary\": {\"aaxis\": {\"gridcolor\": \"white\", \"linecolor\": \"white\", \"ticks\": \"\"}, \"baxis\": {\"gridcolor\": \"white\", \"linecolor\": \"white\", \"ticks\": \"\"}, \"bgcolor\": \"#E5ECF6\", \"caxis\": {\"gridcolor\": \"white\", \"linecolor\": \"white\", \"ticks\": \"\"}}, \"title\": {\"x\": 0.05}, \"xaxis\": {\"automargin\": true, \"gridcolor\": \"white\", \"linecolor\": \"white\", \"ticks\": \"\", \"title\": {\"standoff\": 15}, \"zerolinecolor\": \"white\", \"zerolinewidth\": 2}, \"yaxis\": {\"automargin\": true, \"gridcolor\": \"white\", \"linecolor\": \"white\", \"ticks\": \"\", \"title\": {\"standoff\": 15}, \"zerolinecolor\": \"white\", \"zerolinewidth\": 2}}}, \"xaxis\": {\"anchor\": \"y\", \"categoryarray\": [\"Moisturizers\", \"Face Wash & Cleansers\", \"Foundation\", \"Face Serums\", \"Value & Gift Sets\", \"Toners\", \"Mascara\", \"Eye Creams & Treatments\", \"Blemish & Acne Treatments\", \"Makeup Removers\", \"Exfoliators\", \"Eyeliner\", \"Setting Spray & Powder\", \"Face Masks\", \"BB & CC Cream\", \"Lip Balm & Treatment\", \"Blush\", \"Lipstick\", \"Concealer\", \"Perfume\", \"Skincare\", \"Moisturizer & Treatments\", \"Face Sets\", \"Contour\", \"Face Oils\", \"Lip Balms & Treatments\", \"Eyebrow\", \"Face Sunscreen\", \"Mini Size\", \"Eye Cream\", \"Face Wash\", \"Eye Palettes\", \"Mists & Essences\", \"Body Lotions & Body Oils\", \"For Face\", \"Makeup\", \"Bronzer\", \"Lip Gloss\", \"Lip Liner\", \"Highlighter\", \"Eyeshadow\", \"Aftershave\", \"Scrub & Exfoliants\", \"Facial Cleansing Brushes\", \"Face Primer\", \"Cologne\", \"Perfume Gift Sets\", \"Decollete & Neck Creams\", \"Tinted Moisturizer\", \"Rollerballs & Travel Size\", \"Skincare Sets\", \"Night Creams\", \"Self Tanners\", \"Deodorant & Antiperspirant\", \"Shaving\", \"Color Correct\", \"Makeup Palettes\", \"Eye Sets\", \"BB & CC Creams\", \"Lip Stain\", \"Fragrance\", \"Body Sprays & Deodorant\", \"Liquid Lipstick\", \"Face Brushes\", \"Lotions & Oils\", \"Body Mist & Hair Mist\", \"Facial Peels\", \"Bath & Shower\", \"Eyelash Curlers\", \"Face Wipes\", \"Brush Sets\", \"False Eyelashes\", \"Eye Masks\", \"Sheet Masks\", \"Hand Cream & Foot Cream\", \"Hair Removal\", \"Eye Brushes\", \"Facial Rollers\", \"Lip Sets\", \"Beauty Supplements\", \"Hair Masks\", \"Nail\", \"Hair Styling Products\", \"Brush Cleaners\", \"no category\", \"Eye Primer\", \"Sponges & Applicators\", \"Spa Tools\", \"Hair Brushes & Combs\", \"Makeup Bags & Travel Cases\", \"Hair Accessories\", \"Cheek Palettes\", \"Accessories\", \"Mirrors & Sharpeners\", \"Tweezers & Eyebrow Tools\", \"Candles & Home Scents\", \"Hair Dryers\", \"Body Moisturizers\", \"Anti-Aging\", \"Teeth Whitening\", \"For Body\", \"Dry Shampoo\", \"Deodorant for Men\", \"Cellulite & Stretch Marks\", \"Hair Straighteners & Flat Irons\", \"Lip Brushes\", \"Makeup & Travel Cases\", \"Blotting Papers\", \"Curling Irons\", \"Shampoo\", \"Scalp & Hair Treatments\", \"Hair Products\", \"Conditioner\", \"Powder Brush\", \"Lid Shadow Brush\", \"Body Wash & Shower Gel\", \"Bath Soaks & Bubble Bath\"], \"categoryorder\": \"array\", \"domain\": [0.0, 1.0], \"title\": {\"text\": \"category\"}}, \"yaxis\": {\"anchor\": \"x\", \"domain\": [0.0, 1.0], \"title\": {\"text\": \"number_of_reviews\"}}},                        {\"responsive\": true}                    ).then(function(){\n",
       "                            \n",
       "var gd = document.getElementById('591e17cf-bf0c-4532-9e79-a4a67c5a3012');\n",
       "var x = new MutationObserver(function (mutations, observer) {{\n",
       "        var display = window.getComputedStyle(gd).display;\n",
       "        if (!display || display === 'none') {{\n",
       "            console.log([gd, 'removed!']);\n",
       "            Plotly.purge(gd);\n",
       "            observer.disconnect();\n",
       "        }}\n",
       "}});\n",
       "\n",
       "// Listen for the removal of the full notebook cells\n",
       "var notebookContainer = gd.closest('#notebook-container');\n",
       "if (notebookContainer) {{\n",
       "    x.observe(notebookContainer, {childList: true});\n",
       "}}\n",
       "\n",
       "// Listen for the clearing of the current output cell\n",
       "var outputEl = gd.closest('.output');\n",
       "if (outputEl) {{\n",
       "    x.observe(outputEl, {childList: true});\n",
       "}}\n",
       "\n",
       "                        })                };                });            </script>        </div>"
      ]
     },
     "metadata": {},
     "output_type": "display_data"
    }
   ],
   "source": [
    "# barplot count dari seluruh brand \n",
    "fig = px.bar(df, x='category' ,y='number_of_reviews', color='category')\n",
    "fig.show()"
   ]
  },
  {
   "cell_type": "code",
   "execution_count": 33,
   "id": "congressional-clothing",
   "metadata": {},
   "outputs": [
    {
     "data": {
      "text/plain": [
       "'SEPHORA COLLECTION'"
      ]
     },
     "execution_count": 33,
     "metadata": {},
     "output_type": "execute_result"
    }
   ],
   "source": [
    "top5_brands[0]"
   ]
  },
  {
   "cell_type": "code",
   "execution_count": 34,
   "id": "advisory-jumping",
   "metadata": {},
   "outputs": [
    {
     "data": {
      "application/vnd.plotly.v1+json": {
       "config": {
        "plotlyServerURL": "https://plot.ly"
       },
       "data": [
        {
         "alignmentgroup": "True",
         "hovertemplate": "category=%{x}<br>number_of_reviews=%{y}<extra></extra>",
         "legendgroup": "Face Wipes",
         "marker": {
          "color": "#636efa"
         },
         "name": "Face Wipes",
         "offsetgroup": "Face Wipes",
         "orientation": "v",
         "showlegend": true,
         "textposition": "auto",
         "type": "bar",
         "x": [
          "Face Wipes",
          "Face Wipes",
          "Face Wipes",
          "Face Wipes",
          "Face Wipes",
          "Face Wipes",
          "Face Wipes",
          "Face Wipes",
          "Face Wipes",
          "Face Wipes",
          "Face Wipes",
          "Face Wipes",
          "Face Wipes",
          "Face Wipes",
          "Face Wipes",
          "Face Wipes"
         ],
         "xaxis": "x",
         "y": [
          3000,
          81,
          7,
          70,
          20,
          4,
          7,
          79,
          9,
          98,
          9,
          61,
          13,
          4,
          26,
          3
         ],
         "yaxis": "y"
        },
        {
         "alignmentgroup": "True",
         "hovertemplate": "category=%{x}<br>number_of_reviews=%{y}<extra></extra>",
         "legendgroup": "Face Masks",
         "marker": {
          "color": "#EF553B"
         },
         "name": "Face Masks",
         "offsetgroup": "Face Masks",
         "orientation": "v",
         "showlegend": true,
         "textposition": "auto",
         "type": "bar",
         "x": [
          "Face Masks",
          "Face Masks",
          "Face Masks",
          "Face Masks",
          "Face Masks",
          "Face Masks",
          "Face Masks",
          "Face Masks",
          "Face Masks",
          "Face Masks",
          "Face Masks",
          "Face Masks",
          "Face Masks",
          "Face Masks",
          "Face Masks",
          "Face Masks",
          "Face Masks",
          "Face Masks",
          "Face Masks",
          "Face Masks",
          "Face Masks",
          "Face Masks",
          "Face Masks",
          "Face Masks",
          "Face Masks",
          "Face Masks",
          "Face Masks",
          "Face Masks",
          "Face Masks",
          "Face Masks",
          "Face Masks",
          "Face Masks",
          "Face Masks",
          "Face Masks"
         ],
         "xaxis": "x",
         "y": [
          1000,
          256,
          28,
          74,
          46,
          17,
          131,
          984,
          17,
          291,
          15,
          62,
          191,
          175,
          112,
          84,
          46,
          14,
          22,
          20,
          16,
          12,
          26,
          10,
          32,
          16,
          687,
          88,
          12,
          50,
          20,
          22,
          1000,
          15
         ],
         "yaxis": "y"
        },
        {
         "alignmentgroup": "True",
         "hovertemplate": "category=%{x}<br>number_of_reviews=%{y}<extra></extra>",
         "legendgroup": "Eyeliner",
         "marker": {
          "color": "#00cc96"
         },
         "name": "Eyeliner",
         "offsetgroup": "Eyeliner",
         "orientation": "v",
         "showlegend": true,
         "textposition": "auto",
         "type": "bar",
         "x": [
          "Eyeliner",
          "Eyeliner",
          "Eyeliner",
          "Eyeliner",
          "Eyeliner",
          "Eyeliner",
          "Eyeliner",
          "Eyeliner",
          "Eyeliner",
          "Eyeliner",
          "Eyeliner",
          "Eyeliner",
          "Eyeliner",
          "Eyeliner"
         ],
         "xaxis": "x",
         "y": [
          6000,
          2000,
          839,
          2000,
          3000,
          581,
          100,
          42,
          1000,
          343,
          478,
          27,
          35,
          242
         ],
         "yaxis": "y"
        },
        {
         "alignmentgroup": "True",
         "hovertemplate": "category=%{x}<br>number_of_reviews=%{y}<extra></extra>",
         "legendgroup": "Brush Sets",
         "marker": {
          "color": "#ab63fa"
         },
         "name": "Brush Sets",
         "offsetgroup": "Brush Sets",
         "orientation": "v",
         "showlegend": true,
         "textposition": "auto",
         "type": "bar",
         "x": [
          "Brush Sets",
          "Brush Sets",
          "Brush Sets",
          "Brush Sets",
          "Brush Sets",
          "Brush Sets",
          "Brush Sets",
          "Brush Sets",
          "Brush Sets",
          "Brush Sets",
          "Brush Sets",
          "Brush Sets",
          "Brush Sets",
          "Brush Sets"
         ],
         "xaxis": "x",
         "y": [
          356,
          310,
          5,
          17,
          11,
          34,
          1,
          9,
          23,
          8,
          7,
          44,
          166,
          62
         ],
         "yaxis": "y"
        },
        {
         "alignmentgroup": "True",
         "hovertemplate": "category=%{x}<br>number_of_reviews=%{y}<extra></extra>",
         "legendgroup": "Foundation",
         "marker": {
          "color": "#FFA15A"
         },
         "name": "Foundation",
         "offsetgroup": "Foundation",
         "orientation": "v",
         "showlegend": true,
         "textposition": "auto",
         "type": "bar",
         "x": [
          "Foundation",
          "Foundation",
          "Foundation",
          "Foundation",
          "Foundation",
          "Foundation"
         ],
         "xaxis": "x",
         "y": [
          3000,
          1000,
          1000,
          596,
          2000,
          234
         ],
         "yaxis": "y"
        },
        {
         "alignmentgroup": "True",
         "hovertemplate": "category=%{x}<br>number_of_reviews=%{y}<extra></extra>",
         "legendgroup": "Lipstick",
         "marker": {
          "color": "#19d3f3"
         },
         "name": "Lipstick",
         "offsetgroup": "Lipstick",
         "orientation": "v",
         "showlegend": true,
         "textposition": "auto",
         "type": "bar",
         "x": [
          "Lipstick",
          "Lipstick",
          "Lipstick",
          "Lipstick",
          "Lipstick",
          "Lipstick",
          "Lipstick",
          "Lipstick"
         ],
         "xaxis": "x",
         "y": [
          9000,
          2000,
          207,
          2000,
          75,
          0,
          12,
          334
         ],
         "yaxis": "y"
        },
        {
         "alignmentgroup": "True",
         "hovertemplate": "category=%{x}<br>number_of_reviews=%{y}<extra></extra>",
         "legendgroup": "Eyebrow",
         "marker": {
          "color": "#FF6692"
         },
         "name": "Eyebrow",
         "offsetgroup": "Eyebrow",
         "orientation": "v",
         "showlegend": true,
         "textposition": "auto",
         "type": "bar",
         "x": [
          "Eyebrow",
          "Eyebrow",
          "Eyebrow",
          "Eyebrow",
          "Eyebrow",
          "Eyebrow",
          "Eyebrow"
         ],
         "xaxis": "x",
         "y": [
          3000,
          28,
          14,
          19,
          53,
          31,
          32
         ],
         "yaxis": "y"
        },
        {
         "alignmentgroup": "True",
         "hovertemplate": "category=%{x}<br>number_of_reviews=%{y}<extra></extra>",
         "legendgroup": "Face Oils",
         "marker": {
          "color": "#B6E880"
         },
         "name": "Face Oils",
         "offsetgroup": "Face Oils",
         "orientation": "v",
         "showlegend": true,
         "textposition": "auto",
         "type": "bar",
         "x": [
          "Face Oils"
         ],
         "xaxis": "x",
         "y": [
          115
         ],
         "yaxis": "y"
        },
        {
         "alignmentgroup": "True",
         "hovertemplate": "category=%{x}<br>number_of_reviews=%{y}<extra></extra>",
         "legendgroup": "Face Serums",
         "marker": {
          "color": "#FF97FF"
         },
         "name": "Face Serums",
         "offsetgroup": "Face Serums",
         "orientation": "v",
         "showlegend": true,
         "textposition": "auto",
         "type": "bar",
         "x": [
          "Face Serums",
          "Face Serums",
          "Face Serums",
          "Face Serums"
         ],
         "xaxis": "x",
         "y": [
          404,
          4,
          93,
          1
         ],
         "yaxis": "y"
        },
        {
         "alignmentgroup": "True",
         "hovertemplate": "category=%{x}<br>number_of_reviews=%{y}<extra></extra>",
         "legendgroup": "False Eyelashes",
         "marker": {
          "color": "#FECB52"
         },
         "name": "False Eyelashes",
         "offsetgroup": "False Eyelashes",
         "orientation": "v",
         "showlegend": true,
         "textposition": "auto",
         "type": "bar",
         "x": [
          "False Eyelashes",
          "False Eyelashes",
          "False Eyelashes",
          "False Eyelashes",
          "False Eyelashes",
          "False Eyelashes",
          "False Eyelashes",
          "False Eyelashes",
          "False Eyelashes",
          "False Eyelashes",
          "False Eyelashes",
          "False Eyelashes",
          "False Eyelashes",
          "False Eyelashes",
          "False Eyelashes",
          "False Eyelashes"
         ],
         "xaxis": "x",
         "y": [
          785,
          173,
          889,
          473,
          2,
          852,
          130,
          11,
          301,
          24,
          85,
          315,
          23,
          13,
          11,
          3
         ],
         "yaxis": "y"
        },
        {
         "alignmentgroup": "True",
         "hovertemplate": "category=%{x}<br>number_of_reviews=%{y}<extra></extra>",
         "legendgroup": "Eye Masks",
         "marker": {
          "color": "#636efa"
         },
         "name": "Eye Masks",
         "offsetgroup": "Eye Masks",
         "orientation": "v",
         "showlegend": true,
         "textposition": "auto",
         "type": "bar",
         "x": [
          "Eye Masks",
          "Eye Masks",
          "Eye Masks",
          "Eye Masks",
          "Eye Masks"
         ],
         "xaxis": "x",
         "y": [
          827,
          31,
          1,
          10,
          3
         ],
         "yaxis": "y"
        },
        {
         "alignmentgroup": "True",
         "hovertemplate": "category=%{x}<br>number_of_reviews=%{y}<extra></extra>",
         "legendgroup": "Face Sets",
         "marker": {
          "color": "#EF553B"
         },
         "name": "Face Sets",
         "offsetgroup": "Face Sets",
         "orientation": "v",
         "showlegend": true,
         "textposition": "auto",
         "type": "bar",
         "x": [
          "Face Sets",
          "Face Sets",
          "Face Sets"
         ],
         "xaxis": "x",
         "y": [
          87,
          20,
          18
         ],
         "yaxis": "y"
        },
        {
         "alignmentgroup": "True",
         "hovertemplate": "category=%{x}<br>number_of_reviews=%{y}<extra></extra>",
         "legendgroup": "Eyeshadow",
         "marker": {
          "color": "#00cc96"
         },
         "name": "Eyeshadow",
         "offsetgroup": "Eyeshadow",
         "orientation": "v",
         "showlegend": true,
         "textposition": "auto",
         "type": "bar",
         "x": [
          "Eyeshadow",
          "Eyeshadow"
         ],
         "xaxis": "x",
         "y": [
          1000,
          112
         ],
         "yaxis": "y"
        },
        {
         "alignmentgroup": "True",
         "hovertemplate": "category=%{x}<br>number_of_reviews=%{y}<extra></extra>",
         "legendgroup": "Concealer",
         "marker": {
          "color": "#ab63fa"
         },
         "name": "Concealer",
         "offsetgroup": "Concealer",
         "orientation": "v",
         "showlegend": true,
         "textposition": "auto",
         "type": "bar",
         "x": [
          "Concealer",
          "Concealer",
          "Concealer"
         ],
         "xaxis": "x",
         "y": [
          2000,
          496,
          2
         ],
         "yaxis": "y"
        },
        {
         "alignmentgroup": "True",
         "hovertemplate": "category=%{x}<br>number_of_reviews=%{y}<extra></extra>",
         "legendgroup": "Eye Palettes",
         "marker": {
          "color": "#FFA15A"
         },
         "name": "Eye Palettes",
         "offsetgroup": "Eye Palettes",
         "orientation": "v",
         "showlegend": true,
         "textposition": "auto",
         "type": "bar",
         "x": [
          "Eye Palettes",
          "Eye Palettes",
          "Eye Palettes",
          "Eye Palettes",
          "Eye Palettes",
          "Eye Palettes",
          "Eye Palettes",
          "Eye Palettes",
          "Eye Palettes",
          "Eye Palettes",
          "Eye Palettes",
          "Eye Palettes",
          "Eye Palettes"
         ],
         "xaxis": "x",
         "y": [
          262,
          255,
          44,
          86,
          8,
          81,
          8,
          408,
          0,
          22,
          4,
          1,
          156
         ],
         "yaxis": "y"
        },
        {
         "alignmentgroup": "True",
         "hovertemplate": "category=%{x}<br>number_of_reviews=%{y}<extra></extra>",
         "legendgroup": "Eye Creams & Treatments",
         "marker": {
          "color": "#19d3f3"
         },
         "name": "Eye Creams & Treatments",
         "offsetgroup": "Eye Creams & Treatments",
         "orientation": "v",
         "showlegend": true,
         "textposition": "auto",
         "type": "bar",
         "x": [
          "Eye Creams & Treatments"
         ],
         "xaxis": "x",
         "y": [
          515
         ],
         "yaxis": "y"
        },
        {
         "alignmentgroup": "True",
         "hovertemplate": "category=%{x}<br>number_of_reviews=%{y}<extra></extra>",
         "legendgroup": "Face Brushes",
         "marker": {
          "color": "#FF6692"
         },
         "name": "Face Brushes",
         "offsetgroup": "Face Brushes",
         "orientation": "v",
         "showlegend": true,
         "textposition": "auto",
         "type": "bar",
         "x": [
          "Face Brushes",
          "Face Brushes",
          "Face Brushes",
          "Face Brushes",
          "Face Brushes",
          "Face Brushes",
          "Face Brushes",
          "Face Brushes",
          "Face Brushes",
          "Face Brushes",
          "Face Brushes",
          "Face Brushes",
          "Face Brushes",
          "Face Brushes",
          "Face Brushes",
          "Face Brushes",
          "Face Brushes",
          "Face Brushes",
          "Face Brushes",
          "Face Brushes",
          "Face Brushes",
          "Face Brushes",
          "Face Brushes",
          "Face Brushes",
          "Face Brushes",
          "Face Brushes",
          "Face Brushes",
          "Face Brushes",
          "Face Brushes",
          "Face Brushes",
          "Face Brushes",
          "Face Brushes",
          "Face Brushes",
          "Face Brushes",
          "Face Brushes",
          "Face Brushes",
          "Face Brushes",
          "Face Brushes",
          "Face Brushes",
          "Face Brushes",
          "Face Brushes",
          "Face Brushes",
          "Face Brushes",
          "Face Brushes",
          "Face Brushes"
         ],
         "xaxis": "x",
         "y": [
          89,
          58,
          93,
          52,
          164,
          1000,
          2,
          62,
          17,
          269,
          99,
          987,
          232,
          40,
          43,
          33,
          81,
          103,
          679,
          9,
          70,
          57,
          0,
          1,
          65,
          18,
          0,
          0,
          9,
          1,
          10,
          19,
          101,
          0,
          100,
          271,
          7,
          289,
          146,
          183,
          239,
          44,
          208,
          56,
          116
         ],
         "yaxis": "y"
        },
        {
         "alignmentgroup": "True",
         "hovertemplate": "category=%{x}<br>number_of_reviews=%{y}<extra></extra>",
         "legendgroup": "Sheet Masks",
         "marker": {
          "color": "#B6E880"
         },
         "name": "Sheet Masks",
         "offsetgroup": "Sheet Masks",
         "orientation": "v",
         "showlegend": true,
         "textposition": "auto",
         "type": "bar",
         "x": [
          "Sheet Masks",
          "Sheet Masks",
          "Sheet Masks",
          "Sheet Masks",
          "Sheet Masks",
          "Sheet Masks",
          "Sheet Masks",
          "Sheet Masks",
          "Sheet Masks",
          "Sheet Masks"
         ],
         "xaxis": "x",
         "y": [
          137,
          102,
          48,
          0,
          17,
          14,
          2,
          1000,
          86,
          17
         ],
         "yaxis": "y"
        },
        {
         "alignmentgroup": "True",
         "hovertemplate": "category=%{x}<br>number_of_reviews=%{y}<extra></extra>",
         "legendgroup": "Makeup Palettes",
         "marker": {
          "color": "#FF97FF"
         },
         "name": "Makeup Palettes",
         "offsetgroup": "Makeup Palettes",
         "orientation": "v",
         "showlegend": true,
         "textposition": "auto",
         "type": "bar",
         "x": [
          "Makeup Palettes",
          "Makeup Palettes",
          "Makeup Palettes",
          "Makeup Palettes",
          "Makeup Palettes",
          "Makeup Palettes"
         ],
         "xaxis": "x",
         "y": [
          65,
          30,
          76,
          40,
          26,
          23
         ],
         "yaxis": "y"
        },
        {
         "alignmentgroup": "True",
         "hovertemplate": "category=%{x}<br>number_of_reviews=%{y}<extra></extra>",
         "legendgroup": "Hand Cream & Foot Cream",
         "marker": {
          "color": "#FECB52"
         },
         "name": "Hand Cream & Foot Cream",
         "offsetgroup": "Hand Cream & Foot Cream",
         "orientation": "v",
         "showlegend": true,
         "textposition": "auto",
         "type": "bar",
         "x": [
          "Hand Cream & Foot Cream",
          "Hand Cream & Foot Cream",
          "Hand Cream & Foot Cream"
         ],
         "xaxis": "x",
         "y": [
          956,
          203,
          394
         ],
         "yaxis": "y"
        },
        {
         "alignmentgroup": "True",
         "hovertemplate": "category=%{x}<br>number_of_reviews=%{y}<extra></extra>",
         "legendgroup": "Lip Gloss",
         "marker": {
          "color": "#636efa"
         },
         "name": "Lip Gloss",
         "offsetgroup": "Lip Gloss",
         "orientation": "v",
         "showlegend": true,
         "textposition": "auto",
         "type": "bar",
         "x": [
          "Lip Gloss",
          "Lip Gloss",
          "Lip Gloss",
          "Lip Gloss",
          "Lip Gloss",
          "Lip Gloss"
         ],
         "xaxis": "x",
         "y": [
          3000,
          555,
          321,
          1,
          147,
          64
         ],
         "yaxis": "y"
        },
        {
         "alignmentgroup": "True",
         "hovertemplate": "category=%{x}<br>number_of_reviews=%{y}<extra></extra>",
         "legendgroup": "Lip Balm & Treatment",
         "marker": {
          "color": "#EF553B"
         },
         "name": "Lip Balm & Treatment",
         "offsetgroup": "Lip Balm & Treatment",
         "orientation": "v",
         "showlegend": true,
         "textposition": "auto",
         "type": "bar",
         "x": [
          "Lip Balm & Treatment",
          "Lip Balm & Treatment",
          "Lip Balm & Treatment",
          "Lip Balm & Treatment",
          "Lip Balm & Treatment"
         ],
         "xaxis": "x",
         "y": [
          2000,
          892,
          212,
          105,
          16
         ],
         "yaxis": "y"
        },
        {
         "alignmentgroup": "True",
         "hovertemplate": "category=%{x}<br>number_of_reviews=%{y}<extra></extra>",
         "legendgroup": "Hair Removal",
         "marker": {
          "color": "#00cc96"
         },
         "name": "Hair Removal",
         "offsetgroup": "Hair Removal",
         "orientation": "v",
         "showlegend": true,
         "textposition": "auto",
         "type": "bar",
         "x": [
          "Hair Removal",
          "Hair Removal"
         ],
         "xaxis": "x",
         "y": [
          408,
          143
         ],
         "yaxis": "y"
        },
        {
         "alignmentgroup": "True",
         "hovertemplate": "category=%{x}<br>number_of_reviews=%{y}<extra></extra>",
         "legendgroup": "Eye Brushes",
         "marker": {
          "color": "#ab63fa"
         },
         "name": "Eye Brushes",
         "offsetgroup": "Eye Brushes",
         "orientation": "v",
         "showlegend": true,
         "textposition": "auto",
         "type": "bar",
         "x": [
          "Eye Brushes",
          "Eye Brushes",
          "Eye Brushes",
          "Eye Brushes",
          "Eye Brushes",
          "Eye Brushes",
          "Eye Brushes",
          "Eye Brushes",
          "Eye Brushes",
          "Eye Brushes",
          "Eye Brushes",
          "Eye Brushes",
          "Eye Brushes",
          "Eye Brushes",
          "Eye Brushes",
          "Eye Brushes",
          "Eye Brushes",
          "Eye Brushes",
          "Eye Brushes",
          "Eye Brushes",
          "Eye Brushes",
          "Eye Brushes",
          "Eye Brushes",
          "Eye Brushes",
          "Eye Brushes",
          "Eye Brushes",
          "Eye Brushes"
         ],
         "xaxis": "x",
         "y": [
          132,
          128,
          22,
          1,
          41,
          21,
          265,
          1,
          61,
          223,
          7,
          0,
          0,
          54,
          1,
          49,
          0,
          16,
          0,
          1,
          0,
          72,
          72,
          0,
          18,
          25,
          83
         ],
         "yaxis": "y"
        },
        {
         "alignmentgroup": "True",
         "hovertemplate": "category=%{x}<br>number_of_reviews=%{y}<extra></extra>",
         "legendgroup": "Facial Rollers",
         "marker": {
          "color": "#FFA15A"
         },
         "name": "Facial Rollers",
         "offsetgroup": "Facial Rollers",
         "orientation": "v",
         "showlegend": true,
         "textposition": "auto",
         "type": "bar",
         "x": [
          "Facial Rollers",
          "Facial Rollers",
          "Facial Rollers",
          "Facial Rollers",
          "Facial Rollers",
          "Facial Rollers",
          "Facial Rollers"
         ],
         "xaxis": "x",
         "y": [
          19,
          10,
          13,
          6,
          28,
          56,
          61
         ],
         "yaxis": "y"
        },
        {
         "alignmentgroup": "True",
         "hovertemplate": "category=%{x}<br>number_of_reviews=%{y}<extra></extra>",
         "legendgroup": "Lip Sets",
         "marker": {
          "color": "#19d3f3"
         },
         "name": "Lip Sets",
         "offsetgroup": "Lip Sets",
         "orientation": "v",
         "showlegend": true,
         "textposition": "auto",
         "type": "bar",
         "x": [
          "Lip Sets",
          "Lip Sets",
          "Lip Sets",
          "Lip Sets",
          "Lip Sets"
         ],
         "xaxis": "x",
         "y": [
          14,
          17,
          16,
          2,
          0
         ],
         "yaxis": "y"
        },
        {
         "alignmentgroup": "True",
         "hovertemplate": "category=%{x}<br>number_of_reviews=%{y}<extra></extra>",
         "legendgroup": "Value & Gift Sets",
         "marker": {
          "color": "#FF6692"
         },
         "name": "Value & Gift Sets",
         "offsetgroup": "Value & Gift Sets",
         "orientation": "v",
         "showlegend": true,
         "textposition": "auto",
         "type": "bar",
         "x": [
          "Value & Gift Sets",
          "Value & Gift Sets",
          "Value & Gift Sets",
          "Value & Gift Sets",
          "Value & Gift Sets",
          "Value & Gift Sets",
          "Value & Gift Sets"
         ],
         "xaxis": "x",
         "y": [
          0,
          98,
          29,
          178,
          0,
          0,
          18
         ],
         "yaxis": "y"
        },
        {
         "alignmentgroup": "True",
         "hovertemplate": "category=%{x}<br>number_of_reviews=%{y}<extra></extra>",
         "legendgroup": "Moisturizers",
         "marker": {
          "color": "#B6E880"
         },
         "name": "Moisturizers",
         "offsetgroup": "Moisturizers",
         "orientation": "v",
         "showlegend": true,
         "textposition": "auto",
         "type": "bar",
         "x": [
          "Moisturizers",
          "Moisturizers",
          "Moisturizers",
          "Moisturizers",
          "Moisturizers",
          "Moisturizers"
         ],
         "xaxis": "x",
         "y": [
          447,
          493,
          62,
          19,
          25,
          11
         ],
         "yaxis": "y"
        },
        {
         "alignmentgroup": "True",
         "hovertemplate": "category=%{x}<br>number_of_reviews=%{y}<extra></extra>",
         "legendgroup": "Lip Liner",
         "marker": {
          "color": "#FF97FF"
         },
         "name": "Lip Liner",
         "offsetgroup": "Lip Liner",
         "orientation": "v",
         "showlegend": true,
         "textposition": "auto",
         "type": "bar",
         "x": [
          "Lip Liner",
          "Lip Liner",
          "Lip Liner"
         ],
         "xaxis": "x",
         "y": [
          810,
          570,
          337
         ],
         "yaxis": "y"
        },
        {
         "alignmentgroup": "True",
         "hovertemplate": "category=%{x}<br>number_of_reviews=%{y}<extra></extra>",
         "legendgroup": "Makeup Removers",
         "marker": {
          "color": "#FECB52"
         },
         "name": "Makeup Removers",
         "offsetgroup": "Makeup Removers",
         "orientation": "v",
         "showlegend": true,
         "textposition": "auto",
         "type": "bar",
         "x": [
          "Makeup Removers",
          "Makeup Removers",
          "Makeup Removers",
          "Makeup Removers",
          "Makeup Removers",
          "Makeup Removers",
          "Makeup Removers",
          "Makeup Removers"
         ],
         "xaxis": "x",
         "y": [
          3000,
          71,
          51,
          54,
          19,
          14,
          39,
          328
         ],
         "yaxis": "y"
        },
        {
         "alignmentgroup": "True",
         "hovertemplate": "category=%{x}<br>number_of_reviews=%{y}<extra></extra>",
         "legendgroup": "Beauty Supplements",
         "marker": {
          "color": "#636efa"
         },
         "name": "Beauty Supplements",
         "offsetgroup": "Beauty Supplements",
         "orientation": "v",
         "showlegend": true,
         "textposition": "auto",
         "type": "bar",
         "x": [
          "Beauty Supplements",
          "Beauty Supplements",
          "Beauty Supplements",
          "Beauty Supplements",
          "Beauty Supplements",
          "Beauty Supplements",
          "Beauty Supplements",
          "Beauty Supplements",
          "Beauty Supplements",
          "Beauty Supplements",
          "Beauty Supplements",
          "Beauty Supplements",
          "Beauty Supplements"
         ],
         "xaxis": "x",
         "y": [
          59,
          54,
          9,
          65,
          7,
          5,
          60,
          19,
          1,
          2,
          0,
          0,
          0
         ],
         "yaxis": "y"
        },
        {
         "alignmentgroup": "True",
         "hovertemplate": "category=%{x}<br>number_of_reviews=%{y}<extra></extra>",
         "legendgroup": "Self Tanners",
         "marker": {
          "color": "#EF553B"
         },
         "name": "Self Tanners",
         "offsetgroup": "Self Tanners",
         "orientation": "v",
         "showlegend": true,
         "textposition": "auto",
         "type": "bar",
         "x": [
          "Self Tanners"
         ],
         "xaxis": "x",
         "y": [
          969
         ],
         "yaxis": "y"
        },
        {
         "alignmentgroup": "True",
         "hovertemplate": "category=%{x}<br>number_of_reviews=%{y}<extra></extra>",
         "legendgroup": "Face Primer",
         "marker": {
          "color": "#00cc96"
         },
         "name": "Face Primer",
         "offsetgroup": "Face Primer",
         "orientation": "v",
         "showlegend": true,
         "textposition": "auto",
         "type": "bar",
         "x": [
          "Face Primer",
          "Face Primer",
          "Face Primer",
          "Face Primer",
          "Face Primer",
          "Face Primer"
         ],
         "xaxis": "x",
         "y": [
          378,
          98,
          1000,
          17,
          17,
          596
         ],
         "yaxis": "y"
        },
        {
         "alignmentgroup": "True",
         "hovertemplate": "category=%{x}<br>number_of_reviews=%{y}<extra></extra>",
         "legendgroup": "Lip Stain",
         "marker": {
          "color": "#ab63fa"
         },
         "name": "Lip Stain",
         "offsetgroup": "Lip Stain",
         "orientation": "v",
         "showlegend": true,
         "textposition": "auto",
         "type": "bar",
         "x": [
          "Lip Stain",
          "Lip Stain",
          "Lip Stain"
         ],
         "xaxis": "x",
         "y": [
          444,
          94,
          205
         ],
         "yaxis": "y"
        },
        {
         "alignmentgroup": "True",
         "hovertemplate": "category=%{x}<br>number_of_reviews=%{y}<extra></extra>",
         "legendgroup": "Face Wash & Cleansers",
         "marker": {
          "color": "#FFA15A"
         },
         "name": "Face Wash & Cleansers",
         "offsetgroup": "Face Wash & Cleansers",
         "orientation": "v",
         "showlegend": true,
         "textposition": "auto",
         "type": "bar",
         "x": [
          "Face Wash & Cleansers",
          "Face Wash & Cleansers",
          "Face Wash & Cleansers",
          "Face Wash & Cleansers",
          "Face Wash & Cleansers",
          "Face Wash & Cleansers",
          "Face Wash & Cleansers",
          "Face Wash & Cleansers"
         ],
         "xaxis": "x",
         "y": [
          401,
          1000,
          5,
          26,
          28,
          38,
          47,
          357
         ],
         "yaxis": "y"
        },
        {
         "alignmentgroup": "True",
         "hovertemplate": "category=%{x}<br>number_of_reviews=%{y}<extra></extra>",
         "legendgroup": "Hair Masks",
         "marker": {
          "color": "#19d3f3"
         },
         "name": "Hair Masks",
         "offsetgroup": "Hair Masks",
         "orientation": "v",
         "showlegend": true,
         "textposition": "auto",
         "type": "bar",
         "x": [
          "Hair Masks"
         ],
         "xaxis": "x",
         "y": [
          529
         ],
         "yaxis": "y"
        },
        {
         "alignmentgroup": "True",
         "hovertemplate": "category=%{x}<br>number_of_reviews=%{y}<extra></extra>",
         "legendgroup": "Nail",
         "marker": {
          "color": "#FF6692"
         },
         "name": "Nail",
         "offsetgroup": "Nail",
         "orientation": "v",
         "showlegend": true,
         "textposition": "auto",
         "type": "bar",
         "x": [
          "Nail",
          "Nail",
          "Nail",
          "Nail",
          "Nail",
          "Nail"
         ],
         "xaxis": "x",
         "y": [
          168,
          163,
          12,
          636,
          12,
          57
         ],
         "yaxis": "y"
        },
        {
         "alignmentgroup": "True",
         "hovertemplate": "category=%{x}<br>number_of_reviews=%{y}<extra></extra>",
         "legendgroup": "Hair Styling Products",
         "marker": {
          "color": "#B6E880"
         },
         "name": "Hair Styling Products",
         "offsetgroup": "Hair Styling Products",
         "orientation": "v",
         "showlegend": true,
         "textposition": "auto",
         "type": "bar",
         "x": [
          "Hair Styling Products",
          "Hair Styling Products",
          "Hair Styling Products",
          "Hair Styling Products",
          "Hair Styling Products",
          "Hair Styling Products"
         ],
         "xaxis": "x",
         "y": [
          115,
          89,
          5,
          102,
          19,
          0
         ],
         "yaxis": "y"
        },
        {
         "alignmentgroup": "True",
         "hovertemplate": "category=%{x}<br>number_of_reviews=%{y}<extra></extra>",
         "legendgroup": "Mascara",
         "marker": {
          "color": "#FF97FF"
         },
         "name": "Mascara",
         "offsetgroup": "Mascara",
         "orientation": "v",
         "showlegend": true,
         "textposition": "auto",
         "type": "bar",
         "x": [
          "Mascara",
          "Mascara",
          "Mascara",
          "Mascara",
          "Mascara",
          "Mascara"
         ],
         "xaxis": "x",
         "y": [
          831,
          1000,
          128,
          14,
          23,
          123
         ],
         "yaxis": "y"
        },
        {
         "alignmentgroup": "True",
         "hovertemplate": "category=%{x}<br>number_of_reviews=%{y}<extra></extra>",
         "legendgroup": "Brush Cleaners",
         "marker": {
          "color": "#FECB52"
         },
         "name": "Brush Cleaners",
         "offsetgroup": "Brush Cleaners",
         "orientation": "v",
         "showlegend": true,
         "textposition": "auto",
         "type": "bar",
         "x": [
          "Brush Cleaners",
          "Brush Cleaners",
          "Brush Cleaners",
          "Brush Cleaners",
          "Brush Cleaners",
          "Brush Cleaners",
          "Brush Cleaners",
          "Brush Cleaners",
          "Brush Cleaners",
          "Brush Cleaners"
         ],
         "xaxis": "x",
         "y": [
          637,
          2000,
          190,
          2,
          831,
          276,
          31,
          22,
          165,
          619
         ],
         "yaxis": "y"
        },
        {
         "alignmentgroup": "True",
         "hovertemplate": "category=%{x}<br>number_of_reviews=%{y}<extra></extra>",
         "legendgroup": "Facial Peels",
         "marker": {
          "color": "#636efa"
         },
         "name": "Facial Peels",
         "offsetgroup": "Facial Peels",
         "orientation": "v",
         "showlegend": true,
         "textposition": "auto",
         "type": "bar",
         "x": [
          "Facial Peels",
          "Facial Peels",
          "Facial Peels"
         ],
         "xaxis": "x",
         "y": [
          272,
          40,
          9
         ],
         "yaxis": "y"
        },
        {
         "alignmentgroup": "True",
         "hovertemplate": "category=%{x}<br>number_of_reviews=%{y}<extra></extra>",
         "legendgroup": "no category",
         "marker": {
          "color": "#EF553B"
         },
         "name": "no category",
         "offsetgroup": "no category",
         "orientation": "v",
         "showlegend": true,
         "textposition": "auto",
         "type": "bar",
         "x": [
          "no category",
          "no category",
          "no category",
          "no category",
          "no category",
          "no category",
          "no category"
         ],
         "xaxis": "x",
         "y": [
          0,
          26,
          0,
          0,
          12,
          46,
          0
         ],
         "yaxis": "y"
        },
        {
         "alignmentgroup": "True",
         "hovertemplate": "category=%{x}<br>number_of_reviews=%{y}<extra></extra>",
         "legendgroup": "Blush",
         "marker": {
          "color": "#00cc96"
         },
         "name": "Blush",
         "offsetgroup": "Blush",
         "orientation": "v",
         "showlegend": true,
         "textposition": "auto",
         "type": "bar",
         "x": [
          "Blush",
          "Blush",
          "Blush"
         ],
         "xaxis": "x",
         "y": [
          361,
          48,
          244
         ],
         "yaxis": "y"
        },
        {
         "alignmentgroup": "True",
         "hovertemplate": "category=%{x}<br>number_of_reviews=%{y}<extra></extra>",
         "legendgroup": "Night Creams",
         "marker": {
          "color": "#ab63fa"
         },
         "name": "Night Creams",
         "offsetgroup": "Night Creams",
         "orientation": "v",
         "showlegend": true,
         "textposition": "auto",
         "type": "bar",
         "x": [
          "Night Creams"
         ],
         "xaxis": "x",
         "y": [
          143
         ],
         "yaxis": "y"
        },
        {
         "alignmentgroup": "True",
         "hovertemplate": "category=%{x}<br>number_of_reviews=%{y}<extra></extra>",
         "legendgroup": "Eye Primer",
         "marker": {
          "color": "#FFA15A"
         },
         "name": "Eye Primer",
         "offsetgroup": "Eye Primer",
         "orientation": "v",
         "showlegend": true,
         "textposition": "auto",
         "type": "bar",
         "x": [
          "Eye Primer",
          "Eye Primer",
          "Eye Primer"
         ],
         "xaxis": "x",
         "y": [
          169,
          108,
          68
         ],
         "yaxis": "y"
        },
        {
         "alignmentgroup": "True",
         "hovertemplate": "category=%{x}<br>number_of_reviews=%{y}<extra></extra>",
         "legendgroup": "Bronzer",
         "marker": {
          "color": "#19d3f3"
         },
         "name": "Bronzer",
         "offsetgroup": "Bronzer",
         "orientation": "v",
         "showlegend": true,
         "textposition": "auto",
         "type": "bar",
         "x": [
          "Bronzer",
          "Bronzer",
          "Bronzer"
         ],
         "xaxis": "x",
         "y": [
          1000,
          25,
          3
         ],
         "yaxis": "y"
        },
        {
         "alignmentgroup": "True",
         "hovertemplate": "category=%{x}<br>number_of_reviews=%{y}<extra></extra>",
         "legendgroup": "Facial Cleansing Brushes",
         "marker": {
          "color": "#FF6692"
         },
         "name": "Facial Cleansing Brushes",
         "offsetgroup": "Facial Cleansing Brushes",
         "orientation": "v",
         "showlegend": true,
         "textposition": "auto",
         "type": "bar",
         "x": [
          "Facial Cleansing Brushes",
          "Facial Cleansing Brushes",
          "Facial Cleansing Brushes"
         ],
         "xaxis": "x",
         "y": [
          2000,
          339,
          0
         ],
         "yaxis": "y"
        },
        {
         "alignmentgroup": "True",
         "hovertemplate": "category=%{x}<br>number_of_reviews=%{y}<extra></extra>",
         "legendgroup": "Eye Sets",
         "marker": {
          "color": "#B6E880"
         },
         "name": "Eye Sets",
         "offsetgroup": "Eye Sets",
         "orientation": "v",
         "showlegend": true,
         "textposition": "auto",
         "type": "bar",
         "x": [
          "Eye Sets",
          "Eye Sets"
         ],
         "xaxis": "x",
         "y": [
          26,
          1
         ],
         "yaxis": "y"
        },
        {
         "alignmentgroup": "True",
         "hovertemplate": "category=%{x}<br>number_of_reviews=%{y}<extra></extra>",
         "legendgroup": "Tinted Moisturizer",
         "marker": {
          "color": "#FF97FF"
         },
         "name": "Tinted Moisturizer",
         "offsetgroup": "Tinted Moisturizer",
         "orientation": "v",
         "showlegend": true,
         "textposition": "auto",
         "type": "bar",
         "x": [
          "Tinted Moisturizer",
          "Tinted Moisturizer"
         ],
         "xaxis": "x",
         "y": [
          239,
          0
         ],
         "yaxis": "y"
        },
        {
         "alignmentgroup": "True",
         "hovertemplate": "category=%{x}<br>number_of_reviews=%{y}<extra></extra>",
         "legendgroup": "Highlighter",
         "marker": {
          "color": "#FECB52"
         },
         "name": "Highlighter",
         "offsetgroup": "Highlighter",
         "orientation": "v",
         "showlegend": true,
         "textposition": "auto",
         "type": "bar",
         "x": [
          "Highlighter",
          "Highlighter",
          "Highlighter",
          "Highlighter",
          "Highlighter",
          "Highlighter",
          "Highlighter"
         ],
         "xaxis": "x",
         "y": [
          538,
          398,
          51,
          4,
          38,
          35,
          34
         ],
         "yaxis": "y"
        },
        {
         "alignmentgroup": "True",
         "hovertemplate": "category=%{x}<br>number_of_reviews=%{y}<extra></extra>",
         "legendgroup": "Color Correct",
         "marker": {
          "color": "#636efa"
         },
         "name": "Color Correct",
         "offsetgroup": "Color Correct",
         "orientation": "v",
         "showlegend": true,
         "textposition": "auto",
         "type": "bar",
         "x": [
          "Color Correct"
         ],
         "xaxis": "x",
         "y": [
          896
         ],
         "yaxis": "y"
        },
        {
         "alignmentgroup": "True",
         "hovertemplate": "category=%{x}<br>number_of_reviews=%{y}<extra></extra>",
         "legendgroup": "Sponges & Applicators",
         "marker": {
          "color": "#EF553B"
         },
         "name": "Sponges & Applicators",
         "offsetgroup": "Sponges & Applicators",
         "orientation": "v",
         "showlegend": true,
         "textposition": "auto",
         "type": "bar",
         "x": [
          "Sponges & Applicators",
          "Sponges & Applicators",
          "Sponges & Applicators",
          "Sponges & Applicators",
          "Sponges & Applicators",
          "Sponges & Applicators",
          "Sponges & Applicators",
          "Sponges & Applicators",
          "Sponges & Applicators",
          "Sponges & Applicators",
          "Sponges & Applicators",
          "Sponges & Applicators",
          "Sponges & Applicators",
          "Sponges & Applicators",
          "Sponges & Applicators",
          "Sponges & Applicators",
          "Sponges & Applicators",
          "Sponges & Applicators"
         ],
         "xaxis": "x",
         "y": [
          42,
          12,
          39,
          1,
          0,
          5,
          297,
          72,
          73,
          37,
          1,
          110,
          7,
          67,
          19,
          127,
          146,
          22
         ],
         "yaxis": "y"
        },
        {
         "alignmentgroup": "True",
         "hovertemplate": "category=%{x}<br>number_of_reviews=%{y}<extra></extra>",
         "legendgroup": "Spa Tools",
         "marker": {
          "color": "#00cc96"
         },
         "name": "Spa Tools",
         "offsetgroup": "Spa Tools",
         "orientation": "v",
         "showlegend": true,
         "textposition": "auto",
         "type": "bar",
         "x": [
          "Spa Tools"
         ],
         "xaxis": "x",
         "y": [
          170
         ],
         "yaxis": "y"
        },
        {
         "alignmentgroup": "True",
         "hovertemplate": "category=%{x}<br>number_of_reviews=%{y}<extra></extra>",
         "legendgroup": "Eyelash Curlers",
         "marker": {
          "color": "#ab63fa"
         },
         "name": "Eyelash Curlers",
         "offsetgroup": "Eyelash Curlers",
         "orientation": "v",
         "showlegend": true,
         "textposition": "auto",
         "type": "bar",
         "x": [
          "Eyelash Curlers",
          "Eyelash Curlers",
          "Eyelash Curlers"
         ],
         "xaxis": "x",
         "y": [
          355,
          217,
          90
         ],
         "yaxis": "y"
        },
        {
         "alignmentgroup": "True",
         "hovertemplate": "category=%{x}<br>number_of_reviews=%{y}<extra></extra>",
         "legendgroup": "Hair Brushes & Combs",
         "marker": {
          "color": "#FFA15A"
         },
         "name": "Hair Brushes & Combs",
         "offsetgroup": "Hair Brushes & Combs",
         "orientation": "v",
         "showlegend": true,
         "textposition": "auto",
         "type": "bar",
         "x": [
          "Hair Brushes & Combs",
          "Hair Brushes & Combs",
          "Hair Brushes & Combs",
          "Hair Brushes & Combs",
          "Hair Brushes & Combs"
         ],
         "xaxis": "x",
         "y": [
          89,
          7,
          26,
          6,
          4
         ],
         "yaxis": "y"
        },
        {
         "alignmentgroup": "True",
         "hovertemplate": "category=%{x}<br>number_of_reviews=%{y}<extra></extra>",
         "legendgroup": "Makeup Bags & Travel Cases",
         "marker": {
          "color": "#19d3f3"
         },
         "name": "Makeup Bags & Travel Cases",
         "offsetgroup": "Makeup Bags & Travel Cases",
         "orientation": "v",
         "showlegend": true,
         "textposition": "auto",
         "type": "bar",
         "x": [
          "Makeup Bags & Travel Cases",
          "Makeup Bags & Travel Cases",
          "Makeup Bags & Travel Cases",
          "Makeup Bags & Travel Cases",
          "Makeup Bags & Travel Cases",
          "Makeup Bags & Travel Cases",
          "Makeup Bags & Travel Cases",
          "Makeup Bags & Travel Cases",
          "Makeup Bags & Travel Cases",
          "Makeup Bags & Travel Cases",
          "Makeup Bags & Travel Cases",
          "Makeup Bags & Travel Cases"
         ],
         "xaxis": "x",
         "y": [
          176,
          31,
          75,
          17,
          7,
          4,
          12,
          273,
          3,
          30,
          23,
          25
         ],
         "yaxis": "y"
        },
        {
         "alignmentgroup": "True",
         "hovertemplate": "category=%{x}<br>number_of_reviews=%{y}<extra></extra>",
         "legendgroup": "Lip Balms & Treatments",
         "marker": {
          "color": "#FF6692"
         },
         "name": "Lip Balms & Treatments",
         "offsetgroup": "Lip Balms & Treatments",
         "orientation": "v",
         "showlegend": true,
         "textposition": "auto",
         "type": "bar",
         "x": [
          "Lip Balms & Treatments",
          "Lip Balms & Treatments"
         ],
         "xaxis": "x",
         "y": [
          196,
          733
         ],
         "yaxis": "y"
        },
        {
         "alignmentgroup": "True",
         "hovertemplate": "category=%{x}<br>number_of_reviews=%{y}<extra></extra>",
         "legendgroup": "Hair Accessories",
         "marker": {
          "color": "#B6E880"
         },
         "name": "Hair Accessories",
         "offsetgroup": "Hair Accessories",
         "orientation": "v",
         "showlegend": true,
         "textposition": "auto",
         "type": "bar",
         "x": [
          "Hair Accessories",
          "Hair Accessories",
          "Hair Accessories",
          "Hair Accessories",
          "Hair Accessories",
          "Hair Accessories"
         ],
         "xaxis": "x",
         "y": [
          2,
          1000,
          42,
          5,
          82,
          65
         ],
         "yaxis": "y"
        },
        {
         "alignmentgroup": "True",
         "hovertemplate": "category=%{x}<br>number_of_reviews=%{y}<extra></extra>",
         "legendgroup": "Blemish & Acne Treatments",
         "marker": {
          "color": "#FF97FF"
         },
         "name": "Blemish & Acne Treatments",
         "offsetgroup": "Blemish & Acne Treatments",
         "orientation": "v",
         "showlegend": true,
         "textposition": "auto",
         "type": "bar",
         "x": [
          "Blemish & Acne Treatments",
          "Blemish & Acne Treatments",
          "Blemish & Acne Treatments",
          "Blemish & Acne Treatments",
          "Blemish & Acne Treatments"
         ],
         "xaxis": "x",
         "y": [
          513,
          495,
          0,
          59,
          22
         ],
         "yaxis": "y"
        },
        {
         "alignmentgroup": "True",
         "hovertemplate": "category=%{x}<br>number_of_reviews=%{y}<extra></extra>",
         "legendgroup": "Cheek Palettes",
         "marker": {
          "color": "#FECB52"
         },
         "name": "Cheek Palettes",
         "offsetgroup": "Cheek Palettes",
         "orientation": "v",
         "showlegend": true,
         "textposition": "auto",
         "type": "bar",
         "x": [
          "Cheek Palettes",
          "Cheek Palettes"
         ],
         "xaxis": "x",
         "y": [
          20,
          149
         ],
         "yaxis": "y"
        },
        {
         "alignmentgroup": "True",
         "hovertemplate": "category=%{x}<br>number_of_reviews=%{y}<extra></extra>",
         "legendgroup": "Setting Spray & Powder",
         "marker": {
          "color": "#636efa"
         },
         "name": "Setting Spray & Powder",
         "offsetgroup": "Setting Spray & Powder",
         "orientation": "v",
         "showlegend": true,
         "textposition": "auto",
         "type": "bar",
         "x": [
          "Setting Spray & Powder",
          "Setting Spray & Powder",
          "Setting Spray & Powder"
         ],
         "xaxis": "x",
         "y": [
          72,
          560,
          187
         ],
         "yaxis": "y"
        },
        {
         "alignmentgroup": "True",
         "hovertemplate": "category=%{x}<br>number_of_reviews=%{y}<extra></extra>",
         "legendgroup": "Body Lotions & Body Oils",
         "marker": {
          "color": "#EF553B"
         },
         "name": "Body Lotions & Body Oils",
         "offsetgroup": "Body Lotions & Body Oils",
         "orientation": "v",
         "showlegend": true,
         "textposition": "auto",
         "type": "bar",
         "x": [
          "Body Lotions & Body Oils",
          "Body Lotions & Body Oils",
          "Body Lotions & Body Oils",
          "Body Lotions & Body Oils",
          "Body Lotions & Body Oils"
         ],
         "xaxis": "x",
         "y": [
          845,
          17,
          6,
          17,
          32
         ],
         "yaxis": "y"
        },
        {
         "alignmentgroup": "True",
         "hovertemplate": "category=%{x}<br>number_of_reviews=%{y}<extra></extra>",
         "legendgroup": "Accessories",
         "marker": {
          "color": "#00cc96"
         },
         "name": "Accessories",
         "offsetgroup": "Accessories",
         "orientation": "v",
         "showlegend": true,
         "textposition": "auto",
         "type": "bar",
         "x": [
          "Accessories"
         ],
         "xaxis": "x",
         "y": [
          16
         ],
         "yaxis": "y"
        },
        {
         "alignmentgroup": "True",
         "hovertemplate": "category=%{x}<br>number_of_reviews=%{y}<extra></extra>",
         "legendgroup": "Mirrors & Sharpeners",
         "marker": {
          "color": "#ab63fa"
         },
         "name": "Mirrors & Sharpeners",
         "offsetgroup": "Mirrors & Sharpeners",
         "orientation": "v",
         "showlegend": true,
         "textposition": "auto",
         "type": "bar",
         "x": [
          "Mirrors & Sharpeners",
          "Mirrors & Sharpeners"
         ],
         "xaxis": "x",
         "y": [
          308,
          86
         ],
         "yaxis": "y"
        },
        {
         "alignmentgroup": "True",
         "hovertemplate": "category=%{x}<br>number_of_reviews=%{y}<extra></extra>",
         "legendgroup": "Exfoliators",
         "marker": {
          "color": "#FFA15A"
         },
         "name": "Exfoliators",
         "offsetgroup": "Exfoliators",
         "orientation": "v",
         "showlegend": true,
         "textposition": "auto",
         "type": "bar",
         "x": [
          "Exfoliators",
          "Exfoliators",
          "Exfoliators"
         ],
         "xaxis": "x",
         "y": [
          28,
          70,
          5
         ],
         "yaxis": "y"
        },
        {
         "alignmentgroup": "True",
         "hovertemplate": "category=%{x}<br>number_of_reviews=%{y}<extra></extra>",
         "legendgroup": "Tweezers & Eyebrow Tools",
         "marker": {
          "color": "#19d3f3"
         },
         "name": "Tweezers & Eyebrow Tools",
         "offsetgroup": "Tweezers & Eyebrow Tools",
         "orientation": "v",
         "showlegend": true,
         "textposition": "auto",
         "type": "bar",
         "x": [
          "Tweezers & Eyebrow Tools",
          "Tweezers & Eyebrow Tools",
          "Tweezers & Eyebrow Tools"
         ],
         "xaxis": "x",
         "y": [
          492,
          12,
          12
         ],
         "yaxis": "y"
        },
        {
         "alignmentgroup": "True",
         "hovertemplate": "category=%{x}<br>number_of_reviews=%{y}<extra></extra>",
         "legendgroup": "Candles & Home Scents",
         "marker": {
          "color": "#FF6692"
         },
         "name": "Candles & Home Scents",
         "offsetgroup": "Candles & Home Scents",
         "orientation": "v",
         "showlegend": true,
         "textposition": "auto",
         "type": "bar",
         "x": [
          "Candles & Home Scents"
         ],
         "xaxis": "x",
         "y": [
          13
         ],
         "yaxis": "y"
        },
        {
         "alignmentgroup": "True",
         "hovertemplate": "category=%{x}<br>number_of_reviews=%{y}<extra></extra>",
         "legendgroup": "Hair Dryers",
         "marker": {
          "color": "#B6E880"
         },
         "name": "Hair Dryers",
         "offsetgroup": "Hair Dryers",
         "orientation": "v",
         "showlegend": true,
         "textposition": "auto",
         "type": "bar",
         "x": [
          "Hair Dryers",
          "Hair Dryers"
         ],
         "xaxis": "x",
         "y": [
          60,
          65
         ],
         "yaxis": "y"
        },
        {
         "alignmentgroup": "True",
         "hovertemplate": "category=%{x}<br>number_of_reviews=%{y}<extra></extra>",
         "legendgroup": "Contour",
         "marker": {
          "color": "#FF97FF"
         },
         "name": "Contour",
         "offsetgroup": "Contour",
         "orientation": "v",
         "showlegend": true,
         "textposition": "auto",
         "type": "bar",
         "x": [
          "Contour"
         ],
         "xaxis": "x",
         "y": [
          210
         ],
         "yaxis": "y"
        },
        {
         "alignmentgroup": "True",
         "hovertemplate": "category=%{x}<br>number_of_reviews=%{y}<extra></extra>",
         "legendgroup": "Face Sunscreen",
         "marker": {
          "color": "#FECB52"
         },
         "name": "Face Sunscreen",
         "offsetgroup": "Face Sunscreen",
         "orientation": "v",
         "showlegend": true,
         "textposition": "auto",
         "type": "bar",
         "x": [
          "Face Sunscreen"
         ],
         "xaxis": "x",
         "y": [
          12
         ],
         "yaxis": "y"
        },
        {
         "alignmentgroup": "True",
         "hovertemplate": "category=%{x}<br>number_of_reviews=%{y}<extra></extra>",
         "legendgroup": "Body Moisturizers",
         "marker": {
          "color": "#636efa"
         },
         "name": "Body Moisturizers",
         "offsetgroup": "Body Moisturizers",
         "orientation": "v",
         "showlegend": true,
         "textposition": "auto",
         "type": "bar",
         "x": [
          "Body Moisturizers"
         ],
         "xaxis": "x",
         "y": [
          43
         ],
         "yaxis": "y"
        },
        {
         "alignmentgroup": "True",
         "hovertemplate": "category=%{x}<br>number_of_reviews=%{y}<extra></extra>",
         "legendgroup": "Toners",
         "marker": {
          "color": "#EF553B"
         },
         "name": "Toners",
         "offsetgroup": "Toners",
         "orientation": "v",
         "showlegend": true,
         "textposition": "auto",
         "type": "bar",
         "x": [
          "Toners"
         ],
         "xaxis": "x",
         "y": [
          40
         ],
         "yaxis": "y"
        },
        {
         "alignmentgroup": "True",
         "hovertemplate": "category=%{x}<br>number_of_reviews=%{y}<extra></extra>",
         "legendgroup": "Anti-Aging",
         "marker": {
          "color": "#00cc96"
         },
         "name": "Anti-Aging",
         "offsetgroup": "Anti-Aging",
         "orientation": "v",
         "showlegend": true,
         "textposition": "auto",
         "type": "bar",
         "x": [
          "Anti-Aging"
         ],
         "xaxis": "x",
         "y": [
          91
         ],
         "yaxis": "y"
        },
        {
         "alignmentgroup": "True",
         "hovertemplate": "category=%{x}<br>number_of_reviews=%{y}<extra></extra>",
         "legendgroup": "Cellulite & Stretch Marks",
         "marker": {
          "color": "#ab63fa"
         },
         "name": "Cellulite & Stretch Marks",
         "offsetgroup": "Cellulite & Stretch Marks",
         "orientation": "v",
         "showlegend": true,
         "textposition": "auto",
         "type": "bar",
         "x": [
          "Cellulite & Stretch Marks"
         ],
         "xaxis": "x",
         "y": [
          0
         ],
         "yaxis": "y"
        },
        {
         "alignmentgroup": "True",
         "hovertemplate": "category=%{x}<br>number_of_reviews=%{y}<extra></extra>",
         "legendgroup": "Hair Straighteners & Flat Irons",
         "marker": {
          "color": "#FFA15A"
         },
         "name": "Hair Straighteners & Flat Irons",
         "offsetgroup": "Hair Straighteners & Flat Irons",
         "orientation": "v",
         "showlegend": true,
         "textposition": "auto",
         "type": "bar",
         "x": [
          "Hair Straighteners & Flat Irons"
         ],
         "xaxis": "x",
         "y": [
          114
         ],
         "yaxis": "y"
        },
        {
         "alignmentgroup": "True",
         "hovertemplate": "category=%{x}<br>number_of_reviews=%{y}<extra></extra>",
         "legendgroup": "Lip Brushes",
         "marker": {
          "color": "#19d3f3"
         },
         "name": "Lip Brushes",
         "offsetgroup": "Lip Brushes",
         "orientation": "v",
         "showlegend": true,
         "textposition": "auto",
         "type": "bar",
         "x": [
          "Lip Brushes",
          "Lip Brushes"
         ],
         "xaxis": "x",
         "y": [
          57,
          0
         ],
         "yaxis": "y"
        },
        {
         "alignmentgroup": "True",
         "hovertemplate": "category=%{x}<br>number_of_reviews=%{y}<extra></extra>",
         "legendgroup": "Makeup & Travel Cases",
         "marker": {
          "color": "#FF6692"
         },
         "name": "Makeup & Travel Cases",
         "offsetgroup": "Makeup & Travel Cases",
         "orientation": "v",
         "showlegend": true,
         "textposition": "auto",
         "type": "bar",
         "x": [
          "Makeup & Travel Cases",
          "Makeup & Travel Cases",
          "Makeup & Travel Cases",
          "Makeup & Travel Cases",
          "Makeup & Travel Cases",
          "Makeup & Travel Cases",
          "Makeup & Travel Cases",
          "Makeup & Travel Cases",
          "Makeup & Travel Cases",
          "Makeup & Travel Cases",
          "Makeup & Travel Cases"
         ],
         "xaxis": "x",
         "y": [
          25,
          16,
          29,
          43,
          65,
          26,
          103,
          19,
          42,
          54,
          31
         ],
         "yaxis": "y"
        },
        {
         "alignmentgroup": "True",
         "hovertemplate": "category=%{x}<br>number_of_reviews=%{y}<extra></extra>",
         "legendgroup": "Blotting Papers",
         "marker": {
          "color": "#B6E880"
         },
         "name": "Blotting Papers",
         "offsetgroup": "Blotting Papers",
         "orientation": "v",
         "showlegend": true,
         "textposition": "auto",
         "type": "bar",
         "x": [
          "Blotting Papers",
          "Blotting Papers"
         ],
         "xaxis": "x",
         "y": [
          16,
          134
         ],
         "yaxis": "y"
        },
        {
         "alignmentgroup": "True",
         "hovertemplate": "category=%{x}<br>number_of_reviews=%{y}<extra></extra>",
         "legendgroup": "Liquid Lipstick",
         "marker": {
          "color": "#FF97FF"
         },
         "name": "Liquid Lipstick",
         "offsetgroup": "Liquid Lipstick",
         "orientation": "v",
         "showlegend": true,
         "textposition": "auto",
         "type": "bar",
         "x": [
          "Liquid Lipstick"
         ],
         "xaxis": "x",
         "y": [
          45
         ],
         "yaxis": "y"
        },
        {
         "alignmentgroup": "True",
         "hovertemplate": "category=%{x}<br>number_of_reviews=%{y}<extra></extra>",
         "legendgroup": "Curling Irons",
         "marker": {
          "color": "#FECB52"
         },
         "name": "Curling Irons",
         "offsetgroup": "Curling Irons",
         "orientation": "v",
         "showlegend": true,
         "textposition": "auto",
         "type": "bar",
         "x": [
          "Curling Irons"
         ],
         "xaxis": "x",
         "y": [
          30
         ],
         "yaxis": "y"
        },
        {
         "alignmentgroup": "True",
         "hovertemplate": "category=%{x}<br>number_of_reviews=%{y}<extra></extra>",
         "legendgroup": "Dry Shampoo",
         "marker": {
          "color": "#636efa"
         },
         "name": "Dry Shampoo",
         "offsetgroup": "Dry Shampoo",
         "orientation": "v",
         "showlegend": true,
         "textposition": "auto",
         "type": "bar",
         "x": [
          "Dry Shampoo"
         ],
         "xaxis": "x",
         "y": [
          22
         ],
         "yaxis": "y"
        },
        {
         "alignmentgroup": "True",
         "hovertemplate": "category=%{x}<br>number_of_reviews=%{y}<extra></extra>",
         "legendgroup": "Shampoo",
         "marker": {
          "color": "#EF553B"
         },
         "name": "Shampoo",
         "offsetgroup": "Shampoo",
         "orientation": "v",
         "showlegend": true,
         "textposition": "auto",
         "type": "bar",
         "x": [
          "Shampoo"
         ],
         "xaxis": "x",
         "y": [
          7
         ],
         "yaxis": "y"
        },
        {
         "alignmentgroup": "True",
         "hovertemplate": "category=%{x}<br>number_of_reviews=%{y}<extra></extra>",
         "legendgroup": "Makeup",
         "marker": {
          "color": "#00cc96"
         },
         "name": "Makeup",
         "offsetgroup": "Makeup",
         "orientation": "v",
         "showlegend": true,
         "textposition": "auto",
         "type": "bar",
         "x": [
          "Makeup",
          "Makeup"
         ],
         "xaxis": "x",
         "y": [
          157,
          81
         ],
         "yaxis": "y"
        },
        {
         "alignmentgroup": "True",
         "hovertemplate": "category=%{x}<br>number_of_reviews=%{y}<extra></extra>",
         "legendgroup": "Scalp & Hair Treatments",
         "marker": {
          "color": "#ab63fa"
         },
         "name": "Scalp & Hair Treatments",
         "offsetgroup": "Scalp & Hair Treatments",
         "orientation": "v",
         "showlegend": true,
         "textposition": "auto",
         "type": "bar",
         "x": [
          "Scalp & Hair Treatments",
          "Scalp & Hair Treatments"
         ],
         "xaxis": "x",
         "y": [
          101,
          73
         ],
         "yaxis": "y"
        },
        {
         "alignmentgroup": "True",
         "hovertemplate": "category=%{x}<br>number_of_reviews=%{y}<extra></extra>",
         "legendgroup": "Hair Products",
         "marker": {
          "color": "#FFA15A"
         },
         "name": "Hair Products",
         "offsetgroup": "Hair Products",
         "orientation": "v",
         "showlegend": true,
         "textposition": "auto",
         "type": "bar",
         "x": [
          "Hair Products"
         ],
         "xaxis": "x",
         "y": [
          11
         ],
         "yaxis": "y"
        },
        {
         "alignmentgroup": "True",
         "hovertemplate": "category=%{x}<br>number_of_reviews=%{y}<extra></extra>",
         "legendgroup": "Conditioner",
         "marker": {
          "color": "#19d3f3"
         },
         "name": "Conditioner",
         "offsetgroup": "Conditioner",
         "orientation": "v",
         "showlegend": true,
         "textposition": "auto",
         "type": "bar",
         "x": [
          "Conditioner"
         ],
         "xaxis": "x",
         "y": [
          9
         ],
         "yaxis": "y"
        },
        {
         "alignmentgroup": "True",
         "hovertemplate": "category=%{x}<br>number_of_reviews=%{y}<extra></extra>",
         "legendgroup": "Powder Brush",
         "marker": {
          "color": "#FF6692"
         },
         "name": "Powder Brush",
         "offsetgroup": "Powder Brush",
         "orientation": "v",
         "showlegend": true,
         "textposition": "auto",
         "type": "bar",
         "x": [
          "Powder Brush"
         ],
         "xaxis": "x",
         "y": [
          33
         ],
         "yaxis": "y"
        },
        {
         "alignmentgroup": "True",
         "hovertemplate": "category=%{x}<br>number_of_reviews=%{y}<extra></extra>",
         "legendgroup": "Perfume",
         "marker": {
          "color": "#B6E880"
         },
         "name": "Perfume",
         "offsetgroup": "Perfume",
         "orientation": "v",
         "showlegend": true,
         "textposition": "auto",
         "type": "bar",
         "x": [
          "Perfume"
         ],
         "xaxis": "x",
         "y": [
          56
         ],
         "yaxis": "y"
        },
        {
         "alignmentgroup": "True",
         "hovertemplate": "category=%{x}<br>number_of_reviews=%{y}<extra></extra>",
         "legendgroup": "Lid Shadow Brush",
         "marker": {
          "color": "#FF97FF"
         },
         "name": "Lid Shadow Brush",
         "offsetgroup": "Lid Shadow Brush",
         "orientation": "v",
         "showlegend": true,
         "textposition": "auto",
         "type": "bar",
         "x": [
          "Lid Shadow Brush"
         ],
         "xaxis": "x",
         "y": [
          20
         ],
         "yaxis": "y"
        },
        {
         "alignmentgroup": "True",
         "hovertemplate": "category=%{x}<br>number_of_reviews=%{y}<extra></extra>",
         "legendgroup": "Body Wash & Shower Gel",
         "marker": {
          "color": "#FECB52"
         },
         "name": "Body Wash & Shower Gel",
         "offsetgroup": "Body Wash & Shower Gel",
         "orientation": "v",
         "showlegend": true,
         "textposition": "auto",
         "type": "bar",
         "x": [
          "Body Wash & Shower Gel"
         ],
         "xaxis": "x",
         "y": [
          34
         ],
         "yaxis": "y"
        },
        {
         "alignmentgroup": "True",
         "hovertemplate": "category=%{x}<br>number_of_reviews=%{y}<extra></extra>",
         "legendgroup": "Scrub & Exfoliants",
         "marker": {
          "color": "#636efa"
         },
         "name": "Scrub & Exfoliants",
         "offsetgroup": "Scrub & Exfoliants",
         "orientation": "v",
         "showlegend": true,
         "textposition": "auto",
         "type": "bar",
         "x": [
          "Scrub & Exfoliants",
          "Scrub & Exfoliants",
          "Scrub & Exfoliants"
         ],
         "xaxis": "x",
         "y": [
          163,
          6,
          39
         ],
         "yaxis": "y"
        },
        {
         "alignmentgroup": "True",
         "hovertemplate": "category=%{x}<br>number_of_reviews=%{y}<extra></extra>",
         "legendgroup": "Bath Soaks & Bubble Bath",
         "marker": {
          "color": "#EF553B"
         },
         "name": "Bath Soaks & Bubble Bath",
         "offsetgroup": "Bath Soaks & Bubble Bath",
         "orientation": "v",
         "showlegend": true,
         "textposition": "auto",
         "type": "bar",
         "x": [
          "Bath Soaks & Bubble Bath"
         ],
         "xaxis": "x",
         "y": [
          11
         ],
         "yaxis": "y"
        }
       ],
       "layout": {
        "barmode": "relative",
        "legend": {
         "title": {
          "text": "category"
         },
         "tracegroupgap": 0
        },
        "margin": {
         "t": 60
        },
        "template": {
         "data": {
          "bar": [
           {
            "error_x": {
             "color": "#2a3f5f"
            },
            "error_y": {
             "color": "#2a3f5f"
            },
            "marker": {
             "line": {
              "color": "#E5ECF6",
              "width": 0.5
             }
            },
            "type": "bar"
           }
          ],
          "barpolar": [
           {
            "marker": {
             "line": {
              "color": "#E5ECF6",
              "width": 0.5
             }
            },
            "type": "barpolar"
           }
          ],
          "carpet": [
           {
            "aaxis": {
             "endlinecolor": "#2a3f5f",
             "gridcolor": "white",
             "linecolor": "white",
             "minorgridcolor": "white",
             "startlinecolor": "#2a3f5f"
            },
            "baxis": {
             "endlinecolor": "#2a3f5f",
             "gridcolor": "white",
             "linecolor": "white",
             "minorgridcolor": "white",
             "startlinecolor": "#2a3f5f"
            },
            "type": "carpet"
           }
          ],
          "choropleth": [
           {
            "colorbar": {
             "outlinewidth": 0,
             "ticks": ""
            },
            "type": "choropleth"
           }
          ],
          "contour": [
           {
            "colorbar": {
             "outlinewidth": 0,
             "ticks": ""
            },
            "colorscale": [
             [
              0,
              "#0d0887"
             ],
             [
              0.1111111111111111,
              "#46039f"
             ],
             [
              0.2222222222222222,
              "#7201a8"
             ],
             [
              0.3333333333333333,
              "#9c179e"
             ],
             [
              0.4444444444444444,
              "#bd3786"
             ],
             [
              0.5555555555555556,
              "#d8576b"
             ],
             [
              0.6666666666666666,
              "#ed7953"
             ],
             [
              0.7777777777777778,
              "#fb9f3a"
             ],
             [
              0.8888888888888888,
              "#fdca26"
             ],
             [
              1,
              "#f0f921"
             ]
            ],
            "type": "contour"
           }
          ],
          "contourcarpet": [
           {
            "colorbar": {
             "outlinewidth": 0,
             "ticks": ""
            },
            "type": "contourcarpet"
           }
          ],
          "heatmap": [
           {
            "colorbar": {
             "outlinewidth": 0,
             "ticks": ""
            },
            "colorscale": [
             [
              0,
              "#0d0887"
             ],
             [
              0.1111111111111111,
              "#46039f"
             ],
             [
              0.2222222222222222,
              "#7201a8"
             ],
             [
              0.3333333333333333,
              "#9c179e"
             ],
             [
              0.4444444444444444,
              "#bd3786"
             ],
             [
              0.5555555555555556,
              "#d8576b"
             ],
             [
              0.6666666666666666,
              "#ed7953"
             ],
             [
              0.7777777777777778,
              "#fb9f3a"
             ],
             [
              0.8888888888888888,
              "#fdca26"
             ],
             [
              1,
              "#f0f921"
             ]
            ],
            "type": "heatmap"
           }
          ],
          "heatmapgl": [
           {
            "colorbar": {
             "outlinewidth": 0,
             "ticks": ""
            },
            "colorscale": [
             [
              0,
              "#0d0887"
             ],
             [
              0.1111111111111111,
              "#46039f"
             ],
             [
              0.2222222222222222,
              "#7201a8"
             ],
             [
              0.3333333333333333,
              "#9c179e"
             ],
             [
              0.4444444444444444,
              "#bd3786"
             ],
             [
              0.5555555555555556,
              "#d8576b"
             ],
             [
              0.6666666666666666,
              "#ed7953"
             ],
             [
              0.7777777777777778,
              "#fb9f3a"
             ],
             [
              0.8888888888888888,
              "#fdca26"
             ],
             [
              1,
              "#f0f921"
             ]
            ],
            "type": "heatmapgl"
           }
          ],
          "histogram": [
           {
            "marker": {
             "colorbar": {
              "outlinewidth": 0,
              "ticks": ""
             }
            },
            "type": "histogram"
           }
          ],
          "histogram2d": [
           {
            "colorbar": {
             "outlinewidth": 0,
             "ticks": ""
            },
            "colorscale": [
             [
              0,
              "#0d0887"
             ],
             [
              0.1111111111111111,
              "#46039f"
             ],
             [
              0.2222222222222222,
              "#7201a8"
             ],
             [
              0.3333333333333333,
              "#9c179e"
             ],
             [
              0.4444444444444444,
              "#bd3786"
             ],
             [
              0.5555555555555556,
              "#d8576b"
             ],
             [
              0.6666666666666666,
              "#ed7953"
             ],
             [
              0.7777777777777778,
              "#fb9f3a"
             ],
             [
              0.8888888888888888,
              "#fdca26"
             ],
             [
              1,
              "#f0f921"
             ]
            ],
            "type": "histogram2d"
           }
          ],
          "histogram2dcontour": [
           {
            "colorbar": {
             "outlinewidth": 0,
             "ticks": ""
            },
            "colorscale": [
             [
              0,
              "#0d0887"
             ],
             [
              0.1111111111111111,
              "#46039f"
             ],
             [
              0.2222222222222222,
              "#7201a8"
             ],
             [
              0.3333333333333333,
              "#9c179e"
             ],
             [
              0.4444444444444444,
              "#bd3786"
             ],
             [
              0.5555555555555556,
              "#d8576b"
             ],
             [
              0.6666666666666666,
              "#ed7953"
             ],
             [
              0.7777777777777778,
              "#fb9f3a"
             ],
             [
              0.8888888888888888,
              "#fdca26"
             ],
             [
              1,
              "#f0f921"
             ]
            ],
            "type": "histogram2dcontour"
           }
          ],
          "mesh3d": [
           {
            "colorbar": {
             "outlinewidth": 0,
             "ticks": ""
            },
            "type": "mesh3d"
           }
          ],
          "parcoords": [
           {
            "line": {
             "colorbar": {
              "outlinewidth": 0,
              "ticks": ""
             }
            },
            "type": "parcoords"
           }
          ],
          "pie": [
           {
            "automargin": true,
            "type": "pie"
           }
          ],
          "scatter": [
           {
            "marker": {
             "colorbar": {
              "outlinewidth": 0,
              "ticks": ""
             }
            },
            "type": "scatter"
           }
          ],
          "scatter3d": [
           {
            "line": {
             "colorbar": {
              "outlinewidth": 0,
              "ticks": ""
             }
            },
            "marker": {
             "colorbar": {
              "outlinewidth": 0,
              "ticks": ""
             }
            },
            "type": "scatter3d"
           }
          ],
          "scattercarpet": [
           {
            "marker": {
             "colorbar": {
              "outlinewidth": 0,
              "ticks": ""
             }
            },
            "type": "scattercarpet"
           }
          ],
          "scattergeo": [
           {
            "marker": {
             "colorbar": {
              "outlinewidth": 0,
              "ticks": ""
             }
            },
            "type": "scattergeo"
           }
          ],
          "scattergl": [
           {
            "marker": {
             "colorbar": {
              "outlinewidth": 0,
              "ticks": ""
             }
            },
            "type": "scattergl"
           }
          ],
          "scattermapbox": [
           {
            "marker": {
             "colorbar": {
              "outlinewidth": 0,
              "ticks": ""
             }
            },
            "type": "scattermapbox"
           }
          ],
          "scatterpolar": [
           {
            "marker": {
             "colorbar": {
              "outlinewidth": 0,
              "ticks": ""
             }
            },
            "type": "scatterpolar"
           }
          ],
          "scatterpolargl": [
           {
            "marker": {
             "colorbar": {
              "outlinewidth": 0,
              "ticks": ""
             }
            },
            "type": "scatterpolargl"
           }
          ],
          "scatterternary": [
           {
            "marker": {
             "colorbar": {
              "outlinewidth": 0,
              "ticks": ""
             }
            },
            "type": "scatterternary"
           }
          ],
          "surface": [
           {
            "colorbar": {
             "outlinewidth": 0,
             "ticks": ""
            },
            "colorscale": [
             [
              0,
              "#0d0887"
             ],
             [
              0.1111111111111111,
              "#46039f"
             ],
             [
              0.2222222222222222,
              "#7201a8"
             ],
             [
              0.3333333333333333,
              "#9c179e"
             ],
             [
              0.4444444444444444,
              "#bd3786"
             ],
             [
              0.5555555555555556,
              "#d8576b"
             ],
             [
              0.6666666666666666,
              "#ed7953"
             ],
             [
              0.7777777777777778,
              "#fb9f3a"
             ],
             [
              0.8888888888888888,
              "#fdca26"
             ],
             [
              1,
              "#f0f921"
             ]
            ],
            "type": "surface"
           }
          ],
          "table": [
           {
            "cells": {
             "fill": {
              "color": "#EBF0F8"
             },
             "line": {
              "color": "white"
             }
            },
            "header": {
             "fill": {
              "color": "#C8D4E3"
             },
             "line": {
              "color": "white"
             }
            },
            "type": "table"
           }
          ]
         },
         "layout": {
          "annotationdefaults": {
           "arrowcolor": "#2a3f5f",
           "arrowhead": 0,
           "arrowwidth": 1
          },
          "autotypenumbers": "strict",
          "coloraxis": {
           "colorbar": {
            "outlinewidth": 0,
            "ticks": ""
           }
          },
          "colorscale": {
           "diverging": [
            [
             0,
             "#8e0152"
            ],
            [
             0.1,
             "#c51b7d"
            ],
            [
             0.2,
             "#de77ae"
            ],
            [
             0.3,
             "#f1b6da"
            ],
            [
             0.4,
             "#fde0ef"
            ],
            [
             0.5,
             "#f7f7f7"
            ],
            [
             0.6,
             "#e6f5d0"
            ],
            [
             0.7,
             "#b8e186"
            ],
            [
             0.8,
             "#7fbc41"
            ],
            [
             0.9,
             "#4d9221"
            ],
            [
             1,
             "#276419"
            ]
           ],
           "sequential": [
            [
             0,
             "#0d0887"
            ],
            [
             0.1111111111111111,
             "#46039f"
            ],
            [
             0.2222222222222222,
             "#7201a8"
            ],
            [
             0.3333333333333333,
             "#9c179e"
            ],
            [
             0.4444444444444444,
             "#bd3786"
            ],
            [
             0.5555555555555556,
             "#d8576b"
            ],
            [
             0.6666666666666666,
             "#ed7953"
            ],
            [
             0.7777777777777778,
             "#fb9f3a"
            ],
            [
             0.8888888888888888,
             "#fdca26"
            ],
            [
             1,
             "#f0f921"
            ]
           ],
           "sequentialminus": [
            [
             0,
             "#0d0887"
            ],
            [
             0.1111111111111111,
             "#46039f"
            ],
            [
             0.2222222222222222,
             "#7201a8"
            ],
            [
             0.3333333333333333,
             "#9c179e"
            ],
            [
             0.4444444444444444,
             "#bd3786"
            ],
            [
             0.5555555555555556,
             "#d8576b"
            ],
            [
             0.6666666666666666,
             "#ed7953"
            ],
            [
             0.7777777777777778,
             "#fb9f3a"
            ],
            [
             0.8888888888888888,
             "#fdca26"
            ],
            [
             1,
             "#f0f921"
            ]
           ]
          },
          "colorway": [
           "#636efa",
           "#EF553B",
           "#00cc96",
           "#ab63fa",
           "#FFA15A",
           "#19d3f3",
           "#FF6692",
           "#B6E880",
           "#FF97FF",
           "#FECB52"
          ],
          "font": {
           "color": "#2a3f5f"
          },
          "geo": {
           "bgcolor": "white",
           "lakecolor": "white",
           "landcolor": "#E5ECF6",
           "showlakes": true,
           "showland": true,
           "subunitcolor": "white"
          },
          "hoverlabel": {
           "align": "left"
          },
          "hovermode": "closest",
          "mapbox": {
           "style": "light"
          },
          "paper_bgcolor": "white",
          "plot_bgcolor": "#E5ECF6",
          "polar": {
           "angularaxis": {
            "gridcolor": "white",
            "linecolor": "white",
            "ticks": ""
           },
           "bgcolor": "#E5ECF6",
           "radialaxis": {
            "gridcolor": "white",
            "linecolor": "white",
            "ticks": ""
           }
          },
          "scene": {
           "xaxis": {
            "backgroundcolor": "#E5ECF6",
            "gridcolor": "white",
            "gridwidth": 2,
            "linecolor": "white",
            "showbackground": true,
            "ticks": "",
            "zerolinecolor": "white"
           },
           "yaxis": {
            "backgroundcolor": "#E5ECF6",
            "gridcolor": "white",
            "gridwidth": 2,
            "linecolor": "white",
            "showbackground": true,
            "ticks": "",
            "zerolinecolor": "white"
           },
           "zaxis": {
            "backgroundcolor": "#E5ECF6",
            "gridcolor": "white",
            "gridwidth": 2,
            "linecolor": "white",
            "showbackground": true,
            "ticks": "",
            "zerolinecolor": "white"
           }
          },
          "shapedefaults": {
           "line": {
            "color": "#2a3f5f"
           }
          },
          "ternary": {
           "aaxis": {
            "gridcolor": "white",
            "linecolor": "white",
            "ticks": ""
           },
           "baxis": {
            "gridcolor": "white",
            "linecolor": "white",
            "ticks": ""
           },
           "bgcolor": "#E5ECF6",
           "caxis": {
            "gridcolor": "white",
            "linecolor": "white",
            "ticks": ""
           }
          },
          "title": {
           "x": 0.05
          },
          "xaxis": {
           "automargin": true,
           "gridcolor": "white",
           "linecolor": "white",
           "ticks": "",
           "title": {
            "standoff": 15
           },
           "zerolinecolor": "white",
           "zerolinewidth": 2
          },
          "yaxis": {
           "automargin": true,
           "gridcolor": "white",
           "linecolor": "white",
           "ticks": "",
           "title": {
            "standoff": 15
           },
           "zerolinecolor": "white",
           "zerolinewidth": 2
          }
         }
        },
        "xaxis": {
         "anchor": "y",
         "categoryarray": [
          "Face Wipes",
          "Face Masks",
          "Eyeliner",
          "Brush Sets",
          "Foundation",
          "Lipstick",
          "Eyebrow",
          "Face Oils",
          "Face Serums",
          "False Eyelashes",
          "Eye Masks",
          "Face Sets",
          "Eyeshadow",
          "Concealer",
          "Eye Palettes",
          "Eye Creams & Treatments",
          "Face Brushes",
          "Sheet Masks",
          "Makeup Palettes",
          "Hand Cream & Foot Cream",
          "Lip Gloss",
          "Lip Balm & Treatment",
          "Hair Removal",
          "Eye Brushes",
          "Facial Rollers",
          "Lip Sets",
          "Value & Gift Sets",
          "Moisturizers",
          "Lip Liner",
          "Makeup Removers",
          "Beauty Supplements",
          "Self Tanners",
          "Face Primer",
          "Lip Stain",
          "Face Wash & Cleansers",
          "Hair Masks",
          "Nail",
          "Hair Styling Products",
          "Mascara",
          "Brush Cleaners",
          "Facial Peels",
          "no category",
          "Blush",
          "Night Creams",
          "Eye Primer",
          "Bronzer",
          "Facial Cleansing Brushes",
          "Eye Sets",
          "Tinted Moisturizer",
          "Highlighter",
          "Color Correct",
          "Sponges & Applicators",
          "Spa Tools",
          "Eyelash Curlers",
          "Hair Brushes & Combs",
          "Makeup Bags & Travel Cases",
          "Lip Balms & Treatments",
          "Hair Accessories",
          "Blemish & Acne Treatments",
          "Cheek Palettes",
          "Setting Spray & Powder",
          "Body Lotions & Body Oils",
          "Accessories",
          "Mirrors & Sharpeners",
          "Exfoliators",
          "Tweezers & Eyebrow Tools",
          "Candles & Home Scents",
          "Hair Dryers",
          "Contour",
          "Face Sunscreen",
          "Body Moisturizers",
          "Toners",
          "Anti-Aging",
          "Cellulite & Stretch Marks",
          "Hair Straighteners & Flat Irons",
          "Lip Brushes",
          "Makeup & Travel Cases",
          "Blotting Papers",
          "Liquid Lipstick",
          "Curling Irons",
          "Dry Shampoo",
          "Shampoo",
          "Makeup",
          "Scalp & Hair Treatments",
          "Hair Products",
          "Conditioner",
          "Powder Brush",
          "Perfume",
          "Lid Shadow Brush",
          "Body Wash & Shower Gel",
          "Scrub & Exfoliants",
          "Bath Soaks & Bubble Bath"
         ],
         "categoryorder": "array",
         "domain": [
          0,
          1
         ],
         "title": {
          "text": "category"
         }
        },
        "yaxis": {
         "anchor": "x",
         "domain": [
          0,
          1
         ],
         "title": {
          "text": "number_of_reviews"
         }
        }
       }
      },
      "text/html": [
       "<div>                            <div id=\"92a5c6be-e1ec-4ea1-b4f5-6ec7f07aac31\" class=\"plotly-graph-div\" style=\"height:525px; width:100%;\"></div>            <script type=\"text/javascript\">                require([\"plotly\"], function(Plotly) {                    window.PLOTLYENV=window.PLOTLYENV || {};                                    if (document.getElementById(\"92a5c6be-e1ec-4ea1-b4f5-6ec7f07aac31\")) {                    Plotly.newPlot(                        \"92a5c6be-e1ec-4ea1-b4f5-6ec7f07aac31\",                        [{\"alignmentgroup\": \"True\", \"hovertemplate\": \"category=%{x}<br>number_of_reviews=%{y}<extra></extra>\", \"legendgroup\": \"Face Wipes\", \"marker\": {\"color\": \"#636efa\"}, \"name\": \"Face Wipes\", \"offsetgroup\": \"Face Wipes\", \"orientation\": \"v\", \"showlegend\": true, \"textposition\": \"auto\", \"type\": \"bar\", \"x\": [\"Face Wipes\", \"Face Wipes\", \"Face Wipes\", \"Face Wipes\", \"Face Wipes\", \"Face Wipes\", \"Face Wipes\", \"Face Wipes\", \"Face Wipes\", \"Face Wipes\", \"Face Wipes\", \"Face Wipes\", \"Face Wipes\", \"Face Wipes\", \"Face Wipes\", \"Face Wipes\"], \"xaxis\": \"x\", \"y\": [3000, 81, 7, 70, 20, 4, 7, 79, 9, 98, 9, 61, 13, 4, 26, 3], \"yaxis\": \"y\"}, {\"alignmentgroup\": \"True\", \"hovertemplate\": \"category=%{x}<br>number_of_reviews=%{y}<extra></extra>\", \"legendgroup\": \"Face Masks\", \"marker\": {\"color\": \"#EF553B\"}, \"name\": \"Face Masks\", \"offsetgroup\": \"Face Masks\", \"orientation\": \"v\", \"showlegend\": true, \"textposition\": \"auto\", \"type\": \"bar\", \"x\": [\"Face Masks\", \"Face Masks\", \"Face Masks\", \"Face Masks\", \"Face Masks\", \"Face Masks\", \"Face Masks\", \"Face Masks\", \"Face Masks\", \"Face Masks\", \"Face Masks\", \"Face Masks\", \"Face Masks\", \"Face Masks\", \"Face Masks\", \"Face Masks\", \"Face Masks\", \"Face Masks\", \"Face Masks\", \"Face Masks\", \"Face Masks\", \"Face Masks\", \"Face Masks\", \"Face Masks\", \"Face Masks\", \"Face Masks\", \"Face Masks\", \"Face Masks\", \"Face Masks\", \"Face Masks\", \"Face Masks\", \"Face Masks\", \"Face Masks\", \"Face Masks\"], \"xaxis\": \"x\", \"y\": [1000, 256, 28, 74, 46, 17, 131, 984, 17, 291, 15, 62, 191, 175, 112, 84, 46, 14, 22, 20, 16, 12, 26, 10, 32, 16, 687, 88, 12, 50, 20, 22, 1000, 15], \"yaxis\": \"y\"}, {\"alignmentgroup\": \"True\", \"hovertemplate\": \"category=%{x}<br>number_of_reviews=%{y}<extra></extra>\", \"legendgroup\": \"Eyeliner\", \"marker\": {\"color\": \"#00cc96\"}, \"name\": \"Eyeliner\", \"offsetgroup\": \"Eyeliner\", \"orientation\": \"v\", \"showlegend\": true, \"textposition\": \"auto\", \"type\": \"bar\", \"x\": [\"Eyeliner\", \"Eyeliner\", \"Eyeliner\", \"Eyeliner\", \"Eyeliner\", \"Eyeliner\", \"Eyeliner\", \"Eyeliner\", \"Eyeliner\", \"Eyeliner\", \"Eyeliner\", \"Eyeliner\", \"Eyeliner\", \"Eyeliner\"], \"xaxis\": \"x\", \"y\": [6000, 2000, 839, 2000, 3000, 581, 100, 42, 1000, 343, 478, 27, 35, 242], \"yaxis\": \"y\"}, {\"alignmentgroup\": \"True\", \"hovertemplate\": \"category=%{x}<br>number_of_reviews=%{y}<extra></extra>\", \"legendgroup\": \"Brush Sets\", \"marker\": {\"color\": \"#ab63fa\"}, \"name\": \"Brush Sets\", \"offsetgroup\": \"Brush Sets\", \"orientation\": \"v\", \"showlegend\": true, \"textposition\": \"auto\", \"type\": \"bar\", \"x\": [\"Brush Sets\", \"Brush Sets\", \"Brush Sets\", \"Brush Sets\", \"Brush Sets\", \"Brush Sets\", \"Brush Sets\", \"Brush Sets\", \"Brush Sets\", \"Brush Sets\", \"Brush Sets\", \"Brush Sets\", \"Brush Sets\", \"Brush Sets\"], \"xaxis\": \"x\", \"y\": [356, 310, 5, 17, 11, 34, 1, 9, 23, 8, 7, 44, 166, 62], \"yaxis\": \"y\"}, {\"alignmentgroup\": \"True\", \"hovertemplate\": \"category=%{x}<br>number_of_reviews=%{y}<extra></extra>\", \"legendgroup\": \"Foundation\", \"marker\": {\"color\": \"#FFA15A\"}, \"name\": \"Foundation\", \"offsetgroup\": \"Foundation\", \"orientation\": \"v\", \"showlegend\": true, \"textposition\": \"auto\", \"type\": \"bar\", \"x\": [\"Foundation\", \"Foundation\", \"Foundation\", \"Foundation\", \"Foundation\", \"Foundation\"], \"xaxis\": \"x\", \"y\": [3000, 1000, 1000, 596, 2000, 234], \"yaxis\": \"y\"}, {\"alignmentgroup\": \"True\", \"hovertemplate\": \"category=%{x}<br>number_of_reviews=%{y}<extra></extra>\", \"legendgroup\": \"Lipstick\", \"marker\": {\"color\": \"#19d3f3\"}, \"name\": \"Lipstick\", \"offsetgroup\": \"Lipstick\", \"orientation\": \"v\", \"showlegend\": true, \"textposition\": \"auto\", \"type\": \"bar\", \"x\": [\"Lipstick\", \"Lipstick\", \"Lipstick\", \"Lipstick\", \"Lipstick\", \"Lipstick\", \"Lipstick\", \"Lipstick\"], \"xaxis\": \"x\", \"y\": [9000, 2000, 207, 2000, 75, 0, 12, 334], \"yaxis\": \"y\"}, {\"alignmentgroup\": \"True\", \"hovertemplate\": \"category=%{x}<br>number_of_reviews=%{y}<extra></extra>\", \"legendgroup\": \"Eyebrow\", \"marker\": {\"color\": \"#FF6692\"}, \"name\": \"Eyebrow\", \"offsetgroup\": \"Eyebrow\", \"orientation\": \"v\", \"showlegend\": true, \"textposition\": \"auto\", \"type\": \"bar\", \"x\": [\"Eyebrow\", \"Eyebrow\", \"Eyebrow\", \"Eyebrow\", \"Eyebrow\", \"Eyebrow\", \"Eyebrow\"], \"xaxis\": \"x\", \"y\": [3000, 28, 14, 19, 53, 31, 32], \"yaxis\": \"y\"}, {\"alignmentgroup\": \"True\", \"hovertemplate\": \"category=%{x}<br>number_of_reviews=%{y}<extra></extra>\", \"legendgroup\": \"Face Oils\", \"marker\": {\"color\": \"#B6E880\"}, \"name\": \"Face Oils\", \"offsetgroup\": \"Face Oils\", \"orientation\": \"v\", \"showlegend\": true, \"textposition\": \"auto\", \"type\": \"bar\", \"x\": [\"Face Oils\"], \"xaxis\": \"x\", \"y\": [115], \"yaxis\": \"y\"}, {\"alignmentgroup\": \"True\", \"hovertemplate\": \"category=%{x}<br>number_of_reviews=%{y}<extra></extra>\", \"legendgroup\": \"Face Serums\", \"marker\": {\"color\": \"#FF97FF\"}, \"name\": \"Face Serums\", \"offsetgroup\": \"Face Serums\", \"orientation\": \"v\", \"showlegend\": true, \"textposition\": \"auto\", \"type\": \"bar\", \"x\": [\"Face Serums\", \"Face Serums\", \"Face Serums\", \"Face Serums\"], \"xaxis\": \"x\", \"y\": [404, 4, 93, 1], \"yaxis\": \"y\"}, {\"alignmentgroup\": \"True\", \"hovertemplate\": \"category=%{x}<br>number_of_reviews=%{y}<extra></extra>\", \"legendgroup\": \"False Eyelashes\", \"marker\": {\"color\": \"#FECB52\"}, \"name\": \"False Eyelashes\", \"offsetgroup\": \"False Eyelashes\", \"orientation\": \"v\", \"showlegend\": true, \"textposition\": \"auto\", \"type\": \"bar\", \"x\": [\"False Eyelashes\", \"False Eyelashes\", \"False Eyelashes\", \"False Eyelashes\", \"False Eyelashes\", \"False Eyelashes\", \"False Eyelashes\", \"False Eyelashes\", \"False Eyelashes\", \"False Eyelashes\", \"False Eyelashes\", \"False Eyelashes\", \"False Eyelashes\", \"False Eyelashes\", \"False Eyelashes\", \"False Eyelashes\"], \"xaxis\": \"x\", \"y\": [785, 173, 889, 473, 2, 852, 130, 11, 301, 24, 85, 315, 23, 13, 11, 3], \"yaxis\": \"y\"}, {\"alignmentgroup\": \"True\", \"hovertemplate\": \"category=%{x}<br>number_of_reviews=%{y}<extra></extra>\", \"legendgroup\": \"Eye Masks\", \"marker\": {\"color\": \"#636efa\"}, \"name\": \"Eye Masks\", \"offsetgroup\": \"Eye Masks\", \"orientation\": \"v\", \"showlegend\": true, \"textposition\": \"auto\", \"type\": \"bar\", \"x\": [\"Eye Masks\", \"Eye Masks\", \"Eye Masks\", \"Eye Masks\", \"Eye Masks\"], \"xaxis\": \"x\", \"y\": [827, 31, 1, 10, 3], \"yaxis\": \"y\"}, {\"alignmentgroup\": \"True\", \"hovertemplate\": \"category=%{x}<br>number_of_reviews=%{y}<extra></extra>\", \"legendgroup\": \"Face Sets\", \"marker\": {\"color\": \"#EF553B\"}, \"name\": \"Face Sets\", \"offsetgroup\": \"Face Sets\", \"orientation\": \"v\", \"showlegend\": true, \"textposition\": \"auto\", \"type\": \"bar\", \"x\": [\"Face Sets\", \"Face Sets\", \"Face Sets\"], \"xaxis\": \"x\", \"y\": [87, 20, 18], \"yaxis\": \"y\"}, {\"alignmentgroup\": \"True\", \"hovertemplate\": \"category=%{x}<br>number_of_reviews=%{y}<extra></extra>\", \"legendgroup\": \"Eyeshadow\", \"marker\": {\"color\": \"#00cc96\"}, \"name\": \"Eyeshadow\", \"offsetgroup\": \"Eyeshadow\", \"orientation\": \"v\", \"showlegend\": true, \"textposition\": \"auto\", \"type\": \"bar\", \"x\": [\"Eyeshadow\", \"Eyeshadow\"], \"xaxis\": \"x\", \"y\": [1000, 112], \"yaxis\": \"y\"}, {\"alignmentgroup\": \"True\", \"hovertemplate\": \"category=%{x}<br>number_of_reviews=%{y}<extra></extra>\", \"legendgroup\": \"Concealer\", \"marker\": {\"color\": \"#ab63fa\"}, \"name\": \"Concealer\", \"offsetgroup\": \"Concealer\", \"orientation\": \"v\", \"showlegend\": true, \"textposition\": \"auto\", \"type\": \"bar\", \"x\": [\"Concealer\", \"Concealer\", \"Concealer\"], \"xaxis\": \"x\", \"y\": [2000, 496, 2], \"yaxis\": \"y\"}, {\"alignmentgroup\": \"True\", \"hovertemplate\": \"category=%{x}<br>number_of_reviews=%{y}<extra></extra>\", \"legendgroup\": \"Eye Palettes\", \"marker\": {\"color\": \"#FFA15A\"}, \"name\": \"Eye Palettes\", \"offsetgroup\": \"Eye Palettes\", \"orientation\": \"v\", \"showlegend\": true, \"textposition\": \"auto\", \"type\": \"bar\", \"x\": [\"Eye Palettes\", \"Eye Palettes\", \"Eye Palettes\", \"Eye Palettes\", \"Eye Palettes\", \"Eye Palettes\", \"Eye Palettes\", \"Eye Palettes\", \"Eye Palettes\", \"Eye Palettes\", \"Eye Palettes\", \"Eye Palettes\", \"Eye Palettes\"], \"xaxis\": \"x\", \"y\": [262, 255, 44, 86, 8, 81, 8, 408, 0, 22, 4, 1, 156], \"yaxis\": \"y\"}, {\"alignmentgroup\": \"True\", \"hovertemplate\": \"category=%{x}<br>number_of_reviews=%{y}<extra></extra>\", \"legendgroup\": \"Eye Creams & Treatments\", \"marker\": {\"color\": \"#19d3f3\"}, \"name\": \"Eye Creams & Treatments\", \"offsetgroup\": \"Eye Creams & Treatments\", \"orientation\": \"v\", \"showlegend\": true, \"textposition\": \"auto\", \"type\": \"bar\", \"x\": [\"Eye Creams & Treatments\"], \"xaxis\": \"x\", \"y\": [515], \"yaxis\": \"y\"}, {\"alignmentgroup\": \"True\", \"hovertemplate\": \"category=%{x}<br>number_of_reviews=%{y}<extra></extra>\", \"legendgroup\": \"Face Brushes\", \"marker\": {\"color\": \"#FF6692\"}, \"name\": \"Face Brushes\", \"offsetgroup\": \"Face Brushes\", \"orientation\": \"v\", \"showlegend\": true, \"textposition\": \"auto\", \"type\": \"bar\", \"x\": [\"Face Brushes\", \"Face Brushes\", \"Face Brushes\", \"Face Brushes\", \"Face Brushes\", \"Face Brushes\", \"Face Brushes\", \"Face Brushes\", \"Face Brushes\", \"Face Brushes\", \"Face Brushes\", \"Face Brushes\", \"Face Brushes\", \"Face Brushes\", \"Face Brushes\", \"Face Brushes\", \"Face Brushes\", \"Face Brushes\", \"Face Brushes\", \"Face Brushes\", \"Face Brushes\", \"Face Brushes\", \"Face Brushes\", \"Face Brushes\", \"Face Brushes\", \"Face Brushes\", \"Face Brushes\", \"Face Brushes\", \"Face Brushes\", \"Face Brushes\", \"Face Brushes\", \"Face Brushes\", \"Face Brushes\", \"Face Brushes\", \"Face Brushes\", \"Face Brushes\", \"Face Brushes\", \"Face Brushes\", \"Face Brushes\", \"Face Brushes\", \"Face Brushes\", \"Face Brushes\", \"Face Brushes\", \"Face Brushes\", \"Face Brushes\"], \"xaxis\": \"x\", \"y\": [89, 58, 93, 52, 164, 1000, 2, 62, 17, 269, 99, 987, 232, 40, 43, 33, 81, 103, 679, 9, 70, 57, 0, 1, 65, 18, 0, 0, 9, 1, 10, 19, 101, 0, 100, 271, 7, 289, 146, 183, 239, 44, 208, 56, 116], \"yaxis\": \"y\"}, {\"alignmentgroup\": \"True\", \"hovertemplate\": \"category=%{x}<br>number_of_reviews=%{y}<extra></extra>\", \"legendgroup\": \"Sheet Masks\", \"marker\": {\"color\": \"#B6E880\"}, \"name\": \"Sheet Masks\", \"offsetgroup\": \"Sheet Masks\", \"orientation\": \"v\", \"showlegend\": true, \"textposition\": \"auto\", \"type\": \"bar\", \"x\": [\"Sheet Masks\", \"Sheet Masks\", \"Sheet Masks\", \"Sheet Masks\", \"Sheet Masks\", \"Sheet Masks\", \"Sheet Masks\", \"Sheet Masks\", \"Sheet Masks\", \"Sheet Masks\"], \"xaxis\": \"x\", \"y\": [137, 102, 48, 0, 17, 14, 2, 1000, 86, 17], \"yaxis\": \"y\"}, {\"alignmentgroup\": \"True\", \"hovertemplate\": \"category=%{x}<br>number_of_reviews=%{y}<extra></extra>\", \"legendgroup\": \"Makeup Palettes\", \"marker\": {\"color\": \"#FF97FF\"}, \"name\": \"Makeup Palettes\", \"offsetgroup\": \"Makeup Palettes\", \"orientation\": \"v\", \"showlegend\": true, \"textposition\": \"auto\", \"type\": \"bar\", \"x\": [\"Makeup Palettes\", \"Makeup Palettes\", \"Makeup Palettes\", \"Makeup Palettes\", \"Makeup Palettes\", \"Makeup Palettes\"], \"xaxis\": \"x\", \"y\": [65, 30, 76, 40, 26, 23], \"yaxis\": \"y\"}, {\"alignmentgroup\": \"True\", \"hovertemplate\": \"category=%{x}<br>number_of_reviews=%{y}<extra></extra>\", \"legendgroup\": \"Hand Cream & Foot Cream\", \"marker\": {\"color\": \"#FECB52\"}, \"name\": \"Hand Cream & Foot Cream\", \"offsetgroup\": \"Hand Cream & Foot Cream\", \"orientation\": \"v\", \"showlegend\": true, \"textposition\": \"auto\", \"type\": \"bar\", \"x\": [\"Hand Cream & Foot Cream\", \"Hand Cream & Foot Cream\", \"Hand Cream & Foot Cream\"], \"xaxis\": \"x\", \"y\": [956, 203, 394], \"yaxis\": \"y\"}, {\"alignmentgroup\": \"True\", \"hovertemplate\": \"category=%{x}<br>number_of_reviews=%{y}<extra></extra>\", \"legendgroup\": \"Lip Gloss\", \"marker\": {\"color\": \"#636efa\"}, \"name\": \"Lip Gloss\", \"offsetgroup\": \"Lip Gloss\", \"orientation\": \"v\", \"showlegend\": true, \"textposition\": \"auto\", \"type\": \"bar\", \"x\": [\"Lip Gloss\", \"Lip Gloss\", \"Lip Gloss\", \"Lip Gloss\", \"Lip Gloss\", \"Lip Gloss\"], \"xaxis\": \"x\", \"y\": [3000, 555, 321, 1, 147, 64], \"yaxis\": \"y\"}, {\"alignmentgroup\": \"True\", \"hovertemplate\": \"category=%{x}<br>number_of_reviews=%{y}<extra></extra>\", \"legendgroup\": \"Lip Balm & Treatment\", \"marker\": {\"color\": \"#EF553B\"}, \"name\": \"Lip Balm & Treatment\", \"offsetgroup\": \"Lip Balm & Treatment\", \"orientation\": \"v\", \"showlegend\": true, \"textposition\": \"auto\", \"type\": \"bar\", \"x\": [\"Lip Balm & Treatment\", \"Lip Balm & Treatment\", \"Lip Balm & Treatment\", \"Lip Balm & Treatment\", \"Lip Balm & Treatment\"], \"xaxis\": \"x\", \"y\": [2000, 892, 212, 105, 16], \"yaxis\": \"y\"}, {\"alignmentgroup\": \"True\", \"hovertemplate\": \"category=%{x}<br>number_of_reviews=%{y}<extra></extra>\", \"legendgroup\": \"Hair Removal\", \"marker\": {\"color\": \"#00cc96\"}, \"name\": \"Hair Removal\", \"offsetgroup\": \"Hair Removal\", \"orientation\": \"v\", \"showlegend\": true, \"textposition\": \"auto\", \"type\": \"bar\", \"x\": [\"Hair Removal\", \"Hair Removal\"], \"xaxis\": \"x\", \"y\": [408, 143], \"yaxis\": \"y\"}, {\"alignmentgroup\": \"True\", \"hovertemplate\": \"category=%{x}<br>number_of_reviews=%{y}<extra></extra>\", \"legendgroup\": \"Eye Brushes\", \"marker\": {\"color\": \"#ab63fa\"}, \"name\": \"Eye Brushes\", \"offsetgroup\": \"Eye Brushes\", \"orientation\": \"v\", \"showlegend\": true, \"textposition\": \"auto\", \"type\": \"bar\", \"x\": [\"Eye Brushes\", \"Eye Brushes\", \"Eye Brushes\", \"Eye Brushes\", \"Eye Brushes\", \"Eye Brushes\", \"Eye Brushes\", \"Eye Brushes\", \"Eye Brushes\", \"Eye Brushes\", \"Eye Brushes\", \"Eye Brushes\", \"Eye Brushes\", \"Eye Brushes\", \"Eye Brushes\", \"Eye Brushes\", \"Eye Brushes\", \"Eye Brushes\", \"Eye Brushes\", \"Eye Brushes\", \"Eye Brushes\", \"Eye Brushes\", \"Eye Brushes\", \"Eye Brushes\", \"Eye Brushes\", \"Eye Brushes\", \"Eye Brushes\"], \"xaxis\": \"x\", \"y\": [132, 128, 22, 1, 41, 21, 265, 1, 61, 223, 7, 0, 0, 54, 1, 49, 0, 16, 0, 1, 0, 72, 72, 0, 18, 25, 83], \"yaxis\": \"y\"}, {\"alignmentgroup\": \"True\", \"hovertemplate\": \"category=%{x}<br>number_of_reviews=%{y}<extra></extra>\", \"legendgroup\": \"Facial Rollers\", \"marker\": {\"color\": \"#FFA15A\"}, \"name\": \"Facial Rollers\", \"offsetgroup\": \"Facial Rollers\", \"orientation\": \"v\", \"showlegend\": true, \"textposition\": \"auto\", \"type\": \"bar\", \"x\": [\"Facial Rollers\", \"Facial Rollers\", \"Facial Rollers\", \"Facial Rollers\", \"Facial Rollers\", \"Facial Rollers\", \"Facial Rollers\"], \"xaxis\": \"x\", \"y\": [19, 10, 13, 6, 28, 56, 61], \"yaxis\": \"y\"}, {\"alignmentgroup\": \"True\", \"hovertemplate\": \"category=%{x}<br>number_of_reviews=%{y}<extra></extra>\", \"legendgroup\": \"Lip Sets\", \"marker\": {\"color\": \"#19d3f3\"}, \"name\": \"Lip Sets\", \"offsetgroup\": \"Lip Sets\", \"orientation\": \"v\", \"showlegend\": true, \"textposition\": \"auto\", \"type\": \"bar\", \"x\": [\"Lip Sets\", \"Lip Sets\", \"Lip Sets\", \"Lip Sets\", \"Lip Sets\"], \"xaxis\": \"x\", \"y\": [14, 17, 16, 2, 0], \"yaxis\": \"y\"}, {\"alignmentgroup\": \"True\", \"hovertemplate\": \"category=%{x}<br>number_of_reviews=%{y}<extra></extra>\", \"legendgroup\": \"Value & Gift Sets\", \"marker\": {\"color\": \"#FF6692\"}, \"name\": \"Value & Gift Sets\", \"offsetgroup\": \"Value & Gift Sets\", \"orientation\": \"v\", \"showlegend\": true, \"textposition\": \"auto\", \"type\": \"bar\", \"x\": [\"Value & Gift Sets\", \"Value & Gift Sets\", \"Value & Gift Sets\", \"Value & Gift Sets\", \"Value & Gift Sets\", \"Value & Gift Sets\", \"Value & Gift Sets\"], \"xaxis\": \"x\", \"y\": [0, 98, 29, 178, 0, 0, 18], \"yaxis\": \"y\"}, {\"alignmentgroup\": \"True\", \"hovertemplate\": \"category=%{x}<br>number_of_reviews=%{y}<extra></extra>\", \"legendgroup\": \"Moisturizers\", \"marker\": {\"color\": \"#B6E880\"}, \"name\": \"Moisturizers\", \"offsetgroup\": \"Moisturizers\", \"orientation\": \"v\", \"showlegend\": true, \"textposition\": \"auto\", \"type\": \"bar\", \"x\": [\"Moisturizers\", \"Moisturizers\", \"Moisturizers\", \"Moisturizers\", \"Moisturizers\", \"Moisturizers\"], \"xaxis\": \"x\", \"y\": [447, 493, 62, 19, 25, 11], \"yaxis\": \"y\"}, {\"alignmentgroup\": \"True\", \"hovertemplate\": \"category=%{x}<br>number_of_reviews=%{y}<extra></extra>\", \"legendgroup\": \"Lip Liner\", \"marker\": {\"color\": \"#FF97FF\"}, \"name\": \"Lip Liner\", \"offsetgroup\": \"Lip Liner\", \"orientation\": \"v\", \"showlegend\": true, \"textposition\": \"auto\", \"type\": \"bar\", \"x\": [\"Lip Liner\", \"Lip Liner\", \"Lip Liner\"], \"xaxis\": \"x\", \"y\": [810, 570, 337], \"yaxis\": \"y\"}, {\"alignmentgroup\": \"True\", \"hovertemplate\": \"category=%{x}<br>number_of_reviews=%{y}<extra></extra>\", \"legendgroup\": \"Makeup Removers\", \"marker\": {\"color\": \"#FECB52\"}, \"name\": \"Makeup Removers\", \"offsetgroup\": \"Makeup Removers\", \"orientation\": \"v\", \"showlegend\": true, \"textposition\": \"auto\", \"type\": \"bar\", \"x\": [\"Makeup Removers\", \"Makeup Removers\", \"Makeup Removers\", \"Makeup Removers\", \"Makeup Removers\", \"Makeup Removers\", \"Makeup Removers\", \"Makeup Removers\"], \"xaxis\": \"x\", \"y\": [3000, 71, 51, 54, 19, 14, 39, 328], \"yaxis\": \"y\"}, {\"alignmentgroup\": \"True\", \"hovertemplate\": \"category=%{x}<br>number_of_reviews=%{y}<extra></extra>\", \"legendgroup\": \"Beauty Supplements\", \"marker\": {\"color\": \"#636efa\"}, \"name\": \"Beauty Supplements\", \"offsetgroup\": \"Beauty Supplements\", \"orientation\": \"v\", \"showlegend\": true, \"textposition\": \"auto\", \"type\": \"bar\", \"x\": [\"Beauty Supplements\", \"Beauty Supplements\", \"Beauty Supplements\", \"Beauty Supplements\", \"Beauty Supplements\", \"Beauty Supplements\", \"Beauty Supplements\", \"Beauty Supplements\", \"Beauty Supplements\", \"Beauty Supplements\", \"Beauty Supplements\", \"Beauty Supplements\", \"Beauty Supplements\"], \"xaxis\": \"x\", \"y\": [59, 54, 9, 65, 7, 5, 60, 19, 1, 2, 0, 0, 0], \"yaxis\": \"y\"}, {\"alignmentgroup\": \"True\", \"hovertemplate\": \"category=%{x}<br>number_of_reviews=%{y}<extra></extra>\", \"legendgroup\": \"Self Tanners\", \"marker\": {\"color\": \"#EF553B\"}, \"name\": \"Self Tanners\", \"offsetgroup\": \"Self Tanners\", \"orientation\": \"v\", \"showlegend\": true, \"textposition\": \"auto\", \"type\": \"bar\", \"x\": [\"Self Tanners\"], \"xaxis\": \"x\", \"y\": [969], \"yaxis\": \"y\"}, {\"alignmentgroup\": \"True\", \"hovertemplate\": \"category=%{x}<br>number_of_reviews=%{y}<extra></extra>\", \"legendgroup\": \"Face Primer\", \"marker\": {\"color\": \"#00cc96\"}, \"name\": \"Face Primer\", \"offsetgroup\": \"Face Primer\", \"orientation\": \"v\", \"showlegend\": true, \"textposition\": \"auto\", \"type\": \"bar\", \"x\": [\"Face Primer\", \"Face Primer\", \"Face Primer\", \"Face Primer\", \"Face Primer\", \"Face Primer\"], \"xaxis\": \"x\", \"y\": [378, 98, 1000, 17, 17, 596], \"yaxis\": \"y\"}, {\"alignmentgroup\": \"True\", \"hovertemplate\": \"category=%{x}<br>number_of_reviews=%{y}<extra></extra>\", \"legendgroup\": \"Lip Stain\", \"marker\": {\"color\": \"#ab63fa\"}, \"name\": \"Lip Stain\", \"offsetgroup\": \"Lip Stain\", \"orientation\": \"v\", \"showlegend\": true, \"textposition\": \"auto\", \"type\": \"bar\", \"x\": [\"Lip Stain\", \"Lip Stain\", \"Lip Stain\"], \"xaxis\": \"x\", \"y\": [444, 94, 205], \"yaxis\": \"y\"}, {\"alignmentgroup\": \"True\", \"hovertemplate\": \"category=%{x}<br>number_of_reviews=%{y}<extra></extra>\", \"legendgroup\": \"Face Wash & Cleansers\", \"marker\": {\"color\": \"#FFA15A\"}, \"name\": \"Face Wash & Cleansers\", \"offsetgroup\": \"Face Wash & Cleansers\", \"orientation\": \"v\", \"showlegend\": true, \"textposition\": \"auto\", \"type\": \"bar\", \"x\": [\"Face Wash & Cleansers\", \"Face Wash & Cleansers\", \"Face Wash & Cleansers\", \"Face Wash & Cleansers\", \"Face Wash & Cleansers\", \"Face Wash & Cleansers\", \"Face Wash & Cleansers\", \"Face Wash & Cleansers\"], \"xaxis\": \"x\", \"y\": [401, 1000, 5, 26, 28, 38, 47, 357], \"yaxis\": \"y\"}, {\"alignmentgroup\": \"True\", \"hovertemplate\": \"category=%{x}<br>number_of_reviews=%{y}<extra></extra>\", \"legendgroup\": \"Hair Masks\", \"marker\": {\"color\": \"#19d3f3\"}, \"name\": \"Hair Masks\", \"offsetgroup\": \"Hair Masks\", \"orientation\": \"v\", \"showlegend\": true, \"textposition\": \"auto\", \"type\": \"bar\", \"x\": [\"Hair Masks\"], \"xaxis\": \"x\", \"y\": [529], \"yaxis\": \"y\"}, {\"alignmentgroup\": \"True\", \"hovertemplate\": \"category=%{x}<br>number_of_reviews=%{y}<extra></extra>\", \"legendgroup\": \"Nail\", \"marker\": {\"color\": \"#FF6692\"}, \"name\": \"Nail\", \"offsetgroup\": \"Nail\", \"orientation\": \"v\", \"showlegend\": true, \"textposition\": \"auto\", \"type\": \"bar\", \"x\": [\"Nail\", \"Nail\", \"Nail\", \"Nail\", \"Nail\", \"Nail\"], \"xaxis\": \"x\", \"y\": [168, 163, 12, 636, 12, 57], \"yaxis\": \"y\"}, {\"alignmentgroup\": \"True\", \"hovertemplate\": \"category=%{x}<br>number_of_reviews=%{y}<extra></extra>\", \"legendgroup\": \"Hair Styling Products\", \"marker\": {\"color\": \"#B6E880\"}, \"name\": \"Hair Styling Products\", \"offsetgroup\": \"Hair Styling Products\", \"orientation\": \"v\", \"showlegend\": true, \"textposition\": \"auto\", \"type\": \"bar\", \"x\": [\"Hair Styling Products\", \"Hair Styling Products\", \"Hair Styling Products\", \"Hair Styling Products\", \"Hair Styling Products\", \"Hair Styling Products\"], \"xaxis\": \"x\", \"y\": [115, 89, 5, 102, 19, 0], \"yaxis\": \"y\"}, {\"alignmentgroup\": \"True\", \"hovertemplate\": \"category=%{x}<br>number_of_reviews=%{y}<extra></extra>\", \"legendgroup\": \"Mascara\", \"marker\": {\"color\": \"#FF97FF\"}, \"name\": \"Mascara\", \"offsetgroup\": \"Mascara\", \"orientation\": \"v\", \"showlegend\": true, \"textposition\": \"auto\", \"type\": \"bar\", \"x\": [\"Mascara\", \"Mascara\", \"Mascara\", \"Mascara\", \"Mascara\", \"Mascara\"], \"xaxis\": \"x\", \"y\": [831, 1000, 128, 14, 23, 123], \"yaxis\": \"y\"}, {\"alignmentgroup\": \"True\", \"hovertemplate\": \"category=%{x}<br>number_of_reviews=%{y}<extra></extra>\", \"legendgroup\": \"Brush Cleaners\", \"marker\": {\"color\": \"#FECB52\"}, \"name\": \"Brush Cleaners\", \"offsetgroup\": \"Brush Cleaners\", \"orientation\": \"v\", \"showlegend\": true, \"textposition\": \"auto\", \"type\": \"bar\", \"x\": [\"Brush Cleaners\", \"Brush Cleaners\", \"Brush Cleaners\", \"Brush Cleaners\", \"Brush Cleaners\", \"Brush Cleaners\", \"Brush Cleaners\", \"Brush Cleaners\", \"Brush Cleaners\", \"Brush Cleaners\"], \"xaxis\": \"x\", \"y\": [637, 2000, 190, 2, 831, 276, 31, 22, 165, 619], \"yaxis\": \"y\"}, {\"alignmentgroup\": \"True\", \"hovertemplate\": \"category=%{x}<br>number_of_reviews=%{y}<extra></extra>\", \"legendgroup\": \"Facial Peels\", \"marker\": {\"color\": \"#636efa\"}, \"name\": \"Facial Peels\", \"offsetgroup\": \"Facial Peels\", \"orientation\": \"v\", \"showlegend\": true, \"textposition\": \"auto\", \"type\": \"bar\", \"x\": [\"Facial Peels\", \"Facial Peels\", \"Facial Peels\"], \"xaxis\": \"x\", \"y\": [272, 40, 9], \"yaxis\": \"y\"}, {\"alignmentgroup\": \"True\", \"hovertemplate\": \"category=%{x}<br>number_of_reviews=%{y}<extra></extra>\", \"legendgroup\": \"no category\", \"marker\": {\"color\": \"#EF553B\"}, \"name\": \"no category\", \"offsetgroup\": \"no category\", \"orientation\": \"v\", \"showlegend\": true, \"textposition\": \"auto\", \"type\": \"bar\", \"x\": [\"no category\", \"no category\", \"no category\", \"no category\", \"no category\", \"no category\", \"no category\"], \"xaxis\": \"x\", \"y\": [0, 26, 0, 0, 12, 46, 0], \"yaxis\": \"y\"}, {\"alignmentgroup\": \"True\", \"hovertemplate\": \"category=%{x}<br>number_of_reviews=%{y}<extra></extra>\", \"legendgroup\": \"Blush\", \"marker\": {\"color\": \"#00cc96\"}, \"name\": \"Blush\", \"offsetgroup\": \"Blush\", \"orientation\": \"v\", \"showlegend\": true, \"textposition\": \"auto\", \"type\": \"bar\", \"x\": [\"Blush\", \"Blush\", \"Blush\"], \"xaxis\": \"x\", \"y\": [361, 48, 244], \"yaxis\": \"y\"}, {\"alignmentgroup\": \"True\", \"hovertemplate\": \"category=%{x}<br>number_of_reviews=%{y}<extra></extra>\", \"legendgroup\": \"Night Creams\", \"marker\": {\"color\": \"#ab63fa\"}, \"name\": \"Night Creams\", \"offsetgroup\": \"Night Creams\", \"orientation\": \"v\", \"showlegend\": true, \"textposition\": \"auto\", \"type\": \"bar\", \"x\": [\"Night Creams\"], \"xaxis\": \"x\", \"y\": [143], \"yaxis\": \"y\"}, {\"alignmentgroup\": \"True\", \"hovertemplate\": \"category=%{x}<br>number_of_reviews=%{y}<extra></extra>\", \"legendgroup\": \"Eye Primer\", \"marker\": {\"color\": \"#FFA15A\"}, \"name\": \"Eye Primer\", \"offsetgroup\": \"Eye Primer\", \"orientation\": \"v\", \"showlegend\": true, \"textposition\": \"auto\", \"type\": \"bar\", \"x\": [\"Eye Primer\", \"Eye Primer\", \"Eye Primer\"], \"xaxis\": \"x\", \"y\": [169, 108, 68], \"yaxis\": \"y\"}, {\"alignmentgroup\": \"True\", \"hovertemplate\": \"category=%{x}<br>number_of_reviews=%{y}<extra></extra>\", \"legendgroup\": \"Bronzer\", \"marker\": {\"color\": \"#19d3f3\"}, \"name\": \"Bronzer\", \"offsetgroup\": \"Bronzer\", \"orientation\": \"v\", \"showlegend\": true, \"textposition\": \"auto\", \"type\": \"bar\", \"x\": [\"Bronzer\", \"Bronzer\", \"Bronzer\"], \"xaxis\": \"x\", \"y\": [1000, 25, 3], \"yaxis\": \"y\"}, {\"alignmentgroup\": \"True\", \"hovertemplate\": \"category=%{x}<br>number_of_reviews=%{y}<extra></extra>\", \"legendgroup\": \"Facial Cleansing Brushes\", \"marker\": {\"color\": \"#FF6692\"}, \"name\": \"Facial Cleansing Brushes\", \"offsetgroup\": \"Facial Cleansing Brushes\", \"orientation\": \"v\", \"showlegend\": true, \"textposition\": \"auto\", \"type\": \"bar\", \"x\": [\"Facial Cleansing Brushes\", \"Facial Cleansing Brushes\", \"Facial Cleansing Brushes\"], \"xaxis\": \"x\", \"y\": [2000, 339, 0], \"yaxis\": \"y\"}, {\"alignmentgroup\": \"True\", \"hovertemplate\": \"category=%{x}<br>number_of_reviews=%{y}<extra></extra>\", \"legendgroup\": \"Eye Sets\", \"marker\": {\"color\": \"#B6E880\"}, \"name\": \"Eye Sets\", \"offsetgroup\": \"Eye Sets\", \"orientation\": \"v\", \"showlegend\": true, \"textposition\": \"auto\", \"type\": \"bar\", \"x\": [\"Eye Sets\", \"Eye Sets\"], \"xaxis\": \"x\", \"y\": [26, 1], \"yaxis\": \"y\"}, {\"alignmentgroup\": \"True\", \"hovertemplate\": \"category=%{x}<br>number_of_reviews=%{y}<extra></extra>\", \"legendgroup\": \"Tinted Moisturizer\", \"marker\": {\"color\": \"#FF97FF\"}, \"name\": \"Tinted Moisturizer\", \"offsetgroup\": \"Tinted Moisturizer\", \"orientation\": \"v\", \"showlegend\": true, \"textposition\": \"auto\", \"type\": \"bar\", \"x\": [\"Tinted Moisturizer\", \"Tinted Moisturizer\"], \"xaxis\": \"x\", \"y\": [239, 0], \"yaxis\": \"y\"}, {\"alignmentgroup\": \"True\", \"hovertemplate\": \"category=%{x}<br>number_of_reviews=%{y}<extra></extra>\", \"legendgroup\": \"Highlighter\", \"marker\": {\"color\": \"#FECB52\"}, \"name\": \"Highlighter\", \"offsetgroup\": \"Highlighter\", \"orientation\": \"v\", \"showlegend\": true, \"textposition\": \"auto\", \"type\": \"bar\", \"x\": [\"Highlighter\", \"Highlighter\", \"Highlighter\", \"Highlighter\", \"Highlighter\", \"Highlighter\", \"Highlighter\"], \"xaxis\": \"x\", \"y\": [538, 398, 51, 4, 38, 35, 34], \"yaxis\": \"y\"}, {\"alignmentgroup\": \"True\", \"hovertemplate\": \"category=%{x}<br>number_of_reviews=%{y}<extra></extra>\", \"legendgroup\": \"Color Correct\", \"marker\": {\"color\": \"#636efa\"}, \"name\": \"Color Correct\", \"offsetgroup\": \"Color Correct\", \"orientation\": \"v\", \"showlegend\": true, \"textposition\": \"auto\", \"type\": \"bar\", \"x\": [\"Color Correct\"], \"xaxis\": \"x\", \"y\": [896], \"yaxis\": \"y\"}, {\"alignmentgroup\": \"True\", \"hovertemplate\": \"category=%{x}<br>number_of_reviews=%{y}<extra></extra>\", \"legendgroup\": \"Sponges & Applicators\", \"marker\": {\"color\": \"#EF553B\"}, \"name\": \"Sponges & Applicators\", \"offsetgroup\": \"Sponges & Applicators\", \"orientation\": \"v\", \"showlegend\": true, \"textposition\": \"auto\", \"type\": \"bar\", \"x\": [\"Sponges & Applicators\", \"Sponges & Applicators\", \"Sponges & Applicators\", \"Sponges & Applicators\", \"Sponges & Applicators\", \"Sponges & Applicators\", \"Sponges & Applicators\", \"Sponges & Applicators\", \"Sponges & Applicators\", \"Sponges & Applicators\", \"Sponges & Applicators\", \"Sponges & Applicators\", \"Sponges & Applicators\", \"Sponges & Applicators\", \"Sponges & Applicators\", \"Sponges & Applicators\", \"Sponges & Applicators\", \"Sponges & Applicators\"], \"xaxis\": \"x\", \"y\": [42, 12, 39, 1, 0, 5, 297, 72, 73, 37, 1, 110, 7, 67, 19, 127, 146, 22], \"yaxis\": \"y\"}, {\"alignmentgroup\": \"True\", \"hovertemplate\": \"category=%{x}<br>number_of_reviews=%{y}<extra></extra>\", \"legendgroup\": \"Spa Tools\", \"marker\": {\"color\": \"#00cc96\"}, \"name\": \"Spa Tools\", \"offsetgroup\": \"Spa Tools\", \"orientation\": \"v\", \"showlegend\": true, \"textposition\": \"auto\", \"type\": \"bar\", \"x\": [\"Spa Tools\"], \"xaxis\": \"x\", \"y\": [170], \"yaxis\": \"y\"}, {\"alignmentgroup\": \"True\", \"hovertemplate\": \"category=%{x}<br>number_of_reviews=%{y}<extra></extra>\", \"legendgroup\": \"Eyelash Curlers\", \"marker\": {\"color\": \"#ab63fa\"}, \"name\": \"Eyelash Curlers\", \"offsetgroup\": \"Eyelash Curlers\", \"orientation\": \"v\", \"showlegend\": true, \"textposition\": \"auto\", \"type\": \"bar\", \"x\": [\"Eyelash Curlers\", \"Eyelash Curlers\", \"Eyelash Curlers\"], \"xaxis\": \"x\", \"y\": [355, 217, 90], \"yaxis\": \"y\"}, {\"alignmentgroup\": \"True\", \"hovertemplate\": \"category=%{x}<br>number_of_reviews=%{y}<extra></extra>\", \"legendgroup\": \"Hair Brushes & Combs\", \"marker\": {\"color\": \"#FFA15A\"}, \"name\": \"Hair Brushes & Combs\", \"offsetgroup\": \"Hair Brushes & Combs\", \"orientation\": \"v\", \"showlegend\": true, \"textposition\": \"auto\", \"type\": \"bar\", \"x\": [\"Hair Brushes & Combs\", \"Hair Brushes & Combs\", \"Hair Brushes & Combs\", \"Hair Brushes & Combs\", \"Hair Brushes & Combs\"], \"xaxis\": \"x\", \"y\": [89, 7, 26, 6, 4], \"yaxis\": \"y\"}, {\"alignmentgroup\": \"True\", \"hovertemplate\": \"category=%{x}<br>number_of_reviews=%{y}<extra></extra>\", \"legendgroup\": \"Makeup Bags & Travel Cases\", \"marker\": {\"color\": \"#19d3f3\"}, \"name\": \"Makeup Bags & Travel Cases\", \"offsetgroup\": \"Makeup Bags & Travel Cases\", \"orientation\": \"v\", \"showlegend\": true, \"textposition\": \"auto\", \"type\": \"bar\", \"x\": [\"Makeup Bags & Travel Cases\", \"Makeup Bags & Travel Cases\", \"Makeup Bags & Travel Cases\", \"Makeup Bags & Travel Cases\", \"Makeup Bags & Travel Cases\", \"Makeup Bags & Travel Cases\", \"Makeup Bags & Travel Cases\", \"Makeup Bags & Travel Cases\", \"Makeup Bags & Travel Cases\", \"Makeup Bags & Travel Cases\", \"Makeup Bags & Travel Cases\", \"Makeup Bags & Travel Cases\"], \"xaxis\": \"x\", \"y\": [176, 31, 75, 17, 7, 4, 12, 273, 3, 30, 23, 25], \"yaxis\": \"y\"}, {\"alignmentgroup\": \"True\", \"hovertemplate\": \"category=%{x}<br>number_of_reviews=%{y}<extra></extra>\", \"legendgroup\": \"Lip Balms & Treatments\", \"marker\": {\"color\": \"#FF6692\"}, \"name\": \"Lip Balms & Treatments\", \"offsetgroup\": \"Lip Balms & Treatments\", \"orientation\": \"v\", \"showlegend\": true, \"textposition\": \"auto\", \"type\": \"bar\", \"x\": [\"Lip Balms & Treatments\", \"Lip Balms & Treatments\"], \"xaxis\": \"x\", \"y\": [196, 733], \"yaxis\": \"y\"}, {\"alignmentgroup\": \"True\", \"hovertemplate\": \"category=%{x}<br>number_of_reviews=%{y}<extra></extra>\", \"legendgroup\": \"Hair Accessories\", \"marker\": {\"color\": \"#B6E880\"}, \"name\": \"Hair Accessories\", \"offsetgroup\": \"Hair Accessories\", \"orientation\": \"v\", \"showlegend\": true, \"textposition\": \"auto\", \"type\": \"bar\", \"x\": [\"Hair Accessories\", \"Hair Accessories\", \"Hair Accessories\", \"Hair Accessories\", \"Hair Accessories\", \"Hair Accessories\"], \"xaxis\": \"x\", \"y\": [2, 1000, 42, 5, 82, 65], \"yaxis\": \"y\"}, {\"alignmentgroup\": \"True\", \"hovertemplate\": \"category=%{x}<br>number_of_reviews=%{y}<extra></extra>\", \"legendgroup\": \"Blemish & Acne Treatments\", \"marker\": {\"color\": \"#FF97FF\"}, \"name\": \"Blemish & Acne Treatments\", \"offsetgroup\": \"Blemish & Acne Treatments\", \"orientation\": \"v\", \"showlegend\": true, \"textposition\": \"auto\", \"type\": \"bar\", \"x\": [\"Blemish & Acne Treatments\", \"Blemish & Acne Treatments\", \"Blemish & Acne Treatments\", \"Blemish & Acne Treatments\", \"Blemish & Acne Treatments\"], \"xaxis\": \"x\", \"y\": [513, 495, 0, 59, 22], \"yaxis\": \"y\"}, {\"alignmentgroup\": \"True\", \"hovertemplate\": \"category=%{x}<br>number_of_reviews=%{y}<extra></extra>\", \"legendgroup\": \"Cheek Palettes\", \"marker\": {\"color\": \"#FECB52\"}, \"name\": \"Cheek Palettes\", \"offsetgroup\": \"Cheek Palettes\", \"orientation\": \"v\", \"showlegend\": true, \"textposition\": \"auto\", \"type\": \"bar\", \"x\": [\"Cheek Palettes\", \"Cheek Palettes\"], \"xaxis\": \"x\", \"y\": [20, 149], \"yaxis\": \"y\"}, {\"alignmentgroup\": \"True\", \"hovertemplate\": \"category=%{x}<br>number_of_reviews=%{y}<extra></extra>\", \"legendgroup\": \"Setting Spray & Powder\", \"marker\": {\"color\": \"#636efa\"}, \"name\": \"Setting Spray & Powder\", \"offsetgroup\": \"Setting Spray & Powder\", \"orientation\": \"v\", \"showlegend\": true, \"textposition\": \"auto\", \"type\": \"bar\", \"x\": [\"Setting Spray & Powder\", \"Setting Spray & Powder\", \"Setting Spray & Powder\"], \"xaxis\": \"x\", \"y\": [72, 560, 187], \"yaxis\": \"y\"}, {\"alignmentgroup\": \"True\", \"hovertemplate\": \"category=%{x}<br>number_of_reviews=%{y}<extra></extra>\", \"legendgroup\": \"Body Lotions & Body Oils\", \"marker\": {\"color\": \"#EF553B\"}, \"name\": \"Body Lotions & Body Oils\", \"offsetgroup\": \"Body Lotions & Body Oils\", \"orientation\": \"v\", \"showlegend\": true, \"textposition\": \"auto\", \"type\": \"bar\", \"x\": [\"Body Lotions & Body Oils\", \"Body Lotions & Body Oils\", \"Body Lotions & Body Oils\", \"Body Lotions & Body Oils\", \"Body Lotions & Body Oils\"], \"xaxis\": \"x\", \"y\": [845, 17, 6, 17, 32], \"yaxis\": \"y\"}, {\"alignmentgroup\": \"True\", \"hovertemplate\": \"category=%{x}<br>number_of_reviews=%{y}<extra></extra>\", \"legendgroup\": \"Accessories\", \"marker\": {\"color\": \"#00cc96\"}, \"name\": \"Accessories\", \"offsetgroup\": \"Accessories\", \"orientation\": \"v\", \"showlegend\": true, \"textposition\": \"auto\", \"type\": \"bar\", \"x\": [\"Accessories\"], \"xaxis\": \"x\", \"y\": [16], \"yaxis\": \"y\"}, {\"alignmentgroup\": \"True\", \"hovertemplate\": \"category=%{x}<br>number_of_reviews=%{y}<extra></extra>\", \"legendgroup\": \"Mirrors & Sharpeners\", \"marker\": {\"color\": \"#ab63fa\"}, \"name\": \"Mirrors & Sharpeners\", \"offsetgroup\": \"Mirrors & Sharpeners\", \"orientation\": \"v\", \"showlegend\": true, \"textposition\": \"auto\", \"type\": \"bar\", \"x\": [\"Mirrors & Sharpeners\", \"Mirrors & Sharpeners\"], \"xaxis\": \"x\", \"y\": [308, 86], \"yaxis\": \"y\"}, {\"alignmentgroup\": \"True\", \"hovertemplate\": \"category=%{x}<br>number_of_reviews=%{y}<extra></extra>\", \"legendgroup\": \"Exfoliators\", \"marker\": {\"color\": \"#FFA15A\"}, \"name\": \"Exfoliators\", \"offsetgroup\": \"Exfoliators\", \"orientation\": \"v\", \"showlegend\": true, \"textposition\": \"auto\", \"type\": \"bar\", \"x\": [\"Exfoliators\", \"Exfoliators\", \"Exfoliators\"], \"xaxis\": \"x\", \"y\": [28, 70, 5], \"yaxis\": \"y\"}, {\"alignmentgroup\": \"True\", \"hovertemplate\": \"category=%{x}<br>number_of_reviews=%{y}<extra></extra>\", \"legendgroup\": \"Tweezers & Eyebrow Tools\", \"marker\": {\"color\": \"#19d3f3\"}, \"name\": \"Tweezers & Eyebrow Tools\", \"offsetgroup\": \"Tweezers & Eyebrow Tools\", \"orientation\": \"v\", \"showlegend\": true, \"textposition\": \"auto\", \"type\": \"bar\", \"x\": [\"Tweezers & Eyebrow Tools\", \"Tweezers & Eyebrow Tools\", \"Tweezers & Eyebrow Tools\"], \"xaxis\": \"x\", \"y\": [492, 12, 12], \"yaxis\": \"y\"}, {\"alignmentgroup\": \"True\", \"hovertemplate\": \"category=%{x}<br>number_of_reviews=%{y}<extra></extra>\", \"legendgroup\": \"Candles & Home Scents\", \"marker\": {\"color\": \"#FF6692\"}, \"name\": \"Candles & Home Scents\", \"offsetgroup\": \"Candles & Home Scents\", \"orientation\": \"v\", \"showlegend\": true, \"textposition\": \"auto\", \"type\": \"bar\", \"x\": [\"Candles & Home Scents\"], \"xaxis\": \"x\", \"y\": [13], \"yaxis\": \"y\"}, {\"alignmentgroup\": \"True\", \"hovertemplate\": \"category=%{x}<br>number_of_reviews=%{y}<extra></extra>\", \"legendgroup\": \"Hair Dryers\", \"marker\": {\"color\": \"#B6E880\"}, \"name\": \"Hair Dryers\", \"offsetgroup\": \"Hair Dryers\", \"orientation\": \"v\", \"showlegend\": true, \"textposition\": \"auto\", \"type\": \"bar\", \"x\": [\"Hair Dryers\", \"Hair Dryers\"], \"xaxis\": \"x\", \"y\": [60, 65], \"yaxis\": \"y\"}, {\"alignmentgroup\": \"True\", \"hovertemplate\": \"category=%{x}<br>number_of_reviews=%{y}<extra></extra>\", \"legendgroup\": \"Contour\", \"marker\": {\"color\": \"#FF97FF\"}, \"name\": \"Contour\", \"offsetgroup\": \"Contour\", \"orientation\": \"v\", \"showlegend\": true, \"textposition\": \"auto\", \"type\": \"bar\", \"x\": [\"Contour\"], \"xaxis\": \"x\", \"y\": [210], \"yaxis\": \"y\"}, {\"alignmentgroup\": \"True\", \"hovertemplate\": \"category=%{x}<br>number_of_reviews=%{y}<extra></extra>\", \"legendgroup\": \"Face Sunscreen\", \"marker\": {\"color\": \"#FECB52\"}, \"name\": \"Face Sunscreen\", \"offsetgroup\": \"Face Sunscreen\", \"orientation\": \"v\", \"showlegend\": true, \"textposition\": \"auto\", \"type\": \"bar\", \"x\": [\"Face Sunscreen\"], \"xaxis\": \"x\", \"y\": [12], \"yaxis\": \"y\"}, {\"alignmentgroup\": \"True\", \"hovertemplate\": \"category=%{x}<br>number_of_reviews=%{y}<extra></extra>\", \"legendgroup\": \"Body Moisturizers\", \"marker\": {\"color\": \"#636efa\"}, \"name\": \"Body Moisturizers\", \"offsetgroup\": \"Body Moisturizers\", \"orientation\": \"v\", \"showlegend\": true, \"textposition\": \"auto\", \"type\": \"bar\", \"x\": [\"Body Moisturizers\"], \"xaxis\": \"x\", \"y\": [43], \"yaxis\": \"y\"}, {\"alignmentgroup\": \"True\", \"hovertemplate\": \"category=%{x}<br>number_of_reviews=%{y}<extra></extra>\", \"legendgroup\": \"Toners\", \"marker\": {\"color\": \"#EF553B\"}, \"name\": \"Toners\", \"offsetgroup\": \"Toners\", \"orientation\": \"v\", \"showlegend\": true, \"textposition\": \"auto\", \"type\": \"bar\", \"x\": [\"Toners\"], \"xaxis\": \"x\", \"y\": [40], \"yaxis\": \"y\"}, {\"alignmentgroup\": \"True\", \"hovertemplate\": \"category=%{x}<br>number_of_reviews=%{y}<extra></extra>\", \"legendgroup\": \"Anti-Aging\", \"marker\": {\"color\": \"#00cc96\"}, \"name\": \"Anti-Aging\", \"offsetgroup\": \"Anti-Aging\", \"orientation\": \"v\", \"showlegend\": true, \"textposition\": \"auto\", \"type\": \"bar\", \"x\": [\"Anti-Aging\"], \"xaxis\": \"x\", \"y\": [91], \"yaxis\": \"y\"}, {\"alignmentgroup\": \"True\", \"hovertemplate\": \"category=%{x}<br>number_of_reviews=%{y}<extra></extra>\", \"legendgroup\": \"Cellulite & Stretch Marks\", \"marker\": {\"color\": \"#ab63fa\"}, \"name\": \"Cellulite & Stretch Marks\", \"offsetgroup\": \"Cellulite & Stretch Marks\", \"orientation\": \"v\", \"showlegend\": true, \"textposition\": \"auto\", \"type\": \"bar\", \"x\": [\"Cellulite & Stretch Marks\"], \"xaxis\": \"x\", \"y\": [0], \"yaxis\": \"y\"}, {\"alignmentgroup\": \"True\", \"hovertemplate\": \"category=%{x}<br>number_of_reviews=%{y}<extra></extra>\", \"legendgroup\": \"Hair Straighteners & Flat Irons\", \"marker\": {\"color\": \"#FFA15A\"}, \"name\": \"Hair Straighteners & Flat Irons\", \"offsetgroup\": \"Hair Straighteners & Flat Irons\", \"orientation\": \"v\", \"showlegend\": true, \"textposition\": \"auto\", \"type\": \"bar\", \"x\": [\"Hair Straighteners & Flat Irons\"], \"xaxis\": \"x\", \"y\": [114], \"yaxis\": \"y\"}, {\"alignmentgroup\": \"True\", \"hovertemplate\": \"category=%{x}<br>number_of_reviews=%{y}<extra></extra>\", \"legendgroup\": \"Lip Brushes\", \"marker\": {\"color\": \"#19d3f3\"}, \"name\": \"Lip Brushes\", \"offsetgroup\": \"Lip Brushes\", \"orientation\": \"v\", \"showlegend\": true, \"textposition\": \"auto\", \"type\": \"bar\", \"x\": [\"Lip Brushes\", \"Lip Brushes\"], \"xaxis\": \"x\", \"y\": [57, 0], \"yaxis\": \"y\"}, {\"alignmentgroup\": \"True\", \"hovertemplate\": \"category=%{x}<br>number_of_reviews=%{y}<extra></extra>\", \"legendgroup\": \"Makeup & Travel Cases\", \"marker\": {\"color\": \"#FF6692\"}, \"name\": \"Makeup & Travel Cases\", \"offsetgroup\": \"Makeup & Travel Cases\", \"orientation\": \"v\", \"showlegend\": true, \"textposition\": \"auto\", \"type\": \"bar\", \"x\": [\"Makeup & Travel Cases\", \"Makeup & Travel Cases\", \"Makeup & Travel Cases\", \"Makeup & Travel Cases\", \"Makeup & Travel Cases\", \"Makeup & Travel Cases\", \"Makeup & Travel Cases\", \"Makeup & Travel Cases\", \"Makeup & Travel Cases\", \"Makeup & Travel Cases\", \"Makeup & Travel Cases\"], \"xaxis\": \"x\", \"y\": [25, 16, 29, 43, 65, 26, 103, 19, 42, 54, 31], \"yaxis\": \"y\"}, {\"alignmentgroup\": \"True\", \"hovertemplate\": \"category=%{x}<br>number_of_reviews=%{y}<extra></extra>\", \"legendgroup\": \"Blotting Papers\", \"marker\": {\"color\": \"#B6E880\"}, \"name\": \"Blotting Papers\", \"offsetgroup\": \"Blotting Papers\", \"orientation\": \"v\", \"showlegend\": true, \"textposition\": \"auto\", \"type\": \"bar\", \"x\": [\"Blotting Papers\", \"Blotting Papers\"], \"xaxis\": \"x\", \"y\": [16, 134], \"yaxis\": \"y\"}, {\"alignmentgroup\": \"True\", \"hovertemplate\": \"category=%{x}<br>number_of_reviews=%{y}<extra></extra>\", \"legendgroup\": \"Liquid Lipstick\", \"marker\": {\"color\": \"#FF97FF\"}, \"name\": \"Liquid Lipstick\", \"offsetgroup\": \"Liquid Lipstick\", \"orientation\": \"v\", \"showlegend\": true, \"textposition\": \"auto\", \"type\": \"bar\", \"x\": [\"Liquid Lipstick\"], \"xaxis\": \"x\", \"y\": [45], \"yaxis\": \"y\"}, {\"alignmentgroup\": \"True\", \"hovertemplate\": \"category=%{x}<br>number_of_reviews=%{y}<extra></extra>\", \"legendgroup\": \"Curling Irons\", \"marker\": {\"color\": \"#FECB52\"}, \"name\": \"Curling Irons\", \"offsetgroup\": \"Curling Irons\", \"orientation\": \"v\", \"showlegend\": true, \"textposition\": \"auto\", \"type\": \"bar\", \"x\": [\"Curling Irons\"], \"xaxis\": \"x\", \"y\": [30], \"yaxis\": \"y\"}, {\"alignmentgroup\": \"True\", \"hovertemplate\": \"category=%{x}<br>number_of_reviews=%{y}<extra></extra>\", \"legendgroup\": \"Dry Shampoo\", \"marker\": {\"color\": \"#636efa\"}, \"name\": \"Dry Shampoo\", \"offsetgroup\": \"Dry Shampoo\", \"orientation\": \"v\", \"showlegend\": true, \"textposition\": \"auto\", \"type\": \"bar\", \"x\": [\"Dry Shampoo\"], \"xaxis\": \"x\", \"y\": [22], \"yaxis\": \"y\"}, {\"alignmentgroup\": \"True\", \"hovertemplate\": \"category=%{x}<br>number_of_reviews=%{y}<extra></extra>\", \"legendgroup\": \"Shampoo\", \"marker\": {\"color\": \"#EF553B\"}, \"name\": \"Shampoo\", \"offsetgroup\": \"Shampoo\", \"orientation\": \"v\", \"showlegend\": true, \"textposition\": \"auto\", \"type\": \"bar\", \"x\": [\"Shampoo\"], \"xaxis\": \"x\", \"y\": [7], \"yaxis\": \"y\"}, {\"alignmentgroup\": \"True\", \"hovertemplate\": \"category=%{x}<br>number_of_reviews=%{y}<extra></extra>\", \"legendgroup\": \"Makeup\", \"marker\": {\"color\": \"#00cc96\"}, \"name\": \"Makeup\", \"offsetgroup\": \"Makeup\", \"orientation\": \"v\", \"showlegend\": true, \"textposition\": \"auto\", \"type\": \"bar\", \"x\": [\"Makeup\", \"Makeup\"], \"xaxis\": \"x\", \"y\": [157, 81], \"yaxis\": \"y\"}, {\"alignmentgroup\": \"True\", \"hovertemplate\": \"category=%{x}<br>number_of_reviews=%{y}<extra></extra>\", \"legendgroup\": \"Scalp & Hair Treatments\", \"marker\": {\"color\": \"#ab63fa\"}, \"name\": \"Scalp & Hair Treatments\", \"offsetgroup\": \"Scalp & Hair Treatments\", \"orientation\": \"v\", \"showlegend\": true, \"textposition\": \"auto\", \"type\": \"bar\", \"x\": [\"Scalp & Hair Treatments\", \"Scalp & Hair Treatments\"], \"xaxis\": \"x\", \"y\": [101, 73], \"yaxis\": \"y\"}, {\"alignmentgroup\": \"True\", \"hovertemplate\": \"category=%{x}<br>number_of_reviews=%{y}<extra></extra>\", \"legendgroup\": \"Hair Products\", \"marker\": {\"color\": \"#FFA15A\"}, \"name\": \"Hair Products\", \"offsetgroup\": \"Hair Products\", \"orientation\": \"v\", \"showlegend\": true, \"textposition\": \"auto\", \"type\": \"bar\", \"x\": [\"Hair Products\"], \"xaxis\": \"x\", \"y\": [11], \"yaxis\": \"y\"}, {\"alignmentgroup\": \"True\", \"hovertemplate\": \"category=%{x}<br>number_of_reviews=%{y}<extra></extra>\", \"legendgroup\": \"Conditioner\", \"marker\": {\"color\": \"#19d3f3\"}, \"name\": \"Conditioner\", \"offsetgroup\": \"Conditioner\", \"orientation\": \"v\", \"showlegend\": true, \"textposition\": \"auto\", \"type\": \"bar\", \"x\": [\"Conditioner\"], \"xaxis\": \"x\", \"y\": [9], \"yaxis\": \"y\"}, {\"alignmentgroup\": \"True\", \"hovertemplate\": \"category=%{x}<br>number_of_reviews=%{y}<extra></extra>\", \"legendgroup\": \"Powder Brush\", \"marker\": {\"color\": \"#FF6692\"}, \"name\": \"Powder Brush\", \"offsetgroup\": \"Powder Brush\", \"orientation\": \"v\", \"showlegend\": true, \"textposition\": \"auto\", \"type\": \"bar\", \"x\": [\"Powder Brush\"], \"xaxis\": \"x\", \"y\": [33], \"yaxis\": \"y\"}, {\"alignmentgroup\": \"True\", \"hovertemplate\": \"category=%{x}<br>number_of_reviews=%{y}<extra></extra>\", \"legendgroup\": \"Perfume\", \"marker\": {\"color\": \"#B6E880\"}, \"name\": \"Perfume\", \"offsetgroup\": \"Perfume\", \"orientation\": \"v\", \"showlegend\": true, \"textposition\": \"auto\", \"type\": \"bar\", \"x\": [\"Perfume\"], \"xaxis\": \"x\", \"y\": [56], \"yaxis\": \"y\"}, {\"alignmentgroup\": \"True\", \"hovertemplate\": \"category=%{x}<br>number_of_reviews=%{y}<extra></extra>\", \"legendgroup\": \"Lid Shadow Brush\", \"marker\": {\"color\": \"#FF97FF\"}, \"name\": \"Lid Shadow Brush\", \"offsetgroup\": \"Lid Shadow Brush\", \"orientation\": \"v\", \"showlegend\": true, \"textposition\": \"auto\", \"type\": \"bar\", \"x\": [\"Lid Shadow Brush\"], \"xaxis\": \"x\", \"y\": [20], \"yaxis\": \"y\"}, {\"alignmentgroup\": \"True\", \"hovertemplate\": \"category=%{x}<br>number_of_reviews=%{y}<extra></extra>\", \"legendgroup\": \"Body Wash & Shower Gel\", \"marker\": {\"color\": \"#FECB52\"}, \"name\": \"Body Wash & Shower Gel\", \"offsetgroup\": \"Body Wash & Shower Gel\", \"orientation\": \"v\", \"showlegend\": true, \"textposition\": \"auto\", \"type\": \"bar\", \"x\": [\"Body Wash & Shower Gel\"], \"xaxis\": \"x\", \"y\": [34], \"yaxis\": \"y\"}, {\"alignmentgroup\": \"True\", \"hovertemplate\": \"category=%{x}<br>number_of_reviews=%{y}<extra></extra>\", \"legendgroup\": \"Scrub & Exfoliants\", \"marker\": {\"color\": \"#636efa\"}, \"name\": \"Scrub & Exfoliants\", \"offsetgroup\": \"Scrub & Exfoliants\", \"orientation\": \"v\", \"showlegend\": true, \"textposition\": \"auto\", \"type\": \"bar\", \"x\": [\"Scrub & Exfoliants\", \"Scrub & Exfoliants\", \"Scrub & Exfoliants\"], \"xaxis\": \"x\", \"y\": [163, 6, 39], \"yaxis\": \"y\"}, {\"alignmentgroup\": \"True\", \"hovertemplate\": \"category=%{x}<br>number_of_reviews=%{y}<extra></extra>\", \"legendgroup\": \"Bath Soaks & Bubble Bath\", \"marker\": {\"color\": \"#EF553B\"}, \"name\": \"Bath Soaks & Bubble Bath\", \"offsetgroup\": \"Bath Soaks & Bubble Bath\", \"orientation\": \"v\", \"showlegend\": true, \"textposition\": \"auto\", \"type\": \"bar\", \"x\": [\"Bath Soaks & Bubble Bath\"], \"xaxis\": \"x\", \"y\": [11], \"yaxis\": \"y\"}],                        {\"barmode\": \"relative\", \"legend\": {\"title\": {\"text\": \"category\"}, \"tracegroupgap\": 0}, \"margin\": {\"t\": 60}, \"template\": {\"data\": {\"bar\": [{\"error_x\": {\"color\": \"#2a3f5f\"}, \"error_y\": {\"color\": \"#2a3f5f\"}, \"marker\": {\"line\": {\"color\": \"#E5ECF6\", \"width\": 0.5}}, \"type\": \"bar\"}], \"barpolar\": [{\"marker\": {\"line\": {\"color\": \"#E5ECF6\", \"width\": 0.5}}, \"type\": \"barpolar\"}], \"carpet\": [{\"aaxis\": {\"endlinecolor\": \"#2a3f5f\", \"gridcolor\": \"white\", \"linecolor\": \"white\", \"minorgridcolor\": \"white\", \"startlinecolor\": \"#2a3f5f\"}, \"baxis\": {\"endlinecolor\": \"#2a3f5f\", \"gridcolor\": \"white\", \"linecolor\": \"white\", \"minorgridcolor\": \"white\", \"startlinecolor\": \"#2a3f5f\"}, \"type\": \"carpet\"}], \"choropleth\": [{\"colorbar\": {\"outlinewidth\": 0, \"ticks\": \"\"}, \"type\": \"choropleth\"}], \"contour\": [{\"colorbar\": {\"outlinewidth\": 0, \"ticks\": \"\"}, \"colorscale\": [[0.0, \"#0d0887\"], [0.1111111111111111, \"#46039f\"], [0.2222222222222222, \"#7201a8\"], [0.3333333333333333, \"#9c179e\"], [0.4444444444444444, \"#bd3786\"], [0.5555555555555556, \"#d8576b\"], [0.6666666666666666, \"#ed7953\"], [0.7777777777777778, \"#fb9f3a\"], [0.8888888888888888, \"#fdca26\"], [1.0, \"#f0f921\"]], \"type\": \"contour\"}], \"contourcarpet\": [{\"colorbar\": {\"outlinewidth\": 0, \"ticks\": \"\"}, \"type\": \"contourcarpet\"}], \"heatmap\": [{\"colorbar\": {\"outlinewidth\": 0, \"ticks\": \"\"}, \"colorscale\": [[0.0, \"#0d0887\"], [0.1111111111111111, \"#46039f\"], [0.2222222222222222, \"#7201a8\"], [0.3333333333333333, \"#9c179e\"], [0.4444444444444444, \"#bd3786\"], [0.5555555555555556, \"#d8576b\"], [0.6666666666666666, \"#ed7953\"], [0.7777777777777778, \"#fb9f3a\"], [0.8888888888888888, \"#fdca26\"], [1.0, \"#f0f921\"]], \"type\": \"heatmap\"}], \"heatmapgl\": [{\"colorbar\": {\"outlinewidth\": 0, \"ticks\": \"\"}, \"colorscale\": [[0.0, \"#0d0887\"], [0.1111111111111111, \"#46039f\"], [0.2222222222222222, \"#7201a8\"], [0.3333333333333333, \"#9c179e\"], [0.4444444444444444, \"#bd3786\"], [0.5555555555555556, \"#d8576b\"], [0.6666666666666666, \"#ed7953\"], [0.7777777777777778, \"#fb9f3a\"], [0.8888888888888888, \"#fdca26\"], [1.0, \"#f0f921\"]], \"type\": \"heatmapgl\"}], \"histogram\": [{\"marker\": {\"colorbar\": {\"outlinewidth\": 0, \"ticks\": \"\"}}, \"type\": \"histogram\"}], \"histogram2d\": [{\"colorbar\": {\"outlinewidth\": 0, \"ticks\": \"\"}, \"colorscale\": [[0.0, \"#0d0887\"], [0.1111111111111111, \"#46039f\"], [0.2222222222222222, \"#7201a8\"], [0.3333333333333333, \"#9c179e\"], [0.4444444444444444, \"#bd3786\"], [0.5555555555555556, \"#d8576b\"], [0.6666666666666666, \"#ed7953\"], [0.7777777777777778, \"#fb9f3a\"], [0.8888888888888888, \"#fdca26\"], [1.0, \"#f0f921\"]], \"type\": \"histogram2d\"}], \"histogram2dcontour\": [{\"colorbar\": {\"outlinewidth\": 0, \"ticks\": \"\"}, \"colorscale\": [[0.0, \"#0d0887\"], [0.1111111111111111, \"#46039f\"], [0.2222222222222222, \"#7201a8\"], [0.3333333333333333, \"#9c179e\"], [0.4444444444444444, \"#bd3786\"], [0.5555555555555556, \"#d8576b\"], [0.6666666666666666, \"#ed7953\"], [0.7777777777777778, \"#fb9f3a\"], [0.8888888888888888, \"#fdca26\"], [1.0, \"#f0f921\"]], \"type\": \"histogram2dcontour\"}], \"mesh3d\": [{\"colorbar\": {\"outlinewidth\": 0, \"ticks\": \"\"}, \"type\": \"mesh3d\"}], \"parcoords\": [{\"line\": {\"colorbar\": {\"outlinewidth\": 0, \"ticks\": \"\"}}, \"type\": \"parcoords\"}], \"pie\": [{\"automargin\": true, \"type\": \"pie\"}], \"scatter\": [{\"marker\": {\"colorbar\": {\"outlinewidth\": 0, \"ticks\": \"\"}}, \"type\": \"scatter\"}], \"scatter3d\": [{\"line\": {\"colorbar\": {\"outlinewidth\": 0, \"ticks\": \"\"}}, \"marker\": {\"colorbar\": {\"outlinewidth\": 0, \"ticks\": \"\"}}, \"type\": \"scatter3d\"}], \"scattercarpet\": [{\"marker\": {\"colorbar\": {\"outlinewidth\": 0, \"ticks\": \"\"}}, \"type\": \"scattercarpet\"}], \"scattergeo\": [{\"marker\": {\"colorbar\": {\"outlinewidth\": 0, \"ticks\": \"\"}}, \"type\": \"scattergeo\"}], \"scattergl\": [{\"marker\": {\"colorbar\": {\"outlinewidth\": 0, \"ticks\": \"\"}}, \"type\": \"scattergl\"}], \"scattermapbox\": [{\"marker\": {\"colorbar\": {\"outlinewidth\": 0, \"ticks\": \"\"}}, \"type\": \"scattermapbox\"}], \"scatterpolar\": [{\"marker\": {\"colorbar\": {\"outlinewidth\": 0, \"ticks\": \"\"}}, \"type\": \"scatterpolar\"}], \"scatterpolargl\": [{\"marker\": {\"colorbar\": {\"outlinewidth\": 0, \"ticks\": \"\"}}, \"type\": \"scatterpolargl\"}], \"scatterternary\": [{\"marker\": {\"colorbar\": {\"outlinewidth\": 0, \"ticks\": \"\"}}, \"type\": \"scatterternary\"}], \"surface\": [{\"colorbar\": {\"outlinewidth\": 0, \"ticks\": \"\"}, \"colorscale\": [[0.0, \"#0d0887\"], [0.1111111111111111, \"#46039f\"], [0.2222222222222222, \"#7201a8\"], [0.3333333333333333, \"#9c179e\"], [0.4444444444444444, \"#bd3786\"], [0.5555555555555556, \"#d8576b\"], [0.6666666666666666, \"#ed7953\"], [0.7777777777777778, \"#fb9f3a\"], [0.8888888888888888, \"#fdca26\"], [1.0, \"#f0f921\"]], \"type\": \"surface\"}], \"table\": [{\"cells\": {\"fill\": {\"color\": \"#EBF0F8\"}, \"line\": {\"color\": \"white\"}}, \"header\": {\"fill\": {\"color\": \"#C8D4E3\"}, \"line\": {\"color\": \"white\"}}, \"type\": \"table\"}]}, \"layout\": {\"annotationdefaults\": {\"arrowcolor\": \"#2a3f5f\", \"arrowhead\": 0, \"arrowwidth\": 1}, \"autotypenumbers\": \"strict\", \"coloraxis\": {\"colorbar\": {\"outlinewidth\": 0, \"ticks\": \"\"}}, \"colorscale\": {\"diverging\": [[0, \"#8e0152\"], [0.1, \"#c51b7d\"], [0.2, \"#de77ae\"], [0.3, \"#f1b6da\"], [0.4, \"#fde0ef\"], [0.5, \"#f7f7f7\"], [0.6, \"#e6f5d0\"], [0.7, \"#b8e186\"], [0.8, \"#7fbc41\"], [0.9, \"#4d9221\"], [1, \"#276419\"]], \"sequential\": [[0.0, \"#0d0887\"], [0.1111111111111111, \"#46039f\"], [0.2222222222222222, \"#7201a8\"], [0.3333333333333333, \"#9c179e\"], [0.4444444444444444, \"#bd3786\"], [0.5555555555555556, \"#d8576b\"], [0.6666666666666666, \"#ed7953\"], [0.7777777777777778, \"#fb9f3a\"], [0.8888888888888888, \"#fdca26\"], [1.0, \"#f0f921\"]], \"sequentialminus\": [[0.0, \"#0d0887\"], [0.1111111111111111, \"#46039f\"], [0.2222222222222222, \"#7201a8\"], [0.3333333333333333, \"#9c179e\"], [0.4444444444444444, \"#bd3786\"], [0.5555555555555556, \"#d8576b\"], [0.6666666666666666, \"#ed7953\"], [0.7777777777777778, \"#fb9f3a\"], [0.8888888888888888, \"#fdca26\"], [1.0, \"#f0f921\"]]}, \"colorway\": [\"#636efa\", \"#EF553B\", \"#00cc96\", \"#ab63fa\", \"#FFA15A\", \"#19d3f3\", \"#FF6692\", \"#B6E880\", \"#FF97FF\", \"#FECB52\"], \"font\": {\"color\": \"#2a3f5f\"}, \"geo\": {\"bgcolor\": \"white\", \"lakecolor\": \"white\", \"landcolor\": \"#E5ECF6\", \"showlakes\": true, \"showland\": true, \"subunitcolor\": \"white\"}, \"hoverlabel\": {\"align\": \"left\"}, \"hovermode\": \"closest\", \"mapbox\": {\"style\": \"light\"}, \"paper_bgcolor\": \"white\", \"plot_bgcolor\": \"#E5ECF6\", \"polar\": {\"angularaxis\": {\"gridcolor\": \"white\", \"linecolor\": \"white\", \"ticks\": \"\"}, \"bgcolor\": \"#E5ECF6\", \"radialaxis\": {\"gridcolor\": \"white\", \"linecolor\": \"white\", \"ticks\": \"\"}}, \"scene\": {\"xaxis\": {\"backgroundcolor\": \"#E5ECF6\", \"gridcolor\": \"white\", \"gridwidth\": 2, \"linecolor\": \"white\", \"showbackground\": true, \"ticks\": \"\", \"zerolinecolor\": \"white\"}, \"yaxis\": {\"backgroundcolor\": \"#E5ECF6\", \"gridcolor\": \"white\", \"gridwidth\": 2, \"linecolor\": \"white\", \"showbackground\": true, \"ticks\": \"\", \"zerolinecolor\": \"white\"}, \"zaxis\": {\"backgroundcolor\": \"#E5ECF6\", \"gridcolor\": \"white\", \"gridwidth\": 2, \"linecolor\": \"white\", \"showbackground\": true, \"ticks\": \"\", \"zerolinecolor\": \"white\"}}, \"shapedefaults\": {\"line\": {\"color\": \"#2a3f5f\"}}, \"ternary\": {\"aaxis\": {\"gridcolor\": \"white\", \"linecolor\": \"white\", \"ticks\": \"\"}, \"baxis\": {\"gridcolor\": \"white\", \"linecolor\": \"white\", \"ticks\": \"\"}, \"bgcolor\": \"#E5ECF6\", \"caxis\": {\"gridcolor\": \"white\", \"linecolor\": \"white\", \"ticks\": \"\"}}, \"title\": {\"x\": 0.05}, \"xaxis\": {\"automargin\": true, \"gridcolor\": \"white\", \"linecolor\": \"white\", \"ticks\": \"\", \"title\": {\"standoff\": 15}, \"zerolinecolor\": \"white\", \"zerolinewidth\": 2}, \"yaxis\": {\"automargin\": true, \"gridcolor\": \"white\", \"linecolor\": \"white\", \"ticks\": \"\", \"title\": {\"standoff\": 15}, \"zerolinecolor\": \"white\", \"zerolinewidth\": 2}}}, \"xaxis\": {\"anchor\": \"y\", \"categoryarray\": [\"Face Wipes\", \"Face Masks\", \"Eyeliner\", \"Brush Sets\", \"Foundation\", \"Lipstick\", \"Eyebrow\", \"Face Oils\", \"Face Serums\", \"False Eyelashes\", \"Eye Masks\", \"Face Sets\", \"Eyeshadow\", \"Concealer\", \"Eye Palettes\", \"Eye Creams & Treatments\", \"Face Brushes\", \"Sheet Masks\", \"Makeup Palettes\", \"Hand Cream & Foot Cream\", \"Lip Gloss\", \"Lip Balm & Treatment\", \"Hair Removal\", \"Eye Brushes\", \"Facial Rollers\", \"Lip Sets\", \"Value & Gift Sets\", \"Moisturizers\", \"Lip Liner\", \"Makeup Removers\", \"Beauty Supplements\", \"Self Tanners\", \"Face Primer\", \"Lip Stain\", \"Face Wash & Cleansers\", \"Hair Masks\", \"Nail\", \"Hair Styling Products\", \"Mascara\", \"Brush Cleaners\", \"Facial Peels\", \"no category\", \"Blush\", \"Night Creams\", \"Eye Primer\", \"Bronzer\", \"Facial Cleansing Brushes\", \"Eye Sets\", \"Tinted Moisturizer\", \"Highlighter\", \"Color Correct\", \"Sponges & Applicators\", \"Spa Tools\", \"Eyelash Curlers\", \"Hair Brushes & Combs\", \"Makeup Bags & Travel Cases\", \"Lip Balms & Treatments\", \"Hair Accessories\", \"Blemish & Acne Treatments\", \"Cheek Palettes\", \"Setting Spray & Powder\", \"Body Lotions & Body Oils\", \"Accessories\", \"Mirrors & Sharpeners\", \"Exfoliators\", \"Tweezers & Eyebrow Tools\", \"Candles & Home Scents\", \"Hair Dryers\", \"Contour\", \"Face Sunscreen\", \"Body Moisturizers\", \"Toners\", \"Anti-Aging\", \"Cellulite & Stretch Marks\", \"Hair Straighteners & Flat Irons\", \"Lip Brushes\", \"Makeup & Travel Cases\", \"Blotting Papers\", \"Liquid Lipstick\", \"Curling Irons\", \"Dry Shampoo\", \"Shampoo\", \"Makeup\", \"Scalp & Hair Treatments\", \"Hair Products\", \"Conditioner\", \"Powder Brush\", \"Perfume\", \"Lid Shadow Brush\", \"Body Wash & Shower Gel\", \"Scrub & Exfoliants\", \"Bath Soaks & Bubble Bath\"], \"categoryorder\": \"array\", \"domain\": [0.0, 1.0], \"title\": {\"text\": \"category\"}}, \"yaxis\": {\"anchor\": \"x\", \"domain\": [0.0, 1.0], \"title\": {\"text\": \"number_of_reviews\"}}},                        {\"responsive\": true}                    ).then(function(){\n",
       "                            \n",
       "var gd = document.getElementById('92a5c6be-e1ec-4ea1-b4f5-6ec7f07aac31');\n",
       "var x = new MutationObserver(function (mutations, observer) {{\n",
       "        var display = window.getComputedStyle(gd).display;\n",
       "        if (!display || display === 'none') {{\n",
       "            console.log([gd, 'removed!']);\n",
       "            Plotly.purge(gd);\n",
       "            observer.disconnect();\n",
       "        }}\n",
       "}});\n",
       "\n",
       "// Listen for the removal of the full notebook cells\n",
       "var notebookContainer = gd.closest('#notebook-container');\n",
       "if (notebookContainer) {{\n",
       "    x.observe(notebookContainer, {childList: true});\n",
       "}}\n",
       "\n",
       "// Listen for the clearing of the current output cell\n",
       "var outputEl = gd.closest('.output');\n",
       "if (outputEl) {{\n",
       "    x.observe(outputEl, {childList: true});\n",
       "}}\n",
       "\n",
       "                        })                };                });            </script>        </div>"
      ]
     },
     "metadata": {},
     "output_type": "display_data"
    }
   ],
   "source": [
    "# barplot count dari brand SEPHORA\n",
    "brand = top5_brands[0]\n",
    "fig = px.bar(df[df['brand']==brand], x='category' ,y='number_of_reviews', color='category')\n",
    "fig.show()"
   ]
  },
  {
   "cell_type": "markdown",
   "id": "historic-termination",
   "metadata": {},
   "source": [
    "### Analisis\n",
    "Untuk Brand SEPHORA produk yang paling banyaka terjual adalah Eyeliner dan Lipstick"
   ]
  },
  {
   "cell_type": "code",
   "execution_count": null,
   "id": "still-australian",
   "metadata": {},
   "outputs": [],
   "source": []
  },
  {
   "cell_type": "code",
   "execution_count": 36,
   "id": "distributed-length",
   "metadata": {
    "scrolled": true
   },
   "outputs": [
    {
     "data": {
      "application/vnd.plotly.v1+json": {
       "config": {
        "plotlyServerURL": "https://plot.ly"
       },
       "data": [
        {
         "alignmentgroup": "True",
         "hovertemplate": "category=%{x}<br>number_of_reviews=%{y}<extra></extra>",
         "legendgroup": "Moisturizers",
         "marker": {
          "color": "#636efa"
         },
         "name": "Moisturizers",
         "offsetgroup": "Moisturizers",
         "orientation": "v",
         "showlegend": true,
         "textposition": "auto",
         "type": "bar",
         "x": [
          "Moisturizers",
          "Moisturizers",
          "Moisturizers",
          "Moisturizers",
          "Moisturizers",
          "Moisturizers",
          "Moisturizers",
          "Moisturizers",
          "Moisturizers",
          "Moisturizers",
          "Moisturizers",
          "Moisturizers",
          "Moisturizers",
          "Moisturizers",
          "Moisturizers",
          "Moisturizers",
          "Moisturizers",
          "Moisturizers",
          "Moisturizers",
          "Moisturizers",
          "Moisturizers",
          "Moisturizers",
          "Moisturizers",
          "Moisturizers",
          "Moisturizers",
          "Moisturizers",
          "Moisturizers",
          "Moisturizers",
          "Moisturizers",
          "Moisturizers",
          "Moisturizers",
          "Moisturizers",
          "Moisturizers",
          "Moisturizers",
          "Moisturizers"
         ],
         "xaxis": "x",
         "y": [
          1000,
          1000,
          3000,
          185,
          948,
          547,
          328,
          612,
          22,
          31,
          1,
          24,
          7,
          4,
          14,
          16,
          217,
          14,
          4,
          3,
          39,
          159,
          31,
          57,
          3,
          578,
          5,
          8,
          15,
          85,
          13,
          18,
          5,
          402,
          3
         ],
         "yaxis": "y"
        },
        {
         "alignmentgroup": "True",
         "hovertemplate": "category=%{x}<br>number_of_reviews=%{y}<extra></extra>",
         "legendgroup": "Face Wash & Cleansers",
         "marker": {
          "color": "#EF553B"
         },
         "name": "Face Wash & Cleansers",
         "offsetgroup": "Face Wash & Cleansers",
         "orientation": "v",
         "showlegend": true,
         "textposition": "auto",
         "type": "bar",
         "x": [
          "Face Wash & Cleansers",
          "Face Wash & Cleansers",
          "Face Wash & Cleansers",
          "Face Wash & Cleansers",
          "Face Wash & Cleansers",
          "Face Wash & Cleansers",
          "Face Wash & Cleansers",
          "Face Wash & Cleansers",
          "Face Wash & Cleansers",
          "Face Wash & Cleansers",
          "Face Wash & Cleansers",
          "Face Wash & Cleansers"
         ],
         "xaxis": "x",
         "y": [
          2000,
          3000,
          964,
          769,
          363,
          136,
          276,
          375,
          435,
          109,
          28,
          50
         ],
         "yaxis": "y"
        },
        {
         "alignmentgroup": "True",
         "hovertemplate": "category=%{x}<br>number_of_reviews=%{y}<extra></extra>",
         "legendgroup": "Foundation",
         "marker": {
          "color": "#00cc96"
         },
         "name": "Foundation",
         "offsetgroup": "Foundation",
         "orientation": "v",
         "showlegend": true,
         "textposition": "auto",
         "type": "bar",
         "x": [
          "Foundation",
          "Foundation",
          "Foundation",
          "Foundation",
          "Foundation",
          "Foundation",
          "Foundation",
          "Foundation",
          "Foundation",
          "Foundation",
          "Foundation",
          "Foundation"
         ],
         "xaxis": "x",
         "y": [
          2000,
          2000,
          1000,
          1000,
          674,
          1000,
          911,
          20,
          124,
          26,
          277,
          178
         ],
         "yaxis": "y"
        },
        {
         "alignmentgroup": "True",
         "hovertemplate": "category=%{x}<br>number_of_reviews=%{y}<extra></extra>",
         "legendgroup": "Face Serums",
         "marker": {
          "color": "#ab63fa"
         },
         "name": "Face Serums",
         "offsetgroup": "Face Serums",
         "orientation": "v",
         "showlegend": true,
         "textposition": "auto",
         "type": "bar",
         "x": [
          "Face Serums",
          "Face Serums",
          "Face Serums",
          "Face Serums",
          "Face Serums",
          "Face Serums",
          "Face Serums",
          "Face Serums"
         ],
         "xaxis": "x",
         "y": [
          6,
          387,
          133,
          653,
          109,
          134,
          25,
          404
         ],
         "yaxis": "y"
        },
        {
         "alignmentgroup": "True",
         "hovertemplate": "category=%{x}<br>number_of_reviews=%{y}<extra></extra>",
         "legendgroup": "Value & Gift Sets",
         "marker": {
          "color": "#FFA15A"
         },
         "name": "Value & Gift Sets",
         "offsetgroup": "Value & Gift Sets",
         "orientation": "v",
         "showlegend": true,
         "textposition": "auto",
         "type": "bar",
         "x": [
          "Value & Gift Sets",
          "Value & Gift Sets",
          "Value & Gift Sets",
          "Value & Gift Sets",
          "Value & Gift Sets",
          "Value & Gift Sets",
          "Value & Gift Sets",
          "Value & Gift Sets",
          "Value & Gift Sets",
          "Value & Gift Sets",
          "Value & Gift Sets",
          "Value & Gift Sets",
          "Value & Gift Sets",
          "Value & Gift Sets"
         ],
         "xaxis": "x",
         "y": [
          131,
          160,
          17,
          244,
          2,
          1,
          8,
          230,
          71,
          17,
          0,
          0,
          0,
          0
         ],
         "yaxis": "y"
        },
        {
         "alignmentgroup": "True",
         "hovertemplate": "category=%{x}<br>number_of_reviews=%{y}<extra></extra>",
         "legendgroup": "Toners",
         "marker": {
          "color": "#19d3f3"
         },
         "name": "Toners",
         "offsetgroup": "Toners",
         "orientation": "v",
         "showlegend": true,
         "textposition": "auto",
         "type": "bar",
         "x": [
          "Toners",
          "Toners",
          "Toners",
          "Toners",
          "Toners",
          "Toners",
          "Toners",
          "Toners"
         ],
         "xaxis": "x",
         "y": [
          1000,
          868,
          7,
          936,
          6,
          190,
          219,
          42
         ],
         "yaxis": "y"
        },
        {
         "alignmentgroup": "True",
         "hovertemplate": "category=%{x}<br>number_of_reviews=%{y}<extra></extra>",
         "legendgroup": "Mascara",
         "marker": {
          "color": "#FF6692"
         },
         "name": "Mascara",
         "offsetgroup": "Mascara",
         "orientation": "v",
         "showlegend": true,
         "textposition": "auto",
         "type": "bar",
         "x": [
          "Mascara",
          "Mascara",
          "Mascara",
          "Mascara",
          "Mascara",
          "Mascara",
          "Mascara",
          "Mascara",
          "Mascara",
          "Mascara"
         ],
         "xaxis": "x",
         "y": [
          2000,
          2000,
          331,
          748,
          718,
          474,
          688,
          1000,
          271,
          154
         ],
         "yaxis": "y"
        },
        {
         "alignmentgroup": "True",
         "hovertemplate": "category=%{x}<br>number_of_reviews=%{y}<extra></extra>",
         "legendgroup": "Eye Creams & Treatments",
         "marker": {
          "color": "#B6E880"
         },
         "name": "Eye Creams & Treatments",
         "offsetgroup": "Eye Creams & Treatments",
         "orientation": "v",
         "showlegend": true,
         "textposition": "auto",
         "type": "bar",
         "x": [
          "Eye Creams & Treatments",
          "Eye Creams & Treatments",
          "Eye Creams & Treatments",
          "Eye Creams & Treatments",
          "Eye Creams & Treatments",
          "Eye Creams & Treatments",
          "Eye Creams & Treatments",
          "Eye Creams & Treatments",
          "Eye Creams & Treatments"
         ],
         "xaxis": "x",
         "y": [
          1000,
          1000,
          140,
          951,
          270,
          70,
          874,
          36,
          374
         ],
         "yaxis": "y"
        },
        {
         "alignmentgroup": "True",
         "hovertemplate": "category=%{x}<br>number_of_reviews=%{y}<extra></extra>",
         "legendgroup": "Blemish & Acne Treatments",
         "marker": {
          "color": "#FF97FF"
         },
         "name": "Blemish & Acne Treatments",
         "offsetgroup": "Blemish & Acne Treatments",
         "orientation": "v",
         "showlegend": true,
         "textposition": "auto",
         "type": "bar",
         "x": [
          "Blemish & Acne Treatments",
          "Blemish & Acne Treatments"
         ],
         "xaxis": "x",
         "y": [
          814,
          73
         ],
         "yaxis": "y"
        },
        {
         "alignmentgroup": "True",
         "hovertemplate": "category=%{x}<br>number_of_reviews=%{y}<extra></extra>",
         "legendgroup": "Makeup Removers",
         "marker": {
          "color": "#FECB52"
         },
         "name": "Makeup Removers",
         "offsetgroup": "Makeup Removers",
         "orientation": "v",
         "showlegend": true,
         "textposition": "auto",
         "type": "bar",
         "x": [
          "Makeup Removers",
          "Makeup Removers",
          "Makeup Removers",
          "Makeup Removers",
          "Makeup Removers"
         ],
         "xaxis": "x",
         "y": [
          3000,
          1,
          285,
          522,
          248
         ],
         "yaxis": "y"
        },
        {
         "alignmentgroup": "True",
         "hovertemplate": "category=%{x}<br>number_of_reviews=%{y}<extra></extra>",
         "legendgroup": "Exfoliators",
         "marker": {
          "color": "#636efa"
         },
         "name": "Exfoliators",
         "offsetgroup": "Exfoliators",
         "orientation": "v",
         "showlegend": true,
         "textposition": "auto",
         "type": "bar",
         "x": [
          "Exfoliators",
          "Exfoliators",
          "Exfoliators",
          "Exfoliators"
         ],
         "xaxis": "x",
         "y": [
          1000,
          504,
          776,
          35
         ],
         "yaxis": "y"
        },
        {
         "alignmentgroup": "True",
         "hovertemplate": "category=%{x}<br>number_of_reviews=%{y}<extra></extra>",
         "legendgroup": "Eyeliner",
         "marker": {
          "color": "#EF553B"
         },
         "name": "Eyeliner",
         "offsetgroup": "Eyeliner",
         "orientation": "v",
         "showlegend": true,
         "textposition": "auto",
         "type": "bar",
         "x": [
          "Eyeliner",
          "Eyeliner",
          "Eyeliner",
          "Eyeliner"
         ],
         "xaxis": "x",
         "y": [
          562,
          1000,
          913,
          22
         ],
         "yaxis": "y"
        },
        {
         "alignmentgroup": "True",
         "hovertemplate": "category=%{x}<br>number_of_reviews=%{y}<extra></extra>",
         "legendgroup": "Setting Spray & Powder",
         "marker": {
          "color": "#00cc96"
         },
         "name": "Setting Spray & Powder",
         "offsetgroup": "Setting Spray & Powder",
         "orientation": "v",
         "showlegend": true,
         "textposition": "auto",
         "type": "bar",
         "x": [
          "Setting Spray & Powder",
          "Setting Spray & Powder",
          "Setting Spray & Powder",
          "Setting Spray & Powder"
         ],
         "xaxis": "x",
         "y": [
          603,
          214,
          32,
          35
         ],
         "yaxis": "y"
        },
        {
         "alignmentgroup": "True",
         "hovertemplate": "category=%{x}<br>number_of_reviews=%{y}<extra></extra>",
         "legendgroup": "Face Masks",
         "marker": {
          "color": "#ab63fa"
         },
         "name": "Face Masks",
         "offsetgroup": "Face Masks",
         "orientation": "v",
         "showlegend": true,
         "textposition": "auto",
         "type": "bar",
         "x": [
          "Face Masks",
          "Face Masks",
          "Face Masks",
          "Face Masks"
         ],
         "xaxis": "x",
         "y": [
          397,
          90,
          275,
          118
         ],
         "yaxis": "y"
        },
        {
         "alignmentgroup": "True",
         "hovertemplate": "category=%{x}<br>number_of_reviews=%{y}<extra></extra>",
         "legendgroup": "BB & CC Cream",
         "marker": {
          "color": "#FFA15A"
         },
         "name": "BB & CC Cream",
         "offsetgroup": "BB & CC Cream",
         "orientation": "v",
         "showlegend": true,
         "textposition": "auto",
         "type": "bar",
         "x": [
          "BB & CC Cream",
          "BB & CC Cream",
          "BB & CC Cream",
          "BB & CC Cream"
         ],
         "xaxis": "x",
         "y": [
          758,
          663,
          39,
          756
         ],
         "yaxis": "y"
        },
        {
         "alignmentgroup": "True",
         "hovertemplate": "category=%{x}<br>number_of_reviews=%{y}<extra></extra>",
         "legendgroup": "Lip Balm & Treatment",
         "marker": {
          "color": "#19d3f3"
         },
         "name": "Lip Balm & Treatment",
         "offsetgroup": "Lip Balm & Treatment",
         "orientation": "v",
         "showlegend": true,
         "textposition": "auto",
         "type": "bar",
         "x": [
          "Lip Balm & Treatment",
          "Lip Balm & Treatment",
          "Lip Balm & Treatment",
          "Lip Balm & Treatment"
         ],
         "xaxis": "x",
         "y": [
          2000,
          0,
          576,
          227
         ],
         "yaxis": "y"
        },
        {
         "alignmentgroup": "True",
         "hovertemplate": "category=%{x}<br>number_of_reviews=%{y}<extra></extra>",
         "legendgroup": "Blush",
         "marker": {
          "color": "#FF6692"
         },
         "name": "Blush",
         "offsetgroup": "Blush",
         "orientation": "v",
         "showlegend": true,
         "textposition": "auto",
         "type": "bar",
         "x": [
          "Blush",
          "Blush",
          "Blush"
         ],
         "xaxis": "x",
         "y": [
          952,
          150,
          94
         ],
         "yaxis": "y"
        },
        {
         "alignmentgroup": "True",
         "hovertemplate": "category=%{x}<br>number_of_reviews=%{y}<extra></extra>",
         "legendgroup": "Lipstick",
         "marker": {
          "color": "#B6E880"
         },
         "name": "Lipstick",
         "offsetgroup": "Lipstick",
         "orientation": "v",
         "showlegend": true,
         "textposition": "auto",
         "type": "bar",
         "x": [
          "Lipstick",
          "Lipstick",
          "Lipstick",
          "Lipstick",
          "Lipstick"
         ],
         "xaxis": "x",
         "y": [
          3000,
          27,
          263,
          88,
          60
         ],
         "yaxis": "y"
        },
        {
         "alignmentgroup": "True",
         "hovertemplate": "category=%{x}<br>number_of_reviews=%{y}<extra></extra>",
         "legendgroup": "Concealer",
         "marker": {
          "color": "#FF97FF"
         },
         "name": "Concealer",
         "offsetgroup": "Concealer",
         "orientation": "v",
         "showlegend": true,
         "textposition": "auto",
         "type": "bar",
         "x": [
          "Concealer",
          "Concealer",
          "Concealer",
          "Concealer"
         ],
         "xaxis": "x",
         "y": [
          701,
          213,
          453,
          274
         ],
         "yaxis": "y"
        },
        {
         "alignmentgroup": "True",
         "hovertemplate": "category=%{x}<br>number_of_reviews=%{y}<extra></extra>",
         "legendgroup": "Perfume",
         "marker": {
          "color": "#FECB52"
         },
         "name": "Perfume",
         "offsetgroup": "Perfume",
         "orientation": "v",
         "showlegend": true,
         "textposition": "auto",
         "type": "bar",
         "x": [
          "Perfume",
          "Perfume",
          "Perfume",
          "Perfume"
         ],
         "xaxis": "x",
         "y": [
          630,
          4,
          62,
          187
         ],
         "yaxis": "y"
        },
        {
         "alignmentgroup": "True",
         "hovertemplate": "category=%{x}<br>number_of_reviews=%{y}<extra></extra>",
         "legendgroup": "Skincare",
         "marker": {
          "color": "#636efa"
         },
         "name": "Skincare",
         "offsetgroup": "Skincare",
         "orientation": "v",
         "showlegend": true,
         "textposition": "auto",
         "type": "bar",
         "x": [
          "Skincare",
          "Skincare",
          "Skincare",
          "Skincare",
          "Skincare",
          "Skincare"
         ],
         "xaxis": "x",
         "y": [
          3000,
          1000,
          59,
          88,
          66,
          35
         ],
         "yaxis": "y"
        },
        {
         "alignmentgroup": "True",
         "hovertemplate": "category=%{x}<br>number_of_reviews=%{y}<extra></extra>",
         "legendgroup": "Moisturizer & Treatments",
         "marker": {
          "color": "#EF553B"
         },
         "name": "Moisturizer & Treatments",
         "offsetgroup": "Moisturizer & Treatments",
         "orientation": "v",
         "showlegend": true,
         "textposition": "auto",
         "type": "bar",
         "x": [
          "Moisturizer & Treatments",
          "Moisturizer & Treatments",
          "Moisturizer & Treatments",
          "Moisturizer & Treatments",
          "Moisturizer & Treatments",
          "Moisturizer & Treatments"
         ],
         "xaxis": "x",
         "y": [
          6,
          2,
          45,
          39,
          66,
          47
         ],
         "yaxis": "y"
        },
        {
         "alignmentgroup": "True",
         "hovertemplate": "category=%{x}<br>number_of_reviews=%{y}<extra></extra>",
         "legendgroup": "Face Sets",
         "marker": {
          "color": "#00cc96"
         },
         "name": "Face Sets",
         "offsetgroup": "Face Sets",
         "orientation": "v",
         "showlegend": true,
         "textposition": "auto",
         "type": "bar",
         "x": [
          "Face Sets"
         ],
         "xaxis": "x",
         "y": [
          6
         ],
         "yaxis": "y"
        },
        {
         "alignmentgroup": "True",
         "hovertemplate": "category=%{x}<br>number_of_reviews=%{y}<extra></extra>",
         "legendgroup": "Contour",
         "marker": {
          "color": "#ab63fa"
         },
         "name": "Contour",
         "offsetgroup": "Contour",
         "orientation": "v",
         "showlegend": true,
         "textposition": "auto",
         "type": "bar",
         "x": [
          "Contour"
         ],
         "xaxis": "x",
         "y": [
          206
         ],
         "yaxis": "y"
        },
        {
         "alignmentgroup": "True",
         "hovertemplate": "category=%{x}<br>number_of_reviews=%{y}<extra></extra>",
         "legendgroup": "Face Oils",
         "marker": {
          "color": "#FFA15A"
         },
         "name": "Face Oils",
         "offsetgroup": "Face Oils",
         "orientation": "v",
         "showlegend": true,
         "textposition": "auto",
         "type": "bar",
         "x": [
          "Face Oils"
         ],
         "xaxis": "x",
         "y": [
          477
         ],
         "yaxis": "y"
        },
        {
         "alignmentgroup": "True",
         "hovertemplate": "category=%{x}<br>number_of_reviews=%{y}<extra></extra>",
         "legendgroup": "Lip Balms & Treatments",
         "marker": {
          "color": "#19d3f3"
         },
         "name": "Lip Balms & Treatments",
         "offsetgroup": "Lip Balms & Treatments",
         "orientation": "v",
         "showlegend": true,
         "textposition": "auto",
         "type": "bar",
         "x": [
          "Lip Balms & Treatments",
          "Lip Balms & Treatments",
          "Lip Balms & Treatments"
         ],
         "xaxis": "x",
         "y": [
          36,
          248,
          167
         ],
         "yaxis": "y"
        },
        {
         "alignmentgroup": "True",
         "hovertemplate": "category=%{x}<br>number_of_reviews=%{y}<extra></extra>",
         "legendgroup": "Eyebrow",
         "marker": {
          "color": "#FF6692"
         },
         "name": "Eyebrow",
         "offsetgroup": "Eyebrow",
         "orientation": "v",
         "showlegend": true,
         "textposition": "auto",
         "type": "bar",
         "x": [
          "Eyebrow"
         ],
         "xaxis": "x",
         "y": [
          564
         ],
         "yaxis": "y"
        },
        {
         "alignmentgroup": "True",
         "hovertemplate": "category=%{x}<br>number_of_reviews=%{y}<extra></extra>",
         "legendgroup": "Face Sunscreen",
         "marker": {
          "color": "#B6E880"
         },
         "name": "Face Sunscreen",
         "offsetgroup": "Face Sunscreen",
         "orientation": "v",
         "showlegend": true,
         "textposition": "auto",
         "type": "bar",
         "x": [
          "Face Sunscreen",
          "Face Sunscreen",
          "Face Sunscreen",
          "Face Sunscreen",
          "Face Sunscreen",
          "Face Sunscreen"
         ],
         "xaxis": "x",
         "y": [
          204,
          0,
          470,
          45,
          19,
          286
         ],
         "yaxis": "y"
        },
        {
         "alignmentgroup": "True",
         "hovertemplate": "category=%{x}<br>number_of_reviews=%{y}<extra></extra>",
         "legendgroup": "Mini Size",
         "marker": {
          "color": "#FF97FF"
         },
         "name": "Mini Size",
         "offsetgroup": "Mini Size",
         "orientation": "v",
         "showlegend": true,
         "textposition": "auto",
         "type": "bar",
         "x": [
          "Mini Size",
          "Mini Size",
          "Mini Size",
          "Mini Size"
         ],
         "xaxis": "x",
         "y": [
          3000,
          1000,
          1,
          7
         ],
         "yaxis": "y"
        },
        {
         "alignmentgroup": "True",
         "hovertemplate": "category=%{x}<br>number_of_reviews=%{y}<extra></extra>",
         "legendgroup": "Eye Cream",
         "marker": {
          "color": "#FECB52"
         },
         "name": "Eye Cream",
         "offsetgroup": "Eye Cream",
         "orientation": "v",
         "showlegend": true,
         "textposition": "auto",
         "type": "bar",
         "x": [
          "Eye Cream",
          "Eye Cream",
          "Eye Cream"
         ],
         "xaxis": "x",
         "y": [
          31,
          2,
          5
         ],
         "yaxis": "y"
        },
        {
         "alignmentgroup": "True",
         "hovertemplate": "category=%{x}<br>number_of_reviews=%{y}<extra></extra>",
         "legendgroup": "Face Wash",
         "marker": {
          "color": "#636efa"
         },
         "name": "Face Wash",
         "offsetgroup": "Face Wash",
         "orientation": "v",
         "showlegend": true,
         "textposition": "auto",
         "type": "bar",
         "x": [
          "Face Wash",
          "Face Wash",
          "Face Wash",
          "Face Wash",
          "Face Wash"
         ],
         "xaxis": "x",
         "y": [
          23,
          160,
          15,
          7,
          28
         ],
         "yaxis": "y"
        },
        {
         "alignmentgroup": "True",
         "hovertemplate": "category=%{x}<br>number_of_reviews=%{y}<extra></extra>",
         "legendgroup": "Eye Palettes",
         "marker": {
          "color": "#EF553B"
         },
         "name": "Eye Palettes",
         "offsetgroup": "Eye Palettes",
         "orientation": "v",
         "showlegend": true,
         "textposition": "auto",
         "type": "bar",
         "x": [
          "Eye Palettes",
          "Eye Palettes",
          "Eye Palettes"
         ],
         "xaxis": "x",
         "y": [
          337,
          19,
          0
         ],
         "yaxis": "y"
        },
        {
         "alignmentgroup": "True",
         "hovertemplate": "category=%{x}<br>number_of_reviews=%{y}<extra></extra>",
         "legendgroup": "Mists & Essences",
         "marker": {
          "color": "#00cc96"
         },
         "name": "Mists & Essences",
         "offsetgroup": "Mists & Essences",
         "orientation": "v",
         "showlegend": true,
         "textposition": "auto",
         "type": "bar",
         "x": [
          "Mists & Essences"
         ],
         "xaxis": "x",
         "y": [
          262
         ],
         "yaxis": "y"
        },
        {
         "alignmentgroup": "True",
         "hovertemplate": "category=%{x}<br>number_of_reviews=%{y}<extra></extra>",
         "legendgroup": "Body Lotions & Body Oils",
         "marker": {
          "color": "#ab63fa"
         },
         "name": "Body Lotions & Body Oils",
         "offsetgroup": "Body Lotions & Body Oils",
         "orientation": "v",
         "showlegend": true,
         "textposition": "auto",
         "type": "bar",
         "x": [
          "Body Lotions & Body Oils"
         ],
         "xaxis": "x",
         "y": [
          228
         ],
         "yaxis": "y"
        },
        {
         "alignmentgroup": "True",
         "hovertemplate": "category=%{x}<br>number_of_reviews=%{y}<extra></extra>",
         "legendgroup": "For Face",
         "marker": {
          "color": "#FFA15A"
         },
         "name": "For Face",
         "offsetgroup": "For Face",
         "orientation": "v",
         "showlegend": true,
         "textposition": "auto",
         "type": "bar",
         "x": [
          "For Face"
         ],
         "xaxis": "x",
         "y": [
          44
         ],
         "yaxis": "y"
        },
        {
         "alignmentgroup": "True",
         "hovertemplate": "category=%{x}<br>number_of_reviews=%{y}<extra></extra>",
         "legendgroup": "Makeup",
         "marker": {
          "color": "#19d3f3"
         },
         "name": "Makeup",
         "offsetgroup": "Makeup",
         "orientation": "v",
         "showlegend": true,
         "textposition": "auto",
         "type": "bar",
         "x": [
          "Makeup"
         ],
         "xaxis": "x",
         "y": [
          14
         ],
         "yaxis": "y"
        },
        {
         "alignmentgroup": "True",
         "hovertemplate": "category=%{x}<br>number_of_reviews=%{y}<extra></extra>",
         "legendgroup": "Bronzer",
         "marker": {
          "color": "#FF6692"
         },
         "name": "Bronzer",
         "offsetgroup": "Bronzer",
         "orientation": "v",
         "showlegend": true,
         "textposition": "auto",
         "type": "bar",
         "x": [
          "Bronzer",
          "Bronzer"
         ],
         "xaxis": "x",
         "y": [
          241,
          0
         ],
         "yaxis": "y"
        },
        {
         "alignmentgroup": "True",
         "hovertemplate": "category=%{x}<br>number_of_reviews=%{y}<extra></extra>",
         "legendgroup": "Lip Gloss",
         "marker": {
          "color": "#B6E880"
         },
         "name": "Lip Gloss",
         "offsetgroup": "Lip Gloss",
         "orientation": "v",
         "showlegend": true,
         "textposition": "auto",
         "type": "bar",
         "x": [
          "Lip Gloss",
          "Lip Gloss"
         ],
         "xaxis": "x",
         "y": [
          109,
          1000
         ],
         "yaxis": "y"
        },
        {
         "alignmentgroup": "True",
         "hovertemplate": "category=%{x}<br>number_of_reviews=%{y}<extra></extra>",
         "legendgroup": "Lip Liner",
         "marker": {
          "color": "#FF97FF"
         },
         "name": "Lip Liner",
         "offsetgroup": "Lip Liner",
         "orientation": "v",
         "showlegend": true,
         "textposition": "auto",
         "type": "bar",
         "x": [
          "Lip Liner",
          "Lip Liner"
         ],
         "xaxis": "x",
         "y": [
          260,
          19
         ],
         "yaxis": "y"
        },
        {
         "alignmentgroup": "True",
         "hovertemplate": "category=%{x}<br>number_of_reviews=%{y}<extra></extra>",
         "legendgroup": "Highlighter",
         "marker": {
          "color": "#FECB52"
         },
         "name": "Highlighter",
         "offsetgroup": "Highlighter",
         "orientation": "v",
         "showlegend": true,
         "textposition": "auto",
         "type": "bar",
         "x": [
          "Highlighter",
          "Highlighter"
         ],
         "xaxis": "x",
         "y": [
          227,
          0
         ],
         "yaxis": "y"
        },
        {
         "alignmentgroup": "True",
         "hovertemplate": "category=%{x}<br>number_of_reviews=%{y}<extra></extra>",
         "legendgroup": "Eyeshadow",
         "marker": {
          "color": "#636efa"
         },
         "name": "Eyeshadow",
         "offsetgroup": "Eyeshadow",
         "orientation": "v",
         "showlegend": true,
         "textposition": "auto",
         "type": "bar",
         "x": [
          "Eyeshadow",
          "Eyeshadow"
         ],
         "xaxis": "x",
         "y": [
          133,
          47
         ],
         "yaxis": "y"
        },
        {
         "alignmentgroup": "True",
         "hovertemplate": "category=%{x}<br>number_of_reviews=%{y}<extra></extra>",
         "legendgroup": "Aftershave",
         "marker": {
          "color": "#EF553B"
         },
         "name": "Aftershave",
         "offsetgroup": "Aftershave",
         "orientation": "v",
         "showlegend": true,
         "textposition": "auto",
         "type": "bar",
         "x": [
          "Aftershave"
         ],
         "xaxis": "x",
         "y": [
          41
         ],
         "yaxis": "y"
        },
        {
         "alignmentgroup": "True",
         "hovertemplate": "category=%{x}<br>number_of_reviews=%{y}<extra></extra>",
         "legendgroup": "Scrub & Exfoliants",
         "marker": {
          "color": "#00cc96"
         },
         "name": "Scrub & Exfoliants",
         "offsetgroup": "Scrub & Exfoliants",
         "orientation": "v",
         "showlegend": true,
         "textposition": "auto",
         "type": "bar",
         "x": [
          "Scrub & Exfoliants"
         ],
         "xaxis": "x",
         "y": [
          142
         ],
         "yaxis": "y"
        },
        {
         "alignmentgroup": "True",
         "hovertemplate": "category=%{x}<br>number_of_reviews=%{y}<extra></extra>",
         "legendgroup": "Facial Cleansing Brushes",
         "marker": {
          "color": "#ab63fa"
         },
         "name": "Facial Cleansing Brushes",
         "offsetgroup": "Facial Cleansing Brushes",
         "orientation": "v",
         "showlegend": true,
         "textposition": "auto",
         "type": "bar",
         "x": [
          "Facial Cleansing Brushes",
          "Facial Cleansing Brushes"
         ],
         "xaxis": "x",
         "y": [
          17,
          12
         ],
         "yaxis": "y"
        },
        {
         "alignmentgroup": "True",
         "hovertemplate": "category=%{x}<br>number_of_reviews=%{y}<extra></extra>",
         "legendgroup": "Face Primer",
         "marker": {
          "color": "#FFA15A"
         },
         "name": "Face Primer",
         "offsetgroup": "Face Primer",
         "orientation": "v",
         "showlegend": true,
         "textposition": "auto",
         "type": "bar",
         "x": [
          "Face Primer",
          "Face Primer",
          "Face Primer"
         ],
         "xaxis": "x",
         "y": [
          171,
          300,
          107
         ],
         "yaxis": "y"
        },
        {
         "alignmentgroup": "True",
         "hovertemplate": "category=%{x}<br>number_of_reviews=%{y}<extra></extra>",
         "legendgroup": "Cologne",
         "marker": {
          "color": "#19d3f3"
         },
         "name": "Cologne",
         "offsetgroup": "Cologne",
         "orientation": "v",
         "showlegend": true,
         "textposition": "auto",
         "type": "bar",
         "x": [
          "Cologne"
         ],
         "xaxis": "x",
         "y": [
          78
         ],
         "yaxis": "y"
        },
        {
         "alignmentgroup": "True",
         "hovertemplate": "category=%{x}<br>number_of_reviews=%{y}<extra></extra>",
         "legendgroup": "Perfume Gift Sets",
         "marker": {
          "color": "#FF6692"
         },
         "name": "Perfume Gift Sets",
         "offsetgroup": "Perfume Gift Sets",
         "orientation": "v",
         "showlegend": true,
         "textposition": "auto",
         "type": "bar",
         "x": [
          "Perfume Gift Sets"
         ],
         "xaxis": "x",
         "y": [
          0
         ],
         "yaxis": "y"
        },
        {
         "alignmentgroup": "True",
         "hovertemplate": "category=%{x}<br>number_of_reviews=%{y}<extra></extra>",
         "legendgroup": "Decollete & Neck Creams",
         "marker": {
          "color": "#B6E880"
         },
         "name": "Decollete & Neck Creams",
         "offsetgroup": "Decollete & Neck Creams",
         "orientation": "v",
         "showlegend": true,
         "textposition": "auto",
         "type": "bar",
         "x": [
          "Decollete & Neck Creams"
         ],
         "xaxis": "x",
         "y": [
          9
         ],
         "yaxis": "y"
        },
        {
         "alignmentgroup": "True",
         "hovertemplate": "category=%{x}<br>number_of_reviews=%{y}<extra></extra>",
         "legendgroup": "Tinted Moisturizer",
         "marker": {
          "color": "#FF97FF"
         },
         "name": "Tinted Moisturizer",
         "offsetgroup": "Tinted Moisturizer",
         "orientation": "v",
         "showlegend": true,
         "textposition": "auto",
         "type": "bar",
         "x": [
          "Tinted Moisturizer"
         ],
         "xaxis": "x",
         "y": [
          0
         ],
         "yaxis": "y"
        },
        {
         "alignmentgroup": "True",
         "hovertemplate": "category=%{x}<br>number_of_reviews=%{y}<extra></extra>",
         "legendgroup": "Rollerballs & Travel Size",
         "marker": {
          "color": "#FECB52"
         },
         "name": "Rollerballs & Travel Size",
         "offsetgroup": "Rollerballs & Travel Size",
         "orientation": "v",
         "showlegend": true,
         "textposition": "auto",
         "type": "bar",
         "x": [
          "Rollerballs & Travel Size"
         ],
         "xaxis": "x",
         "y": [
          37
         ],
         "yaxis": "y"
        },
        {
         "alignmentgroup": "True",
         "hovertemplate": "category=%{x}<br>number_of_reviews=%{y}<extra></extra>",
         "legendgroup": "Skincare Sets",
         "marker": {
          "color": "#636efa"
         },
         "name": "Skincare Sets",
         "offsetgroup": "Skincare Sets",
         "orientation": "v",
         "showlegend": true,
         "textposition": "auto",
         "type": "bar",
         "x": [
          "Skincare Sets",
          "Skincare Sets",
          "Skincare Sets",
          "Skincare Sets",
          "Skincare Sets",
          "Skincare Sets",
          "Skincare Sets"
         ],
         "xaxis": "x",
         "y": [
          2,
          3,
          2,
          0,
          0,
          0,
          0
         ],
         "yaxis": "y"
        },
        {
         "alignmentgroup": "True",
         "hovertemplate": "category=%{x}<br>number_of_reviews=%{y}<extra></extra>",
         "legendgroup": "Night Creams",
         "marker": {
          "color": "#EF553B"
         },
         "name": "Night Creams",
         "offsetgroup": "Night Creams",
         "orientation": "v",
         "showlegend": true,
         "textposition": "auto",
         "type": "bar",
         "x": [
          "Night Creams"
         ],
         "xaxis": "x",
         "y": [
          33
         ],
         "yaxis": "y"
        },
        {
         "alignmentgroup": "True",
         "hovertemplate": "category=%{x}<br>number_of_reviews=%{y}<extra></extra>",
         "legendgroup": "Self Tanners",
         "marker": {
          "color": "#00cc96"
         },
         "name": "Self Tanners",
         "offsetgroup": "Self Tanners",
         "orientation": "v",
         "showlegend": true,
         "textposition": "auto",
         "type": "bar",
         "x": [
          "Self Tanners"
         ],
         "xaxis": "x",
         "y": [
          52
         ],
         "yaxis": "y"
        },
        {
         "alignmentgroup": "True",
         "hovertemplate": "category=%{x}<br>number_of_reviews=%{y}<extra></extra>",
         "legendgroup": "Deodorant & Antiperspirant",
         "marker": {
          "color": "#ab63fa"
         },
         "name": "Deodorant & Antiperspirant",
         "offsetgroup": "Deodorant & Antiperspirant",
         "orientation": "v",
         "showlegend": true,
         "textposition": "auto",
         "type": "bar",
         "x": [
          "Deodorant & Antiperspirant"
         ],
         "xaxis": "x",
         "y": [
          35
         ],
         "yaxis": "y"
        },
        {
         "alignmentgroup": "True",
         "hovertemplate": "category=%{x}<br>number_of_reviews=%{y}<extra></extra>",
         "legendgroup": "Shaving",
         "marker": {
          "color": "#FFA15A"
         },
         "name": "Shaving",
         "offsetgroup": "Shaving",
         "orientation": "v",
         "showlegend": true,
         "textposition": "auto",
         "type": "bar",
         "x": [
          "Shaving",
          "Shaving"
         ],
         "xaxis": "x",
         "y": [
          35,
          37
         ],
         "yaxis": "y"
        },
        {
         "alignmentgroup": "True",
         "hovertemplate": "category=%{x}<br>number_of_reviews=%{y}<extra></extra>",
         "legendgroup": "Color Correct",
         "marker": {
          "color": "#19d3f3"
         },
         "name": "Color Correct",
         "offsetgroup": "Color Correct",
         "orientation": "v",
         "showlegend": true,
         "textposition": "auto",
         "type": "bar",
         "x": [
          "Color Correct"
         ],
         "xaxis": "x",
         "y": [
          14
         ],
         "yaxis": "y"
        }
       ],
       "layout": {
        "barmode": "relative",
        "legend": {
         "title": {
          "text": "category"
         },
         "tracegroupgap": 0
        },
        "margin": {
         "t": 60
        },
        "template": {
         "data": {
          "bar": [
           {
            "error_x": {
             "color": "#2a3f5f"
            },
            "error_y": {
             "color": "#2a3f5f"
            },
            "marker": {
             "line": {
              "color": "#E5ECF6",
              "width": 0.5
             }
            },
            "type": "bar"
           }
          ],
          "barpolar": [
           {
            "marker": {
             "line": {
              "color": "#E5ECF6",
              "width": 0.5
             }
            },
            "type": "barpolar"
           }
          ],
          "carpet": [
           {
            "aaxis": {
             "endlinecolor": "#2a3f5f",
             "gridcolor": "white",
             "linecolor": "white",
             "minorgridcolor": "white",
             "startlinecolor": "#2a3f5f"
            },
            "baxis": {
             "endlinecolor": "#2a3f5f",
             "gridcolor": "white",
             "linecolor": "white",
             "minorgridcolor": "white",
             "startlinecolor": "#2a3f5f"
            },
            "type": "carpet"
           }
          ],
          "choropleth": [
           {
            "colorbar": {
             "outlinewidth": 0,
             "ticks": ""
            },
            "type": "choropleth"
           }
          ],
          "contour": [
           {
            "colorbar": {
             "outlinewidth": 0,
             "ticks": ""
            },
            "colorscale": [
             [
              0,
              "#0d0887"
             ],
             [
              0.1111111111111111,
              "#46039f"
             ],
             [
              0.2222222222222222,
              "#7201a8"
             ],
             [
              0.3333333333333333,
              "#9c179e"
             ],
             [
              0.4444444444444444,
              "#bd3786"
             ],
             [
              0.5555555555555556,
              "#d8576b"
             ],
             [
              0.6666666666666666,
              "#ed7953"
             ],
             [
              0.7777777777777778,
              "#fb9f3a"
             ],
             [
              0.8888888888888888,
              "#fdca26"
             ],
             [
              1,
              "#f0f921"
             ]
            ],
            "type": "contour"
           }
          ],
          "contourcarpet": [
           {
            "colorbar": {
             "outlinewidth": 0,
             "ticks": ""
            },
            "type": "contourcarpet"
           }
          ],
          "heatmap": [
           {
            "colorbar": {
             "outlinewidth": 0,
             "ticks": ""
            },
            "colorscale": [
             [
              0,
              "#0d0887"
             ],
             [
              0.1111111111111111,
              "#46039f"
             ],
             [
              0.2222222222222222,
              "#7201a8"
             ],
             [
              0.3333333333333333,
              "#9c179e"
             ],
             [
              0.4444444444444444,
              "#bd3786"
             ],
             [
              0.5555555555555556,
              "#d8576b"
             ],
             [
              0.6666666666666666,
              "#ed7953"
             ],
             [
              0.7777777777777778,
              "#fb9f3a"
             ],
             [
              0.8888888888888888,
              "#fdca26"
             ],
             [
              1,
              "#f0f921"
             ]
            ],
            "type": "heatmap"
           }
          ],
          "heatmapgl": [
           {
            "colorbar": {
             "outlinewidth": 0,
             "ticks": ""
            },
            "colorscale": [
             [
              0,
              "#0d0887"
             ],
             [
              0.1111111111111111,
              "#46039f"
             ],
             [
              0.2222222222222222,
              "#7201a8"
             ],
             [
              0.3333333333333333,
              "#9c179e"
             ],
             [
              0.4444444444444444,
              "#bd3786"
             ],
             [
              0.5555555555555556,
              "#d8576b"
             ],
             [
              0.6666666666666666,
              "#ed7953"
             ],
             [
              0.7777777777777778,
              "#fb9f3a"
             ],
             [
              0.8888888888888888,
              "#fdca26"
             ],
             [
              1,
              "#f0f921"
             ]
            ],
            "type": "heatmapgl"
           }
          ],
          "histogram": [
           {
            "marker": {
             "colorbar": {
              "outlinewidth": 0,
              "ticks": ""
             }
            },
            "type": "histogram"
           }
          ],
          "histogram2d": [
           {
            "colorbar": {
             "outlinewidth": 0,
             "ticks": ""
            },
            "colorscale": [
             [
              0,
              "#0d0887"
             ],
             [
              0.1111111111111111,
              "#46039f"
             ],
             [
              0.2222222222222222,
              "#7201a8"
             ],
             [
              0.3333333333333333,
              "#9c179e"
             ],
             [
              0.4444444444444444,
              "#bd3786"
             ],
             [
              0.5555555555555556,
              "#d8576b"
             ],
             [
              0.6666666666666666,
              "#ed7953"
             ],
             [
              0.7777777777777778,
              "#fb9f3a"
             ],
             [
              0.8888888888888888,
              "#fdca26"
             ],
             [
              1,
              "#f0f921"
             ]
            ],
            "type": "histogram2d"
           }
          ],
          "histogram2dcontour": [
           {
            "colorbar": {
             "outlinewidth": 0,
             "ticks": ""
            },
            "colorscale": [
             [
              0,
              "#0d0887"
             ],
             [
              0.1111111111111111,
              "#46039f"
             ],
             [
              0.2222222222222222,
              "#7201a8"
             ],
             [
              0.3333333333333333,
              "#9c179e"
             ],
             [
              0.4444444444444444,
              "#bd3786"
             ],
             [
              0.5555555555555556,
              "#d8576b"
             ],
             [
              0.6666666666666666,
              "#ed7953"
             ],
             [
              0.7777777777777778,
              "#fb9f3a"
             ],
             [
              0.8888888888888888,
              "#fdca26"
             ],
             [
              1,
              "#f0f921"
             ]
            ],
            "type": "histogram2dcontour"
           }
          ],
          "mesh3d": [
           {
            "colorbar": {
             "outlinewidth": 0,
             "ticks": ""
            },
            "type": "mesh3d"
           }
          ],
          "parcoords": [
           {
            "line": {
             "colorbar": {
              "outlinewidth": 0,
              "ticks": ""
             }
            },
            "type": "parcoords"
           }
          ],
          "pie": [
           {
            "automargin": true,
            "type": "pie"
           }
          ],
          "scatter": [
           {
            "marker": {
             "colorbar": {
              "outlinewidth": 0,
              "ticks": ""
             }
            },
            "type": "scatter"
           }
          ],
          "scatter3d": [
           {
            "line": {
             "colorbar": {
              "outlinewidth": 0,
              "ticks": ""
             }
            },
            "marker": {
             "colorbar": {
              "outlinewidth": 0,
              "ticks": ""
             }
            },
            "type": "scatter3d"
           }
          ],
          "scattercarpet": [
           {
            "marker": {
             "colorbar": {
              "outlinewidth": 0,
              "ticks": ""
             }
            },
            "type": "scattercarpet"
           }
          ],
          "scattergeo": [
           {
            "marker": {
             "colorbar": {
              "outlinewidth": 0,
              "ticks": ""
             }
            },
            "type": "scattergeo"
           }
          ],
          "scattergl": [
           {
            "marker": {
             "colorbar": {
              "outlinewidth": 0,
              "ticks": ""
             }
            },
            "type": "scattergl"
           }
          ],
          "scattermapbox": [
           {
            "marker": {
             "colorbar": {
              "outlinewidth": 0,
              "ticks": ""
             }
            },
            "type": "scattermapbox"
           }
          ],
          "scatterpolar": [
           {
            "marker": {
             "colorbar": {
              "outlinewidth": 0,
              "ticks": ""
             }
            },
            "type": "scatterpolar"
           }
          ],
          "scatterpolargl": [
           {
            "marker": {
             "colorbar": {
              "outlinewidth": 0,
              "ticks": ""
             }
            },
            "type": "scatterpolargl"
           }
          ],
          "scatterternary": [
           {
            "marker": {
             "colorbar": {
              "outlinewidth": 0,
              "ticks": ""
             }
            },
            "type": "scatterternary"
           }
          ],
          "surface": [
           {
            "colorbar": {
             "outlinewidth": 0,
             "ticks": ""
            },
            "colorscale": [
             [
              0,
              "#0d0887"
             ],
             [
              0.1111111111111111,
              "#46039f"
             ],
             [
              0.2222222222222222,
              "#7201a8"
             ],
             [
              0.3333333333333333,
              "#9c179e"
             ],
             [
              0.4444444444444444,
              "#bd3786"
             ],
             [
              0.5555555555555556,
              "#d8576b"
             ],
             [
              0.6666666666666666,
              "#ed7953"
             ],
             [
              0.7777777777777778,
              "#fb9f3a"
             ],
             [
              0.8888888888888888,
              "#fdca26"
             ],
             [
              1,
              "#f0f921"
             ]
            ],
            "type": "surface"
           }
          ],
          "table": [
           {
            "cells": {
             "fill": {
              "color": "#EBF0F8"
             },
             "line": {
              "color": "white"
             }
            },
            "header": {
             "fill": {
              "color": "#C8D4E3"
             },
             "line": {
              "color": "white"
             }
            },
            "type": "table"
           }
          ]
         },
         "layout": {
          "annotationdefaults": {
           "arrowcolor": "#2a3f5f",
           "arrowhead": 0,
           "arrowwidth": 1
          },
          "autotypenumbers": "strict",
          "coloraxis": {
           "colorbar": {
            "outlinewidth": 0,
            "ticks": ""
           }
          },
          "colorscale": {
           "diverging": [
            [
             0,
             "#8e0152"
            ],
            [
             0.1,
             "#c51b7d"
            ],
            [
             0.2,
             "#de77ae"
            ],
            [
             0.3,
             "#f1b6da"
            ],
            [
             0.4,
             "#fde0ef"
            ],
            [
             0.5,
             "#f7f7f7"
            ],
            [
             0.6,
             "#e6f5d0"
            ],
            [
             0.7,
             "#b8e186"
            ],
            [
             0.8,
             "#7fbc41"
            ],
            [
             0.9,
             "#4d9221"
            ],
            [
             1,
             "#276419"
            ]
           ],
           "sequential": [
            [
             0,
             "#0d0887"
            ],
            [
             0.1111111111111111,
             "#46039f"
            ],
            [
             0.2222222222222222,
             "#7201a8"
            ],
            [
             0.3333333333333333,
             "#9c179e"
            ],
            [
             0.4444444444444444,
             "#bd3786"
            ],
            [
             0.5555555555555556,
             "#d8576b"
            ],
            [
             0.6666666666666666,
             "#ed7953"
            ],
            [
             0.7777777777777778,
             "#fb9f3a"
            ],
            [
             0.8888888888888888,
             "#fdca26"
            ],
            [
             1,
             "#f0f921"
            ]
           ],
           "sequentialminus": [
            [
             0,
             "#0d0887"
            ],
            [
             0.1111111111111111,
             "#46039f"
            ],
            [
             0.2222222222222222,
             "#7201a8"
            ],
            [
             0.3333333333333333,
             "#9c179e"
            ],
            [
             0.4444444444444444,
             "#bd3786"
            ],
            [
             0.5555555555555556,
             "#d8576b"
            ],
            [
             0.6666666666666666,
             "#ed7953"
            ],
            [
             0.7777777777777778,
             "#fb9f3a"
            ],
            [
             0.8888888888888888,
             "#fdca26"
            ],
            [
             1,
             "#f0f921"
            ]
           ]
          },
          "colorway": [
           "#636efa",
           "#EF553B",
           "#00cc96",
           "#ab63fa",
           "#FFA15A",
           "#19d3f3",
           "#FF6692",
           "#B6E880",
           "#FF97FF",
           "#FECB52"
          ],
          "font": {
           "color": "#2a3f5f"
          },
          "geo": {
           "bgcolor": "white",
           "lakecolor": "white",
           "landcolor": "#E5ECF6",
           "showlakes": true,
           "showland": true,
           "subunitcolor": "white"
          },
          "hoverlabel": {
           "align": "left"
          },
          "hovermode": "closest",
          "mapbox": {
           "style": "light"
          },
          "paper_bgcolor": "white",
          "plot_bgcolor": "#E5ECF6",
          "polar": {
           "angularaxis": {
            "gridcolor": "white",
            "linecolor": "white",
            "ticks": ""
           },
           "bgcolor": "#E5ECF6",
           "radialaxis": {
            "gridcolor": "white",
            "linecolor": "white",
            "ticks": ""
           }
          },
          "scene": {
           "xaxis": {
            "backgroundcolor": "#E5ECF6",
            "gridcolor": "white",
            "gridwidth": 2,
            "linecolor": "white",
            "showbackground": true,
            "ticks": "",
            "zerolinecolor": "white"
           },
           "yaxis": {
            "backgroundcolor": "#E5ECF6",
            "gridcolor": "white",
            "gridwidth": 2,
            "linecolor": "white",
            "showbackground": true,
            "ticks": "",
            "zerolinecolor": "white"
           },
           "zaxis": {
            "backgroundcolor": "#E5ECF6",
            "gridcolor": "white",
            "gridwidth": 2,
            "linecolor": "white",
            "showbackground": true,
            "ticks": "",
            "zerolinecolor": "white"
           }
          },
          "shapedefaults": {
           "line": {
            "color": "#2a3f5f"
           }
          },
          "ternary": {
           "aaxis": {
            "gridcolor": "white",
            "linecolor": "white",
            "ticks": ""
           },
           "baxis": {
            "gridcolor": "white",
            "linecolor": "white",
            "ticks": ""
           },
           "bgcolor": "#E5ECF6",
           "caxis": {
            "gridcolor": "white",
            "linecolor": "white",
            "ticks": ""
           }
          },
          "title": {
           "x": 0.05
          },
          "xaxis": {
           "automargin": true,
           "gridcolor": "white",
           "linecolor": "white",
           "ticks": "",
           "title": {
            "standoff": 15
           },
           "zerolinecolor": "white",
           "zerolinewidth": 2
          },
          "yaxis": {
           "automargin": true,
           "gridcolor": "white",
           "linecolor": "white",
           "ticks": "",
           "title": {
            "standoff": 15
           },
           "zerolinecolor": "white",
           "zerolinewidth": 2
          }
         }
        },
        "xaxis": {
         "anchor": "y",
         "categoryarray": [
          "Moisturizers",
          "Face Wash & Cleansers",
          "Foundation",
          "Face Serums",
          "Value & Gift Sets",
          "Toners",
          "Mascara",
          "Eye Creams & Treatments",
          "Blemish & Acne Treatments",
          "Makeup Removers",
          "Exfoliators",
          "Eyeliner",
          "Setting Spray & Powder",
          "Face Masks",
          "BB & CC Cream",
          "Lip Balm & Treatment",
          "Blush",
          "Lipstick",
          "Concealer",
          "Perfume",
          "Skincare",
          "Moisturizer & Treatments",
          "Face Sets",
          "Contour",
          "Face Oils",
          "Lip Balms & Treatments",
          "Eyebrow",
          "Face Sunscreen",
          "Mini Size",
          "Eye Cream",
          "Face Wash",
          "Eye Palettes",
          "Mists & Essences",
          "Body Lotions & Body Oils",
          "For Face",
          "Makeup",
          "Bronzer",
          "Lip Gloss",
          "Lip Liner",
          "Highlighter",
          "Eyeshadow",
          "Aftershave",
          "Scrub & Exfoliants",
          "Facial Cleansing Brushes",
          "Face Primer",
          "Cologne",
          "Perfume Gift Sets",
          "Decollete & Neck Creams",
          "Tinted Moisturizer",
          "Rollerballs & Travel Size",
          "Skincare Sets",
          "Night Creams",
          "Self Tanners",
          "Deodorant & Antiperspirant",
          "Shaving",
          "Color Correct"
         ],
         "categoryorder": "array",
         "domain": [
          0,
          1
         ],
         "title": {
          "text": "category"
         }
        },
        "yaxis": {
         "anchor": "x",
         "domain": [
          0,
          1
         ],
         "title": {
          "text": "number_of_reviews"
         }
        }
       }
      },
      "text/html": [
       "<div>                            <div id=\"0afe8582-d73c-4b47-976a-9e0a3fc0a496\" class=\"plotly-graph-div\" style=\"height:525px; width:100%;\"></div>            <script type=\"text/javascript\">                require([\"plotly\"], function(Plotly) {                    window.PLOTLYENV=window.PLOTLYENV || {};                                    if (document.getElementById(\"0afe8582-d73c-4b47-976a-9e0a3fc0a496\")) {                    Plotly.newPlot(                        \"0afe8582-d73c-4b47-976a-9e0a3fc0a496\",                        [{\"alignmentgroup\": \"True\", \"hovertemplate\": \"category=%{x}<br>number_of_reviews=%{y}<extra></extra>\", \"legendgroup\": \"Moisturizers\", \"marker\": {\"color\": \"#636efa\"}, \"name\": \"Moisturizers\", \"offsetgroup\": \"Moisturizers\", \"orientation\": \"v\", \"showlegend\": true, \"textposition\": \"auto\", \"type\": \"bar\", \"x\": [\"Moisturizers\", \"Moisturizers\", \"Moisturizers\", \"Moisturizers\", \"Moisturizers\", \"Moisturizers\", \"Moisturizers\", \"Moisturizers\", \"Moisturizers\", \"Moisturizers\", \"Moisturizers\", \"Moisturizers\", \"Moisturizers\", \"Moisturizers\", \"Moisturizers\", \"Moisturizers\", \"Moisturizers\", \"Moisturizers\", \"Moisturizers\", \"Moisturizers\", \"Moisturizers\", \"Moisturizers\", \"Moisturizers\", \"Moisturizers\", \"Moisturizers\", \"Moisturizers\", \"Moisturizers\", \"Moisturizers\", \"Moisturizers\", \"Moisturizers\", \"Moisturizers\", \"Moisturizers\", \"Moisturizers\", \"Moisturizers\", \"Moisturizers\"], \"xaxis\": \"x\", \"y\": [1000, 1000, 3000, 185, 948, 547, 328, 612, 22, 31, 1, 24, 7, 4, 14, 16, 217, 14, 4, 3, 39, 159, 31, 57, 3, 578, 5, 8, 15, 85, 13, 18, 5, 402, 3], \"yaxis\": \"y\"}, {\"alignmentgroup\": \"True\", \"hovertemplate\": \"category=%{x}<br>number_of_reviews=%{y}<extra></extra>\", \"legendgroup\": \"Face Wash & Cleansers\", \"marker\": {\"color\": \"#EF553B\"}, \"name\": \"Face Wash & Cleansers\", \"offsetgroup\": \"Face Wash & Cleansers\", \"orientation\": \"v\", \"showlegend\": true, \"textposition\": \"auto\", \"type\": \"bar\", \"x\": [\"Face Wash & Cleansers\", \"Face Wash & Cleansers\", \"Face Wash & Cleansers\", \"Face Wash & Cleansers\", \"Face Wash & Cleansers\", \"Face Wash & Cleansers\", \"Face Wash & Cleansers\", \"Face Wash & Cleansers\", \"Face Wash & Cleansers\", \"Face Wash & Cleansers\", \"Face Wash & Cleansers\", \"Face Wash & Cleansers\"], \"xaxis\": \"x\", \"y\": [2000, 3000, 964, 769, 363, 136, 276, 375, 435, 109, 28, 50], \"yaxis\": \"y\"}, {\"alignmentgroup\": \"True\", \"hovertemplate\": \"category=%{x}<br>number_of_reviews=%{y}<extra></extra>\", \"legendgroup\": \"Foundation\", \"marker\": {\"color\": \"#00cc96\"}, \"name\": \"Foundation\", \"offsetgroup\": \"Foundation\", \"orientation\": \"v\", \"showlegend\": true, \"textposition\": \"auto\", \"type\": \"bar\", \"x\": [\"Foundation\", \"Foundation\", \"Foundation\", \"Foundation\", \"Foundation\", \"Foundation\", \"Foundation\", \"Foundation\", \"Foundation\", \"Foundation\", \"Foundation\", \"Foundation\"], \"xaxis\": \"x\", \"y\": [2000, 2000, 1000, 1000, 674, 1000, 911, 20, 124, 26, 277, 178], \"yaxis\": \"y\"}, {\"alignmentgroup\": \"True\", \"hovertemplate\": \"category=%{x}<br>number_of_reviews=%{y}<extra></extra>\", \"legendgroup\": \"Face Serums\", \"marker\": {\"color\": \"#ab63fa\"}, \"name\": \"Face Serums\", \"offsetgroup\": \"Face Serums\", \"orientation\": \"v\", \"showlegend\": true, \"textposition\": \"auto\", \"type\": \"bar\", \"x\": [\"Face Serums\", \"Face Serums\", \"Face Serums\", \"Face Serums\", \"Face Serums\", \"Face Serums\", \"Face Serums\", \"Face Serums\"], \"xaxis\": \"x\", \"y\": [6, 387, 133, 653, 109, 134, 25, 404], \"yaxis\": \"y\"}, {\"alignmentgroup\": \"True\", \"hovertemplate\": \"category=%{x}<br>number_of_reviews=%{y}<extra></extra>\", \"legendgroup\": \"Value & Gift Sets\", \"marker\": {\"color\": \"#FFA15A\"}, \"name\": \"Value & Gift Sets\", \"offsetgroup\": \"Value & Gift Sets\", \"orientation\": \"v\", \"showlegend\": true, \"textposition\": \"auto\", \"type\": \"bar\", \"x\": [\"Value & Gift Sets\", \"Value & Gift Sets\", \"Value & Gift Sets\", \"Value & Gift Sets\", \"Value & Gift Sets\", \"Value & Gift Sets\", \"Value & Gift Sets\", \"Value & Gift Sets\", \"Value & Gift Sets\", \"Value & Gift Sets\", \"Value & Gift Sets\", \"Value & Gift Sets\", \"Value & Gift Sets\", \"Value & Gift Sets\"], \"xaxis\": \"x\", \"y\": [131, 160, 17, 244, 2, 1, 8, 230, 71, 17, 0, 0, 0, 0], \"yaxis\": \"y\"}, {\"alignmentgroup\": \"True\", \"hovertemplate\": \"category=%{x}<br>number_of_reviews=%{y}<extra></extra>\", \"legendgroup\": \"Toners\", \"marker\": {\"color\": \"#19d3f3\"}, \"name\": \"Toners\", \"offsetgroup\": \"Toners\", \"orientation\": \"v\", \"showlegend\": true, \"textposition\": \"auto\", \"type\": \"bar\", \"x\": [\"Toners\", \"Toners\", \"Toners\", \"Toners\", \"Toners\", \"Toners\", \"Toners\", \"Toners\"], \"xaxis\": \"x\", \"y\": [1000, 868, 7, 936, 6, 190, 219, 42], \"yaxis\": \"y\"}, {\"alignmentgroup\": \"True\", \"hovertemplate\": \"category=%{x}<br>number_of_reviews=%{y}<extra></extra>\", \"legendgroup\": \"Mascara\", \"marker\": {\"color\": \"#FF6692\"}, \"name\": \"Mascara\", \"offsetgroup\": \"Mascara\", \"orientation\": \"v\", \"showlegend\": true, \"textposition\": \"auto\", \"type\": \"bar\", \"x\": [\"Mascara\", \"Mascara\", \"Mascara\", \"Mascara\", \"Mascara\", \"Mascara\", \"Mascara\", \"Mascara\", \"Mascara\", \"Mascara\"], \"xaxis\": \"x\", \"y\": [2000, 2000, 331, 748, 718, 474, 688, 1000, 271, 154], \"yaxis\": \"y\"}, {\"alignmentgroup\": \"True\", \"hovertemplate\": \"category=%{x}<br>number_of_reviews=%{y}<extra></extra>\", \"legendgroup\": \"Eye Creams & Treatments\", \"marker\": {\"color\": \"#B6E880\"}, \"name\": \"Eye Creams & Treatments\", \"offsetgroup\": \"Eye Creams & Treatments\", \"orientation\": \"v\", \"showlegend\": true, \"textposition\": \"auto\", \"type\": \"bar\", \"x\": [\"Eye Creams & Treatments\", \"Eye Creams & Treatments\", \"Eye Creams & Treatments\", \"Eye Creams & Treatments\", \"Eye Creams & Treatments\", \"Eye Creams & Treatments\", \"Eye Creams & Treatments\", \"Eye Creams & Treatments\", \"Eye Creams & Treatments\"], \"xaxis\": \"x\", \"y\": [1000, 1000, 140, 951, 270, 70, 874, 36, 374], \"yaxis\": \"y\"}, {\"alignmentgroup\": \"True\", \"hovertemplate\": \"category=%{x}<br>number_of_reviews=%{y}<extra></extra>\", \"legendgroup\": \"Blemish & Acne Treatments\", \"marker\": {\"color\": \"#FF97FF\"}, \"name\": \"Blemish & Acne Treatments\", \"offsetgroup\": \"Blemish & Acne Treatments\", \"orientation\": \"v\", \"showlegend\": true, \"textposition\": \"auto\", \"type\": \"bar\", \"x\": [\"Blemish & Acne Treatments\", \"Blemish & Acne Treatments\"], \"xaxis\": \"x\", \"y\": [814, 73], \"yaxis\": \"y\"}, {\"alignmentgroup\": \"True\", \"hovertemplate\": \"category=%{x}<br>number_of_reviews=%{y}<extra></extra>\", \"legendgroup\": \"Makeup Removers\", \"marker\": {\"color\": \"#FECB52\"}, \"name\": \"Makeup Removers\", \"offsetgroup\": \"Makeup Removers\", \"orientation\": \"v\", \"showlegend\": true, \"textposition\": \"auto\", \"type\": \"bar\", \"x\": [\"Makeup Removers\", \"Makeup Removers\", \"Makeup Removers\", \"Makeup Removers\", \"Makeup Removers\"], \"xaxis\": \"x\", \"y\": [3000, 1, 285, 522, 248], \"yaxis\": \"y\"}, {\"alignmentgroup\": \"True\", \"hovertemplate\": \"category=%{x}<br>number_of_reviews=%{y}<extra></extra>\", \"legendgroup\": \"Exfoliators\", \"marker\": {\"color\": \"#636efa\"}, \"name\": \"Exfoliators\", \"offsetgroup\": \"Exfoliators\", \"orientation\": \"v\", \"showlegend\": true, \"textposition\": \"auto\", \"type\": \"bar\", \"x\": [\"Exfoliators\", \"Exfoliators\", \"Exfoliators\", \"Exfoliators\"], \"xaxis\": \"x\", \"y\": [1000, 504, 776, 35], \"yaxis\": \"y\"}, {\"alignmentgroup\": \"True\", \"hovertemplate\": \"category=%{x}<br>number_of_reviews=%{y}<extra></extra>\", \"legendgroup\": \"Eyeliner\", \"marker\": {\"color\": \"#EF553B\"}, \"name\": \"Eyeliner\", \"offsetgroup\": \"Eyeliner\", \"orientation\": \"v\", \"showlegend\": true, \"textposition\": \"auto\", \"type\": \"bar\", \"x\": [\"Eyeliner\", \"Eyeliner\", \"Eyeliner\", \"Eyeliner\"], \"xaxis\": \"x\", \"y\": [562, 1000, 913, 22], \"yaxis\": \"y\"}, {\"alignmentgroup\": \"True\", \"hovertemplate\": \"category=%{x}<br>number_of_reviews=%{y}<extra></extra>\", \"legendgroup\": \"Setting Spray & Powder\", \"marker\": {\"color\": \"#00cc96\"}, \"name\": \"Setting Spray & Powder\", \"offsetgroup\": \"Setting Spray & Powder\", \"orientation\": \"v\", \"showlegend\": true, \"textposition\": \"auto\", \"type\": \"bar\", \"x\": [\"Setting Spray & Powder\", \"Setting Spray & Powder\", \"Setting Spray & Powder\", \"Setting Spray & Powder\"], \"xaxis\": \"x\", \"y\": [603, 214, 32, 35], \"yaxis\": \"y\"}, {\"alignmentgroup\": \"True\", \"hovertemplate\": \"category=%{x}<br>number_of_reviews=%{y}<extra></extra>\", \"legendgroup\": \"Face Masks\", \"marker\": {\"color\": \"#ab63fa\"}, \"name\": \"Face Masks\", \"offsetgroup\": \"Face Masks\", \"orientation\": \"v\", \"showlegend\": true, \"textposition\": \"auto\", \"type\": \"bar\", \"x\": [\"Face Masks\", \"Face Masks\", \"Face Masks\", \"Face Masks\"], \"xaxis\": \"x\", \"y\": [397, 90, 275, 118], \"yaxis\": \"y\"}, {\"alignmentgroup\": \"True\", \"hovertemplate\": \"category=%{x}<br>number_of_reviews=%{y}<extra></extra>\", \"legendgroup\": \"BB & CC Cream\", \"marker\": {\"color\": \"#FFA15A\"}, \"name\": \"BB & CC Cream\", \"offsetgroup\": \"BB & CC Cream\", \"orientation\": \"v\", \"showlegend\": true, \"textposition\": \"auto\", \"type\": \"bar\", \"x\": [\"BB & CC Cream\", \"BB & CC Cream\", \"BB & CC Cream\", \"BB & CC Cream\"], \"xaxis\": \"x\", \"y\": [758, 663, 39, 756], \"yaxis\": \"y\"}, {\"alignmentgroup\": \"True\", \"hovertemplate\": \"category=%{x}<br>number_of_reviews=%{y}<extra></extra>\", \"legendgroup\": \"Lip Balm & Treatment\", \"marker\": {\"color\": \"#19d3f3\"}, \"name\": \"Lip Balm & Treatment\", \"offsetgroup\": \"Lip Balm & Treatment\", \"orientation\": \"v\", \"showlegend\": true, \"textposition\": \"auto\", \"type\": \"bar\", \"x\": [\"Lip Balm & Treatment\", \"Lip Balm & Treatment\", \"Lip Balm & Treatment\", \"Lip Balm & Treatment\"], \"xaxis\": \"x\", \"y\": [2000, 0, 576, 227], \"yaxis\": \"y\"}, {\"alignmentgroup\": \"True\", \"hovertemplate\": \"category=%{x}<br>number_of_reviews=%{y}<extra></extra>\", \"legendgroup\": \"Blush\", \"marker\": {\"color\": \"#FF6692\"}, \"name\": \"Blush\", \"offsetgroup\": \"Blush\", \"orientation\": \"v\", \"showlegend\": true, \"textposition\": \"auto\", \"type\": \"bar\", \"x\": [\"Blush\", \"Blush\", \"Blush\"], \"xaxis\": \"x\", \"y\": [952, 150, 94], \"yaxis\": \"y\"}, {\"alignmentgroup\": \"True\", \"hovertemplate\": \"category=%{x}<br>number_of_reviews=%{y}<extra></extra>\", \"legendgroup\": \"Lipstick\", \"marker\": {\"color\": \"#B6E880\"}, \"name\": \"Lipstick\", \"offsetgroup\": \"Lipstick\", \"orientation\": \"v\", \"showlegend\": true, \"textposition\": \"auto\", \"type\": \"bar\", \"x\": [\"Lipstick\", \"Lipstick\", \"Lipstick\", \"Lipstick\", \"Lipstick\"], \"xaxis\": \"x\", \"y\": [3000, 27, 263, 88, 60], \"yaxis\": \"y\"}, {\"alignmentgroup\": \"True\", \"hovertemplate\": \"category=%{x}<br>number_of_reviews=%{y}<extra></extra>\", \"legendgroup\": \"Concealer\", \"marker\": {\"color\": \"#FF97FF\"}, \"name\": \"Concealer\", \"offsetgroup\": \"Concealer\", \"orientation\": \"v\", \"showlegend\": true, \"textposition\": \"auto\", \"type\": \"bar\", \"x\": [\"Concealer\", \"Concealer\", \"Concealer\", \"Concealer\"], \"xaxis\": \"x\", \"y\": [701, 213, 453, 274], \"yaxis\": \"y\"}, {\"alignmentgroup\": \"True\", \"hovertemplate\": \"category=%{x}<br>number_of_reviews=%{y}<extra></extra>\", \"legendgroup\": \"Perfume\", \"marker\": {\"color\": \"#FECB52\"}, \"name\": \"Perfume\", \"offsetgroup\": \"Perfume\", \"orientation\": \"v\", \"showlegend\": true, \"textposition\": \"auto\", \"type\": \"bar\", \"x\": [\"Perfume\", \"Perfume\", \"Perfume\", \"Perfume\"], \"xaxis\": \"x\", \"y\": [630, 4, 62, 187], \"yaxis\": \"y\"}, {\"alignmentgroup\": \"True\", \"hovertemplate\": \"category=%{x}<br>number_of_reviews=%{y}<extra></extra>\", \"legendgroup\": \"Skincare\", \"marker\": {\"color\": \"#636efa\"}, \"name\": \"Skincare\", \"offsetgroup\": \"Skincare\", \"orientation\": \"v\", \"showlegend\": true, \"textposition\": \"auto\", \"type\": \"bar\", \"x\": [\"Skincare\", \"Skincare\", \"Skincare\", \"Skincare\", \"Skincare\", \"Skincare\"], \"xaxis\": \"x\", \"y\": [3000, 1000, 59, 88, 66, 35], \"yaxis\": \"y\"}, {\"alignmentgroup\": \"True\", \"hovertemplate\": \"category=%{x}<br>number_of_reviews=%{y}<extra></extra>\", \"legendgroup\": \"Moisturizer & Treatments\", \"marker\": {\"color\": \"#EF553B\"}, \"name\": \"Moisturizer & Treatments\", \"offsetgroup\": \"Moisturizer & Treatments\", \"orientation\": \"v\", \"showlegend\": true, \"textposition\": \"auto\", \"type\": \"bar\", \"x\": [\"Moisturizer & Treatments\", \"Moisturizer & Treatments\", \"Moisturizer & Treatments\", \"Moisturizer & Treatments\", \"Moisturizer & Treatments\", \"Moisturizer & Treatments\"], \"xaxis\": \"x\", \"y\": [6, 2, 45, 39, 66, 47], \"yaxis\": \"y\"}, {\"alignmentgroup\": \"True\", \"hovertemplate\": \"category=%{x}<br>number_of_reviews=%{y}<extra></extra>\", \"legendgroup\": \"Face Sets\", \"marker\": {\"color\": \"#00cc96\"}, \"name\": \"Face Sets\", \"offsetgroup\": \"Face Sets\", \"orientation\": \"v\", \"showlegend\": true, \"textposition\": \"auto\", \"type\": \"bar\", \"x\": [\"Face Sets\"], \"xaxis\": \"x\", \"y\": [6], \"yaxis\": \"y\"}, {\"alignmentgroup\": \"True\", \"hovertemplate\": \"category=%{x}<br>number_of_reviews=%{y}<extra></extra>\", \"legendgroup\": \"Contour\", \"marker\": {\"color\": \"#ab63fa\"}, \"name\": \"Contour\", \"offsetgroup\": \"Contour\", \"orientation\": \"v\", \"showlegend\": true, \"textposition\": \"auto\", \"type\": \"bar\", \"x\": [\"Contour\"], \"xaxis\": \"x\", \"y\": [206], \"yaxis\": \"y\"}, {\"alignmentgroup\": \"True\", \"hovertemplate\": \"category=%{x}<br>number_of_reviews=%{y}<extra></extra>\", \"legendgroup\": \"Face Oils\", \"marker\": {\"color\": \"#FFA15A\"}, \"name\": \"Face Oils\", \"offsetgroup\": \"Face Oils\", \"orientation\": \"v\", \"showlegend\": true, \"textposition\": \"auto\", \"type\": \"bar\", \"x\": [\"Face Oils\"], \"xaxis\": \"x\", \"y\": [477], \"yaxis\": \"y\"}, {\"alignmentgroup\": \"True\", \"hovertemplate\": \"category=%{x}<br>number_of_reviews=%{y}<extra></extra>\", \"legendgroup\": \"Lip Balms & Treatments\", \"marker\": {\"color\": \"#19d3f3\"}, \"name\": \"Lip Balms & Treatments\", \"offsetgroup\": \"Lip Balms & Treatments\", \"orientation\": \"v\", \"showlegend\": true, \"textposition\": \"auto\", \"type\": \"bar\", \"x\": [\"Lip Balms & Treatments\", \"Lip Balms & Treatments\", \"Lip Balms & Treatments\"], \"xaxis\": \"x\", \"y\": [36, 248, 167], \"yaxis\": \"y\"}, {\"alignmentgroup\": \"True\", \"hovertemplate\": \"category=%{x}<br>number_of_reviews=%{y}<extra></extra>\", \"legendgroup\": \"Eyebrow\", \"marker\": {\"color\": \"#FF6692\"}, \"name\": \"Eyebrow\", \"offsetgroup\": \"Eyebrow\", \"orientation\": \"v\", \"showlegend\": true, \"textposition\": \"auto\", \"type\": \"bar\", \"x\": [\"Eyebrow\"], \"xaxis\": \"x\", \"y\": [564], \"yaxis\": \"y\"}, {\"alignmentgroup\": \"True\", \"hovertemplate\": \"category=%{x}<br>number_of_reviews=%{y}<extra></extra>\", \"legendgroup\": \"Face Sunscreen\", \"marker\": {\"color\": \"#B6E880\"}, \"name\": \"Face Sunscreen\", \"offsetgroup\": \"Face Sunscreen\", \"orientation\": \"v\", \"showlegend\": true, \"textposition\": \"auto\", \"type\": \"bar\", \"x\": [\"Face Sunscreen\", \"Face Sunscreen\", \"Face Sunscreen\", \"Face Sunscreen\", \"Face Sunscreen\", \"Face Sunscreen\"], \"xaxis\": \"x\", \"y\": [204, 0, 470, 45, 19, 286], \"yaxis\": \"y\"}, {\"alignmentgroup\": \"True\", \"hovertemplate\": \"category=%{x}<br>number_of_reviews=%{y}<extra></extra>\", \"legendgroup\": \"Mini Size\", \"marker\": {\"color\": \"#FF97FF\"}, \"name\": \"Mini Size\", \"offsetgroup\": \"Mini Size\", \"orientation\": \"v\", \"showlegend\": true, \"textposition\": \"auto\", \"type\": \"bar\", \"x\": [\"Mini Size\", \"Mini Size\", \"Mini Size\", \"Mini Size\"], \"xaxis\": \"x\", \"y\": [3000, 1000, 1, 7], \"yaxis\": \"y\"}, {\"alignmentgroup\": \"True\", \"hovertemplate\": \"category=%{x}<br>number_of_reviews=%{y}<extra></extra>\", \"legendgroup\": \"Eye Cream\", \"marker\": {\"color\": \"#FECB52\"}, \"name\": \"Eye Cream\", \"offsetgroup\": \"Eye Cream\", \"orientation\": \"v\", \"showlegend\": true, \"textposition\": \"auto\", \"type\": \"bar\", \"x\": [\"Eye Cream\", \"Eye Cream\", \"Eye Cream\"], \"xaxis\": \"x\", \"y\": [31, 2, 5], \"yaxis\": \"y\"}, {\"alignmentgroup\": \"True\", \"hovertemplate\": \"category=%{x}<br>number_of_reviews=%{y}<extra></extra>\", \"legendgroup\": \"Face Wash\", \"marker\": {\"color\": \"#636efa\"}, \"name\": \"Face Wash\", \"offsetgroup\": \"Face Wash\", \"orientation\": \"v\", \"showlegend\": true, \"textposition\": \"auto\", \"type\": \"bar\", \"x\": [\"Face Wash\", \"Face Wash\", \"Face Wash\", \"Face Wash\", \"Face Wash\"], \"xaxis\": \"x\", \"y\": [23, 160, 15, 7, 28], \"yaxis\": \"y\"}, {\"alignmentgroup\": \"True\", \"hovertemplate\": \"category=%{x}<br>number_of_reviews=%{y}<extra></extra>\", \"legendgroup\": \"Eye Palettes\", \"marker\": {\"color\": \"#EF553B\"}, \"name\": \"Eye Palettes\", \"offsetgroup\": \"Eye Palettes\", \"orientation\": \"v\", \"showlegend\": true, \"textposition\": \"auto\", \"type\": \"bar\", \"x\": [\"Eye Palettes\", \"Eye Palettes\", \"Eye Palettes\"], \"xaxis\": \"x\", \"y\": [337, 19, 0], \"yaxis\": \"y\"}, {\"alignmentgroup\": \"True\", \"hovertemplate\": \"category=%{x}<br>number_of_reviews=%{y}<extra></extra>\", \"legendgroup\": \"Mists & Essences\", \"marker\": {\"color\": \"#00cc96\"}, \"name\": \"Mists & Essences\", \"offsetgroup\": \"Mists & Essences\", \"orientation\": \"v\", \"showlegend\": true, \"textposition\": \"auto\", \"type\": \"bar\", \"x\": [\"Mists & Essences\"], \"xaxis\": \"x\", \"y\": [262], \"yaxis\": \"y\"}, {\"alignmentgroup\": \"True\", \"hovertemplate\": \"category=%{x}<br>number_of_reviews=%{y}<extra></extra>\", \"legendgroup\": \"Body Lotions & Body Oils\", \"marker\": {\"color\": \"#ab63fa\"}, \"name\": \"Body Lotions & Body Oils\", \"offsetgroup\": \"Body Lotions & Body Oils\", \"orientation\": \"v\", \"showlegend\": true, \"textposition\": \"auto\", \"type\": \"bar\", \"x\": [\"Body Lotions & Body Oils\"], \"xaxis\": \"x\", \"y\": [228], \"yaxis\": \"y\"}, {\"alignmentgroup\": \"True\", \"hovertemplate\": \"category=%{x}<br>number_of_reviews=%{y}<extra></extra>\", \"legendgroup\": \"For Face\", \"marker\": {\"color\": \"#FFA15A\"}, \"name\": \"For Face\", \"offsetgroup\": \"For Face\", \"orientation\": \"v\", \"showlegend\": true, \"textposition\": \"auto\", \"type\": \"bar\", \"x\": [\"For Face\"], \"xaxis\": \"x\", \"y\": [44], \"yaxis\": \"y\"}, {\"alignmentgroup\": \"True\", \"hovertemplate\": \"category=%{x}<br>number_of_reviews=%{y}<extra></extra>\", \"legendgroup\": \"Makeup\", \"marker\": {\"color\": \"#19d3f3\"}, \"name\": \"Makeup\", \"offsetgroup\": \"Makeup\", \"orientation\": \"v\", \"showlegend\": true, \"textposition\": \"auto\", \"type\": \"bar\", \"x\": [\"Makeup\"], \"xaxis\": \"x\", \"y\": [14], \"yaxis\": \"y\"}, {\"alignmentgroup\": \"True\", \"hovertemplate\": \"category=%{x}<br>number_of_reviews=%{y}<extra></extra>\", \"legendgroup\": \"Bronzer\", \"marker\": {\"color\": \"#FF6692\"}, \"name\": \"Bronzer\", \"offsetgroup\": \"Bronzer\", \"orientation\": \"v\", \"showlegend\": true, \"textposition\": \"auto\", \"type\": \"bar\", \"x\": [\"Bronzer\", \"Bronzer\"], \"xaxis\": \"x\", \"y\": [241, 0], \"yaxis\": \"y\"}, {\"alignmentgroup\": \"True\", \"hovertemplate\": \"category=%{x}<br>number_of_reviews=%{y}<extra></extra>\", \"legendgroup\": \"Lip Gloss\", \"marker\": {\"color\": \"#B6E880\"}, \"name\": \"Lip Gloss\", \"offsetgroup\": \"Lip Gloss\", \"orientation\": \"v\", \"showlegend\": true, \"textposition\": \"auto\", \"type\": \"bar\", \"x\": [\"Lip Gloss\", \"Lip Gloss\"], \"xaxis\": \"x\", \"y\": [109, 1000], \"yaxis\": \"y\"}, {\"alignmentgroup\": \"True\", \"hovertemplate\": \"category=%{x}<br>number_of_reviews=%{y}<extra></extra>\", \"legendgroup\": \"Lip Liner\", \"marker\": {\"color\": \"#FF97FF\"}, \"name\": \"Lip Liner\", \"offsetgroup\": \"Lip Liner\", \"orientation\": \"v\", \"showlegend\": true, \"textposition\": \"auto\", \"type\": \"bar\", \"x\": [\"Lip Liner\", \"Lip Liner\"], \"xaxis\": \"x\", \"y\": [260, 19], \"yaxis\": \"y\"}, {\"alignmentgroup\": \"True\", \"hovertemplate\": \"category=%{x}<br>number_of_reviews=%{y}<extra></extra>\", \"legendgroup\": \"Highlighter\", \"marker\": {\"color\": \"#FECB52\"}, \"name\": \"Highlighter\", \"offsetgroup\": \"Highlighter\", \"orientation\": \"v\", \"showlegend\": true, \"textposition\": \"auto\", \"type\": \"bar\", \"x\": [\"Highlighter\", \"Highlighter\"], \"xaxis\": \"x\", \"y\": [227, 0], \"yaxis\": \"y\"}, {\"alignmentgroup\": \"True\", \"hovertemplate\": \"category=%{x}<br>number_of_reviews=%{y}<extra></extra>\", \"legendgroup\": \"Eyeshadow\", \"marker\": {\"color\": \"#636efa\"}, \"name\": \"Eyeshadow\", \"offsetgroup\": \"Eyeshadow\", \"orientation\": \"v\", \"showlegend\": true, \"textposition\": \"auto\", \"type\": \"bar\", \"x\": [\"Eyeshadow\", \"Eyeshadow\"], \"xaxis\": \"x\", \"y\": [133, 47], \"yaxis\": \"y\"}, {\"alignmentgroup\": \"True\", \"hovertemplate\": \"category=%{x}<br>number_of_reviews=%{y}<extra></extra>\", \"legendgroup\": \"Aftershave\", \"marker\": {\"color\": \"#EF553B\"}, \"name\": \"Aftershave\", \"offsetgroup\": \"Aftershave\", \"orientation\": \"v\", \"showlegend\": true, \"textposition\": \"auto\", \"type\": \"bar\", \"x\": [\"Aftershave\"], \"xaxis\": \"x\", \"y\": [41], \"yaxis\": \"y\"}, {\"alignmentgroup\": \"True\", \"hovertemplate\": \"category=%{x}<br>number_of_reviews=%{y}<extra></extra>\", \"legendgroup\": \"Scrub & Exfoliants\", \"marker\": {\"color\": \"#00cc96\"}, \"name\": \"Scrub & Exfoliants\", \"offsetgroup\": \"Scrub & Exfoliants\", \"orientation\": \"v\", \"showlegend\": true, \"textposition\": \"auto\", \"type\": \"bar\", \"x\": [\"Scrub & Exfoliants\"], \"xaxis\": \"x\", \"y\": [142], \"yaxis\": \"y\"}, {\"alignmentgroup\": \"True\", \"hovertemplate\": \"category=%{x}<br>number_of_reviews=%{y}<extra></extra>\", \"legendgroup\": \"Facial Cleansing Brushes\", \"marker\": {\"color\": \"#ab63fa\"}, \"name\": \"Facial Cleansing Brushes\", \"offsetgroup\": \"Facial Cleansing Brushes\", \"orientation\": \"v\", \"showlegend\": true, \"textposition\": \"auto\", \"type\": \"bar\", \"x\": [\"Facial Cleansing Brushes\", \"Facial Cleansing Brushes\"], \"xaxis\": \"x\", \"y\": [17, 12], \"yaxis\": \"y\"}, {\"alignmentgroup\": \"True\", \"hovertemplate\": \"category=%{x}<br>number_of_reviews=%{y}<extra></extra>\", \"legendgroup\": \"Face Primer\", \"marker\": {\"color\": \"#FFA15A\"}, \"name\": \"Face Primer\", \"offsetgroup\": \"Face Primer\", \"orientation\": \"v\", \"showlegend\": true, \"textposition\": \"auto\", \"type\": \"bar\", \"x\": [\"Face Primer\", \"Face Primer\", \"Face Primer\"], \"xaxis\": \"x\", \"y\": [171, 300, 107], \"yaxis\": \"y\"}, {\"alignmentgroup\": \"True\", \"hovertemplate\": \"category=%{x}<br>number_of_reviews=%{y}<extra></extra>\", \"legendgroup\": \"Cologne\", \"marker\": {\"color\": \"#19d3f3\"}, \"name\": \"Cologne\", \"offsetgroup\": \"Cologne\", \"orientation\": \"v\", \"showlegend\": true, \"textposition\": \"auto\", \"type\": \"bar\", \"x\": [\"Cologne\"], \"xaxis\": \"x\", \"y\": [78], \"yaxis\": \"y\"}, {\"alignmentgroup\": \"True\", \"hovertemplate\": \"category=%{x}<br>number_of_reviews=%{y}<extra></extra>\", \"legendgroup\": \"Perfume Gift Sets\", \"marker\": {\"color\": \"#FF6692\"}, \"name\": \"Perfume Gift Sets\", \"offsetgroup\": \"Perfume Gift Sets\", \"orientation\": \"v\", \"showlegend\": true, \"textposition\": \"auto\", \"type\": \"bar\", \"x\": [\"Perfume Gift Sets\"], \"xaxis\": \"x\", \"y\": [0], \"yaxis\": \"y\"}, {\"alignmentgroup\": \"True\", \"hovertemplate\": \"category=%{x}<br>number_of_reviews=%{y}<extra></extra>\", \"legendgroup\": \"Decollete & Neck Creams\", \"marker\": {\"color\": \"#B6E880\"}, \"name\": \"Decollete & Neck Creams\", \"offsetgroup\": \"Decollete & Neck Creams\", \"orientation\": \"v\", \"showlegend\": true, \"textposition\": \"auto\", \"type\": \"bar\", \"x\": [\"Decollete & Neck Creams\"], \"xaxis\": \"x\", \"y\": [9], \"yaxis\": \"y\"}, {\"alignmentgroup\": \"True\", \"hovertemplate\": \"category=%{x}<br>number_of_reviews=%{y}<extra></extra>\", \"legendgroup\": \"Tinted Moisturizer\", \"marker\": {\"color\": \"#FF97FF\"}, \"name\": \"Tinted Moisturizer\", \"offsetgroup\": \"Tinted Moisturizer\", \"orientation\": \"v\", \"showlegend\": true, \"textposition\": \"auto\", \"type\": \"bar\", \"x\": [\"Tinted Moisturizer\"], \"xaxis\": \"x\", \"y\": [0], \"yaxis\": \"y\"}, {\"alignmentgroup\": \"True\", \"hovertemplate\": \"category=%{x}<br>number_of_reviews=%{y}<extra></extra>\", \"legendgroup\": \"Rollerballs & Travel Size\", \"marker\": {\"color\": \"#FECB52\"}, \"name\": \"Rollerballs & Travel Size\", \"offsetgroup\": \"Rollerballs & Travel Size\", \"orientation\": \"v\", \"showlegend\": true, \"textposition\": \"auto\", \"type\": \"bar\", \"x\": [\"Rollerballs & Travel Size\"], \"xaxis\": \"x\", \"y\": [37], \"yaxis\": \"y\"}, {\"alignmentgroup\": \"True\", \"hovertemplate\": \"category=%{x}<br>number_of_reviews=%{y}<extra></extra>\", \"legendgroup\": \"Skincare Sets\", \"marker\": {\"color\": \"#636efa\"}, \"name\": \"Skincare Sets\", \"offsetgroup\": \"Skincare Sets\", \"orientation\": \"v\", \"showlegend\": true, \"textposition\": \"auto\", \"type\": \"bar\", \"x\": [\"Skincare Sets\", \"Skincare Sets\", \"Skincare Sets\", \"Skincare Sets\", \"Skincare Sets\", \"Skincare Sets\", \"Skincare Sets\"], \"xaxis\": \"x\", \"y\": [2, 3, 2, 0, 0, 0, 0], \"yaxis\": \"y\"}, {\"alignmentgroup\": \"True\", \"hovertemplate\": \"category=%{x}<br>number_of_reviews=%{y}<extra></extra>\", \"legendgroup\": \"Night Creams\", \"marker\": {\"color\": \"#EF553B\"}, \"name\": \"Night Creams\", \"offsetgroup\": \"Night Creams\", \"orientation\": \"v\", \"showlegend\": true, \"textposition\": \"auto\", \"type\": \"bar\", \"x\": [\"Night Creams\"], \"xaxis\": \"x\", \"y\": [33], \"yaxis\": \"y\"}, {\"alignmentgroup\": \"True\", \"hovertemplate\": \"category=%{x}<br>number_of_reviews=%{y}<extra></extra>\", \"legendgroup\": \"Self Tanners\", \"marker\": {\"color\": \"#00cc96\"}, \"name\": \"Self Tanners\", \"offsetgroup\": \"Self Tanners\", \"orientation\": \"v\", \"showlegend\": true, \"textposition\": \"auto\", \"type\": \"bar\", \"x\": [\"Self Tanners\"], \"xaxis\": \"x\", \"y\": [52], \"yaxis\": \"y\"}, {\"alignmentgroup\": \"True\", \"hovertemplate\": \"category=%{x}<br>number_of_reviews=%{y}<extra></extra>\", \"legendgroup\": \"Deodorant & Antiperspirant\", \"marker\": {\"color\": \"#ab63fa\"}, \"name\": \"Deodorant & Antiperspirant\", \"offsetgroup\": \"Deodorant & Antiperspirant\", \"orientation\": \"v\", \"showlegend\": true, \"textposition\": \"auto\", \"type\": \"bar\", \"x\": [\"Deodorant & Antiperspirant\"], \"xaxis\": \"x\", \"y\": [35], \"yaxis\": \"y\"}, {\"alignmentgroup\": \"True\", \"hovertemplate\": \"category=%{x}<br>number_of_reviews=%{y}<extra></extra>\", \"legendgroup\": \"Shaving\", \"marker\": {\"color\": \"#FFA15A\"}, \"name\": \"Shaving\", \"offsetgroup\": \"Shaving\", \"orientation\": \"v\", \"showlegend\": true, \"textposition\": \"auto\", \"type\": \"bar\", \"x\": [\"Shaving\", \"Shaving\"], \"xaxis\": \"x\", \"y\": [35, 37], \"yaxis\": \"y\"}, {\"alignmentgroup\": \"True\", \"hovertemplate\": \"category=%{x}<br>number_of_reviews=%{y}<extra></extra>\", \"legendgroup\": \"Color Correct\", \"marker\": {\"color\": \"#19d3f3\"}, \"name\": \"Color Correct\", \"offsetgroup\": \"Color Correct\", \"orientation\": \"v\", \"showlegend\": true, \"textposition\": \"auto\", \"type\": \"bar\", \"x\": [\"Color Correct\"], \"xaxis\": \"x\", \"y\": [14], \"yaxis\": \"y\"}],                        {\"barmode\": \"relative\", \"legend\": {\"title\": {\"text\": \"category\"}, \"tracegroupgap\": 0}, \"margin\": {\"t\": 60}, \"template\": {\"data\": {\"bar\": [{\"error_x\": {\"color\": \"#2a3f5f\"}, \"error_y\": {\"color\": \"#2a3f5f\"}, \"marker\": {\"line\": {\"color\": \"#E5ECF6\", \"width\": 0.5}}, \"type\": \"bar\"}], \"barpolar\": [{\"marker\": {\"line\": {\"color\": \"#E5ECF6\", \"width\": 0.5}}, \"type\": \"barpolar\"}], \"carpet\": [{\"aaxis\": {\"endlinecolor\": \"#2a3f5f\", \"gridcolor\": \"white\", \"linecolor\": \"white\", \"minorgridcolor\": \"white\", \"startlinecolor\": \"#2a3f5f\"}, \"baxis\": {\"endlinecolor\": \"#2a3f5f\", \"gridcolor\": \"white\", \"linecolor\": \"white\", \"minorgridcolor\": \"white\", \"startlinecolor\": \"#2a3f5f\"}, \"type\": \"carpet\"}], \"choropleth\": [{\"colorbar\": {\"outlinewidth\": 0, \"ticks\": \"\"}, \"type\": \"choropleth\"}], \"contour\": [{\"colorbar\": {\"outlinewidth\": 0, \"ticks\": \"\"}, \"colorscale\": [[0.0, \"#0d0887\"], [0.1111111111111111, \"#46039f\"], [0.2222222222222222, \"#7201a8\"], [0.3333333333333333, \"#9c179e\"], [0.4444444444444444, \"#bd3786\"], [0.5555555555555556, \"#d8576b\"], [0.6666666666666666, \"#ed7953\"], [0.7777777777777778, \"#fb9f3a\"], [0.8888888888888888, \"#fdca26\"], [1.0, \"#f0f921\"]], \"type\": \"contour\"}], \"contourcarpet\": [{\"colorbar\": {\"outlinewidth\": 0, \"ticks\": \"\"}, \"type\": \"contourcarpet\"}], \"heatmap\": [{\"colorbar\": {\"outlinewidth\": 0, \"ticks\": \"\"}, \"colorscale\": [[0.0, \"#0d0887\"], [0.1111111111111111, \"#46039f\"], [0.2222222222222222, \"#7201a8\"], [0.3333333333333333, \"#9c179e\"], [0.4444444444444444, \"#bd3786\"], [0.5555555555555556, \"#d8576b\"], [0.6666666666666666, \"#ed7953\"], [0.7777777777777778, \"#fb9f3a\"], [0.8888888888888888, \"#fdca26\"], [1.0, \"#f0f921\"]], \"type\": \"heatmap\"}], \"heatmapgl\": [{\"colorbar\": {\"outlinewidth\": 0, \"ticks\": \"\"}, \"colorscale\": [[0.0, \"#0d0887\"], [0.1111111111111111, \"#46039f\"], [0.2222222222222222, \"#7201a8\"], [0.3333333333333333, \"#9c179e\"], [0.4444444444444444, \"#bd3786\"], [0.5555555555555556, \"#d8576b\"], [0.6666666666666666, \"#ed7953\"], [0.7777777777777778, \"#fb9f3a\"], [0.8888888888888888, \"#fdca26\"], [1.0, \"#f0f921\"]], \"type\": \"heatmapgl\"}], \"histogram\": [{\"marker\": {\"colorbar\": {\"outlinewidth\": 0, \"ticks\": \"\"}}, \"type\": \"histogram\"}], \"histogram2d\": [{\"colorbar\": {\"outlinewidth\": 0, \"ticks\": \"\"}, \"colorscale\": [[0.0, \"#0d0887\"], [0.1111111111111111, \"#46039f\"], [0.2222222222222222, \"#7201a8\"], [0.3333333333333333, \"#9c179e\"], [0.4444444444444444, \"#bd3786\"], [0.5555555555555556, \"#d8576b\"], [0.6666666666666666, \"#ed7953\"], [0.7777777777777778, \"#fb9f3a\"], [0.8888888888888888, \"#fdca26\"], [1.0, \"#f0f921\"]], \"type\": \"histogram2d\"}], \"histogram2dcontour\": [{\"colorbar\": {\"outlinewidth\": 0, \"ticks\": \"\"}, \"colorscale\": [[0.0, \"#0d0887\"], [0.1111111111111111, \"#46039f\"], [0.2222222222222222, \"#7201a8\"], [0.3333333333333333, \"#9c179e\"], [0.4444444444444444, \"#bd3786\"], [0.5555555555555556, \"#d8576b\"], [0.6666666666666666, \"#ed7953\"], [0.7777777777777778, \"#fb9f3a\"], [0.8888888888888888, \"#fdca26\"], [1.0, \"#f0f921\"]], \"type\": \"histogram2dcontour\"}], \"mesh3d\": [{\"colorbar\": {\"outlinewidth\": 0, \"ticks\": \"\"}, \"type\": \"mesh3d\"}], \"parcoords\": [{\"line\": {\"colorbar\": {\"outlinewidth\": 0, \"ticks\": \"\"}}, \"type\": \"parcoords\"}], \"pie\": [{\"automargin\": true, \"type\": \"pie\"}], \"scatter\": [{\"marker\": {\"colorbar\": {\"outlinewidth\": 0, \"ticks\": \"\"}}, \"type\": \"scatter\"}], \"scatter3d\": [{\"line\": {\"colorbar\": {\"outlinewidth\": 0, \"ticks\": \"\"}}, \"marker\": {\"colorbar\": {\"outlinewidth\": 0, \"ticks\": \"\"}}, \"type\": \"scatter3d\"}], \"scattercarpet\": [{\"marker\": {\"colorbar\": {\"outlinewidth\": 0, \"ticks\": \"\"}}, \"type\": \"scattercarpet\"}], \"scattergeo\": [{\"marker\": {\"colorbar\": {\"outlinewidth\": 0, \"ticks\": \"\"}}, \"type\": \"scattergeo\"}], \"scattergl\": [{\"marker\": {\"colorbar\": {\"outlinewidth\": 0, \"ticks\": \"\"}}, \"type\": \"scattergl\"}], \"scattermapbox\": [{\"marker\": {\"colorbar\": {\"outlinewidth\": 0, \"ticks\": \"\"}}, \"type\": \"scattermapbox\"}], \"scatterpolar\": [{\"marker\": {\"colorbar\": {\"outlinewidth\": 0, \"ticks\": \"\"}}, \"type\": \"scatterpolar\"}], \"scatterpolargl\": [{\"marker\": {\"colorbar\": {\"outlinewidth\": 0, \"ticks\": \"\"}}, \"type\": \"scatterpolargl\"}], \"scatterternary\": [{\"marker\": {\"colorbar\": {\"outlinewidth\": 0, \"ticks\": \"\"}}, \"type\": \"scatterternary\"}], \"surface\": [{\"colorbar\": {\"outlinewidth\": 0, \"ticks\": \"\"}, \"colorscale\": [[0.0, \"#0d0887\"], [0.1111111111111111, \"#46039f\"], [0.2222222222222222, \"#7201a8\"], [0.3333333333333333, \"#9c179e\"], [0.4444444444444444, \"#bd3786\"], [0.5555555555555556, \"#d8576b\"], [0.6666666666666666, \"#ed7953\"], [0.7777777777777778, \"#fb9f3a\"], [0.8888888888888888, \"#fdca26\"], [1.0, \"#f0f921\"]], \"type\": \"surface\"}], \"table\": [{\"cells\": {\"fill\": {\"color\": \"#EBF0F8\"}, \"line\": {\"color\": \"white\"}}, \"header\": {\"fill\": {\"color\": \"#C8D4E3\"}, \"line\": {\"color\": \"white\"}}, \"type\": \"table\"}]}, \"layout\": {\"annotationdefaults\": {\"arrowcolor\": \"#2a3f5f\", \"arrowhead\": 0, \"arrowwidth\": 1}, \"autotypenumbers\": \"strict\", \"coloraxis\": {\"colorbar\": {\"outlinewidth\": 0, \"ticks\": \"\"}}, \"colorscale\": {\"diverging\": [[0, \"#8e0152\"], [0.1, \"#c51b7d\"], [0.2, \"#de77ae\"], [0.3, \"#f1b6da\"], [0.4, \"#fde0ef\"], [0.5, \"#f7f7f7\"], [0.6, \"#e6f5d0\"], [0.7, \"#b8e186\"], [0.8, \"#7fbc41\"], [0.9, \"#4d9221\"], [1, \"#276419\"]], \"sequential\": [[0.0, \"#0d0887\"], [0.1111111111111111, \"#46039f\"], [0.2222222222222222, \"#7201a8\"], [0.3333333333333333, \"#9c179e\"], [0.4444444444444444, \"#bd3786\"], [0.5555555555555556, \"#d8576b\"], [0.6666666666666666, \"#ed7953\"], [0.7777777777777778, \"#fb9f3a\"], [0.8888888888888888, \"#fdca26\"], [1.0, \"#f0f921\"]], \"sequentialminus\": [[0.0, \"#0d0887\"], [0.1111111111111111, \"#46039f\"], [0.2222222222222222, \"#7201a8\"], [0.3333333333333333, \"#9c179e\"], [0.4444444444444444, \"#bd3786\"], [0.5555555555555556, \"#d8576b\"], [0.6666666666666666, \"#ed7953\"], [0.7777777777777778, \"#fb9f3a\"], [0.8888888888888888, \"#fdca26\"], [1.0, \"#f0f921\"]]}, \"colorway\": [\"#636efa\", \"#EF553B\", \"#00cc96\", \"#ab63fa\", \"#FFA15A\", \"#19d3f3\", \"#FF6692\", \"#B6E880\", \"#FF97FF\", \"#FECB52\"], \"font\": {\"color\": \"#2a3f5f\"}, \"geo\": {\"bgcolor\": \"white\", \"lakecolor\": \"white\", \"landcolor\": \"#E5ECF6\", \"showlakes\": true, \"showland\": true, \"subunitcolor\": \"white\"}, \"hoverlabel\": {\"align\": \"left\"}, \"hovermode\": \"closest\", \"mapbox\": {\"style\": \"light\"}, \"paper_bgcolor\": \"white\", \"plot_bgcolor\": \"#E5ECF6\", \"polar\": {\"angularaxis\": {\"gridcolor\": \"white\", \"linecolor\": \"white\", \"ticks\": \"\"}, \"bgcolor\": \"#E5ECF6\", \"radialaxis\": {\"gridcolor\": \"white\", \"linecolor\": \"white\", \"ticks\": \"\"}}, \"scene\": {\"xaxis\": {\"backgroundcolor\": \"#E5ECF6\", \"gridcolor\": \"white\", \"gridwidth\": 2, \"linecolor\": \"white\", \"showbackground\": true, \"ticks\": \"\", \"zerolinecolor\": \"white\"}, \"yaxis\": {\"backgroundcolor\": \"#E5ECF6\", \"gridcolor\": \"white\", \"gridwidth\": 2, \"linecolor\": \"white\", \"showbackground\": true, \"ticks\": \"\", \"zerolinecolor\": \"white\"}, \"zaxis\": {\"backgroundcolor\": \"#E5ECF6\", \"gridcolor\": \"white\", \"gridwidth\": 2, \"linecolor\": \"white\", \"showbackground\": true, \"ticks\": \"\", \"zerolinecolor\": \"white\"}}, \"shapedefaults\": {\"line\": {\"color\": \"#2a3f5f\"}}, \"ternary\": {\"aaxis\": {\"gridcolor\": \"white\", \"linecolor\": \"white\", \"ticks\": \"\"}, \"baxis\": {\"gridcolor\": \"white\", \"linecolor\": \"white\", \"ticks\": \"\"}, \"bgcolor\": \"#E5ECF6\", \"caxis\": {\"gridcolor\": \"white\", \"linecolor\": \"white\", \"ticks\": \"\"}}, \"title\": {\"x\": 0.05}, \"xaxis\": {\"automargin\": true, \"gridcolor\": \"white\", \"linecolor\": \"white\", \"ticks\": \"\", \"title\": {\"standoff\": 15}, \"zerolinecolor\": \"white\", \"zerolinewidth\": 2}, \"yaxis\": {\"automargin\": true, \"gridcolor\": \"white\", \"linecolor\": \"white\", \"ticks\": \"\", \"title\": {\"standoff\": 15}, \"zerolinecolor\": \"white\", \"zerolinewidth\": 2}}}, \"xaxis\": {\"anchor\": \"y\", \"categoryarray\": [\"Moisturizers\", \"Face Wash & Cleansers\", \"Foundation\", \"Face Serums\", \"Value & Gift Sets\", \"Toners\", \"Mascara\", \"Eye Creams & Treatments\", \"Blemish & Acne Treatments\", \"Makeup Removers\", \"Exfoliators\", \"Eyeliner\", \"Setting Spray & Powder\", \"Face Masks\", \"BB & CC Cream\", \"Lip Balm & Treatment\", \"Blush\", \"Lipstick\", \"Concealer\", \"Perfume\", \"Skincare\", \"Moisturizer & Treatments\", \"Face Sets\", \"Contour\", \"Face Oils\", \"Lip Balms & Treatments\", \"Eyebrow\", \"Face Sunscreen\", \"Mini Size\", \"Eye Cream\", \"Face Wash\", \"Eye Palettes\", \"Mists & Essences\", \"Body Lotions & Body Oils\", \"For Face\", \"Makeup\", \"Bronzer\", \"Lip Gloss\", \"Lip Liner\", \"Highlighter\", \"Eyeshadow\", \"Aftershave\", \"Scrub & Exfoliants\", \"Facial Cleansing Brushes\", \"Face Primer\", \"Cologne\", \"Perfume Gift Sets\", \"Decollete & Neck Creams\", \"Tinted Moisturizer\", \"Rollerballs & Travel Size\", \"Skincare Sets\", \"Night Creams\", \"Self Tanners\", \"Deodorant & Antiperspirant\", \"Shaving\", \"Color Correct\"], \"categoryorder\": \"array\", \"domain\": [0.0, 1.0], \"title\": {\"text\": \"category\"}}, \"yaxis\": {\"anchor\": \"x\", \"domain\": [0.0, 1.0], \"title\": {\"text\": \"number_of_reviews\"}}},                        {\"responsive\": true}                    ).then(function(){\n",
       "                            \n",
       "var gd = document.getElementById('0afe8582-d73c-4b47-976a-9e0a3fc0a496');\n",
       "var x = new MutationObserver(function (mutations, observer) {{\n",
       "        var display = window.getComputedStyle(gd).display;\n",
       "        if (!display || display === 'none') {{\n",
       "            console.log([gd, 'removed!']);\n",
       "            Plotly.purge(gd);\n",
       "            observer.disconnect();\n",
       "        }}\n",
       "}});\n",
       "\n",
       "// Listen for the removal of the full notebook cells\n",
       "var notebookContainer = gd.closest('#notebook-container');\n",
       "if (notebookContainer) {{\n",
       "    x.observe(notebookContainer, {childList: true});\n",
       "}}\n",
       "\n",
       "// Listen for the clearing of the current output cell\n",
       "var outputEl = gd.closest('.output');\n",
       "if (outputEl) {{\n",
       "    x.observe(outputEl, {childList: true});\n",
       "}}\n",
       "\n",
       "                        })                };                });            </script>        </div>"
      ]
     },
     "metadata": {},
     "output_type": "display_data"
    }
   ],
   "source": [
    "# barplot count dari brand CLINIQUE\n",
    "brand = top5_brands[1]\n",
    "fig = px.bar(df[df['brand']==brand], x='category' ,y='number_of_reviews', color='category')\n",
    "fig.show()"
   ]
  },
  {
   "cell_type": "code",
   "execution_count": null,
   "id": "wrong-product",
   "metadata": {},
   "outputs": [],
   "source": [
    "# buat juga untuk ke 3 brand lainnya\n",
    "top5_brands"
   ]
  },
  {
   "cell_type": "code",
   "execution_count": null,
   "id": "alive-opera",
   "metadata": {},
   "outputs": [],
   "source": []
  },
  {
   "cell_type": "markdown",
   "id": "julian-starter",
   "metadata": {},
   "source": [
    "### Apakah ada korelasi antara jumlah review dengan, harga sebuah produk ? buatkan tampilan yang sesuai, dan buat untuk masing-masing brand"
   ]
  },
  {
   "cell_type": "code",
   "execution_count": 38,
   "id": "equal-sending",
   "metadata": {},
   "outputs": [
    {
     "name": "stdout",
     "output_type": "stream",
     "text": [
      "<class 'pandas.core.frame.DataFrame'>\n",
      "RangeIndex: 1206 entries, 0 to 1205\n",
      "Data columns (total 22 columns):\n",
      " #   Column                  Non-Null Count  Dtype  \n",
      "---  ------                  --------------  -----  \n",
      " 0   id                      1206 non-null   int64  \n",
      " 1   brand                   1206 non-null   object \n",
      " 2   category                1206 non-null   object \n",
      " 3   name                    1206 non-null   object \n",
      " 4   size                    1206 non-null   object \n",
      " 5   rating                  1206 non-null   float64\n",
      " 6   number_of_reviews       1206 non-null   int64  \n",
      " 7   love                    1206 non-null   int64  \n",
      " 8   price                   1206 non-null   float64\n",
      " 9   value_price             1206 non-null   float64\n",
      " 10  URL                     1206 non-null   object \n",
      " 11  MarketingFlags          1206 non-null   bool   \n",
      " 12  MarketingFlags_content  1206 non-null   object \n",
      " 13  options                 1206 non-null   object \n",
      " 14  details                 1206 non-null   object \n",
      " 15  how_to_use              1206 non-null   object \n",
      " 16  ingredients             1206 non-null   object \n",
      " 17  online_only             1206 non-null   int64  \n",
      " 18  exclusive               1206 non-null   int64  \n",
      " 19  limited_edition         1206 non-null   int64  \n",
      " 20  limited_time_offer      1206 non-null   int64  \n",
      " 21  e                       1206 non-null   int64  \n",
      "dtypes: bool(1), float64(3), int64(8), object(10)\n",
      "memory usage: 199.2+ KB\n"
     ]
    }
   ],
   "source": [
    "# lihat dataframenya ada var apa saja\n",
    "df.info()"
   ]
  },
  {
   "cell_type": "code",
   "execution_count": 40,
   "id": "bronze-reservation",
   "metadata": {
    "scrolled": false
   },
   "outputs": [
    {
     "data": {
      "application/vnd.plotly.v1+json": {
       "config": {
        "plotlyServerURL": "https://plot.ly"
       },
       "data": [
        {
         "hovertemplate": "number_of_reviews=%{x}<br>price=%{y}<extra></extra>",
         "legendgroup": "",
         "marker": {
          "color": "#636efa",
          "symbol": "circle"
         },
         "mode": "markers",
         "name": "",
         "showlegend": false,
         "type": "scattergl",
         "x": [
          1000,
          1000,
          3000,
          2000,
          2000,
          6,
          131,
          1000,
          2000,
          3000,
          2000,
          185,
          1000,
          814,
          3000,
          1000,
          1000,
          948,
          2000,
          964,
          1000,
          1000,
          562,
          547,
          868,
          160,
          674,
          387,
          17,
          1000,
          1000,
          7,
          603,
          397,
          769,
          913,
          758,
          911,
          936,
          331,
          504,
          1,
          328,
          663,
          244,
          2000,
          952,
          612,
          3000,
          363,
          22,
          2,
          1,
          31,
          701,
          1,
          630,
          140,
          776,
          8,
          748,
          213,
          951,
          20,
          3000,
          136,
          24,
          1000,
          6,
          6,
          150,
          206,
          477,
          36,
          285,
          90,
          7,
          4,
          564,
          270,
          133,
          70,
          522,
          276,
          27,
          2,
          874,
          718,
          653,
          14,
          375,
          16,
          124,
          204,
          3000,
          474,
          217,
          14,
          230,
          109,
          31,
          6,
          688,
          39,
          275,
          4,
          23,
          337,
          190,
          1000,
          71,
          3,
          160,
          45,
          262,
          435,
          228,
          1000,
          26,
          44,
          39,
          39,
          453,
          159,
          73,
          31,
          66,
          14,
          263,
          241,
          248,
          59,
          109,
          109,
          0,
          0,
          260,
          277,
          576,
          219,
          1000,
          470,
          57,
          4,
          134,
          271,
          36,
          227,
          3,
          133,
          578,
          5,
          8,
          41,
          17,
          274,
          19,
          0,
          118,
          15,
          142,
          17,
          47,
          88,
          62,
          47,
          171,
          0,
          756,
          374,
          15,
          94,
          78,
          0,
          9,
          28,
          35,
          85,
          154,
          0,
          88,
          25,
          2,
          13,
          1,
          7,
          45,
          37,
          0,
          214,
          0,
          18,
          2,
          19,
          12,
          50,
          33,
          178,
          300,
          52,
          404,
          0,
          22,
          5,
          42,
          66,
          187,
          0,
          3,
          227,
          19,
          35,
          248,
          35,
          5,
          28,
          32,
          35,
          7,
          14,
          107,
          0,
          37,
          2,
          0,
          286,
          0,
          0,
          35,
          60,
          167,
          402,
          0,
          3,
          4000,
          3000,
          185,
          346,
          1000,
          1000,
          989,
          926,
          79,
          720,
          1000,
          959,
          153,
          1000,
          102,
          982,
          635,
          13,
          2000,
          687,
          301,
          2,
          26,
          2000,
          6,
          473,
          197,
          431,
          697,
          110,
          46,
          167,
          174,
          9,
          149,
          30,
          54,
          28,
          31,
          113,
          3000,
          435,
          39,
          89,
          14,
          6,
          25,
          39,
          86,
          187,
          41,
          526,
          397,
          18,
          10,
          155,
          1000,
          27,
          28,
          2,
          47,
          12,
          0,
          42,
          1000,
          143,
          36,
          0,
          9,
          70,
          156,
          1,
          3,
          98,
          0,
          86,
          755,
          18,
          10,
          40,
          27,
          20,
          143,
          95,
          66,
          94,
          26,
          5,
          95,
          14,
          27,
          265,
          17,
          16,
          14,
          23,
          25,
          33,
          48,
          68,
          17,
          6,
          1,
          10,
          0,
          31,
          20,
          12,
          10,
          40,
          6,
          6,
          62,
          22,
          7,
          26,
          7,
          0,
          24,
          6,
          30,
          3,
          52,
          7,
          18,
          18,
          0,
          28,
          3,
          42,
          62,
          5,
          6,
          42,
          3,
          0,
          6,
          31,
          8,
          16,
          4,
          2,
          6,
          99,
          0,
          3000,
          1000,
          6000,
          356,
          3000,
          1000,
          9000,
          3000,
          81,
          115,
          404,
          256,
          2000,
          785,
          827,
          87,
          1000,
          2000,
          1000,
          262,
          515,
          89,
          137,
          28,
          102,
          596,
          65,
          839,
          956,
          3000,
          2000,
          173,
          7,
          408,
          203,
          310,
          74,
          132,
          19,
          14,
          70,
          0,
          447,
          98,
          2000,
          493,
          810,
          58,
          2000,
          555,
          48,
          46,
          3000,
          29,
          17,
          62,
          131,
          984,
          59,
          969,
          889,
          378,
          444,
          31,
          401,
          394,
          529,
          255,
          168,
          115,
          128,
          831,
          2000,
          637,
          3000,
          581,
          272,
          0,
          17,
          1000,
          30,
          20,
          44,
          4,
          10,
          291,
          13,
          93,
          6,
          76,
          361,
          7,
          163,
          2000,
          5,
          143,
          892,
          169,
          473,
          2,
          1000,
          86,
          71,
          2000,
          17,
          26,
          239,
          28,
          1,
          26,
          15,
          62,
          234,
          52,
          191,
          178,
          12,
          570,
          79,
          54,
          852,
          212,
          538,
          9,
          105,
          100,
          896,
          164,
          1000,
          42,
          22,
          2,
          62,
          175,
          190,
          9,
          170,
          0,
          98,
          112,
          28,
          8,
          2,
          84,
          20,
          98,
          14,
          355,
          17,
          89,
          207,
          176,
          56,
          496,
          42,
          1000,
          130,
          17,
          14,
          2,
          11,
          1000,
          86,
          196,
          2,
          1000,
          40,
          11,
          65,
          0,
          1000,
          343,
          4,
          46,
          34,
          12,
          9,
          301,
          128,
          81,
          25,
          61,
          321,
          2000,
          8,
          17,
          1,
          478,
          112,
          1,
          831,
          7,
          269,
          398,
          276,
          14,
          0,
          99,
          987,
          27,
          232,
          513,
          495,
          22,
          16,
          17,
          20,
          5,
          72,
          845,
          143,
          51,
          31,
          19,
          94,
          40,
          408,
          17,
          43,
          33,
          75,
          7,
          81,
          217,
          560,
          108,
          16,
          48,
          5,
          31,
          19,
          22,
          54,
          13,
          51,
          733,
          2,
          165,
          40,
          75,
          9,
          20,
          3,
          103,
          1000,
          308,
          28,
          16,
          39,
          26,
          90,
          24,
          492,
          1,
          85,
          41,
          339,
          10,
          4,
          93,
          16,
          53,
          12,
          244,
          25,
          0,
          12,
          13,
          315,
          31,
          26,
          60,
          68,
          1,
          210,
          12,
          26,
          21,
          5,
          265,
          43,
          10,
          679,
          26,
          40,
          187,
          35,
          91,
          2,
          23,
          32,
          17,
          65,
          28,
          14,
          7,
          1000,
          16,
          5000,
          3000,
          3000,
          3000,
          6000,
          225,
          1000,
          180,
          1000,
          694,
          1000,
          991,
          1000,
          22,
          15,
          1000,
          417,
          263,
          1000,
          1000,
          982,
          2000,
          618,
          335,
          3,
          209,
          17,
          2000,
          813,
          859,
          1000,
          412,
          1000,
          948,
          30,
          852,
          1000,
          173,
          576,
          117,
          608,
          1000,
          1000,
          524,
          10,
          6000,
          357,
          1000,
          756,
          392,
          241,
          56,
          856,
          25,
          3,
          1000,
          268,
          157,
          199,
          161,
          4,
          1000,
          48,
          93,
          5,
          505,
          1000,
          703,
          17,
          18,
          195,
          5,
          634,
          44,
          127,
          438,
          0,
          17,
          1000,
          110,
          174,
          18,
          20,
          86,
          15,
          275,
          39,
          1000,
          1000,
          2,
          8,
          1000,
          10,
          7,
          89,
          182,
          1,
          402,
          364,
          330,
          929,
          50,
          1,
          27,
          89,
          6,
          532,
          4,
          89,
          106,
          169,
          52,
          142,
          33,
          25,
          2000,
          103,
          1000,
          359,
          249,
          453,
          32,
          7,
          11,
          589,
          351,
          20,
          20,
          18,
          3,
          48,
          40,
          712,
          29,
          3,
          7,
          291,
          3,
          18,
          1,
          1,
          127,
          64,
          52,
          3,
          4,
          2,
          30,
          5,
          3,
          13,
          8,
          7,
          151,
          10,
          29,
          22,
          8,
          24,
          21,
          170,
          316,
          51,
          2,
          15,
          26,
          3,
          77,
          132,
          132,
          340,
          87,
          132,
          24,
          94,
          1000,
          161,
          126,
          327,
          30,
          228,
          20,
          223,
          93,
          60,
          17,
          15,
          118,
          140,
          25,
          287,
          41,
          167,
          60,
          23,
          271,
          79,
          20,
          22,
          30,
          27,
          28,
          25,
          74,
          65,
          21,
          38,
          11,
          171,
          34,
          25,
          5,
          20,
          62,
          19,
          1,
          81,
          34,
          5,
          7,
          3,
          21,
          187,
          14,
          17,
          111,
          200,
          24,
          25,
          1,
          32,
          19,
          7,
          34,
          16,
          9,
          14,
          13,
          38,
          8,
          18,
          32,
          29,
          9,
          8,
          24,
          18,
          36,
          6,
          27,
          0,
          85,
          9,
          84,
          32,
          7,
          22,
          0,
          2,
          11,
          2,
          14,
          7,
          37,
          16,
          0,
          9,
          8,
          9,
          18,
          31,
          19,
          5,
          7,
          0,
          5,
          53,
          11,
          4,
          17,
          25,
          17,
          12,
          2,
          13,
          2,
          10,
          1,
          7,
          2,
          43,
          3,
          1,
          5,
          15,
          4,
          6,
          3,
          2,
          2,
          1,
          1,
          26,
          4,
          16,
          4,
          14,
          23,
          0,
          6,
          4,
          3,
          3,
          9,
          2,
          3,
          1,
          7,
          2,
          1,
          6,
          12,
          5,
          23,
          9,
          2,
          3,
          0,
          0,
          12,
          0,
          1,
          9,
          61,
          70,
          16,
          42,
          0,
          9,
          0,
          13,
          114,
          0,
          297,
          4,
          23,
          687,
          1,
          4,
          3,
          147,
          57,
          8,
          12,
          57,
          223,
          12,
          7,
          149,
          0,
          38,
          11,
          59,
          0,
          337,
          1,
          72,
          19,
          25,
          88,
          17,
          89,
          3,
          12,
          16,
          65,
          45,
          5,
          30,
          61,
          6,
          242,
          7,
          18,
          16,
          35,
          73,
          0,
          38,
          0,
          102,
          29,
          22,
          7,
          157,
          18,
          43,
          65,
          50,
          0,
          86,
          54,
          0,
          0,
          5,
          26,
          70,
          9,
          22,
          1,
          0,
          23,
          134,
          10,
          11,
          64,
          6,
          0,
          273,
          205,
          37,
          123,
          636,
          1,
          3,
          1,
          101,
          110,
          19,
          49,
          0,
          7,
          16,
          11,
          19,
          0,
          1,
          101,
          30,
          47,
          1,
          60,
          19,
          1,
          0,
          22,
          26,
          9,
          103,
          2,
          100,
          271,
          0,
          72,
          0,
          0,
          19,
          72,
          42,
          33,
          4,
          7,
          289,
          56,
          5,
          0,
          0,
          146,
          183,
          0,
          14,
          54,
          12,
          23,
          4,
          18,
          18,
          67,
          239,
          1,
          17,
          82,
          12,
          25,
          44,
          619,
          23,
          17,
          208,
          73,
          19,
          39,
          20,
          20,
          3,
          56,
          127,
          65,
          57,
          146,
          334,
          34,
          22,
          328,
          34,
          116,
          25,
          44,
          32,
          1000,
          166,
          31,
          163,
          357,
          596,
          156,
          6,
          81,
          83,
          22,
          32,
          11,
          62,
          39,
          15,
          0,
          0,
          46,
          0
         ],
         "xaxis": "x",
         "y": [
          39.5,
          28,
          28,
          18.5,
          29.5,
          84,
          28,
          17,
          19.5,
          30,
          29.5,
          39,
          33,
          27,
          19.5,
          28.5,
          33,
          39.5,
          19.5,
          22,
          29.5,
          23,
          19,
          49.5,
          17,
          28,
          28.5,
          61.5,
          25,
          19,
          28.5,
          31.5,
          28.5,
          36,
          22,
          22,
          39.5,
          28.5,
          17,
          19.5,
          24,
          26,
          42,
          39.5,
          28,
          18.5,
          25,
          28,
          19.5,
          19.5,
          39,
          29,
          39.5,
          58,
          21,
          45,
          53,
          46,
          23,
          30,
          18,
          21,
          27.5,
          32,
          15,
          29,
          58,
          5,
          40,
          18,
          25,
          25,
          28,
          17.5,
          15.5,
          28.5,
          39,
          39,
          18.5,
          46,
          20,
          34,
          19.5,
          24,
          19.5,
          39.5,
          33,
          19.5,
          51.5,
          69,
          15.5,
          53,
          29.5,
          27,
          9.5,
          22,
          39.5,
          39,
          48,
          44.5,
          33,
          31.5,
          19.5,
          14.5,
          25,
          39,
          22,
          40,
          17,
          12,
          48,
          53,
          21,
          29.5,
          26,
          16.5,
          33,
          12,
          29.5,
          29.5,
          66,
          29.5,
          22.5,
          28,
          22,
          55,
          29.5,
          9.5,
          19.5,
          30,
          31,
          8,
          19.5,
          22,
          19.5,
          29.5,
          18.5,
          28.5,
          18.5,
          17,
          18.5,
          27,
          50,
          53,
          47,
          19.5,
          50.5,
          25,
          69,
          32,
          30.5,
          55,
          51,
          22.5,
          19.5,
          22,
          40,
          18,
          28.5,
          58,
          29,
          27,
          16,
          18,
          55.5,
          18,
          30,
          19.5,
          39.5,
          42,
          19.5,
          25,
          52,
          55,
          69,
          30.5,
          17,
          39.5,
          19.5,
          39,
          19.5,
          39.5,
          39.5,
          66,
          19.5,
          19.5,
          28.5,
          21,
          32.5,
          34.5,
          19.5,
          5,
          14.5,
          18.5,
          27,
          28,
          68,
          28.5,
          25,
          21,
          49,
          32.5,
          19,
          35,
          35,
          14.5,
          77,
          39.5,
          14.5,
          17.5,
          32,
          13.5,
          19.5,
          15,
          33,
          16,
          28.5,
          18.5,
          7.5,
          21,
          30,
          19.5,
          18.5,
          14.5,
          29.5,
          19.5,
          39.5,
          29.5,
          28.5,
          19.5,
          26.5,
          50,
          40,
          51,
          34,
          62,
          49,
          77,
          40,
          29.5,
          52,
          52,
          95,
          29.5,
          34,
          36,
          34,
          29,
          95,
          105,
          85,
          30,
          29.5,
          45,
          38,
          29.5,
          34,
          29.5,
          38,
          52,
          105,
          54,
          85,
          38,
          165,
          150,
          29.5,
          150,
          82,
          37,
          45,
          107,
          107,
          36,
          29.5,
          48,
          50,
          62,
          95,
          95,
          69,
          100,
          30.5,
          38,
          38,
          30,
          30,
          38,
          95,
          135,
          155,
          38,
          44,
          48,
          95,
          25,
          129,
          38,
          29.5,
          100,
          175,
          149,
          75,
          69,
          34,
          105,
          95,
          85,
          105,
          38,
          29.5,
          27,
          155,
          49.5,
          40,
          72,
          105,
          46,
          43,
          85,
          73,
          29.5,
          75,
          105,
          79,
          105,
          95,
          29,
          125,
          55,
          42,
          75,
          52,
          75,
          140,
          55,
          57,
          43,
          45,
          34,
          75,
          79,
          49,
          57,
          59,
          95,
          135,
          55,
          65,
          43,
          38,
          48,
          26,
          60,
          105,
          60,
          29.5,
          59,
          45,
          43,
          25,
          69,
          62,
          43,
          33,
          140,
          95,
          62,
          85,
          55,
          25,
          69,
          95,
          128,
          140,
          79,
          40,
          69,
          149,
          8,
          6,
          13,
          70,
          20,
          20,
          15,
          12,
          8,
          8,
          20,
          8,
          11,
          10,
          5,
          58,
          9,
          14,
          22,
          14,
          17,
          45,
          6,
          16,
          6,
          20,
          68,
          14,
          5,
          12,
          7,
          69,
          3,
          9,
          5,
          10,
          6,
          40,
          25,
          10,
          8,
          20,
          17,
          42,
          9,
          17,
          13,
          26,
          28,
          12,
          8,
          6,
          11,
          60,
          6,
          17,
          20,
          8,
          15,
          19,
          20,
          16,
          12,
          5,
          10,
          5,
          5,
          68,
          20,
          12,
          16,
          14,
          14,
          9,
          12,
          12,
          16,
          50,
          6,
          12,
          68,
          8,
          10,
          3,
          32,
          8,
          14,
          45,
          10,
          28,
          14,
          8,
          5,
          15,
          18,
          17,
          8,
          14,
          15,
          10,
          18,
          60,
          4,
          7,
          18,
          20,
          18,
          10,
          5,
          5,
          6,
          6,
          20,
          10,
          6,
          20,
          14,
          6,
          8,
          15,
          9,
          9,
          29,
          8,
          10,
          14,
          14,
          30,
          30,
          14,
          14,
          34,
          34,
          5,
          8,
          18,
          9,
          8,
          8,
          6,
          12,
          28,
          9,
          16,
          36,
          9,
          12,
          15,
          18,
          20,
          14,
          45,
          34,
          14,
          6,
          12,
          8,
          6,
          6,
          8,
          20,
          6,
          6,
          3,
          8,
          12,
          68,
          15,
          15,
          50,
          15,
          14,
          9,
          6,
          55,
          14,
          8,
          30,
          10,
          10,
          20,
          8,
          14,
          14,
          16,
          34,
          8,
          10,
          10,
          42,
          18,
          15,
          30,
          17,
          15,
          16,
          50,
          30,
          22,
          14,
          40,
          18,
          23,
          8,
          34,
          12,
          36,
          4,
          16,
          17,
          16,
          12,
          10,
          17,
          10,
          24,
          68,
          17,
          22,
          12,
          9,
          30,
          22,
          19,
          16,
          10,
          28,
          16,
          15,
          40,
          12,
          14,
          7,
          8,
          10,
          3,
          14,
          15,
          12,
          52,
          8,
          8,
          18,
          30,
          3.5,
          6,
          13,
          20,
          9,
          16,
          12,
          30,
          15,
          14,
          20,
          16,
          10,
          59,
          8,
          12,
          10,
          12,
          8,
          28,
          12,
          14,
          5,
          20,
          12,
          12,
          15,
          32,
          12,
          20,
          29,
          17,
          6,
          49,
          25,
          16,
          6,
          8,
          30,
          8,
          10,
          16,
          18,
          14,
          15,
          12,
          8,
          110,
          105,
          12,
          10,
          22,
          26,
          29,
          29,
          39,
          39,
          37,
          23,
          23,
          19,
          10,
          34,
          39,
          39,
          24,
          36,
          29,
          26,
          23,
          39,
          22,
          21,
          26,
          30,
          39,
          39,
          22,
          34,
          28,
          15,
          48,
          39,
          45,
          18,
          22,
          23,
          34,
          14,
          38,
          25,
          20,
          19,
          39,
          25,
          25,
          23,
          20,
          15,
          39,
          19,
          19,
          39,
          12,
          23,
          12,
          21,
          14,
          23,
          33,
          42,
          20,
          45,
          32,
          29,
          30,
          39,
          12,
          11,
          29,
          29,
          32,
          29,
          29,
          39,
          12,
          29,
          15,
          12,
          28,
          28,
          16,
          12,
          44,
          9,
          24,
          24,
          18,
          19,
          24,
          19,
          24,
          49,
          28,
          40,
          20,
          19,
          14,
          28,
          39,
          12,
          12,
          22,
          32,
          22,
          18,
          39,
          28,
          42,
          15,
          19,
          15,
          22,
          24,
          16,
          14,
          49,
          15,
          21,
          20,
          19,
          21,
          19,
          35,
          14,
          16,
          32,
          17,
          32,
          36,
          25,
          19,
          12,
          14,
          12,
          39,
          23,
          16,
          140,
          12,
          20,
          16,
          14,
          14,
          19,
          24,
          28,
          24,
          17,
          19,
          9,
          30,
          35,
          24,
          12,
          25,
          12,
          29,
          14,
          25,
          21,
          12,
          35,
          25,
          25,
          18,
          19,
          105,
          30,
          42,
          20,
          30,
          100,
          34,
          88,
          240,
          240,
          55,
          335,
          128,
          240,
          88,
          55,
          55,
          88,
          335,
          240,
          128,
          335,
          240,
          72,
          90,
          36,
          112,
          59,
          63,
          62,
          180,
          240,
          128,
          46,
          57,
          60,
          240,
          60,
          88,
          54,
          55,
          46,
          55,
          60,
          240,
          195,
          240,
          49,
          54,
          55,
          128,
          49,
          60,
          128,
          240,
          50,
          132,
          92,
          54,
          128,
          60,
          115,
          46,
          128,
          88,
          75,
          128,
          240,
          55,
          128,
          55,
          46,
          44,
          60,
          49,
          55,
          240,
          70,
          70,
          240,
          36,
          240,
          60,
          128,
          88,
          60,
          70,
          60,
          110,
          240,
          54,
          84,
          70,
          325,
          240,
          180,
          49,
          49,
          46,
          100,
          60,
          335,
          128,
          40,
          240,
          53,
          240,
          46,
          240,
          47,
          70,
          98,
          112,
          110,
          240,
          70,
          29,
          57,
          240,
          68,
          54,
          53,
          56,
          78,
          49,
          70,
          70,
          75,
          70,
          155,
          70,
          88,
          240,
          235,
          52,
          180,
          70,
          70,
          67,
          240,
          55,
          125,
          60,
          70,
          55,
          65,
          49,
          47,
          70,
          36,
          70,
          59,
          49,
          70,
          240,
          335,
          335,
          55,
          97,
          122,
          38,
          38,
          78,
          70,
          72,
          53,
          30,
          15,
          8,
          12,
          20,
          30,
          8,
          10,
          16,
          25,
          20,
          12,
          85,
          20,
          14,
          45,
          40,
          3,
          10,
          16,
          8,
          9,
          30,
          55,
          22,
          16,
          18,
          24,
          40,
          29,
          30,
          8,
          18,
          6,
          9,
          10,
          30,
          12,
          7,
          26,
          3,
          16,
          14,
          5,
          8,
          8,
          34,
          15,
          10,
          75,
          20,
          17,
          6,
          8,
          12,
          35,
          14,
          12,
          22,
          16,
          20,
          14,
          100,
          8,
          12,
          14,
          25,
          24,
          26,
          3,
          8,
          14,
          20,
          30,
          14,
          5,
          15,
          60,
          10,
          10,
          10,
          8,
          12,
          8,
          24,
          17,
          12,
          18,
          16,
          4.95,
          14,
          9,
          12,
          10,
          14,
          25,
          20,
          10,
          8,
          14,
          20,
          20,
          16,
          8,
          5,
          20,
          8,
          20,
          32,
          25,
          11,
          38,
          7,
          7,
          7,
          30,
          10,
          12,
          12,
          8,
          7,
          36,
          36,
          20,
          12,
          7,
          12,
          28,
          22,
          32,
          30,
          16,
          12,
          28,
          17,
          6,
          7,
          20,
          34,
          34,
          7,
          3,
          24,
          12,
          12,
          20,
          28,
          18,
          8,
          32,
          20,
          14,
          5,
          9,
          20,
          34,
          6,
          35,
          12,
          32,
          7,
          14,
          14,
          6,
          20,
          12,
          32,
          7,
          9,
          24,
          14,
          12.5,
          10,
          6,
          4,
          13,
          16,
          28,
          54,
          18,
          20,
          62,
          24,
          17,
          15,
          16,
          10,
          17,
          25,
          39,
          12,
          12,
          2,
          49,
          8,
          6,
          15,
          16,
          50,
          50
         ],
         "yaxis": "y"
        }
       ],
       "layout": {
        "legend": {
         "tracegroupgap": 0
        },
        "margin": {
         "t": 60
        },
        "template": {
         "data": {
          "bar": [
           {
            "error_x": {
             "color": "#2a3f5f"
            },
            "error_y": {
             "color": "#2a3f5f"
            },
            "marker": {
             "line": {
              "color": "#E5ECF6",
              "width": 0.5
             }
            },
            "type": "bar"
           }
          ],
          "barpolar": [
           {
            "marker": {
             "line": {
              "color": "#E5ECF6",
              "width": 0.5
             }
            },
            "type": "barpolar"
           }
          ],
          "carpet": [
           {
            "aaxis": {
             "endlinecolor": "#2a3f5f",
             "gridcolor": "white",
             "linecolor": "white",
             "minorgridcolor": "white",
             "startlinecolor": "#2a3f5f"
            },
            "baxis": {
             "endlinecolor": "#2a3f5f",
             "gridcolor": "white",
             "linecolor": "white",
             "minorgridcolor": "white",
             "startlinecolor": "#2a3f5f"
            },
            "type": "carpet"
           }
          ],
          "choropleth": [
           {
            "colorbar": {
             "outlinewidth": 0,
             "ticks": ""
            },
            "type": "choropleth"
           }
          ],
          "contour": [
           {
            "colorbar": {
             "outlinewidth": 0,
             "ticks": ""
            },
            "colorscale": [
             [
              0,
              "#0d0887"
             ],
             [
              0.1111111111111111,
              "#46039f"
             ],
             [
              0.2222222222222222,
              "#7201a8"
             ],
             [
              0.3333333333333333,
              "#9c179e"
             ],
             [
              0.4444444444444444,
              "#bd3786"
             ],
             [
              0.5555555555555556,
              "#d8576b"
             ],
             [
              0.6666666666666666,
              "#ed7953"
             ],
             [
              0.7777777777777778,
              "#fb9f3a"
             ],
             [
              0.8888888888888888,
              "#fdca26"
             ],
             [
              1,
              "#f0f921"
             ]
            ],
            "type": "contour"
           }
          ],
          "contourcarpet": [
           {
            "colorbar": {
             "outlinewidth": 0,
             "ticks": ""
            },
            "type": "contourcarpet"
           }
          ],
          "heatmap": [
           {
            "colorbar": {
             "outlinewidth": 0,
             "ticks": ""
            },
            "colorscale": [
             [
              0,
              "#0d0887"
             ],
             [
              0.1111111111111111,
              "#46039f"
             ],
             [
              0.2222222222222222,
              "#7201a8"
             ],
             [
              0.3333333333333333,
              "#9c179e"
             ],
             [
              0.4444444444444444,
              "#bd3786"
             ],
             [
              0.5555555555555556,
              "#d8576b"
             ],
             [
              0.6666666666666666,
              "#ed7953"
             ],
             [
              0.7777777777777778,
              "#fb9f3a"
             ],
             [
              0.8888888888888888,
              "#fdca26"
             ],
             [
              1,
              "#f0f921"
             ]
            ],
            "type": "heatmap"
           }
          ],
          "heatmapgl": [
           {
            "colorbar": {
             "outlinewidth": 0,
             "ticks": ""
            },
            "colorscale": [
             [
              0,
              "#0d0887"
             ],
             [
              0.1111111111111111,
              "#46039f"
             ],
             [
              0.2222222222222222,
              "#7201a8"
             ],
             [
              0.3333333333333333,
              "#9c179e"
             ],
             [
              0.4444444444444444,
              "#bd3786"
             ],
             [
              0.5555555555555556,
              "#d8576b"
             ],
             [
              0.6666666666666666,
              "#ed7953"
             ],
             [
              0.7777777777777778,
              "#fb9f3a"
             ],
             [
              0.8888888888888888,
              "#fdca26"
             ],
             [
              1,
              "#f0f921"
             ]
            ],
            "type": "heatmapgl"
           }
          ],
          "histogram": [
           {
            "marker": {
             "colorbar": {
              "outlinewidth": 0,
              "ticks": ""
             }
            },
            "type": "histogram"
           }
          ],
          "histogram2d": [
           {
            "colorbar": {
             "outlinewidth": 0,
             "ticks": ""
            },
            "colorscale": [
             [
              0,
              "#0d0887"
             ],
             [
              0.1111111111111111,
              "#46039f"
             ],
             [
              0.2222222222222222,
              "#7201a8"
             ],
             [
              0.3333333333333333,
              "#9c179e"
             ],
             [
              0.4444444444444444,
              "#bd3786"
             ],
             [
              0.5555555555555556,
              "#d8576b"
             ],
             [
              0.6666666666666666,
              "#ed7953"
             ],
             [
              0.7777777777777778,
              "#fb9f3a"
             ],
             [
              0.8888888888888888,
              "#fdca26"
             ],
             [
              1,
              "#f0f921"
             ]
            ],
            "type": "histogram2d"
           }
          ],
          "histogram2dcontour": [
           {
            "colorbar": {
             "outlinewidth": 0,
             "ticks": ""
            },
            "colorscale": [
             [
              0,
              "#0d0887"
             ],
             [
              0.1111111111111111,
              "#46039f"
             ],
             [
              0.2222222222222222,
              "#7201a8"
             ],
             [
              0.3333333333333333,
              "#9c179e"
             ],
             [
              0.4444444444444444,
              "#bd3786"
             ],
             [
              0.5555555555555556,
              "#d8576b"
             ],
             [
              0.6666666666666666,
              "#ed7953"
             ],
             [
              0.7777777777777778,
              "#fb9f3a"
             ],
             [
              0.8888888888888888,
              "#fdca26"
             ],
             [
              1,
              "#f0f921"
             ]
            ],
            "type": "histogram2dcontour"
           }
          ],
          "mesh3d": [
           {
            "colorbar": {
             "outlinewidth": 0,
             "ticks": ""
            },
            "type": "mesh3d"
           }
          ],
          "parcoords": [
           {
            "line": {
             "colorbar": {
              "outlinewidth": 0,
              "ticks": ""
             }
            },
            "type": "parcoords"
           }
          ],
          "pie": [
           {
            "automargin": true,
            "type": "pie"
           }
          ],
          "scatter": [
           {
            "marker": {
             "colorbar": {
              "outlinewidth": 0,
              "ticks": ""
             }
            },
            "type": "scatter"
           }
          ],
          "scatter3d": [
           {
            "line": {
             "colorbar": {
              "outlinewidth": 0,
              "ticks": ""
             }
            },
            "marker": {
             "colorbar": {
              "outlinewidth": 0,
              "ticks": ""
             }
            },
            "type": "scatter3d"
           }
          ],
          "scattercarpet": [
           {
            "marker": {
             "colorbar": {
              "outlinewidth": 0,
              "ticks": ""
             }
            },
            "type": "scattercarpet"
           }
          ],
          "scattergeo": [
           {
            "marker": {
             "colorbar": {
              "outlinewidth": 0,
              "ticks": ""
             }
            },
            "type": "scattergeo"
           }
          ],
          "scattergl": [
           {
            "marker": {
             "colorbar": {
              "outlinewidth": 0,
              "ticks": ""
             }
            },
            "type": "scattergl"
           }
          ],
          "scattermapbox": [
           {
            "marker": {
             "colorbar": {
              "outlinewidth": 0,
              "ticks": ""
             }
            },
            "type": "scattermapbox"
           }
          ],
          "scatterpolar": [
           {
            "marker": {
             "colorbar": {
              "outlinewidth": 0,
              "ticks": ""
             }
            },
            "type": "scatterpolar"
           }
          ],
          "scatterpolargl": [
           {
            "marker": {
             "colorbar": {
              "outlinewidth": 0,
              "ticks": ""
             }
            },
            "type": "scatterpolargl"
           }
          ],
          "scatterternary": [
           {
            "marker": {
             "colorbar": {
              "outlinewidth": 0,
              "ticks": ""
             }
            },
            "type": "scatterternary"
           }
          ],
          "surface": [
           {
            "colorbar": {
             "outlinewidth": 0,
             "ticks": ""
            },
            "colorscale": [
             [
              0,
              "#0d0887"
             ],
             [
              0.1111111111111111,
              "#46039f"
             ],
             [
              0.2222222222222222,
              "#7201a8"
             ],
             [
              0.3333333333333333,
              "#9c179e"
             ],
             [
              0.4444444444444444,
              "#bd3786"
             ],
             [
              0.5555555555555556,
              "#d8576b"
             ],
             [
              0.6666666666666666,
              "#ed7953"
             ],
             [
              0.7777777777777778,
              "#fb9f3a"
             ],
             [
              0.8888888888888888,
              "#fdca26"
             ],
             [
              1,
              "#f0f921"
             ]
            ],
            "type": "surface"
           }
          ],
          "table": [
           {
            "cells": {
             "fill": {
              "color": "#EBF0F8"
             },
             "line": {
              "color": "white"
             }
            },
            "header": {
             "fill": {
              "color": "#C8D4E3"
             },
             "line": {
              "color": "white"
             }
            },
            "type": "table"
           }
          ]
         },
         "layout": {
          "annotationdefaults": {
           "arrowcolor": "#2a3f5f",
           "arrowhead": 0,
           "arrowwidth": 1
          },
          "autotypenumbers": "strict",
          "coloraxis": {
           "colorbar": {
            "outlinewidth": 0,
            "ticks": ""
           }
          },
          "colorscale": {
           "diverging": [
            [
             0,
             "#8e0152"
            ],
            [
             0.1,
             "#c51b7d"
            ],
            [
             0.2,
             "#de77ae"
            ],
            [
             0.3,
             "#f1b6da"
            ],
            [
             0.4,
             "#fde0ef"
            ],
            [
             0.5,
             "#f7f7f7"
            ],
            [
             0.6,
             "#e6f5d0"
            ],
            [
             0.7,
             "#b8e186"
            ],
            [
             0.8,
             "#7fbc41"
            ],
            [
             0.9,
             "#4d9221"
            ],
            [
             1,
             "#276419"
            ]
           ],
           "sequential": [
            [
             0,
             "#0d0887"
            ],
            [
             0.1111111111111111,
             "#46039f"
            ],
            [
             0.2222222222222222,
             "#7201a8"
            ],
            [
             0.3333333333333333,
             "#9c179e"
            ],
            [
             0.4444444444444444,
             "#bd3786"
            ],
            [
             0.5555555555555556,
             "#d8576b"
            ],
            [
             0.6666666666666666,
             "#ed7953"
            ],
            [
             0.7777777777777778,
             "#fb9f3a"
            ],
            [
             0.8888888888888888,
             "#fdca26"
            ],
            [
             1,
             "#f0f921"
            ]
           ],
           "sequentialminus": [
            [
             0,
             "#0d0887"
            ],
            [
             0.1111111111111111,
             "#46039f"
            ],
            [
             0.2222222222222222,
             "#7201a8"
            ],
            [
             0.3333333333333333,
             "#9c179e"
            ],
            [
             0.4444444444444444,
             "#bd3786"
            ],
            [
             0.5555555555555556,
             "#d8576b"
            ],
            [
             0.6666666666666666,
             "#ed7953"
            ],
            [
             0.7777777777777778,
             "#fb9f3a"
            ],
            [
             0.8888888888888888,
             "#fdca26"
            ],
            [
             1,
             "#f0f921"
            ]
           ]
          },
          "colorway": [
           "#636efa",
           "#EF553B",
           "#00cc96",
           "#ab63fa",
           "#FFA15A",
           "#19d3f3",
           "#FF6692",
           "#B6E880",
           "#FF97FF",
           "#FECB52"
          ],
          "font": {
           "color": "#2a3f5f"
          },
          "geo": {
           "bgcolor": "white",
           "lakecolor": "white",
           "landcolor": "#E5ECF6",
           "showlakes": true,
           "showland": true,
           "subunitcolor": "white"
          },
          "hoverlabel": {
           "align": "left"
          },
          "hovermode": "closest",
          "mapbox": {
           "style": "light"
          },
          "paper_bgcolor": "white",
          "plot_bgcolor": "#E5ECF6",
          "polar": {
           "angularaxis": {
            "gridcolor": "white",
            "linecolor": "white",
            "ticks": ""
           },
           "bgcolor": "#E5ECF6",
           "radialaxis": {
            "gridcolor": "white",
            "linecolor": "white",
            "ticks": ""
           }
          },
          "scene": {
           "xaxis": {
            "backgroundcolor": "#E5ECF6",
            "gridcolor": "white",
            "gridwidth": 2,
            "linecolor": "white",
            "showbackground": true,
            "ticks": "",
            "zerolinecolor": "white"
           },
           "yaxis": {
            "backgroundcolor": "#E5ECF6",
            "gridcolor": "white",
            "gridwidth": 2,
            "linecolor": "white",
            "showbackground": true,
            "ticks": "",
            "zerolinecolor": "white"
           },
           "zaxis": {
            "backgroundcolor": "#E5ECF6",
            "gridcolor": "white",
            "gridwidth": 2,
            "linecolor": "white",
            "showbackground": true,
            "ticks": "",
            "zerolinecolor": "white"
           }
          },
          "shapedefaults": {
           "line": {
            "color": "#2a3f5f"
           }
          },
          "ternary": {
           "aaxis": {
            "gridcolor": "white",
            "linecolor": "white",
            "ticks": ""
           },
           "baxis": {
            "gridcolor": "white",
            "linecolor": "white",
            "ticks": ""
           },
           "bgcolor": "#E5ECF6",
           "caxis": {
            "gridcolor": "white",
            "linecolor": "white",
            "ticks": ""
           }
          },
          "title": {
           "x": 0.05
          },
          "xaxis": {
           "automargin": true,
           "gridcolor": "white",
           "linecolor": "white",
           "ticks": "",
           "title": {
            "standoff": 15
           },
           "zerolinecolor": "white",
           "zerolinewidth": 2
          },
          "yaxis": {
           "automargin": true,
           "gridcolor": "white",
           "linecolor": "white",
           "ticks": "",
           "title": {
            "standoff": 15
           },
           "zerolinecolor": "white",
           "zerolinewidth": 2
          }
         }
        },
        "xaxis": {
         "anchor": "y",
         "domain": [
          0,
          1
         ],
         "title": {
          "text": "number_of_reviews"
         }
        },
        "yaxis": {
         "anchor": "x",
         "domain": [
          0,
          1
         ],
         "title": {
          "text": "price"
         }
        }
       }
      },
      "text/html": [
       "<div>                            <div id=\"534418f7-cb3a-4b6c-951f-f743075a698c\" class=\"plotly-graph-div\" style=\"height:525px; width:100%;\"></div>            <script type=\"text/javascript\">                require([\"plotly\"], function(Plotly) {                    window.PLOTLYENV=window.PLOTLYENV || {};                                    if (document.getElementById(\"534418f7-cb3a-4b6c-951f-f743075a698c\")) {                    Plotly.newPlot(                        \"534418f7-cb3a-4b6c-951f-f743075a698c\",                        [{\"hovertemplate\": \"number_of_reviews=%{x}<br>price=%{y}<extra></extra>\", \"legendgroup\": \"\", \"marker\": {\"color\": \"#636efa\", \"symbol\": \"circle\"}, \"mode\": \"markers\", \"name\": \"\", \"showlegend\": false, \"type\": \"scattergl\", \"x\": [1000, 1000, 3000, 2000, 2000, 6, 131, 1000, 2000, 3000, 2000, 185, 1000, 814, 3000, 1000, 1000, 948, 2000, 964, 1000, 1000, 562, 547, 868, 160, 674, 387, 17, 1000, 1000, 7, 603, 397, 769, 913, 758, 911, 936, 331, 504, 1, 328, 663, 244, 2000, 952, 612, 3000, 363, 22, 2, 1, 31, 701, 1, 630, 140, 776, 8, 748, 213, 951, 20, 3000, 136, 24, 1000, 6, 6, 150, 206, 477, 36, 285, 90, 7, 4, 564, 270, 133, 70, 522, 276, 27, 2, 874, 718, 653, 14, 375, 16, 124, 204, 3000, 474, 217, 14, 230, 109, 31, 6, 688, 39, 275, 4, 23, 337, 190, 1000, 71, 3, 160, 45, 262, 435, 228, 1000, 26, 44, 39, 39, 453, 159, 73, 31, 66, 14, 263, 241, 248, 59, 109, 109, 0, 0, 260, 277, 576, 219, 1000, 470, 57, 4, 134, 271, 36, 227, 3, 133, 578, 5, 8, 41, 17, 274, 19, 0, 118, 15, 142, 17, 47, 88, 62, 47, 171, 0, 756, 374, 15, 94, 78, 0, 9, 28, 35, 85, 154, 0, 88, 25, 2, 13, 1, 7, 45, 37, 0, 214, 0, 18, 2, 19, 12, 50, 33, 178, 300, 52, 404, 0, 22, 5, 42, 66, 187, 0, 3, 227, 19, 35, 248, 35, 5, 28, 32, 35, 7, 14, 107, 0, 37, 2, 0, 286, 0, 0, 35, 60, 167, 402, 0, 3, 4000, 3000, 185, 346, 1000, 1000, 989, 926, 79, 720, 1000, 959, 153, 1000, 102, 982, 635, 13, 2000, 687, 301, 2, 26, 2000, 6, 473, 197, 431, 697, 110, 46, 167, 174, 9, 149, 30, 54, 28, 31, 113, 3000, 435, 39, 89, 14, 6, 25, 39, 86, 187, 41, 526, 397, 18, 10, 155, 1000, 27, 28, 2, 47, 12, 0, 42, 1000, 143, 36, 0, 9, 70, 156, 1, 3, 98, 0, 86, 755, 18, 10, 40, 27, 20, 143, 95, 66, 94, 26, 5, 95, 14, 27, 265, 17, 16, 14, 23, 25, 33, 48, 68, 17, 6, 1, 10, 0, 31, 20, 12, 10, 40, 6, 6, 62, 22, 7, 26, 7, 0, 24, 6, 30, 3, 52, 7, 18, 18, 0, 28, 3, 42, 62, 5, 6, 42, 3, 0, 6, 31, 8, 16, 4, 2, 6, 99, 0, 3000, 1000, 6000, 356, 3000, 1000, 9000, 3000, 81, 115, 404, 256, 2000, 785, 827, 87, 1000, 2000, 1000, 262, 515, 89, 137, 28, 102, 596, 65, 839, 956, 3000, 2000, 173, 7, 408, 203, 310, 74, 132, 19, 14, 70, 0, 447, 98, 2000, 493, 810, 58, 2000, 555, 48, 46, 3000, 29, 17, 62, 131, 984, 59, 969, 889, 378, 444, 31, 401, 394, 529, 255, 168, 115, 128, 831, 2000, 637, 3000, 581, 272, 0, 17, 1000, 30, 20, 44, 4, 10, 291, 13, 93, 6, 76, 361, 7, 163, 2000, 5, 143, 892, 169, 473, 2, 1000, 86, 71, 2000, 17, 26, 239, 28, 1, 26, 15, 62, 234, 52, 191, 178, 12, 570, 79, 54, 852, 212, 538, 9, 105, 100, 896, 164, 1000, 42, 22, 2, 62, 175, 190, 9, 170, 0, 98, 112, 28, 8, 2, 84, 20, 98, 14, 355, 17, 89, 207, 176, 56, 496, 42, 1000, 130, 17, 14, 2, 11, 1000, 86, 196, 2, 1000, 40, 11, 65, 0, 1000, 343, 4, 46, 34, 12, 9, 301, 128, 81, 25, 61, 321, 2000, 8, 17, 1, 478, 112, 1, 831, 7, 269, 398, 276, 14, 0, 99, 987, 27, 232, 513, 495, 22, 16, 17, 20, 5, 72, 845, 143, 51, 31, 19, 94, 40, 408, 17, 43, 33, 75, 7, 81, 217, 560, 108, 16, 48, 5, 31, 19, 22, 54, 13, 51, 733, 2, 165, 40, 75, 9, 20, 3, 103, 1000, 308, 28, 16, 39, 26, 90, 24, 492, 1, 85, 41, 339, 10, 4, 93, 16, 53, 12, 244, 25, 0, 12, 13, 315, 31, 26, 60, 68, 1, 210, 12, 26, 21, 5, 265, 43, 10, 679, 26, 40, 187, 35, 91, 2, 23, 32, 17, 65, 28, 14, 7, 1000, 16, 5000, 3000, 3000, 3000, 6000, 225, 1000, 180, 1000, 694, 1000, 991, 1000, 22, 15, 1000, 417, 263, 1000, 1000, 982, 2000, 618, 335, 3, 209, 17, 2000, 813, 859, 1000, 412, 1000, 948, 30, 852, 1000, 173, 576, 117, 608, 1000, 1000, 524, 10, 6000, 357, 1000, 756, 392, 241, 56, 856, 25, 3, 1000, 268, 157, 199, 161, 4, 1000, 48, 93, 5, 505, 1000, 703, 17, 18, 195, 5, 634, 44, 127, 438, 0, 17, 1000, 110, 174, 18, 20, 86, 15, 275, 39, 1000, 1000, 2, 8, 1000, 10, 7, 89, 182, 1, 402, 364, 330, 929, 50, 1, 27, 89, 6, 532, 4, 89, 106, 169, 52, 142, 33, 25, 2000, 103, 1000, 359, 249, 453, 32, 7, 11, 589, 351, 20, 20, 18, 3, 48, 40, 712, 29, 3, 7, 291, 3, 18, 1, 1, 127, 64, 52, 3, 4, 2, 30, 5, 3, 13, 8, 7, 151, 10, 29, 22, 8, 24, 21, 170, 316, 51, 2, 15, 26, 3, 77, 132, 132, 340, 87, 132, 24, 94, 1000, 161, 126, 327, 30, 228, 20, 223, 93, 60, 17, 15, 118, 140, 25, 287, 41, 167, 60, 23, 271, 79, 20, 22, 30, 27, 28, 25, 74, 65, 21, 38, 11, 171, 34, 25, 5, 20, 62, 19, 1, 81, 34, 5, 7, 3, 21, 187, 14, 17, 111, 200, 24, 25, 1, 32, 19, 7, 34, 16, 9, 14, 13, 38, 8, 18, 32, 29, 9, 8, 24, 18, 36, 6, 27, 0, 85, 9, 84, 32, 7, 22, 0, 2, 11, 2, 14, 7, 37, 16, 0, 9, 8, 9, 18, 31, 19, 5, 7, 0, 5, 53, 11, 4, 17, 25, 17, 12, 2, 13, 2, 10, 1, 7, 2, 43, 3, 1, 5, 15, 4, 6, 3, 2, 2, 1, 1, 26, 4, 16, 4, 14, 23, 0, 6, 4, 3, 3, 9, 2, 3, 1, 7, 2, 1, 6, 12, 5, 23, 9, 2, 3, 0, 0, 12, 0, 1, 9, 61, 70, 16, 42, 0, 9, 0, 13, 114, 0, 297, 4, 23, 687, 1, 4, 3, 147, 57, 8, 12, 57, 223, 12, 7, 149, 0, 38, 11, 59, 0, 337, 1, 72, 19, 25, 88, 17, 89, 3, 12, 16, 65, 45, 5, 30, 61, 6, 242, 7, 18, 16, 35, 73, 0, 38, 0, 102, 29, 22, 7, 157, 18, 43, 65, 50, 0, 86, 54, 0, 0, 5, 26, 70, 9, 22, 1, 0, 23, 134, 10, 11, 64, 6, 0, 273, 205, 37, 123, 636, 1, 3, 1, 101, 110, 19, 49, 0, 7, 16, 11, 19, 0, 1, 101, 30, 47, 1, 60, 19, 1, 0, 22, 26, 9, 103, 2, 100, 271, 0, 72, 0, 0, 19, 72, 42, 33, 4, 7, 289, 56, 5, 0, 0, 146, 183, 0, 14, 54, 12, 23, 4, 18, 18, 67, 239, 1, 17, 82, 12, 25, 44, 619, 23, 17, 208, 73, 19, 39, 20, 20, 3, 56, 127, 65, 57, 146, 334, 34, 22, 328, 34, 116, 25, 44, 32, 1000, 166, 31, 163, 357, 596, 156, 6, 81, 83, 22, 32, 11, 62, 39, 15, 0, 0, 46, 0], \"xaxis\": \"x\", \"y\": [39.5, 28.0, 28.0, 18.5, 29.5, 84.0, 28.0, 17.0, 19.5, 30.0, 29.5, 39.0, 33.0, 27.0, 19.5, 28.5, 33.0, 39.5, 19.5, 22.0, 29.5, 23.0, 19.0, 49.5, 17.0, 28.0, 28.5, 61.5, 25.0, 19.0, 28.5, 31.5, 28.5, 36.0, 22.0, 22.0, 39.5, 28.5, 17.0, 19.5, 24.0, 26.0, 42.0, 39.5, 28.0, 18.5, 25.0, 28.0, 19.5, 19.5, 39.0, 29.0, 39.5, 58.0, 21.0, 45.0, 53.0, 46.0, 23.0, 30.0, 18.0, 21.0, 27.5, 32.0, 15.0, 29.0, 58.0, 5.0, 40.0, 18.0, 25.0, 25.0, 28.0, 17.5, 15.5, 28.5, 39.0, 39.0, 18.5, 46.0, 20.0, 34.0, 19.5, 24.0, 19.5, 39.5, 33.0, 19.5, 51.5, 69.0, 15.5, 53.0, 29.5, 27.0, 9.5, 22.0, 39.5, 39.0, 48.0, 44.5, 33.0, 31.5, 19.5, 14.5, 25.0, 39.0, 22.0, 40.0, 17.0, 12.0, 48.0, 53.0, 21.0, 29.5, 26.0, 16.5, 33.0, 12.0, 29.5, 29.5, 66.0, 29.5, 22.5, 28.0, 22.0, 55.0, 29.5, 9.5, 19.5, 30.0, 31.0, 8.0, 19.5, 22.0, 19.5, 29.5, 18.5, 28.5, 18.5, 17.0, 18.5, 27.0, 50.0, 53.0, 47.0, 19.5, 50.5, 25.0, 69.0, 32.0, 30.5, 55.0, 51.0, 22.5, 19.5, 22.0, 40.0, 18.0, 28.5, 58.0, 29.0, 27.0, 16.0, 18.0, 55.5, 18.0, 30.0, 19.5, 39.5, 42.0, 19.5, 25.0, 52.0, 55.0, 69.0, 30.5, 17.0, 39.5, 19.5, 39.0, 19.5, 39.5, 39.5, 66.0, 19.5, 19.5, 28.5, 21.0, 32.5, 34.5, 19.5, 5.0, 14.5, 18.5, 27.0, 28.0, 68.0, 28.5, 25.0, 21.0, 49.0, 32.5, 19.0, 35.0, 35.0, 14.5, 77.0, 39.5, 14.5, 17.5, 32.0, 13.5, 19.5, 15.0, 33.0, 16.0, 28.5, 18.5, 7.5, 21.0, 30.0, 19.5, 18.5, 14.5, 29.5, 19.5, 39.5, 29.5, 28.5, 19.5, 26.5, 50.0, 40.0, 51.0, 34.0, 62.0, 49.0, 77.0, 40.0, 29.5, 52.0, 52.0, 95.0, 29.5, 34.0, 36.0, 34.0, 29.0, 95.0, 105.0, 85.0, 30.0, 29.5, 45.0, 38.0, 29.5, 34.0, 29.5, 38.0, 52.0, 105.0, 54.0, 85.0, 38.0, 165.0, 150.0, 29.5, 150.0, 82.0, 37.0, 45.0, 107.0, 107.0, 36.0, 29.5, 48.0, 50.0, 62.0, 95.0, 95.0, 69.0, 100.0, 30.5, 38.0, 38.0, 30.0, 30.0, 38.0, 95.0, 135.0, 155.0, 38.0, 44.0, 48.0, 95.0, 25.0, 129.0, 38.0, 29.5, 100.0, 175.0, 149.0, 75.0, 69.0, 34.0, 105.0, 95.0, 85.0, 105.0, 38.0, 29.5, 27.0, 155.0, 49.5, 40.0, 72.0, 105.0, 46.0, 43.0, 85.0, 73.0, 29.5, 75.0, 105.0, 79.0, 105.0, 95.0, 29.0, 125.0, 55.0, 42.0, 75.0, 52.0, 75.0, 140.0, 55.0, 57.0, 43.0, 45.0, 34.0, 75.0, 79.0, 49.0, 57.0, 59.0, 95.0, 135.0, 55.0, 65.0, 43.0, 38.0, 48.0, 26.0, 60.0, 105.0, 60.0, 29.5, 59.0, 45.0, 43.0, 25.0, 69.0, 62.0, 43.0, 33.0, 140.0, 95.0, 62.0, 85.0, 55.0, 25.0, 69.0, 95.0, 128.0, 140.0, 79.0, 40.0, 69.0, 149.0, 8.0, 6.0, 13.0, 70.0, 20.0, 20.0, 15.0, 12.0, 8.0, 8.0, 20.0, 8.0, 11.0, 10.0, 5.0, 58.0, 9.0, 14.0, 22.0, 14.0, 17.0, 45.0, 6.0, 16.0, 6.0, 20.0, 68.0, 14.0, 5.0, 12.0, 7.0, 69.0, 3.0, 9.0, 5.0, 10.0, 6.0, 40.0, 25.0, 10.0, 8.0, 20.0, 17.0, 42.0, 9.0, 17.0, 13.0, 26.0, 28.0, 12.0, 8.0, 6.0, 11.0, 60.0, 6.0, 17.0, 20.0, 8.0, 15.0, 19.0, 20.0, 16.0, 12.0, 5.0, 10.0, 5.0, 5.0, 68.0, 20.0, 12.0, 16.0, 14.0, 14.0, 9.0, 12.0, 12.0, 16.0, 50.0, 6.0, 12.0, 68.0, 8.0, 10.0, 3.0, 32.0, 8.0, 14.0, 45.0, 10.0, 28.0, 14.0, 8.0, 5.0, 15.0, 18.0, 17.0, 8.0, 14.0, 15.0, 10.0, 18.0, 60.0, 4.0, 7.0, 18.0, 20.0, 18.0, 10.0, 5.0, 5.0, 6.0, 6.0, 20.0, 10.0, 6.0, 20.0, 14.0, 6.0, 8.0, 15.0, 9.0, 9.0, 29.0, 8.0, 10.0, 14.0, 14.0, 30.0, 30.0, 14.0, 14.0, 34.0, 34.0, 5.0, 8.0, 18.0, 9.0, 8.0, 8.0, 6.0, 12.0, 28.0, 9.0, 16.0, 36.0, 9.0, 12.0, 15.0, 18.0, 20.0, 14.0, 45.0, 34.0, 14.0, 6.0, 12.0, 8.0, 6.0, 6.0, 8.0, 20.0, 6.0, 6.0, 3.0, 8.0, 12.0, 68.0, 15.0, 15.0, 50.0, 15.0, 14.0, 9.0, 6.0, 55.0, 14.0, 8.0, 30.0, 10.0, 10.0, 20.0, 8.0, 14.0, 14.0, 16.0, 34.0, 8.0, 10.0, 10.0, 42.0, 18.0, 15.0, 30.0, 17.0, 15.0, 16.0, 50.0, 30.0, 22.0, 14.0, 40.0, 18.0, 23.0, 8.0, 34.0, 12.0, 36.0, 4.0, 16.0, 17.0, 16.0, 12.0, 10.0, 17.0, 10.0, 24.0, 68.0, 17.0, 22.0, 12.0, 9.0, 30.0, 22.0, 19.0, 16.0, 10.0, 28.0, 16.0, 15.0, 40.0, 12.0, 14.0, 7.0, 8.0, 10.0, 3.0, 14.0, 15.0, 12.0, 52.0, 8.0, 8.0, 18.0, 30.0, 3.5, 6.0, 13.0, 20.0, 9.0, 16.0, 12.0, 30.0, 15.0, 14.0, 20.0, 16.0, 10.0, 59.0, 8.0, 12.0, 10.0, 12.0, 8.0, 28.0, 12.0, 14.0, 5.0, 20.0, 12.0, 12.0, 15.0, 32.0, 12.0, 20.0, 29.0, 17.0, 6.0, 49.0, 25.0, 16.0, 6.0, 8.0, 30.0, 8.0, 10.0, 16.0, 18.0, 14.0, 15.0, 12.0, 8.0, 110.0, 105.0, 12.0, 10.0, 22.0, 26.0, 29.0, 29.0, 39.0, 39.0, 37.0, 23.0, 23.0, 19.0, 10.0, 34.0, 39.0, 39.0, 24.0, 36.0, 29.0, 26.0, 23.0, 39.0, 22.0, 21.0, 26.0, 30.0, 39.0, 39.0, 22.0, 34.0, 28.0, 15.0, 48.0, 39.0, 45.0, 18.0, 22.0, 23.0, 34.0, 14.0, 38.0, 25.0, 20.0, 19.0, 39.0, 25.0, 25.0, 23.0, 20.0, 15.0, 39.0, 19.0, 19.0, 39.0, 12.0, 23.0, 12.0, 21.0, 14.0, 23.0, 33.0, 42.0, 20.0, 45.0, 32.0, 29.0, 30.0, 39.0, 12.0, 11.0, 29.0, 29.0, 32.0, 29.0, 29.0, 39.0, 12.0, 29.0, 15.0, 12.0, 28.0, 28.0, 16.0, 12.0, 44.0, 9.0, 24.0, 24.0, 18.0, 19.0, 24.0, 19.0, 24.0, 49.0, 28.0, 40.0, 20.0, 19.0, 14.0, 28.0, 39.0, 12.0, 12.0, 22.0, 32.0, 22.0, 18.0, 39.0, 28.0, 42.0, 15.0, 19.0, 15.0, 22.0, 24.0, 16.0, 14.0, 49.0, 15.0, 21.0, 20.0, 19.0, 21.0, 19.0, 35.0, 14.0, 16.0, 32.0, 17.0, 32.0, 36.0, 25.0, 19.0, 12.0, 14.0, 12.0, 39.0, 23.0, 16.0, 140.0, 12.0, 20.0, 16.0, 14.0, 14.0, 19.0, 24.0, 28.0, 24.0, 17.0, 19.0, 9.0, 30.0, 35.0, 24.0, 12.0, 25.0, 12.0, 29.0, 14.0, 25.0, 21.0, 12.0, 35.0, 25.0, 25.0, 18.0, 19.0, 105.0, 30.0, 42.0, 20.0, 30.0, 100.0, 34.0, 88.0, 240.0, 240.0, 55.0, 335.0, 128.0, 240.0, 88.0, 55.0, 55.0, 88.0, 335.0, 240.0, 128.0, 335.0, 240.0, 72.0, 90.0, 36.0, 112.0, 59.0, 63.0, 62.0, 180.0, 240.0, 128.0, 46.0, 57.0, 60.0, 240.0, 60.0, 88.0, 54.0, 55.0, 46.0, 55.0, 60.0, 240.0, 195.0, 240.0, 49.0, 54.0, 55.0, 128.0, 49.0, 60.0, 128.0, 240.0, 50.0, 132.0, 92.0, 54.0, 128.0, 60.0, 115.0, 46.0, 128.0, 88.0, 75.0, 128.0, 240.0, 55.0, 128.0, 55.0, 46.0, 44.0, 60.0, 49.0, 55.0, 240.0, 70.0, 70.0, 240.0, 36.0, 240.0, 60.0, 128.0, 88.0, 60.0, 70.0, 60.0, 110.0, 240.0, 54.0, 84.0, 70.0, 325.0, 240.0, 180.0, 49.0, 49.0, 46.0, 100.0, 60.0, 335.0, 128.0, 40.0, 240.0, 53.0, 240.0, 46.0, 240.0, 47.0, 70.0, 98.0, 112.0, 110.0, 240.0, 70.0, 29.0, 57.0, 240.0, 68.0, 54.0, 53.0, 56.0, 78.0, 49.0, 70.0, 70.0, 75.0, 70.0, 155.0, 70.0, 88.0, 240.0, 235.0, 52.0, 180.0, 70.0, 70.0, 67.0, 240.0, 55.0, 125.0, 60.0, 70.0, 55.0, 65.0, 49.0, 47.0, 70.0, 36.0, 70.0, 59.0, 49.0, 70.0, 240.0, 335.0, 335.0, 55.0, 97.0, 122.0, 38.0, 38.0, 78.0, 70.0, 72.0, 53.0, 30.0, 15.0, 8.0, 12.0, 20.0, 30.0, 8.0, 10.0, 16.0, 25.0, 20.0, 12.0, 85.0, 20.0, 14.0, 45.0, 40.0, 3.0, 10.0, 16.0, 8.0, 9.0, 30.0, 55.0, 22.0, 16.0, 18.0, 24.0, 40.0, 29.0, 30.0, 8.0, 18.0, 6.0, 9.0, 10.0, 30.0, 12.0, 7.0, 26.0, 3.0, 16.0, 14.0, 5.0, 8.0, 8.0, 34.0, 15.0, 10.0, 75.0, 20.0, 17.0, 6.0, 8.0, 12.0, 35.0, 14.0, 12.0, 22.0, 16.0, 20.0, 14.0, 100.0, 8.0, 12.0, 14.0, 25.0, 24.0, 26.0, 3.0, 8.0, 14.0, 20.0, 30.0, 14.0, 5.0, 15.0, 60.0, 10.0, 10.0, 10.0, 8.0, 12.0, 8.0, 24.0, 17.0, 12.0, 18.0, 16.0, 4.95, 14.0, 9.0, 12.0, 10.0, 14.0, 25.0, 20.0, 10.0, 8.0, 14.0, 20.0, 20.0, 16.0, 8.0, 5.0, 20.0, 8.0, 20.0, 32.0, 25.0, 11.0, 38.0, 7.0, 7.0, 7.0, 30.0, 10.0, 12.0, 12.0, 8.0, 7.0, 36.0, 36.0, 20.0, 12.0, 7.0, 12.0, 28.0, 22.0, 32.0, 30.0, 16.0, 12.0, 28.0, 17.0, 6.0, 7.0, 20.0, 34.0, 34.0, 7.0, 3.0, 24.0, 12.0, 12.0, 20.0, 28.0, 18.0, 8.0, 32.0, 20.0, 14.0, 5.0, 9.0, 20.0, 34.0, 6.0, 35.0, 12.0, 32.0, 7.0, 14.0, 14.0, 6.0, 20.0, 12.0, 32.0, 7.0, 9.0, 24.0, 14.0, 12.5, 10.0, 6.0, 4.0, 13.0, 16.0, 28.0, 54.0, 18.0, 20.0, 62.0, 24.0, 17.0, 15.0, 16.0, 10.0, 17.0, 25.0, 39.0, 12.0, 12.0, 2.0, 49.0, 8.0, 6.0, 15.0, 16.0, 50.0, 50.0], \"yaxis\": \"y\"}],                        {\"legend\": {\"tracegroupgap\": 0}, \"margin\": {\"t\": 60}, \"template\": {\"data\": {\"bar\": [{\"error_x\": {\"color\": \"#2a3f5f\"}, \"error_y\": {\"color\": \"#2a3f5f\"}, \"marker\": {\"line\": {\"color\": \"#E5ECF6\", \"width\": 0.5}}, \"type\": \"bar\"}], \"barpolar\": [{\"marker\": {\"line\": {\"color\": \"#E5ECF6\", \"width\": 0.5}}, \"type\": \"barpolar\"}], \"carpet\": [{\"aaxis\": {\"endlinecolor\": \"#2a3f5f\", \"gridcolor\": \"white\", \"linecolor\": \"white\", \"minorgridcolor\": \"white\", \"startlinecolor\": \"#2a3f5f\"}, \"baxis\": {\"endlinecolor\": \"#2a3f5f\", \"gridcolor\": \"white\", \"linecolor\": \"white\", \"minorgridcolor\": \"white\", \"startlinecolor\": \"#2a3f5f\"}, \"type\": \"carpet\"}], \"choropleth\": [{\"colorbar\": {\"outlinewidth\": 0, \"ticks\": \"\"}, \"type\": \"choropleth\"}], \"contour\": [{\"colorbar\": {\"outlinewidth\": 0, \"ticks\": \"\"}, \"colorscale\": [[0.0, \"#0d0887\"], [0.1111111111111111, \"#46039f\"], [0.2222222222222222, \"#7201a8\"], [0.3333333333333333, \"#9c179e\"], [0.4444444444444444, \"#bd3786\"], [0.5555555555555556, \"#d8576b\"], [0.6666666666666666, \"#ed7953\"], [0.7777777777777778, \"#fb9f3a\"], [0.8888888888888888, \"#fdca26\"], [1.0, \"#f0f921\"]], \"type\": \"contour\"}], \"contourcarpet\": [{\"colorbar\": {\"outlinewidth\": 0, \"ticks\": \"\"}, \"type\": \"contourcarpet\"}], \"heatmap\": [{\"colorbar\": {\"outlinewidth\": 0, \"ticks\": \"\"}, \"colorscale\": [[0.0, \"#0d0887\"], [0.1111111111111111, \"#46039f\"], [0.2222222222222222, \"#7201a8\"], [0.3333333333333333, \"#9c179e\"], [0.4444444444444444, \"#bd3786\"], [0.5555555555555556, \"#d8576b\"], [0.6666666666666666, \"#ed7953\"], [0.7777777777777778, \"#fb9f3a\"], [0.8888888888888888, \"#fdca26\"], [1.0, \"#f0f921\"]], \"type\": \"heatmap\"}], \"heatmapgl\": [{\"colorbar\": {\"outlinewidth\": 0, \"ticks\": \"\"}, \"colorscale\": [[0.0, \"#0d0887\"], [0.1111111111111111, \"#46039f\"], [0.2222222222222222, \"#7201a8\"], [0.3333333333333333, \"#9c179e\"], [0.4444444444444444, \"#bd3786\"], [0.5555555555555556, \"#d8576b\"], [0.6666666666666666, \"#ed7953\"], [0.7777777777777778, \"#fb9f3a\"], [0.8888888888888888, \"#fdca26\"], [1.0, \"#f0f921\"]], \"type\": \"heatmapgl\"}], \"histogram\": [{\"marker\": {\"colorbar\": {\"outlinewidth\": 0, \"ticks\": \"\"}}, \"type\": \"histogram\"}], \"histogram2d\": [{\"colorbar\": {\"outlinewidth\": 0, \"ticks\": \"\"}, \"colorscale\": [[0.0, \"#0d0887\"], [0.1111111111111111, \"#46039f\"], [0.2222222222222222, \"#7201a8\"], [0.3333333333333333, \"#9c179e\"], [0.4444444444444444, \"#bd3786\"], [0.5555555555555556, \"#d8576b\"], [0.6666666666666666, \"#ed7953\"], [0.7777777777777778, \"#fb9f3a\"], [0.8888888888888888, \"#fdca26\"], [1.0, \"#f0f921\"]], \"type\": \"histogram2d\"}], \"histogram2dcontour\": [{\"colorbar\": {\"outlinewidth\": 0, \"ticks\": \"\"}, \"colorscale\": [[0.0, \"#0d0887\"], [0.1111111111111111, \"#46039f\"], [0.2222222222222222, \"#7201a8\"], [0.3333333333333333, \"#9c179e\"], [0.4444444444444444, \"#bd3786\"], [0.5555555555555556, \"#d8576b\"], [0.6666666666666666, \"#ed7953\"], [0.7777777777777778, \"#fb9f3a\"], [0.8888888888888888, \"#fdca26\"], [1.0, \"#f0f921\"]], \"type\": \"histogram2dcontour\"}], \"mesh3d\": [{\"colorbar\": {\"outlinewidth\": 0, \"ticks\": \"\"}, \"type\": \"mesh3d\"}], \"parcoords\": [{\"line\": {\"colorbar\": {\"outlinewidth\": 0, \"ticks\": \"\"}}, \"type\": \"parcoords\"}], \"pie\": [{\"automargin\": true, \"type\": \"pie\"}], \"scatter\": [{\"marker\": {\"colorbar\": {\"outlinewidth\": 0, \"ticks\": \"\"}}, \"type\": \"scatter\"}], \"scatter3d\": [{\"line\": {\"colorbar\": {\"outlinewidth\": 0, \"ticks\": \"\"}}, \"marker\": {\"colorbar\": {\"outlinewidth\": 0, \"ticks\": \"\"}}, \"type\": \"scatter3d\"}], \"scattercarpet\": [{\"marker\": {\"colorbar\": {\"outlinewidth\": 0, \"ticks\": \"\"}}, \"type\": \"scattercarpet\"}], \"scattergeo\": [{\"marker\": {\"colorbar\": {\"outlinewidth\": 0, \"ticks\": \"\"}}, \"type\": \"scattergeo\"}], \"scattergl\": [{\"marker\": {\"colorbar\": {\"outlinewidth\": 0, \"ticks\": \"\"}}, \"type\": \"scattergl\"}], \"scattermapbox\": [{\"marker\": {\"colorbar\": {\"outlinewidth\": 0, \"ticks\": \"\"}}, \"type\": \"scattermapbox\"}], \"scatterpolar\": [{\"marker\": {\"colorbar\": {\"outlinewidth\": 0, \"ticks\": \"\"}}, \"type\": \"scatterpolar\"}], \"scatterpolargl\": [{\"marker\": {\"colorbar\": {\"outlinewidth\": 0, \"ticks\": \"\"}}, \"type\": \"scatterpolargl\"}], \"scatterternary\": [{\"marker\": {\"colorbar\": {\"outlinewidth\": 0, \"ticks\": \"\"}}, \"type\": \"scatterternary\"}], \"surface\": [{\"colorbar\": {\"outlinewidth\": 0, \"ticks\": \"\"}, \"colorscale\": [[0.0, \"#0d0887\"], [0.1111111111111111, \"#46039f\"], [0.2222222222222222, \"#7201a8\"], [0.3333333333333333, \"#9c179e\"], [0.4444444444444444, \"#bd3786\"], [0.5555555555555556, \"#d8576b\"], [0.6666666666666666, \"#ed7953\"], [0.7777777777777778, \"#fb9f3a\"], [0.8888888888888888, \"#fdca26\"], [1.0, \"#f0f921\"]], \"type\": \"surface\"}], \"table\": [{\"cells\": {\"fill\": {\"color\": \"#EBF0F8\"}, \"line\": {\"color\": \"white\"}}, \"header\": {\"fill\": {\"color\": \"#C8D4E3\"}, \"line\": {\"color\": \"white\"}}, \"type\": \"table\"}]}, \"layout\": {\"annotationdefaults\": {\"arrowcolor\": \"#2a3f5f\", \"arrowhead\": 0, \"arrowwidth\": 1}, \"autotypenumbers\": \"strict\", \"coloraxis\": {\"colorbar\": {\"outlinewidth\": 0, \"ticks\": \"\"}}, \"colorscale\": {\"diverging\": [[0, \"#8e0152\"], [0.1, \"#c51b7d\"], [0.2, \"#de77ae\"], [0.3, \"#f1b6da\"], [0.4, \"#fde0ef\"], [0.5, \"#f7f7f7\"], [0.6, \"#e6f5d0\"], [0.7, \"#b8e186\"], [0.8, \"#7fbc41\"], [0.9, \"#4d9221\"], [1, \"#276419\"]], \"sequential\": [[0.0, \"#0d0887\"], [0.1111111111111111, \"#46039f\"], [0.2222222222222222, \"#7201a8\"], [0.3333333333333333, \"#9c179e\"], [0.4444444444444444, \"#bd3786\"], [0.5555555555555556, \"#d8576b\"], [0.6666666666666666, \"#ed7953\"], [0.7777777777777778, \"#fb9f3a\"], [0.8888888888888888, \"#fdca26\"], [1.0, \"#f0f921\"]], \"sequentialminus\": [[0.0, \"#0d0887\"], [0.1111111111111111, \"#46039f\"], [0.2222222222222222, \"#7201a8\"], [0.3333333333333333, \"#9c179e\"], [0.4444444444444444, \"#bd3786\"], [0.5555555555555556, \"#d8576b\"], [0.6666666666666666, \"#ed7953\"], [0.7777777777777778, \"#fb9f3a\"], [0.8888888888888888, \"#fdca26\"], [1.0, \"#f0f921\"]]}, \"colorway\": [\"#636efa\", \"#EF553B\", \"#00cc96\", \"#ab63fa\", \"#FFA15A\", \"#19d3f3\", \"#FF6692\", \"#B6E880\", \"#FF97FF\", \"#FECB52\"], \"font\": {\"color\": \"#2a3f5f\"}, \"geo\": {\"bgcolor\": \"white\", \"lakecolor\": \"white\", \"landcolor\": \"#E5ECF6\", \"showlakes\": true, \"showland\": true, \"subunitcolor\": \"white\"}, \"hoverlabel\": {\"align\": \"left\"}, \"hovermode\": \"closest\", \"mapbox\": {\"style\": \"light\"}, \"paper_bgcolor\": \"white\", \"plot_bgcolor\": \"#E5ECF6\", \"polar\": {\"angularaxis\": {\"gridcolor\": \"white\", \"linecolor\": \"white\", \"ticks\": \"\"}, \"bgcolor\": \"#E5ECF6\", \"radialaxis\": {\"gridcolor\": \"white\", \"linecolor\": \"white\", \"ticks\": \"\"}}, \"scene\": {\"xaxis\": {\"backgroundcolor\": \"#E5ECF6\", \"gridcolor\": \"white\", \"gridwidth\": 2, \"linecolor\": \"white\", \"showbackground\": true, \"ticks\": \"\", \"zerolinecolor\": \"white\"}, \"yaxis\": {\"backgroundcolor\": \"#E5ECF6\", \"gridcolor\": \"white\", \"gridwidth\": 2, \"linecolor\": \"white\", \"showbackground\": true, \"ticks\": \"\", \"zerolinecolor\": \"white\"}, \"zaxis\": {\"backgroundcolor\": \"#E5ECF6\", \"gridcolor\": \"white\", \"gridwidth\": 2, \"linecolor\": \"white\", \"showbackground\": true, \"ticks\": \"\", \"zerolinecolor\": \"white\"}}, \"shapedefaults\": {\"line\": {\"color\": \"#2a3f5f\"}}, \"ternary\": {\"aaxis\": {\"gridcolor\": \"white\", \"linecolor\": \"white\", \"ticks\": \"\"}, \"baxis\": {\"gridcolor\": \"white\", \"linecolor\": \"white\", \"ticks\": \"\"}, \"bgcolor\": \"#E5ECF6\", \"caxis\": {\"gridcolor\": \"white\", \"linecolor\": \"white\", \"ticks\": \"\"}}, \"title\": {\"x\": 0.05}, \"xaxis\": {\"automargin\": true, \"gridcolor\": \"white\", \"linecolor\": \"white\", \"ticks\": \"\", \"title\": {\"standoff\": 15}, \"zerolinecolor\": \"white\", \"zerolinewidth\": 2}, \"yaxis\": {\"automargin\": true, \"gridcolor\": \"white\", \"linecolor\": \"white\", \"ticks\": \"\", \"title\": {\"standoff\": 15}, \"zerolinecolor\": \"white\", \"zerolinewidth\": 2}}}, \"xaxis\": {\"anchor\": \"y\", \"domain\": [0.0, 1.0], \"title\": {\"text\": \"number_of_reviews\"}}, \"yaxis\": {\"anchor\": \"x\", \"domain\": [0.0, 1.0], \"title\": {\"text\": \"price\"}}},                        {\"responsive\": true}                    ).then(function(){\n",
       "                            \n",
       "var gd = document.getElementById('534418f7-cb3a-4b6c-951f-f743075a698c');\n",
       "var x = new MutationObserver(function (mutations, observer) {{\n",
       "        var display = window.getComputedStyle(gd).display;\n",
       "        if (!display || display === 'none') {{\n",
       "            console.log([gd, 'removed!']);\n",
       "            Plotly.purge(gd);\n",
       "            observer.disconnect();\n",
       "        }}\n",
       "}});\n",
       "\n",
       "// Listen for the removal of the full notebook cells\n",
       "var notebookContainer = gd.closest('#notebook-container');\n",
       "if (notebookContainer) {{\n",
       "    x.observe(notebookContainer, {childList: true});\n",
       "}}\n",
       "\n",
       "// Listen for the clearing of the current output cell\n",
       "var outputEl = gd.closest('.output');\n",
       "if (outputEl) {{\n",
       "    x.observe(outputEl, {childList: true});\n",
       "}}\n",
       "\n",
       "                        })                };                });            </script>        </div>"
      ]
     },
     "metadata": {},
     "output_type": "display_data"
    }
   ],
   "source": [
    "# barplot count dari all brand \n",
    "fig = px.scatter(df, x='number_of_reviews' ,y='price')\n",
    "fig.show()"
   ]
  },
  {
   "cell_type": "code",
   "execution_count": null,
   "id": "voluntary-sphere",
   "metadata": {},
   "outputs": [],
   "source": []
  },
  {
   "cell_type": "code",
   "execution_count": 42,
   "id": "material-psychiatry",
   "metadata": {},
   "outputs": [
    {
     "data": {
      "text/plain": [
       "'SEPHORA COLLECTION'"
      ]
     },
     "execution_count": 42,
     "metadata": {},
     "output_type": "execute_result"
    }
   ],
   "source": [
    "top5_brands[0]"
   ]
  },
  {
   "cell_type": "code",
   "execution_count": 43,
   "id": "paperback-stamp",
   "metadata": {},
   "outputs": [
    {
     "data": {
      "application/vnd.plotly.v1+json": {
       "config": {
        "plotlyServerURL": "https://plot.ly"
       },
       "data": [
        {
         "hovertemplate": "number_of_reviews=%{x}<br>price=%{y}<extra></extra>",
         "legendgroup": "",
         "marker": {
          "color": "#636efa",
          "symbol": "circle"
         },
         "mode": "markers",
         "name": "",
         "orientation": "v",
         "showlegend": false,
         "type": "scatter",
         "x": [
          3000,
          1000,
          6000,
          356,
          3000,
          1000,
          9000,
          3000,
          81,
          115,
          404,
          256,
          2000,
          785,
          827,
          87,
          1000,
          2000,
          1000,
          262,
          515,
          89,
          137,
          28,
          102,
          596,
          65,
          839,
          956,
          3000,
          2000,
          173,
          7,
          408,
          203,
          310,
          74,
          132,
          19,
          14,
          70,
          0,
          447,
          98,
          2000,
          493,
          810,
          58,
          2000,
          555,
          48,
          46,
          3000,
          29,
          17,
          62,
          131,
          984,
          59,
          969,
          889,
          378,
          444,
          31,
          401,
          394,
          529,
          255,
          168,
          115,
          128,
          831,
          2000,
          637,
          3000,
          581,
          272,
          0,
          17,
          1000,
          30,
          20,
          44,
          4,
          10,
          291,
          13,
          93,
          6,
          76,
          361,
          7,
          163,
          2000,
          5,
          143,
          892,
          169,
          473,
          2,
          1000,
          86,
          71,
          2000,
          17,
          26,
          239,
          28,
          1,
          26,
          15,
          62,
          234,
          52,
          191,
          178,
          12,
          570,
          79,
          54,
          852,
          212,
          538,
          9,
          105,
          100,
          896,
          164,
          1000,
          42,
          22,
          2,
          62,
          175,
          190,
          9,
          170,
          0,
          98,
          112,
          28,
          8,
          2,
          84,
          20,
          98,
          14,
          355,
          17,
          89,
          207,
          176,
          56,
          496,
          42,
          1000,
          130,
          17,
          14,
          2,
          11,
          1000,
          86,
          196,
          2,
          1000,
          40,
          11,
          65,
          0,
          1000,
          343,
          4,
          46,
          34,
          12,
          9,
          301,
          128,
          81,
          25,
          61,
          321,
          2000,
          8,
          17,
          1,
          478,
          112,
          1,
          831,
          7,
          269,
          398,
          276,
          14,
          0,
          99,
          987,
          27,
          232,
          513,
          495,
          22,
          16,
          17,
          20,
          5,
          72,
          845,
          143,
          51,
          31,
          19,
          94,
          40,
          408,
          17,
          43,
          33,
          75,
          7,
          81,
          217,
          560,
          108,
          16,
          48,
          5,
          31,
          19,
          22,
          54,
          13,
          51,
          733,
          2,
          165,
          40,
          75,
          9,
          20,
          3,
          103,
          1000,
          308,
          28,
          16,
          39,
          26,
          90,
          24,
          492,
          1,
          85,
          41,
          339,
          10,
          4,
          93,
          16,
          53,
          12,
          244,
          25,
          0,
          12,
          13,
          315,
          31,
          26,
          60,
          68,
          1,
          210,
          12,
          26,
          21,
          5,
          265,
          43,
          10,
          679,
          26,
          40,
          187,
          35,
          91,
          2,
          23,
          32,
          17,
          65,
          28,
          14,
          7,
          12,
          0,
          1,
          9,
          61,
          70,
          16,
          42,
          0,
          9,
          0,
          13,
          114,
          0,
          297,
          4,
          23,
          687,
          1,
          4,
          3,
          147,
          57,
          8,
          12,
          57,
          223,
          12,
          7,
          149,
          0,
          38,
          11,
          59,
          0,
          337,
          1,
          72,
          19,
          25,
          88,
          17,
          89,
          3,
          12,
          16,
          65,
          45,
          5,
          30,
          61,
          6,
          242,
          7,
          18,
          16,
          35,
          73,
          0,
          38,
          0,
          102,
          29,
          22,
          7,
          157,
          18,
          43,
          65,
          50,
          0,
          86,
          54,
          0,
          0,
          5,
          26,
          70,
          9,
          22,
          1,
          0,
          23,
          134,
          10,
          11,
          64,
          6,
          0,
          273,
          205,
          37,
          123,
          636,
          1,
          3,
          1,
          101,
          110,
          19,
          49,
          0,
          7,
          16,
          11,
          19,
          0,
          1,
          101,
          30,
          47,
          1,
          60,
          19,
          1,
          0,
          22,
          26,
          9,
          103,
          2,
          100,
          271,
          0,
          72,
          0,
          0,
          19,
          72,
          42,
          33,
          4,
          7,
          289,
          56,
          5,
          0,
          0,
          146,
          183,
          0,
          14,
          54,
          12,
          23,
          4,
          18,
          18,
          67,
          239,
          1,
          17,
          82,
          12,
          25,
          44,
          619,
          23,
          17,
          208,
          73,
          19,
          39,
          20,
          20,
          3,
          56,
          127,
          65,
          57,
          146,
          334,
          34,
          22,
          328,
          34,
          116,
          25,
          44,
          32,
          1000,
          166,
          31,
          163,
          357,
          596,
          156,
          6,
          81,
          83,
          22,
          32,
          11,
          62,
          39,
          15,
          0,
          0,
          46,
          0
         ],
         "xaxis": "x",
         "y": [
          8,
          6,
          13,
          70,
          20,
          20,
          15,
          12,
          8,
          8,
          20,
          8,
          11,
          10,
          5,
          58,
          9,
          14,
          22,
          14,
          17,
          45,
          6,
          16,
          6,
          20,
          68,
          14,
          5,
          12,
          7,
          69,
          3,
          9,
          5,
          10,
          6,
          40,
          25,
          10,
          8,
          20,
          17,
          42,
          9,
          17,
          13,
          26,
          28,
          12,
          8,
          6,
          11,
          60,
          6,
          17,
          20,
          8,
          15,
          19,
          20,
          16,
          12,
          5,
          10,
          5,
          5,
          68,
          20,
          12,
          16,
          14,
          14,
          9,
          12,
          12,
          16,
          50,
          6,
          12,
          68,
          8,
          10,
          3,
          32,
          8,
          14,
          45,
          10,
          28,
          14,
          8,
          5,
          15,
          18,
          17,
          8,
          14,
          15,
          10,
          18,
          60,
          4,
          7,
          18,
          20,
          18,
          10,
          5,
          5,
          6,
          6,
          20,
          10,
          6,
          20,
          14,
          6,
          8,
          15,
          9,
          9,
          29,
          8,
          10,
          14,
          14,
          30,
          30,
          14,
          14,
          34,
          34,
          5,
          8,
          18,
          9,
          8,
          8,
          6,
          12,
          28,
          9,
          16,
          36,
          9,
          12,
          15,
          18,
          20,
          14,
          45,
          34,
          14,
          6,
          12,
          8,
          6,
          6,
          8,
          20,
          6,
          6,
          3,
          8,
          12,
          68,
          15,
          15,
          50,
          15,
          14,
          9,
          6,
          55,
          14,
          8,
          30,
          10,
          10,
          20,
          8,
          14,
          14,
          16,
          34,
          8,
          10,
          10,
          42,
          18,
          15,
          30,
          17,
          15,
          16,
          50,
          30,
          22,
          14,
          40,
          18,
          23,
          8,
          34,
          12,
          36,
          4,
          16,
          17,
          16,
          12,
          10,
          17,
          10,
          24,
          68,
          17,
          22,
          12,
          9,
          30,
          22,
          19,
          16,
          10,
          28,
          16,
          15,
          40,
          12,
          14,
          7,
          8,
          10,
          3,
          14,
          15,
          12,
          52,
          8,
          8,
          18,
          30,
          3.5,
          6,
          13,
          20,
          9,
          16,
          12,
          30,
          15,
          14,
          20,
          16,
          10,
          59,
          8,
          12,
          10,
          12,
          8,
          28,
          12,
          14,
          5,
          20,
          12,
          12,
          15,
          32,
          12,
          20,
          29,
          17,
          6,
          49,
          25,
          16,
          6,
          8,
          30,
          8,
          10,
          16,
          18,
          14,
          15,
          12,
          8,
          110,
          105,
          12,
          10,
          22,
          30,
          15,
          8,
          12,
          20,
          30,
          8,
          10,
          16,
          25,
          20,
          12,
          85,
          20,
          14,
          45,
          40,
          3,
          10,
          16,
          8,
          9,
          30,
          55,
          22,
          16,
          18,
          24,
          40,
          29,
          30,
          8,
          18,
          6,
          9,
          10,
          30,
          12,
          7,
          26,
          3,
          16,
          14,
          5,
          8,
          8,
          34,
          15,
          10,
          75,
          20,
          17,
          6,
          8,
          12,
          35,
          14,
          12,
          22,
          16,
          20,
          14,
          100,
          8,
          12,
          14,
          25,
          24,
          26,
          3,
          8,
          14,
          20,
          30,
          14,
          5,
          15,
          60,
          10,
          10,
          10,
          8,
          12,
          8,
          24,
          17,
          12,
          18,
          16,
          4.95,
          14,
          9,
          12,
          10,
          14,
          25,
          20,
          10,
          8,
          14,
          20,
          20,
          16,
          8,
          5,
          20,
          8,
          20,
          32,
          25,
          11,
          38,
          7,
          7,
          7,
          30,
          10,
          12,
          12,
          8,
          7,
          36,
          36,
          20,
          12,
          7,
          12,
          28,
          22,
          32,
          30,
          16,
          12,
          28,
          17,
          6,
          7,
          20,
          34,
          34,
          7,
          3,
          24,
          12,
          12,
          20,
          28,
          18,
          8,
          32,
          20,
          14,
          5,
          9,
          20,
          34,
          6,
          35,
          12,
          32,
          7,
          14,
          14,
          6,
          20,
          12,
          32,
          7,
          9,
          24,
          14,
          12.5,
          10,
          6,
          4,
          13,
          16,
          28,
          54,
          18,
          20,
          62,
          24,
          17,
          15,
          16,
          10,
          17,
          25,
          39,
          12,
          12,
          2,
          49,
          8,
          6,
          15,
          16,
          50,
          50
         ],
         "yaxis": "y"
        }
       ],
       "layout": {
        "legend": {
         "tracegroupgap": 0
        },
        "margin": {
         "t": 60
        },
        "template": {
         "data": {
          "bar": [
           {
            "error_x": {
             "color": "#2a3f5f"
            },
            "error_y": {
             "color": "#2a3f5f"
            },
            "marker": {
             "line": {
              "color": "#E5ECF6",
              "width": 0.5
             }
            },
            "type": "bar"
           }
          ],
          "barpolar": [
           {
            "marker": {
             "line": {
              "color": "#E5ECF6",
              "width": 0.5
             }
            },
            "type": "barpolar"
           }
          ],
          "carpet": [
           {
            "aaxis": {
             "endlinecolor": "#2a3f5f",
             "gridcolor": "white",
             "linecolor": "white",
             "minorgridcolor": "white",
             "startlinecolor": "#2a3f5f"
            },
            "baxis": {
             "endlinecolor": "#2a3f5f",
             "gridcolor": "white",
             "linecolor": "white",
             "minorgridcolor": "white",
             "startlinecolor": "#2a3f5f"
            },
            "type": "carpet"
           }
          ],
          "choropleth": [
           {
            "colorbar": {
             "outlinewidth": 0,
             "ticks": ""
            },
            "type": "choropleth"
           }
          ],
          "contour": [
           {
            "colorbar": {
             "outlinewidth": 0,
             "ticks": ""
            },
            "colorscale": [
             [
              0,
              "#0d0887"
             ],
             [
              0.1111111111111111,
              "#46039f"
             ],
             [
              0.2222222222222222,
              "#7201a8"
             ],
             [
              0.3333333333333333,
              "#9c179e"
             ],
             [
              0.4444444444444444,
              "#bd3786"
             ],
             [
              0.5555555555555556,
              "#d8576b"
             ],
             [
              0.6666666666666666,
              "#ed7953"
             ],
             [
              0.7777777777777778,
              "#fb9f3a"
             ],
             [
              0.8888888888888888,
              "#fdca26"
             ],
             [
              1,
              "#f0f921"
             ]
            ],
            "type": "contour"
           }
          ],
          "contourcarpet": [
           {
            "colorbar": {
             "outlinewidth": 0,
             "ticks": ""
            },
            "type": "contourcarpet"
           }
          ],
          "heatmap": [
           {
            "colorbar": {
             "outlinewidth": 0,
             "ticks": ""
            },
            "colorscale": [
             [
              0,
              "#0d0887"
             ],
             [
              0.1111111111111111,
              "#46039f"
             ],
             [
              0.2222222222222222,
              "#7201a8"
             ],
             [
              0.3333333333333333,
              "#9c179e"
             ],
             [
              0.4444444444444444,
              "#bd3786"
             ],
             [
              0.5555555555555556,
              "#d8576b"
             ],
             [
              0.6666666666666666,
              "#ed7953"
             ],
             [
              0.7777777777777778,
              "#fb9f3a"
             ],
             [
              0.8888888888888888,
              "#fdca26"
             ],
             [
              1,
              "#f0f921"
             ]
            ],
            "type": "heatmap"
           }
          ],
          "heatmapgl": [
           {
            "colorbar": {
             "outlinewidth": 0,
             "ticks": ""
            },
            "colorscale": [
             [
              0,
              "#0d0887"
             ],
             [
              0.1111111111111111,
              "#46039f"
             ],
             [
              0.2222222222222222,
              "#7201a8"
             ],
             [
              0.3333333333333333,
              "#9c179e"
             ],
             [
              0.4444444444444444,
              "#bd3786"
             ],
             [
              0.5555555555555556,
              "#d8576b"
             ],
             [
              0.6666666666666666,
              "#ed7953"
             ],
             [
              0.7777777777777778,
              "#fb9f3a"
             ],
             [
              0.8888888888888888,
              "#fdca26"
             ],
             [
              1,
              "#f0f921"
             ]
            ],
            "type": "heatmapgl"
           }
          ],
          "histogram": [
           {
            "marker": {
             "colorbar": {
              "outlinewidth": 0,
              "ticks": ""
             }
            },
            "type": "histogram"
           }
          ],
          "histogram2d": [
           {
            "colorbar": {
             "outlinewidth": 0,
             "ticks": ""
            },
            "colorscale": [
             [
              0,
              "#0d0887"
             ],
             [
              0.1111111111111111,
              "#46039f"
             ],
             [
              0.2222222222222222,
              "#7201a8"
             ],
             [
              0.3333333333333333,
              "#9c179e"
             ],
             [
              0.4444444444444444,
              "#bd3786"
             ],
             [
              0.5555555555555556,
              "#d8576b"
             ],
             [
              0.6666666666666666,
              "#ed7953"
             ],
             [
              0.7777777777777778,
              "#fb9f3a"
             ],
             [
              0.8888888888888888,
              "#fdca26"
             ],
             [
              1,
              "#f0f921"
             ]
            ],
            "type": "histogram2d"
           }
          ],
          "histogram2dcontour": [
           {
            "colorbar": {
             "outlinewidth": 0,
             "ticks": ""
            },
            "colorscale": [
             [
              0,
              "#0d0887"
             ],
             [
              0.1111111111111111,
              "#46039f"
             ],
             [
              0.2222222222222222,
              "#7201a8"
             ],
             [
              0.3333333333333333,
              "#9c179e"
             ],
             [
              0.4444444444444444,
              "#bd3786"
             ],
             [
              0.5555555555555556,
              "#d8576b"
             ],
             [
              0.6666666666666666,
              "#ed7953"
             ],
             [
              0.7777777777777778,
              "#fb9f3a"
             ],
             [
              0.8888888888888888,
              "#fdca26"
             ],
             [
              1,
              "#f0f921"
             ]
            ],
            "type": "histogram2dcontour"
           }
          ],
          "mesh3d": [
           {
            "colorbar": {
             "outlinewidth": 0,
             "ticks": ""
            },
            "type": "mesh3d"
           }
          ],
          "parcoords": [
           {
            "line": {
             "colorbar": {
              "outlinewidth": 0,
              "ticks": ""
             }
            },
            "type": "parcoords"
           }
          ],
          "pie": [
           {
            "automargin": true,
            "type": "pie"
           }
          ],
          "scatter": [
           {
            "marker": {
             "colorbar": {
              "outlinewidth": 0,
              "ticks": ""
             }
            },
            "type": "scatter"
           }
          ],
          "scatter3d": [
           {
            "line": {
             "colorbar": {
              "outlinewidth": 0,
              "ticks": ""
             }
            },
            "marker": {
             "colorbar": {
              "outlinewidth": 0,
              "ticks": ""
             }
            },
            "type": "scatter3d"
           }
          ],
          "scattercarpet": [
           {
            "marker": {
             "colorbar": {
              "outlinewidth": 0,
              "ticks": ""
             }
            },
            "type": "scattercarpet"
           }
          ],
          "scattergeo": [
           {
            "marker": {
             "colorbar": {
              "outlinewidth": 0,
              "ticks": ""
             }
            },
            "type": "scattergeo"
           }
          ],
          "scattergl": [
           {
            "marker": {
             "colorbar": {
              "outlinewidth": 0,
              "ticks": ""
             }
            },
            "type": "scattergl"
           }
          ],
          "scattermapbox": [
           {
            "marker": {
             "colorbar": {
              "outlinewidth": 0,
              "ticks": ""
             }
            },
            "type": "scattermapbox"
           }
          ],
          "scatterpolar": [
           {
            "marker": {
             "colorbar": {
              "outlinewidth": 0,
              "ticks": ""
             }
            },
            "type": "scatterpolar"
           }
          ],
          "scatterpolargl": [
           {
            "marker": {
             "colorbar": {
              "outlinewidth": 0,
              "ticks": ""
             }
            },
            "type": "scatterpolargl"
           }
          ],
          "scatterternary": [
           {
            "marker": {
             "colorbar": {
              "outlinewidth": 0,
              "ticks": ""
             }
            },
            "type": "scatterternary"
           }
          ],
          "surface": [
           {
            "colorbar": {
             "outlinewidth": 0,
             "ticks": ""
            },
            "colorscale": [
             [
              0,
              "#0d0887"
             ],
             [
              0.1111111111111111,
              "#46039f"
             ],
             [
              0.2222222222222222,
              "#7201a8"
             ],
             [
              0.3333333333333333,
              "#9c179e"
             ],
             [
              0.4444444444444444,
              "#bd3786"
             ],
             [
              0.5555555555555556,
              "#d8576b"
             ],
             [
              0.6666666666666666,
              "#ed7953"
             ],
             [
              0.7777777777777778,
              "#fb9f3a"
             ],
             [
              0.8888888888888888,
              "#fdca26"
             ],
             [
              1,
              "#f0f921"
             ]
            ],
            "type": "surface"
           }
          ],
          "table": [
           {
            "cells": {
             "fill": {
              "color": "#EBF0F8"
             },
             "line": {
              "color": "white"
             }
            },
            "header": {
             "fill": {
              "color": "#C8D4E3"
             },
             "line": {
              "color": "white"
             }
            },
            "type": "table"
           }
          ]
         },
         "layout": {
          "annotationdefaults": {
           "arrowcolor": "#2a3f5f",
           "arrowhead": 0,
           "arrowwidth": 1
          },
          "autotypenumbers": "strict",
          "coloraxis": {
           "colorbar": {
            "outlinewidth": 0,
            "ticks": ""
           }
          },
          "colorscale": {
           "diverging": [
            [
             0,
             "#8e0152"
            ],
            [
             0.1,
             "#c51b7d"
            ],
            [
             0.2,
             "#de77ae"
            ],
            [
             0.3,
             "#f1b6da"
            ],
            [
             0.4,
             "#fde0ef"
            ],
            [
             0.5,
             "#f7f7f7"
            ],
            [
             0.6,
             "#e6f5d0"
            ],
            [
             0.7,
             "#b8e186"
            ],
            [
             0.8,
             "#7fbc41"
            ],
            [
             0.9,
             "#4d9221"
            ],
            [
             1,
             "#276419"
            ]
           ],
           "sequential": [
            [
             0,
             "#0d0887"
            ],
            [
             0.1111111111111111,
             "#46039f"
            ],
            [
             0.2222222222222222,
             "#7201a8"
            ],
            [
             0.3333333333333333,
             "#9c179e"
            ],
            [
             0.4444444444444444,
             "#bd3786"
            ],
            [
             0.5555555555555556,
             "#d8576b"
            ],
            [
             0.6666666666666666,
             "#ed7953"
            ],
            [
             0.7777777777777778,
             "#fb9f3a"
            ],
            [
             0.8888888888888888,
             "#fdca26"
            ],
            [
             1,
             "#f0f921"
            ]
           ],
           "sequentialminus": [
            [
             0,
             "#0d0887"
            ],
            [
             0.1111111111111111,
             "#46039f"
            ],
            [
             0.2222222222222222,
             "#7201a8"
            ],
            [
             0.3333333333333333,
             "#9c179e"
            ],
            [
             0.4444444444444444,
             "#bd3786"
            ],
            [
             0.5555555555555556,
             "#d8576b"
            ],
            [
             0.6666666666666666,
             "#ed7953"
            ],
            [
             0.7777777777777778,
             "#fb9f3a"
            ],
            [
             0.8888888888888888,
             "#fdca26"
            ],
            [
             1,
             "#f0f921"
            ]
           ]
          },
          "colorway": [
           "#636efa",
           "#EF553B",
           "#00cc96",
           "#ab63fa",
           "#FFA15A",
           "#19d3f3",
           "#FF6692",
           "#B6E880",
           "#FF97FF",
           "#FECB52"
          ],
          "font": {
           "color": "#2a3f5f"
          },
          "geo": {
           "bgcolor": "white",
           "lakecolor": "white",
           "landcolor": "#E5ECF6",
           "showlakes": true,
           "showland": true,
           "subunitcolor": "white"
          },
          "hoverlabel": {
           "align": "left"
          },
          "hovermode": "closest",
          "mapbox": {
           "style": "light"
          },
          "paper_bgcolor": "white",
          "plot_bgcolor": "#E5ECF6",
          "polar": {
           "angularaxis": {
            "gridcolor": "white",
            "linecolor": "white",
            "ticks": ""
           },
           "bgcolor": "#E5ECF6",
           "radialaxis": {
            "gridcolor": "white",
            "linecolor": "white",
            "ticks": ""
           }
          },
          "scene": {
           "xaxis": {
            "backgroundcolor": "#E5ECF6",
            "gridcolor": "white",
            "gridwidth": 2,
            "linecolor": "white",
            "showbackground": true,
            "ticks": "",
            "zerolinecolor": "white"
           },
           "yaxis": {
            "backgroundcolor": "#E5ECF6",
            "gridcolor": "white",
            "gridwidth": 2,
            "linecolor": "white",
            "showbackground": true,
            "ticks": "",
            "zerolinecolor": "white"
           },
           "zaxis": {
            "backgroundcolor": "#E5ECF6",
            "gridcolor": "white",
            "gridwidth": 2,
            "linecolor": "white",
            "showbackground": true,
            "ticks": "",
            "zerolinecolor": "white"
           }
          },
          "shapedefaults": {
           "line": {
            "color": "#2a3f5f"
           }
          },
          "ternary": {
           "aaxis": {
            "gridcolor": "white",
            "linecolor": "white",
            "ticks": ""
           },
           "baxis": {
            "gridcolor": "white",
            "linecolor": "white",
            "ticks": ""
           },
           "bgcolor": "#E5ECF6",
           "caxis": {
            "gridcolor": "white",
            "linecolor": "white",
            "ticks": ""
           }
          },
          "title": {
           "x": 0.05
          },
          "xaxis": {
           "automargin": true,
           "gridcolor": "white",
           "linecolor": "white",
           "ticks": "",
           "title": {
            "standoff": 15
           },
           "zerolinecolor": "white",
           "zerolinewidth": 2
          },
          "yaxis": {
           "automargin": true,
           "gridcolor": "white",
           "linecolor": "white",
           "ticks": "",
           "title": {
            "standoff": 15
           },
           "zerolinecolor": "white",
           "zerolinewidth": 2
          }
         }
        },
        "xaxis": {
         "anchor": "y",
         "domain": [
          0,
          1
         ],
         "title": {
          "text": "number_of_reviews"
         }
        },
        "yaxis": {
         "anchor": "x",
         "domain": [
          0,
          1
         ],
         "title": {
          "text": "price"
         }
        }
       }
      },
      "text/html": [
       "<div>                            <div id=\"4d40fad8-8ed9-4d23-b608-36bbd7deb48f\" class=\"plotly-graph-div\" style=\"height:525px; width:100%;\"></div>            <script type=\"text/javascript\">                require([\"plotly\"], function(Plotly) {                    window.PLOTLYENV=window.PLOTLYENV || {};                                    if (document.getElementById(\"4d40fad8-8ed9-4d23-b608-36bbd7deb48f\")) {                    Plotly.newPlot(                        \"4d40fad8-8ed9-4d23-b608-36bbd7deb48f\",                        [{\"hovertemplate\": \"number_of_reviews=%{x}<br>price=%{y}<extra></extra>\", \"legendgroup\": \"\", \"marker\": {\"color\": \"#636efa\", \"symbol\": \"circle\"}, \"mode\": \"markers\", \"name\": \"\", \"orientation\": \"v\", \"showlegend\": false, \"type\": \"scatter\", \"x\": [3000, 1000, 6000, 356, 3000, 1000, 9000, 3000, 81, 115, 404, 256, 2000, 785, 827, 87, 1000, 2000, 1000, 262, 515, 89, 137, 28, 102, 596, 65, 839, 956, 3000, 2000, 173, 7, 408, 203, 310, 74, 132, 19, 14, 70, 0, 447, 98, 2000, 493, 810, 58, 2000, 555, 48, 46, 3000, 29, 17, 62, 131, 984, 59, 969, 889, 378, 444, 31, 401, 394, 529, 255, 168, 115, 128, 831, 2000, 637, 3000, 581, 272, 0, 17, 1000, 30, 20, 44, 4, 10, 291, 13, 93, 6, 76, 361, 7, 163, 2000, 5, 143, 892, 169, 473, 2, 1000, 86, 71, 2000, 17, 26, 239, 28, 1, 26, 15, 62, 234, 52, 191, 178, 12, 570, 79, 54, 852, 212, 538, 9, 105, 100, 896, 164, 1000, 42, 22, 2, 62, 175, 190, 9, 170, 0, 98, 112, 28, 8, 2, 84, 20, 98, 14, 355, 17, 89, 207, 176, 56, 496, 42, 1000, 130, 17, 14, 2, 11, 1000, 86, 196, 2, 1000, 40, 11, 65, 0, 1000, 343, 4, 46, 34, 12, 9, 301, 128, 81, 25, 61, 321, 2000, 8, 17, 1, 478, 112, 1, 831, 7, 269, 398, 276, 14, 0, 99, 987, 27, 232, 513, 495, 22, 16, 17, 20, 5, 72, 845, 143, 51, 31, 19, 94, 40, 408, 17, 43, 33, 75, 7, 81, 217, 560, 108, 16, 48, 5, 31, 19, 22, 54, 13, 51, 733, 2, 165, 40, 75, 9, 20, 3, 103, 1000, 308, 28, 16, 39, 26, 90, 24, 492, 1, 85, 41, 339, 10, 4, 93, 16, 53, 12, 244, 25, 0, 12, 13, 315, 31, 26, 60, 68, 1, 210, 12, 26, 21, 5, 265, 43, 10, 679, 26, 40, 187, 35, 91, 2, 23, 32, 17, 65, 28, 14, 7, 12, 0, 1, 9, 61, 70, 16, 42, 0, 9, 0, 13, 114, 0, 297, 4, 23, 687, 1, 4, 3, 147, 57, 8, 12, 57, 223, 12, 7, 149, 0, 38, 11, 59, 0, 337, 1, 72, 19, 25, 88, 17, 89, 3, 12, 16, 65, 45, 5, 30, 61, 6, 242, 7, 18, 16, 35, 73, 0, 38, 0, 102, 29, 22, 7, 157, 18, 43, 65, 50, 0, 86, 54, 0, 0, 5, 26, 70, 9, 22, 1, 0, 23, 134, 10, 11, 64, 6, 0, 273, 205, 37, 123, 636, 1, 3, 1, 101, 110, 19, 49, 0, 7, 16, 11, 19, 0, 1, 101, 30, 47, 1, 60, 19, 1, 0, 22, 26, 9, 103, 2, 100, 271, 0, 72, 0, 0, 19, 72, 42, 33, 4, 7, 289, 56, 5, 0, 0, 146, 183, 0, 14, 54, 12, 23, 4, 18, 18, 67, 239, 1, 17, 82, 12, 25, 44, 619, 23, 17, 208, 73, 19, 39, 20, 20, 3, 56, 127, 65, 57, 146, 334, 34, 22, 328, 34, 116, 25, 44, 32, 1000, 166, 31, 163, 357, 596, 156, 6, 81, 83, 22, 32, 11, 62, 39, 15, 0, 0, 46, 0], \"xaxis\": \"x\", \"y\": [8.0, 6.0, 13.0, 70.0, 20.0, 20.0, 15.0, 12.0, 8.0, 8.0, 20.0, 8.0, 11.0, 10.0, 5.0, 58.0, 9.0, 14.0, 22.0, 14.0, 17.0, 45.0, 6.0, 16.0, 6.0, 20.0, 68.0, 14.0, 5.0, 12.0, 7.0, 69.0, 3.0, 9.0, 5.0, 10.0, 6.0, 40.0, 25.0, 10.0, 8.0, 20.0, 17.0, 42.0, 9.0, 17.0, 13.0, 26.0, 28.0, 12.0, 8.0, 6.0, 11.0, 60.0, 6.0, 17.0, 20.0, 8.0, 15.0, 19.0, 20.0, 16.0, 12.0, 5.0, 10.0, 5.0, 5.0, 68.0, 20.0, 12.0, 16.0, 14.0, 14.0, 9.0, 12.0, 12.0, 16.0, 50.0, 6.0, 12.0, 68.0, 8.0, 10.0, 3.0, 32.0, 8.0, 14.0, 45.0, 10.0, 28.0, 14.0, 8.0, 5.0, 15.0, 18.0, 17.0, 8.0, 14.0, 15.0, 10.0, 18.0, 60.0, 4.0, 7.0, 18.0, 20.0, 18.0, 10.0, 5.0, 5.0, 6.0, 6.0, 20.0, 10.0, 6.0, 20.0, 14.0, 6.0, 8.0, 15.0, 9.0, 9.0, 29.0, 8.0, 10.0, 14.0, 14.0, 30.0, 30.0, 14.0, 14.0, 34.0, 34.0, 5.0, 8.0, 18.0, 9.0, 8.0, 8.0, 6.0, 12.0, 28.0, 9.0, 16.0, 36.0, 9.0, 12.0, 15.0, 18.0, 20.0, 14.0, 45.0, 34.0, 14.0, 6.0, 12.0, 8.0, 6.0, 6.0, 8.0, 20.0, 6.0, 6.0, 3.0, 8.0, 12.0, 68.0, 15.0, 15.0, 50.0, 15.0, 14.0, 9.0, 6.0, 55.0, 14.0, 8.0, 30.0, 10.0, 10.0, 20.0, 8.0, 14.0, 14.0, 16.0, 34.0, 8.0, 10.0, 10.0, 42.0, 18.0, 15.0, 30.0, 17.0, 15.0, 16.0, 50.0, 30.0, 22.0, 14.0, 40.0, 18.0, 23.0, 8.0, 34.0, 12.0, 36.0, 4.0, 16.0, 17.0, 16.0, 12.0, 10.0, 17.0, 10.0, 24.0, 68.0, 17.0, 22.0, 12.0, 9.0, 30.0, 22.0, 19.0, 16.0, 10.0, 28.0, 16.0, 15.0, 40.0, 12.0, 14.0, 7.0, 8.0, 10.0, 3.0, 14.0, 15.0, 12.0, 52.0, 8.0, 8.0, 18.0, 30.0, 3.5, 6.0, 13.0, 20.0, 9.0, 16.0, 12.0, 30.0, 15.0, 14.0, 20.0, 16.0, 10.0, 59.0, 8.0, 12.0, 10.0, 12.0, 8.0, 28.0, 12.0, 14.0, 5.0, 20.0, 12.0, 12.0, 15.0, 32.0, 12.0, 20.0, 29.0, 17.0, 6.0, 49.0, 25.0, 16.0, 6.0, 8.0, 30.0, 8.0, 10.0, 16.0, 18.0, 14.0, 15.0, 12.0, 8.0, 110.0, 105.0, 12.0, 10.0, 22.0, 30.0, 15.0, 8.0, 12.0, 20.0, 30.0, 8.0, 10.0, 16.0, 25.0, 20.0, 12.0, 85.0, 20.0, 14.0, 45.0, 40.0, 3.0, 10.0, 16.0, 8.0, 9.0, 30.0, 55.0, 22.0, 16.0, 18.0, 24.0, 40.0, 29.0, 30.0, 8.0, 18.0, 6.0, 9.0, 10.0, 30.0, 12.0, 7.0, 26.0, 3.0, 16.0, 14.0, 5.0, 8.0, 8.0, 34.0, 15.0, 10.0, 75.0, 20.0, 17.0, 6.0, 8.0, 12.0, 35.0, 14.0, 12.0, 22.0, 16.0, 20.0, 14.0, 100.0, 8.0, 12.0, 14.0, 25.0, 24.0, 26.0, 3.0, 8.0, 14.0, 20.0, 30.0, 14.0, 5.0, 15.0, 60.0, 10.0, 10.0, 10.0, 8.0, 12.0, 8.0, 24.0, 17.0, 12.0, 18.0, 16.0, 4.95, 14.0, 9.0, 12.0, 10.0, 14.0, 25.0, 20.0, 10.0, 8.0, 14.0, 20.0, 20.0, 16.0, 8.0, 5.0, 20.0, 8.0, 20.0, 32.0, 25.0, 11.0, 38.0, 7.0, 7.0, 7.0, 30.0, 10.0, 12.0, 12.0, 8.0, 7.0, 36.0, 36.0, 20.0, 12.0, 7.0, 12.0, 28.0, 22.0, 32.0, 30.0, 16.0, 12.0, 28.0, 17.0, 6.0, 7.0, 20.0, 34.0, 34.0, 7.0, 3.0, 24.0, 12.0, 12.0, 20.0, 28.0, 18.0, 8.0, 32.0, 20.0, 14.0, 5.0, 9.0, 20.0, 34.0, 6.0, 35.0, 12.0, 32.0, 7.0, 14.0, 14.0, 6.0, 20.0, 12.0, 32.0, 7.0, 9.0, 24.0, 14.0, 12.5, 10.0, 6.0, 4.0, 13.0, 16.0, 28.0, 54.0, 18.0, 20.0, 62.0, 24.0, 17.0, 15.0, 16.0, 10.0, 17.0, 25.0, 39.0, 12.0, 12.0, 2.0, 49.0, 8.0, 6.0, 15.0, 16.0, 50.0, 50.0], \"yaxis\": \"y\"}],                        {\"legend\": {\"tracegroupgap\": 0}, \"margin\": {\"t\": 60}, \"template\": {\"data\": {\"bar\": [{\"error_x\": {\"color\": \"#2a3f5f\"}, \"error_y\": {\"color\": \"#2a3f5f\"}, \"marker\": {\"line\": {\"color\": \"#E5ECF6\", \"width\": 0.5}}, \"type\": \"bar\"}], \"barpolar\": [{\"marker\": {\"line\": {\"color\": \"#E5ECF6\", \"width\": 0.5}}, \"type\": \"barpolar\"}], \"carpet\": [{\"aaxis\": {\"endlinecolor\": \"#2a3f5f\", \"gridcolor\": \"white\", \"linecolor\": \"white\", \"minorgridcolor\": \"white\", \"startlinecolor\": \"#2a3f5f\"}, \"baxis\": {\"endlinecolor\": \"#2a3f5f\", \"gridcolor\": \"white\", \"linecolor\": \"white\", \"minorgridcolor\": \"white\", \"startlinecolor\": \"#2a3f5f\"}, \"type\": \"carpet\"}], \"choropleth\": [{\"colorbar\": {\"outlinewidth\": 0, \"ticks\": \"\"}, \"type\": \"choropleth\"}], \"contour\": [{\"colorbar\": {\"outlinewidth\": 0, \"ticks\": \"\"}, \"colorscale\": [[0.0, \"#0d0887\"], [0.1111111111111111, \"#46039f\"], [0.2222222222222222, \"#7201a8\"], [0.3333333333333333, \"#9c179e\"], [0.4444444444444444, \"#bd3786\"], [0.5555555555555556, \"#d8576b\"], [0.6666666666666666, \"#ed7953\"], [0.7777777777777778, \"#fb9f3a\"], [0.8888888888888888, \"#fdca26\"], [1.0, \"#f0f921\"]], \"type\": \"contour\"}], \"contourcarpet\": [{\"colorbar\": {\"outlinewidth\": 0, \"ticks\": \"\"}, \"type\": \"contourcarpet\"}], \"heatmap\": [{\"colorbar\": {\"outlinewidth\": 0, \"ticks\": \"\"}, \"colorscale\": [[0.0, \"#0d0887\"], [0.1111111111111111, \"#46039f\"], [0.2222222222222222, \"#7201a8\"], [0.3333333333333333, \"#9c179e\"], [0.4444444444444444, \"#bd3786\"], [0.5555555555555556, \"#d8576b\"], [0.6666666666666666, \"#ed7953\"], [0.7777777777777778, \"#fb9f3a\"], [0.8888888888888888, \"#fdca26\"], [1.0, \"#f0f921\"]], \"type\": \"heatmap\"}], \"heatmapgl\": [{\"colorbar\": {\"outlinewidth\": 0, \"ticks\": \"\"}, \"colorscale\": [[0.0, \"#0d0887\"], [0.1111111111111111, \"#46039f\"], [0.2222222222222222, \"#7201a8\"], [0.3333333333333333, \"#9c179e\"], [0.4444444444444444, \"#bd3786\"], [0.5555555555555556, \"#d8576b\"], [0.6666666666666666, \"#ed7953\"], [0.7777777777777778, \"#fb9f3a\"], [0.8888888888888888, \"#fdca26\"], [1.0, \"#f0f921\"]], \"type\": \"heatmapgl\"}], \"histogram\": [{\"marker\": {\"colorbar\": {\"outlinewidth\": 0, \"ticks\": \"\"}}, \"type\": \"histogram\"}], \"histogram2d\": [{\"colorbar\": {\"outlinewidth\": 0, \"ticks\": \"\"}, \"colorscale\": [[0.0, \"#0d0887\"], [0.1111111111111111, \"#46039f\"], [0.2222222222222222, \"#7201a8\"], [0.3333333333333333, \"#9c179e\"], [0.4444444444444444, \"#bd3786\"], [0.5555555555555556, \"#d8576b\"], [0.6666666666666666, \"#ed7953\"], [0.7777777777777778, \"#fb9f3a\"], [0.8888888888888888, \"#fdca26\"], [1.0, \"#f0f921\"]], \"type\": \"histogram2d\"}], \"histogram2dcontour\": [{\"colorbar\": {\"outlinewidth\": 0, \"ticks\": \"\"}, \"colorscale\": [[0.0, \"#0d0887\"], [0.1111111111111111, \"#46039f\"], [0.2222222222222222, \"#7201a8\"], [0.3333333333333333, \"#9c179e\"], [0.4444444444444444, \"#bd3786\"], [0.5555555555555556, \"#d8576b\"], [0.6666666666666666, \"#ed7953\"], [0.7777777777777778, \"#fb9f3a\"], [0.8888888888888888, \"#fdca26\"], [1.0, \"#f0f921\"]], \"type\": \"histogram2dcontour\"}], \"mesh3d\": [{\"colorbar\": {\"outlinewidth\": 0, \"ticks\": \"\"}, \"type\": \"mesh3d\"}], \"parcoords\": [{\"line\": {\"colorbar\": {\"outlinewidth\": 0, \"ticks\": \"\"}}, \"type\": \"parcoords\"}], \"pie\": [{\"automargin\": true, \"type\": \"pie\"}], \"scatter\": [{\"marker\": {\"colorbar\": {\"outlinewidth\": 0, \"ticks\": \"\"}}, \"type\": \"scatter\"}], \"scatter3d\": [{\"line\": {\"colorbar\": {\"outlinewidth\": 0, \"ticks\": \"\"}}, \"marker\": {\"colorbar\": {\"outlinewidth\": 0, \"ticks\": \"\"}}, \"type\": \"scatter3d\"}], \"scattercarpet\": [{\"marker\": {\"colorbar\": {\"outlinewidth\": 0, \"ticks\": \"\"}}, \"type\": \"scattercarpet\"}], \"scattergeo\": [{\"marker\": {\"colorbar\": {\"outlinewidth\": 0, \"ticks\": \"\"}}, \"type\": \"scattergeo\"}], \"scattergl\": [{\"marker\": {\"colorbar\": {\"outlinewidth\": 0, \"ticks\": \"\"}}, \"type\": \"scattergl\"}], \"scattermapbox\": [{\"marker\": {\"colorbar\": {\"outlinewidth\": 0, \"ticks\": \"\"}}, \"type\": \"scattermapbox\"}], \"scatterpolar\": [{\"marker\": {\"colorbar\": {\"outlinewidth\": 0, \"ticks\": \"\"}}, \"type\": \"scatterpolar\"}], \"scatterpolargl\": [{\"marker\": {\"colorbar\": {\"outlinewidth\": 0, \"ticks\": \"\"}}, \"type\": \"scatterpolargl\"}], \"scatterternary\": [{\"marker\": {\"colorbar\": {\"outlinewidth\": 0, \"ticks\": \"\"}}, \"type\": \"scatterternary\"}], \"surface\": [{\"colorbar\": {\"outlinewidth\": 0, \"ticks\": \"\"}, \"colorscale\": [[0.0, \"#0d0887\"], [0.1111111111111111, \"#46039f\"], [0.2222222222222222, \"#7201a8\"], [0.3333333333333333, \"#9c179e\"], [0.4444444444444444, \"#bd3786\"], [0.5555555555555556, \"#d8576b\"], [0.6666666666666666, \"#ed7953\"], [0.7777777777777778, \"#fb9f3a\"], [0.8888888888888888, \"#fdca26\"], [1.0, \"#f0f921\"]], \"type\": \"surface\"}], \"table\": [{\"cells\": {\"fill\": {\"color\": \"#EBF0F8\"}, \"line\": {\"color\": \"white\"}}, \"header\": {\"fill\": {\"color\": \"#C8D4E3\"}, \"line\": {\"color\": \"white\"}}, \"type\": \"table\"}]}, \"layout\": {\"annotationdefaults\": {\"arrowcolor\": \"#2a3f5f\", \"arrowhead\": 0, \"arrowwidth\": 1}, \"autotypenumbers\": \"strict\", \"coloraxis\": {\"colorbar\": {\"outlinewidth\": 0, \"ticks\": \"\"}}, \"colorscale\": {\"diverging\": [[0, \"#8e0152\"], [0.1, \"#c51b7d\"], [0.2, \"#de77ae\"], [0.3, \"#f1b6da\"], [0.4, \"#fde0ef\"], [0.5, \"#f7f7f7\"], [0.6, \"#e6f5d0\"], [0.7, \"#b8e186\"], [0.8, \"#7fbc41\"], [0.9, \"#4d9221\"], [1, \"#276419\"]], \"sequential\": [[0.0, \"#0d0887\"], [0.1111111111111111, \"#46039f\"], [0.2222222222222222, \"#7201a8\"], [0.3333333333333333, \"#9c179e\"], [0.4444444444444444, \"#bd3786\"], [0.5555555555555556, \"#d8576b\"], [0.6666666666666666, \"#ed7953\"], [0.7777777777777778, \"#fb9f3a\"], [0.8888888888888888, \"#fdca26\"], [1.0, \"#f0f921\"]], \"sequentialminus\": [[0.0, \"#0d0887\"], [0.1111111111111111, \"#46039f\"], [0.2222222222222222, \"#7201a8\"], [0.3333333333333333, \"#9c179e\"], [0.4444444444444444, \"#bd3786\"], [0.5555555555555556, \"#d8576b\"], [0.6666666666666666, \"#ed7953\"], [0.7777777777777778, \"#fb9f3a\"], [0.8888888888888888, \"#fdca26\"], [1.0, \"#f0f921\"]]}, \"colorway\": [\"#636efa\", \"#EF553B\", \"#00cc96\", \"#ab63fa\", \"#FFA15A\", \"#19d3f3\", \"#FF6692\", \"#B6E880\", \"#FF97FF\", \"#FECB52\"], \"font\": {\"color\": \"#2a3f5f\"}, \"geo\": {\"bgcolor\": \"white\", \"lakecolor\": \"white\", \"landcolor\": \"#E5ECF6\", \"showlakes\": true, \"showland\": true, \"subunitcolor\": \"white\"}, \"hoverlabel\": {\"align\": \"left\"}, \"hovermode\": \"closest\", \"mapbox\": {\"style\": \"light\"}, \"paper_bgcolor\": \"white\", \"plot_bgcolor\": \"#E5ECF6\", \"polar\": {\"angularaxis\": {\"gridcolor\": \"white\", \"linecolor\": \"white\", \"ticks\": \"\"}, \"bgcolor\": \"#E5ECF6\", \"radialaxis\": {\"gridcolor\": \"white\", \"linecolor\": \"white\", \"ticks\": \"\"}}, \"scene\": {\"xaxis\": {\"backgroundcolor\": \"#E5ECF6\", \"gridcolor\": \"white\", \"gridwidth\": 2, \"linecolor\": \"white\", \"showbackground\": true, \"ticks\": \"\", \"zerolinecolor\": \"white\"}, \"yaxis\": {\"backgroundcolor\": \"#E5ECF6\", \"gridcolor\": \"white\", \"gridwidth\": 2, \"linecolor\": \"white\", \"showbackground\": true, \"ticks\": \"\", \"zerolinecolor\": \"white\"}, \"zaxis\": {\"backgroundcolor\": \"#E5ECF6\", \"gridcolor\": \"white\", \"gridwidth\": 2, \"linecolor\": \"white\", \"showbackground\": true, \"ticks\": \"\", \"zerolinecolor\": \"white\"}}, \"shapedefaults\": {\"line\": {\"color\": \"#2a3f5f\"}}, \"ternary\": {\"aaxis\": {\"gridcolor\": \"white\", \"linecolor\": \"white\", \"ticks\": \"\"}, \"baxis\": {\"gridcolor\": \"white\", \"linecolor\": \"white\", \"ticks\": \"\"}, \"bgcolor\": \"#E5ECF6\", \"caxis\": {\"gridcolor\": \"white\", \"linecolor\": \"white\", \"ticks\": \"\"}}, \"title\": {\"x\": 0.05}, \"xaxis\": {\"automargin\": true, \"gridcolor\": \"white\", \"linecolor\": \"white\", \"ticks\": \"\", \"title\": {\"standoff\": 15}, \"zerolinecolor\": \"white\", \"zerolinewidth\": 2}, \"yaxis\": {\"automargin\": true, \"gridcolor\": \"white\", \"linecolor\": \"white\", \"ticks\": \"\", \"title\": {\"standoff\": 15}, \"zerolinecolor\": \"white\", \"zerolinewidth\": 2}}}, \"xaxis\": {\"anchor\": \"y\", \"domain\": [0.0, 1.0], \"title\": {\"text\": \"number_of_reviews\"}}, \"yaxis\": {\"anchor\": \"x\", \"domain\": [0.0, 1.0], \"title\": {\"text\": \"price\"}}},                        {\"responsive\": true}                    ).then(function(){\n",
       "                            \n",
       "var gd = document.getElementById('4d40fad8-8ed9-4d23-b608-36bbd7deb48f');\n",
       "var x = new MutationObserver(function (mutations, observer) {{\n",
       "        var display = window.getComputedStyle(gd).display;\n",
       "        if (!display || display === 'none') {{\n",
       "            console.log([gd, 'removed!']);\n",
       "            Plotly.purge(gd);\n",
       "            observer.disconnect();\n",
       "        }}\n",
       "}});\n",
       "\n",
       "// Listen for the removal of the full notebook cells\n",
       "var notebookContainer = gd.closest('#notebook-container');\n",
       "if (notebookContainer) {{\n",
       "    x.observe(notebookContainer, {childList: true});\n",
       "}}\n",
       "\n",
       "// Listen for the clearing of the current output cell\n",
       "var outputEl = gd.closest('.output');\n",
       "if (outputEl) {{\n",
       "    x.observe(outputEl, {childList: true});\n",
       "}}\n",
       "\n",
       "                        })                };                });            </script>        </div>"
      ]
     },
     "metadata": {},
     "output_type": "display_data"
    }
   ],
   "source": [
    "# barplot count dari brand \n",
    "fig = px.scatter(df[df['brand']==top5_brands[0]], x='number_of_reviews' ,y='price')\n",
    "fig.show()"
   ]
  },
  {
   "cell_type": "code",
   "execution_count": 44,
   "id": "broadband-scanner",
   "metadata": {},
   "outputs": [
    {
     "data": {
      "application/vnd.plotly.v1+json": {
       "config": {
        "plotlyServerURL": "https://plot.ly"
       },
       "data": [
        {
         "hovertemplate": "number_of_reviews=%{x}<br>price=%{y}<extra></extra>",
         "legendgroup": "",
         "marker": {
          "color": "#636efa",
          "symbol": "circle"
         },
         "mode": "markers",
         "name": "",
         "orientation": "v",
         "showlegend": false,
         "type": "scatter",
         "x": [
          1000,
          1000,
          3000,
          2000,
          2000,
          6,
          131,
          1000,
          2000,
          3000,
          2000,
          185,
          1000,
          814,
          3000,
          1000,
          1000,
          948,
          2000,
          964,
          1000,
          1000,
          562,
          547,
          868,
          160,
          674,
          387,
          17,
          1000,
          1000,
          7,
          603,
          397,
          769,
          913,
          758,
          911,
          936,
          331,
          504,
          1,
          328,
          663,
          244,
          2000,
          952,
          612,
          3000,
          363,
          22,
          2,
          1,
          31,
          701,
          1,
          630,
          140,
          776,
          8,
          748,
          213,
          951,
          20,
          3000,
          136,
          24,
          1000,
          6,
          6,
          150,
          206,
          477,
          36,
          285,
          90,
          7,
          4,
          564,
          270,
          133,
          70,
          522,
          276,
          27,
          2,
          874,
          718,
          653,
          14,
          375,
          16,
          124,
          204,
          3000,
          474,
          217,
          14,
          230,
          109,
          31,
          6,
          688,
          39,
          275,
          4,
          23,
          337,
          190,
          1000,
          71,
          3,
          160,
          45,
          262,
          435,
          228,
          1000,
          26,
          44,
          39,
          39,
          453,
          159,
          73,
          31,
          66,
          14,
          263,
          241,
          248,
          59,
          109,
          109,
          0,
          0,
          260,
          277,
          576,
          219,
          1000,
          470,
          57,
          4,
          134,
          271,
          36,
          227,
          3,
          133,
          578,
          5,
          8,
          41,
          17,
          274,
          19,
          0,
          118,
          15,
          142,
          17,
          47,
          88,
          62,
          47,
          171,
          0,
          756,
          374,
          15,
          94,
          78,
          0,
          9,
          28,
          35,
          85,
          154,
          0,
          88,
          25,
          2,
          13,
          1,
          7,
          45,
          37,
          0,
          214,
          0,
          18,
          2,
          19,
          12,
          50,
          33,
          178,
          300,
          52,
          404,
          0,
          22,
          5,
          42,
          66,
          187,
          0,
          3,
          227,
          19,
          35,
          248,
          35,
          5,
          28,
          32,
          35,
          7,
          14,
          107,
          0,
          37,
          2,
          0,
          286,
          0,
          0,
          35,
          60,
          167,
          402,
          0,
          3
         ],
         "xaxis": "x",
         "y": [
          39.5,
          28,
          28,
          18.5,
          29.5,
          84,
          28,
          17,
          19.5,
          30,
          29.5,
          39,
          33,
          27,
          19.5,
          28.5,
          33,
          39.5,
          19.5,
          22,
          29.5,
          23,
          19,
          49.5,
          17,
          28,
          28.5,
          61.5,
          25,
          19,
          28.5,
          31.5,
          28.5,
          36,
          22,
          22,
          39.5,
          28.5,
          17,
          19.5,
          24,
          26,
          42,
          39.5,
          28,
          18.5,
          25,
          28,
          19.5,
          19.5,
          39,
          29,
          39.5,
          58,
          21,
          45,
          53,
          46,
          23,
          30,
          18,
          21,
          27.5,
          32,
          15,
          29,
          58,
          5,
          40,
          18,
          25,
          25,
          28,
          17.5,
          15.5,
          28.5,
          39,
          39,
          18.5,
          46,
          20,
          34,
          19.5,
          24,
          19.5,
          39.5,
          33,
          19.5,
          51.5,
          69,
          15.5,
          53,
          29.5,
          27,
          9.5,
          22,
          39.5,
          39,
          48,
          44.5,
          33,
          31.5,
          19.5,
          14.5,
          25,
          39,
          22,
          40,
          17,
          12,
          48,
          53,
          21,
          29.5,
          26,
          16.5,
          33,
          12,
          29.5,
          29.5,
          66,
          29.5,
          22.5,
          28,
          22,
          55,
          29.5,
          9.5,
          19.5,
          30,
          31,
          8,
          19.5,
          22,
          19.5,
          29.5,
          18.5,
          28.5,
          18.5,
          17,
          18.5,
          27,
          50,
          53,
          47,
          19.5,
          50.5,
          25,
          69,
          32,
          30.5,
          55,
          51,
          22.5,
          19.5,
          22,
          40,
          18,
          28.5,
          58,
          29,
          27,
          16,
          18,
          55.5,
          18,
          30,
          19.5,
          39.5,
          42,
          19.5,
          25,
          52,
          55,
          69,
          30.5,
          17,
          39.5,
          19.5,
          39,
          19.5,
          39.5,
          39.5,
          66,
          19.5,
          19.5,
          28.5,
          21,
          32.5,
          34.5,
          19.5,
          5,
          14.5,
          18.5,
          27,
          28,
          68,
          28.5,
          25,
          21,
          49,
          32.5,
          19,
          35,
          35,
          14.5,
          77,
          39.5,
          14.5,
          17.5,
          32,
          13.5,
          19.5,
          15,
          33,
          16,
          28.5,
          18.5,
          7.5,
          21,
          30,
          19.5,
          18.5,
          14.5,
          29.5,
          19.5,
          39.5,
          29.5,
          28.5,
          19.5,
          26.5,
          50,
          40,
          51
         ],
         "yaxis": "y"
        }
       ],
       "layout": {
        "legend": {
         "tracegroupgap": 0
        },
        "margin": {
         "t": 60
        },
        "template": {
         "data": {
          "bar": [
           {
            "error_x": {
             "color": "#2a3f5f"
            },
            "error_y": {
             "color": "#2a3f5f"
            },
            "marker": {
             "line": {
              "color": "#E5ECF6",
              "width": 0.5
             }
            },
            "type": "bar"
           }
          ],
          "barpolar": [
           {
            "marker": {
             "line": {
              "color": "#E5ECF6",
              "width": 0.5
             }
            },
            "type": "barpolar"
           }
          ],
          "carpet": [
           {
            "aaxis": {
             "endlinecolor": "#2a3f5f",
             "gridcolor": "white",
             "linecolor": "white",
             "minorgridcolor": "white",
             "startlinecolor": "#2a3f5f"
            },
            "baxis": {
             "endlinecolor": "#2a3f5f",
             "gridcolor": "white",
             "linecolor": "white",
             "minorgridcolor": "white",
             "startlinecolor": "#2a3f5f"
            },
            "type": "carpet"
           }
          ],
          "choropleth": [
           {
            "colorbar": {
             "outlinewidth": 0,
             "ticks": ""
            },
            "type": "choropleth"
           }
          ],
          "contour": [
           {
            "colorbar": {
             "outlinewidth": 0,
             "ticks": ""
            },
            "colorscale": [
             [
              0,
              "#0d0887"
             ],
             [
              0.1111111111111111,
              "#46039f"
             ],
             [
              0.2222222222222222,
              "#7201a8"
             ],
             [
              0.3333333333333333,
              "#9c179e"
             ],
             [
              0.4444444444444444,
              "#bd3786"
             ],
             [
              0.5555555555555556,
              "#d8576b"
             ],
             [
              0.6666666666666666,
              "#ed7953"
             ],
             [
              0.7777777777777778,
              "#fb9f3a"
             ],
             [
              0.8888888888888888,
              "#fdca26"
             ],
             [
              1,
              "#f0f921"
             ]
            ],
            "type": "contour"
           }
          ],
          "contourcarpet": [
           {
            "colorbar": {
             "outlinewidth": 0,
             "ticks": ""
            },
            "type": "contourcarpet"
           }
          ],
          "heatmap": [
           {
            "colorbar": {
             "outlinewidth": 0,
             "ticks": ""
            },
            "colorscale": [
             [
              0,
              "#0d0887"
             ],
             [
              0.1111111111111111,
              "#46039f"
             ],
             [
              0.2222222222222222,
              "#7201a8"
             ],
             [
              0.3333333333333333,
              "#9c179e"
             ],
             [
              0.4444444444444444,
              "#bd3786"
             ],
             [
              0.5555555555555556,
              "#d8576b"
             ],
             [
              0.6666666666666666,
              "#ed7953"
             ],
             [
              0.7777777777777778,
              "#fb9f3a"
             ],
             [
              0.8888888888888888,
              "#fdca26"
             ],
             [
              1,
              "#f0f921"
             ]
            ],
            "type": "heatmap"
           }
          ],
          "heatmapgl": [
           {
            "colorbar": {
             "outlinewidth": 0,
             "ticks": ""
            },
            "colorscale": [
             [
              0,
              "#0d0887"
             ],
             [
              0.1111111111111111,
              "#46039f"
             ],
             [
              0.2222222222222222,
              "#7201a8"
             ],
             [
              0.3333333333333333,
              "#9c179e"
             ],
             [
              0.4444444444444444,
              "#bd3786"
             ],
             [
              0.5555555555555556,
              "#d8576b"
             ],
             [
              0.6666666666666666,
              "#ed7953"
             ],
             [
              0.7777777777777778,
              "#fb9f3a"
             ],
             [
              0.8888888888888888,
              "#fdca26"
             ],
             [
              1,
              "#f0f921"
             ]
            ],
            "type": "heatmapgl"
           }
          ],
          "histogram": [
           {
            "marker": {
             "colorbar": {
              "outlinewidth": 0,
              "ticks": ""
             }
            },
            "type": "histogram"
           }
          ],
          "histogram2d": [
           {
            "colorbar": {
             "outlinewidth": 0,
             "ticks": ""
            },
            "colorscale": [
             [
              0,
              "#0d0887"
             ],
             [
              0.1111111111111111,
              "#46039f"
             ],
             [
              0.2222222222222222,
              "#7201a8"
             ],
             [
              0.3333333333333333,
              "#9c179e"
             ],
             [
              0.4444444444444444,
              "#bd3786"
             ],
             [
              0.5555555555555556,
              "#d8576b"
             ],
             [
              0.6666666666666666,
              "#ed7953"
             ],
             [
              0.7777777777777778,
              "#fb9f3a"
             ],
             [
              0.8888888888888888,
              "#fdca26"
             ],
             [
              1,
              "#f0f921"
             ]
            ],
            "type": "histogram2d"
           }
          ],
          "histogram2dcontour": [
           {
            "colorbar": {
             "outlinewidth": 0,
             "ticks": ""
            },
            "colorscale": [
             [
              0,
              "#0d0887"
             ],
             [
              0.1111111111111111,
              "#46039f"
             ],
             [
              0.2222222222222222,
              "#7201a8"
             ],
             [
              0.3333333333333333,
              "#9c179e"
             ],
             [
              0.4444444444444444,
              "#bd3786"
             ],
             [
              0.5555555555555556,
              "#d8576b"
             ],
             [
              0.6666666666666666,
              "#ed7953"
             ],
             [
              0.7777777777777778,
              "#fb9f3a"
             ],
             [
              0.8888888888888888,
              "#fdca26"
             ],
             [
              1,
              "#f0f921"
             ]
            ],
            "type": "histogram2dcontour"
           }
          ],
          "mesh3d": [
           {
            "colorbar": {
             "outlinewidth": 0,
             "ticks": ""
            },
            "type": "mesh3d"
           }
          ],
          "parcoords": [
           {
            "line": {
             "colorbar": {
              "outlinewidth": 0,
              "ticks": ""
             }
            },
            "type": "parcoords"
           }
          ],
          "pie": [
           {
            "automargin": true,
            "type": "pie"
           }
          ],
          "scatter": [
           {
            "marker": {
             "colorbar": {
              "outlinewidth": 0,
              "ticks": ""
             }
            },
            "type": "scatter"
           }
          ],
          "scatter3d": [
           {
            "line": {
             "colorbar": {
              "outlinewidth": 0,
              "ticks": ""
             }
            },
            "marker": {
             "colorbar": {
              "outlinewidth": 0,
              "ticks": ""
             }
            },
            "type": "scatter3d"
           }
          ],
          "scattercarpet": [
           {
            "marker": {
             "colorbar": {
              "outlinewidth": 0,
              "ticks": ""
             }
            },
            "type": "scattercarpet"
           }
          ],
          "scattergeo": [
           {
            "marker": {
             "colorbar": {
              "outlinewidth": 0,
              "ticks": ""
             }
            },
            "type": "scattergeo"
           }
          ],
          "scattergl": [
           {
            "marker": {
             "colorbar": {
              "outlinewidth": 0,
              "ticks": ""
             }
            },
            "type": "scattergl"
           }
          ],
          "scattermapbox": [
           {
            "marker": {
             "colorbar": {
              "outlinewidth": 0,
              "ticks": ""
             }
            },
            "type": "scattermapbox"
           }
          ],
          "scatterpolar": [
           {
            "marker": {
             "colorbar": {
              "outlinewidth": 0,
              "ticks": ""
             }
            },
            "type": "scatterpolar"
           }
          ],
          "scatterpolargl": [
           {
            "marker": {
             "colorbar": {
              "outlinewidth": 0,
              "ticks": ""
             }
            },
            "type": "scatterpolargl"
           }
          ],
          "scatterternary": [
           {
            "marker": {
             "colorbar": {
              "outlinewidth": 0,
              "ticks": ""
             }
            },
            "type": "scatterternary"
           }
          ],
          "surface": [
           {
            "colorbar": {
             "outlinewidth": 0,
             "ticks": ""
            },
            "colorscale": [
             [
              0,
              "#0d0887"
             ],
             [
              0.1111111111111111,
              "#46039f"
             ],
             [
              0.2222222222222222,
              "#7201a8"
             ],
             [
              0.3333333333333333,
              "#9c179e"
             ],
             [
              0.4444444444444444,
              "#bd3786"
             ],
             [
              0.5555555555555556,
              "#d8576b"
             ],
             [
              0.6666666666666666,
              "#ed7953"
             ],
             [
              0.7777777777777778,
              "#fb9f3a"
             ],
             [
              0.8888888888888888,
              "#fdca26"
             ],
             [
              1,
              "#f0f921"
             ]
            ],
            "type": "surface"
           }
          ],
          "table": [
           {
            "cells": {
             "fill": {
              "color": "#EBF0F8"
             },
             "line": {
              "color": "white"
             }
            },
            "header": {
             "fill": {
              "color": "#C8D4E3"
             },
             "line": {
              "color": "white"
             }
            },
            "type": "table"
           }
          ]
         },
         "layout": {
          "annotationdefaults": {
           "arrowcolor": "#2a3f5f",
           "arrowhead": 0,
           "arrowwidth": 1
          },
          "autotypenumbers": "strict",
          "coloraxis": {
           "colorbar": {
            "outlinewidth": 0,
            "ticks": ""
           }
          },
          "colorscale": {
           "diverging": [
            [
             0,
             "#8e0152"
            ],
            [
             0.1,
             "#c51b7d"
            ],
            [
             0.2,
             "#de77ae"
            ],
            [
             0.3,
             "#f1b6da"
            ],
            [
             0.4,
             "#fde0ef"
            ],
            [
             0.5,
             "#f7f7f7"
            ],
            [
             0.6,
             "#e6f5d0"
            ],
            [
             0.7,
             "#b8e186"
            ],
            [
             0.8,
             "#7fbc41"
            ],
            [
             0.9,
             "#4d9221"
            ],
            [
             1,
             "#276419"
            ]
           ],
           "sequential": [
            [
             0,
             "#0d0887"
            ],
            [
             0.1111111111111111,
             "#46039f"
            ],
            [
             0.2222222222222222,
             "#7201a8"
            ],
            [
             0.3333333333333333,
             "#9c179e"
            ],
            [
             0.4444444444444444,
             "#bd3786"
            ],
            [
             0.5555555555555556,
             "#d8576b"
            ],
            [
             0.6666666666666666,
             "#ed7953"
            ],
            [
             0.7777777777777778,
             "#fb9f3a"
            ],
            [
             0.8888888888888888,
             "#fdca26"
            ],
            [
             1,
             "#f0f921"
            ]
           ],
           "sequentialminus": [
            [
             0,
             "#0d0887"
            ],
            [
             0.1111111111111111,
             "#46039f"
            ],
            [
             0.2222222222222222,
             "#7201a8"
            ],
            [
             0.3333333333333333,
             "#9c179e"
            ],
            [
             0.4444444444444444,
             "#bd3786"
            ],
            [
             0.5555555555555556,
             "#d8576b"
            ],
            [
             0.6666666666666666,
             "#ed7953"
            ],
            [
             0.7777777777777778,
             "#fb9f3a"
            ],
            [
             0.8888888888888888,
             "#fdca26"
            ],
            [
             1,
             "#f0f921"
            ]
           ]
          },
          "colorway": [
           "#636efa",
           "#EF553B",
           "#00cc96",
           "#ab63fa",
           "#FFA15A",
           "#19d3f3",
           "#FF6692",
           "#B6E880",
           "#FF97FF",
           "#FECB52"
          ],
          "font": {
           "color": "#2a3f5f"
          },
          "geo": {
           "bgcolor": "white",
           "lakecolor": "white",
           "landcolor": "#E5ECF6",
           "showlakes": true,
           "showland": true,
           "subunitcolor": "white"
          },
          "hoverlabel": {
           "align": "left"
          },
          "hovermode": "closest",
          "mapbox": {
           "style": "light"
          },
          "paper_bgcolor": "white",
          "plot_bgcolor": "#E5ECF6",
          "polar": {
           "angularaxis": {
            "gridcolor": "white",
            "linecolor": "white",
            "ticks": ""
           },
           "bgcolor": "#E5ECF6",
           "radialaxis": {
            "gridcolor": "white",
            "linecolor": "white",
            "ticks": ""
           }
          },
          "scene": {
           "xaxis": {
            "backgroundcolor": "#E5ECF6",
            "gridcolor": "white",
            "gridwidth": 2,
            "linecolor": "white",
            "showbackground": true,
            "ticks": "",
            "zerolinecolor": "white"
           },
           "yaxis": {
            "backgroundcolor": "#E5ECF6",
            "gridcolor": "white",
            "gridwidth": 2,
            "linecolor": "white",
            "showbackground": true,
            "ticks": "",
            "zerolinecolor": "white"
           },
           "zaxis": {
            "backgroundcolor": "#E5ECF6",
            "gridcolor": "white",
            "gridwidth": 2,
            "linecolor": "white",
            "showbackground": true,
            "ticks": "",
            "zerolinecolor": "white"
           }
          },
          "shapedefaults": {
           "line": {
            "color": "#2a3f5f"
           }
          },
          "ternary": {
           "aaxis": {
            "gridcolor": "white",
            "linecolor": "white",
            "ticks": ""
           },
           "baxis": {
            "gridcolor": "white",
            "linecolor": "white",
            "ticks": ""
           },
           "bgcolor": "#E5ECF6",
           "caxis": {
            "gridcolor": "white",
            "linecolor": "white",
            "ticks": ""
           }
          },
          "title": {
           "x": 0.05
          },
          "xaxis": {
           "automargin": true,
           "gridcolor": "white",
           "linecolor": "white",
           "ticks": "",
           "title": {
            "standoff": 15
           },
           "zerolinecolor": "white",
           "zerolinewidth": 2
          },
          "yaxis": {
           "automargin": true,
           "gridcolor": "white",
           "linecolor": "white",
           "ticks": "",
           "title": {
            "standoff": 15
           },
           "zerolinecolor": "white",
           "zerolinewidth": 2
          }
         }
        },
        "xaxis": {
         "anchor": "y",
         "domain": [
          0,
          1
         ],
         "title": {
          "text": "number_of_reviews"
         }
        },
        "yaxis": {
         "anchor": "x",
         "domain": [
          0,
          1
         ],
         "title": {
          "text": "price"
         }
        }
       }
      },
      "text/html": [
       "<div>                            <div id=\"2f66c536-e4dd-47d2-b919-363e5b0e3849\" class=\"plotly-graph-div\" style=\"height:525px; width:100%;\"></div>            <script type=\"text/javascript\">                require([\"plotly\"], function(Plotly) {                    window.PLOTLYENV=window.PLOTLYENV || {};                                    if (document.getElementById(\"2f66c536-e4dd-47d2-b919-363e5b0e3849\")) {                    Plotly.newPlot(                        \"2f66c536-e4dd-47d2-b919-363e5b0e3849\",                        [{\"hovertemplate\": \"number_of_reviews=%{x}<br>price=%{y}<extra></extra>\", \"legendgroup\": \"\", \"marker\": {\"color\": \"#636efa\", \"symbol\": \"circle\"}, \"mode\": \"markers\", \"name\": \"\", \"orientation\": \"v\", \"showlegend\": false, \"type\": \"scatter\", \"x\": [1000, 1000, 3000, 2000, 2000, 6, 131, 1000, 2000, 3000, 2000, 185, 1000, 814, 3000, 1000, 1000, 948, 2000, 964, 1000, 1000, 562, 547, 868, 160, 674, 387, 17, 1000, 1000, 7, 603, 397, 769, 913, 758, 911, 936, 331, 504, 1, 328, 663, 244, 2000, 952, 612, 3000, 363, 22, 2, 1, 31, 701, 1, 630, 140, 776, 8, 748, 213, 951, 20, 3000, 136, 24, 1000, 6, 6, 150, 206, 477, 36, 285, 90, 7, 4, 564, 270, 133, 70, 522, 276, 27, 2, 874, 718, 653, 14, 375, 16, 124, 204, 3000, 474, 217, 14, 230, 109, 31, 6, 688, 39, 275, 4, 23, 337, 190, 1000, 71, 3, 160, 45, 262, 435, 228, 1000, 26, 44, 39, 39, 453, 159, 73, 31, 66, 14, 263, 241, 248, 59, 109, 109, 0, 0, 260, 277, 576, 219, 1000, 470, 57, 4, 134, 271, 36, 227, 3, 133, 578, 5, 8, 41, 17, 274, 19, 0, 118, 15, 142, 17, 47, 88, 62, 47, 171, 0, 756, 374, 15, 94, 78, 0, 9, 28, 35, 85, 154, 0, 88, 25, 2, 13, 1, 7, 45, 37, 0, 214, 0, 18, 2, 19, 12, 50, 33, 178, 300, 52, 404, 0, 22, 5, 42, 66, 187, 0, 3, 227, 19, 35, 248, 35, 5, 28, 32, 35, 7, 14, 107, 0, 37, 2, 0, 286, 0, 0, 35, 60, 167, 402, 0, 3], \"xaxis\": \"x\", \"y\": [39.5, 28.0, 28.0, 18.5, 29.5, 84.0, 28.0, 17.0, 19.5, 30.0, 29.5, 39.0, 33.0, 27.0, 19.5, 28.5, 33.0, 39.5, 19.5, 22.0, 29.5, 23.0, 19.0, 49.5, 17.0, 28.0, 28.5, 61.5, 25.0, 19.0, 28.5, 31.5, 28.5, 36.0, 22.0, 22.0, 39.5, 28.5, 17.0, 19.5, 24.0, 26.0, 42.0, 39.5, 28.0, 18.5, 25.0, 28.0, 19.5, 19.5, 39.0, 29.0, 39.5, 58.0, 21.0, 45.0, 53.0, 46.0, 23.0, 30.0, 18.0, 21.0, 27.5, 32.0, 15.0, 29.0, 58.0, 5.0, 40.0, 18.0, 25.0, 25.0, 28.0, 17.5, 15.5, 28.5, 39.0, 39.0, 18.5, 46.0, 20.0, 34.0, 19.5, 24.0, 19.5, 39.5, 33.0, 19.5, 51.5, 69.0, 15.5, 53.0, 29.5, 27.0, 9.5, 22.0, 39.5, 39.0, 48.0, 44.5, 33.0, 31.5, 19.5, 14.5, 25.0, 39.0, 22.0, 40.0, 17.0, 12.0, 48.0, 53.0, 21.0, 29.5, 26.0, 16.5, 33.0, 12.0, 29.5, 29.5, 66.0, 29.5, 22.5, 28.0, 22.0, 55.0, 29.5, 9.5, 19.5, 30.0, 31.0, 8.0, 19.5, 22.0, 19.5, 29.5, 18.5, 28.5, 18.5, 17.0, 18.5, 27.0, 50.0, 53.0, 47.0, 19.5, 50.5, 25.0, 69.0, 32.0, 30.5, 55.0, 51.0, 22.5, 19.5, 22.0, 40.0, 18.0, 28.5, 58.0, 29.0, 27.0, 16.0, 18.0, 55.5, 18.0, 30.0, 19.5, 39.5, 42.0, 19.5, 25.0, 52.0, 55.0, 69.0, 30.5, 17.0, 39.5, 19.5, 39.0, 19.5, 39.5, 39.5, 66.0, 19.5, 19.5, 28.5, 21.0, 32.5, 34.5, 19.5, 5.0, 14.5, 18.5, 27.0, 28.0, 68.0, 28.5, 25.0, 21.0, 49.0, 32.5, 19.0, 35.0, 35.0, 14.5, 77.0, 39.5, 14.5, 17.5, 32.0, 13.5, 19.5, 15.0, 33.0, 16.0, 28.5, 18.5, 7.5, 21.0, 30.0, 19.5, 18.5, 14.5, 29.5, 19.5, 39.5, 29.5, 28.5, 19.5, 26.5, 50.0, 40.0, 51.0], \"yaxis\": \"y\"}],                        {\"legend\": {\"tracegroupgap\": 0}, \"margin\": {\"t\": 60}, \"template\": {\"data\": {\"bar\": [{\"error_x\": {\"color\": \"#2a3f5f\"}, \"error_y\": {\"color\": \"#2a3f5f\"}, \"marker\": {\"line\": {\"color\": \"#E5ECF6\", \"width\": 0.5}}, \"type\": \"bar\"}], \"barpolar\": [{\"marker\": {\"line\": {\"color\": \"#E5ECF6\", \"width\": 0.5}}, \"type\": \"barpolar\"}], \"carpet\": [{\"aaxis\": {\"endlinecolor\": \"#2a3f5f\", \"gridcolor\": \"white\", \"linecolor\": \"white\", \"minorgridcolor\": \"white\", \"startlinecolor\": \"#2a3f5f\"}, \"baxis\": {\"endlinecolor\": \"#2a3f5f\", \"gridcolor\": \"white\", \"linecolor\": \"white\", \"minorgridcolor\": \"white\", \"startlinecolor\": \"#2a3f5f\"}, \"type\": \"carpet\"}], \"choropleth\": [{\"colorbar\": {\"outlinewidth\": 0, \"ticks\": \"\"}, \"type\": \"choropleth\"}], \"contour\": [{\"colorbar\": {\"outlinewidth\": 0, \"ticks\": \"\"}, \"colorscale\": [[0.0, \"#0d0887\"], [0.1111111111111111, \"#46039f\"], [0.2222222222222222, \"#7201a8\"], [0.3333333333333333, \"#9c179e\"], [0.4444444444444444, \"#bd3786\"], [0.5555555555555556, \"#d8576b\"], [0.6666666666666666, \"#ed7953\"], [0.7777777777777778, \"#fb9f3a\"], [0.8888888888888888, \"#fdca26\"], [1.0, \"#f0f921\"]], \"type\": \"contour\"}], \"contourcarpet\": [{\"colorbar\": {\"outlinewidth\": 0, \"ticks\": \"\"}, \"type\": \"contourcarpet\"}], \"heatmap\": [{\"colorbar\": {\"outlinewidth\": 0, \"ticks\": \"\"}, \"colorscale\": [[0.0, \"#0d0887\"], [0.1111111111111111, \"#46039f\"], [0.2222222222222222, \"#7201a8\"], [0.3333333333333333, \"#9c179e\"], [0.4444444444444444, \"#bd3786\"], [0.5555555555555556, \"#d8576b\"], [0.6666666666666666, \"#ed7953\"], [0.7777777777777778, \"#fb9f3a\"], [0.8888888888888888, \"#fdca26\"], [1.0, \"#f0f921\"]], \"type\": \"heatmap\"}], \"heatmapgl\": [{\"colorbar\": {\"outlinewidth\": 0, \"ticks\": \"\"}, \"colorscale\": [[0.0, \"#0d0887\"], [0.1111111111111111, \"#46039f\"], [0.2222222222222222, \"#7201a8\"], [0.3333333333333333, \"#9c179e\"], [0.4444444444444444, \"#bd3786\"], [0.5555555555555556, \"#d8576b\"], [0.6666666666666666, \"#ed7953\"], [0.7777777777777778, \"#fb9f3a\"], [0.8888888888888888, \"#fdca26\"], [1.0, \"#f0f921\"]], \"type\": \"heatmapgl\"}], \"histogram\": [{\"marker\": {\"colorbar\": {\"outlinewidth\": 0, \"ticks\": \"\"}}, \"type\": \"histogram\"}], \"histogram2d\": [{\"colorbar\": {\"outlinewidth\": 0, \"ticks\": \"\"}, \"colorscale\": [[0.0, \"#0d0887\"], [0.1111111111111111, \"#46039f\"], [0.2222222222222222, \"#7201a8\"], [0.3333333333333333, \"#9c179e\"], [0.4444444444444444, \"#bd3786\"], [0.5555555555555556, \"#d8576b\"], [0.6666666666666666, \"#ed7953\"], [0.7777777777777778, \"#fb9f3a\"], [0.8888888888888888, \"#fdca26\"], [1.0, \"#f0f921\"]], \"type\": \"histogram2d\"}], \"histogram2dcontour\": [{\"colorbar\": {\"outlinewidth\": 0, \"ticks\": \"\"}, \"colorscale\": [[0.0, \"#0d0887\"], [0.1111111111111111, \"#46039f\"], [0.2222222222222222, \"#7201a8\"], [0.3333333333333333, \"#9c179e\"], [0.4444444444444444, \"#bd3786\"], [0.5555555555555556, \"#d8576b\"], [0.6666666666666666, \"#ed7953\"], [0.7777777777777778, \"#fb9f3a\"], [0.8888888888888888, \"#fdca26\"], [1.0, \"#f0f921\"]], \"type\": \"histogram2dcontour\"}], \"mesh3d\": [{\"colorbar\": {\"outlinewidth\": 0, \"ticks\": \"\"}, \"type\": \"mesh3d\"}], \"parcoords\": [{\"line\": {\"colorbar\": {\"outlinewidth\": 0, \"ticks\": \"\"}}, \"type\": \"parcoords\"}], \"pie\": [{\"automargin\": true, \"type\": \"pie\"}], \"scatter\": [{\"marker\": {\"colorbar\": {\"outlinewidth\": 0, \"ticks\": \"\"}}, \"type\": \"scatter\"}], \"scatter3d\": [{\"line\": {\"colorbar\": {\"outlinewidth\": 0, \"ticks\": \"\"}}, \"marker\": {\"colorbar\": {\"outlinewidth\": 0, \"ticks\": \"\"}}, \"type\": \"scatter3d\"}], \"scattercarpet\": [{\"marker\": {\"colorbar\": {\"outlinewidth\": 0, \"ticks\": \"\"}}, \"type\": \"scattercarpet\"}], \"scattergeo\": [{\"marker\": {\"colorbar\": {\"outlinewidth\": 0, \"ticks\": \"\"}}, \"type\": \"scattergeo\"}], \"scattergl\": [{\"marker\": {\"colorbar\": {\"outlinewidth\": 0, \"ticks\": \"\"}}, \"type\": \"scattergl\"}], \"scattermapbox\": [{\"marker\": {\"colorbar\": {\"outlinewidth\": 0, \"ticks\": \"\"}}, \"type\": \"scattermapbox\"}], \"scatterpolar\": [{\"marker\": {\"colorbar\": {\"outlinewidth\": 0, \"ticks\": \"\"}}, \"type\": \"scatterpolar\"}], \"scatterpolargl\": [{\"marker\": {\"colorbar\": {\"outlinewidth\": 0, \"ticks\": \"\"}}, \"type\": \"scatterpolargl\"}], \"scatterternary\": [{\"marker\": {\"colorbar\": {\"outlinewidth\": 0, \"ticks\": \"\"}}, \"type\": \"scatterternary\"}], \"surface\": [{\"colorbar\": {\"outlinewidth\": 0, \"ticks\": \"\"}, \"colorscale\": [[0.0, \"#0d0887\"], [0.1111111111111111, \"#46039f\"], [0.2222222222222222, \"#7201a8\"], [0.3333333333333333, \"#9c179e\"], [0.4444444444444444, \"#bd3786\"], [0.5555555555555556, \"#d8576b\"], [0.6666666666666666, \"#ed7953\"], [0.7777777777777778, \"#fb9f3a\"], [0.8888888888888888, \"#fdca26\"], [1.0, \"#f0f921\"]], \"type\": \"surface\"}], \"table\": [{\"cells\": {\"fill\": {\"color\": \"#EBF0F8\"}, \"line\": {\"color\": \"white\"}}, \"header\": {\"fill\": {\"color\": \"#C8D4E3\"}, \"line\": {\"color\": \"white\"}}, \"type\": \"table\"}]}, \"layout\": {\"annotationdefaults\": {\"arrowcolor\": \"#2a3f5f\", \"arrowhead\": 0, \"arrowwidth\": 1}, \"autotypenumbers\": \"strict\", \"coloraxis\": {\"colorbar\": {\"outlinewidth\": 0, \"ticks\": \"\"}}, \"colorscale\": {\"diverging\": [[0, \"#8e0152\"], [0.1, \"#c51b7d\"], [0.2, \"#de77ae\"], [0.3, \"#f1b6da\"], [0.4, \"#fde0ef\"], [0.5, \"#f7f7f7\"], [0.6, \"#e6f5d0\"], [0.7, \"#b8e186\"], [0.8, \"#7fbc41\"], [0.9, \"#4d9221\"], [1, \"#276419\"]], \"sequential\": [[0.0, \"#0d0887\"], [0.1111111111111111, \"#46039f\"], [0.2222222222222222, \"#7201a8\"], [0.3333333333333333, \"#9c179e\"], [0.4444444444444444, \"#bd3786\"], [0.5555555555555556, \"#d8576b\"], [0.6666666666666666, \"#ed7953\"], [0.7777777777777778, \"#fb9f3a\"], [0.8888888888888888, \"#fdca26\"], [1.0, \"#f0f921\"]], \"sequentialminus\": [[0.0, \"#0d0887\"], [0.1111111111111111, \"#46039f\"], [0.2222222222222222, \"#7201a8\"], [0.3333333333333333, \"#9c179e\"], [0.4444444444444444, \"#bd3786\"], [0.5555555555555556, \"#d8576b\"], [0.6666666666666666, \"#ed7953\"], [0.7777777777777778, \"#fb9f3a\"], [0.8888888888888888, \"#fdca26\"], [1.0, \"#f0f921\"]]}, \"colorway\": [\"#636efa\", \"#EF553B\", \"#00cc96\", \"#ab63fa\", \"#FFA15A\", \"#19d3f3\", \"#FF6692\", \"#B6E880\", \"#FF97FF\", \"#FECB52\"], \"font\": {\"color\": \"#2a3f5f\"}, \"geo\": {\"bgcolor\": \"white\", \"lakecolor\": \"white\", \"landcolor\": \"#E5ECF6\", \"showlakes\": true, \"showland\": true, \"subunitcolor\": \"white\"}, \"hoverlabel\": {\"align\": \"left\"}, \"hovermode\": \"closest\", \"mapbox\": {\"style\": \"light\"}, \"paper_bgcolor\": \"white\", \"plot_bgcolor\": \"#E5ECF6\", \"polar\": {\"angularaxis\": {\"gridcolor\": \"white\", \"linecolor\": \"white\", \"ticks\": \"\"}, \"bgcolor\": \"#E5ECF6\", \"radialaxis\": {\"gridcolor\": \"white\", \"linecolor\": \"white\", \"ticks\": \"\"}}, \"scene\": {\"xaxis\": {\"backgroundcolor\": \"#E5ECF6\", \"gridcolor\": \"white\", \"gridwidth\": 2, \"linecolor\": \"white\", \"showbackground\": true, \"ticks\": \"\", \"zerolinecolor\": \"white\"}, \"yaxis\": {\"backgroundcolor\": \"#E5ECF6\", \"gridcolor\": \"white\", \"gridwidth\": 2, \"linecolor\": \"white\", \"showbackground\": true, \"ticks\": \"\", \"zerolinecolor\": \"white\"}, \"zaxis\": {\"backgroundcolor\": \"#E5ECF6\", \"gridcolor\": \"white\", \"gridwidth\": 2, \"linecolor\": \"white\", \"showbackground\": true, \"ticks\": \"\", \"zerolinecolor\": \"white\"}}, \"shapedefaults\": {\"line\": {\"color\": \"#2a3f5f\"}}, \"ternary\": {\"aaxis\": {\"gridcolor\": \"white\", \"linecolor\": \"white\", \"ticks\": \"\"}, \"baxis\": {\"gridcolor\": \"white\", \"linecolor\": \"white\", \"ticks\": \"\"}, \"bgcolor\": \"#E5ECF6\", \"caxis\": {\"gridcolor\": \"white\", \"linecolor\": \"white\", \"ticks\": \"\"}}, \"title\": {\"x\": 0.05}, \"xaxis\": {\"automargin\": true, \"gridcolor\": \"white\", \"linecolor\": \"white\", \"ticks\": \"\", \"title\": {\"standoff\": 15}, \"zerolinecolor\": \"white\", \"zerolinewidth\": 2}, \"yaxis\": {\"automargin\": true, \"gridcolor\": \"white\", \"linecolor\": \"white\", \"ticks\": \"\", \"title\": {\"standoff\": 15}, \"zerolinecolor\": \"white\", \"zerolinewidth\": 2}}}, \"xaxis\": {\"anchor\": \"y\", \"domain\": [0.0, 1.0], \"title\": {\"text\": \"number_of_reviews\"}}, \"yaxis\": {\"anchor\": \"x\", \"domain\": [0.0, 1.0], \"title\": {\"text\": \"price\"}}},                        {\"responsive\": true}                    ).then(function(){\n",
       "                            \n",
       "var gd = document.getElementById('2f66c536-e4dd-47d2-b919-363e5b0e3849');\n",
       "var x = new MutationObserver(function (mutations, observer) {{\n",
       "        var display = window.getComputedStyle(gd).display;\n",
       "        if (!display || display === 'none') {{\n",
       "            console.log([gd, 'removed!']);\n",
       "            Plotly.purge(gd);\n",
       "            observer.disconnect();\n",
       "        }}\n",
       "}});\n",
       "\n",
       "// Listen for the removal of the full notebook cells\n",
       "var notebookContainer = gd.closest('#notebook-container');\n",
       "if (notebookContainer) {{\n",
       "    x.observe(notebookContainer, {childList: true});\n",
       "}}\n",
       "\n",
       "// Listen for the clearing of the current output cell\n",
       "var outputEl = gd.closest('.output');\n",
       "if (outputEl) {{\n",
       "    x.observe(outputEl, {childList: true});\n",
       "}}\n",
       "\n",
       "                        })                };                });            </script>        </div>"
      ]
     },
     "metadata": {},
     "output_type": "display_data"
    }
   ],
   "source": [
    "# barplot count dari brand \n",
    "fig = px.scatter(df[df['brand']==top5_brands[1]], x='number_of_reviews' ,y='price')\n",
    "fig.show()"
   ]
  },
  {
   "cell_type": "code",
   "execution_count": null,
   "id": "biblical-atlanta",
   "metadata": {},
   "outputs": [],
   "source": []
  },
  {
   "cell_type": "code",
   "execution_count": 45,
   "id": "magnetic-patch",
   "metadata": {},
   "outputs": [
    {
     "data": {
      "application/vnd.plotly.v1+json": {
       "config": {
        "plotlyServerURL": "https://plot.ly"
       },
       "data": [
        {
         "hovertemplate": "number_of_reviews=%{x}<br>price=%{y}<br>love=%{z}<extra></extra>",
         "legendgroup": "",
         "marker": {
          "color": "#636efa",
          "symbol": "circle"
         },
         "mode": "markers",
         "name": "",
         "scene": "scene",
         "showlegend": false,
         "type": "scatter3d",
         "x": [
          1000,
          1000,
          3000,
          2000,
          2000,
          6,
          131,
          1000,
          2000,
          3000,
          2000,
          185,
          1000,
          814,
          3000,
          1000,
          1000,
          948,
          2000,
          964,
          1000,
          1000,
          562,
          547,
          868,
          160,
          674,
          387,
          17,
          1000,
          1000,
          7,
          603,
          397,
          769,
          913,
          758,
          911,
          936,
          331,
          504,
          1,
          328,
          663,
          244,
          2000,
          952,
          612,
          3000,
          363,
          22,
          2,
          1,
          31,
          701,
          1,
          630,
          140,
          776,
          8,
          748,
          213,
          951,
          20,
          3000,
          136,
          24,
          1000,
          6,
          6,
          150,
          206,
          477,
          36,
          285,
          90,
          7,
          4,
          564,
          270,
          133,
          70,
          522,
          276,
          27,
          2,
          874,
          718,
          653,
          14,
          375,
          16,
          124,
          204,
          3000,
          474,
          217,
          14,
          230,
          109,
          31,
          6,
          688,
          39,
          275,
          4,
          23,
          337,
          190,
          1000,
          71,
          3,
          160,
          45,
          262,
          435,
          228,
          1000,
          26,
          44,
          39,
          39,
          453,
          159,
          73,
          31,
          66,
          14,
          263,
          241,
          248,
          59,
          109,
          109,
          0,
          0,
          260,
          277,
          576,
          219,
          1000,
          470,
          57,
          4,
          134,
          271,
          36,
          227,
          3,
          133,
          578,
          5,
          8,
          41,
          17,
          274,
          19,
          0,
          118,
          15,
          142,
          17,
          47,
          88,
          62,
          47,
          171,
          0,
          756,
          374,
          15,
          94,
          78,
          0,
          9,
          28,
          35,
          85,
          154,
          0,
          88,
          25,
          2,
          13,
          1,
          7,
          45,
          37,
          0,
          214,
          0,
          18,
          2,
          19,
          12,
          50,
          33,
          178,
          300,
          52,
          404,
          0,
          22,
          5,
          42,
          66,
          187,
          0,
          3,
          227,
          19,
          35,
          248,
          35,
          5,
          28,
          32,
          35,
          7,
          14,
          107,
          0,
          37,
          2,
          0,
          286,
          0,
          0,
          35,
          60,
          167,
          402,
          0,
          3,
          4000,
          3000,
          185,
          346,
          1000,
          1000,
          989,
          926,
          79,
          720,
          1000,
          959,
          153,
          1000,
          102,
          982,
          635,
          13,
          2000,
          687,
          301,
          2,
          26,
          2000,
          6,
          473,
          197,
          431,
          697,
          110,
          46,
          167,
          174,
          9,
          149,
          30,
          54,
          28,
          31,
          113,
          3000,
          435,
          39,
          89,
          14,
          6,
          25,
          39,
          86,
          187,
          41,
          526,
          397,
          18,
          10,
          155,
          1000,
          27,
          28,
          2,
          47,
          12,
          0,
          42,
          1000,
          143,
          36,
          0,
          9,
          70,
          156,
          1,
          3,
          98,
          0,
          86,
          755,
          18,
          10,
          40,
          27,
          20,
          143,
          95,
          66,
          94,
          26,
          5,
          95,
          14,
          27,
          265,
          17,
          16,
          14,
          23,
          25,
          33,
          48,
          68,
          17,
          6,
          1,
          10,
          0,
          31,
          20,
          12,
          10,
          40,
          6,
          6,
          62,
          22,
          7,
          26,
          7,
          0,
          24,
          6,
          30,
          3,
          52,
          7,
          18,
          18,
          0,
          28,
          3,
          42,
          62,
          5,
          6,
          42,
          3,
          0,
          6,
          31,
          8,
          16,
          4,
          2,
          6,
          99,
          0,
          3000,
          1000,
          6000,
          356,
          3000,
          1000,
          9000,
          3000,
          81,
          115,
          404,
          256,
          2000,
          785,
          827,
          87,
          1000,
          2000,
          1000,
          262,
          515,
          89,
          137,
          28,
          102,
          596,
          65,
          839,
          956,
          3000,
          2000,
          173,
          7,
          408,
          203,
          310,
          74,
          132,
          19,
          14,
          70,
          0,
          447,
          98,
          2000,
          493,
          810,
          58,
          2000,
          555,
          48,
          46,
          3000,
          29,
          17,
          62,
          131,
          984,
          59,
          969,
          889,
          378,
          444,
          31,
          401,
          394,
          529,
          255,
          168,
          115,
          128,
          831,
          2000,
          637,
          3000,
          581,
          272,
          0,
          17,
          1000,
          30,
          20,
          44,
          4,
          10,
          291,
          13,
          93,
          6,
          76,
          361,
          7,
          163,
          2000,
          5,
          143,
          892,
          169,
          473,
          2,
          1000,
          86,
          71,
          2000,
          17,
          26,
          239,
          28,
          1,
          26,
          15,
          62,
          234,
          52,
          191,
          178,
          12,
          570,
          79,
          54,
          852,
          212,
          538,
          9,
          105,
          100,
          896,
          164,
          1000,
          42,
          22,
          2,
          62,
          175,
          190,
          9,
          170,
          0,
          98,
          112,
          28,
          8,
          2,
          84,
          20,
          98,
          14,
          355,
          17,
          89,
          207,
          176,
          56,
          496,
          42,
          1000,
          130,
          17,
          14,
          2,
          11,
          1000,
          86,
          196,
          2,
          1000,
          40,
          11,
          65,
          0,
          1000,
          343,
          4,
          46,
          34,
          12,
          9,
          301,
          128,
          81,
          25,
          61,
          321,
          2000,
          8,
          17,
          1,
          478,
          112,
          1,
          831,
          7,
          269,
          398,
          276,
          14,
          0,
          99,
          987,
          27,
          232,
          513,
          495,
          22,
          16,
          17,
          20,
          5,
          72,
          845,
          143,
          51,
          31,
          19,
          94,
          40,
          408,
          17,
          43,
          33,
          75,
          7,
          81,
          217,
          560,
          108,
          16,
          48,
          5,
          31,
          19,
          22,
          54,
          13,
          51,
          733,
          2,
          165,
          40,
          75,
          9,
          20,
          3,
          103,
          1000,
          308,
          28,
          16,
          39,
          26,
          90,
          24,
          492,
          1,
          85,
          41,
          339,
          10,
          4,
          93,
          16,
          53,
          12,
          244,
          25,
          0,
          12,
          13,
          315,
          31,
          26,
          60,
          68,
          1,
          210,
          12,
          26,
          21,
          5,
          265,
          43,
          10,
          679,
          26,
          40,
          187,
          35,
          91,
          2,
          23,
          32,
          17,
          65,
          28,
          14,
          7,
          1000,
          16,
          5000,
          3000,
          3000,
          3000,
          6000,
          225,
          1000,
          180,
          1000,
          694,
          1000,
          991,
          1000,
          22,
          15,
          1000,
          417,
          263,
          1000,
          1000,
          982,
          2000,
          618,
          335,
          3,
          209,
          17,
          2000,
          813,
          859,
          1000,
          412,
          1000,
          948,
          30,
          852,
          1000,
          173,
          576,
          117,
          608,
          1000,
          1000,
          524,
          10,
          6000,
          357,
          1000,
          756,
          392,
          241,
          56,
          856,
          25,
          3,
          1000,
          268,
          157,
          199,
          161,
          4,
          1000,
          48,
          93,
          5,
          505,
          1000,
          703,
          17,
          18,
          195,
          5,
          634,
          44,
          127,
          438,
          0,
          17,
          1000,
          110,
          174,
          18,
          20,
          86,
          15,
          275,
          39,
          1000,
          1000,
          2,
          8,
          1000,
          10,
          7,
          89,
          182,
          1,
          402,
          364,
          330,
          929,
          50,
          1,
          27,
          89,
          6,
          532,
          4,
          89,
          106,
          169,
          52,
          142,
          33,
          25,
          2000,
          103,
          1000,
          359,
          249,
          453,
          32,
          7,
          11,
          589,
          351,
          20,
          20,
          18,
          3,
          48,
          40,
          712,
          29,
          3,
          7,
          291,
          3,
          18,
          1,
          1,
          127,
          64,
          52,
          3,
          4,
          2,
          30,
          5,
          3,
          13,
          8,
          7,
          151,
          10,
          29,
          22,
          8,
          24,
          21,
          170,
          316,
          51,
          2,
          15,
          26,
          3,
          77,
          132,
          132,
          340,
          87,
          132,
          24,
          94,
          1000,
          161,
          126,
          327,
          30,
          228,
          20,
          223,
          93,
          60,
          17,
          15,
          118,
          140,
          25,
          287,
          41,
          167,
          60,
          23,
          271,
          79,
          20,
          22,
          30,
          27,
          28,
          25,
          74,
          65,
          21,
          38,
          11,
          171,
          34,
          25,
          5,
          20,
          62,
          19,
          1,
          81,
          34,
          5,
          7,
          3,
          21,
          187,
          14,
          17,
          111,
          200,
          24,
          25,
          1,
          32,
          19,
          7,
          34,
          16,
          9,
          14,
          13,
          38,
          8,
          18,
          32,
          29,
          9,
          8,
          24,
          18,
          36,
          6,
          27,
          0,
          85,
          9,
          84,
          32,
          7,
          22,
          0,
          2,
          11,
          2,
          14,
          7,
          37,
          16,
          0,
          9,
          8,
          9,
          18,
          31,
          19,
          5,
          7,
          0,
          5,
          53,
          11,
          4,
          17,
          25,
          17,
          12,
          2,
          13,
          2,
          10,
          1,
          7,
          2,
          43,
          3,
          1,
          5,
          15,
          4,
          6,
          3,
          2,
          2,
          1,
          1,
          26,
          4,
          16,
          4,
          14,
          23,
          0,
          6,
          4,
          3,
          3,
          9,
          2,
          3,
          1,
          7,
          2,
          1,
          6,
          12,
          5,
          23,
          9,
          2,
          3,
          0,
          0,
          12,
          0,
          1,
          9,
          61,
          70,
          16,
          42,
          0,
          9,
          0,
          13,
          114,
          0,
          297,
          4,
          23,
          687,
          1,
          4,
          3,
          147,
          57,
          8,
          12,
          57,
          223,
          12,
          7,
          149,
          0,
          38,
          11,
          59,
          0,
          337,
          1,
          72,
          19,
          25,
          88,
          17,
          89,
          3,
          12,
          16,
          65,
          45,
          5,
          30,
          61,
          6,
          242,
          7,
          18,
          16,
          35,
          73,
          0,
          38,
          0,
          102,
          29,
          22,
          7,
          157,
          18,
          43,
          65,
          50,
          0,
          86,
          54,
          0,
          0,
          5,
          26,
          70,
          9,
          22,
          1,
          0,
          23,
          134,
          10,
          11,
          64,
          6,
          0,
          273,
          205,
          37,
          123,
          636,
          1,
          3,
          1,
          101,
          110,
          19,
          49,
          0,
          7,
          16,
          11,
          19,
          0,
          1,
          101,
          30,
          47,
          1,
          60,
          19,
          1,
          0,
          22,
          26,
          9,
          103,
          2,
          100,
          271,
          0,
          72,
          0,
          0,
          19,
          72,
          42,
          33,
          4,
          7,
          289,
          56,
          5,
          0,
          0,
          146,
          183,
          0,
          14,
          54,
          12,
          23,
          4,
          18,
          18,
          67,
          239,
          1,
          17,
          82,
          12,
          25,
          44,
          619,
          23,
          17,
          208,
          73,
          19,
          39,
          20,
          20,
          3,
          56,
          127,
          65,
          57,
          146,
          334,
          34,
          22,
          328,
          34,
          116,
          25,
          44,
          32,
          1000,
          166,
          31,
          163,
          357,
          596,
          156,
          6,
          81,
          83,
          22,
          32,
          11,
          62,
          39,
          15,
          0,
          0,
          46,
          0
         ],
         "y": [
          39.5,
          28,
          28,
          18.5,
          29.5,
          84,
          28,
          17,
          19.5,
          30,
          29.5,
          39,
          33,
          27,
          19.5,
          28.5,
          33,
          39.5,
          19.5,
          22,
          29.5,
          23,
          19,
          49.5,
          17,
          28,
          28.5,
          61.5,
          25,
          19,
          28.5,
          31.5,
          28.5,
          36,
          22,
          22,
          39.5,
          28.5,
          17,
          19.5,
          24,
          26,
          42,
          39.5,
          28,
          18.5,
          25,
          28,
          19.5,
          19.5,
          39,
          29,
          39.5,
          58,
          21,
          45,
          53,
          46,
          23,
          30,
          18,
          21,
          27.5,
          32,
          15,
          29,
          58,
          5,
          40,
          18,
          25,
          25,
          28,
          17.5,
          15.5,
          28.5,
          39,
          39,
          18.5,
          46,
          20,
          34,
          19.5,
          24,
          19.5,
          39.5,
          33,
          19.5,
          51.5,
          69,
          15.5,
          53,
          29.5,
          27,
          9.5,
          22,
          39.5,
          39,
          48,
          44.5,
          33,
          31.5,
          19.5,
          14.5,
          25,
          39,
          22,
          40,
          17,
          12,
          48,
          53,
          21,
          29.5,
          26,
          16.5,
          33,
          12,
          29.5,
          29.5,
          66,
          29.5,
          22.5,
          28,
          22,
          55,
          29.5,
          9.5,
          19.5,
          30,
          31,
          8,
          19.5,
          22,
          19.5,
          29.5,
          18.5,
          28.5,
          18.5,
          17,
          18.5,
          27,
          50,
          53,
          47,
          19.5,
          50.5,
          25,
          69,
          32,
          30.5,
          55,
          51,
          22.5,
          19.5,
          22,
          40,
          18,
          28.5,
          58,
          29,
          27,
          16,
          18,
          55.5,
          18,
          30,
          19.5,
          39.5,
          42,
          19.5,
          25,
          52,
          55,
          69,
          30.5,
          17,
          39.5,
          19.5,
          39,
          19.5,
          39.5,
          39.5,
          66,
          19.5,
          19.5,
          28.5,
          21,
          32.5,
          34.5,
          19.5,
          5,
          14.5,
          18.5,
          27,
          28,
          68,
          28.5,
          25,
          21,
          49,
          32.5,
          19,
          35,
          35,
          14.5,
          77,
          39.5,
          14.5,
          17.5,
          32,
          13.5,
          19.5,
          15,
          33,
          16,
          28.5,
          18.5,
          7.5,
          21,
          30,
          19.5,
          18.5,
          14.5,
          29.5,
          19.5,
          39.5,
          29.5,
          28.5,
          19.5,
          26.5,
          50,
          40,
          51,
          34,
          62,
          49,
          77,
          40,
          29.5,
          52,
          52,
          95,
          29.5,
          34,
          36,
          34,
          29,
          95,
          105,
          85,
          30,
          29.5,
          45,
          38,
          29.5,
          34,
          29.5,
          38,
          52,
          105,
          54,
          85,
          38,
          165,
          150,
          29.5,
          150,
          82,
          37,
          45,
          107,
          107,
          36,
          29.5,
          48,
          50,
          62,
          95,
          95,
          69,
          100,
          30.5,
          38,
          38,
          30,
          30,
          38,
          95,
          135,
          155,
          38,
          44,
          48,
          95,
          25,
          129,
          38,
          29.5,
          100,
          175,
          149,
          75,
          69,
          34,
          105,
          95,
          85,
          105,
          38,
          29.5,
          27,
          155,
          49.5,
          40,
          72,
          105,
          46,
          43,
          85,
          73,
          29.5,
          75,
          105,
          79,
          105,
          95,
          29,
          125,
          55,
          42,
          75,
          52,
          75,
          140,
          55,
          57,
          43,
          45,
          34,
          75,
          79,
          49,
          57,
          59,
          95,
          135,
          55,
          65,
          43,
          38,
          48,
          26,
          60,
          105,
          60,
          29.5,
          59,
          45,
          43,
          25,
          69,
          62,
          43,
          33,
          140,
          95,
          62,
          85,
          55,
          25,
          69,
          95,
          128,
          140,
          79,
          40,
          69,
          149,
          8,
          6,
          13,
          70,
          20,
          20,
          15,
          12,
          8,
          8,
          20,
          8,
          11,
          10,
          5,
          58,
          9,
          14,
          22,
          14,
          17,
          45,
          6,
          16,
          6,
          20,
          68,
          14,
          5,
          12,
          7,
          69,
          3,
          9,
          5,
          10,
          6,
          40,
          25,
          10,
          8,
          20,
          17,
          42,
          9,
          17,
          13,
          26,
          28,
          12,
          8,
          6,
          11,
          60,
          6,
          17,
          20,
          8,
          15,
          19,
          20,
          16,
          12,
          5,
          10,
          5,
          5,
          68,
          20,
          12,
          16,
          14,
          14,
          9,
          12,
          12,
          16,
          50,
          6,
          12,
          68,
          8,
          10,
          3,
          32,
          8,
          14,
          45,
          10,
          28,
          14,
          8,
          5,
          15,
          18,
          17,
          8,
          14,
          15,
          10,
          18,
          60,
          4,
          7,
          18,
          20,
          18,
          10,
          5,
          5,
          6,
          6,
          20,
          10,
          6,
          20,
          14,
          6,
          8,
          15,
          9,
          9,
          29,
          8,
          10,
          14,
          14,
          30,
          30,
          14,
          14,
          34,
          34,
          5,
          8,
          18,
          9,
          8,
          8,
          6,
          12,
          28,
          9,
          16,
          36,
          9,
          12,
          15,
          18,
          20,
          14,
          45,
          34,
          14,
          6,
          12,
          8,
          6,
          6,
          8,
          20,
          6,
          6,
          3,
          8,
          12,
          68,
          15,
          15,
          50,
          15,
          14,
          9,
          6,
          55,
          14,
          8,
          30,
          10,
          10,
          20,
          8,
          14,
          14,
          16,
          34,
          8,
          10,
          10,
          42,
          18,
          15,
          30,
          17,
          15,
          16,
          50,
          30,
          22,
          14,
          40,
          18,
          23,
          8,
          34,
          12,
          36,
          4,
          16,
          17,
          16,
          12,
          10,
          17,
          10,
          24,
          68,
          17,
          22,
          12,
          9,
          30,
          22,
          19,
          16,
          10,
          28,
          16,
          15,
          40,
          12,
          14,
          7,
          8,
          10,
          3,
          14,
          15,
          12,
          52,
          8,
          8,
          18,
          30,
          3.5,
          6,
          13,
          20,
          9,
          16,
          12,
          30,
          15,
          14,
          20,
          16,
          10,
          59,
          8,
          12,
          10,
          12,
          8,
          28,
          12,
          14,
          5,
          20,
          12,
          12,
          15,
          32,
          12,
          20,
          29,
          17,
          6,
          49,
          25,
          16,
          6,
          8,
          30,
          8,
          10,
          16,
          18,
          14,
          15,
          12,
          8,
          110,
          105,
          12,
          10,
          22,
          26,
          29,
          29,
          39,
          39,
          37,
          23,
          23,
          19,
          10,
          34,
          39,
          39,
          24,
          36,
          29,
          26,
          23,
          39,
          22,
          21,
          26,
          30,
          39,
          39,
          22,
          34,
          28,
          15,
          48,
          39,
          45,
          18,
          22,
          23,
          34,
          14,
          38,
          25,
          20,
          19,
          39,
          25,
          25,
          23,
          20,
          15,
          39,
          19,
          19,
          39,
          12,
          23,
          12,
          21,
          14,
          23,
          33,
          42,
          20,
          45,
          32,
          29,
          30,
          39,
          12,
          11,
          29,
          29,
          32,
          29,
          29,
          39,
          12,
          29,
          15,
          12,
          28,
          28,
          16,
          12,
          44,
          9,
          24,
          24,
          18,
          19,
          24,
          19,
          24,
          49,
          28,
          40,
          20,
          19,
          14,
          28,
          39,
          12,
          12,
          22,
          32,
          22,
          18,
          39,
          28,
          42,
          15,
          19,
          15,
          22,
          24,
          16,
          14,
          49,
          15,
          21,
          20,
          19,
          21,
          19,
          35,
          14,
          16,
          32,
          17,
          32,
          36,
          25,
          19,
          12,
          14,
          12,
          39,
          23,
          16,
          140,
          12,
          20,
          16,
          14,
          14,
          19,
          24,
          28,
          24,
          17,
          19,
          9,
          30,
          35,
          24,
          12,
          25,
          12,
          29,
          14,
          25,
          21,
          12,
          35,
          25,
          25,
          18,
          19,
          105,
          30,
          42,
          20,
          30,
          100,
          34,
          88,
          240,
          240,
          55,
          335,
          128,
          240,
          88,
          55,
          55,
          88,
          335,
          240,
          128,
          335,
          240,
          72,
          90,
          36,
          112,
          59,
          63,
          62,
          180,
          240,
          128,
          46,
          57,
          60,
          240,
          60,
          88,
          54,
          55,
          46,
          55,
          60,
          240,
          195,
          240,
          49,
          54,
          55,
          128,
          49,
          60,
          128,
          240,
          50,
          132,
          92,
          54,
          128,
          60,
          115,
          46,
          128,
          88,
          75,
          128,
          240,
          55,
          128,
          55,
          46,
          44,
          60,
          49,
          55,
          240,
          70,
          70,
          240,
          36,
          240,
          60,
          128,
          88,
          60,
          70,
          60,
          110,
          240,
          54,
          84,
          70,
          325,
          240,
          180,
          49,
          49,
          46,
          100,
          60,
          335,
          128,
          40,
          240,
          53,
          240,
          46,
          240,
          47,
          70,
          98,
          112,
          110,
          240,
          70,
          29,
          57,
          240,
          68,
          54,
          53,
          56,
          78,
          49,
          70,
          70,
          75,
          70,
          155,
          70,
          88,
          240,
          235,
          52,
          180,
          70,
          70,
          67,
          240,
          55,
          125,
          60,
          70,
          55,
          65,
          49,
          47,
          70,
          36,
          70,
          59,
          49,
          70,
          240,
          335,
          335,
          55,
          97,
          122,
          38,
          38,
          78,
          70,
          72,
          53,
          30,
          15,
          8,
          12,
          20,
          30,
          8,
          10,
          16,
          25,
          20,
          12,
          85,
          20,
          14,
          45,
          40,
          3,
          10,
          16,
          8,
          9,
          30,
          55,
          22,
          16,
          18,
          24,
          40,
          29,
          30,
          8,
          18,
          6,
          9,
          10,
          30,
          12,
          7,
          26,
          3,
          16,
          14,
          5,
          8,
          8,
          34,
          15,
          10,
          75,
          20,
          17,
          6,
          8,
          12,
          35,
          14,
          12,
          22,
          16,
          20,
          14,
          100,
          8,
          12,
          14,
          25,
          24,
          26,
          3,
          8,
          14,
          20,
          30,
          14,
          5,
          15,
          60,
          10,
          10,
          10,
          8,
          12,
          8,
          24,
          17,
          12,
          18,
          16,
          4.95,
          14,
          9,
          12,
          10,
          14,
          25,
          20,
          10,
          8,
          14,
          20,
          20,
          16,
          8,
          5,
          20,
          8,
          20,
          32,
          25,
          11,
          38,
          7,
          7,
          7,
          30,
          10,
          12,
          12,
          8,
          7,
          36,
          36,
          20,
          12,
          7,
          12,
          28,
          22,
          32,
          30,
          16,
          12,
          28,
          17,
          6,
          7,
          20,
          34,
          34,
          7,
          3,
          24,
          12,
          12,
          20,
          28,
          18,
          8,
          32,
          20,
          14,
          5,
          9,
          20,
          34,
          6,
          35,
          12,
          32,
          7,
          14,
          14,
          6,
          20,
          12,
          32,
          7,
          9,
          24,
          14,
          12.5,
          10,
          6,
          4,
          13,
          16,
          28,
          54,
          18,
          20,
          62,
          24,
          17,
          15,
          16,
          10,
          17,
          25,
          39,
          12,
          12,
          2,
          49,
          8,
          6,
          15,
          16,
          50,
          50
         ],
         "z": [
          71100,
          72900,
          83000,
          46500,
          67300,
          3900,
          21200,
          31500,
          34400,
          141100,
          96600,
          44600,
          54600,
          44200,
          69300,
          34800,
          26400,
          25600,
          33900,
          30800,
          30900,
          30500,
          27000,
          14200,
          20100,
          20100,
          20800,
          17000,
          11100,
          18200,
          37100,
          629,
          15500,
          27700,
          12300,
          27100,
          30400,
          19200,
          29600,
          10100,
          12500,
          0,
          16300,
          39100,
          33000,
          77700,
          128400,
          25400,
          60700,
          14600,
          1200,
          1500,
          1600,
          2600,
          14100,
          393,
          15500,
          8500,
          13600,
          2300,
          19200,
          12000,
          47200,
          4000,
          14700,
          24200,
          5700,
          11600,
          3100,
          4400,
          15700,
          21500,
          22500,
          8300,
          13800,
          7800,
          483,
          402,
          9000,
          10200,
          18500,
          5000,
          6900,
          7300,
          5100,
          554,
          18100,
          11300,
          11400,
          736,
          5400,
          4100,
          17700,
          10000,
          4400,
          6400,
          17200,
          474,
          8600,
          7800,
          3600,
          658,
          7900,
          4400,
          16600,
          804,
          3400,
          43600,
          6000,
          4400,
          6200,
          2900,
          3700,
          2300,
          20300,
          13300,
          7500,
          32900,
          4200,
          9100,
          1900,
          1900,
          16600,
          7800,
          4600,
          2100,
          2700,
          2600,
          28600,
          7300,
          11900,
          11900,
          21800,
          3400,
          2700,
          650,
          8400,
          15500,
          30600,
          4400,
          12200,
          6300,
          3700,
          1400,
          5900,
          10500,
          2500,
          16600,
          1200,
          15800,
          19800,
          795,
          1100,
          2300,
          3600,
          10200,
          4900,
          899,
          16100,
          1700,
          7000,
          2900,
          2500,
          10700,
          2100,
          3100,
          8600,
          250,
          12100,
          13700,
          2000,
          3000,
          1900,
          81,
          313,
          4100,
          2100,
          6600,
          1200,
          911,
          15100,
          2700,
          290,
          830,
          444,
          1200,
          4900,
          5700,
          1200,
          5600,
          408,
          0,
          2600,
          4400,
          2100,
          6900,
          1900,
          12300,
          6300,
          959,
          8700,
          945,
          2900,
          470,
          3500,
          6600,
          2200,
          148,
          1900,
          6800,
          2200,
          6700,
          4300,
          1000,
          1100,
          1300,
          3400,
          789,
          1500,
          1100,
          2900,
          208,
          1500,
          1500,
          20,
          15900,
          17,
          36,
          4400,
          11400,
          5800,
          12200,
          29,
          525,
          288200,
          138700,
          47000,
          19400,
          118500,
          47000,
          28100,
          27800,
          9000,
          49800,
          120400,
          17400,
          46600,
          34400,
          31500,
          47500,
          44800,
          14500,
          28000,
          35300,
          73900,
          987,
          12100,
          22200,
          5500,
          27800,
          13300,
          20100,
          24500,
          28300,
          5300,
          17900,
          5400,
          1400,
          10500,
          9900,
          17400,
          4400,
          2000,
          14800,
          14800,
          82400,
          8400,
          25400,
          0,
          0,
          2100,
          5500,
          10900,
          47400,
          8500,
          12100,
          38500,
          6600,
          0,
          14600,
          955,
          4700,
          6100,
          0,
          4400,
          2100,
          315,
          27800,
          8300,
          9100,
          3000,
          169,
          562,
          10900,
          15600,
          424,
          0,
          10500,
          1000,
          31900,
          8600,
          2100,
          287,
          3800,
          5800,
          4800,
          6900,
          8700,
          5100,
          8400,
          4100,
          1300,
          3000,
          1600,
          1700,
          10800,
          0,
          1700,
          2900,
          4400,
          5100,
          4000,
          7600,
          1500,
          3400,
          2100,
          223,
          1600,
          255,
          1700,
          1700,
          750,
          3000,
          10300,
          720,
          408,
          6000,
          3100,
          2000,
          3000,
          4800,
          157,
          3500,
          623,
          3400,
          455,
          1400,
          1000,
          2000,
          1400,
          84,
          5100,
          1300,
          2900,
          3500,
          931,
          0,
          5000,
          1000,
          53,
          1900,
          5200,
          523,
          5100,
          1000,
          568,
          1500,
          4900,
          28,
          224700,
          117100,
          153900,
          123400,
          128400,
          55700,
          628100,
          100200,
          0,
          28100,
          37900,
          40400,
          168600,
          72100,
          57300,
          12600,
          169300,
          124900,
          70900,
          45100,
          45100,
          31800,
          3900,
          7600,
          3300,
          34700,
          21500,
          32700,
          56200,
          172700,
          163100,
          8200,
          0,
          29700,
          19300,
          56300,
          11200,
          47800,
          10000,
          5000,
          0,
          2100,
          24900,
          35200,
          272400,
          22500,
          76200,
          8100,
          81000,
          56900,
          23700,
          11400,
          69800,
          10100,
          0,
          5800,
          15900,
          72000,
          11100,
          23000,
          60300,
          10700,
          21600,
          4200,
          14100,
          36400,
          41400,
          59000,
          23000,
          3500,
          22400,
          14200,
          128400,
          62000,
          64099,
          17100,
          27300,
          0,
          0,
          18000,
          9500,
          0,
          9800,
          0,
          13100,
          33300,
          5900,
          19000,
          6000,
          8700,
          27800,
          0,
          33000,
          81000,
          0,
          12900,
          84700,
          16100,
          66700,
          3500,
          55900,
          34200,
          8700,
          40300,
          5500,
          8300,
          15500,
          11400,
          0,
          0,
          0,
          7200,
          11700,
          12400,
          16200,
          14700,
          6100,
          82600,
          0,
          9000,
          66300,
          36700,
          35200,
          0,
          7200,
          6500,
          51200,
          11700,
          44900,
          2200,
          8100,
          3200,
          14800,
          20000,
          15200,
          4000,
          19200,
          0,
          0,
          12200,
          2300,
          4000,
          0,
          6100,
          7000,
          10200,
          3700,
          9700,
          3300,
          8300,
          29700,
          26300,
          20000,
          22400,
          6000,
          20700,
          8700,
          3200,
          2500,
          0,
          6600,
          106900,
          4800,
          14800,
          4300,
          30500,
          6400,
          3400,
          6300,
          0,
          10900,
          8000,
          2700,
          5400,
          15300,
          1500,
          0,
          35500,
          9700,
          12300,
          2600,
          0,
          28600,
          127200,
          4700,
          8600,
          1700,
          23100,
          14800,
          2000,
          75900,
          948,
          21700,
          27200,
          21400,
          3300,
          0,
          15100,
          54000,
          1800,
          28500,
          13400,
          15200,
          0,
          5600,
          4400,
          9900,
          2700,
          4600,
          13400,
          7800,
          4400,
          4300,
          1800,
          11500,
          5800,
          85100,
          1400,
          6700,
          6100,
          12000,
          1100,
          17100,
          10000,
          23900,
          7000,
          3100,
          8800,
          1000,
          7000,
          2100,
          6400,
          791,
          0,
          9500,
          36600,
          1300,
          8400,
          4600,
          15300,
          0,
          0,
          1700,
          19200,
          18900,
          10400,
          2800,
          3800,
          5800,
          2900,
          15600,
          5700,
          24500,
          247,
          3500,
          8500,
          12700,
          3300,
          0,
          6300,
          2400,
          2600,
          0,
          35300,
          3600,
          541,
          0,
          2100,
          37600,
          2600,
          5300,
          8100,
          2300,
          1600,
          28300,
          1700,
          2700,
          10200,
          2500,
          13200,
          6400,
          0,
          30300,
          0,
          4700,
          4800,
          9900,
          11200,
          1300,
          4600,
          3400,
          5100,
          5200,
          0,
          2600,
          3100,
          78100,
          11100,
          323300,
          290900,
          180300,
          104900,
          97800,
          14600,
          116700,
          29900,
          75400,
          34700,
          66200,
          54500,
          62100,
          6800,
          6900,
          40000,
          18900,
          45600,
          168100,
          138300,
          61200,
          169600,
          33800,
          23500,
          1900,
          26400,
          8000,
          82400,
          132600,
          94200,
          47700,
          54800,
          28600,
          23900,
          13500,
          42700,
          69100,
          21000,
          85900,
          14100,
          24700,
          47500,
          29000,
          25300,
          4400,
          181300,
          55600,
          125100,
          53000,
          56200,
          3900,
          7200,
          19000,
          11200,
          1900,
          39300,
          17600,
          9500,
          23400,
          7700,
          3200,
          28600,
          4100,
          10400,
          3300,
          58100,
          46200,
          41300,
          14200,
          6600,
          23400,
          2400,
          35500,
          17600,
          6300,
          33400,
          727,
          2700,
          71900,
          16400,
          18400,
          2200,
          2700,
          9300,
          4500,
          34500,
          8300,
          49700,
          121900,
          3000,
          4900,
          157000,
          5000,
          2300,
          8600,
          8800,
          2000,
          26000,
          80300,
          47600,
          37600,
          7400,
          393,
          6600,
          10100,
          2100,
          67100,
          1600,
          17600,
          25800,
          20600,
          5500,
          15500,
          5000,
          7000,
          160700,
          8000,
          89200,
          39900,
          15300,
          14200,
          3500,
          3700,
          1900,
          28000,
          47400,
          11500,
          3300,
          1800,
          955,
          2600,
          5200,
          15300,
          3600,
          2900,
          1500,
          46300,
          2000,
          2600,
          619,
          0,
          9100,
          7100,
          8100,
          1300,
          2900,
          0,
          15200,
          1700,
          953,
          1700,
          5300,
          1300,
          10000,
          4200,
          7800,
          5700,
          1200,
          1300,
          4000,
          7900,
          19900,
          6300,
          2400,
          3900,
          4200,
          663,
          18000,
          28200,
          4300,
          129400,
          12400,
          18000,
          13400,
          12200,
          32100,
          15600,
          15300,
          119100,
          12400,
          23800,
          4300,
          11400,
          7100,
          8400,
          3700,
          2800,
          9500,
          76500,
          8500,
          12300,
          17400,
          41100,
          3800,
          3300,
          13200,
          24600,
          2100,
          4100,
          4000,
          6200,
          5800,
          3900,
          39100,
          4900,
          4500,
          7900,
          1300,
          2900,
          5300,
          3400,
          1100,
          4700,
          2500,
          3600,
          755,
          3500,
          5600,
          2700,
          1500,
          1200,
          4000,
          9800,
          3400,
          2800,
          4300,
          4900,
          6000,
          2600,
          394,
          5700,
          8000,
          811,
          17400,
          10200,
          2300,
          5700,
          1900,
          17000,
          1700,
          3100,
          2800,
          4400,
          3100,
          1800,
          543,
          2400,
          7100,
          2000,
          4200,
          0,
          1600,
          1200,
          2900,
          8300,
          1500,
          6200,
          195,
          630,
          1900,
          701,
          1300,
          1200,
          944,
          1500,
          92,
          626,
          2700,
          897,
          2400,
          2300,
          2200,
          3900,
          1100,
          357,
          536,
          3000,
          2000,
          976,
          2700,
          7500,
          1800,
          1300,
          680,
          1100,
          976,
          1800,
          143,
          1400,
          151,
          3400,
          468,
          252,
          1000,
          2500,
          558,
          618,
          898,
          319,
          497,
          264,
          413,
          2700,
          2900,
          1700,
          953,
          1400,
          3800,
          227,
          974,
          1100,
          808,
          624,
          1200,
          283,
          957,
          153,
          1400,
          346,
          182,
          318,
          1300,
          515,
          2100,
          754,
          109,
          244,
          866,
          277,
          4600,
          1000,
          854,
          2300,
          1400,
          1400,
          2200,
          7500,
          944,
          2900,
          447,
          5200,
          5900,
          512,
          13400,
          1900,
          6600,
          23600,
          3100,
          1200,
          0,
          11800,
          936,
          2200,
          2900,
          15100,
          16800,
          5900,
          5800,
          9000,
          796,
          3500,
          2400,
          5200,
          1300,
          18100,
          746,
          3100,
          2200,
          9900,
          6200,
          1200,
          2400,
          0,
          0,
          1900,
          799,
          7400,
          406,
          3900,
          12400,
          1300,
          20700,
          1800,
          1900,
          2200,
          3100,
          18200,
          317,
          4200,
          620,
          2800,
          9000,
          1900,
          611,
          17400,
          6200,
          12300,
          11400,
          2700,
          638,
          9200,
          489,
          650,
          529,
          1200,
          3000,
          15100,
          2000,
          3000,
          565,
          526,
          562,
          11800,
          2000,
          2600,
          6200,
          1100,
          502,
          16200,
          16900,
          9300,
          995,
          21300,
          316,
          1600,
          1000,
          14000,
          8000,
          2100,
          547,
          812,
          1700,
          3700,
          2300,
          4000,
          494,
          804,
          13100,
          4300,
          3700,
          1800,
          5600,
          2300,
          663,
          508,
          2900,
          6400,
          349,
          8600,
          1500,
          9300,
          16900,
          564,
          10400,
          758,
          268,
          5900,
          14500,
          8700,
          5100,
          520,
          2800,
          22500,
          5500,
          505,
          411,
          400,
          20700,
          21400,
          692,
          2000,
          8700,
          4000,
          4600,
          2000,
          4500,
          5800,
          18600,
          11500,
          1100,
          2000,
          2100,
          2000,
          7500,
          7100,
          22000,
          2900,
          4100,
          25000,
          8800,
          1600,
          2400,
          4100,
          4600,
          1100,
          5500,
          23600,
          7500,
          7800,
          22000,
          35700,
          3500,
          5000,
          21400,
          10500,
          7500,
          3800,
          15400,
          6500,
          48200,
          50200,
          8800,
          3100,
          15800,
          23700,
          51800,
          1900,
          37900,
          33600,
          8300,
          4800,
          2100,
          32900,
          6900,
          6200,
          266,
          445,
          0,
          0
         ]
        }
       ],
       "layout": {
        "legend": {
         "tracegroupgap": 0
        },
        "margin": {
         "t": 60
        },
        "scene": {
         "domain": {
          "x": [
           0,
           1
          ],
          "y": [
           0,
           1
          ]
         },
         "xaxis": {
          "title": {
           "text": "number_of_reviews"
          }
         },
         "yaxis": {
          "title": {
           "text": "price"
          }
         },
         "zaxis": {
          "title": {
           "text": "love"
          }
         }
        },
        "template": {
         "data": {
          "bar": [
           {
            "error_x": {
             "color": "#2a3f5f"
            },
            "error_y": {
             "color": "#2a3f5f"
            },
            "marker": {
             "line": {
              "color": "#E5ECF6",
              "width": 0.5
             }
            },
            "type": "bar"
           }
          ],
          "barpolar": [
           {
            "marker": {
             "line": {
              "color": "#E5ECF6",
              "width": 0.5
             }
            },
            "type": "barpolar"
           }
          ],
          "carpet": [
           {
            "aaxis": {
             "endlinecolor": "#2a3f5f",
             "gridcolor": "white",
             "linecolor": "white",
             "minorgridcolor": "white",
             "startlinecolor": "#2a3f5f"
            },
            "baxis": {
             "endlinecolor": "#2a3f5f",
             "gridcolor": "white",
             "linecolor": "white",
             "minorgridcolor": "white",
             "startlinecolor": "#2a3f5f"
            },
            "type": "carpet"
           }
          ],
          "choropleth": [
           {
            "colorbar": {
             "outlinewidth": 0,
             "ticks": ""
            },
            "type": "choropleth"
           }
          ],
          "contour": [
           {
            "colorbar": {
             "outlinewidth": 0,
             "ticks": ""
            },
            "colorscale": [
             [
              0,
              "#0d0887"
             ],
             [
              0.1111111111111111,
              "#46039f"
             ],
             [
              0.2222222222222222,
              "#7201a8"
             ],
             [
              0.3333333333333333,
              "#9c179e"
             ],
             [
              0.4444444444444444,
              "#bd3786"
             ],
             [
              0.5555555555555556,
              "#d8576b"
             ],
             [
              0.6666666666666666,
              "#ed7953"
             ],
             [
              0.7777777777777778,
              "#fb9f3a"
             ],
             [
              0.8888888888888888,
              "#fdca26"
             ],
             [
              1,
              "#f0f921"
             ]
            ],
            "type": "contour"
           }
          ],
          "contourcarpet": [
           {
            "colorbar": {
             "outlinewidth": 0,
             "ticks": ""
            },
            "type": "contourcarpet"
           }
          ],
          "heatmap": [
           {
            "colorbar": {
             "outlinewidth": 0,
             "ticks": ""
            },
            "colorscale": [
             [
              0,
              "#0d0887"
             ],
             [
              0.1111111111111111,
              "#46039f"
             ],
             [
              0.2222222222222222,
              "#7201a8"
             ],
             [
              0.3333333333333333,
              "#9c179e"
             ],
             [
              0.4444444444444444,
              "#bd3786"
             ],
             [
              0.5555555555555556,
              "#d8576b"
             ],
             [
              0.6666666666666666,
              "#ed7953"
             ],
             [
              0.7777777777777778,
              "#fb9f3a"
             ],
             [
              0.8888888888888888,
              "#fdca26"
             ],
             [
              1,
              "#f0f921"
             ]
            ],
            "type": "heatmap"
           }
          ],
          "heatmapgl": [
           {
            "colorbar": {
             "outlinewidth": 0,
             "ticks": ""
            },
            "colorscale": [
             [
              0,
              "#0d0887"
             ],
             [
              0.1111111111111111,
              "#46039f"
             ],
             [
              0.2222222222222222,
              "#7201a8"
             ],
             [
              0.3333333333333333,
              "#9c179e"
             ],
             [
              0.4444444444444444,
              "#bd3786"
             ],
             [
              0.5555555555555556,
              "#d8576b"
             ],
             [
              0.6666666666666666,
              "#ed7953"
             ],
             [
              0.7777777777777778,
              "#fb9f3a"
             ],
             [
              0.8888888888888888,
              "#fdca26"
             ],
             [
              1,
              "#f0f921"
             ]
            ],
            "type": "heatmapgl"
           }
          ],
          "histogram": [
           {
            "marker": {
             "colorbar": {
              "outlinewidth": 0,
              "ticks": ""
             }
            },
            "type": "histogram"
           }
          ],
          "histogram2d": [
           {
            "colorbar": {
             "outlinewidth": 0,
             "ticks": ""
            },
            "colorscale": [
             [
              0,
              "#0d0887"
             ],
             [
              0.1111111111111111,
              "#46039f"
             ],
             [
              0.2222222222222222,
              "#7201a8"
             ],
             [
              0.3333333333333333,
              "#9c179e"
             ],
             [
              0.4444444444444444,
              "#bd3786"
             ],
             [
              0.5555555555555556,
              "#d8576b"
             ],
             [
              0.6666666666666666,
              "#ed7953"
             ],
             [
              0.7777777777777778,
              "#fb9f3a"
             ],
             [
              0.8888888888888888,
              "#fdca26"
             ],
             [
              1,
              "#f0f921"
             ]
            ],
            "type": "histogram2d"
           }
          ],
          "histogram2dcontour": [
           {
            "colorbar": {
             "outlinewidth": 0,
             "ticks": ""
            },
            "colorscale": [
             [
              0,
              "#0d0887"
             ],
             [
              0.1111111111111111,
              "#46039f"
             ],
             [
              0.2222222222222222,
              "#7201a8"
             ],
             [
              0.3333333333333333,
              "#9c179e"
             ],
             [
              0.4444444444444444,
              "#bd3786"
             ],
             [
              0.5555555555555556,
              "#d8576b"
             ],
             [
              0.6666666666666666,
              "#ed7953"
             ],
             [
              0.7777777777777778,
              "#fb9f3a"
             ],
             [
              0.8888888888888888,
              "#fdca26"
             ],
             [
              1,
              "#f0f921"
             ]
            ],
            "type": "histogram2dcontour"
           }
          ],
          "mesh3d": [
           {
            "colorbar": {
             "outlinewidth": 0,
             "ticks": ""
            },
            "type": "mesh3d"
           }
          ],
          "parcoords": [
           {
            "line": {
             "colorbar": {
              "outlinewidth": 0,
              "ticks": ""
             }
            },
            "type": "parcoords"
           }
          ],
          "pie": [
           {
            "automargin": true,
            "type": "pie"
           }
          ],
          "scatter": [
           {
            "marker": {
             "colorbar": {
              "outlinewidth": 0,
              "ticks": ""
             }
            },
            "type": "scatter"
           }
          ],
          "scatter3d": [
           {
            "line": {
             "colorbar": {
              "outlinewidth": 0,
              "ticks": ""
             }
            },
            "marker": {
             "colorbar": {
              "outlinewidth": 0,
              "ticks": ""
             }
            },
            "type": "scatter3d"
           }
          ],
          "scattercarpet": [
           {
            "marker": {
             "colorbar": {
              "outlinewidth": 0,
              "ticks": ""
             }
            },
            "type": "scattercarpet"
           }
          ],
          "scattergeo": [
           {
            "marker": {
             "colorbar": {
              "outlinewidth": 0,
              "ticks": ""
             }
            },
            "type": "scattergeo"
           }
          ],
          "scattergl": [
           {
            "marker": {
             "colorbar": {
              "outlinewidth": 0,
              "ticks": ""
             }
            },
            "type": "scattergl"
           }
          ],
          "scattermapbox": [
           {
            "marker": {
             "colorbar": {
              "outlinewidth": 0,
              "ticks": ""
             }
            },
            "type": "scattermapbox"
           }
          ],
          "scatterpolar": [
           {
            "marker": {
             "colorbar": {
              "outlinewidth": 0,
              "ticks": ""
             }
            },
            "type": "scatterpolar"
           }
          ],
          "scatterpolargl": [
           {
            "marker": {
             "colorbar": {
              "outlinewidth": 0,
              "ticks": ""
             }
            },
            "type": "scatterpolargl"
           }
          ],
          "scatterternary": [
           {
            "marker": {
             "colorbar": {
              "outlinewidth": 0,
              "ticks": ""
             }
            },
            "type": "scatterternary"
           }
          ],
          "surface": [
           {
            "colorbar": {
             "outlinewidth": 0,
             "ticks": ""
            },
            "colorscale": [
             [
              0,
              "#0d0887"
             ],
             [
              0.1111111111111111,
              "#46039f"
             ],
             [
              0.2222222222222222,
              "#7201a8"
             ],
             [
              0.3333333333333333,
              "#9c179e"
             ],
             [
              0.4444444444444444,
              "#bd3786"
             ],
             [
              0.5555555555555556,
              "#d8576b"
             ],
             [
              0.6666666666666666,
              "#ed7953"
             ],
             [
              0.7777777777777778,
              "#fb9f3a"
             ],
             [
              0.8888888888888888,
              "#fdca26"
             ],
             [
              1,
              "#f0f921"
             ]
            ],
            "type": "surface"
           }
          ],
          "table": [
           {
            "cells": {
             "fill": {
              "color": "#EBF0F8"
             },
             "line": {
              "color": "white"
             }
            },
            "header": {
             "fill": {
              "color": "#C8D4E3"
             },
             "line": {
              "color": "white"
             }
            },
            "type": "table"
           }
          ]
         },
         "layout": {
          "annotationdefaults": {
           "arrowcolor": "#2a3f5f",
           "arrowhead": 0,
           "arrowwidth": 1
          },
          "autotypenumbers": "strict",
          "coloraxis": {
           "colorbar": {
            "outlinewidth": 0,
            "ticks": ""
           }
          },
          "colorscale": {
           "diverging": [
            [
             0,
             "#8e0152"
            ],
            [
             0.1,
             "#c51b7d"
            ],
            [
             0.2,
             "#de77ae"
            ],
            [
             0.3,
             "#f1b6da"
            ],
            [
             0.4,
             "#fde0ef"
            ],
            [
             0.5,
             "#f7f7f7"
            ],
            [
             0.6,
             "#e6f5d0"
            ],
            [
             0.7,
             "#b8e186"
            ],
            [
             0.8,
             "#7fbc41"
            ],
            [
             0.9,
             "#4d9221"
            ],
            [
             1,
             "#276419"
            ]
           ],
           "sequential": [
            [
             0,
             "#0d0887"
            ],
            [
             0.1111111111111111,
             "#46039f"
            ],
            [
             0.2222222222222222,
             "#7201a8"
            ],
            [
             0.3333333333333333,
             "#9c179e"
            ],
            [
             0.4444444444444444,
             "#bd3786"
            ],
            [
             0.5555555555555556,
             "#d8576b"
            ],
            [
             0.6666666666666666,
             "#ed7953"
            ],
            [
             0.7777777777777778,
             "#fb9f3a"
            ],
            [
             0.8888888888888888,
             "#fdca26"
            ],
            [
             1,
             "#f0f921"
            ]
           ],
           "sequentialminus": [
            [
             0,
             "#0d0887"
            ],
            [
             0.1111111111111111,
             "#46039f"
            ],
            [
             0.2222222222222222,
             "#7201a8"
            ],
            [
             0.3333333333333333,
             "#9c179e"
            ],
            [
             0.4444444444444444,
             "#bd3786"
            ],
            [
             0.5555555555555556,
             "#d8576b"
            ],
            [
             0.6666666666666666,
             "#ed7953"
            ],
            [
             0.7777777777777778,
             "#fb9f3a"
            ],
            [
             0.8888888888888888,
             "#fdca26"
            ],
            [
             1,
             "#f0f921"
            ]
           ]
          },
          "colorway": [
           "#636efa",
           "#EF553B",
           "#00cc96",
           "#ab63fa",
           "#FFA15A",
           "#19d3f3",
           "#FF6692",
           "#B6E880",
           "#FF97FF",
           "#FECB52"
          ],
          "font": {
           "color": "#2a3f5f"
          },
          "geo": {
           "bgcolor": "white",
           "lakecolor": "white",
           "landcolor": "#E5ECF6",
           "showlakes": true,
           "showland": true,
           "subunitcolor": "white"
          },
          "hoverlabel": {
           "align": "left"
          },
          "hovermode": "closest",
          "mapbox": {
           "style": "light"
          },
          "paper_bgcolor": "white",
          "plot_bgcolor": "#E5ECF6",
          "polar": {
           "angularaxis": {
            "gridcolor": "white",
            "linecolor": "white",
            "ticks": ""
           },
           "bgcolor": "#E5ECF6",
           "radialaxis": {
            "gridcolor": "white",
            "linecolor": "white",
            "ticks": ""
           }
          },
          "scene": {
           "xaxis": {
            "backgroundcolor": "#E5ECF6",
            "gridcolor": "white",
            "gridwidth": 2,
            "linecolor": "white",
            "showbackground": true,
            "ticks": "",
            "zerolinecolor": "white"
           },
           "yaxis": {
            "backgroundcolor": "#E5ECF6",
            "gridcolor": "white",
            "gridwidth": 2,
            "linecolor": "white",
            "showbackground": true,
            "ticks": "",
            "zerolinecolor": "white"
           },
           "zaxis": {
            "backgroundcolor": "#E5ECF6",
            "gridcolor": "white",
            "gridwidth": 2,
            "linecolor": "white",
            "showbackground": true,
            "ticks": "",
            "zerolinecolor": "white"
           }
          },
          "shapedefaults": {
           "line": {
            "color": "#2a3f5f"
           }
          },
          "ternary": {
           "aaxis": {
            "gridcolor": "white",
            "linecolor": "white",
            "ticks": ""
           },
           "baxis": {
            "gridcolor": "white",
            "linecolor": "white",
            "ticks": ""
           },
           "bgcolor": "#E5ECF6",
           "caxis": {
            "gridcolor": "white",
            "linecolor": "white",
            "ticks": ""
           }
          },
          "title": {
           "x": 0.05
          },
          "xaxis": {
           "automargin": true,
           "gridcolor": "white",
           "linecolor": "white",
           "ticks": "",
           "title": {
            "standoff": 15
           },
           "zerolinecolor": "white",
           "zerolinewidth": 2
          },
          "yaxis": {
           "automargin": true,
           "gridcolor": "white",
           "linecolor": "white",
           "ticks": "",
           "title": {
            "standoff": 15
           },
           "zerolinecolor": "white",
           "zerolinewidth": 2
          }
         }
        }
       }
      },
      "text/html": [
       "<div>                            <div id=\"cc64ffe6-44a0-4100-a8ac-6367d23cdcf2\" class=\"plotly-graph-div\" style=\"height:525px; width:100%;\"></div>            <script type=\"text/javascript\">                require([\"plotly\"], function(Plotly) {                    window.PLOTLYENV=window.PLOTLYENV || {};                                    if (document.getElementById(\"cc64ffe6-44a0-4100-a8ac-6367d23cdcf2\")) {                    Plotly.newPlot(                        \"cc64ffe6-44a0-4100-a8ac-6367d23cdcf2\",                        [{\"hovertemplate\": \"number_of_reviews=%{x}<br>price=%{y}<br>love=%{z}<extra></extra>\", \"legendgroup\": \"\", \"marker\": {\"color\": \"#636efa\", \"symbol\": \"circle\"}, \"mode\": \"markers\", \"name\": \"\", \"scene\": \"scene\", \"showlegend\": false, \"type\": \"scatter3d\", \"x\": [1000, 1000, 3000, 2000, 2000, 6, 131, 1000, 2000, 3000, 2000, 185, 1000, 814, 3000, 1000, 1000, 948, 2000, 964, 1000, 1000, 562, 547, 868, 160, 674, 387, 17, 1000, 1000, 7, 603, 397, 769, 913, 758, 911, 936, 331, 504, 1, 328, 663, 244, 2000, 952, 612, 3000, 363, 22, 2, 1, 31, 701, 1, 630, 140, 776, 8, 748, 213, 951, 20, 3000, 136, 24, 1000, 6, 6, 150, 206, 477, 36, 285, 90, 7, 4, 564, 270, 133, 70, 522, 276, 27, 2, 874, 718, 653, 14, 375, 16, 124, 204, 3000, 474, 217, 14, 230, 109, 31, 6, 688, 39, 275, 4, 23, 337, 190, 1000, 71, 3, 160, 45, 262, 435, 228, 1000, 26, 44, 39, 39, 453, 159, 73, 31, 66, 14, 263, 241, 248, 59, 109, 109, 0, 0, 260, 277, 576, 219, 1000, 470, 57, 4, 134, 271, 36, 227, 3, 133, 578, 5, 8, 41, 17, 274, 19, 0, 118, 15, 142, 17, 47, 88, 62, 47, 171, 0, 756, 374, 15, 94, 78, 0, 9, 28, 35, 85, 154, 0, 88, 25, 2, 13, 1, 7, 45, 37, 0, 214, 0, 18, 2, 19, 12, 50, 33, 178, 300, 52, 404, 0, 22, 5, 42, 66, 187, 0, 3, 227, 19, 35, 248, 35, 5, 28, 32, 35, 7, 14, 107, 0, 37, 2, 0, 286, 0, 0, 35, 60, 167, 402, 0, 3, 4000, 3000, 185, 346, 1000, 1000, 989, 926, 79, 720, 1000, 959, 153, 1000, 102, 982, 635, 13, 2000, 687, 301, 2, 26, 2000, 6, 473, 197, 431, 697, 110, 46, 167, 174, 9, 149, 30, 54, 28, 31, 113, 3000, 435, 39, 89, 14, 6, 25, 39, 86, 187, 41, 526, 397, 18, 10, 155, 1000, 27, 28, 2, 47, 12, 0, 42, 1000, 143, 36, 0, 9, 70, 156, 1, 3, 98, 0, 86, 755, 18, 10, 40, 27, 20, 143, 95, 66, 94, 26, 5, 95, 14, 27, 265, 17, 16, 14, 23, 25, 33, 48, 68, 17, 6, 1, 10, 0, 31, 20, 12, 10, 40, 6, 6, 62, 22, 7, 26, 7, 0, 24, 6, 30, 3, 52, 7, 18, 18, 0, 28, 3, 42, 62, 5, 6, 42, 3, 0, 6, 31, 8, 16, 4, 2, 6, 99, 0, 3000, 1000, 6000, 356, 3000, 1000, 9000, 3000, 81, 115, 404, 256, 2000, 785, 827, 87, 1000, 2000, 1000, 262, 515, 89, 137, 28, 102, 596, 65, 839, 956, 3000, 2000, 173, 7, 408, 203, 310, 74, 132, 19, 14, 70, 0, 447, 98, 2000, 493, 810, 58, 2000, 555, 48, 46, 3000, 29, 17, 62, 131, 984, 59, 969, 889, 378, 444, 31, 401, 394, 529, 255, 168, 115, 128, 831, 2000, 637, 3000, 581, 272, 0, 17, 1000, 30, 20, 44, 4, 10, 291, 13, 93, 6, 76, 361, 7, 163, 2000, 5, 143, 892, 169, 473, 2, 1000, 86, 71, 2000, 17, 26, 239, 28, 1, 26, 15, 62, 234, 52, 191, 178, 12, 570, 79, 54, 852, 212, 538, 9, 105, 100, 896, 164, 1000, 42, 22, 2, 62, 175, 190, 9, 170, 0, 98, 112, 28, 8, 2, 84, 20, 98, 14, 355, 17, 89, 207, 176, 56, 496, 42, 1000, 130, 17, 14, 2, 11, 1000, 86, 196, 2, 1000, 40, 11, 65, 0, 1000, 343, 4, 46, 34, 12, 9, 301, 128, 81, 25, 61, 321, 2000, 8, 17, 1, 478, 112, 1, 831, 7, 269, 398, 276, 14, 0, 99, 987, 27, 232, 513, 495, 22, 16, 17, 20, 5, 72, 845, 143, 51, 31, 19, 94, 40, 408, 17, 43, 33, 75, 7, 81, 217, 560, 108, 16, 48, 5, 31, 19, 22, 54, 13, 51, 733, 2, 165, 40, 75, 9, 20, 3, 103, 1000, 308, 28, 16, 39, 26, 90, 24, 492, 1, 85, 41, 339, 10, 4, 93, 16, 53, 12, 244, 25, 0, 12, 13, 315, 31, 26, 60, 68, 1, 210, 12, 26, 21, 5, 265, 43, 10, 679, 26, 40, 187, 35, 91, 2, 23, 32, 17, 65, 28, 14, 7, 1000, 16, 5000, 3000, 3000, 3000, 6000, 225, 1000, 180, 1000, 694, 1000, 991, 1000, 22, 15, 1000, 417, 263, 1000, 1000, 982, 2000, 618, 335, 3, 209, 17, 2000, 813, 859, 1000, 412, 1000, 948, 30, 852, 1000, 173, 576, 117, 608, 1000, 1000, 524, 10, 6000, 357, 1000, 756, 392, 241, 56, 856, 25, 3, 1000, 268, 157, 199, 161, 4, 1000, 48, 93, 5, 505, 1000, 703, 17, 18, 195, 5, 634, 44, 127, 438, 0, 17, 1000, 110, 174, 18, 20, 86, 15, 275, 39, 1000, 1000, 2, 8, 1000, 10, 7, 89, 182, 1, 402, 364, 330, 929, 50, 1, 27, 89, 6, 532, 4, 89, 106, 169, 52, 142, 33, 25, 2000, 103, 1000, 359, 249, 453, 32, 7, 11, 589, 351, 20, 20, 18, 3, 48, 40, 712, 29, 3, 7, 291, 3, 18, 1, 1, 127, 64, 52, 3, 4, 2, 30, 5, 3, 13, 8, 7, 151, 10, 29, 22, 8, 24, 21, 170, 316, 51, 2, 15, 26, 3, 77, 132, 132, 340, 87, 132, 24, 94, 1000, 161, 126, 327, 30, 228, 20, 223, 93, 60, 17, 15, 118, 140, 25, 287, 41, 167, 60, 23, 271, 79, 20, 22, 30, 27, 28, 25, 74, 65, 21, 38, 11, 171, 34, 25, 5, 20, 62, 19, 1, 81, 34, 5, 7, 3, 21, 187, 14, 17, 111, 200, 24, 25, 1, 32, 19, 7, 34, 16, 9, 14, 13, 38, 8, 18, 32, 29, 9, 8, 24, 18, 36, 6, 27, 0, 85, 9, 84, 32, 7, 22, 0, 2, 11, 2, 14, 7, 37, 16, 0, 9, 8, 9, 18, 31, 19, 5, 7, 0, 5, 53, 11, 4, 17, 25, 17, 12, 2, 13, 2, 10, 1, 7, 2, 43, 3, 1, 5, 15, 4, 6, 3, 2, 2, 1, 1, 26, 4, 16, 4, 14, 23, 0, 6, 4, 3, 3, 9, 2, 3, 1, 7, 2, 1, 6, 12, 5, 23, 9, 2, 3, 0, 0, 12, 0, 1, 9, 61, 70, 16, 42, 0, 9, 0, 13, 114, 0, 297, 4, 23, 687, 1, 4, 3, 147, 57, 8, 12, 57, 223, 12, 7, 149, 0, 38, 11, 59, 0, 337, 1, 72, 19, 25, 88, 17, 89, 3, 12, 16, 65, 45, 5, 30, 61, 6, 242, 7, 18, 16, 35, 73, 0, 38, 0, 102, 29, 22, 7, 157, 18, 43, 65, 50, 0, 86, 54, 0, 0, 5, 26, 70, 9, 22, 1, 0, 23, 134, 10, 11, 64, 6, 0, 273, 205, 37, 123, 636, 1, 3, 1, 101, 110, 19, 49, 0, 7, 16, 11, 19, 0, 1, 101, 30, 47, 1, 60, 19, 1, 0, 22, 26, 9, 103, 2, 100, 271, 0, 72, 0, 0, 19, 72, 42, 33, 4, 7, 289, 56, 5, 0, 0, 146, 183, 0, 14, 54, 12, 23, 4, 18, 18, 67, 239, 1, 17, 82, 12, 25, 44, 619, 23, 17, 208, 73, 19, 39, 20, 20, 3, 56, 127, 65, 57, 146, 334, 34, 22, 328, 34, 116, 25, 44, 32, 1000, 166, 31, 163, 357, 596, 156, 6, 81, 83, 22, 32, 11, 62, 39, 15, 0, 0, 46, 0], \"y\": [39.5, 28.0, 28.0, 18.5, 29.5, 84.0, 28.0, 17.0, 19.5, 30.0, 29.5, 39.0, 33.0, 27.0, 19.5, 28.5, 33.0, 39.5, 19.5, 22.0, 29.5, 23.0, 19.0, 49.5, 17.0, 28.0, 28.5, 61.5, 25.0, 19.0, 28.5, 31.5, 28.5, 36.0, 22.0, 22.0, 39.5, 28.5, 17.0, 19.5, 24.0, 26.0, 42.0, 39.5, 28.0, 18.5, 25.0, 28.0, 19.5, 19.5, 39.0, 29.0, 39.5, 58.0, 21.0, 45.0, 53.0, 46.0, 23.0, 30.0, 18.0, 21.0, 27.5, 32.0, 15.0, 29.0, 58.0, 5.0, 40.0, 18.0, 25.0, 25.0, 28.0, 17.5, 15.5, 28.5, 39.0, 39.0, 18.5, 46.0, 20.0, 34.0, 19.5, 24.0, 19.5, 39.5, 33.0, 19.5, 51.5, 69.0, 15.5, 53.0, 29.5, 27.0, 9.5, 22.0, 39.5, 39.0, 48.0, 44.5, 33.0, 31.5, 19.5, 14.5, 25.0, 39.0, 22.0, 40.0, 17.0, 12.0, 48.0, 53.0, 21.0, 29.5, 26.0, 16.5, 33.0, 12.0, 29.5, 29.5, 66.0, 29.5, 22.5, 28.0, 22.0, 55.0, 29.5, 9.5, 19.5, 30.0, 31.0, 8.0, 19.5, 22.0, 19.5, 29.5, 18.5, 28.5, 18.5, 17.0, 18.5, 27.0, 50.0, 53.0, 47.0, 19.5, 50.5, 25.0, 69.0, 32.0, 30.5, 55.0, 51.0, 22.5, 19.5, 22.0, 40.0, 18.0, 28.5, 58.0, 29.0, 27.0, 16.0, 18.0, 55.5, 18.0, 30.0, 19.5, 39.5, 42.0, 19.5, 25.0, 52.0, 55.0, 69.0, 30.5, 17.0, 39.5, 19.5, 39.0, 19.5, 39.5, 39.5, 66.0, 19.5, 19.5, 28.5, 21.0, 32.5, 34.5, 19.5, 5.0, 14.5, 18.5, 27.0, 28.0, 68.0, 28.5, 25.0, 21.0, 49.0, 32.5, 19.0, 35.0, 35.0, 14.5, 77.0, 39.5, 14.5, 17.5, 32.0, 13.5, 19.5, 15.0, 33.0, 16.0, 28.5, 18.5, 7.5, 21.0, 30.0, 19.5, 18.5, 14.5, 29.5, 19.5, 39.5, 29.5, 28.5, 19.5, 26.5, 50.0, 40.0, 51.0, 34.0, 62.0, 49.0, 77.0, 40.0, 29.5, 52.0, 52.0, 95.0, 29.5, 34.0, 36.0, 34.0, 29.0, 95.0, 105.0, 85.0, 30.0, 29.5, 45.0, 38.0, 29.5, 34.0, 29.5, 38.0, 52.0, 105.0, 54.0, 85.0, 38.0, 165.0, 150.0, 29.5, 150.0, 82.0, 37.0, 45.0, 107.0, 107.0, 36.0, 29.5, 48.0, 50.0, 62.0, 95.0, 95.0, 69.0, 100.0, 30.5, 38.0, 38.0, 30.0, 30.0, 38.0, 95.0, 135.0, 155.0, 38.0, 44.0, 48.0, 95.0, 25.0, 129.0, 38.0, 29.5, 100.0, 175.0, 149.0, 75.0, 69.0, 34.0, 105.0, 95.0, 85.0, 105.0, 38.0, 29.5, 27.0, 155.0, 49.5, 40.0, 72.0, 105.0, 46.0, 43.0, 85.0, 73.0, 29.5, 75.0, 105.0, 79.0, 105.0, 95.0, 29.0, 125.0, 55.0, 42.0, 75.0, 52.0, 75.0, 140.0, 55.0, 57.0, 43.0, 45.0, 34.0, 75.0, 79.0, 49.0, 57.0, 59.0, 95.0, 135.0, 55.0, 65.0, 43.0, 38.0, 48.0, 26.0, 60.0, 105.0, 60.0, 29.5, 59.0, 45.0, 43.0, 25.0, 69.0, 62.0, 43.0, 33.0, 140.0, 95.0, 62.0, 85.0, 55.0, 25.0, 69.0, 95.0, 128.0, 140.0, 79.0, 40.0, 69.0, 149.0, 8.0, 6.0, 13.0, 70.0, 20.0, 20.0, 15.0, 12.0, 8.0, 8.0, 20.0, 8.0, 11.0, 10.0, 5.0, 58.0, 9.0, 14.0, 22.0, 14.0, 17.0, 45.0, 6.0, 16.0, 6.0, 20.0, 68.0, 14.0, 5.0, 12.0, 7.0, 69.0, 3.0, 9.0, 5.0, 10.0, 6.0, 40.0, 25.0, 10.0, 8.0, 20.0, 17.0, 42.0, 9.0, 17.0, 13.0, 26.0, 28.0, 12.0, 8.0, 6.0, 11.0, 60.0, 6.0, 17.0, 20.0, 8.0, 15.0, 19.0, 20.0, 16.0, 12.0, 5.0, 10.0, 5.0, 5.0, 68.0, 20.0, 12.0, 16.0, 14.0, 14.0, 9.0, 12.0, 12.0, 16.0, 50.0, 6.0, 12.0, 68.0, 8.0, 10.0, 3.0, 32.0, 8.0, 14.0, 45.0, 10.0, 28.0, 14.0, 8.0, 5.0, 15.0, 18.0, 17.0, 8.0, 14.0, 15.0, 10.0, 18.0, 60.0, 4.0, 7.0, 18.0, 20.0, 18.0, 10.0, 5.0, 5.0, 6.0, 6.0, 20.0, 10.0, 6.0, 20.0, 14.0, 6.0, 8.0, 15.0, 9.0, 9.0, 29.0, 8.0, 10.0, 14.0, 14.0, 30.0, 30.0, 14.0, 14.0, 34.0, 34.0, 5.0, 8.0, 18.0, 9.0, 8.0, 8.0, 6.0, 12.0, 28.0, 9.0, 16.0, 36.0, 9.0, 12.0, 15.0, 18.0, 20.0, 14.0, 45.0, 34.0, 14.0, 6.0, 12.0, 8.0, 6.0, 6.0, 8.0, 20.0, 6.0, 6.0, 3.0, 8.0, 12.0, 68.0, 15.0, 15.0, 50.0, 15.0, 14.0, 9.0, 6.0, 55.0, 14.0, 8.0, 30.0, 10.0, 10.0, 20.0, 8.0, 14.0, 14.0, 16.0, 34.0, 8.0, 10.0, 10.0, 42.0, 18.0, 15.0, 30.0, 17.0, 15.0, 16.0, 50.0, 30.0, 22.0, 14.0, 40.0, 18.0, 23.0, 8.0, 34.0, 12.0, 36.0, 4.0, 16.0, 17.0, 16.0, 12.0, 10.0, 17.0, 10.0, 24.0, 68.0, 17.0, 22.0, 12.0, 9.0, 30.0, 22.0, 19.0, 16.0, 10.0, 28.0, 16.0, 15.0, 40.0, 12.0, 14.0, 7.0, 8.0, 10.0, 3.0, 14.0, 15.0, 12.0, 52.0, 8.0, 8.0, 18.0, 30.0, 3.5, 6.0, 13.0, 20.0, 9.0, 16.0, 12.0, 30.0, 15.0, 14.0, 20.0, 16.0, 10.0, 59.0, 8.0, 12.0, 10.0, 12.0, 8.0, 28.0, 12.0, 14.0, 5.0, 20.0, 12.0, 12.0, 15.0, 32.0, 12.0, 20.0, 29.0, 17.0, 6.0, 49.0, 25.0, 16.0, 6.0, 8.0, 30.0, 8.0, 10.0, 16.0, 18.0, 14.0, 15.0, 12.0, 8.0, 110.0, 105.0, 12.0, 10.0, 22.0, 26.0, 29.0, 29.0, 39.0, 39.0, 37.0, 23.0, 23.0, 19.0, 10.0, 34.0, 39.0, 39.0, 24.0, 36.0, 29.0, 26.0, 23.0, 39.0, 22.0, 21.0, 26.0, 30.0, 39.0, 39.0, 22.0, 34.0, 28.0, 15.0, 48.0, 39.0, 45.0, 18.0, 22.0, 23.0, 34.0, 14.0, 38.0, 25.0, 20.0, 19.0, 39.0, 25.0, 25.0, 23.0, 20.0, 15.0, 39.0, 19.0, 19.0, 39.0, 12.0, 23.0, 12.0, 21.0, 14.0, 23.0, 33.0, 42.0, 20.0, 45.0, 32.0, 29.0, 30.0, 39.0, 12.0, 11.0, 29.0, 29.0, 32.0, 29.0, 29.0, 39.0, 12.0, 29.0, 15.0, 12.0, 28.0, 28.0, 16.0, 12.0, 44.0, 9.0, 24.0, 24.0, 18.0, 19.0, 24.0, 19.0, 24.0, 49.0, 28.0, 40.0, 20.0, 19.0, 14.0, 28.0, 39.0, 12.0, 12.0, 22.0, 32.0, 22.0, 18.0, 39.0, 28.0, 42.0, 15.0, 19.0, 15.0, 22.0, 24.0, 16.0, 14.0, 49.0, 15.0, 21.0, 20.0, 19.0, 21.0, 19.0, 35.0, 14.0, 16.0, 32.0, 17.0, 32.0, 36.0, 25.0, 19.0, 12.0, 14.0, 12.0, 39.0, 23.0, 16.0, 140.0, 12.0, 20.0, 16.0, 14.0, 14.0, 19.0, 24.0, 28.0, 24.0, 17.0, 19.0, 9.0, 30.0, 35.0, 24.0, 12.0, 25.0, 12.0, 29.0, 14.0, 25.0, 21.0, 12.0, 35.0, 25.0, 25.0, 18.0, 19.0, 105.0, 30.0, 42.0, 20.0, 30.0, 100.0, 34.0, 88.0, 240.0, 240.0, 55.0, 335.0, 128.0, 240.0, 88.0, 55.0, 55.0, 88.0, 335.0, 240.0, 128.0, 335.0, 240.0, 72.0, 90.0, 36.0, 112.0, 59.0, 63.0, 62.0, 180.0, 240.0, 128.0, 46.0, 57.0, 60.0, 240.0, 60.0, 88.0, 54.0, 55.0, 46.0, 55.0, 60.0, 240.0, 195.0, 240.0, 49.0, 54.0, 55.0, 128.0, 49.0, 60.0, 128.0, 240.0, 50.0, 132.0, 92.0, 54.0, 128.0, 60.0, 115.0, 46.0, 128.0, 88.0, 75.0, 128.0, 240.0, 55.0, 128.0, 55.0, 46.0, 44.0, 60.0, 49.0, 55.0, 240.0, 70.0, 70.0, 240.0, 36.0, 240.0, 60.0, 128.0, 88.0, 60.0, 70.0, 60.0, 110.0, 240.0, 54.0, 84.0, 70.0, 325.0, 240.0, 180.0, 49.0, 49.0, 46.0, 100.0, 60.0, 335.0, 128.0, 40.0, 240.0, 53.0, 240.0, 46.0, 240.0, 47.0, 70.0, 98.0, 112.0, 110.0, 240.0, 70.0, 29.0, 57.0, 240.0, 68.0, 54.0, 53.0, 56.0, 78.0, 49.0, 70.0, 70.0, 75.0, 70.0, 155.0, 70.0, 88.0, 240.0, 235.0, 52.0, 180.0, 70.0, 70.0, 67.0, 240.0, 55.0, 125.0, 60.0, 70.0, 55.0, 65.0, 49.0, 47.0, 70.0, 36.0, 70.0, 59.0, 49.0, 70.0, 240.0, 335.0, 335.0, 55.0, 97.0, 122.0, 38.0, 38.0, 78.0, 70.0, 72.0, 53.0, 30.0, 15.0, 8.0, 12.0, 20.0, 30.0, 8.0, 10.0, 16.0, 25.0, 20.0, 12.0, 85.0, 20.0, 14.0, 45.0, 40.0, 3.0, 10.0, 16.0, 8.0, 9.0, 30.0, 55.0, 22.0, 16.0, 18.0, 24.0, 40.0, 29.0, 30.0, 8.0, 18.0, 6.0, 9.0, 10.0, 30.0, 12.0, 7.0, 26.0, 3.0, 16.0, 14.0, 5.0, 8.0, 8.0, 34.0, 15.0, 10.0, 75.0, 20.0, 17.0, 6.0, 8.0, 12.0, 35.0, 14.0, 12.0, 22.0, 16.0, 20.0, 14.0, 100.0, 8.0, 12.0, 14.0, 25.0, 24.0, 26.0, 3.0, 8.0, 14.0, 20.0, 30.0, 14.0, 5.0, 15.0, 60.0, 10.0, 10.0, 10.0, 8.0, 12.0, 8.0, 24.0, 17.0, 12.0, 18.0, 16.0, 4.95, 14.0, 9.0, 12.0, 10.0, 14.0, 25.0, 20.0, 10.0, 8.0, 14.0, 20.0, 20.0, 16.0, 8.0, 5.0, 20.0, 8.0, 20.0, 32.0, 25.0, 11.0, 38.0, 7.0, 7.0, 7.0, 30.0, 10.0, 12.0, 12.0, 8.0, 7.0, 36.0, 36.0, 20.0, 12.0, 7.0, 12.0, 28.0, 22.0, 32.0, 30.0, 16.0, 12.0, 28.0, 17.0, 6.0, 7.0, 20.0, 34.0, 34.0, 7.0, 3.0, 24.0, 12.0, 12.0, 20.0, 28.0, 18.0, 8.0, 32.0, 20.0, 14.0, 5.0, 9.0, 20.0, 34.0, 6.0, 35.0, 12.0, 32.0, 7.0, 14.0, 14.0, 6.0, 20.0, 12.0, 32.0, 7.0, 9.0, 24.0, 14.0, 12.5, 10.0, 6.0, 4.0, 13.0, 16.0, 28.0, 54.0, 18.0, 20.0, 62.0, 24.0, 17.0, 15.0, 16.0, 10.0, 17.0, 25.0, 39.0, 12.0, 12.0, 2.0, 49.0, 8.0, 6.0, 15.0, 16.0, 50.0, 50.0], \"z\": [71100, 72900, 83000, 46500, 67300, 3900, 21200, 31500, 34400, 141100, 96600, 44600, 54600, 44200, 69300, 34800, 26400, 25600, 33900, 30800, 30900, 30500, 27000, 14200, 20100, 20100, 20800, 17000, 11100, 18200, 37100, 629, 15500, 27700, 12300, 27100, 30400, 19200, 29600, 10100, 12500, 0, 16300, 39100, 33000, 77700, 128400, 25400, 60700, 14600, 1200, 1500, 1600, 2600, 14100, 393, 15500, 8500, 13600, 2300, 19200, 12000, 47200, 4000, 14700, 24200, 5700, 11600, 3100, 4400, 15700, 21500, 22500, 8300, 13800, 7800, 483, 402, 9000, 10200, 18500, 5000, 6900, 7300, 5100, 554, 18100, 11300, 11400, 736, 5400, 4100, 17700, 10000, 4400, 6400, 17200, 474, 8600, 7800, 3600, 658, 7900, 4400, 16600, 804, 3400, 43600, 6000, 4400, 6200, 2900, 3700, 2300, 20300, 13300, 7500, 32900, 4200, 9100, 1900, 1900, 16600, 7800, 4600, 2100, 2700, 2600, 28600, 7300, 11900, 11900, 21800, 3400, 2700, 650, 8400, 15500, 30600, 4400, 12200, 6300, 3700, 1400, 5900, 10500, 2500, 16600, 1200, 15800, 19800, 795, 1100, 2300, 3600, 10200, 4900, 899, 16100, 1700, 7000, 2900, 2500, 10700, 2100, 3100, 8600, 250, 12100, 13700, 2000, 3000, 1900, 81, 313, 4100, 2100, 6600, 1200, 911, 15100, 2700, 290, 830, 444, 1200, 4900, 5700, 1200, 5600, 408, 0, 2600, 4400, 2100, 6900, 1900, 12300, 6300, 959, 8700, 945, 2900, 470, 3500, 6600, 2200, 148, 1900, 6800, 2200, 6700, 4300, 1000, 1100, 1300, 3400, 789, 1500, 1100, 2900, 208, 1500, 1500, 20, 15900, 17, 36, 4400, 11400, 5800, 12200, 29, 525, 288200, 138700, 47000, 19400, 118500, 47000, 28100, 27800, 9000, 49800, 120400, 17400, 46600, 34400, 31500, 47500, 44800, 14500, 28000, 35300, 73900, 987, 12100, 22200, 5500, 27800, 13300, 20100, 24500, 28300, 5300, 17900, 5400, 1400, 10500, 9900, 17400, 4400, 2000, 14800, 14800, 82400, 8400, 25400, 0, 0, 2100, 5500, 10900, 47400, 8500, 12100, 38500, 6600, 0, 14600, 955, 4700, 6100, 0, 4400, 2100, 315, 27800, 8300, 9100, 3000, 169, 562, 10900, 15600, 424, 0, 10500, 1000, 31900, 8600, 2100, 287, 3800, 5800, 4800, 6900, 8700, 5100, 8400, 4100, 1300, 3000, 1600, 1700, 10800, 0, 1700, 2900, 4400, 5100, 4000, 7600, 1500, 3400, 2100, 223, 1600, 255, 1700, 1700, 750, 3000, 10300, 720, 408, 6000, 3100, 2000, 3000, 4800, 157, 3500, 623, 3400, 455, 1400, 1000, 2000, 1400, 84, 5100, 1300, 2900, 3500, 931, 0, 5000, 1000, 53, 1900, 5200, 523, 5100, 1000, 568, 1500, 4900, 28, 224700, 117100, 153900, 123400, 128400, 55700, 628100, 100200, 0, 28100, 37900, 40400, 168600, 72100, 57300, 12600, 169300, 124900, 70900, 45100, 45100, 31800, 3900, 7600, 3300, 34700, 21500, 32700, 56200, 172700, 163100, 8200, 0, 29700, 19300, 56300, 11200, 47800, 10000, 5000, 0, 2100, 24900, 35200, 272400, 22500, 76200, 8100, 81000, 56900, 23700, 11400, 69800, 10100, 0, 5800, 15900, 72000, 11100, 23000, 60300, 10700, 21600, 4200, 14100, 36400, 41400, 59000, 23000, 3500, 22400, 14200, 128400, 62000, 64099, 17100, 27300, 0, 0, 18000, 9500, 0, 9800, 0, 13100, 33300, 5900, 19000, 6000, 8700, 27800, 0, 33000, 81000, 0, 12900, 84700, 16100, 66700, 3500, 55900, 34200, 8700, 40300, 5500, 8300, 15500, 11400, 0, 0, 0, 7200, 11700, 12400, 16200, 14700, 6100, 82600, 0, 9000, 66300, 36700, 35200, 0, 7200, 6500, 51200, 11700, 44900, 2200, 8100, 3200, 14800, 20000, 15200, 4000, 19200, 0, 0, 12200, 2300, 4000, 0, 6100, 7000, 10200, 3700, 9700, 3300, 8300, 29700, 26300, 20000, 22400, 6000, 20700, 8700, 3200, 2500, 0, 6600, 106900, 4800, 14800, 4300, 30500, 6400, 3400, 6300, 0, 10900, 8000, 2700, 5400, 15300, 1500, 0, 35500, 9700, 12300, 2600, 0, 28600, 127200, 4700, 8600, 1700, 23100, 14800, 2000, 75900, 948, 21700, 27200, 21400, 3300, 0, 15100, 54000, 1800, 28500, 13400, 15200, 0, 5600, 4400, 9900, 2700, 4600, 13400, 7800, 4400, 4300, 1800, 11500, 5800, 85100, 1400, 6700, 6100, 12000, 1100, 17100, 10000, 23900, 7000, 3100, 8800, 1000, 7000, 2100, 6400, 791, 0, 9500, 36600, 1300, 8400, 4600, 15300, 0, 0, 1700, 19200, 18900, 10400, 2800, 3800, 5800, 2900, 15600, 5700, 24500, 247, 3500, 8500, 12700, 3300, 0, 6300, 2400, 2600, 0, 35300, 3600, 541, 0, 2100, 37600, 2600, 5300, 8100, 2300, 1600, 28300, 1700, 2700, 10200, 2500, 13200, 6400, 0, 30300, 0, 4700, 4800, 9900, 11200, 1300, 4600, 3400, 5100, 5200, 0, 2600, 3100, 78100, 11100, 323300, 290900, 180300, 104900, 97800, 14600, 116700, 29900, 75400, 34700, 66200, 54500, 62100, 6800, 6900, 40000, 18900, 45600, 168100, 138300, 61200, 169600, 33800, 23500, 1900, 26400, 8000, 82400, 132600, 94200, 47700, 54800, 28600, 23900, 13500, 42700, 69100, 21000, 85900, 14100, 24700, 47500, 29000, 25300, 4400, 181300, 55600, 125100, 53000, 56200, 3900, 7200, 19000, 11200, 1900, 39300, 17600, 9500, 23400, 7700, 3200, 28600, 4100, 10400, 3300, 58100, 46200, 41300, 14200, 6600, 23400, 2400, 35500, 17600, 6300, 33400, 727, 2700, 71900, 16400, 18400, 2200, 2700, 9300, 4500, 34500, 8300, 49700, 121900, 3000, 4900, 157000, 5000, 2300, 8600, 8800, 2000, 26000, 80300, 47600, 37600, 7400, 393, 6600, 10100, 2100, 67100, 1600, 17600, 25800, 20600, 5500, 15500, 5000, 7000, 160700, 8000, 89200, 39900, 15300, 14200, 3500, 3700, 1900, 28000, 47400, 11500, 3300, 1800, 955, 2600, 5200, 15300, 3600, 2900, 1500, 46300, 2000, 2600, 619, 0, 9100, 7100, 8100, 1300, 2900, 0, 15200, 1700, 953, 1700, 5300, 1300, 10000, 4200, 7800, 5700, 1200, 1300, 4000, 7900, 19900, 6300, 2400, 3900, 4200, 663, 18000, 28200, 4300, 129400, 12400, 18000, 13400, 12200, 32100, 15600, 15300, 119100, 12400, 23800, 4300, 11400, 7100, 8400, 3700, 2800, 9500, 76500, 8500, 12300, 17400, 41100, 3800, 3300, 13200, 24600, 2100, 4100, 4000, 6200, 5800, 3900, 39100, 4900, 4500, 7900, 1300, 2900, 5300, 3400, 1100, 4700, 2500, 3600, 755, 3500, 5600, 2700, 1500, 1200, 4000, 9800, 3400, 2800, 4300, 4900, 6000, 2600, 394, 5700, 8000, 811, 17400, 10200, 2300, 5700, 1900, 17000, 1700, 3100, 2800, 4400, 3100, 1800, 543, 2400, 7100, 2000, 4200, 0, 1600, 1200, 2900, 8300, 1500, 6200, 195, 630, 1900, 701, 1300, 1200, 944, 1500, 92, 626, 2700, 897, 2400, 2300, 2200, 3900, 1100, 357, 536, 3000, 2000, 976, 2700, 7500, 1800, 1300, 680, 1100, 976, 1800, 143, 1400, 151, 3400, 468, 252, 1000, 2500, 558, 618, 898, 319, 497, 264, 413, 2700, 2900, 1700, 953, 1400, 3800, 227, 974, 1100, 808, 624, 1200, 283, 957, 153, 1400, 346, 182, 318, 1300, 515, 2100, 754, 109, 244, 866, 277, 4600, 1000, 854, 2300, 1400, 1400, 2200, 7500, 944, 2900, 447, 5200, 5900, 512, 13400, 1900, 6600, 23600, 3100, 1200, 0, 11800, 936, 2200, 2900, 15100, 16800, 5900, 5800, 9000, 796, 3500, 2400, 5200, 1300, 18100, 746, 3100, 2200, 9900, 6200, 1200, 2400, 0, 0, 1900, 799, 7400, 406, 3900, 12400, 1300, 20700, 1800, 1900, 2200, 3100, 18200, 317, 4200, 620, 2800, 9000, 1900, 611, 17400, 6200, 12300, 11400, 2700, 638, 9200, 489, 650, 529, 1200, 3000, 15100, 2000, 3000, 565, 526, 562, 11800, 2000, 2600, 6200, 1100, 502, 16200, 16900, 9300, 995, 21300, 316, 1600, 1000, 14000, 8000, 2100, 547, 812, 1700, 3700, 2300, 4000, 494, 804, 13100, 4300, 3700, 1800, 5600, 2300, 663, 508, 2900, 6400, 349, 8600, 1500, 9300, 16900, 564, 10400, 758, 268, 5900, 14500, 8700, 5100, 520, 2800, 22500, 5500, 505, 411, 400, 20700, 21400, 692, 2000, 8700, 4000, 4600, 2000, 4500, 5800, 18600, 11500, 1100, 2000, 2100, 2000, 7500, 7100, 22000, 2900, 4100, 25000, 8800, 1600, 2400, 4100, 4600, 1100, 5500, 23600, 7500, 7800, 22000, 35700, 3500, 5000, 21400, 10500, 7500, 3800, 15400, 6500, 48200, 50200, 8800, 3100, 15800, 23700, 51800, 1900, 37900, 33600, 8300, 4800, 2100, 32900, 6900, 6200, 266, 445, 0, 0]}],                        {\"legend\": {\"tracegroupgap\": 0}, \"margin\": {\"t\": 60}, \"scene\": {\"domain\": {\"x\": [0.0, 1.0], \"y\": [0.0, 1.0]}, \"xaxis\": {\"title\": {\"text\": \"number_of_reviews\"}}, \"yaxis\": {\"title\": {\"text\": \"price\"}}, \"zaxis\": {\"title\": {\"text\": \"love\"}}}, \"template\": {\"data\": {\"bar\": [{\"error_x\": {\"color\": \"#2a3f5f\"}, \"error_y\": {\"color\": \"#2a3f5f\"}, \"marker\": {\"line\": {\"color\": \"#E5ECF6\", \"width\": 0.5}}, \"type\": \"bar\"}], \"barpolar\": [{\"marker\": {\"line\": {\"color\": \"#E5ECF6\", \"width\": 0.5}}, \"type\": \"barpolar\"}], \"carpet\": [{\"aaxis\": {\"endlinecolor\": \"#2a3f5f\", \"gridcolor\": \"white\", \"linecolor\": \"white\", \"minorgridcolor\": \"white\", \"startlinecolor\": \"#2a3f5f\"}, \"baxis\": {\"endlinecolor\": \"#2a3f5f\", \"gridcolor\": \"white\", \"linecolor\": \"white\", \"minorgridcolor\": \"white\", \"startlinecolor\": \"#2a3f5f\"}, \"type\": \"carpet\"}], \"choropleth\": [{\"colorbar\": {\"outlinewidth\": 0, \"ticks\": \"\"}, \"type\": \"choropleth\"}], \"contour\": [{\"colorbar\": {\"outlinewidth\": 0, \"ticks\": \"\"}, \"colorscale\": [[0.0, \"#0d0887\"], [0.1111111111111111, \"#46039f\"], [0.2222222222222222, \"#7201a8\"], [0.3333333333333333, \"#9c179e\"], [0.4444444444444444, \"#bd3786\"], [0.5555555555555556, \"#d8576b\"], [0.6666666666666666, \"#ed7953\"], [0.7777777777777778, \"#fb9f3a\"], [0.8888888888888888, \"#fdca26\"], [1.0, \"#f0f921\"]], \"type\": \"contour\"}], \"contourcarpet\": [{\"colorbar\": {\"outlinewidth\": 0, \"ticks\": \"\"}, \"type\": \"contourcarpet\"}], \"heatmap\": [{\"colorbar\": {\"outlinewidth\": 0, \"ticks\": \"\"}, \"colorscale\": [[0.0, \"#0d0887\"], [0.1111111111111111, \"#46039f\"], [0.2222222222222222, \"#7201a8\"], [0.3333333333333333, \"#9c179e\"], [0.4444444444444444, \"#bd3786\"], [0.5555555555555556, \"#d8576b\"], [0.6666666666666666, \"#ed7953\"], [0.7777777777777778, \"#fb9f3a\"], [0.8888888888888888, \"#fdca26\"], [1.0, \"#f0f921\"]], \"type\": \"heatmap\"}], \"heatmapgl\": [{\"colorbar\": {\"outlinewidth\": 0, \"ticks\": \"\"}, \"colorscale\": [[0.0, \"#0d0887\"], [0.1111111111111111, \"#46039f\"], [0.2222222222222222, \"#7201a8\"], [0.3333333333333333, \"#9c179e\"], [0.4444444444444444, \"#bd3786\"], [0.5555555555555556, \"#d8576b\"], [0.6666666666666666, \"#ed7953\"], [0.7777777777777778, \"#fb9f3a\"], [0.8888888888888888, \"#fdca26\"], [1.0, \"#f0f921\"]], \"type\": \"heatmapgl\"}], \"histogram\": [{\"marker\": {\"colorbar\": {\"outlinewidth\": 0, \"ticks\": \"\"}}, \"type\": \"histogram\"}], \"histogram2d\": [{\"colorbar\": {\"outlinewidth\": 0, \"ticks\": \"\"}, \"colorscale\": [[0.0, \"#0d0887\"], [0.1111111111111111, \"#46039f\"], [0.2222222222222222, \"#7201a8\"], [0.3333333333333333, \"#9c179e\"], [0.4444444444444444, \"#bd3786\"], [0.5555555555555556, \"#d8576b\"], [0.6666666666666666, \"#ed7953\"], [0.7777777777777778, \"#fb9f3a\"], [0.8888888888888888, \"#fdca26\"], [1.0, \"#f0f921\"]], \"type\": \"histogram2d\"}], \"histogram2dcontour\": [{\"colorbar\": {\"outlinewidth\": 0, \"ticks\": \"\"}, \"colorscale\": [[0.0, \"#0d0887\"], [0.1111111111111111, \"#46039f\"], [0.2222222222222222, \"#7201a8\"], [0.3333333333333333, \"#9c179e\"], [0.4444444444444444, \"#bd3786\"], [0.5555555555555556, \"#d8576b\"], [0.6666666666666666, \"#ed7953\"], [0.7777777777777778, \"#fb9f3a\"], [0.8888888888888888, \"#fdca26\"], [1.0, \"#f0f921\"]], \"type\": \"histogram2dcontour\"}], \"mesh3d\": [{\"colorbar\": {\"outlinewidth\": 0, \"ticks\": \"\"}, \"type\": \"mesh3d\"}], \"parcoords\": [{\"line\": {\"colorbar\": {\"outlinewidth\": 0, \"ticks\": \"\"}}, \"type\": \"parcoords\"}], \"pie\": [{\"automargin\": true, \"type\": \"pie\"}], \"scatter\": [{\"marker\": {\"colorbar\": {\"outlinewidth\": 0, \"ticks\": \"\"}}, \"type\": \"scatter\"}], \"scatter3d\": [{\"line\": {\"colorbar\": {\"outlinewidth\": 0, \"ticks\": \"\"}}, \"marker\": {\"colorbar\": {\"outlinewidth\": 0, \"ticks\": \"\"}}, \"type\": \"scatter3d\"}], \"scattercarpet\": [{\"marker\": {\"colorbar\": {\"outlinewidth\": 0, \"ticks\": \"\"}}, \"type\": \"scattercarpet\"}], \"scattergeo\": [{\"marker\": {\"colorbar\": {\"outlinewidth\": 0, \"ticks\": \"\"}}, \"type\": \"scattergeo\"}], \"scattergl\": [{\"marker\": {\"colorbar\": {\"outlinewidth\": 0, \"ticks\": \"\"}}, \"type\": \"scattergl\"}], \"scattermapbox\": [{\"marker\": {\"colorbar\": {\"outlinewidth\": 0, \"ticks\": \"\"}}, \"type\": \"scattermapbox\"}], \"scatterpolar\": [{\"marker\": {\"colorbar\": {\"outlinewidth\": 0, \"ticks\": \"\"}}, \"type\": \"scatterpolar\"}], \"scatterpolargl\": [{\"marker\": {\"colorbar\": {\"outlinewidth\": 0, \"ticks\": \"\"}}, \"type\": \"scatterpolargl\"}], \"scatterternary\": [{\"marker\": {\"colorbar\": {\"outlinewidth\": 0, \"ticks\": \"\"}}, \"type\": \"scatterternary\"}], \"surface\": [{\"colorbar\": {\"outlinewidth\": 0, \"ticks\": \"\"}, \"colorscale\": [[0.0, \"#0d0887\"], [0.1111111111111111, \"#46039f\"], [0.2222222222222222, \"#7201a8\"], [0.3333333333333333, \"#9c179e\"], [0.4444444444444444, \"#bd3786\"], [0.5555555555555556, \"#d8576b\"], [0.6666666666666666, \"#ed7953\"], [0.7777777777777778, \"#fb9f3a\"], [0.8888888888888888, \"#fdca26\"], [1.0, \"#f0f921\"]], \"type\": \"surface\"}], \"table\": [{\"cells\": {\"fill\": {\"color\": \"#EBF0F8\"}, \"line\": {\"color\": \"white\"}}, \"header\": {\"fill\": {\"color\": \"#C8D4E3\"}, \"line\": {\"color\": \"white\"}}, \"type\": \"table\"}]}, \"layout\": {\"annotationdefaults\": {\"arrowcolor\": \"#2a3f5f\", \"arrowhead\": 0, \"arrowwidth\": 1}, \"autotypenumbers\": \"strict\", \"coloraxis\": {\"colorbar\": {\"outlinewidth\": 0, \"ticks\": \"\"}}, \"colorscale\": {\"diverging\": [[0, \"#8e0152\"], [0.1, \"#c51b7d\"], [0.2, \"#de77ae\"], [0.3, \"#f1b6da\"], [0.4, \"#fde0ef\"], [0.5, \"#f7f7f7\"], [0.6, \"#e6f5d0\"], [0.7, \"#b8e186\"], [0.8, \"#7fbc41\"], [0.9, \"#4d9221\"], [1, \"#276419\"]], \"sequential\": [[0.0, \"#0d0887\"], [0.1111111111111111, \"#46039f\"], [0.2222222222222222, \"#7201a8\"], [0.3333333333333333, \"#9c179e\"], [0.4444444444444444, \"#bd3786\"], [0.5555555555555556, \"#d8576b\"], [0.6666666666666666, \"#ed7953\"], [0.7777777777777778, \"#fb9f3a\"], [0.8888888888888888, \"#fdca26\"], [1.0, \"#f0f921\"]], \"sequentialminus\": [[0.0, \"#0d0887\"], [0.1111111111111111, \"#46039f\"], [0.2222222222222222, \"#7201a8\"], [0.3333333333333333, \"#9c179e\"], [0.4444444444444444, \"#bd3786\"], [0.5555555555555556, \"#d8576b\"], [0.6666666666666666, \"#ed7953\"], [0.7777777777777778, \"#fb9f3a\"], [0.8888888888888888, \"#fdca26\"], [1.0, \"#f0f921\"]]}, \"colorway\": [\"#636efa\", \"#EF553B\", \"#00cc96\", \"#ab63fa\", \"#FFA15A\", \"#19d3f3\", \"#FF6692\", \"#B6E880\", \"#FF97FF\", \"#FECB52\"], \"font\": {\"color\": \"#2a3f5f\"}, \"geo\": {\"bgcolor\": \"white\", \"lakecolor\": \"white\", \"landcolor\": \"#E5ECF6\", \"showlakes\": true, \"showland\": true, \"subunitcolor\": \"white\"}, \"hoverlabel\": {\"align\": \"left\"}, \"hovermode\": \"closest\", \"mapbox\": {\"style\": \"light\"}, \"paper_bgcolor\": \"white\", \"plot_bgcolor\": \"#E5ECF6\", \"polar\": {\"angularaxis\": {\"gridcolor\": \"white\", \"linecolor\": \"white\", \"ticks\": \"\"}, \"bgcolor\": \"#E5ECF6\", \"radialaxis\": {\"gridcolor\": \"white\", \"linecolor\": \"white\", \"ticks\": \"\"}}, \"scene\": {\"xaxis\": {\"backgroundcolor\": \"#E5ECF6\", \"gridcolor\": \"white\", \"gridwidth\": 2, \"linecolor\": \"white\", \"showbackground\": true, \"ticks\": \"\", \"zerolinecolor\": \"white\"}, \"yaxis\": {\"backgroundcolor\": \"#E5ECF6\", \"gridcolor\": \"white\", \"gridwidth\": 2, \"linecolor\": \"white\", \"showbackground\": true, \"ticks\": \"\", \"zerolinecolor\": \"white\"}, \"zaxis\": {\"backgroundcolor\": \"#E5ECF6\", \"gridcolor\": \"white\", \"gridwidth\": 2, \"linecolor\": \"white\", \"showbackground\": true, \"ticks\": \"\", \"zerolinecolor\": \"white\"}}, \"shapedefaults\": {\"line\": {\"color\": \"#2a3f5f\"}}, \"ternary\": {\"aaxis\": {\"gridcolor\": \"white\", \"linecolor\": \"white\", \"ticks\": \"\"}, \"baxis\": {\"gridcolor\": \"white\", \"linecolor\": \"white\", \"ticks\": \"\"}, \"bgcolor\": \"#E5ECF6\", \"caxis\": {\"gridcolor\": \"white\", \"linecolor\": \"white\", \"ticks\": \"\"}}, \"title\": {\"x\": 0.05}, \"xaxis\": {\"automargin\": true, \"gridcolor\": \"white\", \"linecolor\": \"white\", \"ticks\": \"\", \"title\": {\"standoff\": 15}, \"zerolinecolor\": \"white\", \"zerolinewidth\": 2}, \"yaxis\": {\"automargin\": true, \"gridcolor\": \"white\", \"linecolor\": \"white\", \"ticks\": \"\", \"title\": {\"standoff\": 15}, \"zerolinecolor\": \"white\", \"zerolinewidth\": 2}}}},                        {\"responsive\": true}                    ).then(function(){\n",
       "                            \n",
       "var gd = document.getElementById('cc64ffe6-44a0-4100-a8ac-6367d23cdcf2');\n",
       "var x = new MutationObserver(function (mutations, observer) {{\n",
       "        var display = window.getComputedStyle(gd).display;\n",
       "        if (!display || display === 'none') {{\n",
       "            console.log([gd, 'removed!']);\n",
       "            Plotly.purge(gd);\n",
       "            observer.disconnect();\n",
       "        }}\n",
       "}});\n",
       "\n",
       "// Listen for the removal of the full notebook cells\n",
       "var notebookContainer = gd.closest('#notebook-container');\n",
       "if (notebookContainer) {{\n",
       "    x.observe(notebookContainer, {childList: true});\n",
       "}}\n",
       "\n",
       "// Listen for the clearing of the current output cell\n",
       "var outputEl = gd.closest('.output');\n",
       "if (outputEl) {{\n",
       "    x.observe(outputEl, {childList: true});\n",
       "}}\n",
       "\n",
       "                        })                };                });            </script>        </div>"
      ]
     },
     "metadata": {},
     "output_type": "display_data"
    }
   ],
   "source": [
    "# barplot count dari brand \n",
    "fig = px.scatter_3d(df, x='number_of_reviews' ,y='price', z='love')\n",
    "fig.show()"
   ]
  },
  {
   "cell_type": "code",
   "execution_count": null,
   "id": "electoral-waters",
   "metadata": {},
   "outputs": [],
   "source": []
  },
  {
   "cell_type": "code",
   "execution_count": null,
   "id": "continuing-preparation",
   "metadata": {},
   "outputs": [],
   "source": []
  },
  {
   "cell_type": "code",
   "execution_count": null,
   "id": "portable-phase",
   "metadata": {},
   "outputs": [],
   "source": []
  },
  {
   "cell_type": "code",
   "execution_count": null,
   "id": "nuclear-campus",
   "metadata": {},
   "outputs": [],
   "source": []
  },
  {
   "cell_type": "code",
   "execution_count": null,
   "id": "special-auditor",
   "metadata": {},
   "outputs": [],
   "source": []
  },
  {
   "cell_type": "code",
   "execution_count": null,
   "id": "universal-ballot",
   "metadata": {},
   "outputs": [],
   "source": []
  },
  {
   "cell_type": "code",
   "execution_count": null,
   "id": "normal-indie",
   "metadata": {},
   "outputs": [],
   "source": []
  },
  {
   "cell_type": "code",
   "execution_count": null,
   "id": "devoted-nelson",
   "metadata": {},
   "outputs": [],
   "source": []
  },
  {
   "cell_type": "code",
   "execution_count": null,
   "id": "proud-manchester",
   "metadata": {},
   "outputs": [],
   "source": []
  },
  {
   "cell_type": "markdown",
   "id": "african-methodology",
   "metadata": {},
   "source": [
    "# Tugas Rest API (Optional)\n",
    "- Buat Database baru mengenai jabatan pegawai\n",
    "\n",
    "Tabelnya :\n",
    "| username | jabatan | gaji | tingkat |\n",
    "\n",
    "- Buat rute API jabatan untuk menambah dan mengupdate\n",
    "- pastikan data pegawai (username) tersedia di tabel employee\n",
    "- buatlah rute get pada sebuah id\n"
   ]
  },
  {
   "cell_type": "markdown",
   "id": "driven-crest",
   "metadata": {},
   "source": [
    "# Visualisasi Pair Plot , Join Plot, Joint Grid"
   ]
  },
  {
   "cell_type": "markdown",
   "id": "national-equation",
   "metadata": {},
   "source": [
    "## Pair Plot\n",
    "Adalah scatterplot tapi untuk beerapa variabel"
   ]
  },
  {
   "cell_type": "code",
   "execution_count": null,
   "id": "sought-dietary",
   "metadata": {},
   "outputs": [],
   "source": [
    "from matplotlib import pyplot as plt\n",
    "import seaborn as sns"
   ]
  },
  {
   "cell_type": "code",
   "execution_count": null,
   "id": "elementary-browser",
   "metadata": {},
   "outputs": [],
   "source": [
    "tips = sns.load_dataset(\"tips\")\n",
    "tips.head(3)"
   ]
  },
  {
   "cell_type": "code",
   "execution_count": null,
   "id": "deluxe-performance",
   "metadata": {},
   "outputs": [],
   "source": [
    "sns.pairplot(data=tips)\n",
    "plt.show()"
   ]
  },
  {
   "cell_type": "code",
   "execution_count": null,
   "id": "capable-connection",
   "metadata": {},
   "outputs": [],
   "source": [
    "sns.pairplot(tips, hue='sex')\n",
    "plt.show()"
   ]
  },
  {
   "cell_type": "markdown",
   "id": "worth-fishing",
   "metadata": {},
   "source": [
    "## Joint Plot\n",
    "Menggabungkan Scatterplot dengan barplot\n",
    "\n",
    "Learn More : https://seaborn.pydata.org/generated/seaborn.jointplot.html"
   ]
  },
  {
   "cell_type": "code",
   "execution_count": null,
   "id": "thorough-assistant",
   "metadata": {},
   "outputs": [],
   "source": [
    "tips.head(3)"
   ]
  },
  {
   "cell_type": "code",
   "execution_count": null,
   "id": "loaded-magazine",
   "metadata": {},
   "outputs": [],
   "source": [
    "sns.jointplot(data=tips, x=\"total_bill\", y=\"tip\")\n",
    "plt.show()"
   ]
  },
  {
   "cell_type": "code",
   "execution_count": null,
   "id": "polish-equipment",
   "metadata": {},
   "outputs": [],
   "source": [
    "sns.jointplot(data=tips, x=\"total_bill\", y=\"tip\", kind='reg')\n",
    "plt.show()"
   ]
  },
  {
   "cell_type": "code",
   "execution_count": null,
   "id": "spatial-livestock",
   "metadata": {},
   "outputs": [],
   "source": [
    "## barplot menjadi kernel density estimate\n",
    "sns.jointplot(data=tips, x=\"total_bill\", y=\"tip\", hue=\"sex\")\n",
    "plt.show()"
   ]
  },
  {
   "cell_type": "code",
   "execution_count": null,
   "id": "adverse-techno",
   "metadata": {},
   "outputs": [],
   "source": []
  },
  {
   "cell_type": "markdown",
   "id": "tested-andrews",
   "metadata": {},
   "source": [
    "## Joint Grid\n",
    "Menggabungkan 2 Jenis Plot dalam 1 Grafik\n",
    "- Plot pertama dan kedua harus kita tentukan\n",
    "\n",
    "Leran more :https://seaborn.pydata.org/generated/seaborn.JointGrid.html"
   ]
  },
  {
   "cell_type": "code",
   "execution_count": null,
   "id": "adolescent-merit",
   "metadata": {},
   "outputs": [],
   "source": [
    "g = sns.JointGrid(data=tips, x=\"total_bill\", y=\"tip\")\n",
    "g.plot(sns.scatterplot, sns.histplot)\n",
    "plt.show()"
   ]
  },
  {
   "cell_type": "code",
   "execution_count": null,
   "id": "based-symposium",
   "metadata": {},
   "outputs": [],
   "source": [
    "g = sns.JointGrid(data=tips, x=\"total_bill\", y=\"tip\")\n",
    "g.plot(sns.scatterplot, sns.boxplot)\n",
    "plt.show()"
   ]
  },
  {
   "cell_type": "code",
   "execution_count": null,
   "id": "premium-industry",
   "metadata": {},
   "outputs": [],
   "source": [
    "g = sns.JointGrid(data=tips, x=\"total_bill\", y=\"tip\")\n",
    "g.plot_joint(sns.scatterplot, s=100, alpha=.5)\n"
   ]
  },
  {
   "cell_type": "code",
   "execution_count": null,
   "id": "dimensional-cattle",
   "metadata": {},
   "outputs": [],
   "source": [
    "g = sns.JointGrid(data=tips, x=\"total_bill\", y=\"tip\")\n",
    "g.plot_joint(sns.scatterplot, s=100, alpha=.5)\n",
    "g.plot_marginals(sns.histplot, kde=True)"
   ]
  },
  {
   "cell_type": "markdown",
   "id": "spanish-pepper",
   "metadata": {},
   "source": [
    "# Facet grid\n",
    "\n",
    "Membuat beberapa grafik dalam 1 gambar/ frame\n",
    "(This class maps a dataset onto multiple axes arrayed in a grid of rows and columns that correspond to levels of variables in the dataset.) \n",
    "\n",
    "\n",
    "Learn More : https://seaborn.pydata.org/generated/seaborn.FacetGrid.html"
   ]
  },
  {
   "cell_type": "code",
   "execution_count": null,
   "id": "second-honduras",
   "metadata": {},
   "outputs": [],
   "source": [
    "tips.head(3)"
   ]
  },
  {
   "cell_type": "code",
   "execution_count": null,
   "id": "built-companion",
   "metadata": {},
   "outputs": [],
   "source": [
    "g = sns.FacetGrid(tips, row=\"sex\", col=\"day\" , height=3, aspect=.65)\n",
    "g.map(sns.histplot, \"tip\")\n",
    "plt.show()"
   ]
  },
  {
   "cell_type": "code",
   "execution_count": null,
   "id": "binary-compilation",
   "metadata": {},
   "outputs": [],
   "source": []
  }
 ],
 "metadata": {
  "kernelspec": {
   "display_name": "Python 3",
   "language": "python",
   "name": "python3"
  },
  "language_info": {
   "codemirror_mode": {
    "name": "ipython",
    "version": 3
   },
   "file_extension": ".py",
   "mimetype": "text/x-python",
   "name": "python",
   "nbconvert_exporter": "python",
   "pygments_lexer": "ipython3",
   "version": "3.8.5"
  }
 },
 "nbformat": 4,
 "nbformat_minor": 5
}
