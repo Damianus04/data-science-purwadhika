{
 "cells": [
  {
   "cell_type": "code",
   "execution_count": 1,
   "metadata": {},
   "outputs": [],
   "source": [
    "import requests"
   ]
  },
  {
   "cell_type": "markdown",
   "metadata": {},
   "source": [
    "# Request to get all employees"
   ]
  },
  {
   "cell_type": "code",
   "execution_count": 13,
   "metadata": {},
   "outputs": [],
   "source": [
    "# get all employee data\n",
    "url = 'http://localhost:5000/employee'\n",
    "result = requests.get(url)"
   ]
  },
  {
   "cell_type": "code",
   "execution_count": 15,
   "metadata": {},
   "outputs": [
    {
     "data": {
      "text/plain": [
       "[[1, 'Ali', 'Male', 15000000, 'Jakarta', 26, 'Mon, 11 Jan 2021 22:04:52 GMT'],\n",
       " [2, 'Deni', 'Male', 10000000, 'Jakarta', 23, 'Mon, 11 Jan 2021 22:07:49 GMT'],\n",
       " [4, 'Rey', 'Male', 25000000, 'Malang', 28, 'Mon, 11 Jan 2021 22:16:41 GMT'],\n",
       " [5,\n",
       "  'Sisca',\n",
       "  'Female',\n",
       "  30000000,\n",
       "  'Bandung',\n",
       "  27,\n",
       "  'Mon, 11 Jan 2021 22:16:41 GMT'],\n",
       " [6, 'Jeki', 'Male', 12000000, 'Bandung', 23, 'Mon, 11 Jan 2021 22:16:41 GMT'],\n",
       " [8,\n",
       "  'Cindy',\n",
       "  'Female',\n",
       "  20000000,\n",
       "  'Bandung',\n",
       "  24,\n",
       "  'Mon, 11 Jan 2021 22:16:41 GMT'],\n",
       " [9,\n",
       "  'Devy',\n",
       "  'Female',\n",
       "  17000000,\n",
       "  'Malang',\n",
       "  21,\n",
       "  'Mon, 11 Jan 2021 22:16:41 GMT'],\n",
       " [10,\n",
       "  'Andre',\n",
       "  'Male',\n",
       "  25000000,\n",
       "  'Bandung',\n",
       "  23,\n",
       "  'Mon, 11 Jan 2021 22:16:41 GMT'],\n",
       " [11,\n",
       "  'Dito',\n",
       "  'Male',\n",
       "  15000000,\n",
       "  'Jakarta',\n",
       "  20,\n",
       "  'Mon, 11 Jan 2021 22:16:41 GMT'],\n",
       " [12, 'Rio', 'Male', 20000000, 'Bandung', 23, 'Mon, 11 Jan 2021 22:16:41 GMT'],\n",
       " [13,\n",
       "  'Lulu',\n",
       "  'Female',\n",
       "  10000000,\n",
       "  'Jakarta',\n",
       "  23,\n",
       "  'Mon, 11 Jan 2021 22:18:14 GMT'],\n",
       " [14, 'Beni', 'Male', 30000000, 'Malang', 23, 'Mon, 11 Jan 2021 22:19:33 GMT'],\n",
       " [15,\n",
       "  'Nila',\n",
       "  'Female',\n",
       "  21000000,\n",
       "  'Bandung',\n",
       "  20,\n",
       "  'Mon, 11 Jan 2021 22:20:19 GMT'],\n",
       " [16,\n",
       "  'Billy',\n",
       "  'Male',\n",
       "  10000000,\n",
       "  'Jakarta',\n",
       "  23,\n",
       "  'Tue, 12 Jan 2021 20:22:24 GMT'],\n",
       " [17,\n",
       "  'Kimberly',\n",
       "  'Male',\n",
       "  10000000,\n",
       "  'Jakarta',\n",
       "  23,\n",
       "  'Tue, 12 Jan 2021 20:22:24 GMT'],\n",
       " [18,\n",
       "  'Tommy',\n",
       "  'Male',\n",
       "  10000000,\n",
       "  'Jakarta',\n",
       "  23,\n",
       "  'Tue, 12 Jan 2021 20:22:24 GMT'],\n",
       " [20, 'biden', 'Male', 20000000, None, None, 'Thu, 28 Jan 2021 20:59:21 GMT']]"
      ]
     },
     "execution_count": 15,
     "metadata": {},
     "output_type": "execute_result"
    }
   ],
   "source": [
    "json_data = result.json()\n",
    "json_data"
   ]
  },
  {
   "cell_type": "code",
   "execution_count": 10,
   "metadata": {},
   "outputs": [],
   "source": [
    "employee = {\n",
    "    'name': 'biden',\n",
    "    'gender': 'Male',\n",
    "    'salary': 20000000\n",
    "}"
   ]
  },
  {
   "cell_type": "code",
   "execution_count": 11,
   "metadata": {},
   "outputs": [],
   "source": [
    "url = 'http://localhost:5000/employee'\n",
    "result = requests.post(url, data=employee)"
   ]
  },
  {
   "cell_type": "code",
   "execution_count": 12,
   "metadata": {},
   "outputs": [
    {
     "data": {
      "text/plain": [
       "{'message': 'insert succes, name: biden'}"
      ]
     },
     "execution_count": 12,
     "metadata": {},
     "output_type": "execute_result"
    }
   ],
   "source": [
    "result.json()"
   ]
  },
  {
   "cell_type": "code",
   "execution_count": null,
   "metadata": {},
   "outputs": [],
   "source": []
  }
 ],
 "metadata": {
  "kernelspec": {
   "display_name": "Python [conda env:flask]",
   "language": "python",
   "name": "conda-env-flask-py"
  },
  "language_info": {
   "codemirror_mode": {
    "name": "ipython",
    "version": 3
   },
   "file_extension": ".py",
   "mimetype": "text/x-python",
   "name": "python",
   "nbconvert_exporter": "python",
   "pygments_lexer": "ipython3",
   "version": "3.7.6"
  }
 },
 "nbformat": 4,
 "nbformat_minor": 4
}
