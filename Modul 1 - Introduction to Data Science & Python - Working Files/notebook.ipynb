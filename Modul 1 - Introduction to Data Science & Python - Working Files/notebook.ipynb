{
 "metadata": {
  "language_info": {
   "codemirror_mode": {
    "name": "ipython",
    "version": 3
   },
   "file_extension": ".py",
   "mimetype": "text/x-python",
   "name": "python",
   "nbconvert_exporter": "python",
   "pygments_lexer": "ipython3",
   "version": "3.7.6-final"
  },
  "orig_nbformat": 2,
  "kernelspec": {
   "name": "python3",
   "display_name": "Python 3.7.6 64-bit ('flask': conda)",
   "metadata": {
    "interpreter": {
     "hash": "8a6b3c8ba2097012376453f63c9a4d131c1ce38259eaf0fedf6d0c29327e1e3f"
    }
   }
  }
 },
 "nbformat": 4,
 "nbformat_minor": 2,
 "cells": [
  {
   "cell_type": "code",
   "execution_count": 1,
   "metadata": {},
   "outputs": [],
   "source": [
    "alphabet = ['a', 'b', 'c', 'd', 'e', 'f', 'g', 'h', 'i', 'j', 'k', 'l', 'm', 'n', 'o', 'p',\n",
    "                      'q', 'r', 's', 't', 'u', 'v', 'w', 'x', 'y', 'z']\n",
    "number = [0, 1, 2, 3, 4, 5, 6, 7, 8, 9]\n",
    "special_characters = [\"_\", \".\"]\n",
    "characters = alphabet + number + special_characters"
   ]
  },
  {
   "cell_type": "code",
   "execution_count": 2,
   "metadata": {},
   "outputs": [
    {
     "output_type": "stream",
     "name": "stdout",
     "text": [
      "['a', 'b', 'c', 'd', 'e', 'f', 'g', 'h', 'i', 'j', 'k', 'l', 'm', 'n', 'o', 'p', 'q', 'r', 's', 't', 'u', 'v', 'w', 'x', 'y', 'z', 0, 1, 2, 3, 4, 5, 6, 7, 8, 9, '_', '.']\n"
     ]
    }
   ],
   "source": [
    "print(characters)"
   ]
  },
  {
   "cell_type": "code",
   "execution_count": 5,
   "metadata": {},
   "outputs": [
    {
     "output_type": "stream",
     "name": "stdout",
     "text": [
      "email is not valid\nemail is not valid\nemail is not valid\nemail is valid\n"
     ]
    }
   ],
   "source": [
    "email = \"denid\"\n",
    "\n",
    "for i in range(len(characters)):\n",
    "    if characters[i] in email:\n",
    "        print(\"email is valid\")\n",
    "        break\n",
    "    else:\n",
    "        print(\"email is not valid\")\n",
    "        continue"
   ]
  },
  {
   "cell_type": "code",
   "execution_count": 7,
   "metadata": {},
   "outputs": [
    {
     "output_type": "error",
     "ename": "TypeError",
     "evalue": "'in <string>' requires string as left operand, not list",
     "traceback": [
      "\u001b[1;31m---------------------------------------------------------------------------\u001b[0m",
      "\u001b[1;31mTypeError\u001b[0m                                 Traceback (most recent call last)",
      "\u001b[1;32m<ipython-input-7-a497cd002d59>\u001b[0m in \u001b[0;36m<module>\u001b[1;34m\u001b[0m\n\u001b[1;32m----> 1\u001b[1;33m \u001b[1;32mif\u001b[0m \u001b[0mcharacters\u001b[0m \u001b[1;32min\u001b[0m \u001b[0memail\u001b[0m\u001b[1;33m:\u001b[0m\u001b[1;33m\u001b[0m\u001b[1;33m\u001b[0m\u001b[0m\n\u001b[0m\u001b[0;32m      2\u001b[0m     \u001b[0mprint\u001b[0m\u001b[1;33m(\u001b[0m\u001b[0mcharacters\u001b[0m\u001b[1;33m)\u001b[0m\u001b[1;33m\u001b[0m\u001b[1;33m\u001b[0m\u001b[0m\n",
      "\u001b[1;31mTypeError\u001b[0m: 'in <string>' requires string as left operand, not list"
     ]
    }
   ],
   "source": [
    "if characters in email:\n",
    "    print(characters)"
   ]
  },
  {
   "cell_type": "code",
   "execution_count": 2,
   "metadata": {},
   "outputs": [
    {
     "output_type": "stream",
     "name": "stdout",
     "text": [
      "<class 'str'> 30\n"
     ]
    }
   ],
   "source": [
    "number = str([0, 1, 2, 3, 4, 5, 6, 7, 8, 9])\n",
    "print(type(number), len(number))"
   ]
  },
  {
   "cell_type": "code",
   "execution_count": 3,
   "metadata": {},
   "outputs": [
    {
     "output_type": "execute_result",
     "data": {
      "text/plain": [
       "'[0, 1, 2, 3, 4, 5, 6, 7, 8, 9]'"
      ]
     },
     "metadata": {},
     "execution_count": 3
    }
   ],
   "source": [
    "number"
   ]
  },
  {
   "cell_type": "code",
   "execution_count": 16,
   "metadata": {},
   "outputs": [],
   "source": [
    "email = \"deni@gmail.commm\""
   ]
  },
  {
   "cell_type": "code",
   "execution_count": 18,
   "metadata": {},
   "outputs": [
    {
     "output_type": "execute_result",
     "data": {
      "text/plain": [
       "-6"
      ]
     },
     "metadata": {},
     "execution_count": 18
    }
   ],
   "source": [
    "dot_index = email.index(\".\")\n",
    "dot_index = dot_index - len(email)\n",
    "dot_index"
   ]
  },
  {
   "cell_type": "code",
   "execution_count": 20,
   "metadata": {},
   "outputs": [
    {
     "output_type": "execute_result",
     "data": {
      "text/plain": [
       "True"
      ]
     },
     "metadata": {},
     "execution_count": 20
    }
   ],
   "source": [
    "dot_index >= -6"
   ]
  },
  {
   "cell_type": "code",
   "execution_count": 40,
   "metadata": {},
   "outputs": [
    {
     "output_type": "stream",
     "name": "stdout",
     "text": [
      "['.', '.'] 2\n"
     ]
    }
   ],
   "source": [
    "email = \"st.everoger_77@avengers01.space\"\n",
    "if email.count(\".\") > 1:\n",
    "    dot_index_list = []\n",
    "    for i in email:\n",
    "        if i == \".\":\n",
    "            dot_index_list.append(i)\n",
    "            dot_index = email.index(\".\")\n",
    "        else:\n",
    "            pass\n",
    "            \n",
    "else:\n",
    "    print('dot is only 1')\n",
    "\n",
    "print(dot_index_list, dot_index)"
   ]
  },
  {
   "cell_type": "code",
   "execution_count": 41,
   "metadata": {},
   "outputs": [
    {
     "output_type": "execute_result",
     "data": {
      "text/plain": [
       "(-6, 2)"
      ]
     },
     "metadata": {},
     "execution_count": 41
    }
   ],
   "source": [
    "res = ~email[::-1].index(\".\")\n",
    "res, dot_index"
   ]
  },
  {
   "cell_type": "code",
   "execution_count": 43,
   "metadata": {},
   "outputs": [],
   "source": [
    "alphabet = ['a', 'b', 'c', 'd', 'e', 'f', 'g', 'h', 'i', 'j', 'k', 'l', 'm', 'n', 'o', 'p', 'q', 'r', 's', 't', 'u', 'v', 'w', 'x', 'y', 'z']"
   ]
  },
  {
   "cell_type": "code",
   "execution_count": 45,
   "metadata": {},
   "outputs": [],
   "source": [
    "if email[-6:] in alphabet:\n",
    "    print(\"yes\")"
   ]
  },
  {
   "cell_type": "code",
   "execution_count": 46,
   "metadata": {},
   "outputs": [
    {
     "output_type": "execute_result",
     "data": {
      "text/plain": [
       "'.space'"
      ]
     },
     "metadata": {},
     "execution_count": 46
    }
   ],
   "source": [
    "email[-6:]"
   ]
  },
  {
   "cell_type": "code",
   "execution_count": 22,
   "metadata": {},
   "outputs": [
    {
     "output_type": "execute_result",
     "data": {
      "text/plain": [
       "[56, 45, 76, 2, 10]"
      ]
     },
     "metadata": {},
     "execution_count": 22
    }
   ],
   "source": [
    "yy = [56, 45, 76, 3, 2, 10]\n",
    "yy.remove(3)\n",
    "yy"
   ]
  },
  {
   "cell_type": "code",
   "execution_count": 29,
   "metadata": {},
   "outputs": [
    {
     "output_type": "stream",
     "name": "stdout",
     "text": [
      "1\n56\n22\n45\n76\n13\n10\n1 76\nmin: 1\nmax: 76\n"
     ]
    }
   ],
   "source": [
    "# minmax\n",
    "list = [1, 56, 22, 45, 76, 13, 10]\n",
    "asc_list = []\n",
    "desc_list = []\n",
    "minmax = []\n",
    "temporary_min = list[0]\n",
    "temporary_max = list[0]\n",
    "for i in range (len(list)):\n",
    "    print(list[i])\n",
    "    if temporary_min < list[i]:\n",
    "        temporary_min = temporary_min\n",
    "    else:\n",
    "        temporary_min = list[i]\n",
    "\n",
    "    if temporary_max > list[i]:\n",
    "        temporary_max = temporary_max\n",
    "    else:\n",
    "        temporary_max = list[i]\n",
    "    \n",
    "minmax = [temporary_min, temporary_max]\n",
    "\n",
    "print(minmax[0], minmax[1])\n",
    "print(f\"min: {temporary_min}\")\n",
    "print(f\"max: {temporary_max}\")\n"
   ]
  },
  {
   "cell_type": "code",
   "execution_count": null,
   "metadata": {},
   "outputs": [],
   "source": [
    "# minmax\n",
    "list = [1, 56, 22, 45, 76, 13, 10]\n",
    "asc_list = []\n",
    "desc_list = []\n",
    "minmax = []\n",
    "temporary_min = list[0]\n",
    "temporary_max = list[0]\n",
    "for i in range (len(list)):\n",
    "    print(list[i])\n",
    "    if temporary_min < list[i]:\n",
    "        temporary_min = temporary_min\n",
    "    else:\n",
    "        temporary_min = list[i]\n",
    "\n",
    "    if temporary_max > list[i]:\n",
    "        temporary_max = temporary_max\n",
    "    else:\n",
    "        temporary_max = list[i]\n",
    "    \n",
    "minmax = [temporary_min, temporary_max]\n",
    "\n",
    "print(minmax[0], minmax[1])\n",
    "print(f\"min: {temporary_min}\")\n",
    "print(f\"max: {temporary_max}\")\n"
   ]
  },
  {
   "cell_type": "code",
   "execution_count": 2,
   "metadata": {},
   "outputs": [
    {
     "output_type": "stream",
     "name": "stdout",
     "text": [
      "min_number: 1, max_number: 220, ascending_list: [1, 4, 6, 13, 45, 56, 220], descending_list: [220, 56, 45, 13, 6, 4, 1]\n[56, 220, 4, 45, 6, 13, 1] [56, 220, 4, 45, 6, 13, 1]\n"
     ]
    }
   ],
   "source": [
    "# minmax\n",
    "listA = [56, 220, 4, 45, 6, 13, 1]\n",
    "listB = [56, 220, 4, 45, 6, 13, 1]\n",
    "\n",
    "def min_sort(input_list):\n",
    "    temporary_order = input_list[0]\n",
    "\n",
    "    for i in range(len(input_list)):\n",
    "        if temporary_order < input_list[i]:\n",
    "            temporary_order = temporary_order\n",
    "        else:\n",
    "            temporary_order = input_list[i]\n",
    "\n",
    "    return temporary_order\n",
    "\n",
    "\n",
    "def max_sort(input_list):\n",
    "    temporary_order = input_list[0]\n",
    "\n",
    "    for i in range(len(input_list)):\n",
    "        if temporary_order > input_list[i]:\n",
    "            temporary_order = temporary_order\n",
    "        else:\n",
    "            temporary_order = input_list[i]\n",
    "\n",
    "    return temporary_order\n",
    "\n",
    "\n",
    "def ascending_list(input_list):\n",
    "    input_list_copy = input_list[:]\n",
    "    ascending_list = []\n",
    "    asc_order = \"\"\n",
    "    for i in range(len(input_list_copy)):\n",
    "        if len(input_list_copy) != 0:\n",
    "            asc_order = min_sort(input_list_copy)\n",
    "            reduced_list = input_list_copy.remove(asc_order)\n",
    "        ascending_list.append(asc_order)\n",
    "    return ascending_list\n",
    "\n",
    "\n",
    "def descending_list(input_list):\n",
    "    input_list_copy = input_list[:]\n",
    "    descending_list = []\n",
    "    desc_order = \"\"\n",
    "    for i in range(len(input_list_copy)):\n",
    "        if len(input_list_copy) != 0:\n",
    "            desc_order = max_sort(input_list_copy)\n",
    "            reduced_list = input_list_copy.remove(desc_order)\n",
    "        descending_list.append(desc_order)\n",
    "    return descending_list\n",
    "\n",
    "min_number = min_sort(listA)\n",
    "max_number = max_sort(listB)\n",
    "ascending_result = ascending_list(listA)\n",
    "descending_result = descending_list(listB)\n",
    "print(f\"min_number: {min_number}, max_number: {max_number}, ascending_list: {ascending_result}, descending_list: {descending_result}\")\n",
    "print(listA, listB)"
   ]
  },
  {
   "cell_type": "code",
   "execution_count": 12,
   "metadata": {},
   "outputs": [
    {
     "output_type": "stream",
     "name": "stdout",
     "text": [
      "45.0\n13\n"
     ]
    }
   ],
   "source": [
    "# STATS\n",
    "list_number = [56, 220, 4, 45, 6, 13, 10, 45, 6]\n",
    "# list_number = [56, 56, 56, 56, 56, 55]\n",
    "\n",
    "# mean\n",
    "sum = 0\n",
    "for i in range(len(list_number)):\n",
    "    sum += list_number[i]\n",
    "mean = round(sum / len(list_number), 2)\n",
    "print(mean)\n",
    "\n",
    "# med\n",
    "ascending_result = ascending_list(list_number)\n",
    "if len(result) % 2 == 0:\n",
    "    half_index = len(result)//2\n",
    "    half_index_plus_1 = half_index + 1\n",
    "    median = (ascending_result[half_index] + ascending_result[half_index_plus_1]) / 2\n",
    "else:\n",
    "    half_list = len(result)//2\n",
    "    median = result[half_index]\n",
    "\n",
    "print(median)"
   ]
  },
  {
   "cell_type": "code",
   "execution_count": 11,
   "metadata": {},
   "outputs": [
    {
     "output_type": "execute_result",
     "data": {
      "text/plain": [
       "[4, 6, 6, 10, 13, 45, 45, 56, 220]"
      ]
     },
     "metadata": {},
     "execution_count": 11
    }
   ],
   "source": [
    "result"
   ]
  },
  {
   "cell_type": "code",
   "execution_count": 8,
   "metadata": {},
   "outputs": [
    {
     "output_type": "execute_result",
     "data": {
      "text/plain": [
       "4"
      ]
     },
     "metadata": {},
     "execution_count": 8
    }
   ],
   "source": [
    "(len(result)//2) - 1"
   ]
  },
  {
   "cell_type": "code",
   "execution_count": null,
   "metadata": {},
   "outputs": [],
   "source": []
  }
 ]
}