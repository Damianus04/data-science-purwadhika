{
 "cells": [
  {
   "cell_type": "code",
   "execution_count": 1,
   "metadata": {
    "id": "vsMIwCfn-Kkk"
   },
   "outputs": [],
   "source": [
    "#Import the usual library\n",
    "import pandas as pd\n",
    "import numpy as np\n",
    "import matplotlib.pyplot as plt\n",
    "import seaborn as sns\n",
    "%matplotlib inline\n",
    "import random"
   ]
  },
  {
   "cell_type": "markdown",
   "metadata": {
    "id": "3VYX85Vz-Kko"
   },
   "source": [
    "## Numerical Summary"
   ]
  },
  {
   "cell_type": "code",
   "execution_count": 2,
   "metadata": {
    "colab": {
     "base_uri": "https://localhost:8080/"
    },
    "id": "dzEfZyCq-Kkp",
    "outputId": "970a8cc4-eb2d-4ee4-c9fb-d141bd0226fc"
   },
   "outputs": [
    {
     "name": "stdout",
     "output_type": "stream",
     "text": [
      "mean = 24.75\n",
      "Standard Deviation = 2.6339134382131846\n",
      "Q1 = 22.75\n",
      "Q3 = 27.25\n",
      "IQR = 4.5\n"
     ]
    }
   ],
   "source": [
    "age = [22,22,23,23,29,24,27,28]\n",
    "\n",
    "print('mean =',np.mean(age))\n",
    "print('Standard Deviation =',np.std(age))\n",
    "print('Q1 =',np.quantile(age,0.25))\n",
    "print('Q3 =',np.quantile(age,0.75))\n",
    "print('IQR =',np.quantile(age,0.75) - np.quantile(age,0.25))"
   ]
  },
  {
   "cell_type": "code",
   "execution_count": 3,
   "metadata": {
    "id": "PgZSooq3-Kks"
   },
   "outputs": [],
   "source": [
    "tips = sns.load_dataset('tips')"
   ]
  },
  {
   "cell_type": "code",
   "execution_count": 4,
   "metadata": {
    "colab": {
     "base_uri": "https://localhost:8080/"
    },
    "id": "oAtYrOjE-Kku",
    "outputId": "5c7b64d6-c958-46ee-fd24-09d0f9261c66"
   },
   "outputs": [
    {
     "name": "stdout",
     "output_type": "stream",
     "text": [
      "mean = 19.785942622950824\n",
      "median = 17.795\n",
      "Q1 = 13.3475\n"
     ]
    }
   ],
   "source": [
    "print('mean =',tips['total_bill'].mean())\n",
    "print('median =',tips['total_bill'].median())\n",
    "print('Q1 =',tips['total_bill'].quantile(0.25))"
   ]
  },
  {
   "cell_type": "code",
   "execution_count": 5,
   "metadata": {
    "colab": {
     "base_uri": "https://localhost:8080/",
     "height": 282
    },
    "id": "r7dtAMOE-Kkw",
    "outputId": "2e64b67f-84cb-48fa-ecc8-a6aa695ce992"
   },
   "outputs": [
    {
     "data": {
      "text/html": [
       "<div>\n",
       "<style scoped>\n",
       "    .dataframe tbody tr th:only-of-type {\n",
       "        vertical-align: middle;\n",
       "    }\n",
       "\n",
       "    .dataframe tbody tr th {\n",
       "        vertical-align: top;\n",
       "    }\n",
       "\n",
       "    .dataframe thead th {\n",
       "        text-align: right;\n",
       "    }\n",
       "</style>\n",
       "<table border=\"1\" class=\"dataframe\">\n",
       "  <thead>\n",
       "    <tr style=\"text-align: right;\">\n",
       "      <th></th>\n",
       "      <th>total_bill</th>\n",
       "      <th>tip</th>\n",
       "      <th>size</th>\n",
       "    </tr>\n",
       "  </thead>\n",
       "  <tbody>\n",
       "    <tr>\n",
       "      <th>count</th>\n",
       "      <td>244.000000</td>\n",
       "      <td>244.000000</td>\n",
       "      <td>244.000000</td>\n",
       "    </tr>\n",
       "    <tr>\n",
       "      <th>mean</th>\n",
       "      <td>19.785943</td>\n",
       "      <td>2.998279</td>\n",
       "      <td>2.569672</td>\n",
       "    </tr>\n",
       "    <tr>\n",
       "      <th>std</th>\n",
       "      <td>8.902412</td>\n",
       "      <td>1.383638</td>\n",
       "      <td>0.951100</td>\n",
       "    </tr>\n",
       "    <tr>\n",
       "      <th>min</th>\n",
       "      <td>3.070000</td>\n",
       "      <td>1.000000</td>\n",
       "      <td>1.000000</td>\n",
       "    </tr>\n",
       "    <tr>\n",
       "      <th>25%</th>\n",
       "      <td>13.347500</td>\n",
       "      <td>2.000000</td>\n",
       "      <td>2.000000</td>\n",
       "    </tr>\n",
       "    <tr>\n",
       "      <th>50%</th>\n",
       "      <td>17.795000</td>\n",
       "      <td>2.900000</td>\n",
       "      <td>2.000000</td>\n",
       "    </tr>\n",
       "    <tr>\n",
       "      <th>75%</th>\n",
       "      <td>24.127500</td>\n",
       "      <td>3.562500</td>\n",
       "      <td>3.000000</td>\n",
       "    </tr>\n",
       "    <tr>\n",
       "      <th>max</th>\n",
       "      <td>50.810000</td>\n",
       "      <td>10.000000</td>\n",
       "      <td>6.000000</td>\n",
       "    </tr>\n",
       "  </tbody>\n",
       "</table>\n",
       "</div>"
      ],
      "text/plain": [
       "       total_bill         tip        size\n",
       "count  244.000000  244.000000  244.000000\n",
       "mean    19.785943    2.998279    2.569672\n",
       "std      8.902412    1.383638    0.951100\n",
       "min      3.070000    1.000000    1.000000\n",
       "25%     13.347500    2.000000    2.000000\n",
       "50%     17.795000    2.900000    2.000000\n",
       "75%     24.127500    3.562500    3.000000\n",
       "max     50.810000   10.000000    6.000000"
      ]
     },
     "execution_count": 5,
     "metadata": {
      "tags": []
     },
     "output_type": "execute_result"
    }
   ],
   "source": [
    "import seaborn as sns\n",
    "\n",
    "tips = sns.load_dataset('tips')\n",
    "\n",
    "tips.describe()"
   ]
  },
  {
   "cell_type": "code",
   "execution_count": 6,
   "metadata": {
    "colab": {
     "base_uri": "https://localhost:8080/"
    },
    "id": "o_UIqWap-Kky",
    "outputId": "b88fe282-0006-4139-a528-87194993a293"
   },
   "outputs": [
    {
     "data": {
      "text/plain": [
       "0    Male\n",
       "Name: sex, dtype: category\n",
       "Categories (2, object): ['Male', 'Female']"
      ]
     },
     "execution_count": 6,
     "metadata": {
      "tags": []
     },
     "output_type": "execute_result"
    }
   ],
   "source": [
    "tips['sex'].mode()"
   ]
  },
  {
   "cell_type": "code",
   "execution_count": 7,
   "metadata": {
    "colab": {
     "base_uri": "https://localhost:8080/"
    },
    "id": "FtoRhSss-Kk0",
    "outputId": "8df3ec23-b140-4370-d9af-7292d1979303"
   },
   "outputs": [
    {
     "data": {
      "text/plain": [
       "0    Sat\n",
       "Name: day, dtype: category\n",
       "Categories (4, object): ['Thur', 'Fri', 'Sat', 'Sun']"
      ]
     },
     "execution_count": 7,
     "metadata": {
      "tags": []
     },
     "output_type": "execute_result"
    }
   ],
   "source": [
    "tips['day'].mode()"
   ]
  },
  {
   "cell_type": "code",
   "execution_count": 8,
   "metadata": {
    "colab": {
     "base_uri": "https://localhost:8080/",
     "height": 164
    },
    "id": "euyB7j2g-Kk3",
    "outputId": "e205a2ec-8838-4820-ee04-fb44f73b79b6",
    "scrolled": true
   },
   "outputs": [
    {
     "data": {
      "text/html": [
       "<div>\n",
       "<style scoped>\n",
       "    .dataframe tbody tr th:only-of-type {\n",
       "        vertical-align: middle;\n",
       "    }\n",
       "\n",
       "    .dataframe tbody tr th {\n",
       "        vertical-align: top;\n",
       "    }\n",
       "\n",
       "    .dataframe thead th {\n",
       "        text-align: right;\n",
       "    }\n",
       "</style>\n",
       "<table border=\"1\" class=\"dataframe\">\n",
       "  <thead>\n",
       "    <tr style=\"text-align: right;\">\n",
       "      <th></th>\n",
       "      <th>sex</th>\n",
       "      <th>smoker</th>\n",
       "      <th>day</th>\n",
       "      <th>time</th>\n",
       "    </tr>\n",
       "  </thead>\n",
       "  <tbody>\n",
       "    <tr>\n",
       "      <th>count</th>\n",
       "      <td>244</td>\n",
       "      <td>244</td>\n",
       "      <td>244</td>\n",
       "      <td>244</td>\n",
       "    </tr>\n",
       "    <tr>\n",
       "      <th>unique</th>\n",
       "      <td>2</td>\n",
       "      <td>2</td>\n",
       "      <td>4</td>\n",
       "      <td>2</td>\n",
       "    </tr>\n",
       "    <tr>\n",
       "      <th>top</th>\n",
       "      <td>Male</td>\n",
       "      <td>No</td>\n",
       "      <td>Sat</td>\n",
       "      <td>Dinner</td>\n",
       "    </tr>\n",
       "    <tr>\n",
       "      <th>freq</th>\n",
       "      <td>157</td>\n",
       "      <td>151</td>\n",
       "      <td>87</td>\n",
       "      <td>176</td>\n",
       "    </tr>\n",
       "  </tbody>\n",
       "</table>\n",
       "</div>"
      ],
      "text/plain": [
       "         sex smoker  day    time\n",
       "count    244    244  244     244\n",
       "unique     2      2    4       2\n",
       "top     Male     No  Sat  Dinner\n",
       "freq     157    151   87     176"
      ]
     },
     "execution_count": 8,
     "metadata": {
      "tags": []
     },
     "output_type": "execute_result"
    }
   ],
   "source": [
    "tips.describe(include = 'category')"
   ]
  },
  {
   "cell_type": "code",
   "execution_count": 9,
   "metadata": {
    "colab": {
     "base_uri": "https://localhost:8080/"
    },
    "id": "umddnGL9-Kk5",
    "outputId": "633a3d29-e8c9-43fe-a39b-785f5155e0e8"
   },
   "outputs": [
    {
     "data": {
      "text/plain": [
       "Sat     87\n",
       "Sun     76\n",
       "Thur    62\n",
       "Fri     19\n",
       "Name: day, dtype: int64"
      ]
     },
     "execution_count": 9,
     "metadata": {
      "tags": []
     },
     "output_type": "execute_result"
    }
   ],
   "source": [
    "tips['day'].value_counts()"
   ]
  },
  {
   "cell_type": "code",
   "execution_count": 10,
   "metadata": {
    "colab": {
     "base_uri": "https://localhost:8080/",
     "height": 194
    },
    "id": "PH5EeFnv-Kk7",
    "outputId": "3c4cce1d-1427-4fb3-9e58-54e4b590afd4"
   },
   "outputs": [
    {
     "data": {
      "text/html": [
       "<div>\n",
       "<style scoped>\n",
       "    .dataframe tbody tr th:only-of-type {\n",
       "        vertical-align: middle;\n",
       "    }\n",
       "\n",
       "    .dataframe tbody tr th {\n",
       "        vertical-align: top;\n",
       "    }\n",
       "\n",
       "    .dataframe thead th {\n",
       "        text-align: right;\n",
       "    }\n",
       "</style>\n",
       "<table border=\"1\" class=\"dataframe\">\n",
       "  <thead>\n",
       "    <tr style=\"text-align: right;\">\n",
       "      <th>col_0</th>\n",
       "      <th>count</th>\n",
       "    </tr>\n",
       "    <tr>\n",
       "      <th>day</th>\n",
       "      <th></th>\n",
       "    </tr>\n",
       "  </thead>\n",
       "  <tbody>\n",
       "    <tr>\n",
       "      <th>Thur</th>\n",
       "      <td>62</td>\n",
       "    </tr>\n",
       "    <tr>\n",
       "      <th>Fri</th>\n",
       "      <td>19</td>\n",
       "    </tr>\n",
       "    <tr>\n",
       "      <th>Sat</th>\n",
       "      <td>87</td>\n",
       "    </tr>\n",
       "    <tr>\n",
       "      <th>Sun</th>\n",
       "      <td>76</td>\n",
       "    </tr>\n",
       "  </tbody>\n",
       "</table>\n",
       "</div>"
      ],
      "text/plain": [
       "col_0  count\n",
       "day         \n",
       "Thur      62\n",
       "Fri       19\n",
       "Sat       87\n",
       "Sun       76"
      ]
     },
     "execution_count": 10,
     "metadata": {
      "tags": []
     },
     "output_type": "execute_result"
    }
   ],
   "source": [
    "pd.crosstab(tips['day'], columns = 'count')"
   ]
  },
  {
   "cell_type": "code",
   "execution_count": 11,
   "metadata": {
    "colab": {
     "base_uri": "https://localhost:8080/"
    },
    "id": "HrGMZwkboqTm",
    "outputId": "d19ce7ed-55ba-468c-ff96-b46b8675c636"
   },
   "outputs": [
    {
     "name": "stdout",
     "output_type": "stream",
     "text": [
      "<class 'pandas.core.frame.DataFrame'>\n",
      "RangeIndex: 244 entries, 0 to 243\n",
      "Data columns (total 7 columns):\n",
      " #   Column      Non-Null Count  Dtype   \n",
      "---  ------      --------------  -----   \n",
      " 0   total_bill  244 non-null    float64 \n",
      " 1   tip         244 non-null    float64 \n",
      " 2   sex         244 non-null    category\n",
      " 3   smoker      244 non-null    category\n",
      " 4   day         244 non-null    category\n",
      " 5   time        244 non-null    category\n",
      " 6   size        244 non-null    int64   \n",
      "dtypes: category(4), float64(2), int64(1)\n",
      "memory usage: 7.3 KB\n"
     ]
    }
   ],
   "source": [
    "tips.info()"
   ]
  },
  {
   "cell_type": "code",
   "execution_count": 12,
   "metadata": {
    "colab": {
     "base_uri": "https://localhost:8080/",
     "height": 194
    },
    "id": "CO_OanRpoi_G",
    "outputId": "226f5afc-6b0e-4635-ecc5-90e14c439def"
   },
   "outputs": [
    {
     "data": {
      "text/html": [
       "<div>\n",
       "<style scoped>\n",
       "    .dataframe tbody tr th:only-of-type {\n",
       "        vertical-align: middle;\n",
       "    }\n",
       "\n",
       "    .dataframe tbody tr th {\n",
       "        vertical-align: top;\n",
       "    }\n",
       "\n",
       "    .dataframe thead th {\n",
       "        text-align: right;\n",
       "    }\n",
       "</style>\n",
       "<table border=\"1\" class=\"dataframe\">\n",
       "  <thead>\n",
       "    <tr style=\"text-align: right;\">\n",
       "      <th>sex</th>\n",
       "      <th>Male</th>\n",
       "      <th>Female</th>\n",
       "    </tr>\n",
       "    <tr>\n",
       "      <th>day</th>\n",
       "      <th></th>\n",
       "      <th></th>\n",
       "    </tr>\n",
       "  </thead>\n",
       "  <tbody>\n",
       "    <tr>\n",
       "      <th>Thur</th>\n",
       "      <td>30</td>\n",
       "      <td>32</td>\n",
       "    </tr>\n",
       "    <tr>\n",
       "      <th>Fri</th>\n",
       "      <td>10</td>\n",
       "      <td>9</td>\n",
       "    </tr>\n",
       "    <tr>\n",
       "      <th>Sat</th>\n",
       "      <td>59</td>\n",
       "      <td>28</td>\n",
       "    </tr>\n",
       "    <tr>\n",
       "      <th>Sun</th>\n",
       "      <td>58</td>\n",
       "      <td>18</td>\n",
       "    </tr>\n",
       "  </tbody>\n",
       "</table>\n",
       "</div>"
      ],
      "text/plain": [
       "sex   Male  Female\n",
       "day               \n",
       "Thur    30      32\n",
       "Fri     10       9\n",
       "Sat     59      28\n",
       "Sun     58      18"
      ]
     },
     "execution_count": 12,
     "metadata": {
      "tags": []
     },
     "output_type": "execute_result"
    }
   ],
   "source": [
    "pd.crosstab(tips['day'],tips['sex'])"
   ]
  },
  {
   "cell_type": "markdown",
   "metadata": {
    "id": "NM-s79yp-Kk9"
   },
   "source": [
    "## Graphical Summary"
   ]
  },
  {
   "cell_type": "code",
   "execution_count": 13,
   "metadata": {
    "id": "W2G1PoCd-Kk9"
   },
   "outputs": [],
   "source": [
    "set1 = list(np.random.normal(12,2,1000))\n",
    "set2 = list(np.random.normal(5,2,1000))"
   ]
  },
  {
   "cell_type": "code",
   "execution_count": 14,
   "metadata": {
    "id": "g86bpfFl-Kk_"
   },
   "outputs": [],
   "source": [
    "setfull = set1 + set2\n",
    "# setfull = pd.DataFrame({'var':setfull})"
   ]
  },
  {
   "cell_type": "code",
   "execution_count": 15,
   "metadata": {
    "id": "ofF2e5lh-KlB"
   },
   "outputs": [],
   "source": [
    "setfull = [round(x,3) for x in setfull]"
   ]
  },
  {
   "cell_type": "code",
   "execution_count": 16,
   "metadata": {
    "colab": {
     "base_uri": "https://localhost:8080/",
     "height": 338
    },
    "id": "tWz7sL4B-KlD",
    "outputId": "1bec5dae-c715-4c9f-f17c-2baec4abd8ce"
   },
   "outputs": [
    {
     "name": "stderr",
     "output_type": "stream",
     "text": [
      "/usr/local/lib/python3.6/dist-packages/seaborn/distributions.py:2551: FutureWarning: `distplot` is a deprecated function and will be removed in a future version. Please adapt your code to use either `displot` (a figure-level function with similar flexibility) or `histplot` (an axes-level function for histograms).\n",
      "  warnings.warn(msg, FutureWarning)\n"
     ]
    },
    {
     "data": {
      "text/plain": [
       "<matplotlib.axes._subplots.AxesSubplot at 0x7f58310f7d30>"
      ]
     },
     "execution_count": 16,
     "metadata": {
      "tags": []
     },
     "output_type": "execute_result"
    },
    {
     "data": {
      "image/png": "[encoded data removed]",
      "text/plain": [
       "<Figure size 432x288 with 1 Axes>"
      ]
     },
     "metadata": {
      "needs_background": "light",
      "tags": []
     },
     "output_type": "display_data"
    }
   ],
   "source": [
    "sns.distplot(set1, bins = 20, kde = False)"
   ]
  },
  {
   "cell_type": "code",
   "execution_count": 17,
   "metadata": {
    "colab": {
     "base_uri": "https://localhost:8080/",
     "height": 338
    },
    "id": "3CDRGAAs-KlF",
    "outputId": "7b9f4e49-8dd9-420a-c14d-df71d8cb4929"
   },
   "outputs": [
    {
     "name": "stderr",
     "output_type": "stream",
     "text": [
      "/usr/local/lib/python3.6/dist-packages/seaborn/distributions.py:2551: FutureWarning: `distplot` is a deprecated function and will be removed in a future version. Please adapt your code to use either `displot` (a figure-level function with similar flexibility) or `histplot` (an axes-level function for histograms).\n",
      "  warnings.warn(msg, FutureWarning)\n"
     ]
    },
    {
     "data": {
      "text/plain": [
       "<matplotlib.axes._subplots.AxesSubplot at 0x7f5830fafeb8>"
      ]
     },
     "execution_count": 17,
     "metadata": {
      "tags": []
     },
     "output_type": "execute_result"
    },
    {
     "data": {
      "image/png": "[encoded data removed]",
      "text/plain": [
       "<Figure size 432x288 with 1 Axes>"
      ]
     },
     "metadata": {
      "needs_background": "light",
      "tags": []
     },
     "output_type": "display_data"
    }
   ],
   "source": [
    "sns.distplot(setfull, bins = 20, kde = False)"
   ]
  },
  {
   "cell_type": "code",
   "execution_count": 18,
   "metadata": {
    "colab": {
     "base_uri": "https://localhost:8080/",
     "height": 338
    },
    "id": "VqCLDJed-KlH",
    "outputId": "13f150c8-d68b-4046-cdf9-3ecde25761c6"
   },
   "outputs": [
    {
     "name": "stderr",
     "output_type": "stream",
     "text": [
      "/usr/local/lib/python3.6/dist-packages/seaborn/distributions.py:2551: FutureWarning: `distplot` is a deprecated function and will be removed in a future version. Please adapt your code to use either `displot` (a figure-level function with similar flexibility) or `histplot` (an axes-level function for histograms).\n",
      "  warnings.warn(msg, FutureWarning)\n"
     ]
    },
    {
     "data": {
      "text/plain": [
       "<matplotlib.axes._subplots.AxesSubplot at 0x7f5830b1ea20>"
      ]
     },
     "execution_count": 18,
     "metadata": {
      "tags": []
     },
     "output_type": "execute_result"
    },
    {
     "data": {
      "image/png": "[encoded data removed]",
      "text/plain": [
       "<Figure size 432x288 with 1 Axes>"
      ]
     },
     "metadata": {
      "needs_background": "light",
      "tags": []
     },
     "output_type": "display_data"
    }
   ],
   "source": [
    "sns.distplot([x**3 for x in set1], bins = 20, kde = False)"
   ]
  },
  {
   "cell_type": "code",
   "execution_count": 19,
   "metadata": {
    "colab": {
     "base_uri": "https://localhost:8080/",
     "height": 338
    },
    "id": "v6JSamMR-KlJ",
    "outputId": "2b0ac5b4-ef0a-48cb-e6a3-e509d9702cd6"
   },
   "outputs": [
    {
     "name": "stderr",
     "output_type": "stream",
     "text": [
      "/usr/local/lib/python3.6/dist-packages/seaborn/distributions.py:2551: FutureWarning: `distplot` is a deprecated function and will be removed in a future version. Please adapt your code to use either `displot` (a figure-level function with similar flexibility) or `histplot` (an axes-level function for histograms).\n",
      "  warnings.warn(msg, FutureWarning)\n"
     ]
    },
    {
     "data": {
      "text/plain": [
       "<matplotlib.axes._subplots.AxesSubplot at 0x7f5830b0d5f8>"
      ]
     },
     "execution_count": 19,
     "metadata": {
      "tags": []
     },
     "output_type": "execute_result"
    },
    {
     "data": {
      "image/png": "[encoded data removed]",
      "text/plain": [
       "<Figure size 432x288 with 1 Axes>"
      ]
     },
     "metadata": {
      "needs_background": "light",
      "tags": []
     },
     "output_type": "display_data"
    }
   ],
   "source": [
    "sns.distplot([7000-x**3 for x in set1], bins = 20, kde = False)"
   ]
  },
  {
   "cell_type": "code",
   "execution_count": 20,
   "metadata": {
    "id": "PvYtqqgr-KlM"
   },
   "outputs": [],
   "source": [
    "set3 = list(np.random.uniform(0,1,1000))"
   ]
  },
  {
   "cell_type": "code",
   "execution_count": 21,
   "metadata": {
    "colab": {
     "base_uri": "https://localhost:8080/",
     "height": 338
    },
    "id": "1EkL_s7A-KlO",
    "outputId": "dd8d18d7-8f5b-49bc-8fb0-5ffb362b8831"
   },
   "outputs": [
    {
     "name": "stderr",
     "output_type": "stream",
     "text": [
      "/usr/local/lib/python3.6/dist-packages/seaborn/distributions.py:2551: FutureWarning: `distplot` is a deprecated function and will be removed in a future version. Please adapt your code to use either `displot` (a figure-level function with similar flexibility) or `histplot` (an axes-level function for histograms).\n",
      "  warnings.warn(msg, FutureWarning)\n"
     ]
    },
    {
     "data": {
      "text/plain": [
       "<matplotlib.axes._subplots.AxesSubplot at 0x7f58309b1a20>"
      ]
     },
     "execution_count": 21,
     "metadata": {
      "tags": []
     },
     "output_type": "execute_result"
    },
    {
     "data": {
      "image/png": "[encoded data removed]",
      "text/plain": [
       "<Figure size 432x288 with 1 Axes>"
      ]
     },
     "metadata": {
      "needs_background": "light",
      "tags": []
     },
     "output_type": "display_data"
    }
   ],
   "source": [
    "sns.distplot(set3, bins = 20, kde = False)"
   ]
  },
  {
   "cell_type": "code",
   "execution_count": 22,
   "metadata": {
    "colab": {
     "base_uri": "https://localhost:8080/",
     "height": 338
    },
    "id": "CYIFBA5N-KlQ",
    "outputId": "91b0226a-2109-4f09-96d2-8937a25d6351"
   },
   "outputs": [
    {
     "name": "stderr",
     "output_type": "stream",
     "text": [
      "/usr/local/lib/python3.6/dist-packages/seaborn/_decorators.py:43: FutureWarning: Pass the following variable as a keyword arg: x. From version 0.12, the only valid positional argument will be `data`, and passing other arguments without an explicit keyword will result in an error or misinterpretation.\n",
      "  FutureWarning\n"
     ]
    },
    {
     "data": {
      "text/plain": [
       "<matplotlib.axes._subplots.AxesSubplot at 0x7f5830a99e48>"
      ]
     },
     "execution_count": 22,
     "metadata": {
      "tags": []
     },
     "output_type": "execute_result"
    },
    {
     "data": {
      "image/png": "[encoded data removed]",
      "text/plain": [
       "<Figure size 432x288 with 1 Axes>"
      ]
     },
     "metadata": {
      "needs_background": "light",
      "tags": []
     },
     "output_type": "display_data"
    }
   ],
   "source": [
    "sns.boxplot(set1)"
   ]
  },
  {
   "cell_type": "code",
   "execution_count": 23,
   "metadata": {
    "colab": {
     "base_uri": "https://localhost:8080/",
     "height": 338
    },
    "id": "fXh0Rb_l-KlR",
    "outputId": "d2e40441-04cf-4580-9849-54409311bdbb"
   },
   "outputs": [
    {
     "name": "stderr",
     "output_type": "stream",
     "text": [
      "/usr/local/lib/python3.6/dist-packages/seaborn/_decorators.py:43: FutureWarning: Pass the following variable as a keyword arg: x. From version 0.12, the only valid positional argument will be `data`, and passing other arguments without an explicit keyword will result in an error or misinterpretation.\n",
      "  FutureWarning\n"
     ]
    },
    {
     "data": {
      "text/plain": [
       "<matplotlib.axes._subplots.AxesSubplot at 0x7f58308b89b0>"
      ]
     },
     "execution_count": 23,
     "metadata": {
      "tags": []
     },
     "output_type": "execute_result"
    },
    {
     "data": {
      "image/png": "[encoded data removed]",
      "text/plain": [
       "<Figure size 432x288 with 1 Axes>"
      ]
     },
     "metadata": {
      "needs_background": "light",
      "tags": []
     },
     "output_type": "display_data"
    }
   ],
   "source": [
    "sns.boxplot(setfull)"
   ]
  },
  {
   "cell_type": "code",
   "execution_count": 24,
   "metadata": {
    "colab": {
     "base_uri": "https://localhost:8080/",
     "height": 338
    },
    "id": "YA4Pd7Je-KlT",
    "outputId": "f1591211-1979-4d97-eaf1-9dffd4368fcd"
   },
   "outputs": [
    {
     "name": "stderr",
     "output_type": "stream",
     "text": [
      "/usr/local/lib/python3.6/dist-packages/seaborn/_decorators.py:43: FutureWarning: Pass the following variable as a keyword arg: x. From version 0.12, the only valid positional argument will be `data`, and passing other arguments without an explicit keyword will result in an error or misinterpretation.\n",
      "  FutureWarning\n"
     ]
    },
    {
     "data": {
      "text/plain": [
       "<matplotlib.axes._subplots.AxesSubplot at 0x7f5830876160>"
      ]
     },
     "execution_count": 24,
     "metadata": {
      "tags": []
     },
     "output_type": "execute_result"
    },
    {
     "data": {
      "image/png": "[encoded data removed]",
      "text/plain": [
       "<Figure size 432x288 with 1 Axes>"
      ]
     },
     "metadata": {
      "needs_background": "light",
      "tags": []
     },
     "output_type": "display_data"
    }
   ],
   "source": [
    "sns.boxplot([x**3 for x in set1])"
   ]
  },
  {
   "cell_type": "code",
   "execution_count": 25,
   "metadata": {
    "colab": {
     "base_uri": "https://localhost:8080/",
     "height": 338
    },
    "id": "BtxaqzwT-KlV",
    "outputId": "f9e57bd0-a276-4a9e-d601-05b38e6e259a"
   },
   "outputs": [
    {
     "name": "stderr",
     "output_type": "stream",
     "text": [
      "/usr/local/lib/python3.6/dist-packages/seaborn/_decorators.py:43: FutureWarning: Pass the following variable as a keyword arg: x. From version 0.12, the only valid positional argument will be `data`, and passing other arguments without an explicit keyword will result in an error or misinterpretation.\n",
      "  FutureWarning\n"
     ]
    },
    {
     "data": {
      "text/plain": [
       "<matplotlib.axes._subplots.AxesSubplot at 0x7f583080ada0>"
      ]
     },
     "execution_count": 25,
     "metadata": {
      "tags": []
     },
     "output_type": "execute_result"
    },
    {
     "data": {
      "image/png": "[encoded data removed]",
      "text/plain": [
       "<Figure size 432x288 with 1 Axes>"
      ]
     },
     "metadata": {
      "needs_background": "light",
      "tags": []
     },
     "output_type": "display_data"
    }
   ],
   "source": [
    "sns.boxplot([7000-x**3 for x in set1])"
   ]
  },
  {
   "cell_type": "code",
   "execution_count": 26,
   "metadata": {
    "id": "QiNh1yyR-KlX"
   },
   "outputs": [],
   "source": [
    "set3 = list(np.random.uniform(0,1,1000))"
   ]
  },
  {
   "cell_type": "code",
   "execution_count": 27,
   "metadata": {
    "colab": {
     "base_uri": "https://localhost:8080/",
     "height": 338
    },
    "id": "iyyr-kEI-KlY",
    "outputId": "67ae379e-cf3b-4b9f-f0ba-cf44036e81b5"
   },
   "outputs": [
    {
     "name": "stderr",
     "output_type": "stream",
     "text": [
      "/usr/local/lib/python3.6/dist-packages/seaborn/_decorators.py:43: FutureWarning: Pass the following variable as a keyword arg: x. From version 0.12, the only valid positional argument will be `data`, and passing other arguments without an explicit keyword will result in an error or misinterpretation.\n",
      "  FutureWarning\n"
     ]
    },
    {
     "data": {
      "text/plain": [
       "<matplotlib.axes._subplots.AxesSubplot at 0x7f58307dd2b0>"
      ]
     },
     "execution_count": 27,
     "metadata": {
      "tags": []
     },
     "output_type": "execute_result"
    },
    {
     "data": {
      "image/png": "[encoded data removed]",
      "text/plain": [
       "<Figure size 432x288 with 1 Axes>"
      ]
     },
     "metadata": {
      "needs_background": "light",
      "tags": []
     },
     "output_type": "display_data"
    }
   ],
   "source": [
    "sns.boxplot(set3)"
   ]
  },
  {
   "cell_type": "markdown",
   "metadata": {
    "id": "kihok6I2-Klb"
   },
   "source": [
    "detail about graphical summary already discussed in the previous study"
   ]
  },
  {
   "cell_type": "code",
   "execution_count": 28,
   "metadata": {
    "id": "4Yqg2tuc-Klb"
   },
   "outputs": [],
   "source": [
    "tips = sns.load_dataset('tips')"
   ]
  },
  {
   "cell_type": "code",
   "execution_count": 29,
   "metadata": {
    "colab": {
     "base_uri": "https://localhost:8080/",
     "height": 355
    },
    "id": "Y74At8Jc-Kld",
    "outputId": "7ea97018-5e6e-4a1a-cd53-725b3aefd2f4",
    "scrolled": true
   },
   "outputs": [
    {
     "name": "stderr",
     "output_type": "stream",
     "text": [
      "/usr/local/lib/python3.6/dist-packages/seaborn/distributions.py:2551: FutureWarning: `distplot` is a deprecated function and will be removed in a future version. Please adapt your code to use either `displot` (a figure-level function with similar flexibility) or `histplot` (an axes-level function for histograms).\n",
      "  warnings.warn(msg, FutureWarning)\n"
     ]
    },
    {
     "data": {
      "text/plain": [
       "<matplotlib.axes._subplots.AxesSubplot at 0x7f583085aac8>"
      ]
     },
     "execution_count": 29,
     "metadata": {
      "tags": []
     },
     "output_type": "execute_result"
    },
    {
     "data": {
      "image/png": "[encoded data removed]",
      "text/plain": [
       "<Figure size 432x288 with 1 Axes>"
      ]
     },
     "metadata": {
      "needs_background": "light",
      "tags": []
     },
     "output_type": "display_data"
    }
   ],
   "source": [
    "sns.distplot(tips['total_bill'])"
   ]
  },
  {
   "cell_type": "code",
   "execution_count": 30,
   "metadata": {
    "colab": {
     "base_uri": "https://localhost:8080/",
     "height": 356
    },
    "id": "qc5kePul-Kle",
    "outputId": "b384fbec-1068-4f92-9829-e55a4f5d9541"
   },
   "outputs": [
    {
     "name": "stderr",
     "output_type": "stream",
     "text": [
      "/usr/local/lib/python3.6/dist-packages/seaborn/distributions.py:2551: FutureWarning: `distplot` is a deprecated function and will be removed in a future version. Please adapt your code to use either `displot` (a figure-level function with similar flexibility) or `histplot` (an axes-level function for histograms).\n",
      "  warnings.warn(msg, FutureWarning)\n"
     ]
    },
    {
     "data": {
      "text/plain": [
       "<matplotlib.axes._subplots.AxesSubplot at 0x7f5830685780>"
      ]
     },
     "execution_count": 30,
     "metadata": {
      "tags": []
     },
     "output_type": "execute_result"
    },
    {
     "data": {
      "image/png": "[encoded data removed]",
      "text/plain": [
       "<Figure size 432x288 with 1 Axes>"
      ]
     },
     "metadata": {
      "needs_background": "light",
      "tags": []
     },
     "output_type": "display_data"
    }
   ],
   "source": [
    "sns.distplot(tips['total_bill'], bins = 30)"
   ]
  },
  {
   "cell_type": "code",
   "execution_count": 31,
   "metadata": {
    "colab": {
     "base_uri": "https://localhost:8080/",
     "height": 353
    },
    "id": "nI3qtQiV-Klg",
    "outputId": "f058f105-06d8-414f-8f5d-3714ba30e459"
   },
   "outputs": [
    {
     "name": "stderr",
     "output_type": "stream",
     "text": [
      "/usr/local/lib/python3.6/dist-packages/seaborn/_decorators.py:43: FutureWarning: Pass the following variable as a keyword arg: x. From version 0.12, the only valid positional argument will be `data`, and passing other arguments without an explicit keyword will result in an error or misinterpretation.\n",
      "  FutureWarning\n"
     ]
    },
    {
     "data": {
      "text/plain": [
       "<matplotlib.axes._subplots.AxesSubplot at 0x7f583070e7b8>"
      ]
     },
     "execution_count": 31,
     "metadata": {
      "tags": []
     },
     "output_type": "execute_result"
    },
    {
     "data": {
      "image/png": "[encoded data removed]",
      "text/plain": [
       "<Figure size 432x288 with 1 Axes>"
      ]
     },
     "metadata": {
      "needs_background": "light",
      "tags": []
     },
     "output_type": "display_data"
    }
   ],
   "source": [
    "sns.boxplot(tips['total_bill'])"
   ]
  },
  {
   "cell_type": "code",
   "execution_count": 32,
   "metadata": {
    "colab": {
     "base_uri": "https://localhost:8080/",
     "height": 297
    },
    "id": "_D6a11Xv-Kli",
    "outputId": "809b0cad-77b5-48e4-e424-0f0ae63233bd"
   },
   "outputs": [
    {
     "data": {
      "text/plain": [
       "<matplotlib.axes._subplots.AxesSubplot at 0x7f583058d240>"
      ]
     },
     "execution_count": 32,
     "metadata": {
      "tags": []
     },
     "output_type": "execute_result"
    },
    {
     "data": {
      "image/png": "[encoded data removed]",
      "text/plain": [
       "<Figure size 432x288 with 1 Axes>"
      ]
     },
     "metadata": {
      "needs_background": "light",
      "tags": []
     },
     "output_type": "display_data"
    }
   ],
   "source": [
    "sns.countplot(x = 'day', data = tips)"
   ]
  },
  {
   "cell_type": "code",
   "execution_count": 33,
   "metadata": {
    "colab": {
     "base_uri": "https://localhost:8080/",
     "height": 297
    },
    "id": "ly50MRDZ-Klk",
    "outputId": "81a377b9-3d33-44aa-d701-47c49866972e"
   },
   "outputs": [
    {
     "data": {
      "text/plain": [
       "<matplotlib.axes._subplots.AxesSubplot at 0x7f58304ea908>"
      ]
     },
     "execution_count": 33,
     "metadata": {
      "tags": []
     },
     "output_type": "execute_result"
    },
    {
     "data": {
      "image/png": "[encoded data removed]",
      "text/plain": [
       "<Figure size 432x288 with 1 Axes>"
      ]
     },
     "metadata": {
      "needs_background": "light",
      "tags": []
     },
     "output_type": "display_data"
    }
   ],
   "source": [
    "sns.barplot(x = 'day', y = 'tip', data = tips)"
   ]
  },
  {
   "cell_type": "code",
   "execution_count": 34,
   "metadata": {
    "id": "i9yO09My-Klm"
   },
   "outputs": [],
   "source": [
    "tips['tip bin'] = pd.cut(tips['tip'], bins=6)"
   ]
  },
  {
   "cell_type": "code",
   "execution_count": 35,
   "metadata": {
    "colab": {
     "base_uri": "https://localhost:8080/"
    },
    "id": "ZaK3kPpY-Klo",
    "outputId": "f70c8313-884c-4235-f149-6c82d7ef1197"
   },
   "outputs": [
    {
     "data": {
      "text/plain": [
       "(0.991, 2.5]    108\n",
       "(2.5, 4.0]       95\n",
       "(4.0, 5.5]       29\n",
       "(5.5, 7.0]        9\n",
       "(7.0, 8.5]        1\n",
       "(8.5, 10.0]       2\n",
       "Name: tip bin, dtype: int64"
      ]
     },
     "execution_count": 35,
     "metadata": {
      "tags": []
     },
     "output_type": "execute_result"
    }
   ],
   "source": [
    "tips['tip bin'].value_counts().sort_index()"
   ]
  },
  {
   "cell_type": "code",
   "execution_count": 36,
   "metadata": {
    "colab": {
     "base_uri": "https://localhost:8080/",
     "height": 252
    },
    "id": "qs6tHW8g-Klp",
    "outputId": "04fc17b4-90b1-4e88-d3f0-afe1a7f161be"
   },
   "outputs": [
    {
     "data": {
      "text/html": [
       "<div>\n",
       "<style scoped>\n",
       "    .dataframe tbody tr th:only-of-type {\n",
       "        vertical-align: middle;\n",
       "    }\n",
       "\n",
       "    .dataframe tbody tr th {\n",
       "        vertical-align: top;\n",
       "    }\n",
       "\n",
       "    .dataframe thead th {\n",
       "        text-align: right;\n",
       "    }\n",
       "</style>\n",
       "<table border=\"1\" class=\"dataframe\">\n",
       "  <thead>\n",
       "    <tr style=\"text-align: right;\">\n",
       "      <th>col_0</th>\n",
       "      <th>count</th>\n",
       "    </tr>\n",
       "    <tr>\n",
       "      <th>tip bin</th>\n",
       "      <th></th>\n",
       "    </tr>\n",
       "  </thead>\n",
       "  <tbody>\n",
       "    <tr>\n",
       "      <th>(0.991, 2.5]</th>\n",
       "      <td>108</td>\n",
       "    </tr>\n",
       "    <tr>\n",
       "      <th>(2.5, 4.0]</th>\n",
       "      <td>95</td>\n",
       "    </tr>\n",
       "    <tr>\n",
       "      <th>(4.0, 5.5]</th>\n",
       "      <td>29</td>\n",
       "    </tr>\n",
       "    <tr>\n",
       "      <th>(5.5, 7.0]</th>\n",
       "      <td>9</td>\n",
       "    </tr>\n",
       "    <tr>\n",
       "      <th>(7.0, 8.5]</th>\n",
       "      <td>1</td>\n",
       "    </tr>\n",
       "    <tr>\n",
       "      <th>(8.5, 10.0]</th>\n",
       "      <td>2</td>\n",
       "    </tr>\n",
       "  </tbody>\n",
       "</table>\n",
       "</div>"
      ],
      "text/plain": [
       "col_0         count\n",
       "tip bin            \n",
       "(0.991, 2.5]    108\n",
       "(2.5, 4.0]       95\n",
       "(4.0, 5.5]       29\n",
       "(5.5, 7.0]        9\n",
       "(7.0, 8.5]        1\n",
       "(8.5, 10.0]       2"
      ]
     },
     "execution_count": 36,
     "metadata": {
      "tags": []
     },
     "output_type": "execute_result"
    }
   ],
   "source": [
    "pd.crosstab(tips['tip bin'], columns = 'count')"
   ]
  },
  {
   "cell_type": "code",
   "execution_count": 37,
   "metadata": {
    "colab": {
     "base_uri": "https://localhost:8080/",
     "height": 352
    },
    "id": "TGPiUpVh-Klr",
    "outputId": "343b63da-25d1-4503-c22d-865a272d8d59"
   },
   "outputs": [
    {
     "name": "stderr",
     "output_type": "stream",
     "text": [
      "/usr/local/lib/python3.6/dist-packages/seaborn/distributions.py:2551: FutureWarning: `distplot` is a deprecated function and will be removed in a future version. Please adapt your code to use either `displot` (a figure-level function with similar flexibility) or `histplot` (an axes-level function for histograms).\n",
      "  warnings.warn(msg, FutureWarning)\n"
     ]
    },
    {
     "data": {
      "text/plain": [
       "<matplotlib.axes._subplots.AxesSubplot at 0x7f58304d1240>"
      ]
     },
     "execution_count": 37,
     "metadata": {
      "tags": []
     },
     "output_type": "execute_result"
    },
    {
     "data": {
      "image/png": "[encoded data removed]",
      "text/plain": [
       "<Figure size 432x288 with 1 Axes>"
      ]
     },
     "metadata": {
      "needs_background": "light",
      "tags": []
     },
     "output_type": "display_data"
    }
   ],
   "source": [
    "sns.distplot(tips['tip'], bins = 6, kde =False)"
   ]
  },
  {
   "cell_type": "markdown",
   "metadata": {
    "id": "E-3oXbJq-Kls"
   },
   "source": [
    "# Inferential Statistics"
   ]
  },
  {
   "cell_type": "markdown",
   "metadata": {
    "id": "Glg7ECfR-Klt"
   },
   "source": [
    "1. T test single population mean\n",
    "1. T test independence double population mean\n",
    "    1. equal variance\n",
    "    1. non equal variance\n",
    "1. T test paired \n",
    "1. F test for more than two population mean\n",
    "1. Proportion Test"
   ]
  },
  {
   "cell_type": "markdown",
   "metadata": {
    "id": "rIP6ZTOA-Klt"
   },
   "source": [
    "## One Sample T-Test"
   ]
  },
  {
   "cell_type": "code",
   "execution_count": 38,
   "metadata": {
    "id": "eoJIW886-Klt"
   },
   "outputs": [],
   "source": [
    "from scipy.stats import ttest_1samp\n",
    "import numpy as np\n",
    "ages = np.round(np.random.normal(30,4,40))"
   ]
  },
  {
   "cell_type": "code",
   "execution_count": 39,
   "metadata": {
    "id": "_IcsdFU7-Klv"
   },
   "outputs": [],
   "source": [
    "df = pd.DataFrame({'ages':ages})"
   ]
  },
  {
   "cell_type": "code",
   "execution_count": 40,
   "metadata": {
    "colab": {
     "base_uri": "https://localhost:8080/",
     "height": 194
    },
    "id": "vfB48S0Z-Klx",
    "outputId": "b87940f6-5505-4cc0-8809-eef8f48e25ec"
   },
   "outputs": [
    {
     "data": {
      "text/html": [
       "<div>\n",
       "<style scoped>\n",
       "    .dataframe tbody tr th:only-of-type {\n",
       "        vertical-align: middle;\n",
       "    }\n",
       "\n",
       "    .dataframe tbody tr th {\n",
       "        vertical-align: top;\n",
       "    }\n",
       "\n",
       "    .dataframe thead th {\n",
       "        text-align: right;\n",
       "    }\n",
       "</style>\n",
       "<table border=\"1\" class=\"dataframe\">\n",
       "  <thead>\n",
       "    <tr style=\"text-align: right;\">\n",
       "      <th></th>\n",
       "      <th>ages</th>\n",
       "    </tr>\n",
       "  </thead>\n",
       "  <tbody>\n",
       "    <tr>\n",
       "      <th>0</th>\n",
       "      <td>37.0</td>\n",
       "    </tr>\n",
       "    <tr>\n",
       "      <th>1</th>\n",
       "      <td>30.0</td>\n",
       "    </tr>\n",
       "    <tr>\n",
       "      <th>2</th>\n",
       "      <td>34.0</td>\n",
       "    </tr>\n",
       "    <tr>\n",
       "      <th>3</th>\n",
       "      <td>30.0</td>\n",
       "    </tr>\n",
       "    <tr>\n",
       "      <th>4</th>\n",
       "      <td>30.0</td>\n",
       "    </tr>\n",
       "  </tbody>\n",
       "</table>\n",
       "</div>"
      ],
      "text/plain": [
       "   ages\n",
       "0  37.0\n",
       "1  30.0\n",
       "2  34.0\n",
       "3  30.0\n",
       "4  30.0"
      ]
     },
     "execution_count": 40,
     "metadata": {
      "tags": []
     },
     "output_type": "execute_result"
    }
   ],
   "source": [
    "df.head()"
   ]
  },
  {
   "cell_type": "code",
   "execution_count": 41,
   "metadata": {
    "colab": {
     "base_uri": "https://localhost:8080/"
    },
    "id": "AXphIue1-Klz",
    "outputId": "5ac6d4ad-ee12-49f5-cfd0-8f9dcd659404"
   },
   "outputs": [
    {
     "data": {
      "text/plain": [
       "count    40.00000\n",
       "mean     29.10000\n",
       "std       3.50677\n",
       "min      20.00000\n",
       "25%      27.50000\n",
       "50%      29.50000\n",
       "75%      31.00000\n",
       "max      37.00000\n",
       "Name: ages, dtype: float64"
      ]
     },
     "execution_count": 41,
     "metadata": {
      "tags": []
     },
     "output_type": "execute_result"
    }
   ],
   "source": [
    "df['ages'].describe()"
   ]
  },
  {
   "cell_type": "code",
   "execution_count": 42,
   "metadata": {
    "colab": {
     "base_uri": "https://localhost:8080/",
     "height": 352
    },
    "id": "DSbdXuXL-Kl3",
    "outputId": "0cbbd5d6-c028-4a6e-92b7-64b6f85d375c"
   },
   "outputs": [
    {
     "name": "stderr",
     "output_type": "stream",
     "text": [
      "/usr/local/lib/python3.6/dist-packages/seaborn/distributions.py:2551: FutureWarning: `distplot` is a deprecated function and will be removed in a future version. Please adapt your code to use either `displot` (a figure-level function with similar flexibility) or `histplot` (an axes-level function for histograms).\n",
      "  warnings.warn(msg, FutureWarning)\n"
     ]
    },
    {
     "data": {
      "text/plain": [
       "<matplotlib.axes._subplots.AxesSubplot at 0x7f583045be10>"
      ]
     },
     "execution_count": 42,
     "metadata": {
      "tags": []
     },
     "output_type": "execute_result"
    },
    {
     "data": {
      "image/png": "[encoded data removed]",
      "text/plain": [
       "<Figure size 432x288 with 1 Axes>"
      ]
     },
     "metadata": {
      "needs_background": "light",
      "tags": []
     },
     "output_type": "display_data"
    }
   ],
   "source": [
    "sns.distplot(df['ages'])"
   ]
  },
  {
   "cell_type": "code",
   "execution_count": 43,
   "metadata": {
    "colab": {
     "base_uri": "https://localhost:8080/",
     "height": 352
    },
    "id": "SQdfcWxn-Kl5",
    "outputId": "a2520cfc-7869-4ee2-86a3-9da87fdcc886"
   },
   "outputs": [
    {
     "name": "stderr",
     "output_type": "stream",
     "text": [
      "/usr/local/lib/python3.6/dist-packages/seaborn/_decorators.py:43: FutureWarning: Pass the following variable as a keyword arg: x. From version 0.12, the only valid positional argument will be `data`, and passing other arguments without an explicit keyword will result in an error or misinterpretation.\n",
      "  FutureWarning\n"
     ]
    },
    {
     "data": {
      "text/plain": [
       "<matplotlib.axes._subplots.AxesSubplot at 0x7f58323c55c0>"
      ]
     },
     "execution_count": 43,
     "metadata": {
      "tags": []
     },
     "output_type": "execute_result"
    },
    {
     "data": {
      "image/png": "[encoded data removed]",
      "text/plain": [
       "<Figure size 432x288 with 1 Axes>"
      ]
     },
     "metadata": {
      "needs_background": "light",
      "tags": []
     },
     "output_type": "display_data"
    }
   ],
   "source": [
    "sns.boxplot(df['ages'])"
   ]
  },
  {
   "cell_type": "markdown",
   "metadata": {
    "id": "6OD3Hmxu-Kl7"
   },
   "source": [
    "Ho : Age Mean Population = 27 vs Ha : Age Mean Population > 27"
   ]
  },
  {
   "cell_type": "code",
   "execution_count": 44,
   "metadata": {
    "colab": {
     "base_uri": "https://localhost:8080/"
    },
    "id": "tpygKNeq-Kl7",
    "outputId": "ada13edf-e32c-42f2-ce61-bc840234336d"
   },
   "outputs": [
    {
     "name": "stdout",
     "output_type": "stream",
     "text": [
      "p-value 0.0002570768306169479\n"
     ]
    }
   ],
   "source": [
    "tset, pval = ttest_1samp(df['ages'], 27)\n",
    "print('p-value',pval/2)"
   ]
  },
  {
   "cell_type": "markdown",
   "metadata": {
    "id": "EmX5r8Bv-Kl-"
   },
   "source": [
    "The P-value is lower than our significant level 0.05, it means we have enough evidence to reject the Null Hypothesis. So, Mean population Age is higher than 27 with signicant level 5%. "
   ]
  },
  {
   "cell_type": "markdown",
   "metadata": {
    "id": "s6rH2SnM-Kl-"
   },
   "source": [
    "## Two Sample Independent T-Test"
   ]
  },
  {
   "cell_type": "markdown",
   "metadata": {
    "id": "MbCGYElh-Kl-"
   },
   "source": [
    "Let's create the dataset"
   ]
  },
  {
   "cell_type": "code",
   "execution_count": 45,
   "metadata": {
    "ExecuteTime": {
     "end_time": "2019-08-21T03:17:24.818364Z",
     "start_time": "2019-08-21T03:17:24.808426Z"
    },
    "id": "f3o7ay-l-Kl_"
   },
   "outputs": [],
   "source": [
    "hat = pd.concat([pd.Series(data = ['Yes', 'No', 'Yes', 'Yes', 'No', 'No', 'No','Yes','Yes', 'No','Yes','Yes','No','Yes','No','Yes','No','No','No','Yes'],name = 'Wearing Hat'),\n",
    "                pd.Series(data = [70,85,80,45,80,70,90,70,55,80,75,60,70,85,80,85,55,75,65,70], name ='Score')],axis = 1)"
   ]
  },
  {
   "cell_type": "code",
   "execution_count": 46,
   "metadata": {
    "colab": {
     "base_uri": "https://localhost:8080/",
     "height": 634
    },
    "id": "zq4feeEt-KmA",
    "outputId": "e73f30fe-0c73-45fd-aea0-1baf14ac5aaa"
   },
   "outputs": [
    {
     "data": {
      "text/html": [
       "<div>\n",
       "<style scoped>\n",
       "    .dataframe tbody tr th:only-of-type {\n",
       "        vertical-align: middle;\n",
       "    }\n",
       "\n",
       "    .dataframe tbody tr th {\n",
       "        vertical-align: top;\n",
       "    }\n",
       "\n",
       "    .dataframe thead th {\n",
       "        text-align: right;\n",
       "    }\n",
       "</style>\n",
       "<table border=\"1\" class=\"dataframe\">\n",
       "  <thead>\n",
       "    <tr style=\"text-align: right;\">\n",
       "      <th></th>\n",
       "      <th>Wearing Hat</th>\n",
       "      <th>Score</th>\n",
       "    </tr>\n",
       "  </thead>\n",
       "  <tbody>\n",
       "    <tr>\n",
       "      <th>0</th>\n",
       "      <td>Yes</td>\n",
       "      <td>70</td>\n",
       "    </tr>\n",
       "    <tr>\n",
       "      <th>1</th>\n",
       "      <td>No</td>\n",
       "      <td>85</td>\n",
       "    </tr>\n",
       "    <tr>\n",
       "      <th>2</th>\n",
       "      <td>Yes</td>\n",
       "      <td>80</td>\n",
       "    </tr>\n",
       "    <tr>\n",
       "      <th>3</th>\n",
       "      <td>Yes</td>\n",
       "      <td>45</td>\n",
       "    </tr>\n",
       "    <tr>\n",
       "      <th>4</th>\n",
       "      <td>No</td>\n",
       "      <td>80</td>\n",
       "    </tr>\n",
       "    <tr>\n",
       "      <th>5</th>\n",
       "      <td>No</td>\n",
       "      <td>70</td>\n",
       "    </tr>\n",
       "    <tr>\n",
       "      <th>6</th>\n",
       "      <td>No</td>\n",
       "      <td>90</td>\n",
       "    </tr>\n",
       "    <tr>\n",
       "      <th>7</th>\n",
       "      <td>Yes</td>\n",
       "      <td>70</td>\n",
       "    </tr>\n",
       "    <tr>\n",
       "      <th>8</th>\n",
       "      <td>Yes</td>\n",
       "      <td>55</td>\n",
       "    </tr>\n",
       "    <tr>\n",
       "      <th>9</th>\n",
       "      <td>No</td>\n",
       "      <td>80</td>\n",
       "    </tr>\n",
       "    <tr>\n",
       "      <th>10</th>\n",
       "      <td>Yes</td>\n",
       "      <td>75</td>\n",
       "    </tr>\n",
       "    <tr>\n",
       "      <th>11</th>\n",
       "      <td>Yes</td>\n",
       "      <td>60</td>\n",
       "    </tr>\n",
       "    <tr>\n",
       "      <th>12</th>\n",
       "      <td>No</td>\n",
       "      <td>70</td>\n",
       "    </tr>\n",
       "    <tr>\n",
       "      <th>13</th>\n",
       "      <td>Yes</td>\n",
       "      <td>85</td>\n",
       "    </tr>\n",
       "    <tr>\n",
       "      <th>14</th>\n",
       "      <td>No</td>\n",
       "      <td>80</td>\n",
       "    </tr>\n",
       "    <tr>\n",
       "      <th>15</th>\n",
       "      <td>Yes</td>\n",
       "      <td>85</td>\n",
       "    </tr>\n",
       "    <tr>\n",
       "      <th>16</th>\n",
       "      <td>No</td>\n",
       "      <td>55</td>\n",
       "    </tr>\n",
       "    <tr>\n",
       "      <th>17</th>\n",
       "      <td>No</td>\n",
       "      <td>75</td>\n",
       "    </tr>\n",
       "    <tr>\n",
       "      <th>18</th>\n",
       "      <td>No</td>\n",
       "      <td>65</td>\n",
       "    </tr>\n",
       "    <tr>\n",
       "      <th>19</th>\n",
       "      <td>Yes</td>\n",
       "      <td>70</td>\n",
       "    </tr>\n",
       "  </tbody>\n",
       "</table>\n",
       "</div>"
      ],
      "text/plain": [
       "   Wearing Hat  Score\n",
       "0          Yes     70\n",
       "1           No     85\n",
       "2          Yes     80\n",
       "3          Yes     45\n",
       "4           No     80\n",
       "5           No     70\n",
       "6           No     90\n",
       "7          Yes     70\n",
       "8          Yes     55\n",
       "9           No     80\n",
       "10         Yes     75\n",
       "11         Yes     60\n",
       "12          No     70\n",
       "13         Yes     85\n",
       "14          No     80\n",
       "15         Yes     85\n",
       "16          No     55\n",
       "17          No     75\n",
       "18          No     65\n",
       "19         Yes     70"
      ]
     },
     "execution_count": 46,
     "metadata": {
      "tags": []
     },
     "output_type": "execute_result"
    }
   ],
   "source": [
    "hat"
   ]
  },
  {
   "cell_type": "code",
   "execution_count": 47,
   "metadata": {
    "ExecuteTime": {
     "end_time": "2019-08-21T03:17:33.208836Z",
     "start_time": "2019-08-21T03:17:31.235622Z"
    },
    "colab": {
     "base_uri": "https://localhost:8080/",
     "height": 388
    },
    "id": "zYmx7sNX-KmC",
    "outputId": "0d0c28b1-3ae2-4987-b793-36990aa15b95"
   },
   "outputs": [
    {
     "name": "stderr",
     "output_type": "stream",
     "text": [
      "/usr/local/lib/python3.6/dist-packages/seaborn/distributions.py:2551: FutureWarning: `distplot` is a deprecated function and will be removed in a future version. Please adapt your code to use either `displot` (a figure-level function with similar flexibility) or `histplot` (an axes-level function for histograms).\n",
      "  warnings.warn(msg, FutureWarning)\n",
      "/usr/local/lib/python3.6/dist-packages/seaborn/distributions.py:2551: FutureWarning: `distplot` is a deprecated function and will be removed in a future version. Please adapt your code to use either `displot` (a figure-level function with similar flexibility) or `histplot` (an axes-level function for histograms).\n",
      "  warnings.warn(msg, FutureWarning)\n"
     ]
    },
    {
     "data": {
      "text/plain": [
       "Text(0, 0.5, 'Frequency')"
      ]
     },
     "execution_count": 47,
     "metadata": {
      "tags": []
     },
     "output_type": "execute_result"
    },
    {
     "data": {
      "image/png": "[encoded data removed]",
      "text/plain": [
       "<Figure size 432x288 with 1 Axes>"
      ]
     },
     "metadata": {
      "tags": []
     },
     "output_type": "display_data"
    }
   ],
   "source": [
    "sns.set_style('darkgrid')\n",
    "sns.distplot(hat[hat['Wearing Hat'] == 'Yes']['Score'], color = 'red', label = 'Wearing Hat')\n",
    "sns.distplot(hat[hat['Wearing Hat'] == 'No']['Score'], color = 'green', label ='Not Wearing Hat')\n",
    "plt.legend()\n",
    "plt.ylabel('Frequency')"
   ]
  },
  {
   "cell_type": "markdown",
   "metadata": {
    "id": "JV3ecQIY-KmE"
   },
   "source": [
    "The distribution is seems to follow the Normal Distribution, let's try use the Independent T-Test from the Scipy"
   ]
  },
  {
   "cell_type": "code",
   "execution_count": 48,
   "metadata": {
    "colab": {
     "base_uri": "https://localhost:8080/",
     "height": 297
    },
    "id": "j7tafWwX-KmE",
    "outputId": "2878e86d-c60c-432d-f44b-31609c50e7ae"
   },
   "outputs": [
    {
     "data": {
      "text/plain": [
       "<matplotlib.axes._subplots.AxesSubplot at 0x7f5830779668>"
      ]
     },
     "execution_count": 48,
     "metadata": {
      "tags": []
     },
     "output_type": "execute_result"
    },
    {
     "data": {
      "image/png": "[encoded data removed]",
      "text/plain": [
       "<Figure size 432x288 with 1 Axes>"
      ]
     },
     "metadata": {
      "tags": []
     },
     "output_type": "display_data"
    }
   ],
   "source": [
    "sns.boxplot(x = 'Wearing Hat', y = 'Score', data = hat)"
   ]
  },
  {
   "cell_type": "markdown",
   "metadata": {
    "id": "Le4hrlmW-KmG"
   },
   "source": [
    "Ho : Mean Popolation of Score not wearing hat = Mean Popolation of Score wearing hat \n",
    "<br>\n",
    "Ha : Mean Popolation of Score not wearing hat > Mean Popolation of Score wearing hat"
   ]
  },
  {
   "cell_type": "markdown",
   "metadata": {
    "id": "J8QYDGEm-KmG"
   },
   "source": [
    "non equal variance assumption"
   ]
  },
  {
   "cell_type": "code",
   "execution_count": 49,
   "metadata": {
    "ExecuteTime": {
     "end_time": "2019-08-21T03:17:40.817552Z",
     "start_time": "2019-08-21T03:17:40.809571Z"
    },
    "colab": {
     "base_uri": "https://localhost:8080/"
    },
    "id": "ibx5X35f-KmG",
    "outputId": "b0e48c0d-be6f-4216-cdae-e86e36fc887b"
   },
   "outputs": [
    {
     "name": "stdout",
     "output_type": "stream",
     "text": [
      "T-Statistic: 1.0493389512356741\n",
      "P-Value: 0.1543203279173745\n"
     ]
    }
   ],
   "source": [
    "from scipy.stats import ttest_ind\n",
    "result = list(ttest_ind(\n",
    "    hat[hat['Wearing Hat'] == 'No']['Score'], \n",
    "    hat[hat['Wearing Hat'] == 'Yes']['Score'],\n",
    "    equal_var = False\n",
    "))\n",
    "print('T-Statistic:', result[0])\n",
    "print('P-Value:', result[1]/2)"
   ]
  },
  {
   "cell_type": "markdown",
   "metadata": {
    "id": "KaAnX2kG-KmI"
   },
   "source": [
    "equal variance assumption"
   ]
  },
  {
   "cell_type": "code",
   "execution_count": 50,
   "metadata": {
    "colab": {
     "base_uri": "https://localhost:8080/"
    },
    "id": "j3q7TMXI-KmI",
    "outputId": "36dac2f6-e798-4223-8565-8d89010fed1f"
   },
   "outputs": [
    {
     "name": "stdout",
     "output_type": "stream",
     "text": [
      "T-Statistic: 1.049338951235674\n",
      "P-Value: 0.15395387283575152\n"
     ]
    }
   ],
   "source": [
    "from scipy.stats import ttest_ind\n",
    "result = list(ttest_ind(\n",
    "    hat[hat['Wearing Hat'] == 'No']['Score'], \n",
    "    hat[hat['Wearing Hat'] == 'Yes']['Score'],\n",
    "    equal_var = True\n",
    "))\n",
    "print('T-Statistic:', result[0])\n",
    "print('P-Value:', result[1]/2)"
   ]
  },
  {
   "cell_type": "markdown",
   "metadata": {
    "id": "beSBqCok-KmJ"
   },
   "source": [
    "The P-value is higher than our significant level 0.05, it means we don't have enough evidence to reject the Null Hypothesis. So, Mean Popolation of Score not wearing hat are still aproximately equal to Mean Popolation of Score wearing hat."
   ]
  },
  {
   "cell_type": "markdown",
   "metadata": {
    "id": "nTLy1OzC-KmK"
   },
   "source": [
    "## T-Test Paired"
   ]
  },
  {
   "cell_type": "markdown",
   "metadata": {
    "id": "tjPokmRb-KmK"
   },
   "source": [
    "reaction time on driving skill before and while using cell phone"
   ]
  },
  {
   "cell_type": "code",
   "execution_count": 51,
   "metadata": {
    "id": "TLFTCDQX-KmL"
   },
   "outputs": [],
   "source": [
    "with_cell_phone = [604,556,540,522,469,544,513,470,556,531,599,537,619,536,554,467]\n",
    "without_cell_phone = [636,623,615,672,601,600,542,554,543,520,609,559,595,565,573,554]\n",
    "\n",
    "df_paired = pd.DataFrame({\n",
    "    'no':without_cell_phone,\n",
    "    'yes':with_cell_phone\n",
    "})"
   ]
  },
  {
   "cell_type": "code",
   "execution_count": 52,
   "metadata": {
    "id": "KzWL_KEP-KmN"
   },
   "outputs": [],
   "source": [
    "df_paired['diff'] = df_paired['yes'] - df_paired['no']"
   ]
  },
  {
   "cell_type": "code",
   "execution_count": 53,
   "metadata": {
    "colab": {
     "base_uri": "https://localhost:8080/",
     "height": 340
    },
    "id": "pl-ZbwQ7-KmO",
    "outputId": "c4be11e1-dbe9-489d-c61e-e25b9dd66586"
   },
   "outputs": [
    {
     "data": {
      "text/html": [
       "<div>\n",
       "<style scoped>\n",
       "    .dataframe tbody tr th:only-of-type {\n",
       "        vertical-align: middle;\n",
       "    }\n",
       "\n",
       "    .dataframe tbody tr th {\n",
       "        vertical-align: top;\n",
       "    }\n",
       "\n",
       "    .dataframe thead th {\n",
       "        text-align: right;\n",
       "    }\n",
       "</style>\n",
       "<table border=\"1\" class=\"dataframe\">\n",
       "  <thead>\n",
       "    <tr style=\"text-align: right;\">\n",
       "      <th></th>\n",
       "      <th>no</th>\n",
       "      <th>yes</th>\n",
       "      <th>diff</th>\n",
       "    </tr>\n",
       "  </thead>\n",
       "  <tbody>\n",
       "    <tr>\n",
       "      <th>0</th>\n",
       "      <td>636</td>\n",
       "      <td>604</td>\n",
       "      <td>-32</td>\n",
       "    </tr>\n",
       "    <tr>\n",
       "      <th>1</th>\n",
       "      <td>623</td>\n",
       "      <td>556</td>\n",
       "      <td>-67</td>\n",
       "    </tr>\n",
       "    <tr>\n",
       "      <th>2</th>\n",
       "      <td>615</td>\n",
       "      <td>540</td>\n",
       "      <td>-75</td>\n",
       "    </tr>\n",
       "    <tr>\n",
       "      <th>3</th>\n",
       "      <td>672</td>\n",
       "      <td>522</td>\n",
       "      <td>-150</td>\n",
       "    </tr>\n",
       "    <tr>\n",
       "      <th>4</th>\n",
       "      <td>601</td>\n",
       "      <td>469</td>\n",
       "      <td>-132</td>\n",
       "    </tr>\n",
       "    <tr>\n",
       "      <th>5</th>\n",
       "      <td>600</td>\n",
       "      <td>544</td>\n",
       "      <td>-56</td>\n",
       "    </tr>\n",
       "    <tr>\n",
       "      <th>6</th>\n",
       "      <td>542</td>\n",
       "      <td>513</td>\n",
       "      <td>-29</td>\n",
       "    </tr>\n",
       "    <tr>\n",
       "      <th>7</th>\n",
       "      <td>554</td>\n",
       "      <td>470</td>\n",
       "      <td>-84</td>\n",
       "    </tr>\n",
       "    <tr>\n",
       "      <th>8</th>\n",
       "      <td>543</td>\n",
       "      <td>556</td>\n",
       "      <td>13</td>\n",
       "    </tr>\n",
       "    <tr>\n",
       "      <th>9</th>\n",
       "      <td>520</td>\n",
       "      <td>531</td>\n",
       "      <td>11</td>\n",
       "    </tr>\n",
       "  </tbody>\n",
       "</table>\n",
       "</div>"
      ],
      "text/plain": [
       "    no  yes  diff\n",
       "0  636  604   -32\n",
       "1  623  556   -67\n",
       "2  615  540   -75\n",
       "3  672  522  -150\n",
       "4  601  469  -132\n",
       "5  600  544   -56\n",
       "6  542  513   -29\n",
       "7  554  470   -84\n",
       "8  543  556    13\n",
       "9  520  531    11"
      ]
     },
     "execution_count": 53,
     "metadata": {
      "tags": []
     },
     "output_type": "execute_result"
    }
   ],
   "source": [
    "df_paired.head(10)"
   ]
  },
  {
   "cell_type": "code",
   "execution_count": 54,
   "metadata": {
    "colab": {
     "base_uri": "https://localhost:8080/"
    },
    "id": "F2kGs9Kq-KmR",
    "outputId": "8a4e19b2-7b62-4dc5-d2e0-e84094c90172"
   },
   "outputs": [
    {
     "data": {
      "text/plain": [
       "count     16.000000\n",
       "mean     -46.500000\n",
       "std       50.146452\n",
       "min     -150.000000\n",
       "25%      -77.250000\n",
       "50%      -30.500000\n",
       "75%      -16.750000\n",
       "max       24.000000\n",
       "Name: diff, dtype: float64"
      ]
     },
     "execution_count": 54,
     "metadata": {
      "tags": []
     },
     "output_type": "execute_result"
    }
   ],
   "source": [
    "df_paired['diff'].describe()"
   ]
  },
  {
   "cell_type": "code",
   "execution_count": 55,
   "metadata": {
    "colab": {
     "base_uri": "https://localhost:8080/",
     "height": 352
    },
    "id": "72Ie3u5q-KmT",
    "outputId": "403fa4d6-6ea8-43df-dece-0e2cb42ef7bd"
   },
   "outputs": [
    {
     "name": "stderr",
     "output_type": "stream",
     "text": [
      "/usr/local/lib/python3.6/dist-packages/seaborn/_decorators.py:43: FutureWarning: Pass the following variable as a keyword arg: x. From version 0.12, the only valid positional argument will be `data`, and passing other arguments without an explicit keyword will result in an error or misinterpretation.\n",
      "  FutureWarning\n"
     ]
    },
    {
     "data": {
      "text/plain": [
       "<matplotlib.axes._subplots.AxesSubplot at 0x7f58302966d8>"
      ]
     },
     "execution_count": 55,
     "metadata": {
      "tags": []
     },
     "output_type": "execute_result"
    },
    {
     "data": {
      "image/png": "[encoded data removed]",
      "text/plain": [
       "<Figure size 432x288 with 1 Axes>"
      ]
     },
     "metadata": {
      "tags": []
     },
     "output_type": "display_data"
    }
   ],
   "source": [
    "sns.boxplot(df_paired['diff'])"
   ]
  },
  {
   "cell_type": "markdown",
   "metadata": {
    "id": "bqPZAp-E-KmU"
   },
   "source": [
    "Ho : Mean Population of difference (yes-no) = 0\n",
    "<br>\n",
    "Ha : Mean Population of difference (yes-no) < 0"
   ]
  },
  {
   "cell_type": "code",
   "execution_count": 56,
   "metadata": {
    "colab": {
     "base_uri": "https://localhost:8080/"
    },
    "id": "rKo0T-2Q-KmU",
    "outputId": "291787b6-b931-46d7-fc9e-99169123933b"
   },
   "outputs": [
    {
     "name": "stdout",
     "output_type": "stream",
     "text": [
      "0.0010497189034628326\n",
      "-3.7091357792693707\n"
     ]
    }
   ],
   "source": [
    "tset, pval = ttest_1samp(df_paired['diff'], 0)\n",
    "print(pval/2)\n",
    "print(tset)"
   ]
  },
  {
   "cell_type": "markdown",
   "metadata": {
    "id": "7sp0JC_T-KmW"
   },
   "source": [
    "The P-value is lower than our significant level 0.05, it means we have enough evidence to reject the Null Hypothesis. So, reaction time on driving skill after using cell phone are lower than before using cell phone "
   ]
  },
  {
   "cell_type": "markdown",
   "metadata": {
    "id": "NnNiay66-KmW"
   },
   "source": [
    "## One-Way ANOVA\n",
    "Let's create the dataset"
   ]
  },
  {
   "cell_type": "code",
   "execution_count": 57,
   "metadata": {
    "ExecuteTime": {
     "end_time": "2019-08-21T03:33:42.963397Z",
     "start_time": "2019-08-21T03:33:42.959438Z"
    },
    "id": "f9qaYW48-KmX"
   },
   "outputs": [],
   "source": [
    "transport = []\n",
    "method = ['Walking ', 'Public ', 'Private ']\n",
    "for i in method:\n",
    "    transport.extend((i*10).split())"
   ]
  },
  {
   "cell_type": "code",
   "execution_count": 58,
   "metadata": {
    "ExecuteTime": {
     "end_time": "2019-08-21T03:43:05.346483Z",
     "start_time": "2019-08-21T03:43:05.336513Z"
    },
    "colab": {
     "base_uri": "https://localhost:8080/",
     "height": 194
    },
    "id": "1yjHLkqr-KmY",
    "outputId": "1e987b60-8e4e-4149-a0f3-49f9453d8669"
   },
   "outputs": [
    {
     "data": {
      "text/html": [
       "<div>\n",
       "<style scoped>\n",
       "    .dataframe tbody tr th:only-of-type {\n",
       "        vertical-align: middle;\n",
       "    }\n",
       "\n",
       "    .dataframe tbody tr th {\n",
       "        vertical-align: top;\n",
       "    }\n",
       "\n",
       "    .dataframe thead th {\n",
       "        text-align: right;\n",
       "    }\n",
       "</style>\n",
       "<table border=\"1\" class=\"dataframe\">\n",
       "  <thead>\n",
       "    <tr style=\"text-align: right;\">\n",
       "      <th></th>\n",
       "      <th>Transportation</th>\n",
       "      <th>Study Hour</th>\n",
       "    </tr>\n",
       "  </thead>\n",
       "  <tbody>\n",
       "    <tr>\n",
       "      <th>28</th>\n",
       "      <td>Private</td>\n",
       "      <td>7</td>\n",
       "    </tr>\n",
       "    <tr>\n",
       "      <th>19</th>\n",
       "      <td>Public</td>\n",
       "      <td>7</td>\n",
       "    </tr>\n",
       "    <tr>\n",
       "      <th>13</th>\n",
       "      <td>Public</td>\n",
       "      <td>6</td>\n",
       "    </tr>\n",
       "    <tr>\n",
       "      <th>27</th>\n",
       "      <td>Private</td>\n",
       "      <td>5</td>\n",
       "    </tr>\n",
       "    <tr>\n",
       "      <th>10</th>\n",
       "      <td>Public</td>\n",
       "      <td>7</td>\n",
       "    </tr>\n",
       "  </tbody>\n",
       "</table>\n",
       "</div>"
      ],
      "text/plain": [
       "   Transportation  Study Hour\n",
       "28        Private           7\n",
       "19         Public           7\n",
       "13         Public           6\n",
       "27        Private           5\n",
       "10         Public           7"
      ]
     },
     "execution_count": 58,
     "metadata": {
      "tags": []
     },
     "output_type": "execute_result"
    }
   ],
   "source": [
    "transportdf = pd.concat([pd.Series(transport, name = 'Transportation'), \n",
    "                     pd.Series([5,4,5,6,5,3,2,4,5,5,7,7,5,6,4,6,5,5,6,7,5,4,5,6,6,5,5,5,7,7], name = 'Study Hour')], axis =1)\n",
    "transportdf.sample(5)"
   ]
  },
  {
   "cell_type": "code",
   "execution_count": 59,
   "metadata": {
    "ExecuteTime": {
     "end_time": "2019-08-21T03:48:23.438036Z",
     "start_time": "2019-08-21T03:48:23.281457Z"
    },
    "colab": {
     "base_uri": "https://localhost:8080/",
     "height": 427
    },
    "id": "Ejmfbhkd-Kma",
    "outputId": "6a6c9cd7-e7a5-4482-e5f3-3f8f6c9454c0"
   },
   "outputs": [
    {
     "name": "stderr",
     "output_type": "stream",
     "text": [
      "/usr/local/lib/python3.6/dist-packages/seaborn/distributions.py:2551: FutureWarning: `distplot` is a deprecated function and will be removed in a future version. Please adapt your code to use either `displot` (a figure-level function with similar flexibility) or `histplot` (an axes-level function for histograms).\n",
      "  warnings.warn(msg, FutureWarning)\n",
      "/usr/local/lib/python3.6/dist-packages/seaborn/distributions.py:2551: FutureWarning: `distplot` is a deprecated function and will be removed in a future version. Please adapt your code to use either `displot` (a figure-level function with similar flexibility) or `histplot` (an axes-level function for histograms).\n",
      "  warnings.warn(msg, FutureWarning)\n",
      "/usr/local/lib/python3.6/dist-packages/seaborn/distributions.py:2551: FutureWarning: `distplot` is a deprecated function and will be removed in a future version. Please adapt your code to use either `displot` (a figure-level function with similar flexibility) or `histplot` (an axes-level function for histograms).\n",
      "  warnings.warn(msg, FutureWarning)\n"
     ]
    },
    {
     "data": {
      "text/plain": [
       "Text(0, 0.5, 'Frequency')"
      ]
     },
     "execution_count": 59,
     "metadata": {
      "tags": []
     },
     "output_type": "execute_result"
    },
    {
     "data": {
      "image/png": "[encoded data removed]",
      "text/plain": [
       "<Figure size 432x288 with 1 Axes>"
      ]
     },
     "metadata": {
      "tags": []
     },
     "output_type": "display_data"
    }
   ],
   "source": [
    "sns.distplot(transportdf[transportdf['Transportation'] == 'Walking']['Study Hour'], color = 'red', label = 'Walking')\n",
    "sns.distplot(transportdf[transportdf['Transportation'] == 'Public']['Study Hour'], color = 'green', label = 'Public')\n",
    "sns.distplot(transportdf[transportdf['Transportation'] == 'Private']['Study Hour'], color = 'blue', label = 'Private')\n",
    "plt.legend()\n",
    "plt.ylabel('Frequency')"
   ]
  },
  {
   "cell_type": "code",
   "execution_count": 60,
   "metadata": {
    "colab": {
     "base_uri": "https://localhost:8080/",
     "height": 297
    },
    "id": "tbHx-0X3-Kmb",
    "outputId": "11d029d0-4a30-4242-eb2e-c50999f2ade2"
   },
   "outputs": [
    {
     "data": {
      "text/plain": [
       "<matplotlib.axes._subplots.AxesSubplot at 0x7f5830132390>"
      ]
     },
     "execution_count": 60,
     "metadata": {
      "tags": []
     },
     "output_type": "execute_result"
    },
    {
     "data": {
      "image/png": "[encoded data removed]",
      "text/plain": [
       "<Figure size 432x288 with 1 Axes>"
      ]
     },
     "metadata": {
      "tags": []
     },
     "output_type": "display_data"
    }
   ],
   "source": [
    "sns.set_palette(['red','green','blue'])\n",
    "sns.boxplot(x = 'Transportation', y = 'Study Hour', data = transportdf)"
   ]
  },
  {
   "cell_type": "code",
   "execution_count": 61,
   "metadata": {
    "ExecuteTime": {
     "end_time": "2019-08-21T06:45:38.026509Z",
     "start_time": "2019-08-21T06:45:38.019537Z"
    },
    "colab": {
     "base_uri": "https://localhost:8080/"
    },
    "id": "7MlO4p4r-Kmc",
    "outputId": "89555add-7aa1-4d2e-f853-0e5717dfadb0"
   },
   "outputs": [
    {
     "name": "stdout",
     "output_type": "stream",
     "text": [
      "Mean of Study Hour Group Walking: 4.4\n",
      "Mean of Study Hour Group Public: 5.8\n",
      "Mean of Study Hour Group Private: 5.5\n"
     ]
    }
   ],
   "source": [
    "for i in transportdf['Transportation'].unique():\n",
    "    print('Mean of Study Hour Group {}: {}'.format(i,transportdf[transportdf['Transportation'] == i]['Study Hour'].mean()))"
   ]
  },
  {
   "cell_type": "code",
   "execution_count": 62,
   "metadata": {
    "ExecuteTime": {
     "end_time": "2019-08-21T06:45:17.743977Z",
     "start_time": "2019-08-21T06:45:17.739990Z"
    },
    "colab": {
     "base_uri": "https://localhost:8080/"
    },
    "id": "KZOw-ZYH-Kme",
    "outputId": "c01e9141-6d0b-482c-837d-bdef9096f2d9"
   },
   "outputs": [
    {
     "name": "stdout",
     "output_type": "stream",
     "text": [
      "Total Study Hour Mean:  5.233333333333333\n"
     ]
    }
   ],
   "source": [
    "print('Total Study Hour Mean: ', transportdf['Study Hour'].mean())"
   ]
  },
  {
   "cell_type": "code",
   "execution_count": 63,
   "metadata": {
    "ExecuteTime": {
     "end_time": "2019-08-21T06:49:43.333809Z",
     "start_time": "2019-08-21T06:49:43.310869Z"
    },
    "id": "sZbCdvIC-Kmf"
   },
   "outputs": [],
   "source": [
    "from math import pow\n",
    "total = 0\n",
    "for i, j in zip(transportdf['Transportation'], transportdf['Study Hour']):\n",
    "    total += (pow(((transportdf[transportdf['Transportation'] == i]['Study Hour'].mean()) - j), 2))"
   ]
  },
  {
   "cell_type": "code",
   "execution_count": 64,
   "metadata": {
    "ExecuteTime": {
     "end_time": "2019-08-21T06:51:39.427883Z",
     "start_time": "2019-08-21T06:51:39.422900Z"
    },
    "colab": {
     "base_uri": "https://localhost:8080/"
    },
    "id": "rPqQ1rx8-Kmh",
    "outputId": "c95ee42e-c3ed-4eb8-ad33-ea6a7452d320"
   },
   "outputs": [
    {
     "name": "stdout",
     "output_type": "stream",
     "text": [
      "MSwithin:  30.500000000000004\n"
     ]
    }
   ],
   "source": [
    "print('MSwithin: ',total)"
   ]
  },
  {
   "cell_type": "code",
   "execution_count": 65,
   "metadata": {
    "ExecuteTime": {
     "end_time": "2019-08-21T06:58:46.375385Z",
     "start_time": "2019-08-21T06:58:46.366443Z"
    },
    "colab": {
     "base_uri": "https://localhost:8080/"
    },
    "id": "AjAbU1yw-Kmi",
    "outputId": "4a9069ea-f7bb-41be-e292-3236e2a8470c"
   },
   "outputs": [
    {
     "data": {
      "text/plain": [
       "F_onewayResult(statistic=4.809836065573772, pvalue=0.0163405142361861)"
      ]
     },
     "execution_count": 65,
     "metadata": {
      "tags": []
     },
     "output_type": "execute_result"
    }
   ],
   "source": [
    "#Importing One-Way ANOVA from Scipy. One-Way ANOVA is called F one-way as well because the test follow the F- Distribution\n",
    "from scipy.stats import f_oneway\n",
    "f_oneway(transportdf[transportdf['Transportation'] == 'Walking']['Study Hour'], \n",
    "        transportdf[transportdf['Transportation'] == 'Public']['Study Hour'],\n",
    "        transportdf[transportdf['Transportation'] == 'Private']['Study Hour'])"
   ]
  },
  {
   "cell_type": "markdown",
   "metadata": {
    "id": "u3h6pX9G-Kml"
   },
   "source": [
    "The P-value is lower than our significant level 0.05, it means wehave enough evidence to reject the Null Hypothesis. So,at least one pair of the population are not equal"
   ]
  },
  {
   "cell_type": "markdown",
   "metadata": {
    "id": "tRmnpNkyI5Cl"
   },
   "source": [
    "## Use Case : A/B Testing numerical measurements"
   ]
  },
  {
   "cell_type": "markdown",
   "metadata": {
    "id": "UPbGxYF6I_0t"
   },
   "source": [
    "A financial tech company 'X' want to test whether their new app design help people to increase the amount of many that they save (saving rate). Savings rate is the percentage of each user’s monthly paycheck that he or she saves\n",
    "1. Six months ago, our client randomly selected 1,000 newly signed up users and assigned 500 of them to the current design and 500 to the new design.\n",
    "1. The control group went on to use the current app.\n",
    "1. All users started with a 0% savings rate.\n",
    "The 1,000 users represent just a small portion of the app’s total users.\n"
   ]
  },
  {
   "cell_type": "code",
   "execution_count": 66,
   "metadata": {
    "id": "Q8nv9nryJQKv"
   },
   "outputs": [],
   "source": [
    "y_A = np.random.normal(12,5,100)\n",
    "y_B = np.random.normal(15,5,100)"
   ]
  },
  {
   "cell_type": "code",
   "execution_count": 67,
   "metadata": {
    "id": "YYjA99SOJQTq"
   },
   "outputs": [],
   "source": [
    "df_old = pd.DataFrame({\n",
    "    'design':'old design',\n",
    "    'saving rate':y_A\n",
    "})\n",
    "\n",
    "df_new = pd.DataFrame({\n",
    "    'design':'new design',\n",
    "    'saving rate':y_B\n",
    "})\n",
    "\n",
    "df_ab_numerical = df_old.append(df_new)"
   ]
  },
  {
   "cell_type": "code",
   "execution_count": 68,
   "metadata": {
    "colab": {
     "base_uri": "https://localhost:8080/",
     "height": 399
    },
    "id": "NyTrlG0dJQH2",
    "outputId": "bde6e433-9286-43f9-bc97-143ca39036b8"
   },
   "outputs": [
    {
     "data": {
      "text/html": [
       "<div>\n",
       "<style scoped>\n",
       "    .dataframe tbody tr th:only-of-type {\n",
       "        vertical-align: middle;\n",
       "    }\n",
       "\n",
       "    .dataframe tbody tr th {\n",
       "        vertical-align: top;\n",
       "    }\n",
       "\n",
       "    .dataframe thead th {\n",
       "        text-align: right;\n",
       "    }\n",
       "</style>\n",
       "<table border=\"1\" class=\"dataframe\">\n",
       "  <thead>\n",
       "    <tr style=\"text-align: right;\">\n",
       "      <th></th>\n",
       "      <th>design</th>\n",
       "      <th>saving rate</th>\n",
       "    </tr>\n",
       "  </thead>\n",
       "  <tbody>\n",
       "    <tr>\n",
       "      <th>0</th>\n",
       "      <td>old design</td>\n",
       "      <td>16.052218</td>\n",
       "    </tr>\n",
       "    <tr>\n",
       "      <th>1</th>\n",
       "      <td>old design</td>\n",
       "      <td>14.612297</td>\n",
       "    </tr>\n",
       "    <tr>\n",
       "      <th>2</th>\n",
       "      <td>old design</td>\n",
       "      <td>13.440294</td>\n",
       "    </tr>\n",
       "    <tr>\n",
       "      <th>3</th>\n",
       "      <td>old design</td>\n",
       "      <td>22.219367</td>\n",
       "    </tr>\n",
       "    <tr>\n",
       "      <th>4</th>\n",
       "      <td>old design</td>\n",
       "      <td>10.328581</td>\n",
       "    </tr>\n",
       "    <tr>\n",
       "      <th>...</th>\n",
       "      <td>...</td>\n",
       "      <td>...</td>\n",
       "    </tr>\n",
       "    <tr>\n",
       "      <th>95</th>\n",
       "      <td>new design</td>\n",
       "      <td>14.291961</td>\n",
       "    </tr>\n",
       "    <tr>\n",
       "      <th>96</th>\n",
       "      <td>new design</td>\n",
       "      <td>12.422252</td>\n",
       "    </tr>\n",
       "    <tr>\n",
       "      <th>97</th>\n",
       "      <td>new design</td>\n",
       "      <td>8.612740</td>\n",
       "    </tr>\n",
       "    <tr>\n",
       "      <th>98</th>\n",
       "      <td>new design</td>\n",
       "      <td>23.187465</td>\n",
       "    </tr>\n",
       "    <tr>\n",
       "      <th>99</th>\n",
       "      <td>new design</td>\n",
       "      <td>14.644869</td>\n",
       "    </tr>\n",
       "  </tbody>\n",
       "</table>\n",
       "<p>200 rows × 2 columns</p>\n",
       "</div>"
      ],
      "text/plain": [
       "        design  saving rate\n",
       "0   old design    16.052218\n",
       "1   old design    14.612297\n",
       "2   old design    13.440294\n",
       "3   old design    22.219367\n",
       "4   old design    10.328581\n",
       "..         ...          ...\n",
       "95  new design    14.291961\n",
       "96  new design    12.422252\n",
       "97  new design     8.612740\n",
       "98  new design    23.187465\n",
       "99  new design    14.644869\n",
       "\n",
       "[200 rows x 2 columns]"
      ]
     },
     "execution_count": 68,
     "metadata": {
      "tags": []
     },
     "output_type": "execute_result"
    }
   ],
   "source": [
    "df_ab_numerical"
   ]
  },
  {
   "cell_type": "code",
   "execution_count": 69,
   "metadata": {
    "colab": {
     "base_uri": "https://localhost:8080/",
     "height": 388
    },
    "id": "Ja6qWX0MJQE1",
    "outputId": "276dad48-6b31-46b5-8877-2f3f080259a4"
   },
   "outputs": [
    {
     "name": "stderr",
     "output_type": "stream",
     "text": [
      "/usr/local/lib/python3.6/dist-packages/seaborn/distributions.py:2551: FutureWarning: `distplot` is a deprecated function and will be removed in a future version. Please adapt your code to use either `displot` (a figure-level function with similar flexibility) or `histplot` (an axes-level function for histograms).\n",
      "  warnings.warn(msg, FutureWarning)\n",
      "/usr/local/lib/python3.6/dist-packages/seaborn/distributions.py:2551: FutureWarning: `distplot` is a deprecated function and will be removed in a future version. Please adapt your code to use either `displot` (a figure-level function with similar flexibility) or `histplot` (an axes-level function for histograms).\n",
      "  warnings.warn(msg, FutureWarning)\n"
     ]
    },
    {
     "data": {
      "text/plain": [
       "Text(0, 0.5, 'Frequency')"
      ]
     },
     "execution_count": 69,
     "metadata": {
      "tags": []
     },
     "output_type": "execute_result"
    },
    {
     "data": {
      "image/png": "[encoded data removed]",
      "text/plain": [
       "<Figure size 432x288 with 1 Axes>"
      ]
     },
     "metadata": {
      "tags": []
     },
     "output_type": "display_data"
    }
   ],
   "source": [
    "sns.set_style('darkgrid')\n",
    "sns.distplot(df_ab_numerical[df_ab_numerical['design'] == 'new design']['saving rate'],bins = 30, color = 'red', label = 'New Design')\n",
    "sns.distplot(df_ab_numerical[df_ab_numerical['design'] == 'old design']['saving rate'],bins = 30, color = 'green', label ='Old Design')\n",
    "plt.legend()\n",
    "plt.ylabel('Frequency')"
   ]
  },
  {
   "cell_type": "code",
   "execution_count": 70,
   "metadata": {
    "colab": {
     "base_uri": "https://localhost:8080/",
     "height": 297
    },
    "id": "mgic5Py4KpeM",
    "outputId": "9d5810a5-6aa3-4e59-ba7f-0929a10dcbbb"
   },
   "outputs": [
    {
     "data": {
      "text/plain": [
       "<matplotlib.axes._subplots.AxesSubplot at 0x7f58300a3c50>"
      ]
     },
     "execution_count": 70,
     "metadata": {
      "tags": []
     },
     "output_type": "execute_result"
    },
    {
     "data": {
      "image/png": "[encoded data removed]",
      "text/plain": [
       "<Figure size 432x288 with 1 Axes>"
      ]
     },
     "metadata": {
      "tags": []
     },
     "output_type": "display_data"
    }
   ],
   "source": [
    "sns.boxplot(x = 'design', y = 'saving rate', data = df_ab_numerical)"
   ]
  },
  {
   "cell_type": "code",
   "execution_count": 71,
   "metadata": {
    "id": "Xe7VPJ4HL26b"
   },
   "outputs": [],
   "source": [
    "by_design = df_ab_numerical.groupby('design')"
   ]
  },
  {
   "cell_type": "code",
   "execution_count": 72,
   "metadata": {
    "colab": {
     "base_uri": "https://localhost:8080/",
     "height": 164
    },
    "id": "6b43zk8OMZl8",
    "outputId": "30e5bfc2-1654-483e-f129-96925b70a083"
   },
   "outputs": [
    {
     "data": {
      "text/html": [
       "<div>\n",
       "<style scoped>\n",
       "    .dataframe tbody tr th:only-of-type {\n",
       "        vertical-align: middle;\n",
       "    }\n",
       "\n",
       "    .dataframe tbody tr th {\n",
       "        vertical-align: top;\n",
       "    }\n",
       "\n",
       "    .dataframe thead tr th {\n",
       "        text-align: left;\n",
       "    }\n",
       "\n",
       "    .dataframe thead tr:last-of-type th {\n",
       "        text-align: right;\n",
       "    }\n",
       "</style>\n",
       "<table border=\"1\" class=\"dataframe\">\n",
       "  <thead>\n",
       "    <tr>\n",
       "      <th></th>\n",
       "      <th colspan=\"8\" halign=\"left\">saving rate</th>\n",
       "    </tr>\n",
       "    <tr>\n",
       "      <th></th>\n",
       "      <th>count</th>\n",
       "      <th>mean</th>\n",
       "      <th>std</th>\n",
       "      <th>min</th>\n",
       "      <th>25%</th>\n",
       "      <th>50%</th>\n",
       "      <th>75%</th>\n",
       "      <th>max</th>\n",
       "    </tr>\n",
       "    <tr>\n",
       "      <th>design</th>\n",
       "      <th></th>\n",
       "      <th></th>\n",
       "      <th></th>\n",
       "      <th></th>\n",
       "      <th></th>\n",
       "      <th></th>\n",
       "      <th></th>\n",
       "      <th></th>\n",
       "    </tr>\n",
       "  </thead>\n",
       "  <tbody>\n",
       "    <tr>\n",
       "      <th>new design</th>\n",
       "      <td>100.0</td>\n",
       "      <td>15.591009</td>\n",
       "      <td>4.87597</td>\n",
       "      <td>3.549801</td>\n",
       "      <td>12.768095</td>\n",
       "      <td>14.648805</td>\n",
       "      <td>19.222236</td>\n",
       "      <td>28.209432</td>\n",
       "    </tr>\n",
       "    <tr>\n",
       "      <th>old design</th>\n",
       "      <td>100.0</td>\n",
       "      <td>12.338902</td>\n",
       "      <td>5.22729</td>\n",
       "      <td>-1.347752</td>\n",
       "      <td>8.480466</td>\n",
       "      <td>12.190654</td>\n",
       "      <td>16.076313</td>\n",
       "      <td>27.978281</td>\n",
       "    </tr>\n",
       "  </tbody>\n",
       "</table>\n",
       "</div>"
      ],
      "text/plain": [
       "           saving rate                      ...                                 \n",
       "                 count       mean      std  ...        50%        75%        max\n",
       "design                                      ...                                 \n",
       "new design       100.0  15.591009  4.87597  ...  14.648805  19.222236  28.209432\n",
       "old design       100.0  12.338902  5.22729  ...  12.190654  16.076313  27.978281\n",
       "\n",
       "[2 rows x 8 columns]"
      ]
     },
     "execution_count": 72,
     "metadata": {
      "tags": []
     },
     "output_type": "execute_result"
    }
   ],
   "source": [
    "by_design.describe()"
   ]
  },
  {
   "cell_type": "markdown",
   "metadata": {
    "id": "uXGCoA0yNbwZ"
   },
   "source": [
    "H0 : X financial tech company's clients who recieved new layout will have the same saving rate mean than clients that recieved old layout\n",
    "<br>\n",
    "H1 : X financial tech company's clients who recieved new layout will have higher saving rate mean than clients that recieved old layout"
   ]
  },
  {
   "cell_type": "code",
   "execution_count": 73,
   "metadata": {
    "colab": {
     "base_uri": "https://localhost:8080/"
    },
    "id": "spL9PotQLEBX",
    "outputId": "c935695f-484b-4f9d-af1c-0e59de870d3e"
   },
   "outputs": [
    {
     "name": "stdout",
     "output_type": "stream",
     "text": [
      "T-Statistic: 4.549418520168992\n",
      "P-Value: 4.6839972988471605e-06\n"
     ]
    }
   ],
   "source": [
    "from scipy.stats import ttest_ind\n",
    "result = list(ttest_ind(\n",
    "    df_ab_numerical[df_ab_numerical['design'] == 'new design']['saving rate'],\n",
    "    df_ab_numerical[df_ab_numerical['design'] == 'old design']['saving rate'], \n",
    "    equal_var = True\n",
    "))\n",
    "\n",
    "print('T-Statistic:', result[0])\n",
    "print('P-Value:', result[1]/2)"
   ]
  },
  {
   "cell_type": "markdown",
   "metadata": {
    "id": "wb5wCzCcO5_M"
   },
   "source": [
    "The P-value is lower than our significant level 0.05, it means we have enough evidence to reject the Null Hypothesis. So, X financial tech company's clients who recieved new layout will have higher saving rate mean than clients that recieved old layout"
   ]
  },
  {
   "cell_type": "markdown",
   "metadata": {
    "id": "8zmvD6azM0sY"
   },
   "source": [
    "## Use Case : A/B Testing numerical measurements more than two groups"
   ]
  },
  {
   "cell_type": "markdown",
   "metadata": {
    "id": "etBkmo5XPjb0"
   },
   "source": [
    "A financial tech company want to test whether their new two app design help people to increase the amount of money that they save (saving rate). Savings rate is the percentage of each user’s monthly paycheck that he or she saves\n",
    "1. Six months ago, our client randomly selected 1,500 newly signed up users and assigned 500 of them to the current design and each 500 to the new design (design 1 and design 2).\n",
    "1. The control group went on to use the current app.\n",
    "1. All users started with a 0% savings rate.\n",
    "The 1,500 users represent just a small portion of the app’s total users.\n"
   ]
  },
  {
   "cell_type": "code",
   "execution_count": 74,
   "metadata": {
    "id": "ivnt2cNLQ1P4"
   },
   "outputs": [],
   "source": [
    "y_A = np.random.normal(12,5,100)\n",
    "y_B1 = np.random.normal(15,5,100)\n",
    "y_B2 = np.random.normal(16,5,100)"
   ]
  },
  {
   "cell_type": "code",
   "execution_count": 75,
   "metadata": {
    "id": "C3OCT2w8Q_Bx"
   },
   "outputs": [],
   "source": [
    "df_old = pd.DataFrame({\n",
    "    'design':'old design',\n",
    "    'saving rate':y_A\n",
    "})\n",
    "\n",
    "df_new1 = pd.DataFrame({\n",
    "    'design':'new design1',\n",
    "    'saving rate':y_B1\n",
    "})\n",
    "\n",
    "df_new2 = pd.DataFrame({\n",
    "    'design':'new design2',\n",
    "    'saving rate':y_B2\n",
    "})\n",
    "\n",
    "df_ab2_numerical = df_old.append(df_new1)\n",
    "df_ab2_numerical = df_ab2_numerical.append(df_new2)"
   ]
  },
  {
   "cell_type": "code",
   "execution_count": 76,
   "metadata": {
    "colab": {
     "base_uri": "https://localhost:8080/",
     "height": 399
    },
    "id": "PwCptnI3Rtaq",
    "outputId": "0c7e2de9-f9c8-44ab-ca6e-88c7f9acbacb"
   },
   "outputs": [
    {
     "data": {
      "text/html": [
       "<div>\n",
       "<style scoped>\n",
       "    .dataframe tbody tr th:only-of-type {\n",
       "        vertical-align: middle;\n",
       "    }\n",
       "\n",
       "    .dataframe tbody tr th {\n",
       "        vertical-align: top;\n",
       "    }\n",
       "\n",
       "    .dataframe thead th {\n",
       "        text-align: right;\n",
       "    }\n",
       "</style>\n",
       "<table border=\"1\" class=\"dataframe\">\n",
       "  <thead>\n",
       "    <tr style=\"text-align: right;\">\n",
       "      <th></th>\n",
       "      <th>design</th>\n",
       "      <th>saving rate</th>\n",
       "    </tr>\n",
       "  </thead>\n",
       "  <tbody>\n",
       "    <tr>\n",
       "      <th>0</th>\n",
       "      <td>old design</td>\n",
       "      <td>10.269105</td>\n",
       "    </tr>\n",
       "    <tr>\n",
       "      <th>1</th>\n",
       "      <td>old design</td>\n",
       "      <td>4.638225</td>\n",
       "    </tr>\n",
       "    <tr>\n",
       "      <th>2</th>\n",
       "      <td>old design</td>\n",
       "      <td>9.559361</td>\n",
       "    </tr>\n",
       "    <tr>\n",
       "      <th>3</th>\n",
       "      <td>old design</td>\n",
       "      <td>18.583522</td>\n",
       "    </tr>\n",
       "    <tr>\n",
       "      <th>4</th>\n",
       "      <td>old design</td>\n",
       "      <td>11.781204</td>\n",
       "    </tr>\n",
       "    <tr>\n",
       "      <th>...</th>\n",
       "      <td>...</td>\n",
       "      <td>...</td>\n",
       "    </tr>\n",
       "    <tr>\n",
       "      <th>95</th>\n",
       "      <td>new design2</td>\n",
       "      <td>23.797738</td>\n",
       "    </tr>\n",
       "    <tr>\n",
       "      <th>96</th>\n",
       "      <td>new design2</td>\n",
       "      <td>19.629855</td>\n",
       "    </tr>\n",
       "    <tr>\n",
       "      <th>97</th>\n",
       "      <td>new design2</td>\n",
       "      <td>11.126367</td>\n",
       "    </tr>\n",
       "    <tr>\n",
       "      <th>98</th>\n",
       "      <td>new design2</td>\n",
       "      <td>13.089263</td>\n",
       "    </tr>\n",
       "    <tr>\n",
       "      <th>99</th>\n",
       "      <td>new design2</td>\n",
       "      <td>13.549622</td>\n",
       "    </tr>\n",
       "  </tbody>\n",
       "</table>\n",
       "<p>300 rows × 2 columns</p>\n",
       "</div>"
      ],
      "text/plain": [
       "         design  saving rate\n",
       "0    old design    10.269105\n",
       "1    old design     4.638225\n",
       "2    old design     9.559361\n",
       "3    old design    18.583522\n",
       "4    old design    11.781204\n",
       "..          ...          ...\n",
       "95  new design2    23.797738\n",
       "96  new design2    19.629855\n",
       "97  new design2    11.126367\n",
       "98  new design2    13.089263\n",
       "99  new design2    13.549622\n",
       "\n",
       "[300 rows x 2 columns]"
      ]
     },
     "execution_count": 76,
     "metadata": {
      "tags": []
     },
     "output_type": "execute_result"
    }
   ],
   "source": [
    "df_ab2_numerical"
   ]
  },
  {
   "cell_type": "code",
   "execution_count": 77,
   "metadata": {
    "colab": {
     "base_uri": "https://localhost:8080/",
     "height": 424
    },
    "id": "KsPyqWFpRRW6",
    "outputId": "d364e0ec-8e9c-4636-a473-d7d979bdad00"
   },
   "outputs": [
    {
     "name": "stderr",
     "output_type": "stream",
     "text": [
      "/usr/local/lib/python3.6/dist-packages/seaborn/distributions.py:2551: FutureWarning: `distplot` is a deprecated function and will be removed in a future version. Please adapt your code to use either `displot` (a figure-level function with similar flexibility) or `histplot` (an axes-level function for histograms).\n",
      "  warnings.warn(msg, FutureWarning)\n",
      "/usr/local/lib/python3.6/dist-packages/seaborn/distributions.py:2551: FutureWarning: `distplot` is a deprecated function and will be removed in a future version. Please adapt your code to use either `displot` (a figure-level function with similar flexibility) or `histplot` (an axes-level function for histograms).\n",
      "  warnings.warn(msg, FutureWarning)\n",
      "/usr/local/lib/python3.6/dist-packages/seaborn/distributions.py:2551: FutureWarning: `distplot` is a deprecated function and will be removed in a future version. Please adapt your code to use either `displot` (a figure-level function with similar flexibility) or `histplot` (an axes-level function for histograms).\n",
      "  warnings.warn(msg, FutureWarning)\n"
     ]
    },
    {
     "data": {
      "text/plain": [
       "Text(0, 0.5, 'Frequency')"
      ]
     },
     "execution_count": 77,
     "metadata": {
      "tags": []
     },
     "output_type": "execute_result"
    },
    {
     "data": {
      "image/png": "[encoded data removed]",
      "text/plain": [
       "<Figure size 432x288 with 1 Axes>"
      ]
     },
     "metadata": {
      "tags": []
     },
     "output_type": "display_data"
    }
   ],
   "source": [
    "sns.set_style('darkgrid')\n",
    "sns.distplot(df_ab2_numerical[df_ab2_numerical['design'] == 'old design']['saving rate'],bins = 30, color = 'blue', label ='Old Design')\n",
    "sns.distplot(df_ab2_numerical[df_ab2_numerical['design'] == 'new design1']['saving rate'],bins = 30, color = 'red', label = 'New Design1')\n",
    "sns.distplot(df_ab2_numerical[df_ab2_numerical['design'] == 'new design2']['saving rate'],bins = 30, color = 'green', label = 'New Design2')\n",
    "plt.legend()\n",
    "plt.ylabel('Frequency')"
   ]
  },
  {
   "cell_type": "code",
   "execution_count": 78,
   "metadata": {
    "colab": {
     "base_uri": "https://localhost:8080/",
     "height": 297
    },
    "id": "5YZcSxcsRRap",
    "outputId": "ee93f31c-1db9-4c4c-d93f-72ae68ac09e8"
   },
   "outputs": [
    {
     "data": {
      "text/plain": [
       "<matplotlib.axes._subplots.AxesSubplot at 0x7f582fdbbda0>"
      ]
     },
     "execution_count": 78,
     "metadata": {
      "tags": []
     },
     "output_type": "execute_result"
    },
    {
     "data": {
      "image/png": "[encoded data removed]",
      "text/plain": [
       "<Figure size 432x288 with 1 Axes>"
      ]
     },
     "metadata": {
      "tags": []
     },
     "output_type": "display_data"
    }
   ],
   "source": [
    "sns.boxplot(x = 'design', y = 'saving rate', data = df_ab2_numerical)"
   ]
  },
  {
   "cell_type": "code",
   "execution_count": 79,
   "metadata": {
    "id": "Wga8uWIERRiO"
   },
   "outputs": [],
   "source": [
    "by_design2 = df_ab2_numerical.groupby('design')"
   ]
  },
  {
   "cell_type": "code",
   "execution_count": 80,
   "metadata": {
    "colab": {
     "base_uri": "https://localhost:8080/",
     "height": 194
    },
    "id": "9PE-d_5TSVEc",
    "outputId": "a7497c96-979a-4cbb-b0e5-68f578feced5"
   },
   "outputs": [
    {
     "data": {
      "text/html": [
       "<div>\n",
       "<style scoped>\n",
       "    .dataframe tbody tr th:only-of-type {\n",
       "        vertical-align: middle;\n",
       "    }\n",
       "\n",
       "    .dataframe tbody tr th {\n",
       "        vertical-align: top;\n",
       "    }\n",
       "\n",
       "    .dataframe thead tr th {\n",
       "        text-align: left;\n",
       "    }\n",
       "\n",
       "    .dataframe thead tr:last-of-type th {\n",
       "        text-align: right;\n",
       "    }\n",
       "</style>\n",
       "<table border=\"1\" class=\"dataframe\">\n",
       "  <thead>\n",
       "    <tr>\n",
       "      <th></th>\n",
       "      <th colspan=\"8\" halign=\"left\">saving rate</th>\n",
       "    </tr>\n",
       "    <tr>\n",
       "      <th></th>\n",
       "      <th>count</th>\n",
       "      <th>mean</th>\n",
       "      <th>std</th>\n",
       "      <th>min</th>\n",
       "      <th>25%</th>\n",
       "      <th>50%</th>\n",
       "      <th>75%</th>\n",
       "      <th>max</th>\n",
       "    </tr>\n",
       "    <tr>\n",
       "      <th>design</th>\n",
       "      <th></th>\n",
       "      <th></th>\n",
       "      <th></th>\n",
       "      <th></th>\n",
       "      <th></th>\n",
       "      <th></th>\n",
       "      <th></th>\n",
       "      <th></th>\n",
       "    </tr>\n",
       "  </thead>\n",
       "  <tbody>\n",
       "    <tr>\n",
       "      <th>new design1</th>\n",
       "      <td>100.0</td>\n",
       "      <td>14.338910</td>\n",
       "      <td>4.258769</td>\n",
       "      <td>1.148829</td>\n",
       "      <td>11.450797</td>\n",
       "      <td>14.067359</td>\n",
       "      <td>17.305374</td>\n",
       "      <td>25.140474</td>\n",
       "    </tr>\n",
       "    <tr>\n",
       "      <th>new design2</th>\n",
       "      <td>100.0</td>\n",
       "      <td>15.290368</td>\n",
       "      <td>5.570758</td>\n",
       "      <td>-0.040223</td>\n",
       "      <td>11.520558</td>\n",
       "      <td>14.787150</td>\n",
       "      <td>19.155573</td>\n",
       "      <td>31.411589</td>\n",
       "    </tr>\n",
       "    <tr>\n",
       "      <th>old design</th>\n",
       "      <td>100.0</td>\n",
       "      <td>12.136867</td>\n",
       "      <td>5.713066</td>\n",
       "      <td>1.114219</td>\n",
       "      <td>7.754883</td>\n",
       "      <td>11.764979</td>\n",
       "      <td>16.255174</td>\n",
       "      <td>24.620029</td>\n",
       "    </tr>\n",
       "  </tbody>\n",
       "</table>\n",
       "</div>"
      ],
      "text/plain": [
       "            saving rate                       ...                                 \n",
       "                  count       mean       std  ...        50%        75%        max\n",
       "design                                        ...                                 \n",
       "new design1       100.0  14.338910  4.258769  ...  14.067359  17.305374  25.140474\n",
       "new design2       100.0  15.290368  5.570758  ...  14.787150  19.155573  31.411589\n",
       "old design        100.0  12.136867  5.713066  ...  11.764979  16.255174  24.620029\n",
       "\n",
       "[3 rows x 8 columns]"
      ]
     },
     "execution_count": 80,
     "metadata": {
      "tags": []
     },
     "output_type": "execute_result"
    }
   ],
   "source": [
    "by_design2.describe()"
   ]
  },
  {
   "cell_type": "markdown",
   "metadata": {
    "id": "F2i4SCSnSkl5"
   },
   "source": [
    "H0 : There is no difference in saving rate mean of users that assign to each design\n",
    "<br>\n",
    "H1 : At least there is one pair of saving rate mean (of users that assign to each design) is different."
   ]
  },
  {
   "cell_type": "code",
   "execution_count": 81,
   "metadata": {
    "colab": {
     "base_uri": "https://localhost:8080/"
    },
    "id": "he3x4Qc-Sj4v",
    "outputId": "24c43796-bf7e-4176-943d-27164d35d464"
   },
   "outputs": [
    {
     "data": {
      "text/plain": [
       "F_onewayResult(statistic=9.59473972788488, pvalue=9.165190741553766e-05)"
      ]
     },
     "execution_count": 81,
     "metadata": {
      "tags": []
     },
     "output_type": "execute_result"
    }
   ],
   "source": [
    "f_oneway(df_ab2_numerical[df_ab2_numerical['design'] == 'old design']['saving rate'], \n",
    "        df_ab2_numerical[df_ab2_numerical['design'] == 'new design1']['saving rate'],\n",
    "        df_ab2_numerical[df_ab2_numerical['design'] == 'new design2']['saving rate'])"
   ]
  },
  {
   "cell_type": "markdown",
   "metadata": {
    "id": "3n3QqDpuTjn6"
   },
   "source": [
    "The P-value is lower than our significant level 0.05, it means we have enough evidence to reject the Null Hypothesis. So, At least there is one pair of saving rate mean (of users that assign to each design) is different."
   ]
  },
  {
   "cell_type": "markdown",
   "metadata": {
    "id": "suKndNIW-1z3"
   },
   "source": [
    "## Proportion one population"
   ]
  },
  {
   "cell_type": "markdown",
   "metadata": {
    "id": "L-kfSSsiW_oR"
   },
   "source": [
    "An newly launched online store want to test whether their conversion rate is greater than 50% or not. So they gathered 1000 visitor data randomly and observed whether they are buying or not. As a Data Scientist you are asked to perform a hypothesis testing whether their conversion rate is greater than 50%?"
   ]
  },
  {
   "cell_type": "code",
   "execution_count": 82,
   "metadata": {
    "colab": {
     "base_uri": "https://localhost:8080/"
    },
    "id": "_PUELMXw-qX-",
    "outputId": "9fb7e90a-a9e2-44b2-c5f2-d65e4a35b094"
   },
   "outputs": [
    {
     "name": "stderr",
     "output_type": "stream",
     "text": [
      "/usr/local/lib/python3.6/dist-packages/statsmodels/tools/_testing.py:19: FutureWarning: pandas.util.testing is deprecated. Use the functions in the public API at pandas.testing instead.\n",
      "  import pandas.util.testing as tm\n"
     ]
    }
   ],
   "source": [
    "from statsmodels.stats.proportion import proportions_ztest\n",
    "import pandas as pd\n",
    "import numpy as np"
   ]
  },
  {
   "cell_type": "code",
   "execution_count": 83,
   "metadata": {
    "id": "1EI7QWLBAKgv"
   },
   "outputs": [],
   "source": [
    "visitor_data = np.array(['buying','buying','no buying','buying','no buying','buying','no buying','buying','buying','no buying','buying','buying','buying','no buying','no buying','no buying'])\n",
    "visitor_data_encoded = np.where(visitor_data == 'buying',1,0)"
   ]
  },
  {
   "cell_type": "code",
   "execution_count": 84,
   "metadata": {
    "colab": {
     "base_uri": "https://localhost:8080/"
    },
    "id": "SImPcvwZAhIJ",
    "outputId": "de334ca6-803c-4f9f-fc97-d3493fde1202"
   },
   "outputs": [
    {
     "name": "stdout",
     "output_type": "stream",
     "text": [
      "the succes rate or conversion rate is 0.5625\n"
     ]
    }
   ],
   "source": [
    "n_succes = np.sum(visitor_data_encoded) \n",
    "n = len(visitor_data_encoded)\n",
    "success_rate = n_succes/n\n",
    "print('the succes rate or conversion rate is',success_rate)"
   ]
  },
  {
   "cell_type": "markdown",
   "metadata": {
    "id": "gjBU_qWUBUtA"
   },
   "source": [
    "Ho : p = 0.5\n",
    "<br>\n",
    "Ha : p > 0.5 (is the conversion rate is higher than 50%)"
   ]
  },
  {
   "cell_type": "code",
   "execution_count": 85,
   "metadata": {
    "id": "79liwvKs-qbH"
   },
   "outputs": [],
   "source": [
    "z_stat, p_value = proportions_ztest(n_succes, n, 0.5, alternative = 'larger')"
   ]
  },
  {
   "cell_type": "code",
   "execution_count": 86,
   "metadata": {
    "colab": {
     "base_uri": "https://localhost:8080/"
    },
    "id": "YR_XqsA_-qdt",
    "outputId": "2a5c0624-9219-4ed6-fab2-5200d3520944"
   },
   "outputs": [
    {
     "name": "stdout",
     "output_type": "stream",
     "text": [
      "p-value 0.3071473323317412\n"
     ]
    }
   ],
   "source": [
    "print('p-value',p_value)"
   ]
  },
  {
   "cell_type": "markdown",
   "metadata": {
    "id": "zQVAyJ7ICA1u"
   },
   "source": [
    "p-value is greater than 0.05, with significant level 5% there is not enouhg evidence that the conversion rate is greater than 50%. "
   ]
  },
  {
   "cell_type": "markdown",
   "metadata": {
    "id": "6uHzhfgtCT9W"
   },
   "source": [
    "## Proportion Two Population : Use Case A/B testing categorical measurement"
   ]
  },
  {
   "cell_type": "markdown",
   "metadata": {
    "id": "IBgkrVIlXJdK"
   },
   "source": [
    "A few months later the online store launched a new web design. They randomly assign visitor to layout A or layout B and 1000 for each design. You are asked again to perform hypothesis testing whether the conversion rate is increasing or not ?"
   ]
  },
  {
   "cell_type": "code",
   "execution_count": 87,
   "metadata": {
    "id": "d18bQUSYFwM1"
   },
   "outputs": [],
   "source": [
    "visitor_data_before = np.random.binomial(1, 0.5, 1000)\n",
    "visitor_data_after = np.random.binomial(1, 0.7, 1000)\n",
    "visitor_data_before = np.where(visitor_data_before == 1, 'buying','no buying')\n",
    "visitor_data_after = np.where(visitor_data_after == 1,'buying','no buying')"
   ]
  },
  {
   "cell_type": "code",
   "execution_count": 88,
   "metadata": {
    "id": "ayYXxFjxGbPE"
   },
   "outputs": [],
   "source": [
    "df_before = pd.DataFrame({\n",
    "    'layout':'old layout',\n",
    "    'conversion': visitor_data_before\n",
    "})\n",
    "\n",
    "df_after = pd.DataFrame({\n",
    "    'layout':'new layout',\n",
    "    'conversion': visitor_data_after    \n",
    "})"
   ]
  },
  {
   "cell_type": "code",
   "execution_count": 89,
   "metadata": {
    "colab": {
     "base_uri": "https://localhost:8080/",
     "height": 399
    },
    "id": "ssLXsDZdHYcX",
    "outputId": "2e2e498e-fed2-4174-c78b-a1267bbd2ebd"
   },
   "outputs": [
    {
     "data": {
      "text/html": [
       "<div>\n",
       "<style scoped>\n",
       "    .dataframe tbody tr th:only-of-type {\n",
       "        vertical-align: middle;\n",
       "    }\n",
       "\n",
       "    .dataframe tbody tr th {\n",
       "        vertical-align: top;\n",
       "    }\n",
       "\n",
       "    .dataframe thead th {\n",
       "        text-align: right;\n",
       "    }\n",
       "</style>\n",
       "<table border=\"1\" class=\"dataframe\">\n",
       "  <thead>\n",
       "    <tr style=\"text-align: right;\">\n",
       "      <th></th>\n",
       "      <th>layout</th>\n",
       "      <th>conversion</th>\n",
       "    </tr>\n",
       "  </thead>\n",
       "  <tbody>\n",
       "    <tr>\n",
       "      <th>0</th>\n",
       "      <td>old layout</td>\n",
       "      <td>no buying</td>\n",
       "    </tr>\n",
       "    <tr>\n",
       "      <th>1</th>\n",
       "      <td>old layout</td>\n",
       "      <td>no buying</td>\n",
       "    </tr>\n",
       "    <tr>\n",
       "      <th>2</th>\n",
       "      <td>old layout</td>\n",
       "      <td>no buying</td>\n",
       "    </tr>\n",
       "    <tr>\n",
       "      <th>3</th>\n",
       "      <td>old layout</td>\n",
       "      <td>buying</td>\n",
       "    </tr>\n",
       "    <tr>\n",
       "      <th>4</th>\n",
       "      <td>old layout</td>\n",
       "      <td>buying</td>\n",
       "    </tr>\n",
       "    <tr>\n",
       "      <th>...</th>\n",
       "      <td>...</td>\n",
       "      <td>...</td>\n",
       "    </tr>\n",
       "    <tr>\n",
       "      <th>995</th>\n",
       "      <td>new layout</td>\n",
       "      <td>buying</td>\n",
       "    </tr>\n",
       "    <tr>\n",
       "      <th>996</th>\n",
       "      <td>new layout</td>\n",
       "      <td>no buying</td>\n",
       "    </tr>\n",
       "    <tr>\n",
       "      <th>997</th>\n",
       "      <td>new layout</td>\n",
       "      <td>no buying</td>\n",
       "    </tr>\n",
       "    <tr>\n",
       "      <th>998</th>\n",
       "      <td>new layout</td>\n",
       "      <td>no buying</td>\n",
       "    </tr>\n",
       "    <tr>\n",
       "      <th>999</th>\n",
       "      <td>new layout</td>\n",
       "      <td>buying</td>\n",
       "    </tr>\n",
       "  </tbody>\n",
       "</table>\n",
       "<p>2000 rows × 2 columns</p>\n",
       "</div>"
      ],
      "text/plain": [
       "         layout conversion\n",
       "0    old layout  no buying\n",
       "1    old layout  no buying\n",
       "2    old layout  no buying\n",
       "3    old layout     buying\n",
       "4    old layout     buying\n",
       "..          ...        ...\n",
       "995  new layout     buying\n",
       "996  new layout  no buying\n",
       "997  new layout  no buying\n",
       "998  new layout  no buying\n",
       "999  new layout     buying\n",
       "\n",
       "[2000 rows x 2 columns]"
      ]
     },
     "execution_count": 89,
     "metadata": {
      "tags": []
     },
     "output_type": "execute_result"
    }
   ],
   "source": [
    "df_full = df_before.append(df_after)\n",
    "df_full"
   ]
  },
  {
   "cell_type": "code",
   "execution_count": 90,
   "metadata": {
    "colab": {
     "base_uri": "https://localhost:8080/",
     "height": 135
    },
    "id": "575-4Q9RWa8d",
    "outputId": "f607de1d-fb41-4df3-fc3d-2a3703cb7740"
   },
   "outputs": [
    {
     "data": {
      "text/html": [
       "<div>\n",
       "<style scoped>\n",
       "    .dataframe tbody tr th:only-of-type {\n",
       "        vertical-align: middle;\n",
       "    }\n",
       "\n",
       "    .dataframe tbody tr th {\n",
       "        vertical-align: top;\n",
       "    }\n",
       "\n",
       "    .dataframe thead th {\n",
       "        text-align: right;\n",
       "    }\n",
       "</style>\n",
       "<table border=\"1\" class=\"dataframe\">\n",
       "  <thead>\n",
       "    <tr style=\"text-align: right;\">\n",
       "      <th>conversion</th>\n",
       "      <th>buying</th>\n",
       "      <th>no buying</th>\n",
       "    </tr>\n",
       "    <tr>\n",
       "      <th>layout</th>\n",
       "      <th></th>\n",
       "      <th></th>\n",
       "    </tr>\n",
       "  </thead>\n",
       "  <tbody>\n",
       "    <tr>\n",
       "      <th>new layout</th>\n",
       "      <td>708</td>\n",
       "      <td>292</td>\n",
       "    </tr>\n",
       "    <tr>\n",
       "      <th>old layout</th>\n",
       "      <td>497</td>\n",
       "      <td>503</td>\n",
       "    </tr>\n",
       "  </tbody>\n",
       "</table>\n",
       "</div>"
      ],
      "text/plain": [
       "conversion  buying  no buying\n",
       "layout                       \n",
       "new layout     708        292\n",
       "old layout     497        503"
      ]
     },
     "execution_count": 90,
     "metadata": {
      "tags": []
     },
     "output_type": "execute_result"
    }
   ],
   "source": [
    "pd.crosstab(df_full['layout'], df_full['conversion'])"
   ]
  },
  {
   "cell_type": "code",
   "execution_count": 91,
   "metadata": {
    "colab": {
     "base_uri": "https://localhost:8080/",
     "height": 135
    },
    "id": "jfsVMat2WkgN",
    "outputId": "0727aa11-fd7f-4386-c568-7015838a4878"
   },
   "outputs": [
    {
     "data": {
      "text/html": [
       "<div>\n",
       "<style scoped>\n",
       "    .dataframe tbody tr th:only-of-type {\n",
       "        vertical-align: middle;\n",
       "    }\n",
       "\n",
       "    .dataframe tbody tr th {\n",
       "        vertical-align: top;\n",
       "    }\n",
       "\n",
       "    .dataframe thead th {\n",
       "        text-align: right;\n",
       "    }\n",
       "</style>\n",
       "<table border=\"1\" class=\"dataframe\">\n",
       "  <thead>\n",
       "    <tr style=\"text-align: right;\">\n",
       "      <th>conversion</th>\n",
       "      <th>buying</th>\n",
       "      <th>no buying</th>\n",
       "    </tr>\n",
       "    <tr>\n",
       "      <th>layout</th>\n",
       "      <th></th>\n",
       "      <th></th>\n",
       "    </tr>\n",
       "  </thead>\n",
       "  <tbody>\n",
       "    <tr>\n",
       "      <th>new layout</th>\n",
       "      <td>0.708</td>\n",
       "      <td>0.292</td>\n",
       "    </tr>\n",
       "    <tr>\n",
       "      <th>old layout</th>\n",
       "      <td>0.497</td>\n",
       "      <td>0.503</td>\n",
       "    </tr>\n",
       "  </tbody>\n",
       "</table>\n",
       "</div>"
      ],
      "text/plain": [
       "conversion  buying  no buying\n",
       "layout                       \n",
       "new layout   0.708      0.292\n",
       "old layout   0.497      0.503"
      ]
     },
     "execution_count": 91,
     "metadata": {
      "tags": []
     },
     "output_type": "execute_result"
    }
   ],
   "source": [
    "pd.crosstab(df_full['layout'], df_full['conversion'], normalize = 0)"
   ]
  },
  {
   "cell_type": "code",
   "execution_count": 92,
   "metadata": {
    "colab": {
     "base_uri": "https://localhost:8080/",
     "height": 342
    },
    "id": "OqGbnDWmWout",
    "outputId": "64728b36-fd98-4ca5-d65d-4be388c02da0"
   },
   "outputs": [
    {
     "data": {
      "text/plain": [
       "<matplotlib.axes._subplots.AxesSubplot at 0x7f582fc61c18>"
      ]
     },
     "execution_count": 92,
     "metadata": {
      "tags": []
     },
     "output_type": "execute_result"
    },
    {
     "data": {
      "image/png": "[encoded data removed]",
      "text/plain": [
       "<Figure size 432x288 with 1 Axes>"
      ]
     },
     "metadata": {
      "tags": []
     },
     "output_type": "display_data"
    }
   ],
   "source": [
    "pd.crosstab(df_full['layout'], df_full['conversion'], normalize = 0).plot(kind='bar')"
   ]
  },
  {
   "cell_type": "code",
   "execution_count": 93,
   "metadata": {
    "colab": {
     "base_uri": "https://localhost:8080/"
    },
    "id": "CGL1sSn1CWyX",
    "outputId": "e3fe2d45-87b7-4b3b-931d-76b630bf0d31"
   },
   "outputs": [
    {
     "name": "stdout",
     "output_type": "stream",
     "text": [
      "the conversion rate before change the web layout is 0.497\n"
     ]
    }
   ],
   "source": [
    "n_succes_before = len(df_full[(df_full['layout']=='old layout')&(df_full['conversion']=='buying')]) \n",
    "n_before = len(df_full[(df_full['layout']=='old layout')])\n",
    "success_rate_before = n_succes_before/n_before\n",
    "print('the conversion rate before change the web layout is',success_rate_before)"
   ]
  },
  {
   "cell_type": "code",
   "execution_count": 94,
   "metadata": {
    "colab": {
     "base_uri": "https://localhost:8080/"
    },
    "id": "Vzm19qr2CW1b",
    "outputId": "4b9606c0-8f41-4a45-fed8-f4f65cb23893"
   },
   "outputs": [
    {
     "name": "stdout",
     "output_type": "stream",
     "text": [
      "the conversion rate after change the web layout is 0.708\n"
     ]
    }
   ],
   "source": [
    "n_succes_after = len(df_full[(df_full['layout']=='new layout')&(df_full['conversion']=='buying')])\n",
    "n_after = len(df_full[(df_full['layout']=='new layout')])\n",
    "success_rate_after = n_succes_after/n_after\n",
    "print('the conversion rate after change the web layout is',success_rate_after)"
   ]
  },
  {
   "cell_type": "markdown",
   "metadata": {
    "id": "wWidjzffDXUA"
   },
   "source": [
    "Ho : p-after = p-before\n",
    "<br>\n",
    "Ha : p-after > p-before (the conversion rate after change the web layout is increasing)\n",
    "<br>\n",
    "or\n",
    "<br>\n",
    "Ho: Amazon.com visitors that receive Layout B will not have higher end-of-visit conversion rates compares to visitors that receive Layout A​\n",
    "​<br>\n",
    "Ha: Amazon.com visitors that receive Layout B will have higher end-of-visit conversion rates compared to visitors that receive layout A​\n"
   ]
  },
  {
   "cell_type": "code",
   "execution_count": 95,
   "metadata": {
    "id": "ApkKY6XtDWmA"
   },
   "outputs": [],
   "source": [
    "count = np.array([n_succes_before,n_succes_after])\n",
    "n_obs = np.array([n_before,n_after])"
   ]
  },
  {
   "cell_type": "code",
   "execution_count": 96,
   "metadata": {
    "id": "VLExCnF2DWvH"
   },
   "outputs": [],
   "source": [
    "z_stat, p_value = proportions_ztest(count, n_obs, alternative = 'smaller')"
   ]
  },
  {
   "cell_type": "code",
   "execution_count": 97,
   "metadata": {
    "colab": {
     "base_uri": "https://localhost:8080/"
    },
    "id": "CfjpITFnExhH",
    "outputId": "3f52f5af-7a6c-4918-fcef-97c31bae4ff3"
   },
   "outputs": [
    {
     "name": "stdout",
     "output_type": "stream",
     "text": [
      "0.00000\n"
     ]
    }
   ],
   "source": [
    "print('{0:0.5f}'.format(p_value))"
   ]
  },
  {
   "cell_type": "markdown",
   "metadata": {
    "id": "m4_IvGYtJEOp"
   },
   "source": [
    "p-value is lower than 0.05, with significant level 5% there is enough evidence that Amazon.com visitors that receive Layout B will have higher end-of-visit conversion rates compared to visitors that receive layout A​\n"
   ]
  },
  {
   "cell_type": "markdown",
   "metadata": {
    "id": "UoN92M-uRxRK"
   },
   "source": [
    "## Manual Calculation one sample T-Test for mean"
   ]
  },
  {
   "cell_type": "code",
   "execution_count": 98,
   "metadata": {
    "id": "XHu6aBENXJXE"
   },
   "outputs": [],
   "source": [
    "from scipy import stats"
   ]
  },
  {
   "cell_type": "code",
   "execution_count": 99,
   "metadata": {
    "id": "1gmMg2wSRyAS"
   },
   "outputs": [],
   "source": [
    "age = [27, 26, 27, 29, 23, 30, 23, 31, 29, 31, 30, 23, 34, 24, 24, 25, 30,\n",
    "       26, 28, 32]"
   ]
  },
  {
   "cell_type": "markdown",
   "metadata": {
    "id": "z05T34yfUfAf"
   },
   "source": [
    "\\begin{align}\n",
    "H_o : \\mu = 26\n",
    "\\end{align}\n",
    "\\begin{align}\n",
    "H_a : \\mu > 26 \\textrm{  or  } H_a : \\mu < 30 \\textrm{  or  } H_a : \\mu \\neq 26 \n",
    "\\end{align}"
   ]
  },
  {
   "cell_type": "code",
   "execution_count": 100,
   "metadata": {
    "colab": {
     "base_uri": "https://localhost:8080/"
    },
    "id": "15co2DygSlcw",
    "outputId": "2c259232-7f9f-4ba5-8441-a0244f272472"
   },
   "outputs": [
    {
     "name": "stdout",
     "output_type": "stream",
     "text": [
      "rata-rata contoh 27.6\n",
      "standar deviasi contoh 3.299122690400554\n",
      "banyaknya contoh 20\n"
     ]
    }
   ],
   "source": [
    "x_bar = np.mean(age)\n",
    "s = np.std(age, ddof = 1)\n",
    "n = len(age)\n",
    "mu = 26\n",
    "\n",
    "print(\"rata-rata contoh\",x_bar)\n",
    "print(\"standar deviasi contoh\",s)\n",
    "print(\"banyaknya contoh\",n)"
   ]
  },
  {
   "cell_type": "markdown",
   "metadata": {
    "id": "mEaiyOB_828u"
   },
   "source": [
    "\\begin{align}\n",
    "T = \\frac{\\bar{x} - \\mu}{s/\\sqrt{n}}\n",
    "\\end{align}"
   ]
  },
  {
   "cell_type": "code",
   "execution_count": 101,
   "metadata": {
    "colab": {
     "base_uri": "https://localhost:8080/"
    },
    "id": "w_xE3iHd9HzM",
    "outputId": "b2500d45-14b5-4bce-e85c-9824827b97f1"
   },
   "outputs": [
    {
     "name": "stdout",
     "output_type": "stream",
     "text": [
      "2.168884942902981\n"
     ]
    }
   ],
   "source": [
    "T = (x_bar - mu)/(s/np.sqrt(n))\n",
    "print(T)"
   ]
  },
  {
   "cell_type": "markdown",
   "metadata": {
    "id": "Q0tHwo1SX246"
   },
   "source": [
    "### 1. rejection region if the alternate hypothesis"
   ]
  },
  {
   "cell_type": "markdown",
   "metadata": {
    "id": "pa4p2HTwYA9h"
   },
   "source": [
    "\\begin{align}\n",
    "H_a : \\mu > 26\n",
    "\\end{align}\n",
    "\n",
    "the rejection region will be:\n",
    "\n",
    "\\begin{align}\n",
    "T > T_\\alpha,db = n-1\n",
    "\\end{align}\n",
    "\n",
    "\\begin{align}\n",
    "T_\\alpha,db = n-1 \\textrm{ is value of T when the probability is } \\alpha \\textrm{ and will be used as critical value}\n",
    "\\end{align}\n",
    " "
   ]
  },
  {
   "cell_type": "code",
   "execution_count": 102,
   "metadata": {
    "colab": {
     "base_uri": "https://localhost:8080/"
    },
    "id": "uq6hCADOYiJR",
    "outputId": "c7bf9651-a86b-4f29-d100-4e63fce6efc3"
   },
   "outputs": [
    {
     "name": "stdout",
     "output_type": "stream",
     "text": [
      "critical value 1.729132811521367\n"
     ]
    }
   ],
   "source": [
    "alpha = 0.05\n",
    "T_alfa_db = stats.t.ppf(1-alpha,n-1)\n",
    "print('critical value',T_alfa_db)"
   ]
  },
  {
   "cell_type": "markdown",
   "metadata": {
    "id": "W4WwS4ZTasP7"
   },
   "source": [
    "T statistics is greater than the critical value(reject Ho)\n",
    "\\begin{align}\n",
    "T = 2.168 > T_\\alpha,db = n-1 = 1.729\n",
    "\\end{align}"
   ]
  },
  {
   "cell_type": "markdown",
   "metadata": {
    "id": "SiyfUpOhXyGB"
   },
   "source": [
    "rejection region using p-value (reject Ho)"
   ]
  },
  {
   "cell_type": "code",
   "execution_count": 103,
   "metadata": {
    "id": "ZfMb7l5UnA77"
   },
   "outputs": [],
   "source": [
    "x_axis = [i/10 for i in range(-35,36)]\n",
    "y_axis = [stats.t.pdf(i,n-1) for i in x_axis]"
   ]
  },
  {
   "cell_type": "code",
   "execution_count": 104,
   "metadata": {
    "colab": {
     "base_uri": "https://localhost:8080/",
     "height": 283
    },
    "id": "BbrOOCkPnij9",
    "outputId": "6c1412ef-8221-4c00-e502-c80790e3b839"
   },
   "outputs": [
    {
     "data": {
      "text/plain": [
       "[<matplotlib.lines.Line2D at 0x7f582fc1b470>]"
      ]
     },
     "execution_count": 104,
     "metadata": {
      "tags": []
     },
     "output_type": "execute_result"
    },
    {
     "data": {
      "image/png": "[encoded data removed]",
      "text/plain": [
       "<Figure size 432x288 with 1 Axes>"
      ]
     },
     "metadata": {
      "tags": []
     },
     "output_type": "display_data"
    }
   ],
   "source": [
    "plt.plot(x_axis,y_axis)"
   ]
  },
  {
   "cell_type": "code",
   "execution_count": 105,
   "metadata": {
    "colab": {
     "base_uri": "https://localhost:8080/"
    },
    "id": "O_fV7ZXRSlkQ",
    "outputId": "6d0ed278-3586-43ad-beba-19ec3e31669a"
   },
   "outputs": [
    {
     "name": "stdout",
     "output_type": "stream",
     "text": [
      "p-value = P(T>2.168) =  0.021494127565753255\n"
     ]
    }
   ],
   "source": [
    "print('p-value = P(T>2.168) = ',stats.t.sf(T,n-1))"
   ]
  },
  {
   "cell_type": "markdown",
   "metadata": {
    "id": "bS9HR4b2ivzD"
   },
   "source": [
    "rejection region using p-value scipy (reject Ho)"
   ]
  },
  {
   "cell_type": "code",
   "execution_count": 106,
   "metadata": {
    "id": "zCXWT5yNjPsh"
   },
   "outputs": [],
   "source": [
    "tstat, p_value = ttest_1samp(age,26) "
   ]
  },
  {
   "cell_type": "code",
   "execution_count": 107,
   "metadata": {
    "colab": {
     "base_uri": "https://localhost:8080/"
    },
    "id": "ky1SMItViwAP",
    "outputId": "109ac769-68e5-4384-9b66-04ee16535200"
   },
   "outputs": [
    {
     "name": "stdout",
     "output_type": "stream",
     "text": [
      "t statistics 2.168884942902981\n",
      "t statistics 0.021494127565753255\n"
     ]
    }
   ],
   "source": [
    "print('t statistics',tstat)\n",
    "print('t statistics',p_value/2) # divided by 2 because only one sidedd"
   ]
  },
  {
   "cell_type": "markdown",
   "metadata": {
    "id": "5rNMWkHssoUx"
   },
   "source": [
    "with significant level 5%, we have enough evidence that age mean of population is greater than 26"
   ]
  },
  {
   "cell_type": "markdown",
   "metadata": {
    "id": "5DfmJQIhYoxC"
   },
   "source": [
    "![alt text](https://lh4.googleusercontent.com/dH_I0v2ho0IGauXHkoPRDXSsvSbdOodk3y_m1Lbr_qmXyrT-FosXZUB32cr-xP7QIwO_gI8Zy-D3rznFqj9Igg2SmH9HE2JQCTdAHUEW)"
   ]
  },
  {
   "cell_type": "markdown",
   "metadata": {
    "id": "4xGtjIs-cAgR"
   },
   "source": [
    "### 2. rejection region if the alternate hypothesis"
   ]
  },
  {
   "cell_type": "markdown",
   "metadata": {
    "id": "X5LW1-N7cAgU"
   },
   "source": [
    "\\begin{align}\n",
    "H_a : \\mu < 26\n",
    "\\end{align}\n",
    "\n",
    "the rejection region will be:\n",
    "\n",
    "\\begin{align}\n",
    "T < -T_\\alpha,db = n-1\n",
    "\\end{align}\n",
    "\n",
    "\\begin{align}\n",
    "T_\\alpha,db = n-1 \\textrm{ is value of T when the probability is } \\alpha \\textrm{ and will be used as critical value}\n",
    "\\end{align}\n",
    " "
   ]
  },
  {
   "cell_type": "code",
   "execution_count": 108,
   "metadata": {
    "colab": {
     "base_uri": "https://localhost:8080/"
    },
    "id": "AUWqI58vcAgV",
    "outputId": "6dd2e0da-65d1-4cef-9934-d6325d734c75"
   },
   "outputs": [
    {
     "name": "stdout",
     "output_type": "stream",
     "text": [
      "critical value -1.729132811521367\n"
     ]
    }
   ],
   "source": [
    "alpha = 0.05\n",
    "T_alfa_db = stats.t.ppf(1-alpha,n-1)\n",
    "print('critical value',-T_alfa_db)"
   ]
  },
  {
   "cell_type": "markdown",
   "metadata": {
    "id": "bDdGzQZucAgd"
   },
   "source": [
    "T statistics is greater than the critical value (don't reject Ho):\n",
    "\\begin{align}\n",
    "T = 2.168 > -T_\\alpha,db = n-1 = -1.729\n",
    "\\end{align}"
   ]
  },
  {
   "cell_type": "markdown",
   "metadata": {
    "id": "egBPhKn6fAjK"
   },
   "source": [
    "rejection region using p-value"
   ]
  },
  {
   "cell_type": "code",
   "execution_count": 109,
   "metadata": {
    "colab": {
     "base_uri": "https://localhost:8080/"
    },
    "id": "dK3L3n5OfAjN",
    "outputId": "468dd022-eb5b-40cd-8f6c-c731c262ac37"
   },
   "outputs": [
    {
     "name": "stdout",
     "output_type": "stream",
     "text": [
      "p-value 0.9785058724342468\n"
     ]
    }
   ],
   "source": [
    "print('p-value',stats.t.sf(-T,n-1))"
   ]
  },
  {
   "cell_type": "markdown",
   "metadata": {
    "id": "vmnar2qXvt5Z"
   },
   "source": [
    "hyphotesis testing using of one sample ttest for mean in scipy is not supported when: \n",
    "1. this cases : mean sample is greater (27.6) than hypotetical mean (26) and the alternate is less than ($H_a : \\mu < 26$)\n",
    "2. mean sample is less than hypotetical mean and the alternate is greater than"
   ]
  },
  {
   "cell_type": "markdown",
   "metadata": {
    "id": "sZaoJxpffqPB"
   },
   "source": [
    "### 3. rejection region if the alternate hypothesis"
   ]
  },
  {
   "cell_type": "markdown",
   "metadata": {
    "id": "i9UTmJbpf2ht"
   },
   "source": [
    "\\begin{align}\n",
    "H_a : \\mu \\neq 26\n",
    "\\end{align}\n",
    "\n",
    "the rejection region will be:\n",
    "\n",
    "\\begin{align}\n",
    "T < -T_\\alpha/2,db = n-1 \\textrm{ or } T > T_\\alpha/2,db = n-1\n",
    "\\end{align}\n",
    "\n",
    "\\begin{align}\n",
    "T_\\alpha,db = n-1 \\textrm{ is value of T when the probability is } \\alpha \\textrm{ and will be used as critical value}\n",
    "\\end{align}\n",
    " "
   ]
  },
  {
   "cell_type": "code",
   "execution_count": 110,
   "metadata": {
    "colab": {
     "base_uri": "https://localhost:8080/"
    },
    "id": "28EEpWiLgwKS",
    "outputId": "9969ef9e-9ea9-4c04-e20b-5e2007d334a7"
   },
   "outputs": [
    {
     "name": "stdout",
     "output_type": "stream",
     "text": [
      "critical value left -2.093024054408263\n",
      "or\n",
      "critical value right 2.093024054408263\n"
     ]
    }
   ],
   "source": [
    "alpha = 0.05\n",
    "T_alfa2_db = stats.t.ppf(1-alpha/2,n-1)\n",
    "print('critical value left',-T_alfa2_db)\n",
    "print('or')\n",
    "print('critical value right',T_alfa2_db)"
   ]
  },
  {
   "cell_type": "markdown",
   "metadata": {
    "id": "jqxtMDcYhb7x"
   },
   "source": [
    "T statistics is greater than the critical value (reject Ho):\n",
    "\\begin{align}\n",
    "T = 2.168 > T_\\alpha/2,db = n-1 = 2.093\n",
    "\\end{align}"
   ]
  },
  {
   "cell_type": "markdown",
   "metadata": {
    "id": "RIaNiZQDiSZj"
   },
   "source": [
    "rejection region using p-value (reject Ho)"
   ]
  },
  {
   "cell_type": "code",
   "execution_count": 111,
   "metadata": {
    "colab": {
     "base_uri": "https://localhost:8080/"
    },
    "id": "PkDLktu2iSZm",
    "outputId": "750ccf51-966b-4d63-b53a-ec22d5823491"
   },
   "outputs": [
    {
     "name": "stdout",
     "output_type": "stream",
     "text": [
      "p-value 0.04298825513150651\n"
     ]
    }
   ],
   "source": [
    "print('p-value',stats.t.sf(abs(T),n-1)*2)"
   ]
  },
  {
   "cell_type": "markdown",
   "metadata": {
    "id": "rorRZudWse2q"
   },
   "source": [
    "rejection region using p-value scipy (reject Ho)"
   ]
  },
  {
   "cell_type": "code",
   "execution_count": 112,
   "metadata": {
    "id": "CV0THzcNse2s"
   },
   "outputs": [],
   "source": [
    "tstat, p_value = ttest_1samp(age,26) "
   ]
  },
  {
   "cell_type": "code",
   "execution_count": 113,
   "metadata": {
    "colab": {
     "base_uri": "https://localhost:8080/"
    },
    "id": "ikzWFm4Nse2x",
    "outputId": "e2b8087a-4fa5-4c8d-c7bf-9e688345c087"
   },
   "outputs": [
    {
     "name": "stdout",
     "output_type": "stream",
     "text": [
      "t statistics 2.168884942902981\n",
      "t statistics 0.04298825513150651\n"
     ]
    }
   ],
   "source": [
    "print('t statistics',tstat)\n",
    "print('t statistics',p_value) "
   ]
  },
  {
   "cell_type": "markdown",
   "metadata": {
    "id": "C4p3-6EOs5Lh"
   },
   "source": [
    "with significant level 5%, we have enough evidence that age mean of population is not equal to 26"
   ]
  },
  {
   "cell_type": "markdown",
   "metadata": {
    "id": "LrYNS9le1EXi"
   },
   "source": [
    "## Manual Calculation one way Anova"
   ]
  },
  {
   "cell_type": "code",
   "execution_count": 114,
   "metadata": {
    "ExecuteTime": {
     "end_time": "2019-08-21T03:33:42.963397Z",
     "start_time": "2019-08-21T03:33:42.959438Z"
    },
    "id": "OfXIEvGu6DfS"
   },
   "outputs": [],
   "source": [
    "transport = []\n",
    "method = ['Walking ', 'Public ', 'Private ']\n",
    "for i in method:\n",
    "    transport.extend((i*10).split())"
   ]
  },
  {
   "cell_type": "code",
   "execution_count": 115,
   "metadata": {
    "ExecuteTime": {
     "end_time": "2019-08-21T03:43:05.346483Z",
     "start_time": "2019-08-21T03:43:05.336513Z"
    },
    "colab": {
     "base_uri": "https://localhost:8080/",
     "height": 0
    },
    "id": "OgrpwqTo6DfU",
    "outputId": "81048035-85cc-4dde-96e6-f553042df3e6"
   },
   "outputs": [
    {
     "data": {
      "text/html": [
       "<div>\n",
       "<style scoped>\n",
       "    .dataframe tbody tr th:only-of-type {\n",
       "        vertical-align: middle;\n",
       "    }\n",
       "\n",
       "    .dataframe tbody tr th {\n",
       "        vertical-align: top;\n",
       "    }\n",
       "\n",
       "    .dataframe thead th {\n",
       "        text-align: right;\n",
       "    }\n",
       "</style>\n",
       "<table border=\"1\" class=\"dataframe\">\n",
       "  <thead>\n",
       "    <tr style=\"text-align: right;\">\n",
       "      <th></th>\n",
       "      <th>Transportation</th>\n",
       "      <th>Study Hour</th>\n",
       "    </tr>\n",
       "  </thead>\n",
       "  <tbody>\n",
       "    <tr>\n",
       "      <th>19</th>\n",
       "      <td>Public</td>\n",
       "      <td>7</td>\n",
       "    </tr>\n",
       "    <tr>\n",
       "      <th>28</th>\n",
       "      <td>Private</td>\n",
       "      <td>7</td>\n",
       "    </tr>\n",
       "    <tr>\n",
       "      <th>3</th>\n",
       "      <td>Walking</td>\n",
       "      <td>6</td>\n",
       "    </tr>\n",
       "    <tr>\n",
       "      <th>23</th>\n",
       "      <td>Private</td>\n",
       "      <td>6</td>\n",
       "    </tr>\n",
       "    <tr>\n",
       "      <th>17</th>\n",
       "      <td>Public</td>\n",
       "      <td>5</td>\n",
       "    </tr>\n",
       "  </tbody>\n",
       "</table>\n",
       "</div>"
      ],
      "text/plain": [
       "   Transportation  Study Hour\n",
       "19         Public           7\n",
       "28        Private           7\n",
       "3         Walking           6\n",
       "23        Private           6\n",
       "17         Public           5"
      ]
     },
     "execution_count": 115,
     "metadata": {
      "tags": []
     },
     "output_type": "execute_result"
    }
   ],
   "source": [
    "transportdf = pd.concat([pd.Series(transport, name = 'Transportation'), \n",
    "                     pd.Series([5,4,5,6,5,3,2,4,5,5,7,7,5,6,4,6,5,5,6,7,5,4,5,6,6,5,5,5,7,7], name = 'Study Hour')], axis =1)\n",
    "transportdf.sample(5)"
   ]
  },
  {
   "cell_type": "code",
   "execution_count": 116,
   "metadata": {
    "colab": {
     "base_uri": "https://localhost:8080/",
     "height": 0
    },
    "id": "YQyp5uCk6Hto",
    "outputId": "3527c716-9a9f-47d2-ece6-cec7310ab8ff"
   },
   "outputs": [
    {
     "data": {
      "text/html": [
       "<div>\n",
       "<style scoped>\n",
       "    .dataframe tbody tr th:only-of-type {\n",
       "        vertical-align: middle;\n",
       "    }\n",
       "\n",
       "    .dataframe tbody tr th {\n",
       "        vertical-align: top;\n",
       "    }\n",
       "\n",
       "    .dataframe thead th {\n",
       "        text-align: right;\n",
       "    }\n",
       "</style>\n",
       "<table border=\"1\" class=\"dataframe\">\n",
       "  <thead>\n",
       "    <tr style=\"text-align: right;\">\n",
       "      <th></th>\n",
       "      <th>Transportation</th>\n",
       "      <th>Study Hour</th>\n",
       "    </tr>\n",
       "  </thead>\n",
       "  <tbody>\n",
       "    <tr>\n",
       "      <th>0</th>\n",
       "      <td>Walking</td>\n",
       "      <td>5</td>\n",
       "    </tr>\n",
       "    <tr>\n",
       "      <th>1</th>\n",
       "      <td>Walking</td>\n",
       "      <td>4</td>\n",
       "    </tr>\n",
       "    <tr>\n",
       "      <th>2</th>\n",
       "      <td>Walking</td>\n",
       "      <td>5</td>\n",
       "    </tr>\n",
       "    <tr>\n",
       "      <th>3</th>\n",
       "      <td>Walking</td>\n",
       "      <td>6</td>\n",
       "    </tr>\n",
       "    <tr>\n",
       "      <th>4</th>\n",
       "      <td>Walking</td>\n",
       "      <td>5</td>\n",
       "    </tr>\n",
       "    <tr>\n",
       "      <th>5</th>\n",
       "      <td>Walking</td>\n",
       "      <td>3</td>\n",
       "    </tr>\n",
       "    <tr>\n",
       "      <th>6</th>\n",
       "      <td>Walking</td>\n",
       "      <td>2</td>\n",
       "    </tr>\n",
       "    <tr>\n",
       "      <th>7</th>\n",
       "      <td>Walking</td>\n",
       "      <td>4</td>\n",
       "    </tr>\n",
       "    <tr>\n",
       "      <th>8</th>\n",
       "      <td>Walking</td>\n",
       "      <td>5</td>\n",
       "    </tr>\n",
       "    <tr>\n",
       "      <th>9</th>\n",
       "      <td>Walking</td>\n",
       "      <td>5</td>\n",
       "    </tr>\n",
       "    <tr>\n",
       "      <th>10</th>\n",
       "      <td>Public</td>\n",
       "      <td>7</td>\n",
       "    </tr>\n",
       "    <tr>\n",
       "      <th>11</th>\n",
       "      <td>Public</td>\n",
       "      <td>7</td>\n",
       "    </tr>\n",
       "    <tr>\n",
       "      <th>12</th>\n",
       "      <td>Public</td>\n",
       "      <td>5</td>\n",
       "    </tr>\n",
       "    <tr>\n",
       "      <th>13</th>\n",
       "      <td>Public</td>\n",
       "      <td>6</td>\n",
       "    </tr>\n",
       "    <tr>\n",
       "      <th>14</th>\n",
       "      <td>Public</td>\n",
       "      <td>4</td>\n",
       "    </tr>\n",
       "    <tr>\n",
       "      <th>15</th>\n",
       "      <td>Public</td>\n",
       "      <td>6</td>\n",
       "    </tr>\n",
       "    <tr>\n",
       "      <th>16</th>\n",
       "      <td>Public</td>\n",
       "      <td>5</td>\n",
       "    </tr>\n",
       "    <tr>\n",
       "      <th>17</th>\n",
       "      <td>Public</td>\n",
       "      <td>5</td>\n",
       "    </tr>\n",
       "    <tr>\n",
       "      <th>18</th>\n",
       "      <td>Public</td>\n",
       "      <td>6</td>\n",
       "    </tr>\n",
       "    <tr>\n",
       "      <th>19</th>\n",
       "      <td>Public</td>\n",
       "      <td>7</td>\n",
       "    </tr>\n",
       "    <tr>\n",
       "      <th>20</th>\n",
       "      <td>Private</td>\n",
       "      <td>5</td>\n",
       "    </tr>\n",
       "    <tr>\n",
       "      <th>21</th>\n",
       "      <td>Private</td>\n",
       "      <td>4</td>\n",
       "    </tr>\n",
       "    <tr>\n",
       "      <th>22</th>\n",
       "      <td>Private</td>\n",
       "      <td>5</td>\n",
       "    </tr>\n",
       "    <tr>\n",
       "      <th>23</th>\n",
       "      <td>Private</td>\n",
       "      <td>6</td>\n",
       "    </tr>\n",
       "    <tr>\n",
       "      <th>24</th>\n",
       "      <td>Private</td>\n",
       "      <td>6</td>\n",
       "    </tr>\n",
       "    <tr>\n",
       "      <th>25</th>\n",
       "      <td>Private</td>\n",
       "      <td>5</td>\n",
       "    </tr>\n",
       "    <tr>\n",
       "      <th>26</th>\n",
       "      <td>Private</td>\n",
       "      <td>5</td>\n",
       "    </tr>\n",
       "    <tr>\n",
       "      <th>27</th>\n",
       "      <td>Private</td>\n",
       "      <td>5</td>\n",
       "    </tr>\n",
       "    <tr>\n",
       "      <th>28</th>\n",
       "      <td>Private</td>\n",
       "      <td>7</td>\n",
       "    </tr>\n",
       "    <tr>\n",
       "      <th>29</th>\n",
       "      <td>Private</td>\n",
       "      <td>7</td>\n",
       "    </tr>\n",
       "  </tbody>\n",
       "</table>\n",
       "</div>"
      ],
      "text/plain": [
       "   Transportation  Study Hour\n",
       "0         Walking           5\n",
       "1         Walking           4\n",
       "2         Walking           5\n",
       "3         Walking           6\n",
       "4         Walking           5\n",
       "5         Walking           3\n",
       "6         Walking           2\n",
       "7         Walking           4\n",
       "8         Walking           5\n",
       "9         Walking           5\n",
       "10         Public           7\n",
       "11         Public           7\n",
       "12         Public           5\n",
       "13         Public           6\n",
       "14         Public           4\n",
       "15         Public           6\n",
       "16         Public           5\n",
       "17         Public           5\n",
       "18         Public           6\n",
       "19         Public           7\n",
       "20        Private           5\n",
       "21        Private           4\n",
       "22        Private           5\n",
       "23        Private           6\n",
       "24        Private           6\n",
       "25        Private           5\n",
       "26        Private           5\n",
       "27        Private           5\n",
       "28        Private           7\n",
       "29        Private           7"
      ]
     },
     "execution_count": 116,
     "metadata": {
      "tags": []
     },
     "output_type": "execute_result"
    }
   ],
   "source": [
    "transportdf"
   ]
  },
  {
   "cell_type": "code",
   "execution_count": 117,
   "metadata": {
    "colab": {
     "base_uri": "https://localhost:8080/",
     "height": 0
    },
    "id": "uUIAQIZh6Hws",
    "outputId": "4979ead3-73d4-4356-8b5c-bcfc756804af"
   },
   "outputs": [
    {
     "data": {
      "text/html": [
       "<div>\n",
       "<style scoped>\n",
       "    .dataframe tbody tr th:only-of-type {\n",
       "        vertical-align: middle;\n",
       "    }\n",
       "\n",
       "    .dataframe tbody tr th {\n",
       "        vertical-align: top;\n",
       "    }\n",
       "\n",
       "    .dataframe thead th {\n",
       "        text-align: right;\n",
       "    }\n",
       "</style>\n",
       "<table border=\"1\" class=\"dataframe\">\n",
       "  <thead>\n",
       "    <tr style=\"text-align: right;\">\n",
       "      <th></th>\n",
       "      <th>Study Hour</th>\n",
       "    </tr>\n",
       "    <tr>\n",
       "      <th>Transportation</th>\n",
       "      <th></th>\n",
       "    </tr>\n",
       "  </thead>\n",
       "  <tbody>\n",
       "    <tr>\n",
       "      <th>Private</th>\n",
       "      <td>5.5</td>\n",
       "    </tr>\n",
       "    <tr>\n",
       "      <th>Public</th>\n",
       "      <td>5.8</td>\n",
       "    </tr>\n",
       "    <tr>\n",
       "      <th>Walking</th>\n",
       "      <td>4.4</td>\n",
       "    </tr>\n",
       "  </tbody>\n",
       "</table>\n",
       "</div>"
      ],
      "text/plain": [
       "                Study Hour\n",
       "Transportation            \n",
       "Private                5.5\n",
       "Public                 5.8\n",
       "Walking                4.4"
      ]
     },
     "execution_count": 117,
     "metadata": {
      "tags": []
     },
     "output_type": "execute_result"
    }
   ],
   "source": [
    "transportdf.pivot_table(index = 'Transportation', aggfunc='mean')"
   ]
  },
  {
   "cell_type": "code",
   "execution_count": 118,
   "metadata": {
    "colab": {
     "base_uri": "https://localhost:8080/"
    },
    "id": "H1o6OkHEXJKX",
    "outputId": "a8afb2fc-e6d6-4aaa-e197-db6839d58199"
   },
   "outputs": [
    {
     "data": {
      "text/plain": [
       "5.233333333333333"
      ]
     },
     "execution_count": 118,
     "metadata": {
      "tags": []
     },
     "output_type": "execute_result"
    }
   ],
   "source": [
    "transportdf['Study Hour'].mean()"
   ]
  },
  {
   "cell_type": "code",
   "execution_count": 119,
   "metadata": {
    "colab": {
     "base_uri": "https://localhost:8080/"
    },
    "id": "A4s0CxULV3qb",
    "outputId": "37b42b42-2edb-4478-e4d0-6285a6e1277a"
   },
   "outputs": [
    {
     "data": {
      "text/plain": [
       "Walking    10\n",
       "Public     10\n",
       "Private    10\n",
       "Name: Transportation, dtype: int64"
      ]
     },
     "execution_count": 119,
     "metadata": {
      "tags": []
     },
     "output_type": "execute_result"
    }
   ],
   "source": [
    "transportdf['Transportation'].value_counts()"
   ]
  },
  {
   "cell_type": "markdown",
   "metadata": {
    "id": "SbyIeXg88jni"
   },
   "source": [
    "### MSBeetween"
   ]
  },
  {
   "cell_type": "markdown",
   "metadata": {
    "id": "8KMvJUvaT8Ii"
   },
   "source": [
    "\\begin{align}\n",
    "SS_{between} = \\sum_{j=1}^{k} n_j (\\bar{x}_{.j}-\\bar{x})^2 = n_1 (\\bar{x}_{.1}-\\bar{x})^2 + n_2 (\\bar{x}_{.2}-\\bar{x})^2 + n_3 (\\bar{x}_{.3}-\\bar{x})^2 \n",
    "\\end{align}"
   ]
  },
  {
   "cell_type": "markdown",
   "metadata": {
    "id": "3ScbK-Ikaixj"
   },
   "source": [
    "\\begin{align}\n",
    "MS_{between} = \\frac{SS_{between}} {k-1}\n",
    "\\end{align}"
   ]
  },
  {
   "cell_type": "markdown",
   "metadata": {
    "id": "AhByZ0q-WNiQ"
   },
   "source": [
    "\\begin{gather*}\n",
    "n_1, n_2, n_3 = 10 \\\\\n",
    "\\bar{x}_{.1}, \\bar{x}_{.2}, \\bar{x}_{.3} = 5.4, 5.8, 4.4 \\\\\n",
    "\\bar{x} = 5.2333333.. \\\\\n",
    "k =3 \n",
    "\\end{gather*}\n"
   ]
  },
  {
   "cell_type": "markdown",
   "metadata": {
    "id": "jEoC6s_hXYZA"
   },
   "source": [
    "\\begin{equation}\n",
    "\\begin{split}\n",
    "SS_{between} & = 10 (5.4-5.23333)^2 + 10 (5.8-5.23333)^2 + 10 (4.4-5.23333)^2 \\\\\n",
    "             & = 6.889 + 3.249 + 0.729 \\\\\n",
    "             & = 10.876\n",
    "\\end{split}\n",
    "\\end{equation}"
   ]
  },
  {
   "cell_type": "markdown",
   "metadata": {
    "id": "uKRBROSXaWmG"
   },
   "source": [
    "\\begin{align}\n",
    "MS_{between} = \\frac{10.876} {2} = 5.4335\n",
    "\\end{align}"
   ]
  },
  {
   "cell_type": "code",
   "execution_count": 120,
   "metadata": {
    "id": "3sfQ1fiMU6s4"
   },
   "outputs": [],
   "source": [
    "x_1 = transportdf[transportdf['Transportation']=='Public']['Study Hour'].mean()\n",
    "x_2 = transportdf[transportdf['Transportation']=='Private']['Study Hour'].mean()\n",
    "x_3 = transportdf[transportdf['Transportation']=='Walking']['Study Hour'].mean()\n",
    "n1,n2,n3 = 10,10,10\n",
    "x_bar = transportdf['Study Hour'].mean()\n",
    "k = 3"
   ]
  },
  {
   "cell_type": "code",
   "execution_count": 121,
   "metadata": {
    "id": "9SPU5tUtaseE"
   },
   "outputs": [],
   "source": [
    "SS_between = n1*(x_1-x_bar)**2 + n2*(x_2-x_bar)**2 + n3*(x_3-x_bar)**2"
   ]
  },
  {
   "cell_type": "code",
   "execution_count": 122,
   "metadata": {
    "id": "SfgpHNGUU60b"
   },
   "outputs": [],
   "source": [
    "MS_between = SS_between/(k-1)"
   ]
  },
  {
   "cell_type": "code",
   "execution_count": 123,
   "metadata": {
    "colab": {
     "base_uri": "https://localhost:8080/"
    },
    "id": "2iqPfAZ-bt5l",
    "outputId": "b4ef95f8-ab5b-41eb-b713-d9251945b336"
   },
   "outputs": [
    {
     "data": {
      "text/plain": [
       "5.433333333333329"
      ]
     },
     "execution_count": 123,
     "metadata": {
      "tags": []
     },
     "output_type": "execute_result"
    }
   ],
   "source": [
    "MS_between"
   ]
  },
  {
   "cell_type": "markdown",
   "metadata": {
    "id": "AKO5NsPV8mJ7"
   },
   "source": [
    "### MSWithin"
   ]
  },
  {
   "cell_type": "code",
   "execution_count": 124,
   "metadata": {
    "colab": {
     "base_uri": "https://localhost:8080/",
     "height": 0
    },
    "id": "I_bDEVzney7-",
    "outputId": "a2e7a6f7-120b-47b7-ccc8-3ba09f77404b"
   },
   "outputs": [
    {
     "data": {
      "text/html": [
       "<div>\n",
       "<style scoped>\n",
       "    .dataframe tbody tr th:only-of-type {\n",
       "        vertical-align: middle;\n",
       "    }\n",
       "\n",
       "    .dataframe tbody tr th {\n",
       "        vertical-align: top;\n",
       "    }\n",
       "\n",
       "    .dataframe thead th {\n",
       "        text-align: right;\n",
       "    }\n",
       "</style>\n",
       "<table border=\"1\" class=\"dataframe\">\n",
       "  <thead>\n",
       "    <tr style=\"text-align: right;\">\n",
       "      <th></th>\n",
       "      <th>Transportation</th>\n",
       "      <th>Study Hour</th>\n",
       "    </tr>\n",
       "  </thead>\n",
       "  <tbody>\n",
       "    <tr>\n",
       "      <th>0</th>\n",
       "      <td>Walking</td>\n",
       "      <td>5</td>\n",
       "    </tr>\n",
       "    <tr>\n",
       "      <th>1</th>\n",
       "      <td>Walking</td>\n",
       "      <td>4</td>\n",
       "    </tr>\n",
       "    <tr>\n",
       "      <th>2</th>\n",
       "      <td>Walking</td>\n",
       "      <td>5</td>\n",
       "    </tr>\n",
       "    <tr>\n",
       "      <th>3</th>\n",
       "      <td>Walking</td>\n",
       "      <td>6</td>\n",
       "    </tr>\n",
       "    <tr>\n",
       "      <th>4</th>\n",
       "      <td>Walking</td>\n",
       "      <td>5</td>\n",
       "    </tr>\n",
       "    <tr>\n",
       "      <th>5</th>\n",
       "      <td>Walking</td>\n",
       "      <td>3</td>\n",
       "    </tr>\n",
       "    <tr>\n",
       "      <th>6</th>\n",
       "      <td>Walking</td>\n",
       "      <td>2</td>\n",
       "    </tr>\n",
       "    <tr>\n",
       "      <th>7</th>\n",
       "      <td>Walking</td>\n",
       "      <td>4</td>\n",
       "    </tr>\n",
       "    <tr>\n",
       "      <th>8</th>\n",
       "      <td>Walking</td>\n",
       "      <td>5</td>\n",
       "    </tr>\n",
       "    <tr>\n",
       "      <th>9</th>\n",
       "      <td>Walking</td>\n",
       "      <td>5</td>\n",
       "    </tr>\n",
       "    <tr>\n",
       "      <th>10</th>\n",
       "      <td>Public</td>\n",
       "      <td>7</td>\n",
       "    </tr>\n",
       "    <tr>\n",
       "      <th>11</th>\n",
       "      <td>Public</td>\n",
       "      <td>7</td>\n",
       "    </tr>\n",
       "    <tr>\n",
       "      <th>12</th>\n",
       "      <td>Public</td>\n",
       "      <td>5</td>\n",
       "    </tr>\n",
       "    <tr>\n",
       "      <th>13</th>\n",
       "      <td>Public</td>\n",
       "      <td>6</td>\n",
       "    </tr>\n",
       "    <tr>\n",
       "      <th>14</th>\n",
       "      <td>Public</td>\n",
       "      <td>4</td>\n",
       "    </tr>\n",
       "    <tr>\n",
       "      <th>15</th>\n",
       "      <td>Public</td>\n",
       "      <td>6</td>\n",
       "    </tr>\n",
       "    <tr>\n",
       "      <th>16</th>\n",
       "      <td>Public</td>\n",
       "      <td>5</td>\n",
       "    </tr>\n",
       "    <tr>\n",
       "      <th>17</th>\n",
       "      <td>Public</td>\n",
       "      <td>5</td>\n",
       "    </tr>\n",
       "    <tr>\n",
       "      <th>18</th>\n",
       "      <td>Public</td>\n",
       "      <td>6</td>\n",
       "    </tr>\n",
       "    <tr>\n",
       "      <th>19</th>\n",
       "      <td>Public</td>\n",
       "      <td>7</td>\n",
       "    </tr>\n",
       "    <tr>\n",
       "      <th>20</th>\n",
       "      <td>Private</td>\n",
       "      <td>5</td>\n",
       "    </tr>\n",
       "    <tr>\n",
       "      <th>21</th>\n",
       "      <td>Private</td>\n",
       "      <td>4</td>\n",
       "    </tr>\n",
       "    <tr>\n",
       "      <th>22</th>\n",
       "      <td>Private</td>\n",
       "      <td>5</td>\n",
       "    </tr>\n",
       "    <tr>\n",
       "      <th>23</th>\n",
       "      <td>Private</td>\n",
       "      <td>6</td>\n",
       "    </tr>\n",
       "    <tr>\n",
       "      <th>24</th>\n",
       "      <td>Private</td>\n",
       "      <td>6</td>\n",
       "    </tr>\n",
       "    <tr>\n",
       "      <th>25</th>\n",
       "      <td>Private</td>\n",
       "      <td>5</td>\n",
       "    </tr>\n",
       "    <tr>\n",
       "      <th>26</th>\n",
       "      <td>Private</td>\n",
       "      <td>5</td>\n",
       "    </tr>\n",
       "    <tr>\n",
       "      <th>27</th>\n",
       "      <td>Private</td>\n",
       "      <td>5</td>\n",
       "    </tr>\n",
       "    <tr>\n",
       "      <th>28</th>\n",
       "      <td>Private</td>\n",
       "      <td>7</td>\n",
       "    </tr>\n",
       "    <tr>\n",
       "      <th>29</th>\n",
       "      <td>Private</td>\n",
       "      <td>7</td>\n",
       "    </tr>\n",
       "  </tbody>\n",
       "</table>\n",
       "</div>"
      ],
      "text/plain": [
       "   Transportation  Study Hour\n",
       "0         Walking           5\n",
       "1         Walking           4\n",
       "2         Walking           5\n",
       "3         Walking           6\n",
       "4         Walking           5\n",
       "5         Walking           3\n",
       "6         Walking           2\n",
       "7         Walking           4\n",
       "8         Walking           5\n",
       "9         Walking           5\n",
       "10         Public           7\n",
       "11         Public           7\n",
       "12         Public           5\n",
       "13         Public           6\n",
       "14         Public           4\n",
       "15         Public           6\n",
       "16         Public           5\n",
       "17         Public           5\n",
       "18         Public           6\n",
       "19         Public           7\n",
       "20        Private           5\n",
       "21        Private           4\n",
       "22        Private           5\n",
       "23        Private           6\n",
       "24        Private           6\n",
       "25        Private           5\n",
       "26        Private           5\n",
       "27        Private           5\n",
       "28        Private           7\n",
       "29        Private           7"
      ]
     },
     "execution_count": 124,
     "metadata": {
      "tags": []
     },
     "output_type": "execute_result"
    }
   ],
   "source": [
    "transportdf"
   ]
  },
  {
   "cell_type": "code",
   "execution_count": 125,
   "metadata": {
    "colab": {
     "base_uri": "https://localhost:8080/",
     "height": 0
    },
    "id": "w-tWK1NVe3pW",
    "outputId": "71cdfb09-56fc-4536-8416-90fe8ac0ed1c"
   },
   "outputs": [
    {
     "data": {
      "text/html": [
       "<div>\n",
       "<style scoped>\n",
       "    .dataframe tbody tr th:only-of-type {\n",
       "        vertical-align: middle;\n",
       "    }\n",
       "\n",
       "    .dataframe tbody tr th {\n",
       "        vertical-align: top;\n",
       "    }\n",
       "\n",
       "    .dataframe thead th {\n",
       "        text-align: right;\n",
       "    }\n",
       "</style>\n",
       "<table border=\"1\" class=\"dataframe\">\n",
       "  <thead>\n",
       "    <tr style=\"text-align: right;\">\n",
       "      <th></th>\n",
       "      <th>Study Hour</th>\n",
       "    </tr>\n",
       "    <tr>\n",
       "      <th>Transportation</th>\n",
       "      <th></th>\n",
       "    </tr>\n",
       "  </thead>\n",
       "  <tbody>\n",
       "    <tr>\n",
       "      <th>Private</th>\n",
       "      <td>5.5</td>\n",
       "    </tr>\n",
       "    <tr>\n",
       "      <th>Public</th>\n",
       "      <td>5.8</td>\n",
       "    </tr>\n",
       "    <tr>\n",
       "      <th>Walking</th>\n",
       "      <td>4.4</td>\n",
       "    </tr>\n",
       "  </tbody>\n",
       "</table>\n",
       "</div>"
      ],
      "text/plain": [
       "                Study Hour\n",
       "Transportation            \n",
       "Private                5.5\n",
       "Public                 5.8\n",
       "Walking                4.4"
      ]
     },
     "execution_count": 125,
     "metadata": {
      "tags": []
     },
     "output_type": "execute_result"
    }
   ],
   "source": [
    "transportdf.pivot_table(index = 'Transportation', aggfunc='mean')"
   ]
  },
  {
   "cell_type": "markdown",
   "metadata": {
    "id": "2Vg6yIprciyv"
   },
   "source": [
    "\\begin{align}\n",
    "SS_{within} = \\sum_{i=1}^{n_1} (x_{i1}-\\bar{x}_{.1})^2 + \\sum_{i=1}^{n_2} (x_{i1}-\\bar{x}_{.2})^2 + \\sum_{i=1}^{n_3} (x_{i1}-\\bar{x}_{.3})^2\n",
    "\\end{align}"
   ]
  },
  {
   "cell_type": "markdown",
   "metadata": {
    "id": "FijS0FFKdMlA"
   },
   "source": [
    "\\begin{align}\n",
    "MS_{within} = \\frac{SS_{within}}{((n_1-1) + (n_2-1) + (n_3-1))}\n",
    "\\end{align}"
   ]
  },
  {
   "cell_type": "markdown",
   "metadata": {
    "id": "2_Dn26sGeAK8"
   },
   "source": [
    "\\begin{equation}\n",
    "\\begin{split}\n",
    "SS_{within} & =  (5-5.5)^2 + ... + (7-5.5)^2 + (7-5.8)^2 + ... + (7-5.8)^2 + (5-4.4)^2 + ... + (5-4.4)^2\\\\\n",
    "             & = 9.6 + 8.5 + 12.39 \\\\\n",
    "             & = 30.5\n",
    "\\end{split}\n",
    "\\end{equation}"
   ]
  },
  {
   "cell_type": "markdown",
   "metadata": {
    "id": "EaW30fjdhPCo"
   },
   "source": [
    "\\begin{align}\n",
    "MS_{within} = \\frac{30.5}{27} = 1.1296\n",
    "\\end{align}"
   ]
  },
  {
   "cell_type": "code",
   "execution_count": 126,
   "metadata": {
    "colab": {
     "base_uri": "https://localhost:8080/"
    },
    "id": "fU786C3M6H81",
    "outputId": "55de7e3a-ff46-4519-bb8f-f4505bfb5ca2"
   },
   "outputs": [
    {
     "data": {
      "text/plain": [
       "30.5"
      ]
     },
     "execution_count": 126,
     "metadata": {
      "tags": []
     },
     "output_type": "execute_result"
    }
   ],
   "source": [
    "SS_within = sum([(i-transportdf[transportdf['Transportation']=='Public']['Study Hour'].mean())**2 for i in transportdf[transportdf['Transportation']=='Public']['Study Hour']]) + sum([(i-transportdf[transportdf['Transportation']=='Private']['Study Hour'].mean())**2 for i in transportdf[transportdf['Transportation']=='Private']['Study Hour']]) + sum([(i-transportdf[transportdf['Transportation']=='Walking']['Study Hour'].mean())**2 for i in transportdf[transportdf['Transportation']=='Walking']['Study Hour']])\n",
    "SS_within"
   ]
  },
  {
   "cell_type": "code",
   "execution_count": 127,
   "metadata": {
    "colab": {
     "base_uri": "https://localhost:8080/"
    },
    "id": "Tes_7WQxhoSl",
    "outputId": "c8ca5c8b-eb1f-4dc1-ee86-847da0538f92"
   },
   "outputs": [
    {
     "data": {
      "text/plain": [
       "1.1296296296296295"
      ]
     },
     "execution_count": 127,
     "metadata": {
      "tags": []
     },
     "output_type": "execute_result"
    }
   ],
   "source": [
    "MS_within = SS_within/27\n",
    "MS_within"
   ]
  },
  {
   "cell_type": "markdown",
   "metadata": {
    "id": "avzG156gby9L"
   },
   "source": [
    "### F Statistics"
   ]
  },
  {
   "cell_type": "markdown",
   "metadata": {
    "id": "vHyusl4miKeI"
   },
   "source": [
    "\\begin{align}\n",
    "F_{stat} = \\frac {MS_{between}}{MS_{within}}\n",
    "\\end{align}"
   ]
  },
  {
   "cell_type": "code",
   "execution_count": 128,
   "metadata": {
    "colab": {
     "base_uri": "https://localhost:8080/"
    },
    "id": "9cgxWckoh6yD",
    "outputId": "7396b4b5-b6b2-404b-cab0-c979beeef856"
   },
   "outputs": [
    {
     "data": {
      "text/plain": [
       "4.8098360655737675"
      ]
     },
     "execution_count": 128,
     "metadata": {
      "tags": []
     },
     "output_type": "execute_result"
    }
   ],
   "source": [
    "F_stat = MS_between/MS_within\n",
    "F_stat"
   ]
  },
  {
   "cell_type": "markdown",
   "metadata": {
    "id": "G86zzjznkiit"
   },
   "source": [
    "### Rejection Region"
   ]
  },
  {
   "cell_type": "markdown",
   "metadata": {
    "id": "BunP6ALGkmO5"
   },
   "source": [
    "\\begin{align}\n",
    "F_{stat} > F_{\\alpha,db_1,db_2}\n",
    "\\end{align}"
   ]
  },
  {
   "cell_type": "markdown",
   "metadata": {
    "id": "X9Sw-dgUifBA"
   },
   "source": [
    "Critical Value (reject Ho)"
   ]
  },
  {
   "cell_type": "markdown",
   "metadata": {
    "id": "cn92_15liuf5"
   },
   "source": [
    "\\begin{gather}\n",
    "F_{\\alpha,db_1,db_2} \\\\\n",
    "alpha = 0.05 \\\\\n",
    "db_1 = k-1 \\\\\n",
    "db_2 = ((n_1-1) + (n_2-1) + (n_3-1))\n",
    "\\end{gather}"
   ]
  },
  {
   "cell_type": "code",
   "execution_count": 129,
   "metadata": {
    "colab": {
     "base_uri": "https://localhost:8080/"
    },
    "id": "XQuPRMu2h_kI",
    "outputId": "3ee64b74-c4db-40f8-b313-2c75c20199f2"
   },
   "outputs": [
    {
     "name": "stdout",
     "output_type": "stream",
     "text": [
      "critical value F_alpha 0.05139086243879718\n"
     ]
    }
   ],
   "source": [
    "print(\"critical value F_alpha\",stats.f.ppf(0.05,2,27))"
   ]
  },
  {
   "cell_type": "markdown",
   "metadata": {
    "id": "98E24l4Xlm9o"
   },
   "source": [
    "\\begin{align}\n",
    "F_{stat}  = 4.80983 > F_{\\alpha,db_1,db_2} = 0.0513\n",
    "\\end{align}"
   ]
  },
  {
   "cell_type": "markdown",
   "metadata": {
    "id": "8BxcHS9Cjxq8"
   },
   "source": [
    "p-value (reject Ho)"
   ]
  },
  {
   "cell_type": "code",
   "execution_count": 130,
   "metadata": {
    "colab": {
     "base_uri": "https://localhost:8080/"
    },
    "id": "0HZrdo90j4qX",
    "outputId": "211411e3-56af-4043-fa2b-4f0a445c6f5d"
   },
   "outputs": [
    {
     "name": "stdout",
     "output_type": "stream",
     "text": [
      "p-value 0.01634051423618613\n"
     ]
    }
   ],
   "source": [
    "print('p-value',stats.f.sf(F_stat,2,27))"
   ]
  },
  {
   "cell_type": "markdown",
   "metadata": {
    "id": "Pvz_mALSk2X8"
   },
   "source": [
    "ANOVA scipy (reject Ho)"
   ]
  },
  {
   "cell_type": "code",
   "execution_count": 131,
   "metadata": {
    "colab": {
     "base_uri": "https://localhost:8080/"
    },
    "id": "CXAH6SltlWWy",
    "outputId": "d462811c-9cef-4927-fea6-d467c56bf6a2"
   },
   "outputs": [
    {
     "data": {
      "text/plain": [
       "F_onewayResult(statistic=4.809836065573772, pvalue=0.0163405142361861)"
      ]
     },
     "execution_count": 131,
     "metadata": {
      "tags": []
     },
     "output_type": "execute_result"
    }
   ],
   "source": [
    "#Importing One-Way ANOVA from Scipy. One-Way ANOVA is called F one-way as well because the test follow the F- Distribution\n",
    "from scipy.stats import f_oneway\n",
    "f_oneway(transportdf[transportdf['Transportation'] == 'Walking']['Study Hour'], \n",
    "        transportdf[transportdf['Transportation'] == 'Public']['Study Hour'],\n",
    "        transportdf[transportdf['Transportation'] == 'Private']['Study Hour'])"
   ]
  },
  {
   "cell_type": "markdown",
   "metadata": {
    "id": "Y0UlOX9YcWQ-"
   },
   "source": [
    "# Non-Parametric Statistics"
   ]
  },
  {
   "cell_type": "markdown",
   "metadata": {
    "id": "ybrF7QMWcs1H"
   },
   "source": [
    "## Mann Whitney"
   ]
  },
  {
   "cell_type": "code",
   "execution_count": 132,
   "metadata": {
    "ExecuteTime": {
     "end_time": "2019-08-21T03:17:24.818364Z",
     "start_time": "2019-08-21T03:17:24.808426Z"
    },
    "id": "R3PTZdH1dYjX"
   },
   "outputs": [],
   "source": [
    "hat = pd.concat([pd.Series(data = ['Yes', 'No', 'Yes', 'Yes', 'No', 'No', 'No','Yes','Yes', 'No','Yes','Yes','No','Yes','No','Yes','No','No','No','Yes'],name = 'Wearing Hat'),\n",
    "                pd.Series(data = [70,85,80,45,80,70,90,70,55,80,75,60,70,85,80,85,55,75,65,70], name ='Score')],axis = 1)"
   ]
  },
  {
   "cell_type": "code",
   "execution_count": 133,
   "metadata": {
    "colab": {
     "base_uri": "https://localhost:8080/",
     "height": 634
    },
    "id": "uHKSv3TidYjd",
    "outputId": "b8d2ebe5-98b5-4a88-a7f6-cb78b218507d"
   },
   "outputs": [
    {
     "data": {
      "text/html": [
       "<div>\n",
       "<style scoped>\n",
       "    .dataframe tbody tr th:only-of-type {\n",
       "        vertical-align: middle;\n",
       "    }\n",
       "\n",
       "    .dataframe tbody tr th {\n",
       "        vertical-align: top;\n",
       "    }\n",
       "\n",
       "    .dataframe thead th {\n",
       "        text-align: right;\n",
       "    }\n",
       "</style>\n",
       "<table border=\"1\" class=\"dataframe\">\n",
       "  <thead>\n",
       "    <tr style=\"text-align: right;\">\n",
       "      <th></th>\n",
       "      <th>Wearing Hat</th>\n",
       "      <th>Score</th>\n",
       "    </tr>\n",
       "  </thead>\n",
       "  <tbody>\n",
       "    <tr>\n",
       "      <th>0</th>\n",
       "      <td>Yes</td>\n",
       "      <td>70</td>\n",
       "    </tr>\n",
       "    <tr>\n",
       "      <th>1</th>\n",
       "      <td>No</td>\n",
       "      <td>85</td>\n",
       "    </tr>\n",
       "    <tr>\n",
       "      <th>2</th>\n",
       "      <td>Yes</td>\n",
       "      <td>80</td>\n",
       "    </tr>\n",
       "    <tr>\n",
       "      <th>3</th>\n",
       "      <td>Yes</td>\n",
       "      <td>45</td>\n",
       "    </tr>\n",
       "    <tr>\n",
       "      <th>4</th>\n",
       "      <td>No</td>\n",
       "      <td>80</td>\n",
       "    </tr>\n",
       "    <tr>\n",
       "      <th>5</th>\n",
       "      <td>No</td>\n",
       "      <td>70</td>\n",
       "    </tr>\n",
       "    <tr>\n",
       "      <th>6</th>\n",
       "      <td>No</td>\n",
       "      <td>90</td>\n",
       "    </tr>\n",
       "    <tr>\n",
       "      <th>7</th>\n",
       "      <td>Yes</td>\n",
       "      <td>70</td>\n",
       "    </tr>\n",
       "    <tr>\n",
       "      <th>8</th>\n",
       "      <td>Yes</td>\n",
       "      <td>55</td>\n",
       "    </tr>\n",
       "    <tr>\n",
       "      <th>9</th>\n",
       "      <td>No</td>\n",
       "      <td>80</td>\n",
       "    </tr>\n",
       "    <tr>\n",
       "      <th>10</th>\n",
       "      <td>Yes</td>\n",
       "      <td>75</td>\n",
       "    </tr>\n",
       "    <tr>\n",
       "      <th>11</th>\n",
       "      <td>Yes</td>\n",
       "      <td>60</td>\n",
       "    </tr>\n",
       "    <tr>\n",
       "      <th>12</th>\n",
       "      <td>No</td>\n",
       "      <td>70</td>\n",
       "    </tr>\n",
       "    <tr>\n",
       "      <th>13</th>\n",
       "      <td>Yes</td>\n",
       "      <td>85</td>\n",
       "    </tr>\n",
       "    <tr>\n",
       "      <th>14</th>\n",
       "      <td>No</td>\n",
       "      <td>80</td>\n",
       "    </tr>\n",
       "    <tr>\n",
       "      <th>15</th>\n",
       "      <td>Yes</td>\n",
       "      <td>85</td>\n",
       "    </tr>\n",
       "    <tr>\n",
       "      <th>16</th>\n",
       "      <td>No</td>\n",
       "      <td>55</td>\n",
       "    </tr>\n",
       "    <tr>\n",
       "      <th>17</th>\n",
       "      <td>No</td>\n",
       "      <td>75</td>\n",
       "    </tr>\n",
       "    <tr>\n",
       "      <th>18</th>\n",
       "      <td>No</td>\n",
       "      <td>65</td>\n",
       "    </tr>\n",
       "    <tr>\n",
       "      <th>19</th>\n",
       "      <td>Yes</td>\n",
       "      <td>70</td>\n",
       "    </tr>\n",
       "  </tbody>\n",
       "</table>\n",
       "</div>"
      ],
      "text/plain": [
       "   Wearing Hat  Score\n",
       "0          Yes     70\n",
       "1           No     85\n",
       "2          Yes     80\n",
       "3          Yes     45\n",
       "4           No     80\n",
       "5           No     70\n",
       "6           No     90\n",
       "7          Yes     70\n",
       "8          Yes     55\n",
       "9           No     80\n",
       "10         Yes     75\n",
       "11         Yes     60\n",
       "12          No     70\n",
       "13         Yes     85\n",
       "14          No     80\n",
       "15         Yes     85\n",
       "16          No     55\n",
       "17          No     75\n",
       "18          No     65\n",
       "19         Yes     70"
      ]
     },
     "execution_count": 133,
     "metadata": {
      "tags": []
     },
     "output_type": "execute_result"
    }
   ],
   "source": [
    "hat"
   ]
  },
  {
   "cell_type": "code",
   "execution_count": 134,
   "metadata": {
    "ExecuteTime": {
     "end_time": "2019-08-21T03:17:33.208836Z",
     "start_time": "2019-08-21T03:17:31.235622Z"
    },
    "colab": {
     "base_uri": "https://localhost:8080/",
     "height": 388
    },
    "id": "OdVXHYwwdYjg",
    "outputId": "fe7dfb45-6876-4089-e2a6-e47a90f1c22d"
   },
   "outputs": [
    {
     "name": "stderr",
     "output_type": "stream",
     "text": [
      "/usr/local/lib/python3.6/dist-packages/seaborn/distributions.py:2551: FutureWarning: `distplot` is a deprecated function and will be removed in a future version. Please adapt your code to use either `displot` (a figure-level function with similar flexibility) or `histplot` (an axes-level function for histograms).\n",
      "  warnings.warn(msg, FutureWarning)\n",
      "/usr/local/lib/python3.6/dist-packages/seaborn/distributions.py:2551: FutureWarning: `distplot` is a deprecated function and will be removed in a future version. Please adapt your code to use either `displot` (a figure-level function with similar flexibility) or `histplot` (an axes-level function for histograms).\n",
      "  warnings.warn(msg, FutureWarning)\n"
     ]
    },
    {
     "data": {
      "text/plain": [
       "Text(0, 0.5, 'Frequency')"
      ]
     },
     "execution_count": 134,
     "metadata": {
      "tags": []
     },
     "output_type": "execute_result"
    },
    {
     "data": {
      "image/png": "[encoded data removed]",
      "text/plain": [
       "<Figure size 432x288 with 1 Axes>"
      ]
     },
     "metadata": {
      "tags": []
     },
     "output_type": "display_data"
    }
   ],
   "source": [
    "sns.set_style('darkgrid')\n",
    "sns.distplot(hat[hat['Wearing Hat'] == 'Yes']['Score'], color = 'red', label = 'Wearing Hat')\n",
    "sns.distplot(hat[hat['Wearing Hat'] == 'No']['Score'], color = 'green', label ='Not Wearing Hat')\n",
    "plt.legend()\n",
    "plt.ylabel('Frequency')"
   ]
  },
  {
   "cell_type": "markdown",
   "metadata": {
    "id": "Ml8Bg7PudYjj"
   },
   "source": [
    "The distribution is seems to follow the Normal Distribution, let's try use the Independent T-Test from the Scipy"
   ]
  },
  {
   "cell_type": "code",
   "execution_count": 135,
   "metadata": {
    "colab": {
     "base_uri": "https://localhost:8080/",
     "height": 297
    },
    "id": "MADoo3fadYjj",
    "outputId": "17e47a08-ce4c-4e41-f6ac-7f7d3240d85b"
   },
   "outputs": [
    {
     "data": {
      "text/plain": [
       "<matplotlib.axes._subplots.AxesSubplot at 0x7f58301f4be0>"
      ]
     },
     "execution_count": 135,
     "metadata": {
      "tags": []
     },
     "output_type": "execute_result"
    },
    {
     "data": {
      "image/png": "[encoded data removed]",
      "text/plain": [
       "<Figure size 432x288 with 1 Axes>"
      ]
     },
     "metadata": {
      "tags": []
     },
     "output_type": "display_data"
    }
   ],
   "source": [
    "sns.boxplot(x = 'Wearing Hat', y = 'Score', data = hat)"
   ]
  },
  {
   "cell_type": "markdown",
   "metadata": {
    "id": "Rs9Fa2bKdYjl"
   },
   "source": [
    "Ho : Median Popolation of Score not wearing hat = Median Popolation of Score wearing hat \n",
    "<br>\n",
    "Ha : Median Popolation of Score not wearing hat > Median Popolation of Score wearing hat"
   ]
  },
  {
   "cell_type": "code",
   "execution_count": 136,
   "metadata": {
    "ExecuteTime": {
     "end_time": "2019-08-21T03:17:40.817552Z",
     "start_time": "2019-08-21T03:17:40.809571Z"
    },
    "colab": {
     "base_uri": "https://localhost:8080/"
    },
    "id": "BWyEcdWZdYjn",
    "outputId": "1b53491a-e8a8-4e2f-ae94-36cc77c5201a"
   },
   "outputs": [
    {
     "name": "stdout",
     "output_type": "stream",
     "text": [
      "U-Statistic: 61.5\n",
      "P-Value: 0.1996116335589066\n"
     ]
    }
   ],
   "source": [
    "from scipy.stats import mannwhitneyu\n",
    "result = list(mannwhitneyu(\n",
    "    hat[hat['Wearing Hat'] == 'No']['Score'], \n",
    "    hat[hat['Wearing Hat'] == 'Yes']['Score'],\n",
    "    alternative = 'greater' # M (no hat) > M (no hat)\n",
    "))\n",
    "print('U-Statistic:', result[0])\n",
    "print('P-Value:', result[1])"
   ]
  },
  {
   "cell_type": "markdown",
   "metadata": {
    "id": "Kd6L-ydBgdgw"
   },
   "source": [
    "The P-value is higher than our significant level 0.05, it means we don't have enough evidence to reject the Null Hypothesis. So, Mean Popolation Median of Score not wearing hat are still aproximately equal to Mean Popolation Median of Score wearing hat."
   ]
  },
  {
   "cell_type": "markdown",
   "metadata": {
    "id": "f9cMpynAcvyE"
   },
   "source": [
    "## Wilcoxon"
   ]
  },
  {
   "cell_type": "markdown",
   "metadata": {
    "id": "wAgJ0qXcfX2r"
   },
   "source": [
    "reaction time on driving skill before and while using cell phone"
   ]
  },
  {
   "cell_type": "code",
   "execution_count": 137,
   "metadata": {
    "id": "rOo-ztbcfX2v"
   },
   "outputs": [],
   "source": [
    "with_cell_phone = [604,556,540,522,469,544,513,470,556,531,599,537,619,536,554,467]\n",
    "without_cell_phone = [636,623,615,672,601,600,542,554,543,520,609,559,595,565,573,554]\n",
    "\n",
    "df_paired = pd.DataFrame({\n",
    "    'no':without_cell_phone,\n",
    "    'yes':with_cell_phone\n",
    "})"
   ]
  },
  {
   "cell_type": "code",
   "execution_count": 138,
   "metadata": {
    "id": "_I_0kOITfX22"
   },
   "outputs": [],
   "source": [
    "df_paired['diff'] = df_paired['yes'] - df_paired['no']"
   ]
  },
  {
   "cell_type": "code",
   "execution_count": 139,
   "metadata": {
    "colab": {
     "base_uri": "https://localhost:8080/",
     "height": 340
    },
    "id": "o1nKAhZVfX27",
    "outputId": "dbcb85a2-3d76-414a-8a14-0285d3ddffc5"
   },
   "outputs": [
    {
     "data": {
      "text/html": [
       "<div>\n",
       "<style scoped>\n",
       "    .dataframe tbody tr th:only-of-type {\n",
       "        vertical-align: middle;\n",
       "    }\n",
       "\n",
       "    .dataframe tbody tr th {\n",
       "        vertical-align: top;\n",
       "    }\n",
       "\n",
       "    .dataframe thead th {\n",
       "        text-align: right;\n",
       "    }\n",
       "</style>\n",
       "<table border=\"1\" class=\"dataframe\">\n",
       "  <thead>\n",
       "    <tr style=\"text-align: right;\">\n",
       "      <th></th>\n",
       "      <th>no</th>\n",
       "      <th>yes</th>\n",
       "      <th>diff</th>\n",
       "    </tr>\n",
       "  </thead>\n",
       "  <tbody>\n",
       "    <tr>\n",
       "      <th>0</th>\n",
       "      <td>636</td>\n",
       "      <td>604</td>\n",
       "      <td>-32</td>\n",
       "    </tr>\n",
       "    <tr>\n",
       "      <th>1</th>\n",
       "      <td>623</td>\n",
       "      <td>556</td>\n",
       "      <td>-67</td>\n",
       "    </tr>\n",
       "    <tr>\n",
       "      <th>2</th>\n",
       "      <td>615</td>\n",
       "      <td>540</td>\n",
       "      <td>-75</td>\n",
       "    </tr>\n",
       "    <tr>\n",
       "      <th>3</th>\n",
       "      <td>672</td>\n",
       "      <td>522</td>\n",
       "      <td>-150</td>\n",
       "    </tr>\n",
       "    <tr>\n",
       "      <th>4</th>\n",
       "      <td>601</td>\n",
       "      <td>469</td>\n",
       "      <td>-132</td>\n",
       "    </tr>\n",
       "    <tr>\n",
       "      <th>5</th>\n",
       "      <td>600</td>\n",
       "      <td>544</td>\n",
       "      <td>-56</td>\n",
       "    </tr>\n",
       "    <tr>\n",
       "      <th>6</th>\n",
       "      <td>542</td>\n",
       "      <td>513</td>\n",
       "      <td>-29</td>\n",
       "    </tr>\n",
       "    <tr>\n",
       "      <th>7</th>\n",
       "      <td>554</td>\n",
       "      <td>470</td>\n",
       "      <td>-84</td>\n",
       "    </tr>\n",
       "    <tr>\n",
       "      <th>8</th>\n",
       "      <td>543</td>\n",
       "      <td>556</td>\n",
       "      <td>13</td>\n",
       "    </tr>\n",
       "    <tr>\n",
       "      <th>9</th>\n",
       "      <td>520</td>\n",
       "      <td>531</td>\n",
       "      <td>11</td>\n",
       "    </tr>\n",
       "  </tbody>\n",
       "</table>\n",
       "</div>"
      ],
      "text/plain": [
       "    no  yes  diff\n",
       "0  636  604   -32\n",
       "1  623  556   -67\n",
       "2  615  540   -75\n",
       "3  672  522  -150\n",
       "4  601  469  -132\n",
       "5  600  544   -56\n",
       "6  542  513   -29\n",
       "7  554  470   -84\n",
       "8  543  556    13\n",
       "9  520  531    11"
      ]
     },
     "execution_count": 139,
     "metadata": {
      "tags": []
     },
     "output_type": "execute_result"
    }
   ],
   "source": [
    "df_paired.head(10)"
   ]
  },
  {
   "cell_type": "code",
   "execution_count": 140,
   "metadata": {
    "colab": {
     "base_uri": "https://localhost:8080/"
    },
    "id": "AR8l4XMIfX3B",
    "outputId": "7fb81930-1bc7-499c-a42b-31499fdfda91"
   },
   "outputs": [
    {
     "data": {
      "text/plain": [
       "count     16.000000\n",
       "mean     -46.500000\n",
       "std       50.146452\n",
       "min     -150.000000\n",
       "25%      -77.250000\n",
       "50%      -30.500000\n",
       "75%      -16.750000\n",
       "max       24.000000\n",
       "Name: diff, dtype: float64"
      ]
     },
     "execution_count": 140,
     "metadata": {
      "tags": []
     },
     "output_type": "execute_result"
    }
   ],
   "source": [
    "df_paired['diff'].describe()"
   ]
  },
  {
   "cell_type": "code",
   "execution_count": 141,
   "metadata": {
    "colab": {
     "base_uri": "https://localhost:8080/",
     "height": 352
    },
    "id": "hsisB7ZsfX3G",
    "outputId": "9829fa20-bf9f-4529-ce57-51ccd356694b"
   },
   "outputs": [
    {
     "name": "stderr",
     "output_type": "stream",
     "text": [
      "/usr/local/lib/python3.6/dist-packages/seaborn/_decorators.py:43: FutureWarning: Pass the following variable as a keyword arg: x. From version 0.12, the only valid positional argument will be `data`, and passing other arguments without an explicit keyword will result in an error or misinterpretation.\n",
      "  FutureWarning\n"
     ]
    },
    {
     "data": {
      "text/plain": [
       "<matplotlib.axes._subplots.AxesSubplot at 0x7f582fad9ba8>"
      ]
     },
     "execution_count": 141,
     "metadata": {
      "tags": []
     },
     "output_type": "execute_result"
    },
    {
     "data": {
      "image/png": "[encoded data removed]",
      "text/plain": [
       "<Figure size 432x288 with 1 Axes>"
      ]
     },
     "metadata": {
      "tags": []
     },
     "output_type": "display_data"
    }
   ],
   "source": [
    "sns.boxplot(df_paired['diff'])"
   ]
  },
  {
   "cell_type": "code",
   "execution_count": 142,
   "metadata": {
    "colab": {
     "base_uri": "https://localhost:8080/",
     "height": 352
    },
    "id": "nI9EjkTsfm7h",
    "outputId": "e78448b5-a7b9-40e2-d966-58992facdcc4"
   },
   "outputs": [
    {
     "name": "stderr",
     "output_type": "stream",
     "text": [
      "/usr/local/lib/python3.6/dist-packages/seaborn/distributions.py:2551: FutureWarning: `distplot` is a deprecated function and will be removed in a future version. Please adapt your code to use either `displot` (a figure-level function with similar flexibility) or `histplot` (an axes-level function for histograms).\n",
      "  warnings.warn(msg, FutureWarning)\n"
     ]
    },
    {
     "data": {
      "text/plain": [
       "<matplotlib.axes._subplots.AxesSubplot at 0x7f582fa99d68>"
      ]
     },
     "execution_count": 142,
     "metadata": {
      "tags": []
     },
     "output_type": "execute_result"
    },
    {
     "data": {
      "image/png": "[encoded data removed]",
      "text/plain": [
       "<Figure size 432x288 with 1 Axes>"
      ]
     },
     "metadata": {
      "tags": []
     },
     "output_type": "display_data"
    }
   ],
   "source": [
    "sns.distplot(df_paired['diff'])"
   ]
  },
  {
   "cell_type": "markdown",
   "metadata": {
    "id": "SUIlMCsAfX3K"
   },
   "source": [
    "Ho : Median Population of difference (yes-no) = 0\n",
    "<br>\n",
    "Ha : Median Population of difference (yes-no) < 0"
   ]
  },
  {
   "cell_type": "code",
   "execution_count": 143,
   "metadata": {
    "id": "TsY1GUEBftk3"
   },
   "outputs": [],
   "source": [
    "from scipy.stats import wilcoxon"
   ]
  },
  {
   "cell_type": "code",
   "execution_count": 144,
   "metadata": {
    "colab": {
     "base_uri": "https://localhost:8080/"
    },
    "id": "UByEfdHwfX3L",
    "outputId": "a1a6d50f-6950-4da3-abb4-351d6c64ba51"
   },
   "outputs": [
    {
     "name": "stdout",
     "output_type": "stream",
     "text": [
      "0.001599741499196222\n",
      "11.0\n"
     ]
    }
   ],
   "source": [
    "sumrank, pval = wilcoxon(df_paired['diff'], alternative = 'less')\n",
    "print(pval)\n",
    "print(sumrank)"
   ]
  },
  {
   "cell_type": "markdown",
   "metadata": {
    "id": "3Z46VoEifX3T"
   },
   "source": [
    "The P-value is lower than our significant level 0.05, it means we have enough evidence to reject the Null Hypothesis. So, reaction time on driving skill after using cell phone are lower than before using cell phone "
   ]
  },
  {
   "cell_type": "markdown",
   "metadata": {
    "id": "eDNEzJV-cv6l"
   },
   "source": [
    "## Kruskal Wallis"
   ]
  },
  {
   "cell_type": "code",
   "execution_count": 145,
   "metadata": {
    "ExecuteTime": {
     "end_time": "2019-08-21T03:33:42.963397Z",
     "start_time": "2019-08-21T03:33:42.959438Z"
    },
    "id": "l7EbWP0yeuED"
   },
   "outputs": [],
   "source": [
    "transport = []\n",
    "method = ['Walking ', 'Public ', 'Private ']\n",
    "for i in method:\n",
    "    transport.extend((i*10).split())"
   ]
  },
  {
   "cell_type": "code",
   "execution_count": 146,
   "metadata": {
    "ExecuteTime": {
     "end_time": "2019-08-21T03:43:05.346483Z",
     "start_time": "2019-08-21T03:43:05.336513Z"
    },
    "colab": {
     "base_uri": "https://localhost:8080/",
     "height": 194
    },
    "id": "zBL8qt6-euEP",
    "outputId": "65b98215-e039-4b6b-d6ef-b237433907c6"
   },
   "outputs": [
    {
     "data": {
      "text/html": [
       "<div>\n",
       "<style scoped>\n",
       "    .dataframe tbody tr th:only-of-type {\n",
       "        vertical-align: middle;\n",
       "    }\n",
       "\n",
       "    .dataframe tbody tr th {\n",
       "        vertical-align: top;\n",
       "    }\n",
       "\n",
       "    .dataframe thead th {\n",
       "        text-align: right;\n",
       "    }\n",
       "</style>\n",
       "<table border=\"1\" class=\"dataframe\">\n",
       "  <thead>\n",
       "    <tr style=\"text-align: right;\">\n",
       "      <th></th>\n",
       "      <th>Transportation</th>\n",
       "      <th>Study Hour</th>\n",
       "    </tr>\n",
       "  </thead>\n",
       "  <tbody>\n",
       "    <tr>\n",
       "      <th>3</th>\n",
       "      <td>Walking</td>\n",
       "      <td>6</td>\n",
       "    </tr>\n",
       "    <tr>\n",
       "      <th>2</th>\n",
       "      <td>Walking</td>\n",
       "      <td>5</td>\n",
       "    </tr>\n",
       "    <tr>\n",
       "      <th>25</th>\n",
       "      <td>Private</td>\n",
       "      <td>5</td>\n",
       "    </tr>\n",
       "    <tr>\n",
       "      <th>1</th>\n",
       "      <td>Walking</td>\n",
       "      <td>4</td>\n",
       "    </tr>\n",
       "    <tr>\n",
       "      <th>7</th>\n",
       "      <td>Walking</td>\n",
       "      <td>4</td>\n",
       "    </tr>\n",
       "  </tbody>\n",
       "</table>\n",
       "</div>"
      ],
      "text/plain": [
       "   Transportation  Study Hour\n",
       "3         Walking           6\n",
       "2         Walking           5\n",
       "25        Private           5\n",
       "1         Walking           4\n",
       "7         Walking           4"
      ]
     },
     "execution_count": 146,
     "metadata": {
      "tags": []
     },
     "output_type": "execute_result"
    }
   ],
   "source": [
    "transportdf = pd.concat([pd.Series(transport, name = 'Transportation'), \n",
    "                     pd.Series([5,4,5,6,5,3,2,4,5,5,7,7,5,6,4,6,5,5,6,7,5,4,5,6,6,5,5,5,7,7], name = 'Study Hour')], axis =1)\n",
    "transportdf.sample(5)"
   ]
  },
  {
   "cell_type": "code",
   "execution_count": 147,
   "metadata": {
    "ExecuteTime": {
     "end_time": "2019-08-21T03:48:23.438036Z",
     "start_time": "2019-08-21T03:48:23.281457Z"
    },
    "colab": {
     "base_uri": "https://localhost:8080/",
     "height": 427
    },
    "id": "bXuZaYgKeuET",
    "outputId": "00ca604d-6bb7-482b-8e42-eb3cabea09f8"
   },
   "outputs": [
    {
     "name": "stderr",
     "output_type": "stream",
     "text": [
      "/usr/local/lib/python3.6/dist-packages/seaborn/distributions.py:2551: FutureWarning: `distplot` is a deprecated function and will be removed in a future version. Please adapt your code to use either `displot` (a figure-level function with similar flexibility) or `histplot` (an axes-level function for histograms).\n",
      "  warnings.warn(msg, FutureWarning)\n",
      "/usr/local/lib/python3.6/dist-packages/seaborn/distributions.py:2551: FutureWarning: `distplot` is a deprecated function and will be removed in a future version. Please adapt your code to use either `displot` (a figure-level function with similar flexibility) or `histplot` (an axes-level function for histograms).\n",
      "  warnings.warn(msg, FutureWarning)\n",
      "/usr/local/lib/python3.6/dist-packages/seaborn/distributions.py:2551: FutureWarning: `distplot` is a deprecated function and will be removed in a future version. Please adapt your code to use either `displot` (a figure-level function with similar flexibility) or `histplot` (an axes-level function for histograms).\n",
      "  warnings.warn(msg, FutureWarning)\n"
     ]
    },
    {
     "data": {
      "text/plain": [
       "Text(0, 0.5, 'Frequency')"
      ]
     },
     "execution_count": 147,
     "metadata": {
      "tags": []
     },
     "output_type": "execute_result"
    },
    {
     "data": {
      "image/png": "[encoded data removed]",
      "text/plain": [
       "<Figure size 432x288 with 1 Axes>"
      ]
     },
     "metadata": {
      "tags": []
     },
     "output_type": "display_data"
    }
   ],
   "source": [
    "sns.distplot(transportdf[transportdf['Transportation'] == 'Walking']['Study Hour'], color = 'red', label = 'Walking')\n",
    "sns.distplot(transportdf[transportdf['Transportation'] == 'Public']['Study Hour'], color = 'green', label = 'Public')\n",
    "sns.distplot(transportdf[transportdf['Transportation'] == 'Private']['Study Hour'], color = 'blue', label = 'Private')\n",
    "plt.legend()\n",
    "plt.ylabel('Frequency')"
   ]
  },
  {
   "cell_type": "code",
   "execution_count": 148,
   "metadata": {
    "colab": {
     "base_uri": "https://localhost:8080/",
     "height": 297
    },
    "id": "Hb0AYaHWeuEV",
    "outputId": "d0c4b6cc-d430-4100-d682-00dc23e12001"
   },
   "outputs": [
    {
     "data": {
      "text/plain": [
       "<matplotlib.axes._subplots.AxesSubplot at 0x7f582f969b38>"
      ]
     },
     "execution_count": 148,
     "metadata": {
      "tags": []
     },
     "output_type": "execute_result"
    },
    {
     "data": {
      "image/png": "[encoded data removed]",
      "text/plain": [
       "<Figure size 432x288 with 1 Axes>"
      ]
     },
     "metadata": {
      "tags": []
     },
     "output_type": "display_data"
    }
   ],
   "source": [
    "sns.set_palette(['red','green','blue'])\n",
    "sns.boxplot(x = 'Transportation', y = 'Study Hour', data = transportdf)"
   ]
  },
  {
   "cell_type": "code",
   "execution_count": 149,
   "metadata": {
    "ExecuteTime": {
     "end_time": "2019-08-21T06:45:38.026509Z",
     "start_time": "2019-08-21T06:45:38.019537Z"
    },
    "colab": {
     "base_uri": "https://localhost:8080/"
    },
    "id": "64JXjldGeuEY",
    "outputId": "61d84a1b-51b1-4930-dc6a-3a0db67e0d36"
   },
   "outputs": [
    {
     "name": "stdout",
     "output_type": "stream",
     "text": [
      "Median of Study Hour Group Walking: 5.0\n",
      "Median of Study Hour Group Public: 6.0\n",
      "Median of Study Hour Group Private: 5.0\n"
     ]
    }
   ],
   "source": [
    "for i in transportdf['Transportation'].unique():\n",
    "    print('Median of Study Hour Group {}: {}'.format(i,transportdf[transportdf['Transportation'] == i]['Study Hour'].median()))"
   ]
  },
  {
   "cell_type": "code",
   "execution_count": 150,
   "metadata": {
    "ExecuteTime": {
     "end_time": "2019-08-21T06:45:17.743977Z",
     "start_time": "2019-08-21T06:45:17.739990Z"
    },
    "colab": {
     "base_uri": "https://localhost:8080/"
    },
    "id": "f9ccYatseuEb",
    "outputId": "faa5e769-eaca-482c-91c1-c23fb5c002d4"
   },
   "outputs": [
    {
     "name": "stdout",
     "output_type": "stream",
     "text": [
      "Total Study Hour Mean:  5.0\n"
     ]
    }
   ],
   "source": [
    "print('Total Study Hour Mean: ', transportdf['Study Hour'].median())"
   ]
  },
  {
   "cell_type": "code",
   "execution_count": 151,
   "metadata": {
    "ExecuteTime": {
     "end_time": "2019-08-21T06:58:46.375385Z",
     "start_time": "2019-08-21T06:58:46.366443Z"
    },
    "colab": {
     "base_uri": "https://localhost:8080/"
    },
    "id": "arT0fI0beuEj",
    "outputId": "09c321a7-7fe3-48a3-b0b9-0530f718ab41"
   },
   "outputs": [
    {
     "data": {
      "text/plain": [
       "KruskalResult(statistic=7.01891293654697, pvalue=0.029913168775421856)"
      ]
     },
     "execution_count": 151,
     "metadata": {
      "tags": []
     },
     "output_type": "execute_result"
    }
   ],
   "source": [
    "#Importing One-Way ANOVA from Scipy. One-Way ANOVA is called F one-way as well because the test follow the F- Distribution\n",
    "from scipy.stats import kruskal\n",
    "kruskal(transportdf[transportdf['Transportation'] == 'Walking']['Study Hour'], \n",
    "        transportdf[transportdf['Transportation'] == 'Public']['Study Hour'],\n",
    "        transportdf[transportdf['Transportation'] == 'Private']['Study Hour'])"
   ]
  },
  {
   "cell_type": "markdown",
   "metadata": {
    "id": "oJiIud7DeuEm"
   },
   "source": [
    "The P-value is lower than our significant level 0.05, it means we have enough evidence to reject the Null Hypothesis. So,at least one pair of the population median are not equal"
   ]
  },
  {
   "cell_type": "markdown",
   "metadata": {
    "id": "x1rqfOUm-Kml"
   },
   "source": [
    "# Association"
   ]
  },
  {
   "cell_type": "code",
   "execution_count": 152,
   "metadata": {
    "colab": {
     "base_uri": "https://localhost:8080/"
    },
    "id": "tbneymrR5VVF",
    "outputId": "7bc0b526-1104-4ac6-90ad-e7e5cdb1cf7d"
   },
   "outputs": [
    {
     "data": {
      "text/plain": [
       "RandomState(MT19937) at 0x7F5832B89EB8"
      ]
     },
     "execution_count": 152,
     "metadata": {
      "tags": []
     },
     "output_type": "execute_result"
    }
   ],
   "source": [
    "np.random.RandomState(10)"
   ]
  },
  {
   "cell_type": "code",
   "execution_count": 153,
   "metadata": {
    "colab": {
     "base_uri": "https://localhost:8080/"
    },
    "id": "T-SDbDno-Kml",
    "outputId": "54db021a-136d-40e4-938f-8269a539a12f"
   },
   "outputs": [
    {
     "name": "stderr",
     "output_type": "stream",
     "text": [
      "/usr/local/lib/python3.6/dist-packages/ipykernel_launcher.py:4: DeprecationWarning: np.asscalar(a) is deprecated since NumPy v1.16, use a.item() instead\n",
      "  after removing the cwd from sys.path.\n"
     ]
    }
   ],
   "source": [
    "x = list(np.random.normal(5,2,100))\n",
    "x = [round(i,2) for i in x]\n",
    "\n",
    "y = [(3 + 3*i + np.asscalar(np.random.normal(0,1.5,1))) for i in x]\n",
    "y = [round(i,2) for i in y]"
   ]
  },
  {
   "cell_type": "code",
   "execution_count": 154,
   "metadata": {
    "id": "1z-ULyf9-Kmm"
   },
   "outputs": [],
   "source": [
    "y2 = [i**4 for i in y]"
   ]
  },
  {
   "cell_type": "code",
   "execution_count": 155,
   "metadata": {
    "id": "jRT-HfFN-Kmn"
   },
   "outputs": [],
   "source": [
    "df_assotiation = pd.DataFrame({\n",
    "    'x':x,\n",
    "    'y':y,\n",
    "    'y2':y2\n",
    "})"
   ]
  },
  {
   "cell_type": "code",
   "execution_count": 156,
   "metadata": {
    "colab": {
     "base_uri": "https://localhost:8080/",
     "height": 340
    },
    "id": "FjnFamvT-Kmq",
    "outputId": "c2771750-0c37-4a22-d327-3bc2b8955151"
   },
   "outputs": [
    {
     "data": {
      "text/html": [
       "<div>\n",
       "<style scoped>\n",
       "    .dataframe tbody tr th:only-of-type {\n",
       "        vertical-align: middle;\n",
       "    }\n",
       "\n",
       "    .dataframe tbody tr th {\n",
       "        vertical-align: top;\n",
       "    }\n",
       "\n",
       "    .dataframe thead th {\n",
       "        text-align: right;\n",
       "    }\n",
       "</style>\n",
       "<table border=\"1\" class=\"dataframe\">\n",
       "  <thead>\n",
       "    <tr style=\"text-align: right;\">\n",
       "      <th></th>\n",
       "      <th>x</th>\n",
       "      <th>y</th>\n",
       "      <th>y2</th>\n",
       "    </tr>\n",
       "  </thead>\n",
       "  <tbody>\n",
       "    <tr>\n",
       "      <th>0</th>\n",
       "      <td>3.44</td>\n",
       "      <td>13.28</td>\n",
       "      <td>31102.285251</td>\n",
       "    </tr>\n",
       "    <tr>\n",
       "      <th>1</th>\n",
       "      <td>7.28</td>\n",
       "      <td>26.52</td>\n",
       "      <td>494645.518748</td>\n",
       "    </tr>\n",
       "    <tr>\n",
       "      <th>2</th>\n",
       "      <td>3.40</td>\n",
       "      <td>13.67</td>\n",
       "      <td>34919.985787</td>\n",
       "    </tr>\n",
       "    <tr>\n",
       "      <th>3</th>\n",
       "      <td>5.33</td>\n",
       "      <td>19.09</td>\n",
       "      <td>132807.840070</td>\n",
       "    </tr>\n",
       "    <tr>\n",
       "      <th>4</th>\n",
       "      <td>2.41</td>\n",
       "      <td>12.08</td>\n",
       "      <td>21294.514217</td>\n",
       "    </tr>\n",
       "    <tr>\n",
       "      <th>5</th>\n",
       "      <td>4.21</td>\n",
       "      <td>16.17</td>\n",
       "      <td>68365.985667</td>\n",
       "    </tr>\n",
       "    <tr>\n",
       "      <th>6</th>\n",
       "      <td>4.74</td>\n",
       "      <td>16.84</td>\n",
       "      <td>80420.792527</td>\n",
       "    </tr>\n",
       "    <tr>\n",
       "      <th>7</th>\n",
       "      <td>5.21</td>\n",
       "      <td>23.08</td>\n",
       "      <td>283754.800745</td>\n",
       "    </tr>\n",
       "    <tr>\n",
       "      <th>8</th>\n",
       "      <td>3.20</td>\n",
       "      <td>13.67</td>\n",
       "      <td>34919.985787</td>\n",
       "    </tr>\n",
       "    <tr>\n",
       "      <th>9</th>\n",
       "      <td>4.62</td>\n",
       "      <td>16.82</td>\n",
       "      <td>80039.426074</td>\n",
       "    </tr>\n",
       "  </tbody>\n",
       "</table>\n",
       "</div>"
      ],
      "text/plain": [
       "      x      y             y2\n",
       "0  3.44  13.28   31102.285251\n",
       "1  7.28  26.52  494645.518748\n",
       "2  3.40  13.67   34919.985787\n",
       "3  5.33  19.09  132807.840070\n",
       "4  2.41  12.08   21294.514217\n",
       "5  4.21  16.17   68365.985667\n",
       "6  4.74  16.84   80420.792527\n",
       "7  5.21  23.08  283754.800745\n",
       "8  3.20  13.67   34919.985787\n",
       "9  4.62  16.82   80039.426074"
      ]
     },
     "execution_count": 156,
     "metadata": {
      "tags": []
     },
     "output_type": "execute_result"
    }
   ],
   "source": [
    "df_assotiation.head(10)"
   ]
  },
  {
   "cell_type": "markdown",
   "metadata": {
    "id": "dwLirBeB-Kmr"
   },
   "source": [
    "## Linear"
   ]
  },
  {
   "cell_type": "code",
   "execution_count": 157,
   "metadata": {
    "colab": {
     "base_uri": "https://localhost:8080/",
     "height": 0
    },
    "id": "0jN2IiYw-Kmr",
    "outputId": "d85c2a7f-e4a1-4d47-da2b-91dd61763bcc"
   },
   "outputs": [
    {
     "data": {
      "text/plain": [
       "<matplotlib.collections.PathCollection at 0x7f582f8912e8>"
      ]
     },
     "execution_count": 157,
     "metadata": {
      "tags": []
     },
     "output_type": "execute_result"
    },
    {
     "data": {
      "image/png": "[encoded data removed]",
      "text/plain": [
       "<Figure size 432x288 with 1 Axes>"
      ]
     },
     "metadata": {
      "tags": []
     },
     "output_type": "display_data"
    }
   ],
   "source": [
    "plt.scatter(x,y)"
   ]
  },
  {
   "cell_type": "code",
   "execution_count": 158,
   "metadata": {
    "colab": {
     "base_uri": "https://localhost:8080/",
     "height": 0
    },
    "id": "-HonGnoN-Kms",
    "outputId": "f45129b4-6f2c-420a-f811-41b35cf0f1b1"
   },
   "outputs": [
    {
     "data": {
      "text/html": [
       "<div>\n",
       "<style scoped>\n",
       "    .dataframe tbody tr th:only-of-type {\n",
       "        vertical-align: middle;\n",
       "    }\n",
       "\n",
       "    .dataframe tbody tr th {\n",
       "        vertical-align: top;\n",
       "    }\n",
       "\n",
       "    .dataframe thead th {\n",
       "        text-align: right;\n",
       "    }\n",
       "</style>\n",
       "<table border=\"1\" class=\"dataframe\">\n",
       "  <thead>\n",
       "    <tr style=\"text-align: right;\">\n",
       "      <th></th>\n",
       "      <th>x</th>\n",
       "      <th>y</th>\n",
       "    </tr>\n",
       "  </thead>\n",
       "  <tbody>\n",
       "    <tr>\n",
       "      <th>x</th>\n",
       "      <td>1.000000</td>\n",
       "      <td>0.965728</td>\n",
       "    </tr>\n",
       "    <tr>\n",
       "      <th>y</th>\n",
       "      <td>0.965728</td>\n",
       "      <td>1.000000</td>\n",
       "    </tr>\n",
       "  </tbody>\n",
       "</table>\n",
       "</div>"
      ],
      "text/plain": [
       "          x         y\n",
       "x  1.000000  0.965728\n",
       "y  0.965728  1.000000"
      ]
     },
     "execution_count": 158,
     "metadata": {
      "tags": []
     },
     "output_type": "execute_result"
    }
   ],
   "source": [
    "df_assotiation[['x','y']].corr()"
   ]
  },
  {
   "cell_type": "markdown",
   "metadata": {
    "id": "etvyj0Ea-Kmu"
   },
   "source": [
    "## Non-Linear Monotonic"
   ]
  },
  {
   "cell_type": "code",
   "execution_count": 159,
   "metadata": {
    "colab": {
     "base_uri": "https://localhost:8080/",
     "height": 0
    },
    "id": "q0a1fRk9-Kmu",
    "outputId": "46328e1c-5aff-42e4-a6ae-e75138bff76e"
   },
   "outputs": [
    {
     "data": {
      "text/plain": [
       "<matplotlib.collections.PathCollection at 0x7f582f7eeef0>"
      ]
     },
     "execution_count": 159,
     "metadata": {
      "tags": []
     },
     "output_type": "execute_result"
    },
    {
     "data": {
      "image/png": "[encoded data removed]",
      "text/plain": [
       "<Figure size 432x288 with 1 Axes>"
      ]
     },
     "metadata": {
      "tags": []
     },
     "output_type": "display_data"
    }
   ],
   "source": [
    "plt.scatter(x,y2)"
   ]
  },
  {
   "cell_type": "code",
   "execution_count": 160,
   "metadata": {
    "colab": {
     "base_uri": "https://localhost:8080/",
     "height": 0
    },
    "id": "X5oQzYYK-Kmv",
    "outputId": "84e13e70-83d9-48e3-d374-81e3ee446caf"
   },
   "outputs": [
    {
     "data": {
      "text/html": [
       "<div>\n",
       "<style scoped>\n",
       "    .dataframe tbody tr th:only-of-type {\n",
       "        vertical-align: middle;\n",
       "    }\n",
       "\n",
       "    .dataframe tbody tr th {\n",
       "        vertical-align: top;\n",
       "    }\n",
       "\n",
       "    .dataframe thead th {\n",
       "        text-align: right;\n",
       "    }\n",
       "</style>\n",
       "<table border=\"1\" class=\"dataframe\">\n",
       "  <thead>\n",
       "    <tr style=\"text-align: right;\">\n",
       "      <th></th>\n",
       "      <th>x</th>\n",
       "      <th>y</th>\n",
       "    </tr>\n",
       "  </thead>\n",
       "  <tbody>\n",
       "    <tr>\n",
       "      <th>x</th>\n",
       "      <td>1.000000</td>\n",
       "      <td>0.961229</td>\n",
       "    </tr>\n",
       "    <tr>\n",
       "      <th>y</th>\n",
       "      <td>0.961229</td>\n",
       "      <td>1.000000</td>\n",
       "    </tr>\n",
       "  </tbody>\n",
       "</table>\n",
       "</div>"
      ],
      "text/plain": [
       "          x         y\n",
       "x  1.000000  0.961229\n",
       "y  0.961229  1.000000"
      ]
     },
     "execution_count": 160,
     "metadata": {
      "tags": []
     },
     "output_type": "execute_result"
    }
   ],
   "source": [
    "df_assotiation[['x','y']].corr(method = 'spearman')"
   ]
  },
  {
   "cell_type": "markdown",
   "metadata": {
    "id": "bzgp5HNi-Kmx"
   },
   "source": [
    "## Non-Linear Non-Monotonic"
   ]
  },
  {
   "cell_type": "code",
   "execution_count": 161,
   "metadata": {
    "colab": {
     "base_uri": "https://localhost:8080/"
    },
    "id": "C1pmISOy38Pm",
    "outputId": "94857cbb-13fa-4a9b-9752-4b9a25c92fad"
   },
   "outputs": [
    {
     "data": {
      "text/plain": [
       "RandomState(MT19937) at 0x7F582F7B5048"
      ]
     },
     "execution_count": 161,
     "metadata": {
      "tags": []
     },
     "output_type": "execute_result"
    }
   ],
   "source": [
    "np.random.RandomState(10)"
   ]
  },
  {
   "cell_type": "code",
   "execution_count": 162,
   "metadata": {
    "colab": {
     "base_uri": "https://localhost:8080/"
    },
    "id": "8X7qrL0I-Kmx",
    "outputId": "f91d08b9-af2e-4dad-e550-e50cb78d07e3"
   },
   "outputs": [
    {
     "name": "stderr",
     "output_type": "stream",
     "text": [
      "/usr/local/lib/python3.6/dist-packages/ipykernel_launcher.py:4: DeprecationWarning: np.asscalar(a) is deprecated since NumPy v1.16, use a.item() instead\n",
      "  after removing the cwd from sys.path.\n"
     ]
    }
   ],
   "source": [
    "x = list(np.random.normal(0,10,100))\n",
    "x = [round(i,2) for i in x]\n",
    "\n",
    "y = [(4 - i**2 + np.asscalar(np.random.normal(0,10,1))) for i in x]\n",
    "y = [round(i,2) for i in y]"
   ]
  },
  {
   "cell_type": "code",
   "execution_count": 163,
   "metadata": {
    "id": "n2uRclu33pls"
   },
   "outputs": [],
   "source": [
    "df_assotiation2 = pd.DataFrame({\n",
    "    'x':x,\n",
    "    'y':y\n",
    "})"
   ]
  },
  {
   "cell_type": "code",
   "execution_count": 164,
   "metadata": {
    "colab": {
     "base_uri": "https://localhost:8080/",
     "height": 0
    },
    "id": "TE-GADul-Kmy",
    "outputId": "16ae8762-2c70-4581-c78c-432114133997"
   },
   "outputs": [
    {
     "data": {
      "text/plain": [
       "<matplotlib.collections.PathCollection at 0x7f582f7cfdd8>"
      ]
     },
     "execution_count": 164,
     "metadata": {
      "tags": []
     },
     "output_type": "execute_result"
    },
    {
     "data": {
      "image/png": "[encoded data removed]",
      "text/plain": [
       "<Figure size 432x288 with 1 Axes>"
      ]
     },
     "metadata": {
      "tags": []
     },
     "output_type": "display_data"
    }
   ],
   "source": [
    "plt.scatter(x,y)"
   ]
  },
  {
   "cell_type": "code",
   "execution_count": 165,
   "metadata": {
    "colab": {
     "base_uri": "https://localhost:8080/",
     "height": 0
    },
    "id": "9jruhuU827Xa",
    "outputId": "726929c2-4a00-4f0c-cc91-3b466863dd5f"
   },
   "outputs": [
    {
     "data": {
      "text/html": [
       "<div>\n",
       "<style scoped>\n",
       "    .dataframe tbody tr th:only-of-type {\n",
       "        vertical-align: middle;\n",
       "    }\n",
       "\n",
       "    .dataframe tbody tr th {\n",
       "        vertical-align: top;\n",
       "    }\n",
       "\n",
       "    .dataframe thead th {\n",
       "        text-align: right;\n",
       "    }\n",
       "</style>\n",
       "<table border=\"1\" class=\"dataframe\">\n",
       "  <thead>\n",
       "    <tr style=\"text-align: right;\">\n",
       "      <th></th>\n",
       "      <th>x</th>\n",
       "      <th>y</th>\n",
       "    </tr>\n",
       "  </thead>\n",
       "  <tbody>\n",
       "    <tr>\n",
       "      <th>x</th>\n",
       "      <td>1.000000</td>\n",
       "      <td>0.035764</td>\n",
       "    </tr>\n",
       "    <tr>\n",
       "      <th>y</th>\n",
       "      <td>0.035764</td>\n",
       "      <td>1.000000</td>\n",
       "    </tr>\n",
       "  </tbody>\n",
       "</table>\n",
       "</div>"
      ],
      "text/plain": [
       "          x         y\n",
       "x  1.000000  0.035764\n",
       "y  0.035764  1.000000"
      ]
     },
     "execution_count": 165,
     "metadata": {
      "tags": []
     },
     "output_type": "execute_result"
    }
   ],
   "source": [
    "df_assotiation2[['x','y']].corr(method = 'spearman')"
   ]
  },
  {
   "cell_type": "code",
   "execution_count": 166,
   "metadata": {
    "colab": {
     "base_uri": "https://localhost:8080/",
     "height": 0
    },
    "id": "y_X99BZA4Xjf",
    "outputId": "0da473c6-9eba-4956-d32d-9b4b91caf123"
   },
   "outputs": [
    {
     "data": {
      "text/html": [
       "<div>\n",
       "<style scoped>\n",
       "    .dataframe tbody tr th:only-of-type {\n",
       "        vertical-align: middle;\n",
       "    }\n",
       "\n",
       "    .dataframe tbody tr th {\n",
       "        vertical-align: top;\n",
       "    }\n",
       "\n",
       "    .dataframe thead th {\n",
       "        text-align: right;\n",
       "    }\n",
       "</style>\n",
       "<table border=\"1\" class=\"dataframe\">\n",
       "  <thead>\n",
       "    <tr style=\"text-align: right;\">\n",
       "      <th></th>\n",
       "      <th>x</th>\n",
       "      <th>y</th>\n",
       "    </tr>\n",
       "  </thead>\n",
       "  <tbody>\n",
       "    <tr>\n",
       "      <th>x</th>\n",
       "      <td>1.00000</td>\n",
       "      <td>0.04223</td>\n",
       "    </tr>\n",
       "    <tr>\n",
       "      <th>y</th>\n",
       "      <td>0.04223</td>\n",
       "      <td>1.00000</td>\n",
       "    </tr>\n",
       "  </tbody>\n",
       "</table>\n",
       "</div>"
      ],
      "text/plain": [
       "         x        y\n",
       "x  1.00000  0.04223\n",
       "y  0.04223  1.00000"
      ]
     },
     "execution_count": 166,
     "metadata": {
      "tags": []
     },
     "output_type": "execute_result"
    }
   ],
   "source": [
    "df_assotiation2[['x','y']].corr(method = 'pearson')"
   ]
  },
  {
   "cell_type": "markdown",
   "metadata": {
    "id": "rXEV6tuR4i2y"
   },
   "source": [
    "from this illustration :\n",
    "1. when using spearman or pearson and the reult is almost zero. it doesn't mean that there is no association or weak association\n",
    "1. there is till might an association but in another form of relationship (in this case is quadratics)\n",
    "1. that is why graphical summary is very important"
   ]
  },
  {
   "cell_type": "markdown",
   "metadata": {
    "id": "ChEJjLGynP-Q"
   },
   "source": [
    "## Crime Rate vs Education"
   ]
  },
  {
   "cell_type": "markdown",
   "metadata": {
    "id": "aHRVBjIBvVq1"
   },
   "source": [
    "Education =  Education was measured as the percentage of residents aged at least 25 in the county who had at least a high school degree. \n",
    "<br>\n",
    "Crime Rate =  Crime rate was measured as the number of crimes in that county in the past year per 1000 residents. \n",
    "<br>\n",
    "County Type = Rural or Urban"
   ]
  },
  {
   "cell_type": "code",
   "execution_count": 167,
   "metadata": {
    "id": "6yfJWhFWnPHX"
   },
   "outputs": [],
   "source": [
    "df_urban = pd.DataFrame({\n",
    "    'Education':[70,75,80,85],\n",
    "    'Crime rate':[140,120,110,105],\n",
    "    'county type':'urban'\n",
    "})\n",
    "\n",
    "df_rural = pd.DataFrame({\n",
    "    'Education':[55,58,60,65],\n",
    "    'Crime rate':[50,40,30,25],\n",
    "    'county type':'rural'    \n",
    "})"
   ]
  },
  {
   "cell_type": "code",
   "execution_count": 168,
   "metadata": {
    "id": "my6lMeFZoQAS"
   },
   "outputs": [],
   "source": [
    "df_counties = df_urban.append(df_rural)"
   ]
  },
  {
   "cell_type": "markdown",
   "metadata": {
    "id": "hSNjK6rfp0qP"
   },
   "source": [
    "### Analyze marginaly"
   ]
  },
  {
   "cell_type": "code",
   "execution_count": 169,
   "metadata": {
    "colab": {
     "base_uri": "https://localhost:8080/",
     "height": 0
    },
    "id": "JGRYTiJ5xlSO",
    "outputId": "6ab7a26f-9027-4c31-e2d9-87e623daeb42"
   },
   "outputs": [
    {
     "data": {
      "text/plain": [
       "<matplotlib.axes._subplots.AxesSubplot at 0x7f582f816828>"
      ]
     },
     "execution_count": 169,
     "metadata": {
      "tags": []
     },
     "output_type": "execute_result"
    },
    {
     "data": {
      "image/png": "[encoded data removed]",
      "text/plain": [
       "<Figure size 432x288 with 1 Axes>"
      ]
     },
     "metadata": {
      "tags": []
     },
     "output_type": "display_data"
    }
   ],
   "source": [
    "sns.scatterplot(x='Education',y='Crime rate',data=df_counties)"
   ]
  },
  {
   "cell_type": "code",
   "execution_count": 170,
   "metadata": {
    "colab": {
     "base_uri": "https://localhost:8080/",
     "height": 0
    },
    "id": "AqfWGz0Konbw",
    "outputId": "e74afc0b-c929-4cfe-a3da-f23f900cf5e5"
   },
   "outputs": [
    {
     "data": {
      "text/plain": [
       "<matplotlib.axes._subplots.AxesSubplot at 0x7f582f7a8860>"
      ]
     },
     "execution_count": 170,
     "metadata": {
      "tags": []
     },
     "output_type": "execute_result"
    },
    {
     "data": {
      "image/png": "[encoded data removed]",
      "text/plain": [
       "<Figure size 432x288 with 1 Axes>"
      ]
     },
     "metadata": {
      "tags": []
     },
     "output_type": "display_data"
    }
   ],
   "source": [
    "sns.scatterplot(x='Education',y='Crime rate',data=df_counties,hue='county type')"
   ]
  },
  {
   "cell_type": "code",
   "execution_count": 171,
   "metadata": {
    "colab": {
     "base_uri": "https://localhost:8080/",
     "height": 0
    },
    "id": "08FHdAtzo-Qr",
    "outputId": "a2bca1f8-4443-4d78-fd7a-76b03edb0650"
   },
   "outputs": [
    {
     "data": {
      "text/html": [
       "<div>\n",
       "<style scoped>\n",
       "    .dataframe tbody tr th:only-of-type {\n",
       "        vertical-align: middle;\n",
       "    }\n",
       "\n",
       "    .dataframe tbody tr th {\n",
       "        vertical-align: top;\n",
       "    }\n",
       "\n",
       "    .dataframe thead th {\n",
       "        text-align: right;\n",
       "    }\n",
       "</style>\n",
       "<table border=\"1\" class=\"dataframe\">\n",
       "  <thead>\n",
       "    <tr style=\"text-align: right;\">\n",
       "      <th></th>\n",
       "      <th>Education</th>\n",
       "      <th>Crime rate</th>\n",
       "    </tr>\n",
       "  </thead>\n",
       "  <tbody>\n",
       "    <tr>\n",
       "      <th>Education</th>\n",
       "      <td>1.000000</td>\n",
       "      <td>0.731798</td>\n",
       "    </tr>\n",
       "    <tr>\n",
       "      <th>Crime rate</th>\n",
       "      <td>0.731798</td>\n",
       "      <td>1.000000</td>\n",
       "    </tr>\n",
       "  </tbody>\n",
       "</table>\n",
       "</div>"
      ],
      "text/plain": [
       "            Education  Crime rate\n",
       "Education    1.000000    0.731798\n",
       "Crime rate   0.731798    1.000000"
      ]
     },
     "execution_count": 171,
     "metadata": {
      "tags": []
     },
     "output_type": "execute_result"
    }
   ],
   "source": [
    "df_counties.corr()"
   ]
  },
  {
   "cell_type": "markdown",
   "metadata": {
    "id": "LCK9C9tVq1BN"
   },
   "source": [
    "The correlation between education and crime rate is highly positive. Is that make sense that crime rate increasing when education level increase ?"
   ]
  },
  {
   "cell_type": "code",
   "execution_count": 172,
   "metadata": {
    "colab": {
     "base_uri": "https://localhost:8080/",
     "height": 0
    },
    "id": "17WymRYit4Lr",
    "outputId": "a2109a12-d39c-4b2a-e26a-ae5dcbdcdcfc"
   },
   "outputs": [
    {
     "data": {
      "text/html": [
       "<div>\n",
       "<style scoped>\n",
       "    .dataframe tbody tr th:only-of-type {\n",
       "        vertical-align: middle;\n",
       "    }\n",
       "\n",
       "    .dataframe tbody tr th {\n",
       "        vertical-align: top;\n",
       "    }\n",
       "\n",
       "    .dataframe thead th {\n",
       "        text-align: right;\n",
       "    }\n",
       "</style>\n",
       "<table border=\"1\" class=\"dataframe\">\n",
       "  <thead>\n",
       "    <tr style=\"text-align: right;\">\n",
       "      <th></th>\n",
       "      <th>Education</th>\n",
       "      <th>Crime rate</th>\n",
       "      <th>county type</th>\n",
       "    </tr>\n",
       "  </thead>\n",
       "  <tbody>\n",
       "    <tr>\n",
       "      <th>0</th>\n",
       "      <td>70</td>\n",
       "      <td>140</td>\n",
       "      <td>urban</td>\n",
       "    </tr>\n",
       "    <tr>\n",
       "      <th>1</th>\n",
       "      <td>75</td>\n",
       "      <td>120</td>\n",
       "      <td>urban</td>\n",
       "    </tr>\n",
       "    <tr>\n",
       "      <th>2</th>\n",
       "      <td>80</td>\n",
       "      <td>110</td>\n",
       "      <td>urban</td>\n",
       "    </tr>\n",
       "    <tr>\n",
       "      <th>3</th>\n",
       "      <td>85</td>\n",
       "      <td>105</td>\n",
       "      <td>urban</td>\n",
       "    </tr>\n",
       "    <tr>\n",
       "      <th>0</th>\n",
       "      <td>55</td>\n",
       "      <td>50</td>\n",
       "      <td>rural</td>\n",
       "    </tr>\n",
       "    <tr>\n",
       "      <th>1</th>\n",
       "      <td>58</td>\n",
       "      <td>40</td>\n",
       "      <td>rural</td>\n",
       "    </tr>\n",
       "    <tr>\n",
       "      <th>2</th>\n",
       "      <td>60</td>\n",
       "      <td>30</td>\n",
       "      <td>rural</td>\n",
       "    </tr>\n",
       "    <tr>\n",
       "      <th>3</th>\n",
       "      <td>65</td>\n",
       "      <td>25</td>\n",
       "      <td>rural</td>\n",
       "    </tr>\n",
       "  </tbody>\n",
       "</table>\n",
       "</div>"
      ],
      "text/plain": [
       "   Education  Crime rate county type\n",
       "0         70         140       urban\n",
       "1         75         120       urban\n",
       "2         80         110       urban\n",
       "3         85         105       urban\n",
       "0         55          50       rural\n",
       "1         58          40       rural\n",
       "2         60          30       rural\n",
       "3         65          25       rural"
      ]
     },
     "execution_count": 172,
     "metadata": {
      "tags": []
     },
     "output_type": "execute_result"
    }
   ],
   "source": [
    "df_counties"
   ]
  },
  {
   "cell_type": "code",
   "execution_count": 173,
   "metadata": {
    "id": "acs3QWRXuWjb"
   },
   "outputs": [],
   "source": [
    "# transforming county type into ordinal scale\n",
    "df_counties['county type encode'] = df_counties['county type'].map({'rural':0,'urban':1})"
   ]
  },
  {
   "cell_type": "code",
   "execution_count": 174,
   "metadata": {
    "colab": {
     "base_uri": "https://localhost:8080/",
     "height": 0
    },
    "id": "LMuO7etkukdZ",
    "outputId": "0e203df4-ebd8-4759-a6d0-d3ee22354acc"
   },
   "outputs": [
    {
     "data": {
      "text/html": [
       "<div>\n",
       "<style scoped>\n",
       "    .dataframe tbody tr th:only-of-type {\n",
       "        vertical-align: middle;\n",
       "    }\n",
       "\n",
       "    .dataframe tbody tr th {\n",
       "        vertical-align: top;\n",
       "    }\n",
       "\n",
       "    .dataframe thead th {\n",
       "        text-align: right;\n",
       "    }\n",
       "</style>\n",
       "<table border=\"1\" class=\"dataframe\">\n",
       "  <thead>\n",
       "    <tr style=\"text-align: right;\">\n",
       "      <th></th>\n",
       "      <th>Education</th>\n",
       "      <th>Crime rate</th>\n",
       "      <th>county type</th>\n",
       "      <th>county type encode</th>\n",
       "    </tr>\n",
       "  </thead>\n",
       "  <tbody>\n",
       "    <tr>\n",
       "      <th>0</th>\n",
       "      <td>70</td>\n",
       "      <td>140</td>\n",
       "      <td>urban</td>\n",
       "      <td>1</td>\n",
       "    </tr>\n",
       "    <tr>\n",
       "      <th>1</th>\n",
       "      <td>75</td>\n",
       "      <td>120</td>\n",
       "      <td>urban</td>\n",
       "      <td>1</td>\n",
       "    </tr>\n",
       "    <tr>\n",
       "      <th>2</th>\n",
       "      <td>80</td>\n",
       "      <td>110</td>\n",
       "      <td>urban</td>\n",
       "      <td>1</td>\n",
       "    </tr>\n",
       "    <tr>\n",
       "      <th>3</th>\n",
       "      <td>85</td>\n",
       "      <td>105</td>\n",
       "      <td>urban</td>\n",
       "      <td>1</td>\n",
       "    </tr>\n",
       "    <tr>\n",
       "      <th>0</th>\n",
       "      <td>55</td>\n",
       "      <td>50</td>\n",
       "      <td>rural</td>\n",
       "      <td>0</td>\n",
       "    </tr>\n",
       "    <tr>\n",
       "      <th>1</th>\n",
       "      <td>58</td>\n",
       "      <td>40</td>\n",
       "      <td>rural</td>\n",
       "      <td>0</td>\n",
       "    </tr>\n",
       "    <tr>\n",
       "      <th>2</th>\n",
       "      <td>60</td>\n",
       "      <td>30</td>\n",
       "      <td>rural</td>\n",
       "      <td>0</td>\n",
       "    </tr>\n",
       "    <tr>\n",
       "      <th>3</th>\n",
       "      <td>65</td>\n",
       "      <td>25</td>\n",
       "      <td>rural</td>\n",
       "      <td>0</td>\n",
       "    </tr>\n",
       "  </tbody>\n",
       "</table>\n",
       "</div>"
      ],
      "text/plain": [
       "   Education  Crime rate county type  county type encode\n",
       "0         70         140       urban                   1\n",
       "1         75         120       urban                   1\n",
       "2         80         110       urban                   1\n",
       "3         85         105       urban                   1\n",
       "0         55          50       rural                   0\n",
       "1         58          40       rural                   0\n",
       "2         60          30       rural                   0\n",
       "3         65          25       rural                   0"
      ]
     },
     "execution_count": 174,
     "metadata": {
      "tags": []
     },
     "output_type": "execute_result"
    }
   ],
   "source": [
    "df_counties"
   ]
  },
  {
   "cell_type": "code",
   "execution_count": 175,
   "metadata": {
    "colab": {
     "base_uri": "https://localhost:8080/",
     "height": 0
    },
    "id": "Vx-eW2lTurYH",
    "outputId": "660344c9-9032-4ecb-c819-4b4eb5302c74"
   },
   "outputs": [
    {
     "data": {
      "text/html": [
       "<div>\n",
       "<style scoped>\n",
       "    .dataframe tbody tr th:only-of-type {\n",
       "        vertical-align: middle;\n",
       "    }\n",
       "\n",
       "    .dataframe tbody tr th {\n",
       "        vertical-align: top;\n",
       "    }\n",
       "\n",
       "    .dataframe thead th {\n",
       "        text-align: right;\n",
       "    }\n",
       "</style>\n",
       "<table border=\"1\" class=\"dataframe\">\n",
       "  <thead>\n",
       "    <tr style=\"text-align: right;\">\n",
       "      <th></th>\n",
       "      <th>Education</th>\n",
       "      <th>Crime rate</th>\n",
       "      <th>county type encode</th>\n",
       "    </tr>\n",
       "  </thead>\n",
       "  <tbody>\n",
       "    <tr>\n",
       "      <th>Education</th>\n",
       "      <td>1.000000</td>\n",
       "      <td>0.523810</td>\n",
       "      <td>0.872872</td>\n",
       "    </tr>\n",
       "    <tr>\n",
       "      <th>Crime rate</th>\n",
       "      <td>0.523810</td>\n",
       "      <td>1.000000</td>\n",
       "      <td>0.872872</td>\n",
       "    </tr>\n",
       "    <tr>\n",
       "      <th>county type encode</th>\n",
       "      <td>0.872872</td>\n",
       "      <td>0.872872</td>\n",
       "      <td>1.000000</td>\n",
       "    </tr>\n",
       "  </tbody>\n",
       "</table>\n",
       "</div>"
      ],
      "text/plain": [
       "                    Education  Crime rate  county type encode\n",
       "Education            1.000000    0.523810            0.872872\n",
       "Crime rate           0.523810    1.000000            0.872872\n",
       "county type encode   0.872872    0.872872            1.000000"
      ]
     },
     "execution_count": 175,
     "metadata": {
      "tags": []
     },
     "output_type": "execute_result"
    }
   ],
   "source": [
    "df_counties.corr(method='spearman')"
   ]
  },
  {
   "cell_type": "markdown",
   "metadata": {
    "id": "BxMw1jz6tZBi"
   },
   "source": [
    "it turns out that each of education and crime rate are also correlated with urbanization.\n",
    "1. highly urban counties tend to have higher crime rate.\n",
    "1. highly urban counties tend to have higher education.\n",
    "1. perhaps, perhaps the reason for the positive correlation between education and crime rate is that education tends to be greater in more highly urbanized counties and crime rates also tend to be higher in such counties.\n",
    "1. another reason may be because of another covariate/lurking variable (ex. unemployment rate in such countries) in such counties.  \n",
    "1. summary,  a correlation could occur without any causal connection."
   ]
  },
  {
   "cell_type": "markdown",
   "metadata": {
    "id": "LAyUgG_Np7Jc"
   },
   "source": [
    "### Analyze Partially"
   ]
  },
  {
   "cell_type": "markdown",
   "metadata": {
    "id": "DJoSZR27qa5u"
   },
   "source": [
    "> #### Urban"
   ]
  },
  {
   "cell_type": "code",
   "execution_count": 176,
   "metadata": {
    "colab": {
     "base_uri": "https://localhost:8080/",
     "height": 0
    },
    "id": "-FCBOFmgp6KI",
    "outputId": "ce557d8c-ce6b-4700-c607-90700dca813a"
   },
   "outputs": [
    {
     "data": {
      "text/plain": [
       "<matplotlib.axes._subplots.AxesSubplot at 0x7f582f667e48>"
      ]
     },
     "execution_count": 176,
     "metadata": {
      "tags": []
     },
     "output_type": "execute_result"
    },
    {
     "data": {
      "image/png": "[encoded data removed]",
      "text/plain": [
       "<Figure size 432x288 with 1 Axes>"
      ]
     },
     "metadata": {
      "tags": []
     },
     "output_type": "display_data"
    }
   ],
   "source": [
    "sns.scatterplot(x='Education',y='Crime rate',data=df_urban,hue='county type')"
   ]
  },
  {
   "cell_type": "code",
   "execution_count": 177,
   "metadata": {
    "colab": {
     "base_uri": "https://localhost:8080/",
     "height": 0
    },
    "id": "UqA3IvSqqUrs",
    "outputId": "f1942a4b-9442-433b-8fe9-0e97920d572a"
   },
   "outputs": [
    {
     "data": {
      "text/html": [
       "<div>\n",
       "<style scoped>\n",
       "    .dataframe tbody tr th:only-of-type {\n",
       "        vertical-align: middle;\n",
       "    }\n",
       "\n",
       "    .dataframe tbody tr th {\n",
       "        vertical-align: top;\n",
       "    }\n",
       "\n",
       "    .dataframe thead th {\n",
       "        text-align: right;\n",
       "    }\n",
       "</style>\n",
       "<table border=\"1\" class=\"dataframe\">\n",
       "  <thead>\n",
       "    <tr style=\"text-align: right;\">\n",
       "      <th></th>\n",
       "      <th>Education</th>\n",
       "      <th>Crime rate</th>\n",
       "    </tr>\n",
       "  </thead>\n",
       "  <tbody>\n",
       "    <tr>\n",
       "      <th>Education</th>\n",
       "      <td>1.000000</td>\n",
       "      <td>-0.959166</td>\n",
       "    </tr>\n",
       "    <tr>\n",
       "      <th>Crime rate</th>\n",
       "      <td>-0.959166</td>\n",
       "      <td>1.000000</td>\n",
       "    </tr>\n",
       "  </tbody>\n",
       "</table>\n",
       "</div>"
      ],
      "text/plain": [
       "            Education  Crime rate\n",
       "Education    1.000000   -0.959166\n",
       "Crime rate  -0.959166    1.000000"
      ]
     },
     "execution_count": 177,
     "metadata": {
      "tags": []
     },
     "output_type": "execute_result"
    }
   ],
   "source": [
    "df_urban.corr()"
   ]
  },
  {
   "cell_type": "markdown",
   "metadata": {
    "id": "6aCh0mJJqeXC"
   },
   "source": [
    "> #### Rural"
   ]
  },
  {
   "cell_type": "markdown",
   "metadata": {
    "id": "l08gIlFSDxKA"
   },
   "source": []
  },
  {
   "cell_type": "code",
   "execution_count": 178,
   "metadata": {
    "colab": {
     "base_uri": "https://localhost:8080/",
     "height": 0
    },
    "id": "z5c_Nwesqixo",
    "outputId": "e45c3a6b-45f7-4548-8eb2-f60fcd181610"
   },
   "outputs": [
    {
     "data": {
      "text/plain": [
       "<matplotlib.axes._subplots.AxesSubplot at 0x7f582f657f60>"
      ]
     },
     "execution_count": 178,
     "metadata": {
      "tags": []
     },
     "output_type": "execute_result"
    },
    {
     "data": {
      "image/png": "[encoded data removed]",
      "text/plain": [
       "<Figure size 432x288 with 1 Axes>"
      ]
     },
     "metadata": {
      "tags": []
     },
     "output_type": "display_data"
    }
   ],
   "source": [
    "sns.scatterplot(x='Education',y='Crime rate',data=df_rural,hue='county type')"
   ]
  },
  {
   "cell_type": "code",
   "execution_count": 179,
   "metadata": {
    "colab": {
     "base_uri": "https://localhost:8080/",
     "height": 0
    },
    "id": "Hq91yudNqnWV",
    "outputId": "d28499aa-b7f7-4658-fe9e-7c1f93de2bf3"
   },
   "outputs": [
    {
     "data": {
      "text/html": [
       "<div>\n",
       "<style scoped>\n",
       "    .dataframe tbody tr th:only-of-type {\n",
       "        vertical-align: middle;\n",
       "    }\n",
       "\n",
       "    .dataframe tbody tr th {\n",
       "        vertical-align: top;\n",
       "    }\n",
       "\n",
       "    .dataframe thead th {\n",
       "        text-align: right;\n",
       "    }\n",
       "</style>\n",
       "<table border=\"1\" class=\"dataframe\">\n",
       "  <thead>\n",
       "    <tr style=\"text-align: right;\">\n",
       "      <th></th>\n",
       "      <th>Education</th>\n",
       "      <th>Crime rate</th>\n",
       "    </tr>\n",
       "  </thead>\n",
       "  <tbody>\n",
       "    <tr>\n",
       "      <th>Education</th>\n",
       "      <td>1.00000</td>\n",
       "      <td>-0.94779</td>\n",
       "    </tr>\n",
       "    <tr>\n",
       "      <th>Crime rate</th>\n",
       "      <td>-0.94779</td>\n",
       "      <td>1.00000</td>\n",
       "    </tr>\n",
       "  </tbody>\n",
       "</table>\n",
       "</div>"
      ],
      "text/plain": [
       "            Education  Crime rate\n",
       "Education     1.00000    -0.94779\n",
       "Crime rate   -0.94779     1.00000"
      ]
     },
     "execution_count": 179,
     "metadata": {
      "tags": []
     },
     "output_type": "execute_result"
    }
   ],
   "source": [
    "df_rural.corr()"
   ]
  },
  {
   "cell_type": "markdown",
   "metadata": {
    "id": "Zf-FdNfArT6W"
   },
   "source": [
    "when we analyzing the data partially we found that the correlation between Education and Crime Rate is highly negative. This insight is against the insight that we got when we analyzing the data marginally. We cannot ignore another information such as urbanization."
   ]
  },
  {
   "cell_type": "markdown",
   "metadata": {
    "id": "NFl4u7mpD0Mp"
   },
   "source": [
    "## Death Penalty and Race"
   ]
  },
  {
   "cell_type": "code",
   "execution_count": 180,
   "metadata": {
    "id": "j2jfQxT-rbHi"
   },
   "outputs": [],
   "source": [
    "outside = ['White','White','Black','Black']\n",
    "inside = ['White','Black','White','Black']\n",
    "# hier_index = list(zip(outside,inside))\n",
    "# hier_index = pd.MultiIndex.from_tuples(hier_index)\n",
    "\n",
    "death_yes = [53,11,0,4]\n",
    "death_no = [414,37,16,139]"
   ]
  },
  {
   "cell_type": "code",
   "execution_count": 181,
   "metadata": {
    "id": "HSL5QzvqFP6L"
   },
   "outputs": [],
   "source": [
    "df_death_penalty = pd.DataFrame({\n",
    "    \"victim's race\":outside,\n",
    "    \"Defendant's race\":inside,\n",
    "    'death penalty(yes)':death_yes,\n",
    "    'death penalty(no)':death_no}\n",
    ")"
   ]
  },
  {
   "cell_type": "code",
   "execution_count": 182,
   "metadata": {
    "id": "J0cwzUpVIY6G"
   },
   "outputs": [],
   "source": [
    "df_death_penalty['Total'] = df_death_penalty['death penalty(yes)'] + df_death_penalty['death penalty(no)']\n",
    "df_death_penalty['death penalty(yes) percentage'] = df_death_penalty['death penalty(yes)']/df_death_penalty['Total']\n",
    "df_death_penalty['death penalty(no) percentage'] = df_death_penalty['death penalty(no)']/df_death_penalty['Total']"
   ]
  },
  {
   "cell_type": "code",
   "execution_count": 183,
   "metadata": {
    "colab": {
     "base_uri": "https://localhost:8080/",
     "height": 0
    },
    "id": "lpD7AjFhGXHg",
    "outputId": "d730fa98-f8e7-4844-f02d-e48c40790ab3"
   },
   "outputs": [
    {
     "data": {
      "text/html": [
       "<div>\n",
       "<style scoped>\n",
       "    .dataframe tbody tr th:only-of-type {\n",
       "        vertical-align: middle;\n",
       "    }\n",
       "\n",
       "    .dataframe tbody tr th {\n",
       "        vertical-align: top;\n",
       "    }\n",
       "\n",
       "    .dataframe thead th {\n",
       "        text-align: right;\n",
       "    }\n",
       "</style>\n",
       "<table border=\"1\" class=\"dataframe\">\n",
       "  <thead>\n",
       "    <tr style=\"text-align: right;\">\n",
       "      <th></th>\n",
       "      <th>victim's race</th>\n",
       "      <th>Defendant's race</th>\n",
       "      <th>death penalty(yes)</th>\n",
       "      <th>death penalty(no)</th>\n",
       "      <th>Total</th>\n",
       "      <th>death penalty(yes) percentage</th>\n",
       "      <th>death penalty(no) percentage</th>\n",
       "    </tr>\n",
       "  </thead>\n",
       "  <tbody>\n",
       "    <tr>\n",
       "      <th>0</th>\n",
       "      <td>White</td>\n",
       "      <td>White</td>\n",
       "      <td>53</td>\n",
       "      <td>414</td>\n",
       "      <td>467</td>\n",
       "      <td>0.113490</td>\n",
       "      <td>0.886510</td>\n",
       "    </tr>\n",
       "    <tr>\n",
       "      <th>1</th>\n",
       "      <td>White</td>\n",
       "      <td>Black</td>\n",
       "      <td>11</td>\n",
       "      <td>37</td>\n",
       "      <td>48</td>\n",
       "      <td>0.229167</td>\n",
       "      <td>0.770833</td>\n",
       "    </tr>\n",
       "    <tr>\n",
       "      <th>2</th>\n",
       "      <td>Black</td>\n",
       "      <td>White</td>\n",
       "      <td>0</td>\n",
       "      <td>16</td>\n",
       "      <td>16</td>\n",
       "      <td>0.000000</td>\n",
       "      <td>1.000000</td>\n",
       "    </tr>\n",
       "    <tr>\n",
       "      <th>3</th>\n",
       "      <td>Black</td>\n",
       "      <td>Black</td>\n",
       "      <td>4</td>\n",
       "      <td>139</td>\n",
       "      <td>143</td>\n",
       "      <td>0.027972</td>\n",
       "      <td>0.972028</td>\n",
       "    </tr>\n",
       "  </tbody>\n",
       "</table>\n",
       "</div>"
      ],
      "text/plain": [
       "  victim's race  ... death penalty(no) percentage\n",
       "0         White  ...                     0.886510\n",
       "1         White  ...                     0.770833\n",
       "2         Black  ...                     1.000000\n",
       "3         Black  ...                     0.972028\n",
       "\n",
       "[4 rows x 7 columns]"
      ]
     },
     "execution_count": 183,
     "metadata": {
      "tags": []
     },
     "output_type": "execute_result"
    }
   ],
   "source": [
    "df_death_penalty"
   ]
  },
  {
   "cell_type": "markdown",
   "metadata": {
    "id": "_gz9uXVJHr8b"
   },
   "source": [
    "### White Victim"
   ]
  },
  {
   "cell_type": "code",
   "execution_count": 184,
   "metadata": {
    "id": "6b-1rQn6GZXc"
   },
   "outputs": [],
   "source": [
    "df_death_penalty_copy = df_death_penalty.copy()\n",
    "df_death_penalty_white = df_death_penalty_copy[df_death_penalty_copy[\"victim's race\"]=='White']"
   ]
  },
  {
   "cell_type": "code",
   "execution_count": 185,
   "metadata": {
    "colab": {
     "base_uri": "https://localhost:8080/",
     "height": 0
    },
    "id": "AttkrA-aG3Ih",
    "outputId": "8ff845b7-488f-484f-cd6f-4f1e2c671ff3"
   },
   "outputs": [
    {
     "data": {
      "text/html": [
       "<div>\n",
       "<style scoped>\n",
       "    .dataframe tbody tr th:only-of-type {\n",
       "        vertical-align: middle;\n",
       "    }\n",
       "\n",
       "    .dataframe tbody tr th {\n",
       "        vertical-align: top;\n",
       "    }\n",
       "\n",
       "    .dataframe thead th {\n",
       "        text-align: right;\n",
       "    }\n",
       "</style>\n",
       "<table border=\"1\" class=\"dataframe\">\n",
       "  <thead>\n",
       "    <tr style=\"text-align: right;\">\n",
       "      <th></th>\n",
       "      <th>victim's race</th>\n",
       "      <th>Defendant's race</th>\n",
       "      <th>death penalty(yes)</th>\n",
       "      <th>death penalty(no)</th>\n",
       "      <th>Total</th>\n",
       "      <th>death penalty(yes) percentage</th>\n",
       "      <th>death penalty(no) percentage</th>\n",
       "    </tr>\n",
       "  </thead>\n",
       "  <tbody>\n",
       "    <tr>\n",
       "      <th>0</th>\n",
       "      <td>White</td>\n",
       "      <td>White</td>\n",
       "      <td>53</td>\n",
       "      <td>414</td>\n",
       "      <td>467</td>\n",
       "      <td>0.113490</td>\n",
       "      <td>0.886510</td>\n",
       "    </tr>\n",
       "    <tr>\n",
       "      <th>1</th>\n",
       "      <td>White</td>\n",
       "      <td>Black</td>\n",
       "      <td>11</td>\n",
       "      <td>37</td>\n",
       "      <td>48</td>\n",
       "      <td>0.229167</td>\n",
       "      <td>0.770833</td>\n",
       "    </tr>\n",
       "  </tbody>\n",
       "</table>\n",
       "</div>"
      ],
      "text/plain": [
       "  victim's race  ... death penalty(no) percentage\n",
       "0         White  ...                     0.886510\n",
       "1         White  ...                     0.770833\n",
       "\n",
       "[2 rows x 7 columns]"
      ]
     },
     "execution_count": 185,
     "metadata": {
      "tags": []
     },
     "output_type": "execute_result"
    }
   ],
   "source": [
    "df_death_penalty_white"
   ]
  },
  {
   "cell_type": "markdown",
   "metadata": {
    "id": "k88IxHhAJVx5"
   },
   "source": [
    "### Black Victim"
   ]
  },
  {
   "cell_type": "code",
   "execution_count": 186,
   "metadata": {
    "id": "vq9iwzcNITQX"
   },
   "outputs": [],
   "source": [
    "df_death_penalty_copy = df_death_penalty.copy()\n",
    "df_death_penalty_black = df_death_penalty_copy[df_death_penalty_copy[\"victim's race\"]=='Black']"
   ]
  },
  {
   "cell_type": "code",
   "execution_count": 187,
   "metadata": {
    "colab": {
     "base_uri": "https://localhost:8080/",
     "height": 0
    },
    "id": "ltS-dO10Jfj0",
    "outputId": "31105ffe-e5cf-4d7a-cc91-0c3a0d6bf04e"
   },
   "outputs": [
    {
     "data": {
      "text/html": [
       "<div>\n",
       "<style scoped>\n",
       "    .dataframe tbody tr th:only-of-type {\n",
       "        vertical-align: middle;\n",
       "    }\n",
       "\n",
       "    .dataframe tbody tr th {\n",
       "        vertical-align: top;\n",
       "    }\n",
       "\n",
       "    .dataframe thead th {\n",
       "        text-align: right;\n",
       "    }\n",
       "</style>\n",
       "<table border=\"1\" class=\"dataframe\">\n",
       "  <thead>\n",
       "    <tr style=\"text-align: right;\">\n",
       "      <th></th>\n",
       "      <th>victim's race</th>\n",
       "      <th>Defendant's race</th>\n",
       "      <th>death penalty(yes)</th>\n",
       "      <th>death penalty(no)</th>\n",
       "      <th>Total</th>\n",
       "      <th>death penalty(yes) percentage</th>\n",
       "      <th>death penalty(no) percentage</th>\n",
       "    </tr>\n",
       "  </thead>\n",
       "  <tbody>\n",
       "    <tr>\n",
       "      <th>2</th>\n",
       "      <td>Black</td>\n",
       "      <td>White</td>\n",
       "      <td>0</td>\n",
       "      <td>16</td>\n",
       "      <td>16</td>\n",
       "      <td>0.000000</td>\n",
       "      <td>1.000000</td>\n",
       "    </tr>\n",
       "    <tr>\n",
       "      <th>3</th>\n",
       "      <td>Black</td>\n",
       "      <td>Black</td>\n",
       "      <td>4</td>\n",
       "      <td>139</td>\n",
       "      <td>143</td>\n",
       "      <td>0.027972</td>\n",
       "      <td>0.972028</td>\n",
       "    </tr>\n",
       "  </tbody>\n",
       "</table>\n",
       "</div>"
      ],
      "text/plain": [
       "  victim's race  ... death penalty(no) percentage\n",
       "2         Black  ...                     1.000000\n",
       "3         Black  ...                     0.972028\n",
       "\n",
       "[2 rows x 7 columns]"
      ]
     },
     "execution_count": 187,
     "metadata": {
      "tags": []
     },
     "output_type": "execute_result"
    }
   ],
   "source": [
    "df_death_penalty_black"
   ]
  },
  {
   "cell_type": "markdown",
   "metadata": {
    "id": "K2BFk3GSJnGO"
   },
   "source": [
    "### Ignore Victim's Race"
   ]
  },
  {
   "cell_type": "code",
   "execution_count": 188,
   "metadata": {
    "colab": {
     "base_uri": "https://localhost:8080/",
     "height": 0
    },
    "id": "daPHPQCWJg_c",
    "outputId": "6c91cd7a-5fcd-4a0d-cff5-f3e011e3bb97"
   },
   "outputs": [
    {
     "data": {
      "text/html": [
       "<div>\n",
       "<style scoped>\n",
       "    .dataframe tbody tr th:only-of-type {\n",
       "        vertical-align: middle;\n",
       "    }\n",
       "\n",
       "    .dataframe tbody tr th {\n",
       "        vertical-align: top;\n",
       "    }\n",
       "\n",
       "    .dataframe thead th {\n",
       "        text-align: right;\n",
       "    }\n",
       "</style>\n",
       "<table border=\"1\" class=\"dataframe\">\n",
       "  <thead>\n",
       "    <tr style=\"text-align: right;\">\n",
       "      <th></th>\n",
       "      <th>victim's race</th>\n",
       "      <th>Defendant's race</th>\n",
       "      <th>death penalty(yes)</th>\n",
       "      <th>death penalty(no)</th>\n",
       "      <th>Total</th>\n",
       "    </tr>\n",
       "  </thead>\n",
       "  <tbody>\n",
       "    <tr>\n",
       "      <th>0</th>\n",
       "      <td>White</td>\n",
       "      <td>White</td>\n",
       "      <td>53</td>\n",
       "      <td>414</td>\n",
       "      <td>467</td>\n",
       "    </tr>\n",
       "    <tr>\n",
       "      <th>1</th>\n",
       "      <td>White</td>\n",
       "      <td>Black</td>\n",
       "      <td>11</td>\n",
       "      <td>37</td>\n",
       "      <td>48</td>\n",
       "    </tr>\n",
       "    <tr>\n",
       "      <th>2</th>\n",
       "      <td>Black</td>\n",
       "      <td>White</td>\n",
       "      <td>0</td>\n",
       "      <td>16</td>\n",
       "      <td>16</td>\n",
       "    </tr>\n",
       "    <tr>\n",
       "      <th>3</th>\n",
       "      <td>Black</td>\n",
       "      <td>Black</td>\n",
       "      <td>4</td>\n",
       "      <td>139</td>\n",
       "      <td>143</td>\n",
       "    </tr>\n",
       "  </tbody>\n",
       "</table>\n",
       "</div>"
      ],
      "text/plain": [
       "  victim's race Defendant's race  death penalty(yes)  death penalty(no)  Total\n",
       "0         White            White                  53                414    467\n",
       "1         White            Black                  11                 37     48\n",
       "2         Black            White                   0                 16     16\n",
       "3         Black            Black                   4                139    143"
      ]
     },
     "execution_count": 188,
     "metadata": {
      "tags": []
     },
     "output_type": "execute_result"
    }
   ],
   "source": [
    "df_death_penalty.drop(columns = ['death penalty(yes) percentage','death penalty(no) percentage'], inplace = True)\n",
    "df_death_penalty"
   ]
  },
  {
   "cell_type": "code",
   "execution_count": 189,
   "metadata": {
    "colab": {
     "base_uri": "https://localhost:8080/",
     "height": 0
    },
    "id": "HWwJdDLdJmC7",
    "outputId": "9783e4f5-dc45-410f-8151-0402673053fa"
   },
   "outputs": [
    {
     "data": {
      "text/html": [
       "<div>\n",
       "<style scoped>\n",
       "    .dataframe tbody tr th:only-of-type {\n",
       "        vertical-align: middle;\n",
       "    }\n",
       "\n",
       "    .dataframe tbody tr th {\n",
       "        vertical-align: top;\n",
       "    }\n",
       "\n",
       "    .dataframe thead th {\n",
       "        text-align: right;\n",
       "    }\n",
       "</style>\n",
       "<table border=\"1\" class=\"dataframe\">\n",
       "  <thead>\n",
       "    <tr style=\"text-align: right;\">\n",
       "      <th></th>\n",
       "      <th>death penalty(yes)</th>\n",
       "      <th>death penalty(no)</th>\n",
       "      <th>Total</th>\n",
       "    </tr>\n",
       "    <tr>\n",
       "      <th>Defendant's race</th>\n",
       "      <th></th>\n",
       "      <th></th>\n",
       "      <th></th>\n",
       "    </tr>\n",
       "  </thead>\n",
       "  <tbody>\n",
       "    <tr>\n",
       "      <th>Black</th>\n",
       "      <td>15</td>\n",
       "      <td>176</td>\n",
       "      <td>191</td>\n",
       "    </tr>\n",
       "    <tr>\n",
       "      <th>White</th>\n",
       "      <td>53</td>\n",
       "      <td>430</td>\n",
       "      <td>483</td>\n",
       "    </tr>\n",
       "  </tbody>\n",
       "</table>\n",
       "</div>"
      ],
      "text/plain": [
       "                  death penalty(yes)  death penalty(no)  Total\n",
       "Defendant's race                                              \n",
       "Black                             15                176    191\n",
       "White                             53                430    483"
      ]
     },
     "execution_count": 189,
     "metadata": {
      "tags": []
     },
     "output_type": "execute_result"
    }
   ],
   "source": [
    "df_death_penalty_pivot = df_death_penalty.pivot_table(index=[\"Defendant's race\"], aggfunc = 'sum')\n",
    "df_death_penalty_pivot = df_death_penalty_pivot[['death penalty(yes)','death penalty(no)','Total']]\n",
    "df_death_penalty_pivot"
   ]
  },
  {
   "cell_type": "code",
   "execution_count": 190,
   "metadata": {
    "colab": {
     "base_uri": "https://localhost:8080/",
     "height": 0
    },
    "id": "_1h3gxBdKQoo",
    "outputId": "723c5aca-41aa-459b-fea4-e8c9295a11c3"
   },
   "outputs": [
    {
     "data": {
      "text/html": [
       "<div>\n",
       "<style scoped>\n",
       "    .dataframe tbody tr th:only-of-type {\n",
       "        vertical-align: middle;\n",
       "    }\n",
       "\n",
       "    .dataframe tbody tr th {\n",
       "        vertical-align: top;\n",
       "    }\n",
       "\n",
       "    .dataframe thead th {\n",
       "        text-align: right;\n",
       "    }\n",
       "</style>\n",
       "<table border=\"1\" class=\"dataframe\">\n",
       "  <thead>\n",
       "    <tr style=\"text-align: right;\">\n",
       "      <th></th>\n",
       "      <th>death penalty(yes)</th>\n",
       "      <th>death penalty(no)</th>\n",
       "      <th>Total</th>\n",
       "      <th>death penalty(yes) percentage</th>\n",
       "      <th>death penalty(no) percentage</th>\n",
       "    </tr>\n",
       "    <tr>\n",
       "      <th>Defendant's race</th>\n",
       "      <th></th>\n",
       "      <th></th>\n",
       "      <th></th>\n",
       "      <th></th>\n",
       "      <th></th>\n",
       "    </tr>\n",
       "  </thead>\n",
       "  <tbody>\n",
       "    <tr>\n",
       "      <th>Black</th>\n",
       "      <td>15</td>\n",
       "      <td>176</td>\n",
       "      <td>191</td>\n",
       "      <td>0.078534</td>\n",
       "      <td>0.921466</td>\n",
       "    </tr>\n",
       "    <tr>\n",
       "      <th>White</th>\n",
       "      <td>53</td>\n",
       "      <td>430</td>\n",
       "      <td>483</td>\n",
       "      <td>0.109731</td>\n",
       "      <td>0.890269</td>\n",
       "    </tr>\n",
       "  </tbody>\n",
       "</table>\n",
       "</div>"
      ],
      "text/plain": [
       "                  death penalty(yes)  ...  death penalty(no) percentage\n",
       "Defendant's race                      ...                              \n",
       "Black                             15  ...                      0.921466\n",
       "White                             53  ...                      0.890269\n",
       "\n",
       "[2 rows x 5 columns]"
      ]
     },
     "execution_count": 190,
     "metadata": {
      "tags": []
     },
     "output_type": "execute_result"
    }
   ],
   "source": [
    "df_death_penalty_pivot['Total'] = df_death_penalty_pivot['death penalty(yes)'] + df_death_penalty_pivot['death penalty(no)']\n",
    "df_death_penalty_pivot['death penalty(yes) percentage'] = df_death_penalty_pivot['death penalty(yes)']/df_death_penalty_pivot['Total']\n",
    "df_death_penalty_pivot['death penalty(no) percentage'] = df_death_penalty_pivot['death penalty(no)']/df_death_penalty_pivot['Total']\n",
    "df_death_penalty_pivot"
   ]
  },
  {
   "cell_type": "code",
   "execution_count": 190,
   "metadata": {
    "id": "o9rBsVeTMJmc"
   },
   "outputs": [],
   "source": []
  }
 ],
 "metadata": {
  "colab": {
   "name": "Basic Statitsic v2.ipynb",
   "provenance": [],
   "toc_visible": true
  },
  "hide_input": false,
  "kernelspec": {
   "display_name": "Python 3",
   "language": "python",
   "name": "python3"
  },
  "language_info": {
   "codemirror_mode": {
    "name": "ipython",
    "version": 3
   },
   "file_extension": ".py",
   "mimetype": "text/x-python",
   "name": "python",
   "nbconvert_exporter": "python",
   "pygments_lexer": "ipython3",
   "version": "3.8.3"
  },
  "varInspector": {
   "cols": {
    "lenName": 16,
    "lenType": 16,
    "lenVar": 40
   },
   "kernels_config": {
    "python": {
     "delete_cmd_postfix": "",
     "delete_cmd_prefix": "del ",
     "library": "var_list.py",
     "varRefreshCmd": "print(var_dic_list())"
    },
    "r": {
     "delete_cmd_postfix": ") ",
     "delete_cmd_prefix": "rm(",
     "library": "var_list.r",
     "varRefreshCmd": "cat(var_dic_list()) "
    }
   },
   "types_to_exclude": [
    "module",
    "function",
    "builtin_function_or_method",
    "instance",
    "_Feature"
   ],
   "window_display": false
  }
 },
 "nbformat": 4,
 "nbformat_minor": 4
}
