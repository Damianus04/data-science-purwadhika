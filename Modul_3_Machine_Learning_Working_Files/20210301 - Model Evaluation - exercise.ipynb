{
 "cells": [
  {
   "cell_type": "markdown",
   "metadata": {},
   "source": [
    "# Model Performance and Evaluation Method : bankloan dataset\n",
    "\n",
    "- Data\n",
    "- Data Splitting\n",
    "- Model Evaluation Benchmark\n",
    "- Simple Hyperprameter Tuning\n",
    "- Hyperparameter Tuning Grid Search\n",
    "\n",
    ">### Data"
   ]
  },
  {
   "cell_type": "code",
   "execution_count": 1,
   "metadata": {},
   "outputs": [],
   "source": [
    "import pandas as pd\n",
    "import numpy as np"
   ]
  },
  {
   "cell_type": "code",
   "execution_count": 4,
   "metadata": {},
   "outputs": [
    {
     "data": {
      "text/html": [
       "<div>\n",
       "<style scoped>\n",
       "    .dataframe tbody tr th:only-of-type {\n",
       "        vertical-align: middle;\n",
       "    }\n",
       "\n",
       "    .dataframe tbody tr th {\n",
       "        vertical-align: top;\n",
       "    }\n",
       "\n",
       "    .dataframe thead th {\n",
       "        text-align: right;\n",
       "    }\n",
       "</style>\n",
       "<table border=\"1\" class=\"dataframe\">\n",
       "  <thead>\n",
       "    <tr style=\"text-align: right;\">\n",
       "      <th></th>\n",
       "      <th>age</th>\n",
       "      <th>ed</th>\n",
       "      <th>employ</th>\n",
       "      <th>address</th>\n",
       "      <th>income</th>\n",
       "      <th>debtinc</th>\n",
       "      <th>creddebt</th>\n",
       "      <th>othdebt</th>\n",
       "      <th>default</th>\n",
       "    </tr>\n",
       "  </thead>\n",
       "  <tbody>\n",
       "    <tr>\n",
       "      <th>0</th>\n",
       "      <td>41</td>\n",
       "      <td>3</td>\n",
       "      <td>17</td>\n",
       "      <td>12</td>\n",
       "      <td>176</td>\n",
       "      <td>9.3</td>\n",
       "      <td>11.359392</td>\n",
       "      <td>5.008608</td>\n",
       "      <td>1</td>\n",
       "    </tr>\n",
       "    <tr>\n",
       "      <th>1</th>\n",
       "      <td>27</td>\n",
       "      <td>1</td>\n",
       "      <td>10</td>\n",
       "      <td>6</td>\n",
       "      <td>31</td>\n",
       "      <td>17.3</td>\n",
       "      <td>1.362202</td>\n",
       "      <td>4.000798</td>\n",
       "      <td>0</td>\n",
       "    </tr>\n",
       "    <tr>\n",
       "      <th>2</th>\n",
       "      <td>40</td>\n",
       "      <td>1</td>\n",
       "      <td>15</td>\n",
       "      <td>14</td>\n",
       "      <td>55</td>\n",
       "      <td>5.5</td>\n",
       "      <td>0.856075</td>\n",
       "      <td>2.168925</td>\n",
       "      <td>0</td>\n",
       "    </tr>\n",
       "    <tr>\n",
       "      <th>3</th>\n",
       "      <td>41</td>\n",
       "      <td>1</td>\n",
       "      <td>15</td>\n",
       "      <td>14</td>\n",
       "      <td>120</td>\n",
       "      <td>2.9</td>\n",
       "      <td>2.658720</td>\n",
       "      <td>0.821280</td>\n",
       "      <td>0</td>\n",
       "    </tr>\n",
       "    <tr>\n",
       "      <th>4</th>\n",
       "      <td>24</td>\n",
       "      <td>2</td>\n",
       "      <td>2</td>\n",
       "      <td>0</td>\n",
       "      <td>28</td>\n",
       "      <td>17.3</td>\n",
       "      <td>1.787436</td>\n",
       "      <td>3.056564</td>\n",
       "      <td>1</td>\n",
       "    </tr>\n",
       "    <tr>\n",
       "      <th>...</th>\n",
       "      <td>...</td>\n",
       "      <td>...</td>\n",
       "      <td>...</td>\n",
       "      <td>...</td>\n",
       "      <td>...</td>\n",
       "      <td>...</td>\n",
       "      <td>...</td>\n",
       "      <td>...</td>\n",
       "      <td>...</td>\n",
       "    </tr>\n",
       "    <tr>\n",
       "      <th>695</th>\n",
       "      <td>36</td>\n",
       "      <td>2</td>\n",
       "      <td>6</td>\n",
       "      <td>15</td>\n",
       "      <td>27</td>\n",
       "      <td>4.6</td>\n",
       "      <td>0.262062</td>\n",
       "      <td>0.979938</td>\n",
       "      <td>1</td>\n",
       "    </tr>\n",
       "    <tr>\n",
       "      <th>696</th>\n",
       "      <td>29</td>\n",
       "      <td>2</td>\n",
       "      <td>6</td>\n",
       "      <td>4</td>\n",
       "      <td>21</td>\n",
       "      <td>11.5</td>\n",
       "      <td>0.369495</td>\n",
       "      <td>2.045505</td>\n",
       "      <td>0</td>\n",
       "    </tr>\n",
       "    <tr>\n",
       "      <th>697</th>\n",
       "      <td>33</td>\n",
       "      <td>1</td>\n",
       "      <td>15</td>\n",
       "      <td>3</td>\n",
       "      <td>32</td>\n",
       "      <td>7.6</td>\n",
       "      <td>0.491264</td>\n",
       "      <td>1.940736</td>\n",
       "      <td>0</td>\n",
       "    </tr>\n",
       "    <tr>\n",
       "      <th>698</th>\n",
       "      <td>45</td>\n",
       "      <td>1</td>\n",
       "      <td>19</td>\n",
       "      <td>22</td>\n",
       "      <td>77</td>\n",
       "      <td>8.4</td>\n",
       "      <td>2.302608</td>\n",
       "      <td>4.165392</td>\n",
       "      <td>0</td>\n",
       "    </tr>\n",
       "    <tr>\n",
       "      <th>699</th>\n",
       "      <td>37</td>\n",
       "      <td>1</td>\n",
       "      <td>12</td>\n",
       "      <td>14</td>\n",
       "      <td>44</td>\n",
       "      <td>14.7</td>\n",
       "      <td>2.994684</td>\n",
       "      <td>3.473316</td>\n",
       "      <td>0</td>\n",
       "    </tr>\n",
       "  </tbody>\n",
       "</table>\n",
       "<p>700 rows × 9 columns</p>\n",
       "</div>"
      ],
      "text/plain": [
       "     age  ed  employ  address  income  debtinc   creddebt   othdebt  default\n",
       "0     41   3      17       12     176      9.3  11.359392  5.008608        1\n",
       "1     27   1      10        6      31     17.3   1.362202  4.000798        0\n",
       "2     40   1      15       14      55      5.5   0.856075  2.168925        0\n",
       "3     41   1      15       14     120      2.9   2.658720  0.821280        0\n",
       "4     24   2       2        0      28     17.3   1.787436  3.056564        1\n",
       "..   ...  ..     ...      ...     ...      ...        ...       ...      ...\n",
       "695   36   2       6       15      27      4.6   0.262062  0.979938        1\n",
       "696   29   2       6        4      21     11.5   0.369495  2.045505        0\n",
       "697   33   1      15        3      32      7.6   0.491264  1.940736        0\n",
       "698   45   1      19       22      77      8.4   2.302608  4.165392        0\n",
       "699   37   1      12       14      44     14.7   2.994684  3.473316        0\n",
       "\n",
       "[700 rows x 9 columns]"
      ]
     },
     "execution_count": 4,
     "metadata": {},
     "output_type": "execute_result"
    }
   ],
   "source": [
    "bankloan = pd.read_csv('data/Data/bankloan.csv')\n",
    "bankloan"
   ]
  },
  {
   "cell_type": "markdown",
   "metadata": {},
   "source": [
    ">### Data Splitting"
   ]
  },
  {
   "cell_type": "code",
   "execution_count": 6,
   "metadata": {},
   "outputs": [],
   "source": [
    "from sklearn.linear_model import LogisticRegression\n",
    "from sklearn.neighbors import KNeighborsClassifier\n",
    "from sklearn.tree import DecisionTreeClassifier\n",
    "\n",
    "from sklearn.model_selection import train_test_split\n",
    "from sklearn.metrics import confusion_matrix, classification_report, f1_score, recall_score, precision_score"
   ]
  },
  {
   "cell_type": "code",
   "execution_count": 7,
   "metadata": {},
   "outputs": [],
   "source": [
    "fitur = ['employ', 'debtinc', 'creddebt', 'othdebt']\n",
    "target = ['default']"
   ]
  },
  {
   "cell_type": "code",
   "execution_count": 8,
   "metadata": {},
   "outputs": [],
   "source": [
    "X = bankloan[fitur]\n",
    "y = bankloan[target]"
   ]
  },
  {
   "cell_type": "markdown",
   "metadata": {},
   "source": [
    "![image.png](data:image/png;base64,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)"
   ]
  },
  {
   "cell_type": "code",
   "execution_count": 10,
   "metadata": {},
   "outputs": [
    {
     "data": {
      "text/plain": [
       "((560, 4), (140, 4), (560, 1), (140, 1))"
      ]
     },
     "execution_count": 10,
     "metadata": {},
     "output_type": "execute_result"
    }
   ],
   "source": [
    "X_train_val, X_test, y_train_val, y_test = train_test_split(\n",
    "    X,\n",
    "    y,\n",
    "    stratify=y,\n",
    "    test_size=0.2,\n",
    "    random_state=2020\n",
    ")\n",
    "\n",
    "X_train_val.shape, X_test.shape, y_train_val.shape, y_test.shape"
   ]
  },
  {
   "cell_type": "markdown",
   "metadata": {},
   "source": [
    ">### Model Evaluation: Benchmark\n",
    "\n",
    "![image.png](data:image/png;base64,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)"
   ]
  },
  {
   "cell_type": "code",
   "execution_count": null,
   "metadata": {},
   "outputs": [],
   "source": []
  },
  {
   "cell_type": "code",
   "execution_count": null,
   "metadata": {},
   "outputs": [],
   "source": []
  },
  {
   "cell_type": "code",
   "execution_count": null,
   "metadata": {},
   "outputs": [],
   "source": []
  },
  {
   "cell_type": "code",
   "execution_count": null,
   "metadata": {},
   "outputs": [],
   "source": []
  },
  {
   "cell_type": "code",
   "execution_count": null,
   "metadata": {},
   "outputs": [],
   "source": []
  },
  {
   "cell_type": "code",
   "execution_count": null,
   "metadata": {},
   "outputs": [],
   "source": []
  }
 ],
 "metadata": {
  "kernelspec": {
   "display_name": "Python [conda env:ml_dl]",
   "language": "python",
   "name": "conda-env-ml_dl-py"
  },
  "language_info": {
   "codemirror_mode": {
    "name": "ipython",
    "version": 3
   },
   "file_extension": ".py",
   "mimetype": "text/x-python",
   "name": "python",
   "nbconvert_exporter": "python",
   "pygments_lexer": "ipython3",
   "version": "3.7.6"
  }
 },
 "nbformat": 4,
 "nbformat_minor": 4
}
