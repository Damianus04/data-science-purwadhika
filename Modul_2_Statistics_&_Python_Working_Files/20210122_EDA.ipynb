{
 "cells": [
  {
   "cell_type": "markdown",
   "metadata": {},
   "source": [
    "# Numpy"
   ]
  },
  {
   "cell_type": "code",
   "execution_count": 1,
   "metadata": {},
   "outputs": [
    {
     "name": "stderr",
     "output_type": "stream",
     "text": [
      "C:\\Users\\Damianus Deni\\AppData\\Roaming\\Python\\Python37\\site-packages\\ipykernel\\parentpoller.py:113: UserWarning: Parent poll failed.  If the frontend dies,\n",
      "                the kernel may be left running.  Please let us know\n",
      "                about your system (bitness, Python, etc.) at\n",
      "                ipython-dev@scipy.org\n",
      "  ipython-dev@scipy.org\"\"\")\n"
     ]
    }
   ],
   "source": [
    "import numpy as np"
   ]
  },
  {
   "cell_type": "markdown",
   "metadata": {},
   "source": [
    "### Basic array\n",
    "1. List vs Array"
   ]
  },
  {
   "cell_type": "code",
   "execution_count": 9,
   "metadata": {},
   "outputs": [
    {
     "data": {
      "text/plain": [
       "([1, 2, 3, 4, 5], \"type: <class 'list'>\")"
      ]
     },
     "execution_count": 9,
     "metadata": {},
     "output_type": "execute_result"
    }
   ],
   "source": [
    "# List\n",
    "a = [1,2,3,4,5]\n",
    "a, f\"type: {type(a)}\" "
   ]
  },
  {
   "cell_type": "code",
   "execution_count": 8,
   "metadata": {},
   "outputs": [
    {
     "data": {
      "text/plain": [
       "(array([1, 2, 3, 4, 5]), \"type: <class 'numpy.ndarray'>\")"
      ]
     },
     "execution_count": 8,
     "metadata": {},
     "output_type": "execute_result"
    }
   ],
   "source": [
    "# Array\n",
    "b = np.array(a)\n",
    "b, f\"type: {type(b)}\" # --> n = jumlah d = dimensi array"
   ]
  },
  {
   "cell_type": "markdown",
   "metadata": {},
   "source": [
    "2. Array is Elementwise"
   ]
  },
  {
   "cell_type": "code",
   "execution_count": 10,
   "metadata": {},
   "outputs": [
    {
     "name": "stdout",
     "output_type": "stream",
     "text": [
      "list: [1, 2, 3, 4, 5]\n",
      "list a plus 1: [1, 2, 3, 4, 5, 1]\n"
     ]
    }
   ],
   "source": [
    "# if list got operated (+ - : *)\n",
    "print(f\"list: {a}\")\n",
    "print(f\"list a plus 1: {a + [1]}\")"
   ]
  },
  {
   "cell_type": "code",
   "execution_count": 13,
   "metadata": {},
   "outputs": [
    {
     "name": "stdout",
     "output_type": "stream",
     "text": [
      "list: [1 2 3 4 5]\n",
      "list b plus 1: [2 3 4 5 6] --> '1' will be added to each element, \n",
      "this is called elementwise\n"
     ]
    }
   ],
   "source": [
    "# if array got operated (+ - : *)\n",
    "print(f\"list: {b}\")\n",
    "print(f\"list b plus 1: {b + [1]} --> '1' will be added to each element, \\nthis is called elementwise\")"
   ]
  },
  {
   "cell_type": "code",
   "execution_count": 14,
   "metadata": {},
   "outputs": [
    {
     "data": {
      "text/plain": [
       "[1, 2, 3, 4, 5, 1, 2, 3, 4, 5]"
      ]
     },
     "execution_count": 14,
     "metadata": {},
     "output_type": "execute_result"
    }
   ],
   "source": [
    "a * 2"
   ]
  },
  {
   "cell_type": "code",
   "execution_count": 15,
   "metadata": {},
   "outputs": [
    {
     "data": {
      "text/plain": [
       "array([ 2,  4,  6,  8, 10])"
      ]
     },
     "execution_count": 15,
     "metadata": {},
     "output_type": "execute_result"
    }
   ],
   "source": [
    "b * 2"
   ]
  },
  {
   "cell_type": "markdown",
   "metadata": {},
   "source": [
    "### Range\n",
    "1. Python Range"
   ]
  },
  {
   "cell_type": "code",
   "execution_count": 19,
   "metadata": {},
   "outputs": [
    {
     "ename": "TypeError",
     "evalue": "'float' object cannot be interpreted as an integer",
     "output_type": "error",
     "traceback": [
      "\u001b[1;31m---------------------------------------------------------------------------\u001b[0m",
      "\u001b[1;31mTypeError\u001b[0m                                 Traceback (most recent call last)",
      "\u001b[1;32m<ipython-input-19-6c422e8b3941>\u001b[0m in \u001b[0;36m<module>\u001b[1;34m\u001b[0m\n\u001b[1;32m----> 1\u001b[1;33m \u001b[0mrange\u001b[0m\u001b[1;33m(\u001b[0m\u001b[1;36m5\u001b[0m\u001b[1;33m,\u001b[0m \u001b[1;36m10\u001b[0m\u001b[1;33m,\u001b[0m \u001b[1;36m0.5\u001b[0m\u001b[1;33m)\u001b[0m\u001b[1;33m\u001b[0m\u001b[1;33m\u001b[0m\u001b[0m\n\u001b[0m\u001b[0;32m      2\u001b[0m \u001b[1;31m# Built in from Python\u001b[0m\u001b[1;33m\u001b[0m\u001b[1;33m\u001b[0m\u001b[1;33m\u001b[0m\u001b[0m\n\u001b[0;32m      3\u001b[0m \u001b[1;31m# cannot accept step in float\u001b[0m\u001b[1;33m\u001b[0m\u001b[1;33m\u001b[0m\u001b[1;33m\u001b[0m\u001b[0m\n",
      "\u001b[1;31mTypeError\u001b[0m: 'float' object cannot be interpreted as an integer"
     ]
    }
   ],
   "source": [
    "range(5, 10, 0.5) \n",
    "# Built in from Python\n",
    "# cannot accept step in float"
   ]
  },
  {
   "cell_type": "markdown",
   "metadata": {},
   "source": [
    "2. Numpy Range"
   ]
  },
  {
   "cell_type": "code",
   "execution_count": 17,
   "metadata": {},
   "outputs": [
    {
     "data": {
      "text/plain": [
       "array([5. , 5.5, 6. , 6.5, 7. , 7.5, 8. , 8.5, 9. , 9.5])"
      ]
     },
     "execution_count": 17,
     "metadata": {},
     "output_type": "execute_result"
    }
   ],
   "source": [
    "np.arange(5,10, 0.5) \n",
    "# step can use FLOAT"
   ]
  },
  {
   "cell_type": "markdown",
   "metadata": {},
   "source": [
    "### Matrix\n",
    "\n",
    "list of numpy use --> to generate list of numbers\n",
    "- np.nan = creating missing value\n",
    "- np.linspace\n",
    "- np.arange\n",
    "- np.random.randint\n",
    "- np.random\n",
    "- np.logspace"
   ]
  },
  {
   "cell_type": "code",
   "execution_count": 21,
   "metadata": {},
   "outputs": [
    {
     "data": {
      "text/plain": [
       "[[1, 2, 3], [4, 5, 6], [7, 8, 9]]"
      ]
     },
     "execution_count": 21,
     "metadata": {},
     "output_type": "execute_result"
    }
   ],
   "source": [
    "### Array Multi dimensi => Matrix\n",
    "a = [\n",
    "    [1,2,3],\n",
    "    [4,5,6],\n",
    "    [7,8,9]\n",
    "]\n",
    "\n",
    "a"
   ]
  },
  {
   "cell_type": "code",
   "execution_count": 32,
   "metadata": {},
   "outputs": [
    {
     "data": {
      "text/plain": [
       "array([[1, 2, 3],\n",
       "       [4, 5, 6],\n",
       "       [7, 8, 9]])"
      ]
     },
     "execution_count": 32,
     "metadata": {},
     "output_type": "execute_result"
    }
   ],
   "source": [
    "aNum = np.array(a)\n",
    "aNum"
   ]
  },
  {
   "cell_type": "code",
   "execution_count": 20,
   "metadata": {},
   "outputs": [
    {
     "data": {
      "text/plain": [
       "array([ 1.,  4.,  7., 10.])"
      ]
     },
     "execution_count": 20,
     "metadata": {},
     "output_type": "execute_result"
    }
   ],
   "source": [
    "# Linspace => Linear space\n",
    "np.linspace(1, 10, 4)"
   ]
  },
  {
   "cell_type": "code",
   "execution_count": 33,
   "metadata": {},
   "outputs": [
    {
     "data": {
      "text/plain": [
       "array([1, 2, 3, 4, 5])"
      ]
     },
     "execution_count": 33,
     "metadata": {},
     "output_type": "execute_result"
    }
   ],
   "source": [
    "b"
   ]
  },
  {
   "cell_type": "code",
   "execution_count": 35,
   "metadata": {},
   "outputs": [
    {
     "data": {
      "text/plain": [
       "1"
      ]
     },
     "execution_count": 35,
     "metadata": {},
     "output_type": "execute_result"
    }
   ],
   "source": [
    "b.ndim"
   ]
  },
  {
   "cell_type": "code",
   "execution_count": 36,
   "metadata": {},
   "outputs": [
    {
     "data": {
      "text/plain": [
       "2"
      ]
     },
     "execution_count": 36,
     "metadata": {},
     "output_type": "execute_result"
    }
   ],
   "source": [
    "aNum.ndim"
   ]
  },
  {
   "cell_type": "code",
   "execution_count": 37,
   "metadata": {},
   "outputs": [
    {
     "data": {
      "text/plain": [
       "5"
      ]
     },
     "execution_count": 37,
     "metadata": {},
     "output_type": "execute_result"
    }
   ],
   "source": [
    "b.size"
   ]
  },
  {
   "cell_type": "code",
   "execution_count": 38,
   "metadata": {},
   "outputs": [
    {
     "data": {
      "text/plain": [
       "9"
      ]
     },
     "execution_count": 38,
     "metadata": {},
     "output_type": "execute_result"
    }
   ],
   "source": [
    "aNum.size"
   ]
  },
  {
   "cell_type": "code",
   "execution_count": 42,
   "metadata": {},
   "outputs": [
    {
     "data": {
      "text/plain": [
       "array([0., 0., 0., 0., 0.])"
      ]
     },
     "execution_count": 42,
     "metadata": {},
     "output_type": "execute_result"
    }
   ],
   "source": [
    "np.zeros(5)"
   ]
  },
  {
   "cell_type": "code",
   "execution_count": 41,
   "metadata": {},
   "outputs": [
    {
     "data": {
      "text/plain": [
       "array([[0., 0., 0., 0., 0.],\n",
       "       [0., 0., 0., 0., 0.],\n",
       "       [0., 0., 0., 0., 0.],\n",
       "       [0., 0., 0., 0., 0.],\n",
       "       [0., 0., 0., 0., 0.]])"
      ]
     },
     "execution_count": 41,
     "metadata": {},
     "output_type": "execute_result"
    }
   ],
   "source": [
    "np.zeros((5,5))"
   ]
  },
  {
   "cell_type": "code",
   "execution_count": 44,
   "metadata": {},
   "outputs": [
    {
     "data": {
      "text/plain": [
       "array([1., 1., 1., 1., 1.])"
      ]
     },
     "execution_count": 44,
     "metadata": {},
     "output_type": "execute_result"
    }
   ],
   "source": [
    "np.ones(5)"
   ]
  },
  {
   "cell_type": "code",
   "execution_count": 45,
   "metadata": {},
   "outputs": [
    {
     "data": {
      "text/plain": [
       "array([[1., 1., 1., 1., 1.],\n",
       "       [1., 1., 1., 1., 1.],\n",
       "       [1., 1., 1., 1., 1.],\n",
       "       [1., 1., 1., 1., 1.],\n",
       "       [1., 1., 1., 1., 1.]])"
      ]
     },
     "execution_count": 45,
     "metadata": {},
     "output_type": "execute_result"
    }
   ],
   "source": [
    "np.ones((5,5))"
   ]
  },
  {
   "cell_type": "code",
   "execution_count": 46,
   "metadata": {},
   "outputs": [
    {
     "data": {
      "text/plain": [
       "array([[1., 0., 0., 0., 0.],\n",
       "       [0., 1., 0., 0., 0.],\n",
       "       [0., 0., 1., 0., 0.],\n",
       "       [0., 0., 0., 1., 0.],\n",
       "       [0., 0., 0., 0., 1.]])"
      ]
     },
     "execution_count": 46,
     "metadata": {},
     "output_type": "execute_result"
    }
   ],
   "source": [
    "np.identity(5)"
   ]
  },
  {
   "cell_type": "code",
   "execution_count": 47,
   "metadata": {},
   "outputs": [
    {
     "data": {
      "text/plain": [
       "array([[1., 0., 0., 0., 0.],\n",
       "       [0., 1., 0., 0., 0.],\n",
       "       [0., 0., 1., 0., 0.],\n",
       "       [0., 0., 0., 1., 0.],\n",
       "       [0., 0., 0., 0., 1.]])"
      ]
     },
     "execution_count": 47,
     "metadata": {},
     "output_type": "execute_result"
    }
   ],
   "source": [
    "np.eye(5)"
   ]
  },
  {
   "cell_type": "code",
   "execution_count": 48,
   "metadata": {},
   "outputs": [],
   "source": [
    "a = [1,2,3,4,5]\n",
    "b = [6,7,8,9,10]"
   ]
  },
  {
   "cell_type": "code",
   "execution_count": 49,
   "metadata": {},
   "outputs": [],
   "source": [
    "aNum = np.array(a)\n",
    "bNum = np.array(b)"
   ]
  },
  {
   "cell_type": "code",
   "execution_count": 50,
   "metadata": {},
   "outputs": [
    {
     "data": {
      "text/plain": [
       "[1, 2, 3, 4, 5, 6, 7, 8, 9, 10]"
      ]
     },
     "execution_count": 50,
     "metadata": {},
     "output_type": "execute_result"
    }
   ],
   "source": [
    "a + b"
   ]
  },
  {
   "cell_type": "code",
   "execution_count": 51,
   "metadata": {},
   "outputs": [
    {
     "data": {
      "text/plain": [
       "array([ 7,  9, 11, 13, 15])"
      ]
     },
     "execution_count": 51,
     "metadata": {},
     "output_type": "execute_result"
    }
   ],
   "source": [
    "aNum + bNum"
   ]
  },
  {
   "cell_type": "code",
   "execution_count": 52,
   "metadata": {},
   "outputs": [
    {
     "ename": "TypeError",
     "evalue": "can't multiply sequence by non-int of type 'list'",
     "output_type": "error",
     "traceback": [
      "\u001b[1;31m---------------------------------------------------------------------------\u001b[0m",
      "\u001b[1;31mTypeError\u001b[0m                                 Traceback (most recent call last)",
      "\u001b[1;32m<ipython-input-52-9bc1a869709f>\u001b[0m in \u001b[0;36m<module>\u001b[1;34m\u001b[0m\n\u001b[1;32m----> 1\u001b[1;33m \u001b[0ma\u001b[0m \u001b[1;33m*\u001b[0m \u001b[0mb\u001b[0m\u001b[1;33m\u001b[0m\u001b[1;33m\u001b[0m\u001b[0m\n\u001b[0m",
      "\u001b[1;31mTypeError\u001b[0m: can't multiply sequence by non-int of type 'list'"
     ]
    }
   ],
   "source": [
    "a * b"
   ]
  },
  {
   "cell_type": "code",
   "execution_count": 53,
   "metadata": {},
   "outputs": [
    {
     "data": {
      "text/plain": [
       "array([ 6, 14, 24, 36, 50])"
      ]
     },
     "execution_count": 53,
     "metadata": {},
     "output_type": "execute_result"
    }
   ],
   "source": [
    "aNum * bNum"
   ]
  },
  {
   "cell_type": "code",
   "execution_count": 54,
   "metadata": {},
   "outputs": [
    {
     "ename": "TypeError",
     "evalue": "unsupported operand type(s) for -: 'list' and 'list'",
     "output_type": "error",
     "traceback": [
      "\u001b[1;31m---------------------------------------------------------------------------\u001b[0m",
      "\u001b[1;31mTypeError\u001b[0m                                 Traceback (most recent call last)",
      "\u001b[1;32m<ipython-input-54-09bd029d0285>\u001b[0m in \u001b[0;36m<module>\u001b[1;34m\u001b[0m\n\u001b[1;32m----> 1\u001b[1;33m \u001b[0ma\u001b[0m \u001b[1;33m-\u001b[0m \u001b[0mb\u001b[0m\u001b[1;33m\u001b[0m\u001b[1;33m\u001b[0m\u001b[0m\n\u001b[0m",
      "\u001b[1;31mTypeError\u001b[0m: unsupported operand type(s) for -: 'list' and 'list'"
     ]
    }
   ],
   "source": [
    "a - b"
   ]
  },
  {
   "cell_type": "code",
   "execution_count": 55,
   "metadata": {},
   "outputs": [
    {
     "data": {
      "text/plain": [
       "array([-5, -5, -5, -5, -5])"
      ]
     },
     "execution_count": 55,
     "metadata": {},
     "output_type": "execute_result"
    }
   ],
   "source": [
    "aNum - bNum"
   ]
  },
  {
   "cell_type": "code",
   "execution_count": 56,
   "metadata": {},
   "outputs": [],
   "source": [
    "aNum = np.arange(10) ** 2"
   ]
  },
  {
   "cell_type": "code",
   "execution_count": 57,
   "metadata": {},
   "outputs": [
    {
     "data": {
      "text/plain": [
       "array([ 0,  1,  4,  9, 16, 25, 36, 49, 64, 81], dtype=int32)"
      ]
     },
     "execution_count": 57,
     "metadata": {},
     "output_type": "execute_result"
    }
   ],
   "source": [
    "aNum"
   ]
  },
  {
   "cell_type": "code",
   "execution_count": 58,
   "metadata": {},
   "outputs": [
    {
     "data": {
      "text/plain": [
       "4"
      ]
     },
     "execution_count": 58,
     "metadata": {},
     "output_type": "execute_result"
    }
   ],
   "source": [
    "aNum[2]"
   ]
  },
  {
   "cell_type": "code",
   "execution_count": 59,
   "metadata": {},
   "outputs": [
    {
     "data": {
      "text/plain": [
       "81"
      ]
     },
     "execution_count": 59,
     "metadata": {},
     "output_type": "execute_result"
    }
   ],
   "source": [
    "aNum[-1]"
   ]
  },
  {
   "cell_type": "code",
   "execution_count": 60,
   "metadata": {},
   "outputs": [
    {
     "data": {
      "text/plain": [
       "16"
      ]
     },
     "execution_count": 60,
     "metadata": {},
     "output_type": "execute_result"
    }
   ],
   "source": [
    "aNum[4]"
   ]
  },
  {
   "cell_type": "code",
   "execution_count": 61,
   "metadata": {},
   "outputs": [
    {
     "data": {
      "text/plain": [
       "array([1, 4, 9], dtype=int32)"
      ]
     },
     "execution_count": 61,
     "metadata": {},
     "output_type": "execute_result"
    }
   ],
   "source": [
    "aNum[1:4]"
   ]
  },
  {
   "cell_type": "code",
   "execution_count": 62,
   "metadata": {},
   "outputs": [
    {
     "data": {
      "text/plain": [
       "array([ 0,  1,  4,  9, 16], dtype=int32)"
      ]
     },
     "execution_count": 62,
     "metadata": {},
     "output_type": "execute_result"
    }
   ],
   "source": [
    "aNum[:5]"
   ]
  },
  {
   "cell_type": "code",
   "execution_count": 63,
   "metadata": {},
   "outputs": [
    {
     "data": {
      "text/plain": [
       "array([25, 36, 49, 64, 81], dtype=int32)"
      ]
     },
     "execution_count": 63,
     "metadata": {},
     "output_type": "execute_result"
    }
   ],
   "source": [
    "aNum[5:]"
   ]
  },
  {
   "cell_type": "code",
   "execution_count": 64,
   "metadata": {},
   "outputs": [],
   "source": [
    "a = [\n",
    "    [1,2,3],\n",
    "    [4,5,6],\n",
    "    [7,8,9]\n",
    "]"
   ]
  },
  {
   "cell_type": "code",
   "execution_count": 65,
   "metadata": {},
   "outputs": [],
   "source": [
    "aMatrix = np.array(a)"
   ]
  },
  {
   "cell_type": "code",
   "execution_count": 66,
   "metadata": {},
   "outputs": [
    {
     "data": {
      "text/plain": [
       "3"
      ]
     },
     "execution_count": 66,
     "metadata": {},
     "output_type": "execute_result"
    }
   ],
   "source": [
    "aMatrix[0][2]"
   ]
  },
  {
   "cell_type": "code",
   "execution_count": 67,
   "metadata": {},
   "outputs": [],
   "source": [
    "A = [\n",
    "    [2, 3, 4],\n",
    "    [4, 5, 6]\n",
    "]"
   ]
  },
  {
   "cell_type": "code",
   "execution_count": 68,
   "metadata": {},
   "outputs": [],
   "source": [
    "AMt = np.array(A)"
   ]
  },
  {
   "cell_type": "code",
   "execution_count": 71,
   "metadata": {},
   "outputs": [
    {
     "data": {
      "text/plain": [
       "(2, 3)"
      ]
     },
     "execution_count": 71,
     "metadata": {},
     "output_type": "execute_result"
    }
   ],
   "source": [
    "AMt.shape"
   ]
  },
  {
   "cell_type": "code",
   "execution_count": 73,
   "metadata": {},
   "outputs": [
    {
     "data": {
      "text/plain": [
       "array([[2, 3, 4],\n",
       "       [4, 5, 6]])"
      ]
     },
     "execution_count": 73,
     "metadata": {},
     "output_type": "execute_result"
    }
   ],
   "source": [
    "AMt"
   ]
  },
  {
   "cell_type": "code",
   "execution_count": 76,
   "metadata": {},
   "outputs": [
    {
     "data": {
      "text/plain": [
       "array([[2, 4],\n",
       "       [3, 5],\n",
       "       [4, 6]])"
      ]
     },
     "execution_count": 76,
     "metadata": {},
     "output_type": "execute_result"
    }
   ],
   "source": [
    "AMt.transpose()"
   ]
  },
  {
   "cell_type": "code",
   "execution_count": 77,
   "metadata": {},
   "outputs": [
    {
     "data": {
      "text/plain": [
       "array([[2, 4],\n",
       "       [3, 5],\n",
       "       [4, 6]])"
      ]
     },
     "execution_count": 77,
     "metadata": {},
     "output_type": "execute_result"
    }
   ],
   "source": [
    "np.transpose(AMt)"
   ]
  },
  {
   "cell_type": "code",
   "execution_count": 78,
   "metadata": {},
   "outputs": [
    {
     "data": {
      "text/plain": [
       "array([[2, 4],\n",
       "       [3, 5],\n",
       "       [4, 6]])"
      ]
     },
     "execution_count": 78,
     "metadata": {},
     "output_type": "execute_result"
    }
   ],
   "source": [
    "AMt.T"
   ]
  },
  {
   "cell_type": "code",
   "execution_count": 79,
   "metadata": {},
   "outputs": [
    {
     "data": {
      "text/plain": [
       "array([[2],\n",
       "       [3],\n",
       "       [4],\n",
       "       [4],\n",
       "       [5],\n",
       "       [6]])"
      ]
     },
     "execution_count": 79,
     "metadata": {},
     "output_type": "execute_result"
    }
   ],
   "source": [
    "AMt.reshape(6,1)"
   ]
  },
  {
   "cell_type": "code",
   "execution_count": 80,
   "metadata": {},
   "outputs": [
    {
     "data": {
      "text/plain": [
       "array([[2, 3, 4, 4, 5, 6]])"
      ]
     },
     "execution_count": 80,
     "metadata": {},
     "output_type": "execute_result"
    }
   ],
   "source": [
    "AMt.reshape(1,6)"
   ]
  },
  {
   "cell_type": "code",
   "execution_count": 81,
   "metadata": {},
   "outputs": [
    {
     "data": {
      "text/plain": [
       "array([[2, 3],\n",
       "       [4, 4],\n",
       "       [5, 6]])"
      ]
     },
     "execution_count": 81,
     "metadata": {},
     "output_type": "execute_result"
    }
   ],
   "source": [
    "AMt.reshape(3, 2)"
   ]
  },
  {
   "cell_type": "code",
   "execution_count": 82,
   "metadata": {},
   "outputs": [],
   "source": [
    "#### Statistics Operational"
   ]
  },
  {
   "cell_type": "code",
   "execution_count": 84,
   "metadata": {},
   "outputs": [],
   "source": [
    "B = np.array([2, 50, 26, 23, 10, 3, 1, 100, 10, 8])"
   ]
  },
  {
   "cell_type": "code",
   "execution_count": 85,
   "metadata": {},
   "outputs": [
    {
     "data": {
      "text/plain": [
       "23.3"
      ]
     },
     "execution_count": 85,
     "metadata": {},
     "output_type": "execute_result"
    }
   ],
   "source": [
    "np.mean(B)"
   ]
  },
  {
   "cell_type": "code",
   "execution_count": 86,
   "metadata": {},
   "outputs": [
    {
     "data": {
      "text/plain": [
       "10.0"
      ]
     },
     "execution_count": 86,
     "metadata": {},
     "output_type": "execute_result"
    }
   ],
   "source": [
    "np.median(B)"
   ]
  },
  {
   "cell_type": "code",
   "execution_count": 87,
   "metadata": {},
   "outputs": [
    {
     "data": {
      "text/plain": [
       "4.25"
      ]
     },
     "execution_count": 87,
     "metadata": {},
     "output_type": "execute_result"
    }
   ],
   "source": [
    "np.percentile(B, 25) # Q1 => Quartile 1 = 25%"
   ]
  },
  {
   "cell_type": "code",
   "execution_count": 88,
   "metadata": {},
   "outputs": [
    {
     "data": {
      "text/plain": [
       "25.25"
      ]
     },
     "execution_count": 88,
     "metadata": {},
     "output_type": "execute_result"
    }
   ],
   "source": [
    "np.percentile(B, 75) # Q3 => Quartile 3 = 75%"
   ]
  },
  {
   "cell_type": "code",
   "execution_count": 89,
   "metadata": {},
   "outputs": [
    {
     "data": {
      "text/plain": [
       "100"
      ]
     },
     "execution_count": 89,
     "metadata": {},
     "output_type": "execute_result"
    }
   ],
   "source": [
    "np.max(B)"
   ]
  },
  {
   "cell_type": "code",
   "execution_count": 90,
   "metadata": {},
   "outputs": [
    {
     "data": {
      "text/plain": [
       "1"
      ]
     },
     "execution_count": 90,
     "metadata": {},
     "output_type": "execute_result"
    }
   ],
   "source": [
    "np.min(B)"
   ]
  },
  {
   "cell_type": "code",
   "execution_count": 91,
   "metadata": {},
   "outputs": [
    {
     "data": {
      "text/plain": [
       "array([  1,   2,   3,   8,  10,  10,  23,  26,  50, 100])"
      ]
     },
     "execution_count": 91,
     "metadata": {},
     "output_type": "execute_result"
    }
   ],
   "source": [
    "np.sort(B)"
   ]
  },
  {
   "cell_type": "code",
   "execution_count": 92,
   "metadata": {},
   "outputs": [
    {
     "data": {
      "text/plain": [
       "7"
      ]
     },
     "execution_count": 92,
     "metadata": {},
     "output_type": "execute_result"
    }
   ],
   "source": [
    "np.argmax(B)"
   ]
  },
  {
   "cell_type": "code",
   "execution_count": 93,
   "metadata": {},
   "outputs": [
    {
     "data": {
      "text/plain": [
       "6"
      ]
     },
     "execution_count": 93,
     "metadata": {},
     "output_type": "execute_result"
    }
   ],
   "source": [
    "np.argmin(B)"
   ]
  },
  {
   "cell_type": "code",
   "execution_count": 94,
   "metadata": {},
   "outputs": [],
   "source": [
    "##### Membuat angka Random"
   ]
  },
  {
   "cell_type": "code",
   "execution_count": 95,
   "metadata": {},
   "outputs": [
    {
     "data": {
      "text/plain": [
       "array([0.75331069, 0.37679627, 0.69229612, 0.60588473, 0.06495015,\n",
       "       0.61421043, 0.05658903, 0.25120701, 0.17142313, 0.67376319])"
      ]
     },
     "execution_count": 95,
     "metadata": {},
     "output_type": "execute_result"
    }
   ],
   "source": [
    "np.random.rand(10) ## antara nilai 0-1"
   ]
  },
  {
   "cell_type": "code",
   "execution_count": 97,
   "metadata": {},
   "outputs": [
    {
     "data": {
      "text/plain": [
       "array([ 1.17957923,  0.17343628, -0.74246768,  0.05220565,  1.17046878,\n",
       "       -1.51488645,  0.58247411, -0.24530143,  0.75923687, -0.02801411])"
      ]
     },
     "execution_count": 97,
     "metadata": {},
     "output_type": "execute_result"
    }
   ],
   "source": [
    "np.random.randn(10) ## antara -3 sampai 3 tetapi berbentuk Bell shaped (Distribusi Normal)"
   ]
  },
  {
   "cell_type": "code",
   "execution_count": 99,
   "metadata": {},
   "outputs": [
    {
     "data": {
      "text/plain": [
       "array([1, 1, 5, 3, 6, 3, 5, 2, 5, 3])"
      ]
     },
     "execution_count": 99,
     "metadata": {},
     "output_type": "execute_result"
    }
   ],
   "source": [
    "np.random.randint(1, 10, 10)"
   ]
  },
  {
   "cell_type": "markdown",
   "metadata": {},
   "source": [
    "# Basic Pandas"
   ]
  },
  {
   "cell_type": "code",
   "execution_count": 57,
   "metadata": {},
   "outputs": [],
   "source": [
    "import pandas as pd"
   ]
  },
  {
   "cell_type": "markdown",
   "metadata": {},
   "source": [
    "### 1) Series & Dataframe\n",
    "#### Series vs Array"
   ]
  },
  {
   "cell_type": "code",
   "execution_count": 22,
   "metadata": {},
   "outputs": [],
   "source": [
    "x = [9, 10, 8, 15, 3, 17]"
   ]
  },
  {
   "cell_type": "code",
   "execution_count": 26,
   "metadata": {},
   "outputs": [
    {
     "data": {
      "text/plain": [
       "array([ 9, 10,  8, 15,  3, 17])"
      ]
     },
     "execution_count": 26,
     "metadata": {},
     "output_type": "execute_result"
    }
   ],
   "source": [
    "# Convert list x to array\n",
    "x_array = np.array(x)\n",
    "x_array"
   ]
  },
  {
   "cell_type": "code",
   "execution_count": 27,
   "metadata": {},
   "outputs": [
    {
     "data": {
      "text/plain": [
       "0     9\n",
       "1    10\n",
       "2     8\n",
       "3    15\n",
       "4     3\n",
       "5    17\n",
       "dtype: int64"
      ]
     },
     "execution_count": 27,
     "metadata": {},
     "output_type": "execute_result"
    }
   ],
   "source": [
    "# Convert list x to series\n",
    "# series is one of columns with rows that will be used in dataframe (table)\n",
    "x_series = pd.Series(x)\n",
    "x_series"
   ]
  },
  {
   "cell_type": "code",
   "execution_count": 31,
   "metadata": {},
   "outputs": [],
   "source": [
    "# Setting custom index for series\n",
    "i = ['a', 'b', 'c', 'd', 'e', 'f']"
   ]
  },
  {
   "cell_type": "code",
   "execution_count": 30,
   "metadata": {},
   "outputs": [
    {
     "data": {
      "text/plain": [
       "a     9\n",
       "b    10\n",
       "c     8\n",
       "d    15\n",
       "e     3\n",
       "f    17\n",
       "Name: Test, dtype: int32"
      ]
     },
     "execution_count": 30,
     "metadata": {},
     "output_type": "execute_result"
    }
   ],
   "source": [
    "pd.Series(data=x1, index=i, name='Test')"
   ]
  },
  {
   "cell_type": "code",
   "execution_count": 109,
   "metadata": {},
   "outputs": [],
   "source": [
    "data = {'a' : 50,\n",
    "       'b' : 75,\n",
    "       'c' : 85}"
   ]
  },
  {
   "cell_type": "code",
   "execution_count": 110,
   "metadata": {},
   "outputs": [
    {
     "data": {
      "text/plain": [
       "a    50\n",
       "b    75\n",
       "c    85\n",
       "dtype: int64"
      ]
     },
     "execution_count": 110,
     "metadata": {},
     "output_type": "execute_result"
    }
   ],
   "source": [
    "pd.Series(data)"
   ]
  },
  {
   "cell_type": "markdown",
   "metadata": {},
   "source": [
    "#### DataFrame"
   ]
  },
  {
   "cell_type": "code",
   "execution_count": 33,
   "metadata": {},
   "outputs": [],
   "source": [
    "# Convert array to dataframe\n",
    "x = [20, 50, 35, 13]\n",
    "x_array = np.array(x)"
   ]
  },
  {
   "cell_type": "code",
   "execution_count": 32,
   "metadata": {},
   "outputs": [
    {
     "data": {
      "text/html": [
       "<div>\n",
       "<style scoped>\n",
       "    .dataframe tbody tr th:only-of-type {\n",
       "        vertical-align: middle;\n",
       "    }\n",
       "\n",
       "    .dataframe tbody tr th {\n",
       "        vertical-align: top;\n",
       "    }\n",
       "\n",
       "    .dataframe thead th {\n",
       "        text-align: right;\n",
       "    }\n",
       "</style>\n",
       "<table border=\"1\" class=\"dataframe\">\n",
       "  <thead>\n",
       "    <tr style=\"text-align: right;\">\n",
       "      <th></th>\n",
       "      <th>Age</th>\n",
       "    </tr>\n",
       "  </thead>\n",
       "  <tbody>\n",
       "    <tr>\n",
       "      <th>0</th>\n",
       "      <td>9</td>\n",
       "    </tr>\n",
       "    <tr>\n",
       "      <th>1</th>\n",
       "      <td>10</td>\n",
       "    </tr>\n",
       "    <tr>\n",
       "      <th>2</th>\n",
       "      <td>8</td>\n",
       "    </tr>\n",
       "    <tr>\n",
       "      <th>3</th>\n",
       "      <td>15</td>\n",
       "    </tr>\n",
       "    <tr>\n",
       "      <th>4</th>\n",
       "      <td>3</td>\n",
       "    </tr>\n",
       "    <tr>\n",
       "      <th>5</th>\n",
       "      <td>17</td>\n",
       "    </tr>\n",
       "  </tbody>\n",
       "</table>\n",
       "</div>"
      ],
      "text/plain": [
       "   Age\n",
       "0    9\n",
       "1   10\n",
       "2    8\n",
       "3   15\n",
       "4    3\n",
       "5   17"
      ]
     },
     "execution_count": 32,
     "metadata": {},
     "output_type": "execute_result"
    }
   ],
   "source": [
    "df = pd.DataFrame(x_array, columns=['Age'])\n",
    "df"
   ]
  },
  {
   "cell_type": "code",
   "execution_count": 34,
   "metadata": {},
   "outputs": [],
   "source": [
    "# Convert list to dataframe\n",
    "data =[\n",
    "    [\"Rosi\", 25, \"Jakarta\"],\n",
    "    [\"Selvy\", 24, \"Bandung\"],\n",
    "    [\"Rita\", 27, \"Malang\"],\n",
    "    [\"Sony\", 26, \"Bandung\"]\n",
    "]"
   ]
  },
  {
   "cell_type": "code",
   "execution_count": 35,
   "metadata": {},
   "outputs": [],
   "source": [
    "df = pd.DataFrame(data, columns=['name', 'age', 'city'])"
   ]
  },
  {
   "cell_type": "code",
   "execution_count": 36,
   "metadata": {},
   "outputs": [
    {
     "data": {
      "text/html": [
       "<div>\n",
       "<style scoped>\n",
       "    .dataframe tbody tr th:only-of-type {\n",
       "        vertical-align: middle;\n",
       "    }\n",
       "\n",
       "    .dataframe tbody tr th {\n",
       "        vertical-align: top;\n",
       "    }\n",
       "\n",
       "    .dataframe thead th {\n",
       "        text-align: right;\n",
       "    }\n",
       "</style>\n",
       "<table border=\"1\" class=\"dataframe\">\n",
       "  <thead>\n",
       "    <tr style=\"text-align: right;\">\n",
       "      <th></th>\n",
       "      <th>name</th>\n",
       "      <th>age</th>\n",
       "      <th>city</th>\n",
       "    </tr>\n",
       "  </thead>\n",
       "  <tbody>\n",
       "    <tr>\n",
       "      <th>0</th>\n",
       "      <td>Rosi</td>\n",
       "      <td>25</td>\n",
       "      <td>Jakarta</td>\n",
       "    </tr>\n",
       "    <tr>\n",
       "      <th>1</th>\n",
       "      <td>Selvy</td>\n",
       "      <td>24</td>\n",
       "      <td>Bandung</td>\n",
       "    </tr>\n",
       "    <tr>\n",
       "      <th>2</th>\n",
       "      <td>Rita</td>\n",
       "      <td>27</td>\n",
       "      <td>Malang</td>\n",
       "    </tr>\n",
       "    <tr>\n",
       "      <th>3</th>\n",
       "      <td>Sony</td>\n",
       "      <td>26</td>\n",
       "      <td>Bandung</td>\n",
       "    </tr>\n",
       "  </tbody>\n",
       "</table>\n",
       "</div>"
      ],
      "text/plain": [
       "    name  age     city\n",
       "0   Rosi   25  Jakarta\n",
       "1  Selvy   24  Bandung\n",
       "2   Rita   27   Malang\n",
       "3   Sony   26  Bandung"
      ]
     },
     "execution_count": 36,
     "metadata": {},
     "output_type": "execute_result"
    }
   ],
   "source": [
    "df"
   ]
  },
  {
   "cell_type": "markdown",
   "metadata": {},
   "source": [
    "#### Accessing external files"
   ]
  },
  {
   "cell_type": "code",
   "execution_count": 43,
   "metadata": {},
   "outputs": [
    {
     "data": {
      "text/html": [
       "<div>\n",
       "<style scoped>\n",
       "    .dataframe tbody tr th:only-of-type {\n",
       "        vertical-align: middle;\n",
       "    }\n",
       "\n",
       "    .dataframe tbody tr th {\n",
       "        vertical-align: top;\n",
       "    }\n",
       "\n",
       "    .dataframe thead th {\n",
       "        text-align: right;\n",
       "    }\n",
       "</style>\n",
       "<table border=\"1\" class=\"dataframe\">\n",
       "  <thead>\n",
       "    <tr style=\"text-align: right;\">\n",
       "      <th></th>\n",
       "      <th>Country</th>\n",
       "      <th>Region</th>\n",
       "      <th>Sales Person</th>\n",
       "      <th>Date of Purchase</th>\n",
       "      <th>Total</th>\n",
       "      <th>Quantity</th>\n",
       "    </tr>\n",
       "  </thead>\n",
       "  <tbody>\n",
       "    <tr>\n",
       "      <th>0</th>\n",
       "      <td>India</td>\n",
       "      <td>East</td>\n",
       "      <td>John</td>\n",
       "      <td>3/1/2013 0:00:00</td>\n",
       "      <td>26000000</td>\n",
       "      <td>567</td>\n",
       "    </tr>\n",
       "    <tr>\n",
       "      <th>1</th>\n",
       "      <td>China</td>\n",
       "      <td>North</td>\n",
       "      <td>Bill</td>\n",
       "      <td>12/29/2016 0:00:00</td>\n",
       "      <td>100000</td>\n",
       "      <td>3000</td>\n",
       "    </tr>\n",
       "    <tr>\n",
       "      <th>2</th>\n",
       "      <td>UK</td>\n",
       "      <td>East</td>\n",
       "      <td>Thomas</td>\n",
       "      <td>1/13/2014 0:00:00</td>\n",
       "      <td>120000</td>\n",
       "      <td>345</td>\n",
       "    </tr>\n",
       "    <tr>\n",
       "      <th>3</th>\n",
       "      <td>Nepal</td>\n",
       "      <td>East</td>\n",
       "      <td>John</td>\n",
       "      <td>4/2/2010 0:00:00</td>\n",
       "      <td>200000</td>\n",
       "      <td>1000</td>\n",
       "    </tr>\n",
       "    <tr>\n",
       "      <th>4</th>\n",
       "      <td>Africa</td>\n",
       "      <td>East</td>\n",
       "      <td>Bill</td>\n",
       "      <td>10/16/2015 0:00:00</td>\n",
       "      <td>220000</td>\n",
       "      <td>123</td>\n",
       "    </tr>\n",
       "    <tr>\n",
       "      <th>5</th>\n",
       "      <td>Bhuthan</td>\n",
       "      <td>North</td>\n",
       "      <td>Thomas</td>\n",
       "      <td>4/1/2013 0:00:00</td>\n",
       "      <td>240000</td>\n",
       "      <td>1000</td>\n",
       "    </tr>\n",
       "    <tr>\n",
       "      <th>6</th>\n",
       "      <td>Mylasia</td>\n",
       "      <td>North</td>\n",
       "      <td>John</td>\n",
       "      <td>1/17/2016 0:00:00</td>\n",
       "      <td>260000</td>\n",
       "      <td>7890</td>\n",
       "    </tr>\n",
       "    <tr>\n",
       "      <th>7</th>\n",
       "      <td>India</td>\n",
       "      <td>North</td>\n",
       "      <td>Bill</td>\n",
       "      <td>7/11/2017 0:00:00</td>\n",
       "      <td>220000</td>\n",
       "      <td>200</td>\n",
       "    </tr>\n",
       "    <tr>\n",
       "      <th>8</th>\n",
       "      <td>Nepal</td>\n",
       "      <td>East</td>\n",
       "      <td>Thomas</td>\n",
       "      <td>7/7/2014 0:00:00</td>\n",
       "      <td>240000</td>\n",
       "      <td>1000</td>\n",
       "    </tr>\n",
       "    <tr>\n",
       "      <th>9</th>\n",
       "      <td>Korea</td>\n",
       "      <td>North</td>\n",
       "      <td>John</td>\n",
       "      <td>8/15/2013 0:00:00</td>\n",
       "      <td>260000</td>\n",
       "      <td>1000</td>\n",
       "    </tr>\n",
       "    <tr>\n",
       "      <th>10</th>\n",
       "      <td>Australia</td>\n",
       "      <td>North</td>\n",
       "      <td>Bill</td>\n",
       "      <td>6/21/2012 0:00:00</td>\n",
       "      <td>140000</td>\n",
       "      <td>567</td>\n",
       "    </tr>\n",
       "    <tr>\n",
       "      <th>11</th>\n",
       "      <td>Africa</td>\n",
       "      <td>East</td>\n",
       "      <td>Thomas</td>\n",
       "      <td>6/19/2015 0:00:00</td>\n",
       "      <td>150000</td>\n",
       "      <td>1000</td>\n",
       "    </tr>\n",
       "    <tr>\n",
       "      <th>12</th>\n",
       "      <td>Australia</td>\n",
       "      <td>East</td>\n",
       "      <td>John</td>\n",
       "      <td>3/4/2017 0:00:00</td>\n",
       "      <td>160000</td>\n",
       "      <td>892</td>\n",
       "    </tr>\n",
       "    <tr>\n",
       "      <th>13</th>\n",
       "      <td>Nepal</td>\n",
       "      <td>East</td>\n",
       "      <td>Bill</td>\n",
       "      <td>11/24/2013 0:00:00</td>\n",
       "      <td>200000</td>\n",
       "      <td>444</td>\n",
       "    </tr>\n",
       "    <tr>\n",
       "      <th>14</th>\n",
       "      <td>India</td>\n",
       "      <td>East</td>\n",
       "      <td>Thomas</td>\n",
       "      <td>8/31/2014 0:00:00</td>\n",
       "      <td>220000</td>\n",
       "      <td>345</td>\n",
       "    </tr>\n",
       "    <tr>\n",
       "      <th>15</th>\n",
       "      <td>Toranto</td>\n",
       "      <td>West</td>\n",
       "      <td>John</td>\n",
       "      <td>9/13/2018 0:00:00</td>\n",
       "      <td>240000</td>\n",
       "      <td>1000</td>\n",
       "    </tr>\n",
       "    <tr>\n",
       "      <th>16</th>\n",
       "      <td>UK</td>\n",
       "      <td>West</td>\n",
       "      <td>Bill</td>\n",
       "      <td>8/5/2015 0:00:00</td>\n",
       "      <td>260000</td>\n",
       "      <td>123</td>\n",
       "    </tr>\n",
       "    <tr>\n",
       "      <th>17</th>\n",
       "      <td>Quatar</td>\n",
       "      <td>West</td>\n",
       "      <td>Thomas</td>\n",
       "      <td>6/30/2013 0:00:00</td>\n",
       "      <td>260000</td>\n",
       "      <td>1000</td>\n",
       "    </tr>\n",
       "    <tr>\n",
       "      <th>18</th>\n",
       "      <td>Africa</td>\n",
       "      <td>North</td>\n",
       "      <td>John</td>\n",
       "      <td>11/30/2015 0:00:00</td>\n",
       "      <td>140000</td>\n",
       "      <td>7890</td>\n",
       "    </tr>\n",
       "    <tr>\n",
       "      <th>19</th>\n",
       "      <td>Nepal</td>\n",
       "      <td>North</td>\n",
       "      <td>Bill</td>\n",
       "      <td>12/2/2016 0:00:00</td>\n",
       "      <td>150000</td>\n",
       "      <td>200</td>\n",
       "    </tr>\n",
       "  </tbody>\n",
       "</table>\n",
       "</div>"
      ],
      "text/plain": [
       "      Country Region Sales Person    Date of Purchase     Total  Quantity\n",
       "0       India   East         John    3/1/2013 0:00:00  26000000       567\n",
       "1       China  North         Bill  12/29/2016 0:00:00    100000      3000\n",
       "2          UK   East       Thomas   1/13/2014 0:00:00    120000       345\n",
       "3       Nepal   East         John    4/2/2010 0:00:00    200000      1000\n",
       "4      Africa   East         Bill  10/16/2015 0:00:00    220000       123\n",
       "5     Bhuthan  North       Thomas    4/1/2013 0:00:00    240000      1000\n",
       "6     Mylasia  North         John   1/17/2016 0:00:00    260000      7890\n",
       "7       India  North         Bill   7/11/2017 0:00:00    220000       200\n",
       "8       Nepal   East       Thomas    7/7/2014 0:00:00    240000      1000\n",
       "9       Korea  North         John   8/15/2013 0:00:00    260000      1000\n",
       "10  Australia  North         Bill   6/21/2012 0:00:00    140000       567\n",
       "11     Africa   East       Thomas   6/19/2015 0:00:00    150000      1000\n",
       "12  Australia   East         John    3/4/2017 0:00:00    160000       892\n",
       "13      Nepal   East         Bill  11/24/2013 0:00:00    200000       444\n",
       "14      India   East       Thomas   8/31/2014 0:00:00    220000       345\n",
       "15    Toranto   West         John   9/13/2018 0:00:00    240000      1000\n",
       "16         UK   West         Bill    8/5/2015 0:00:00    260000       123\n",
       "17     Quatar   West       Thomas   6/30/2013 0:00:00    260000      1000\n",
       "18     Africa  North         John  11/30/2015 0:00:00    140000      7890\n",
       "19      Nepal  North         Bill   12/2/2016 0:00:00    150000       200"
      ]
     },
     "execution_count": 43,
     "metadata": {},
     "output_type": "execute_result"
    }
   ],
   "source": [
    "df = pd.read_csv('../data/sales.csv')\n",
    "df"
   ]
  },
  {
   "cell_type": "code",
   "execution_count": 44,
   "metadata": {},
   "outputs": [
    {
     "data": {
      "text/html": [
       "<div>\n",
       "<style scoped>\n",
       "    .dataframe tbody tr th:only-of-type {\n",
       "        vertical-align: middle;\n",
       "    }\n",
       "\n",
       "    .dataframe tbody tr th {\n",
       "        vertical-align: top;\n",
       "    }\n",
       "\n",
       "    .dataframe thead th {\n",
       "        text-align: right;\n",
       "    }\n",
       "</style>\n",
       "<table border=\"1\" class=\"dataframe\">\n",
       "  <thead>\n",
       "    <tr style=\"text-align: right;\">\n",
       "      <th></th>\n",
       "      <th>Country</th>\n",
       "      <th>Region</th>\n",
       "      <th>Sales Person</th>\n",
       "      <th>Date of Purchase</th>\n",
       "      <th>Total</th>\n",
       "      <th>Quantity</th>\n",
       "    </tr>\n",
       "  </thead>\n",
       "  <tbody>\n",
       "    <tr>\n",
       "      <th>0</th>\n",
       "      <td>India</td>\n",
       "      <td>East</td>\n",
       "      <td>John</td>\n",
       "      <td>3/1/2013 0:00:00</td>\n",
       "      <td>26000000</td>\n",
       "      <td>567</td>\n",
       "    </tr>\n",
       "    <tr>\n",
       "      <th>1</th>\n",
       "      <td>China</td>\n",
       "      <td>North</td>\n",
       "      <td>Bill</td>\n",
       "      <td>12/29/2016 0:00:00</td>\n",
       "      <td>100000</td>\n",
       "      <td>3000</td>\n",
       "    </tr>\n",
       "    <tr>\n",
       "      <th>2</th>\n",
       "      <td>UK</td>\n",
       "      <td>East</td>\n",
       "      <td>Thomas</td>\n",
       "      <td>1/13/2014 0:00:00</td>\n",
       "      <td>120000</td>\n",
       "      <td>345</td>\n",
       "    </tr>\n",
       "    <tr>\n",
       "      <th>3</th>\n",
       "      <td>Nepal</td>\n",
       "      <td>East</td>\n",
       "      <td>John</td>\n",
       "      <td>4/2/2010 0:00:00</td>\n",
       "      <td>200000</td>\n",
       "      <td>1000</td>\n",
       "    </tr>\n",
       "    <tr>\n",
       "      <th>4</th>\n",
       "      <td>Africa</td>\n",
       "      <td>East</td>\n",
       "      <td>Bill</td>\n",
       "      <td>10/16/2015 0:00:00</td>\n",
       "      <td>220000</td>\n",
       "      <td>123</td>\n",
       "    </tr>\n",
       "  </tbody>\n",
       "</table>\n",
       "</div>"
      ],
      "text/plain": [
       "  Country Region Sales Person    Date of Purchase     Total  Quantity\n",
       "0   India   East         John    3/1/2013 0:00:00  26000000       567\n",
       "1   China  North         Bill  12/29/2016 0:00:00    100000      3000\n",
       "2      UK   East       Thomas   1/13/2014 0:00:00    120000       345\n",
       "3   Nepal   East         John    4/2/2010 0:00:00    200000      1000\n",
       "4  Africa   East         Bill  10/16/2015 0:00:00    220000       123"
      ]
     },
     "execution_count": 44,
     "metadata": {},
     "output_type": "execute_result"
    }
   ],
   "source": [
    "# Accessing top-5 rows\n",
    "df.head()"
   ]
  },
  {
   "cell_type": "code",
   "execution_count": 45,
   "metadata": {},
   "outputs": [
    {
     "data": {
      "text/html": [
       "<div>\n",
       "<style scoped>\n",
       "    .dataframe tbody tr th:only-of-type {\n",
       "        vertical-align: middle;\n",
       "    }\n",
       "\n",
       "    .dataframe tbody tr th {\n",
       "        vertical-align: top;\n",
       "    }\n",
       "\n",
       "    .dataframe thead th {\n",
       "        text-align: right;\n",
       "    }\n",
       "</style>\n",
       "<table border=\"1\" class=\"dataframe\">\n",
       "  <thead>\n",
       "    <tr style=\"text-align: right;\">\n",
       "      <th></th>\n",
       "      <th>Country</th>\n",
       "      <th>Region</th>\n",
       "      <th>Sales Person</th>\n",
       "      <th>Date of Purchase</th>\n",
       "      <th>Total</th>\n",
       "      <th>Quantity</th>\n",
       "    </tr>\n",
       "  </thead>\n",
       "  <tbody>\n",
       "    <tr>\n",
       "      <th>15</th>\n",
       "      <td>Toranto</td>\n",
       "      <td>West</td>\n",
       "      <td>John</td>\n",
       "      <td>9/13/2018 0:00:00</td>\n",
       "      <td>240000</td>\n",
       "      <td>1000</td>\n",
       "    </tr>\n",
       "    <tr>\n",
       "      <th>16</th>\n",
       "      <td>UK</td>\n",
       "      <td>West</td>\n",
       "      <td>Bill</td>\n",
       "      <td>8/5/2015 0:00:00</td>\n",
       "      <td>260000</td>\n",
       "      <td>123</td>\n",
       "    </tr>\n",
       "    <tr>\n",
       "      <th>17</th>\n",
       "      <td>Quatar</td>\n",
       "      <td>West</td>\n",
       "      <td>Thomas</td>\n",
       "      <td>6/30/2013 0:00:00</td>\n",
       "      <td>260000</td>\n",
       "      <td>1000</td>\n",
       "    </tr>\n",
       "    <tr>\n",
       "      <th>18</th>\n",
       "      <td>Africa</td>\n",
       "      <td>North</td>\n",
       "      <td>John</td>\n",
       "      <td>11/30/2015 0:00:00</td>\n",
       "      <td>140000</td>\n",
       "      <td>7890</td>\n",
       "    </tr>\n",
       "    <tr>\n",
       "      <th>19</th>\n",
       "      <td>Nepal</td>\n",
       "      <td>North</td>\n",
       "      <td>Bill</td>\n",
       "      <td>12/2/2016 0:00:00</td>\n",
       "      <td>150000</td>\n",
       "      <td>200</td>\n",
       "    </tr>\n",
       "  </tbody>\n",
       "</table>\n",
       "</div>"
      ],
      "text/plain": [
       "    Country Region Sales Person    Date of Purchase   Total  Quantity\n",
       "15  Toranto   West         John   9/13/2018 0:00:00  240000      1000\n",
       "16       UK   West         Bill    8/5/2015 0:00:00  260000       123\n",
       "17   Quatar   West       Thomas   6/30/2013 0:00:00  260000      1000\n",
       "18   Africa  North         John  11/30/2015 0:00:00  140000      7890\n",
       "19    Nepal  North         Bill   12/2/2016 0:00:00  150000       200"
      ]
     },
     "execution_count": 45,
     "metadata": {},
     "output_type": "execute_result"
    }
   ],
   "source": [
    "# Accessing 5 rows from bottom\n",
    "df.tail()"
   ]
  },
  {
   "cell_type": "code",
   "execution_count": 46,
   "metadata": {},
   "outputs": [
    {
     "data": {
      "text/plain": [
       "Country             0\n",
       "Region              0\n",
       "Sales Person        0\n",
       "Date of Purchase    0\n",
       "Total               0\n",
       "Quantity            0\n",
       "dtype: int64"
      ]
     },
     "execution_count": 46,
     "metadata": {},
     "output_type": "execute_result"
    }
   ],
   "source": [
    "# Checking missing values\n",
    "df.isna().sum()"
   ]
  },
  {
   "cell_type": "code",
   "execution_count": 53,
   "metadata": {},
   "outputs": [
    {
     "name": "stdout",
     "output_type": "stream",
     "text": [
      "<class 'pandas.core.frame.DataFrame'>\n",
      "RangeIndex: 20 entries, 0 to 19\n",
      "Data columns (total 6 columns):\n",
      "Country             20 non-null object\n",
      "Region              20 non-null object\n",
      "Sales Person        20 non-null object\n",
      "Date of Purchase    20 non-null object\n",
      "Total               20 non-null int64\n",
      "Quantity            20 non-null int64\n",
      "dtypes: int64(2), object(4)\n",
      "memory usage: 1.1+ KB\n"
     ]
    }
   ],
   "source": [
    "# Info - type of data\n",
    "df.info()"
   ]
  },
  {
   "cell_type": "code",
   "execution_count": 56,
   "metadata": {},
   "outputs": [
    {
     "data": {
      "text/plain": [
       "Country             object\n",
       "Region              object\n",
       "Sales Person        object\n",
       "Date of Purchase    object\n",
       "Total                int64\n",
       "Quantity             int64\n",
       "dtype: object"
      ]
     },
     "execution_count": 56,
     "metadata": {},
     "output_type": "execute_result"
    }
   ],
   "source": [
    "# Info - type of data for each column\n",
    "df.dtypes"
   ]
  },
  {
   "cell_type": "code",
   "execution_count": 54,
   "metadata": {},
   "outputs": [
    {
     "data": {
      "text/html": [
       "<div>\n",
       "<style scoped>\n",
       "    .dataframe tbody tr th:only-of-type {\n",
       "        vertical-align: middle;\n",
       "    }\n",
       "\n",
       "    .dataframe tbody tr th {\n",
       "        vertical-align: top;\n",
       "    }\n",
       "\n",
       "    .dataframe thead th {\n",
       "        text-align: right;\n",
       "    }\n",
       "</style>\n",
       "<table border=\"1\" class=\"dataframe\">\n",
       "  <thead>\n",
       "    <tr style=\"text-align: right;\">\n",
       "      <th></th>\n",
       "      <th>Total</th>\n",
       "      <th>Quantity</th>\n",
       "    </tr>\n",
       "  </thead>\n",
       "  <tbody>\n",
       "    <tr>\n",
       "      <th>count</th>\n",
       "      <td>2.000000e+01</td>\n",
       "      <td>20.000000</td>\n",
       "    </tr>\n",
       "    <tr>\n",
       "      <th>mean</th>\n",
       "      <td>1.489000e+06</td>\n",
       "      <td>1479.300000</td>\n",
       "    </tr>\n",
       "    <tr>\n",
       "      <th>std</th>\n",
       "      <td>5.769521e+06</td>\n",
       "      <td>2279.447258</td>\n",
       "    </tr>\n",
       "    <tr>\n",
       "      <th>min</th>\n",
       "      <td>1.000000e+05</td>\n",
       "      <td>123.000000</td>\n",
       "    </tr>\n",
       "    <tr>\n",
       "      <th>25%</th>\n",
       "      <td>1.500000e+05</td>\n",
       "      <td>345.000000</td>\n",
       "    </tr>\n",
       "    <tr>\n",
       "      <th>50%</th>\n",
       "      <td>2.200000e+05</td>\n",
       "      <td>946.000000</td>\n",
       "    </tr>\n",
       "    <tr>\n",
       "      <th>75%</th>\n",
       "      <td>2.450000e+05</td>\n",
       "      <td>1000.000000</td>\n",
       "    </tr>\n",
       "    <tr>\n",
       "      <th>max</th>\n",
       "      <td>2.600000e+07</td>\n",
       "      <td>7890.000000</td>\n",
       "    </tr>\n",
       "  </tbody>\n",
       "</table>\n",
       "</div>"
      ],
      "text/plain": [
       "              Total     Quantity\n",
       "count  2.000000e+01    20.000000\n",
       "mean   1.489000e+06  1479.300000\n",
       "std    5.769521e+06  2279.447258\n",
       "min    1.000000e+05   123.000000\n",
       "25%    1.500000e+05   345.000000\n",
       "50%    2.200000e+05   946.000000\n",
       "75%    2.450000e+05  1000.000000\n",
       "max    2.600000e+07  7890.000000"
      ]
     },
     "execution_count": 54,
     "metadata": {},
     "output_type": "execute_result"
    }
   ],
   "source": [
    "# Info - statistics info for numeric data\n",
    "df.describe()\n",
    "# df.describe().T # to transform into horizontal view"
   ]
  },
  {
   "cell_type": "code",
   "execution_count": 55,
   "metadata": {},
   "outputs": [
    {
     "data": {
      "text/html": [
       "<div>\n",
       "<style scoped>\n",
       "    .dataframe tbody tr th:only-of-type {\n",
       "        vertical-align: middle;\n",
       "    }\n",
       "\n",
       "    .dataframe tbody tr th {\n",
       "        vertical-align: top;\n",
       "    }\n",
       "\n",
       "    .dataframe thead th {\n",
       "        text-align: right;\n",
       "    }\n",
       "</style>\n",
       "<table border=\"1\" class=\"dataframe\">\n",
       "  <thead>\n",
       "    <tr style=\"text-align: right;\">\n",
       "      <th></th>\n",
       "      <th>Country</th>\n",
       "      <th>Region</th>\n",
       "      <th>Sales Person</th>\n",
       "      <th>Date of Purchase</th>\n",
       "    </tr>\n",
       "  </thead>\n",
       "  <tbody>\n",
       "    <tr>\n",
       "      <th>count</th>\n",
       "      <td>20</td>\n",
       "      <td>20</td>\n",
       "      <td>20</td>\n",
       "      <td>20</td>\n",
       "    </tr>\n",
       "    <tr>\n",
       "      <th>unique</th>\n",
       "      <td>11</td>\n",
       "      <td>3</td>\n",
       "      <td>3</td>\n",
       "      <td>20</td>\n",
       "    </tr>\n",
       "    <tr>\n",
       "      <th>top</th>\n",
       "      <td>Nepal</td>\n",
       "      <td>East</td>\n",
       "      <td>John</td>\n",
       "      <td>6/19/2015 0:00:00</td>\n",
       "    </tr>\n",
       "    <tr>\n",
       "      <th>freq</th>\n",
       "      <td>4</td>\n",
       "      <td>9</td>\n",
       "      <td>7</td>\n",
       "      <td>1</td>\n",
       "    </tr>\n",
       "  </tbody>\n",
       "</table>\n",
       "</div>"
      ],
      "text/plain": [
       "       Country Region Sales Person   Date of Purchase\n",
       "count       20     20           20                 20\n",
       "unique      11      3            3                 20\n",
       "top      Nepal   East         John  6/19/2015 0:00:00\n",
       "freq         4      9            7                  1"
      ]
     },
     "execution_count": 55,
     "metadata": {},
     "output_type": "execute_result"
    }
   ],
   "source": [
    "# Info - statistics info for categorical data\n",
    "df.describe(include='O')"
   ]
  },
  {
   "cell_type": "markdown",
   "metadata": {},
   "source": [
    "### 2) Slicing dataframe and running statistic function on dataframe"
   ]
  },
  {
   "cell_type": "code",
   "execution_count": 2,
   "metadata": {},
   "outputs": [],
   "source": [
    "data =[\n",
    "    [\"Rosi\", 25, \"Jakarta\"],\n",
    "    [\"Selvy\", 24, \"Bandung\"],\n",
    "    [\"Rita\", 27, \"Malang\"],\n",
    "    [\"Sony\", 26, \"Bandung\"]\n",
    "]"
   ]
  },
  {
   "cell_type": "code",
   "execution_count": 3,
   "metadata": {},
   "outputs": [
    {
     "data": {
      "text/html": [
       "<div>\n",
       "<style scoped>\n",
       "    .dataframe tbody tr th:only-of-type {\n",
       "        vertical-align: middle;\n",
       "    }\n",
       "\n",
       "    .dataframe tbody tr th {\n",
       "        vertical-align: top;\n",
       "    }\n",
       "\n",
       "    .dataframe thead th {\n",
       "        text-align: right;\n",
       "    }\n",
       "</style>\n",
       "<table border=\"1\" class=\"dataframe\">\n",
       "  <thead>\n",
       "    <tr style=\"text-align: right;\">\n",
       "      <th></th>\n",
       "      <th>nama</th>\n",
       "      <th>usia</th>\n",
       "      <th>kota</th>\n",
       "    </tr>\n",
       "  </thead>\n",
       "  <tbody>\n",
       "    <tr>\n",
       "      <th>A</th>\n",
       "      <td>Rosi</td>\n",
       "      <td>25</td>\n",
       "      <td>Jakarta</td>\n",
       "    </tr>\n",
       "    <tr>\n",
       "      <th>B</th>\n",
       "      <td>Selvy</td>\n",
       "      <td>24</td>\n",
       "      <td>Bandung</td>\n",
       "    </tr>\n",
       "    <tr>\n",
       "      <th>C</th>\n",
       "      <td>Rita</td>\n",
       "      <td>27</td>\n",
       "      <td>Malang</td>\n",
       "    </tr>\n",
       "    <tr>\n",
       "      <th>D</th>\n",
       "      <td>Sony</td>\n",
       "      <td>26</td>\n",
       "      <td>Bandung</td>\n",
       "    </tr>\n",
       "  </tbody>\n",
       "</table>\n",
       "</div>"
      ],
      "text/plain": [
       "    nama  usia     kota\n",
       "A   Rosi    25  Jakarta\n",
       "B  Selvy    24  Bandung\n",
       "C   Rita    27   Malang\n",
       "D   Sony    26  Bandung"
      ]
     },
     "execution_count": 3,
     "metadata": {},
     "output_type": "execute_result"
    }
   ],
   "source": [
    "df = pd.DataFrame(data, columns=['nama', 'usia', 'kota'], index=['A', 'B', 'C', 'D'])\n",
    "df"
   ]
  },
  {
   "cell_type": "code",
   "execution_count": 8,
   "metadata": {},
   "outputs": [
    {
     "data": {
      "text/plain": [
       "A     Rosi\n",
       "B    Selvy\n",
       "C     Rita\n",
       "D     Sony\n",
       "Name: nama, dtype: object"
      ]
     },
     "execution_count": 8,
     "metadata": {},
     "output_type": "execute_result"
    }
   ],
   "source": [
    "df['nama']"
   ]
  },
  {
   "cell_type": "code",
   "execution_count": 9,
   "metadata": {},
   "outputs": [
    {
     "data": {
      "text/html": [
       "<div>\n",
       "<style scoped>\n",
       "    .dataframe tbody tr th:only-of-type {\n",
       "        vertical-align: middle;\n",
       "    }\n",
       "\n",
       "    .dataframe tbody tr th {\n",
       "        vertical-align: top;\n",
       "    }\n",
       "\n",
       "    .dataframe thead th {\n",
       "        text-align: right;\n",
       "    }\n",
       "</style>\n",
       "<table border=\"1\" class=\"dataframe\">\n",
       "  <thead>\n",
       "    <tr style=\"text-align: right;\">\n",
       "      <th></th>\n",
       "      <th>nama</th>\n",
       "      <th>kota</th>\n",
       "    </tr>\n",
       "  </thead>\n",
       "  <tbody>\n",
       "    <tr>\n",
       "      <th>A</th>\n",
       "      <td>Rosi</td>\n",
       "      <td>Jakarta</td>\n",
       "    </tr>\n",
       "    <tr>\n",
       "      <th>B</th>\n",
       "      <td>Selvy</td>\n",
       "      <td>Bandung</td>\n",
       "    </tr>\n",
       "    <tr>\n",
       "      <th>C</th>\n",
       "      <td>Rita</td>\n",
       "      <td>Malang</td>\n",
       "    </tr>\n",
       "    <tr>\n",
       "      <th>D</th>\n",
       "      <td>Sony</td>\n",
       "      <td>Bandung</td>\n",
       "    </tr>\n",
       "  </tbody>\n",
       "</table>\n",
       "</div>"
      ],
      "text/plain": [
       "    nama     kota\n",
       "A   Rosi  Jakarta\n",
       "B  Selvy  Bandung\n",
       "C   Rita   Malang\n",
       "D   Sony  Bandung"
      ]
     },
     "execution_count": 9,
     "metadata": {},
     "output_type": "execute_result"
    }
   ],
   "source": [
    "df[['nama', 'kota']]"
   ]
  },
  {
   "cell_type": "code",
   "execution_count": 11,
   "metadata": {},
   "outputs": [
    {
     "data": {
      "text/plain": [
       "'Selvy'"
      ]
     },
     "execution_count": 11,
     "metadata": {},
     "output_type": "execute_result"
    }
   ],
   "source": [
    "df['nama']['B']"
   ]
  },
  {
   "cell_type": "code",
   "execution_count": 14,
   "metadata": {},
   "outputs": [],
   "source": [
    "# df['gaji'] = 20000000\n",
    "df['gaji'] = [20000000, 15000000, 13000000, 30000000]"
   ]
  },
  {
   "cell_type": "code",
   "execution_count": 15,
   "metadata": {},
   "outputs": [
    {
     "data": {
      "text/html": [
       "<div>\n",
       "<style scoped>\n",
       "    .dataframe tbody tr th:only-of-type {\n",
       "        vertical-align: middle;\n",
       "    }\n",
       "\n",
       "    .dataframe tbody tr th {\n",
       "        vertical-align: top;\n",
       "    }\n",
       "\n",
       "    .dataframe thead th {\n",
       "        text-align: right;\n",
       "    }\n",
       "</style>\n",
       "<table border=\"1\" class=\"dataframe\">\n",
       "  <thead>\n",
       "    <tr style=\"text-align: right;\">\n",
       "      <th></th>\n",
       "      <th>nama</th>\n",
       "      <th>usia</th>\n",
       "      <th>kota</th>\n",
       "      <th>gaji</th>\n",
       "    </tr>\n",
       "  </thead>\n",
       "  <tbody>\n",
       "    <tr>\n",
       "      <th>A</th>\n",
       "      <td>Rosi</td>\n",
       "      <td>25</td>\n",
       "      <td>Jakarta</td>\n",
       "      <td>20000000</td>\n",
       "    </tr>\n",
       "    <tr>\n",
       "      <th>B</th>\n",
       "      <td>Selvy</td>\n",
       "      <td>24</td>\n",
       "      <td>Bandung</td>\n",
       "      <td>15000000</td>\n",
       "    </tr>\n",
       "    <tr>\n",
       "      <th>C</th>\n",
       "      <td>Rita</td>\n",
       "      <td>27</td>\n",
       "      <td>Malang</td>\n",
       "      <td>13000000</td>\n",
       "    </tr>\n",
       "    <tr>\n",
       "      <th>D</th>\n",
       "      <td>Sony</td>\n",
       "      <td>26</td>\n",
       "      <td>Bandung</td>\n",
       "      <td>30000000</td>\n",
       "    </tr>\n",
       "  </tbody>\n",
       "</table>\n",
       "</div>"
      ],
      "text/plain": [
       "    nama  usia     kota      gaji\n",
       "A   Rosi    25  Jakarta  20000000\n",
       "B  Selvy    24  Bandung  15000000\n",
       "C   Rita    27   Malang  13000000\n",
       "D   Sony    26  Bandung  30000000"
      ]
     },
     "execution_count": 15,
     "metadata": {},
     "output_type": "execute_result"
    }
   ],
   "source": [
    "df"
   ]
  },
  {
   "cell_type": "code",
   "execution_count": 18,
   "metadata": {},
   "outputs": [
    {
     "data": {
      "text/plain": [
       "19500000.0"
      ]
     },
     "execution_count": 18,
     "metadata": {},
     "output_type": "execute_result"
    }
   ],
   "source": [
    "df['gaji'].mean()"
   ]
  },
  {
   "cell_type": "code",
   "execution_count": 19,
   "metadata": {},
   "outputs": [
    {
     "data": {
      "text/plain": [
       "17500000.0"
      ]
     },
     "execution_count": 19,
     "metadata": {},
     "output_type": "execute_result"
    }
   ],
   "source": [
    "df['gaji'].median()"
   ]
  },
  {
   "cell_type": "code",
   "execution_count": 20,
   "metadata": {},
   "outputs": [
    {
     "data": {
      "text/plain": [
       "78000000"
      ]
     },
     "execution_count": 20,
     "metadata": {},
     "output_type": "execute_result"
    }
   ],
   "source": [
    "df['gaji'].sum()"
   ]
  },
  {
   "cell_type": "code",
   "execution_count": 22,
   "metadata": {},
   "outputs": [
    {
     "data": {
      "text/plain": [
       "7593857.166596345"
      ]
     },
     "execution_count": 22,
     "metadata": {},
     "output_type": "execute_result"
    }
   ],
   "source": [
    "df['gaji'].std()"
   ]
  },
  {
   "cell_type": "code",
   "execution_count": 25,
   "metadata": {},
   "outputs": [],
   "source": [
    "# Pandas = std sample \n",
    "# Numpy = std populasi \n",
    "\n",
    "# pandas miu, klu di numpy s"
   ]
  },
  {
   "cell_type": "code",
   "execution_count": 24,
   "metadata": {},
   "outputs": [
    {
     "data": {
      "text/html": [
       "<div>\n",
       "<style scoped>\n",
       "    .dataframe tbody tr th:only-of-type {\n",
       "        vertical-align: middle;\n",
       "    }\n",
       "\n",
       "    .dataframe tbody tr th {\n",
       "        vertical-align: top;\n",
       "    }\n",
       "\n",
       "    .dataframe thead th {\n",
       "        text-align: right;\n",
       "    }\n",
       "</style>\n",
       "<table border=\"1\" class=\"dataframe\">\n",
       "  <thead>\n",
       "    <tr style=\"text-align: right;\">\n",
       "      <th></th>\n",
       "      <th>usia</th>\n",
       "      <th>gaji</th>\n",
       "    </tr>\n",
       "  </thead>\n",
       "  <tbody>\n",
       "    <tr>\n",
       "      <th>count</th>\n",
       "      <td>4.000000</td>\n",
       "      <td>4.000000e+00</td>\n",
       "    </tr>\n",
       "    <tr>\n",
       "      <th>mean</th>\n",
       "      <td>25.500000</td>\n",
       "      <td>1.950000e+07</td>\n",
       "    </tr>\n",
       "    <tr>\n",
       "      <th>std</th>\n",
       "      <td>1.290994</td>\n",
       "      <td>7.593857e+06</td>\n",
       "    </tr>\n",
       "    <tr>\n",
       "      <th>min</th>\n",
       "      <td>24.000000</td>\n",
       "      <td>1.300000e+07</td>\n",
       "    </tr>\n",
       "    <tr>\n",
       "      <th>25%</th>\n",
       "      <td>24.750000</td>\n",
       "      <td>1.450000e+07</td>\n",
       "    </tr>\n",
       "    <tr>\n",
       "      <th>50%</th>\n",
       "      <td>25.500000</td>\n",
       "      <td>1.750000e+07</td>\n",
       "    </tr>\n",
       "    <tr>\n",
       "      <th>75%</th>\n",
       "      <td>26.250000</td>\n",
       "      <td>2.250000e+07</td>\n",
       "    </tr>\n",
       "    <tr>\n",
       "      <th>max</th>\n",
       "      <td>27.000000</td>\n",
       "      <td>3.000000e+07</td>\n",
       "    </tr>\n",
       "  </tbody>\n",
       "</table>\n",
       "</div>"
      ],
      "text/plain": [
       "            usia          gaji\n",
       "count   4.000000  4.000000e+00\n",
       "mean   25.500000  1.950000e+07\n",
       "std     1.290994  7.593857e+06\n",
       "min    24.000000  1.300000e+07\n",
       "25%    24.750000  1.450000e+07\n",
       "50%    25.500000  1.750000e+07\n",
       "75%    26.250000  2.250000e+07\n",
       "max    27.000000  3.000000e+07"
      ]
     },
     "execution_count": 24,
     "metadata": {},
     "output_type": "execute_result"
    }
   ],
   "source": [
    "df.describe()\n",
    "\n",
    "# jika kolom gaji hanya satu data, berapa std nya? "
   ]
  },
  {
   "cell_type": "markdown",
   "metadata": {},
   "source": [
    "### 3) Accessing & Modifying Data in Dataframe"
   ]
  },
  {
   "cell_type": "code",
   "execution_count": 61,
   "metadata": {},
   "outputs": [],
   "source": [
    "data = np.random.randn(5,4)\n",
    "\n",
    "# rand -> angka yang dihasilkan antara 0 - 1\n",
    "# randn -> membentuk distribusi normal dengan angka -3 sampai 3"
   ]
  },
  {
   "cell_type": "code",
   "execution_count": 62,
   "metadata": {},
   "outputs": [
    {
     "data": {
      "text/plain": [
       "array([[ 0.79776362, -1.96806689, -1.9084271 , -1.10755996],\n",
       "       [-0.25826572, -0.55819045, -0.3980215 ,  1.52793278],\n",
       "       [-0.71172992, -0.14508059, -0.61202246,  0.54464168],\n",
       "       [-0.1560472 ,  0.21286727,  1.21396802,  0.35437781],\n",
       "       [-1.8764061 ,  0.50205769, -0.39588163, -1.09977363]])"
      ]
     },
     "execution_count": 62,
     "metadata": {},
     "output_type": "execute_result"
    }
   ],
   "source": [
    "data"
   ]
  },
  {
   "cell_type": "code",
   "execution_count": 63,
   "metadata": {},
   "outputs": [
    {
     "data": {
      "text/html": [
       "<div>\n",
       "<style scoped>\n",
       "    .dataframe tbody tr th:only-of-type {\n",
       "        vertical-align: middle;\n",
       "    }\n",
       "\n",
       "    .dataframe tbody tr th {\n",
       "        vertical-align: top;\n",
       "    }\n",
       "\n",
       "    .dataframe thead th {\n",
       "        text-align: right;\n",
       "    }\n",
       "</style>\n",
       "<table border=\"1\" class=\"dataframe\">\n",
       "  <thead>\n",
       "    <tr style=\"text-align: right;\">\n",
       "      <th></th>\n",
       "      <th>W</th>\n",
       "      <th>X</th>\n",
       "      <th>Y</th>\n",
       "      <th>Z</th>\n",
       "    </tr>\n",
       "  </thead>\n",
       "  <tbody>\n",
       "    <tr>\n",
       "      <th>A</th>\n",
       "      <td>0.797764</td>\n",
       "      <td>-1.968067</td>\n",
       "      <td>-1.908427</td>\n",
       "      <td>-1.107560</td>\n",
       "    </tr>\n",
       "    <tr>\n",
       "      <th>B</th>\n",
       "      <td>-0.258266</td>\n",
       "      <td>-0.558190</td>\n",
       "      <td>-0.398021</td>\n",
       "      <td>1.527933</td>\n",
       "    </tr>\n",
       "    <tr>\n",
       "      <th>C</th>\n",
       "      <td>-0.711730</td>\n",
       "      <td>-0.145081</td>\n",
       "      <td>-0.612022</td>\n",
       "      <td>0.544642</td>\n",
       "    </tr>\n",
       "    <tr>\n",
       "      <th>D</th>\n",
       "      <td>-0.156047</td>\n",
       "      <td>0.212867</td>\n",
       "      <td>1.213968</td>\n",
       "      <td>0.354378</td>\n",
       "    </tr>\n",
       "    <tr>\n",
       "      <th>E</th>\n",
       "      <td>-1.876406</td>\n",
       "      <td>0.502058</td>\n",
       "      <td>-0.395882</td>\n",
       "      <td>-1.099774</td>\n",
       "    </tr>\n",
       "  </tbody>\n",
       "</table>\n",
       "</div>"
      ],
      "text/plain": [
       "          W         X         Y         Z\n",
       "A  0.797764 -1.968067 -1.908427 -1.107560\n",
       "B -0.258266 -0.558190 -0.398021  1.527933\n",
       "C -0.711730 -0.145081 -0.612022  0.544642\n",
       "D -0.156047  0.212867  1.213968  0.354378\n",
       "E -1.876406  0.502058 -0.395882 -1.099774"
      ]
     },
     "execution_count": 63,
     "metadata": {},
     "output_type": "execute_result"
    }
   ],
   "source": [
    "df = pd.DataFrame(data, columns='W,X,Y,Z'.split(','), index = 'A B C D E'.split(' '))\n",
    "df"
   ]
  },
  {
   "cell_type": "code",
   "execution_count": 32,
   "metadata": {},
   "outputs": [
    {
     "data": {
      "text/html": [
       "<div>\n",
       "<style scoped>\n",
       "    .dataframe tbody tr th:only-of-type {\n",
       "        vertical-align: middle;\n",
       "    }\n",
       "\n",
       "    .dataframe tbody tr th {\n",
       "        vertical-align: top;\n",
       "    }\n",
       "\n",
       "    .dataframe thead th {\n",
       "        text-align: right;\n",
       "    }\n",
       "</style>\n",
       "<table border=\"1\" class=\"dataframe\">\n",
       "  <thead>\n",
       "    <tr style=\"text-align: right;\">\n",
       "      <th></th>\n",
       "      <th>X</th>\n",
       "      <th>Y</th>\n",
       "    </tr>\n",
       "  </thead>\n",
       "  <tbody>\n",
       "    <tr>\n",
       "      <th>A</th>\n",
       "      <td>-0.296037</td>\n",
       "      <td>-0.907984</td>\n",
       "    </tr>\n",
       "    <tr>\n",
       "      <th>B</th>\n",
       "      <td>0.723927</td>\n",
       "      <td>1.036089</td>\n",
       "    </tr>\n",
       "    <tr>\n",
       "      <th>C</th>\n",
       "      <td>0.702701</td>\n",
       "      <td>1.235684</td>\n",
       "    </tr>\n",
       "    <tr>\n",
       "      <th>D</th>\n",
       "      <td>0.113500</td>\n",
       "      <td>0.712243</td>\n",
       "    </tr>\n",
       "    <tr>\n",
       "      <th>E</th>\n",
       "      <td>-0.743221</td>\n",
       "      <td>0.753674</td>\n",
       "    </tr>\n",
       "  </tbody>\n",
       "</table>\n",
       "</div>"
      ],
      "text/plain": [
       "          X         Y\n",
       "A -0.296037 -0.907984\n",
       "B  0.723927  1.036089\n",
       "C  0.702701  1.235684\n",
       "D  0.113500  0.712243\n",
       "E -0.743221  0.753674"
      ]
     },
     "execution_count": 32,
     "metadata": {},
     "output_type": "execute_result"
    }
   ],
   "source": [
    "df[['X', 'Y']]"
   ]
  },
  {
   "cell_type": "markdown",
   "metadata": {},
   "source": [
    "#### Add Columns"
   ]
  },
  {
   "cell_type": "code",
   "execution_count": 64,
   "metadata": {},
   "outputs": [
    {
     "data": {
      "text/html": [
       "<div>\n",
       "<style scoped>\n",
       "    .dataframe tbody tr th:only-of-type {\n",
       "        vertical-align: middle;\n",
       "    }\n",
       "\n",
       "    .dataframe tbody tr th {\n",
       "        vertical-align: top;\n",
       "    }\n",
       "\n",
       "    .dataframe thead th {\n",
       "        text-align: right;\n",
       "    }\n",
       "</style>\n",
       "<table border=\"1\" class=\"dataframe\">\n",
       "  <thead>\n",
       "    <tr style=\"text-align: right;\">\n",
       "      <th></th>\n",
       "      <th>W</th>\n",
       "      <th>X</th>\n",
       "      <th>Y</th>\n",
       "      <th>Z</th>\n",
       "      <th>col_1</th>\n",
       "    </tr>\n",
       "  </thead>\n",
       "  <tbody>\n",
       "    <tr>\n",
       "      <th>A</th>\n",
       "      <td>0.797764</td>\n",
       "      <td>-1.968067</td>\n",
       "      <td>-1.908427</td>\n",
       "      <td>-1.107560</td>\n",
       "      <td>3.755912</td>\n",
       "    </tr>\n",
       "    <tr>\n",
       "      <th>B</th>\n",
       "      <td>-0.258266</td>\n",
       "      <td>-0.558190</td>\n",
       "      <td>-0.398021</td>\n",
       "      <td>1.527933</td>\n",
       "      <td>0.222172</td>\n",
       "    </tr>\n",
       "    <tr>\n",
       "      <th>C</th>\n",
       "      <td>-0.711730</td>\n",
       "      <td>-0.145081</td>\n",
       "      <td>-0.612022</td>\n",
       "      <td>0.544642</td>\n",
       "      <td>0.088793</td>\n",
       "    </tr>\n",
       "    <tr>\n",
       "      <th>D</th>\n",
       "      <td>-0.156047</td>\n",
       "      <td>0.212867</td>\n",
       "      <td>1.213968</td>\n",
       "      <td>0.354378</td>\n",
       "      <td>0.258414</td>\n",
       "    </tr>\n",
       "    <tr>\n",
       "      <th>E</th>\n",
       "      <td>-1.876406</td>\n",
       "      <td>0.502058</td>\n",
       "      <td>-0.395882</td>\n",
       "      <td>-1.099774</td>\n",
       "      <td>-0.198755</td>\n",
       "    </tr>\n",
       "  </tbody>\n",
       "</table>\n",
       "</div>"
      ],
      "text/plain": [
       "          W         X         Y         Z     col_1\n",
       "A  0.797764 -1.968067 -1.908427 -1.107560  3.755912\n",
       "B -0.258266 -0.558190 -0.398021  1.527933  0.222172\n",
       "C -0.711730 -0.145081 -0.612022  0.544642  0.088793\n",
       "D -0.156047  0.212867  1.213968  0.354378  0.258414\n",
       "E -1.876406  0.502058 -0.395882 -1.099774 -0.198755"
      ]
     },
     "execution_count": 64,
     "metadata": {},
     "output_type": "execute_result"
    }
   ],
   "source": [
    "# Add Columns\n",
    "df['col_1'] = df['X'] * df['Y']\n",
    "df"
   ]
  },
  {
   "cell_type": "code",
   "execution_count": 72,
   "metadata": {},
   "outputs": [
    {
     "data": {
      "text/html": [
       "<div>\n",
       "<style scoped>\n",
       "    .dataframe tbody tr th:only-of-type {\n",
       "        vertical-align: middle;\n",
       "    }\n",
       "\n",
       "    .dataframe tbody tr th {\n",
       "        vertical-align: top;\n",
       "    }\n",
       "\n",
       "    .dataframe thead th {\n",
       "        text-align: right;\n",
       "    }\n",
       "</style>\n",
       "<table border=\"1\" class=\"dataframe\">\n",
       "  <thead>\n",
       "    <tr style=\"text-align: right;\">\n",
       "      <th></th>\n",
       "      <th>W</th>\n",
       "      <th>X</th>\n",
       "      <th>Y</th>\n",
       "      <th>Z</th>\n",
       "      <th>col_1</th>\n",
       "      <th>col_2</th>\n",
       "    </tr>\n",
       "  </thead>\n",
       "  <tbody>\n",
       "    <tr>\n",
       "      <th>A</th>\n",
       "      <td>0.797764</td>\n",
       "      <td>-1.968067</td>\n",
       "      <td>-1.908427</td>\n",
       "      <td>-1.107560</td>\n",
       "      <td>3.755912</td>\n",
       "      <td>1</td>\n",
       "    </tr>\n",
       "    <tr>\n",
       "      <th>B</th>\n",
       "      <td>-0.258266</td>\n",
       "      <td>-0.558190</td>\n",
       "      <td>-0.398021</td>\n",
       "      <td>1.527933</td>\n",
       "      <td>0.222172</td>\n",
       "      <td>4</td>\n",
       "    </tr>\n",
       "    <tr>\n",
       "      <th>C</th>\n",
       "      <td>-0.711730</td>\n",
       "      <td>-0.145081</td>\n",
       "      <td>-0.612022</td>\n",
       "      <td>0.544642</td>\n",
       "      <td>0.088793</td>\n",
       "      <td>9</td>\n",
       "    </tr>\n",
       "    <tr>\n",
       "      <th>D</th>\n",
       "      <td>-0.156047</td>\n",
       "      <td>0.212867</td>\n",
       "      <td>1.213968</td>\n",
       "      <td>0.354378</td>\n",
       "      <td>0.258414</td>\n",
       "      <td>16</td>\n",
       "    </tr>\n",
       "    <tr>\n",
       "      <th>E</th>\n",
       "      <td>-1.876406</td>\n",
       "      <td>0.502058</td>\n",
       "      <td>-0.395882</td>\n",
       "      <td>-1.099774</td>\n",
       "      <td>-0.198755</td>\n",
       "      <td>25</td>\n",
       "    </tr>\n",
       "  </tbody>\n",
       "</table>\n",
       "</div>"
      ],
      "text/plain": [
       "          W         X         Y         Z     col_1  col_2\n",
       "A  0.797764 -1.968067 -1.908427 -1.107560  3.755912      1\n",
       "B -0.258266 -0.558190 -0.398021  1.527933  0.222172      4\n",
       "C -0.711730 -0.145081 -0.612022  0.544642  0.088793      9\n",
       "D -0.156047  0.212867  1.213968  0.354378  0.258414     16\n",
       "E -1.876406  0.502058 -0.395882 -1.099774 -0.198755     25"
      ]
     },
     "execution_count": 72,
     "metadata": {},
     "output_type": "execute_result"
    }
   ],
   "source": [
    "df['col_2'] = [i ** 2 for i in range(1,6)]\n",
    "df"
   ]
  },
  {
   "cell_type": "markdown",
   "metadata": {},
   "source": [
    "#### Remove Data"
   ]
  },
  {
   "cell_type": "code",
   "execution_count": 73,
   "metadata": {},
   "outputs": [
    {
     "data": {
      "text/html": [
       "<div>\n",
       "<style scoped>\n",
       "    .dataframe tbody tr th:only-of-type {\n",
       "        vertical-align: middle;\n",
       "    }\n",
       "\n",
       "    .dataframe tbody tr th {\n",
       "        vertical-align: top;\n",
       "    }\n",
       "\n",
       "    .dataframe thead th {\n",
       "        text-align: right;\n",
       "    }\n",
       "</style>\n",
       "<table border=\"1\" class=\"dataframe\">\n",
       "  <thead>\n",
       "    <tr style=\"text-align: right;\">\n",
       "      <th></th>\n",
       "      <th>W</th>\n",
       "      <th>X</th>\n",
       "      <th>Y</th>\n",
       "      <th>Z</th>\n",
       "      <th>col_1</th>\n",
       "      <th>col_2</th>\n",
       "    </tr>\n",
       "  </thead>\n",
       "  <tbody>\n",
       "    <tr>\n",
       "      <th>A</th>\n",
       "      <td>0.797764</td>\n",
       "      <td>-1.968067</td>\n",
       "      <td>-1.908427</td>\n",
       "      <td>-1.107560</td>\n",
       "      <td>3.755912</td>\n",
       "      <td>1</td>\n",
       "    </tr>\n",
       "    <tr>\n",
       "      <th>B</th>\n",
       "      <td>-0.258266</td>\n",
       "      <td>-0.558190</td>\n",
       "      <td>-0.398021</td>\n",
       "      <td>1.527933</td>\n",
       "      <td>0.222172</td>\n",
       "      <td>4</td>\n",
       "    </tr>\n",
       "    <tr>\n",
       "      <th>D</th>\n",
       "      <td>-0.156047</td>\n",
       "      <td>0.212867</td>\n",
       "      <td>1.213968</td>\n",
       "      <td>0.354378</td>\n",
       "      <td>0.258414</td>\n",
       "      <td>16</td>\n",
       "    </tr>\n",
       "    <tr>\n",
       "      <th>E</th>\n",
       "      <td>-1.876406</td>\n",
       "      <td>0.502058</td>\n",
       "      <td>-0.395882</td>\n",
       "      <td>-1.099774</td>\n",
       "      <td>-0.198755</td>\n",
       "      <td>25</td>\n",
       "    </tr>\n",
       "  </tbody>\n",
       "</table>\n",
       "</div>"
      ],
      "text/plain": [
       "          W         X         Y         Z     col_1  col_2\n",
       "A  0.797764 -1.968067 -1.908427 -1.107560  3.755912      1\n",
       "B -0.258266 -0.558190 -0.398021  1.527933  0.222172      4\n",
       "D -0.156047  0.212867  1.213968  0.354378  0.258414     16\n",
       "E -1.876406  0.502058 -0.395882 -1.099774 -0.198755     25"
      ]
     },
     "execution_count": 73,
     "metadata": {},
     "output_type": "execute_result"
    }
   ],
   "source": [
    "df.drop('C')"
   ]
  },
  {
   "cell_type": "code",
   "execution_count": null,
   "metadata": {},
   "outputs": [],
   "source": [
    "# Secara default nilai Axis adalah 0\n",
    "\n",
    "Axis 0 => row -> droping Row C\n",
    "Axis 1 => column -> droping Column col_2"
   ]
  },
  {
   "cell_type": "code",
   "execution_count": 75,
   "metadata": {},
   "outputs": [
    {
     "data": {
      "text/html": [
       "<div>\n",
       "<style scoped>\n",
       "    .dataframe tbody tr th:only-of-type {\n",
       "        vertical-align: middle;\n",
       "    }\n",
       "\n",
       "    .dataframe tbody tr th {\n",
       "        vertical-align: top;\n",
       "    }\n",
       "\n",
       "    .dataframe thead th {\n",
       "        text-align: right;\n",
       "    }\n",
       "</style>\n",
       "<table border=\"1\" class=\"dataframe\">\n",
       "  <thead>\n",
       "    <tr style=\"text-align: right;\">\n",
       "      <th></th>\n",
       "      <th>W</th>\n",
       "      <th>X</th>\n",
       "      <th>Y</th>\n",
       "      <th>Z</th>\n",
       "      <th>col_1</th>\n",
       "      <th>col_2</th>\n",
       "    </tr>\n",
       "  </thead>\n",
       "  <tbody>\n",
       "    <tr>\n",
       "      <th>A</th>\n",
       "      <td>0.797764</td>\n",
       "      <td>-1.968067</td>\n",
       "      <td>-1.908427</td>\n",
       "      <td>-1.107560</td>\n",
       "      <td>3.755912</td>\n",
       "      <td>1</td>\n",
       "    </tr>\n",
       "    <tr>\n",
       "      <th>B</th>\n",
       "      <td>-0.258266</td>\n",
       "      <td>-0.558190</td>\n",
       "      <td>-0.398021</td>\n",
       "      <td>1.527933</td>\n",
       "      <td>0.222172</td>\n",
       "      <td>4</td>\n",
       "    </tr>\n",
       "    <tr>\n",
       "      <th>D</th>\n",
       "      <td>-0.156047</td>\n",
       "      <td>0.212867</td>\n",
       "      <td>1.213968</td>\n",
       "      <td>0.354378</td>\n",
       "      <td>0.258414</td>\n",
       "      <td>16</td>\n",
       "    </tr>\n",
       "    <tr>\n",
       "      <th>E</th>\n",
       "      <td>-1.876406</td>\n",
       "      <td>0.502058</td>\n",
       "      <td>-0.395882</td>\n",
       "      <td>-1.099774</td>\n",
       "      <td>-0.198755</td>\n",
       "      <td>25</td>\n",
       "    </tr>\n",
       "  </tbody>\n",
       "</table>\n",
       "</div>"
      ],
      "text/plain": [
       "          W         X         Y         Z     col_1  col_2\n",
       "A  0.797764 -1.968067 -1.908427 -1.107560  3.755912      1\n",
       "B -0.258266 -0.558190 -0.398021  1.527933  0.222172      4\n",
       "D -0.156047  0.212867  1.213968  0.354378  0.258414     16\n",
       "E -1.876406  0.502058 -0.395882 -1.099774 -0.198755     25"
      ]
     },
     "execution_count": 75,
     "metadata": {},
     "output_type": "execute_result"
    }
   ],
   "source": [
    "df.drop('C', axis=0) # similar to df.drop('C')"
   ]
  },
  {
   "cell_type": "code",
   "execution_count": 77,
   "metadata": {},
   "outputs": [
    {
     "data": {
      "text/html": [
       "<div>\n",
       "<style scoped>\n",
       "    .dataframe tbody tr th:only-of-type {\n",
       "        vertical-align: middle;\n",
       "    }\n",
       "\n",
       "    .dataframe tbody tr th {\n",
       "        vertical-align: top;\n",
       "    }\n",
       "\n",
       "    .dataframe thead th {\n",
       "        text-align: right;\n",
       "    }\n",
       "</style>\n",
       "<table border=\"1\" class=\"dataframe\">\n",
       "  <thead>\n",
       "    <tr style=\"text-align: right;\">\n",
       "      <th></th>\n",
       "      <th>W</th>\n",
       "      <th>X</th>\n",
       "      <th>Y</th>\n",
       "      <th>Z</th>\n",
       "      <th>col_1</th>\n",
       "    </tr>\n",
       "  </thead>\n",
       "  <tbody>\n",
       "    <tr>\n",
       "      <th>A</th>\n",
       "      <td>0.797764</td>\n",
       "      <td>-1.968067</td>\n",
       "      <td>-1.908427</td>\n",
       "      <td>-1.107560</td>\n",
       "      <td>3.755912</td>\n",
       "    </tr>\n",
       "    <tr>\n",
       "      <th>B</th>\n",
       "      <td>-0.258266</td>\n",
       "      <td>-0.558190</td>\n",
       "      <td>-0.398021</td>\n",
       "      <td>1.527933</td>\n",
       "      <td>0.222172</td>\n",
       "    </tr>\n",
       "    <tr>\n",
       "      <th>C</th>\n",
       "      <td>-0.711730</td>\n",
       "      <td>-0.145081</td>\n",
       "      <td>-0.612022</td>\n",
       "      <td>0.544642</td>\n",
       "      <td>0.088793</td>\n",
       "    </tr>\n",
       "    <tr>\n",
       "      <th>D</th>\n",
       "      <td>-0.156047</td>\n",
       "      <td>0.212867</td>\n",
       "      <td>1.213968</td>\n",
       "      <td>0.354378</td>\n",
       "      <td>0.258414</td>\n",
       "    </tr>\n",
       "    <tr>\n",
       "      <th>E</th>\n",
       "      <td>-1.876406</td>\n",
       "      <td>0.502058</td>\n",
       "      <td>-0.395882</td>\n",
       "      <td>-1.099774</td>\n",
       "      <td>-0.198755</td>\n",
       "    </tr>\n",
       "  </tbody>\n",
       "</table>\n",
       "</div>"
      ],
      "text/plain": [
       "          W         X         Y         Z     col_1\n",
       "A  0.797764 -1.968067 -1.908427 -1.107560  3.755912\n",
       "B -0.258266 -0.558190 -0.398021  1.527933  0.222172\n",
       "C -0.711730 -0.145081 -0.612022  0.544642  0.088793\n",
       "D -0.156047  0.212867  1.213968  0.354378  0.258414\n",
       "E -1.876406  0.502058 -0.395882 -1.099774 -0.198755"
      ]
     },
     "execution_count": 77,
     "metadata": {},
     "output_type": "execute_result"
    }
   ],
   "source": [
    "df.drop('col_2', axis=1)"
   ]
  },
  {
   "cell_type": "code",
   "execution_count": 78,
   "metadata": {},
   "outputs": [
    {
     "data": {
      "text/html": [
       "<div>\n",
       "<style scoped>\n",
       "    .dataframe tbody tr th:only-of-type {\n",
       "        vertical-align: middle;\n",
       "    }\n",
       "\n",
       "    .dataframe tbody tr th {\n",
       "        vertical-align: top;\n",
       "    }\n",
       "\n",
       "    .dataframe thead th {\n",
       "        text-align: right;\n",
       "    }\n",
       "</style>\n",
       "<table border=\"1\" class=\"dataframe\">\n",
       "  <thead>\n",
       "    <tr style=\"text-align: right;\">\n",
       "      <th></th>\n",
       "      <th>W</th>\n",
       "      <th>Y</th>\n",
       "      <th>Z</th>\n",
       "      <th>col_2</th>\n",
       "    </tr>\n",
       "  </thead>\n",
       "  <tbody>\n",
       "    <tr>\n",
       "      <th>A</th>\n",
       "      <td>0.797764</td>\n",
       "      <td>-1.908427</td>\n",
       "      <td>-1.107560</td>\n",
       "      <td>1</td>\n",
       "    </tr>\n",
       "    <tr>\n",
       "      <th>B</th>\n",
       "      <td>-0.258266</td>\n",
       "      <td>-0.398021</td>\n",
       "      <td>1.527933</td>\n",
       "      <td>4</td>\n",
       "    </tr>\n",
       "    <tr>\n",
       "      <th>C</th>\n",
       "      <td>-0.711730</td>\n",
       "      <td>-0.612022</td>\n",
       "      <td>0.544642</td>\n",
       "      <td>9</td>\n",
       "    </tr>\n",
       "    <tr>\n",
       "      <th>D</th>\n",
       "      <td>-0.156047</td>\n",
       "      <td>1.213968</td>\n",
       "      <td>0.354378</td>\n",
       "      <td>16</td>\n",
       "    </tr>\n",
       "    <tr>\n",
       "      <th>E</th>\n",
       "      <td>-1.876406</td>\n",
       "      <td>-0.395882</td>\n",
       "      <td>-1.099774</td>\n",
       "      <td>25</td>\n",
       "    </tr>\n",
       "  </tbody>\n",
       "</table>\n",
       "</div>"
      ],
      "text/plain": [
       "          W         Y         Z  col_2\n",
       "A  0.797764 -1.908427 -1.107560      1\n",
       "B -0.258266 -0.398021  1.527933      4\n",
       "C -0.711730 -0.612022  0.544642      9\n",
       "D -0.156047  1.213968  0.354378     16\n",
       "E -1.876406 -0.395882 -1.099774     25"
      ]
     },
     "execution_count": 78,
     "metadata": {},
     "output_type": "execute_result"
    }
   ],
   "source": [
    "df.drop(columns=['col_1', 'X'])"
   ]
  },
  {
   "cell_type": "markdown",
   "metadata": {},
   "source": [
    "Agar Fungsi mengubah Data yang ada\n",
    "- assign nama dataframe original\n",
    "- gunakan parameter 'inplace = True'"
   ]
  },
  {
   "cell_type": "code",
   "execution_count": 42,
   "metadata": {},
   "outputs": [
    {
     "data": {
      "text/html": [
       "<div>\n",
       "<style scoped>\n",
       "    .dataframe tbody tr th:only-of-type {\n",
       "        vertical-align: middle;\n",
       "    }\n",
       "\n",
       "    .dataframe tbody tr th {\n",
       "        vertical-align: top;\n",
       "    }\n",
       "\n",
       "    .dataframe thead th {\n",
       "        text-align: right;\n",
       "    }\n",
       "</style>\n",
       "<table border=\"1\" class=\"dataframe\">\n",
       "  <thead>\n",
       "    <tr style=\"text-align: right;\">\n",
       "      <th></th>\n",
       "      <th>W</th>\n",
       "      <th>X</th>\n",
       "      <th>Y</th>\n",
       "      <th>Z</th>\n",
       "      <th>col_2</th>\n",
       "    </tr>\n",
       "  </thead>\n",
       "  <tbody>\n",
       "    <tr>\n",
       "      <th>A</th>\n",
       "      <td>1.284445</td>\n",
       "      <td>-0.296037</td>\n",
       "      <td>-0.907984</td>\n",
       "      <td>-1.167555</td>\n",
       "      <td>1</td>\n",
       "    </tr>\n",
       "    <tr>\n",
       "      <th>B</th>\n",
       "      <td>-0.419792</td>\n",
       "      <td>0.723927</td>\n",
       "      <td>1.036089</td>\n",
       "      <td>-1.343167</td>\n",
       "      <td>4</td>\n",
       "    </tr>\n",
       "    <tr>\n",
       "      <th>C</th>\n",
       "      <td>1.893363</td>\n",
       "      <td>0.702701</td>\n",
       "      <td>1.235684</td>\n",
       "      <td>-1.459479</td>\n",
       "      <td>9</td>\n",
       "    </tr>\n",
       "    <tr>\n",
       "      <th>D</th>\n",
       "      <td>2.302487</td>\n",
       "      <td>0.113500</td>\n",
       "      <td>0.712243</td>\n",
       "      <td>0.836411</td>\n",
       "      <td>16</td>\n",
       "    </tr>\n",
       "    <tr>\n",
       "      <th>E</th>\n",
       "      <td>0.906594</td>\n",
       "      <td>-0.743221</td>\n",
       "      <td>0.753674</td>\n",
       "      <td>-0.845777</td>\n",
       "      <td>25</td>\n",
       "    </tr>\n",
       "  </tbody>\n",
       "</table>\n",
       "</div>"
      ],
      "text/plain": [
       "          W         X         Y         Z  col_2\n",
       "A  1.284445 -0.296037 -0.907984 -1.167555      1\n",
       "B -0.419792  0.723927  1.036089 -1.343167      4\n",
       "C  1.893363  0.702701  1.235684 -1.459479      9\n",
       "D  2.302487  0.113500  0.712243  0.836411     16\n",
       "E  0.906594 -0.743221  0.753674 -0.845777     25"
      ]
     },
     "execution_count": 42,
     "metadata": {},
     "output_type": "execute_result"
    }
   ],
   "source": [
    "df_del = df.drop(columns='col_1')\n",
    "df_del"
   ]
  },
  {
   "cell_type": "code",
   "execution_count": 43,
   "metadata": {},
   "outputs": [
    {
     "data": {
      "text/html": [
       "<div>\n",
       "<style scoped>\n",
       "    .dataframe tbody tr th:only-of-type {\n",
       "        vertical-align: middle;\n",
       "    }\n",
       "\n",
       "    .dataframe tbody tr th {\n",
       "        vertical-align: top;\n",
       "    }\n",
       "\n",
       "    .dataframe thead th {\n",
       "        text-align: right;\n",
       "    }\n",
       "</style>\n",
       "<table border=\"1\" class=\"dataframe\">\n",
       "  <thead>\n",
       "    <tr style=\"text-align: right;\">\n",
       "      <th></th>\n",
       "      <th>W</th>\n",
       "      <th>X</th>\n",
       "      <th>Y</th>\n",
       "      <th>Z</th>\n",
       "      <th>col_2</th>\n",
       "    </tr>\n",
       "  </thead>\n",
       "  <tbody>\n",
       "    <tr>\n",
       "      <th>A</th>\n",
       "      <td>1.284445</td>\n",
       "      <td>-0.296037</td>\n",
       "      <td>-0.907984</td>\n",
       "      <td>-1.167555</td>\n",
       "      <td>1</td>\n",
       "    </tr>\n",
       "    <tr>\n",
       "      <th>B</th>\n",
       "      <td>-0.419792</td>\n",
       "      <td>0.723927</td>\n",
       "      <td>1.036089</td>\n",
       "      <td>-1.343167</td>\n",
       "      <td>4</td>\n",
       "    </tr>\n",
       "    <tr>\n",
       "      <th>C</th>\n",
       "      <td>1.893363</td>\n",
       "      <td>0.702701</td>\n",
       "      <td>1.235684</td>\n",
       "      <td>-1.459479</td>\n",
       "      <td>9</td>\n",
       "    </tr>\n",
       "    <tr>\n",
       "      <th>D</th>\n",
       "      <td>2.302487</td>\n",
       "      <td>0.113500</td>\n",
       "      <td>0.712243</td>\n",
       "      <td>0.836411</td>\n",
       "      <td>16</td>\n",
       "    </tr>\n",
       "    <tr>\n",
       "      <th>E</th>\n",
       "      <td>0.906594</td>\n",
       "      <td>-0.743221</td>\n",
       "      <td>0.753674</td>\n",
       "      <td>-0.845777</td>\n",
       "      <td>25</td>\n",
       "    </tr>\n",
       "  </tbody>\n",
       "</table>\n",
       "</div>"
      ],
      "text/plain": [
       "          W         X         Y         Z  col_2\n",
       "A  1.284445 -0.296037 -0.907984 -1.167555      1\n",
       "B -0.419792  0.723927  1.036089 -1.343167      4\n",
       "C  1.893363  0.702701  1.235684 -1.459479      9\n",
       "D  2.302487  0.113500  0.712243  0.836411     16\n",
       "E  0.906594 -0.743221  0.753674 -0.845777     25"
      ]
     },
     "execution_count": 43,
     "metadata": {},
     "output_type": "execute_result"
    }
   ],
   "source": [
    "df.drop(columns='col_1', inplace=True)\n",
    "df"
   ]
  },
  {
   "cell_type": "code",
   "execution_count": 44,
   "metadata": {},
   "outputs": [
    {
     "data": {
      "text/plain": [
       "A   -0.296037\n",
       "B    0.723927\n",
       "C    0.702701\n",
       "D    0.113500\n",
       "E   -0.743221\n",
       "Name: X, dtype: float64"
      ]
     },
     "execution_count": 44,
     "metadata": {},
     "output_type": "execute_result"
    }
   ],
   "source": [
    "# selecting column X\n",
    "df['X']"
   ]
  },
  {
   "cell_type": "code",
   "execution_count": 79,
   "metadata": {},
   "outputs": [
    {
     "data": {
      "text/plain": [
       "B   -0.558190\n",
       "D    0.212867\n",
       "Name: X, dtype: float64"
      ]
     },
     "execution_count": 79,
     "metadata": {},
     "output_type": "execute_result"
    }
   ],
   "source": [
    "# selecting column X and row B & D\n",
    "df['X'][['B', 'D']]"
   ]
  },
  {
   "cell_type": "code",
   "execution_count": 80,
   "metadata": {},
   "outputs": [
    {
     "data": {
      "text/html": [
       "<div>\n",
       "<style scoped>\n",
       "    .dataframe tbody tr th:only-of-type {\n",
       "        vertical-align: middle;\n",
       "    }\n",
       "\n",
       "    .dataframe tbody tr th {\n",
       "        vertical-align: top;\n",
       "    }\n",
       "\n",
       "    .dataframe thead th {\n",
       "        text-align: right;\n",
       "    }\n",
       "</style>\n",
       "<table border=\"1\" class=\"dataframe\">\n",
       "  <thead>\n",
       "    <tr style=\"text-align: right;\">\n",
       "      <th></th>\n",
       "      <th>W</th>\n",
       "      <th>X</th>\n",
       "      <th>Y</th>\n",
       "      <th>Z</th>\n",
       "      <th>col_1</th>\n",
       "      <th>col_2</th>\n",
       "    </tr>\n",
       "  </thead>\n",
       "  <tbody>\n",
       "    <tr>\n",
       "      <th>A</th>\n",
       "      <td>0.797764</td>\n",
       "      <td>-1.968067</td>\n",
       "      <td>-1.908427</td>\n",
       "      <td>-1.107560</td>\n",
       "      <td>3.755912</td>\n",
       "      <td>1</td>\n",
       "    </tr>\n",
       "    <tr>\n",
       "      <th>B</th>\n",
       "      <td>-0.258266</td>\n",
       "      <td>-0.558190</td>\n",
       "      <td>-0.398021</td>\n",
       "      <td>1.527933</td>\n",
       "      <td>0.222172</td>\n",
       "      <td>4</td>\n",
       "    </tr>\n",
       "    <tr>\n",
       "      <th>C</th>\n",
       "      <td>-0.711730</td>\n",
       "      <td>-0.145081</td>\n",
       "      <td>-0.612022</td>\n",
       "      <td>0.544642</td>\n",
       "      <td>0.088793</td>\n",
       "      <td>9</td>\n",
       "    </tr>\n",
       "    <tr>\n",
       "      <th>D</th>\n",
       "      <td>-0.156047</td>\n",
       "      <td>0.212867</td>\n",
       "      <td>1.213968</td>\n",
       "      <td>0.354378</td>\n",
       "      <td>0.258414</td>\n",
       "      <td>16</td>\n",
       "    </tr>\n",
       "    <tr>\n",
       "      <th>E</th>\n",
       "      <td>-1.876406</td>\n",
       "      <td>0.502058</td>\n",
       "      <td>-0.395882</td>\n",
       "      <td>-1.099774</td>\n",
       "      <td>-0.198755</td>\n",
       "      <td>25</td>\n",
       "    </tr>\n",
       "  </tbody>\n",
       "</table>\n",
       "</div>"
      ],
      "text/plain": [
       "          W         X         Y         Z     col_1  col_2\n",
       "A  0.797764 -1.968067 -1.908427 -1.107560  3.755912      1\n",
       "B -0.258266 -0.558190 -0.398021  1.527933  0.222172      4\n",
       "C -0.711730 -0.145081 -0.612022  0.544642  0.088793      9\n",
       "D -0.156047  0.212867  1.213968  0.354378  0.258414     16\n",
       "E -1.876406  0.502058 -0.395882 -1.099774 -0.198755     25"
      ]
     },
     "execution_count": 80,
     "metadata": {},
     "output_type": "execute_result"
    }
   ],
   "source": [
    "df"
   ]
  },
  {
   "cell_type": "markdown",
   "metadata": {},
   "source": [
    "#### Accessing Row Data with `.loc` and `.iloc`\n",
    "`.loc` digunakan untuk mengakses baris data menggunakan **nama/label index**"
   ]
  },
  {
   "cell_type": "code",
   "execution_count": 83,
   "metadata": {},
   "outputs": [
    {
     "data": {
      "text/plain": [
       "W       -0.711730\n",
       "X       -0.145081\n",
       "Y       -0.612022\n",
       "Z        0.544642\n",
       "col_1    0.088793\n",
       "col_2    9.000000\n",
       "Name: C, dtype: float64"
      ]
     },
     "execution_count": 83,
     "metadata": {},
     "output_type": "execute_result"
    }
   ],
   "source": [
    "df.loc['C']"
   ]
  },
  {
   "cell_type": "code",
   "execution_count": 82,
   "metadata": {},
   "outputs": [
    {
     "data": {
      "text/plain": [
       "W        -1.876406\n",
       "X         0.502058\n",
       "Y        -0.395882\n",
       "Z        -1.099774\n",
       "col_1    -0.198755\n",
       "col_2    25.000000\n",
       "Name: E, dtype: float64"
      ]
     },
     "execution_count": 82,
     "metadata": {},
     "output_type": "execute_result"
    }
   ],
   "source": [
    "df.loc['E']"
   ]
  },
  {
   "cell_type": "markdown",
   "metadata": {},
   "source": [
    "`.iloc` digunakan untuk mengakses baris data menggunakan **Urutan Index**"
   ]
  },
  {
   "cell_type": "code",
   "execution_count": 84,
   "metadata": {},
   "outputs": [
    {
     "data": {
      "text/plain": [
       "W       -0.711730\n",
       "X       -0.145081\n",
       "Y       -0.612022\n",
       "Z        0.544642\n",
       "col_1    0.088793\n",
       "col_2    9.000000\n",
       "Name: C, dtype: float64"
      ]
     },
     "execution_count": 84,
     "metadata": {},
     "output_type": "execute_result"
    }
   ],
   "source": [
    "df.iloc[2]"
   ]
  },
  {
   "cell_type": "code",
   "execution_count": 85,
   "metadata": {},
   "outputs": [
    {
     "data": {
      "text/plain": [
       "W        -1.876406\n",
       "X         0.502058\n",
       "Y        -0.395882\n",
       "Z        -1.099774\n",
       "col_1    -0.198755\n",
       "col_2    25.000000\n",
       "Name: E, dtype: float64"
      ]
     },
     "execution_count": 85,
     "metadata": {},
     "output_type": "execute_result"
    }
   ],
   "source": [
    "df.iloc[4]"
   ]
  },
  {
   "cell_type": "code",
   "execution_count": 86,
   "metadata": {},
   "outputs": [
    {
     "data": {
      "text/html": [
       "<div>\n",
       "<style scoped>\n",
       "    .dataframe tbody tr th:only-of-type {\n",
       "        vertical-align: middle;\n",
       "    }\n",
       "\n",
       "    .dataframe tbody tr th {\n",
       "        vertical-align: top;\n",
       "    }\n",
       "\n",
       "    .dataframe thead th {\n",
       "        text-align: right;\n",
       "    }\n",
       "</style>\n",
       "<table border=\"1\" class=\"dataframe\">\n",
       "  <thead>\n",
       "    <tr style=\"text-align: right;\">\n",
       "      <th></th>\n",
       "      <th>W</th>\n",
       "      <th>X</th>\n",
       "      <th>Y</th>\n",
       "      <th>Z</th>\n",
       "      <th>col_1</th>\n",
       "      <th>col_2</th>\n",
       "    </tr>\n",
       "  </thead>\n",
       "  <tbody>\n",
       "    <tr>\n",
       "      <th>C</th>\n",
       "      <td>-0.711730</td>\n",
       "      <td>-0.145081</td>\n",
       "      <td>-0.612022</td>\n",
       "      <td>0.544642</td>\n",
       "      <td>0.088793</td>\n",
       "      <td>9</td>\n",
       "    </tr>\n",
       "    <tr>\n",
       "      <th>D</th>\n",
       "      <td>-0.156047</td>\n",
       "      <td>0.212867</td>\n",
       "      <td>1.213968</td>\n",
       "      <td>0.354378</td>\n",
       "      <td>0.258414</td>\n",
       "      <td>16</td>\n",
       "    </tr>\n",
       "  </tbody>\n",
       "</table>\n",
       "</div>"
      ],
      "text/plain": [
       "          W         X         Y         Z     col_1  col_2\n",
       "C -0.711730 -0.145081 -0.612022  0.544642  0.088793      9\n",
       "D -0.156047  0.212867  1.213968  0.354378  0.258414     16"
      ]
     },
     "execution_count": 86,
     "metadata": {},
     "output_type": "execute_result"
    }
   ],
   "source": [
    "df.loc[['C', 'D']]"
   ]
  },
  {
   "cell_type": "code",
   "execution_count": 87,
   "metadata": {},
   "outputs": [
    {
     "data": {
      "text/html": [
       "<div>\n",
       "<style scoped>\n",
       "    .dataframe tbody tr th:only-of-type {\n",
       "        vertical-align: middle;\n",
       "    }\n",
       "\n",
       "    .dataframe tbody tr th {\n",
       "        vertical-align: top;\n",
       "    }\n",
       "\n",
       "    .dataframe thead th {\n",
       "        text-align: right;\n",
       "    }\n",
       "</style>\n",
       "<table border=\"1\" class=\"dataframe\">\n",
       "  <thead>\n",
       "    <tr style=\"text-align: right;\">\n",
       "      <th></th>\n",
       "      <th>Y</th>\n",
       "      <th>Z</th>\n",
       "    </tr>\n",
       "  </thead>\n",
       "  <tbody>\n",
       "    <tr>\n",
       "      <th>C</th>\n",
       "      <td>-0.612022</td>\n",
       "      <td>0.544642</td>\n",
       "    </tr>\n",
       "    <tr>\n",
       "      <th>D</th>\n",
       "      <td>1.213968</td>\n",
       "      <td>0.354378</td>\n",
       "    </tr>\n",
       "  </tbody>\n",
       "</table>\n",
       "</div>"
      ],
      "text/plain": [
       "          Y         Z\n",
       "C -0.612022  0.544642\n",
       "D  1.213968  0.354378"
      ]
     },
     "execution_count": 87,
     "metadata": {},
     "output_type": "execute_result"
    }
   ],
   "source": [
    "# selecting row C & D and column Y & Z\n",
    "df.loc[['C', 'D']][['Y', 'Z']]"
   ]
  },
  {
   "cell_type": "code",
   "execution_count": 88,
   "metadata": {},
   "outputs": [
    {
     "data": {
      "text/html": [
       "<div>\n",
       "<style scoped>\n",
       "    .dataframe tbody tr th:only-of-type {\n",
       "        vertical-align: middle;\n",
       "    }\n",
       "\n",
       "    .dataframe tbody tr th {\n",
       "        vertical-align: top;\n",
       "    }\n",
       "\n",
       "    .dataframe thead th {\n",
       "        text-align: right;\n",
       "    }\n",
       "</style>\n",
       "<table border=\"1\" class=\"dataframe\">\n",
       "  <thead>\n",
       "    <tr style=\"text-align: right;\">\n",
       "      <th></th>\n",
       "      <th>Y</th>\n",
       "      <th>Z</th>\n",
       "    </tr>\n",
       "  </thead>\n",
       "  <tbody>\n",
       "    <tr>\n",
       "      <th>D</th>\n",
       "      <td>1.213968</td>\n",
       "      <td>0.354378</td>\n",
       "    </tr>\n",
       "    <tr>\n",
       "      <th>C</th>\n",
       "      <td>-0.612022</td>\n",
       "      <td>0.544642</td>\n",
       "    </tr>\n",
       "  </tbody>\n",
       "</table>\n",
       "</div>"
      ],
      "text/plain": [
       "          Y         Z\n",
       "D  1.213968  0.354378\n",
       "C -0.612022  0.544642"
      ]
     },
     "execution_count": 88,
     "metadata": {},
     "output_type": "execute_result"
    }
   ],
   "source": [
    "# selecting column Y & Z and row D & C\n",
    "df[['Y', 'Z']].loc[['D', 'C']]"
   ]
  },
  {
   "cell_type": "markdown",
   "metadata": {},
   "source": [
    "### 4) Subsetting\n",
    "- List = Slicing\n",
    "- Pandas = Subsetting\n",
    "    > it is to display certain data with certain conditions"
   ]
  },
  {
   "cell_type": "code",
   "execution_count": 90,
   "metadata": {},
   "outputs": [
    {
     "data": {
      "text/html": [
       "<div>\n",
       "<style scoped>\n",
       "    .dataframe tbody tr th:only-of-type {\n",
       "        vertical-align: middle;\n",
       "    }\n",
       "\n",
       "    .dataframe tbody tr th {\n",
       "        vertical-align: top;\n",
       "    }\n",
       "\n",
       "    .dataframe thead th {\n",
       "        text-align: right;\n",
       "    }\n",
       "</style>\n",
       "<table border=\"1\" class=\"dataframe\">\n",
       "  <thead>\n",
       "    <tr style=\"text-align: right;\">\n",
       "      <th></th>\n",
       "      <th>W</th>\n",
       "      <th>X</th>\n",
       "      <th>Y</th>\n",
       "      <th>Z</th>\n",
       "      <th>col_1</th>\n",
       "      <th>col_2</th>\n",
       "    </tr>\n",
       "  </thead>\n",
       "  <tbody>\n",
       "    <tr>\n",
       "      <th>A</th>\n",
       "      <td>0.797764</td>\n",
       "      <td>NaN</td>\n",
       "      <td>NaN</td>\n",
       "      <td>NaN</td>\n",
       "      <td>3.755912</td>\n",
       "      <td>1</td>\n",
       "    </tr>\n",
       "    <tr>\n",
       "      <th>B</th>\n",
       "      <td>NaN</td>\n",
       "      <td>NaN</td>\n",
       "      <td>NaN</td>\n",
       "      <td>1.527933</td>\n",
       "      <td>0.222172</td>\n",
       "      <td>4</td>\n",
       "    </tr>\n",
       "    <tr>\n",
       "      <th>C</th>\n",
       "      <td>NaN</td>\n",
       "      <td>NaN</td>\n",
       "      <td>NaN</td>\n",
       "      <td>0.544642</td>\n",
       "      <td>0.088793</td>\n",
       "      <td>9</td>\n",
       "    </tr>\n",
       "    <tr>\n",
       "      <th>D</th>\n",
       "      <td>NaN</td>\n",
       "      <td>0.212867</td>\n",
       "      <td>1.213968</td>\n",
       "      <td>0.354378</td>\n",
       "      <td>0.258414</td>\n",
       "      <td>16</td>\n",
       "    </tr>\n",
       "    <tr>\n",
       "      <th>E</th>\n",
       "      <td>NaN</td>\n",
       "      <td>0.502058</td>\n",
       "      <td>NaN</td>\n",
       "      <td>NaN</td>\n",
       "      <td>NaN</td>\n",
       "      <td>25</td>\n",
       "    </tr>\n",
       "  </tbody>\n",
       "</table>\n",
       "</div>"
      ],
      "text/plain": [
       "          W         X         Y         Z     col_1  col_2\n",
       "A  0.797764       NaN       NaN       NaN  3.755912      1\n",
       "B       NaN       NaN       NaN  1.527933  0.222172      4\n",
       "C       NaN       NaN       NaN  0.544642  0.088793      9\n",
       "D       NaN  0.212867  1.213968  0.354378  0.258414     16\n",
       "E       NaN  0.502058       NaN       NaN       NaN     25"
      ]
     },
     "execution_count": 90,
     "metadata": {},
     "output_type": "execute_result"
    }
   ],
   "source": [
    "# to display value < 0 as NaN\n",
    "df[ df > 0 ]\n",
    "# NaN = Not a Number ==> Missing Value"
   ]
  },
  {
   "cell_type": "code",
   "execution_count": 64,
   "metadata": {},
   "outputs": [],
   "source": [
    "df1 = df[df>0]"
   ]
  },
  {
   "cell_type": "code",
   "execution_count": 67,
   "metadata": {},
   "outputs": [
    {
     "data": {
      "text/html": [
       "<div>\n",
       "<style scoped>\n",
       "    .dataframe tbody tr th:only-of-type {\n",
       "        vertical-align: middle;\n",
       "    }\n",
       "\n",
       "    .dataframe tbody tr th {\n",
       "        vertical-align: top;\n",
       "    }\n",
       "\n",
       "    .dataframe thead th {\n",
       "        text-align: right;\n",
       "    }\n",
       "</style>\n",
       "<table border=\"1\" class=\"dataframe\">\n",
       "  <thead>\n",
       "    <tr style=\"text-align: right;\">\n",
       "      <th></th>\n",
       "      <th>W</th>\n",
       "      <th>X</th>\n",
       "      <th>Y</th>\n",
       "      <th>Z</th>\n",
       "      <th>col_2</th>\n",
       "    </tr>\n",
       "  </thead>\n",
       "  <tbody>\n",
       "    <tr>\n",
       "      <th>A</th>\n",
       "      <td>1.284445</td>\n",
       "      <td>-0.296037</td>\n",
       "      <td>-0.907984</td>\n",
       "      <td>-1.167555</td>\n",
       "      <td>1</td>\n",
       "    </tr>\n",
       "    <tr>\n",
       "      <th>B</th>\n",
       "      <td>-0.419792</td>\n",
       "      <td>0.723927</td>\n",
       "      <td>1.036089</td>\n",
       "      <td>-1.343167</td>\n",
       "      <td>4</td>\n",
       "    </tr>\n",
       "    <tr>\n",
       "      <th>C</th>\n",
       "      <td>1.893363</td>\n",
       "      <td>0.702701</td>\n",
       "      <td>1.235684</td>\n",
       "      <td>-1.459479</td>\n",
       "      <td>9</td>\n",
       "    </tr>\n",
       "    <tr>\n",
       "      <th>D</th>\n",
       "      <td>2.302487</td>\n",
       "      <td>0.113500</td>\n",
       "      <td>0.712243</td>\n",
       "      <td>0.836411</td>\n",
       "      <td>16</td>\n",
       "    </tr>\n",
       "    <tr>\n",
       "      <th>E</th>\n",
       "      <td>0.906594</td>\n",
       "      <td>-0.743221</td>\n",
       "      <td>0.753674</td>\n",
       "      <td>-0.845777</td>\n",
       "      <td>25</td>\n",
       "    </tr>\n",
       "  </tbody>\n",
       "</table>\n",
       "</div>"
      ],
      "text/plain": [
       "          W         X         Y         Z  col_2\n",
       "A  1.284445 -0.296037 -0.907984 -1.167555      1\n",
       "B -0.419792  0.723927  1.036089 -1.343167      4\n",
       "C  1.893363  0.702701  1.235684 -1.459479      9\n",
       "D  2.302487  0.113500  0.712243  0.836411     16\n",
       "E  0.906594 -0.743221  0.753674 -0.845777     25"
      ]
     },
     "execution_count": 67,
     "metadata": {},
     "output_type": "execute_result"
    }
   ],
   "source": [
    "df"
   ]
  },
  {
   "cell_type": "code",
   "execution_count": 91,
   "metadata": {},
   "outputs": [
    {
     "data": {
      "text/html": [
       "<div>\n",
       "<style scoped>\n",
       "    .dataframe tbody tr th:only-of-type {\n",
       "        vertical-align: middle;\n",
       "    }\n",
       "\n",
       "    .dataframe tbody tr th {\n",
       "        vertical-align: top;\n",
       "    }\n",
       "\n",
       "    .dataframe thead th {\n",
       "        text-align: right;\n",
       "    }\n",
       "</style>\n",
       "<table border=\"1\" class=\"dataframe\">\n",
       "  <thead>\n",
       "    <tr style=\"text-align: right;\">\n",
       "      <th></th>\n",
       "      <th>X</th>\n",
       "      <th>Z</th>\n",
       "    </tr>\n",
       "  </thead>\n",
       "  <tbody>\n",
       "    <tr>\n",
       "      <th>B</th>\n",
       "      <td>-0.558190</td>\n",
       "      <td>1.527933</td>\n",
       "    </tr>\n",
       "    <tr>\n",
       "      <th>C</th>\n",
       "      <td>-0.145081</td>\n",
       "      <td>0.544642</td>\n",
       "    </tr>\n",
       "    <tr>\n",
       "      <th>D</th>\n",
       "      <td>0.212867</td>\n",
       "      <td>0.354378</td>\n",
       "    </tr>\n",
       "    <tr>\n",
       "      <th>E</th>\n",
       "      <td>0.502058</td>\n",
       "      <td>-1.099774</td>\n",
       "    </tr>\n",
       "  </tbody>\n",
       "</table>\n",
       "</div>"
      ],
      "text/plain": [
       "          X         Z\n",
       "B -0.558190  1.527933\n",
       "C -0.145081  0.544642\n",
       "D  0.212867  0.354378\n",
       "E  0.502058 -1.099774"
      ]
     },
     "execution_count": 91,
     "metadata": {},
     "output_type": "execute_result"
    }
   ],
   "source": [
    "# to display data with iloc\n",
    "df.iloc[1:5][['X', 'Z']]"
   ]
  },
  {
   "cell_type": "code",
   "execution_count": 93,
   "metadata": {},
   "outputs": [
    {
     "data": {
      "text/html": [
       "<div>\n",
       "<style scoped>\n",
       "    .dataframe tbody tr th:only-of-type {\n",
       "        vertical-align: middle;\n",
       "    }\n",
       "\n",
       "    .dataframe tbody tr th {\n",
       "        vertical-align: top;\n",
       "    }\n",
       "\n",
       "    .dataframe thead th {\n",
       "        text-align: right;\n",
       "    }\n",
       "</style>\n",
       "<table border=\"1\" class=\"dataframe\">\n",
       "  <thead>\n",
       "    <tr style=\"text-align: right;\">\n",
       "      <th></th>\n",
       "      <th>W</th>\n",
       "      <th>X</th>\n",
       "      <th>Y</th>\n",
       "      <th>Z</th>\n",
       "      <th>col_1</th>\n",
       "      <th>col_2</th>\n",
       "    </tr>\n",
       "  </thead>\n",
       "  <tbody>\n",
       "    <tr>\n",
       "      <th>A</th>\n",
       "      <td>0.797764</td>\n",
       "      <td>-1.968067</td>\n",
       "      <td>-1.908427</td>\n",
       "      <td>-1.10756</td>\n",
       "      <td>3.755912</td>\n",
       "      <td>1</td>\n",
       "    </tr>\n",
       "  </tbody>\n",
       "</table>\n",
       "</div>"
      ],
      "text/plain": [
       "          W         X         Y        Z     col_1  col_2\n",
       "A  0.797764 -1.968067 -1.908427 -1.10756  3.755912      1"
      ]
     },
     "execution_count": 93,
     "metadata": {},
     "output_type": "execute_result"
    }
   ],
   "source": [
    "# to display row where column W's value is greater than 0\n",
    "df[df['W'] > 0]"
   ]
  },
  {
   "cell_type": "code",
   "execution_count": 77,
   "metadata": {},
   "outputs": [
    {
     "data": {
      "text/html": [
       "<div>\n",
       "<style scoped>\n",
       "    .dataframe tbody tr th:only-of-type {\n",
       "        vertical-align: middle;\n",
       "    }\n",
       "\n",
       "    .dataframe tbody tr th {\n",
       "        vertical-align: top;\n",
       "    }\n",
       "\n",
       "    .dataframe thead th {\n",
       "        text-align: right;\n",
       "    }\n",
       "</style>\n",
       "<table border=\"1\" class=\"dataframe\">\n",
       "  <thead>\n",
       "    <tr style=\"text-align: right;\">\n",
       "      <th></th>\n",
       "      <th>Y</th>\n",
       "      <th>Z</th>\n",
       "    </tr>\n",
       "  </thead>\n",
       "  <tbody>\n",
       "    <tr>\n",
       "      <th>A</th>\n",
       "      <td>-0.907984</td>\n",
       "      <td>-1.167555</td>\n",
       "    </tr>\n",
       "    <tr>\n",
       "      <th>C</th>\n",
       "      <td>1.235684</td>\n",
       "      <td>-1.459479</td>\n",
       "    </tr>\n",
       "    <tr>\n",
       "      <th>D</th>\n",
       "      <td>0.712243</td>\n",
       "      <td>0.836411</td>\n",
       "    </tr>\n",
       "    <tr>\n",
       "      <th>E</th>\n",
       "      <td>0.753674</td>\n",
       "      <td>-0.845777</td>\n",
       "    </tr>\n",
       "  </tbody>\n",
       "</table>\n",
       "</div>"
      ],
      "text/plain": [
       "          Y         Z\n",
       "A -0.907984 -1.167555\n",
       "C  1.235684 -1.459479\n",
       "D  0.712243  0.836411\n",
       "E  0.753674 -0.845777"
      ]
     },
     "execution_count": 77,
     "metadata": {},
     "output_type": "execute_result"
    }
   ],
   "source": [
    "df[df['W'] > 0 ][['Y', 'Z']]"
   ]
  },
  {
   "cell_type": "code",
   "execution_count": 81,
   "metadata": {},
   "outputs": [
    {
     "data": {
      "text/html": [
       "<div>\n",
       "<style scoped>\n",
       "    .dataframe tbody tr th:only-of-type {\n",
       "        vertical-align: middle;\n",
       "    }\n",
       "\n",
       "    .dataframe tbody tr th {\n",
       "        vertical-align: top;\n",
       "    }\n",
       "\n",
       "    .dataframe thead th {\n",
       "        text-align: right;\n",
       "    }\n",
       "</style>\n",
       "<table border=\"1\" class=\"dataframe\">\n",
       "  <thead>\n",
       "    <tr style=\"text-align: right;\">\n",
       "      <th></th>\n",
       "      <th>Y</th>\n",
       "      <th>Z</th>\n",
       "    </tr>\n",
       "  </thead>\n",
       "  <tbody>\n",
       "    <tr>\n",
       "      <th>C</th>\n",
       "      <td>1.235684</td>\n",
       "      <td>-1.459479</td>\n",
       "    </tr>\n",
       "    <tr>\n",
       "      <th>D</th>\n",
       "      <td>0.712243</td>\n",
       "      <td>0.836411</td>\n",
       "    </tr>\n",
       "  </tbody>\n",
       "</table>\n",
       "</div>"
      ],
      "text/plain": [
       "          Y         Z\n",
       "C  1.235684 -1.459479\n",
       "D  0.712243  0.836411"
      ]
     },
     "execution_count": 81,
     "metadata": {},
     "output_type": "execute_result"
    }
   ],
   "source": [
    "df[df['W'] > 0][['Y', 'Z']].loc[['C', 'D']]"
   ]
  },
  {
   "cell_type": "code",
   "execution_count": 82,
   "metadata": {},
   "outputs": [
    {
     "data": {
      "text/html": [
       "<div>\n",
       "<style scoped>\n",
       "    .dataframe tbody tr th:only-of-type {\n",
       "        vertical-align: middle;\n",
       "    }\n",
       "\n",
       "    .dataframe tbody tr th {\n",
       "        vertical-align: top;\n",
       "    }\n",
       "\n",
       "    .dataframe thead th {\n",
       "        text-align: right;\n",
       "    }\n",
       "</style>\n",
       "<table border=\"1\" class=\"dataframe\">\n",
       "  <thead>\n",
       "    <tr style=\"text-align: right;\">\n",
       "      <th></th>\n",
       "      <th>W</th>\n",
       "      <th>X</th>\n",
       "      <th>Y</th>\n",
       "      <th>Z</th>\n",
       "      <th>col_2</th>\n",
       "    </tr>\n",
       "  </thead>\n",
       "  <tbody>\n",
       "    <tr>\n",
       "      <th>A</th>\n",
       "      <td>1.284445</td>\n",
       "      <td>-0.296037</td>\n",
       "      <td>-0.907984</td>\n",
       "      <td>-1.167555</td>\n",
       "      <td>1</td>\n",
       "    </tr>\n",
       "    <tr>\n",
       "      <th>B</th>\n",
       "      <td>-0.419792</td>\n",
       "      <td>0.723927</td>\n",
       "      <td>1.036089</td>\n",
       "      <td>-1.343167</td>\n",
       "      <td>4</td>\n",
       "    </tr>\n",
       "    <tr>\n",
       "      <th>C</th>\n",
       "      <td>1.893363</td>\n",
       "      <td>0.702701</td>\n",
       "      <td>1.235684</td>\n",
       "      <td>-1.459479</td>\n",
       "      <td>9</td>\n",
       "    </tr>\n",
       "    <tr>\n",
       "      <th>D</th>\n",
       "      <td>2.302487</td>\n",
       "      <td>0.113500</td>\n",
       "      <td>0.712243</td>\n",
       "      <td>0.836411</td>\n",
       "      <td>16</td>\n",
       "    </tr>\n",
       "    <tr>\n",
       "      <th>E</th>\n",
       "      <td>0.906594</td>\n",
       "      <td>-0.743221</td>\n",
       "      <td>0.753674</td>\n",
       "      <td>-0.845777</td>\n",
       "      <td>25</td>\n",
       "    </tr>\n",
       "  </tbody>\n",
       "</table>\n",
       "</div>"
      ],
      "text/plain": [
       "          W         X         Y         Z  col_2\n",
       "A  1.284445 -0.296037 -0.907984 -1.167555      1\n",
       "B -0.419792  0.723927  1.036089 -1.343167      4\n",
       "C  1.893363  0.702701  1.235684 -1.459479      9\n",
       "D  2.302487  0.113500  0.712243  0.836411     16\n",
       "E  0.906594 -0.743221  0.753674 -0.845777     25"
      ]
     },
     "execution_count": 82,
     "metadata": {},
     "output_type": "execute_result"
    }
   ],
   "source": [
    "df"
   ]
  },
  {
   "cell_type": "code",
   "execution_count": 83,
   "metadata": {},
   "outputs": [
    {
     "data": {
      "text/html": [
       "<div>\n",
       "<style scoped>\n",
       "    .dataframe tbody tr th:only-of-type {\n",
       "        vertical-align: middle;\n",
       "    }\n",
       "\n",
       "    .dataframe tbody tr th {\n",
       "        vertical-align: top;\n",
       "    }\n",
       "\n",
       "    .dataframe thead th {\n",
       "        text-align: right;\n",
       "    }\n",
       "</style>\n",
       "<table border=\"1\" class=\"dataframe\">\n",
       "  <thead>\n",
       "    <tr style=\"text-align: right;\">\n",
       "      <th></th>\n",
       "      <th>W</th>\n",
       "      <th>X</th>\n",
       "      <th>Y</th>\n",
       "      <th>Z</th>\n",
       "      <th>col_2</th>\n",
       "    </tr>\n",
       "  </thead>\n",
       "  <tbody>\n",
       "    <tr>\n",
       "      <th>A</th>\n",
       "      <td>1.284445</td>\n",
       "      <td>-0.296037</td>\n",
       "      <td>-0.907984</td>\n",
       "      <td>-1.167555</td>\n",
       "      <td>1</td>\n",
       "    </tr>\n",
       "  </tbody>\n",
       "</table>\n",
       "</div>"
      ],
      "text/plain": [
       "          W         X         Y         Z  col_2\n",
       "A  1.284445 -0.296037 -0.907984 -1.167555      1"
      ]
     },
     "execution_count": 83,
     "metadata": {},
     "output_type": "execute_result"
    }
   ],
   "source": [
    "df[df['Y'] < 0]"
   ]
  },
  {
   "cell_type": "code",
   "execution_count": 84,
   "metadata": {},
   "outputs": [
    {
     "data": {
      "text/html": [
       "<div>\n",
       "<style scoped>\n",
       "    .dataframe tbody tr th:only-of-type {\n",
       "        vertical-align: middle;\n",
       "    }\n",
       "\n",
       "    .dataframe tbody tr th {\n",
       "        vertical-align: top;\n",
       "    }\n",
       "\n",
       "    .dataframe thead th {\n",
       "        text-align: right;\n",
       "    }\n",
       "</style>\n",
       "<table border=\"1\" class=\"dataframe\">\n",
       "  <thead>\n",
       "    <tr style=\"text-align: right;\">\n",
       "      <th></th>\n",
       "      <th>W</th>\n",
       "      <th>X</th>\n",
       "      <th>Y</th>\n",
       "      <th>Z</th>\n",
       "      <th>col_2</th>\n",
       "    </tr>\n",
       "  </thead>\n",
       "  <tbody>\n",
       "    <tr>\n",
       "      <th>A</th>\n",
       "      <td>1.284445</td>\n",
       "      <td>-0.296037</td>\n",
       "      <td>-0.907984</td>\n",
       "      <td>-1.167555</td>\n",
       "      <td>1</td>\n",
       "    </tr>\n",
       "    <tr>\n",
       "      <th>C</th>\n",
       "      <td>1.893363</td>\n",
       "      <td>0.702701</td>\n",
       "      <td>1.235684</td>\n",
       "      <td>-1.459479</td>\n",
       "      <td>9</td>\n",
       "    </tr>\n",
       "    <tr>\n",
       "      <th>D</th>\n",
       "      <td>2.302487</td>\n",
       "      <td>0.113500</td>\n",
       "      <td>0.712243</td>\n",
       "      <td>0.836411</td>\n",
       "      <td>16</td>\n",
       "    </tr>\n",
       "    <tr>\n",
       "      <th>E</th>\n",
       "      <td>0.906594</td>\n",
       "      <td>-0.743221</td>\n",
       "      <td>0.753674</td>\n",
       "      <td>-0.845777</td>\n",
       "      <td>25</td>\n",
       "    </tr>\n",
       "  </tbody>\n",
       "</table>\n",
       "</div>"
      ],
      "text/plain": [
       "          W         X         Y         Z  col_2\n",
       "A  1.284445 -0.296037 -0.907984 -1.167555      1\n",
       "C  1.893363  0.702701  1.235684 -1.459479      9\n",
       "D  2.302487  0.113500  0.712243  0.836411     16\n",
       "E  0.906594 -0.743221  0.753674 -0.845777     25"
      ]
     },
     "execution_count": 84,
     "metadata": {},
     "output_type": "execute_result"
    }
   ],
   "source": [
    "df[df['W'] > 0]"
   ]
  },
  {
   "cell_type": "markdown",
   "metadata": {},
   "source": [
    "conditional subsetting"
   ]
  },
  {
   "cell_type": "code",
   "execution_count": 88,
   "metadata": {},
   "outputs": [
    {
     "data": {
      "text/html": [
       "<div>\n",
       "<style scoped>\n",
       "    .dataframe tbody tr th:only-of-type {\n",
       "        vertical-align: middle;\n",
       "    }\n",
       "\n",
       "    .dataframe tbody tr th {\n",
       "        vertical-align: top;\n",
       "    }\n",
       "\n",
       "    .dataframe thead th {\n",
       "        text-align: right;\n",
       "    }\n",
       "</style>\n",
       "<table border=\"1\" class=\"dataframe\">\n",
       "  <thead>\n",
       "    <tr style=\"text-align: right;\">\n",
       "      <th></th>\n",
       "      <th>W</th>\n",
       "      <th>X</th>\n",
       "      <th>Y</th>\n",
       "      <th>Z</th>\n",
       "      <th>col_2</th>\n",
       "    </tr>\n",
       "  </thead>\n",
       "  <tbody>\n",
       "    <tr>\n",
       "      <th>A</th>\n",
       "      <td>1.284445</td>\n",
       "      <td>-0.296037</td>\n",
       "      <td>-0.907984</td>\n",
       "      <td>-1.167555</td>\n",
       "      <td>1</td>\n",
       "    </tr>\n",
       "  </tbody>\n",
       "</table>\n",
       "</div>"
      ],
      "text/plain": [
       "          W         X         Y         Z  col_2\n",
       "A  1.284445 -0.296037 -0.907984 -1.167555      1"
      ]
     },
     "execution_count": 88,
     "metadata": {},
     "output_type": "execute_result"
    }
   ],
   "source": [
    "df[(df['W'] > 0) & (df['Y'] < 0)]\n",
    "\n",
    "# subsetting with conditional\n",
    "# 1) using symbol\n",
    "# 2) using bracket"
   ]
  },
  {
   "cell_type": "code",
   "execution_count": 91,
   "metadata": {},
   "outputs": [
    {
     "data": {
      "text/html": [
       "<div>\n",
       "<style scoped>\n",
       "    .dataframe tbody tr th:only-of-type {\n",
       "        vertical-align: middle;\n",
       "    }\n",
       "\n",
       "    .dataframe tbody tr th {\n",
       "        vertical-align: top;\n",
       "    }\n",
       "\n",
       "    .dataframe thead th {\n",
       "        text-align: right;\n",
       "    }\n",
       "</style>\n",
       "<table border=\"1\" class=\"dataframe\">\n",
       "  <thead>\n",
       "    <tr style=\"text-align: right;\">\n",
       "      <th></th>\n",
       "      <th>X</th>\n",
       "      <th>Z</th>\n",
       "    </tr>\n",
       "  </thead>\n",
       "  <tbody>\n",
       "    <tr>\n",
       "      <th>C</th>\n",
       "      <td>0.702701</td>\n",
       "      <td>-1.459479</td>\n",
       "    </tr>\n",
       "    <tr>\n",
       "      <th>D</th>\n",
       "      <td>0.113500</td>\n",
       "      <td>0.836411</td>\n",
       "    </tr>\n",
       "  </tbody>\n",
       "</table>\n",
       "</div>"
      ],
      "text/plain": [
       "          X         Z\n",
       "C  0.702701 -1.459479\n",
       "D  0.113500  0.836411"
      ]
     },
     "execution_count": 91,
     "metadata": {},
     "output_type": "execute_result"
    }
   ],
   "source": [
    "df[(df['W'] > 0) | (df['Y'] < 0)][['X', 'Z']].loc[['C', 'D']]"
   ]
  },
  {
   "cell_type": "code",
   "execution_count": 92,
   "metadata": {},
   "outputs": [
    {
     "data": {
      "text/html": [
       "<div>\n",
       "<style scoped>\n",
       "    .dataframe tbody tr th:only-of-type {\n",
       "        vertical-align: middle;\n",
       "    }\n",
       "\n",
       "    .dataframe tbody tr th {\n",
       "        vertical-align: top;\n",
       "    }\n",
       "\n",
       "    .dataframe thead th {\n",
       "        text-align: right;\n",
       "    }\n",
       "</style>\n",
       "<table border=\"1\" class=\"dataframe\">\n",
       "  <thead>\n",
       "    <tr style=\"text-align: right;\">\n",
       "      <th></th>\n",
       "      <th>W</th>\n",
       "      <th>X</th>\n",
       "      <th>Y</th>\n",
       "      <th>Z</th>\n",
       "      <th>col_2</th>\n",
       "    </tr>\n",
       "  </thead>\n",
       "  <tbody>\n",
       "    <tr>\n",
       "      <th>A</th>\n",
       "      <td>1.284445</td>\n",
       "      <td>NaN</td>\n",
       "      <td>NaN</td>\n",
       "      <td>NaN</td>\n",
       "      <td>1</td>\n",
       "    </tr>\n",
       "    <tr>\n",
       "      <th>B</th>\n",
       "      <td>NaN</td>\n",
       "      <td>0.723927</td>\n",
       "      <td>1.036089</td>\n",
       "      <td>NaN</td>\n",
       "      <td>4</td>\n",
       "    </tr>\n",
       "    <tr>\n",
       "      <th>C</th>\n",
       "      <td>1.893363</td>\n",
       "      <td>0.702701</td>\n",
       "      <td>1.235684</td>\n",
       "      <td>NaN</td>\n",
       "      <td>9</td>\n",
       "    </tr>\n",
       "    <tr>\n",
       "      <th>D</th>\n",
       "      <td>2.302487</td>\n",
       "      <td>0.113500</td>\n",
       "      <td>0.712243</td>\n",
       "      <td>0.836411</td>\n",
       "      <td>16</td>\n",
       "    </tr>\n",
       "    <tr>\n",
       "      <th>E</th>\n",
       "      <td>0.906594</td>\n",
       "      <td>NaN</td>\n",
       "      <td>0.753674</td>\n",
       "      <td>NaN</td>\n",
       "      <td>25</td>\n",
       "    </tr>\n",
       "  </tbody>\n",
       "</table>\n",
       "</div>"
      ],
      "text/plain": [
       "          W         X         Y         Z  col_2\n",
       "A  1.284445       NaN       NaN       NaN      1\n",
       "B       NaN  0.723927  1.036089       NaN      4\n",
       "C  1.893363  0.702701  1.235684       NaN      9\n",
       "D  2.302487  0.113500  0.712243  0.836411     16\n",
       "E  0.906594       NaN  0.753674       NaN     25"
      ]
     },
     "execution_count": 92,
     "metadata": {},
     "output_type": "execute_result"
    }
   ],
   "source": [
    "df1"
   ]
  },
  {
   "cell_type": "markdown",
   "metadata": {},
   "source": [
    "### Handling NaN"
   ]
  },
  {
   "cell_type": "code",
   "execution_count": 94,
   "metadata": {},
   "outputs": [
    {
     "data": {
      "text/plain": [
       "W        1\n",
       "X        2\n",
       "Y        1\n",
       "Z        4\n",
       "col_2    0\n",
       "dtype: int64"
      ]
     },
     "execution_count": 94,
     "metadata": {},
     "output_type": "execute_result"
    }
   ],
   "source": [
    "df1.isna().sum()"
   ]
  },
  {
   "cell_type": "markdown",
   "metadata": {},
   "source": [
    "### Technical Approach\n",
    "\n",
    "- `.dropna()` ==> menghapus data NaN (baris)\n",
    "- `.fillna()` ==> membuat/mengisi dengan data sintetis"
   ]
  },
  {
   "cell_type": "code",
   "execution_count": 97,
   "metadata": {},
   "outputs": [
    {
     "data": {
      "text/html": [
       "<div>\n",
       "<style scoped>\n",
       "    .dataframe tbody tr th:only-of-type {\n",
       "        vertical-align: middle;\n",
       "    }\n",
       "\n",
       "    .dataframe tbody tr th {\n",
       "        vertical-align: top;\n",
       "    }\n",
       "\n",
       "    .dataframe thead th {\n",
       "        text-align: right;\n",
       "    }\n",
       "</style>\n",
       "<table border=\"1\" class=\"dataframe\">\n",
       "  <thead>\n",
       "    <tr style=\"text-align: right;\">\n",
       "      <th></th>\n",
       "      <th>W</th>\n",
       "      <th>X</th>\n",
       "      <th>Y</th>\n",
       "      <th>Z</th>\n",
       "      <th>col_2</th>\n",
       "    </tr>\n",
       "  </thead>\n",
       "  <tbody>\n",
       "    <tr>\n",
       "      <th>A</th>\n",
       "      <td>1.284445</td>\n",
       "      <td>NaN</td>\n",
       "      <td>NaN</td>\n",
       "      <td>NaN</td>\n",
       "      <td>1</td>\n",
       "    </tr>\n",
       "    <tr>\n",
       "      <th>B</th>\n",
       "      <td>NaN</td>\n",
       "      <td>0.723927</td>\n",
       "      <td>1.036089</td>\n",
       "      <td>NaN</td>\n",
       "      <td>4</td>\n",
       "    </tr>\n",
       "    <tr>\n",
       "      <th>C</th>\n",
       "      <td>1.893363</td>\n",
       "      <td>0.702701</td>\n",
       "      <td>1.235684</td>\n",
       "      <td>NaN</td>\n",
       "      <td>9</td>\n",
       "    </tr>\n",
       "    <tr>\n",
       "      <th>D</th>\n",
       "      <td>2.302487</td>\n",
       "      <td>0.113500</td>\n",
       "      <td>0.712243</td>\n",
       "      <td>0.836411</td>\n",
       "      <td>16</td>\n",
       "    </tr>\n",
       "    <tr>\n",
       "      <th>E</th>\n",
       "      <td>0.906594</td>\n",
       "      <td>NaN</td>\n",
       "      <td>0.753674</td>\n",
       "      <td>NaN</td>\n",
       "      <td>25</td>\n",
       "    </tr>\n",
       "  </tbody>\n",
       "</table>\n",
       "</div>"
      ],
      "text/plain": [
       "          W         X         Y         Z  col_2\n",
       "A  1.284445       NaN       NaN       NaN      1\n",
       "B       NaN  0.723927  1.036089       NaN      4\n",
       "C  1.893363  0.702701  1.235684       NaN      9\n",
       "D  2.302487  0.113500  0.712243  0.836411     16\n",
       "E  0.906594       NaN  0.753674       NaN     25"
      ]
     },
     "execution_count": 97,
     "metadata": {},
     "output_type": "execute_result"
    }
   ],
   "source": [
    "df1"
   ]
  },
  {
   "cell_type": "code",
   "execution_count": 96,
   "metadata": {},
   "outputs": [
    {
     "data": {
      "text/html": [
       "<div>\n",
       "<style scoped>\n",
       "    .dataframe tbody tr th:only-of-type {\n",
       "        vertical-align: middle;\n",
       "    }\n",
       "\n",
       "    .dataframe tbody tr th {\n",
       "        vertical-align: top;\n",
       "    }\n",
       "\n",
       "    .dataframe thead th {\n",
       "        text-align: right;\n",
       "    }\n",
       "</style>\n",
       "<table border=\"1\" class=\"dataframe\">\n",
       "  <thead>\n",
       "    <tr style=\"text-align: right;\">\n",
       "      <th></th>\n",
       "      <th>W</th>\n",
       "      <th>X</th>\n",
       "      <th>Y</th>\n",
       "      <th>Z</th>\n",
       "      <th>col_2</th>\n",
       "    </tr>\n",
       "  </thead>\n",
       "  <tbody>\n",
       "    <tr>\n",
       "      <th>D</th>\n",
       "      <td>2.302487</td>\n",
       "      <td>0.1135</td>\n",
       "      <td>0.712243</td>\n",
       "      <td>0.836411</td>\n",
       "      <td>16</td>\n",
       "    </tr>\n",
       "  </tbody>\n",
       "</table>\n",
       "</div>"
      ],
      "text/plain": [
       "          W       X         Y         Z  col_2\n",
       "D  2.302487  0.1135  0.712243  0.836411     16"
      ]
     },
     "execution_count": 96,
     "metadata": {},
     "output_type": "execute_result"
    }
   ],
   "source": [
    "df1.dropna()"
   ]
  },
  {
   "cell_type": "code",
   "execution_count": 100,
   "metadata": {},
   "outputs": [
    {
     "data": {
      "text/html": [
       "<div>\n",
       "<style scoped>\n",
       "    .dataframe tbody tr th:only-of-type {\n",
       "        vertical-align: middle;\n",
       "    }\n",
       "\n",
       "    .dataframe tbody tr th {\n",
       "        vertical-align: top;\n",
       "    }\n",
       "\n",
       "    .dataframe thead th {\n",
       "        text-align: right;\n",
       "    }\n",
       "</style>\n",
       "<table border=\"1\" class=\"dataframe\">\n",
       "  <thead>\n",
       "    <tr style=\"text-align: right;\">\n",
       "      <th></th>\n",
       "      <th>W</th>\n",
       "      <th>X</th>\n",
       "      <th>Y</th>\n",
       "      <th>Z</th>\n",
       "      <th>col_2</th>\n",
       "    </tr>\n",
       "  </thead>\n",
       "  <tbody>\n",
       "    <tr>\n",
       "      <th>A</th>\n",
       "      <td>1.28444</td>\n",
       "      <td>empty data</td>\n",
       "      <td>empty data</td>\n",
       "      <td>empty data</td>\n",
       "      <td>1</td>\n",
       "    </tr>\n",
       "    <tr>\n",
       "      <th>B</th>\n",
       "      <td>empty data</td>\n",
       "      <td>0.723927</td>\n",
       "      <td>1.03609</td>\n",
       "      <td>empty data</td>\n",
       "      <td>4</td>\n",
       "    </tr>\n",
       "    <tr>\n",
       "      <th>C</th>\n",
       "      <td>1.89336</td>\n",
       "      <td>0.702701</td>\n",
       "      <td>1.23568</td>\n",
       "      <td>empty data</td>\n",
       "      <td>9</td>\n",
       "    </tr>\n",
       "    <tr>\n",
       "      <th>D</th>\n",
       "      <td>2.30249</td>\n",
       "      <td>0.1135</td>\n",
       "      <td>0.712243</td>\n",
       "      <td>0.836411</td>\n",
       "      <td>16</td>\n",
       "    </tr>\n",
       "    <tr>\n",
       "      <th>E</th>\n",
       "      <td>0.906594</td>\n",
       "      <td>empty data</td>\n",
       "      <td>0.753674</td>\n",
       "      <td>empty data</td>\n",
       "      <td>25</td>\n",
       "    </tr>\n",
       "  </tbody>\n",
       "</table>\n",
       "</div>"
      ],
      "text/plain": [
       "            W           X           Y           Z  col_2\n",
       "A     1.28444  empty data  empty data  empty data      1\n",
       "B  empty data    0.723927     1.03609  empty data      4\n",
       "C     1.89336    0.702701     1.23568  empty data      9\n",
       "D     2.30249      0.1135    0.712243    0.836411     16\n",
       "E    0.906594  empty data    0.753674  empty data     25"
      ]
     },
     "execution_count": 100,
     "metadata": {},
     "output_type": "execute_result"
    }
   ],
   "source": [
    "df1.fillna(value='empty data')"
   ]
  },
  {
   "cell_type": "code",
   "execution_count": 102,
   "metadata": {},
   "outputs": [
    {
     "data": {
      "text/html": [
       "<div>\n",
       "<style scoped>\n",
       "    .dataframe tbody tr th:only-of-type {\n",
       "        vertical-align: middle;\n",
       "    }\n",
       "\n",
       "    .dataframe tbody tr th {\n",
       "        vertical-align: top;\n",
       "    }\n",
       "\n",
       "    .dataframe thead th {\n",
       "        text-align: right;\n",
       "    }\n",
       "</style>\n",
       "<table border=\"1\" class=\"dataframe\">\n",
       "  <thead>\n",
       "    <tr style=\"text-align: right;\">\n",
       "      <th></th>\n",
       "      <th>W</th>\n",
       "      <th>X</th>\n",
       "      <th>Y</th>\n",
       "      <th>Z</th>\n",
       "      <th>col_2</th>\n",
       "    </tr>\n",
       "  </thead>\n",
       "  <tbody>\n",
       "    <tr>\n",
       "      <th>A</th>\n",
       "      <td>1.284445</td>\n",
       "      <td>NaN</td>\n",
       "      <td>NaN</td>\n",
       "      <td>NaN</td>\n",
       "      <td>1</td>\n",
       "    </tr>\n",
       "    <tr>\n",
       "      <th>B</th>\n",
       "      <td>1.596722</td>\n",
       "      <td>0.723927</td>\n",
       "      <td>1.036089</td>\n",
       "      <td>NaN</td>\n",
       "      <td>4</td>\n",
       "    </tr>\n",
       "    <tr>\n",
       "      <th>C</th>\n",
       "      <td>1.893363</td>\n",
       "      <td>0.702701</td>\n",
       "      <td>1.235684</td>\n",
       "      <td>NaN</td>\n",
       "      <td>9</td>\n",
       "    </tr>\n",
       "    <tr>\n",
       "      <th>D</th>\n",
       "      <td>2.302487</td>\n",
       "      <td>0.113500</td>\n",
       "      <td>0.712243</td>\n",
       "      <td>0.836411</td>\n",
       "      <td>16</td>\n",
       "    </tr>\n",
       "    <tr>\n",
       "      <th>E</th>\n",
       "      <td>0.906594</td>\n",
       "      <td>NaN</td>\n",
       "      <td>0.753674</td>\n",
       "      <td>NaN</td>\n",
       "      <td>25</td>\n",
       "    </tr>\n",
       "  </tbody>\n",
       "</table>\n",
       "</div>"
      ],
      "text/plain": [
       "          W         X         Y         Z  col_2\n",
       "A  1.284445       NaN       NaN       NaN      1\n",
       "B  1.596722  0.723927  1.036089       NaN      4\n",
       "C  1.893363  0.702701  1.235684       NaN      9\n",
       "D  2.302487  0.113500  0.712243  0.836411     16\n",
       "E  0.906594       NaN  0.753674       NaN     25"
      ]
     },
     "execution_count": 102,
     "metadata": {},
     "output_type": "execute_result"
    }
   ],
   "source": [
    "df1['W'] = df1['W'].fillna(df1['W'].mean())\n",
    "df1"
   ]
  },
  {
   "cell_type": "markdown",
   "metadata": {},
   "source": [
    "# Exploratory Data Analysis (EDA)"
   ]
  },
  {
   "cell_type": "code",
   "execution_count": null,
   "metadata": {},
   "outputs": [],
   "source": [
    "# Exploratory Data Analysis --- EDA\n",
    "(Harus menguasai Domain/Business Knowledge)\n",
    "\n",
    "- Pengecekan Tipe Data\n",
    "- Pengecekan Missing Value - Dan Kita Handling\n",
    "- Describe Data\n",
    "- Pengecekan Data Outliers & Kita Handling\n",
    "- Pengecekan - Extraksi Data datetime/Tanggal jika diperlukan\n",
    "\n",
    "### Analisa Data\n",
    "- Univariate (Kolom Tunggal)\n",
    "- BiVariate / Multivariate (Multi Kolom)\n",
    " Ambil Insight - Interpretasi dari Hasil Analisa \n",
    "    \n",
    "Data Visualization\n",
    "- Univariate\n",
    "- Bivariate/Multivariate (Multikolom)\n",
    "Ambil Insight - Interpretasi dari Grafik\n",
    "\n",
    "-- Kesimpulan & Saran\n",
    "\n",
    "# Machine Learning\n",
    "- algorithm\n",
    "- optimization\n",
    "- model implementation"
   ]
  },
  {
   "cell_type": "code",
   "execution_count": 2,
   "metadata": {},
   "outputs": [],
   "source": [
    "# Import default libraries\n",
    "import numpy as np\n",
    "import pandas as pd\n",
    "import matplotlib.pyplot as plt\n",
    "import seaborn as sns"
   ]
  },
  {
   "cell_type": "markdown",
   "metadata": {},
   "source": [
    "##### Handling Outliers ==> DROP or KEEP\n",
    "\n",
    "1. Kesalahan Input: kesalahan input usia typo 2500 - seharusnya 25 --> DROP\n",
    "\n",
    "2. 15 - 20 - 10 - 9 - 12 - 250 - 175 - 33 - 12 - 10 - 300 --> formula membuat lele besar, angka besar yang justru dicari. di sini Outliers yang datanya justru dipakai\n",
    "\n",
    "3. Data Benar: Harga Mobil\n",
    "    Berdasarkan kebutuhan\n",
    "    - Analisa Mobil Rakyat ==> mobil premium di Drop\n",
    "    - Analisa Mobil Premium ==> mobil rakyat di Drop\n",
    "    - Analisa keduanya ==> \n",
    "      - keduanya di KEEP. \n",
    "      = Tapi tidak bisa dianalisa bersama, harus dibuat 2 dataframe berbeda\n",
    "          1. df_rakyat = df[df['harga'] < 1M]\n",
    "          2. df_rakyat = df[df['harga'] > 1M]"
   ]
  },
  {
   "cell_type": "markdown",
   "metadata": {},
   "source": [
    "##### Handling Missing Values ==> DROP or FILL\n",
    "1. DROP:\n",
    "    - kolom\n",
    "      \n",
    "      syarat: \n",
    "          - terdapat kolom pengganti:\n",
    "              - Missing Value ada di kolom jarak (m), kita memiliki kolom jarak (km)\n",
    "              - Missing Value di Gaji (Rp), kita memiliki Gaji (USD)\n",
    "          - missing value nya mencapai 70-80%\n",
    "    - baris\n",
    "      \n",
    "      syarat:\n",
    "          - lihat berapa banyak kolom yang kosong di baris itu\n",
    "          - pastikan jumlah datanya banyak \n",
    "              - data macet: 990, tidak macet: 10 ==> features & target\n",
    "          - jika ada missing value pada kolom target ==> langsung drop baris\n",
    "          \n",
    "2. FILLNA: mengisi data sintetis dengan\n",
    "    - Harus melihat kolom/features lain\n",
    "    - Mean ==> data numerik dan tidak ada outliers\n",
    "    - Median ==> data numerik\n",
    "    - Modus ==> data kategorikal\n",
    "    \n",
    "    \n",
    "    contoh: jika kolom gaji kosong -> mengisinya harus melihat kolom kota/lokasi dan jabatan"
   ]
  },
  {
   "cell_type": "code",
   "execution_count": 116,
   "metadata": {},
   "outputs": [
    {
     "data": {
      "text/html": [
       "<div>\n",
       "<style scoped>\n",
       "    .dataframe tbody tr th:only-of-type {\n",
       "        vertical-align: middle;\n",
       "    }\n",
       "\n",
       "    .dataframe tbody tr th {\n",
       "        vertical-align: top;\n",
       "    }\n",
       "\n",
       "    .dataframe thead th {\n",
       "        text-align: right;\n",
       "    }\n",
       "</style>\n",
       "<table border=\"1\" class=\"dataframe\">\n",
       "  <thead>\n",
       "    <tr style=\"text-align: right;\">\n",
       "      <th></th>\n",
       "      <th>receipts_item_id</th>\n",
       "      <th>purchase_time</th>\n",
       "      <th>category</th>\n",
       "      <th>sub_category</th>\n",
       "      <th>format</th>\n",
       "      <th>unit_price</th>\n",
       "      <th>discount</th>\n",
       "      <th>quantity</th>\n",
       "    </tr>\n",
       "    <tr>\n",
       "      <th>receipt_id</th>\n",
       "      <th></th>\n",
       "      <th></th>\n",
       "      <th></th>\n",
       "      <th></th>\n",
       "      <th></th>\n",
       "      <th></th>\n",
       "      <th></th>\n",
       "      <th></th>\n",
       "    </tr>\n",
       "  </thead>\n",
       "  <tbody>\n",
       "    <tr>\n",
       "      <th>9622257</th>\n",
       "      <td>32369294</td>\n",
       "      <td>7/22/2018 21:19</td>\n",
       "      <td>Rice</td>\n",
       "      <td>Rice</td>\n",
       "      <td>supermarket</td>\n",
       "      <td>128000.0</td>\n",
       "      <td>0</td>\n",
       "      <td>1</td>\n",
       "    </tr>\n",
       "    <tr>\n",
       "      <th>9446359</th>\n",
       "      <td>31885876</td>\n",
       "      <td>7/15/2018 16:17</td>\n",
       "      <td>Rice</td>\n",
       "      <td>Rice</td>\n",
       "      <td>minimarket</td>\n",
       "      <td>102750.0</td>\n",
       "      <td>0</td>\n",
       "      <td>1</td>\n",
       "    </tr>\n",
       "    <tr>\n",
       "      <th>9470290</th>\n",
       "      <td>31930241</td>\n",
       "      <td>7/15/2018 12:12</td>\n",
       "      <td>Rice</td>\n",
       "      <td>Rice</td>\n",
       "      <td>supermarket</td>\n",
       "      <td>64000.0</td>\n",
       "      <td>0</td>\n",
       "      <td>3</td>\n",
       "    </tr>\n",
       "    <tr>\n",
       "      <th>9643416</th>\n",
       "      <td>32418582</td>\n",
       "      <td>7/24/2018 8:27</td>\n",
       "      <td>Rice</td>\n",
       "      <td>Rice</td>\n",
       "      <td>minimarket</td>\n",
       "      <td>65000.0</td>\n",
       "      <td>0</td>\n",
       "      <td>1</td>\n",
       "    </tr>\n",
       "    <tr>\n",
       "      <th>9692093</th>\n",
       "      <td>32561236</td>\n",
       "      <td>7/26/2018 11:28</td>\n",
       "      <td>Rice</td>\n",
       "      <td>Rice</td>\n",
       "      <td>supermarket</td>\n",
       "      <td>124500.0</td>\n",
       "      <td>0</td>\n",
       "      <td>1</td>\n",
       "    </tr>\n",
       "  </tbody>\n",
       "</table>\n",
       "</div>"
      ],
      "text/plain": [
       "            receipts_item_id    purchase_time category sub_category  \\\n",
       "receipt_id                                                            \n",
       "9622257             32369294  7/22/2018 21:19     Rice         Rice   \n",
       "9446359             31885876  7/15/2018 16:17     Rice         Rice   \n",
       "9470290             31930241  7/15/2018 12:12     Rice         Rice   \n",
       "9643416             32418582   7/24/2018 8:27     Rice         Rice   \n",
       "9692093             32561236  7/26/2018 11:28     Rice         Rice   \n",
       "\n",
       "                 format  unit_price  discount  quantity  \n",
       "receipt_id                                               \n",
       "9622257     supermarket    128000.0         0         1  \n",
       "9446359      minimarket    102750.0         0         1  \n",
       "9470290     supermarket     64000.0         0         3  \n",
       "9643416      minimarket     65000.0         0         1  \n",
       "9692093     supermarket    124500.0         0         1  "
      ]
     },
     "execution_count": 116,
     "metadata": {},
     "output_type": "execute_result"
    }
   ],
   "source": [
    "df = pd.read_csv('../data/sample_data.csv', index_col='receipt_id')\n",
    "df = pd.read_csv('../data/sample_data.csv', index_col=0)\n",
    "df.head()"
   ]
  },
  {
   "cell_type": "markdown",
   "metadata": {},
   "source": [
    "#### Pengecekan Tipe Data"
   ]
  },
  {
   "cell_type": "code",
   "execution_count": 117,
   "metadata": {},
   "outputs": [
    {
     "name": "stdout",
     "output_type": "stream",
     "text": [
      "<class 'pandas.core.frame.DataFrame'>\n",
      "Int64Index: 72000 entries, 9622257 to 5808147\n",
      "Data columns (total 8 columns):\n",
      "receipts_item_id    72000 non-null int64\n",
      "purchase_time       72000 non-null object\n",
      "category            72000 non-null object\n",
      "sub_category        72000 non-null object\n",
      "format              72000 non-null object\n",
      "unit_price          72000 non-null float64\n",
      "discount            72000 non-null int64\n",
      "quantity            72000 non-null int64\n",
      "dtypes: float64(1), int64(3), object(4)\n",
      "memory usage: 4.9+ MB\n"
     ]
    }
   ],
   "source": [
    "# Alt 1\n",
    "df.info()"
   ]
  },
  {
   "cell_type": "markdown",
   "metadata": {},
   "source": [
    "#### Cek Missing Value"
   ]
  },
  {
   "cell_type": "code",
   "execution_count": 118,
   "metadata": {},
   "outputs": [
    {
     "data": {
      "text/plain": [
       "receipts_item_id    0\n",
       "purchase_time       0\n",
       "category            0\n",
       "sub_category        0\n",
       "format              0\n",
       "unit_price          0\n",
       "discount            0\n",
       "quantity            0\n",
       "dtype: int64"
      ]
     },
     "execution_count": 118,
     "metadata": {},
     "output_type": "execute_result"
    }
   ],
   "source": [
    "# Alt 1\n",
    "df.isnull().sum()"
   ]
  },
  {
   "cell_type": "code",
   "execution_count": 119,
   "metadata": {},
   "outputs": [
    {
     "data": {
      "text/plain": [
       "receipts_item_id    0\n",
       "purchase_time       0\n",
       "category            0\n",
       "sub_category        0\n",
       "format              0\n",
       "unit_price          0\n",
       "discount            0\n",
       "quantity            0\n",
       "dtype: int64"
      ]
     },
     "execution_count": 119,
     "metadata": {},
     "output_type": "execute_result"
    }
   ],
   "source": [
    "# Alt 2\n",
    "df.isna().sum()"
   ]
  },
  {
   "cell_type": "markdown",
   "metadata": {},
   "source": [
    "#### Describe Data"
   ]
  },
  {
   "cell_type": "code",
   "execution_count": 120,
   "metadata": {},
   "outputs": [
    {
     "data": {
      "text/html": [
       "<div>\n",
       "<style scoped>\n",
       "    .dataframe tbody tr th:only-of-type {\n",
       "        vertical-align: middle;\n",
       "    }\n",
       "\n",
       "    .dataframe tbody tr th {\n",
       "        vertical-align: top;\n",
       "    }\n",
       "\n",
       "    .dataframe thead th {\n",
       "        text-align: right;\n",
       "    }\n",
       "</style>\n",
       "<table border=\"1\" class=\"dataframe\">\n",
       "  <thead>\n",
       "    <tr style=\"text-align: right;\">\n",
       "      <th></th>\n",
       "      <th>receipts_item_id</th>\n",
       "      <th>unit_price</th>\n",
       "      <th>discount</th>\n",
       "      <th>quantity</th>\n",
       "    </tr>\n",
       "  </thead>\n",
       "  <tbody>\n",
       "    <tr>\n",
       "      <th>count</th>\n",
       "      <td>7.200000e+04</td>\n",
       "      <td>72000.000000</td>\n",
       "      <td>72000.000000</td>\n",
       "      <td>72000.000000</td>\n",
       "    </tr>\n",
       "    <tr>\n",
       "      <th>mean</th>\n",
       "      <td>2.459002e+07</td>\n",
       "      <td>24830.776334</td>\n",
       "      <td>852.195139</td>\n",
       "      <td>1.482861</td>\n",
       "    </tr>\n",
       "    <tr>\n",
       "      <th>std</th>\n",
       "      <td>7.169571e+06</td>\n",
       "      <td>24496.419282</td>\n",
       "      <td>4051.061578</td>\n",
       "      <td>1.289382</td>\n",
       "    </tr>\n",
       "    <tr>\n",
       "      <th>min</th>\n",
       "      <td>8.904708e+06</td>\n",
       "      <td>2505.000000</td>\n",
       "      <td>-49600.000000</td>\n",
       "      <td>1.000000</td>\n",
       "    </tr>\n",
       "    <tr>\n",
       "      <th>25%</th>\n",
       "      <td>1.819982e+07</td>\n",
       "      <td>12500.000000</td>\n",
       "      <td>0.000000</td>\n",
       "      <td>1.000000</td>\n",
       "    </tr>\n",
       "    <tr>\n",
       "      <th>50%</th>\n",
       "      <td>2.236586e+07</td>\n",
       "      <td>15472.500000</td>\n",
       "      <td>0.000000</td>\n",
       "      <td>1.000000</td>\n",
       "    </tr>\n",
       "    <tr>\n",
       "      <th>75%</th>\n",
       "      <td>3.105228e+07</td>\n",
       "      <td>25100.000000</td>\n",
       "      <td>0.000000</td>\n",
       "      <td>2.000000</td>\n",
       "    </tr>\n",
       "    <tr>\n",
       "      <th>max</th>\n",
       "      <td>3.850166e+07</td>\n",
       "      <td>219400.000000</td>\n",
       "      <td>320000.000000</td>\n",
       "      <td>19.000000</td>\n",
       "    </tr>\n",
       "  </tbody>\n",
       "</table>\n",
       "</div>"
      ],
      "text/plain": [
       "       receipts_item_id     unit_price       discount      quantity\n",
       "count      7.200000e+04   72000.000000   72000.000000  72000.000000\n",
       "mean       2.459002e+07   24830.776334     852.195139      1.482861\n",
       "std        7.169571e+06   24496.419282    4051.061578      1.289382\n",
       "min        8.904708e+06    2505.000000  -49600.000000      1.000000\n",
       "25%        1.819982e+07   12500.000000       0.000000      1.000000\n",
       "50%        2.236586e+07   15472.500000       0.000000      1.000000\n",
       "75%        3.105228e+07   25100.000000       0.000000      2.000000\n",
       "max        3.850166e+07  219400.000000  320000.000000     19.000000"
      ]
     },
     "execution_count": 120,
     "metadata": {},
     "output_type": "execute_result"
    }
   ],
   "source": [
    "df.describe() # descriptive stats untuk tipe data numerik"
   ]
  },
  {
   "cell_type": "code",
   "execution_count": null,
   "metadata": {},
   "outputs": [],
   "source": [
    "count = jumlah data\n",
    "mean = rata-rata\n",
    "std = standar deviasi (sampel)\n",
    "min = nilai minimum\n",
    "25% = Q1 = Kuartil 1\n",
    "50% = Q2 = Kuartil 2 = Median\n",
    "75% = Q3 = Kuartil 3\n",
    "max = nilai maximum"
   ]
  },
  {
   "cell_type": "markdown",
   "metadata": {},
   "source": [
    "##### Describe Data Object"
   ]
  },
  {
   "cell_type": "code",
   "execution_count": 121,
   "metadata": {},
   "outputs": [
    {
     "data": {
      "text/html": [
       "<div>\n",
       "<style scoped>\n",
       "    .dataframe tbody tr th:only-of-type {\n",
       "        vertical-align: middle;\n",
       "    }\n",
       "\n",
       "    .dataframe tbody tr th {\n",
       "        vertical-align: top;\n",
       "    }\n",
       "\n",
       "    .dataframe thead th {\n",
       "        text-align: right;\n",
       "    }\n",
       "</style>\n",
       "<table border=\"1\" class=\"dataframe\">\n",
       "  <thead>\n",
       "    <tr style=\"text-align: right;\">\n",
       "      <th></th>\n",
       "      <th>purchase_time</th>\n",
       "      <th>category</th>\n",
       "      <th>sub_category</th>\n",
       "      <th>format</th>\n",
       "    </tr>\n",
       "  </thead>\n",
       "  <tbody>\n",
       "    <tr>\n",
       "      <th>count</th>\n",
       "      <td>72000</td>\n",
       "      <td>72000</td>\n",
       "      <td>72000</td>\n",
       "      <td>72000</td>\n",
       "    </tr>\n",
       "    <tr>\n",
       "      <th>unique</th>\n",
       "      <td>62072</td>\n",
       "      <td>3</td>\n",
       "      <td>3</td>\n",
       "      <td>3</td>\n",
       "    </tr>\n",
       "    <tr>\n",
       "      <th>top</th>\n",
       "      <td>10/22/2017 12:00</td>\n",
       "      <td>Fabric Care</td>\n",
       "      <td>Detergent</td>\n",
       "      <td>minimarket</td>\n",
       "    </tr>\n",
       "    <tr>\n",
       "      <th>freq</th>\n",
       "      <td>12</td>\n",
       "      <td>36000</td>\n",
       "      <td>36000</td>\n",
       "      <td>46803</td>\n",
       "    </tr>\n",
       "  </tbody>\n",
       "</table>\n",
       "</div>"
      ],
      "text/plain": [
       "           purchase_time     category sub_category      format\n",
       "count              72000        72000        72000       72000\n",
       "unique             62072            3            3           3\n",
       "top     10/22/2017 12:00  Fabric Care    Detergent  minimarket\n",
       "freq                  12        36000        36000       46803"
      ]
     },
     "execution_count": 121,
     "metadata": {},
     "output_type": "execute_result"
    }
   ],
   "source": [
    "# Alt 1\n",
    "df.describe(include = np.object)"
   ]
  },
  {
   "cell_type": "code",
   "execution_count": 123,
   "metadata": {},
   "outputs": [
    {
     "data": {
      "text/html": [
       "<div>\n",
       "<style scoped>\n",
       "    .dataframe tbody tr th:only-of-type {\n",
       "        vertical-align: middle;\n",
       "    }\n",
       "\n",
       "    .dataframe tbody tr th {\n",
       "        vertical-align: top;\n",
       "    }\n",
       "\n",
       "    .dataframe thead th {\n",
       "        text-align: right;\n",
       "    }\n",
       "</style>\n",
       "<table border=\"1\" class=\"dataframe\">\n",
       "  <thead>\n",
       "    <tr style=\"text-align: right;\">\n",
       "      <th></th>\n",
       "      <th>purchase_time</th>\n",
       "      <th>category</th>\n",
       "      <th>sub_category</th>\n",
       "      <th>format</th>\n",
       "    </tr>\n",
       "  </thead>\n",
       "  <tbody>\n",
       "    <tr>\n",
       "      <th>count</th>\n",
       "      <td>72000</td>\n",
       "      <td>72000</td>\n",
       "      <td>72000</td>\n",
       "      <td>72000</td>\n",
       "    </tr>\n",
       "    <tr>\n",
       "      <th>unique</th>\n",
       "      <td>62072</td>\n",
       "      <td>3</td>\n",
       "      <td>3</td>\n",
       "      <td>3</td>\n",
       "    </tr>\n",
       "    <tr>\n",
       "      <th>top</th>\n",
       "      <td>10/22/2017 12:00</td>\n",
       "      <td>Fabric Care</td>\n",
       "      <td>Detergent</td>\n",
       "      <td>minimarket</td>\n",
       "    </tr>\n",
       "    <tr>\n",
       "      <th>freq</th>\n",
       "      <td>12</td>\n",
       "      <td>36000</td>\n",
       "      <td>36000</td>\n",
       "      <td>46803</td>\n",
       "    </tr>\n",
       "  </tbody>\n",
       "</table>\n",
       "</div>"
      ],
      "text/plain": [
       "           purchase_time     category sub_category      format\n",
       "count              72000        72000        72000       72000\n",
       "unique             62072            3            3           3\n",
       "top     10/22/2017 12:00  Fabric Care    Detergent  minimarket\n",
       "freq                  12        36000        36000       46803"
      ]
     },
     "execution_count": 123,
     "metadata": {},
     "output_type": "execute_result"
    }
   ],
   "source": [
    "# Alt 2\n",
    "df.describe(include = 'O')"
   ]
  },
  {
   "cell_type": "code",
   "execution_count": 125,
   "metadata": {},
   "outputs": [
    {
     "data": {
      "text/html": [
       "<div>\n",
       "<style scoped>\n",
       "    .dataframe tbody tr th:only-of-type {\n",
       "        vertical-align: middle;\n",
       "    }\n",
       "\n",
       "    .dataframe tbody tr th {\n",
       "        vertical-align: top;\n",
       "    }\n",
       "\n",
       "    .dataframe thead th {\n",
       "        text-align: right;\n",
       "    }\n",
       "</style>\n",
       "<table border=\"1\" class=\"dataframe\">\n",
       "  <thead>\n",
       "    <tr style=\"text-align: right;\">\n",
       "      <th></th>\n",
       "      <th>purchase_time</th>\n",
       "      <th>category</th>\n",
       "      <th>sub_category</th>\n",
       "      <th>format</th>\n",
       "    </tr>\n",
       "  </thead>\n",
       "  <tbody>\n",
       "    <tr>\n",
       "      <th>count</th>\n",
       "      <td>72000</td>\n",
       "      <td>72000</td>\n",
       "      <td>72000</td>\n",
       "      <td>72000</td>\n",
       "    </tr>\n",
       "    <tr>\n",
       "      <th>unique</th>\n",
       "      <td>62072</td>\n",
       "      <td>3</td>\n",
       "      <td>3</td>\n",
       "      <td>3</td>\n",
       "    </tr>\n",
       "    <tr>\n",
       "      <th>top</th>\n",
       "      <td>10/22/2017 12:00</td>\n",
       "      <td>Fabric Care</td>\n",
       "      <td>Detergent</td>\n",
       "      <td>minimarket</td>\n",
       "    </tr>\n",
       "    <tr>\n",
       "      <th>freq</th>\n",
       "      <td>12</td>\n",
       "      <td>36000</td>\n",
       "      <td>36000</td>\n",
       "      <td>46803</td>\n",
       "    </tr>\n",
       "  </tbody>\n",
       "</table>\n",
       "</div>"
      ],
      "text/plain": [
       "           purchase_time     category sub_category      format\n",
       "count              72000        72000        72000       72000\n",
       "unique             62072            3            3           3\n",
       "top     10/22/2017 12:00  Fabric Care    Detergent  minimarket\n",
       "freq                  12        36000        36000       46803"
      ]
     },
     "execution_count": 125,
     "metadata": {},
     "output_type": "execute_result"
    }
   ],
   "source": [
    "# Alt 3\n",
    "df.describe(include = ['object'])"
   ]
  },
  {
   "cell_type": "code",
   "execution_count": null,
   "metadata": {},
   "outputs": [],
   "source": [
    "count = jumlah data\n",
    "unique = jumlah unique data\n",
    "top = data paling sering muncul (modus)\n",
    "freq = jumlah berapa kali modus muncul"
   ]
  },
  {
   "cell_type": "code",
   "execution_count": 127,
   "metadata": {},
   "outputs": [
    {
     "data": {
      "text/html": [
       "<div>\n",
       "<style scoped>\n",
       "    .dataframe tbody tr th:only-of-type {\n",
       "        vertical-align: middle;\n",
       "    }\n",
       "\n",
       "    .dataframe tbody tr th {\n",
       "        vertical-align: top;\n",
       "    }\n",
       "\n",
       "    .dataframe thead th {\n",
       "        text-align: right;\n",
       "    }\n",
       "</style>\n",
       "<table border=\"1\" class=\"dataframe\">\n",
       "  <thead>\n",
       "    <tr style=\"text-align: right;\">\n",
       "      <th></th>\n",
       "      <th>count</th>\n",
       "      <th>unique</th>\n",
       "      <th>top</th>\n",
       "      <th>freq</th>\n",
       "      <th>mean</th>\n",
       "      <th>std</th>\n",
       "      <th>min</th>\n",
       "      <th>25%</th>\n",
       "      <th>50%</th>\n",
       "      <th>75%</th>\n",
       "      <th>max</th>\n",
       "    </tr>\n",
       "  </thead>\n",
       "  <tbody>\n",
       "    <tr>\n",
       "      <th>receipts_item_id</th>\n",
       "      <td>72000</td>\n",
       "      <td>NaN</td>\n",
       "      <td>NaN</td>\n",
       "      <td>NaN</td>\n",
       "      <td>2.459e+07</td>\n",
       "      <td>7.16957e+06</td>\n",
       "      <td>8.90471e+06</td>\n",
       "      <td>1.81998e+07</td>\n",
       "      <td>2.23659e+07</td>\n",
       "      <td>3.10523e+07</td>\n",
       "      <td>3.85017e+07</td>\n",
       "    </tr>\n",
       "    <tr>\n",
       "      <th>purchase_time</th>\n",
       "      <td>72000</td>\n",
       "      <td>62072</td>\n",
       "      <td>10/22/2017 12:00</td>\n",
       "      <td>12</td>\n",
       "      <td>NaN</td>\n",
       "      <td>NaN</td>\n",
       "      <td>NaN</td>\n",
       "      <td>NaN</td>\n",
       "      <td>NaN</td>\n",
       "      <td>NaN</td>\n",
       "      <td>NaN</td>\n",
       "    </tr>\n",
       "    <tr>\n",
       "      <th>category</th>\n",
       "      <td>72000</td>\n",
       "      <td>3</td>\n",
       "      <td>Fabric Care</td>\n",
       "      <td>36000</td>\n",
       "      <td>NaN</td>\n",
       "      <td>NaN</td>\n",
       "      <td>NaN</td>\n",
       "      <td>NaN</td>\n",
       "      <td>NaN</td>\n",
       "      <td>NaN</td>\n",
       "      <td>NaN</td>\n",
       "    </tr>\n",
       "    <tr>\n",
       "      <th>sub_category</th>\n",
       "      <td>72000</td>\n",
       "      <td>3</td>\n",
       "      <td>Detergent</td>\n",
       "      <td>36000</td>\n",
       "      <td>NaN</td>\n",
       "      <td>NaN</td>\n",
       "      <td>NaN</td>\n",
       "      <td>NaN</td>\n",
       "      <td>NaN</td>\n",
       "      <td>NaN</td>\n",
       "      <td>NaN</td>\n",
       "    </tr>\n",
       "    <tr>\n",
       "      <th>format</th>\n",
       "      <td>72000</td>\n",
       "      <td>3</td>\n",
       "      <td>minimarket</td>\n",
       "      <td>46803</td>\n",
       "      <td>NaN</td>\n",
       "      <td>NaN</td>\n",
       "      <td>NaN</td>\n",
       "      <td>NaN</td>\n",
       "      <td>NaN</td>\n",
       "      <td>NaN</td>\n",
       "      <td>NaN</td>\n",
       "    </tr>\n",
       "    <tr>\n",
       "      <th>unit_price</th>\n",
       "      <td>72000</td>\n",
       "      <td>NaN</td>\n",
       "      <td>NaN</td>\n",
       "      <td>NaN</td>\n",
       "      <td>24830.8</td>\n",
       "      <td>24496.4</td>\n",
       "      <td>2505</td>\n",
       "      <td>12500</td>\n",
       "      <td>15472.5</td>\n",
       "      <td>25100</td>\n",
       "      <td>219400</td>\n",
       "    </tr>\n",
       "    <tr>\n",
       "      <th>discount</th>\n",
       "      <td>72000</td>\n",
       "      <td>NaN</td>\n",
       "      <td>NaN</td>\n",
       "      <td>NaN</td>\n",
       "      <td>852.195</td>\n",
       "      <td>4051.06</td>\n",
       "      <td>-49600</td>\n",
       "      <td>0</td>\n",
       "      <td>0</td>\n",
       "      <td>0</td>\n",
       "      <td>320000</td>\n",
       "    </tr>\n",
       "    <tr>\n",
       "      <th>quantity</th>\n",
       "      <td>72000</td>\n",
       "      <td>NaN</td>\n",
       "      <td>NaN</td>\n",
       "      <td>NaN</td>\n",
       "      <td>1.48286</td>\n",
       "      <td>1.28938</td>\n",
       "      <td>1</td>\n",
       "      <td>1</td>\n",
       "      <td>1</td>\n",
       "      <td>2</td>\n",
       "      <td>19</td>\n",
       "    </tr>\n",
       "  </tbody>\n",
       "</table>\n",
       "</div>"
      ],
      "text/plain": [
       "                  count unique               top   freq       mean  \\\n",
       "receipts_item_id  72000    NaN               NaN    NaN  2.459e+07   \n",
       "purchase_time     72000  62072  10/22/2017 12:00     12        NaN   \n",
       "category          72000      3       Fabric Care  36000        NaN   \n",
       "sub_category      72000      3         Detergent  36000        NaN   \n",
       "format            72000      3        minimarket  46803        NaN   \n",
       "unit_price        72000    NaN               NaN    NaN    24830.8   \n",
       "discount          72000    NaN               NaN    NaN    852.195   \n",
       "quantity          72000    NaN               NaN    NaN    1.48286   \n",
       "\n",
       "                          std          min          25%          50%  \\\n",
       "receipts_item_id  7.16957e+06  8.90471e+06  1.81998e+07  2.23659e+07   \n",
       "purchase_time             NaN          NaN          NaN          NaN   \n",
       "category                  NaN          NaN          NaN          NaN   \n",
       "sub_category              NaN          NaN          NaN          NaN   \n",
       "format                    NaN          NaN          NaN          NaN   \n",
       "unit_price            24496.4         2505        12500      15472.5   \n",
       "discount              4051.06       -49600            0            0   \n",
       "quantity              1.28938            1            1            1   \n",
       "\n",
       "                          75%          max  \n",
       "receipts_item_id  3.10523e+07  3.85017e+07  \n",
       "purchase_time             NaN          NaN  \n",
       "category                  NaN          NaN  \n",
       "sub_category              NaN          NaN  \n",
       "format                    NaN          NaN  \n",
       "unit_price              25100       219400  \n",
       "discount                    0       320000  \n",
       "quantity                    2           19  "
      ]
     },
     "execution_count": 127,
     "metadata": {},
     "output_type": "execute_result"
    }
   ],
   "source": [
    "# Alt 4\n",
    "df.describe(include='all')\n",
    "df.describe(include='all').T"
   ]
  },
  {
   "cell_type": "markdown",
   "metadata": {},
   "source": [
    "#### Pengecekan Outliers\n",
    "Outliers adalah data di atas Upper Fence atau di bawah Lower Fence\n",
    "\n",
    "- Upper Fence - Batas Atas = Q3 + (1.5 * IQR)\n",
    "- Lower Fence - Batas Bawah = Q1 + (1.5 * IQR)\n",
    "\n",
    "IQR = Q3 - Q1\n",
    "    \n",
    "    - Q3 = kuartil 3 = titik tengah antara nilai Median dan nilai Max\n",
    "    - Q1 = Kuartil 1 = titik tengah antara nilai Median dan nilai Min"
   ]
  },
  {
   "cell_type": "code",
   "execution_count": 128,
   "metadata": {},
   "outputs": [
    {
     "data": {
      "text/html": [
       "<div>\n",
       "<style scoped>\n",
       "    .dataframe tbody tr th:only-of-type {\n",
       "        vertical-align: middle;\n",
       "    }\n",
       "\n",
       "    .dataframe tbody tr th {\n",
       "        vertical-align: top;\n",
       "    }\n",
       "\n",
       "    .dataframe thead th {\n",
       "        text-align: right;\n",
       "    }\n",
       "</style>\n",
       "<table border=\"1\" class=\"dataframe\">\n",
       "  <thead>\n",
       "    <tr style=\"text-align: right;\">\n",
       "      <th></th>\n",
       "      <th>count</th>\n",
       "      <th>mean</th>\n",
       "      <th>std</th>\n",
       "      <th>min</th>\n",
       "      <th>25%</th>\n",
       "      <th>50%</th>\n",
       "      <th>75%</th>\n",
       "      <th>max</th>\n",
       "    </tr>\n",
       "  </thead>\n",
       "  <tbody>\n",
       "    <tr>\n",
       "      <th>receipts_item_id</th>\n",
       "      <td>72000.0</td>\n",
       "      <td>2.459002e+07</td>\n",
       "      <td>7.169571e+06</td>\n",
       "      <td>8904708.0</td>\n",
       "      <td>18199818.75</td>\n",
       "      <td>22365857.0</td>\n",
       "      <td>31052282.25</td>\n",
       "      <td>38501658.0</td>\n",
       "    </tr>\n",
       "    <tr>\n",
       "      <th>unit_price</th>\n",
       "      <td>72000.0</td>\n",
       "      <td>2.483078e+04</td>\n",
       "      <td>2.449642e+04</td>\n",
       "      <td>2505.0</td>\n",
       "      <td>12500.00</td>\n",
       "      <td>15472.5</td>\n",
       "      <td>25100.00</td>\n",
       "      <td>219400.0</td>\n",
       "    </tr>\n",
       "    <tr>\n",
       "      <th>discount</th>\n",
       "      <td>72000.0</td>\n",
       "      <td>8.521951e+02</td>\n",
       "      <td>4.051062e+03</td>\n",
       "      <td>-49600.0</td>\n",
       "      <td>0.00</td>\n",
       "      <td>0.0</td>\n",
       "      <td>0.00</td>\n",
       "      <td>320000.0</td>\n",
       "    </tr>\n",
       "    <tr>\n",
       "      <th>quantity</th>\n",
       "      <td>72000.0</td>\n",
       "      <td>1.482861e+00</td>\n",
       "      <td>1.289382e+00</td>\n",
       "      <td>1.0</td>\n",
       "      <td>1.00</td>\n",
       "      <td>1.0</td>\n",
       "      <td>2.00</td>\n",
       "      <td>19.0</td>\n",
       "    </tr>\n",
       "  </tbody>\n",
       "</table>\n",
       "</div>"
      ],
      "text/plain": [
       "                    count          mean           std        min          25%  \\\n",
       "receipts_item_id  72000.0  2.459002e+07  7.169571e+06  8904708.0  18199818.75   \n",
       "unit_price        72000.0  2.483078e+04  2.449642e+04     2505.0     12500.00   \n",
       "discount          72000.0  8.521951e+02  4.051062e+03   -49600.0         0.00   \n",
       "quantity          72000.0  1.482861e+00  1.289382e+00        1.0         1.00   \n",
       "\n",
       "                         50%          75%         max  \n",
       "receipts_item_id  22365857.0  31052282.25  38501658.0  \n",
       "unit_price           15472.5     25100.00    219400.0  \n",
       "discount                 0.0         0.00    320000.0  \n",
       "quantity                 1.0         2.00        19.0  "
      ]
     },
     "execution_count": 128,
     "metadata": {},
     "output_type": "execute_result"
    }
   ],
   "source": [
    "df.describe().T"
   ]
  },
  {
   "cell_type": "code",
   "execution_count": 129,
   "metadata": {},
   "outputs": [
    {
     "data": {
      "text/plain": [
       "count     72000.000000\n",
       "mean      24830.776334\n",
       "std       24496.419282\n",
       "min        2505.000000\n",
       "25%       12500.000000\n",
       "50%       15472.500000\n",
       "75%       25100.000000\n",
       "max      219400.000000\n",
       "Name: unit_price, dtype: float64"
      ]
     },
     "execution_count": 129,
     "metadata": {},
     "output_type": "execute_result"
    }
   ],
   "source": [
    "# mencari Outliers untuk Unit Price\n",
    "df.describe()['unit_price']"
   ]
  },
  {
   "cell_type": "code",
   "execution_count": 131,
   "metadata": {},
   "outputs": [],
   "source": [
    "Q1 = df.describe()['unit_price']['25%']\n",
    "Q3 = df.describe()['unit_price']['75%']\n",
    "IQR = Q3 - Q1\n",
    "\n",
    "Upper_Fence = Q3 + (1.5 * IQR)\n",
    "Lower_Fence = Q1 - (1.5 * IQR)"
   ]
  },
  {
   "cell_type": "code",
   "execution_count": 132,
   "metadata": {},
   "outputs": [
    {
     "data": {
      "text/html": [
       "<div>\n",
       "<style scoped>\n",
       "    .dataframe tbody tr th:only-of-type {\n",
       "        vertical-align: middle;\n",
       "    }\n",
       "\n",
       "    .dataframe tbody tr th {\n",
       "        vertical-align: top;\n",
       "    }\n",
       "\n",
       "    .dataframe thead th {\n",
       "        text-align: right;\n",
       "    }\n",
       "</style>\n",
       "<table border=\"1\" class=\"dataframe\">\n",
       "  <thead>\n",
       "    <tr style=\"text-align: right;\">\n",
       "      <th></th>\n",
       "      <th>receipts_item_id</th>\n",
       "      <th>purchase_time</th>\n",
       "      <th>category</th>\n",
       "      <th>sub_category</th>\n",
       "      <th>format</th>\n",
       "      <th>unit_price</th>\n",
       "      <th>discount</th>\n",
       "      <th>quantity</th>\n",
       "    </tr>\n",
       "    <tr>\n",
       "      <th>receipt_id</th>\n",
       "      <th></th>\n",
       "      <th></th>\n",
       "      <th></th>\n",
       "      <th></th>\n",
       "      <th></th>\n",
       "      <th></th>\n",
       "      <th></th>\n",
       "      <th></th>\n",
       "    </tr>\n",
       "  </thead>\n",
       "  <tbody>\n",
       "    <tr>\n",
       "      <th>9622257</th>\n",
       "      <td>32369294</td>\n",
       "      <td>7/22/2018 21:19</td>\n",
       "      <td>Rice</td>\n",
       "      <td>Rice</td>\n",
       "      <td>supermarket</td>\n",
       "      <td>128000.0</td>\n",
       "      <td>0</td>\n",
       "      <td>1</td>\n",
       "    </tr>\n",
       "    <tr>\n",
       "      <th>9446359</th>\n",
       "      <td>31885876</td>\n",
       "      <td>7/15/2018 16:17</td>\n",
       "      <td>Rice</td>\n",
       "      <td>Rice</td>\n",
       "      <td>minimarket</td>\n",
       "      <td>102750.0</td>\n",
       "      <td>0</td>\n",
       "      <td>1</td>\n",
       "    </tr>\n",
       "    <tr>\n",
       "      <th>9470290</th>\n",
       "      <td>31930241</td>\n",
       "      <td>7/15/2018 12:12</td>\n",
       "      <td>Rice</td>\n",
       "      <td>Rice</td>\n",
       "      <td>supermarket</td>\n",
       "      <td>64000.0</td>\n",
       "      <td>0</td>\n",
       "      <td>3</td>\n",
       "    </tr>\n",
       "    <tr>\n",
       "      <th>9643416</th>\n",
       "      <td>32418582</td>\n",
       "      <td>7/24/2018 8:27</td>\n",
       "      <td>Rice</td>\n",
       "      <td>Rice</td>\n",
       "      <td>minimarket</td>\n",
       "      <td>65000.0</td>\n",
       "      <td>0</td>\n",
       "      <td>1</td>\n",
       "    </tr>\n",
       "    <tr>\n",
       "      <th>9692093</th>\n",
       "      <td>32561236</td>\n",
       "      <td>7/26/2018 11:28</td>\n",
       "      <td>Rice</td>\n",
       "      <td>Rice</td>\n",
       "      <td>supermarket</td>\n",
       "      <td>124500.0</td>\n",
       "      <td>0</td>\n",
       "      <td>1</td>\n",
       "    </tr>\n",
       "    <tr>\n",
       "      <th>...</th>\n",
       "      <td>...</td>\n",
       "      <td>...</td>\n",
       "      <td>...</td>\n",
       "      <td>...</td>\n",
       "      <td>...</td>\n",
       "      <td>...</td>\n",
       "      <td>...</td>\n",
       "      <td>...</td>\n",
       "    </tr>\n",
       "    <tr>\n",
       "      <th>5965798</th>\n",
       "      <td>18136614</td>\n",
       "      <td>12/31/2017 17:50</td>\n",
       "      <td>Sugar/Flavored Syrup</td>\n",
       "      <td>Sugar</td>\n",
       "      <td>hypermarket</td>\n",
       "      <td>55130.0</td>\n",
       "      <td>0</td>\n",
       "      <td>1</td>\n",
       "    </tr>\n",
       "    <tr>\n",
       "      <th>5742503</th>\n",
       "      <td>17449270</td>\n",
       "      <td>12/12/2017 15:57</td>\n",
       "      <td>Sugar/Flavored Syrup</td>\n",
       "      <td>Sugar</td>\n",
       "      <td>hypermarket</td>\n",
       "      <td>59900.0</td>\n",
       "      <td>0</td>\n",
       "      <td>2</td>\n",
       "    </tr>\n",
       "    <tr>\n",
       "      <th>5648387</th>\n",
       "      <td>17146348</td>\n",
       "      <td>12/06/2017 14:14</td>\n",
       "      <td>Sugar/Flavored Syrup</td>\n",
       "      <td>Sugar</td>\n",
       "      <td>supermarket</td>\n",
       "      <td>48600.0</td>\n",
       "      <td>0</td>\n",
       "      <td>1</td>\n",
       "    </tr>\n",
       "    <tr>\n",
       "      <th>5763026</th>\n",
       "      <td>17508220</td>\n",
       "      <td>12/14/2017 17:29</td>\n",
       "      <td>Sugar/Flavored Syrup</td>\n",
       "      <td>Sugar</td>\n",
       "      <td>supermarket</td>\n",
       "      <td>59950.0</td>\n",
       "      <td>0</td>\n",
       "      <td>1</td>\n",
       "    </tr>\n",
       "    <tr>\n",
       "      <th>5906213</th>\n",
       "      <td>17966261</td>\n",
       "      <td>12/26/2017 17:05</td>\n",
       "      <td>Sugar/Flavored Syrup</td>\n",
       "      <td>Sugar</td>\n",
       "      <td>supermarket</td>\n",
       "      <td>56465.0</td>\n",
       "      <td>0</td>\n",
       "      <td>1</td>\n",
       "    </tr>\n",
       "  </tbody>\n",
       "</table>\n",
       "<p>11388 rows × 8 columns</p>\n",
       "</div>"
      ],
      "text/plain": [
       "            receipts_item_id     purchase_time              category  \\\n",
       "receipt_id                                                             \n",
       "9622257             32369294   7/22/2018 21:19                  Rice   \n",
       "9446359             31885876   7/15/2018 16:17                  Rice   \n",
       "9470290             31930241   7/15/2018 12:12                  Rice   \n",
       "9643416             32418582    7/24/2018 8:27                  Rice   \n",
       "9692093             32561236   7/26/2018 11:28                  Rice   \n",
       "...                      ...               ...                   ...   \n",
       "5965798             18136614  12/31/2017 17:50  Sugar/Flavored Syrup   \n",
       "5742503             17449270  12/12/2017 15:57  Sugar/Flavored Syrup   \n",
       "5648387             17146348  12/06/2017 14:14  Sugar/Flavored Syrup   \n",
       "5763026             17508220  12/14/2017 17:29  Sugar/Flavored Syrup   \n",
       "5906213             17966261  12/26/2017 17:05  Sugar/Flavored Syrup   \n",
       "\n",
       "           sub_category       format  unit_price  discount  quantity  \n",
       "receipt_id                                                            \n",
       "9622257            Rice  supermarket    128000.0         0         1  \n",
       "9446359            Rice   minimarket    102750.0         0         1  \n",
       "9470290            Rice  supermarket     64000.0         0         3  \n",
       "9643416            Rice   minimarket     65000.0         0         1  \n",
       "9692093            Rice  supermarket    124500.0         0         1  \n",
       "...                 ...          ...         ...       ...       ...  \n",
       "5965798           Sugar  hypermarket     55130.0         0         1  \n",
       "5742503           Sugar  hypermarket     59900.0         0         2  \n",
       "5648387           Sugar  supermarket     48600.0         0         1  \n",
       "5763026           Sugar  supermarket     59950.0         0         1  \n",
       "5906213           Sugar  supermarket     56465.0         0         1  \n",
       "\n",
       "[11388 rows x 8 columns]"
      ]
     },
     "execution_count": 132,
     "metadata": {},
     "output_type": "execute_result"
    }
   ],
   "source": [
    "# Data Outliers\n",
    "df[(df['unit_price'] < Lower_Fence) | (df['unit_price'] > Upper_Fence)]"
   ]
  },
  {
   "cell_type": "code",
   "execution_count": 145,
   "metadata": {},
   "outputs": [
    {
     "data": {
      "text/html": [
       "<div>\n",
       "<style scoped>\n",
       "    .dataframe tbody tr th:only-of-type {\n",
       "        vertical-align: middle;\n",
       "    }\n",
       "\n",
       "    .dataframe tbody tr th {\n",
       "        vertical-align: top;\n",
       "    }\n",
       "\n",
       "    .dataframe thead th {\n",
       "        text-align: right;\n",
       "    }\n",
       "</style>\n",
       "<table border=\"1\" class=\"dataframe\">\n",
       "  <thead>\n",
       "    <tr style=\"text-align: right;\">\n",
       "      <th></th>\n",
       "      <th>receipts_item_id</th>\n",
       "      <th>purchase_time</th>\n",
       "      <th>category</th>\n",
       "      <th>sub_category</th>\n",
       "      <th>format</th>\n",
       "      <th>unit_price</th>\n",
       "      <th>discount</th>\n",
       "      <th>quantity</th>\n",
       "    </tr>\n",
       "    <tr>\n",
       "      <th>receipt_id</th>\n",
       "      <th></th>\n",
       "      <th></th>\n",
       "      <th></th>\n",
       "      <th></th>\n",
       "      <th></th>\n",
       "      <th></th>\n",
       "      <th></th>\n",
       "      <th></th>\n",
       "    </tr>\n",
       "  </thead>\n",
       "  <tbody>\n",
       "    <tr>\n",
       "      <th>9622257</th>\n",
       "      <td>32369294</td>\n",
       "      <td>7/22/2018 21:19</td>\n",
       "      <td>Rice</td>\n",
       "      <td>Rice</td>\n",
       "      <td>supermarket</td>\n",
       "      <td>128000.0</td>\n",
       "      <td>0</td>\n",
       "      <td>1</td>\n",
       "    </tr>\n",
       "    <tr>\n",
       "      <th>9446359</th>\n",
       "      <td>31885876</td>\n",
       "      <td>7/15/2018 16:17</td>\n",
       "      <td>Rice</td>\n",
       "      <td>Rice</td>\n",
       "      <td>minimarket</td>\n",
       "      <td>102750.0</td>\n",
       "      <td>0</td>\n",
       "      <td>1</td>\n",
       "    </tr>\n",
       "    <tr>\n",
       "      <th>9470290</th>\n",
       "      <td>31930241</td>\n",
       "      <td>7/15/2018 12:12</td>\n",
       "      <td>Rice</td>\n",
       "      <td>Rice</td>\n",
       "      <td>supermarket</td>\n",
       "      <td>64000.0</td>\n",
       "      <td>0</td>\n",
       "      <td>3</td>\n",
       "    </tr>\n",
       "    <tr>\n",
       "      <th>9643416</th>\n",
       "      <td>32418582</td>\n",
       "      <td>7/24/2018 8:27</td>\n",
       "      <td>Rice</td>\n",
       "      <td>Rice</td>\n",
       "      <td>minimarket</td>\n",
       "      <td>65000.0</td>\n",
       "      <td>0</td>\n",
       "      <td>1</td>\n",
       "    </tr>\n",
       "    <tr>\n",
       "      <th>9692093</th>\n",
       "      <td>32561236</td>\n",
       "      <td>7/26/2018 11:28</td>\n",
       "      <td>Rice</td>\n",
       "      <td>Rice</td>\n",
       "      <td>supermarket</td>\n",
       "      <td>124500.0</td>\n",
       "      <td>0</td>\n",
       "      <td>1</td>\n",
       "    </tr>\n",
       "  </tbody>\n",
       "</table>\n",
       "</div>"
      ],
      "text/plain": [
       "            receipts_item_id    purchase_time category sub_category  \\\n",
       "receipt_id                                                            \n",
       "9622257             32369294  7/22/2018 21:19     Rice         Rice   \n",
       "9446359             31885876  7/15/2018 16:17     Rice         Rice   \n",
       "9470290             31930241  7/15/2018 12:12     Rice         Rice   \n",
       "9643416             32418582   7/24/2018 8:27     Rice         Rice   \n",
       "9692093             32561236  7/26/2018 11:28     Rice         Rice   \n",
       "\n",
       "                 format  unit_price  discount  quantity  \n",
       "receipt_id                                               \n",
       "9622257     supermarket    128000.0         0         1  \n",
       "9446359      minimarket    102750.0         0         1  \n",
       "9470290     supermarket     64000.0         0         3  \n",
       "9643416      minimarket     65000.0         0         1  \n",
       "9692093     supermarket    124500.0         0         1  "
      ]
     },
     "execution_count": 145,
     "metadata": {},
     "output_type": "execute_result"
    }
   ],
   "source": [
    "df.head()"
   ]
  },
  {
   "cell_type": "code",
   "execution_count": 134,
   "metadata": {},
   "outputs": [
    {
     "data": {
      "text/plain": [
       "array(['Rice', 'Fabric Care', 'Sugar/Flavored Syrup'], dtype=object)"
      ]
     },
     "execution_count": 134,
     "metadata": {},
     "output_type": "execute_result"
    }
   ],
   "source": [
    "df['category'].unique()"
   ]
  },
  {
   "cell_type": "code",
   "execution_count": 135,
   "metadata": {},
   "outputs": [
    {
     "data": {
      "text/plain": [
       "3"
      ]
     },
     "execution_count": 135,
     "metadata": {},
     "output_type": "execute_result"
    }
   ],
   "source": [
    "df['category'].nunique()"
   ]
  },
  {
   "cell_type": "code",
   "execution_count": 136,
   "metadata": {},
   "outputs": [
    {
     "data": {
      "text/plain": [
       "dtype('O')"
      ]
     },
     "execution_count": 136,
     "metadata": {},
     "output_type": "execute_result"
    }
   ],
   "source": [
    "df['category'].dtypes"
   ]
  },
  {
   "cell_type": "code",
   "execution_count": 137,
   "metadata": {},
   "outputs": [
    {
     "data": {
      "text/plain": [
       "0"
      ]
     },
     "execution_count": 137,
     "metadata": {},
     "output_type": "execute_result"
    }
   ],
   "source": [
    "df['category'].isna().sum()"
   ]
  },
  {
   "cell_type": "code",
   "execution_count": 139,
   "metadata": {},
   "outputs": [
    {
     "data": {
      "text/plain": [
       "0.0"
      ]
     },
     "execution_count": 139,
     "metadata": {},
     "output_type": "execute_result"
    }
   ],
   "source": [
    "round((((df['category'].isna().sum()) / len(df)) * 100), 2)"
   ]
  },
  {
   "cell_type": "code",
   "execution_count": 140,
   "metadata": {},
   "outputs": [
    {
     "data": {
      "text/plain": [
       "array(['Rice', 'Sugar/Flavored Syrup'], dtype=object)"
      ]
     },
     "execution_count": 140,
     "metadata": {},
     "output_type": "execute_result"
    }
   ],
   "source": [
    "df['category'].drop_duplicates().sample(2).values"
   ]
  },
  {
   "cell_type": "code",
   "execution_count": 141,
   "metadata": {},
   "outputs": [
    {
     "data": {
      "text/plain": [
       "Index(['receipts_item_id', 'purchase_time', 'category', 'sub_category',\n",
       "       'format', 'unit_price', 'discount', 'quantity'],\n",
       "      dtype='object')"
      ]
     },
     "execution_count": 141,
     "metadata": {},
     "output_type": "execute_result"
    }
   ],
   "source": [
    "df.columns"
   ]
  },
  {
   "attachments": {
    "image.png": {
     "image/png": "[encoded data removed]"
    }
   },
   "cell_type": "markdown",
   "metadata": {},
   "source": [
    "![image.png](attachment:image.png)"
   ]
  },
  {
   "cell_type": "code",
   "execution_count": 148,
   "metadata": {},
   "outputs": [],
   "source": [
    "dataDesc = []\n",
    "\n",
    "for i in df.columns:\n",
    "    dataDesc.append([\n",
    "        i,\n",
    "        df[i].dtypes,\n",
    "        df[i].isna().sum(),\n",
    "        round((((df[i].isna().sum()) / len(df)) * 100), 2),\n",
    "        df[i].nunique(),\n",
    "        df[i].drop_duplicates().sample(2).values\n",
    "    ])"
   ]
  },
  {
   "cell_type": "code",
   "execution_count": 149,
   "metadata": {},
   "outputs": [
    {
     "data": {
      "text/html": [
       "<div>\n",
       "<style scoped>\n",
       "    .dataframe tbody tr th:only-of-type {\n",
       "        vertical-align: middle;\n",
       "    }\n",
       "\n",
       "    .dataframe tbody tr th {\n",
       "        vertical-align: top;\n",
       "    }\n",
       "\n",
       "    .dataframe thead th {\n",
       "        text-align: right;\n",
       "    }\n",
       "</style>\n",
       "<table border=\"1\" class=\"dataframe\">\n",
       "  <thead>\n",
       "    <tr style=\"text-align: right;\">\n",
       "      <th></th>\n",
       "      <th>Data Feature</th>\n",
       "      <th>Data Types</th>\n",
       "      <th>Null</th>\n",
       "      <th>Null Percentage</th>\n",
       "      <th>Unique</th>\n",
       "      <th>Unique Sample</th>\n",
       "    </tr>\n",
       "  </thead>\n",
       "  <tbody>\n",
       "    <tr>\n",
       "      <th>0</th>\n",
       "      <td>receipts_item_id</td>\n",
       "      <td>int64</td>\n",
       "      <td>0</td>\n",
       "      <td>0.0</td>\n",
       "      <td>72000</td>\n",
       "      <td>[32329845, 16070893]</td>\n",
       "    </tr>\n",
       "    <tr>\n",
       "      <th>1</th>\n",
       "      <td>purchase_time</td>\n",
       "      <td>object</td>\n",
       "      <td>0</td>\n",
       "      <td>0.0</td>\n",
       "      <td>62072</td>\n",
       "      <td>[7/18/2018 7:58, 12/08/2017 19:20]</td>\n",
       "    </tr>\n",
       "    <tr>\n",
       "      <th>2</th>\n",
       "      <td>category</td>\n",
       "      <td>object</td>\n",
       "      <td>0</td>\n",
       "      <td>0.0</td>\n",
       "      <td>3</td>\n",
       "      <td>[Rice, Fabric Care]</td>\n",
       "    </tr>\n",
       "    <tr>\n",
       "      <th>3</th>\n",
       "      <td>sub_category</td>\n",
       "      <td>object</td>\n",
       "      <td>0</td>\n",
       "      <td>0.0</td>\n",
       "      <td>3</td>\n",
       "      <td>[Rice, Sugar]</td>\n",
       "    </tr>\n",
       "    <tr>\n",
       "      <th>4</th>\n",
       "      <td>format</td>\n",
       "      <td>object</td>\n",
       "      <td>0</td>\n",
       "      <td>0.0</td>\n",
       "      <td>3</td>\n",
       "      <td>[hypermarket, minimarket]</td>\n",
       "    </tr>\n",
       "    <tr>\n",
       "      <th>5</th>\n",
       "      <td>unit_price</td>\n",
       "      <td>float64</td>\n",
       "      <td>0</td>\n",
       "      <td>0.0</td>\n",
       "      <td>3884</td>\n",
       "      <td>[21525.0, 94490.0]</td>\n",
       "    </tr>\n",
       "    <tr>\n",
       "      <th>6</th>\n",
       "      <td>discount</td>\n",
       "      <td>int64</td>\n",
       "      <td>0</td>\n",
       "      <td>0.0</td>\n",
       "      <td>1329</td>\n",
       "      <td>[15160, 29560]</td>\n",
       "    </tr>\n",
       "    <tr>\n",
       "      <th>7</th>\n",
       "      <td>quantity</td>\n",
       "      <td>int64</td>\n",
       "      <td>0</td>\n",
       "      <td>0.0</td>\n",
       "      <td>19</td>\n",
       "      <td>[18, 13]</td>\n",
       "    </tr>\n",
       "  </tbody>\n",
       "</table>\n",
       "</div>"
      ],
      "text/plain": [
       "       Data Feature Data Types  Null  Null Percentage  Unique  \\\n",
       "0  receipts_item_id      int64     0              0.0   72000   \n",
       "1     purchase_time     object     0              0.0   62072   \n",
       "2          category     object     0              0.0       3   \n",
       "3      sub_category     object     0              0.0       3   \n",
       "4            format     object     0              0.0       3   \n",
       "5        unit_price    float64     0              0.0    3884   \n",
       "6          discount      int64     0              0.0    1329   \n",
       "7          quantity      int64     0              0.0      19   \n",
       "\n",
       "                        Unique Sample  \n",
       "0                [32329845, 16070893]  \n",
       "1  [7/18/2018 7:58, 12/08/2017 19:20]  \n",
       "2                 [Rice, Fabric Care]  \n",
       "3                       [Rice, Sugar]  \n",
       "4           [hypermarket, minimarket]  \n",
       "5                  [21525.0, 94490.0]  \n",
       "6                      [15160, 29560]  \n",
       "7                            [18, 13]  "
      ]
     },
     "execution_count": 149,
     "metadata": {},
     "output_type": "execute_result"
    }
   ],
   "source": [
    "pd.DataFrame(dataDesc, columns=[\n",
    "    'Data Feature',\n",
    "    'Data Types',\n",
    "    'Null',\n",
    "    'Null Percentage',\n",
    "    'Unique',\n",
    "    'Unique Sample'\n",
    "])"
   ]
  },
  {
   "cell_type": "markdown",
   "metadata": {},
   "source": [
    "#### Proses konversi tanggal\n",
    "Jika kolom tanggal bertipe object, harus dikonversi menjadi datetime"
   ]
  },
  {
   "cell_type": "code",
   "execution_count": null,
   "metadata": {},
   "outputs": [],
   "source": [
    "# Alt 1\n",
    "Menggunakan `parse_dates = [nama kolom]` ketika di awal membaca file"
   ]
  },
  {
   "cell_type": "code",
   "execution_count": 151,
   "metadata": {},
   "outputs": [
    {
     "data": {
      "text/html": [
       "<div>\n",
       "<style scoped>\n",
       "    .dataframe tbody tr th:only-of-type {\n",
       "        vertical-align: middle;\n",
       "    }\n",
       "\n",
       "    .dataframe tbody tr th {\n",
       "        vertical-align: top;\n",
       "    }\n",
       "\n",
       "    .dataframe thead th {\n",
       "        text-align: right;\n",
       "    }\n",
       "</style>\n",
       "<table border=\"1\" class=\"dataframe\">\n",
       "  <thead>\n",
       "    <tr style=\"text-align: right;\">\n",
       "      <th></th>\n",
       "      <th>receipts_item_id</th>\n",
       "      <th>purchase_time</th>\n",
       "      <th>category</th>\n",
       "      <th>sub_category</th>\n",
       "      <th>format</th>\n",
       "      <th>unit_price</th>\n",
       "      <th>discount</th>\n",
       "      <th>quantity</th>\n",
       "    </tr>\n",
       "    <tr>\n",
       "      <th>receipt_id</th>\n",
       "      <th></th>\n",
       "      <th></th>\n",
       "      <th></th>\n",
       "      <th></th>\n",
       "      <th></th>\n",
       "      <th></th>\n",
       "      <th></th>\n",
       "      <th></th>\n",
       "    </tr>\n",
       "  </thead>\n",
       "  <tbody>\n",
       "    <tr>\n",
       "      <th>9622257</th>\n",
       "      <td>32369294</td>\n",
       "      <td>2018-07-22 21:19:00</td>\n",
       "      <td>Rice</td>\n",
       "      <td>Rice</td>\n",
       "      <td>supermarket</td>\n",
       "      <td>128000.0</td>\n",
       "      <td>0</td>\n",
       "      <td>1</td>\n",
       "    </tr>\n",
       "    <tr>\n",
       "      <th>9446359</th>\n",
       "      <td>31885876</td>\n",
       "      <td>2018-07-15 16:17:00</td>\n",
       "      <td>Rice</td>\n",
       "      <td>Rice</td>\n",
       "      <td>minimarket</td>\n",
       "      <td>102750.0</td>\n",
       "      <td>0</td>\n",
       "      <td>1</td>\n",
       "    </tr>\n",
       "    <tr>\n",
       "      <th>9470290</th>\n",
       "      <td>31930241</td>\n",
       "      <td>2018-07-15 12:12:00</td>\n",
       "      <td>Rice</td>\n",
       "      <td>Rice</td>\n",
       "      <td>supermarket</td>\n",
       "      <td>64000.0</td>\n",
       "      <td>0</td>\n",
       "      <td>3</td>\n",
       "    </tr>\n",
       "    <tr>\n",
       "      <th>9643416</th>\n",
       "      <td>32418582</td>\n",
       "      <td>2018-07-24 08:27:00</td>\n",
       "      <td>Rice</td>\n",
       "      <td>Rice</td>\n",
       "      <td>minimarket</td>\n",
       "      <td>65000.0</td>\n",
       "      <td>0</td>\n",
       "      <td>1</td>\n",
       "    </tr>\n",
       "    <tr>\n",
       "      <th>9692093</th>\n",
       "      <td>32561236</td>\n",
       "      <td>2018-07-26 11:28:00</td>\n",
       "      <td>Rice</td>\n",
       "      <td>Rice</td>\n",
       "      <td>supermarket</td>\n",
       "      <td>124500.0</td>\n",
       "      <td>0</td>\n",
       "      <td>1</td>\n",
       "    </tr>\n",
       "  </tbody>\n",
       "</table>\n",
       "</div>"
      ],
      "text/plain": [
       "            receipts_item_id       purchase_time category sub_category  \\\n",
       "receipt_id                                                               \n",
       "9622257             32369294 2018-07-22 21:19:00     Rice         Rice   \n",
       "9446359             31885876 2018-07-15 16:17:00     Rice         Rice   \n",
       "9470290             31930241 2018-07-15 12:12:00     Rice         Rice   \n",
       "9643416             32418582 2018-07-24 08:27:00     Rice         Rice   \n",
       "9692093             32561236 2018-07-26 11:28:00     Rice         Rice   \n",
       "\n",
       "                 format  unit_price  discount  quantity  \n",
       "receipt_id                                               \n",
       "9622257     supermarket    128000.0         0         1  \n",
       "9446359      minimarket    102750.0         0         1  \n",
       "9470290     supermarket     64000.0         0         3  \n",
       "9643416      minimarket     65000.0         0         1  \n",
       "9692093     supermarket    124500.0         0         1  "
      ]
     },
     "execution_count": 151,
     "metadata": {},
     "output_type": "execute_result"
    }
   ],
   "source": [
    "df = pd.read_csv('../data/sample_data.csv', index_col=0, parse_dates=['purchase_time'])\n",
    "df.head()"
   ]
  },
  {
   "cell_type": "code",
   "execution_count": 152,
   "metadata": {},
   "outputs": [
    {
     "data": {
      "text/plain": [
       "receipts_item_id             int64\n",
       "purchase_time       datetime64[ns]\n",
       "category                    object\n",
       "sub_category                object\n",
       "format                      object\n",
       "unit_price                 float64\n",
       "discount                     int64\n",
       "quantity                     int64\n",
       "dtype: object"
      ]
     },
     "execution_count": 152,
     "metadata": {},
     "output_type": "execute_result"
    }
   ],
   "source": [
    "df.dtypes"
   ]
  },
  {
   "cell_type": "code",
   "execution_count": null,
   "metadata": {},
   "outputs": [],
   "source": [
    "# Alt 2\n",
    "- menggunakan fungsi `.astype('datetime64')`\n",
    "- astype digunakan untuk mengubah tipe data, tidak terbatas pada tanggal"
   ]
  },
  {
   "cell_type": "code",
   "execution_count": 154,
   "metadata": {},
   "outputs": [
    {
     "data": {
      "text/html": [
       "<div>\n",
       "<style scoped>\n",
       "    .dataframe tbody tr th:only-of-type {\n",
       "        vertical-align: middle;\n",
       "    }\n",
       "\n",
       "    .dataframe tbody tr th {\n",
       "        vertical-align: top;\n",
       "    }\n",
       "\n",
       "    .dataframe thead th {\n",
       "        text-align: right;\n",
       "    }\n",
       "</style>\n",
       "<table border=\"1\" class=\"dataframe\">\n",
       "  <thead>\n",
       "    <tr style=\"text-align: right;\">\n",
       "      <th></th>\n",
       "      <th>receipts_item_id</th>\n",
       "      <th>purchase_time</th>\n",
       "      <th>category</th>\n",
       "      <th>sub_category</th>\n",
       "      <th>format</th>\n",
       "      <th>unit_price</th>\n",
       "      <th>discount</th>\n",
       "      <th>quantity</th>\n",
       "    </tr>\n",
       "    <tr>\n",
       "      <th>receipt_id</th>\n",
       "      <th></th>\n",
       "      <th></th>\n",
       "      <th></th>\n",
       "      <th></th>\n",
       "      <th></th>\n",
       "      <th></th>\n",
       "      <th></th>\n",
       "      <th></th>\n",
       "    </tr>\n",
       "  </thead>\n",
       "  <tbody>\n",
       "    <tr>\n",
       "      <th>9622257</th>\n",
       "      <td>32369294</td>\n",
       "      <td>7/22/2018 21:19</td>\n",
       "      <td>Rice</td>\n",
       "      <td>Rice</td>\n",
       "      <td>supermarket</td>\n",
       "      <td>128000.0</td>\n",
       "      <td>0</td>\n",
       "      <td>1</td>\n",
       "    </tr>\n",
       "    <tr>\n",
       "      <th>9446359</th>\n",
       "      <td>31885876</td>\n",
       "      <td>7/15/2018 16:17</td>\n",
       "      <td>Rice</td>\n",
       "      <td>Rice</td>\n",
       "      <td>minimarket</td>\n",
       "      <td>102750.0</td>\n",
       "      <td>0</td>\n",
       "      <td>1</td>\n",
       "    </tr>\n",
       "    <tr>\n",
       "      <th>9470290</th>\n",
       "      <td>31930241</td>\n",
       "      <td>7/15/2018 12:12</td>\n",
       "      <td>Rice</td>\n",
       "      <td>Rice</td>\n",
       "      <td>supermarket</td>\n",
       "      <td>64000.0</td>\n",
       "      <td>0</td>\n",
       "      <td>3</td>\n",
       "    </tr>\n",
       "    <tr>\n",
       "      <th>9643416</th>\n",
       "      <td>32418582</td>\n",
       "      <td>7/24/2018 8:27</td>\n",
       "      <td>Rice</td>\n",
       "      <td>Rice</td>\n",
       "      <td>minimarket</td>\n",
       "      <td>65000.0</td>\n",
       "      <td>0</td>\n",
       "      <td>1</td>\n",
       "    </tr>\n",
       "    <tr>\n",
       "      <th>9692093</th>\n",
       "      <td>32561236</td>\n",
       "      <td>7/26/2018 11:28</td>\n",
       "      <td>Rice</td>\n",
       "      <td>Rice</td>\n",
       "      <td>supermarket</td>\n",
       "      <td>124500.0</td>\n",
       "      <td>0</td>\n",
       "      <td>1</td>\n",
       "    </tr>\n",
       "  </tbody>\n",
       "</table>\n",
       "</div>"
      ],
      "text/plain": [
       "            receipts_item_id    purchase_time category sub_category  \\\n",
       "receipt_id                                                            \n",
       "9622257             32369294  7/22/2018 21:19     Rice         Rice   \n",
       "9446359             31885876  7/15/2018 16:17     Rice         Rice   \n",
       "9470290             31930241  7/15/2018 12:12     Rice         Rice   \n",
       "9643416             32418582   7/24/2018 8:27     Rice         Rice   \n",
       "9692093             32561236  7/26/2018 11:28     Rice         Rice   \n",
       "\n",
       "                 format  unit_price  discount  quantity  \n",
       "receipt_id                                               \n",
       "9622257     supermarket    128000.0         0         1  \n",
       "9446359      minimarket    102750.0         0         1  \n",
       "9470290     supermarket     64000.0         0         3  \n",
       "9643416      minimarket     65000.0         0         1  \n",
       "9692093     supermarket    124500.0         0         1  "
      ]
     },
     "execution_count": 154,
     "metadata": {},
     "output_type": "execute_result"
    }
   ],
   "source": [
    "df = pd.read_csv('../data/sample_data.csv', index_col=0)\n",
    "df.head()"
   ]
  },
  {
   "cell_type": "code",
   "execution_count": 155,
   "metadata": {},
   "outputs": [
    {
     "data": {
      "text/plain": [
       "receipts_item_id      int64\n",
       "purchase_time        object\n",
       "category             object\n",
       "sub_category         object\n",
       "format               object\n",
       "unit_price          float64\n",
       "discount              int64\n",
       "quantity              int64\n",
       "dtype: object"
      ]
     },
     "execution_count": 155,
     "metadata": {},
     "output_type": "execute_result"
    }
   ],
   "source": [
    "df.dtypes"
   ]
  },
  {
   "cell_type": "code",
   "execution_count": 156,
   "metadata": {},
   "outputs": [
    {
     "data": {
      "text/html": [
       "<div>\n",
       "<style scoped>\n",
       "    .dataframe tbody tr th:only-of-type {\n",
       "        vertical-align: middle;\n",
       "    }\n",
       "\n",
       "    .dataframe tbody tr th {\n",
       "        vertical-align: top;\n",
       "    }\n",
       "\n",
       "    .dataframe thead th {\n",
       "        text-align: right;\n",
       "    }\n",
       "</style>\n",
       "<table border=\"1\" class=\"dataframe\">\n",
       "  <thead>\n",
       "    <tr style=\"text-align: right;\">\n",
       "      <th></th>\n",
       "      <th>receipts_item_id</th>\n",
       "      <th>purchase_time</th>\n",
       "      <th>category</th>\n",
       "      <th>sub_category</th>\n",
       "      <th>format</th>\n",
       "      <th>unit_price</th>\n",
       "      <th>discount</th>\n",
       "      <th>quantity</th>\n",
       "    </tr>\n",
       "    <tr>\n",
       "      <th>receipt_id</th>\n",
       "      <th></th>\n",
       "      <th></th>\n",
       "      <th></th>\n",
       "      <th></th>\n",
       "      <th></th>\n",
       "      <th></th>\n",
       "      <th></th>\n",
       "      <th></th>\n",
       "    </tr>\n",
       "  </thead>\n",
       "  <tbody>\n",
       "    <tr>\n",
       "      <th>9622257</th>\n",
       "      <td>32369294</td>\n",
       "      <td>2018-07-22 21:19:00</td>\n",
       "      <td>Rice</td>\n",
       "      <td>Rice</td>\n",
       "      <td>supermarket</td>\n",
       "      <td>128000.0</td>\n",
       "      <td>0</td>\n",
       "      <td>1</td>\n",
       "    </tr>\n",
       "    <tr>\n",
       "      <th>9446359</th>\n",
       "      <td>31885876</td>\n",
       "      <td>2018-07-15 16:17:00</td>\n",
       "      <td>Rice</td>\n",
       "      <td>Rice</td>\n",
       "      <td>minimarket</td>\n",
       "      <td>102750.0</td>\n",
       "      <td>0</td>\n",
       "      <td>1</td>\n",
       "    </tr>\n",
       "    <tr>\n",
       "      <th>9470290</th>\n",
       "      <td>31930241</td>\n",
       "      <td>2018-07-15 12:12:00</td>\n",
       "      <td>Rice</td>\n",
       "      <td>Rice</td>\n",
       "      <td>supermarket</td>\n",
       "      <td>64000.0</td>\n",
       "      <td>0</td>\n",
       "      <td>3</td>\n",
       "    </tr>\n",
       "    <tr>\n",
       "      <th>9643416</th>\n",
       "      <td>32418582</td>\n",
       "      <td>2018-07-24 08:27:00</td>\n",
       "      <td>Rice</td>\n",
       "      <td>Rice</td>\n",
       "      <td>minimarket</td>\n",
       "      <td>65000.0</td>\n",
       "      <td>0</td>\n",
       "      <td>1</td>\n",
       "    </tr>\n",
       "    <tr>\n",
       "      <th>9692093</th>\n",
       "      <td>32561236</td>\n",
       "      <td>2018-07-26 11:28:00</td>\n",
       "      <td>Rice</td>\n",
       "      <td>Rice</td>\n",
       "      <td>supermarket</td>\n",
       "      <td>124500.0</td>\n",
       "      <td>0</td>\n",
       "      <td>1</td>\n",
       "    </tr>\n",
       "  </tbody>\n",
       "</table>\n",
       "</div>"
      ],
      "text/plain": [
       "            receipts_item_id       purchase_time category sub_category  \\\n",
       "receipt_id                                                               \n",
       "9622257             32369294 2018-07-22 21:19:00     Rice         Rice   \n",
       "9446359             31885876 2018-07-15 16:17:00     Rice         Rice   \n",
       "9470290             31930241 2018-07-15 12:12:00     Rice         Rice   \n",
       "9643416             32418582 2018-07-24 08:27:00     Rice         Rice   \n",
       "9692093             32561236 2018-07-26 11:28:00     Rice         Rice   \n",
       "\n",
       "                 format  unit_price  discount  quantity  \n",
       "receipt_id                                               \n",
       "9622257     supermarket    128000.0         0         1  \n",
       "9446359      minimarket    102750.0         0         1  \n",
       "9470290     supermarket     64000.0         0         3  \n",
       "9643416      minimarket     65000.0         0         1  \n",
       "9692093     supermarket    124500.0         0         1  "
      ]
     },
     "execution_count": 156,
     "metadata": {},
     "output_type": "execute_result"
    }
   ],
   "source": [
    "df['purchase_time'] = df['purchase_time'].astype('datetime64')\n",
    "df.head()"
   ]
  },
  {
   "cell_type": "code",
   "execution_count": 158,
   "metadata": {},
   "outputs": [
    {
     "data": {
      "text/plain": [
       "receipts_item_id             int64\n",
       "purchase_time       datetime64[ns]\n",
       "category                    object\n",
       "sub_category                object\n",
       "format                      object\n",
       "unit_price                 float64\n",
       "discount                     int64\n",
       "quantity                     int64\n",
       "dtype: object"
      ]
     },
     "execution_count": 158,
     "metadata": {},
     "output_type": "execute_result"
    }
   ],
   "source": [
    "df.dtypes"
   ]
  },
  {
   "cell_type": "code",
   "execution_count": null,
   "metadata": {},
   "outputs": [],
   "source": [
    "# Alt 3\n",
    "- menggunakan fungsi to_datetime('nama kolom')"
   ]
  },
  {
   "cell_type": "code",
   "execution_count": 7,
   "metadata": {},
   "outputs": [
    {
     "data": {
      "text/html": [
       "<div>\n",
       "<style scoped>\n",
       "    .dataframe tbody tr th:only-of-type {\n",
       "        vertical-align: middle;\n",
       "    }\n",
       "\n",
       "    .dataframe tbody tr th {\n",
       "        vertical-align: top;\n",
       "    }\n",
       "\n",
       "    .dataframe thead th {\n",
       "        text-align: right;\n",
       "    }\n",
       "</style>\n",
       "<table border=\"1\" class=\"dataframe\">\n",
       "  <thead>\n",
       "    <tr style=\"text-align: right;\">\n",
       "      <th></th>\n",
       "      <th>receipts_item_id</th>\n",
       "      <th>purchase_time</th>\n",
       "      <th>category</th>\n",
       "      <th>sub_category</th>\n",
       "      <th>format</th>\n",
       "      <th>unit_price</th>\n",
       "      <th>discount</th>\n",
       "      <th>quantity</th>\n",
       "    </tr>\n",
       "    <tr>\n",
       "      <th>receipt_id</th>\n",
       "      <th></th>\n",
       "      <th></th>\n",
       "      <th></th>\n",
       "      <th></th>\n",
       "      <th></th>\n",
       "      <th></th>\n",
       "      <th></th>\n",
       "      <th></th>\n",
       "    </tr>\n",
       "  </thead>\n",
       "  <tbody>\n",
       "    <tr>\n",
       "      <th>9622257</th>\n",
       "      <td>32369294</td>\n",
       "      <td>7/22/2018 21:19</td>\n",
       "      <td>Rice</td>\n",
       "      <td>Rice</td>\n",
       "      <td>supermarket</td>\n",
       "      <td>128000.0</td>\n",
       "      <td>0</td>\n",
       "      <td>1</td>\n",
       "    </tr>\n",
       "    <tr>\n",
       "      <th>9446359</th>\n",
       "      <td>31885876</td>\n",
       "      <td>7/15/2018 16:17</td>\n",
       "      <td>Rice</td>\n",
       "      <td>Rice</td>\n",
       "      <td>minimarket</td>\n",
       "      <td>102750.0</td>\n",
       "      <td>0</td>\n",
       "      <td>1</td>\n",
       "    </tr>\n",
       "    <tr>\n",
       "      <th>9470290</th>\n",
       "      <td>31930241</td>\n",
       "      <td>7/15/2018 12:12</td>\n",
       "      <td>Rice</td>\n",
       "      <td>Rice</td>\n",
       "      <td>supermarket</td>\n",
       "      <td>64000.0</td>\n",
       "      <td>0</td>\n",
       "      <td>3</td>\n",
       "    </tr>\n",
       "    <tr>\n",
       "      <th>9643416</th>\n",
       "      <td>32418582</td>\n",
       "      <td>7/24/2018 8:27</td>\n",
       "      <td>Rice</td>\n",
       "      <td>Rice</td>\n",
       "      <td>minimarket</td>\n",
       "      <td>65000.0</td>\n",
       "      <td>0</td>\n",
       "      <td>1</td>\n",
       "    </tr>\n",
       "    <tr>\n",
       "      <th>9692093</th>\n",
       "      <td>32561236</td>\n",
       "      <td>7/26/2018 11:28</td>\n",
       "      <td>Rice</td>\n",
       "      <td>Rice</td>\n",
       "      <td>supermarket</td>\n",
       "      <td>124500.0</td>\n",
       "      <td>0</td>\n",
       "      <td>1</td>\n",
       "    </tr>\n",
       "  </tbody>\n",
       "</table>\n",
       "</div>"
      ],
      "text/plain": [
       "            receipts_item_id    purchase_time category sub_category  \\\n",
       "receipt_id                                                            \n",
       "9622257             32369294  7/22/2018 21:19     Rice         Rice   \n",
       "9446359             31885876  7/15/2018 16:17     Rice         Rice   \n",
       "9470290             31930241  7/15/2018 12:12     Rice         Rice   \n",
       "9643416             32418582   7/24/2018 8:27     Rice         Rice   \n",
       "9692093             32561236  7/26/2018 11:28     Rice         Rice   \n",
       "\n",
       "                 format  unit_price  discount  quantity  \n",
       "receipt_id                                               \n",
       "9622257     supermarket    128000.0         0         1  \n",
       "9446359      minimarket    102750.0         0         1  \n",
       "9470290     supermarket     64000.0         0         3  \n",
       "9643416      minimarket     65000.0         0         1  \n",
       "9692093     supermarket    124500.0         0         1  "
      ]
     },
     "execution_count": 7,
     "metadata": {},
     "output_type": "execute_result"
    }
   ],
   "source": [
    "df = pd.read_csv('data/sample_data.csv', index_col=0)\n",
    "df.head()"
   ]
  },
  {
   "cell_type": "code",
   "execution_count": 8,
   "metadata": {},
   "outputs": [
    {
     "data": {
      "text/html": [
       "<div>\n",
       "<style scoped>\n",
       "    .dataframe tbody tr th:only-of-type {\n",
       "        vertical-align: middle;\n",
       "    }\n",
       "\n",
       "    .dataframe tbody tr th {\n",
       "        vertical-align: top;\n",
       "    }\n",
       "\n",
       "    .dataframe thead th {\n",
       "        text-align: right;\n",
       "    }\n",
       "</style>\n",
       "<table border=\"1\" class=\"dataframe\">\n",
       "  <thead>\n",
       "    <tr style=\"text-align: right;\">\n",
       "      <th></th>\n",
       "      <th>receipts_item_id</th>\n",
       "      <th>purchase_time</th>\n",
       "      <th>category</th>\n",
       "      <th>sub_category</th>\n",
       "      <th>format</th>\n",
       "      <th>unit_price</th>\n",
       "      <th>discount</th>\n",
       "      <th>quantity</th>\n",
       "    </tr>\n",
       "    <tr>\n",
       "      <th>receipt_id</th>\n",
       "      <th></th>\n",
       "      <th></th>\n",
       "      <th></th>\n",
       "      <th></th>\n",
       "      <th></th>\n",
       "      <th></th>\n",
       "      <th></th>\n",
       "      <th></th>\n",
       "    </tr>\n",
       "  </thead>\n",
       "  <tbody>\n",
       "    <tr>\n",
       "      <th>9622257</th>\n",
       "      <td>32369294</td>\n",
       "      <td>2018-07-22 21:19:00</td>\n",
       "      <td>Rice</td>\n",
       "      <td>Rice</td>\n",
       "      <td>supermarket</td>\n",
       "      <td>128000.0</td>\n",
       "      <td>0</td>\n",
       "      <td>1</td>\n",
       "    </tr>\n",
       "    <tr>\n",
       "      <th>9446359</th>\n",
       "      <td>31885876</td>\n",
       "      <td>2018-07-15 16:17:00</td>\n",
       "      <td>Rice</td>\n",
       "      <td>Rice</td>\n",
       "      <td>minimarket</td>\n",
       "      <td>102750.0</td>\n",
       "      <td>0</td>\n",
       "      <td>1</td>\n",
       "    </tr>\n",
       "    <tr>\n",
       "      <th>9470290</th>\n",
       "      <td>31930241</td>\n",
       "      <td>2018-07-15 12:12:00</td>\n",
       "      <td>Rice</td>\n",
       "      <td>Rice</td>\n",
       "      <td>supermarket</td>\n",
       "      <td>64000.0</td>\n",
       "      <td>0</td>\n",
       "      <td>3</td>\n",
       "    </tr>\n",
       "    <tr>\n",
       "      <th>9643416</th>\n",
       "      <td>32418582</td>\n",
       "      <td>2018-07-24 08:27:00</td>\n",
       "      <td>Rice</td>\n",
       "      <td>Rice</td>\n",
       "      <td>minimarket</td>\n",
       "      <td>65000.0</td>\n",
       "      <td>0</td>\n",
       "      <td>1</td>\n",
       "    </tr>\n",
       "    <tr>\n",
       "      <th>9692093</th>\n",
       "      <td>32561236</td>\n",
       "      <td>2018-07-26 11:28:00</td>\n",
       "      <td>Rice</td>\n",
       "      <td>Rice</td>\n",
       "      <td>supermarket</td>\n",
       "      <td>124500.0</td>\n",
       "      <td>0</td>\n",
       "      <td>1</td>\n",
       "    </tr>\n",
       "  </tbody>\n",
       "</table>\n",
       "</div>"
      ],
      "text/plain": [
       "            receipts_item_id       purchase_time category sub_category  \\\n",
       "receipt_id                                                               \n",
       "9622257             32369294 2018-07-22 21:19:00     Rice         Rice   \n",
       "9446359             31885876 2018-07-15 16:17:00     Rice         Rice   \n",
       "9470290             31930241 2018-07-15 12:12:00     Rice         Rice   \n",
       "9643416             32418582 2018-07-24 08:27:00     Rice         Rice   \n",
       "9692093             32561236 2018-07-26 11:28:00     Rice         Rice   \n",
       "\n",
       "                 format  unit_price  discount  quantity  \n",
       "receipt_id                                               \n",
       "9622257     supermarket    128000.0         0         1  \n",
       "9446359      minimarket    102750.0         0         1  \n",
       "9470290     supermarket     64000.0         0         3  \n",
       "9643416      minimarket     65000.0         0         1  \n",
       "9692093     supermarket    124500.0         0         1  "
      ]
     },
     "execution_count": 8,
     "metadata": {},
     "output_type": "execute_result"
    }
   ],
   "source": [
    "df['purchase_time'] = pd.to_datetime(df['purchase_time'])\n",
    "df.head()"
   ]
  },
  {
   "cell_type": "markdown",
   "metadata": {},
   "source": [
    "#### Proses konversi tanggal yang tidak sama"
   ]
  },
  {
   "cell_type": "code",
   "execution_count": 3,
   "metadata": {},
   "outputs": [
    {
     "data": {
      "text/plain": [
       "0      01-maret-2020\n",
       "1       july/17/2019\n",
       "2    Agustus-20-2021\n",
       "3    16-Agustus-2020\n",
       "4        20/may/2017\n",
       "5         2021/01/29\n",
       "dtype: object"
      ]
     },
     "execution_count": 3,
     "metadata": {},
     "output_type": "execute_result"
    }
   ],
   "source": [
    "date = pd.Series([\n",
    "    '01-maret-2020',\n",
    "    'july/17/2019',\n",
    "    'Agustus-20-2021',\n",
    "    '16-Agustus-2020',\n",
    "    '20/may/2017',\n",
    "    '2021/01/29'\n",
    "])\n",
    "date"
   ]
  },
  {
   "cell_type": "code",
   "execution_count": 4,
   "metadata": {},
   "outputs": [],
   "source": [
    "import dateparser"
   ]
  },
  {
   "cell_type": "code",
   "execution_count": 5,
   "metadata": {},
   "outputs": [
    {
     "data": {
      "text/plain": [
       "0   2020-03-01\n",
       "1   2019-07-17\n",
       "2   2021-08-20\n",
       "3   2020-08-16\n",
       "4   2017-05-20\n",
       "5   2021-01-29\n",
       "dtype: datetime64[ns]"
      ]
     },
     "execution_count": 5,
     "metadata": {},
     "output_type": "execute_result"
    }
   ],
   "source": [
    "date.apply(dateparser.parse)"
   ]
  },
  {
   "cell_type": "code",
   "execution_count": 9,
   "metadata": {},
   "outputs": [
    {
     "ename": "TypeError",
     "evalue": "Input type must be str",
     "output_type": "error",
     "traceback": [
      "\u001b[1;31m---------------------------------------------------------------------------\u001b[0m",
      "\u001b[1;31mTypeError\u001b[0m                                 Traceback (most recent call last)",
      "\u001b[1;32m<ipython-input-9-550d71c98fab>\u001b[0m in \u001b[0;36m<module>\u001b[1;34m\u001b[0m\n\u001b[1;32m----> 1\u001b[1;33m \u001b[0mdf\u001b[0m\u001b[1;33m[\u001b[0m\u001b[1;34m'purchase_time'\u001b[0m\u001b[1;33m]\u001b[0m \u001b[1;33m=\u001b[0m \u001b[0mdf\u001b[0m\u001b[1;33m[\u001b[0m\u001b[1;34m'purchase_time'\u001b[0m\u001b[1;33m]\u001b[0m\u001b[1;33m.\u001b[0m\u001b[0mapply\u001b[0m\u001b[1;33m(\u001b[0m\u001b[0mdateparser\u001b[0m\u001b[1;33m.\u001b[0m\u001b[0mparse\u001b[0m\u001b[1;33m)\u001b[0m\u001b[1;33m\u001b[0m\u001b[1;33m\u001b[0m\u001b[0m\n\u001b[0m",
      "\u001b[1;32mC:\\ProgramData\\miniconda3\\envs\\ml_dl\\lib\\site-packages\\pandas\\core\\series.py\u001b[0m in \u001b[0;36mapply\u001b[1;34m(self, func, convert_dtype, args, **kwds)\u001b[0m\n\u001b[0;32m   4043\u001b[0m             \u001b[1;32melse\u001b[0m\u001b[1;33m:\u001b[0m\u001b[1;33m\u001b[0m\u001b[1;33m\u001b[0m\u001b[0m\n\u001b[0;32m   4044\u001b[0m                 \u001b[0mvalues\u001b[0m \u001b[1;33m=\u001b[0m \u001b[0mself\u001b[0m\u001b[1;33m.\u001b[0m\u001b[0mastype\u001b[0m\u001b[1;33m(\u001b[0m\u001b[0mobject\u001b[0m\u001b[1;33m)\u001b[0m\u001b[1;33m.\u001b[0m\u001b[0mvalues\u001b[0m\u001b[1;33m\u001b[0m\u001b[1;33m\u001b[0m\u001b[0m\n\u001b[1;32m-> 4045\u001b[1;33m                 \u001b[0mmapped\u001b[0m \u001b[1;33m=\u001b[0m \u001b[0mlib\u001b[0m\u001b[1;33m.\u001b[0m\u001b[0mmap_infer\u001b[0m\u001b[1;33m(\u001b[0m\u001b[0mvalues\u001b[0m\u001b[1;33m,\u001b[0m \u001b[0mf\u001b[0m\u001b[1;33m,\u001b[0m \u001b[0mconvert\u001b[0m\u001b[1;33m=\u001b[0m\u001b[0mconvert_dtype\u001b[0m\u001b[1;33m)\u001b[0m\u001b[1;33m\u001b[0m\u001b[1;33m\u001b[0m\u001b[0m\n\u001b[0m\u001b[0;32m   4046\u001b[0m \u001b[1;33m\u001b[0m\u001b[0m\n\u001b[0;32m   4047\u001b[0m         \u001b[1;32mif\u001b[0m \u001b[0mlen\u001b[0m\u001b[1;33m(\u001b[0m\u001b[0mmapped\u001b[0m\u001b[1;33m)\u001b[0m \u001b[1;32mand\u001b[0m \u001b[0misinstance\u001b[0m\u001b[1;33m(\u001b[0m\u001b[0mmapped\u001b[0m\u001b[1;33m[\u001b[0m\u001b[1;36m0\u001b[0m\u001b[1;33m]\u001b[0m\u001b[1;33m,\u001b[0m \u001b[0mSeries\u001b[0m\u001b[1;33m)\u001b[0m\u001b[1;33m:\u001b[0m\u001b[1;33m\u001b[0m\u001b[1;33m\u001b[0m\u001b[0m\n",
      "\u001b[1;32mpandas/_libs/lib.pyx\u001b[0m in \u001b[0;36mpandas._libs.lib.map_infer\u001b[1;34m()\u001b[0m\n",
      "\u001b[1;32mC:\\ProgramData\\miniconda3\\envs\\ml_dl\\lib\\site-packages\\dateparser\\conf.py\u001b[0m in \u001b[0;36mwrapper\u001b[1;34m(*args, **kwargs)\u001b[0m\n\u001b[0;32m     87\u001b[0m             \u001b[1;32mraise\u001b[0m \u001b[0mTypeError\u001b[0m\u001b[1;33m(\u001b[0m\u001b[1;34m\"settings can only be either dict or instance of Settings class\"\u001b[0m\u001b[1;33m)\u001b[0m\u001b[1;33m\u001b[0m\u001b[1;33m\u001b[0m\u001b[0m\n\u001b[0;32m     88\u001b[0m \u001b[1;33m\u001b[0m\u001b[0m\n\u001b[1;32m---> 89\u001b[1;33m         \u001b[1;32mreturn\u001b[0m \u001b[0mf\u001b[0m\u001b[1;33m(\u001b[0m\u001b[1;33m*\u001b[0m\u001b[0margs\u001b[0m\u001b[1;33m,\u001b[0m \u001b[1;33m**\u001b[0m\u001b[0mkwargs\u001b[0m\u001b[1;33m)\u001b[0m\u001b[1;33m\u001b[0m\u001b[1;33m\u001b[0m\u001b[0m\n\u001b[0m\u001b[0;32m     90\u001b[0m     \u001b[1;32mreturn\u001b[0m \u001b[0mwrapper\u001b[0m\u001b[1;33m\u001b[0m\u001b[1;33m\u001b[0m\u001b[0m\n\u001b[0;32m     91\u001b[0m \u001b[1;33m\u001b[0m\u001b[0m\n",
      "\u001b[1;32mC:\\ProgramData\\miniconda3\\envs\\ml_dl\\lib\\site-packages\\dateparser\\__init__.py\u001b[0m in \u001b[0;36mparse\u001b[1;34m(date_string, date_formats, languages, locales, region, settings)\u001b[0m\n\u001b[0;32m     52\u001b[0m                                 region=region, settings=settings)\n\u001b[0;32m     53\u001b[0m \u001b[1;33m\u001b[0m\u001b[0m\n\u001b[1;32m---> 54\u001b[1;33m     \u001b[0mdata\u001b[0m \u001b[1;33m=\u001b[0m \u001b[0mparser\u001b[0m\u001b[1;33m.\u001b[0m\u001b[0mget_date_data\u001b[0m\u001b[1;33m(\u001b[0m\u001b[0mdate_string\u001b[0m\u001b[1;33m,\u001b[0m \u001b[0mdate_formats\u001b[0m\u001b[1;33m)\u001b[0m\u001b[1;33m\u001b[0m\u001b[1;33m\u001b[0m\u001b[0m\n\u001b[0m\u001b[0;32m     55\u001b[0m \u001b[1;33m\u001b[0m\u001b[0m\n\u001b[0;32m     56\u001b[0m     \u001b[1;32mif\u001b[0m \u001b[0mdata\u001b[0m\u001b[1;33m:\u001b[0m\u001b[1;33m\u001b[0m\u001b[1;33m\u001b[0m\u001b[0m\n",
      "\u001b[1;32mC:\\ProgramData\\miniconda3\\envs\\ml_dl\\lib\\site-packages\\dateparser\\date.py\u001b[0m in \u001b[0;36mget_date_data\u001b[1;34m(self, date_string, date_formats)\u001b[0m\n\u001b[0;32m    410\u001b[0m         \"\"\"\n\u001b[0;32m    411\u001b[0m         \u001b[1;32mif\u001b[0m \u001b[1;32mnot\u001b[0m \u001b[0misinstance\u001b[0m\u001b[1;33m(\u001b[0m\u001b[0mdate_string\u001b[0m\u001b[1;33m,\u001b[0m \u001b[0mstr\u001b[0m\u001b[1;33m)\u001b[0m\u001b[1;33m:\u001b[0m\u001b[1;33m\u001b[0m\u001b[1;33m\u001b[0m\u001b[0m\n\u001b[1;32m--> 412\u001b[1;33m             \u001b[1;32mraise\u001b[0m \u001b[0mTypeError\u001b[0m\u001b[1;33m(\u001b[0m\u001b[1;34m'Input type must be str'\u001b[0m\u001b[1;33m)\u001b[0m\u001b[1;33m\u001b[0m\u001b[1;33m\u001b[0m\u001b[0m\n\u001b[0m\u001b[0;32m    413\u001b[0m \u001b[1;33m\u001b[0m\u001b[0m\n\u001b[0;32m    414\u001b[0m         \u001b[0mres\u001b[0m \u001b[1;33m=\u001b[0m \u001b[0mparse_with_formats\u001b[0m\u001b[1;33m(\u001b[0m\u001b[0mdate_string\u001b[0m\u001b[1;33m,\u001b[0m \u001b[0mdate_formats\u001b[0m \u001b[1;32mor\u001b[0m \u001b[1;33m[\u001b[0m\u001b[1;33m]\u001b[0m\u001b[1;33m,\u001b[0m \u001b[0mself\u001b[0m\u001b[1;33m.\u001b[0m\u001b[0m_settings\u001b[0m\u001b[1;33m)\u001b[0m\u001b[1;33m\u001b[0m\u001b[1;33m\u001b[0m\u001b[0m\n",
      "\u001b[1;31mTypeError\u001b[0m: Input type must be str"
     ]
    }
   ],
   "source": [
    "df['purchase_time'] = df['purchase_time'].apply(dateparser.parse)"
   ]
  },
  {
   "cell_type": "code",
   "execution_count": null,
   "metadata": {},
   "outputs": [],
   "source": []
  },
  {
   "cell_type": "code",
   "execution_count": null,
   "metadata": {},
   "outputs": [],
   "source": []
  },
  {
   "cell_type": "code",
   "execution_count": null,
   "metadata": {},
   "outputs": [],
   "source": []
  },
  {
   "cell_type": "code",
   "execution_count": null,
   "metadata": {},
   "outputs": [],
   "source": []
  },
  {
   "cell_type": "markdown",
   "metadata": {},
   "source": [
    "####  Proses Ekstraksi Tanggal\n",
    "https://strftime.org/"
   ]
  },
  {
   "cell_type": "code",
   "execution_count": 12,
   "metadata": {},
   "outputs": [],
   "source": [
    "purchase_dt = df['purchase_time'].dt"
   ]
  },
  {
   "cell_type": "code",
   "execution_count": 13,
   "metadata": {},
   "outputs": [
    {
     "data": {
      "text/html": [
       "<div>\n",
       "<style scoped>\n",
       "    .dataframe tbody tr th:only-of-type {\n",
       "        vertical-align: middle;\n",
       "    }\n",
       "\n",
       "    .dataframe tbody tr th {\n",
       "        vertical-align: top;\n",
       "    }\n",
       "\n",
       "    .dataframe thead th {\n",
       "        text-align: right;\n",
       "    }\n",
       "</style>\n",
       "<table border=\"1\" class=\"dataframe\">\n",
       "  <thead>\n",
       "    <tr style=\"text-align: right;\">\n",
       "      <th></th>\n",
       "      <th>receipts_item_id</th>\n",
       "      <th>purchase_time</th>\n",
       "      <th>category</th>\n",
       "      <th>sub_category</th>\n",
       "      <th>format</th>\n",
       "      <th>unit_price</th>\n",
       "      <th>discount</th>\n",
       "      <th>quantity</th>\n",
       "    </tr>\n",
       "    <tr>\n",
       "      <th>receipt_id</th>\n",
       "      <th></th>\n",
       "      <th></th>\n",
       "      <th></th>\n",
       "      <th></th>\n",
       "      <th></th>\n",
       "      <th></th>\n",
       "      <th></th>\n",
       "      <th></th>\n",
       "    </tr>\n",
       "  </thead>\n",
       "  <tbody>\n",
       "    <tr>\n",
       "      <th>9622257</th>\n",
       "      <td>32369294</td>\n",
       "      <td>2018-07-22 21:19:00</td>\n",
       "      <td>Rice</td>\n",
       "      <td>Rice</td>\n",
       "      <td>supermarket</td>\n",
       "      <td>128000.0</td>\n",
       "      <td>0</td>\n",
       "      <td>1</td>\n",
       "    </tr>\n",
       "    <tr>\n",
       "      <th>9446359</th>\n",
       "      <td>31885876</td>\n",
       "      <td>2018-07-15 16:17:00</td>\n",
       "      <td>Rice</td>\n",
       "      <td>Rice</td>\n",
       "      <td>minimarket</td>\n",
       "      <td>102750.0</td>\n",
       "      <td>0</td>\n",
       "      <td>1</td>\n",
       "    </tr>\n",
       "    <tr>\n",
       "      <th>9470290</th>\n",
       "      <td>31930241</td>\n",
       "      <td>2018-07-15 12:12:00</td>\n",
       "      <td>Rice</td>\n",
       "      <td>Rice</td>\n",
       "      <td>supermarket</td>\n",
       "      <td>64000.0</td>\n",
       "      <td>0</td>\n",
       "      <td>3</td>\n",
       "    </tr>\n",
       "    <tr>\n",
       "      <th>9643416</th>\n",
       "      <td>32418582</td>\n",
       "      <td>2018-07-24 08:27:00</td>\n",
       "      <td>Rice</td>\n",
       "      <td>Rice</td>\n",
       "      <td>minimarket</td>\n",
       "      <td>65000.0</td>\n",
       "      <td>0</td>\n",
       "      <td>1</td>\n",
       "    </tr>\n",
       "    <tr>\n",
       "      <th>9692093</th>\n",
       "      <td>32561236</td>\n",
       "      <td>2018-07-26 11:28:00</td>\n",
       "      <td>Rice</td>\n",
       "      <td>Rice</td>\n",
       "      <td>supermarket</td>\n",
       "      <td>124500.0</td>\n",
       "      <td>0</td>\n",
       "      <td>1</td>\n",
       "    </tr>\n",
       "  </tbody>\n",
       "</table>\n",
       "</div>"
      ],
      "text/plain": [
       "            receipts_item_id       purchase_time category sub_category  \\\n",
       "receipt_id                                                               \n",
       "9622257             32369294 2018-07-22 21:19:00     Rice         Rice   \n",
       "9446359             31885876 2018-07-15 16:17:00     Rice         Rice   \n",
       "9470290             31930241 2018-07-15 12:12:00     Rice         Rice   \n",
       "9643416             32418582 2018-07-24 08:27:00     Rice         Rice   \n",
       "9692093             32561236 2018-07-26 11:28:00     Rice         Rice   \n",
       "\n",
       "                 format  unit_price  discount  quantity  \n",
       "receipt_id                                               \n",
       "9622257     supermarket    128000.0         0         1  \n",
       "9446359      minimarket    102750.0         0         1  \n",
       "9470290     supermarket     64000.0         0         3  \n",
       "9643416      minimarket     65000.0         0         1  \n",
       "9692093     supermarket    124500.0         0         1  "
      ]
     },
     "execution_count": 13,
     "metadata": {},
     "output_type": "execute_result"
    }
   ],
   "source": [
    "df.head()"
   ]
  },
  {
   "cell_type": "code",
   "execution_count": 14,
   "metadata": {},
   "outputs": [
    {
     "data": {
      "text/plain": [
       "receipt_id\n",
       "9622257    7\n",
       "9446359    7\n",
       "9470290    7\n",
       "9643416    7\n",
       "9692093    7\n",
       "Name: purchase_time, dtype: int64"
      ]
     },
     "execution_count": 14,
     "metadata": {},
     "output_type": "execute_result"
    }
   ],
   "source": [
    "# ambil data bulan\n",
    "purchase_dt.month.head()"
   ]
  },
  {
   "cell_type": "code",
   "execution_count": 15,
   "metadata": {},
   "outputs": [
    {
     "data": {
      "text/plain": [
       "receipt_id\n",
       "9622257    July\n",
       "9446359    July\n",
       "9470290    July\n",
       "9643416    July\n",
       "9692093    July\n",
       "Name: purchase_time, dtype: object"
      ]
     },
     "execution_count": 15,
     "metadata": {},
     "output_type": "execute_result"
    }
   ],
   "source": [
    "purchase_dt.month_name().head()"
   ]
  },
  {
   "cell_type": "code",
   "execution_count": 16,
   "metadata": {},
   "outputs": [
    {
     "data": {
      "text/plain": [
       "receipt_id\n",
       "9622257    2018\n",
       "9446359    2018\n",
       "9470290    2018\n",
       "9643416    2018\n",
       "9692093    2018\n",
       "Name: purchase_time, dtype: int64"
      ]
     },
     "execution_count": 16,
     "metadata": {},
     "output_type": "execute_result"
    }
   ],
   "source": [
    "purchase_dt.year.head()"
   ]
  },
  {
   "cell_type": "code",
   "execution_count": 17,
   "metadata": {},
   "outputs": [],
   "source": [
    "df['month'] = purchase_dt.month_name()"
   ]
  },
  {
   "cell_type": "code",
   "execution_count": 18,
   "metadata": {},
   "outputs": [
    {
     "data": {
      "text/html": [
       "<div>\n",
       "<style scoped>\n",
       "    .dataframe tbody tr th:only-of-type {\n",
       "        vertical-align: middle;\n",
       "    }\n",
       "\n",
       "    .dataframe tbody tr th {\n",
       "        vertical-align: top;\n",
       "    }\n",
       "\n",
       "    .dataframe thead th {\n",
       "        text-align: right;\n",
       "    }\n",
       "</style>\n",
       "<table border=\"1\" class=\"dataframe\">\n",
       "  <thead>\n",
       "    <tr style=\"text-align: right;\">\n",
       "      <th></th>\n",
       "      <th>receipts_item_id</th>\n",
       "      <th>purchase_time</th>\n",
       "      <th>category</th>\n",
       "      <th>sub_category</th>\n",
       "      <th>format</th>\n",
       "      <th>unit_price</th>\n",
       "      <th>discount</th>\n",
       "      <th>quantity</th>\n",
       "      <th>month</th>\n",
       "    </tr>\n",
       "    <tr>\n",
       "      <th>receipt_id</th>\n",
       "      <th></th>\n",
       "      <th></th>\n",
       "      <th></th>\n",
       "      <th></th>\n",
       "      <th></th>\n",
       "      <th></th>\n",
       "      <th></th>\n",
       "      <th></th>\n",
       "      <th></th>\n",
       "    </tr>\n",
       "  </thead>\n",
       "  <tbody>\n",
       "    <tr>\n",
       "      <th>9622257</th>\n",
       "      <td>32369294</td>\n",
       "      <td>2018-07-22 21:19:00</td>\n",
       "      <td>Rice</td>\n",
       "      <td>Rice</td>\n",
       "      <td>supermarket</td>\n",
       "      <td>128000.0</td>\n",
       "      <td>0</td>\n",
       "      <td>1</td>\n",
       "      <td>July</td>\n",
       "    </tr>\n",
       "    <tr>\n",
       "      <th>9446359</th>\n",
       "      <td>31885876</td>\n",
       "      <td>2018-07-15 16:17:00</td>\n",
       "      <td>Rice</td>\n",
       "      <td>Rice</td>\n",
       "      <td>minimarket</td>\n",
       "      <td>102750.0</td>\n",
       "      <td>0</td>\n",
       "      <td>1</td>\n",
       "      <td>July</td>\n",
       "    </tr>\n",
       "    <tr>\n",
       "      <th>9470290</th>\n",
       "      <td>31930241</td>\n",
       "      <td>2018-07-15 12:12:00</td>\n",
       "      <td>Rice</td>\n",
       "      <td>Rice</td>\n",
       "      <td>supermarket</td>\n",
       "      <td>64000.0</td>\n",
       "      <td>0</td>\n",
       "      <td>3</td>\n",
       "      <td>July</td>\n",
       "    </tr>\n",
       "    <tr>\n",
       "      <th>9643416</th>\n",
       "      <td>32418582</td>\n",
       "      <td>2018-07-24 08:27:00</td>\n",
       "      <td>Rice</td>\n",
       "      <td>Rice</td>\n",
       "      <td>minimarket</td>\n",
       "      <td>65000.0</td>\n",
       "      <td>0</td>\n",
       "      <td>1</td>\n",
       "      <td>July</td>\n",
       "    </tr>\n",
       "    <tr>\n",
       "      <th>9692093</th>\n",
       "      <td>32561236</td>\n",
       "      <td>2018-07-26 11:28:00</td>\n",
       "      <td>Rice</td>\n",
       "      <td>Rice</td>\n",
       "      <td>supermarket</td>\n",
       "      <td>124500.0</td>\n",
       "      <td>0</td>\n",
       "      <td>1</td>\n",
       "      <td>July</td>\n",
       "    </tr>\n",
       "  </tbody>\n",
       "</table>\n",
       "</div>"
      ],
      "text/plain": [
       "            receipts_item_id       purchase_time category sub_category  \\\n",
       "receipt_id                                                               \n",
       "9622257             32369294 2018-07-22 21:19:00     Rice         Rice   \n",
       "9446359             31885876 2018-07-15 16:17:00     Rice         Rice   \n",
       "9470290             31930241 2018-07-15 12:12:00     Rice         Rice   \n",
       "9643416             32418582 2018-07-24 08:27:00     Rice         Rice   \n",
       "9692093             32561236 2018-07-26 11:28:00     Rice         Rice   \n",
       "\n",
       "                 format  unit_price  discount  quantity month  \n",
       "receipt_id                                                     \n",
       "9622257     supermarket    128000.0         0         1  July  \n",
       "9446359      minimarket    102750.0         0         1  July  \n",
       "9470290     supermarket     64000.0         0         3  July  \n",
       "9643416      minimarket     65000.0         0         1  July  \n",
       "9692093     supermarket    124500.0         0         1  July  "
      ]
     },
     "execution_count": 18,
     "metadata": {},
     "output_type": "execute_result"
    }
   ],
   "source": [
    "df.head()"
   ]
  },
  {
   "cell_type": "code",
   "execution_count": 19,
   "metadata": {},
   "outputs": [],
   "source": [
    "df['year'] = purchase_dt.year"
   ]
  },
  {
   "cell_type": "code",
   "execution_count": 20,
   "metadata": {},
   "outputs": [
    {
     "data": {
      "text/html": [
       "<div>\n",
       "<style scoped>\n",
       "    .dataframe tbody tr th:only-of-type {\n",
       "        vertical-align: middle;\n",
       "    }\n",
       "\n",
       "    .dataframe tbody tr th {\n",
       "        vertical-align: top;\n",
       "    }\n",
       "\n",
       "    .dataframe thead th {\n",
       "        text-align: right;\n",
       "    }\n",
       "</style>\n",
       "<table border=\"1\" class=\"dataframe\">\n",
       "  <thead>\n",
       "    <tr style=\"text-align: right;\">\n",
       "      <th></th>\n",
       "      <th>receipts_item_id</th>\n",
       "      <th>purchase_time</th>\n",
       "      <th>category</th>\n",
       "      <th>sub_category</th>\n",
       "      <th>format</th>\n",
       "      <th>unit_price</th>\n",
       "      <th>discount</th>\n",
       "      <th>quantity</th>\n",
       "      <th>month</th>\n",
       "      <th>year</th>\n",
       "    </tr>\n",
       "    <tr>\n",
       "      <th>receipt_id</th>\n",
       "      <th></th>\n",
       "      <th></th>\n",
       "      <th></th>\n",
       "      <th></th>\n",
       "      <th></th>\n",
       "      <th></th>\n",
       "      <th></th>\n",
       "      <th></th>\n",
       "      <th></th>\n",
       "      <th></th>\n",
       "    </tr>\n",
       "  </thead>\n",
       "  <tbody>\n",
       "    <tr>\n",
       "      <th>9622257</th>\n",
       "      <td>32369294</td>\n",
       "      <td>2018-07-22 21:19:00</td>\n",
       "      <td>Rice</td>\n",
       "      <td>Rice</td>\n",
       "      <td>supermarket</td>\n",
       "      <td>128000.0</td>\n",
       "      <td>0</td>\n",
       "      <td>1</td>\n",
       "      <td>July</td>\n",
       "      <td>2018</td>\n",
       "    </tr>\n",
       "    <tr>\n",
       "      <th>9446359</th>\n",
       "      <td>31885876</td>\n",
       "      <td>2018-07-15 16:17:00</td>\n",
       "      <td>Rice</td>\n",
       "      <td>Rice</td>\n",
       "      <td>minimarket</td>\n",
       "      <td>102750.0</td>\n",
       "      <td>0</td>\n",
       "      <td>1</td>\n",
       "      <td>July</td>\n",
       "      <td>2018</td>\n",
       "    </tr>\n",
       "    <tr>\n",
       "      <th>9470290</th>\n",
       "      <td>31930241</td>\n",
       "      <td>2018-07-15 12:12:00</td>\n",
       "      <td>Rice</td>\n",
       "      <td>Rice</td>\n",
       "      <td>supermarket</td>\n",
       "      <td>64000.0</td>\n",
       "      <td>0</td>\n",
       "      <td>3</td>\n",
       "      <td>July</td>\n",
       "      <td>2018</td>\n",
       "    </tr>\n",
       "    <tr>\n",
       "      <th>9643416</th>\n",
       "      <td>32418582</td>\n",
       "      <td>2018-07-24 08:27:00</td>\n",
       "      <td>Rice</td>\n",
       "      <td>Rice</td>\n",
       "      <td>minimarket</td>\n",
       "      <td>65000.0</td>\n",
       "      <td>0</td>\n",
       "      <td>1</td>\n",
       "      <td>July</td>\n",
       "      <td>2018</td>\n",
       "    </tr>\n",
       "    <tr>\n",
       "      <th>9692093</th>\n",
       "      <td>32561236</td>\n",
       "      <td>2018-07-26 11:28:00</td>\n",
       "      <td>Rice</td>\n",
       "      <td>Rice</td>\n",
       "      <td>supermarket</td>\n",
       "      <td>124500.0</td>\n",
       "      <td>0</td>\n",
       "      <td>1</td>\n",
       "      <td>July</td>\n",
       "      <td>2018</td>\n",
       "    </tr>\n",
       "  </tbody>\n",
       "</table>\n",
       "</div>"
      ],
      "text/plain": [
       "            receipts_item_id       purchase_time category sub_category  \\\n",
       "receipt_id                                                               \n",
       "9622257             32369294 2018-07-22 21:19:00     Rice         Rice   \n",
       "9446359             31885876 2018-07-15 16:17:00     Rice         Rice   \n",
       "9470290             31930241 2018-07-15 12:12:00     Rice         Rice   \n",
       "9643416             32418582 2018-07-24 08:27:00     Rice         Rice   \n",
       "9692093             32561236 2018-07-26 11:28:00     Rice         Rice   \n",
       "\n",
       "                 format  unit_price  discount  quantity month  year  \n",
       "receipt_id                                                           \n",
       "9622257     supermarket    128000.0         0         1  July  2018  \n",
       "9446359      minimarket    102750.0         0         1  July  2018  \n",
       "9470290     supermarket     64000.0         0         3  July  2018  \n",
       "9643416      minimarket     65000.0         0         1  July  2018  \n",
       "9692093     supermarket    124500.0         0         1  July  2018  "
      ]
     },
     "execution_count": 20,
     "metadata": {},
     "output_type": "execute_result"
    }
   ],
   "source": [
    "df.head()"
   ]
  },
  {
   "cell_type": "code",
   "execution_count": 21,
   "metadata": {},
   "outputs": [
    {
     "data": {
      "text/plain": [
       "receipt_id\n",
       "9622257    22\n",
       "9446359    15\n",
       "9470290    15\n",
       "9643416    24\n",
       "9692093    26\n",
       "Name: purchase_time, dtype: int64"
      ]
     },
     "execution_count": 21,
     "metadata": {},
     "output_type": "execute_result"
    }
   ],
   "source": [
    "purchase_dt.day.head() ## ekstraksi tanggal"
   ]
  },
  {
   "cell_type": "code",
   "execution_count": 22,
   "metadata": {},
   "outputs": [
    {
     "data": {
      "text/plain": [
       "receipt_id\n",
       "9622257    6\n",
       "9446359    6\n",
       "9470290    6\n",
       "9643416    1\n",
       "9692093    3\n",
       "Name: purchase_time, dtype: int64"
      ]
     },
     "execution_count": 22,
     "metadata": {},
     "output_type": "execute_result"
    }
   ],
   "source": [
    "purchase_dt.dayofweek.head() ## ekstraksi urutan hari dalam seminggu 0 = senin"
   ]
  },
  {
   "cell_type": "code",
   "execution_count": 23,
   "metadata": {},
   "outputs": [
    {
     "data": {
      "text/plain": [
       "receipt_id\n",
       "9622257    21\n",
       "9446359    16\n",
       "9470290    12\n",
       "9643416     8\n",
       "9692093    11\n",
       "Name: purchase_time, dtype: int64"
      ]
     },
     "execution_count": 23,
     "metadata": {},
     "output_type": "execute_result"
    }
   ],
   "source": [
    "purchase_dt.hour.head()"
   ]
  },
  {
   "cell_type": "code",
   "execution_count": 24,
   "metadata": {},
   "outputs": [
    {
     "data": {
      "text/plain": [
       "receipt_id\n",
       "9622257      Sunday\n",
       "9446359      Sunday\n",
       "9470290      Sunday\n",
       "9643416     Tuesday\n",
       "9692093    Thursday\n",
       "Name: purchase_time, dtype: object"
      ]
     },
     "execution_count": 24,
     "metadata": {},
     "output_type": "execute_result"
    }
   ],
   "source": [
    "purchase_dt.day_name().head()"
   ]
  },
  {
   "cell_type": "code",
   "execution_count": 25,
   "metadata": {},
   "outputs": [],
   "source": [
    "df['day'] = purchase_dt.day_name()"
   ]
  },
  {
   "cell_type": "code",
   "execution_count": 26,
   "metadata": {},
   "outputs": [
    {
     "data": {
      "text/html": [
       "<div>\n",
       "<style scoped>\n",
       "    .dataframe tbody tr th:only-of-type {\n",
       "        vertical-align: middle;\n",
       "    }\n",
       "\n",
       "    .dataframe tbody tr th {\n",
       "        vertical-align: top;\n",
       "    }\n",
       "\n",
       "    .dataframe thead th {\n",
       "        text-align: right;\n",
       "    }\n",
       "</style>\n",
       "<table border=\"1\" class=\"dataframe\">\n",
       "  <thead>\n",
       "    <tr style=\"text-align: right;\">\n",
       "      <th></th>\n",
       "      <th>receipts_item_id</th>\n",
       "      <th>purchase_time</th>\n",
       "      <th>category</th>\n",
       "      <th>sub_category</th>\n",
       "      <th>format</th>\n",
       "      <th>unit_price</th>\n",
       "      <th>discount</th>\n",
       "      <th>quantity</th>\n",
       "      <th>month</th>\n",
       "      <th>year</th>\n",
       "      <th>day</th>\n",
       "    </tr>\n",
       "    <tr>\n",
       "      <th>receipt_id</th>\n",
       "      <th></th>\n",
       "      <th></th>\n",
       "      <th></th>\n",
       "      <th></th>\n",
       "      <th></th>\n",
       "      <th></th>\n",
       "      <th></th>\n",
       "      <th></th>\n",
       "      <th></th>\n",
       "      <th></th>\n",
       "      <th></th>\n",
       "    </tr>\n",
       "  </thead>\n",
       "  <tbody>\n",
       "    <tr>\n",
       "      <th>9622257</th>\n",
       "      <td>32369294</td>\n",
       "      <td>2018-07-22 21:19:00</td>\n",
       "      <td>Rice</td>\n",
       "      <td>Rice</td>\n",
       "      <td>supermarket</td>\n",
       "      <td>128000.0</td>\n",
       "      <td>0</td>\n",
       "      <td>1</td>\n",
       "      <td>July</td>\n",
       "      <td>2018</td>\n",
       "      <td>Sunday</td>\n",
       "    </tr>\n",
       "    <tr>\n",
       "      <th>9446359</th>\n",
       "      <td>31885876</td>\n",
       "      <td>2018-07-15 16:17:00</td>\n",
       "      <td>Rice</td>\n",
       "      <td>Rice</td>\n",
       "      <td>minimarket</td>\n",
       "      <td>102750.0</td>\n",
       "      <td>0</td>\n",
       "      <td>1</td>\n",
       "      <td>July</td>\n",
       "      <td>2018</td>\n",
       "      <td>Sunday</td>\n",
       "    </tr>\n",
       "    <tr>\n",
       "      <th>9470290</th>\n",
       "      <td>31930241</td>\n",
       "      <td>2018-07-15 12:12:00</td>\n",
       "      <td>Rice</td>\n",
       "      <td>Rice</td>\n",
       "      <td>supermarket</td>\n",
       "      <td>64000.0</td>\n",
       "      <td>0</td>\n",
       "      <td>3</td>\n",
       "      <td>July</td>\n",
       "      <td>2018</td>\n",
       "      <td>Sunday</td>\n",
       "    </tr>\n",
       "    <tr>\n",
       "      <th>9643416</th>\n",
       "      <td>32418582</td>\n",
       "      <td>2018-07-24 08:27:00</td>\n",
       "      <td>Rice</td>\n",
       "      <td>Rice</td>\n",
       "      <td>minimarket</td>\n",
       "      <td>65000.0</td>\n",
       "      <td>0</td>\n",
       "      <td>1</td>\n",
       "      <td>July</td>\n",
       "      <td>2018</td>\n",
       "      <td>Tuesday</td>\n",
       "    </tr>\n",
       "    <tr>\n",
       "      <th>9692093</th>\n",
       "      <td>32561236</td>\n",
       "      <td>2018-07-26 11:28:00</td>\n",
       "      <td>Rice</td>\n",
       "      <td>Rice</td>\n",
       "      <td>supermarket</td>\n",
       "      <td>124500.0</td>\n",
       "      <td>0</td>\n",
       "      <td>1</td>\n",
       "      <td>July</td>\n",
       "      <td>2018</td>\n",
       "      <td>Thursday</td>\n",
       "    </tr>\n",
       "  </tbody>\n",
       "</table>\n",
       "</div>"
      ],
      "text/plain": [
       "            receipts_item_id       purchase_time category sub_category  \\\n",
       "receipt_id                                                               \n",
       "9622257             32369294 2018-07-22 21:19:00     Rice         Rice   \n",
       "9446359             31885876 2018-07-15 16:17:00     Rice         Rice   \n",
       "9470290             31930241 2018-07-15 12:12:00     Rice         Rice   \n",
       "9643416             32418582 2018-07-24 08:27:00     Rice         Rice   \n",
       "9692093             32561236 2018-07-26 11:28:00     Rice         Rice   \n",
       "\n",
       "                 format  unit_price  discount  quantity month  year       day  \n",
       "receipt_id                                                                     \n",
       "9622257     supermarket    128000.0         0         1  July  2018    Sunday  \n",
       "9446359      minimarket    102750.0         0         1  July  2018    Sunday  \n",
       "9470290     supermarket     64000.0         0         3  July  2018    Sunday  \n",
       "9643416      minimarket     65000.0         0         1  July  2018   Tuesday  \n",
       "9692093     supermarket    124500.0         0         1  July  2018  Thursday  "
      ]
     },
     "execution_count": 26,
     "metadata": {},
     "output_type": "execute_result"
    }
   ],
   "source": [
    "df.head()"
   ]
  },
  {
   "cell_type": "code",
   "execution_count": 27,
   "metadata": {},
   "outputs": [
    {
     "data": {
      "text/plain": [
       "receipt_id\n",
       "9622257    2018-07-22\n",
       "9446359    2018-07-15\n",
       "9470290    2018-07-15\n",
       "9643416    2018-07-24\n",
       "9692093    2018-07-26\n",
       "Name: purchase_time, dtype: period[D]"
      ]
     },
     "execution_count": 27,
     "metadata": {},
     "output_type": "execute_result"
    }
   ],
   "source": [
    "purchase_dt.to_period('D').head()"
   ]
  },
  {
   "cell_type": "code",
   "execution_count": 28,
   "metadata": {},
   "outputs": [
    {
     "data": {
      "text/plain": [
       "receipt_id\n",
       "9622257    2018-07\n",
       "9446359    2018-07\n",
       "9470290    2018-07\n",
       "9643416    2018-07\n",
       "9692093    2018-07\n",
       "Name: purchase_time, dtype: period[M]"
      ]
     },
     "execution_count": 28,
     "metadata": {},
     "output_type": "execute_result"
    }
   ],
   "source": [
    "purchase_dt.to_period('M').head()"
   ]
  },
  {
   "cell_type": "code",
   "execution_count": 29,
   "metadata": {},
   "outputs": [
    {
     "data": {
      "text/plain": [
       "receipt_id\n",
       "9622257    2018-07-16/2018-07-22\n",
       "9446359    2018-07-09/2018-07-15\n",
       "9470290    2018-07-09/2018-07-15\n",
       "9643416    2018-07-23/2018-07-29\n",
       "9692093    2018-07-23/2018-07-29\n",
       "Name: purchase_time, dtype: period[W-SUN]"
      ]
     },
     "execution_count": 29,
     "metadata": {},
     "output_type": "execute_result"
    }
   ],
   "source": [
    "# membandingkan per minggu nya\n",
    "purchase_dt.to_period('W').head()"
   ]
  },
  {
   "cell_type": "code",
   "execution_count": 30,
   "metadata": {},
   "outputs": [
    {
     "data": {
      "text/plain": [
       "receipt_id\n",
       "9622257    2018Q3\n",
       "9446359    2018Q3\n",
       "9470290    2018Q3\n",
       "9643416    2018Q3\n",
       "9692093    2018Q3\n",
       "Name: purchase_time, dtype: period[Q-DEC]"
      ]
     },
     "execution_count": 30,
     "metadata": {},
     "output_type": "execute_result"
    }
   ],
   "source": [
    "purchase_dt.to_period('Q').head()"
   ]
  },
  {
   "cell_type": "code",
   "execution_count": 31,
   "metadata": {},
   "outputs": [
    {
     "data": {
      "text/html": [
       "<div>\n",
       "<style scoped>\n",
       "    .dataframe tbody tr th:only-of-type {\n",
       "        vertical-align: middle;\n",
       "    }\n",
       "\n",
       "    .dataframe tbody tr th {\n",
       "        vertical-align: top;\n",
       "    }\n",
       "\n",
       "    .dataframe thead th {\n",
       "        text-align: right;\n",
       "    }\n",
       "</style>\n",
       "<table border=\"1\" class=\"dataframe\">\n",
       "  <thead>\n",
       "    <tr style=\"text-align: right;\">\n",
       "      <th></th>\n",
       "      <th>receipts_item_id</th>\n",
       "      <th>purchase_time</th>\n",
       "      <th>category</th>\n",
       "      <th>sub_category</th>\n",
       "      <th>format</th>\n",
       "      <th>unit_price</th>\n",
       "      <th>discount</th>\n",
       "      <th>quantity</th>\n",
       "      <th>month</th>\n",
       "      <th>year</th>\n",
       "      <th>day</th>\n",
       "    </tr>\n",
       "    <tr>\n",
       "      <th>receipt_id</th>\n",
       "      <th></th>\n",
       "      <th></th>\n",
       "      <th></th>\n",
       "      <th></th>\n",
       "      <th></th>\n",
       "      <th></th>\n",
       "      <th></th>\n",
       "      <th></th>\n",
       "      <th></th>\n",
       "      <th></th>\n",
       "      <th></th>\n",
       "    </tr>\n",
       "  </thead>\n",
       "  <tbody>\n",
       "    <tr>\n",
       "      <th>9622257</th>\n",
       "      <td>32369294</td>\n",
       "      <td>2018-07-22 21:19:00</td>\n",
       "      <td>Rice</td>\n",
       "      <td>Rice</td>\n",
       "      <td>supermarket</td>\n",
       "      <td>128000.0</td>\n",
       "      <td>0</td>\n",
       "      <td>1</td>\n",
       "      <td>July</td>\n",
       "      <td>2018</td>\n",
       "      <td>Sunday</td>\n",
       "    </tr>\n",
       "    <tr>\n",
       "      <th>9446359</th>\n",
       "      <td>31885876</td>\n",
       "      <td>2018-07-15 16:17:00</td>\n",
       "      <td>Rice</td>\n",
       "      <td>Rice</td>\n",
       "      <td>minimarket</td>\n",
       "      <td>102750.0</td>\n",
       "      <td>0</td>\n",
       "      <td>1</td>\n",
       "      <td>July</td>\n",
       "      <td>2018</td>\n",
       "      <td>Sunday</td>\n",
       "    </tr>\n",
       "    <tr>\n",
       "      <th>9470290</th>\n",
       "      <td>31930241</td>\n",
       "      <td>2018-07-15 12:12:00</td>\n",
       "      <td>Rice</td>\n",
       "      <td>Rice</td>\n",
       "      <td>supermarket</td>\n",
       "      <td>64000.0</td>\n",
       "      <td>0</td>\n",
       "      <td>3</td>\n",
       "      <td>July</td>\n",
       "      <td>2018</td>\n",
       "      <td>Sunday</td>\n",
       "    </tr>\n",
       "    <tr>\n",
       "      <th>9643416</th>\n",
       "      <td>32418582</td>\n",
       "      <td>2018-07-24 08:27:00</td>\n",
       "      <td>Rice</td>\n",
       "      <td>Rice</td>\n",
       "      <td>minimarket</td>\n",
       "      <td>65000.0</td>\n",
       "      <td>0</td>\n",
       "      <td>1</td>\n",
       "      <td>July</td>\n",
       "      <td>2018</td>\n",
       "      <td>Tuesday</td>\n",
       "    </tr>\n",
       "    <tr>\n",
       "      <th>9692093</th>\n",
       "      <td>32561236</td>\n",
       "      <td>2018-07-26 11:28:00</td>\n",
       "      <td>Rice</td>\n",
       "      <td>Rice</td>\n",
       "      <td>supermarket</td>\n",
       "      <td>124500.0</td>\n",
       "      <td>0</td>\n",
       "      <td>1</td>\n",
       "      <td>July</td>\n",
       "      <td>2018</td>\n",
       "      <td>Thursday</td>\n",
       "    </tr>\n",
       "  </tbody>\n",
       "</table>\n",
       "</div>"
      ],
      "text/plain": [
       "            receipts_item_id       purchase_time category sub_category  \\\n",
       "receipt_id                                                               \n",
       "9622257             32369294 2018-07-22 21:19:00     Rice         Rice   \n",
       "9446359             31885876 2018-07-15 16:17:00     Rice         Rice   \n",
       "9470290             31930241 2018-07-15 12:12:00     Rice         Rice   \n",
       "9643416             32418582 2018-07-24 08:27:00     Rice         Rice   \n",
       "9692093             32561236 2018-07-26 11:28:00     Rice         Rice   \n",
       "\n",
       "                 format  unit_price  discount  quantity month  year       day  \n",
       "receipt_id                                                                     \n",
       "9622257     supermarket    128000.0         0         1  July  2018    Sunday  \n",
       "9446359      minimarket    102750.0         0         1  July  2018    Sunday  \n",
       "9470290     supermarket     64000.0         0         3  July  2018    Sunday  \n",
       "9643416      minimarket     65000.0         0         1  July  2018   Tuesday  \n",
       "9692093     supermarket    124500.0         0         1  July  2018  Thursday  "
      ]
     },
     "execution_count": 31,
     "metadata": {},
     "output_type": "execute_result"
    }
   ],
   "source": [
    "df.head()"
   ]
  },
  {
   "cell_type": "code",
   "execution_count": 32,
   "metadata": {},
   "outputs": [
    {
     "data": {
      "text/html": [
       "<div>\n",
       "<style scoped>\n",
       "    .dataframe tbody tr th:only-of-type {\n",
       "        vertical-align: middle;\n",
       "    }\n",
       "\n",
       "    .dataframe tbody tr th {\n",
       "        vertical-align: top;\n",
       "    }\n",
       "\n",
       "    .dataframe thead th {\n",
       "        text-align: right;\n",
       "    }\n",
       "</style>\n",
       "<table border=\"1\" class=\"dataframe\">\n",
       "  <thead>\n",
       "    <tr style=\"text-align: right;\">\n",
       "      <th></th>\n",
       "      <th>receipts_item_id</th>\n",
       "      <th>purchase_time</th>\n",
       "      <th>category</th>\n",
       "      <th>sub_category</th>\n",
       "      <th>format</th>\n",
       "      <th>unit_price</th>\n",
       "      <th>discount</th>\n",
       "      <th>quantity</th>\n",
       "      <th>month</th>\n",
       "      <th>year</th>\n",
       "      <th>day</th>\n",
       "      <th>quarter</th>\n",
       "    </tr>\n",
       "    <tr>\n",
       "      <th>receipt_id</th>\n",
       "      <th></th>\n",
       "      <th></th>\n",
       "      <th></th>\n",
       "      <th></th>\n",
       "      <th></th>\n",
       "      <th></th>\n",
       "      <th></th>\n",
       "      <th></th>\n",
       "      <th></th>\n",
       "      <th></th>\n",
       "      <th></th>\n",
       "      <th></th>\n",
       "    </tr>\n",
       "  </thead>\n",
       "  <tbody>\n",
       "    <tr>\n",
       "      <th>9622257</th>\n",
       "      <td>32369294</td>\n",
       "      <td>2018-07-22 21:19:00</td>\n",
       "      <td>Rice</td>\n",
       "      <td>Rice</td>\n",
       "      <td>supermarket</td>\n",
       "      <td>128000.0</td>\n",
       "      <td>0</td>\n",
       "      <td>1</td>\n",
       "      <td>July</td>\n",
       "      <td>2018</td>\n",
       "      <td>Sunday</td>\n",
       "      <td>2018Q3</td>\n",
       "    </tr>\n",
       "    <tr>\n",
       "      <th>9446359</th>\n",
       "      <td>31885876</td>\n",
       "      <td>2018-07-15 16:17:00</td>\n",
       "      <td>Rice</td>\n",
       "      <td>Rice</td>\n",
       "      <td>minimarket</td>\n",
       "      <td>102750.0</td>\n",
       "      <td>0</td>\n",
       "      <td>1</td>\n",
       "      <td>July</td>\n",
       "      <td>2018</td>\n",
       "      <td>Sunday</td>\n",
       "      <td>2018Q3</td>\n",
       "    </tr>\n",
       "    <tr>\n",
       "      <th>9470290</th>\n",
       "      <td>31930241</td>\n",
       "      <td>2018-07-15 12:12:00</td>\n",
       "      <td>Rice</td>\n",
       "      <td>Rice</td>\n",
       "      <td>supermarket</td>\n",
       "      <td>64000.0</td>\n",
       "      <td>0</td>\n",
       "      <td>3</td>\n",
       "      <td>July</td>\n",
       "      <td>2018</td>\n",
       "      <td>Sunday</td>\n",
       "      <td>2018Q3</td>\n",
       "    </tr>\n",
       "    <tr>\n",
       "      <th>9643416</th>\n",
       "      <td>32418582</td>\n",
       "      <td>2018-07-24 08:27:00</td>\n",
       "      <td>Rice</td>\n",
       "      <td>Rice</td>\n",
       "      <td>minimarket</td>\n",
       "      <td>65000.0</td>\n",
       "      <td>0</td>\n",
       "      <td>1</td>\n",
       "      <td>July</td>\n",
       "      <td>2018</td>\n",
       "      <td>Tuesday</td>\n",
       "      <td>2018Q3</td>\n",
       "    </tr>\n",
       "    <tr>\n",
       "      <th>9692093</th>\n",
       "      <td>32561236</td>\n",
       "      <td>2018-07-26 11:28:00</td>\n",
       "      <td>Rice</td>\n",
       "      <td>Rice</td>\n",
       "      <td>supermarket</td>\n",
       "      <td>124500.0</td>\n",
       "      <td>0</td>\n",
       "      <td>1</td>\n",
       "      <td>July</td>\n",
       "      <td>2018</td>\n",
       "      <td>Thursday</td>\n",
       "      <td>2018Q3</td>\n",
       "    </tr>\n",
       "  </tbody>\n",
       "</table>\n",
       "</div>"
      ],
      "text/plain": [
       "            receipts_item_id       purchase_time category sub_category  \\\n",
       "receipt_id                                                               \n",
       "9622257             32369294 2018-07-22 21:19:00     Rice         Rice   \n",
       "9446359             31885876 2018-07-15 16:17:00     Rice         Rice   \n",
       "9470290             31930241 2018-07-15 12:12:00     Rice         Rice   \n",
       "9643416             32418582 2018-07-24 08:27:00     Rice         Rice   \n",
       "9692093             32561236 2018-07-26 11:28:00     Rice         Rice   \n",
       "\n",
       "                 format  unit_price  discount  quantity month  year       day  \\\n",
       "receipt_id                                                                      \n",
       "9622257     supermarket    128000.0         0         1  July  2018    Sunday   \n",
       "9446359      minimarket    102750.0         0         1  July  2018    Sunday   \n",
       "9470290     supermarket     64000.0         0         3  July  2018    Sunday   \n",
       "9643416      minimarket     65000.0         0         1  July  2018   Tuesday   \n",
       "9692093     supermarket    124500.0         0         1  July  2018  Thursday   \n",
       "\n",
       "           quarter  \n",
       "receipt_id          \n",
       "9622257     2018Q3  \n",
       "9446359     2018Q3  \n",
       "9470290     2018Q3  \n",
       "9643416     2018Q3  \n",
       "9692093     2018Q3  "
      ]
     },
     "execution_count": 32,
     "metadata": {},
     "output_type": "execute_result"
    }
   ],
   "source": [
    "df['quarter'] = purchase_dt.to_period('Q')\n",
    "df.head()"
   ]
  },
  {
   "cell_type": "code",
   "execution_count": 33,
   "metadata": {},
   "outputs": [
    {
     "data": {
      "text/html": [
       "<div>\n",
       "<style scoped>\n",
       "    .dataframe tbody tr th:only-of-type {\n",
       "        vertical-align: middle;\n",
       "    }\n",
       "\n",
       "    .dataframe tbody tr th {\n",
       "        vertical-align: top;\n",
       "    }\n",
       "\n",
       "    .dataframe thead th {\n",
       "        text-align: right;\n",
       "    }\n",
       "</style>\n",
       "<table border=\"1\" class=\"dataframe\">\n",
       "  <thead>\n",
       "    <tr style=\"text-align: right;\">\n",
       "      <th></th>\n",
       "      <th>receipts_item_id</th>\n",
       "      <th>purchase_time</th>\n",
       "      <th>category</th>\n",
       "      <th>sub_category</th>\n",
       "      <th>format</th>\n",
       "      <th>unit_price</th>\n",
       "      <th>discount</th>\n",
       "      <th>quantity</th>\n",
       "      <th>month</th>\n",
       "      <th>year</th>\n",
       "      <th>day</th>\n",
       "      <th>quarter</th>\n",
       "    </tr>\n",
       "    <tr>\n",
       "      <th>receipt_id</th>\n",
       "      <th></th>\n",
       "      <th></th>\n",
       "      <th></th>\n",
       "      <th></th>\n",
       "      <th></th>\n",
       "      <th></th>\n",
       "      <th></th>\n",
       "      <th></th>\n",
       "      <th></th>\n",
       "      <th></th>\n",
       "      <th></th>\n",
       "      <th></th>\n",
       "    </tr>\n",
       "  </thead>\n",
       "  <tbody>\n",
       "    <tr>\n",
       "      <th>11346463</th>\n",
       "      <td>37888801</td>\n",
       "      <td>2018-09-29 17:13:00</td>\n",
       "      <td>Fabric Care</td>\n",
       "      <td>Detergent</td>\n",
       "      <td>minimarket</td>\n",
       "      <td>18000.0</td>\n",
       "      <td>0</td>\n",
       "      <td>1</td>\n",
       "      <td>September</td>\n",
       "      <td>2018</td>\n",
       "      <td>Saturday</td>\n",
       "      <td>2018Q3</td>\n",
       "    </tr>\n",
       "    <tr>\n",
       "      <th>5405208</th>\n",
       "      <td>16389738</td>\n",
       "      <td>2017-11-12 19:10:00</td>\n",
       "      <td>Fabric Care</td>\n",
       "      <td>Detergent</td>\n",
       "      <td>minimarket</td>\n",
       "      <td>15900.0</td>\n",
       "      <td>6800</td>\n",
       "      <td>2</td>\n",
       "      <td>November</td>\n",
       "      <td>2017</td>\n",
       "      <td>Sunday</td>\n",
       "      <td>2017Q4</td>\n",
       "    </tr>\n",
       "    <tr>\n",
       "      <th>8741641</th>\n",
       "      <td>29853857</td>\n",
       "      <td>2018-06-10 12:50:00</td>\n",
       "      <td>Fabric Care</td>\n",
       "      <td>Detergent</td>\n",
       "      <td>hypermarket</td>\n",
       "      <td>13500.0</td>\n",
       "      <td>1400</td>\n",
       "      <td>2</td>\n",
       "      <td>June</td>\n",
       "      <td>2018</td>\n",
       "      <td>Sunday</td>\n",
       "      <td>2018Q2</td>\n",
       "    </tr>\n",
       "    <tr>\n",
       "      <th>5520146</th>\n",
       "      <td>16761647</td>\n",
       "      <td>2017-11-25 16:14:00</td>\n",
       "      <td>Fabric Care</td>\n",
       "      <td>Detergent</td>\n",
       "      <td>minimarket</td>\n",
       "      <td>26000.0</td>\n",
       "      <td>0</td>\n",
       "      <td>1</td>\n",
       "      <td>November</td>\n",
       "      <td>2017</td>\n",
       "      <td>Saturday</td>\n",
       "      <td>2017Q4</td>\n",
       "    </tr>\n",
       "    <tr>\n",
       "      <th>6923095</th>\n",
       "      <td>20926018</td>\n",
       "      <td>2018-03-09 01:32:00</td>\n",
       "      <td>Sugar/Flavored Syrup</td>\n",
       "      <td>Sugar</td>\n",
       "      <td>minimarket</td>\n",
       "      <td>17800.0</td>\n",
       "      <td>0</td>\n",
       "      <td>1</td>\n",
       "      <td>March</td>\n",
       "      <td>2018</td>\n",
       "      <td>Friday</td>\n",
       "      <td>2018Q1</td>\n",
       "    </tr>\n",
       "  </tbody>\n",
       "</table>\n",
       "</div>"
      ],
      "text/plain": [
       "            receipts_item_id       purchase_time              category  \\\n",
       "receipt_id                                                               \n",
       "11346463            37888801 2018-09-29 17:13:00           Fabric Care   \n",
       "5405208             16389738 2017-11-12 19:10:00           Fabric Care   \n",
       "8741641             29853857 2018-06-10 12:50:00           Fabric Care   \n",
       "5520146             16761647 2017-11-25 16:14:00           Fabric Care   \n",
       "6923095             20926018 2018-03-09 01:32:00  Sugar/Flavored Syrup   \n",
       "\n",
       "           sub_category       format  unit_price  discount  quantity  \\\n",
       "receipt_id                                                             \n",
       "11346463      Detergent   minimarket     18000.0         0         1   \n",
       "5405208       Detergent   minimarket     15900.0      6800         2   \n",
       "8741641       Detergent  hypermarket     13500.0      1400         2   \n",
       "5520146       Detergent   minimarket     26000.0         0         1   \n",
       "6923095           Sugar   minimarket     17800.0         0         1   \n",
       "\n",
       "                month  year       day quarter  \n",
       "receipt_id                                     \n",
       "11346463    September  2018  Saturday  2018Q3  \n",
       "5405208      November  2017    Sunday  2017Q4  \n",
       "8741641          June  2018    Sunday  2018Q2  \n",
       "5520146      November  2017  Saturday  2017Q4  \n",
       "6923095         March  2018    Friday  2018Q1  "
      ]
     },
     "execution_count": 33,
     "metadata": {},
     "output_type": "execute_result"
    }
   ],
   "source": [
    "df.sample(5)"
   ]
  },
  {
   "cell_type": "code",
   "execution_count": 34,
   "metadata": {},
   "outputs": [
    {
     "data": {
      "text/html": [
       "<div>\n",
       "<style scoped>\n",
       "    .dataframe tbody tr th:only-of-type {\n",
       "        vertical-align: middle;\n",
       "    }\n",
       "\n",
       "    .dataframe tbody tr th {\n",
       "        vertical-align: top;\n",
       "    }\n",
       "\n",
       "    .dataframe thead th {\n",
       "        text-align: right;\n",
       "    }\n",
       "</style>\n",
       "<table border=\"1\" class=\"dataframe\">\n",
       "  <thead>\n",
       "    <tr style=\"text-align: right;\">\n",
       "      <th></th>\n",
       "      <th>receipts_item_id</th>\n",
       "      <th>purchase_time</th>\n",
       "      <th>category</th>\n",
       "      <th>sub_category</th>\n",
       "      <th>format</th>\n",
       "      <th>unit_price</th>\n",
       "      <th>discount</th>\n",
       "      <th>quantity</th>\n",
       "      <th>month</th>\n",
       "      <th>year</th>\n",
       "      <th>day</th>\n",
       "      <th>quarter</th>\n",
       "      <th>Total</th>\n",
       "    </tr>\n",
       "    <tr>\n",
       "      <th>receipt_id</th>\n",
       "      <th></th>\n",
       "      <th></th>\n",
       "      <th></th>\n",
       "      <th></th>\n",
       "      <th></th>\n",
       "      <th></th>\n",
       "      <th></th>\n",
       "      <th></th>\n",
       "      <th></th>\n",
       "      <th></th>\n",
       "      <th></th>\n",
       "      <th></th>\n",
       "      <th></th>\n",
       "    </tr>\n",
       "  </thead>\n",
       "  <tbody>\n",
       "    <tr>\n",
       "      <th>9622257</th>\n",
       "      <td>32369294</td>\n",
       "      <td>2018-07-22 21:19:00</td>\n",
       "      <td>Rice</td>\n",
       "      <td>Rice</td>\n",
       "      <td>supermarket</td>\n",
       "      <td>128000.0</td>\n",
       "      <td>0</td>\n",
       "      <td>1</td>\n",
       "      <td>July</td>\n",
       "      <td>2018</td>\n",
       "      <td>Sunday</td>\n",
       "      <td>2018Q3</td>\n",
       "      <td>128000.0</td>\n",
       "    </tr>\n",
       "    <tr>\n",
       "      <th>9446359</th>\n",
       "      <td>31885876</td>\n",
       "      <td>2018-07-15 16:17:00</td>\n",
       "      <td>Rice</td>\n",
       "      <td>Rice</td>\n",
       "      <td>minimarket</td>\n",
       "      <td>102750.0</td>\n",
       "      <td>0</td>\n",
       "      <td>1</td>\n",
       "      <td>July</td>\n",
       "      <td>2018</td>\n",
       "      <td>Sunday</td>\n",
       "      <td>2018Q3</td>\n",
       "      <td>102750.0</td>\n",
       "    </tr>\n",
       "    <tr>\n",
       "      <th>9470290</th>\n",
       "      <td>31930241</td>\n",
       "      <td>2018-07-15 12:12:00</td>\n",
       "      <td>Rice</td>\n",
       "      <td>Rice</td>\n",
       "      <td>supermarket</td>\n",
       "      <td>64000.0</td>\n",
       "      <td>0</td>\n",
       "      <td>3</td>\n",
       "      <td>July</td>\n",
       "      <td>2018</td>\n",
       "      <td>Sunday</td>\n",
       "      <td>2018Q3</td>\n",
       "      <td>192000.0</td>\n",
       "    </tr>\n",
       "    <tr>\n",
       "      <th>9643416</th>\n",
       "      <td>32418582</td>\n",
       "      <td>2018-07-24 08:27:00</td>\n",
       "      <td>Rice</td>\n",
       "      <td>Rice</td>\n",
       "      <td>minimarket</td>\n",
       "      <td>65000.0</td>\n",
       "      <td>0</td>\n",
       "      <td>1</td>\n",
       "      <td>July</td>\n",
       "      <td>2018</td>\n",
       "      <td>Tuesday</td>\n",
       "      <td>2018Q3</td>\n",
       "      <td>65000.0</td>\n",
       "    </tr>\n",
       "    <tr>\n",
       "      <th>9692093</th>\n",
       "      <td>32561236</td>\n",
       "      <td>2018-07-26 11:28:00</td>\n",
       "      <td>Rice</td>\n",
       "      <td>Rice</td>\n",
       "      <td>supermarket</td>\n",
       "      <td>124500.0</td>\n",
       "      <td>0</td>\n",
       "      <td>1</td>\n",
       "      <td>July</td>\n",
       "      <td>2018</td>\n",
       "      <td>Thursday</td>\n",
       "      <td>2018Q3</td>\n",
       "      <td>124500.0</td>\n",
       "    </tr>\n",
       "  </tbody>\n",
       "</table>\n",
       "</div>"
      ],
      "text/plain": [
       "            receipts_item_id       purchase_time category sub_category  \\\n",
       "receipt_id                                                               \n",
       "9622257             32369294 2018-07-22 21:19:00     Rice         Rice   \n",
       "9446359             31885876 2018-07-15 16:17:00     Rice         Rice   \n",
       "9470290             31930241 2018-07-15 12:12:00     Rice         Rice   \n",
       "9643416             32418582 2018-07-24 08:27:00     Rice         Rice   \n",
       "9692093             32561236 2018-07-26 11:28:00     Rice         Rice   \n",
       "\n",
       "                 format  unit_price  discount  quantity month  year       day  \\\n",
       "receipt_id                                                                      \n",
       "9622257     supermarket    128000.0         0         1  July  2018    Sunday   \n",
       "9446359      minimarket    102750.0         0         1  July  2018    Sunday   \n",
       "9470290     supermarket     64000.0         0         3  July  2018    Sunday   \n",
       "9643416      minimarket     65000.0         0         1  July  2018   Tuesday   \n",
       "9692093     supermarket    124500.0         0         1  July  2018  Thursday   \n",
       "\n",
       "           quarter     Total  \n",
       "receipt_id                    \n",
       "9622257     2018Q3  128000.0  \n",
       "9446359     2018Q3  102750.0  \n",
       "9470290     2018Q3  192000.0  \n",
       "9643416     2018Q3   65000.0  \n",
       "9692093     2018Q3  124500.0  "
      ]
     },
     "execution_count": 34,
     "metadata": {},
     "output_type": "execute_result"
    }
   ],
   "source": [
    "df['Total'] = df['quantity'] * df['unit_price']\n",
    "df.head()"
   ]
  },
  {
   "cell_type": "code",
   "execution_count": 36,
   "metadata": {},
   "outputs": [
    {
     "data": {
      "text/html": [
       "<div>\n",
       "<style scoped>\n",
       "    .dataframe tbody tr th:only-of-type {\n",
       "        vertical-align: middle;\n",
       "    }\n",
       "\n",
       "    .dataframe tbody tr th {\n",
       "        vertical-align: top;\n",
       "    }\n",
       "\n",
       "    .dataframe thead th {\n",
       "        text-align: right;\n",
       "    }\n",
       "</style>\n",
       "<table border=\"1\" class=\"dataframe\">\n",
       "  <thead>\n",
       "    <tr style=\"text-align: right;\">\n",
       "      <th></th>\n",
       "      <th>receipts_item_id</th>\n",
       "      <th>purchase_time</th>\n",
       "      <th>category</th>\n",
       "      <th>sub_category</th>\n",
       "      <th>format</th>\n",
       "      <th>unit_price</th>\n",
       "      <th>discount</th>\n",
       "      <th>quantity</th>\n",
       "      <th>month</th>\n",
       "      <th>year</th>\n",
       "      <th>day</th>\n",
       "      <th>quarter</th>\n",
       "      <th>Total</th>\n",
       "      <th>custom</th>\n",
       "    </tr>\n",
       "    <tr>\n",
       "      <th>receipt_id</th>\n",
       "      <th></th>\n",
       "      <th></th>\n",
       "      <th></th>\n",
       "      <th></th>\n",
       "      <th></th>\n",
       "      <th></th>\n",
       "      <th></th>\n",
       "      <th></th>\n",
       "      <th></th>\n",
       "      <th></th>\n",
       "      <th></th>\n",
       "      <th></th>\n",
       "      <th></th>\n",
       "      <th></th>\n",
       "    </tr>\n",
       "  </thead>\n",
       "  <tbody>\n",
       "    <tr>\n",
       "      <th>9622257</th>\n",
       "      <td>32369294</td>\n",
       "      <td>2018-07-22 21:19:00</td>\n",
       "      <td>Rice</td>\n",
       "      <td>Rice</td>\n",
       "      <td>supermarket</td>\n",
       "      <td>128000.0</td>\n",
       "      <td>0</td>\n",
       "      <td>1</td>\n",
       "      <td>July</td>\n",
       "      <td>2018</td>\n",
       "      <td>Sunday</td>\n",
       "      <td>2018Q3</td>\n",
       "      <td>128000.0</td>\n",
       "      <td>July - 21 : 21</td>\n",
       "    </tr>\n",
       "    <tr>\n",
       "      <th>9446359</th>\n",
       "      <td>31885876</td>\n",
       "      <td>2018-07-15 16:17:00</td>\n",
       "      <td>Rice</td>\n",
       "      <td>Rice</td>\n",
       "      <td>minimarket</td>\n",
       "      <td>102750.0</td>\n",
       "      <td>0</td>\n",
       "      <td>1</td>\n",
       "      <td>July</td>\n",
       "      <td>2018</td>\n",
       "      <td>Sunday</td>\n",
       "      <td>2018Q3</td>\n",
       "      <td>102750.0</td>\n",
       "      <td>July - 16 : 16</td>\n",
       "    </tr>\n",
       "    <tr>\n",
       "      <th>9470290</th>\n",
       "      <td>31930241</td>\n",
       "      <td>2018-07-15 12:12:00</td>\n",
       "      <td>Rice</td>\n",
       "      <td>Rice</td>\n",
       "      <td>supermarket</td>\n",
       "      <td>64000.0</td>\n",
       "      <td>0</td>\n",
       "      <td>3</td>\n",
       "      <td>July</td>\n",
       "      <td>2018</td>\n",
       "      <td>Sunday</td>\n",
       "      <td>2018Q3</td>\n",
       "      <td>192000.0</td>\n",
       "      <td>July - 12 : 12</td>\n",
       "    </tr>\n",
       "    <tr>\n",
       "      <th>9643416</th>\n",
       "      <td>32418582</td>\n",
       "      <td>2018-07-24 08:27:00</td>\n",
       "      <td>Rice</td>\n",
       "      <td>Rice</td>\n",
       "      <td>minimarket</td>\n",
       "      <td>65000.0</td>\n",
       "      <td>0</td>\n",
       "      <td>1</td>\n",
       "      <td>July</td>\n",
       "      <td>2018</td>\n",
       "      <td>Tuesday</td>\n",
       "      <td>2018Q3</td>\n",
       "      <td>65000.0</td>\n",
       "      <td>July - 08 : 08</td>\n",
       "    </tr>\n",
       "    <tr>\n",
       "      <th>9692093</th>\n",
       "      <td>32561236</td>\n",
       "      <td>2018-07-26 11:28:00</td>\n",
       "      <td>Rice</td>\n",
       "      <td>Rice</td>\n",
       "      <td>supermarket</td>\n",
       "      <td>124500.0</td>\n",
       "      <td>0</td>\n",
       "      <td>1</td>\n",
       "      <td>July</td>\n",
       "      <td>2018</td>\n",
       "      <td>Thursday</td>\n",
       "      <td>2018Q3</td>\n",
       "      <td>124500.0</td>\n",
       "      <td>July - 11 : 11</td>\n",
       "    </tr>\n",
       "  </tbody>\n",
       "</table>\n",
       "</div>"
      ],
      "text/plain": [
       "            receipts_item_id       purchase_time category sub_category  \\\n",
       "receipt_id                                                               \n",
       "9622257             32369294 2018-07-22 21:19:00     Rice         Rice   \n",
       "9446359             31885876 2018-07-15 16:17:00     Rice         Rice   \n",
       "9470290             31930241 2018-07-15 12:12:00     Rice         Rice   \n",
       "9643416             32418582 2018-07-24 08:27:00     Rice         Rice   \n",
       "9692093             32561236 2018-07-26 11:28:00     Rice         Rice   \n",
       "\n",
       "                 format  unit_price  discount  quantity month  year       day  \\\n",
       "receipt_id                                                                      \n",
       "9622257     supermarket    128000.0         0         1  July  2018    Sunday   \n",
       "9446359      minimarket    102750.0         0         1  July  2018    Sunday   \n",
       "9470290     supermarket     64000.0         0         3  July  2018    Sunday   \n",
       "9643416      minimarket     65000.0         0         1  July  2018   Tuesday   \n",
       "9692093     supermarket    124500.0         0         1  July  2018  Thursday   \n",
       "\n",
       "           quarter     Total          custom  \n",
       "receipt_id                                    \n",
       "9622257     2018Q3  128000.0  July - 21 : 21  \n",
       "9446359     2018Q3  102750.0  July - 16 : 16  \n",
       "9470290     2018Q3  192000.0  July - 12 : 12  \n",
       "9643416     2018Q3   65000.0  July - 08 : 08  \n",
       "9692093     2018Q3  124500.0  July - 11 : 11  "
      ]
     },
     "execution_count": 36,
     "metadata": {},
     "output_type": "execute_result"
    }
   ],
   "source": [
    "df['custom'] = purchase_dt.strftime('%B - %H : %H')\n",
    "df.head()"
   ]
  },
  {
   "cell_type": "markdown",
   "metadata": {},
   "source": [
    "Analisa Data\n",
    "- Group by ==> Adopt dari SQL\n",
    "- Pivot table ==> Adopt dari Ms. Excell\n",
    "- Crosstab ==> Original Pandas"
   ]
  },
  {
   "cell_type": "markdown",
   "metadata": {},
   "source": [
    "##### 1) crosstab\n",
    "Analisa Univariate ==> Analisa 1 kolom"
   ]
  },
  {
   "cell_type": "code",
   "execution_count": 37,
   "metadata": {},
   "outputs": [
    {
     "data": {
      "text/plain": [
       "Fabric Care             36000\n",
       "Sugar/Flavored Syrup    24000\n",
       "Rice                    12000\n",
       "Name: category, dtype: int64"
      ]
     },
     "execution_count": 37,
     "metadata": {},
     "output_type": "execute_result"
    }
   ],
   "source": [
    "df['category'].value_counts()"
   ]
  },
  {
   "cell_type": "code",
   "execution_count": 38,
   "metadata": {},
   "outputs": [
    {
     "data": {
      "text/html": [
       "<div>\n",
       "<style scoped>\n",
       "    .dataframe tbody tr th:only-of-type {\n",
       "        vertical-align: middle;\n",
       "    }\n",
       "\n",
       "    .dataframe tbody tr th {\n",
       "        vertical-align: top;\n",
       "    }\n",
       "\n",
       "    .dataframe thead th {\n",
       "        text-align: right;\n",
       "    }\n",
       "</style>\n",
       "<table border=\"1\" class=\"dataframe\">\n",
       "  <thead>\n",
       "    <tr style=\"text-align: right;\">\n",
       "      <th>col_0</th>\n",
       "      <th>count</th>\n",
       "    </tr>\n",
       "    <tr>\n",
       "      <th>category</th>\n",
       "      <th></th>\n",
       "    </tr>\n",
       "  </thead>\n",
       "  <tbody>\n",
       "    <tr>\n",
       "      <th>Fabric Care</th>\n",
       "      <td>36000</td>\n",
       "    </tr>\n",
       "    <tr>\n",
       "      <th>Rice</th>\n",
       "      <td>12000</td>\n",
       "    </tr>\n",
       "    <tr>\n",
       "      <th>Sugar/Flavored Syrup</th>\n",
       "      <td>24000</td>\n",
       "    </tr>\n",
       "  </tbody>\n",
       "</table>\n",
       "</div>"
      ],
      "text/plain": [
       "col_0                 count\n",
       "category                   \n",
       "Fabric Care           36000\n",
       "Rice                  12000\n",
       "Sugar/Flavored Syrup  24000"
      ]
     },
     "execution_count": 38,
     "metadata": {},
     "output_type": "execute_result"
    }
   ],
   "source": [
    "pd.crosstab(df['category'], columns='count')"
   ]
  },
  {
   "cell_type": "code",
   "execution_count": 39,
   "metadata": {},
   "outputs": [
    {
     "data": {
      "text/html": [
       "<div>\n",
       "<style scoped>\n",
       "    .dataframe tbody tr th:only-of-type {\n",
       "        vertical-align: middle;\n",
       "    }\n",
       "\n",
       "    .dataframe tbody tr th {\n",
       "        vertical-align: top;\n",
       "    }\n",
       "\n",
       "    .dataframe thead th {\n",
       "        text-align: right;\n",
       "    }\n",
       "</style>\n",
       "<table border=\"1\" class=\"dataframe\">\n",
       "  <thead>\n",
       "    <tr style=\"text-align: right;\">\n",
       "      <th>col_0</th>\n",
       "      <th>count</th>\n",
       "    </tr>\n",
       "    <tr>\n",
       "      <th>format</th>\n",
       "      <th></th>\n",
       "    </tr>\n",
       "  </thead>\n",
       "  <tbody>\n",
       "    <tr>\n",
       "      <th>hypermarket</th>\n",
       "      <td>5371</td>\n",
       "    </tr>\n",
       "    <tr>\n",
       "      <th>minimarket</th>\n",
       "      <td>46803</td>\n",
       "    </tr>\n",
       "    <tr>\n",
       "      <th>supermarket</th>\n",
       "      <td>19826</td>\n",
       "    </tr>\n",
       "  </tbody>\n",
       "</table>\n",
       "</div>"
      ],
      "text/plain": [
       "col_0        count\n",
       "format            \n",
       "hypermarket   5371\n",
       "minimarket   46803\n",
       "supermarket  19826"
      ]
     },
     "execution_count": 39,
     "metadata": {},
     "output_type": "execute_result"
    }
   ],
   "source": [
    "pd.crosstab(df['format'], columns='count') # alt 1"
   ]
  },
  {
   "cell_type": "code",
   "execution_count": 42,
   "metadata": {},
   "outputs": [
    {
     "data": {
      "text/html": [
       "<div>\n",
       "<style scoped>\n",
       "    .dataframe tbody tr th:only-of-type {\n",
       "        vertical-align: middle;\n",
       "    }\n",
       "\n",
       "    .dataframe tbody tr th {\n",
       "        vertical-align: top;\n",
       "    }\n",
       "\n",
       "    .dataframe thead th {\n",
       "        text-align: right;\n",
       "    }\n",
       "</style>\n",
       "<table border=\"1\" class=\"dataframe\">\n",
       "  <thead>\n",
       "    <tr style=\"text-align: right;\">\n",
       "      <th>col_0</th>\n",
       "      <th>count</th>\n",
       "    </tr>\n",
       "    <tr>\n",
       "      <th>category</th>\n",
       "      <th></th>\n",
       "    </tr>\n",
       "  </thead>\n",
       "  <tbody>\n",
       "    <tr>\n",
       "      <th>Fabric Care</th>\n",
       "      <td>36000</td>\n",
       "    </tr>\n",
       "    <tr>\n",
       "      <th>Rice</th>\n",
       "      <td>12000</td>\n",
       "    </tr>\n",
       "    <tr>\n",
       "      <th>Sugar/Flavored Syrup</th>\n",
       "      <td>24000</td>\n",
       "    </tr>\n",
       "  </tbody>\n",
       "</table>\n",
       "</div>"
      ],
      "text/plain": [
       "col_0                 count\n",
       "category                   \n",
       "Fabric Care           36000\n",
       "Rice                  12000\n",
       "Sugar/Flavored Syrup  24000"
      ]
     },
     "execution_count": 42,
     "metadata": {},
     "output_type": "execute_result"
    }
   ],
   "source": [
    "pd.crosstab(index=df['category'], columns='count') # alt 2"
   ]
  },
  {
   "cell_type": "code",
   "execution_count": 40,
   "metadata": {},
   "outputs": [],
   "source": [
    "# contoh insight ==> penjualan tertinggi ada di minimarket dan terendah di hypermart,\n",
    "# sehingga jika akan melakukan promo, sebaiknya dilakukan di minimarket"
   ]
  },
  {
   "cell_type": "code",
   "execution_count": 41,
   "metadata": {},
   "outputs": [],
   "source": [
    "# Fungsi aggregation default pada crosstab menggunakan COUNT, sehingga bisa dilakukan tanpa data numerik\n",
    "# Ketika melakukan analisa univariate menggunakan crosstab untuk kolom kategorikal, menghasilkan output yang sama dengan fungsi value_counts()\n",
    "# Fungsi value_counts() menghasilkan tipe data Series, crosstab menghasilkan Dataframe"
   ]
  },
  {
   "cell_type": "markdown",
   "metadata": {},
   "source": [
    "Analisa Multivariate ==> Analisa 2 atau lebih kolom"
   ]
  },
  {
   "cell_type": "code",
   "execution_count": 45,
   "metadata": {},
   "outputs": [
    {
     "data": {
      "text/html": [
       "<div>\n",
       "<style scoped>\n",
       "    .dataframe tbody tr th:only-of-type {\n",
       "        vertical-align: middle;\n",
       "    }\n",
       "\n",
       "    .dataframe tbody tr th {\n",
       "        vertical-align: top;\n",
       "    }\n",
       "\n",
       "    .dataframe thead th {\n",
       "        text-align: right;\n",
       "    }\n",
       "</style>\n",
       "<table border=\"1\" class=\"dataframe\">\n",
       "  <thead>\n",
       "    <tr style=\"text-align: right;\">\n",
       "      <th>format</th>\n",
       "      <th>hypermarket</th>\n",
       "      <th>minimarket</th>\n",
       "      <th>supermarket</th>\n",
       "    </tr>\n",
       "    <tr>\n",
       "      <th>sub_category</th>\n",
       "      <th></th>\n",
       "      <th></th>\n",
       "      <th></th>\n",
       "    </tr>\n",
       "  </thead>\n",
       "  <tbody>\n",
       "    <tr>\n",
       "      <th>Detergent</th>\n",
       "      <td>2611</td>\n",
       "      <td>24345</td>\n",
       "      <td>9044</td>\n",
       "    </tr>\n",
       "    <tr>\n",
       "      <th>Rice</th>\n",
       "      <td>999</td>\n",
       "      <td>7088</td>\n",
       "      <td>3913</td>\n",
       "    </tr>\n",
       "    <tr>\n",
       "      <th>Sugar</th>\n",
       "      <td>1761</td>\n",
       "      <td>15370</td>\n",
       "      <td>6869</td>\n",
       "    </tr>\n",
       "  </tbody>\n",
       "</table>\n",
       "</div>"
      ],
      "text/plain": [
       "format        hypermarket  minimarket  supermarket\n",
       "sub_category                                      \n",
       "Detergent            2611       24345         9044\n",
       "Rice                  999        7088         3913\n",
       "Sugar                1761       15370         6869"
      ]
     },
     "execution_count": 45,
     "metadata": {},
     "output_type": "execute_result"
    }
   ],
   "source": [
    "# 2 columns\n",
    "pd.crosstab(index=df['sub_category'], columns=df['format']) # default isi nya adalah count/jumlah data"
   ]
  },
  {
   "cell_type": "code",
   "execution_count": 46,
   "metadata": {},
   "outputs": [
    {
     "data": {
      "text/html": [
       "<div>\n",
       "<style scoped>\n",
       "    .dataframe tbody tr th:only-of-type {\n",
       "        vertical-align: middle;\n",
       "    }\n",
       "\n",
       "    .dataframe tbody tr th {\n",
       "        vertical-align: top;\n",
       "    }\n",
       "\n",
       "    .dataframe thead th {\n",
       "        text-align: right;\n",
       "    }\n",
       "</style>\n",
       "<table border=\"1\" class=\"dataframe\">\n",
       "  <thead>\n",
       "    <tr style=\"text-align: right;\">\n",
       "      <th>day</th>\n",
       "      <th>Friday</th>\n",
       "      <th>Monday</th>\n",
       "      <th>Saturday</th>\n",
       "      <th>Sunday</th>\n",
       "      <th>Thursday</th>\n",
       "      <th>Tuesday</th>\n",
       "      <th>Wednesday</th>\n",
       "    </tr>\n",
       "    <tr>\n",
       "      <th>sub_category</th>\n",
       "      <th></th>\n",
       "      <th></th>\n",
       "      <th></th>\n",
       "      <th></th>\n",
       "      <th></th>\n",
       "      <th></th>\n",
       "      <th></th>\n",
       "    </tr>\n",
       "  </thead>\n",
       "  <tbody>\n",
       "    <tr>\n",
       "      <th>Detergent</th>\n",
       "      <td>5748</td>\n",
       "      <td>4337</td>\n",
       "      <td>6147</td>\n",
       "      <td>6381</td>\n",
       "      <td>4320</td>\n",
       "      <td>4522</td>\n",
       "      <td>4545</td>\n",
       "    </tr>\n",
       "    <tr>\n",
       "      <th>Rice</th>\n",
       "      <td>1646</td>\n",
       "      <td>1551</td>\n",
       "      <td>1915</td>\n",
       "      <td>2234</td>\n",
       "      <td>1552</td>\n",
       "      <td>1621</td>\n",
       "      <td>1481</td>\n",
       "    </tr>\n",
       "    <tr>\n",
       "      <th>Sugar</th>\n",
       "      <td>3384</td>\n",
       "      <td>3162</td>\n",
       "      <td>3766</td>\n",
       "      <td>3958</td>\n",
       "      <td>3266</td>\n",
       "      <td>3284</td>\n",
       "      <td>3180</td>\n",
       "    </tr>\n",
       "  </tbody>\n",
       "</table>\n",
       "</div>"
      ],
      "text/plain": [
       "day           Friday  Monday  Saturday  Sunday  Thursday  Tuesday  Wednesday\n",
       "sub_category                                                                \n",
       "Detergent       5748    4337      6147    6381      4320     4522       4545\n",
       "Rice            1646    1551      1915    2234      1552     1621       1481\n",
       "Sugar           3384    3162      3766    3958      3266     3284       3180"
      ]
     },
     "execution_count": 46,
     "metadata": {},
     "output_type": "execute_result"
    }
   ],
   "source": [
    "# 2 columns\n",
    "pd.crosstab(index=df['sub_category'], columns=df['day'])"
   ]
  },
  {
   "cell_type": "code",
   "execution_count": 49,
   "metadata": {},
   "outputs": [
    {
     "data": {
      "text/html": [
       "<div>\n",
       "<style scoped>\n",
       "    .dataframe tbody tr th:only-of-type {\n",
       "        vertical-align: middle;\n",
       "    }\n",
       "\n",
       "    .dataframe tbody tr th {\n",
       "        vertical-align: top;\n",
       "    }\n",
       "\n",
       "    .dataframe thead th {\n",
       "        text-align: right;\n",
       "    }\n",
       "</style>\n",
       "<table border=\"1\" class=\"dataframe\">\n",
       "  <thead>\n",
       "    <tr style=\"text-align: right;\">\n",
       "      <th>sub_category</th>\n",
       "      <th>Detergent</th>\n",
       "      <th>Rice</th>\n",
       "      <th>Sugar</th>\n",
       "    </tr>\n",
       "    <tr>\n",
       "      <th>day</th>\n",
       "      <th></th>\n",
       "      <th></th>\n",
       "      <th></th>\n",
       "    </tr>\n",
       "  </thead>\n",
       "  <tbody>\n",
       "    <tr>\n",
       "      <th>Friday</th>\n",
       "      <td>5748</td>\n",
       "      <td>1646</td>\n",
       "      <td>3384</td>\n",
       "    </tr>\n",
       "    <tr>\n",
       "      <th>Monday</th>\n",
       "      <td>4337</td>\n",
       "      <td>1551</td>\n",
       "      <td>3162</td>\n",
       "    </tr>\n",
       "    <tr>\n",
       "      <th>Saturday</th>\n",
       "      <td>6147</td>\n",
       "      <td>1915</td>\n",
       "      <td>3766</td>\n",
       "    </tr>\n",
       "    <tr>\n",
       "      <th>Sunday</th>\n",
       "      <td>6381</td>\n",
       "      <td>2234</td>\n",
       "      <td>3958</td>\n",
       "    </tr>\n",
       "    <tr>\n",
       "      <th>Thursday</th>\n",
       "      <td>4320</td>\n",
       "      <td>1552</td>\n",
       "      <td>3266</td>\n",
       "    </tr>\n",
       "    <tr>\n",
       "      <th>Tuesday</th>\n",
       "      <td>4522</td>\n",
       "      <td>1621</td>\n",
       "      <td>3284</td>\n",
       "    </tr>\n",
       "    <tr>\n",
       "      <th>Wednesday</th>\n",
       "      <td>4545</td>\n",
       "      <td>1481</td>\n",
       "      <td>3180</td>\n",
       "    </tr>\n",
       "  </tbody>\n",
       "</table>\n",
       "</div>"
      ],
      "text/plain": [
       "sub_category  Detergent  Rice  Sugar\n",
       "day                                 \n",
       "Friday             5748  1646   3384\n",
       "Monday             4337  1551   3162\n",
       "Saturday           6147  1915   3766\n",
       "Sunday             6381  2234   3958\n",
       "Thursday           4320  1552   3266\n",
       "Tuesday            4522  1621   3284\n",
       "Wednesday          4545  1481   3180"
      ]
     },
     "execution_count": 49,
     "metadata": {},
     "output_type": "execute_result"
    }
   ],
   "source": [
    "# 2 columns\n",
    "pd.crosstab(index=df['day'], columns=df['sub_category'])"
   ]
  },
  {
   "cell_type": "code",
   "execution_count": 50,
   "metadata": {},
   "outputs": [
    {
     "data": {
      "text/html": [
       "<div>\n",
       "<style scoped>\n",
       "    .dataframe tbody tr th:only-of-type {\n",
       "        vertical-align: middle;\n",
       "    }\n",
       "\n",
       "    .dataframe tbody tr th {\n",
       "        vertical-align: top;\n",
       "    }\n",
       "\n",
       "    .dataframe thead th {\n",
       "        text-align: right;\n",
       "    }\n",
       "</style>\n",
       "<table border=\"1\" class=\"dataframe\">\n",
       "  <thead>\n",
       "    <tr style=\"text-align: right;\">\n",
       "      <th></th>\n",
       "      <th>day</th>\n",
       "      <th>Friday</th>\n",
       "      <th>Monday</th>\n",
       "      <th>Saturday</th>\n",
       "      <th>Sunday</th>\n",
       "      <th>Thursday</th>\n",
       "      <th>Tuesday</th>\n",
       "      <th>Wednesday</th>\n",
       "    </tr>\n",
       "    <tr>\n",
       "      <th>sub_category</th>\n",
       "      <th>format</th>\n",
       "      <th></th>\n",
       "      <th></th>\n",
       "      <th></th>\n",
       "      <th></th>\n",
       "      <th></th>\n",
       "      <th></th>\n",
       "      <th></th>\n",
       "    </tr>\n",
       "  </thead>\n",
       "  <tbody>\n",
       "    <tr>\n",
       "      <th rowspan=\"3\" valign=\"top\">Detergent</th>\n",
       "      <th>hypermarket</th>\n",
       "      <td>398</td>\n",
       "      <td>264</td>\n",
       "      <td>538</td>\n",
       "      <td>598</td>\n",
       "      <td>266</td>\n",
       "      <td>291</td>\n",
       "      <td>256</td>\n",
       "    </tr>\n",
       "    <tr>\n",
       "      <th>minimarket</th>\n",
       "      <td>3884</td>\n",
       "      <td>3003</td>\n",
       "      <td>4000</td>\n",
       "      <td>4097</td>\n",
       "      <td>3027</td>\n",
       "      <td>3108</td>\n",
       "      <td>3226</td>\n",
       "    </tr>\n",
       "    <tr>\n",
       "      <th>supermarket</th>\n",
       "      <td>1466</td>\n",
       "      <td>1070</td>\n",
       "      <td>1609</td>\n",
       "      <td>1686</td>\n",
       "      <td>1027</td>\n",
       "      <td>1123</td>\n",
       "      <td>1063</td>\n",
       "    </tr>\n",
       "    <tr>\n",
       "      <th rowspan=\"3\" valign=\"top\">Rice</th>\n",
       "      <th>hypermarket</th>\n",
       "      <td>154</td>\n",
       "      <td>111</td>\n",
       "      <td>175</td>\n",
       "      <td>263</td>\n",
       "      <td>100</td>\n",
       "      <td>94</td>\n",
       "      <td>102</td>\n",
       "    </tr>\n",
       "    <tr>\n",
       "      <th>minimarket</th>\n",
       "      <td>973</td>\n",
       "      <td>958</td>\n",
       "      <td>1100</td>\n",
       "      <td>1210</td>\n",
       "      <td>902</td>\n",
       "      <td>1011</td>\n",
       "      <td>934</td>\n",
       "    </tr>\n",
       "    <tr>\n",
       "      <th>supermarket</th>\n",
       "      <td>519</td>\n",
       "      <td>482</td>\n",
       "      <td>640</td>\n",
       "      <td>761</td>\n",
       "      <td>550</td>\n",
       "      <td>516</td>\n",
       "      <td>445</td>\n",
       "    </tr>\n",
       "    <tr>\n",
       "      <th rowspan=\"3\" valign=\"top\">Sugar</th>\n",
       "      <th>hypermarket</th>\n",
       "      <td>250</td>\n",
       "      <td>198</td>\n",
       "      <td>303</td>\n",
       "      <td>374</td>\n",
       "      <td>205</td>\n",
       "      <td>215</td>\n",
       "      <td>216</td>\n",
       "    </tr>\n",
       "    <tr>\n",
       "      <th>minimarket</th>\n",
       "      <td>2147</td>\n",
       "      <td>2083</td>\n",
       "      <td>2311</td>\n",
       "      <td>2390</td>\n",
       "      <td>2204</td>\n",
       "      <td>2150</td>\n",
       "      <td>2085</td>\n",
       "    </tr>\n",
       "    <tr>\n",
       "      <th>supermarket</th>\n",
       "      <td>987</td>\n",
       "      <td>881</td>\n",
       "      <td>1152</td>\n",
       "      <td>1194</td>\n",
       "      <td>857</td>\n",
       "      <td>919</td>\n",
       "      <td>879</td>\n",
       "    </tr>\n",
       "  </tbody>\n",
       "</table>\n",
       "</div>"
      ],
      "text/plain": [
       "day                       Friday  Monday  Saturday  Sunday  Thursday  Tuesday  \\\n",
       "sub_category format                                                             \n",
       "Detergent    hypermarket     398     264       538     598       266      291   \n",
       "             minimarket     3884    3003      4000    4097      3027     3108   \n",
       "             supermarket    1466    1070      1609    1686      1027     1123   \n",
       "Rice         hypermarket     154     111       175     263       100       94   \n",
       "             minimarket      973     958      1100    1210       902     1011   \n",
       "             supermarket     519     482       640     761       550      516   \n",
       "Sugar        hypermarket     250     198       303     374       205      215   \n",
       "             minimarket     2147    2083      2311    2390      2204     2150   \n",
       "             supermarket     987     881      1152    1194       857      919   \n",
       "\n",
       "day                       Wednesday  \n",
       "sub_category format                  \n",
       "Detergent    hypermarket        256  \n",
       "             minimarket        3226  \n",
       "             supermarket       1063  \n",
       "Rice         hypermarket        102  \n",
       "             minimarket         934  \n",
       "             supermarket        445  \n",
       "Sugar        hypermarket        216  \n",
       "             minimarket        2085  \n",
       "             supermarket        879  "
      ]
     },
     "execution_count": 50,
     "metadata": {},
     "output_type": "execute_result"
    }
   ],
   "source": [
    "# more than 2 columns\n",
    "pd.crosstab(index=[df['sub_category'], df['format']], columns=df['day'])"
   ]
  },
  {
   "cell_type": "code",
   "execution_count": 51,
   "metadata": {},
   "outputs": [
    {
     "data": {
      "text/html": [
       "<div>\n",
       "<style scoped>\n",
       "    .dataframe tbody tr th:only-of-type {\n",
       "        vertical-align: middle;\n",
       "    }\n",
       "\n",
       "    .dataframe tbody tr th {\n",
       "        vertical-align: top;\n",
       "    }\n",
       "\n",
       "    .dataframe thead th {\n",
       "        text-align: right;\n",
       "    }\n",
       "</style>\n",
       "<table border=\"1\" class=\"dataframe\">\n",
       "  <thead>\n",
       "    <tr style=\"text-align: right;\">\n",
       "      <th></th>\n",
       "      <th>day</th>\n",
       "      <th>Friday</th>\n",
       "      <th>Monday</th>\n",
       "      <th>Saturday</th>\n",
       "      <th>Sunday</th>\n",
       "      <th>Thursday</th>\n",
       "      <th>Tuesday</th>\n",
       "      <th>Wednesday</th>\n",
       "    </tr>\n",
       "    <tr>\n",
       "      <th>format</th>\n",
       "      <th>sub_category</th>\n",
       "      <th></th>\n",
       "      <th></th>\n",
       "      <th></th>\n",
       "      <th></th>\n",
       "      <th></th>\n",
       "      <th></th>\n",
       "      <th></th>\n",
       "    </tr>\n",
       "  </thead>\n",
       "  <tbody>\n",
       "    <tr>\n",
       "      <th rowspan=\"3\" valign=\"top\">hypermarket</th>\n",
       "      <th>Detergent</th>\n",
       "      <td>398</td>\n",
       "      <td>264</td>\n",
       "      <td>538</td>\n",
       "      <td>598</td>\n",
       "      <td>266</td>\n",
       "      <td>291</td>\n",
       "      <td>256</td>\n",
       "    </tr>\n",
       "    <tr>\n",
       "      <th>Rice</th>\n",
       "      <td>154</td>\n",
       "      <td>111</td>\n",
       "      <td>175</td>\n",
       "      <td>263</td>\n",
       "      <td>100</td>\n",
       "      <td>94</td>\n",
       "      <td>102</td>\n",
       "    </tr>\n",
       "    <tr>\n",
       "      <th>Sugar</th>\n",
       "      <td>250</td>\n",
       "      <td>198</td>\n",
       "      <td>303</td>\n",
       "      <td>374</td>\n",
       "      <td>205</td>\n",
       "      <td>215</td>\n",
       "      <td>216</td>\n",
       "    </tr>\n",
       "    <tr>\n",
       "      <th rowspan=\"3\" valign=\"top\">minimarket</th>\n",
       "      <th>Detergent</th>\n",
       "      <td>3884</td>\n",
       "      <td>3003</td>\n",
       "      <td>4000</td>\n",
       "      <td>4097</td>\n",
       "      <td>3027</td>\n",
       "      <td>3108</td>\n",
       "      <td>3226</td>\n",
       "    </tr>\n",
       "    <tr>\n",
       "      <th>Rice</th>\n",
       "      <td>973</td>\n",
       "      <td>958</td>\n",
       "      <td>1100</td>\n",
       "      <td>1210</td>\n",
       "      <td>902</td>\n",
       "      <td>1011</td>\n",
       "      <td>934</td>\n",
       "    </tr>\n",
       "    <tr>\n",
       "      <th>Sugar</th>\n",
       "      <td>2147</td>\n",
       "      <td>2083</td>\n",
       "      <td>2311</td>\n",
       "      <td>2390</td>\n",
       "      <td>2204</td>\n",
       "      <td>2150</td>\n",
       "      <td>2085</td>\n",
       "    </tr>\n",
       "    <tr>\n",
       "      <th rowspan=\"3\" valign=\"top\">supermarket</th>\n",
       "      <th>Detergent</th>\n",
       "      <td>1466</td>\n",
       "      <td>1070</td>\n",
       "      <td>1609</td>\n",
       "      <td>1686</td>\n",
       "      <td>1027</td>\n",
       "      <td>1123</td>\n",
       "      <td>1063</td>\n",
       "    </tr>\n",
       "    <tr>\n",
       "      <th>Rice</th>\n",
       "      <td>519</td>\n",
       "      <td>482</td>\n",
       "      <td>640</td>\n",
       "      <td>761</td>\n",
       "      <td>550</td>\n",
       "      <td>516</td>\n",
       "      <td>445</td>\n",
       "    </tr>\n",
       "    <tr>\n",
       "      <th>Sugar</th>\n",
       "      <td>987</td>\n",
       "      <td>881</td>\n",
       "      <td>1152</td>\n",
       "      <td>1194</td>\n",
       "      <td>857</td>\n",
       "      <td>919</td>\n",
       "      <td>879</td>\n",
       "    </tr>\n",
       "  </tbody>\n",
       "</table>\n",
       "</div>"
      ],
      "text/plain": [
       "day                       Friday  Monday  Saturday  Sunday  Thursday  Tuesday  \\\n",
       "format      sub_category                                                        \n",
       "hypermarket Detergent        398     264       538     598       266      291   \n",
       "            Rice             154     111       175     263       100       94   \n",
       "            Sugar            250     198       303     374       205      215   \n",
       "minimarket  Detergent       3884    3003      4000    4097      3027     3108   \n",
       "            Rice             973     958      1100    1210       902     1011   \n",
       "            Sugar           2147    2083      2311    2390      2204     2150   \n",
       "supermarket Detergent       1466    1070      1609    1686      1027     1123   \n",
       "            Rice             519     482       640     761       550      516   \n",
       "            Sugar            987     881      1152    1194       857      919   \n",
       "\n",
       "day                       Wednesday  \n",
       "format      sub_category             \n",
       "hypermarket Detergent           256  \n",
       "            Rice                102  \n",
       "            Sugar               216  \n",
       "minimarket  Detergent          3226  \n",
       "            Rice                934  \n",
       "            Sugar              2085  \n",
       "supermarket Detergent          1063  \n",
       "            Rice                445  \n",
       "            Sugar               879  "
      ]
     },
     "execution_count": 51,
     "metadata": {},
     "output_type": "execute_result"
    }
   ],
   "source": [
    "# more than 2 columns\n",
    "pd.crosstab(index=[df['format'], df['sub_category']], columns=df['day'])"
   ]
  },
  {
   "cell_type": "code",
   "execution_count": 54,
   "metadata": {},
   "outputs": [
    {
     "data": {
      "text/html": [
       "<div>\n",
       "<style scoped>\n",
       "    .dataframe tbody tr th:only-of-type {\n",
       "        vertical-align: middle;\n",
       "    }\n",
       "\n",
       "    .dataframe tbody tr th {\n",
       "        vertical-align: top;\n",
       "    }\n",
       "\n",
       "    .dataframe thead tr th {\n",
       "        text-align: left;\n",
       "    }\n",
       "\n",
       "    .dataframe thead tr:last-of-type th {\n",
       "        text-align: right;\n",
       "    }\n",
       "</style>\n",
       "<table border=\"1\" class=\"dataframe\">\n",
       "  <thead>\n",
       "    <tr>\n",
       "      <th>format</th>\n",
       "      <th colspan=\"3\" halign=\"left\">hypermarket</th>\n",
       "      <th colspan=\"3\" halign=\"left\">minimarket</th>\n",
       "      <th colspan=\"3\" halign=\"left\">supermarket</th>\n",
       "    </tr>\n",
       "    <tr>\n",
       "      <th>sub_category</th>\n",
       "      <th>Detergent</th>\n",
       "      <th>Rice</th>\n",
       "      <th>Sugar</th>\n",
       "      <th>Detergent</th>\n",
       "      <th>Rice</th>\n",
       "      <th>Sugar</th>\n",
       "      <th>Detergent</th>\n",
       "      <th>Rice</th>\n",
       "      <th>Sugar</th>\n",
       "    </tr>\n",
       "    <tr>\n",
       "      <th>day</th>\n",
       "      <th></th>\n",
       "      <th></th>\n",
       "      <th></th>\n",
       "      <th></th>\n",
       "      <th></th>\n",
       "      <th></th>\n",
       "      <th></th>\n",
       "      <th></th>\n",
       "      <th></th>\n",
       "    </tr>\n",
       "  </thead>\n",
       "  <tbody>\n",
       "    <tr>\n",
       "      <th>Friday</th>\n",
       "      <td>398</td>\n",
       "      <td>154</td>\n",
       "      <td>250</td>\n",
       "      <td>3884</td>\n",
       "      <td>973</td>\n",
       "      <td>2147</td>\n",
       "      <td>1466</td>\n",
       "      <td>519</td>\n",
       "      <td>987</td>\n",
       "    </tr>\n",
       "    <tr>\n",
       "      <th>Monday</th>\n",
       "      <td>264</td>\n",
       "      <td>111</td>\n",
       "      <td>198</td>\n",
       "      <td>3003</td>\n",
       "      <td>958</td>\n",
       "      <td>2083</td>\n",
       "      <td>1070</td>\n",
       "      <td>482</td>\n",
       "      <td>881</td>\n",
       "    </tr>\n",
       "    <tr>\n",
       "      <th>Saturday</th>\n",
       "      <td>538</td>\n",
       "      <td>175</td>\n",
       "      <td>303</td>\n",
       "      <td>4000</td>\n",
       "      <td>1100</td>\n",
       "      <td>2311</td>\n",
       "      <td>1609</td>\n",
       "      <td>640</td>\n",
       "      <td>1152</td>\n",
       "    </tr>\n",
       "    <tr>\n",
       "      <th>Sunday</th>\n",
       "      <td>598</td>\n",
       "      <td>263</td>\n",
       "      <td>374</td>\n",
       "      <td>4097</td>\n",
       "      <td>1210</td>\n",
       "      <td>2390</td>\n",
       "      <td>1686</td>\n",
       "      <td>761</td>\n",
       "      <td>1194</td>\n",
       "    </tr>\n",
       "    <tr>\n",
       "      <th>Thursday</th>\n",
       "      <td>266</td>\n",
       "      <td>100</td>\n",
       "      <td>205</td>\n",
       "      <td>3027</td>\n",
       "      <td>902</td>\n",
       "      <td>2204</td>\n",
       "      <td>1027</td>\n",
       "      <td>550</td>\n",
       "      <td>857</td>\n",
       "    </tr>\n",
       "    <tr>\n",
       "      <th>Tuesday</th>\n",
       "      <td>291</td>\n",
       "      <td>94</td>\n",
       "      <td>215</td>\n",
       "      <td>3108</td>\n",
       "      <td>1011</td>\n",
       "      <td>2150</td>\n",
       "      <td>1123</td>\n",
       "      <td>516</td>\n",
       "      <td>919</td>\n",
       "    </tr>\n",
       "    <tr>\n",
       "      <th>Wednesday</th>\n",
       "      <td>256</td>\n",
       "      <td>102</td>\n",
       "      <td>216</td>\n",
       "      <td>3226</td>\n",
       "      <td>934</td>\n",
       "      <td>2085</td>\n",
       "      <td>1063</td>\n",
       "      <td>445</td>\n",
       "      <td>879</td>\n",
       "    </tr>\n",
       "  </tbody>\n",
       "</table>\n",
       "</div>"
      ],
      "text/plain": [
       "format       hypermarket            minimarket             supermarket       \\\n",
       "sub_category   Detergent Rice Sugar  Detergent  Rice Sugar   Detergent Rice   \n",
       "day                                                                           \n",
       "Friday               398  154   250       3884   973  2147        1466  519   \n",
       "Monday               264  111   198       3003   958  2083        1070  482   \n",
       "Saturday             538  175   303       4000  1100  2311        1609  640   \n",
       "Sunday               598  263   374       4097  1210  2390        1686  761   \n",
       "Thursday             266  100   205       3027   902  2204        1027  550   \n",
       "Tuesday              291   94   215       3108  1011  2150        1123  516   \n",
       "Wednesday            256  102   216       3226   934  2085        1063  445   \n",
       "\n",
       "format              \n",
       "sub_category Sugar  \n",
       "day                 \n",
       "Friday         987  \n",
       "Monday         881  \n",
       "Saturday      1152  \n",
       "Sunday        1194  \n",
       "Thursday       857  \n",
       "Tuesday        919  \n",
       "Wednesday      879  "
      ]
     },
     "execution_count": 54,
     "metadata": {},
     "output_type": "execute_result"
    }
   ],
   "source": [
    "# more than 2 columns\n",
    "pd.crosstab(index=df['day'], columns=[df['format'], df['sub_category']])"
   ]
  },
  {
   "cell_type": "code",
   "execution_count": 55,
   "metadata": {},
   "outputs": [
    {
     "data": {
      "text/html": [
       "<div>\n",
       "<style scoped>\n",
       "    .dataframe tbody tr th:only-of-type {\n",
       "        vertical-align: middle;\n",
       "    }\n",
       "\n",
       "    .dataframe tbody tr th {\n",
       "        vertical-align: top;\n",
       "    }\n",
       "\n",
       "    .dataframe thead tr th {\n",
       "        text-align: left;\n",
       "    }\n",
       "\n",
       "    .dataframe thead tr:last-of-type th {\n",
       "        text-align: right;\n",
       "    }\n",
       "</style>\n",
       "<table border=\"1\" class=\"dataframe\">\n",
       "  <thead>\n",
       "    <tr>\n",
       "      <th></th>\n",
       "      <th>format</th>\n",
       "      <th colspan=\"3\" halign=\"left\">hypermarket</th>\n",
       "      <th colspan=\"3\" halign=\"left\">minimarket</th>\n",
       "      <th colspan=\"3\" halign=\"left\">supermarket</th>\n",
       "    </tr>\n",
       "    <tr>\n",
       "      <th></th>\n",
       "      <th>sub_category</th>\n",
       "      <th>Detergent</th>\n",
       "      <th>Rice</th>\n",
       "      <th>Sugar</th>\n",
       "      <th>Detergent</th>\n",
       "      <th>Rice</th>\n",
       "      <th>Sugar</th>\n",
       "      <th>Detergent</th>\n",
       "      <th>Rice</th>\n",
       "      <th>Sugar</th>\n",
       "    </tr>\n",
       "    <tr>\n",
       "      <th>year</th>\n",
       "      <th>day</th>\n",
       "      <th></th>\n",
       "      <th></th>\n",
       "      <th></th>\n",
       "      <th></th>\n",
       "      <th></th>\n",
       "      <th></th>\n",
       "      <th></th>\n",
       "      <th></th>\n",
       "      <th></th>\n",
       "    </tr>\n",
       "  </thead>\n",
       "  <tbody>\n",
       "    <tr>\n",
       "      <th rowspan=\"7\" valign=\"top\">2017</th>\n",
       "      <th>Friday</th>\n",
       "      <td>109</td>\n",
       "      <td>32</td>\n",
       "      <td>75</td>\n",
       "      <td>955</td>\n",
       "      <td>245</td>\n",
       "      <td>530</td>\n",
       "      <td>336</td>\n",
       "      <td>133</td>\n",
       "      <td>225</td>\n",
       "    </tr>\n",
       "    <tr>\n",
       "      <th>Monday</th>\n",
       "      <td>59</td>\n",
       "      <td>20</td>\n",
       "      <td>50</td>\n",
       "      <td>733</td>\n",
       "      <td>233</td>\n",
       "      <td>510</td>\n",
       "      <td>266</td>\n",
       "      <td>114</td>\n",
       "      <td>213</td>\n",
       "    </tr>\n",
       "    <tr>\n",
       "      <th>Saturday</th>\n",
       "      <td>128</td>\n",
       "      <td>42</td>\n",
       "      <td>76</td>\n",
       "      <td>1041</td>\n",
       "      <td>280</td>\n",
       "      <td>531</td>\n",
       "      <td>362</td>\n",
       "      <td>187</td>\n",
       "      <td>276</td>\n",
       "    </tr>\n",
       "    <tr>\n",
       "      <th>Sunday</th>\n",
       "      <td>152</td>\n",
       "      <td>71</td>\n",
       "      <td>100</td>\n",
       "      <td>1098</td>\n",
       "      <td>355</td>\n",
       "      <td>641</td>\n",
       "      <td>436</td>\n",
       "      <td>211</td>\n",
       "      <td>304</td>\n",
       "    </tr>\n",
       "    <tr>\n",
       "      <th>Thursday</th>\n",
       "      <td>57</td>\n",
       "      <td>19</td>\n",
       "      <td>49</td>\n",
       "      <td>754</td>\n",
       "      <td>225</td>\n",
       "      <td>517</td>\n",
       "      <td>275</td>\n",
       "      <td>127</td>\n",
       "      <td>238</td>\n",
       "    </tr>\n",
       "    <tr>\n",
       "      <th>Tuesday</th>\n",
       "      <td>69</td>\n",
       "      <td>20</td>\n",
       "      <td>54</td>\n",
       "      <td>765</td>\n",
       "      <td>221</td>\n",
       "      <td>545</td>\n",
       "      <td>267</td>\n",
       "      <td>131</td>\n",
       "      <td>255</td>\n",
       "    </tr>\n",
       "    <tr>\n",
       "      <th>Wednesday</th>\n",
       "      <td>63</td>\n",
       "      <td>21</td>\n",
       "      <td>49</td>\n",
       "      <td>843</td>\n",
       "      <td>205</td>\n",
       "      <td>522</td>\n",
       "      <td>232</td>\n",
       "      <td>108</td>\n",
       "      <td>240</td>\n",
       "    </tr>\n",
       "    <tr>\n",
       "      <th rowspan=\"7\" valign=\"top\">2018</th>\n",
       "      <th>Friday</th>\n",
       "      <td>289</td>\n",
       "      <td>122</td>\n",
       "      <td>175</td>\n",
       "      <td>2929</td>\n",
       "      <td>728</td>\n",
       "      <td>1617</td>\n",
       "      <td>1130</td>\n",
       "      <td>386</td>\n",
       "      <td>762</td>\n",
       "    </tr>\n",
       "    <tr>\n",
       "      <th>Monday</th>\n",
       "      <td>205</td>\n",
       "      <td>91</td>\n",
       "      <td>148</td>\n",
       "      <td>2270</td>\n",
       "      <td>725</td>\n",
       "      <td>1573</td>\n",
       "      <td>804</td>\n",
       "      <td>368</td>\n",
       "      <td>668</td>\n",
       "    </tr>\n",
       "    <tr>\n",
       "      <th>Saturday</th>\n",
       "      <td>410</td>\n",
       "      <td>133</td>\n",
       "      <td>227</td>\n",
       "      <td>2959</td>\n",
       "      <td>820</td>\n",
       "      <td>1780</td>\n",
       "      <td>1247</td>\n",
       "      <td>453</td>\n",
       "      <td>876</td>\n",
       "    </tr>\n",
       "    <tr>\n",
       "      <th>Sunday</th>\n",
       "      <td>446</td>\n",
       "      <td>192</td>\n",
       "      <td>274</td>\n",
       "      <td>2999</td>\n",
       "      <td>855</td>\n",
       "      <td>1749</td>\n",
       "      <td>1250</td>\n",
       "      <td>550</td>\n",
       "      <td>890</td>\n",
       "    </tr>\n",
       "    <tr>\n",
       "      <th>Thursday</th>\n",
       "      <td>209</td>\n",
       "      <td>81</td>\n",
       "      <td>156</td>\n",
       "      <td>2273</td>\n",
       "      <td>677</td>\n",
       "      <td>1687</td>\n",
       "      <td>752</td>\n",
       "      <td>423</td>\n",
       "      <td>619</td>\n",
       "    </tr>\n",
       "    <tr>\n",
       "      <th>Tuesday</th>\n",
       "      <td>222</td>\n",
       "      <td>74</td>\n",
       "      <td>161</td>\n",
       "      <td>2343</td>\n",
       "      <td>790</td>\n",
       "      <td>1605</td>\n",
       "      <td>856</td>\n",
       "      <td>385</td>\n",
       "      <td>664</td>\n",
       "    </tr>\n",
       "    <tr>\n",
       "      <th>Wednesday</th>\n",
       "      <td>193</td>\n",
       "      <td>81</td>\n",
       "      <td>167</td>\n",
       "      <td>2383</td>\n",
       "      <td>729</td>\n",
       "      <td>1563</td>\n",
       "      <td>831</td>\n",
       "      <td>337</td>\n",
       "      <td>639</td>\n",
       "    </tr>\n",
       "  </tbody>\n",
       "</table>\n",
       "</div>"
      ],
      "text/plain": [
       "format         hypermarket            minimarket            supermarket       \\\n",
       "sub_category     Detergent Rice Sugar  Detergent Rice Sugar   Detergent Rice   \n",
       "year day                                                                       \n",
       "2017 Friday            109   32    75        955  245   530         336  133   \n",
       "     Monday             59   20    50        733  233   510         266  114   \n",
       "     Saturday          128   42    76       1041  280   531         362  187   \n",
       "     Sunday            152   71   100       1098  355   641         436  211   \n",
       "     Thursday           57   19    49        754  225   517         275  127   \n",
       "     Tuesday            69   20    54        765  221   545         267  131   \n",
       "     Wednesday          63   21    49        843  205   522         232  108   \n",
       "2018 Friday            289  122   175       2929  728  1617        1130  386   \n",
       "     Monday            205   91   148       2270  725  1573         804  368   \n",
       "     Saturday          410  133   227       2959  820  1780        1247  453   \n",
       "     Sunday            446  192   274       2999  855  1749        1250  550   \n",
       "     Thursday          209   81   156       2273  677  1687         752  423   \n",
       "     Tuesday           222   74   161       2343  790  1605         856  385   \n",
       "     Wednesday         193   81   167       2383  729  1563         831  337   \n",
       "\n",
       "format                \n",
       "sub_category   Sugar  \n",
       "year day              \n",
       "2017 Friday      225  \n",
       "     Monday      213  \n",
       "     Saturday    276  \n",
       "     Sunday      304  \n",
       "     Thursday    238  \n",
       "     Tuesday     255  \n",
       "     Wednesday   240  \n",
       "2018 Friday      762  \n",
       "     Monday      668  \n",
       "     Saturday    876  \n",
       "     Sunday      890  \n",
       "     Thursday    619  \n",
       "     Tuesday     664  \n",
       "     Wednesday   639  "
      ]
     },
     "execution_count": 55,
     "metadata": {},
     "output_type": "execute_result"
    }
   ],
   "source": [
    "# more than 2 columns\n",
    "pd.crosstab(index=[df['year'], df['day']], columns=[df['format'], df['sub_category']])"
   ]
  },
  {
   "cell_type": "code",
   "execution_count": 57,
   "metadata": {},
   "outputs": [
    {
     "data": {
      "text/html": [
       "<div>\n",
       "<style scoped>\n",
       "    .dataframe tbody tr th:only-of-type {\n",
       "        vertical-align: middle;\n",
       "    }\n",
       "\n",
       "    .dataframe tbody tr th {\n",
       "        vertical-align: top;\n",
       "    }\n",
       "\n",
       "    .dataframe thead th {\n",
       "        text-align: right;\n",
       "    }\n",
       "</style>\n",
       "<table border=\"1\" class=\"dataframe\">\n",
       "  <thead>\n",
       "    <tr style=\"text-align: right;\">\n",
       "      <th></th>\n",
       "      <th></th>\n",
       "      <th>col_0</th>\n",
       "      <th>count</th>\n",
       "    </tr>\n",
       "    <tr>\n",
       "      <th>format</th>\n",
       "      <th>sub_category</th>\n",
       "      <th>day</th>\n",
       "      <th></th>\n",
       "    </tr>\n",
       "  </thead>\n",
       "  <tbody>\n",
       "    <tr>\n",
       "      <th rowspan=\"5\" valign=\"top\">hypermarket</th>\n",
       "      <th rowspan=\"5\" valign=\"top\">Detergent</th>\n",
       "      <th>Friday</th>\n",
       "      <td>398</td>\n",
       "    </tr>\n",
       "    <tr>\n",
       "      <th>Monday</th>\n",
       "      <td>264</td>\n",
       "    </tr>\n",
       "    <tr>\n",
       "      <th>Saturday</th>\n",
       "      <td>538</td>\n",
       "    </tr>\n",
       "    <tr>\n",
       "      <th>Sunday</th>\n",
       "      <td>598</td>\n",
       "    </tr>\n",
       "    <tr>\n",
       "      <th>Thursday</th>\n",
       "      <td>266</td>\n",
       "    </tr>\n",
       "    <tr>\n",
       "      <th>...</th>\n",
       "      <th>...</th>\n",
       "      <th>...</th>\n",
       "      <td>...</td>\n",
       "    </tr>\n",
       "    <tr>\n",
       "      <th rowspan=\"5\" valign=\"top\">supermarket</th>\n",
       "      <th rowspan=\"5\" valign=\"top\">Sugar</th>\n",
       "      <th>Saturday</th>\n",
       "      <td>1152</td>\n",
       "    </tr>\n",
       "    <tr>\n",
       "      <th>Sunday</th>\n",
       "      <td>1194</td>\n",
       "    </tr>\n",
       "    <tr>\n",
       "      <th>Thursday</th>\n",
       "      <td>857</td>\n",
       "    </tr>\n",
       "    <tr>\n",
       "      <th>Tuesday</th>\n",
       "      <td>919</td>\n",
       "    </tr>\n",
       "    <tr>\n",
       "      <th>Wednesday</th>\n",
       "      <td>879</td>\n",
       "    </tr>\n",
       "  </tbody>\n",
       "</table>\n",
       "<p>63 rows × 1 columns</p>\n",
       "</div>"
      ],
      "text/plain": [
       "col_0                               count\n",
       "format      sub_category day             \n",
       "hypermarket Detergent    Friday       398\n",
       "                         Monday       264\n",
       "                         Saturday     538\n",
       "                         Sunday       598\n",
       "                         Thursday     266\n",
       "...                                   ...\n",
       "supermarket Sugar        Saturday    1152\n",
       "                         Sunday      1194\n",
       "                         Thursday     857\n",
       "                         Tuesday      919\n",
       "                         Wednesday    879\n",
       "\n",
       "[63 rows x 1 columns]"
      ]
     },
     "execution_count": 57,
     "metadata": {},
     "output_type": "execute_result"
    }
   ],
   "source": [
    "pd.crosstab(index=[df['format'], df['sub_category'], df['day']], columns='count')"
   ]
  },
  {
   "cell_type": "code",
   "execution_count": null,
   "metadata": {},
   "outputs": [],
   "source": [
    "# if you torture the data long enough, it will confess"
   ]
  },
  {
   "cell_type": "markdown",
   "metadata": {},
   "source": [
    "normalize"
   ]
  },
  {
   "cell_type": "code",
   "execution_count": 58,
   "metadata": {},
   "outputs": [
    {
     "data": {
      "text/html": [
       "<div>\n",
       "<style scoped>\n",
       "    .dataframe tbody tr th:only-of-type {\n",
       "        vertical-align: middle;\n",
       "    }\n",
       "\n",
       "    .dataframe tbody tr th {\n",
       "        vertical-align: top;\n",
       "    }\n",
       "\n",
       "    .dataframe thead th {\n",
       "        text-align: right;\n",
       "    }\n",
       "</style>\n",
       "<table border=\"1\" class=\"dataframe\">\n",
       "  <thead>\n",
       "    <tr style=\"text-align: right;\">\n",
       "      <th>sub_category</th>\n",
       "      <th>Detergent</th>\n",
       "      <th>Rice</th>\n",
       "      <th>Sugar</th>\n",
       "    </tr>\n",
       "    <tr>\n",
       "      <th>format</th>\n",
       "      <th></th>\n",
       "      <th></th>\n",
       "      <th></th>\n",
       "    </tr>\n",
       "  </thead>\n",
       "  <tbody>\n",
       "    <tr>\n",
       "      <th>hypermarket</th>\n",
       "      <td>3.63</td>\n",
       "      <td>1.39</td>\n",
       "      <td>2.45</td>\n",
       "    </tr>\n",
       "    <tr>\n",
       "      <th>minimarket</th>\n",
       "      <td>33.81</td>\n",
       "      <td>9.84</td>\n",
       "      <td>21.35</td>\n",
       "    </tr>\n",
       "    <tr>\n",
       "      <th>supermarket</th>\n",
       "      <td>12.56</td>\n",
       "      <td>5.43</td>\n",
       "      <td>9.54</td>\n",
       "    </tr>\n",
       "  </tbody>\n",
       "</table>\n",
       "</div>"
      ],
      "text/plain": [
       "sub_category  Detergent  Rice  Sugar\n",
       "format                              \n",
       "hypermarket        3.63  1.39   2.45\n",
       "minimarket        33.81  9.84  21.35\n",
       "supermarket       12.56  5.43   9.54"
      ]
     },
     "execution_count": 58,
     "metadata": {},
     "output_type": "execute_result"
    }
   ],
   "source": [
    "(pd.crosstab(index=df['format'], columns=df['sub_category'], normalize=True) * 100).round(2)"
   ]
  },
  {
   "cell_type": "code",
   "execution_count": 59,
   "metadata": {},
   "outputs": [
    {
     "data": {
      "text/html": [
       "<div>\n",
       "<style scoped>\n",
       "    .dataframe tbody tr th:only-of-type {\n",
       "        vertical-align: middle;\n",
       "    }\n",
       "\n",
       "    .dataframe tbody tr th {\n",
       "        vertical-align: top;\n",
       "    }\n",
       "\n",
       "    .dataframe thead th {\n",
       "        text-align: right;\n",
       "    }\n",
       "</style>\n",
       "<table border=\"1\" class=\"dataframe\">\n",
       "  <thead>\n",
       "    <tr style=\"text-align: right;\">\n",
       "      <th>sub_category</th>\n",
       "      <th>Detergent</th>\n",
       "      <th>Rice</th>\n",
       "      <th>Sugar</th>\n",
       "    </tr>\n",
       "    <tr>\n",
       "      <th>format</th>\n",
       "      <th></th>\n",
       "      <th></th>\n",
       "      <th></th>\n",
       "    </tr>\n",
       "  </thead>\n",
       "  <tbody>\n",
       "    <tr>\n",
       "      <th>hypermarket</th>\n",
       "      <td>3.63</td>\n",
       "      <td>1.39</td>\n",
       "      <td>2.45</td>\n",
       "    </tr>\n",
       "    <tr>\n",
       "      <th>minimarket</th>\n",
       "      <td>33.81</td>\n",
       "      <td>9.84</td>\n",
       "      <td>21.35</td>\n",
       "    </tr>\n",
       "    <tr>\n",
       "      <th>supermarket</th>\n",
       "      <td>12.56</td>\n",
       "      <td>5.43</td>\n",
       "      <td>9.54</td>\n",
       "    </tr>\n",
       "  </tbody>\n",
       "</table>\n",
       "</div>"
      ],
      "text/plain": [
       "sub_category  Detergent  Rice  Sugar\n",
       "format                              \n",
       "hypermarket        3.63  1.39   2.45\n",
       "minimarket        33.81  9.84  21.35\n",
       "supermarket       12.56  5.43   9.54"
      ]
     },
     "execution_count": 59,
     "metadata": {},
     "output_type": "execute_result"
    }
   ],
   "source": [
    "(pd.crosstab(index=df['format'], columns=df['sub_category'], normalize='all') * 100).round(2)\n",
    "# normalize True dan all --> fokus di keseluruhan"
   ]
  },
  {
   "cell_type": "code",
   "execution_count": 62,
   "metadata": {},
   "outputs": [
    {
     "data": {
      "text/html": [
       "<div>\n",
       "<style scoped>\n",
       "    .dataframe tbody tr th:only-of-type {\n",
       "        vertical-align: middle;\n",
       "    }\n",
       "\n",
       "    .dataframe tbody tr th {\n",
       "        vertical-align: top;\n",
       "    }\n",
       "\n",
       "    .dataframe thead th {\n",
       "        text-align: right;\n",
       "    }\n",
       "</style>\n",
       "<table border=\"1\" class=\"dataframe\">\n",
       "  <thead>\n",
       "    <tr style=\"text-align: right;\">\n",
       "      <th>sub_category</th>\n",
       "      <th>Detergent</th>\n",
       "      <th>Rice</th>\n",
       "      <th>Sugar</th>\n",
       "    </tr>\n",
       "    <tr>\n",
       "      <th>format</th>\n",
       "      <th></th>\n",
       "      <th></th>\n",
       "      <th></th>\n",
       "    </tr>\n",
       "  </thead>\n",
       "  <tbody>\n",
       "    <tr>\n",
       "      <th>hypermarket</th>\n",
       "      <td>48.612921</td>\n",
       "      <td>18.599888</td>\n",
       "      <td>32.787190</td>\n",
       "    </tr>\n",
       "    <tr>\n",
       "      <th>minimarket</th>\n",
       "      <td>52.015896</td>\n",
       "      <td>15.144328</td>\n",
       "      <td>32.839775</td>\n",
       "    </tr>\n",
       "    <tr>\n",
       "      <th>supermarket</th>\n",
       "      <td>45.616867</td>\n",
       "      <td>19.736709</td>\n",
       "      <td>34.646424</td>\n",
       "    </tr>\n",
       "  </tbody>\n",
       "</table>\n",
       "</div>"
      ],
      "text/plain": [
       "sub_category  Detergent       Rice      Sugar\n",
       "format                                       \n",
       "hypermarket   48.612921  18.599888  32.787190\n",
       "minimarket    52.015896  15.144328  32.839775\n",
       "supermarket   45.616867  19.736709  34.646424"
      ]
     },
     "execution_count": 62,
     "metadata": {},
     "output_type": "execute_result"
    }
   ],
   "source": [
    "(pd.crosstab(index=df['format'], columns=df['sub_category'], normalize='index') * 100)\n",
    "# normalize True dan index --> fokus di index"
   ]
  },
  {
   "cell_type": "code",
   "execution_count": 61,
   "metadata": {},
   "outputs": [
    {
     "data": {
      "text/html": [
       "<div>\n",
       "<style scoped>\n",
       "    .dataframe tbody tr th:only-of-type {\n",
       "        vertical-align: middle;\n",
       "    }\n",
       "\n",
       "    .dataframe tbody tr th {\n",
       "        vertical-align: top;\n",
       "    }\n",
       "\n",
       "    .dataframe thead th {\n",
       "        text-align: right;\n",
       "    }\n",
       "</style>\n",
       "<table border=\"1\" class=\"dataframe\">\n",
       "  <thead>\n",
       "    <tr style=\"text-align: right;\">\n",
       "      <th>sub_category</th>\n",
       "      <th>Detergent</th>\n",
       "      <th>Rice</th>\n",
       "      <th>Sugar</th>\n",
       "    </tr>\n",
       "    <tr>\n",
       "      <th>format</th>\n",
       "      <th></th>\n",
       "      <th></th>\n",
       "      <th></th>\n",
       "    </tr>\n",
       "  </thead>\n",
       "  <tbody>\n",
       "    <tr>\n",
       "      <th>hypermarket</th>\n",
       "      <td>7.25</td>\n",
       "      <td>8.33</td>\n",
       "      <td>7.34</td>\n",
       "    </tr>\n",
       "    <tr>\n",
       "      <th>minimarket</th>\n",
       "      <td>67.62</td>\n",
       "      <td>59.07</td>\n",
       "      <td>64.04</td>\n",
       "    </tr>\n",
       "    <tr>\n",
       "      <th>supermarket</th>\n",
       "      <td>25.12</td>\n",
       "      <td>32.61</td>\n",
       "      <td>28.62</td>\n",
       "    </tr>\n",
       "  </tbody>\n",
       "</table>\n",
       "</div>"
      ],
      "text/plain": [
       "sub_category  Detergent   Rice  Sugar\n",
       "format                               \n",
       "hypermarket        7.25   8.33   7.34\n",
       "minimarket        67.62  59.07  64.04\n",
       "supermarket       25.12  32.61  28.62"
      ]
     },
     "execution_count": 61,
     "metadata": {},
     "output_type": "execute_result"
    }
   ],
   "source": [
    "(pd.crosstab(index=df['format'], columns=df['sub_category'], normalize='columns') * 100).round(2)\n",
    "# normalize True dan index --> fokus di column"
   ]
  },
  {
   "cell_type": "code",
   "execution_count": 65,
   "metadata": {},
   "outputs": [
    {
     "data": {
      "text/html": [
       "<div>\n",
       "<style scoped>\n",
       "    .dataframe tbody tr th:only-of-type {\n",
       "        vertical-align: middle;\n",
       "    }\n",
       "\n",
       "    .dataframe tbody tr th {\n",
       "        vertical-align: top;\n",
       "    }\n",
       "\n",
       "    .dataframe thead th {\n",
       "        text-align: right;\n",
       "    }\n",
       "</style>\n",
       "<table border=\"1\" class=\"dataframe\">\n",
       "  <thead>\n",
       "    <tr style=\"text-align: right;\">\n",
       "      <th>sub_category</th>\n",
       "      <th>Detergent</th>\n",
       "      <th>Rice</th>\n",
       "      <th>Sugar</th>\n",
       "      <th>All</th>\n",
       "    </tr>\n",
       "    <tr>\n",
       "      <th>format</th>\n",
       "      <th></th>\n",
       "      <th></th>\n",
       "      <th></th>\n",
       "      <th></th>\n",
       "    </tr>\n",
       "  </thead>\n",
       "  <tbody>\n",
       "    <tr>\n",
       "      <th>hypermarket</th>\n",
       "      <td>3.626389</td>\n",
       "      <td>1.387500</td>\n",
       "      <td>2.445833</td>\n",
       "      <td>7.459722</td>\n",
       "    </tr>\n",
       "    <tr>\n",
       "      <th>minimarket</th>\n",
       "      <td>33.812500</td>\n",
       "      <td>9.844444</td>\n",
       "      <td>21.347222</td>\n",
       "      <td>65.004167</td>\n",
       "    </tr>\n",
       "    <tr>\n",
       "      <th>supermarket</th>\n",
       "      <td>12.561111</td>\n",
       "      <td>5.434722</td>\n",
       "      <td>9.540278</td>\n",
       "      <td>27.536111</td>\n",
       "    </tr>\n",
       "    <tr>\n",
       "      <th>All</th>\n",
       "      <td>50.000000</td>\n",
       "      <td>16.666667</td>\n",
       "      <td>33.333333</td>\n",
       "      <td>100.000000</td>\n",
       "    </tr>\n",
       "  </tbody>\n",
       "</table>\n",
       "</div>"
      ],
      "text/plain": [
       "sub_category  Detergent       Rice      Sugar         All\n",
       "format                                                   \n",
       "hypermarket    3.626389   1.387500   2.445833    7.459722\n",
       "minimarket    33.812500   9.844444  21.347222   65.004167\n",
       "supermarket   12.561111   5.434722   9.540278   27.536111\n",
       "All           50.000000  16.666667  33.333333  100.000000"
      ]
     },
     "execution_count": 65,
     "metadata": {},
     "output_type": "execute_result"
    }
   ],
   "source": [
    "pd.crosstab(index=df['format'], columns=df['sub_category'], margins=True, normalize='all') * 100"
   ]
  },
  {
   "cell_type": "code",
   "execution_count": 66,
   "metadata": {},
   "outputs": [
    {
     "data": {
      "text/html": [
       "<div>\n",
       "<style scoped>\n",
       "    .dataframe tbody tr th:only-of-type {\n",
       "        vertical-align: middle;\n",
       "    }\n",
       "\n",
       "    .dataframe tbody tr th {\n",
       "        vertical-align: top;\n",
       "    }\n",
       "\n",
       "    .dataframe thead th {\n",
       "        text-align: right;\n",
       "    }\n",
       "</style>\n",
       "<table border=\"1\" class=\"dataframe\">\n",
       "  <thead>\n",
       "    <tr style=\"text-align: right;\">\n",
       "      <th>sub_category</th>\n",
       "      <th>Detergent</th>\n",
       "      <th>Rice</th>\n",
       "      <th>Sugar</th>\n",
       "    </tr>\n",
       "    <tr>\n",
       "      <th>format</th>\n",
       "      <th></th>\n",
       "      <th></th>\n",
       "      <th></th>\n",
       "    </tr>\n",
       "  </thead>\n",
       "  <tbody>\n",
       "    <tr>\n",
       "      <th>hypermarket</th>\n",
       "      <td>48.612921</td>\n",
       "      <td>18.599888</td>\n",
       "      <td>32.787190</td>\n",
       "    </tr>\n",
       "    <tr>\n",
       "      <th>minimarket</th>\n",
       "      <td>52.015896</td>\n",
       "      <td>15.144328</td>\n",
       "      <td>32.839775</td>\n",
       "    </tr>\n",
       "    <tr>\n",
       "      <th>supermarket</th>\n",
       "      <td>45.616867</td>\n",
       "      <td>19.736709</td>\n",
       "      <td>34.646424</td>\n",
       "    </tr>\n",
       "    <tr>\n",
       "      <th>All</th>\n",
       "      <td>50.000000</td>\n",
       "      <td>16.666667</td>\n",
       "      <td>33.333333</td>\n",
       "    </tr>\n",
       "  </tbody>\n",
       "</table>\n",
       "</div>"
      ],
      "text/plain": [
       "sub_category  Detergent       Rice      Sugar\n",
       "format                                       \n",
       "hypermarket   48.612921  18.599888  32.787190\n",
       "minimarket    52.015896  15.144328  32.839775\n",
       "supermarket   45.616867  19.736709  34.646424\n",
       "All           50.000000  16.666667  33.333333"
      ]
     },
     "execution_count": 66,
     "metadata": {},
     "output_type": "execute_result"
    }
   ],
   "source": [
    "pd.crosstab(index=df['format'], columns=df['sub_category'], margins=True, normalize='index') * 100"
   ]
  },
  {
   "cell_type": "code",
   "execution_count": 68,
   "metadata": {},
   "outputs": [
    {
     "data": {
      "text/html": [
       "<div>\n",
       "<style scoped>\n",
       "    .dataframe tbody tr th:only-of-type {\n",
       "        vertical-align: middle;\n",
       "    }\n",
       "\n",
       "    .dataframe tbody tr th {\n",
       "        vertical-align: top;\n",
       "    }\n",
       "\n",
       "    .dataframe thead th {\n",
       "        text-align: right;\n",
       "    }\n",
       "</style>\n",
       "<table border=\"1\" class=\"dataframe\">\n",
       "  <thead>\n",
       "    <tr style=\"text-align: right;\">\n",
       "      <th>sub_category</th>\n",
       "      <th>Detergent</th>\n",
       "      <th>Rice</th>\n",
       "      <th>Sugar</th>\n",
       "      <th>All</th>\n",
       "    </tr>\n",
       "    <tr>\n",
       "      <th>format</th>\n",
       "      <th></th>\n",
       "      <th></th>\n",
       "      <th></th>\n",
       "      <th></th>\n",
       "    </tr>\n",
       "  </thead>\n",
       "  <tbody>\n",
       "    <tr>\n",
       "      <th>hypermarket</th>\n",
       "      <td>7.252778</td>\n",
       "      <td>8.325000</td>\n",
       "      <td>7.337500</td>\n",
       "      <td>7.459722</td>\n",
       "    </tr>\n",
       "    <tr>\n",
       "      <th>minimarket</th>\n",
       "      <td>67.625000</td>\n",
       "      <td>59.066667</td>\n",
       "      <td>64.041667</td>\n",
       "      <td>65.004167</td>\n",
       "    </tr>\n",
       "    <tr>\n",
       "      <th>supermarket</th>\n",
       "      <td>25.122222</td>\n",
       "      <td>32.608333</td>\n",
       "      <td>28.620833</td>\n",
       "      <td>27.536111</td>\n",
       "    </tr>\n",
       "  </tbody>\n",
       "</table>\n",
       "</div>"
      ],
      "text/plain": [
       "sub_category  Detergent       Rice      Sugar        All\n",
       "format                                                  \n",
       "hypermarket    7.252778   8.325000   7.337500   7.459722\n",
       "minimarket    67.625000  59.066667  64.041667  65.004167\n",
       "supermarket   25.122222  32.608333  28.620833  27.536111"
      ]
     },
     "execution_count": 68,
     "metadata": {},
     "output_type": "execute_result"
    }
   ],
   "source": [
    "pd.crosstab(index=df['format'], columns=df['sub_category'], margins=True, normalize='columns') * 100"
   ]
  },
  {
   "cell_type": "code",
   "execution_count": null,
   "metadata": {},
   "outputs": [],
   "source": [
    "transaksi di minimarket 65%"
   ]
  },
  {
   "cell_type": "markdown",
   "metadata": {},
   "source": [
    "#### Aggregate Function - Dataframe\n",
    "- Menggunakan minimal satu kolom yang bertipe numerik\n",
    "- kolom tersebut akan dikombinasikan dengan kolom kategorik\n",
    "\n",
    "==> Syarat\n",
    "- parameter `values` HARUS DIISI ==> berisi kolom numerik\n",
    "- parameter `aggfunc` HARUS DIISI ==> berisi aggregate function yg akan digunakan"
   ]
  },
  {
   "cell_type": "code",
   "execution_count": 69,
   "metadata": {},
   "outputs": [
    {
     "data": {
      "text/html": [
       "<div>\n",
       "<style scoped>\n",
       "    .dataframe tbody tr th:only-of-type {\n",
       "        vertical-align: middle;\n",
       "    }\n",
       "\n",
       "    .dataframe tbody tr th {\n",
       "        vertical-align: top;\n",
       "    }\n",
       "\n",
       "    .dataframe thead th {\n",
       "        text-align: right;\n",
       "    }\n",
       "</style>\n",
       "<table border=\"1\" class=\"dataframe\">\n",
       "  <thead>\n",
       "    <tr style=\"text-align: right;\">\n",
       "      <th></th>\n",
       "      <th>receipts_item_id</th>\n",
       "      <th>purchase_time</th>\n",
       "      <th>category</th>\n",
       "      <th>sub_category</th>\n",
       "      <th>format</th>\n",
       "      <th>unit_price</th>\n",
       "      <th>discount</th>\n",
       "      <th>quantity</th>\n",
       "      <th>month</th>\n",
       "      <th>year</th>\n",
       "      <th>day</th>\n",
       "      <th>quarter</th>\n",
       "      <th>Total</th>\n",
       "      <th>custom</th>\n",
       "    </tr>\n",
       "    <tr>\n",
       "      <th>receipt_id</th>\n",
       "      <th></th>\n",
       "      <th></th>\n",
       "      <th></th>\n",
       "      <th></th>\n",
       "      <th></th>\n",
       "      <th></th>\n",
       "      <th></th>\n",
       "      <th></th>\n",
       "      <th></th>\n",
       "      <th></th>\n",
       "      <th></th>\n",
       "      <th></th>\n",
       "      <th></th>\n",
       "      <th></th>\n",
       "    </tr>\n",
       "  </thead>\n",
       "  <tbody>\n",
       "    <tr>\n",
       "      <th>9622257</th>\n",
       "      <td>32369294</td>\n",
       "      <td>2018-07-22 21:19:00</td>\n",
       "      <td>Rice</td>\n",
       "      <td>Rice</td>\n",
       "      <td>supermarket</td>\n",
       "      <td>128000.0</td>\n",
       "      <td>0</td>\n",
       "      <td>1</td>\n",
       "      <td>July</td>\n",
       "      <td>2018</td>\n",
       "      <td>Sunday</td>\n",
       "      <td>2018Q3</td>\n",
       "      <td>128000.0</td>\n",
       "      <td>July - 21 : 21</td>\n",
       "    </tr>\n",
       "    <tr>\n",
       "      <th>9446359</th>\n",
       "      <td>31885876</td>\n",
       "      <td>2018-07-15 16:17:00</td>\n",
       "      <td>Rice</td>\n",
       "      <td>Rice</td>\n",
       "      <td>minimarket</td>\n",
       "      <td>102750.0</td>\n",
       "      <td>0</td>\n",
       "      <td>1</td>\n",
       "      <td>July</td>\n",
       "      <td>2018</td>\n",
       "      <td>Sunday</td>\n",
       "      <td>2018Q3</td>\n",
       "      <td>102750.0</td>\n",
       "      <td>July - 16 : 16</td>\n",
       "    </tr>\n",
       "    <tr>\n",
       "      <th>9470290</th>\n",
       "      <td>31930241</td>\n",
       "      <td>2018-07-15 12:12:00</td>\n",
       "      <td>Rice</td>\n",
       "      <td>Rice</td>\n",
       "      <td>supermarket</td>\n",
       "      <td>64000.0</td>\n",
       "      <td>0</td>\n",
       "      <td>3</td>\n",
       "      <td>July</td>\n",
       "      <td>2018</td>\n",
       "      <td>Sunday</td>\n",
       "      <td>2018Q3</td>\n",
       "      <td>192000.0</td>\n",
       "      <td>July - 12 : 12</td>\n",
       "    </tr>\n",
       "    <tr>\n",
       "      <th>9643416</th>\n",
       "      <td>32418582</td>\n",
       "      <td>2018-07-24 08:27:00</td>\n",
       "      <td>Rice</td>\n",
       "      <td>Rice</td>\n",
       "      <td>minimarket</td>\n",
       "      <td>65000.0</td>\n",
       "      <td>0</td>\n",
       "      <td>1</td>\n",
       "      <td>July</td>\n",
       "      <td>2018</td>\n",
       "      <td>Tuesday</td>\n",
       "      <td>2018Q3</td>\n",
       "      <td>65000.0</td>\n",
       "      <td>July - 08 : 08</td>\n",
       "    </tr>\n",
       "    <tr>\n",
       "      <th>9692093</th>\n",
       "      <td>32561236</td>\n",
       "      <td>2018-07-26 11:28:00</td>\n",
       "      <td>Rice</td>\n",
       "      <td>Rice</td>\n",
       "      <td>supermarket</td>\n",
       "      <td>124500.0</td>\n",
       "      <td>0</td>\n",
       "      <td>1</td>\n",
       "      <td>July</td>\n",
       "      <td>2018</td>\n",
       "      <td>Thursday</td>\n",
       "      <td>2018Q3</td>\n",
       "      <td>124500.0</td>\n",
       "      <td>July - 11 : 11</td>\n",
       "    </tr>\n",
       "  </tbody>\n",
       "</table>\n",
       "</div>"
      ],
      "text/plain": [
       "            receipts_item_id       purchase_time category sub_category  \\\n",
       "receipt_id                                                               \n",
       "9622257             32369294 2018-07-22 21:19:00     Rice         Rice   \n",
       "9446359             31885876 2018-07-15 16:17:00     Rice         Rice   \n",
       "9470290             31930241 2018-07-15 12:12:00     Rice         Rice   \n",
       "9643416             32418582 2018-07-24 08:27:00     Rice         Rice   \n",
       "9692093             32561236 2018-07-26 11:28:00     Rice         Rice   \n",
       "\n",
       "                 format  unit_price  discount  quantity month  year       day  \\\n",
       "receipt_id                                                                      \n",
       "9622257     supermarket    128000.0         0         1  July  2018    Sunday   \n",
       "9446359      minimarket    102750.0         0         1  July  2018    Sunday   \n",
       "9470290     supermarket     64000.0         0         3  July  2018    Sunday   \n",
       "9643416      minimarket     65000.0         0         1  July  2018   Tuesday   \n",
       "9692093     supermarket    124500.0         0         1  July  2018  Thursday   \n",
       "\n",
       "           quarter     Total          custom  \n",
       "receipt_id                                    \n",
       "9622257     2018Q3  128000.0  July - 21 : 21  \n",
       "9446359     2018Q3  102750.0  July - 16 : 16  \n",
       "9470290     2018Q3  192000.0  July - 12 : 12  \n",
       "9643416     2018Q3   65000.0  July - 08 : 08  \n",
       "9692093     2018Q3  124500.0  July - 11 : 11  "
      ]
     },
     "execution_count": 69,
     "metadata": {},
     "output_type": "execute_result"
    }
   ],
   "source": [
    "df.head()"
   ]
  },
  {
   "cell_type": "code",
   "execution_count": 72,
   "metadata": {},
   "outputs": [
    {
     "data": {
      "text/html": [
       "<div>\n",
       "<style scoped>\n",
       "    .dataframe tbody tr th:only-of-type {\n",
       "        vertical-align: middle;\n",
       "    }\n",
       "\n",
       "    .dataframe tbody tr th {\n",
       "        vertical-align: top;\n",
       "    }\n",
       "\n",
       "    .dataframe thead th {\n",
       "        text-align: right;\n",
       "    }\n",
       "</style>\n",
       "<table border=\"1\" class=\"dataframe\">\n",
       "  <thead>\n",
       "    <tr style=\"text-align: right;\">\n",
       "      <th>col_0</th>\n",
       "      <th>avg price</th>\n",
       "    </tr>\n",
       "    <tr>\n",
       "      <th>sub_category</th>\n",
       "      <th></th>\n",
       "    </tr>\n",
       "  </thead>\n",
       "  <tbody>\n",
       "    <tr>\n",
       "      <th>Detergent</th>\n",
       "      <td>17893.79</td>\n",
       "    </tr>\n",
       "    <tr>\n",
       "      <th>Rice</th>\n",
       "      <td>70013.15</td>\n",
       "    </tr>\n",
       "    <tr>\n",
       "      <th>Sugar</th>\n",
       "      <td>12645.07</td>\n",
       "    </tr>\n",
       "  </tbody>\n",
       "</table>\n",
       "</div>"
      ],
      "text/plain": [
       "col_0         avg price\n",
       "sub_category           \n",
       "Detergent      17893.79\n",
       "Rice           70013.15\n",
       "Sugar          12645.07"
      ]
     },
     "execution_count": 72,
     "metadata": {},
     "output_type": "execute_result"
    }
   ],
   "source": [
    "pd.crosstab(index=df['sub_category'], columns='avg price', values=df['unit_price'], aggfunc='mean').round(2)"
   ]
  },
  {
   "cell_type": "code",
   "execution_count": 73,
   "metadata": {},
   "outputs": [
    {
     "data": {
      "text/html": [
       "<div>\n",
       "<style scoped>\n",
       "    .dataframe tbody tr th:only-of-type {\n",
       "        vertical-align: middle;\n",
       "    }\n",
       "\n",
       "    .dataframe tbody tr th {\n",
       "        vertical-align: top;\n",
       "    }\n",
       "\n",
       "    .dataframe thead th {\n",
       "        text-align: right;\n",
       "    }\n",
       "</style>\n",
       "<table border=\"1\" class=\"dataframe\">\n",
       "  <thead>\n",
       "    <tr style=\"text-align: right;\">\n",
       "      <th>sub_category</th>\n",
       "      <th>Detergent</th>\n",
       "      <th>Rice</th>\n",
       "      <th>Sugar</th>\n",
       "    </tr>\n",
       "    <tr>\n",
       "      <th>format</th>\n",
       "      <th></th>\n",
       "      <th></th>\n",
       "      <th></th>\n",
       "    </tr>\n",
       "  </thead>\n",
       "  <tbody>\n",
       "    <tr>\n",
       "      <th>hypermarket</th>\n",
       "      <td>19328.14</td>\n",
       "      <td>71205.46</td>\n",
       "      <td>13539.92</td>\n",
       "    </tr>\n",
       "    <tr>\n",
       "      <th>minimarket</th>\n",
       "      <td>17757.14</td>\n",
       "      <td>67135.57</td>\n",
       "      <td>12352.14</td>\n",
       "    </tr>\n",
       "    <tr>\n",
       "      <th>supermarket</th>\n",
       "      <td>17847.56</td>\n",
       "      <td>74921.18</td>\n",
       "      <td>13071.11</td>\n",
       "    </tr>\n",
       "  </tbody>\n",
       "</table>\n",
       "</div>"
      ],
      "text/plain": [
       "sub_category  Detergent      Rice     Sugar\n",
       "format                                     \n",
       "hypermarket    19328.14  71205.46  13539.92\n",
       "minimarket     17757.14  67135.57  12352.14\n",
       "supermarket    17847.56  74921.18  13071.11"
      ]
     },
     "execution_count": 73,
     "metadata": {},
     "output_type": "execute_result"
    }
   ],
   "source": [
    "pd.crosstab(index=df['format'], columns=df['sub_category'], values=df['unit_price'], aggfunc='mean').round(2)"
   ]
  },
  {
   "cell_type": "code",
   "execution_count": 74,
   "metadata": {},
   "outputs": [
    {
     "data": {
      "text/html": [
       "<div>\n",
       "<style scoped>\n",
       "    .dataframe tbody tr th:only-of-type {\n",
       "        vertical-align: middle;\n",
       "    }\n",
       "\n",
       "    .dataframe tbody tr th {\n",
       "        vertical-align: top;\n",
       "    }\n",
       "\n",
       "    .dataframe thead th {\n",
       "        text-align: right;\n",
       "    }\n",
       "</style>\n",
       "<table border=\"1\" class=\"dataframe\">\n",
       "  <thead>\n",
       "    <tr style=\"text-align: right;\">\n",
       "      <th>sub_category</th>\n",
       "      <th>Detergent</th>\n",
       "      <th>Rice</th>\n",
       "      <th>Sugar</th>\n",
       "    </tr>\n",
       "    <tr>\n",
       "      <th>format</th>\n",
       "      <th></th>\n",
       "      <th></th>\n",
       "      <th></th>\n",
       "    </tr>\n",
       "  </thead>\n",
       "  <tbody>\n",
       "    <tr>\n",
       "      <th>hypermarket</th>\n",
       "      <td>59500.0</td>\n",
       "      <td>214000.0</td>\n",
       "      <td>59950.0</td>\n",
       "    </tr>\n",
       "    <tr>\n",
       "      <th>minimarket</th>\n",
       "      <td>59000.0</td>\n",
       "      <td>219400.0</td>\n",
       "      <td>59900.0</td>\n",
       "    </tr>\n",
       "    <tr>\n",
       "      <th>supermarket</th>\n",
       "      <td>59900.0</td>\n",
       "      <td>219000.0</td>\n",
       "      <td>59950.0</td>\n",
       "    </tr>\n",
       "  </tbody>\n",
       "</table>\n",
       "</div>"
      ],
      "text/plain": [
       "sub_category  Detergent      Rice    Sugar\n",
       "format                                    \n",
       "hypermarket     59500.0  214000.0  59950.0\n",
       "minimarket      59000.0  219400.0  59900.0\n",
       "supermarket     59900.0  219000.0  59950.0"
      ]
     },
     "execution_count": 74,
     "metadata": {},
     "output_type": "execute_result"
    }
   ],
   "source": [
    "pd.crosstab(index=df['format'], columns=df['sub_category'], values=df['unit_price'], aggfunc='max').round(2)"
   ]
  },
  {
   "cell_type": "code",
   "execution_count": 75,
   "metadata": {},
   "outputs": [
    {
     "data": {
      "text/html": [
       "<div>\n",
       "<style scoped>\n",
       "    .dataframe tbody tr th:only-of-type {\n",
       "        vertical-align: middle;\n",
       "    }\n",
       "\n",
       "    .dataframe tbody tr th {\n",
       "        vertical-align: top;\n",
       "    }\n",
       "\n",
       "    .dataframe thead tr th {\n",
       "        text-align: left;\n",
       "    }\n",
       "\n",
       "    .dataframe thead tr:last-of-type th {\n",
       "        text-align: right;\n",
       "    }\n",
       "</style>\n",
       "<table border=\"1\" class=\"dataframe\">\n",
       "  <thead>\n",
       "    <tr>\n",
       "      <th></th>\n",
       "      <th colspan=\"3\" halign=\"left\">max</th>\n",
       "      <th colspan=\"3\" halign=\"left\">mean</th>\n",
       "      <th colspan=\"3\" halign=\"left\">min</th>\n",
       "    </tr>\n",
       "    <tr>\n",
       "      <th>sub_category</th>\n",
       "      <th>Detergent</th>\n",
       "      <th>Rice</th>\n",
       "      <th>Sugar</th>\n",
       "      <th>Detergent</th>\n",
       "      <th>Rice</th>\n",
       "      <th>Sugar</th>\n",
       "      <th>Detergent</th>\n",
       "      <th>Rice</th>\n",
       "      <th>Sugar</th>\n",
       "    </tr>\n",
       "    <tr>\n",
       "      <th>format</th>\n",
       "      <th></th>\n",
       "      <th></th>\n",
       "      <th></th>\n",
       "      <th></th>\n",
       "      <th></th>\n",
       "      <th></th>\n",
       "      <th></th>\n",
       "      <th></th>\n",
       "      <th></th>\n",
       "    </tr>\n",
       "  </thead>\n",
       "  <tbody>\n",
       "    <tr>\n",
       "      <th>hypermarket</th>\n",
       "      <td>59500.0</td>\n",
       "      <td>214000.0</td>\n",
       "      <td>59950.0</td>\n",
       "      <td>19328.14</td>\n",
       "      <td>71205.46</td>\n",
       "      <td>13539.92</td>\n",
       "      <td>2600.0</td>\n",
       "      <td>10329.0</td>\n",
       "      <td>5000.0</td>\n",
       "    </tr>\n",
       "    <tr>\n",
       "      <th>minimarket</th>\n",
       "      <td>59000.0</td>\n",
       "      <td>219400.0</td>\n",
       "      <td>59900.0</td>\n",
       "      <td>17757.14</td>\n",
       "      <td>67135.57</td>\n",
       "      <td>12352.14</td>\n",
       "      <td>2505.0</td>\n",
       "      <td>9400.0</td>\n",
       "      <td>5000.0</td>\n",
       "    </tr>\n",
       "    <tr>\n",
       "      <th>supermarket</th>\n",
       "      <td>59900.0</td>\n",
       "      <td>219000.0</td>\n",
       "      <td>59950.0</td>\n",
       "      <td>17847.56</td>\n",
       "      <td>74921.18</td>\n",
       "      <td>13071.11</td>\n",
       "      <td>2510.0</td>\n",
       "      <td>9395.0</td>\n",
       "      <td>5000.0</td>\n",
       "    </tr>\n",
       "  </tbody>\n",
       "</table>\n",
       "</div>"
      ],
      "text/plain": [
       "                   max                         mean                      \\\n",
       "sub_category Detergent      Rice    Sugar Detergent      Rice     Sugar   \n",
       "format                                                                    \n",
       "hypermarket    59500.0  214000.0  59950.0  19328.14  71205.46  13539.92   \n",
       "minimarket     59000.0  219400.0  59900.0  17757.14  67135.57  12352.14   \n",
       "supermarket    59900.0  219000.0  59950.0  17847.56  74921.18  13071.11   \n",
       "\n",
       "                   min                   \n",
       "sub_category Detergent     Rice   Sugar  \n",
       "format                                   \n",
       "hypermarket     2600.0  10329.0  5000.0  \n",
       "minimarket      2505.0   9400.0  5000.0  \n",
       "supermarket     2510.0   9395.0  5000.0  "
      ]
     },
     "execution_count": 75,
     "metadata": {},
     "output_type": "execute_result"
    }
   ],
   "source": [
    "pd.crosstab(index=df['format'], columns=df['sub_category'], values=df['unit_price'], aggfunc=('mean', 'max', 'min')).round(2)"
   ]
  },
  {
   "cell_type": "code",
   "execution_count": 76,
   "metadata": {},
   "outputs": [
    {
     "data": {
      "text/html": [
       "<div>\n",
       "<style scoped>\n",
       "    .dataframe tbody tr th:only-of-type {\n",
       "        vertical-align: middle;\n",
       "    }\n",
       "\n",
       "    .dataframe tbody tr th {\n",
       "        vertical-align: top;\n",
       "    }\n",
       "\n",
       "    .dataframe thead tr th {\n",
       "        text-align: left;\n",
       "    }\n",
       "\n",
       "    .dataframe thead tr:last-of-type th {\n",
       "        text-align: right;\n",
       "    }\n",
       "</style>\n",
       "<table border=\"1\" class=\"dataframe\">\n",
       "  <thead>\n",
       "    <tr>\n",
       "      <th></th>\n",
       "      <th></th>\n",
       "      <th colspan=\"7\" halign=\"left\">max</th>\n",
       "      <th colspan=\"7\" halign=\"left\">mean</th>\n",
       "      <th colspan=\"7\" halign=\"left\">min</th>\n",
       "    </tr>\n",
       "    <tr>\n",
       "      <th></th>\n",
       "      <th>day</th>\n",
       "      <th>Friday</th>\n",
       "      <th>Monday</th>\n",
       "      <th>Saturday</th>\n",
       "      <th>Sunday</th>\n",
       "      <th>Thursday</th>\n",
       "      <th>Tuesday</th>\n",
       "      <th>Wednesday</th>\n",
       "      <th>Friday</th>\n",
       "      <th>Monday</th>\n",
       "      <th>Saturday</th>\n",
       "      <th>...</th>\n",
       "      <th>Thursday</th>\n",
       "      <th>Tuesday</th>\n",
       "      <th>Wednesday</th>\n",
       "      <th>Friday</th>\n",
       "      <th>Monday</th>\n",
       "      <th>Saturday</th>\n",
       "      <th>Sunday</th>\n",
       "      <th>Thursday</th>\n",
       "      <th>Tuesday</th>\n",
       "      <th>Wednesday</th>\n",
       "    </tr>\n",
       "    <tr>\n",
       "      <th>sub_category</th>\n",
       "      <th>format</th>\n",
       "      <th></th>\n",
       "      <th></th>\n",
       "      <th></th>\n",
       "      <th></th>\n",
       "      <th></th>\n",
       "      <th></th>\n",
       "      <th></th>\n",
       "      <th></th>\n",
       "      <th></th>\n",
       "      <th></th>\n",
       "      <th></th>\n",
       "      <th></th>\n",
       "      <th></th>\n",
       "      <th></th>\n",
       "      <th></th>\n",
       "      <th></th>\n",
       "      <th></th>\n",
       "      <th></th>\n",
       "      <th></th>\n",
       "      <th></th>\n",
       "      <th></th>\n",
       "    </tr>\n",
       "  </thead>\n",
       "  <tbody>\n",
       "    <tr>\n",
       "      <th rowspan=\"3\" valign=\"top\">Detergent</th>\n",
       "      <th>hypermarket</th>\n",
       "      <td>55440.0</td>\n",
       "      <td>57000.0</td>\n",
       "      <td>58470.0</td>\n",
       "      <td>55560.0</td>\n",
       "      <td>54475.0</td>\n",
       "      <td>59500.0</td>\n",
       "      <td>50000.0</td>\n",
       "      <td>18891.04</td>\n",
       "      <td>19138.56</td>\n",
       "      <td>19970.34</td>\n",
       "      <td>...</td>\n",
       "      <td>19879.21</td>\n",
       "      <td>19389.39</td>\n",
       "      <td>19372.11</td>\n",
       "      <td>2800.0</td>\n",
       "      <td>2600.0</td>\n",
       "      <td>2800.0</td>\n",
       "      <td>2800.0</td>\n",
       "      <td>2600.0</td>\n",
       "      <td>3185.0</td>\n",
       "      <td>2900.0</td>\n",
       "    </tr>\n",
       "    <tr>\n",
       "      <th>minimarket</th>\n",
       "      <td>56000.0</td>\n",
       "      <td>57000.0</td>\n",
       "      <td>58000.0</td>\n",
       "      <td>57100.0</td>\n",
       "      <td>57500.0</td>\n",
       "      <td>59000.0</td>\n",
       "      <td>55675.0</td>\n",
       "      <td>17694.00</td>\n",
       "      <td>17560.32</td>\n",
       "      <td>17747.66</td>\n",
       "      <td>...</td>\n",
       "      <td>17987.28</td>\n",
       "      <td>17901.03</td>\n",
       "      <td>17809.98</td>\n",
       "      <td>2600.0</td>\n",
       "      <td>2575.0</td>\n",
       "      <td>2540.0</td>\n",
       "      <td>2505.0</td>\n",
       "      <td>2550.0</td>\n",
       "      <td>2600.0</td>\n",
       "      <td>2550.0</td>\n",
       "    </tr>\n",
       "    <tr>\n",
       "      <th>supermarket</th>\n",
       "      <td>57200.0</td>\n",
       "      <td>53200.0</td>\n",
       "      <td>56400.0</td>\n",
       "      <td>59600.0</td>\n",
       "      <td>55000.0</td>\n",
       "      <td>59900.0</td>\n",
       "      <td>53900.0</td>\n",
       "      <td>17535.59</td>\n",
       "      <td>18133.63</td>\n",
       "      <td>17773.89</td>\n",
       "      <td>...</td>\n",
       "      <td>17906.23</td>\n",
       "      <td>17944.18</td>\n",
       "      <td>17797.29</td>\n",
       "      <td>2510.0</td>\n",
       "      <td>2510.0</td>\n",
       "      <td>2565.0</td>\n",
       "      <td>2525.0</td>\n",
       "      <td>2540.0</td>\n",
       "      <td>2515.0</td>\n",
       "      <td>2565.0</td>\n",
       "    </tr>\n",
       "    <tr>\n",
       "      <th rowspan=\"3\" valign=\"top\">Rice</th>\n",
       "      <th>hypermarket</th>\n",
       "      <td>141200.0</td>\n",
       "      <td>175000.0</td>\n",
       "      <td>195650.0</td>\n",
       "      <td>129000.0</td>\n",
       "      <td>128000.0</td>\n",
       "      <td>213725.0</td>\n",
       "      <td>214000.0</td>\n",
       "      <td>73596.73</td>\n",
       "      <td>66298.69</td>\n",
       "      <td>72381.89</td>\n",
       "      <td>...</td>\n",
       "      <td>68319.88</td>\n",
       "      <td>74470.87</td>\n",
       "      <td>68216.51</td>\n",
       "      <td>10948.0</td>\n",
       "      <td>10329.0</td>\n",
       "      <td>11500.0</td>\n",
       "      <td>10900.0</td>\n",
       "      <td>12000.0</td>\n",
       "      <td>12234.0</td>\n",
       "      <td>11900.0</td>\n",
       "    </tr>\n",
       "    <tr>\n",
       "      <th>minimarket</th>\n",
       "      <td>215000.0</td>\n",
       "      <td>219400.0</td>\n",
       "      <td>215000.0</td>\n",
       "      <td>219000.0</td>\n",
       "      <td>215000.0</td>\n",
       "      <td>215000.0</td>\n",
       "      <td>218592.0</td>\n",
       "      <td>65973.96</td>\n",
       "      <td>68546.85</td>\n",
       "      <td>66611.12</td>\n",
       "      <td>...</td>\n",
       "      <td>67578.55</td>\n",
       "      <td>68448.32</td>\n",
       "      <td>66220.13</td>\n",
       "      <td>9500.0</td>\n",
       "      <td>9400.0</td>\n",
       "      <td>9800.0</td>\n",
       "      <td>9500.0</td>\n",
       "      <td>9500.0</td>\n",
       "      <td>9900.0</td>\n",
       "      <td>10100.0</td>\n",
       "    </tr>\n",
       "    <tr>\n",
       "      <th>supermarket</th>\n",
       "      <td>218900.0</td>\n",
       "      <td>219000.0</td>\n",
       "      <td>214000.0</td>\n",
       "      <td>218000.0</td>\n",
       "      <td>192000.0</td>\n",
       "      <td>179900.0</td>\n",
       "      <td>192000.0</td>\n",
       "      <td>77468.79</td>\n",
       "      <td>73603.42</td>\n",
       "      <td>74740.14</td>\n",
       "      <td>...</td>\n",
       "      <td>75706.44</td>\n",
       "      <td>73134.50</td>\n",
       "      <td>71961.80</td>\n",
       "      <td>9990.0</td>\n",
       "      <td>9450.0</td>\n",
       "      <td>9500.0</td>\n",
       "      <td>9395.0</td>\n",
       "      <td>9400.0</td>\n",
       "      <td>9400.0</td>\n",
       "      <td>9485.0</td>\n",
       "    </tr>\n",
       "    <tr>\n",
       "      <th rowspan=\"3\" valign=\"top\">Sugar</th>\n",
       "      <th>hypermarket</th>\n",
       "      <td>43815.0</td>\n",
       "      <td>59950.0</td>\n",
       "      <td>59500.0</td>\n",
       "      <td>59900.0</td>\n",
       "      <td>49600.0</td>\n",
       "      <td>59900.0</td>\n",
       "      <td>50000.0</td>\n",
       "      <td>12885.25</td>\n",
       "      <td>13358.89</td>\n",
       "      <td>13939.89</td>\n",
       "      <td>...</td>\n",
       "      <td>13324.35</td>\n",
       "      <td>13794.59</td>\n",
       "      <td>13234.43</td>\n",
       "      <td>5250.0</td>\n",
       "      <td>5000.0</td>\n",
       "      <td>5890.0</td>\n",
       "      <td>5890.0</td>\n",
       "      <td>5200.0</td>\n",
       "      <td>5890.0</td>\n",
       "      <td>5950.0</td>\n",
       "    </tr>\n",
       "    <tr>\n",
       "      <th>minimarket</th>\n",
       "      <td>47200.0</td>\n",
       "      <td>57000.0</td>\n",
       "      <td>56000.0</td>\n",
       "      <td>58000.0</td>\n",
       "      <td>59900.0</td>\n",
       "      <td>50000.0</td>\n",
       "      <td>57000.0</td>\n",
       "      <td>12249.18</td>\n",
       "      <td>12457.94</td>\n",
       "      <td>12313.93</td>\n",
       "      <td>...</td>\n",
       "      <td>12511.78</td>\n",
       "      <td>12286.60</td>\n",
       "      <td>12255.60</td>\n",
       "      <td>5000.0</td>\n",
       "      <td>5000.0</td>\n",
       "      <td>5000.0</td>\n",
       "      <td>5000.0</td>\n",
       "      <td>5000.0</td>\n",
       "      <td>5150.0</td>\n",
       "      <td>5000.0</td>\n",
       "    </tr>\n",
       "    <tr>\n",
       "      <th>supermarket</th>\n",
       "      <td>58500.0</td>\n",
       "      <td>59500.0</td>\n",
       "      <td>59900.0</td>\n",
       "      <td>59900.0</td>\n",
       "      <td>59950.0</td>\n",
       "      <td>59216.0</td>\n",
       "      <td>59900.0</td>\n",
       "      <td>12982.34</td>\n",
       "      <td>13024.60</td>\n",
       "      <td>13001.97</td>\n",
       "      <td>...</td>\n",
       "      <td>12694.99</td>\n",
       "      <td>13436.08</td>\n",
       "      <td>13234.81</td>\n",
       "      <td>5100.0</td>\n",
       "      <td>5198.0</td>\n",
       "      <td>5000.0</td>\n",
       "      <td>5000.0</td>\n",
       "      <td>5000.0</td>\n",
       "      <td>5500.0</td>\n",
       "      <td>5250.0</td>\n",
       "    </tr>\n",
       "  </tbody>\n",
       "</table>\n",
       "<p>9 rows × 21 columns</p>\n",
       "</div>"
      ],
      "text/plain": [
       "                               max                                          \\\n",
       "day                         Friday    Monday  Saturday    Sunday  Thursday   \n",
       "sub_category format                                                          \n",
       "Detergent    hypermarket   55440.0   57000.0   58470.0   55560.0   54475.0   \n",
       "             minimarket    56000.0   57000.0   58000.0   57100.0   57500.0   \n",
       "             supermarket   57200.0   53200.0   56400.0   59600.0   55000.0   \n",
       "Rice         hypermarket  141200.0  175000.0  195650.0  129000.0  128000.0   \n",
       "             minimarket   215000.0  219400.0  215000.0  219000.0  215000.0   \n",
       "             supermarket  218900.0  219000.0  214000.0  218000.0  192000.0   \n",
       "Sugar        hypermarket   43815.0   59950.0   59500.0   59900.0   49600.0   \n",
       "             minimarket    47200.0   57000.0   56000.0   58000.0   59900.0   \n",
       "             supermarket   58500.0   59500.0   59900.0   59900.0   59950.0   \n",
       "\n",
       "                                                  mean                      \\\n",
       "day                        Tuesday Wednesday    Friday    Monday  Saturday   \n",
       "sub_category format                                                          \n",
       "Detergent    hypermarket   59500.0   50000.0  18891.04  19138.56  19970.34   \n",
       "             minimarket    59000.0   55675.0  17694.00  17560.32  17747.66   \n",
       "             supermarket   59900.0   53900.0  17535.59  18133.63  17773.89   \n",
       "Rice         hypermarket  213725.0  214000.0  73596.73  66298.69  72381.89   \n",
       "             minimarket   215000.0  218592.0  65973.96  68546.85  66611.12   \n",
       "             supermarket  179900.0  192000.0  77468.79  73603.42  74740.14   \n",
       "Sugar        hypermarket   59900.0   50000.0  12885.25  13358.89  13939.89   \n",
       "             minimarket    50000.0   57000.0  12249.18  12457.94  12313.93   \n",
       "             supermarket   59216.0   59900.0  12982.34  13024.60  13001.97   \n",
       "\n",
       "                          ...                                    min           \\\n",
       "day                       ...  Thursday   Tuesday Wednesday   Friday   Monday   \n",
       "sub_category format       ...                                                   \n",
       "Detergent    hypermarket  ...  19879.21  19389.39  19372.11   2800.0   2600.0   \n",
       "             minimarket   ...  17987.28  17901.03  17809.98   2600.0   2575.0   \n",
       "             supermarket  ...  17906.23  17944.18  17797.29   2510.0   2510.0   \n",
       "Rice         hypermarket  ...  68319.88  74470.87  68216.51  10948.0  10329.0   \n",
       "             minimarket   ...  67578.55  68448.32  66220.13   9500.0   9400.0   \n",
       "             supermarket  ...  75706.44  73134.50  71961.80   9990.0   9450.0   \n",
       "Sugar        hypermarket  ...  13324.35  13794.59  13234.43   5250.0   5000.0   \n",
       "             minimarket   ...  12511.78  12286.60  12255.60   5000.0   5000.0   \n",
       "             supermarket  ...  12694.99  13436.08  13234.81   5100.0   5198.0   \n",
       "\n",
       "                                                                        \n",
       "day                      Saturday   Sunday Thursday  Tuesday Wednesday  \n",
       "sub_category format                                                     \n",
       "Detergent    hypermarket   2800.0   2800.0   2600.0   3185.0    2900.0  \n",
       "             minimarket    2540.0   2505.0   2550.0   2600.0    2550.0  \n",
       "             supermarket   2565.0   2525.0   2540.0   2515.0    2565.0  \n",
       "Rice         hypermarket  11500.0  10900.0  12000.0  12234.0   11900.0  \n",
       "             minimarket    9800.0   9500.0   9500.0   9900.0   10100.0  \n",
       "             supermarket   9500.0   9395.0   9400.0   9400.0    9485.0  \n",
       "Sugar        hypermarket   5890.0   5890.0   5200.0   5890.0    5950.0  \n",
       "             minimarket    5000.0   5000.0   5000.0   5150.0    5000.0  \n",
       "             supermarket   5000.0   5000.0   5000.0   5500.0    5250.0  \n",
       "\n",
       "[9 rows x 21 columns]"
      ]
     },
     "execution_count": 76,
     "metadata": {},
     "output_type": "execute_result"
    }
   ],
   "source": [
    "pd.crosstab(index=[df['sub_category'], df['format']], columns=df['day'], values=df['unit_price'], aggfunc=('mean', 'max', min)).round(2)"
   ]
  },
  {
   "cell_type": "code",
   "execution_count": 79,
   "metadata": {},
   "outputs": [
    {
     "data": {
      "text/html": [
       "<div>\n",
       "<style scoped>\n",
       "    .dataframe tbody tr th:only-of-type {\n",
       "        vertical-align: middle;\n",
       "    }\n",
       "\n",
       "    .dataframe tbody tr th {\n",
       "        vertical-align: top;\n",
       "    }\n",
       "\n",
       "    .dataframe thead tr th {\n",
       "        text-align: left;\n",
       "    }\n",
       "\n",
       "    .dataframe thead tr:last-of-type th {\n",
       "        text-align: right;\n",
       "    }\n",
       "</style>\n",
       "<table border=\"1\" class=\"dataframe\">\n",
       "  <thead>\n",
       "    <tr>\n",
       "      <th>sub_category</th>\n",
       "      <th colspan=\"3\" halign=\"left\">Detergent</th>\n",
       "      <th colspan=\"3\" halign=\"left\">Rice</th>\n",
       "      <th colspan=\"3\" halign=\"left\">Sugar</th>\n",
       "      <th>All</th>\n",
       "    </tr>\n",
       "    <tr>\n",
       "      <th>format</th>\n",
       "      <th>hypermarket</th>\n",
       "      <th>minimarket</th>\n",
       "      <th>supermarket</th>\n",
       "      <th>hypermarket</th>\n",
       "      <th>minimarket</th>\n",
       "      <th>supermarket</th>\n",
       "      <th>hypermarket</th>\n",
       "      <th>minimarket</th>\n",
       "      <th>supermarket</th>\n",
       "      <th></th>\n",
       "    </tr>\n",
       "    <tr>\n",
       "      <th>day</th>\n",
       "      <th></th>\n",
       "      <th></th>\n",
       "      <th></th>\n",
       "      <th></th>\n",
       "      <th></th>\n",
       "      <th></th>\n",
       "      <th></th>\n",
       "      <th></th>\n",
       "      <th></th>\n",
       "      <th></th>\n",
       "    </tr>\n",
       "  </thead>\n",
       "  <tbody>\n",
       "    <tr>\n",
       "      <th>Friday</th>\n",
       "      <td>398</td>\n",
       "      <td>3884</td>\n",
       "      <td>1466</td>\n",
       "      <td>154</td>\n",
       "      <td>973</td>\n",
       "      <td>519</td>\n",
       "      <td>250</td>\n",
       "      <td>2147</td>\n",
       "      <td>987</td>\n",
       "      <td>10778</td>\n",
       "    </tr>\n",
       "    <tr>\n",
       "      <th>Monday</th>\n",
       "      <td>264</td>\n",
       "      <td>3003</td>\n",
       "      <td>1070</td>\n",
       "      <td>111</td>\n",
       "      <td>958</td>\n",
       "      <td>482</td>\n",
       "      <td>198</td>\n",
       "      <td>2083</td>\n",
       "      <td>881</td>\n",
       "      <td>9050</td>\n",
       "    </tr>\n",
       "    <tr>\n",
       "      <th>Saturday</th>\n",
       "      <td>538</td>\n",
       "      <td>4000</td>\n",
       "      <td>1609</td>\n",
       "      <td>175</td>\n",
       "      <td>1100</td>\n",
       "      <td>640</td>\n",
       "      <td>303</td>\n",
       "      <td>2311</td>\n",
       "      <td>1152</td>\n",
       "      <td>11828</td>\n",
       "    </tr>\n",
       "    <tr>\n",
       "      <th>Sunday</th>\n",
       "      <td>598</td>\n",
       "      <td>4097</td>\n",
       "      <td>1686</td>\n",
       "      <td>263</td>\n",
       "      <td>1210</td>\n",
       "      <td>761</td>\n",
       "      <td>374</td>\n",
       "      <td>2390</td>\n",
       "      <td>1194</td>\n",
       "      <td>12573</td>\n",
       "    </tr>\n",
       "    <tr>\n",
       "      <th>Thursday</th>\n",
       "      <td>266</td>\n",
       "      <td>3027</td>\n",
       "      <td>1027</td>\n",
       "      <td>100</td>\n",
       "      <td>902</td>\n",
       "      <td>550</td>\n",
       "      <td>205</td>\n",
       "      <td>2204</td>\n",
       "      <td>857</td>\n",
       "      <td>9138</td>\n",
       "    </tr>\n",
       "    <tr>\n",
       "      <th>Tuesday</th>\n",
       "      <td>291</td>\n",
       "      <td>3108</td>\n",
       "      <td>1123</td>\n",
       "      <td>94</td>\n",
       "      <td>1011</td>\n",
       "      <td>516</td>\n",
       "      <td>215</td>\n",
       "      <td>2150</td>\n",
       "      <td>919</td>\n",
       "      <td>9427</td>\n",
       "    </tr>\n",
       "    <tr>\n",
       "      <th>Wednesday</th>\n",
       "      <td>256</td>\n",
       "      <td>3226</td>\n",
       "      <td>1063</td>\n",
       "      <td>102</td>\n",
       "      <td>934</td>\n",
       "      <td>445</td>\n",
       "      <td>216</td>\n",
       "      <td>2085</td>\n",
       "      <td>879</td>\n",
       "      <td>9206</td>\n",
       "    </tr>\n",
       "    <tr>\n",
       "      <th>All</th>\n",
       "      <td>2611</td>\n",
       "      <td>24345</td>\n",
       "      <td>9044</td>\n",
       "      <td>999</td>\n",
       "      <td>7088</td>\n",
       "      <td>3913</td>\n",
       "      <td>1761</td>\n",
       "      <td>15370</td>\n",
       "      <td>6869</td>\n",
       "      <td>72000</td>\n",
       "    </tr>\n",
       "  </tbody>\n",
       "</table>\n",
       "</div>"
      ],
      "text/plain": [
       "sub_category   Detergent                               Rice             \\\n",
       "format       hypermarket minimarket supermarket hypermarket minimarket   \n",
       "day                                                                      \n",
       "Friday               398       3884        1466         154        973   \n",
       "Monday               264       3003        1070         111        958   \n",
       "Saturday             538       4000        1609         175       1100   \n",
       "Sunday               598       4097        1686         263       1210   \n",
       "Thursday             266       3027        1027         100        902   \n",
       "Tuesday              291       3108        1123          94       1011   \n",
       "Wednesday            256       3226        1063         102        934   \n",
       "All                 2611      24345        9044         999       7088   \n",
       "\n",
       "sub_category                   Sugar                           All  \n",
       "format       supermarket hypermarket minimarket supermarket         \n",
       "day                                                                 \n",
       "Friday               519         250       2147         987  10778  \n",
       "Monday               482         198       2083         881   9050  \n",
       "Saturday             640         303       2311        1152  11828  \n",
       "Sunday               761         374       2390        1194  12573  \n",
       "Thursday             550         205       2204         857   9138  \n",
       "Tuesday              516         215       2150         919   9427  \n",
       "Wednesday            445         216       2085         879   9206  \n",
       "All                 3913        1761      15370        6869  72000  "
      ]
     },
     "execution_count": 79,
     "metadata": {},
     "output_type": "execute_result"
    }
   ],
   "source": [
    "pd.crosstab(index=df['day'], columns=[df['sub_category'], df['format']], margins=True)"
   ]
  },
  {
   "cell_type": "code",
   "execution_count": 83,
   "metadata": {},
   "outputs": [
    {
     "data": {
      "text/html": [
       "<div>\n",
       "<style scoped>\n",
       "    .dataframe tbody tr th:only-of-type {\n",
       "        vertical-align: middle;\n",
       "    }\n",
       "\n",
       "    .dataframe tbody tr th {\n",
       "        vertical-align: top;\n",
       "    }\n",
       "\n",
       "    .dataframe thead tr th {\n",
       "        text-align: left;\n",
       "    }\n",
       "\n",
       "    .dataframe thead tr:last-of-type th {\n",
       "        text-align: right;\n",
       "    }\n",
       "</style>\n",
       "<table border=\"1\" class=\"dataframe\">\n",
       "  <thead>\n",
       "    <tr>\n",
       "      <th>sub_category</th>\n",
       "      <th colspan=\"3\" halign=\"left\">Detergent</th>\n",
       "      <th colspan=\"3\" halign=\"left\">Rice</th>\n",
       "      <th colspan=\"3\" halign=\"left\">Sugar</th>\n",
       "    </tr>\n",
       "    <tr>\n",
       "      <th>format</th>\n",
       "      <th>hypermarket</th>\n",
       "      <th>minimarket</th>\n",
       "      <th>supermarket</th>\n",
       "      <th>hypermarket</th>\n",
       "      <th>minimarket</th>\n",
       "      <th>supermarket</th>\n",
       "      <th>hypermarket</th>\n",
       "      <th>minimarket</th>\n",
       "      <th>supermarket</th>\n",
       "    </tr>\n",
       "    <tr>\n",
       "      <th>day</th>\n",
       "      <th></th>\n",
       "      <th></th>\n",
       "      <th></th>\n",
       "      <th></th>\n",
       "      <th></th>\n",
       "      <th></th>\n",
       "      <th></th>\n",
       "      <th></th>\n",
       "      <th></th>\n",
       "    </tr>\n",
       "  </thead>\n",
       "  <tbody>\n",
       "    <tr>\n",
       "      <th>Friday</th>\n",
       "      <td>16312.5</td>\n",
       "      <td>16800.0</td>\n",
       "      <td>16190.0</td>\n",
       "      <td>64000.0</td>\n",
       "      <td>62500.0</td>\n",
       "      <td>64000.0</td>\n",
       "      <td>12000.00</td>\n",
       "      <td>12500.0</td>\n",
       "      <td>12400.0</td>\n",
       "    </tr>\n",
       "    <tr>\n",
       "      <th>Monday</th>\n",
       "      <td>16952.5</td>\n",
       "      <td>16800.0</td>\n",
       "      <td>16890.0</td>\n",
       "      <td>64000.0</td>\n",
       "      <td>63500.0</td>\n",
       "      <td>64000.0</td>\n",
       "      <td>12273.46</td>\n",
       "      <td>12500.0</td>\n",
       "      <td>12400.0</td>\n",
       "    </tr>\n",
       "    <tr>\n",
       "      <th>Saturday</th>\n",
       "      <td>16972.5</td>\n",
       "      <td>16800.0</td>\n",
       "      <td>16375.0</td>\n",
       "      <td>64000.0</td>\n",
       "      <td>62500.0</td>\n",
       "      <td>64000.0</td>\n",
       "      <td>12300.00</td>\n",
       "      <td>12500.0</td>\n",
       "      <td>12400.0</td>\n",
       "    </tr>\n",
       "    <tr>\n",
       "      <th>Sunday</th>\n",
       "      <td>16700.0</td>\n",
       "      <td>16800.0</td>\n",
       "      <td>16600.0</td>\n",
       "      <td>64000.0</td>\n",
       "      <td>62500.0</td>\n",
       "      <td>64000.0</td>\n",
       "      <td>12300.00</td>\n",
       "      <td>12500.0</td>\n",
       "      <td>12400.0</td>\n",
       "    </tr>\n",
       "    <tr>\n",
       "      <th>Thursday</th>\n",
       "      <td>16995.0</td>\n",
       "      <td>16800.0</td>\n",
       "      <td>16200.0</td>\n",
       "      <td>64000.0</td>\n",
       "      <td>63500.0</td>\n",
       "      <td>64000.0</td>\n",
       "      <td>12000.00</td>\n",
       "      <td>12500.0</td>\n",
       "      <td>12400.0</td>\n",
       "    </tr>\n",
       "    <tr>\n",
       "      <th>Tuesday</th>\n",
       "      <td>16950.0</td>\n",
       "      <td>16800.0</td>\n",
       "      <td>16900.0</td>\n",
       "      <td>64000.0</td>\n",
       "      <td>63500.0</td>\n",
       "      <td>64000.0</td>\n",
       "      <td>12300.00</td>\n",
       "      <td>12500.0</td>\n",
       "      <td>12400.0</td>\n",
       "    </tr>\n",
       "    <tr>\n",
       "      <th>Wednesday</th>\n",
       "      <td>17450.0</td>\n",
       "      <td>16800.0</td>\n",
       "      <td>16700.0</td>\n",
       "      <td>64000.0</td>\n",
       "      <td>62900.0</td>\n",
       "      <td>64000.0</td>\n",
       "      <td>12300.00</td>\n",
       "      <td>12500.0</td>\n",
       "      <td>12400.0</td>\n",
       "    </tr>\n",
       "  </tbody>\n",
       "</table>\n",
       "</div>"
      ],
      "text/plain": [
       "sub_category   Detergent                               Rice             \\\n",
       "format       hypermarket minimarket supermarket hypermarket minimarket   \n",
       "day                                                                      \n",
       "Friday           16312.5    16800.0     16190.0     64000.0    62500.0   \n",
       "Monday           16952.5    16800.0     16890.0     64000.0    63500.0   \n",
       "Saturday         16972.5    16800.0     16375.0     64000.0    62500.0   \n",
       "Sunday           16700.0    16800.0     16600.0     64000.0    62500.0   \n",
       "Thursday         16995.0    16800.0     16200.0     64000.0    63500.0   \n",
       "Tuesday          16950.0    16800.0     16900.0     64000.0    63500.0   \n",
       "Wednesday        17450.0    16800.0     16700.0     64000.0    62900.0   \n",
       "\n",
       "sub_category                   Sugar                         \n",
       "format       supermarket hypermarket minimarket supermarket  \n",
       "day                                                          \n",
       "Friday           64000.0    12000.00    12500.0     12400.0  \n",
       "Monday           64000.0    12273.46    12500.0     12400.0  \n",
       "Saturday         64000.0    12300.00    12500.0     12400.0  \n",
       "Sunday           64000.0    12300.00    12500.0     12400.0  \n",
       "Thursday         64000.0    12000.00    12500.0     12400.0  \n",
       "Tuesday          64000.0    12300.00    12500.0     12400.0  \n",
       "Wednesday        64000.0    12300.00    12500.0     12400.0  "
      ]
     },
     "execution_count": 83,
     "metadata": {},
     "output_type": "execute_result"
    }
   ],
   "source": [
    "pd.crosstab(index=df['day'], columns=[df['sub_category'], df['format']], values=df['unit_price'], aggfunc=('median')).round(2)"
   ]
  },
  {
   "cell_type": "markdown",
   "metadata": {},
   "source": [
    "##### 2) pivot table"
   ]
  },
  {
   "cell_type": "code",
   "execution_count": 82,
   "metadata": {},
   "outputs": [
    {
     "data": {
      "text/html": [
       "<div>\n",
       "<style scoped>\n",
       "    .dataframe tbody tr th:only-of-type {\n",
       "        vertical-align: middle;\n",
       "    }\n",
       "\n",
       "    .dataframe tbody tr th {\n",
       "        vertical-align: top;\n",
       "    }\n",
       "\n",
       "    .dataframe thead tr th {\n",
       "        text-align: left;\n",
       "    }\n",
       "\n",
       "    .dataframe thead tr:last-of-type th {\n",
       "        text-align: right;\n",
       "    }\n",
       "</style>\n",
       "<table border=\"1\" class=\"dataframe\">\n",
       "  <thead>\n",
       "    <tr>\n",
       "      <th>sub_category</th>\n",
       "      <th colspan=\"3\" halign=\"left\">Detergent</th>\n",
       "      <th colspan=\"3\" halign=\"left\">Rice</th>\n",
       "      <th colspan=\"3\" halign=\"left\">Sugar</th>\n",
       "    </tr>\n",
       "    <tr>\n",
       "      <th>format</th>\n",
       "      <th>hypermarket</th>\n",
       "      <th>minimarket</th>\n",
       "      <th>supermarket</th>\n",
       "      <th>hypermarket</th>\n",
       "      <th>minimarket</th>\n",
       "      <th>supermarket</th>\n",
       "      <th>hypermarket</th>\n",
       "      <th>minimarket</th>\n",
       "      <th>supermarket</th>\n",
       "    </tr>\n",
       "    <tr>\n",
       "      <th>day</th>\n",
       "      <th></th>\n",
       "      <th></th>\n",
       "      <th></th>\n",
       "      <th></th>\n",
       "      <th></th>\n",
       "      <th></th>\n",
       "      <th></th>\n",
       "      <th></th>\n",
       "      <th></th>\n",
       "    </tr>\n",
       "  </thead>\n",
       "  <tbody>\n",
       "    <tr>\n",
       "      <th>Friday</th>\n",
       "      <td>16312.5</td>\n",
       "      <td>16800.0</td>\n",
       "      <td>16190.0</td>\n",
       "      <td>64000.0</td>\n",
       "      <td>62500.0</td>\n",
       "      <td>64000.0</td>\n",
       "      <td>12000.000</td>\n",
       "      <td>12500.0</td>\n",
       "      <td>12400.0</td>\n",
       "    </tr>\n",
       "    <tr>\n",
       "      <th>Monday</th>\n",
       "      <td>16952.5</td>\n",
       "      <td>16800.0</td>\n",
       "      <td>16890.0</td>\n",
       "      <td>64000.0</td>\n",
       "      <td>63500.0</td>\n",
       "      <td>64000.0</td>\n",
       "      <td>12273.465</td>\n",
       "      <td>12500.0</td>\n",
       "      <td>12400.0</td>\n",
       "    </tr>\n",
       "    <tr>\n",
       "      <th>Saturday</th>\n",
       "      <td>16972.5</td>\n",
       "      <td>16800.0</td>\n",
       "      <td>16375.0</td>\n",
       "      <td>64000.0</td>\n",
       "      <td>62500.0</td>\n",
       "      <td>64000.0</td>\n",
       "      <td>12300.000</td>\n",
       "      <td>12500.0</td>\n",
       "      <td>12400.0</td>\n",
       "    </tr>\n",
       "    <tr>\n",
       "      <th>Sunday</th>\n",
       "      <td>16700.0</td>\n",
       "      <td>16800.0</td>\n",
       "      <td>16600.0</td>\n",
       "      <td>64000.0</td>\n",
       "      <td>62500.0</td>\n",
       "      <td>64000.0</td>\n",
       "      <td>12300.000</td>\n",
       "      <td>12500.0</td>\n",
       "      <td>12400.0</td>\n",
       "    </tr>\n",
       "    <tr>\n",
       "      <th>Thursday</th>\n",
       "      <td>16995.0</td>\n",
       "      <td>16800.0</td>\n",
       "      <td>16200.0</td>\n",
       "      <td>64000.0</td>\n",
       "      <td>63500.0</td>\n",
       "      <td>64000.0</td>\n",
       "      <td>12000.000</td>\n",
       "      <td>12500.0</td>\n",
       "      <td>12400.0</td>\n",
       "    </tr>\n",
       "    <tr>\n",
       "      <th>Tuesday</th>\n",
       "      <td>16950.0</td>\n",
       "      <td>16800.0</td>\n",
       "      <td>16900.0</td>\n",
       "      <td>64000.0</td>\n",
       "      <td>63500.0</td>\n",
       "      <td>64000.0</td>\n",
       "      <td>12300.000</td>\n",
       "      <td>12500.0</td>\n",
       "      <td>12400.0</td>\n",
       "    </tr>\n",
       "    <tr>\n",
       "      <th>Wednesday</th>\n",
       "      <td>17450.0</td>\n",
       "      <td>16800.0</td>\n",
       "      <td>16700.0</td>\n",
       "      <td>64000.0</td>\n",
       "      <td>62900.0</td>\n",
       "      <td>64000.0</td>\n",
       "      <td>12300.000</td>\n",
       "      <td>12500.0</td>\n",
       "      <td>12400.0</td>\n",
       "    </tr>\n",
       "  </tbody>\n",
       "</table>\n",
       "</div>"
      ],
      "text/plain": [
       "sub_category   Detergent                               Rice             \\\n",
       "format       hypermarket minimarket supermarket hypermarket minimarket   \n",
       "day                                                                      \n",
       "Friday           16312.5    16800.0     16190.0     64000.0    62500.0   \n",
       "Monday           16952.5    16800.0     16890.0     64000.0    63500.0   \n",
       "Saturday         16972.5    16800.0     16375.0     64000.0    62500.0   \n",
       "Sunday           16700.0    16800.0     16600.0     64000.0    62500.0   \n",
       "Thursday         16995.0    16800.0     16200.0     64000.0    63500.0   \n",
       "Tuesday          16950.0    16800.0     16900.0     64000.0    63500.0   \n",
       "Wednesday        17450.0    16800.0     16700.0     64000.0    62900.0   \n",
       "\n",
       "sub_category                   Sugar                         \n",
       "format       supermarket hypermarket minimarket supermarket  \n",
       "day                                                          \n",
       "Friday           64000.0   12000.000    12500.0     12400.0  \n",
       "Monday           64000.0   12273.465    12500.0     12400.0  \n",
       "Saturday         64000.0   12300.000    12500.0     12400.0  \n",
       "Sunday           64000.0   12300.000    12500.0     12400.0  \n",
       "Thursday         64000.0   12000.000    12500.0     12400.0  \n",
       "Tuesday          64000.0   12300.000    12500.0     12400.0  \n",
       "Wednesday        64000.0   12300.000    12500.0     12400.0  "
      ]
     },
     "execution_count": 82,
     "metadata": {},
     "output_type": "execute_result"
    }
   ],
   "source": [
    "pd.pivot_table(data=df, index='day', columns=['sub_category', 'format'], values='unit_price', aggfunc='median')"
   ]
  },
  {
   "cell_type": "code",
   "execution_count": 87,
   "metadata": {},
   "outputs": [
    {
     "data": {
      "text/html": [
       "<div>\n",
       "<style scoped>\n",
       "    .dataframe tbody tr th:only-of-type {\n",
       "        vertical-align: middle;\n",
       "    }\n",
       "\n",
       "    .dataframe tbody tr th {\n",
       "        vertical-align: top;\n",
       "    }\n",
       "\n",
       "    .dataframe thead tr th {\n",
       "        text-align: left;\n",
       "    }\n",
       "\n",
       "    .dataframe thead tr:last-of-type th {\n",
       "        text-align: right;\n",
       "    }\n",
       "</style>\n",
       "<table border=\"1\" class=\"dataframe\">\n",
       "  <thead>\n",
       "    <tr>\n",
       "      <th>sub_category</th>\n",
       "      <th colspan=\"3\" halign=\"left\">Detergent</th>\n",
       "      <th colspan=\"3\" halign=\"left\">Rice</th>\n",
       "      <th colspan=\"3\" halign=\"left\">Sugar</th>\n",
       "    </tr>\n",
       "    <tr>\n",
       "      <th>format</th>\n",
       "      <th>hypermarket</th>\n",
       "      <th>minimarket</th>\n",
       "      <th>supermarket</th>\n",
       "      <th>hypermarket</th>\n",
       "      <th>minimarket</th>\n",
       "      <th>supermarket</th>\n",
       "      <th>hypermarket</th>\n",
       "      <th>minimarket</th>\n",
       "      <th>supermarket</th>\n",
       "    </tr>\n",
       "    <tr>\n",
       "      <th>day</th>\n",
       "      <th></th>\n",
       "      <th></th>\n",
       "      <th></th>\n",
       "      <th></th>\n",
       "      <th></th>\n",
       "      <th></th>\n",
       "      <th></th>\n",
       "      <th></th>\n",
       "      <th></th>\n",
       "    </tr>\n",
       "  </thead>\n",
       "  <tbody>\n",
       "    <tr>\n",
       "      <th>Friday</th>\n",
       "      <td>16900.0</td>\n",
       "      <td>17200.0</td>\n",
       "      <td>17096.0</td>\n",
       "      <td>64000.0</td>\n",
       "      <td>62500.0</td>\n",
       "      <td>64000.0</td>\n",
       "      <td>12200.0</td>\n",
       "      <td>12500.0</td>\n",
       "      <td>12400.0</td>\n",
       "    </tr>\n",
       "    <tr>\n",
       "      <th>Monday</th>\n",
       "      <td>17500.0</td>\n",
       "      <td>17300.0</td>\n",
       "      <td>17490.0</td>\n",
       "      <td>64000.0</td>\n",
       "      <td>63500.0</td>\n",
       "      <td>64000.0</td>\n",
       "      <td>12300.0</td>\n",
       "      <td>12500.0</td>\n",
       "      <td>12400.0</td>\n",
       "    </tr>\n",
       "    <tr>\n",
       "      <th>Saturday</th>\n",
       "      <td>17875.0</td>\n",
       "      <td>17500.0</td>\n",
       "      <td>17190.0</td>\n",
       "      <td>64000.0</td>\n",
       "      <td>62500.0</td>\n",
       "      <td>64000.0</td>\n",
       "      <td>12300.0</td>\n",
       "      <td>12500.0</td>\n",
       "      <td>12400.0</td>\n",
       "    </tr>\n",
       "    <tr>\n",
       "      <th>Sunday</th>\n",
       "      <td>16990.0</td>\n",
       "      <td>17200.0</td>\n",
       "      <td>17290.0</td>\n",
       "      <td>64000.0</td>\n",
       "      <td>62900.0</td>\n",
       "      <td>64000.0</td>\n",
       "      <td>12300.0</td>\n",
       "      <td>12500.0</td>\n",
       "      <td>12400.0</td>\n",
       "    </tr>\n",
       "    <tr>\n",
       "      <th>Thursday</th>\n",
       "      <td>17400.0</td>\n",
       "      <td>17500.0</td>\n",
       "      <td>17290.0</td>\n",
       "      <td>64000.0</td>\n",
       "      <td>63500.0</td>\n",
       "      <td>64000.0</td>\n",
       "      <td>12300.0</td>\n",
       "      <td>12500.0</td>\n",
       "      <td>12400.0</td>\n",
       "    </tr>\n",
       "    <tr>\n",
       "      <th>Tuesday</th>\n",
       "      <td>17800.0</td>\n",
       "      <td>17500.0</td>\n",
       "      <td>17600.0</td>\n",
       "      <td>64000.0</td>\n",
       "      <td>63500.0</td>\n",
       "      <td>64000.0</td>\n",
       "      <td>12362.5</td>\n",
       "      <td>12500.0</td>\n",
       "      <td>12400.0</td>\n",
       "    </tr>\n",
       "    <tr>\n",
       "      <th>Wednesday</th>\n",
       "      <td>18050.0</td>\n",
       "      <td>17400.0</td>\n",
       "      <td>17350.0</td>\n",
       "      <td>64000.0</td>\n",
       "      <td>62900.0</td>\n",
       "      <td>64000.0</td>\n",
       "      <td>12300.0</td>\n",
       "      <td>12500.0</td>\n",
       "      <td>12400.0</td>\n",
       "    </tr>\n",
       "  </tbody>\n",
       "</table>\n",
       "</div>"
      ],
      "text/plain": [
       "sub_category   Detergent                               Rice             \\\n",
       "format       hypermarket minimarket supermarket hypermarket minimarket   \n",
       "day                                                                      \n",
       "Friday           16900.0    17200.0     17096.0     64000.0    62500.0   \n",
       "Monday           17500.0    17300.0     17490.0     64000.0    63500.0   \n",
       "Saturday         17875.0    17500.0     17190.0     64000.0    62500.0   \n",
       "Sunday           16990.0    17200.0     17290.0     64000.0    62900.0   \n",
       "Thursday         17400.0    17500.0     17290.0     64000.0    63500.0   \n",
       "Tuesday          17800.0    17500.0     17600.0     64000.0    63500.0   \n",
       "Wednesday        18050.0    17400.0     17350.0     64000.0    62900.0   \n",
       "\n",
       "sub_category                   Sugar                         \n",
       "format       supermarket hypermarket minimarket supermarket  \n",
       "day                                                          \n",
       "Friday           64000.0     12200.0    12500.0     12400.0  \n",
       "Monday           64000.0     12300.0    12500.0     12400.0  \n",
       "Saturday         64000.0     12300.0    12500.0     12400.0  \n",
       "Sunday           64000.0     12300.0    12500.0     12400.0  \n",
       "Thursday         64000.0     12300.0    12500.0     12400.0  \n",
       "Tuesday          64000.0     12362.5    12500.0     12400.0  \n",
       "Wednesday        64000.0     12300.0    12500.0     12400.0  "
      ]
     },
     "execution_count": 87,
     "metadata": {},
     "output_type": "execute_result"
    }
   ],
   "source": [
    "# subsetting combined with pivot table\n",
    "df[df['unit_price'] > 10000].pivot_table(index='day', columns=['sub_category', 'format'], values='unit_price', aggfunc='median')"
   ]
  },
  {
   "cell_type": "code",
   "execution_count": 88,
   "metadata": {},
   "outputs": [
    {
     "data": {
      "text/html": [
       "<div>\n",
       "<style scoped>\n",
       "    .dataframe tbody tr th:only-of-type {\n",
       "        vertical-align: middle;\n",
       "    }\n",
       "\n",
       "    .dataframe tbody tr th {\n",
       "        vertical-align: top;\n",
       "    }\n",
       "\n",
       "    .dataframe thead tr th {\n",
       "        text-align: left;\n",
       "    }\n",
       "\n",
       "    .dataframe thead tr:last-of-type th {\n",
       "        text-align: right;\n",
       "    }\n",
       "</style>\n",
       "<table border=\"1\" class=\"dataframe\">\n",
       "  <thead>\n",
       "    <tr>\n",
       "      <th>sub_category</th>\n",
       "      <th colspan=\"3\" halign=\"left\">Detergent</th>\n",
       "      <th colspan=\"3\" halign=\"left\">Rice</th>\n",
       "      <th colspan=\"3\" halign=\"left\">Sugar</th>\n",
       "    </tr>\n",
       "    <tr>\n",
       "      <th>format</th>\n",
       "      <th>hypermarket</th>\n",
       "      <th>minimarket</th>\n",
       "      <th>supermarket</th>\n",
       "      <th>hypermarket</th>\n",
       "      <th>minimarket</th>\n",
       "      <th>supermarket</th>\n",
       "      <th>hypermarket</th>\n",
       "      <th>minimarket</th>\n",
       "      <th>supermarket</th>\n",
       "    </tr>\n",
       "    <tr>\n",
       "      <th>day</th>\n",
       "      <th></th>\n",
       "      <th></th>\n",
       "      <th></th>\n",
       "      <th></th>\n",
       "      <th></th>\n",
       "      <th></th>\n",
       "      <th></th>\n",
       "      <th></th>\n",
       "      <th></th>\n",
       "    </tr>\n",
       "  </thead>\n",
       "  <tbody>\n",
       "    <tr>\n",
       "      <th>Friday</th>\n",
       "      <td>16900.0</td>\n",
       "      <td>17200.0</td>\n",
       "      <td>17096.0</td>\n",
       "      <td>64000.0</td>\n",
       "      <td>62500.0</td>\n",
       "      <td>64000.0</td>\n",
       "      <td>12200.0</td>\n",
       "      <td>12500.0</td>\n",
       "      <td>12400.0</td>\n",
       "    </tr>\n",
       "    <tr>\n",
       "      <th>Monday</th>\n",
       "      <td>17500.0</td>\n",
       "      <td>17300.0</td>\n",
       "      <td>17490.0</td>\n",
       "      <td>64000.0</td>\n",
       "      <td>63500.0</td>\n",
       "      <td>64000.0</td>\n",
       "      <td>12300.0</td>\n",
       "      <td>12500.0</td>\n",
       "      <td>12400.0</td>\n",
       "    </tr>\n",
       "    <tr>\n",
       "      <th>Saturday</th>\n",
       "      <td>17875.0</td>\n",
       "      <td>17500.0</td>\n",
       "      <td>17190.0</td>\n",
       "      <td>64000.0</td>\n",
       "      <td>62500.0</td>\n",
       "      <td>64000.0</td>\n",
       "      <td>12300.0</td>\n",
       "      <td>12500.0</td>\n",
       "      <td>12400.0</td>\n",
       "    </tr>\n",
       "    <tr>\n",
       "      <th>Sunday</th>\n",
       "      <td>16990.0</td>\n",
       "      <td>17200.0</td>\n",
       "      <td>17290.0</td>\n",
       "      <td>64000.0</td>\n",
       "      <td>62900.0</td>\n",
       "      <td>64000.0</td>\n",
       "      <td>12300.0</td>\n",
       "      <td>12500.0</td>\n",
       "      <td>12400.0</td>\n",
       "    </tr>\n",
       "    <tr>\n",
       "      <th>Thursday</th>\n",
       "      <td>17400.0</td>\n",
       "      <td>17500.0</td>\n",
       "      <td>17290.0</td>\n",
       "      <td>64000.0</td>\n",
       "      <td>63500.0</td>\n",
       "      <td>64000.0</td>\n",
       "      <td>12300.0</td>\n",
       "      <td>12500.0</td>\n",
       "      <td>12400.0</td>\n",
       "    </tr>\n",
       "    <tr>\n",
       "      <th>Tuesday</th>\n",
       "      <td>17800.0</td>\n",
       "      <td>17500.0</td>\n",
       "      <td>17600.0</td>\n",
       "      <td>64000.0</td>\n",
       "      <td>63500.0</td>\n",
       "      <td>64000.0</td>\n",
       "      <td>12362.5</td>\n",
       "      <td>12500.0</td>\n",
       "      <td>12400.0</td>\n",
       "    </tr>\n",
       "    <tr>\n",
       "      <th>Wednesday</th>\n",
       "      <td>18050.0</td>\n",
       "      <td>17400.0</td>\n",
       "      <td>17350.0</td>\n",
       "      <td>64000.0</td>\n",
       "      <td>62900.0</td>\n",
       "      <td>64000.0</td>\n",
       "      <td>12300.0</td>\n",
       "      <td>12500.0</td>\n",
       "      <td>12400.0</td>\n",
       "    </tr>\n",
       "  </tbody>\n",
       "</table>\n",
       "</div>"
      ],
      "text/plain": [
       "sub_category   Detergent                               Rice             \\\n",
       "format       hypermarket minimarket supermarket hypermarket minimarket   \n",
       "day                                                                      \n",
       "Friday           16900.0    17200.0     17096.0     64000.0    62500.0   \n",
       "Monday           17500.0    17300.0     17490.0     64000.0    63500.0   \n",
       "Saturday         17875.0    17500.0     17190.0     64000.0    62500.0   \n",
       "Sunday           16990.0    17200.0     17290.0     64000.0    62900.0   \n",
       "Thursday         17400.0    17500.0     17290.0     64000.0    63500.0   \n",
       "Tuesday          17800.0    17500.0     17600.0     64000.0    63500.0   \n",
       "Wednesday        18050.0    17400.0     17350.0     64000.0    62900.0   \n",
       "\n",
       "sub_category                   Sugar                         \n",
       "format       supermarket hypermarket minimarket supermarket  \n",
       "day                                                          \n",
       "Friday           64000.0     12200.0    12500.0     12400.0  \n",
       "Monday           64000.0     12300.0    12500.0     12400.0  \n",
       "Saturday         64000.0     12300.0    12500.0     12400.0  \n",
       "Sunday           64000.0     12300.0    12500.0     12400.0  \n",
       "Thursday         64000.0     12300.0    12500.0     12400.0  \n",
       "Tuesday          64000.0     12362.5    12500.0     12400.0  \n",
       "Wednesday        64000.0     12300.0    12500.0     12400.0  "
      ]
     },
     "execution_count": 88,
     "metadata": {},
     "output_type": "execute_result"
    }
   ],
   "source": [
    "# subsetting combined with crosstab\n",
    "df2 = df[df['unit_price'] > 10000]\n",
    "pd.crosstab(index=df2['day'], columns=[df2['sub_category'], df2['format']], values=df2['unit_price'], aggfunc=('median')).round(2)"
   ]
  },
  {
   "cell_type": "markdown",
   "metadata": {},
   "source": [
    "Perbedaan Crosstab dan Pivot Table\n",
    "- crosstab tidak memiliki parameter data, sehingga tidak bisa melakukan subsetting/filtering langsung seperti pivot table\n",
    "- pada pivot table, fungsi aggregate DEFAULT nya adalah MEAN\n",
    "- pada crosstab, fungsi aggregate DEFAULT nya adalah COUNT"
   ]
  },
  {
   "cell_type": "code",
   "execution_count": 89,
   "metadata": {},
   "outputs": [
    {
     "data": {
      "text/html": [
       "<div>\n",
       "<style scoped>\n",
       "    .dataframe tbody tr th:only-of-type {\n",
       "        vertical-align: middle;\n",
       "    }\n",
       "\n",
       "    .dataframe tbody tr th {\n",
       "        vertical-align: top;\n",
       "    }\n",
       "\n",
       "    .dataframe thead th {\n",
       "        text-align: right;\n",
       "    }\n",
       "</style>\n",
       "<table border=\"1\" class=\"dataframe\">\n",
       "  <thead>\n",
       "    <tr style=\"text-align: right;\">\n",
       "      <th>col_0</th>\n",
       "      <th>count</th>\n",
       "    </tr>\n",
       "    <tr>\n",
       "      <th>category</th>\n",
       "      <th></th>\n",
       "    </tr>\n",
       "  </thead>\n",
       "  <tbody>\n",
       "    <tr>\n",
       "      <th>Fabric Care</th>\n",
       "      <td>36000</td>\n",
       "    </tr>\n",
       "    <tr>\n",
       "      <th>Rice</th>\n",
       "      <td>12000</td>\n",
       "    </tr>\n",
       "    <tr>\n",
       "      <th>Sugar/Flavored Syrup</th>\n",
       "      <td>24000</td>\n",
       "    </tr>\n",
       "  </tbody>\n",
       "</table>\n",
       "</div>"
      ],
      "text/plain": [
       "col_0                 count\n",
       "category                   \n",
       "Fabric Care           36000\n",
       "Rice                  12000\n",
       "Sugar/Flavored Syrup  24000"
      ]
     },
     "execution_count": 89,
     "metadata": {},
     "output_type": "execute_result"
    }
   ],
   "source": [
    "pd.crosstab(df['category'], columns='count')"
   ]
  },
  {
   "cell_type": "code",
   "execution_count": 91,
   "metadata": {
    "scrolled": true
   },
   "outputs": [
    {
     "data": {
      "text/html": [
       "<div>\n",
       "<style scoped>\n",
       "    .dataframe tbody tr th:only-of-type {\n",
       "        vertical-align: middle;\n",
       "    }\n",
       "\n",
       "    .dataframe tbody tr th {\n",
       "        vertical-align: top;\n",
       "    }\n",
       "\n",
       "    .dataframe thead th {\n",
       "        text-align: right;\n",
       "    }\n",
       "</style>\n",
       "<table border=\"1\" class=\"dataframe\">\n",
       "  <thead>\n",
       "    <tr style=\"text-align: right;\">\n",
       "      <th></th>\n",
       "      <th>Total</th>\n",
       "      <th>discount</th>\n",
       "      <th>quantity</th>\n",
       "      <th>receipts_item_id</th>\n",
       "      <th>unit_price</th>\n",
       "      <th>year</th>\n",
       "    </tr>\n",
       "    <tr>\n",
       "      <th>category</th>\n",
       "      <th></th>\n",
       "      <th></th>\n",
       "      <th></th>\n",
       "      <th></th>\n",
       "      <th></th>\n",
       "      <th></th>\n",
       "    </tr>\n",
       "  </thead>\n",
       "  <tbody>\n",
       "    <tr>\n",
       "      <th>Fabric Care</th>\n",
       "      <td>24057.452666</td>\n",
       "      <td>1316.550667</td>\n",
       "      <td>1.379444</td>\n",
       "      <td>2.459785e+07</td>\n",
       "      <td>17893.793214</td>\n",
       "      <td>2017.75</td>\n",
       "    </tr>\n",
       "    <tr>\n",
       "      <th>Rice</th>\n",
       "      <td>90366.554917</td>\n",
       "      <td>835.305750</td>\n",
       "      <td>1.332917</td>\n",
       "      <td>2.457950e+07</td>\n",
       "      <td>70013.146313</td>\n",
       "      <td>2017.75</td>\n",
       "    </tr>\n",
       "    <tr>\n",
       "      <th>Sugar/Flavored Syrup</th>\n",
       "      <td>21329.772002</td>\n",
       "      <td>164.106542</td>\n",
       "      <td>1.712958</td>\n",
       "      <td>2.458355e+07</td>\n",
       "      <td>12645.066024</td>\n",
       "      <td>2017.75</td>\n",
       "    </tr>\n",
       "  </tbody>\n",
       "</table>\n",
       "</div>"
      ],
      "text/plain": [
       "                             Total     discount  quantity  receipts_item_id  \\\n",
       "category                                                                      \n",
       "Fabric Care           24057.452666  1316.550667  1.379444      2.459785e+07   \n",
       "Rice                  90366.554917   835.305750  1.332917      2.457950e+07   \n",
       "Sugar/Flavored Syrup  21329.772002   164.106542  1.712958      2.458355e+07   \n",
       "\n",
       "                        unit_price     year  \n",
       "category                                     \n",
       "Fabric Care           17893.793214  2017.75  \n",
       "Rice                  70013.146313  2017.75  \n",
       "Sugar/Flavored Syrup  12645.066024  2017.75  "
      ]
     },
     "execution_count": 91,
     "metadata": {},
     "output_type": "execute_result"
    }
   ],
   "source": [
    "pd.pivot_table(data=df, index='category')\n",
    "# secara otomatis akan mengeluarkan SELURUH KOLOM NUMERIK dan dihitung MEAN nya"
   ]
  },
  {
   "cell_type": "code",
   "execution_count": 92,
   "metadata": {},
   "outputs": [
    {
     "data": {
      "text/html": [
       "<div>\n",
       "<style scoped>\n",
       "    .dataframe tbody tr th:only-of-type {\n",
       "        vertical-align: middle;\n",
       "    }\n",
       "\n",
       "    .dataframe tbody tr th {\n",
       "        vertical-align: top;\n",
       "    }\n",
       "\n",
       "    .dataframe thead th {\n",
       "        text-align: right;\n",
       "    }\n",
       "</style>\n",
       "<table border=\"1\" class=\"dataframe\">\n",
       "  <thead>\n",
       "    <tr style=\"text-align: right;\">\n",
       "      <th></th>\n",
       "      <th>receipts_item_id</th>\n",
       "      <th>purchase_time</th>\n",
       "      <th>category</th>\n",
       "      <th>sub_category</th>\n",
       "      <th>format</th>\n",
       "      <th>unit_price</th>\n",
       "      <th>discount</th>\n",
       "      <th>quantity</th>\n",
       "      <th>month</th>\n",
       "      <th>year</th>\n",
       "      <th>day</th>\n",
       "      <th>quarter</th>\n",
       "      <th>Total</th>\n",
       "      <th>custom</th>\n",
       "    </tr>\n",
       "    <tr>\n",
       "      <th>receipt_id</th>\n",
       "      <th></th>\n",
       "      <th></th>\n",
       "      <th></th>\n",
       "      <th></th>\n",
       "      <th></th>\n",
       "      <th></th>\n",
       "      <th></th>\n",
       "      <th></th>\n",
       "      <th></th>\n",
       "      <th></th>\n",
       "      <th></th>\n",
       "      <th></th>\n",
       "      <th></th>\n",
       "      <th></th>\n",
       "    </tr>\n",
       "  </thead>\n",
       "  <tbody>\n",
       "    <tr>\n",
       "      <th>9622257</th>\n",
       "      <td>32369294</td>\n",
       "      <td>2018-07-22 21:19:00</td>\n",
       "      <td>Rice</td>\n",
       "      <td>Rice</td>\n",
       "      <td>supermarket</td>\n",
       "      <td>128000.0</td>\n",
       "      <td>0</td>\n",
       "      <td>1</td>\n",
       "      <td>July</td>\n",
       "      <td>2018</td>\n",
       "      <td>Sunday</td>\n",
       "      <td>2018Q3</td>\n",
       "      <td>128000.0</td>\n",
       "      <td>July - 21 : 21</td>\n",
       "    </tr>\n",
       "    <tr>\n",
       "      <th>9446359</th>\n",
       "      <td>31885876</td>\n",
       "      <td>2018-07-15 16:17:00</td>\n",
       "      <td>Rice</td>\n",
       "      <td>Rice</td>\n",
       "      <td>minimarket</td>\n",
       "      <td>102750.0</td>\n",
       "      <td>0</td>\n",
       "      <td>1</td>\n",
       "      <td>July</td>\n",
       "      <td>2018</td>\n",
       "      <td>Sunday</td>\n",
       "      <td>2018Q3</td>\n",
       "      <td>102750.0</td>\n",
       "      <td>July - 16 : 16</td>\n",
       "    </tr>\n",
       "    <tr>\n",
       "      <th>9470290</th>\n",
       "      <td>31930241</td>\n",
       "      <td>2018-07-15 12:12:00</td>\n",
       "      <td>Rice</td>\n",
       "      <td>Rice</td>\n",
       "      <td>supermarket</td>\n",
       "      <td>64000.0</td>\n",
       "      <td>0</td>\n",
       "      <td>3</td>\n",
       "      <td>July</td>\n",
       "      <td>2018</td>\n",
       "      <td>Sunday</td>\n",
       "      <td>2018Q3</td>\n",
       "      <td>192000.0</td>\n",
       "      <td>July - 12 : 12</td>\n",
       "    </tr>\n",
       "    <tr>\n",
       "      <th>9643416</th>\n",
       "      <td>32418582</td>\n",
       "      <td>2018-07-24 08:27:00</td>\n",
       "      <td>Rice</td>\n",
       "      <td>Rice</td>\n",
       "      <td>minimarket</td>\n",
       "      <td>65000.0</td>\n",
       "      <td>0</td>\n",
       "      <td>1</td>\n",
       "      <td>July</td>\n",
       "      <td>2018</td>\n",
       "      <td>Tuesday</td>\n",
       "      <td>2018Q3</td>\n",
       "      <td>65000.0</td>\n",
       "      <td>July - 08 : 08</td>\n",
       "    </tr>\n",
       "    <tr>\n",
       "      <th>9692093</th>\n",
       "      <td>32561236</td>\n",
       "      <td>2018-07-26 11:28:00</td>\n",
       "      <td>Rice</td>\n",
       "      <td>Rice</td>\n",
       "      <td>supermarket</td>\n",
       "      <td>124500.0</td>\n",
       "      <td>0</td>\n",
       "      <td>1</td>\n",
       "      <td>July</td>\n",
       "      <td>2018</td>\n",
       "      <td>Thursday</td>\n",
       "      <td>2018Q3</td>\n",
       "      <td>124500.0</td>\n",
       "      <td>July - 11 : 11</td>\n",
       "    </tr>\n",
       "  </tbody>\n",
       "</table>\n",
       "</div>"
      ],
      "text/plain": [
       "            receipts_item_id       purchase_time category sub_category  \\\n",
       "receipt_id                                                               \n",
       "9622257             32369294 2018-07-22 21:19:00     Rice         Rice   \n",
       "9446359             31885876 2018-07-15 16:17:00     Rice         Rice   \n",
       "9470290             31930241 2018-07-15 12:12:00     Rice         Rice   \n",
       "9643416             32418582 2018-07-24 08:27:00     Rice         Rice   \n",
       "9692093             32561236 2018-07-26 11:28:00     Rice         Rice   \n",
       "\n",
       "                 format  unit_price  discount  quantity month  year       day  \\\n",
       "receipt_id                                                                      \n",
       "9622257     supermarket    128000.0         0         1  July  2018    Sunday   \n",
       "9446359      minimarket    102750.0         0         1  July  2018    Sunday   \n",
       "9470290     supermarket     64000.0         0         3  July  2018    Sunday   \n",
       "9643416      minimarket     65000.0         0         1  July  2018   Tuesday   \n",
       "9692093     supermarket    124500.0         0         1  July  2018  Thursday   \n",
       "\n",
       "           quarter     Total          custom  \n",
       "receipt_id                                    \n",
       "9622257     2018Q3  128000.0  July - 21 : 21  \n",
       "9446359     2018Q3  102750.0  July - 16 : 16  \n",
       "9470290     2018Q3  192000.0  July - 12 : 12  \n",
       "9643416     2018Q3   65000.0  July - 08 : 08  \n",
       "9692093     2018Q3  124500.0  July - 11 : 11  "
      ]
     },
     "execution_count": 92,
     "metadata": {},
     "output_type": "execute_result"
    }
   ],
   "source": [
    "df.head()"
   ]
  },
  {
   "cell_type": "code",
   "execution_count": 93,
   "metadata": {},
   "outputs": [],
   "source": [
    "def discount(x):\n",
    "    return 0.15 * x"
   ]
  },
  {
   "cell_type": "code",
   "execution_count": 94,
   "metadata": {},
   "outputs": [
    {
     "data": {
      "text/html": [
       "<div>\n",
       "<style scoped>\n",
       "    .dataframe tbody tr th:only-of-type {\n",
       "        vertical-align: middle;\n",
       "    }\n",
       "\n",
       "    .dataframe tbody tr th {\n",
       "        vertical-align: top;\n",
       "    }\n",
       "\n",
       "    .dataframe thead th {\n",
       "        text-align: right;\n",
       "    }\n",
       "</style>\n",
       "<table border=\"1\" class=\"dataframe\">\n",
       "  <thead>\n",
       "    <tr style=\"text-align: right;\">\n",
       "      <th></th>\n",
       "      <th>receipts_item_id</th>\n",
       "      <th>purchase_time</th>\n",
       "      <th>category</th>\n",
       "      <th>sub_category</th>\n",
       "      <th>format</th>\n",
       "      <th>unit_price</th>\n",
       "      <th>discount</th>\n",
       "      <th>quantity</th>\n",
       "      <th>month</th>\n",
       "      <th>year</th>\n",
       "      <th>day</th>\n",
       "      <th>quarter</th>\n",
       "      <th>Total</th>\n",
       "      <th>custom</th>\n",
       "    </tr>\n",
       "    <tr>\n",
       "      <th>receipt_id</th>\n",
       "      <th></th>\n",
       "      <th></th>\n",
       "      <th></th>\n",
       "      <th></th>\n",
       "      <th></th>\n",
       "      <th></th>\n",
       "      <th></th>\n",
       "      <th></th>\n",
       "      <th></th>\n",
       "      <th></th>\n",
       "      <th></th>\n",
       "      <th></th>\n",
       "      <th></th>\n",
       "      <th></th>\n",
       "    </tr>\n",
       "  </thead>\n",
       "  <tbody>\n",
       "    <tr>\n",
       "      <th>9622257</th>\n",
       "      <td>32369294</td>\n",
       "      <td>2018-07-22 21:19:00</td>\n",
       "      <td>Rice</td>\n",
       "      <td>Rice</td>\n",
       "      <td>supermarket</td>\n",
       "      <td>128000.0</td>\n",
       "      <td>19200.0</td>\n",
       "      <td>1</td>\n",
       "      <td>July</td>\n",
       "      <td>2018</td>\n",
       "      <td>Sunday</td>\n",
       "      <td>2018Q3</td>\n",
       "      <td>128000.0</td>\n",
       "      <td>July - 21 : 21</td>\n",
       "    </tr>\n",
       "    <tr>\n",
       "      <th>9446359</th>\n",
       "      <td>31885876</td>\n",
       "      <td>2018-07-15 16:17:00</td>\n",
       "      <td>Rice</td>\n",
       "      <td>Rice</td>\n",
       "      <td>minimarket</td>\n",
       "      <td>102750.0</td>\n",
       "      <td>15412.5</td>\n",
       "      <td>1</td>\n",
       "      <td>July</td>\n",
       "      <td>2018</td>\n",
       "      <td>Sunday</td>\n",
       "      <td>2018Q3</td>\n",
       "      <td>102750.0</td>\n",
       "      <td>July - 16 : 16</td>\n",
       "    </tr>\n",
       "    <tr>\n",
       "      <th>9470290</th>\n",
       "      <td>31930241</td>\n",
       "      <td>2018-07-15 12:12:00</td>\n",
       "      <td>Rice</td>\n",
       "      <td>Rice</td>\n",
       "      <td>supermarket</td>\n",
       "      <td>64000.0</td>\n",
       "      <td>9600.0</td>\n",
       "      <td>3</td>\n",
       "      <td>July</td>\n",
       "      <td>2018</td>\n",
       "      <td>Sunday</td>\n",
       "      <td>2018Q3</td>\n",
       "      <td>192000.0</td>\n",
       "      <td>July - 12 : 12</td>\n",
       "    </tr>\n",
       "    <tr>\n",
       "      <th>9643416</th>\n",
       "      <td>32418582</td>\n",
       "      <td>2018-07-24 08:27:00</td>\n",
       "      <td>Rice</td>\n",
       "      <td>Rice</td>\n",
       "      <td>minimarket</td>\n",
       "      <td>65000.0</td>\n",
       "      <td>9750.0</td>\n",
       "      <td>1</td>\n",
       "      <td>July</td>\n",
       "      <td>2018</td>\n",
       "      <td>Tuesday</td>\n",
       "      <td>2018Q3</td>\n",
       "      <td>65000.0</td>\n",
       "      <td>July - 08 : 08</td>\n",
       "    </tr>\n",
       "    <tr>\n",
       "      <th>9692093</th>\n",
       "      <td>32561236</td>\n",
       "      <td>2018-07-26 11:28:00</td>\n",
       "      <td>Rice</td>\n",
       "      <td>Rice</td>\n",
       "      <td>supermarket</td>\n",
       "      <td>124500.0</td>\n",
       "      <td>18675.0</td>\n",
       "      <td>1</td>\n",
       "      <td>July</td>\n",
       "      <td>2018</td>\n",
       "      <td>Thursday</td>\n",
       "      <td>2018Q3</td>\n",
       "      <td>124500.0</td>\n",
       "      <td>July - 11 : 11</td>\n",
       "    </tr>\n",
       "  </tbody>\n",
       "</table>\n",
       "</div>"
      ],
      "text/plain": [
       "            receipts_item_id       purchase_time category sub_category  \\\n",
       "receipt_id                                                               \n",
       "9622257             32369294 2018-07-22 21:19:00     Rice         Rice   \n",
       "9446359             31885876 2018-07-15 16:17:00     Rice         Rice   \n",
       "9470290             31930241 2018-07-15 12:12:00     Rice         Rice   \n",
       "9643416             32418582 2018-07-24 08:27:00     Rice         Rice   \n",
       "9692093             32561236 2018-07-26 11:28:00     Rice         Rice   \n",
       "\n",
       "                 format  unit_price  discount  quantity month  year       day  \\\n",
       "receipt_id                                                                      \n",
       "9622257     supermarket    128000.0   19200.0         1  July  2018    Sunday   \n",
       "9446359      minimarket    102750.0   15412.5         1  July  2018    Sunday   \n",
       "9470290     supermarket     64000.0    9600.0         3  July  2018    Sunday   \n",
       "9643416      minimarket     65000.0    9750.0         1  July  2018   Tuesday   \n",
       "9692093     supermarket    124500.0   18675.0         1  July  2018  Thursday   \n",
       "\n",
       "           quarter     Total          custom  \n",
       "receipt_id                                    \n",
       "9622257     2018Q3  128000.0  July - 21 : 21  \n",
       "9446359     2018Q3  102750.0  July - 16 : 16  \n",
       "9470290     2018Q3  192000.0  July - 12 : 12  \n",
       "9643416     2018Q3   65000.0  July - 08 : 08  \n",
       "9692093     2018Q3  124500.0  July - 11 : 11  "
      ]
     },
     "execution_count": 94,
     "metadata": {},
     "output_type": "execute_result"
    }
   ],
   "source": [
    "df['discount'] = df['unit_price'].apply(discount)\n",
    "df.head()"
   ]
  },
  {
   "cell_type": "code",
   "execution_count": null,
   "metadata": {},
   "outputs": [],
   "source": []
  }
 ],
 "metadata": {
  "kernelspec": {
   "display_name": "Python [conda env:ml_dl]",
   "language": "python",
   "name": "conda-env-ml_dl-py"
  },
  "language_info": {
   "codemirror_mode": {
    "name": "ipython",
    "version": 3
   },
   "file_extension": ".py",
   "mimetype": "text/x-python",
   "name": "python",
   "nbconvert_exporter": "python",
   "pygments_lexer": "ipython3",
   "version": "3.7.6"
  }
 },
 "nbformat": 4,
 "nbformat_minor": 4
}
