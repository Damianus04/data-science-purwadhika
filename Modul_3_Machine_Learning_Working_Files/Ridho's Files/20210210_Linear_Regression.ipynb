{
 "cells": [
  {
   "cell_type": "markdown",
   "metadata": {},
   "source": [
    "# Python Excercise :  Simple Linear Regression"
   ]
  },
  {
   "cell_type": "markdown",
   "metadata": {},
   "source": [
    "> ## Table of Contents"
   ]
  },
  {
   "cell_type": "markdown",
   "metadata": {},
   "source": [
    "![image.png](data:image/png;base64,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)"
   ]
  },
  {
   "cell_type": "markdown",
   "metadata": {},
   "source": [
    "> ## Library"
   ]
  },
  {
   "cell_type": "code",
   "execution_count": 3,
   "metadata": {},
   "outputs": [
    {
     "name": "stdout",
     "output_type": "stream",
     "text": [
      "Requirement already satisfied: statsmodels in c:\\users\\r7891\\anaconda3\\lib\\site-packages (0.12.1)\n",
      "Requirement already satisfied: numpy>=1.15 in c:\\users\\r7891\\anaconda3\\lib\\site-packages (from statsmodels) (1.19.2)\n",
      "Requirement already satisfied: scipy>=1.1 in c:\\users\\r7891\\anaconda3\\lib\\site-packages (from statsmodels) (1.5.2)\n",
      "Requirement already satisfied: pandas>=0.21 in c:\\users\\r7891\\anaconda3\\lib\\site-packages (from statsmodels) (1.0.1)\n",
      "Requirement already satisfied: patsy>=0.5 in c:\\users\\r7891\\anaconda3\\lib\\site-packages (from statsmodels) (0.5.1)\n",
      "Requirement already satisfied: python-dateutil>=2.6.1 in c:\\users\\r7891\\anaconda3\\lib\\site-packages (from pandas>=0.21->statsmodels) (2.8.1)\n",
      "Requirement already satisfied: pytz>=2017.2 in c:\\users\\r7891\\anaconda3\\lib\\site-packages (from pandas>=0.21->statsmodels) (2020.5)\n",
      "Requirement already satisfied: six in c:\\users\\r7891\\anaconda3\\lib\\site-packages (from patsy>=0.5->statsmodels) (1.15.0)\n"
     ]
    }
   ],
   "source": [
    "!pip install statsmodels"
   ]
  },
  {
   "cell_type": "code",
   "execution_count": 2,
   "metadata": {},
   "outputs": [],
   "source": [
    "import statsmodels.api as sm\n",
    "import seaborn as sns # sb\n",
    "from statsmodels.api import OLS # LinearRegression\n",
    "import matplotlib.pyplot as plt"
   ]
  },
  {
   "cell_type": "markdown",
   "metadata": {},
   "source": [
    "> ## Dataset : Tips Dataset"
   ]
  },
  {
   "cell_type": "markdown",
   "metadata": {},
   "source": [
    "Dataset Description:\n",
    "Food servers’ tips in restaurants may be influenced by many factors, including the nature of the restaurant, size of the party, and table locations in the restaurant. Restaurant managers need to know which factors matter when they assign tables to food servers. For the sake of staff morale, they usually want to avoid either the substance or the appearance of unfair treatment of the servers, for whom tips (at least in restaurants in the United States) are a major component of pay. In one restaurant, a food server recorded the following data on all customers they served during an interval of two and a half months in early 1990. The restaurant, located in a suburban shopping mall, was part of a national chain and served a varied menu. In observance of local law, the restaurant offered to seat in a non-smoking section to patrons who requested it. Each record includes a day and time, and taken together, they show the server’s work schedule.\n",
    "\n",
    "From This information we frame the problem :\n",
    "1. Problem Statements : How migh we predict tips that will be recieved by food servers so we can minimize unfair treatment ?\n",
    "1. Data :\n",
    "  1. Label : Tips\n",
    "  1. Features : Total Bill\n",
    "1. ML Objective : Minimize the appearance of unfair treatment of the food servers, for whom tips are major component of pay.\n",
    "1. Action : Make food servers allocation \n",
    "1. Value : the sake of staff morale"
   ]
  },
  {
   "cell_type": "code",
   "execution_count": 4,
   "metadata": {},
   "outputs": [
    {
     "data": {
      "text/html": [
       "<div>\n",
       "<style scoped>\n",
       "    .dataframe tbody tr th:only-of-type {\n",
       "        vertical-align: middle;\n",
       "    }\n",
       "\n",
       "    .dataframe tbody tr th {\n",
       "        vertical-align: top;\n",
       "    }\n",
       "\n",
       "    .dataframe thead th {\n",
       "        text-align: right;\n",
       "    }\n",
       "</style>\n",
       "<table border=\"1\" class=\"dataframe\">\n",
       "  <thead>\n",
       "    <tr style=\"text-align: right;\">\n",
       "      <th></th>\n",
       "      <th>total_bill</th>\n",
       "      <th>tip</th>\n",
       "      <th>sex</th>\n",
       "      <th>smoker</th>\n",
       "      <th>day</th>\n",
       "      <th>time</th>\n",
       "      <th>size</th>\n",
       "    </tr>\n",
       "  </thead>\n",
       "  <tbody>\n",
       "    <tr>\n",
       "      <th>0</th>\n",
       "      <td>16.99</td>\n",
       "      <td>1.01</td>\n",
       "      <td>Female</td>\n",
       "      <td>No</td>\n",
       "      <td>Sun</td>\n",
       "      <td>Dinner</td>\n",
       "      <td>2</td>\n",
       "    </tr>\n",
       "    <tr>\n",
       "      <th>1</th>\n",
       "      <td>10.34</td>\n",
       "      <td>1.66</td>\n",
       "      <td>Male</td>\n",
       "      <td>No</td>\n",
       "      <td>Sun</td>\n",
       "      <td>Dinner</td>\n",
       "      <td>3</td>\n",
       "    </tr>\n",
       "    <tr>\n",
       "      <th>2</th>\n",
       "      <td>21.01</td>\n",
       "      <td>3.50</td>\n",
       "      <td>Male</td>\n",
       "      <td>No</td>\n",
       "      <td>Sun</td>\n",
       "      <td>Dinner</td>\n",
       "      <td>3</td>\n",
       "    </tr>\n",
       "    <tr>\n",
       "      <th>3</th>\n",
       "      <td>23.68</td>\n",
       "      <td>3.31</td>\n",
       "      <td>Male</td>\n",
       "      <td>No</td>\n",
       "      <td>Sun</td>\n",
       "      <td>Dinner</td>\n",
       "      <td>2</td>\n",
       "    </tr>\n",
       "    <tr>\n",
       "      <th>4</th>\n",
       "      <td>24.59</td>\n",
       "      <td>3.61</td>\n",
       "      <td>Female</td>\n",
       "      <td>No</td>\n",
       "      <td>Sun</td>\n",
       "      <td>Dinner</td>\n",
       "      <td>4</td>\n",
       "    </tr>\n",
       "    <tr>\n",
       "      <th>...</th>\n",
       "      <td>...</td>\n",
       "      <td>...</td>\n",
       "      <td>...</td>\n",
       "      <td>...</td>\n",
       "      <td>...</td>\n",
       "      <td>...</td>\n",
       "      <td>...</td>\n",
       "    </tr>\n",
       "    <tr>\n",
       "      <th>239</th>\n",
       "      <td>29.03</td>\n",
       "      <td>5.92</td>\n",
       "      <td>Male</td>\n",
       "      <td>No</td>\n",
       "      <td>Sat</td>\n",
       "      <td>Dinner</td>\n",
       "      <td>3</td>\n",
       "    </tr>\n",
       "    <tr>\n",
       "      <th>240</th>\n",
       "      <td>27.18</td>\n",
       "      <td>2.00</td>\n",
       "      <td>Female</td>\n",
       "      <td>Yes</td>\n",
       "      <td>Sat</td>\n",
       "      <td>Dinner</td>\n",
       "      <td>2</td>\n",
       "    </tr>\n",
       "    <tr>\n",
       "      <th>241</th>\n",
       "      <td>22.67</td>\n",
       "      <td>2.00</td>\n",
       "      <td>Male</td>\n",
       "      <td>Yes</td>\n",
       "      <td>Sat</td>\n",
       "      <td>Dinner</td>\n",
       "      <td>2</td>\n",
       "    </tr>\n",
       "    <tr>\n",
       "      <th>242</th>\n",
       "      <td>17.82</td>\n",
       "      <td>1.75</td>\n",
       "      <td>Male</td>\n",
       "      <td>No</td>\n",
       "      <td>Sat</td>\n",
       "      <td>Dinner</td>\n",
       "      <td>2</td>\n",
       "    </tr>\n",
       "    <tr>\n",
       "      <th>243</th>\n",
       "      <td>18.78</td>\n",
       "      <td>3.00</td>\n",
       "      <td>Female</td>\n",
       "      <td>No</td>\n",
       "      <td>Thur</td>\n",
       "      <td>Dinner</td>\n",
       "      <td>2</td>\n",
       "    </tr>\n",
       "  </tbody>\n",
       "</table>\n",
       "<p>244 rows × 7 columns</p>\n",
       "</div>"
      ],
      "text/plain": [
       "     total_bill   tip     sex smoker   day    time  size\n",
       "0         16.99  1.01  Female     No   Sun  Dinner     2\n",
       "1         10.34  1.66    Male     No   Sun  Dinner     3\n",
       "2         21.01  3.50    Male     No   Sun  Dinner     3\n",
       "3         23.68  3.31    Male     No   Sun  Dinner     2\n",
       "4         24.59  3.61  Female     No   Sun  Dinner     4\n",
       "..          ...   ...     ...    ...   ...     ...   ...\n",
       "239       29.03  5.92    Male     No   Sat  Dinner     3\n",
       "240       27.18  2.00  Female    Yes   Sat  Dinner     2\n",
       "241       22.67  2.00    Male    Yes   Sat  Dinner     2\n",
       "242       17.82  1.75    Male     No   Sat  Dinner     2\n",
       "243       18.78  3.00  Female     No  Thur  Dinner     2\n",
       "\n",
       "[244 rows x 7 columns]"
      ]
     },
     "execution_count": 4,
     "metadata": {},
     "output_type": "execute_result"
    }
   ],
   "source": [
    "tips = sns.load_dataset('tips')\n",
    "tips"
   ]
  },
  {
   "cell_type": "code",
   "execution_count": 5,
   "metadata": {},
   "outputs": [
    {
     "data": {
      "text/html": [
       "<div>\n",
       "<style scoped>\n",
       "    .dataframe tbody tr th:only-of-type {\n",
       "        vertical-align: middle;\n",
       "    }\n",
       "\n",
       "    .dataframe tbody tr th {\n",
       "        vertical-align: top;\n",
       "    }\n",
       "\n",
       "    .dataframe thead th {\n",
       "        text-align: right;\n",
       "    }\n",
       "</style>\n",
       "<table border=\"1\" class=\"dataframe\">\n",
       "  <thead>\n",
       "    <tr style=\"text-align: right;\">\n",
       "      <th></th>\n",
       "      <th>tip</th>\n",
       "      <th>total_bill</th>\n",
       "    </tr>\n",
       "  </thead>\n",
       "  <tbody>\n",
       "    <tr>\n",
       "      <th>count</th>\n",
       "      <td>244.000000</td>\n",
       "      <td>244.000000</td>\n",
       "    </tr>\n",
       "    <tr>\n",
       "      <th>mean</th>\n",
       "      <td>2.998279</td>\n",
       "      <td>19.785943</td>\n",
       "    </tr>\n",
       "    <tr>\n",
       "      <th>std</th>\n",
       "      <td>1.383638</td>\n",
       "      <td>8.902412</td>\n",
       "    </tr>\n",
       "    <tr>\n",
       "      <th>min</th>\n",
       "      <td>1.000000</td>\n",
       "      <td>3.070000</td>\n",
       "    </tr>\n",
       "    <tr>\n",
       "      <th>25%</th>\n",
       "      <td>2.000000</td>\n",
       "      <td>13.347500</td>\n",
       "    </tr>\n",
       "    <tr>\n",
       "      <th>50%</th>\n",
       "      <td>2.900000</td>\n",
       "      <td>17.795000</td>\n",
       "    </tr>\n",
       "    <tr>\n",
       "      <th>75%</th>\n",
       "      <td>3.562500</td>\n",
       "      <td>24.127500</td>\n",
       "    </tr>\n",
       "    <tr>\n",
       "      <th>max</th>\n",
       "      <td>10.000000</td>\n",
       "      <td>50.810000</td>\n",
       "    </tr>\n",
       "  </tbody>\n",
       "</table>\n",
       "</div>"
      ],
      "text/plain": [
       "              tip  total_bill\n",
       "count  244.000000  244.000000\n",
       "mean     2.998279   19.785943\n",
       "std      1.383638    8.902412\n",
       "min      1.000000    3.070000\n",
       "25%      2.000000   13.347500\n",
       "50%      2.900000   17.795000\n",
       "75%      3.562500   24.127500\n",
       "max     10.000000   50.810000"
      ]
     },
     "execution_count": 5,
     "metadata": {},
     "output_type": "execute_result"
    }
   ],
   "source": [
    "tips['tip total_bill'.split()].describe()"
   ]
  },
  {
   "cell_type": "code",
   "execution_count": 6,
   "metadata": {},
   "outputs": [
    {
     "data": {
      "text/html": [
       "<div>\n",
       "<style scoped>\n",
       "    .dataframe tbody tr th:only-of-type {\n",
       "        vertical-align: middle;\n",
       "    }\n",
       "\n",
       "    .dataframe tbody tr th {\n",
       "        vertical-align: top;\n",
       "    }\n",
       "\n",
       "    .dataframe thead th {\n",
       "        text-align: right;\n",
       "    }\n",
       "</style>\n",
       "<table border=\"1\" class=\"dataframe\">\n",
       "  <thead>\n",
       "    <tr style=\"text-align: right;\">\n",
       "      <th></th>\n",
       "      <th>tip</th>\n",
       "      <th>total_bill</th>\n",
       "    </tr>\n",
       "  </thead>\n",
       "  <tbody>\n",
       "    <tr>\n",
       "      <th>tip</th>\n",
       "      <td>1.000000</td>\n",
       "      <td>0.675734</td>\n",
       "    </tr>\n",
       "    <tr>\n",
       "      <th>total_bill</th>\n",
       "      <td>0.675734</td>\n",
       "      <td>1.000000</td>\n",
       "    </tr>\n",
       "  </tbody>\n",
       "</table>\n",
       "</div>"
      ],
      "text/plain": [
       "                 tip  total_bill\n",
       "tip         1.000000    0.675734\n",
       "total_bill  0.675734    1.000000"
      ]
     },
     "execution_count": 6,
     "metadata": {},
     "output_type": "execute_result"
    }
   ],
   "source": [
    "tips['tip total_bill'.split()].corr()"
   ]
  },
  {
   "cell_type": "code",
   "execution_count": 8,
   "metadata": {},
   "outputs": [
    {
     "data": {
      "image/png": "[encoded data removed]",
      "text/plain": [
       "<Figure size 720x720 with 1 Axes>"
      ]
     },
     "metadata": {
      "needs_background": "light"
     },
     "output_type": "display_data"
    }
   ],
   "source": [
    "plt.figure(figsize=(10,10))\n",
    "sns.regplot(x = 'total_bill', y = 'tip', data = tips)\n",
    "plt.show()"
   ]
  },
  {
   "cell_type": "markdown",
   "metadata": {},
   "source": [
    "> ## Simple Linear Regression"
   ]
  },
  {
   "cell_type": "markdown",
   "metadata": {},
   "source": [
    "We start to apply simple linear regression to the dataset:\n",
    "- Y : Tips\n",
    "- x : Total Bill"
   ]
  },
  {
   "cell_type": "code",
   "execution_count": 11,
   "metadata": {},
   "outputs": [
    {
     "data": {
      "text/plain": [
       "pandas.core.frame.DataFrame"
      ]
     },
     "execution_count": 11,
     "metadata": {},
     "output_type": "execute_result"
    }
   ],
   "source": [
    "type(tips[['total_bill']])"
   ]
  },
  {
   "cell_type": "code",
   "execution_count": 22,
   "metadata": {},
   "outputs": [],
   "source": [
    "# OLS => LinearRegression\n",
    "# sm.add_constant => nge-fitting si intercept\n",
    "#             endog    ,    exog \n",
    "sm_lm = OLS(endog = tips['tip'], exog = sm.add_constant(tips[['total_bill']])) \n",
    "result = sm_lm.fit()"
   ]
  },
  {
   "cell_type": "code",
   "execution_count": 23,
   "metadata": {},
   "outputs": [
    {
     "name": "stdout",
     "output_type": "stream",
     "text": [
      "                            OLS Regression Results                            \n",
      "==============================================================================\n",
      "Dep. Variable:                    tip   R-squared:                       0.457\n",
      "Model:                            OLS   Adj. R-squared:                  0.454\n",
      "Method:                 Least Squares   F-statistic:                     203.4\n",
      "Date:                Wed, 10 Feb 2021   Prob (F-statistic):           6.69e-34\n",
      "Time:                        21:11:33   Log-Likelihood:                -350.54\n",
      "No. Observations:                 244   AIC:                             705.1\n",
      "Df Residuals:                     242   BIC:                             712.1\n",
      "Df Model:                           1                                         \n",
      "Covariance Type:            nonrobust                                         \n",
      "==============================================================================\n",
      "                 coef    std err          t      P>|t|      [0.025      0.975]\n",
      "------------------------------------------------------------------------------\n",
      "const          0.9203      0.160      5.761      0.000       0.606       1.235\n",
      "total_bill     0.1050      0.007     14.260      0.000       0.091       0.120\n",
      "==============================================================================\n",
      "Omnibus:                       20.185   Durbin-Watson:                   2.151\n",
      "Prob(Omnibus):                  0.000   Jarque-Bera (JB):               37.750\n",
      "Skew:                           0.443   Prob(JB):                     6.35e-09\n",
      "Kurtosis:                       4.711   Cond. No.                         53.0\n",
      "==============================================================================\n",
      "\n",
      "Notes:\n",
      "[1] Standard Errors assume that the covariance matrix of the errors is correctly specified.\n"
     ]
    }
   ],
   "source": [
    "print(result.summary())"
   ]
  },
  {
   "cell_type": "markdown",
   "metadata": {},
   "source": [
    "## Interpretation\n",
    "\n",
    "F-Test:\n",
    "<br>\n",
    "B1 : P-Value of the Simultant test (Prob (F-statistics)) is below 0.05. We have enough evidence that totall bill affect tip that given to the food servers.\n",
    "<br>\n",
    "Partial Test:\n",
    "1. B0 : P-Value of the partial test is below 0.05. B0 is the condition when total bill has value of zero. in this case, it doesn't make sense that if there is people who paid food freely. So, the interpretation is the model still need B0. \n",
    "1. B1 : P-Value of the partial test is below 0.05. With significant level of 5%, we have enough evidence that higher total bill increase tip that given to the food servers\n",
    "\n",
    "Parameter Estimate:\n",
    "1. B0 = 0.9203 : This is not need to be interpreted because there is no people that paid free (x = 0) and 0 also fall outside 3.07 Dollar - 50.81 Dollar interval\n",
    "1. B1 = 0.1050 : When the total bill increase 1 Dollar, the tip will increase about 0.1050 Dollar or When the total bill increase 10 Dollar, the tip will increase about 1.05 Dollar (*This interpretation only recommended when total bill fall between 3.07 Dollar and 50.81 Dollar) \n",
    "1. It is strongly recommended to interprete within the interval of predictor.\n",
    "\n",
    "Coefficient Determination:\n",
    "<br>\n",
    "R-Square = 45.7% : This model can explain 45.7% variation of tips."
   ]
  },
  {
   "cell_type": "markdown",
   "metadata": {},
   "source": [
    "# Python Excercise :  Multiple Linear Regression"
   ]
  },
  {
   "cell_type": "markdown",
   "metadata": {},
   "source": [
    "> ## Table Of Contents"
   ]
  },
  {
   "cell_type": "markdown",
   "metadata": {},
   "source": [
    "![image.png](data:image/png;base64,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)"
   ]
  },
  {
   "cell_type": "markdown",
   "metadata": {},
   "source": [
    "> ## Library"
   ]
  },
  {
   "cell_type": "code",
   "execution_count": 24,
   "metadata": {},
   "outputs": [],
   "source": [
    "import statsmodels.api as sm\n",
    "import seaborn as sns\n",
    "from statsmodels.api import OLS\n",
    "import matplotlib.pyplot as plt"
   ]
  },
  {
   "cell_type": "markdown",
   "metadata": {},
   "source": [
    "> ## Dataset : Tips Dataset"
   ]
  },
  {
   "cell_type": "markdown",
   "metadata": {},
   "source": [
    "Framing the problem :\n",
    "1. Problem Statements : How migh we predict tips that will be recieved by food servers so we can minimize unfair treatment ?\n",
    "1. Data :\n",
    "  1. Label : Tips\n",
    "  1. Features : Total Bill and Size \n",
    "1. ML Objective : Minimize the appearance of unfair treatment of the food servers, for whom tips are major component of pay.\n",
    "1. Action : Make food servers allocation \n",
    "1. Value : the sake of staff morale"
   ]
  },
  {
   "cell_type": "markdown",
   "metadata": {},
   "source": [
    "> ## Data Analysis"
   ]
  },
  {
   "cell_type": "markdown",
   "metadata": {},
   "source": [
    "To Understand Our Data:\n",
    "- descriptive statistics\n",
    "- correlation\n",
    "- graphical summary"
   ]
  },
  {
   "cell_type": "code",
   "execution_count": 27,
   "metadata": {},
   "outputs": [
    {
     "data": {
      "text/html": [
       "<div>\n",
       "<style scoped>\n",
       "    .dataframe tbody tr th:only-of-type {\n",
       "        vertical-align: middle;\n",
       "    }\n",
       "\n",
       "    .dataframe tbody tr th {\n",
       "        vertical-align: top;\n",
       "    }\n",
       "\n",
       "    .dataframe thead th {\n",
       "        text-align: right;\n",
       "    }\n",
       "</style>\n",
       "<table border=\"1\" class=\"dataframe\">\n",
       "  <thead>\n",
       "    <tr style=\"text-align: right;\">\n",
       "      <th></th>\n",
       "      <th>size</th>\n",
       "      <th>total_bill</th>\n",
       "      <th>tip</th>\n",
       "    </tr>\n",
       "  </thead>\n",
       "  <tbody>\n",
       "    <tr>\n",
       "      <th>0</th>\n",
       "      <td>2</td>\n",
       "      <td>16.99</td>\n",
       "      <td>1.01</td>\n",
       "    </tr>\n",
       "    <tr>\n",
       "      <th>1</th>\n",
       "      <td>3</td>\n",
       "      <td>10.34</td>\n",
       "      <td>1.66</td>\n",
       "    </tr>\n",
       "    <tr>\n",
       "      <th>2</th>\n",
       "      <td>3</td>\n",
       "      <td>21.01</td>\n",
       "      <td>3.50</td>\n",
       "    </tr>\n",
       "    <tr>\n",
       "      <th>3</th>\n",
       "      <td>2</td>\n",
       "      <td>23.68</td>\n",
       "      <td>3.31</td>\n",
       "    </tr>\n",
       "    <tr>\n",
       "      <th>4</th>\n",
       "      <td>4</td>\n",
       "      <td>24.59</td>\n",
       "      <td>3.61</td>\n",
       "    </tr>\n",
       "    <tr>\n",
       "      <th>...</th>\n",
       "      <td>...</td>\n",
       "      <td>...</td>\n",
       "      <td>...</td>\n",
       "    </tr>\n",
       "    <tr>\n",
       "      <th>239</th>\n",
       "      <td>3</td>\n",
       "      <td>29.03</td>\n",
       "      <td>5.92</td>\n",
       "    </tr>\n",
       "    <tr>\n",
       "      <th>240</th>\n",
       "      <td>2</td>\n",
       "      <td>27.18</td>\n",
       "      <td>2.00</td>\n",
       "    </tr>\n",
       "    <tr>\n",
       "      <th>241</th>\n",
       "      <td>2</td>\n",
       "      <td>22.67</td>\n",
       "      <td>2.00</td>\n",
       "    </tr>\n",
       "    <tr>\n",
       "      <th>242</th>\n",
       "      <td>2</td>\n",
       "      <td>17.82</td>\n",
       "      <td>1.75</td>\n",
       "    </tr>\n",
       "    <tr>\n",
       "      <th>243</th>\n",
       "      <td>2</td>\n",
       "      <td>18.78</td>\n",
       "      <td>3.00</td>\n",
       "    </tr>\n",
       "  </tbody>\n",
       "</table>\n",
       "<p>244 rows × 3 columns</p>\n",
       "</div>"
      ],
      "text/plain": [
       "     size  total_bill   tip\n",
       "0       2       16.99  1.01\n",
       "1       3       10.34  1.66\n",
       "2       3       21.01  3.50\n",
       "3       2       23.68  3.31\n",
       "4       4       24.59  3.61\n",
       "..    ...         ...   ...\n",
       "239     3       29.03  5.92\n",
       "240     2       27.18  2.00\n",
       "241     2       22.67  2.00\n",
       "242     2       17.82  1.75\n",
       "243     2       18.78  3.00\n",
       "\n",
       "[244 rows x 3 columns]"
      ]
     },
     "execution_count": 27,
     "metadata": {},
     "output_type": "execute_result"
    }
   ],
   "source": [
    "tips2f = tips['size total_bill tip'.split()]\n",
    "tips2f"
   ]
  },
  {
   "cell_type": "code",
   "execution_count": 29,
   "metadata": {},
   "outputs": [
    {
     "data": {
      "text/html": [
       "<div>\n",
       "<style scoped>\n",
       "    .dataframe tbody tr th:only-of-type {\n",
       "        vertical-align: middle;\n",
       "    }\n",
       "\n",
       "    .dataframe tbody tr th {\n",
       "        vertical-align: top;\n",
       "    }\n",
       "\n",
       "    .dataframe thead th {\n",
       "        text-align: right;\n",
       "    }\n",
       "</style>\n",
       "<table border=\"1\" class=\"dataframe\">\n",
       "  <thead>\n",
       "    <tr style=\"text-align: right;\">\n",
       "      <th></th>\n",
       "      <th>size</th>\n",
       "      <th>total_bill</th>\n",
       "      <th>tip</th>\n",
       "    </tr>\n",
       "  </thead>\n",
       "  <tbody>\n",
       "    <tr>\n",
       "      <th>count</th>\n",
       "      <td>244.000000</td>\n",
       "      <td>244.000000</td>\n",
       "      <td>244.000000</td>\n",
       "    </tr>\n",
       "    <tr>\n",
       "      <th>mean</th>\n",
       "      <td>2.569672</td>\n",
       "      <td>19.785943</td>\n",
       "      <td>2.998279</td>\n",
       "    </tr>\n",
       "    <tr>\n",
       "      <th>std</th>\n",
       "      <td>0.951100</td>\n",
       "      <td>8.902412</td>\n",
       "      <td>1.383638</td>\n",
       "    </tr>\n",
       "    <tr>\n",
       "      <th>min</th>\n",
       "      <td>1.000000</td>\n",
       "      <td>3.070000</td>\n",
       "      <td>1.000000</td>\n",
       "    </tr>\n",
       "    <tr>\n",
       "      <th>25%</th>\n",
       "      <td>2.000000</td>\n",
       "      <td>13.347500</td>\n",
       "      <td>2.000000</td>\n",
       "    </tr>\n",
       "    <tr>\n",
       "      <th>50%</th>\n",
       "      <td>2.000000</td>\n",
       "      <td>17.795000</td>\n",
       "      <td>2.900000</td>\n",
       "    </tr>\n",
       "    <tr>\n",
       "      <th>75%</th>\n",
       "      <td>3.000000</td>\n",
       "      <td>24.127500</td>\n",
       "      <td>3.562500</td>\n",
       "    </tr>\n",
       "    <tr>\n",
       "      <th>max</th>\n",
       "      <td>6.000000</td>\n",
       "      <td>50.810000</td>\n",
       "      <td>10.000000</td>\n",
       "    </tr>\n",
       "  </tbody>\n",
       "</table>\n",
       "</div>"
      ],
      "text/plain": [
       "             size  total_bill         tip\n",
       "count  244.000000  244.000000  244.000000\n",
       "mean     2.569672   19.785943    2.998279\n",
       "std      0.951100    8.902412    1.383638\n",
       "min      1.000000    3.070000    1.000000\n",
       "25%      2.000000   13.347500    2.000000\n",
       "50%      2.000000   17.795000    2.900000\n",
       "75%      3.000000   24.127500    3.562500\n",
       "max      6.000000   50.810000   10.000000"
      ]
     },
     "execution_count": 29,
     "metadata": {},
     "output_type": "execute_result"
    }
   ],
   "source": [
    "tips2f.describe()"
   ]
  },
  {
   "cell_type": "code",
   "execution_count": 30,
   "metadata": {},
   "outputs": [
    {
     "data": {
      "text/html": [
       "<div>\n",
       "<style scoped>\n",
       "    .dataframe tbody tr th:only-of-type {\n",
       "        vertical-align: middle;\n",
       "    }\n",
       "\n",
       "    .dataframe tbody tr th {\n",
       "        vertical-align: top;\n",
       "    }\n",
       "\n",
       "    .dataframe thead th {\n",
       "        text-align: right;\n",
       "    }\n",
       "</style>\n",
       "<table border=\"1\" class=\"dataframe\">\n",
       "  <thead>\n",
       "    <tr style=\"text-align: right;\">\n",
       "      <th></th>\n",
       "      <th>size</th>\n",
       "      <th>total_bill</th>\n",
       "      <th>tip</th>\n",
       "    </tr>\n",
       "  </thead>\n",
       "  <tbody>\n",
       "    <tr>\n",
       "      <th>size</th>\n",
       "      <td>1.000000</td>\n",
       "      <td>0.598315</td>\n",
       "      <td>0.489299</td>\n",
       "    </tr>\n",
       "    <tr>\n",
       "      <th>total_bill</th>\n",
       "      <td>0.598315</td>\n",
       "      <td>1.000000</td>\n",
       "      <td>0.675734</td>\n",
       "    </tr>\n",
       "    <tr>\n",
       "      <th>tip</th>\n",
       "      <td>0.489299</td>\n",
       "      <td>0.675734</td>\n",
       "      <td>1.000000</td>\n",
       "    </tr>\n",
       "  </tbody>\n",
       "</table>\n",
       "</div>"
      ],
      "text/plain": [
       "                size  total_bill       tip\n",
       "size        1.000000    0.598315  0.489299\n",
       "total_bill  0.598315    1.000000  0.675734\n",
       "tip         0.489299    0.675734  1.000000"
      ]
     },
     "execution_count": 30,
     "metadata": {},
     "output_type": "execute_result"
    }
   ],
   "source": [
    "tips2f.corr()"
   ]
  },
  {
   "cell_type": "code",
   "execution_count": 37,
   "metadata": {},
   "outputs": [
    {
     "data": {
      "image/png": "[encoded data removed]",
      "text/plain": [
       "<Figure size 540x540 with 12 Axes>"
      ]
     },
     "metadata": {
      "needs_background": "light"
     },
     "output_type": "display_data"
    }
   ],
   "source": [
    "g = sns.PairGrid(tips2f)\n",
    "g.map_diag(plt.hist)\n",
    "g.map_upper(plt.scatter)\n",
    "g.map_lower(sns.kdeplot)\n",
    "plt.show()"
   ]
  },
  {
   "cell_type": "code",
   "execution_count": 38,
   "metadata": {},
   "outputs": [
    {
     "data": {
      "image/png": "[encoded data removed]",
      "text/plain": [
       "<Figure size 540x540 with 12 Axes>"
      ]
     },
     "metadata": {
      "needs_background": "light"
     },
     "output_type": "display_data"
    }
   ],
   "source": [
    "g = sns.PairGrid(tips2f)\n",
    "g.map_diag(plt.hist)\n",
    "g.map_upper(plt.scatter)\n",
    "g.map_lower(plt.scatter)\n",
    "plt.show()"
   ]
  },
  {
   "cell_type": "markdown",
   "metadata": {},
   "source": [
    "> ## Multipple Linear Regression"
   ]
  },
  {
   "cell_type": "markdown",
   "metadata": {},
   "source": [
    "We start to apply multiple linear regression to the dataset:\n",
    "- Y : Tips\n",
    "- x : Total Bill and Size"
   ]
  },
  {
   "cell_type": "code",
   "execution_count": 39,
   "metadata": {},
   "outputs": [],
   "source": [
    "sm_lm2f = OLS(tips['tip'], sm.add_constant(tips['total_bill size'.split()]))\n",
    "result2f = sm_lm2f.fit()"
   ]
  },
  {
   "cell_type": "code",
   "execution_count": 40,
   "metadata": {},
   "outputs": [
    {
     "name": "stdout",
     "output_type": "stream",
     "text": [
      "                            OLS Regression Results                            \n",
      "==============================================================================\n",
      "Dep. Variable:                    tip   R-squared:                       0.468\n",
      "Model:                            OLS   Adj. R-squared:                  0.463\n",
      "Method:                 Least Squares   F-statistic:                     105.9\n",
      "Date:                Wed, 10 Feb 2021   Prob (F-statistic):           9.67e-34\n",
      "Time:                        21:36:03   Log-Likelihood:                -347.99\n",
      "No. Observations:                 244   AIC:                             702.0\n",
      "Df Residuals:                     241   BIC:                             712.5\n",
      "Df Model:                           2                                         \n",
      "Covariance Type:            nonrobust                                         \n",
      "==============================================================================\n",
      "                 coef    std err          t      P>|t|      [0.025      0.975]\n",
      "------------------------------------------------------------------------------\n",
      "const          0.6689      0.194      3.455      0.001       0.288       1.050\n",
      "total_bill     0.0927      0.009     10.172      0.000       0.075       0.111\n",
      "size           0.1926      0.085      2.258      0.025       0.025       0.361\n",
      "==============================================================================\n",
      "Omnibus:                       24.753   Durbin-Watson:                   2.100\n",
      "Prob(Omnibus):                  0.000   Jarque-Bera (JB):               46.169\n",
      "Skew:                           0.545   Prob(JB):                     9.43e-11\n",
      "Kurtosis:                       4.831   Cond. No.                         67.6\n",
      "==============================================================================\n",
      "\n",
      "Notes:\n",
      "[1] Standard Errors assume that the covariance matrix of the errors is correctly specified.\n"
     ]
    }
   ],
   "source": [
    "print(result2f.summary())"
   ]
  },
  {
   "cell_type": "markdown",
   "metadata": {},
   "source": [
    "## Interpretation"
   ]
  },
  {
   "cell_type": "markdown",
   "metadata": {},
   "source": [
    "F-Test:\n",
    "<br>\n",
    "B1, B2 : P-Value of the Simultant test is below 0.05. We have enough evidence that minimum either totall bill or size affect tip that given to the food servers.\n",
    "<br>\n",
    "Partial Test:\n",
    "1. B0 : P-Value of the partial test is below 0.05. B0 is the condition when total bill and size of the party has value of zero. in this case, it doesn't make sense that if there are people who paid food freely and size of the party zero. So, the interpretation is the model still need B0. \n",
    "1. B1 : P-Value of the partial test is below 0.05. With significant level of 5%, we have enough evidence that total bill increase tip that given to the food servers\n",
    "1. B2 : P-Value of the partial test is below 0.05. With significant level of 5%, we have enough evidence that size of the party increase tip that given to the food servers\n",
    "\n",
    "Parameter Estimate:\n",
    "1. B0 = 0.689 : This is not meaningfull to be interpreted\n",
    "1. B1 = 0.0927 : When the total bill increase 1 Dollar, the tip will increase about 0.0927 Dollar or When the total bill increase 10 Dollar, the tip will increase about 9.27 cent (*This interpretation only applied when total bill fall between 3.07 Dollar and 50.81 Dollar)\n",
    "1. B2 = 0.1926 : When the size of the party increase 1 person, the tip will increase about 0.1926 Dollar(*This interpretation only applied when size of the party fall between 1 and 6) \n",
    "1. It is strongly recommended to interprete within the interval of predictor and no changes in another variable\n",
    "\n",
    "Coefficient Determination:\n",
    "<br>\n",
    "R-Square adj = 46.3% : This model can explain 46.3% variation of tips.\n",
    "<br>\n",
    "(* by adding size of the party the coefficient determination increase from 45.7% to 46.3%)\n"
   ]
  },
  {
   "cell_type": "code",
   "execution_count": null,
   "metadata": {},
   "outputs": [],
   "source": []
  }
 ],
 "metadata": {
  "kernelspec": {
   "display_name": "Python 3",
   "language": "python",
   "name": "python3"
  },
  "language_info": {
   "codemirror_mode": {
    "name": "ipython",
    "version": 3
   },
   "file_extension": ".py",
   "mimetype": "text/x-python",
   "name": "python",
   "nbconvert_exporter": "python",
   "pygments_lexer": "ipython3",
   "version": "3.8.3"
  }
 },
 "nbformat": 4,
 "nbformat_minor": 5
}
