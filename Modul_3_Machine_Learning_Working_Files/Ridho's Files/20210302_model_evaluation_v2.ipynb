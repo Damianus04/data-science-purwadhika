{
 "cells": [
  {
   "cell_type": "markdown",
   "id": "copyrighted-stephen",
   "metadata": {},
   "source": [
    "# Model Performance and Evaluation Method : bankloan dataset"
   ]
  },
  {
   "cell_type": "markdown",
   "id": "golden-charlotte",
   "metadata": {},
   "source": [
    "- Data\n",
    "- Data Splitting\n",
    "- Model Evaluation Benchmark\n",
    "- Simple Hyperprameter Tuning\n",
    "- Hyperparameter Tuning Grid Search"
   ]
  },
  {
   "cell_type": "markdown",
   "id": "coral-serial",
   "metadata": {},
   "source": [
    "> ## Data"
   ]
  },
  {
   "cell_type": "code",
   "execution_count": 1,
   "id": "wound-girlfriend",
   "metadata": {},
   "outputs": [],
   "source": [
    "import pandas as pd\n",
    "import numpy as np"
   ]
  },
  {
   "cell_type": "code",
   "execution_count": 5,
   "id": "decimal-salem",
   "metadata": {},
   "outputs": [
    {
     "data": {
      "text/html": [
       "<div>\n",
       "<style scoped>\n",
       "    .dataframe tbody tr th:only-of-type {\n",
       "        vertical-align: middle;\n",
       "    }\n",
       "\n",
       "    .dataframe tbody tr th {\n",
       "        vertical-align: top;\n",
       "    }\n",
       "\n",
       "    .dataframe thead th {\n",
       "        text-align: right;\n",
       "    }\n",
       "</style>\n",
       "<table border=\"1\" class=\"dataframe\">\n",
       "  <thead>\n",
       "    <tr style=\"text-align: right;\">\n",
       "      <th></th>\n",
       "      <th>age</th>\n",
       "      <th>ed</th>\n",
       "      <th>employ</th>\n",
       "      <th>address</th>\n",
       "      <th>income</th>\n",
       "      <th>debtinc</th>\n",
       "      <th>creddebt</th>\n",
       "      <th>othdebt</th>\n",
       "      <th>default</th>\n",
       "    </tr>\n",
       "  </thead>\n",
       "  <tbody>\n",
       "    <tr>\n",
       "      <th>0</th>\n",
       "      <td>41</td>\n",
       "      <td>3</td>\n",
       "      <td>17</td>\n",
       "      <td>12</td>\n",
       "      <td>176</td>\n",
       "      <td>9.3</td>\n",
       "      <td>11.359392</td>\n",
       "      <td>5.008608</td>\n",
       "      <td>1</td>\n",
       "    </tr>\n",
       "    <tr>\n",
       "      <th>1</th>\n",
       "      <td>27</td>\n",
       "      <td>1</td>\n",
       "      <td>10</td>\n",
       "      <td>6</td>\n",
       "      <td>31</td>\n",
       "      <td>17.3</td>\n",
       "      <td>1.362202</td>\n",
       "      <td>4.000798</td>\n",
       "      <td>0</td>\n",
       "    </tr>\n",
       "    <tr>\n",
       "      <th>2</th>\n",
       "      <td>40</td>\n",
       "      <td>1</td>\n",
       "      <td>15</td>\n",
       "      <td>14</td>\n",
       "      <td>55</td>\n",
       "      <td>5.5</td>\n",
       "      <td>0.856075</td>\n",
       "      <td>2.168925</td>\n",
       "      <td>0</td>\n",
       "    </tr>\n",
       "    <tr>\n",
       "      <th>3</th>\n",
       "      <td>41</td>\n",
       "      <td>1</td>\n",
       "      <td>15</td>\n",
       "      <td>14</td>\n",
       "      <td>120</td>\n",
       "      <td>2.9</td>\n",
       "      <td>2.658720</td>\n",
       "      <td>0.821280</td>\n",
       "      <td>0</td>\n",
       "    </tr>\n",
       "    <tr>\n",
       "      <th>4</th>\n",
       "      <td>24</td>\n",
       "      <td>2</td>\n",
       "      <td>2</td>\n",
       "      <td>0</td>\n",
       "      <td>28</td>\n",
       "      <td>17.3</td>\n",
       "      <td>1.787436</td>\n",
       "      <td>3.056564</td>\n",
       "      <td>1</td>\n",
       "    </tr>\n",
       "    <tr>\n",
       "      <th>...</th>\n",
       "      <td>...</td>\n",
       "      <td>...</td>\n",
       "      <td>...</td>\n",
       "      <td>...</td>\n",
       "      <td>...</td>\n",
       "      <td>...</td>\n",
       "      <td>...</td>\n",
       "      <td>...</td>\n",
       "      <td>...</td>\n",
       "    </tr>\n",
       "    <tr>\n",
       "      <th>695</th>\n",
       "      <td>36</td>\n",
       "      <td>2</td>\n",
       "      <td>6</td>\n",
       "      <td>15</td>\n",
       "      <td>27</td>\n",
       "      <td>4.6</td>\n",
       "      <td>0.262062</td>\n",
       "      <td>0.979938</td>\n",
       "      <td>1</td>\n",
       "    </tr>\n",
       "    <tr>\n",
       "      <th>696</th>\n",
       "      <td>29</td>\n",
       "      <td>2</td>\n",
       "      <td>6</td>\n",
       "      <td>4</td>\n",
       "      <td>21</td>\n",
       "      <td>11.5</td>\n",
       "      <td>0.369495</td>\n",
       "      <td>2.045505</td>\n",
       "      <td>0</td>\n",
       "    </tr>\n",
       "    <tr>\n",
       "      <th>697</th>\n",
       "      <td>33</td>\n",
       "      <td>1</td>\n",
       "      <td>15</td>\n",
       "      <td>3</td>\n",
       "      <td>32</td>\n",
       "      <td>7.6</td>\n",
       "      <td>0.491264</td>\n",
       "      <td>1.940736</td>\n",
       "      <td>0</td>\n",
       "    </tr>\n",
       "    <tr>\n",
       "      <th>698</th>\n",
       "      <td>45</td>\n",
       "      <td>1</td>\n",
       "      <td>19</td>\n",
       "      <td>22</td>\n",
       "      <td>77</td>\n",
       "      <td>8.4</td>\n",
       "      <td>2.302608</td>\n",
       "      <td>4.165392</td>\n",
       "      <td>0</td>\n",
       "    </tr>\n",
       "    <tr>\n",
       "      <th>699</th>\n",
       "      <td>37</td>\n",
       "      <td>1</td>\n",
       "      <td>12</td>\n",
       "      <td>14</td>\n",
       "      <td>44</td>\n",
       "      <td>14.7</td>\n",
       "      <td>2.994684</td>\n",
       "      <td>3.473316</td>\n",
       "      <td>0</td>\n",
       "    </tr>\n",
       "  </tbody>\n",
       "</table>\n",
       "<p>700 rows × 9 columns</p>\n",
       "</div>"
      ],
      "text/plain": [
       "     age  ed  employ  address  income  debtinc   creddebt   othdebt  default\n",
       "0     41   3      17       12     176      9.3  11.359392  5.008608        1\n",
       "1     27   1      10        6      31     17.3   1.362202  4.000798        0\n",
       "2     40   1      15       14      55      5.5   0.856075  2.168925        0\n",
       "3     41   1      15       14     120      2.9   2.658720  0.821280        0\n",
       "4     24   2       2        0      28     17.3   1.787436  3.056564        1\n",
       "..   ...  ..     ...      ...     ...      ...        ...       ...      ...\n",
       "695   36   2       6       15      27      4.6   0.262062  0.979938        1\n",
       "696   29   2       6        4      21     11.5   0.369495  2.045505        0\n",
       "697   33   1      15        3      32      7.6   0.491264  1.940736        0\n",
       "698   45   1      19       22      77      8.4   2.302608  4.165392        0\n",
       "699   37   1      12       14      44     14.7   2.994684  3.473316        0\n",
       "\n",
       "[700 rows x 9 columns]"
      ]
     },
     "execution_count": 5,
     "metadata": {},
     "output_type": "execute_result"
    }
   ],
   "source": [
    "bankloan = pd.read_csv('../data/bankloan.csv')\n",
    "bankloan"
   ]
  },
  {
   "cell_type": "markdown",
   "id": "discrete-opposition",
   "metadata": {},
   "source": [
    "> ## Data Splitting"
   ]
  },
  {
   "cell_type": "code",
   "execution_count": 6,
   "id": "delayed-fault",
   "metadata": {},
   "outputs": [],
   "source": [
    "from sklearn.linear_model import LogisticRegression\n",
    "from sklearn.neighbors import KNeighborsClassifier\n",
    "from sklearn.tree import DecisionTreeClassifier\n",
    "\n",
    "from sklearn.model_selection import train_test_split\n",
    "from sklearn.metrics import confusion_matrix, classification_report, f1_score, recall_score, precision_score"
   ]
  },
  {
   "cell_type": "code",
   "execution_count": 7,
   "id": "brief-diving",
   "metadata": {},
   "outputs": [],
   "source": [
    "fitur = ['employ', 'debtinc', 'creddebt', 'othdebt']\n",
    "target = ['default']"
   ]
  },
  {
   "cell_type": "code",
   "execution_count": 8,
   "id": "light-honduras",
   "metadata": {},
   "outputs": [],
   "source": [
    "X = bankloan[fitur]\n",
    "y = bankloan[target]"
   ]
  },
  {
   "cell_type": "markdown",
   "id": "multiple-negotiation",
   "metadata": {},
   "source": [
    "![image.png](data:image/png;base64,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)"
   ]
  },
  {
   "cell_type": "code",
   "execution_count": 9,
   "id": "utility-consideration",
   "metadata": {},
   "outputs": [],
   "source": [
    "X_train_val, X_test, y_train_val, y_test = train_test_split(\n",
    "    X,\n",
    "    y,\n",
    "    stratify=y,\n",
    "    test_size=0.2,\n",
    "    random_state=2020\n",
    ")"
   ]
  },
  {
   "cell_type": "markdown",
   "id": "worth-building",
   "metadata": {},
   "source": [
    "> ## Model Evaluation : Benchmark"
   ]
  },
  {
   "cell_type": "markdown",
   "id": "objective-devil",
   "metadata": {},
   "source": [
    "![image.png](data:image/png;base64,iVBORw0KGgoAAAANSUhEUgAAA64AAAHiCAYAAADoA5FMAAAgAElEQVR4Aey9ebQkVZ3gn3/MTI9t92+cOTO/XpzuY2u3M/rrto/29LT6W1rF4woibyhHZFMQ2UFBFoFCeDw2oQDZl6JYqvKxU1VAFVXFUhTLe2yyb4KgWMBjKfZFBeX7Ozfi3oh7b0RmRmZGREZEfuqcrIyMuOvnfl9GfPLG0hL+QQACEIAABCAAAQhAAAIQgAAEKkygVeG20TQIQAACEIAABCAAAQhAAAIQgIAgrgQBBCAAAQhAAAIQgAAEIAABCFSaAOJa6eGhcRCAAAQgAAEIQAACEIAABCCAuBIDEIAABCAAAQhAAAIQgAAEIFBpAohrpYeHxkEAAhCAAAQgAAEIQAACEIAA4koMQAACEIAABCAAAQhAAAIQgEClCSCulR4eGgcBCEAAAhCAAAQgAAEIQAACiCsxEBJYu1aEFwyIgWbFAN9vEIAABCAAAQhAoCEEENeGDOTQ3fiXfxHZdFORrbbiBQNioAkx8Hd/J7Jhw9BfDRQAAQhAAAIQgAAEqkAAca3CKFShDZ/9rMijj1ahJbQBAhDIg8A//iPimgdHyoAABCAAAQhAoBIEENdKDEMFGoG4VmAQaAIEciSAuOYIk6IgAAEIQAACEBg1AcR11CNQlfoR16qMBO2AQD4EENd8OFIKBCAAAQhAAAKVIIC4VmIYKtAIxLUCg0ATIJAjAcQ1R5gUBQEIQAACEIDAqAkgrqMegarUj7hWZSRoBwTyIYC45sORUiAAAQhAAAIQqAQBxLUSw1CBRiCuFRgEmgCBHAkgrjnCpCgIQAACEIAABEZNAHEd9QhUpX7EtSojQTsgkA8BxDUfjpQCAQhAAAIQgEAlCCCulRiGCjQCca3AINAECORIAHHNESZFQQACEIAABCAwagKI66hHoCr1V1hc56YnpNVqSWtypiutMN2EtNd3TZZh44xMZajPLSjMMzE9565e35aJ1pSols9MtqSll91E4ade29PysG44Aor51OxwZVQ2N+Ja2aGhYRCAAAQgAAEI9E8Ace2fWTNzVF5cJ2RiXksSYqhHI5LbVsXEdXYqEu5eYtprezMDb4S9Cn5UQFxHOAJUDQEIQAACEIAABDITQFwzo2p4whqIa3t6Slrz2uLNaYrInLTnTcjUpJqZrZa42jN6vcS01/aGR2D53UNcy2dOjRCAAAQgAAEIQGBAAojrgOAal60O4rpenY6bIqZKQCZnJP1UYX3arzr1N3h1yB9tV7O67ZRThZUcmzLCd/cU07RThdW68DRhFS+9xNTent4X0X20Tj2e15YZcyp1p/4FYt+77VPT6rRmnW5yJmxvpvJ9xv5p3eF2v/zgb0jLYzg2Yd32rHrIYUpm1My1aVtLz5J6ee184d+n3y5r7L3y3B9EuuRTBQd5p6RtcXdjIax95P9zqvDIh4AGQAACEIAABCCQHwHENT+W9S6pFuIayqMvKEpulDgkZM+IjXVtbJjGOj1UC0xcpiWoUT4tMvZsr84XC0uYJi5HC05URn/iKrrtTnlGQHWZoei2nFnoBAPJ3nZ/trqf8p12JtpuRNASR/XXotPFDI0UxuNjxssWy6hd1o8CoUzG+UzZ9nXRCTZp9et1XfMZ6bXjoYp//YhrFUeFNkEAAhCAAAQgMCABxHVAcI3LVgtx1XLqCIMSzXAG0heTQHCctGrUtJgG6+1le0S1aGlB9Ms1KUOBMjOqSXFV+Wyhi4XLnf20ZxLjmzeltM0TLbd+0yqdb4C227KmSstevmFg2qDzRuxdniZVUH6UxqzN0P7EjwZBa4NZcsO7a9tNnR7PoJTUG2h5Y5Fav2l/hd4R1woNBk2BAAQgAAEIQGBYAojrsASbkr8m4hrOpFkzd0oiUiXNFSB7mEIRVbKVlM0wnZ3Xkxa7oEBgTFv8slQ+sy3MlC5TcYGJ7U75ZkY5lsR08bOFc9C2W+01khc3s4PQxjOokYhHeX02VmFmUctglNcZ07jPQXKd1pmpdcYyXZRV3njs4/bG5WTM542L6ULl3hHXyg0JDYIABCAAAQhAYHACiOvg7JqVsy7iqmdM7Zk1Ix7uzGgGCdEzbqYse0ADKQzkScufdX1lJFfONaWenKmyI3ELS06IqV1h6gynXaZuhxY6lTVuo1tQLGcDtl0X17v8oBXh9cCGj25fkDfqv90Pq62av+EZjoPbz7gvVr6s4mralHjXIpyYcdUxk0hvZsh1PsTVGgwWIQABCEAAAhCAQDkEENdyOFe/ltqIq326sBKNeDbOFVdXgOwBiGWog1CZ04ltcbWE0S4rXnbLUnX4Qty/uFqn3CYky9oWNyJYiuvpzMDN4rbdbHPl06y1Z3Td5TiF37a08nXbIrk1ud02x2Nltievgw232HXYy1Y+fzHBNGM+xNUnyWcIQAACEIAABCBQOAHEtXDENamgRuIanS6sHo9jCaUrrp2kyhYme9kep1BgTNmp8uSfduqcqqrKdU8TVqXHQmnXFS+nbteSFDzqx5O81PSOdHunxsZVuafMOm2PE/Uuvwe/qL1pQugyjmo1s7B6XFPZ95xx9cU5Kj0cA9OuhLhmzIe4xkBZggAEIAABCEAAAiURQFxLAl35auokrkbOzGNRNFxfXDvfWTZ591l7djQUNvuRLlqyjPCo+rT0xPlsOVPL8UywGft0ETRbO4mtlsOWekyP+wTbZDtNGbY099t2vz02h2T5YRvs+kwa+27HNhtTvumXzcmsi+scVFzN+JgfH4JaE8Kb0i5PnFPzIa5mEHmHAAQgAAEIQAACpRFAXEtDXfGKaiWuRo5s6TGzi65EiZ5NNNdRxnfttcbDyIq5tnGyHT6z1ZrNje5GbNJ40mzqCeRSiY2TN6xrMHHt1C/NYF5b2sGdcL3rMK3u9dV2K1/Q3gzlRwKt2SgG7o8IKYIY1GOJqs6rrle2OQ0srkH5WtqjMfNjw9Sl2Nmx1CMf4mpFCYsQgAAEIAABCECgHAKIazmcq19LhcW1+vCKbaERSHe+NRZXf31erelUb17lU07BBLircMGAKR4CEIAABCAAgTIJIK5l0q5yXYhrRUcnnP0zd062G1m0WBZdvt0XlgsggLgWAJUiIQABCEAAAhAYFQHEdVTkq1Yv4lqxEYlPV/WvbTUNLVosiy7f9IP3ggggrgWBpVgIQAACEIAABEZBAHEdBfUq1om4VnFUaBMEBieAuA7OjpwQgAAEIAABCFSOAOJauSEZUYMQ1xGBp1oIFEQAcS0ILMVCAAIQgAAEIDAKAojrKKhXsU7EtYqjQpsgMDgBxHVwduSEAAQgAAEIQKByBBDXyg3JiBqEuI4IPNVCoCACiGtBYCkWAhCAAAQgAIFREEBcR0G9inUirrmPSvgMUvN81fA97e7AuVccFaifkzqvLeEjc8IbPnW62VOYzc8TFdZ9QT0LN6qne1K2lkQAcS0JNNVAAAIQgAAEIFAGAcS1DMp1qANxzXGUzB2Bp2TGLnV2SlqtlrQmnbV2ipyXB5HQQfIU/0zZnMGMR3GI63iMM72EAAQgAAEIjAkBxHVMBrpnNxHXnoiyJeghflpey5l57dGW1A4NkgdxTUU56pWI66hHgPohAAEIQAACEMiRAOKaI8xaF4W45jN8PcV0RmZmRebWhyfvBpWq02zVTKz1ck7nDcqckPZ6M5Or0yZmbv3tbWnPa0krOoU37VThXnlCLMEzXa32tVpmNlmLrrUtlvJu2zRuMwsd5Vf9zGcoxr4UxHXsQwAAEIAABCAAgSYRQFybNJrD9AVxHYZelDe8rrUP+dLSGsueiPjyG8mdkcU4TSS4Rn4tmY1ks5O4ZsqTNpuanJUN6orqUTi0ENvrOvTL7nvIz+pnRJaFvgkgrn0jIwMEIAABCEAAAtUlgLhWd2zKbRnimgvvUBazi1dS+FQztBgaCfWFL2ipmya9Xl8w3RnXTHnSxFrVH7QpFnS/H50E3q4TSc0l5DoXgrh2ZsMWCEAAAhCAAARqRwBxrd2QFdRgxDUXsLaY9V1gNLPqnQrsSWJYri2u9rJbqyuUtrhmzWOXp/OknNbr1qPT2bOtphi7L2bGt9WSaObYpON9eAKI6/AMKQECEIAABCAAgcoQQFwrMxQjbgjimssAdJpp7Fi4JW/qGtdQ4DyptGUvKsiWQ31arpmhjdKIBO2JBNIW16x59KnCkazq2WSvTaniGuVxr99tteKZ2mh22UqLxFoDOMwi4joMPfJCAAIQgAAEIFAxAohrxQZkZM1BXPNB3+nU2qh0Wzjt5ShBh1OFbdlTae28ejlFXF2htMU1Y55AUFtiX4catDSLuKa0x+5l2nLQ3kjg01KwLjMBxDUzKhJCAAIQgAAEIFB9Aohr9ceonBYirjlxtoUypUgtguGsYodZTzMLa8TPk8SwVLeeUPj8a2vdNOaGSWZGM0ueTjPIYd5YpoPP0cyunumN7jwcc+h9XWsHJnERLGUlgLhmJUU6CEAAAhCAAARqQABxrcEgldJExDVHzFq+fHHT0ho/nkaLpZPOrGtJqw9xNVIa5VFzstMT4SN2IqG0Z1xVd5OSmMjjiLZGZPphnfKbFFJddlS3iGghN+Ic5onlNyhdl52Y4c1xdMamKMR1bIaajkIAAhCAAATGgQDiOg6jnKWPiGsWSn2lCWcl3es7k0Jmiaq+zlOlcWZDA5nzBM85Vdg0ywizrnNeW9qTfT7HNZHH3EHY6oeSUU9CjZTG1+mqNqX3zbQ2SGHk2rrGNcnIzsFyZgKIa2ZUJIQABCAAAQhAoPoEENfqj1E5LURcy+FMLRAoiwDiWhZp6oEABCAAAQhAoAQCiGsJkGtRBeJai2GikRDITABxzYyKhBCAAAQgAAEIVJ8A4lr9MSqnhYhrOZypBQJlEUBcyyJNPRCAAAQgAAEIlEAAcS0Bci2qQFxrMUw0EgKZCSCumVGREAIQgAAEIACB6hNAXKs/RuW0EHEthzO1QKAsAohrWaSpBwIQgAAEIACBEgggriVArkUViGstholGQiAzAcQ1MyoSQgACEIAABCBQfQKIa/XHqJwWIq7lcKYWCJRFAHEtizT1QAACEIAABCBQAgHEtQTItagCca3FMNFICGQmgLhmRkVCCEAAAhCAAASqTwBxrf4YldPCj31MZNddRebP59VgBm/vv7/8br/9GOMGj3H0N/xnfyayYUM53x/UAgEIQAACEIAABAomgLgWDLg2xV95pciiRbwazuDnBx0i1223C+Pc8HGO/pZr8wVEQyEAAQhAAAIQgEB3Aohrdz5shUCjCNxy+71y0sKLGtUnOgMBCEAAAhCAAAQg0HwCiGvzx5geQiAiMHvn/XLCmRdEn1mAAAQgAAEIQAACEIBAHQggrnUYJdoIgZwI3H73g7LgtHZOpVEMBCAAAQhAAAIQgAAEyiGAuJbDmVogUAkCP7v3YTnmlPMr0RYaAQEIQAACEIAABCAAgawEENespEgHgQYQuPv+n8tRJ57bgJ7QBQhAAAIQgAAEIACBcSKAuI7TaNPXsSdw30OPyeEnLBp7DgCAAAQgAAEIQAACEKgXAcS1XuNFayEwFIEHH3lcDluwcKgyyAwBCEAAAhCAAAQgAIGyCSCuZROnPgiMkMDDj/1SDjnmzBG2gKohAAEIQAACEIAABCDQPwHEtX9m5IBAbQk8+viv5eCjT69t+2k4BCAAAQhAAAIQgMB4EkBcx3Pc6fWYEnj8V0/JgUecOqa9p9sQgAAEIAABCEAAAnUlgLjWdeRoNwQGIPDLXz8j+0+dPEBOskAAAhCAAAQgAAEIQGB0BBDX0bGnZgiUTuDXTz0r+x7609LrpUIIQAACEIAABCAAAQgMQwBxHYYeeSFQMwJPzz0ve//4+Jq1muZCAAIQgAAEIAABCIw7AcR13COA/o8VgbnnNsj3D1owVn2msxCAAAQgAAEIQAAC9SeAuNZ/DOkBBDITeH7DS7LHAcdkTk9CCEAAAhCAAAQgAAEIVIEA4lqFUaANECiJwIsvvSK77n90SbVRDQQgAAEIQAACEIAABPIhgLjmw5FSIFALAi+/+prstM+RtWgrjYQABCAAAQhAAAIQgIAhgLgaErxDYAwIvPb6m/K9vQ8fg57SRQhAAAIQgAAEIACBJhFAXJs0mvQFAj0IvPnmb2T77x/WIxWbIQABCEAAAhCAAAQgUC0CiGu1xoPWQKBQAr/57e/k23scUmgdFA4BCEAAAhCAAAQgAIG8CSCueROlPAhUmMDbb78j2+x6cIVbSNMgAAEIQAACEIAABCCQJIC4JpmwBgKNI/C7t9+W2Tvuk9k775PNt99Xbrr1brn6uhl59913G9dXOgQBCEAAAhCAAAQg0DwCiGvzxpQeQSBB4MrVN8lXtthTNvv2D+Vr2+wlm26zt3zpm3vIqutmEmlZAQEIQAACEIAABCAAgaoRQFyrNiK0BwIFEHjl1dfl69vuLZ/ffJfo9fVtfyhqPf8gAAEIQAACEIAABCBQdQKIa9VHiPZBICcCU8edHUmrEtgDjzg1p5IpBgIQgAAEIAABCEAAAsUSQFyL5UvpEKgMgTvveUg2327fQF7VKcM33PKzyrSNhkAAAhCAAAQgAAEIQKAbAcS1Gx22QaBhBLbaZX4grptus5e89ZvfNqx3dAcCEIAABCAAAQhAoKkEENemjiz9gkAKgSWXXi1f/MZuctiChSlbWQUBCEAAAhCAAAQgAIFqEkBcqzkutAoChRBY//Sz8uUt9pCZO+4rpHwKhQAEIAABCEAAAhCAQBEEENciqFImBCpM4N6HHpM//OEPFW4hTYMABCAAAQhAAAIQgIBLAHF1efAJAhCAAAQgAAEIQAACEIAABCpGAHGt2IDQHAhAAAIQgAAEIAABCEAAAhBwCSCuLg8+QQACEIAABCAAAQhAAAIQgEDFCCCuFRsQmgMBCEAAAhCAAAQgAAEIQAACLgHE1eXBJwhAAAIQgAAEIAABCEAAAhCoGAHEtWIDQnMgAAEIQAACEIAABCAAAQhAwCWAuLo8+AQBCEAAAhCAAAQgAAEIQAACFSOAuFZsQGgOBCAAAQhAAAIQgAAEIAABCLgEEFeXB58gAAEIQAACEIAABCAAAQhAoGIEENeKDQjNgQAEIAABCEAAAhCAAAQgAAGXAOLq8uATBCAAAQhAAAIQgAAEIAABCFSMAOJasQGhORCAAAQgAAEIQAACEIAABAYlcN1Nd8jWux4su+x3VO1eqt2q/Wn/ENc0KqyDAAQgAAEIQAACEIAABCBQQwJXrr5RFi5ZJi++/GrtXqeec4msXjubSh1xTcXCSggURGB2SlqtlrTmtWWuWxU63VT63223nN62OWnPy1Cfk0vnmZxx1jofTD9UX9JeJm+QbkLa63Xu9W2Z6NV3pyI+QAACEFAEZmQq+K6xvk9Sweh05jsoNU22lXPTE9Jq9arPLivDd6f6Dkz7ztTrJqa77hnsygZY9tj4388ZSpyZbMnw+6UMFZEEAhAYioAS1/alVw9Vxqgyn3PBFYjrqOBTLwQcAlr4JuZNSKvTgZUlhcMfIBQrrv22Tx309JR2BxgfIAABCCgCWrrmTchEa0rSf1Yzctvq/P3aB8wixTVVUM13f6d9Qx9tT0/qiWt6os5rtXT3+73fuUC2QAACRRFAXIsiS7kQGCcC+sBkalr96p5+8BX8oj0ZzswOf4CAuI5TeNFXCDSXgJGudnAWSep3o/p+nZwKZ2ZzkL/SxVXpufpxr8O+YfixNQzTtb9n+YhrT0QkgEBVCCCuVRkJ2gGBOhMw4jobCmXy4GtGptSptFE6u7PWbELHU+a8NJPhQZ4/yxkekFmn+ToHeRlOd0ttn91WvRykU6fa6TKtU+SSfU/JzyoIQAACAYFYuoLvL+c7K0Q0M6m+a+J0Mbhs3z+hNJrvxSlpp50qrL/7oksknEsfMnx3avlLnXEVEUeWg7pMO8J2Rd+bXduhe+6dljwx3XalPvp+jkmJX67h7K93+m3lZxECEKgEgUBcL+NU4UoMBo2AQG0J6J2/OvgIDpLMQYHp0OyUBAc0VrpgkzkAsdIb+YwOZFLSRAdi1kFGuM6+bss/0Mtw8OW3z7Tffw/SxXUFdVtt8ZPzGQIQgEA6Aet7Kvhe8c9Y0T/6mVOKo+9Knc/+3tHfX7E8GrG1ytRp7GtcE9+5ovNFZWf47uwhruH3s26HaUNUfkimdztEjIAm+2idRh2UH38/J8u1mKuqddujfU76QLEWAhCoAAHEtQKDQBMgUHsC+kAk2PEHy9aBUnCamD6IsNOZ08e8gxfxDpqcA54IlHdg1emgyakvw8GXTh/NOlgzqc61u0G6+MAIcY0GhgUIQKAvArZEhcuOQJkf/TxxDWXM/Z5V1Trfl873X9yoMK/5/rLrj9MYmQsFMcN3Z6fvYFWkbkckm6nt6qMdiX2Gl9f5fg63RXWbLgZpND/E1VDhHQKVJ4C4Vn6IaCAEakDAORAJDxSigy91UGAONJx0nQ+G4oOyzmlsWXQPxGxe9kFL57KiHE77orXJhSCdOfDTB4umj8nUrIEABCDQgYArXcH3WjSrqr6zzPdMSrq07xzruyn+HvWqttIYqYy+r6Ok9velvRwlcBe0/KX+6Nfy7thr129KCdZ56YJtdt3297nJqN7tNEaUNbcsUpoljV0dyxCAwMgI1FlcF3FX4ZHFDRVDwCXgHXTYB1/q4Cn6tdtJ5x6I2QXGB1w90ugDtzC9uYYr+Z551sBpn90ibzlIZw4oEVePDh8hAIHMBLzvuOC7xZoJjOTUTqdFLdpmVWZ9Nzmzr1aScDZVf3/p77xOwhmeaeKJoV2WWdbyF33Xm/Vp71Ybo81Z2tGlDnufE8q427+kmEc1c6qwhYJFCFSdAOJa9RGifRCoAwF90BEdHASf1cGXOuCJBc/9db/zwVAsrp3TBAcqjrgmT5tz0XUuK0rn9yPa4C0E6eJ+2W3xUvIRAhCAQBcCtpCqZOFn9V3q/OjnnSrc8TvH+m6Kv0e96q00juR5yeKPGb47u0hlXI5esus3G9PWmW3Re8gmKcde++yyguW0mdyoUMTVQsEiBKpOAHGt+gjRPgjUgUDi4EAffKnH49izAl664OAr8YgEfRCi82VJY67HisTZMHNOAfMObkwa+91rn73JWQ7SIa4OEz5AAAIDEPDF1dzgTt05Pf6OMUJrrrUPpdTeHlbtfF92+D5z83aSQXt9hu/OYcVVi3lSSlPaYe9Tgm57DJ3vZzu/NTz2vsFetpKwCAEIVI8A4lq9MaFFEKgfgZQDpPAAqhWfJqx65afTBwzmYEwlCQ+q7F/IvYMSK439OJywPvtAzhXgxHVQaZT99qWlifoR19VxZqNTftZDAAIQCAgkv9/M96T9/eaLa/TZljj9/WXLnyOyqj7zndvyv7/s71zvJk/+NaRpI6fLtetOSxasC9oZ12/SJb/7/XbE7bfrMfuaaD/ilZ8s1983dJBb0zDeIQCByhC4YvWN0q7p43C4xrUyYURDxp5AivCFBwvewUlKuugALLqDb9opv/rgzqSZ15a2eqC9fdBmC61JF93kRI1QhlmD1PaljK53YBQfDHqinpKVVRCAAARiAinimiqBKenMd5r5vrNkNC7fyJ+59n9C2tNTYj8OJ0irv/uia12d79YM352pbbZbYS3735/WpkjaTZ+cduiEkXzrPpnnepvv+7Ty/f6ZtLrISH4TZwDZjWMZAhAYNQHEddQjQP0QgAAEIAABCEAAAhCAAAQg0JUA4toVDxshAAEIQAACEIAABCAAAQhAYNQEENdRjwD1QwACEIAABCAAAQhAAAIQgEBXArUW1+krZPXaW1P710pdy0oIQAACEIAABCAAAQhAAAIQqB0BxLV2Q0aDIQABCEAAAhCAAAQgAAEIjBeBUFxX1bLTi5hxreW40WgIQAACEIAABCAAAQhAAAJ9EUBc+8JFYghAAAIQgAAEIAABCEAAAhAom0DdxXUN17iWHTLUBwEIQAACEIAABCAAAQhAoFwCiGu5vKkNAhCAAAQgAAEIQAACEIAABPokUHtxvYG7Cvc55CSHAAQgAAEIQAACEIAABCBQLwKIa73Gi9ZCAAIQgAAEIAABCEAAAhAYOwJKXKcvq+9dhdcw4zp2MUuHIQABCEAAAhCAAAQgAIExI4C4jtmA010IQAACEIAABCAAAQhAAAJ1I1BlcZ2bbstMF6DqOa7MuHYBxCYIQAACEIAABCAAAQhAAAJNIFA5cV3flolWS1rBawpxbUKQ0QcIQAACEIAABCAAAQhAAALDELhiVRWucZ2RqUhWQ2mdmJ7r2S1mXHsiIgEEIAABCEAAAhCAAAQgAIH6ExiduM5Je56ZWc0uqzbxRdPLyztV+IzzL5e7H/i5XT/LEIAABCAAAQiIyH0PPSannXtpJVg8/Ogv5eDDj6tEW2gEBPImoP7W5h95ct7FUh4EakHgilXrSr2r8Nz0hD4NWEvrZLerWLsjLE1cr7rmZvnC5jvK6ede1r1FbIUABCAAAQiMIYGz21fIFzffUZavWjfS3j+5fk6+ucO+8tUtdhtpO6gcAkURuPfBR+Xzm31XJo85ragqKBcClSVQrriGpwRnOQ04C7BSxFVJ65c230E+8N8/IYsvWZmlXaSBAAQgAAEIjBWBC5eukb/5yD/Jlzf/7sjkVUnrFt/bT97/Nx+Vr221x1jxp7PjQ0CJ60abbCmf2mhTORR5HZ+Bp6cBgXLFVaRWM65XXXNTIK3//o//VN7/wY8irvzRQAACEIAABFIIKHH9q7/9B/mj97x3JPL6Ky2tf/7XH5Z/82//CHFNGSNWNYOAEVd1F1PktRljSi+yE+gtrskbJ4V3/HWvT43Xdb8TsN2ymUmvjD5PGy50xtWWVtU5Ja6HHnuWXHfj7bxgQAwQA8QAMUAMWDFw+PFnB+Kq9pdly6strap+Ja5f2WJ3xscaH45dmnPsds4FV8hGX9smuu4OeYlwHGAAACAASURBVLXVguWmEwjE9fJV/XVTP7JmatbNFs6mZhfXOPdgN2oqTFx9aVU7wn/37/9Y/tvH/1/523/4FC8YEAPEADFADBADVgyo/aPaT6r9ZZny6kurEde/+8f/m/Gxxodjl+Ycu6m/tf/0Z38V/a2pmEdeY6VgqdkEqiGuNmN7hre7BJ9dxF2F06TV7Ih596bIvWcYwQc+xAAxQAwQAyYGip55TZNWUzfvxOG4xQDyassEy00lUD1xtUivn5NuT3PNXVyRVnZ047ajo7/EPDFADBQZA0XJK9JK3BYZt3UtG3m1JILFRhIoX1zTZlT1qcJ9XuOaq7hetSa+EVNdv7BoNztyYoAYIAaIgarFQN7y+qv1zwR3D1Y3YqpaX2kPf3+jjgHktZG+Rqc0AfXItel+r3GVUD77v8Y1FFTzOJzgmthIVsMyzbYsA5SruH5x8+/Jf/w//ys7QU7/JQaIAWKAGCAGco6B9/3nPxe1n83j314HHCkf+afPMkY5j9GohYv685P+z2zybVm5+vo8/twoAwKVIjCYuLoCajoUiOi8dpfTe5WcTkh7vc4R3OQpvo61d35TU/ieq7hes+42+dLm35P3/ul/ZGfIzpAYIAaIAWKAGMgpBv74T/5D8Gi5VdfPuHvxAT/NPbdBtt75gOB5rchOfrIDy2aw/PTnJ+TI488a8K+LbBCoNoHBxNU8j9WX0JZ0nzH1xDWYuY3L6PeuxLmKqxom5LUZX9rsfBlHYoAYIAaqEQN5S6s5pEJeqzG+/J1VaxyQVvMNwXtTCQwqrgGP2SnnB+nu0hoSVM9ujdOFM7fmlOORi6tqIvJarS9hdoqMBzFADBAD9YyBoqTVHJAhr/WMC/6eixk3pNV8M/DeZAJDiesgYILTg+NZ1lhk+79BU+4zrqY/afL6nj/5D/K5TbaUz228BS8YEAPEADFADBADVgxstMmWovaTRkqKllazv06T13/zb/9IPvfVbzI+1vhw7NKcYzf1t/a5L2wS/a2pv7lAWk/g9GDzvcB7cwmUK67hDZjMfi35Hl/vmoV4YeKqKvfl9f0f/Kgc8dNzZOaOe3nBgBggBogBYoAYsGLg6JPOl7/6238IDqbLklZzoODLqxLXr26xO+NjjQ/HLs05dlN3VN3oa9tE4oq0mm8C3seBQG9x7SWb6oyH/oQzL66FiqtqpC2vSlwXX7Iyr7ZTDgQgAAEIQKAxBC5cuiYQ17Kl1QC05VWJ69e22sNs4h0CjSJw74OPipp1Zaa1UcNKZzIS6C2uXQryTvvtkrKQTWe3l8uaG25NLbuVunaAlUZeP/jR/4G4DsCPLBCAAAQg0HwCSlw/9H/9z1zvHtwvNSOvf/W3H0Nc+4VH+toQMOLKTGtthoyG5khgKHEVfXfhro/AsRubZfbWvma9+0xuKeKqmq/k9Qub7ygnn32x3RuWIQABCEAAAhAQkTMWXx7sJ1ddPztSHkpet9rpR/KVLXYbaTuoHAJFEQjEdbPvypFc01oUYsqtMIFcxHVUpwq3l8s1Rc+4mrFbcunV8tgT5gm0Zi3vEIAABCAAAQio/eP5F6+oBIjHf/WUTB1zUiXaQiMgkDcB9bd2xHFn5l0s5UGgFgSGFVdRj8TJPOOaLxI141qauObbdEqDAAQgAAEIQAACEIAABCAAgawEhhbXrBUVkA5xLQAqRUIAAhCAAAQgAAEIQAACEKgagcziGtyIyb7+VC3Hz2PN1q8s17iq61r1M117nIIciuttqVXndnOm1NJZCQEIQAACEIAABCAAAQhAAAKlEVDiesHlq7vXp04HbrVkYnrOSTc3PRGsnxrRrRgQV2c4+AABCEAAAhCAAAQgAAEIQKCZBHqLq579nJxJBTAz2RrtNa7rmHFNHRhWQgACEIAABCAAAQhAAAIQaAqB3uIant7rz7aa/oezrt0fW2PS5v0ezLgirnljpTwIQAACEIAABCAAAQhAAALVItBbXIuYcTXXsNrXzPYvv4hrtWKJ1kAAAhCAAAQgAAEIQAACECiEQG9xFQkeeZPXNa76Jk/+DO4g18siroWEBIVCAAIQgAAEIAABCEAAAhCoFoFM4qqanMtdhfOdvUVcqxVLtAYCEIAABCAAAQhAAAIQgEAhBJZfneGuwrnVnO/1sohrbgNDQRCAAAQgAAEIQAACEIAABKpLoFxxZca1upFAyyAAAQhAAAIQgAAEIAABCFSUQHZxDWdL1fNco9e8trhPds3Qya7XuE5Ie32GMnQSZlyzsyIlBCAAAQhAAAIQgAAEIACB2hLIJK4dZDN4hmurH9lMkV9bhBPL3e80jLjWNuxoOAQgAAEIQAACEIAABCAAgewEsohrIKips6vdT/3N3orBUiKug3EjFwQgAAEIQAACEIAABCAAgVoR6C2u+d5QKU84C9vL5Jp1t6UW2Updy0oIQAACEIAABCAAAQhAAAIQqB2BQFyXru7S7rzF1T5d2JwKPNjMba7i+vIrrwkvGBADxAAxQAwQA8XFQJejjcybGJ/ixge2zWGb+Q+qS8LX33iLY2P8ILcYePOt33SJtmybll99g1zQVVy7S2Xn04jT6g/LmpgOb+k0Nz0hrckZnbC7IKeVlpu4PvHk0/KNnSblm7sczgsGxAAxQAwQA8RAATEwb8dD5dHHn0zbn/e17tBDjpDvbL+H7Pi9PXnBgBhIiYFvbL27LF+1rq+/q7TEJy5eKl/a+SD56r5H8oLBUDGg4ujU9vK0MOtr3bKe4iois1PBnYSnZr2iO9y0yUtlfVRyat3MKchvZl1FApFNvZbWKsJazFVct9rrBNl90Qu8YEAMEAPEADFADBQQA1vvfXIu4rrP/ofKvft+Wl6c/3FeMCAGUmJg0W6b5iKup114pfzl9TOirr/jBYNhYuD9194sZ168wtK4wRYziasqWktqLK/u7Gm22j1xFfdzIK6tWGR7lYm4FnBggbzz4wUxQAwQA8RAETGAuCLa/NhQTgwgrkjmMJJZRN5RiWv0DNfg0TXZJdNIqDq12JwqLBLKr5FhxBURZZaDGCAGiAFioKExgLiWIy3IIZwRV8S1CPkcpsxSxVWfKhwKpzXTmpiFNXra5T3IE58uHItsWG58zWuXMvQmZlwbenBTxC/9lMkMEjFADBADo40BxBWhQqrLiQHEFXEdRjKLyFueuPpCaYmriPR3c6bwBkzurG0ruH42XNffDC7iirgyM0MMEAPEADFQkxhAXMuRFuQQzogr4lqEfA5TZnniGsqmf3qv+dzv6b2951Gzp0Bca3KwwizHaGc54A9/YoAYqEIMIK4IFVJdTgwgrojrMJJZRN7yxNWdYTXXpTri2sedgLtqqXeX4a5pRQRxRVyZaSEGiAFigBioSQwgruVIC3IIZ8QVcS1CPocpszxx1Y+piR5jY4nsANe4hjO09unBXZajZ7ymKyziWpODlSr80k8bmHEiBogBYmC0MYC4IlRIdTkxgLgirsNIZhF5yxRXpY2BcAYzq/qa14HuKuyfduwJqT/jun5O5rwk9kfEFXFlpoUYIAaIAWKgJjGAuJYjLcghnBFXxLUI+RymzLLF1RbGwZf7FNceFS1cskyuWXdbairFNvO/J558Wrba6wQOfmpy8MOsyWhnTeAPf2KAGBgkBhBXhAqpLicGEFfEdRjJLCJvPcU1s0pmSqjE9VrElQOoQQ6gyEPcEAPEADFQbgwgruVIC3IIZ8QVcS1CPocps2xxdR97Yz3WJq8bM2VSVTcR4soMKbPkxAAxQAwQAzWJAcQVoUKqy4kBxBVxHUYyi8hbprj6j7wJJLalnrmqr3ftcROlWDct4Q2ukU27MZNVblBHnNtfQlxrcrDCrEa5sxrwhjcxQAxUMQYQ13KkBTmEM+KKuBYhn8OUmae4Xrh0te+E1mfrLsLBWi2fWlZ9qbUyFr6IuCKuzLQQA8QAMUAM1CQGEFeECqkuJwYQV8R1GMksIm954urdUEk/Asd5jmuPmdGiDBZxrcnBShV/+adNzEgRA8QAMVBuDCCu5UgLcghnxBVxLUI+hylzZOI6OyWtVkumZkMdjR+T04eeavlV5cSvCWmv76MMEUFcEVdmWogBYoAYIAZqEgOIK0KFVJcTA4gr4jqMZBaRtzxxtZ/hKhJe32ok0z1tOJN2avE1M7YmT3jKcSzEZn2390Bcb+RxOBy01eSgjdmdcmd34A1vYqBaMYC4liMtyCGcEVfEtQj5HKbMMsVVyWMorOEMqZFO907D3RTTbOt+M6d+y0NcETaknRggBogBYqAmMYC4IlRIdTkxgLgirsNIZhF5yxZXo57DvXvXy3qF9XujJ8S1JgcrzHpUa9aD8WA8iAFiYBQxgLiWIy3IIZwRV8S1CPkcpsx6imsRM663e/obflRsM/974smnZau9TuBXe0SYGCAGiAFigBgoKAYQV4QKqS4nBhBXxHUYySwib77iuqan47mn8eprW9XNlea1Za5nbitB7te4Iq4cZBV0kDWKGQnqZCaMGCAGmhoDiGs50oIcwhlxRVyLkM9hyixTXP1TeMPrXadkRrrPoFq66i7meVfhGxFXxBVxJQaIAWKAGKh8DCCuCBVSXU4MIK6I6zCSWUTe3MR15Q1y4dJuM66hnJobMom4dxL2pdY11GI/hde4Iq6VP1hp6uxBNfv1oHzxnzeWLy7IYdbqwAOk1eqzrEHyjFo4VJs3W5n8O1Lr//l02T5o30r5ZPT8rqxMwjwf2vHBZNlRn3W5afVHaXIYS8rqMgbwLeu7DHHNIi0flgNbLdl4s7+XQPK2+wtptd4nZ+zZLW+Yp/WZD4d55ndLG29b9ZmWHLhd/Pnhzd4nrdZfyKqM+asgoX4fTJvU+ojhfM0n+A7vxVLzKJC7aWOR7+MrrjPWczbtZ256y9NzMryczUlr3oS01meQZH26afwM0PCU1YHaoMqanMmh/RnaLfmlKU9cvRsq6dlSI7KjFNezliyTa5lx5aCrrIOuWtRTR3EcqVQp0W+liuv2O24sRjrVcqt1gMzrq62Iay3+ZvoaU75vhxlTxDWWxM7S4olrJokcQFz3/IBs3HLFtXObsrR7BGk69uHv5YyPxoI6kJAjrsHU02kXXil/eX39JCkWQi2yuYiqJ3GBjGYQ1+kJabX8dEp6lUz76706EuKo8yGuXaZGPXHVPxpMzYZZAnHt9zrXLrX1swlx5YCLWRQ/BhDXPmOik7i6M9fzNmtZs69Z5QVxHUZyyJs1zuqTDnHNIneIa2aB7iSuav1HPyAPa+lXs68t63Om8hHX4Hgcce0ikpnEtZs4d9vWqV7EdVnPU4VFbDkNr2+dkPZ6FdLuacO9pVOnj86482bug/Xq2tls/xBXX1r43Ke01OeAL8tBfDgraP1RBaefhvL0yR1Plw+ZPzxzWuoCa53eZmYYg/o8CY5mHb18nfPEUui2LeVU20SZKzvOhMYsdPmmX+rd9C36W0im+eSBZtz1abpRfqtdqj3BacJ+GruObmWrOlLENdHP08NTkK12B5IctWkQYTb94z2OFVhUgUWjxTUQnZQZTC1X6aet6u9r5xRfT1zTBEqXaU473HizDwSnFzunCntpVNqoDbqtJr+RutSZyQ5pQ/lTM5stUfWGec3+J57t7CiJKe2zT1sO8+mZ5Oj70Cq3S7tUW8K++vnDtvYsWwnvoNwzzZBn+QFjuDTje6qwL3xd5DCYCTUx20qefru+nTzteFaX3ytvNFOq6888Q2pmYq12mTpFlxX9PfQ7W+uzKfdzeacKhxIZCmvI0Zwm7N5pOJtsdkzlzeR2TGdtQFyjg3MOyqpwUFaJNniyaeQpca2qFqhY4l6Q3YO8LYnWeWVF8hld9/mCmHXpeWKxi+XWrLNOu9X1JtPYkujHuC7Haovpa1yOlk47jd/HRbocSxzVOKp+xeW8IMkZ185lx/k8cc3Qz1BaLTYd2leJWOP7Z6x/KBskBhstruY6SkdCP66Fzlw36kmpkpwOYutKZlLYou3ztTyqg1lTty7TEUEtetG6lDS+uBoZjfJEdZn+xHUn22PSpAhYos8poqjTRH2ab1haLFL68GLQRivN/I9LYsa1Y9nWDw++uGp+yX5a3CsirUrMEVcjZR3EdVIJjS1+nmAaabVPMfZnWP3PkayauvV7UJeqb6rHdam6DfPacTotR61IXplxXZphxtVyxUIX+xVhxJUDRw4c/RjwZNPInD8TmRQxJYaexHllhZJqzUoGdafJmUmTJpdGkHukMTOTnlDGB8tevT4HLZ8JYV+kJTS6XtXrsy5H8Ylk3OSxBDhkYQtmKNaueNpt7MBCz8qG45PelrjPvrzzGTb1ioFmi6sRK1vY4hlJJRO+GIYzf75YeXLrCJQuL3Haq55Z1OKaELVAqNy2GGGOpdRvn9cOI2WOdHZoj9PmFHHttd3IZuJGUV59qeKq2m2Pgc83+TkcB69sp43eNsOiw48VZlxH+Y64GnlMEdc0KVXSaUtiFinNkiaQ2ZRZVPVDky3FKl3qtbAirUB8jfQiroG4Lut2V+FCXdUpvN8bPSGuKQfrHMjV60Au9/HyZNOIazwLmMJHzwRGp40ZWfTKSpc1W846SKkpz8SrU66X36RxhC6lzUYmg1NmkgIZSbglmxFrp/40WVRtcsv0Rd//nF623Td72e6PW3/IWP0ya8TeTstyxDmKE5jUiUnTxTUhg6lipUXOzPqZ0/4iGfWE0REob1skUFqszIxrtN7MZIanywXf8SZNStscsU7Z7gheUE6Hep02p4irET57lthus9lu2mpt69lGVbeXzxX5Dm32f1hw+jAAd6vNoxBYxLWLuHYSRHMqbiCUWnhVjHY6zTezuJq2qHer3OBv38z6aiG1Z1vNDK5TD+KKuIrIE08+LVvtdQKzdxwM1j8GHClTB/UdhMnMaOqDplBsXYkKTx2OBaqbuEYzuk79XnkmvoI0ekZTtyMp1h3ymjLMuy4rku5IOHV+3b94uzmAM/1KqUeV6cm2K6o6T08ptth37KeeAbbr88YGiUVO6ySn3draeHE1p9JqcXIkKxCZUICi7yOdzhUrT5JsgdIyGZ+uGkthUIYRNk+Kw/SesKWIqdPeoF7r1NlIxOxy7OW4LeH1oWl5rTTRrKr5TrZPufU4Jb7H9YxqSh8UB3sWWUljGl9fblW6ZP/1KcdZuUeM3H4irra4lb2cMuPqX5/qx5c9Exqd5qvj1JZYRygH6FeQ3zwWp8OsbNQ2T3DtdhjBrfh7Xte4Vkdc+73Rkwgzrubgnff6C2deY+iIYydx7SRensR5ZRUirp3EOsOMa+IAORI+NVvq9aUj32Q6Jan2acKqHldck5+jtjjMLHHt2M9k/VFZQZvDMpBX5NWNi3ryaL642vITSp0tmYFAeaexdhKrKJ8trnomMtoWiZItkHo5msE1EmWnia+ttSXPEbcUKQwFzC7HXjb1xLO8dtm95C2s28irJ+9RP6061LpEG1U+9zThJN8Obe4mrpm4e23r1OaS1jPjakSyk7iaU29NugzvRniNNGYR1yBPl7qi04CzzqRmTZehPyWLbj3Ftcddhft8rM5ZS5byHNcmHMzQhxwPQh1x6iSuWobsWT4lSUb8zHqvrGLEVYubP3vpt6WjeLrswjaGs6np7TU3lDKnAvviqNiYbXHZvrja9djxG6SL8tvi2qGfWQQ9GIekTNv1shyPFSyqy2IcxPVFLTkHbqaek2rfJEgLU0Io9exitN6TNkdce5QRzLjq8szsqxElLXnRTGNC+mzpVhLWvZzUWVxTV8fZ2m5y5/bNnSWN8znr/T6oev1+J2Zc9QxsQnDd+t27CnvbTD87MYq2x+3uJe55b0dcjbiliKu5xjW64ZFO22l9JHhaGs3pvFnE1ZRpz+JG5enrV015nSTXWY+4Ll25Vi6syDWuzgWvGT4grhkP5jmQq+6BXO5jo4UvnjG05clw0BIVCZZab9ZZd/ItRVzNdbEt6y6+cVuSpxCbPqTJty+HOo0txZqPXa4jpWq7nV7/jTlpgnUpZWvBjMv22HeqW50KFPxY4Lc/7Ksrw6b/vOf+t8P3aeFnroyHuBoxSj47NJxxtWU2LW03cY1nGe1Z17BcM1upJcsRM7POpInF1C7HmXGNZiDtU29NOWZWU3/2ZbGXuKZt1xIatccXbSWDiXwuK9X+KL8lj47sqvUpZZsZ32iWOKjLGiu/fUaI1fe333+r7ryFNGt5iGsXcVXiGMx0mtNvVdo0KW1JfDdfkZYvoeazL8C2mKplM1Pry2uw3m6DlmwjsiqvqcPOq9pup/Hrq+jn/GZcEVeuceWArfADtvIOsmPpawUC5slTNNZWOn0NhZJdR5LKElfVJi115tqvD+0YPsc1lsA0UdPyGF0DkvbM0/R+OuOhhVPV/U9fdx+DY9IlxVW1xy/bXDdr2prC3utna7PTvefV+mWq62qSM8CmXbwb1rzXIRbGRVyNYHWUKOs7S6UJpclIkitj7syfnsEz4mXK+cwHouephmJjBDO+flQJWSi4RjrNZ5UmXOeLa1CWlkXz3exK2oDiakloVK79nNlI/PSsr+mnM4MdsoikvfVnst9HDUN3pjMhrkH5ftkxl7jfXnk9ubv1ZpXMItIhrj3E1RZKE1/mFGAjfuYaVLNdvdsCaWRXre8lkkZA7bJS82iBttP5Ymy3y99m2l7Bd8RVXePKqcINEi4OPOtw4FleG0Ppi2eOiY/y2MMa1sXEwNiIayRe1RGZIuSIMqs7voirEVfeWxWRWMQVcUVao9nDYg6yOHgtg6ueYfROz3Vmfhln/taJgUbEAOJaXdFBQps1NogrwloVYTXtQFxDcb3uxttTr4ZVnDL/43E4ZQgKdSDCnWIgyym/nfKynrgiBuoSA4hrs+QI2a3ueCKuiKsRxqq8I66IayN+ga/LARftRA6IAWKAGBguBhDX6ooOEtqssUFcEdeqCKtpB+KKuCKunD5IDBADxAAxUJsYQFybJUfIbnXHE3FFXI0wVuUdcRU5a/FS4VRhDtpqc9DGbM1wszXwgx8xUO8YQFyrKzpIaLPGBnFFXKsirKYdeYrrRXV9jiviWu+DGA5CGT9igBggBsYnBhDXZskRslvd8URcEVcjjFV5R1yZcWWmkdlmYoAYIAaIgdrEAOJaXdFBQps1Nogr4loVYTXtQFwR19ocrDCjMj4zKow1Y00MEAOdYgBxbZYcIbvVHU/EFXE1wliVd8QVcUVcmWkhBogBYoAYqE0MIK7VFR0ktFljg7girlURVtMOxBVxrc3BSqdf31nPzAwxQAwQA+MTA4hrs+QI2a3ueCKuiKsRxqq8I65aXG+6XdL+qXHK/O+JJ5+WrfY6ARFk5oIYIAaIAWKAGCgoBhDX6ooOEtqssUFcEdeqCKtpB+KKuHJwVdDBFTNA4zMDxFgz1sRAeTGAuDZLjpDd6o4n4oq4GmGsyjviirgirogrMUAMEAPEQG1iAHGtruggoc0aG8QVca2KsJp2IK6Ia20OVpjRKG9GA9awJgaIgarGAOLaLDlCdqs7nogr4mqEsSrviCviirgy00IMEAPEADFQmxhAXKsrOkhos8YGcUVcqyKsph2Iq8iZi5fKddycidmFqs4u0C5ikxggBoiBOAYQ12bJEbJb3fFEXBFXI4xVec9NXFeslYuWrcl8A94qJURcmWmozUwDB6/xwSssYEEMjGcMIK7VFR0ktFljg7girlURVtMOxNXMuN6R6tKKU+Z/PA5nPA+iOHhm3IkBYoAYKC8GENdmyRGyW93xRFwRVyOMVXlHXBFXZhuZcSYGiAFigBioTQwgrtUVHSS0WWODuCKuVRFW0458xfWazJOTVUoYnirMjGttDlqY2ShvZgPWsCYGiIGqxQDi2iw5QnarO56IK+JqhLEq73mJ6+XBNa6Iq2yxxzGy0ymP8YIBMUAMEAPEADFQQAx8a8/j5dHHnxz6B/A99z5YbtjrM/LI/p/kBQNiICUGTtp5QpavWjf039qJi5fKB5avkfc8v4EXDIaKgQ8sXS2nTi8fOiYRVxFR17juuN/x8t0fHsMLBsQAMUAMEAPEQAExsMM+C3IR14UnnSQ77fYj2fMHB/GqAINd9jhAvvGdvRiLCoyF+Zv4zk77yk233j20JCxdd5v8rz0n5VsHLeAFg6FiQMXRlTfePnRMKnE9+CdnyLKrb6jda9/JE+W6m3I4VXhoihQAAQhAAAIQgAAExpDA8xtekv0OO2kMe06XIQCBsgm8/c470r7sarlg6eravVS7VfvT/qlTuvkHAQhAAAIQgAAEIFAgAcS1QLgUDQEIjAUBxHUshplOQgACEIAABCAwSgKI6yjpUzcEINAEAohrE0aRPkAAAhCAAAQgUGkCiGulh4fGQQACNSCAuNZgkGgiBCAAAQhAAAL1JoC41nv8aD0EIDB6Aojr6MeAFkAAAhCAAAQg0HACiGvDB5juQQAChRNAXAtHTAUQgAAEIAABCIw7AcR13COA/kMAAsMSQFyHJUh+CEAAAhCAAAQg0IMA4toDEJshAAEI9CCAuPYAxGYIQAACEIAABCAwLAHEdViC5IcABMadAOI67hFA/yEAAQhAAAIQKJwA4lo4YiqAAAQaTgBxbfgA0z0IQAACEIAABEZPAHEd/RjQAghAoN4EENd6jx+thwAEIAABCECgBgQQ1xoMEk2EAAQqTQBxrfTw0DgIQAACEIAABJpAAHFtwijSBwhAYJQEENdR0qduCEAAAhCAAATGggDiOhbDTCchAIECCSCuBcKlaAhAAAIQgAAEIKAIIK7EAQQgAIHhCCCuw/EjNwQgAAEIQAACEOhJAHHtiYgEEIAABLoSQFy74mEjBCAAAQhAAAIQGJ4A4jo8Q0qAAATGmwDiOt7jT+8hAAEIQAACECiBAOJaAmSqgAAEGk0AcW308NI5CEAAAhCAAASqQABxrcIo0AYIQKDOYy1tgwAAIABJREFUBBDXOo8ebYcABCAAAQhAoBYEENdaDBONhAAEKkwAca3w4NA0CEAAAhCAAASaQQBxbcY40gsIQGB0BBDX0bGnZghAAAIQgAAExoQA4jomA003IQCBwgggroWhpWAIQAACEIAABCAQEkBciQQIQAACwxFAXIfjR24IQAACEIAABCDQkwDi2hMRCSAAAQh0JYC4dsXDRghAAAIQgAAEIDA8AcR1eIaUAAEIjDcBxHW8x5/eQwACEIAABCBQAgHEtQTIVAEBCDSaAOLa6OGlcxCAAAQgAAEIVIEA4lqFUaANEIBAnQkgrnUePdoOAQhAAAIQgEAtCCCutRgmGgkBCFSYAOJa4cGhaRCAAAQgAAEINIMA4tqMcaQXEIDA6AggrqNjT80QgAAEIAABCIwJAcR1TAaabkIAAoURQFwLQ0vBEIAABCAAAQhAICSAuBIJEIAABIYjgLgOx4/cEIAABCAAAQhAoCOBy1dcL9vtOSk7/vAImfjOvrLb/j+RrXc9WF57/c2OedgAAQhAAAJJAohrkglrIAABCEAAAhCAQC4Ezrv4Ktl4y+/L5zffJXptus1esuHFV3Ipn0IgAAEIjAsBxHVcRpp+QgACEIAABCBQOoGXXnlNvr7tDyNpVQJ7wBGnlN4OKoQABCBQdwKIa91HkPZDAAIQgAAEIFBpAvOPOi0S14nv7CPrZu+qdHtpHAQgAIEqEkBcqzgqtAkCEIAABCAAgcYQuPm2e0QJq5ptVe9vv/NOY/pGRyAAAQiURQBxLYs09UAAAhCAAAQgMJYE/vCHP8jm2+0biOuC05aMJQM6DQEIQGBYAojrsATJDwEIQAACEIAABHoQOOHMC2STrfeSex54tEdKNkMAAhCAQBoBxDWNCusgAAEIQAACEIBAjgSuXXe7bLnz/BxLpCgIQAAC40UAcR2v8aa3EIAABCBQNQIPPCCy//4iP/4xLxgQA02IAfX3/OqrVfumoT0QqD0BxLX2Q0gHIAABCECg1gS2205k551FFi7kBQNioAkx8KlPiVx/fa2/lmg8BKpIAHGt4qjQJghAAAIQGB8Ce+4pcuml49NfegqBphPYemvEteljTP9GQgBxHQl2KoUABCAAAQhoAogroQCBZhFAXJs1nvSmMgQQ18oMBQ2BAAQgAIGxJIC4juWw0+kGE0BcGzy4dG2UBBDXUdKnbghAAAIQgADiSgxAoFkEENdmjSe9qQwBxLUyQ0FDIAABCEBgLAkgrmM57HS6wQQQ1wYPLl0bJQHEdZT0qRsCEIAABCCAuBIDEGgWAcS1WeNJbypDAHGtzFDQEAhAAAIQGEsCiOtYDjudbjABxLXBg0vXRkkAcR0lfeqGAAQgAAEIIK7EAASaRQBxbdZ40pvKEEBcKzMUNAQCEIAABMaSQO7iOifteS1ptdJfU7NFUFZ1Tkh7fZeyZ6fCNs1ry1yXZKLTDd9OzaFXfU5bdJ7JGWetrG/LRGtKgrW92tdru1syn/IgoJj7Y5ZHuYOWgbgOSo58EOhKAHHtioeNEIAABCAAgYIJFCWuacJWlFQF5WYT14l5E50lQ7dPSXelxNUWo14Me20vOJzGr/gOPzaMEgTiOkr61N1gAohrgweXrkEAAhCAQA0IlCmuMsgsZAaGgaxlE9epaWv20it6ZrIlU5PhzGyVxDVol5mp7iWmvbZ7febjsAQQ12EJkh8CdSGAuNZlpGgnBCAAAQg0k8AoxNU7rXJuesI9tdjbHp4q6556bMSyZ14zapHQhaJh8pvNIjMypWaJo3TxlmCbc+pzmiTPyJSdZrIdnjLtzTx3b2+aBKly9WnCqkmp7bPaam8PTjFuycS0d3K0Xq8YhO2Zkhmdz5zineRj0lrj4IxT2PaJ6XbMYV5b7g3GNlv5StBN/eG71W/9o4dfftgzj70aB6ttXfuoWZh6E6zMjy3W2MZs/HrtuOi2zYzjlLSt2I/LtcZzkEVmXAehRh4I9CSAuPZERAIIQAACEIBAgQTKFNdAjmwZEQllJeWA34hHmnwF5Vh5/M9puLSYKTkI6jTlm7SzU6HgWemCTUZsrPRGPiPRSEkTSZglrj37aiTJqisQVf9zt1OZnfZrEbbaoPoUiVy0rITRGhenjBBQ5rZ7bTOsMpXvtNNvu/7slW9+VHCE04uZqA1W+dH4dO23lk8rX/KHA90ue4xS4iFsgx+zLWnZZZtYHPYdcR2WIPkhkEoAcU3FwkoIQAACEIBASQSKEldrhsrMZiVm0TzBiHpsi1OwbB3wR4mshcxp9LWrQXpL1ETJrK7DrjtYnyYXrlSFEuSWJ0ZCjZhk6avJY0mQEh5HynT7XKb+TGV8jW5CmLw6kttDrkGfBmm7yaOHp5/yox8CzNA64+oyN0nC8n32+scJ3ZbUNnjjrHsdzBYb3qn5TExEwpsU10zxkFq/6dWQ74jrkADJDoF0AohrOhfWQgACEIAABMohUJS4egITdMbMRHUTiiBhONMVCoR1yqUldA4cR3CcLfEHRxTCMiNRUu0y7XXSJaXEFBgLU+c0tvx1kiB3xtAvS332pN1pn2mN9Z7YbrMUMaddm77H/bDKiGZiw7oHa3tYXpbyvZq9u1Kb/vts3FzBJxNf5kcTJ848uU1wUiXYrHR9Ji7s6oK8ndql4zUlVh0WThl24TksI645QKQICCQJIK5JJqyBAAQgAAEIlEegTHGNZqtsIUrOFprZRDPzpWCEs1hWWlsMskiAJypBeboMJRRRXU66LBLSI40jT1b7jVzp97B+T85soTYR4bTPrLTeU7YnBTqWuECmeshZKFx9tl03KUv5Kqk7vrp9QV86CaLps+ZveOox7dbnIGcKp1RxNeUm3ju1y2tPIl9a30xfcnpHXHMCSTEQcAkgri4PPkEAAhCAAATKJVCyuIYSZItrLFFZOx6JlJFXR3A6lOKLSvBZ1e3NajrpPJG0ig7bYPK7NwMyyXrKk0kYvbv1qToioTZpnPaZldZ72vZgnWLulq9yxf2wyojW9zNOybKzlp+8blS3JWp3UFI4E2vGXCcJhTcZQz3Zp3FKm3H16tPVWm9+v0NxTYyblSNYdPrmbxzyM+I6JECyQyCdAOKazoW1EIAABCAAgXIIlCyujmjoUzvNaatRhzutjxJoWTAzhVkkICEqoWAEj8cx5ajyvXROezvUnyWNf4puVJTTV1uC1LKZ1YtSJ9pnbQkXvfaHK7VMTU7JRMstMxRXd53KY4tf/22PW5Wl/K5povbabEz5XhyY1VpAzY2PUuW8Gyd9F+bUfJHUG1lOtsthF7XJYxrUn+RuJR98EXEdnB05IdCFAOLaBQ6bIAABCEAAAoUTKFNctSzYs1Gh9NkH8J6MpAmGlr2oHEf+OhBLKSes23tcjJ9Ol518vEp8AyRzimlaGiNPqlU9++rcOEnJppEjq09++6xNwWKH7aGEJW80lbberLN/UOiv7XGjTFk2B7MuKl+3ORpPlV2va3UV1zSmZl3c17A+j2UqJ3+2NPxst91IvN3WgI3940dKzJj+uH224z5mNvQS4jo0QgqAQBoBxDWNCusgAAEIQAACZREoSlwT1/aF10hGB+5W/4zImGtbbQEMkkUSE19naYtDdAdfVactEFYdCXGIZs48eegiNFH70oTSzPKZfs9rS1s9l9RrT/e+WrN3qh1pp6mmts/qaKftvuzrLEbq7OeJxrJolRvxisfAbZ/Vditb5vJ1uyPGipvT5vTyVVXmBwiTV8VGWG84tqYNM1a70uLB/ADRMbb02CZi2Gp7vE1Lr4mHSMB1I4I8XuzZ7RtmGXEdhh55IdCRAOLaEQ0bIAABCEAAAiUQyF1cS2gzVfRPoIMopUpd/6V3zFF0+R0rHucNiOs4jz59L5AA4logXIqGAAQgAAEI9CSAuPZE1IQEwaxkygxu0WJZdPlNGJvc+4C45o6UAiGgCCCuxAEEIAABCEBglAQQ11HSL7zu6DRa75RlU3HRYll0+aYfvFsEEFcLBosQyI8A4pofS0qCAAQgAAEI9E8Ace2fGTkgUGUCiGuVR4e21ZgA4lrjwaPpEIAABCDQAAKIawMGkS5AwCKAuFowWIRAfgQQ1/xYUhIEIAABCECgfwKIa//MyAGBKhNAXKs8OrStxgQQ1xoPHk2HAAQgAIEGEEBcGzCIdAECFgHE1YLBIgTyI4C45seSkiAAAQhAAAL9E9huO5FjjhG56y5eDWbw5i2z8uyqaxnjBo9x9Df81a+KXH99/98F5IAABLoSQFy74mEjBCAAAQhAoGACF14o8qlPiWyyCa+GMHjny1+WVz/zOXn2Xz4tT3zsE/LAhz8qd//Nf5MN/8//xxg3ZIy7/r2qv2fEteAvToofRwKI6ziOOn2GAAQgAAEIQCAXAq+8+rrc88DPZenKG+T4M6ZlzwOPle2/PymHHbdQFl+yUm6+7R556pnnc6mLQiAAAQiMMwHEdZxHn75DAAIQgAAEIJCZwEuvvCZ33feIXL7iellw2hLZ/YBj5Lt7Tcnhxy+S9mVXyy233yvPPPtC5vJICAEIQAAC2QkgrtlZkRICEIAABCAAgTEhsOGlV+TOex6SS6+8To49ZbHsuv/R8r29D5cjfnqOXHD5apm983559vkNY0KDbkIAAhAYPQHEdfRjQAsgAAEIQAACEBghgRc2vCy33/2gXLz8GvnJyefLLvseJTvtc6QcdeK5ctGyNXLbXQ/Icy+8NMIWUjUEIAABCCCuxAAEIAABCEAAAmND4LkXXpTbfvaAXLhsTSCmO+1zRCCqSlgvvuJauePuB+WFF18eGx50FAIQgEBdCCCudRkp2gkBCEAAAhCAQF8E5p7bILN33hec2qtO8VWn+qpTfo89dXFwCvCd9z4sL770al9lkhgCEIAABEZDAHEdDXdqhQAEIAABCEAgRwJPP/tCcHMkdZOkw48/W777g6ng5knHndYObqakbqr08iuv5VgjRUEAAhCAQJkEENcyaVMXBCAAAQhAAAJDE3jqmefkplvvDh43c9iChbLd9yeDx9Cox9EsW3mD3PPAo/LKa68PXQ8FQAACEIBAdQggrtUZC1oCAQhAAAIQgIBH4NdPPSs3zt4l5110lRx67FnynT0OlR/MP05+euYFsnzVOrnvocfktdff9HLxEQIQgAAEmkYAcW3aiNIfCEAAAhCAQE0J/Gr9M3LDLT+Tcy+8Un78kzNk291/LHsdfLyctPAiuXLNTfLAw7+QN958q6a9o9kQgAAEIDAMAcR1GHrkhQAEIAABCEBgIAJPPPm0XH/zHbJo+go5+OjTZetdD5YfHnKCnLLoYllxzc3y4M+fkLfe+u1AZZMJAhCAAASaRwBxbd6Y0iMIQAACEIBAZQj84Q9/kMd/9ZRce+PtsrC9TA468lTZcuf5su/kiXLqOZfK1dfdIg8/+kv5zW9/V5k20xAIQAACEKgeAcS1emNCiyAAAQhAAAK1JPDOO7+Xx574tVxzw61y5uKlcsDhp8i3djpQ9j/sJDn9vMtk1fWz8vNfPCm/e/vtWvaPRkMAAhCAwOgIIK6jY0/NEIAABCAAgdoS+N3b7wQSunrtrJxx3mWy/9TJssWOBwayeubiy2XNDbcGEqtkln8QgAAEIACBYQkgrsMSJD8EIAABCECg4QR++9vfycOP/VKuvm5GTjv30uA03y13PkgOPPJUWbhkWXAa8C9+uV7UacH8gwAEIAABCBRBAHEtgiplQgACEIAABGpK4K3f/FYe+vkTsuLam+WURZfIPof8NLhx0vyjTpOzp5fL9TfdIerGSu++W9MO0mwIQAACEKglAcS1lsNGoyEAAQhAAALDE1CPlnngkcflqjU3BY+c2fvHx8u2u/04eBTNORdcKWtvuVPUI2r4BwEIQAACEBg1AcR11CNA/RCAAAQgAIESCLz2+pty30OPyRWr1slPz7pQfjD/OPn2HofKocecKedddJWsm71Lfv3UsyW0hCogAAEIQAAC/RNAXPtnRg4IQAACEIBApQm8+tobcs8Dj8qyq2+QE86Ylj0PWiDbfX9SJhcslMWXrJCbbr1b1j/zXKX7QOMgAAEIQAACNgHE1abBMgQgAAEIQKBmBF5+5TW5+/5H5PIVa+W409uyxwHHyHd/cJhMHX+2LLn0arnl9nvl6bnna9YrmgsBCEAAAhBwCSCuLg8+QQACEIAABCpL4MWXX5Wf3fuwXHbVdXLsqUtkt/1/It/b+3A54oRFMn35Kpm94z6Ze25DZdtPwyAAAQhAAAKDEkBcByVHPghAAAIQgECBBF548WW54+6H5JIrrpWfnHy+7LLfUbLjD4+Qo048Vy5cukZu/dn98twLLxbYAoqGAAQgAAEIVIcA4lqdsaAlEIAABCAwpgSef+Elue2uB+SiZWvk6JPOk532OVJ23veoYPni5dfI7Xc/KM9veHlM6dBtCEAAAhCAgAjiShRAAAIQgAAESiTw7PMvyq133i8XLF0tR/70HPneDw+XXfc/Wo45ZbFccuW1cuc9D8mGl14psUVUBQEIQAACEKg+AcS1+mNECyEAAQhAoKYEnnn2BZm5415pX7ZKDj9hkeyw15Ts/qOfyILTlshlV10vd933iLz08qs17R3NhgAEIAABCJRHAHEtjzU1QQACEIBAgwk8Nfe83HzbPbLk0pVy2HELZfvvHyZ7HHisHH/6tCxduVbuvv/n8sqrrzeYAF2DAAQgAAEIFEcAcS2OLSVDAAIQgEBDCax/+lm5cfZuOf/iFTJ57FnynT0Ple8ftEBOOPMCWX71Orn3wUfl1dffaGjv6RYEIAABCECgfAKIa/nMqRECEIAABGpE4Mn1c7Ju5mdy7oVXyiHHnCnb7n6I7HXw8XLiwgvlytU3yv0P/0Jef+OtGvWIpkIAAhCAAATqRwBxrd+Y0WIIQAACECiIwC9//YysvflOWXTBFXLw0afLNrseLD885AQ5+eyL5aprbpIHH3lc3nzrNwXVTrEQgAAEIAABCHQigLh2IsN6CEAAAhBoLIF3331XHv/VU3LdTbfL2e3lctCRp8lWu8yXfQ/9qZx6ziWy8tpb5KFHfym/+c1vG8uAjkEAAhCAAATqRABxrdNo0VYIQAACEOibwO9//3v5xS/XyzXrbpOzFi+VA444Rb6100Gy32EnyennXiarrp+RRx77lfz2d2/3XTYZIAABCEAAAhAohwDiWg5naoEABCAAgRIIvP32O/Lo40/K6rW3yhnnXy4/mjpZttjxwOBdfV5zw63B9rffeaeE1lAFBCAAAQhAAAJ5EUBc8yJJORCAAAQgUCoBNUOqZkrVjOlp514azKBuufNBcuARp8pZS5YGM6xqpvX3v/9Dqe2iMghAAAIQgAAE8ieAuObPlBIhAAEIQCBnAupaU3XNqbr2VF2Dus+hPw2uSZ1/1GnBNarX3XRHcM2qunaVfxCAAAQgAAEINI8A4tq8MaVHEIAABGpNQN21V929V93FV93Nd+8fnyDb7Pbj4C6/51xwRXDXX3X3X/5BAAIQgAAEIDA+BBDX8RlregoBCECgcgRef+PN4DmoV6y+UU4860LZ6+Dj5Nu7HxI8L/XcC68Knp/65FNzlWs3DYIABCAAAQhAoFwCiGu5vKkNAhCAwNgSePW1N+TeBx+V5VevkxPOvEC+f9AC2W7PSZlccJacf/EKufHWu2X908+OLR86DgEIQAACEIBAZwKIa2c2bIEABCAAgQEJvPLq63L3/T+XpSvXynGnt2WPA46V7X9wmEwdd7YsuXSl3HzbPfLU3PMDlk42CEAAAhCAAATGjQDiOm4jTn8hAAEI5EzgpZdflZ/d94hcdtX1suDUJbLbj34iO+w1JYefsEimL1slM3fcJ888+0LOtVIcBCAAAQhAAALjRABxHafRpq8QgAAEhiSw4aVX5M57HpJLrrhWjjllsey639Gy4w+PkCN/eq5csHS13Hrn/fLs8y8OWQvZIQABCEAAAhCAgEsAcXV58AkCEIAABDSB5ze8JLff9aBcvPwaOfqk82TnfY8MXmr5ouXXyG13PSAqDf8gAAEIQAACEIBA0QQQ16IJUz4EIACBGhB47vkX5daf3S8XLl0tR554bjCLust+R8sxp5wfzK7ecc9DsuHFl2vQE5oIAQhAAAIQgEATCSCuTRxV+gQBCECgC4G55zYE151OX75KjjhhUXA9qrou9dhTl8hlV10nP7v3YXnx5Ve7lMAmCEAAAhCAAAQgUC4BxLVc3tQGAQhAYCgC7777rkwvXSVPz2W72dHTc8/LLbffI0suvTq4o6+6s+8eBxwT3On38hVrgzv/vvzKa0O1icwQgAAEIAABCECgaAKIa9GEKR8CEIBATgTU3Xm/vcch8pUt9pDVa2cTpa5/5jm56da7g2eiqmejqmekqmelnnDGBbLs6hvk3gceFfUsVf5BAAIQgAAEIACBuhFAXOs2YrQXAhAYOwJPPfOcHHrMmbL59vvJ5zffJXideNaFsm7mLjnvoqvkkGPODIT2BwcfJ2r9FatvlPseekxef+PNsWNFhyEAAQhAAAIQaCYBxLWZ40qvIACBhhC49MrrZNNt9o6E1Yjr5tvtJyeffZFcteYmeeCRx+WNN99qSI/pBgQgAAEIQAACEEgSQFyTTFgDAQhAoBIEtt71YPnyFnskpFXJ6zd2+FEl2kgjIAABCEAAAhCAQBkEENcyKFMHBCAAgQEIXH/zHXLNDbfJWUuWyo+mTpZtd/uxfH3bvYNThr/yrT1F3R2YfxCAAAQgAAEIQGAcCCCu4zDK9BECEGgMgd+9/bb86tfPBI+zaUyn6AgEIAABCEAAAhDoQQBx7QGIzRCAAAQgAAEIQAACEIAABCAwWgKI62j5UzsEIAABCEAAAhCAAAQgAAEI9CCAuPYAxGYIQAACEIAABCAAAQhAAAIQGC0BxHW0/KkdAhCAAAQgAAEIQAACEIAABHoQQFx7AGIzBCAAAQhAAAIQgAAEIACBuhB47fU35fTzLpNzLriidi/VbtX+tH+IaxoV1kEAAhCAAAQgAAEIQAACEKghgauvu0UOPvp0Wb12tnavg448TVavvTWVOuKaioWVEIAABCAAAQhAAAIQgAAE6kdAiet5F11Vv4aLyKLpKxDXWo4cjYYABCAAAQhAAAIQgAAEINAHgbqL6xpmXPsYbZJCAAIQgAAEIAABCEAAAhCoIYHai+sNnCpcw7CjyRCAAAQgAAEIQAACEIAABLITQFyzsyIlBCAAgRoTmJP2vJa0Wi2Zmu3WDZ1uXlvmuiXLsm12KkN9XkFBnglpr/fWRx/jfqi+JF8mr043ORPlFFW2/TnewhIEIAABCJROYEamgu9x873dqQE6XQ7f33PTE9Jq9arPbUeYZ0qsvYmbYH1bJlL3R+E+amJ66L2pW5/zydtn99yHOpmDDzOTvY4LknlGtQZxHRV56oUABCBQKgGzc5uQiY47bUsKqy6ufbcvRWRL5U9lEIAABCDgEtBCOk/tlzqJoZHbVi4/PBYprqmCqn/ALe5HU7NvH/DHZi3d3X/QdkdtlJ8Q11HSp24IQAACpRGId27tyZak7mDVDmzelEypmdm+xTClI3qH3dcOseevxXE/+vsNG3FNGSFWQQACEBghATOT2g7OCErdV6h9wuRUODNb8RnX1P2qiKgZzVZHMR8W/6D7RF0v4jrsAGTOr+4qvIZrXDPzIiEEIDDWBKydmzoQSBFT9Uv01KyVzuIV/kptnZqbcgDhppmQ9nTaqcLWr+dpp4jlJq62qPao0+onixCAAAQgUBYBI64zEuw/UvYrM5PqtN44Xdwy/R1vnaKbJr6hNJp915S0004VDvY7Jk3yh9tw39ZpRlhEtPx1Etcwvzk9OezL1LR1enHU7yz7Ki/NZCj90T49dR/q5TES3aPfMevqLK2s+eNwENfqxBItgQAEKk3AEtJgJ2t2oqbRarvaMVvp9KZwx2+n1ztBS34TafSO3Lmm1qyLdtISHqzYpy6n7nRNG9V7sn321nhZp4vq8j/HKVmCAAQgAIFREND7EvU9HXz3+3I4I1PBfsZKFzQzuQ8K89tnE+nvfCNpKl8kavH+zPzgGktvch8zrLi6M6667fZ+T7Uty/4xJU0k5mZ/7O9DO+bRrPX2uP+jiIPsdSKu2VmREgIQgECNCdg743DZ+XVY7bwCybPTxTvTxE5NHwAE6/WOzylPkbLTdDxdyqvP3+kmiOv01q/s8Q2a4oORSHAR1wRBVkAAAhCoBgFbSMNlZ18zO6Uva7HTmR88fcn1Tsn19j+mv2mzn4nrT7192lDiqtsR7x/dvph2uXJr1rr7xyxpwv1uvC8M8hipNcWKxRpxjagUvbBoejmnChcNmfIhAIGmEHB3gMGO2NqZqZ1beMDgpvN3gjGNcMcX7Iw7yaazQ0zfWavynIOCTmVFFXvti9b7Czod4uqD4TMEIACBihBw9wuBZDnf2UbAUtJZ+6+oM9b+w9mvRAnMD6q6XC2VjiwHad39R8eyTLl6Xxf/iGqddpy4k7+17zT5tUgmBNrZP7ptirKaH4UND4tB8gdcO5dedvbTKdsrtqreM66Ia8XCieZAAALVJeAJX7Czsg8KzK/Xbrpwh23S2b2Ld7690oQHBfrAI3WmVO3kdf3OTteuzyy77TNrk+/+Tt7/nMzBGghAAAIQKJOAK6ThD6XWKaxGxhyx67IPsPYf6bOT5iwiV1w7CacRyaziGs+qdmMY7zvjVFn2jx6rOHP4469hZTEQh5uVwV5EXG0ahS4z41ooXgqHAASaRcDf2YefoxlT51du6+YUzk7QJmLtfDulcXaIVnq7GH+5U1lROr8f0QZvQafz+xV99pLzEQIQgAAESibgy1j4Wf3YqWQxFkE3Xfrpr+5sakfZtPcx9nKXnncsy+TR+7q4vWZD2nvavjBtnZ/X36fF2x0eTp9cbnEOa8nZT1vrK7rb6Yf+AAAgAElEQVS48tpb5LyLrqpo67o3C3HtzoetEIAABCwCSeELdsbz2qIejxOfKuWl67RDDnaOOl+WNP7pTFbLOu90rUTRote+aL2/4O/k/c9+ej5DAAIQgEC5BJJiFewPgjvl2mf6uOlCkbS3h60O8jpn79j7tjCNm7eTMLrrixdXfX2umTW1BsHePzr9i9J4+0RHXDuVa+0PEdeIZNELiGvRhCkfAhBoEAFv56Z6pndY0Wm6QW+T6cKdpX2QoA8irJ2sezCgCtJp7Ot7TH32rKctwCqbt9MNmuT8l2yfszn6YO2Y9Tr7ACBKxgIEIAABCIyIgN5PpOwTose7BC3z0yX3QeG+w76rsHezJlWO2QdZd/QN912u4PqCWIa4Rm1LYRH/sOxzMPeI6HKWlOmzVa67vw7LzDZbPKIwsaqt84zr2dycyRpJFiEAAQh0JZAmfMmdYHQzB0tKVbFm526uBUrbyflpzHPq4p2uKknXGV3ragtxseJqDmxUH9w2dQXHRghAAAIQKIRAyj5Ii5a7j0lJZx6N1mlfotsbSqi5WZJ5vnjafseksSRQl1GKuAZ19dg/pqXRZ01Fop/6469frrmnRdjBmJG7Xne/Um+Ia6WGg8ZAAAIQgAAEIAABCEAAAhCAgE8AcfWJ8BkCEIAABCAAAQhAAAIQgAAEKkUAca3UcNAYCEAAAhCAAAQgAAEIQAACEPAJIK4+ET5DAAIQgAAEIAABCEAAAhCAQKUIKHE9/+IVlWpT1sZwc6aspEgHAQhAAAIQgAAEIAABCECgxgR6i6t/IyrrplvRjbzsdeXdkApxrXHg0XQIQAACEIAABCAAAQhAAAJZCfQW15SS9J2q/acJ9LxbdEpRw6xCXIehR14IQAACEIAABCAAAQhAAAI1IYC41mSgaCYEIAABCEAAAhCAAAQgAIFxJYC4juvI028IQAACEIAABCAAAQhAAAI1IVBrcW0vlzU33JpKupW6doiV51+0Qn7+i18NUQJZIQABCEAAAhCAAAQgMDgBdSx62IIzBi8g55w/OXGRPPnUXM6lUlydCKjx/8mJZ5fS5IHEVcIbNo38GteyxHX12lvlC5vvKKcsuqSUQaESCEAAAhCAAAQgAAEI+ATue+gx+fxm35XDjzvT31T65/lHniwbTeyAuJZOvloVKnH9/MQOouKh6H+DieuctOe1ZGLa/YEluDnTvLa4awfrQZYbPZ3dXi7XFD3jqqT1S5vvIH/zkf8hiy9ZOVhvyAUBCEAAAhCAAAQgAIEhCShx3WiTLeXTn99spPKqJOVTn91ENtp0W8R1yDGte3YlrioOVDwULa+DiatIKJYT0l6vaes7DfsyO+hYVEJcjbT+8Z++T97/wY8iroOOJvkgAAEIQAACEIAABIYmYMS11WqNTF7nHxFKq2oD4jr0kNa+ACOuKh4CeT2iuJnXQcU1gDw7JaqN5pWXtKqyRy6uq9fOBjOtSlpVB5W4Hn78Irnp1rt5wYAYIAaIAWKAGCAGiAFioPQYaF96tWz0tW2ig++yZ15taVXHxxt9fTtZunJt6Rw4Hq+OjyxdsTaIAyOERcrrymtvlvMvXlE52c8urreltn2omzNF0vonobSqgXjPe/9UNtrkW/K5r36TFwyIAWKAGCAGiAFigBggBsqPgY2/JZ/9wiaRuKpj1LLk1ZdWVffnvvR1jo/H/e9AxeSXvu7EZFHyWq64hjd1MkLe+31KZlK1NFwZXOO6LmdxTZPW3g2Np51JCwtigBggBogBYoAYIAaIgTJjoGh5TZPWMvtHXfX7eypCXlf0nHHNIpvdBbOLe3bclHnGNU9xRVrr90fBFxljRgwQA8QAMUAMEAPEQHEzr0grf1+D/n3lLa+9xbWjW4oEN2SybtDUJWm/m0oXV6SVP8pB/yjJR+wQA8QAMUAMEAPEQBViIO+ZV6SVuB42rvOU16HE1dxEKadH4NhyW7q4fnHz78l/+i//1Tk/e9iBIj9/7MQAMUAMEAPEADFADBADZcbAZzb5tqxYdZ19XD3Q8gWXXin/+tWtODa27kRb5jg2qS4VRyqehv2Xi7i2GnCqsLq9snpe63ve+3/wB8ofKDFADBADxAAxQAwQA8RA7WLg0xt9XSaPOX1YP4jyHzB1onzysxvXjkOTpK/ufVHxo+Ioj3/DiquoR+L0O+Oqn/nqjkP/8pv7zZmQV34RdYMSHvAgBogBYoAYIAaIgXrEQN7SakQDea3H+Ffx7zRPaVXxOLS4mqDO+q6f/Ro+83VO2vNaEixrmZ2azVqQSO7iqqpGXvnjrOIfPm0iLokBYoAYIAaIAWKgUwwUJa3msBx5JfY6xV6n9XlLq4rFzOKayyxpKKqtSfOQG0tcRWRmstXX7G0h4tpJXv/oPe+V//6Jf5W/+9inecGAGCAGiAFigBggBogBYqD0GPjIJ/5V/vOf/7Vz6m7R0tpNXv/8rz/M8fGY/x2omFRxYAtsEdKaWVxzmyUNH60Tzraq2l1xzXJDJvO3o94LE1dVuD/z+v4PflQOO26hrL3lTl4wIAaIAWKAGCAGiAFigBgoPQbOv/gq2ehr20SSUJa0mgNwf+Z1o69vJ5dceW3pHDger46PqPFXcWDEtShpVTG44pqb5fyLV5hwTHnPc5bUFdVUce3jetlCxVWRsOVVieviS1amAGIVBCAAAQhAAAIQgAAEiidw30OPyUabbBlIQtnSanpny+tGm24rTz41ZzbxPoYE1PirOFDiWqS0KrS9xTXfWdJwVtU8+9US2QGucV3YXibXrLstNUJaqWsHWGnk9QMf+QTiOgA/skAAAhCAAAQgAAEI5EPAiGsgrcfmd/fgfltn5BVx7Zdc89IbcS1aWhW53uJqyWWA2v0ciGgfs6SqiDhPWFY4s9z/XYVLEVfV4JXX3SJf2HxHOfWcSwME/AcBCEAAAhCAAAQgAIGyCQTiutl35bARSqvps5LXz0/swIyrATKm74G4TuyQ2yNvumHsLa5aNFv5zJJ2a0u/20oTV9Wws9vL5IGHf9FvG0kPAQhAAAIQgAAEIACBXAg8+MjjcsjRp+ZSVh6FHHH8WYhrHiBrXIYS1yOPP6uUHihxXdz1GtewGXnNkubZqVLFNc+GUxYEIAABCEAAAhCAAAQgAAEIZCeQVVyzl9g7pfvYm/Aa2uB04T5POUZce7MmBQQgAAEIQAACEIAABCAAgdoTKFtcw5szxdezBhLbUp/19a7RM157o0VcezMiBQQgAAEIQAACEIAABCAAgdoTCMT1km6PwzFdtG+k1NKP6okF1KTq/u7e2ElEz7ZqWfWltntZIohrL0JshwAEIAABCEAAAhCAAAQg0AACmcRVP6pmYtp9TFMomi2Zms0Kwnu0jlcu4pqVI+kgAAEIQAACEIAABCAAAQiMEYHe4tr9FF73etVe4DxxnZ0KZm6N+Abi2sd1rsy49uLNdghAAAIQgAAEIAABCEAAAg0g0FtcPdn0+tzvLKktp+H1reYxO+5pw141qR8R11QsrIQABCAAAQhAAAIQgAAEINAsAqG4ruzSqTxnXMNqQmENr5M1px/3N3MbloO4dhk2NkEAAhCAAAQgAAEIQAACEGgKgd7iKiLetaim7+Fsq5kxNWvLe1+4ZJlcu+621ApbqWtZCQEIQAACEIAABCAAAQhAAAK1I9BbXPUpvC1zJ+Fe7/3eadhCFghy9vyIq8WORQhAAAIQgAAEIAABCEAAAk0l0Ftc8+15OEvbS3719h7PdEVc8x0bSoMABCAAAQhAAAIQgAAEIFBJAuWKa/cbPYWnJFszruvnxH0Aj4sQcXV58AkCEIAABCAAAQhAAAIQgEAjCfQW1yynCivZ1DdxalnimSDWp7gm8rsrEFeXB58gAAEIQAACEIAABCAAAQg0ksBV19wsiy/pdlfh6na7UHG97KrrhRcMiAFigBggBoiB4mJgkEOM2+9+kP0zxyjEQI8YGORvy8/z+htvwbkHZ/YP2fcPb771Gz/E+v5ce3G9sYC7Cr/6+hvytW/vL1vOX84LBsQAMUAMEAPEQAEx8L92OlJm77yv7wOXnXY/QE7ccTM5b9eNecGAGEiJgX2+s6UsX7Wu778tP8OJi5fKx447Wz5wxbW8YDBUDHxswUI5tb3cD7G+PyOuKciUuP7vnQ+T3Re9wAsGxAAxQAwQA8RAATGw7Y/OHUhc99n/ULl330/Li/M/zgsGxEBKDCzabdNcxPW0C6+Uv7x+RtQzJnnBYJgYeP+1N8uZF69Isa7+VmUX15RrXee1u948qb+W9J86OFW4qBlXxBVp54cLYoAYIAaIgeJiAHFFvPnxoZgYQFyRzGEks4i8pYpr8HzVlkxMu/f4nZlUj62ZkPb6/qUzjxyhuN6eWpRiPvA/ZlyLO1DhIBC2xAAxQAwQAyoGENdipAUZhCviirgWIZ/DlJmfuN7U8+ZMgaCmzq7qOwn3eN7qwALZIyPiWsCpWxxQckBJDBADxAAxUEYMIK4IFpJdTAwgrojrMJJZRN7yxLX7I2zmpiek1fUROGn2aR6d05KpWbM9Xtdq2evN9uQ74oq4ct0ZMUAMEAPEQE1jAHEtRlqQQbgirohrEfI5TJn1FVd9rawzg6ul1azTpybHUpuUVrUGca3pwUoZv+RTBzNGxAAxQAxUOwYQVwQLyS4mBhBXxHUYySwib3ni2v104M6nEafLZnhd7JTM2JtTrqEN0vU4BfmsJcvk2hu5xpXZBgSeGCAGiAFioHYxgLgWIy3IIFwRV8S1CPkcpszyxFVEZqck9fTdFOG0fTS53EGCg/LdmzxlOQUZceVArXYHaswAVXsGiPFhfIiB8mIAcUWwkOxiYgBxRVyHkcwi8pYqrspAE6fvhhI6cfIpMpH5Gtf062XTJDVtnS/CiCviirgSA8QAMUAM1DQGENdipAUZhCviirgWIZ/DlJmbuK7pfVfhUCLVo28yvLqe3psurmmnGwd1mmtefWPVnxHXmh6sMKNR3owGrGFNDBADVY0BxBXBQrKLiQHEFXEdRjKLyJunuC65ZGUHNVSr02UzyhDMxFrXrK6fE/dpr1HKYCF57aq+WZMjvB1OKXaLEsQVcWWmhRggBogBYqCmMYC4FiMtyCBcEVfEtQj5HKbMyoqrJ5eJj/71sv5nEQlneN1rXhPliCCuVf0VnXYxw0MMEAPEADHQKwYQVwQLyS4mBhBXxHUYySwib3nimqaMQ67T18uaU4/tx96Edx3uLa2qBcy41vRX9l4HM2zngJcYIAaIgebHAOJajLQgg3BFXBHXIuRzmDJrLa5Deq/JftaSpTwOh4O75h/cMcaMMTFADDQxBhBXBAvJLiYGEFfEdRjJLCJveeKqr0HtemMmdY2rvi418x2GjX4O/o64MuPKtW3EADFADBADNY0BxLUYaUEG4Yq4Iq5FyOcwZeYqrpd2uznT4GLZMad3qnB4yrB1g6eOGd0NiGtND1aaOHNAn5gRIwaIAWKgvxhAXBEsJLuYGEBcEddhJLOIvLUVV30zpolpde9h/SxYtZx4TqwrqWmfEFfElZkWYoAYIAaIgZrGAOJajLQgg3BFXBHXIuRzmDJLF9fUWdJsN1GKpdN/zI0lrurBO5MtafV4dmtclro5E9e4csBW0wM2Zmb6m5mBF7yIgebFAOKKYCHZxcQA4oq4DiOZReQtVVydWdJYHcPH1rTEvitwvDVtyX8mrCuuYXnZTxlW4nrdjbenVSSK+cD/Xn39DfnfOx+GFCKFxAAxQAwQA8RAQTGAuBYjLcggXBFXxLUI+RymzPLE1Z8ldXWwv1lSV1SdU4XN81v7nHFFXAs6oGB2o3mzG4wpY0oMEANVigHEFcFCsouJAcQVcR1GMovIW564+rOkrrj2O0sapjenGFsiO8g1rouZcWUmAHEnBogBYoAYqGUMIK7FSAsyCFfEFXEtQj6HKbM8cc1zxjWU3kBeg5lVXXbwqJ3spwgbdT4LcWX2oEqzB7SFeCQGiAFiIHsMIK4IFpJdTAwgrojrMJJZRN7yxFVEcrvG1ShnPu+IK7MMtZxlKPfA9kH54j9vLF9ckP1gsmP7DjxAWq0+yxokz6jjWrV5s5XJ2FLr//l02T5on+LakvBZXi355IFZ+K6UT7Za8qEdH0yWHfVZlxvVk6Vc0nSM2YgrjKrICHFNk5YPy4Gtlmy82d9LIHXb/YW0Wu+TM/ZMS2vWhXlan/lwmGe+Wd/9fdVnWnLgdnGahzd7n7RafyGrMuavgnT6fTBtUusjhvM1n2CWpBdLzaNA7qaNRb6Pr7jORPtls39OfZ+eC26GM5ygzUlr3oS01v//7Z3B6x5HGcff/0LwFBAvxUsQwaM3L0GaYsylICKSBgweFIrVXJLSg6gHD5oG9GBN8VBT2oJNBQNtJIFGEATxD+ihh1IwJNbjyuzMM/vMs7P77vvuu+87s/kEfuz77sw888x3nvfNfPaZ3XcCJAeQSny5cGs/H5yta/f3a9tM8HWhOocF13e3k+RBniq8pZu2j+mZV8CVRdkIALBQbReqNYLjSeM6gGMGXL976VwHnXvpCriWCE/4dLrvSsC1g8YOYgy4ToLIPcD1B2eac5sUXDsfcn4VeG5wDF9qXn2mA9S9gBxwbVfsv/njO83n79YHSR2QBpA9CKga6GthdAK4vv5cs9nYeg563cVve9700YPI0O4pBtd3/nKv+cMbE8B1C3NOLfb3uHaJiuTiQ3sxTJVduz9qFnA96QL/dIsdFpo7aL8XYO1gf3UxOASu7nyXbXYQu9m81FzYafyAK5/dp/mz1R874JqDQcB1MkAPgas7/8yZ5t8B+l32daPeT7IPuAKuPWg0UDkJXMfAeazM9BV9AVyPC67jD3pqbMb1o4+bj0fQFXDdadHcXzSwiFy3Jh6u1JWgNovo4emrl240X5ArRTG76MuSq0mx7JPmioHgCG+/ULbsVth92rRxbXw5/+fmwvmN2qqbm7sAnTIud9T+t3b7dbptvqZPvS3ajbHdvttvP7R92OnY2Xb+evvpVmHT5/kbfguy3ircaqjmUfvFdwC7LiqOgVWBaws6mQxmgKv8ttXwuU62+BpwzQFUsCnf1efOn2m3FydbhU0dVzf6EHyV9gJ12czkQF0Pfy6zuWlcv76tfE912c5BSMz4p7ct+3Yhkxy/05XdEb+cL36str33dattB7z76j4pQ567YHHYc0/vVmELfCNw2GZCJWY3/e23H93qbzt+EOxvaxtBM/Q/OUMqmVjll/TZBFvx87BrttZqc9z3h9oqXDS4jkCrKwJcK16wAM058FrgnAFHgaf+vaoZqApAGkHL2IpgrCBLzkVg26eNgLCCzhZa3Ze16iuNoQCUSbkdU4BEXSdAYfT3d8GO6tv148YVdQjv04zrsO2unfFnyjh7/nlf0r4XiBu+WwDiI8TAqsBV7qNMIPRsADq5b9RAqYOcAbBNIbMPbLH8aoBH9/0ofQebCQgG0IvnMnUsuAqMxjaxLxlP13ffH6mTAbLemDOgGOrEMV0VLZUWmTF82vqo6lw92/QyroO21YUHC65Bv/44le6FQKsDc8BVoGwAXK85MNTgZwBToFVvMbYZVvs+wqr0HY5tX66/l7fclxp80Pe+tn1smk2EVzKu28HVZ0njhbkI+upiwGb6falbWHSn4hZc732YbeO2t+/979HjJ83Fy9dZuBxh4ZLCBwvwg+thwDGCawbMcjCUZDmNLQ+p3fZZ77uBsz3aeEi123AzYJjEp+k3KfNxlff3E5/Jjdt+8+DqfOrgtg+P3rb12dpOfcyPMwXwIbsHj5OMXvTB99HSMbAucBWw0sDWZSQdTFgw9Jk/C1YGbhOACvZ6215DZjGAaw/UWqBKfRFg7qDU+mf8EChLoHPAn8TnDLhuKxfY7D0oyvSXBVfnt54Dq2//vZ8HYzvx0ZSJFgMXK2ReT3kEXAUeM+Cag1IHnRoSp0DplDotzGayqA6mNBS7etl7YZtm04KvQC/guh1cR/AvzPHLD0bqLFgEuLLY5OLCthgw4Cjg2mUBM4tzyQTKVSrJUBpbeahK4Wxwe3Hit26TB8crkgkVX5L2fgweBN0VtT5AjrZPxpXr3/mX2rRjb/vO+ZbYnjLOALtiS83F6Jxl9FgaOrCf+ewwDzt9J68NXHswmAWrAHKS9ZPv2QijBhgTgDJlEaACWEnGNZ6XTKbKNEidjG8JWGfKE8Br7Qz0m/icAVcBPjd28Uf7LOWZsq0+ur5NuxTkB3y2FxaSMeyhezKenAbLngNcR8B1CBBlK24LlAF4XYwObfOdDK7iizsqu+1nX7K+AUh1tlUyuEk/gOsscG2a5r67END+JuuChDpgGnBlkbTTIumpXGgn4OQW2hqe9MLbn49bK0JGNgEyY8vCm9c32JGM7s5tTHsV44kv6nwyr21/apEWgTMAqSwSe0fJHGfA1dmU8YR+07GHNgKb2rdk/Fr74XG2thNbfd+BWB27vE4+Azr+Cn+9OnCVrbQBnBLIakHGA1D8ng31UrAykKQBKsBkt121g5/WhgCbgWJf3wBbBkwTf9t+1dbZCGLajn7d+eLvD821VXViVlV9X4v/Aq6972mpGzKqmTE4HXQW2cF2Tl8Lt65ef/xhy/FU3aNG6ThPkXkFXAUWMxlXe3+qjTOdCY3bfEPsaYhNgFL62+EYsn8OojbNQFY2+mYAV/shgFv4sZR7XP1TgtkqDEAVvkCqdWE32+8EnIbB1Wcr06yi6zuBRWMrhTeBBwNkO7fJgGMbWyNwOBR7MVvpxjVkV/yWY7+e00BvE3a62LEnOml/kvFrcO33I3M9aCvYbcvtQ7B0n7zm+7iSGFgfuGr48VCnIbMFKLONdQisYjsNrgHoYlkEJQ2Q4XXM4ApE6TrdvbUa8hJwy0ChBzBtR7+Wfrosr7a9Dd5835KBNfAex6n6cOd6Prp26Tbhvr4DPo+B6yTdjW9DPh/pPOAqADkErrL1VupNOArwCjROAde2zUhfcRvw1Ezq1HoTxnNk0AVcm+bma282f+UeV1lwc5SFP0cVCwk4ufManqTeEBQGCJXsn7Fl4c3rPhdc7X2h4qPxZeLC3Pvos6l5fy2EWqB0/faB3trS/ej485Ap7f0YJFualsk4h+ZCyt3RaDxRC+0Xr7WevD5VPKwRXD8NkPOT8+53UvVDggIw9YAyZGHjeQNtCbhusdFmLIO9mL0MQBUgL2Yae9Cnodu1GbeTzeIKlA1ma8fgLh1bmiXt2iXn7Rhcv3bcvYxryMD2ADftP32qsCmTcQ5pFMs7v7eB+6HLAVcBtwy4yj2u8YFHoe7Q+Qh4ARplO+8UcBWbOosb7YX7V8XeEOQm5wHXeVuFw4Obtvze6sBO39mnAVcWrGRWtsVAyDp2GcMUnmTB6iFKtsv6hbxk9uKTfI8ErlckU6q250Zf1Dnx3R9zMGchMNQREHfahb4EJp2tti+p48rltdLagmuESV231WujnkZste/77O12T0/OAnGw280p4JXGAnrUosc6wVXAqP/boT7jqmE2V3cMXLsso866eruSrQyQlYCZnJM6HZhqO0nGNWYg9dZbsSNZzfDewuI2cM2VBwiN/ljQdjDYa5dq5fyP7RU8JrDrzmdsS8Y3ZonbvtRcWf8EiN1WTjt+1fehgXSqPcB1BFwdOLaZTtl+6+rmoFQ/zbdpNhZC5b0FYA2m7rVkai28tue1DwGyBWRdW+lDtw33aLqn0Nb0d7yM65anCp/o/lZHvR5cH2YBmKcKq0V2LYsY/FxiwR3gzf3n2kKVhaeuzwiH4Z4KB3MJOB0LXNvYDVAn93fI77gOgqsbh2kTx9yNMT6kSez2fmtVfq/W38/y5WfTn8GRGO2Dq+tDad3aTy8EiH8akuVcvOftKzear5vfq40wO+Yzn3cuYlUYA2sFVwGsQYhSn2VXx0OTQFIKY2nmL2TwBLzEztfOxN9T9WAjgCn3hHr49IAr0KmgOUCuBdfWVoDF+B2VQNqe4KogNNrVvzMbwS9kfWWcSQbbaxGhffO55sVnRMM009kD19a+td3p0o3b2Nuqe9rvVMhcoh7gKlCXybgK8AlQSnzJFmApl3tQpdwdNUAK7LrzGjalvT4KgGpb2TYBoHU9C8baL1um+yzs9fHANcuFRZwEXCtcqMjCn6OGKV5vjwcPhSn0odt23dAIjcqNgdWCawSvckBmCTjCZrnzC7gKuHIsJSt7OHD9oLn1xrtFgOiuTgCugCtZlhXGgM/8yn2hftGdZH5XOGbgqly4Ym6WmxvAtVzwAUrrnhvAFWAtBVjFj4OB63uAaw+YHz1+0ly8fB0oAhCIgZPEgN1y67a7pSALTCwHE2iLtseKAcC1bjgCbsudP8AVcBVgLOUIuHKPK1B1EqhiUXusRS39EGvEwLpjAHAtF3yA0rrnBnAFXEsBVvEDcAVcAVfAlRggBogBYqDaGABc64Yj4Lbc+QNcAVcBxlKOgCvgWu1ihSzKurMozC/zSwwQA1NiAHAtF3yA0rrnBnAFXEsBVvEDcAVcAVcyLcQAMUAMEAPVxgDgWjccAbflzh/gCrgKMJZyBFwB12oXK1OuxFOHjA0xQAwQA+uOAcC1XPABSuueG8AVcC0FWMWPg4Lrn/g5nOTJwjxVeN2LJRbDzC8xQAwQA6ePAcC1bjgCbsudP8AVcBVgLOUIuPqM6917DxPmlDdunvb+B7iefkHDopI5IAaIAWJg3TEAuJYLPkBp3XMDuAKupQCr+AG4Aq5sFebeNmKAGCAGiIFqYwBwrRuOgNty5w9wBVwFGEs5Aq4OXG83ZFxZtFW7aCObtO5sEvPL/BID4zEAuJYLPkBp3XMDuAKupQCr+AG4Aq4AG9BODBADxAAxUG0MAK51wxFwW+78Aa6AqwBjKUfAtWlu/p6Ma7ULFjIR45kI9EEfYoAYWHsMAK7lgg9QWvfcAK6AaynAKn4ArtOhU5sAAAOaSURBVIAr0EqmhRggBogBYqDaGABc64Yj4Lbc+QNcAVcBxlKOhwLXt9/7oLlV68/hkHElI7H2jATjI8aJAWJgrTEAuJYLPkBp3XMDuAKupQCr+AG4knGt9ir7WhdhjAvAIAaIAWJgegwArnXDEXBb7vwBroCrAGMpR8AVcAVc2SJIDBADxAAxUG0MAK7lgg9QWvfcAK6AaynAKn4AroBrtYsVMhLTMxJohVbEADGw1hgAXOuGI+C23PkDXAFXAcZSjoAr4Aq4kmkhBogBYoAYqDYGANdywQcorXtuAFfAtRRgFT8OCa7f+t6Pm0s/eqW6P+f33b89bHL/nE57/3v0+Elz8fL1ahcDa706z7jIPBEDxAAxsJ4YAFzrhiPgttz5A1wBVwHGUo6HAlcHd/959LjavyE4nQ2u3/j2i83zP73NHxoQA8QAMUAMEAMLxMBzl15pHvz9n0P/jw+ef+HKS80vX/hm89vvP8sfGhADmRj44Xeeb9668/7gZ2hqwa9ee7M5+/ObzRdv3+EPDWbFwNmfvdr8+vW3pobeU1dvFrg6td6+8z5/aEAMEAPEADFADCwYA/usTj78x7+YkwXnhPXPOtZ/+3y2bJvHTz7js8Zn7WAx8N/P/mdDjPdBgdngipIogAIogAIogAIogAIogAIogAIosKQCgOuS6mIbBVAABVAABVAABVAABVAABVBgtgKA62wJMYACKIACKIACKIACKIACKIACKLCkAoDrkupiGwVQAAVQAAVQAAVQAAVQAAVQYLYCgOtsCTGAAiiAAiiAAiiAAiiAAiiAAiiwpAKA65LqYhsFUAAFUAAFUAAFUAAFUAAFUGC2AoDrbAkxgAIogAIogAIogAIogAIogAIosKQCgOuS6mIbBVAABVAABVAABVAABVAABVBgtgKA62wJMYACKIACKIACKIACKIACKIACKLCkAoDrkupiGwVQAAVQAAVQAAVQAAVQAAVQYLYCgOtsCTGAAiiAAiiAAiiAAiiAAiiAAiiwpAKA65LqYhsFUAAFUAAFUAAFUAAFUAAFUGC2AoDrbAkxgAIogAIogAIogAIogAIogAIosKQCgOuS6mIbBVAABVAABVAABVAABVAABVBgtgKA62wJMYACKIACKIACKIACKIACKIACKLCkAoDrkupiGwVQAAVQAAVQAAVQAAVQAAVQYLYCgOtsCTGAAiiAAiiAAiiAAiiAAiiAAiiwpAL/ByvCF0AeWKAlAAAAAElFTkSuQmCC)"
   ]
  },
  {
   "cell_type": "code",
   "execution_count": 10,
   "id": "disabled-ultimate",
   "metadata": {},
   "outputs": [],
   "source": [
    "# model benchmark\n",
    "logreg = LogisticRegression(solver='liblinear', random_state=2020)\n",
    "knn = KNeighborsClassifier()\n",
    "tree = DecisionTreeClassifier(criterion = 'entropy', max_depth = 3)"
   ]
  },
  {
   "cell_type": "code",
   "execution_count": 11,
   "id": "lesbian-class",
   "metadata": {},
   "outputs": [],
   "source": [
    "from sklearn.model_selection import cross_val_score, StratifiedKFold\n",
    "import warnings\n",
    "warnings.filterwarnings('ignore')"
   ]
  },
  {
   "cell_type": "markdown",
   "id": "sharp-speaking",
   "metadata": {},
   "source": [
    "### Accuracy"
   ]
  },
  {
   "cell_type": "code",
   "execution_count": 12,
   "id": "documented-growing",
   "metadata": {},
   "outputs": [],
   "source": [
    "skfold = StratifiedKFold(n_splits=5)\n",
    "\n",
    "logreg_cv = cross_val_score(logreg, X_train_val, y_train_val, cv = skfold)\n",
    "knn_cv = cross_val_score(knn, X_train_val, y_train_val, cv = skfold)\n",
    "tree_cv = cross_val_score(tree, X_train_val, y_train_val, cv = skfold)"
   ]
  },
  {
   "cell_type": "code",
   "execution_count": 13,
   "id": "backed-burst",
   "metadata": {},
   "outputs": [
    {
     "name": "stdout",
     "output_type": "stream",
     "text": [
      "CV Logreg: [0.79464286 0.79464286 0.83928571 0.79464286 0.77678571]\n",
      "CV KNN: [0.75       0.71428571 0.75892857 0.77678571 0.71428571]\n",
      "CV DTC: [0.83035714 0.67857143 0.82142857 0.73214286 0.79464286]\n"
     ]
    }
   ],
   "source": [
    "print('CV Logreg:', logreg_cv)\n",
    "print('CV KNN:', knn_cv)\n",
    "print('CV DTC:', tree_cv)"
   ]
  },
  {
   "cell_type": "code",
   "execution_count": 20,
   "id": "metropolitan-mitchell",
   "metadata": {},
   "outputs": [
    {
     "data": {
      "image/png": "[encoded data removed]",
      "text/plain": [
       "<Figure size 432x288 with 1 Axes>"
      ]
     },
     "metadata": {
      "needs_background": "light"
     },
     "output_type": "display_data"
    }
   ],
   "source": [
    "import matplotlib.pyplot as plt\n",
    "\n",
    "plt.plot(range(len(logreg_cv)), logreg_cv, label='Logreg')\n",
    "plt.plot(range(len(knn_cv)), knn_cv, label='KNN')\n",
    "plt.plot(range(len(tree_cv)), tree_cv, label='DTC')\n",
    "plt.ylim(0,1)\n",
    "plt.grid()\n",
    "plt.legend()\n",
    "plt.show()"
   ]
  },
  {
   "cell_type": "code",
   "execution_count": 14,
   "id": "abandoned-shepherd",
   "metadata": {},
   "outputs": [
    {
     "name": "stdout",
     "output_type": "stream",
     "text": [
      "CV Logreg: 0.8\n",
      "CV KNN: 0.7428571428571429\n",
      "CV DTC: 0.7714285714285716\n"
     ]
    }
   ],
   "source": [
    "print('CV Logreg:', logreg_cv.mean())\n",
    "print('CV KNN:', knn_cv.mean())\n",
    "print('CV DTC:', tree_cv.mean())"
   ]
  },
  {
   "cell_type": "code",
   "execution_count": 15,
   "id": "formal-houston",
   "metadata": {},
   "outputs": [
    {
     "name": "stdout",
     "output_type": "stream",
     "text": [
      "CV Logreg: 0.020824828195876083\n",
      "CV KNN: 0.024872121923543065\n",
      "CV DTC: 0.057753434388557956\n"
     ]
    }
   ],
   "source": [
    "print('CV Logreg:', logreg_cv.std())\n",
    "print('CV KNN:', knn_cv.std())\n",
    "print('CV DTC:', tree_cv.std())"
   ]
  },
  {
   "cell_type": "markdown",
   "id": "turned-yahoo",
   "metadata": {},
   "source": [
    "### Recall"
   ]
  },
  {
   "cell_type": "markdown",
   "id": "stainless-lecture",
   "metadata": {},
   "source": [
    "![image.png](data:image/png;base64,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)"
   ]
  },
  {
   "cell_type": "code",
   "execution_count": 21,
   "id": "comfortable-toyota",
   "metadata": {},
   "outputs": [],
   "source": [
    "skfold = StratifiedKFold(n_splits=5)\n",
    "\n",
    "logreg_cv_rc = cross_val_score(logreg, X_train_val, y_train_val, cv = skfold, scoring='recall')\n",
    "knn_cv_rc = cross_val_score(knn, X_train_val, y_train_val, cv = skfold, scoring='recall')\n",
    "tree_cv_rc = cross_val_score(tree, X_train_val, y_train_val, cv = skfold, scoring='recall')"
   ]
  },
  {
   "cell_type": "code",
   "execution_count": 22,
   "id": "significant-builder",
   "metadata": {},
   "outputs": [
    {
     "name": "stdout",
     "output_type": "stream",
     "text": [
      "CV Logreg: [0.5        0.31034483 0.5862069  0.44827586 0.48275862]\n",
      "CV KNN: [0.4        0.31034483 0.37931034 0.24137931 0.27586207]\n",
      "CV DTC: [0.63333333 0.37931034 0.51724138 0.24137931 0.51724138]\n"
     ]
    }
   ],
   "source": [
    "print('CV Logreg:', logreg_cv_rc)\n",
    "print('CV KNN:', knn_cv_rc)\n",
    "print('CV DTC:', tree_cv_rc)"
   ]
  },
  {
   "cell_type": "code",
   "execution_count": 23,
   "id": "breathing-press",
   "metadata": {},
   "outputs": [
    {
     "data": {
      "image/png": "[encoded data removed]",
      "text/plain": [
       "<Figure size 432x288 with 1 Axes>"
      ]
     },
     "metadata": {
      "needs_background": "light"
     },
     "output_type": "display_data"
    }
   ],
   "source": [
    "plt.plot(range(len(logreg_cv_rc)), logreg_cv_rc, label='Logreg')\n",
    "plt.plot(range(len(knn_cv_rc)), knn_cv_rc, label='KNN')\n",
    "plt.plot(range(len(tree_cv_rc)), tree_cv_rc, label='DTC')\n",
    "plt.ylim(0,1)\n",
    "plt.grid()\n",
    "plt.legend()\n",
    "plt.show()"
   ]
  },
  {
   "cell_type": "code",
   "execution_count": 24,
   "id": "promising-therapy",
   "metadata": {},
   "outputs": [
    {
     "name": "stdout",
     "output_type": "stream",
     "text": [
      "CV Logreg: 0.46551724137931033\n",
      "CV KNN: 0.3213793103448276\n",
      "CV DTC: 0.4577011494252874\n"
     ]
    }
   ],
   "source": [
    "print('CV Logreg:', logreg_cv_rc.mean())\n",
    "print('CV KNN:', knn_cv_rc.mean())\n",
    "print('CV DTC:', tree_cv_rc.mean())"
   ]
  },
  {
   "cell_type": "code",
   "execution_count": 25,
   "id": "hybrid-madrid",
   "metadata": {},
   "outputs": [
    {
     "name": "stdout",
     "output_type": "stream",
     "text": [
      "CV Logreg: 0.08992003317520893\n",
      "CV KNN: 0.06021759987018779\n",
      "CV DTC: 0.13481616986286768\n"
     ]
    }
   ],
   "source": [
    "print('CV Logreg:', logreg_cv_rc.std())\n",
    "print('CV KNN:', knn_cv_rc.std())\n",
    "print('CV DTC:', tree_cv_rc.std())"
   ]
  },
  {
   "cell_type": "markdown",
   "id": "measured-cholesterol",
   "metadata": {},
   "source": [
    "### Flexible Metrics"
   ]
  },
  {
   "cell_type": "code",
   "execution_count": 26,
   "id": "continental-steal",
   "metadata": {},
   "outputs": [],
   "source": [
    "skfold = StratifiedKFold(n_splits=5)\n",
    "model = LogisticRegression(solver='liblinear', random_state=2020)\n",
    "metric = 'f1'\n",
    "\n",
    "def model_evaluation_cv(model, metric, fold):\n",
    "    model_cv = cross_val_score(model, X_train_val, y_train_val, cv = fold, scoring = metric)\n",
    "    return model_cv"
   ]
  },
  {
   "cell_type": "code",
   "execution_count": 27,
   "id": "going-variety",
   "metadata": {},
   "outputs": [],
   "source": [
    "def print_result(model_cv):\n",
    "    print('CV Score:', model_cv)\n",
    "    print('CV Score mean:', model_cv.mean())\n",
    "    print('CV Score std:', model_cv.std())"
   ]
  },
  {
   "cell_type": "code",
   "execution_count": 28,
   "id": "blocked-novel",
   "metadata": {},
   "outputs": [
    {
     "data": {
      "text/plain": [
       "array([0.56603774, 0.43902439, 0.65384615, 0.53061224, 0.52830189])"
      ]
     },
     "execution_count": 28,
     "metadata": {},
     "output_type": "execute_result"
    }
   ],
   "source": [
    "model_cv = model_evaluation_cv(model, metric, skfold)\n",
    "model_cv"
   ]
  },
  {
   "cell_type": "code",
   "execution_count": 29,
   "id": "increased-thomas",
   "metadata": {},
   "outputs": [
    {
     "name": "stdout",
     "output_type": "stream",
     "text": [
      "CV Score: [0.56603774 0.43902439 0.65384615 0.53061224 0.52830189]\n",
      "CV Score mean: 0.543564482325905\n",
      "CV Score std: 0.06927688261828344\n"
     ]
    }
   ],
   "source": [
    "print_result(model_cv)"
   ]
  },
  {
   "cell_type": "markdown",
   "id": "outdoor-gross",
   "metadata": {},
   "source": [
    "### Cross Validate"
   ]
  },
  {
   "cell_type": "code",
   "execution_count": 33,
   "id": "atlantic-white",
   "metadata": {},
   "outputs": [
    {
     "data": {
      "text/plain": [
       "{'fit_time': array([0.00997186, 0.00897503, 0.00997233, 0.0204618 , 0.01297617]),\n",
       " 'score_time': array([0.01495838, 0.0149622 , 0.01296639, 0.01795173, 0.01694322]),\n",
       " 'test_precision': array([0.65217391, 0.75      , 0.73913043, 0.65      , 0.58333333]),\n",
       " 'test_recall': array([0.5       , 0.31034483, 0.5862069 , 0.44827586, 0.48275862]),\n",
       " 'test_accuracy': array([0.79464286, 0.79464286, 0.83928571, 0.79464286, 0.77678571]),\n",
       " 'test_f1': array([0.56603774, 0.43902439, 0.65384615, 0.53061224, 0.52830189])}"
      ]
     },
     "execution_count": 33,
     "metadata": {},
     "output_type": "execute_result"
    }
   ],
   "source": [
    "from sklearn.model_selection import cross_validate\n",
    "model_cv = cross_validate(model, X_train_val, y_train_val, cv = skfold, scoring = ['precision', 'recall', 'accuracy', 'f1'])\n",
    "model_cv"
   ]
  },
  {
   "cell_type": "code",
   "execution_count": 43,
   "id": "focused-visit",
   "metadata": {},
   "outputs": [
    {
     "data": {
      "text/html": [
       "<div>\n",
       "<style scoped>\n",
       "    .dataframe tbody tr th:only-of-type {\n",
       "        vertical-align: middle;\n",
       "    }\n",
       "\n",
       "    .dataframe tbody tr th {\n",
       "        vertical-align: top;\n",
       "    }\n",
       "\n",
       "    .dataframe thead th {\n",
       "        text-align: right;\n",
       "    }\n",
       "</style>\n",
       "<table border=\"1\" class=\"dataframe\">\n",
       "  <thead>\n",
       "    <tr style=\"text-align: right;\">\n",
       "      <th></th>\n",
       "      <th>fit_time</th>\n",
       "      <th>score_time</th>\n",
       "      <th>test_precision</th>\n",
       "      <th>test_recall</th>\n",
       "      <th>test_accuracy</th>\n",
       "      <th>test_f1</th>\n",
       "    </tr>\n",
       "  </thead>\n",
       "  <tbody>\n",
       "    <tr>\n",
       "      <th>fold_1</th>\n",
       "      <td>0.009972</td>\n",
       "      <td>0.014958</td>\n",
       "      <td>0.652174</td>\n",
       "      <td>0.500000</td>\n",
       "      <td>0.794643</td>\n",
       "      <td>0.566038</td>\n",
       "    </tr>\n",
       "    <tr>\n",
       "      <th>fold_2</th>\n",
       "      <td>0.008975</td>\n",
       "      <td>0.014962</td>\n",
       "      <td>0.750000</td>\n",
       "      <td>0.310345</td>\n",
       "      <td>0.794643</td>\n",
       "      <td>0.439024</td>\n",
       "    </tr>\n",
       "    <tr>\n",
       "      <th>fold_3</th>\n",
       "      <td>0.009972</td>\n",
       "      <td>0.012966</td>\n",
       "      <td>0.739130</td>\n",
       "      <td>0.586207</td>\n",
       "      <td>0.839286</td>\n",
       "      <td>0.653846</td>\n",
       "    </tr>\n",
       "    <tr>\n",
       "      <th>fold_4</th>\n",
       "      <td>0.020462</td>\n",
       "      <td>0.017952</td>\n",
       "      <td>0.650000</td>\n",
       "      <td>0.448276</td>\n",
       "      <td>0.794643</td>\n",
       "      <td>0.530612</td>\n",
       "    </tr>\n",
       "    <tr>\n",
       "      <th>fold_5</th>\n",
       "      <td>0.012976</td>\n",
       "      <td>0.016943</td>\n",
       "      <td>0.583333</td>\n",
       "      <td>0.482759</td>\n",
       "      <td>0.776786</td>\n",
       "      <td>0.528302</td>\n",
       "    </tr>\n",
       "  </tbody>\n",
       "</table>\n",
       "</div>"
      ],
      "text/plain": [
       "        fit_time  score_time  test_precision  test_recall  test_accuracy  \\\n",
       "fold_1  0.009972    0.014958        0.652174     0.500000       0.794643   \n",
       "fold_2  0.008975    0.014962        0.750000     0.310345       0.794643   \n",
       "fold_3  0.009972    0.012966        0.739130     0.586207       0.839286   \n",
       "fold_4  0.020462    0.017952        0.650000     0.448276       0.794643   \n",
       "fold_5  0.012976    0.016943        0.583333     0.482759       0.776786   \n",
       "\n",
       "         test_f1  \n",
       "fold_1  0.566038  \n",
       "fold_2  0.439024  \n",
       "fold_3  0.653846  \n",
       "fold_4  0.530612  \n",
       "fold_5  0.528302  "
      ]
     },
     "execution_count": 43,
     "metadata": {},
     "output_type": "execute_result"
    }
   ],
   "source": [
    "cv_df = pd.DataFrame(model_cv, index=[f'fold_{x}' for x in range(1,6)])\n",
    "cv_df"
   ]
  },
  {
   "cell_type": "code",
   "execution_count": 46,
   "id": "moved-blame",
   "metadata": {},
   "outputs": [
    {
     "data": {
      "text/plain": [
       "0.06943791189606445"
      ]
     },
     "execution_count": 46,
     "metadata": {},
     "output_type": "execute_result"
    }
   ],
   "source": [
    "cv_df['test_precision'].std()"
   ]
  },
  {
   "cell_type": "markdown",
   "id": "adolescent-archive",
   "metadata": {},
   "source": [
    "### Model Performance in Test Set"
   ]
  },
  {
   "cell_type": "code",
   "execution_count": 39,
   "id": "detected-plenty",
   "metadata": {},
   "outputs": [
    {
     "data": {
      "text/plain": [
       "LogisticRegression(random_state=2020, solver='liblinear')"
      ]
     },
     "execution_count": 39,
     "metadata": {},
     "output_type": "execute_result"
    }
   ],
   "source": [
    "model"
   ]
  },
  {
   "cell_type": "code",
   "execution_count": 40,
   "id": "wrong-strength",
   "metadata": {},
   "outputs": [
    {
     "data": {
      "text/plain": [
       "LogisticRegression(random_state=2020, solver='liblinear')"
      ]
     },
     "execution_count": 40,
     "metadata": {},
     "output_type": "execute_result"
    }
   ],
   "source": [
    "model.fit(X_train_val, y_train_val)"
   ]
  },
  {
   "cell_type": "code",
   "execution_count": 41,
   "id": "danish-midwest",
   "metadata": {},
   "outputs": [],
   "source": [
    "y_pred = model.predict(X_test)"
   ]
  },
  {
   "cell_type": "code",
   "execution_count": 42,
   "id": "lovely-holiday",
   "metadata": {},
   "outputs": [
    {
     "name": "stdout",
     "output_type": "stream",
     "text": [
      "recall: 0.4864864864864865\n",
      "precision: 0.782608695652174\n",
      "f1: 0.6000000000000001\n"
     ]
    }
   ],
   "source": [
    "print('recall:', recall_score(y_test, y_pred))\n",
    "print('precision:', precision_score(y_test, y_pred))\n",
    "print('f1:', f1_score(y_test, y_pred))"
   ]
  },
  {
   "cell_type": "code",
   "execution_count": 44,
   "id": "apart-russian",
   "metadata": {},
   "outputs": [
    {
     "data": {
      "text/html": [
       "<div>\n",
       "<style scoped>\n",
       "    .dataframe tbody tr th:only-of-type {\n",
       "        vertical-align: middle;\n",
       "    }\n",
       "\n",
       "    .dataframe tbody tr th {\n",
       "        vertical-align: top;\n",
       "    }\n",
       "\n",
       "    .dataframe thead th {\n",
       "        text-align: right;\n",
       "    }\n",
       "</style>\n",
       "<table border=\"1\" class=\"dataframe\">\n",
       "  <thead>\n",
       "    <tr style=\"text-align: right;\">\n",
       "      <th></th>\n",
       "      <th>fit_time</th>\n",
       "      <th>score_time</th>\n",
       "      <th>test_precision</th>\n",
       "      <th>test_recall</th>\n",
       "      <th>test_accuracy</th>\n",
       "      <th>test_f1</th>\n",
       "    </tr>\n",
       "  </thead>\n",
       "  <tbody>\n",
       "    <tr>\n",
       "      <th>count</th>\n",
       "      <td>5.000000</td>\n",
       "      <td>5.000000</td>\n",
       "      <td>5.000000</td>\n",
       "      <td>5.000000</td>\n",
       "      <td>5.000000</td>\n",
       "      <td>5.000000</td>\n",
       "    </tr>\n",
       "    <tr>\n",
       "      <th>mean</th>\n",
       "      <td>0.012471</td>\n",
       "      <td>0.015556</td>\n",
       "      <td>0.674928</td>\n",
       "      <td>0.465517</td>\n",
       "      <td>0.800000</td>\n",
       "      <td>0.543564</td>\n",
       "    </tr>\n",
       "    <tr>\n",
       "      <th>std</th>\n",
       "      <td>0.004712</td>\n",
       "      <td>0.001942</td>\n",
       "      <td>0.069438</td>\n",
       "      <td>0.100534</td>\n",
       "      <td>0.023283</td>\n",
       "      <td>0.077454</td>\n",
       "    </tr>\n",
       "    <tr>\n",
       "      <th>min</th>\n",
       "      <td>0.008975</td>\n",
       "      <td>0.012966</td>\n",
       "      <td>0.583333</td>\n",
       "      <td>0.310345</td>\n",
       "      <td>0.776786</td>\n",
       "      <td>0.439024</td>\n",
       "    </tr>\n",
       "    <tr>\n",
       "      <th>25%</th>\n",
       "      <td>0.009972</td>\n",
       "      <td>0.014958</td>\n",
       "      <td>0.650000</td>\n",
       "      <td>0.448276</td>\n",
       "      <td>0.794643</td>\n",
       "      <td>0.528302</td>\n",
       "    </tr>\n",
       "    <tr>\n",
       "      <th>50%</th>\n",
       "      <td>0.009972</td>\n",
       "      <td>0.014962</td>\n",
       "      <td>0.652174</td>\n",
       "      <td>0.482759</td>\n",
       "      <td>0.794643</td>\n",
       "      <td>0.530612</td>\n",
       "    </tr>\n",
       "    <tr>\n",
       "      <th>75%</th>\n",
       "      <td>0.012976</td>\n",
       "      <td>0.016943</td>\n",
       "      <td>0.739130</td>\n",
       "      <td>0.500000</td>\n",
       "      <td>0.794643</td>\n",
       "      <td>0.566038</td>\n",
       "    </tr>\n",
       "    <tr>\n",
       "      <th>max</th>\n",
       "      <td>0.020462</td>\n",
       "      <td>0.017952</td>\n",
       "      <td>0.750000</td>\n",
       "      <td>0.586207</td>\n",
       "      <td>0.839286</td>\n",
       "      <td>0.653846</td>\n",
       "    </tr>\n",
       "  </tbody>\n",
       "</table>\n",
       "</div>"
      ],
      "text/plain": [
       "       fit_time  score_time  test_precision  test_recall  test_accuracy  \\\n",
       "count  5.000000    5.000000        5.000000     5.000000       5.000000   \n",
       "mean   0.012471    0.015556        0.674928     0.465517       0.800000   \n",
       "std    0.004712    0.001942        0.069438     0.100534       0.023283   \n",
       "min    0.008975    0.012966        0.583333     0.310345       0.776786   \n",
       "25%    0.009972    0.014958        0.650000     0.448276       0.794643   \n",
       "50%    0.009972    0.014962        0.652174     0.482759       0.794643   \n",
       "75%    0.012976    0.016943        0.739130     0.500000       0.794643   \n",
       "max    0.020462    0.017952        0.750000     0.586207       0.839286   \n",
       "\n",
       "        test_f1  \n",
       "count  5.000000  \n",
       "mean   0.543564  \n",
       "std    0.077454  \n",
       "min    0.439024  \n",
       "25%    0.528302  \n",
       "50%    0.530612  \n",
       "75%    0.566038  \n",
       "max    0.653846  "
      ]
     },
     "execution_count": 44,
     "metadata": {},
     "output_type": "execute_result"
    }
   ],
   "source": [
    "cv_df.describe()"
   ]
  },
  {
   "cell_type": "code",
   "execution_count": 56,
   "id": "authentic-counter",
   "metadata": {},
   "outputs": [
    {
     "name": "stdout",
     "output_type": "stream",
     "text": [
      "              precision    recall  f1-score   support\n",
      "\n",
      "    Negative       0.84      0.95      0.89       103\n",
      "    Positive       0.78      0.49      0.60        37\n",
      "\n",
      "    accuracy                           0.83       140\n",
      "   macro avg       0.81      0.72      0.75       140\n",
      "weighted avg       0.82      0.83      0.81       140\n",
      "\n"
     ]
    }
   ],
   "source": [
    "print(classification_report(y_test, y_pred, target_names=['Negative', 'Positive']))"
   ]
  },
  {
   "cell_type": "code",
   "execution_count": 51,
   "id": "thousand-trading",
   "metadata": {},
   "outputs": [
    {
     "data": {
      "text/plain": [
       "0.782608695652174"
      ]
     },
     "execution_count": 51,
     "metadata": {},
     "output_type": "execute_result"
    }
   ],
   "source": [
    "# precision(+)\n",
    "precision_score(y_test, y_pred, pos_label=1)"
   ]
  },
  {
   "cell_type": "code",
   "execution_count": 52,
   "id": "moral-tuning",
   "metadata": {},
   "outputs": [
    {
     "data": {
      "text/plain": [
       "0.8376068376068376"
      ]
     },
     "execution_count": 52,
     "metadata": {},
     "output_type": "execute_result"
    }
   ],
   "source": [
    "# precision(-)\n",
    "precision_score(y_test, y_pred, pos_label=0)"
   ]
  },
  {
   "cell_type": "code",
   "execution_count": 54,
   "id": "seasonal-telephone",
   "metadata": {},
   "outputs": [
    {
     "data": {
      "text/plain": [
       "0.8909090909090909"
      ]
     },
     "execution_count": 54,
     "metadata": {},
     "output_type": "execute_result"
    }
   ],
   "source": [
    "f1_score(y_test, y_pred, pos_label=0)"
   ]
  },
  {
   "cell_type": "code",
   "execution_count": 48,
   "id": "relative-sunglasses",
   "metadata": {},
   "outputs": [
    {
     "data": {
      "text/plain": [
       "0.81"
      ]
     },
     "execution_count": 48,
     "metadata": {},
     "output_type": "execute_result"
    }
   ],
   "source": [
    "# macro\n",
    "(0.84+0.78)/2"
   ]
  },
  {
   "cell_type": "code",
   "execution_count": 50,
   "id": "deluxe-fourth",
   "metadata": {},
   "outputs": [
    {
     "data": {
      "text/plain": [
       "0.8241428571428572"
      ]
     },
     "execution_count": 50,
     "metadata": {},
     "output_type": "execute_result"
    }
   ],
   "source": [
    "# weighted\n",
    "(((103/140)*0.84)+((37/140)*0.78))"
   ]
  },
  {
   "cell_type": "code",
   "execution_count": 61,
   "id": "unknown-opinion",
   "metadata": {},
   "outputs": [],
   "source": [
    "from sklearn.metrics import plot_roc_curve, plot_precision_recall_curve, roc_auc_score, roc_curve"
   ]
  },
  {
   "cell_type": "code",
   "execution_count": 58,
   "id": "applied-stream",
   "metadata": {},
   "outputs": [
    {
     "data": {
      "image/png": "[encoded data removed]",
      "text/plain": [
       "<Figure size 432x288 with 1 Axes>"
      ]
     },
     "metadata": {
      "needs_background": "light"
     },
     "output_type": "display_data"
    }
   ],
   "source": [
    "plot_roc_curve(model, X_test, y_test)\n",
    "plt.show()"
   ]
  },
  {
   "cell_type": "code",
   "execution_count": 65,
   "id": "recorded-conversation",
   "metadata": {},
   "outputs": [
    {
     "data": {
      "text/plain": [
       "0.8475465757019154"
      ]
     },
     "execution_count": 65,
     "metadata": {},
     "output_type": "execute_result"
    }
   ],
   "source": [
    "y_prob1 = model.predict_proba(X_test)[:,1]\n",
    "y_prob1\n",
    "roc_auc_score(y_test, y_prob1)"
   ]
  },
  {
   "cell_type": "code",
   "execution_count": 74,
   "id": "overhead-dublin",
   "metadata": {},
   "outputs": [
    {
     "data": {
      "text/plain": [
       "<matplotlib.legend.Legend at 0x1dc99230588>"
      ]
     },
     "execution_count": 74,
     "metadata": {},
     "output_type": "execute_result"
    },
    {
     "data": {
      "image/png": "[encoded data removed]",
      "text/plain": [
       "<Figure size 432x288 with 1 Axes>"
      ]
     },
     "metadata": {
      "needs_background": "light"
     },
     "output_type": "display_data"
    }
   ],
   "source": [
    "fpr, tpr, thr = roc_curve(y_test, y_prob1)\n",
    "plt.plot(fpr, tpr)\n",
    "plt.legend([f'AUC Score:{round(roc_auc_score(y_test, y_prob1),2)}'])"
   ]
  },
  {
   "cell_type": "code",
   "execution_count": 96,
   "id": "optional-meter",
   "metadata": {},
   "outputs": [
    {
     "data": {
      "text/html": [
       "<div>\n",
       "<style scoped>\n",
       "    .dataframe tbody tr th:only-of-type {\n",
       "        vertical-align: middle;\n",
       "    }\n",
       "\n",
       "    .dataframe tbody tr th {\n",
       "        vertical-align: top;\n",
       "    }\n",
       "\n",
       "    .dataframe thead th {\n",
       "        text-align: right;\n",
       "    }\n",
       "</style>\n",
       "<table border=\"1\" class=\"dataframe\">\n",
       "  <thead>\n",
       "    <tr style=\"text-align: right;\">\n",
       "      <th></th>\n",
       "      <th>fpr</th>\n",
       "      <th>tpr</th>\n",
       "      <th>thr</th>\n",
       "    </tr>\n",
       "  </thead>\n",
       "  <tbody>\n",
       "    <tr>\n",
       "      <th>21</th>\n",
       "      <td>0.300971</td>\n",
       "      <td>0.837838</td>\n",
       "      <td>0.269020</td>\n",
       "    </tr>\n",
       "    <tr>\n",
       "      <th>22</th>\n",
       "      <td>0.320388</td>\n",
       "      <td>0.837838</td>\n",
       "      <td>0.260175</td>\n",
       "    </tr>\n",
       "    <tr>\n",
       "      <th>23</th>\n",
       "      <td>0.320388</td>\n",
       "      <td>0.891892</td>\n",
       "      <td>0.254902</td>\n",
       "    </tr>\n",
       "    <tr>\n",
       "      <th>24</th>\n",
       "      <td>0.359223</td>\n",
       "      <td>0.891892</td>\n",
       "      <td>0.226951</td>\n",
       "    </tr>\n",
       "    <tr>\n",
       "      <th>25</th>\n",
       "      <td>0.359223</td>\n",
       "      <td>0.918919</td>\n",
       "      <td>0.219228</td>\n",
       "    </tr>\n",
       "    <tr>\n",
       "      <th>26</th>\n",
       "      <td>0.407767</td>\n",
       "      <td>0.918919</td>\n",
       "      <td>0.188749</td>\n",
       "    </tr>\n",
       "    <tr>\n",
       "      <th>27</th>\n",
       "      <td>0.407767</td>\n",
       "      <td>0.945946</td>\n",
       "      <td>0.181573</td>\n",
       "    </tr>\n",
       "    <tr>\n",
       "      <th>28</th>\n",
       "      <td>0.504854</td>\n",
       "      <td>0.945946</td>\n",
       "      <td>0.143030</td>\n",
       "    </tr>\n",
       "    <tr>\n",
       "      <th>29</th>\n",
       "      <td>0.504854</td>\n",
       "      <td>0.972973</td>\n",
       "      <td>0.135471</td>\n",
       "    </tr>\n",
       "    <tr>\n",
       "      <th>30</th>\n",
       "      <td>0.582524</td>\n",
       "      <td>0.972973</td>\n",
       "      <td>0.105802</td>\n",
       "    </tr>\n",
       "    <tr>\n",
       "      <th>31</th>\n",
       "      <td>0.582524</td>\n",
       "      <td>1.000000</td>\n",
       "      <td>0.100907</td>\n",
       "    </tr>\n",
       "    <tr>\n",
       "      <th>32</th>\n",
       "      <td>1.000000</td>\n",
       "      <td>1.000000</td>\n",
       "      <td>0.003392</td>\n",
       "    </tr>\n",
       "  </tbody>\n",
       "</table>\n",
       "</div>"
      ],
      "text/plain": [
       "         fpr       tpr       thr\n",
       "21  0.300971  0.837838  0.269020\n",
       "22  0.320388  0.837838  0.260175\n",
       "23  0.320388  0.891892  0.254902\n",
       "24  0.359223  0.891892  0.226951\n",
       "25  0.359223  0.918919  0.219228\n",
       "26  0.407767  0.918919  0.188749\n",
       "27  0.407767  0.945946  0.181573\n",
       "28  0.504854  0.945946  0.143030\n",
       "29  0.504854  0.972973  0.135471\n",
       "30  0.582524  0.972973  0.105802\n",
       "31  0.582524  1.000000  0.100907\n",
       "32  1.000000  1.000000  0.003392"
      ]
     },
     "execution_count": 96,
     "metadata": {},
     "output_type": "execute_result"
    }
   ],
   "source": [
    "roc_df = pd.DataFrame({'fpr': fpr, 'tpr': tpr, 'thr': thr})\n",
    "roc_df[roc_df['tpr']>0.8].sort_values('fpr')"
   ]
  },
  {
   "cell_type": "code",
   "execution_count": 85,
   "id": "becoming-diabetes",
   "metadata": {},
   "outputs": [
    {
     "data": {
      "text/html": [
       "<div>\n",
       "<style scoped>\n",
       "    .dataframe tbody tr th:only-of-type {\n",
       "        vertical-align: middle;\n",
       "    }\n",
       "\n",
       "    .dataframe tbody tr th {\n",
       "        vertical-align: top;\n",
       "    }\n",
       "\n",
       "    .dataframe thead th {\n",
       "        text-align: right;\n",
       "    }\n",
       "</style>\n",
       "<table border=\"1\" class=\"dataframe\">\n",
       "  <thead>\n",
       "    <tr style=\"text-align: right;\">\n",
       "      <th></th>\n",
       "      <th>default</th>\n",
       "    </tr>\n",
       "  </thead>\n",
       "  <tbody>\n",
       "    <tr>\n",
       "      <th>118</th>\n",
       "      <td>1</td>\n",
       "    </tr>\n",
       "    <tr>\n",
       "      <th>309</th>\n",
       "      <td>0</td>\n",
       "    </tr>\n",
       "    <tr>\n",
       "      <th>339</th>\n",
       "      <td>1</td>\n",
       "    </tr>\n",
       "    <tr>\n",
       "      <th>686</th>\n",
       "      <td>0</td>\n",
       "    </tr>\n",
       "    <tr>\n",
       "      <th>639</th>\n",
       "      <td>0</td>\n",
       "    </tr>\n",
       "    <tr>\n",
       "      <th>...</th>\n",
       "      <td>...</td>\n",
       "    </tr>\n",
       "    <tr>\n",
       "      <th>597</th>\n",
       "      <td>1</td>\n",
       "    </tr>\n",
       "    <tr>\n",
       "      <th>58</th>\n",
       "      <td>0</td>\n",
       "    </tr>\n",
       "    <tr>\n",
       "      <th>467</th>\n",
       "      <td>0</td>\n",
       "    </tr>\n",
       "    <tr>\n",
       "      <th>148</th>\n",
       "      <td>0</td>\n",
       "    </tr>\n",
       "    <tr>\n",
       "      <th>681</th>\n",
       "      <td>1</td>\n",
       "    </tr>\n",
       "  </tbody>\n",
       "</table>\n",
       "<p>140 rows × 1 columns</p>\n",
       "</div>"
      ],
      "text/plain": [
       "     default\n",
       "118        1\n",
       "309        0\n",
       "339        1\n",
       "686        0\n",
       "639        0\n",
       "..       ...\n",
       "597        1\n",
       "58         0\n",
       "467        0\n",
       "148        0\n",
       "681        1\n",
       "\n",
       "[140 rows x 1 columns]"
      ]
     },
     "execution_count": 85,
     "metadata": {},
     "output_type": "execute_result"
    }
   ],
   "source": [
    "len(y_prob1)\n",
    "y_test\n",
    "# len(y_pred)"
   ]
  },
  {
   "cell_type": "code",
   "execution_count": 98,
   "id": "annoying-norfolk",
   "metadata": {},
   "outputs": [
    {
     "data": {
      "text/html": [
       "<div>\n",
       "<style scoped>\n",
       "    .dataframe tbody tr th:only-of-type {\n",
       "        vertical-align: middle;\n",
       "    }\n",
       "\n",
       "    .dataframe tbody tr th {\n",
       "        vertical-align: top;\n",
       "    }\n",
       "\n",
       "    .dataframe thead th {\n",
       "        text-align: right;\n",
       "    }\n",
       "</style>\n",
       "<table border=\"1\" class=\"dataframe\">\n",
       "  <thead>\n",
       "    <tr style=\"text-align: right;\">\n",
       "      <th></th>\n",
       "      <th>prob_1</th>\n",
       "      <th>y_pred_nt</th>\n",
       "      <th>y_pred</th>\n",
       "    </tr>\n",
       "  </thead>\n",
       "  <tbody>\n",
       "    <tr>\n",
       "      <th>0</th>\n",
       "      <td>0.591712</td>\n",
       "      <td>1</td>\n",
       "      <td>1</td>\n",
       "    </tr>\n",
       "    <tr>\n",
       "      <th>1</th>\n",
       "      <td>0.314290</td>\n",
       "      <td>1</td>\n",
       "      <td>0</td>\n",
       "    </tr>\n",
       "    <tr>\n",
       "      <th>2</th>\n",
       "      <td>0.310958</td>\n",
       "      <td>1</td>\n",
       "      <td>0</td>\n",
       "    </tr>\n",
       "    <tr>\n",
       "      <th>3</th>\n",
       "      <td>0.409367</td>\n",
       "      <td>1</td>\n",
       "      <td>0</td>\n",
       "    </tr>\n",
       "    <tr>\n",
       "      <th>4</th>\n",
       "      <td>0.240005</td>\n",
       "      <td>0</td>\n",
       "      <td>0</td>\n",
       "    </tr>\n",
       "  </tbody>\n",
       "</table>\n",
       "</div>"
      ],
      "text/plain": [
       "     prob_1  y_pred_nt  y_pred\n",
       "0  0.591712          1       1\n",
       "1  0.314290          1       0\n",
       "2  0.310958          1       0\n",
       "3  0.409367          1       0\n",
       "4  0.240005          0       0"
      ]
     },
     "execution_count": 98,
     "metadata": {},
     "output_type": "execute_result"
    }
   ],
   "source": [
    "new_thr = 0.254902\n",
    "y_pred = model.predict(X_test) # threshold 0.5\n",
    "y_pred025 = [1 if i > new_thr else 0 for i in model.predict_proba(X_test)[:,1]] # threshold 0.254902\n",
    "prob_df = pd.DataFrame({'prob_1': y_prob1, 'y_pred_nt': y_pred025, 'y_pred': y_pred})\n",
    "prob_df.head()"
   ]
  },
  {
   "cell_type": "code",
   "execution_count": 100,
   "id": "limited-worth",
   "metadata": {},
   "outputs": [
    {
     "data": {
      "image/png": "[encoded data removed]",
      "text/plain": [
       "<Figure size 1152x720 with 2 Axes>"
      ]
     },
     "metadata": {
      "needs_background": "light"
     },
     "output_type": "display_data"
    },
    {
     "name": "stdout",
     "output_type": "stream",
     "text": [
      "              precision    recall  f1-score   support\n",
      "\n",
      "           0       0.84      0.95      0.89       103\n",
      "           1       0.78      0.49      0.60        37\n",
      "\n",
      "    accuracy                           0.83       140\n",
      "   macro avg       0.81      0.72      0.75       140\n",
      "weighted avg       0.82      0.83      0.81       140\n",
      "\n",
      "              precision    recall  f1-score   support\n",
      "\n",
      "           0       0.95      0.68      0.79       103\n",
      "           1       0.50      0.89      0.64        37\n",
      "\n",
      "    accuracy                           0.74       140\n",
      "   macro avg       0.72      0.79      0.72       140\n",
      "weighted avg       0.83      0.74      0.75       140\n",
      "\n"
     ]
    }
   ],
   "source": [
    "import seaborn as sns\n",
    "plt.figure(figsize=(16,10))\n",
    "plt.subplot(121)\n",
    "sns.scatterplot(x=range(len(prob_df)), y=prob_df['prob_1'], hue=prob_df['y_pred'])\n",
    "plt.axhline(0.5, color='red', label='threshold')\n",
    "plt.legend()\n",
    "\n",
    "plt.subplot(122)\n",
    "sns.scatterplot(x=range(len(prob_df)), y=prob_df['prob_1'], hue=prob_df['y_pred_nt'])\n",
    "plt.axhline(new_thr, color='red', label='threshold')\n",
    "plt.legend()\n",
    "\n",
    "plt.show()\n",
    "\n",
    "print(classification_report(y_test, y_pred))\n",
    "print(classification_report(y_test, y_pred025))"
   ]
  },
  {
   "cell_type": "code",
   "execution_count": null,
   "id": "preceding-burning",
   "metadata": {},
   "outputs": [],
   "source": []
  },
  {
   "cell_type": "code",
   "execution_count": null,
   "id": "narrative-sapphire",
   "metadata": {},
   "outputs": [],
   "source": []
  },
  {
   "cell_type": "code",
   "execution_count": null,
   "id": "secure-garden",
   "metadata": {},
   "outputs": [],
   "source": []
  },
  {
   "cell_type": "code",
   "execution_count": null,
   "id": "increased-completion",
   "metadata": {},
   "outputs": [],
   "source": []
  },
  {
   "cell_type": "code",
   "execution_count": 60,
   "id": "listed-activity",
   "metadata": {},
   "outputs": [
    {
     "data": {
      "image/png": "[encoded data removed]",
      "text/plain": [
       "<Figure size 432x288 with 1 Axes>"
      ]
     },
     "metadata": {
      "needs_background": "light"
     },
     "output_type": "display_data"
    }
   ],
   "source": [
    "plot_precision_recall_curve(model, X_test, y_test)\n",
    "plt.show()"
   ]
  },
  {
   "cell_type": "code",
   "execution_count": null,
   "id": "contrary-jurisdiction",
   "metadata": {},
   "outputs": [],
   "source": []
  }
 ],
 "metadata": {
  "kernelspec": {
   "display_name": "Python 3",
   "language": "python",
   "name": "python3"
  },
  "language_info": {
   "codemirror_mode": {
    "name": "ipython",
    "version": 3
   },
   "file_extension": ".py",
   "mimetype": "text/x-python",
   "name": "python",
   "nbconvert_exporter": "python",
   "pygments_lexer": "ipython3",
   "version": "3.7.4"
  }
 },
 "nbformat": 4,
 "nbformat_minor": 5
}
