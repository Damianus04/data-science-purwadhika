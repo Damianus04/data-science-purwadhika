{
 "cells": [
  {
   "cell_type": "markdown",
   "metadata": {},
   "source": [
    "# Logistic Regression\n",
    "![image.png](data:image/png;base64,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)"
   ]
  },
  {
   "cell_type": "code",
   "execution_count": 1,
   "metadata": {},
   "outputs": [],
   "source": [
    "import pandas as pd\n",
    "import numpy as np"
   ]
  },
  {
   "cell_type": "code",
   "execution_count": 2,
   "metadata": {},
   "outputs": [
    {
     "data": {
      "text/html": [
       "<div>\n",
       "<style scoped>\n",
       "    .dataframe tbody tr th:only-of-type {\n",
       "        vertical-align: middle;\n",
       "    }\n",
       "\n",
       "    .dataframe tbody tr th {\n",
       "        vertical-align: top;\n",
       "    }\n",
       "\n",
       "    .dataframe thead th {\n",
       "        text-align: right;\n",
       "    }\n",
       "</style>\n",
       "<table border=\"1\" class=\"dataframe\">\n",
       "  <thead>\n",
       "    <tr style=\"text-align: right;\">\n",
       "      <th></th>\n",
       "      <th>age</th>\n",
       "      <th>ed</th>\n",
       "      <th>employ</th>\n",
       "      <th>address</th>\n",
       "      <th>income</th>\n",
       "      <th>debtinc</th>\n",
       "      <th>creddebt</th>\n",
       "      <th>othdebt</th>\n",
       "      <th>default</th>\n",
       "    </tr>\n",
       "  </thead>\n",
       "  <tbody>\n",
       "    <tr>\n",
       "      <th>0</th>\n",
       "      <td>41</td>\n",
       "      <td>3</td>\n",
       "      <td>17</td>\n",
       "      <td>12</td>\n",
       "      <td>176</td>\n",
       "      <td>9.3</td>\n",
       "      <td>11.359392</td>\n",
       "      <td>5.008608</td>\n",
       "      <td>1</td>\n",
       "    </tr>\n",
       "    <tr>\n",
       "      <th>1</th>\n",
       "      <td>27</td>\n",
       "      <td>1</td>\n",
       "      <td>10</td>\n",
       "      <td>6</td>\n",
       "      <td>31</td>\n",
       "      <td>17.3</td>\n",
       "      <td>1.362202</td>\n",
       "      <td>4.000798</td>\n",
       "      <td>0</td>\n",
       "    </tr>\n",
       "    <tr>\n",
       "      <th>2</th>\n",
       "      <td>40</td>\n",
       "      <td>1</td>\n",
       "      <td>15</td>\n",
       "      <td>14</td>\n",
       "      <td>55</td>\n",
       "      <td>5.5</td>\n",
       "      <td>0.856075</td>\n",
       "      <td>2.168925</td>\n",
       "      <td>0</td>\n",
       "    </tr>\n",
       "    <tr>\n",
       "      <th>3</th>\n",
       "      <td>41</td>\n",
       "      <td>1</td>\n",
       "      <td>15</td>\n",
       "      <td>14</td>\n",
       "      <td>120</td>\n",
       "      <td>2.9</td>\n",
       "      <td>2.658720</td>\n",
       "      <td>0.821280</td>\n",
       "      <td>0</td>\n",
       "    </tr>\n",
       "    <tr>\n",
       "      <th>4</th>\n",
       "      <td>24</td>\n",
       "      <td>2</td>\n",
       "      <td>2</td>\n",
       "      <td>0</td>\n",
       "      <td>28</td>\n",
       "      <td>17.3</td>\n",
       "      <td>1.787436</td>\n",
       "      <td>3.056564</td>\n",
       "      <td>1</td>\n",
       "    </tr>\n",
       "  </tbody>\n",
       "</table>\n",
       "</div>"
      ],
      "text/plain": [
       "   age  ed  employ  address  income  debtinc   creddebt   othdebt  default\n",
       "0   41   3      17       12     176      9.3  11.359392  5.008608        1\n",
       "1   27   1      10        6      31     17.3   1.362202  4.000798        0\n",
       "2   40   1      15       14      55      5.5   0.856075  2.168925        0\n",
       "3   41   1      15       14     120      2.9   2.658720  0.821280        0\n",
       "4   24   2       2        0      28     17.3   1.787436  3.056564        1"
      ]
     },
     "execution_count": 2,
     "metadata": {},
     "output_type": "execute_result"
    }
   ],
   "source": [
    "bankloan = pd.read_csv('data/Data/bankloan.csv')\n",
    "bankloan.head()"
   ]
  },
  {
   "cell_type": "code",
   "execution_count": 3,
   "metadata": {},
   "outputs": [],
   "source": [
    "fitur = ['employ', 'debtinc', 'creddebt', 'othdebt']\n",
    "target = ['default']\n",
    "\n",
    "X = bankloan[fitur]\n",
    "y = bankloan[target]"
   ]
  },
  {
   "cell_type": "code",
   "execution_count": 4,
   "metadata": {},
   "outputs": [
    {
     "data": {
      "text/html": [
       "<div>\n",
       "<style scoped>\n",
       "    .dataframe tbody tr th:only-of-type {\n",
       "        vertical-align: middle;\n",
       "    }\n",
       "\n",
       "    .dataframe tbody tr th {\n",
       "        vertical-align: top;\n",
       "    }\n",
       "\n",
       "    .dataframe thead th {\n",
       "        text-align: right;\n",
       "    }\n",
       "</style>\n",
       "<table border=\"1\" class=\"dataframe\">\n",
       "  <thead>\n",
       "    <tr style=\"text-align: right;\">\n",
       "      <th></th>\n",
       "      <th>employ</th>\n",
       "      <th>debtinc</th>\n",
       "      <th>creddebt</th>\n",
       "      <th>othdebt</th>\n",
       "    </tr>\n",
       "  </thead>\n",
       "  <tbody>\n",
       "    <tr>\n",
       "      <th>count</th>\n",
       "      <td>700.000000</td>\n",
       "      <td>700.000000</td>\n",
       "      <td>700.000000</td>\n",
       "      <td>700.000000</td>\n",
       "    </tr>\n",
       "    <tr>\n",
       "      <th>mean</th>\n",
       "      <td>8.388571</td>\n",
       "      <td>10.260571</td>\n",
       "      <td>1.553553</td>\n",
       "      <td>3.058209</td>\n",
       "    </tr>\n",
       "    <tr>\n",
       "      <th>std</th>\n",
       "      <td>6.658039</td>\n",
       "      <td>6.827234</td>\n",
       "      <td>2.117197</td>\n",
       "      <td>3.287555</td>\n",
       "    </tr>\n",
       "    <tr>\n",
       "      <th>min</th>\n",
       "      <td>0.000000</td>\n",
       "      <td>0.400000</td>\n",
       "      <td>0.011696</td>\n",
       "      <td>0.045584</td>\n",
       "    </tr>\n",
       "    <tr>\n",
       "      <th>25%</th>\n",
       "      <td>3.000000</td>\n",
       "      <td>5.000000</td>\n",
       "      <td>0.369059</td>\n",
       "      <td>1.044178</td>\n",
       "    </tr>\n",
       "    <tr>\n",
       "      <th>50%</th>\n",
       "      <td>7.000000</td>\n",
       "      <td>8.600000</td>\n",
       "      <td>0.854869</td>\n",
       "      <td>1.987567</td>\n",
       "    </tr>\n",
       "    <tr>\n",
       "      <th>75%</th>\n",
       "      <td>12.000000</td>\n",
       "      <td>14.125000</td>\n",
       "      <td>1.901955</td>\n",
       "      <td>3.923065</td>\n",
       "    </tr>\n",
       "    <tr>\n",
       "      <th>max</th>\n",
       "      <td>31.000000</td>\n",
       "      <td>41.300000</td>\n",
       "      <td>20.561310</td>\n",
       "      <td>27.033600</td>\n",
       "    </tr>\n",
       "  </tbody>\n",
       "</table>\n",
       "</div>"
      ],
      "text/plain": [
       "           employ     debtinc    creddebt     othdebt\n",
       "count  700.000000  700.000000  700.000000  700.000000\n",
       "mean     8.388571   10.260571    1.553553    3.058209\n",
       "std      6.658039    6.827234    2.117197    3.287555\n",
       "min      0.000000    0.400000    0.011696    0.045584\n",
       "25%      3.000000    5.000000    0.369059    1.044178\n",
       "50%      7.000000    8.600000    0.854869    1.987567\n",
       "75%     12.000000   14.125000    1.901955    3.923065\n",
       "max     31.000000   41.300000   20.561310   27.033600"
      ]
     },
     "execution_count": 4,
     "metadata": {},
     "output_type": "execute_result"
    }
   ],
   "source": [
    "X.describe()"
   ]
  },
  {
   "cell_type": "markdown",
   "metadata": {},
   "source": [
    "## Modelling"
   ]
  },
  {
   "cell_type": "code",
   "execution_count": 5,
   "metadata": {},
   "outputs": [],
   "source": [
    "import statsmodels.api as sm"
   ]
  },
  {
   "cell_type": "code",
   "execution_count": 6,
   "metadata": {},
   "outputs": [
    {
     "name": "stdout",
     "output_type": "stream",
     "text": [
      "Optimization terminated successfully.\n",
      "         Current function value: 0.411165\n",
      "         Iterations 7\n"
     ]
    }
   ],
   "source": [
    "sm_logit = sm.Logit(y, sm.add_constant(X))\n",
    "result = sm_logit.fit()"
   ]
  },
  {
   "cell_type": "code",
   "execution_count": 7,
   "metadata": {},
   "outputs": [
    {
     "name": "stdout",
     "output_type": "stream",
     "text": [
      "                           Logit Regression Results                           \n",
      "==============================================================================\n",
      "Dep. Variable:                default   No. Observations:                  700\n",
      "Model:                          Logit   Df Residuals:                      695\n",
      "Method:                           MLE   Df Model:                            4\n",
      "Date:                Sun, 21 Feb 2021   Pseudo R-squ.:                  0.2844\n",
      "Time:                        15:34:10   Log-Likelihood:                -287.82\n",
      "converged:                       True   LL-Null:                       -402.18\n",
      "Covariance Type:            nonrobust   LLR p-value:                 2.473e-48\n",
      "==============================================================================\n",
      "                 coef    std err          z      P>|z|      [0.025      0.975]\n",
      "------------------------------------------------------------------------------\n",
      "const         -1.2302      0.236     -5.210      0.000      -1.693      -0.767\n",
      "employ        -0.2436      0.029     -8.456      0.000      -0.300      -0.187\n",
      "debtinc        0.0885      0.021      4.200      0.000       0.047       0.130\n",
      "creddebt       0.5041      0.083      6.094      0.000       0.342       0.666\n",
      "othdebt       -0.0040      0.053     -0.076      0.940      -0.107       0.099\n",
      "==============================================================================\n"
     ]
    }
   ],
   "source": [
    "print(result.summary())"
   ]
  },
  {
   "cell_type": "code",
   "execution_count": null,
   "metadata": {},
   "outputs": [],
   "source": [
    "# z adalah wald test\n"
   ]
  },
  {
   "cell_type": "markdown",
   "metadata": {},
   "source": [
    "## Collinearity"
   ]
  },
  {
   "cell_type": "code",
   "execution_count": 8,
   "metadata": {},
   "outputs": [],
   "source": [
    "from statsmodels.stats.outliers_influence import variance_inflation_factor"
   ]
  },
  {
   "cell_type": "code",
   "execution_count": 9,
   "metadata": {},
   "outputs": [],
   "source": [
    "def calc_vif(X):\n",
    "    vif = pd.DataFrame()\n",
    "    vif['variable'] = X.columns\n",
    "    vif['VIF'] = [variance_inflation_factor(X.values, i) for i in range(X.shape[1])]\n",
    "    \n",
    "    return vif"
   ]
  },
  {
   "cell_type": "code",
   "execution_count": 10,
   "metadata": {},
   "outputs": [
    {
     "data": {
      "text/html": [
       "<div>\n",
       "<style scoped>\n",
       "    .dataframe tbody tr th:only-of-type {\n",
       "        vertical-align: middle;\n",
       "    }\n",
       "\n",
       "    .dataframe tbody tr th {\n",
       "        vertical-align: top;\n",
       "    }\n",
       "\n",
       "    .dataframe thead th {\n",
       "        text-align: right;\n",
       "    }\n",
       "</style>\n",
       "<table border=\"1\" class=\"dataframe\">\n",
       "  <thead>\n",
       "    <tr style=\"text-align: right;\">\n",
       "      <th></th>\n",
       "      <th>variable</th>\n",
       "      <th>VIF</th>\n",
       "    </tr>\n",
       "  </thead>\n",
       "  <tbody>\n",
       "    <tr>\n",
       "      <th>0</th>\n",
       "      <td>employ</td>\n",
       "      <td>2.222753</td>\n",
       "    </tr>\n",
       "    <tr>\n",
       "      <th>1</th>\n",
       "      <td>debtinc</td>\n",
       "      <td>3.045977</td>\n",
       "    </tr>\n",
       "    <tr>\n",
       "      <th>2</th>\n",
       "      <td>creddebt</td>\n",
       "      <td>2.816577</td>\n",
       "    </tr>\n",
       "    <tr>\n",
       "      <th>3</th>\n",
       "      <td>othdebt</td>\n",
       "      <td>4.116876</td>\n",
       "    </tr>\n",
       "  </tbody>\n",
       "</table>\n",
       "</div>"
      ],
      "text/plain": [
       "   variable       VIF\n",
       "0    employ  2.222753\n",
       "1   debtinc  3.045977\n",
       "2  creddebt  2.816577\n",
       "3   othdebt  4.116876"
      ]
     },
     "execution_count": 10,
     "metadata": {},
     "output_type": "execute_result"
    }
   ],
   "source": [
    "calc_vif(X)"
   ]
  },
  {
   "cell_type": "code",
   "execution_count": 11,
   "metadata": {},
   "outputs": [
    {
     "data": {
      "text/html": [
       "<div>\n",
       "<style scoped>\n",
       "    .dataframe tbody tr th:only-of-type {\n",
       "        vertical-align: middle;\n",
       "    }\n",
       "\n",
       "    .dataframe tbody tr th {\n",
       "        vertical-align: top;\n",
       "    }\n",
       "\n",
       "    .dataframe thead th {\n",
       "        text-align: right;\n",
       "    }\n",
       "</style>\n",
       "<table border=\"1\" class=\"dataframe\">\n",
       "  <thead>\n",
       "    <tr style=\"text-align: right;\">\n",
       "      <th></th>\n",
       "      <th>employ</th>\n",
       "      <th>debtinc</th>\n",
       "      <th>creddebt</th>\n",
       "      <th>othdebt</th>\n",
       "    </tr>\n",
       "  </thead>\n",
       "  <tbody>\n",
       "    <tr>\n",
       "      <th>employ</th>\n",
       "      <td>1.000000</td>\n",
       "      <td>-0.031182</td>\n",
       "      <td>0.403694</td>\n",
       "      <td>0.406091</td>\n",
       "    </tr>\n",
       "    <tr>\n",
       "      <th>debtinc</th>\n",
       "      <td>-0.031182</td>\n",
       "      <td>1.000000</td>\n",
       "      <td>0.501767</td>\n",
       "      <td>0.584870</td>\n",
       "    </tr>\n",
       "    <tr>\n",
       "      <th>creddebt</th>\n",
       "      <td>0.403694</td>\n",
       "      <td>0.501767</td>\n",
       "      <td>1.000000</td>\n",
       "      <td>0.633104</td>\n",
       "    </tr>\n",
       "    <tr>\n",
       "      <th>othdebt</th>\n",
       "      <td>0.406091</td>\n",
       "      <td>0.584870</td>\n",
       "      <td>0.633104</td>\n",
       "      <td>1.000000</td>\n",
       "    </tr>\n",
       "  </tbody>\n",
       "</table>\n",
       "</div>"
      ],
      "text/plain": [
       "            employ   debtinc  creddebt   othdebt\n",
       "employ    1.000000 -0.031182  0.403694  0.406091\n",
       "debtinc  -0.031182  1.000000  0.501767  0.584870\n",
       "creddebt  0.403694  0.501767  1.000000  0.633104\n",
       "othdebt   0.406091  0.584870  0.633104  1.000000"
      ]
     },
     "execution_count": 11,
     "metadata": {},
     "output_type": "execute_result"
    }
   ],
   "source": [
    "X.corr()"
   ]
  },
  {
   "attachments": {
    "image.png": {
     "image/png": "[encoded data removed]"
    }
   },
   "cell_type": "markdown",
   "metadata": {},
   "source": [
    "## Model Interpretation (looking for OR)\n",
    "![image.png](attachment:image.png)"
   ]
  },
  {
   "cell_type": "code",
   "execution_count": 15,
   "metadata": {},
   "outputs": [
    {
     "data": {
      "text/plain": [
       "1.2758338948511925"
      ]
     },
     "execution_count": 15,
     "metadata": {},
     "output_type": "execute_result"
    }
   ],
   "source": [
    "# employ feature interpretation\n",
    "# karena Bi < 0, maka di per\n",
    "1/np.exp(-0.2436*1)\n",
    "# Bi = koefisien employ\n",
    "# employ = Ketika employment meningkat 1 tahun, dan tidak ada perubahan pada variable yang lain, maka resiko untuk default akan turun 1.275 x\n",
    "# turun karena koefisien nya negatif"
   ]
  },
  {
   "cell_type": "code",
   "execution_count": 13,
   "metadata": {},
   "outputs": [
    {
     "data": {
      "text/plain": [
       "1.0925342526104793"
      ]
     },
     "execution_count": 13,
     "metadata": {},
     "output_type": "execute_result"
    }
   ],
   "source": [
    "# debt income ratio interpretation\n",
    "# Bi > 0\n",
    "np.exp(0.0885*1)\n",
    "# debtinc = ketika ratio debt income naik 1, dan tidak ada perubahan pada variable yang lain, maka resiko default akan naik 1.092534 x\n",
    "# naik karena koefisien nya positif"
   ]
  },
  {
   "cell_type": "code",
   "execution_count": 14,
   "metadata": {},
   "outputs": [
    {
     "data": {
      "text/plain": [
       "12.434812515742879"
      ]
     },
     "execution_count": 14,
     "metadata": {},
     "output_type": "execute_result"
    }
   ],
   "source": [
    "# creddebt interpretation\n",
    "np.exp(0.5041*(10-5))\n",
    "# creddebt = ketika creddebt naik $5 dan tidak ada perubahan pada variable yang lain, maka resiko default akan naik 12.43 x\n",
    "# creddebt = nasabah yang memiliki creddebt $10 memiliki resiko default 12.43 x lebih tinggi daripada nasabah yang memiliki creddebt $5."
   ]
  },
  {
   "cell_type": "markdown",
   "metadata": {},
   "source": [
    "## LLR-Test:\n",
    "LLR-Test:\n",
    "<br>\n",
    "B1, B2, B3, B4 : P-Value of the Log-Likelihood Ratio is below 0.05. We have enough evidence that minimal either employ, debtinc, creddebt, othdebt have significant effect to credit default rate.\n",
    "<br>\n",
    "Wald Test:\n",
    "1. B0 : P-Value of the partial test is below 0.05. We need B0 in the model\n",
    "1. B1 : P-Value of the partial test is below 0.05. With significant level of 5%, we have enough evidence that employ decrease default rate\n",
    "1. B2 : P-Value of the partial test is below 0.05. With significant level of 5%, we have enough evidence that debtinc increase default rate.\n",
    "1. B3 : P-Value of the partial test is below 0.05. With significant level of 5%, we have enough evidence that creddebt increase default rate.\n",
    "1. B4 : P-Value of the partial test is greater than 0.05. With significant level of 5%, we dont have enough evidence that othdebt has significant effect to default rate\n",
    "\n",
    "Parameter Estimate:\n",
    "1. B1 = -0.2436 : Employment decrease default rate. When employment increase one year and no changes in another variable, the risk to become default most likely decrease 1.27 times \n",
    "1. B2 = 0.0885 : Ratio debt to income increase default rate. When ratio debt to income increase one and no changes in another variable, the risk to become default most likely increase 1.09 times\n",
    "1. B3 = 0.5041 :  creddebt increase default rate. When creddebt increase 5$ and no changes in another variable, the risk to become default most likely increase 12.43 times\n",
    "1. It is strongly recommended to interprete within the interval of predictor.\n",
    "\n",
    "Coefficient Determination:\n",
    "<br>\n",
    "Pseudo R-Square = 28.44% : This model can explain 28.44% variation of default rate."
   ]
  },
  {
   "cell_type": "markdown",
   "metadata": {},
   "source": [
    "## Validation"
   ]
  },
  {
   "cell_type": "code",
   "execution_count": 37,
   "metadata": {},
   "outputs": [],
   "source": [
    "from sklearn.model_selection import train_test_split\n",
    "from sklearn.metrics import accuracy_score, confusion_matrix, plot_confusion_matrix"
   ]
  },
  {
   "cell_type": "code",
   "execution_count": 23,
   "metadata": {},
   "outputs": [],
   "source": [
    "# x train, x test, y train, y test\n",
    "X_train, X_test, y_train, y_test = train_test_split(X,\n",
    "                                                    y,\n",
    "                                                    test_size = 0.2,\n",
    "                                                    stratify = y,\n",
    "                                                    random_state = 2020\n",
    "                                                   )"
   ]
  },
  {
   "cell_type": "code",
   "execution_count": 24,
   "metadata": {},
   "outputs": [
    {
     "data": {
      "text/plain": [
       "0    0.738571\n",
       "1    0.261429\n",
       "Name: default, dtype: float64"
      ]
     },
     "execution_count": 24,
     "metadata": {},
     "output_type": "execute_result"
    }
   ],
   "source": [
    "y['default'].value_counts(normalize=True)"
   ]
  },
  {
   "cell_type": "code",
   "execution_count": 25,
   "metadata": {},
   "outputs": [
    {
     "data": {
      "text/plain": [
       "0    0.739286\n",
       "1    0.260714\n",
       "Name: default, dtype: float64"
      ]
     },
     "execution_count": 25,
     "metadata": {},
     "output_type": "execute_result"
    }
   ],
   "source": [
    "y_train['default'].value_counts(normalize=True)"
   ]
  },
  {
   "cell_type": "code",
   "execution_count": 26,
   "metadata": {},
   "outputs": [
    {
     "data": {
      "text/plain": [
       "0    0.735714\n",
       "1    0.264286\n",
       "Name: default, dtype: float64"
      ]
     },
     "execution_count": 26,
     "metadata": {},
     "output_type": "execute_result"
    }
   ],
   "source": [
    "y_test['default'].value_counts(normalize=True)"
   ]
  },
  {
   "cell_type": "code",
   "execution_count": 27,
   "metadata": {},
   "outputs": [
    {
     "data": {
      "text/plain": [
       "Int64Index([382, 344, 265,  52, 370, 272, 216, 571, 502, 408,\n",
       "            ...\n",
       "            607, 650, 271, 233, 659, 476, 135, 506, 684, 584],\n",
       "           dtype='int64', length=560)"
      ]
     },
     "execution_count": 27,
     "metadata": {},
     "output_type": "execute_result"
    }
   ],
   "source": [
    "y_train.index"
   ]
  },
  {
   "cell_type": "code",
   "execution_count": 28,
   "metadata": {},
   "outputs": [
    {
     "data": {
      "text/plain": [
       "Int64Index([118, 309, 339, 686, 639, 547, 425, 195,   4, 207,\n",
       "            ...\n",
       "            430,  66,  26, 606, 253, 597,  58, 467, 148, 681],\n",
       "           dtype='int64', length=140)"
      ]
     },
     "execution_count": 28,
     "metadata": {},
     "output_type": "execute_result"
    }
   ],
   "source": [
    "y_test.index"
   ]
  },
  {
   "cell_type": "code",
   "execution_count": 29,
   "metadata": {},
   "outputs": [
    {
     "name": "stdout",
     "output_type": "stream",
     "text": [
      "Optimization terminated successfully.\n",
      "         Current function value: 0.411145\n",
      "         Iterations 7\n"
     ]
    }
   ],
   "source": [
    "sm_logit_train = sm.Logit(y_train, sm.add_constant(X_train))\n",
    "result_train = sm_logit_train.fit()"
   ]
  },
  {
   "cell_type": "code",
   "execution_count": 30,
   "metadata": {},
   "outputs": [],
   "source": [
    "y_predict = result_train.predict(sm.add_constant(X_test))"
   ]
  },
  {
   "cell_type": "code",
   "execution_count": 31,
   "metadata": {},
   "outputs": [
    {
     "data": {
      "text/plain": [
       "118    0.584807\n",
       "309    0.308932\n",
       "339    0.308407\n",
       "686    0.398796\n",
       "639    0.236440\n",
       "         ...   \n",
       "597    0.544007\n",
       "58     0.012081\n",
       "467    0.102066\n",
       "148    0.060111\n",
       "681    0.214943\n",
       "Length: 140, dtype: float64"
      ]
     },
     "execution_count": 31,
     "metadata": {},
     "output_type": "execute_result"
    }
   ],
   "source": [
    "y_predict"
   ]
  },
  {
   "cell_type": "code",
   "execution_count": 32,
   "metadata": {},
   "outputs": [
    {
     "data": {
      "text/html": [
       "<div>\n",
       "<style scoped>\n",
       "    .dataframe tbody tr th:only-of-type {\n",
       "        vertical-align: middle;\n",
       "    }\n",
       "\n",
       "    .dataframe tbody tr th {\n",
       "        vertical-align: top;\n",
       "    }\n",
       "\n",
       "    .dataframe thead th {\n",
       "        text-align: right;\n",
       "    }\n",
       "</style>\n",
       "<table border=\"1\" class=\"dataframe\">\n",
       "  <thead>\n",
       "    <tr style=\"text-align: right;\">\n",
       "      <th></th>\n",
       "      <th>employ</th>\n",
       "      <th>debtinc</th>\n",
       "      <th>creddebt</th>\n",
       "      <th>othdebt</th>\n",
       "      <th>default</th>\n",
       "      <th>P(y=1)</th>\n",
       "    </tr>\n",
       "  </thead>\n",
       "  <tbody>\n",
       "    <tr>\n",
       "      <th>118</th>\n",
       "      <td>0</td>\n",
       "      <td>12.8</td>\n",
       "      <td>1.088640</td>\n",
       "      <td>2.367360</td>\n",
       "      <td>1</td>\n",
       "      <td>0.584807</td>\n",
       "    </tr>\n",
       "    <tr>\n",
       "      <th>309</th>\n",
       "      <td>4</td>\n",
       "      <td>10.1</td>\n",
       "      <td>1.060500</td>\n",
       "      <td>1.464500</td>\n",
       "      <td>0</td>\n",
       "      <td>0.308932</td>\n",
       "    </tr>\n",
       "    <tr>\n",
       "      <th>339</th>\n",
       "      <td>4</td>\n",
       "      <td>14.2</td>\n",
       "      <td>0.437360</td>\n",
       "      <td>3.538640</td>\n",
       "      <td>1</td>\n",
       "      <td>0.308407</td>\n",
       "    </tr>\n",
       "    <tr>\n",
       "      <th>686</th>\n",
       "      <td>1</td>\n",
       "      <td>7.9</td>\n",
       "      <td>0.853200</td>\n",
       "      <td>0.726800</td>\n",
       "      <td>0</td>\n",
       "      <td>0.398796</td>\n",
       "    </tr>\n",
       "    <tr>\n",
       "      <th>639</th>\n",
       "      <td>7</td>\n",
       "      <td>9.9</td>\n",
       "      <td>1.694880</td>\n",
       "      <td>2.265120</td>\n",
       "      <td>0</td>\n",
       "      <td>0.236440</td>\n",
       "    </tr>\n",
       "    <tr>\n",
       "      <th>...</th>\n",
       "      <td>...</td>\n",
       "      <td>...</td>\n",
       "      <td>...</td>\n",
       "      <td>...</td>\n",
       "      <td>...</td>\n",
       "      <td>...</td>\n",
       "    </tr>\n",
       "    <tr>\n",
       "      <th>597</th>\n",
       "      <td>5</td>\n",
       "      <td>14.8</td>\n",
       "      <td>2.594144</td>\n",
       "      <td>1.549856</td>\n",
       "      <td>1</td>\n",
       "      <td>0.544007</td>\n",
       "    </tr>\n",
       "    <tr>\n",
       "      <th>58</th>\n",
       "      <td>18</td>\n",
       "      <td>2.5</td>\n",
       "      <td>1.485000</td>\n",
       "      <td>1.015000</td>\n",
       "      <td>0</td>\n",
       "      <td>0.012081</td>\n",
       "    </tr>\n",
       "    <tr>\n",
       "      <th>467</th>\n",
       "      <td>6</td>\n",
       "      <td>4.4</td>\n",
       "      <td>0.237864</td>\n",
       "      <td>1.258136</td>\n",
       "      <td>0</td>\n",
       "      <td>0.102066</td>\n",
       "    </tr>\n",
       "    <tr>\n",
       "      <th>148</th>\n",
       "      <td>11</td>\n",
       "      <td>8.4</td>\n",
       "      <td>0.681912</td>\n",
       "      <td>2.090088</td>\n",
       "      <td>0</td>\n",
       "      <td>0.060111</td>\n",
       "    </tr>\n",
       "    <tr>\n",
       "      <th>681</th>\n",
       "      <td>4</td>\n",
       "      <td>9.7</td>\n",
       "      <td>0.200984</td>\n",
       "      <td>1.157016</td>\n",
       "      <td>1</td>\n",
       "      <td>0.214943</td>\n",
       "    </tr>\n",
       "  </tbody>\n",
       "</table>\n",
       "<p>140 rows × 6 columns</p>\n",
       "</div>"
      ],
      "text/plain": [
       "     employ  debtinc  creddebt   othdebt  default    P(y=1)\n",
       "118       0     12.8  1.088640  2.367360        1  0.584807\n",
       "309       4     10.1  1.060500  1.464500        0  0.308932\n",
       "339       4     14.2  0.437360  3.538640        1  0.308407\n",
       "686       1      7.9  0.853200  0.726800        0  0.398796\n",
       "639       7      9.9  1.694880  2.265120        0  0.236440\n",
       "..      ...      ...       ...       ...      ...       ...\n",
       "597       5     14.8  2.594144  1.549856        1  0.544007\n",
       "58       18      2.5  1.485000  1.015000        0  0.012081\n",
       "467       6      4.4  0.237864  1.258136        0  0.102066\n",
       "148      11      8.4  0.681912  2.090088        0  0.060111\n",
       "681       4      9.7  0.200984  1.157016        1  0.214943\n",
       "\n",
       "[140 rows x 6 columns]"
      ]
     },
     "execution_count": 32,
     "metadata": {},
     "output_type": "execute_result"
    }
   ],
   "source": [
    "test_df = pd.concat([X_test,y_test],axis=1)\n",
    "test_df['P(y=1)'] = y_predict\n",
    "test_df"
   ]
  },
  {
   "cell_type": "code",
   "execution_count": 33,
   "metadata": {},
   "outputs": [
    {
     "data": {
      "text/plain": [
       "array([1, 0, 0, 0, 0, 0, 0, 0, 1, 0, 0, 0, 0, 0, 0, 0, 0, 0, 0, 1, 0, 0,\n",
       "       0, 0, 0, 0, 0, 0, 1, 0, 0, 1, 0, 0, 0, 0, 0, 0, 0, 0, 0, 0, 0, 0,\n",
       "       0, 0, 0, 0, 0, 0, 0, 0, 0, 0, 1, 1, 0, 0, 0, 0, 0, 0, 0, 0, 0, 0,\n",
       "       0, 0, 0, 0, 1, 1, 0, 0, 0, 0, 0, 0, 0, 1, 1, 1, 0, 0, 0, 0, 0, 0,\n",
       "       1, 0, 0, 0, 1, 0, 0, 0, 1, 0, 0, 0, 0, 0, 0, 0, 1, 0, 0, 0, 0, 0,\n",
       "       0, 0, 0, 0, 1, 0, 0, 0, 0, 0, 0, 0, 1, 0, 0, 0, 1, 0, 0, 0, 1, 0,\n",
       "       0, 1, 0, 1, 0, 0, 0, 0])"
      ]
     },
     "execution_count": 33,
     "metadata": {},
     "output_type": "execute_result"
    }
   ],
   "source": [
    "y_predict_class = np.where(y_predict>0.5, 1, 0)\n",
    "y_predict_class"
   ]
  },
  {
   "cell_type": "code",
   "execution_count": 34,
   "metadata": {},
   "outputs": [
    {
     "data": {
      "text/html": [
       "<div>\n",
       "<style scoped>\n",
       "    .dataframe tbody tr th:only-of-type {\n",
       "        vertical-align: middle;\n",
       "    }\n",
       "\n",
       "    .dataframe tbody tr th {\n",
       "        vertical-align: top;\n",
       "    }\n",
       "\n",
       "    .dataframe thead th {\n",
       "        text-align: right;\n",
       "    }\n",
       "</style>\n",
       "<table border=\"1\" class=\"dataframe\">\n",
       "  <thead>\n",
       "    <tr style=\"text-align: right;\">\n",
       "      <th></th>\n",
       "      <th>employ</th>\n",
       "      <th>debtinc</th>\n",
       "      <th>creddebt</th>\n",
       "      <th>othdebt</th>\n",
       "      <th>default</th>\n",
       "      <th>P(y=1)</th>\n",
       "      <th>class</th>\n",
       "    </tr>\n",
       "  </thead>\n",
       "  <tbody>\n",
       "    <tr>\n",
       "      <th>118</th>\n",
       "      <td>0</td>\n",
       "      <td>12.8</td>\n",
       "      <td>1.088640</td>\n",
       "      <td>2.367360</td>\n",
       "      <td>1</td>\n",
       "      <td>0.584807</td>\n",
       "      <td>1</td>\n",
       "    </tr>\n",
       "    <tr>\n",
       "      <th>309</th>\n",
       "      <td>4</td>\n",
       "      <td>10.1</td>\n",
       "      <td>1.060500</td>\n",
       "      <td>1.464500</td>\n",
       "      <td>0</td>\n",
       "      <td>0.308932</td>\n",
       "      <td>0</td>\n",
       "    </tr>\n",
       "    <tr>\n",
       "      <th>339</th>\n",
       "      <td>4</td>\n",
       "      <td>14.2</td>\n",
       "      <td>0.437360</td>\n",
       "      <td>3.538640</td>\n",
       "      <td>1</td>\n",
       "      <td>0.308407</td>\n",
       "      <td>0</td>\n",
       "    </tr>\n",
       "    <tr>\n",
       "      <th>686</th>\n",
       "      <td>1</td>\n",
       "      <td>7.9</td>\n",
       "      <td>0.853200</td>\n",
       "      <td>0.726800</td>\n",
       "      <td>0</td>\n",
       "      <td>0.398796</td>\n",
       "      <td>0</td>\n",
       "    </tr>\n",
       "    <tr>\n",
       "      <th>639</th>\n",
       "      <td>7</td>\n",
       "      <td>9.9</td>\n",
       "      <td>1.694880</td>\n",
       "      <td>2.265120</td>\n",
       "      <td>0</td>\n",
       "      <td>0.236440</td>\n",
       "      <td>0</td>\n",
       "    </tr>\n",
       "    <tr>\n",
       "      <th>...</th>\n",
       "      <td>...</td>\n",
       "      <td>...</td>\n",
       "      <td>...</td>\n",
       "      <td>...</td>\n",
       "      <td>...</td>\n",
       "      <td>...</td>\n",
       "      <td>...</td>\n",
       "    </tr>\n",
       "    <tr>\n",
       "      <th>597</th>\n",
       "      <td>5</td>\n",
       "      <td>14.8</td>\n",
       "      <td>2.594144</td>\n",
       "      <td>1.549856</td>\n",
       "      <td>1</td>\n",
       "      <td>0.544007</td>\n",
       "      <td>1</td>\n",
       "    </tr>\n",
       "    <tr>\n",
       "      <th>58</th>\n",
       "      <td>18</td>\n",
       "      <td>2.5</td>\n",
       "      <td>1.485000</td>\n",
       "      <td>1.015000</td>\n",
       "      <td>0</td>\n",
       "      <td>0.012081</td>\n",
       "      <td>0</td>\n",
       "    </tr>\n",
       "    <tr>\n",
       "      <th>467</th>\n",
       "      <td>6</td>\n",
       "      <td>4.4</td>\n",
       "      <td>0.237864</td>\n",
       "      <td>1.258136</td>\n",
       "      <td>0</td>\n",
       "      <td>0.102066</td>\n",
       "      <td>0</td>\n",
       "    </tr>\n",
       "    <tr>\n",
       "      <th>148</th>\n",
       "      <td>11</td>\n",
       "      <td>8.4</td>\n",
       "      <td>0.681912</td>\n",
       "      <td>2.090088</td>\n",
       "      <td>0</td>\n",
       "      <td>0.060111</td>\n",
       "      <td>0</td>\n",
       "    </tr>\n",
       "    <tr>\n",
       "      <th>681</th>\n",
       "      <td>4</td>\n",
       "      <td>9.7</td>\n",
       "      <td>0.200984</td>\n",
       "      <td>1.157016</td>\n",
       "      <td>1</td>\n",
       "      <td>0.214943</td>\n",
       "      <td>0</td>\n",
       "    </tr>\n",
       "  </tbody>\n",
       "</table>\n",
       "<p>140 rows × 7 columns</p>\n",
       "</div>"
      ],
      "text/plain": [
       "     employ  debtinc  creddebt   othdebt  default    P(y=1)  class\n",
       "118       0     12.8  1.088640  2.367360        1  0.584807      1\n",
       "309       4     10.1  1.060500  1.464500        0  0.308932      0\n",
       "339       4     14.2  0.437360  3.538640        1  0.308407      0\n",
       "686       1      7.9  0.853200  0.726800        0  0.398796      0\n",
       "639       7      9.9  1.694880  2.265120        0  0.236440      0\n",
       "..      ...      ...       ...       ...      ...       ...    ...\n",
       "597       5     14.8  2.594144  1.549856        1  0.544007      1\n",
       "58       18      2.5  1.485000  1.015000        0  0.012081      0\n",
       "467       6      4.4  0.237864  1.258136        0  0.102066      0\n",
       "148      11      8.4  0.681912  2.090088        0  0.060111      0\n",
       "681       4      9.7  0.200984  1.157016        1  0.214943      0\n",
       "\n",
       "[140 rows x 7 columns]"
      ]
     },
     "execution_count": 34,
     "metadata": {},
     "output_type": "execute_result"
    }
   ],
   "source": [
    "test_df['class'] = y_predict_class\n",
    "test_df"
   ]
  },
  {
   "cell_type": "code",
   "execution_count": 35,
   "metadata": {},
   "outputs": [
    {
     "data": {
      "text/plain": [
       "0.8214285714285714"
      ]
     },
     "execution_count": 35,
     "metadata": {},
     "output_type": "execute_result"
    }
   ],
   "source": [
    "accuracy_score(y_test, y_predict_class)"
   ]
  },
  {
   "cell_type": "code",
   "execution_count": 38,
   "metadata": {},
   "outputs": [
    {
     "data": {
      "text/plain": [
       "array([[98,  5],\n",
       "       [20, 17]], dtype=int64)"
      ]
     },
     "execution_count": 38,
     "metadata": {},
     "output_type": "execute_result"
    }
   ],
   "source": [
    "confusion_matrix(y_test, y_predict_class)"
   ]
  },
  {
   "cell_type": "code",
   "execution_count": 39,
   "metadata": {},
   "outputs": [],
   "source": [
    "def make_conf_matrix(confusion):\n",
    "    tn, fp, fn, tp = confusion.flatten()\n",
    "    conf_df = pd.DataFrame({'p_0': [tn, fn, tn+fn], 'p_1': [fp, tp, fp+tp], 'total_actual': [tn+fp, fn+tp, tn+fn+tp+fp]},\n",
    "                           index=['a_0', 'a_1', 'total_prediction'])\n",
    "    return conf_df"
   ]
  },
  {
   "cell_type": "code",
   "execution_count": 40,
   "metadata": {},
   "outputs": [
    {
     "data": {
      "text/html": [
       "<div>\n",
       "<style scoped>\n",
       "    .dataframe tbody tr th:only-of-type {\n",
       "        vertical-align: middle;\n",
       "    }\n",
       "\n",
       "    .dataframe tbody tr th {\n",
       "        vertical-align: top;\n",
       "    }\n",
       "\n",
       "    .dataframe thead th {\n",
       "        text-align: right;\n",
       "    }\n",
       "</style>\n",
       "<table border=\"1\" class=\"dataframe\">\n",
       "  <thead>\n",
       "    <tr style=\"text-align: right;\">\n",
       "      <th></th>\n",
       "      <th>p_0</th>\n",
       "      <th>p_1</th>\n",
       "      <th>total_actual</th>\n",
       "    </tr>\n",
       "  </thead>\n",
       "  <tbody>\n",
       "    <tr>\n",
       "      <th>a_0</th>\n",
       "      <td>98</td>\n",
       "      <td>5</td>\n",
       "      <td>103</td>\n",
       "    </tr>\n",
       "    <tr>\n",
       "      <th>a_1</th>\n",
       "      <td>20</td>\n",
       "      <td>17</td>\n",
       "      <td>37</td>\n",
       "    </tr>\n",
       "    <tr>\n",
       "      <th>total_prediction</th>\n",
       "      <td>118</td>\n",
       "      <td>22</td>\n",
       "      <td>140</td>\n",
       "    </tr>\n",
       "  </tbody>\n",
       "</table>\n",
       "</div>"
      ],
      "text/plain": [
       "                  p_0  p_1  total_actual\n",
       "a_0                98    5           103\n",
       "a_1                20   17            37\n",
       "total_prediction  118   22           140"
      ]
     },
     "execution_count": 40,
     "metadata": {},
     "output_type": "execute_result"
    }
   ],
   "source": [
    "make_conf_matrix(confusion_matrix(y_test, y_predict_class))"
   ]
  },
  {
   "cell_type": "markdown",
   "metadata": {},
   "source": [
    "## Prediction"
   ]
  },
  {
   "cell_type": "code",
   "execution_count": 42,
   "metadata": {},
   "outputs": [],
   "source": [
    "from sklearn.linear_model import LogisticRegression"
   ]
  },
  {
   "cell_type": "code",
   "execution_count": 43,
   "metadata": {},
   "outputs": [
    {
     "name": "stderr",
     "output_type": "stream",
     "text": [
      "C:\\ProgramData\\miniconda3\\envs\\ml_dl\\lib\\site-packages\\sklearn\\utils\\validation.py:744: DataConversionWarning: A column-vector y was passed when a 1d array was expected. Please change the shape of y to (n_samples, ), for example using ravel().\n",
      "  y = column_or_1d(y, warn=True)\n"
     ]
    },
    {
     "data": {
      "text/plain": [
       "LogisticRegression(C=1.0, class_weight=None, dual=False, fit_intercept=True,\n",
       "                   intercept_scaling=1, l1_ratio=None, max_iter=100,\n",
       "                   multi_class='auto', n_jobs=None, penalty='l2',\n",
       "                   random_state=None, solver='lbfgs', tol=0.0001, verbose=0,\n",
       "                   warm_start=False)"
      ]
     },
     "execution_count": 43,
     "metadata": {},
     "output_type": "execute_result"
    }
   ],
   "source": [
    "logit_sklearn = LogisticRegression()\n",
    "logit_sklearn.fit(X_train, y_train)"
   ]
  },
  {
   "cell_type": "code",
   "execution_count": 44,
   "metadata": {},
   "outputs": [
    {
     "data": {
      "text/plain": [
       "array([1, 0, 0, 0, 0, 0, 0, 0, 1, 0, 0, 0, 0, 0, 0, 0, 0, 0, 0, 1, 0, 0,\n",
       "       0, 0, 0, 0, 0, 0, 1, 0, 0, 1, 0, 0, 0, 0, 0, 0, 0, 0, 0, 0, 0, 0,\n",
       "       0, 0, 0, 0, 0, 0, 0, 0, 0, 0, 1, 1, 0, 0, 0, 0, 0, 0, 0, 0, 0, 0,\n",
       "       0, 0, 0, 0, 1, 1, 0, 0, 0, 0, 0, 0, 0, 1, 1, 1, 0, 0, 0, 0, 0, 0,\n",
       "       1, 0, 0, 0, 1, 0, 0, 0, 1, 0, 0, 0, 0, 0, 0, 0, 1, 0, 0, 0, 0, 0,\n",
       "       0, 0, 0, 0, 1, 0, 0, 0, 0, 0, 0, 0, 1, 0, 0, 0, 1, 0, 0, 0, 1, 0,\n",
       "       0, 1, 0, 1, 0, 0, 0, 0], dtype=int64)"
      ]
     },
     "execution_count": 44,
     "metadata": {},
     "output_type": "execute_result"
    }
   ],
   "source": [
    "logit_sklearn.predict(X_test)"
   ]
  },
  {
   "cell_type": "code",
   "execution_count": 45,
   "metadata": {},
   "outputs": [
    {
     "data": {
      "text/plain": [
       "array([0.58404737, 0.30884517, 0.30948642, 0.39799704, 0.23639689,\n",
       "       0.3509221 , 0.04889003, 0.16906417, 0.65189714, 0.0759145 ,\n",
       "       0.08624615, 0.10239666, 0.12228067, 0.44600702, 0.05700031,\n",
       "       0.3369257 , 0.18599733, 0.27469603, 0.04198379, 0.65729982,\n",
       "       0.26022314, 0.48963596, 0.08796134, 0.0211    , 0.21583782,\n",
       "       0.42176839, 0.3281379 , 0.42560768, 0.70323196, 0.18506021,\n",
       "       0.00658006, 0.68269129, 0.00591495, 0.10895443, 0.28774719,\n",
       "       0.40067951, 0.28253371, 0.04415889, 0.16025254, 0.13881603,\n",
       "       0.41204895, 0.23591734, 0.26446915, 0.0350574 , 0.11890194,\n",
       "       0.40082559, 0.00607827, 0.05814691, 0.09210654, 0.08683547,\n",
       "       0.1455838 , 0.01670713, 0.42002027, 0.05503087, 0.86319589,\n",
       "       0.60993234, 0.21386819, 0.01759557, 0.11240582, 0.42122431,\n",
       "       0.01568828, 0.32708516, 0.02364317, 0.4943826 , 0.27330034,\n",
       "       0.16476184, 0.13030921, 0.18032376, 0.31221804, 0.19318536,\n",
       "       0.94640176, 0.58036376, 0.09140386, 0.09927887, 0.08185939,\n",
       "       0.01464406, 0.05417371, 0.0123497 , 0.37487022, 0.77169778,\n",
       "       0.55312896, 0.51170496, 0.02200742, 0.18097023, 0.15232706,\n",
       "       0.38301096, 0.32912666, 0.27908685, 0.57903002, 0.0425396 ,\n",
       "       0.28170316, 0.04098856, 0.68338576, 0.17027463, 0.18331242,\n",
       "       0.04241984, 0.93620146, 0.03079523, 0.23348207, 0.03942136,\n",
       "       0.10309323, 0.13270181, 0.23903264, 0.49495409, 0.51515509,\n",
       "       0.35202236, 0.26145929, 0.00384207, 0.01470953, 0.49852525,\n",
       "       0.27063503, 0.26829079, 0.06893294, 0.18459064, 0.51882478,\n",
       "       0.08774635, 0.02822329, 0.40111003, 0.39338046, 0.14844405,\n",
       "       0.07609909, 0.02296878, 0.51290079, 0.00343207, 0.47005808,\n",
       "       0.48971431, 0.73001978, 0.00906159, 0.25330512, 0.34267475,\n",
       "       0.89698355, 0.24572199, 0.08127841, 0.83938538, 0.33801536,\n",
       "       0.54259833, 0.01218454, 0.10242242, 0.06057235, 0.21554494])"
      ]
     },
     "execution_count": 45,
     "metadata": {},
     "output_type": "execute_result"
    }
   ],
   "source": [
    "logit_sklearn.predict_proba(X_test)[:,1]"
   ]
  },
  {
   "cell_type": "markdown",
   "metadata": {},
   "source": [
    "SAMPLE: Multiclass Prediction with Iris Data"
   ]
  },
  {
   "cell_type": "code",
   "execution_count": 46,
   "metadata": {
    "scrolled": true
   },
   "outputs": [
    {
     "data": {
      "text/html": [
       "<div>\n",
       "<style scoped>\n",
       "    .dataframe tbody tr th:only-of-type {\n",
       "        vertical-align: middle;\n",
       "    }\n",
       "\n",
       "    .dataframe tbody tr th {\n",
       "        vertical-align: top;\n",
       "    }\n",
       "\n",
       "    .dataframe thead th {\n",
       "        text-align: right;\n",
       "    }\n",
       "</style>\n",
       "<table border=\"1\" class=\"dataframe\">\n",
       "  <thead>\n",
       "    <tr style=\"text-align: right;\">\n",
       "      <th></th>\n",
       "      <th>sl</th>\n",
       "      <th>sw</th>\n",
       "      <th>pl</th>\n",
       "      <th>pw</th>\n",
       "      <th>target</th>\n",
       "    </tr>\n",
       "  </thead>\n",
       "  <tbody>\n",
       "    <tr>\n",
       "      <th>0</th>\n",
       "      <td>5.1</td>\n",
       "      <td>3.5</td>\n",
       "      <td>1.4</td>\n",
       "      <td>0.2</td>\n",
       "      <td>0</td>\n",
       "    </tr>\n",
       "    <tr>\n",
       "      <th>1</th>\n",
       "      <td>4.9</td>\n",
       "      <td>3.0</td>\n",
       "      <td>1.4</td>\n",
       "      <td>0.2</td>\n",
       "      <td>0</td>\n",
       "    </tr>\n",
       "    <tr>\n",
       "      <th>2</th>\n",
       "      <td>4.7</td>\n",
       "      <td>3.2</td>\n",
       "      <td>1.3</td>\n",
       "      <td>0.2</td>\n",
       "      <td>0</td>\n",
       "    </tr>\n",
       "    <tr>\n",
       "      <th>3</th>\n",
       "      <td>4.6</td>\n",
       "      <td>3.1</td>\n",
       "      <td>1.5</td>\n",
       "      <td>0.2</td>\n",
       "      <td>0</td>\n",
       "    </tr>\n",
       "    <tr>\n",
       "      <th>4</th>\n",
       "      <td>5.0</td>\n",
       "      <td>3.6</td>\n",
       "      <td>1.4</td>\n",
       "      <td>0.2</td>\n",
       "      <td>0</td>\n",
       "    </tr>\n",
       "    <tr>\n",
       "      <th>...</th>\n",
       "      <td>...</td>\n",
       "      <td>...</td>\n",
       "      <td>...</td>\n",
       "      <td>...</td>\n",
       "      <td>...</td>\n",
       "    </tr>\n",
       "    <tr>\n",
       "      <th>145</th>\n",
       "      <td>6.7</td>\n",
       "      <td>3.0</td>\n",
       "      <td>5.2</td>\n",
       "      <td>2.3</td>\n",
       "      <td>2</td>\n",
       "    </tr>\n",
       "    <tr>\n",
       "      <th>146</th>\n",
       "      <td>6.3</td>\n",
       "      <td>2.5</td>\n",
       "      <td>5.0</td>\n",
       "      <td>1.9</td>\n",
       "      <td>2</td>\n",
       "    </tr>\n",
       "    <tr>\n",
       "      <th>147</th>\n",
       "      <td>6.5</td>\n",
       "      <td>3.0</td>\n",
       "      <td>5.2</td>\n",
       "      <td>2.0</td>\n",
       "      <td>2</td>\n",
       "    </tr>\n",
       "    <tr>\n",
       "      <th>148</th>\n",
       "      <td>6.2</td>\n",
       "      <td>3.4</td>\n",
       "      <td>5.4</td>\n",
       "      <td>2.3</td>\n",
       "      <td>2</td>\n",
       "    </tr>\n",
       "    <tr>\n",
       "      <th>149</th>\n",
       "      <td>5.9</td>\n",
       "      <td>3.0</td>\n",
       "      <td>5.1</td>\n",
       "      <td>1.8</td>\n",
       "      <td>2</td>\n",
       "    </tr>\n",
       "  </tbody>\n",
       "</table>\n",
       "<p>150 rows × 5 columns</p>\n",
       "</div>"
      ],
      "text/plain": [
       "      sl   sw   pl   pw  target\n",
       "0    5.1  3.5  1.4  0.2       0\n",
       "1    4.9  3.0  1.4  0.2       0\n",
       "2    4.7  3.2  1.3  0.2       0\n",
       "3    4.6  3.1  1.5  0.2       0\n",
       "4    5.0  3.6  1.4  0.2       0\n",
       "..   ...  ...  ...  ...     ...\n",
       "145  6.7  3.0  5.2  2.3       2\n",
       "146  6.3  2.5  5.0  1.9       2\n",
       "147  6.5  3.0  5.2  2.0       2\n",
       "148  6.2  3.4  5.4  2.3       2\n",
       "149  5.9  3.0  5.1  1.8       2\n",
       "\n",
       "[150 rows x 5 columns]"
      ]
     },
     "execution_count": 46,
     "metadata": {},
     "output_type": "execute_result"
    }
   ],
   "source": [
    "from sklearn.datasets import load_iris\n",
    "\n",
    "df = load_iris()\n",
    "iris = pd.DataFrame(df['data'], columns='sl sw pl pw'.split())\n",
    "iris['target'] = df['target']\n",
    "iris"
   ]
  },
  {
   "cell_type": "code",
   "execution_count": 47,
   "metadata": {},
   "outputs": [],
   "source": [
    "iris_x = iris.drop('target', axis=1)\n",
    "iris_y = iris['target']\n",
    "\n",
    "xtr, xts, ytr, yts = train_test_split(iris_x, iris_y, stratify = iris_y, test_size=0.2, random_state=2020)"
   ]
  },
  {
   "cell_type": "code",
   "execution_count": 48,
   "metadata": {},
   "outputs": [
    {
     "data": {
      "text/plain": [
       "LogisticRegression(C=1.0, class_weight=None, dual=False, fit_intercept=True,\n",
       "                   intercept_scaling=1, l1_ratio=None, max_iter=100,\n",
       "                   multi_class='auto', n_jobs=None, penalty='l2',\n",
       "                   random_state=None, solver='lbfgs', tol=0.0001, verbose=0,\n",
       "                   warm_start=False)"
      ]
     },
     "execution_count": 48,
     "metadata": {},
     "output_type": "execute_result"
    }
   ],
   "source": [
    "logit_iris = LogisticRegression()\n",
    "logit_iris.fit(xtr, ytr)"
   ]
  },
  {
   "cell_type": "code",
   "execution_count": 49,
   "metadata": {},
   "outputs": [],
   "source": [
    "proba_iris = logit_iris.predict_proba(xts)\n",
    "class_iris = logit_iris.predict(xts)"
   ]
  },
  {
   "cell_type": "code",
   "execution_count": 50,
   "metadata": {
    "scrolled": true
   },
   "outputs": [
    {
     "data": {
      "text/html": [
       "<div>\n",
       "<style scoped>\n",
       "    .dataframe tbody tr th:only-of-type {\n",
       "        vertical-align: middle;\n",
       "    }\n",
       "\n",
       "    .dataframe tbody tr th {\n",
       "        vertical-align: top;\n",
       "    }\n",
       "\n",
       "    .dataframe thead th {\n",
       "        text-align: right;\n",
       "    }\n",
       "</style>\n",
       "<table border=\"1\" class=\"dataframe\">\n",
       "  <thead>\n",
       "    <tr style=\"text-align: right;\">\n",
       "      <th></th>\n",
       "      <th>sl</th>\n",
       "      <th>sw</th>\n",
       "      <th>pl</th>\n",
       "      <th>pw</th>\n",
       "      <th>target</th>\n",
       "      <th>proba_0</th>\n",
       "      <th>proba_1</th>\n",
       "      <th>proba_2</th>\n",
       "      <th>prediction</th>\n",
       "    </tr>\n",
       "  </thead>\n",
       "  <tbody>\n",
       "    <tr>\n",
       "      <th>109</th>\n",
       "      <td>7.2</td>\n",
       "      <td>3.6</td>\n",
       "      <td>6.1</td>\n",
       "      <td>2.5</td>\n",
       "      <td>2</td>\n",
       "      <td>1.309866e-06</td>\n",
       "      <td>0.005275</td>\n",
       "      <td>9.947235e-01</td>\n",
       "      <td>2</td>\n",
       "    </tr>\n",
       "    <tr>\n",
       "      <th>61</th>\n",
       "      <td>5.9</td>\n",
       "      <td>3.0</td>\n",
       "      <td>4.2</td>\n",
       "      <td>1.5</td>\n",
       "      <td>1</td>\n",
       "      <td>2.013332e-02</td>\n",
       "      <td>0.892921</td>\n",
       "      <td>8.694587e-02</td>\n",
       "      <td>1</td>\n",
       "    </tr>\n",
       "    <tr>\n",
       "      <th>136</th>\n",
       "      <td>6.3</td>\n",
       "      <td>3.4</td>\n",
       "      <td>5.6</td>\n",
       "      <td>2.4</td>\n",
       "      <td>2</td>\n",
       "      <td>2.532036e-05</td>\n",
       "      <td>0.023708</td>\n",
       "      <td>9.762671e-01</td>\n",
       "      <td>2</td>\n",
       "    </tr>\n",
       "    <tr>\n",
       "      <th>113</th>\n",
       "      <td>5.7</td>\n",
       "      <td>2.5</td>\n",
       "      <td>5.0</td>\n",
       "      <td>2.0</td>\n",
       "      <td>2</td>\n",
       "      <td>4.437180e-04</td>\n",
       "      <td>0.208191</td>\n",
       "      <td>7.913658e-01</td>\n",
       "      <td>2</td>\n",
       "    </tr>\n",
       "    <tr>\n",
       "      <th>64</th>\n",
       "      <td>5.6</td>\n",
       "      <td>2.9</td>\n",
       "      <td>3.6</td>\n",
       "      <td>1.3</td>\n",
       "      <td>1</td>\n",
       "      <td>8.619127e-02</td>\n",
       "      <td>0.903255</td>\n",
       "      <td>1.055388e-02</td>\n",
       "      <td>1</td>\n",
       "    </tr>\n",
       "    <tr>\n",
       "      <th>29</th>\n",
       "      <td>4.7</td>\n",
       "      <td>3.2</td>\n",
       "      <td>1.6</td>\n",
       "      <td>0.2</td>\n",
       "      <td>0</td>\n",
       "      <td>9.625407e-01</td>\n",
       "      <td>0.037459</td>\n",
       "      <td>9.824100e-08</td>\n",
       "      <td>0</td>\n",
       "    </tr>\n",
       "    <tr>\n",
       "      <th>3</th>\n",
       "      <td>4.6</td>\n",
       "      <td>3.1</td>\n",
       "      <td>1.5</td>\n",
       "      <td>0.2</td>\n",
       "      <td>0</td>\n",
       "      <td>9.680381e-01</td>\n",
       "      <td>0.031962</td>\n",
       "      <td>6.607904e-08</td>\n",
       "      <td>0</td>\n",
       "    </tr>\n",
       "    <tr>\n",
       "      <th>95</th>\n",
       "      <td>5.7</td>\n",
       "      <td>3.0</td>\n",
       "      <td>4.2</td>\n",
       "      <td>1.2</td>\n",
       "      <td>1</td>\n",
       "      <td>2.517331e-02</td>\n",
       "      <td>0.932964</td>\n",
       "      <td>4.186308e-02</td>\n",
       "      <td>1</td>\n",
       "    </tr>\n",
       "    <tr>\n",
       "      <th>118</th>\n",
       "      <td>7.7</td>\n",
       "      <td>2.6</td>\n",
       "      <td>6.9</td>\n",
       "      <td>2.3</td>\n",
       "      <td>2</td>\n",
       "      <td>7.008766e-09</td>\n",
       "      <td>0.000756</td>\n",
       "      <td>9.992438e-01</td>\n",
       "      <td>2</td>\n",
       "    </tr>\n",
       "    <tr>\n",
       "      <th>8</th>\n",
       "      <td>4.4</td>\n",
       "      <td>2.9</td>\n",
       "      <td>1.4</td>\n",
       "      <td>0.2</td>\n",
       "      <td>0</td>\n",
       "      <td>9.711465e-01</td>\n",
       "      <td>0.028853</td>\n",
       "      <td>4.875066e-08</td>\n",
       "      <td>0</td>\n",
       "    </tr>\n",
       "    <tr>\n",
       "      <th>90</th>\n",
       "      <td>5.5</td>\n",
       "      <td>2.6</td>\n",
       "      <td>4.4</td>\n",
       "      <td>1.2</td>\n",
       "      <td>1</td>\n",
       "      <td>1.092089e-02</td>\n",
       "      <td>0.908516</td>\n",
       "      <td>8.056324e-02</td>\n",
       "      <td>1</td>\n",
       "    </tr>\n",
       "    <tr>\n",
       "      <th>47</th>\n",
       "      <td>4.6</td>\n",
       "      <td>3.2</td>\n",
       "      <td>1.4</td>\n",
       "      <td>0.2</td>\n",
       "      <td>0</td>\n",
       "      <td>9.771596e-01</td>\n",
       "      <td>0.022840</td>\n",
       "      <td>3.482327e-08</td>\n",
       "      <td>0</td>\n",
       "    </tr>\n",
       "    <tr>\n",
       "      <th>88</th>\n",
       "      <td>5.6</td>\n",
       "      <td>3.0</td>\n",
       "      <td>4.1</td>\n",
       "      <td>1.3</td>\n",
       "      <td>1</td>\n",
       "      <td>3.269202e-02</td>\n",
       "      <td>0.926032</td>\n",
       "      <td>4.127616e-02</td>\n",
       "      <td>1</td>\n",
       "    </tr>\n",
       "    <tr>\n",
       "      <th>24</th>\n",
       "      <td>4.8</td>\n",
       "      <td>3.4</td>\n",
       "      <td>1.9</td>\n",
       "      <td>0.2</td>\n",
       "      <td>0</td>\n",
       "      <td>9.403322e-01</td>\n",
       "      <td>0.059667</td>\n",
       "      <td>3.329493e-07</td>\n",
       "      <td>0</td>\n",
       "    </tr>\n",
       "    <tr>\n",
       "      <th>27</th>\n",
       "      <td>5.2</td>\n",
       "      <td>3.5</td>\n",
       "      <td>1.5</td>\n",
       "      <td>0.2</td>\n",
       "      <td>0</td>\n",
       "      <td>9.712468e-01</td>\n",
       "      <td>0.028753</td>\n",
       "      <td>5.091143e-08</td>\n",
       "      <td>0</td>\n",
       "    </tr>\n",
       "    <tr>\n",
       "      <th>77</th>\n",
       "      <td>6.7</td>\n",
       "      <td>3.0</td>\n",
       "      <td>5.0</td>\n",
       "      <td>1.7</td>\n",
       "      <td>1</td>\n",
       "      <td>9.123265e-04</td>\n",
       "      <td>0.414809</td>\n",
       "      <td>5.842789e-01</td>\n",
       "      <td>2</td>\n",
       "    </tr>\n",
       "    <tr>\n",
       "      <th>130</th>\n",
       "      <td>7.4</td>\n",
       "      <td>2.8</td>\n",
       "      <td>6.1</td>\n",
       "      <td>1.9</td>\n",
       "      <td>2</td>\n",
       "      <td>1.812845e-06</td>\n",
       "      <td>0.019787</td>\n",
       "      <td>9.802112e-01</td>\n",
       "      <td>2</td>\n",
       "    </tr>\n",
       "    <tr>\n",
       "      <th>58</th>\n",
       "      <td>6.6</td>\n",
       "      <td>2.9</td>\n",
       "      <td>4.6</td>\n",
       "      <td>1.3</td>\n",
       "      <td>1</td>\n",
       "      <td>4.620594e-03</td>\n",
       "      <td>0.849817</td>\n",
       "      <td>1.455625e-01</td>\n",
       "      <td>1</td>\n",
       "    </tr>\n",
       "    <tr>\n",
       "      <th>80</th>\n",
       "      <td>5.5</td>\n",
       "      <td>2.4</td>\n",
       "      <td>3.8</td>\n",
       "      <td>1.1</td>\n",
       "      <td>1</td>\n",
       "      <td>3.482967e-02</td>\n",
       "      <td>0.951819</td>\n",
       "      <td>1.335123e-02</td>\n",
       "      <td>1</td>\n",
       "    </tr>\n",
       "    <tr>\n",
       "      <th>143</th>\n",
       "      <td>6.8</td>\n",
       "      <td>3.2</td>\n",
       "      <td>5.9</td>\n",
       "      <td>2.3</td>\n",
       "      <td>2</td>\n",
       "      <td>4.202469e-06</td>\n",
       "      <td>0.013228</td>\n",
       "      <td>9.867681e-01</td>\n",
       "      <td>2</td>\n",
       "    </tr>\n",
       "    <tr>\n",
       "      <th>46</th>\n",
       "      <td>5.1</td>\n",
       "      <td>3.8</td>\n",
       "      <td>1.6</td>\n",
       "      <td>0.2</td>\n",
       "      <td>0</td>\n",
       "      <td>9.764792e-01</td>\n",
       "      <td>0.023521</td>\n",
       "      <td>5.022886e-08</td>\n",
       "      <td>0</td>\n",
       "    </tr>\n",
       "    <tr>\n",
       "      <th>148</th>\n",
       "      <td>6.2</td>\n",
       "      <td>3.4</td>\n",
       "      <td>5.4</td>\n",
       "      <td>2.3</td>\n",
       "      <td>2</td>\n",
       "      <td>9.317150e-05</td>\n",
       "      <td>0.051477</td>\n",
       "      <td>9.484301e-01</td>\n",
       "      <td>2</td>\n",
       "    </tr>\n",
       "    <tr>\n",
       "      <th>49</th>\n",
       "      <td>5.0</td>\n",
       "      <td>3.3</td>\n",
       "      <td>1.4</td>\n",
       "      <td>0.2</td>\n",
       "      <td>0</td>\n",
       "      <td>9.740515e-01</td>\n",
       "      <td>0.025948</td>\n",
       "      <td>3.754846e-08</td>\n",
       "      <td>0</td>\n",
       "    </tr>\n",
       "    <tr>\n",
       "      <th>144</th>\n",
       "      <td>6.7</td>\n",
       "      <td>3.3</td>\n",
       "      <td>5.7</td>\n",
       "      <td>2.5</td>\n",
       "      <td>2</td>\n",
       "      <td>8.011354e-06</td>\n",
       "      <td>0.013888</td>\n",
       "      <td>9.861042e-01</td>\n",
       "      <td>2</td>\n",
       "    </tr>\n",
       "    <tr>\n",
       "      <th>7</th>\n",
       "      <td>5.0</td>\n",
       "      <td>3.4</td>\n",
       "      <td>1.5</td>\n",
       "      <td>0.2</td>\n",
       "      <td>0</td>\n",
       "      <td>9.713676e-01</td>\n",
       "      <td>0.028632</td>\n",
       "      <td>5.284272e-08</td>\n",
       "      <td>0</td>\n",
       "    </tr>\n",
       "    <tr>\n",
       "      <th>121</th>\n",
       "      <td>5.6</td>\n",
       "      <td>2.8</td>\n",
       "      <td>4.9</td>\n",
       "      <td>2.0</td>\n",
       "      <td>2</td>\n",
       "      <td>1.120174e-03</td>\n",
       "      <td>0.273606</td>\n",
       "      <td>7.252736e-01</td>\n",
       "      <td>2</td>\n",
       "    </tr>\n",
       "    <tr>\n",
       "      <th>68</th>\n",
       "      <td>6.2</td>\n",
       "      <td>2.2</td>\n",
       "      <td>4.5</td>\n",
       "      <td>1.5</td>\n",
       "      <td>1</td>\n",
       "      <td>2.803414e-03</td>\n",
       "      <td>0.780004</td>\n",
       "      <td>2.171926e-01</td>\n",
       "      <td>1</td>\n",
       "    </tr>\n",
       "    <tr>\n",
       "      <th>55</th>\n",
       "      <td>5.7</td>\n",
       "      <td>2.8</td>\n",
       "      <td>4.5</td>\n",
       "      <td>1.3</td>\n",
       "      <td>1</td>\n",
       "      <td>9.227953e-03</td>\n",
       "      <td>0.868348</td>\n",
       "      <td>1.224241e-01</td>\n",
       "      <td>1</td>\n",
       "    </tr>\n",
       "    <tr>\n",
       "      <th>32</th>\n",
       "      <td>5.2</td>\n",
       "      <td>4.1</td>\n",
       "      <td>1.5</td>\n",
       "      <td>0.1</td>\n",
       "      <td>0</td>\n",
       "      <td>9.862131e-01</td>\n",
       "      <td>0.013787</td>\n",
       "      <td>1.563227e-08</td>\n",
       "      <td>0</td>\n",
       "    </tr>\n",
       "    <tr>\n",
       "      <th>106</th>\n",
       "      <td>4.9</td>\n",
       "      <td>2.5</td>\n",
       "      <td>4.5</td>\n",
       "      <td>1.7</td>\n",
       "      <td>2</td>\n",
       "      <td>7.735672e-03</td>\n",
       "      <td>0.679647</td>\n",
       "      <td>3.126173e-01</td>\n",
       "      <td>1</td>\n",
       "    </tr>\n",
       "  </tbody>\n",
       "</table>\n",
       "</div>"
      ],
      "text/plain": [
       "      sl   sw   pl   pw  target       proba_0   proba_1       proba_2  \\\n",
       "109  7.2  3.6  6.1  2.5       2  1.309866e-06  0.005275  9.947235e-01   \n",
       "61   5.9  3.0  4.2  1.5       1  2.013332e-02  0.892921  8.694587e-02   \n",
       "136  6.3  3.4  5.6  2.4       2  2.532036e-05  0.023708  9.762671e-01   \n",
       "113  5.7  2.5  5.0  2.0       2  4.437180e-04  0.208191  7.913658e-01   \n",
       "64   5.6  2.9  3.6  1.3       1  8.619127e-02  0.903255  1.055388e-02   \n",
       "29   4.7  3.2  1.6  0.2       0  9.625407e-01  0.037459  9.824100e-08   \n",
       "3    4.6  3.1  1.5  0.2       0  9.680381e-01  0.031962  6.607904e-08   \n",
       "95   5.7  3.0  4.2  1.2       1  2.517331e-02  0.932964  4.186308e-02   \n",
       "118  7.7  2.6  6.9  2.3       2  7.008766e-09  0.000756  9.992438e-01   \n",
       "8    4.4  2.9  1.4  0.2       0  9.711465e-01  0.028853  4.875066e-08   \n",
       "90   5.5  2.6  4.4  1.2       1  1.092089e-02  0.908516  8.056324e-02   \n",
       "47   4.6  3.2  1.4  0.2       0  9.771596e-01  0.022840  3.482327e-08   \n",
       "88   5.6  3.0  4.1  1.3       1  3.269202e-02  0.926032  4.127616e-02   \n",
       "24   4.8  3.4  1.9  0.2       0  9.403322e-01  0.059667  3.329493e-07   \n",
       "27   5.2  3.5  1.5  0.2       0  9.712468e-01  0.028753  5.091143e-08   \n",
       "77   6.7  3.0  5.0  1.7       1  9.123265e-04  0.414809  5.842789e-01   \n",
       "130  7.4  2.8  6.1  1.9       2  1.812845e-06  0.019787  9.802112e-01   \n",
       "58   6.6  2.9  4.6  1.3       1  4.620594e-03  0.849817  1.455625e-01   \n",
       "80   5.5  2.4  3.8  1.1       1  3.482967e-02  0.951819  1.335123e-02   \n",
       "143  6.8  3.2  5.9  2.3       2  4.202469e-06  0.013228  9.867681e-01   \n",
       "46   5.1  3.8  1.6  0.2       0  9.764792e-01  0.023521  5.022886e-08   \n",
       "148  6.2  3.4  5.4  2.3       2  9.317150e-05  0.051477  9.484301e-01   \n",
       "49   5.0  3.3  1.4  0.2       0  9.740515e-01  0.025948  3.754846e-08   \n",
       "144  6.7  3.3  5.7  2.5       2  8.011354e-06  0.013888  9.861042e-01   \n",
       "7    5.0  3.4  1.5  0.2       0  9.713676e-01  0.028632  5.284272e-08   \n",
       "121  5.6  2.8  4.9  2.0       2  1.120174e-03  0.273606  7.252736e-01   \n",
       "68   6.2  2.2  4.5  1.5       1  2.803414e-03  0.780004  2.171926e-01   \n",
       "55   5.7  2.8  4.5  1.3       1  9.227953e-03  0.868348  1.224241e-01   \n",
       "32   5.2  4.1  1.5  0.1       0  9.862131e-01  0.013787  1.563227e-08   \n",
       "106  4.9  2.5  4.5  1.7       2  7.735672e-03  0.679647  3.126173e-01   \n",
       "\n",
       "     prediction  \n",
       "109           2  \n",
       "61            1  \n",
       "136           2  \n",
       "113           2  \n",
       "64            1  \n",
       "29            0  \n",
       "3             0  \n",
       "95            1  \n",
       "118           2  \n",
       "8             0  \n",
       "90            1  \n",
       "47            0  \n",
       "88            1  \n",
       "24            0  \n",
       "27            0  \n",
       "77            2  \n",
       "130           2  \n",
       "58            1  \n",
       "80            1  \n",
       "143           2  \n",
       "46            0  \n",
       "148           2  \n",
       "49            0  \n",
       "144           2  \n",
       "7             0  \n",
       "121           2  \n",
       "68            1  \n",
       "55            1  \n",
       "32            0  \n",
       "106           1  "
      ]
     },
     "execution_count": 50,
     "metadata": {},
     "output_type": "execute_result"
    }
   ],
   "source": [
    "test_iris = pd.concat([xts, yts], axis=1)\n",
    "test_iris['proba_0'] = proba_iris[:,0]\n",
    "test_iris['proba_1'] = proba_iris[:,1]\n",
    "test_iris['proba_2'] = proba_iris[:,2]\n",
    "test_iris['prediction'] = class_iris\n",
    "test_iris"
   ]
  },
  {
   "cell_type": "code",
   "execution_count": 51,
   "metadata": {},
   "outputs": [
    {
     "data": {
      "text/plain": [
       "0.9333333333333333"
      ]
     },
     "execution_count": 51,
     "metadata": {},
     "output_type": "execute_result"
    }
   ],
   "source": [
    "accuracy_score(test_iris['target'], test_iris['prediction'])"
   ]
  },
  {
   "cell_type": "code",
   "execution_count": 52,
   "metadata": {},
   "outputs": [
    {
     "data": {
      "text/plain": [
       "array([[10,  0,  0],\n",
       "       [ 0,  9,  1],\n",
       "       [ 0,  1,  9]], dtype=int64)"
      ]
     },
     "execution_count": 52,
     "metadata": {},
     "output_type": "execute_result"
    }
   ],
   "source": [
    "confusion_matrix(test_iris['target'], test_iris['prediction'])"
   ]
  },
  {
   "cell_type": "code",
   "execution_count": 54,
   "metadata": {},
   "outputs": [
    {
     "data": {
      "text/plain": [
       "<sklearn.metrics._plot.confusion_matrix.ConfusionMatrixDisplay at 0x15a11dfea08>"
      ]
     },
     "execution_count": 54,
     "metadata": {},
     "output_type": "execute_result"
    },
    {
     "data": {
      "image/png": "[encoded data removed]",
      "text/plain": [
       "<Figure size 432x288 with 2 Axes>"
      ]
     },
     "metadata": {
      "needs_background": "light"
     },
     "output_type": "display_data"
    }
   ],
   "source": [
    "plot_confusion_matrix(logit_iris, xts, yts)"
   ]
  },
  {
   "cell_type": "code",
   "execution_count": null,
   "metadata": {},
   "outputs": [],
   "source": []
  }
 ],
 "metadata": {
  "kernelspec": {
   "display_name": "Python [conda env:ml_dl]",
   "language": "python",
   "name": "conda-env-ml_dl-py"
  },
  "language_info": {
   "codemirror_mode": {
    "name": "ipython",
    "version": 3
   },
   "file_extension": ".py",
   "mimetype": "text/x-python",
   "name": "python",
   "nbconvert_exporter": "python",
   "pygments_lexer": "ipython3",
   "version": "3.7.6"
  }
 },
 "nbformat": 4,
 "nbformat_minor": 4
}
