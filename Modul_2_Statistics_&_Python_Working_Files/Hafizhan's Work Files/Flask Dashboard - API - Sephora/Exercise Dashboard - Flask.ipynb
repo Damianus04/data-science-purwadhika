{
 "cells": [
  {
   "cell_type": "markdown",
   "id": "oriental-classic",
   "metadata": {},
   "source": [
    "# Task Dashboard using Flask\n",
    "Gunakan dataset Sephora untuk tugas ini. \n",
    "Data yang digunakan adalah hanya data 5 brand dengan produk terbanyak. Pisahkan datanya telebih dahulu\n",
    "\n",
    "Buat dashboard untuk melihat :\n",
    "- Cari sebaran harganya untuk masing masing brand, siapa yang paling mahal dan paling murah sebaran harganya ?beri keterangan pada dashboardnya\n",
    "- Buatlah perbandingan jumlah review berdasarkan jenis produk, buat untuk masing - masing brand.\n",
    "- Apakah ada korelasi antara jumlah review dengan, harga sebuah produk ? buatkan tampilan yang sesuai, dan berikan pilihan untuk brandnya"
   ]
  },
  {
   "cell_type": "markdown",
   "id": "successful-glass",
   "metadata": {},
   "source": [
    "# Tugas Rest API (Optional)\n",
    "- Buat Database baru mengenai jabatan pegawai\n",
    "\n",
    "Tabelnya :\n",
    "| username | jabatan | gaji | tingkat |\n",
    "\n",
    "- Buat rute API jabatan untuk menambah dan mengupdate\n",
    "- pastikan data pegawai (username) tersedia di tabel employee\n",
    "- buatlah rute get pada sebuah id\n"
   ]
  },
  {
   "cell_type": "code",
   "execution_count": null,
   "id": "technological-mumbai",
   "metadata": {},
   "outputs": [],
   "source": []
  },
  {
   "cell_type": "code",
   "execution_count": null,
   "id": "otherwise-grade",
   "metadata": {},
   "outputs": [],
   "source": []
  },
  {
   "cell_type": "code",
   "execution_count": null,
   "id": "structural-spring",
   "metadata": {},
   "outputs": [],
   "source": []
  }
 ],
 "metadata": {
  "kernelspec": {
   "display_name": "Python 3",
   "language": "python",
   "name": "python3"
  },
  "language_info": {
   "codemirror_mode": {
    "name": "ipython",
    "version": 3
   },
   "file_extension": ".py",
   "mimetype": "text/x-python",
   "name": "python",
   "nbconvert_exporter": "python",
   "pygments_lexer": "ipython3",
   "version": "3.8.5"
  }
 },
 "nbformat": 4,
 "nbformat_minor": 5
}
