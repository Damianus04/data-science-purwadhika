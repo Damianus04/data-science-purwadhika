{
 "cells": [
  {
   "cell_type": "markdown",
   "metadata": {},
   "source": [
    "# __SQL Exercise__ (Python Connector)\n",
    "<hr>"
   ]
  },
  {
   "cell_type": "markdown",
   "metadata": {},
   "source": [
    "#### - Create _connection_ Python with your SQL Database!\n",
    "#### - Use ``Sakila`` database!\n",
    "#### - If there isn't ``Sakila`` in your SQL Dataset, follow this guidance: https://dev.mysql.com/doc/sakila/en/sakila-installation.html\n",
    "\n",
    "___"
   ]
  },
  {
   "cell_type": "markdown",
   "metadata": {},
   "source": [
    "## Import Libraries"
   ]
  },
  {
   "cell_type": "code",
   "execution_count": null,
   "metadata": {},
   "outputs": [],
   "source": [
    "import mysql.connector\n",
    "import pandas as pd"
   ]
  },
  {
   "cell_type": "markdown",
   "metadata": {},
   "source": [
    "## Create Connection"
   ]
  },
  {
   "cell_type": "code",
   "execution_count": null,
   "metadata": {},
   "outputs": [],
   "source": [
    "## Kita membuat koneksi ke MYSQL db\n",
    "mydb = mysql.connector.connect( host= \"localhost\"             # host mysql saya\n",
    "                , user= \"root\"                 # username mysql saya\n",
    "                , password= \"\"                 # password mysql saya\n",
    "                , database= \"sakila\"      # database yg kita buat\n",
    "                )"
   ]
  },
  {
   "cell_type": "code",
   "execution_count": null,
   "metadata": {},
   "outputs": [],
   "source": [
    "cursor = mydb.cursor()"
   ]
  },
  {
   "cell_type": "code",
   "execution_count": null,
   "metadata": {},
   "outputs": [],
   "source": [
    "# Create function\n",
    "def sql_df(yourQuery):\n",
    "    cursor.execute(yourQuery)\n",
    "    res = cursor.fetchall()\n",
    "    df = pd.DataFrame(res, columns = cursor.column_names)\n",
    "    return df"
   ]
  },
  {
   "cell_type": "code",
   "execution_count": null,
   "metadata": {},
   "outputs": [],
   "source": [
    "sql_df('SELECT * FROM `language`')"
   ]
  },
  {
   "cell_type": "markdown",
   "metadata": {},
   "source": [
    "## ``Tampilkan seluruh tabel di Database Sakila (Full Table)``"
   ]
  },
  {
   "cell_type": "code",
   "execution_count": null,
   "metadata": {},
   "outputs": [],
   "source": [
    "sql_df('show full tables')"
   ]
  },
  {
   "cell_type": "code",
   "execution_count": null,
   "metadata": {},
   "outputs": [],
   "source": [
    "sql_df('select * from rental limit 2')"
   ]
  },
  {
   "cell_type": "code",
   "execution_count": null,
   "metadata": {},
   "outputs": [],
   "source": [
    "sql_df('select * from customer limit 2')"
   ]
  },
  {
   "cell_type": "code",
   "execution_count": null,
   "metadata": {},
   "outputs": [],
   "source": [
    "sql_df('select * from address limit 2')"
   ]
  },
  {
   "cell_type": "code",
   "execution_count": null,
   "metadata": {},
   "outputs": [],
   "source": [
    "sql_df('select * from country limit 2')"
   ]
  },
  {
   "cell_type": "markdown",
   "metadata": {},
   "source": [
    "<hr>\n",
    "\n",
    "## __Soal__\n",
    "\n",
    "### 1. Tampilkan aktor yang memiliki nama depan ‘Scarlett’!\n"
   ]
  },
  {
   "cell_type": "code",
   "execution_count": null,
   "metadata": {},
   "outputs": [],
   "source": [
    "sql_df(\n",
    "    \"\"\"\n",
    "    SELECT first_name as Nama_Depan, last_name as Nama_Belakang\n",
    "    FROM actor \n",
    "    WHERE first_name='Scarlett'\n",
    "    \"\"\")"
   ]
  },
  {
   "cell_type": "markdown",
   "metadata": {},
   "source": [
    "### 2. Tampilkan aktor yang memiliki nama belakang ‘Johansson’!\n"
   ]
  },
  {
   "cell_type": "code",
   "execution_count": null,
   "metadata": {},
   "outputs": [],
   "source": [
    "sql_df(\n",
    "    \"\"\"\n",
    "    SELECT first_name as Nama_Depan, last_name as Nama_Belakang\n",
    "    FROM actor \n",
    "    WHERE last_name='Johansson'\n",
    "    \"\"\")"
   ]
  },
  {
   "cell_type": "markdown",
   "metadata": {},
   "source": [
    "### 3. Berapa banyak nama terakhir aktor (tanpa ada pengulangan/_distint_)?"
   ]
  },
  {
   "cell_type": "code",
   "execution_count": null,
   "metadata": {},
   "outputs": [],
   "source": [
    "sql_df(\n",
    "    \"\"\"\n",
    "    SELECT count(distinct last_name) as Jumlah_Nama_Terakhir\n",
    "    FROM actor;\n",
    "    \"\"\")"
   ]
  },
  {
   "cell_type": "markdown",
   "metadata": {},
   "source": [
    "### 4. Tampilkan nama belakang aktor yang keluar hanya satu kali di database Sakila!¶"
   ]
  },
  {
   "cell_type": "code",
   "execution_count": null,
   "metadata": {},
   "outputs": [],
   "source": [
    "sql_df(\n",
    "    \"\"\"\n",
    "    SELECT last_name as Nama_Belakang\n",
    "    FROM actor \n",
    "    GROUP BY last_name \n",
    "    HAVING count(*) = 1;\n",
    "    \"\"\").head()"
   ]
  },
  {
   "cell_type": "markdown",
   "metadata": {},
   "source": [
    "### 5. Tampilkan nama belakang aktor yang keluar lebih dari satu kali di database Sakila!\n"
   ]
  },
  {
   "cell_type": "code",
   "execution_count": null,
   "metadata": {},
   "outputs": [],
   "source": [
    "sql_df(\"\"\"\n",
    "SELECT last_name as Nama_Belakang\n",
    "FROM actor\n",
    "GROUP BY last_name \n",
    "HAVING count(*) > 1;\n",
    "\"\"\").head()"
   ]
  },
  {
   "cell_type": "markdown",
   "metadata": {},
   "source": [
    "### 6. Tahun berapa film ‘Academy Dinosaur’ di-_release_?\n"
   ]
  },
  {
   "cell_type": "code",
   "execution_count": null,
   "metadata": {},
   "outputs": [],
   "source": [
    "sql_df(\"\"\"\n",
    "SELECT title as Judul, release_year as Tahun_Release\n",
    "FROM film\n",
    "WHERE title = 'Academy Dinosaur'\n",
    "\"\"\")"
   ]
  },
  {
   "cell_type": "markdown",
   "metadata": {},
   "source": [
    "### 7. Berapa rata-rata durasi film di database Sakila?\n"
   ]
  },
  {
   "cell_type": "code",
   "execution_count": null,
   "metadata": {},
   "outputs": [],
   "source": [
    "sql_df(\"\"\"\n",
    "SELECT avg(length) as Rata_Durasi\n",
    "FROM film;\n",
    "\"\"\")"
   ]
  },
  {
   "cell_type": "markdown",
   "metadata": {},
   "source": [
    "### 8. Tampilkan rata-rata durasi film di tiap kategori film!"
   ]
  },
  {
   "cell_type": "code",
   "execution_count": null,
   "metadata": {},
   "outputs": [],
   "source": [
    "sql_df(\"\"\"\n",
    "SELECT category.name AS Category\n",
    ", avg(length) AS Avg_Duration\n",
    "FROM film \n",
    "join film_category using (film_id) \n",
    "join category using (category_id)\n",
    "GROUP BY category.name\n",
    "ORDER BY avg(length) desc;\n",
    "\"\"\")"
   ]
  },
  {
   "cell_type": "markdown",
   "metadata": {},
   "source": [
    "### 9. Tampilkan kategori film yang memiliki rata-rata durasi (_average of length_) di atas rata-rata kategori film lainnya!"
   ]
  },
  {
   "cell_type": "code",
   "execution_count": null,
   "metadata": {},
   "outputs": [],
   "source": [
    "sql_df(\"\"\"\n",
    "SELECT category.name as Category\n",
    ", avg(length) as Avg_Duration\n",
    "from film \n",
    "join film_category using (film_id) \n",
    "join category using (category_id)\n",
    "group by category.name\n",
    "having \n",
    "avg(length) > (select avg(length) from film)\n",
    "order by avg(length) desc;\n",
    "\"\"\")"
   ]
  },
  {
   "cell_type": "markdown",
   "metadata": {},
   "source": [
    "### 10. Berapa banyak customer yang dilayani oleh 2 staff di Sakila Database?"
   ]
  },
  {
   "cell_type": "code",
   "execution_count": null,
   "metadata": {},
   "outputs": [],
   "source": [
    "sql_df('''\n",
    "SELECT a.name as Staff\n",
    ", COUNT(b.customer_id) as Total_Customer\n",
    "FROM staff_list as a\n",
    ", rental as b\n",
    "WHERE a.ID = b.staff_id\n",
    "GROUP BY Name\n",
    "''')"
   ]
  },
  {
   "cell_type": "markdown",
   "metadata": {},
   "source": [
    "### 11. Tampilkan _total order_ (jumlah penyewaan) setiap kategori film!"
   ]
  },
  {
   "cell_type": "code",
   "execution_count": null,
   "metadata": {},
   "outputs": [],
   "source": [
    "sql_df(\"\"\"\n",
    "SELECT category.name AS Category, \n",
    "count(rental.rental_id) AS Total_Order\n",
    "FROM rental join inventory using (inventory_id) \n",
    "join film_category using (film_id) \n",
    "join category using (category_id)\n",
    "GROUP BY category.name\n",
    "ORDER BY Total_Order desc;\n",
    "\"\"\")"
   ]
  },
  {
   "cell_type": "markdown",
   "metadata": {},
   "source": [
    "### 12. Tampilkan 5 kota dengan total order (jumlah penyewaan) terbesar!"
   ]
  },
  {
   "cell_type": "code",
   "execution_count": null,
   "metadata": {},
   "outputs": [],
   "source": [
    "sql_df(\"\"\"\n",
    "SELECT city.city as Nama_Kota\n",
    ", count(rental.rental_id) as Total_Order\n",
    "\n",
    "FROM rental \n",
    "JOIN customer USING (customer_id) \n",
    "JOIN address USING (address_id) \n",
    "JOIN city USING (city_id)\n",
    "\n",
    "GROUP BY Nama_Kota\n",
    "ORDER BY Total_Order DESC\n",
    "LIMIT 5\n",
    "\"\"\")"
   ]
  },
  {
   "cell_type": "code",
   "execution_count": null,
   "metadata": {},
   "outputs": [],
   "source": []
  },
  {
   "cell_type": "code",
   "execution_count": null,
   "metadata": {},
   "outputs": [],
   "source": []
  },
  {
   "cell_type": "code",
   "execution_count": null,
   "metadata": {},
   "outputs": [],
   "source": []
  },
  {
   "cell_type": "code",
   "execution_count": null,
   "metadata": {},
   "outputs": [],
   "source": []
  }
 ],
 "metadata": {
  "kernelspec": {
   "display_name": "Python [conda env:ml_dl]",
   "language": "python",
   "name": "conda-env-ml_dl-py"
  },
  "language_info": {
   "codemirror_mode": {
    "name": "ipython",
    "version": 3
   },
   "file_extension": ".py",
   "mimetype": "text/x-python",
   "name": "python",
   "nbconvert_exporter": "python",
   "pygments_lexer": "ipython3",
   "version": "3.7.6"
  }
 },
 "nbformat": 4,
 "nbformat_minor": 4
}
