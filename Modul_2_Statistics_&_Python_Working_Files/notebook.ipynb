{
 "metadata": {
  "language_info": {
   "codemirror_mode": {
    "name": "ipython",
    "version": 3
   },
   "file_extension": ".py",
   "mimetype": "text/x-python",
   "name": "python",
   "nbconvert_exporter": "python",
   "pygments_lexer": "ipython3",
   "version": "3.7.6-final"
  },
  "orig_nbformat": 2,
  "kernelspec": {
   "name": "python3",
   "display_name": "Python 3",
   "language": "python"
  }
 },
 "nbformat": 4,
 "nbformat_minor": 2,
 "cells": [
  {
   "cell_type": "code",
   "execution_count": 27,
   "metadata": {},
   "outputs": [
    {
     "output_type": "stream",
     "name": "stdout",
     "text": [
      "Dom Selection\nparagraf 1\nparagraf 2\nparagraf 3\nparagraf 4\n"
     ]
    }
   ],
   "source": [
    "# Web Scrapping\n",
    "\n",
    "from bs4 import BeautifulSoup\n",
    "import requests\n",
    "\n",
    "# url = \"../4DOMEvents.html\"\n",
    "url = \"http://127.0.0.1:5500/4DOMEvents.html\"\n",
    "\n",
    "web = requests.get(url)\n",
    "\n",
    "# Out = BeautifulSoup(open(url, 'r'), \"html.parser\")\n",
    "Out = BeautifulSoup(web.content, 'html.parser')\n",
    "\n",
    "print(Out.title.text)\n",
    "\n",
    "for i in Out.find_all('p'):\n",
    "    print(i.text)\n",
    "\n",
    "for i in Out.find_all('li', class_='b-list'):\n",
    "    print(i.text)"
   ]
  },
  {
   "cell_type": "code",
   "execution_count": 9,
   "metadata": {},
   "outputs": [],
   "source": [
    "from bs4 import BeautifulSoup\n",
    "import requests\n",
    "\n",
    "bank = \"bnikkd\"\n",
    "currency = \"usd\"\n",
    "\n",
    "token = \"bDSGqWmkLACiWbV9oXYuqn0MDn5wSEn0EEyjZ8Nx\"\n",
    "url = f\"https://api.kurs.web.id/api/v1?token={token}&bank={bank}&matauang={currency}\"\n",
    "data = requests.get(url)\n",
    "output2 = data.json()\n",
    "# rate = output['jual']"
   ]
  },
  {
   "cell_type": "code",
   "execution_count": 6,
   "metadata": {},
   "outputs": [
    {
     "output_type": "execute_result",
     "data": {
      "text/plain": [
       "{'status': 'success',\n",
       " 'bank': 'BNI',\n",
       " 'matauang': 'USD',\n",
       " 'jual': 14335,\n",
       " 'beli': 13935,\n",
       " 'timestamp': '2020-12-19'}"
      ]
     },
     "metadata": {},
     "execution_count": 6
    }
   ],
   "source": [
    "output"
   ]
  },
  {
   "cell_type": "code",
   "execution_count": 10,
   "metadata": {},
   "outputs": [
    {
     "output_type": "execute_result",
     "data": {
      "text/plain": [
       "({'status': 'error', 'message': 'matauang invalid!'},\n",
       " {'status': 'error', 'message': 'bank invalid!'})"
      ]
     },
     "metadata": {},
     "execution_count": 10
    }
   ],
   "source": [
    "output1, output2"
   ]
  },
  {
   "cell_type": "code",
   "execution_count": 68,
   "metadata": {},
   "outputs": [
    {
     "output_type": "stream",
     "name": "stdout",
     "text": [
      "1) KATZ'S DELICATESSEN\n* establishment: Deli\n* cuisines: Sandwich\n* address: 205 East Houston Street, New York 10002, United States\n* phone number: (212) 254-2246\n* rating: 4.5/Excellent\n* reviews: \n\n[]\n[]\n[]\n[]\n[]\n\n2) LOMBARDI'S PIZZA\n* establishment: Pizzeria\n* cuisines: Pizza, Italian\n* address: 32 Spring Street, New York 10012, United States\n* phone number: (212) 941-7994\n* rating: 4.5/Excellent\n* reviews: \n\n[]\n[]\n[]\n[]\n[]\n\n"
     ]
    }
   ],
   "source": [
    "# API ZOMATO\n",
    "import requests\n",
    "\n",
    "key = \"d144413ae947e1fca6f92d6f043e82eb\"\n",
    "host = \"https://developers.zomato.com/api/v2.1\"\n",
    "head = {'user-key': key}\n",
    "\n",
    "# categories\n",
    "# cat = \"/categories\"\n",
    "# url_cat = host + cat\n",
    "# data_cat = requests.get(url_cat, headers=head)\n",
    "# data_city = requests.get(\n",
    "#     url_city, headers={\"user-key\": \"d144413ae947e1fca6f92d6f043e82eb\"})\n",
    "\n",
    "# output_cat = data_cat.json()\n",
    "# category = output_cat['categories']\n",
    "\n",
    "\n",
    "# locations - city id\n",
    "city_input = 'new york'\n",
    "city_api = f\"/locations?query={city_input.lower()}\"\n",
    "url_city = host + city_api\n",
    "data_city = requests.get(\n",
    "    url_city, headers=head)\n",
    "\n",
    "location = data_city.json() # main information\n",
    "city_id = location['location_suggestions'][0]['entity_id']\n",
    "city_name = location['location_suggestions'][0]['city_name']\n",
    "city_type = location['location_suggestions'][0]['entity_type']\n",
    "\n",
    "\n",
    "# location details\n",
    "city_id = city_id\n",
    "city_type = city_type\n",
    "location_api = f\"/location_details?entity_id={city_id}&entity_type={city_type}\"\n",
    "url_location = host + location_api\n",
    "data_location = requests.get(url_location, headers=head)\n",
    "\n",
    "location_details = data_location.json()\n",
    "\n",
    "#  restaurant, cuisine, establishment, address, phone number, rating, review\n",
    "for h, i in enumerate(location_details['best_rated_restaurant'][:2]):\n",
    "    print(f\"{h+1}) {i['restaurant']['name'].upper()}\")\n",
    "    print(f\"* establishment: {i['restaurant']['establishment'][0]}\")\n",
    "    print(f\"* cuisines: {i['restaurant']['cuisines']}\")\n",
    "    print(f\"* address: {i['restaurant']['location']['address']}, {location_details['location']['country_name']}\")\n",
    "    print(f\"* phone number: {i['restaurant']['phone_numbers']}\")\n",
    "    print(f\"* rating: {i['restaurant']['user_rating']['aggregate_rating']}/{i['restaurant']['user_rating']['rating_text']}\")\n",
    "    print(\"* reviews: \\n\")\n",
    "    for i in i['restaurant']['all_reviews']['reviews']:\n",
    "        print(i['review'])\n",
    "    print('')"
   ]
  },
  {
   "cell_type": "code",
   "execution_count": 69,
   "metadata": {},
   "outputs": [
    {
     "output_type": "execute_result",
     "data": {
      "text/plain": [
       "(280, 'New York City', 'city')"
      ]
     },
     "metadata": {},
     "execution_count": 69
    }
   ],
   "source": [
    "city_id, city_name, city_type"
   ]
  },
  {
   "cell_type": "code",
   "execution_count": 78,
   "metadata": {
    "tags": []
   },
   "outputs": [
    {
     "output_type": "stream",
     "name": "stdout",
     "text": [
      "Katz's Delicatessen\n"
     ]
    },
    {
     "output_type": "execute_result",
     "data": {
      "text/plain": [
       "(400, 'No Daily Menu Available')"
      ]
     },
     "metadata": {},
     "execution_count": 78
    }
   ],
   "source": [
    "text = 'katz'\n",
    "for i in location_details['best_rated_restaurant']:\n",
    "    # print(i['restaurant']['name'])\n",
    "    if text.lower() in i['restaurant']['name'].lower():\n",
    "        print(i['restaurant']['name'])\n",
    "        restaurant_id = i['restaurant']['R']['res_id']\n",
    "        # print(f'restaurant id: {restaurant_id}')\n",
    "    else:\n",
    "        continue\n",
    "\n",
    "url_menu = f\"https://developers.zomato.com/api/v2.1/dailymenu?res_id={restaurant_id}\"\n",
    "data_menu = requests.get(url_menu, headers=head)\n",
    "menu = data_menu.json()\n",
    "menu['code'], menu['message']"
   ]
  },
  {
   "cell_type": "code",
   "execution_count": 72,
   "metadata": {},
   "outputs": [
    {
     "output_type": "execute_result",
     "data": {
      "text/plain": [
       "{'restaurant': {'R': {'res_id': 16767139,\n",
       "   'is_grocery_store': False,\n",
       "   'has_menu_status': {'delivery': -1, 'takeaway': -1}},\n",
       "  'apikey': 'd144413ae947e1fca6f92d6f043e82eb',\n",
       "  'id': '16767139',\n",
       "  'name': 'Gramercy Tavern',\n",
       "  'url': 'https://www.zomato.com/new-york-city/gramercy-tavern-gramercy-flatiron?utm_source=api_basic_user&utm_medium=api&utm_campaign=v2.1',\n",
       "  'location': {'address': '42 E 20th Street 10003',\n",
       "   'locality': 'East 20th Street, Gramercy-Flatiron',\n",
       "   'city': 'New York City',\n",
       "   'city_id': 280,\n",
       "   'latitude': '40.7387166667',\n",
       "   'longitude': '-73.9883888889',\n",
       "   'zipcode': '10003',\n",
       "   'country_id': 216,\n",
       "   'locality_verbose': 'East 20th Street, Gramercy-Flatiron, New York City'},\n",
       "  'switch_to_order_menu': 0,\n",
       "  'cuisines': 'American',\n",
       "  'timings': '11:30 AM to 11 PM (Mon-Thu, Sun), 11:30 AM to 12 Midnight (Fri-Sat)',\n",
       "  'average_cost_for_two': 200,\n",
       "  'price_range': 4,\n",
       "  'currency': '$',\n",
       "  'highlights': ['Dinner',\n",
       "   'Takeaway Available',\n",
       "   'Lunch',\n",
       "   'Serves Alcohol',\n",
       "   'Cash',\n",
       "   'Credit Card',\n",
       "   'Michelin Starred',\n",
       "   'Indoor Seating',\n",
       "   'Table booking recommended',\n",
       "   'Lunch Menu',\n",
       "   'Fullbar'],\n",
       "  'offers': [],\n",
       "  'opentable_support': 0,\n",
       "  'is_zomato_book_res': 0,\n",
       "  'mezzo_provider': 'OTHER',\n",
       "  'is_book_form_web_view': 0,\n",
       "  'book_form_web_view_url': '',\n",
       "  'book_again_url': '',\n",
       "  'thumb': 'https://b.zmtcdn.com/data/pictures/9/16767139/8e3fae144133ba709852d6eec7280397.jpg?fit=around%7C200%3A200&crop=200%3A200%3B%2A%2C%2A',\n",
       "  'user_rating': {'aggregate_rating': '4.5',\n",
       "   'rating_text': 'Excellent',\n",
       "   'rating_color': '3F7E00',\n",
       "   'rating_obj': {'title': {'text': '4.5'},\n",
       "    'bg_color': {'type': 'lime', 'tint': '700'}},\n",
       "   'votes': 950},\n",
       "  'all_reviews_count': 120,\n",
       "  'photos_url': 'https://www.zomato.com/new-york-city/gramercy-tavern-gramercy-flatiron/photos?utm_source=api_basic_user&utm_medium=api&utm_campaign=v2.1#tabtop',\n",
       "  'photo_count': 606,\n",
       "  'menu_url': 'https://www.zomato.com/new-york-city/gramercy-tavern-gramercy-flatiron/menu?utm_source=api_basic_user&utm_medium=api&utm_campaign=v2.1&openSwipeBox=menu&showMinimal=1#tabtop',\n",
       "  'featured_image': 'https://b.zmtcdn.com/data/pictures/9/16767139/8e3fae144133ba709852d6eec7280397.jpg',\n",
       "  'medio_provider': False,\n",
       "  'has_online_delivery': 0,\n",
       "  'is_delivering_now': 0,\n",
       "  'store_type': '',\n",
       "  'include_bogo_offers': True,\n",
       "  'deeplink': 'zomato://restaurant/16767139',\n",
       "  'is_table_reservation_supported': 0,\n",
       "  'has_table_booking': 0,\n",
       "  'events_url': 'https://www.zomato.com/new-york-city/gramercy-tavern-gramercy-flatiron/events#tabtop?utm_source=api_basic_user&utm_medium=api&utm_campaign=v2.1',\n",
       "  'phone_numbers': '(212) 477-0777',\n",
       "  'all_reviews': {'reviews': [{'review': []},\n",
       "    {'review': []},\n",
       "    {'review': []},\n",
       "    {'review': []},\n",
       "    {'review': []}]},\n",
       "  'establishment': ['Fine Dining']}}"
      ]
     },
     "metadata": {},
     "execution_count": 72
    }
   ],
   "source": [
    "# location_details['best_rated_restaurant'][9]['restaurant']['R']['res_id']\n",
    "location_details['best_rated_restaurant'][9]"
   ]
  },
  {
   "cell_type": "code",
   "execution_count": 26,
   "metadata": {},
   "outputs": [],
   "source": [
    "# API POKEMON\n",
    "import requests\n",
    "\n",
    "pokemon_keyword = 'pikachu'\n",
    "pokemon_url = f\"https://pokeapi.co/api/v2/pokemon/{pokemon_keyword}/\"\n",
    "data_pokemon = requests.get(pokemon_url)\n",
    "pokemon = data_pokemon.json()"
   ]
  },
  {
   "cell_type": "code",
   "execution_count": 33,
   "metadata": {},
   "outputs": [],
   "source": [
    "name = pokemon['forms'][0]['name']\n",
    "\n",
    "image_url = pokemon['forms'][0]['url']\n",
    "image_data = requests.get(image_url)\n",
    "image_library = image_data.json()"
   ]
  },
  {
   "cell_type": "code",
   "execution_count": 35,
   "metadata": {},
   "outputs": [
    {
     "output_type": "stream",
     "name": "stdout",
     "text": [
      "pikachu\nhttps://pokeapi.co/api/v2/pokemon-form/25/\n"
     ]
    }
   ],
   "source": [
    "print(name)\n",
    "print(image_url)"
   ]
  },
  {
   "cell_type": "code",
   "execution_count": 34,
   "metadata": {},
   "outputs": [
    {
     "output_type": "execute_result",
     "data": {
      "text/plain": [
       "{'form_name': '',\n",
       " 'form_names': [],\n",
       " 'form_order': 1,\n",
       " 'id': 25,\n",
       " 'is_battle_only': False,\n",
       " 'is_default': True,\n",
       " 'is_mega': False,\n",
       " 'name': 'pikachu',\n",
       " 'names': [],\n",
       " 'order': 36,\n",
       " 'pokemon': {'name': 'pikachu',\n",
       "  'url': 'https://pokeapi.co/api/v2/pokemon/25/'},\n",
       " 'sprites': {'back_default': 'https://raw.githubusercontent.com/PokeAPI/sprites/master/sprites/pokemon/back/25.png',\n",
       "  'back_shiny': 'https://raw.githubusercontent.com/PokeAPI/sprites/master/sprites/pokemon/back/shiny/25.png',\n",
       "  'front_default': 'https://raw.githubusercontent.com/PokeAPI/sprites/master/sprites/pokemon/25.png',\n",
       "  'front_shiny': 'https://raw.githubusercontent.com/PokeAPI/sprites/master/sprites/pokemon/shiny/25.png'},\n",
       " 'version_group': {'name': 'red-blue',\n",
       "  'url': 'https://pokeapi.co/api/v2/version-group/1/'}}"
      ]
     },
     "metadata": {},
     "execution_count": 34
    }
   ],
   "source": [
    "back_default = image_library['sprites']['back-default']\n",
    "front_shiny = image_library['sprites']['front_shiny']\n",
    "front_default = image_library['sprites']['front-default']\n",
    "front_shiny = image_library['sprites']['front-shiny']"
   ]
  },
  {
   "cell_type": "code",
   "execution_count": null,
   "metadata": {},
   "outputs": [],
   "source": []
  }
 ]
}