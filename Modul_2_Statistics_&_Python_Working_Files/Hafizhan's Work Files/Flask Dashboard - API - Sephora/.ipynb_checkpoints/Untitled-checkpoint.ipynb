{
 "cells": [
  {
   "cell_type": "markdown",
   "id": "surrounded-belarus",
   "metadata": {},
   "source": [
    "# Test"
   ]
  },
  {
   "cell_type": "code",
   "execution_count": null,
   "id": "incident-stretch",
   "metadata": {},
   "outputs": [],
   "source": [
    "import pandas as pd\n",
    "pd.set_option('display.max_columns', 100)  # or 1000\n",
    "pd.set_option('display.max_rows', 100)  # or 1000\n",
    "pd.set_option('display.max_colwidth', 10)  # or 199"
   ]
  },
  {
   "cell_type": "code",
   "execution_count": null,
   "id": "amended-builder",
   "metadata": {},
   "outputs": [],
   "source": [
    "df = pd.read_csv('sephora_website_dataset.csv')\n",
    "df_size = df.groupby(['brand']).size()\n",
    "pd.DataFrame(df_size.sort_values(ascending=False))[:5]"
   ]
  },
  {
   "cell_type": "code",
   "execution_count": null,
   "id": "cross-knife",
   "metadata": {},
   "outputs": [],
   "source": [
    "top5_brand = ['SEPHORA COLLECTION', 'CLINIQUE', 'tarte', 'TOM FORD', 'Dior']"
   ]
  },
  {
   "cell_type": "code",
   "execution_count": null,
   "id": "rational-repair",
   "metadata": {},
   "outputs": [],
   "source": [
    "df_top5 = df[df['brand'].isin(top5_brand)].reset_index(drop=True)"
   ]
  },
  {
   "cell_type": "code",
   "execution_count": null,
   "id": "manufactured-weekly",
   "metadata": {},
   "outputs": [],
   "source": []
  }
 ],
 "metadata": {
  "kernelspec": {
   "display_name": "Python [conda env:pwdk]",
   "language": "python",
   "name": "conda-env-pwdk-py"
  },
  "language_info": {
   "codemirror_mode": {
    "name": "ipython",
    "version": 3
   },
   "file_extension": ".py",
   "mimetype": "text/x-python",
   "name": "python",
   "nbconvert_exporter": "python",
   "pygments_lexer": "ipython3",
   "version": "3.7.9"
  }
 },
 "nbformat": 4,
 "nbformat_minor": 5
}
